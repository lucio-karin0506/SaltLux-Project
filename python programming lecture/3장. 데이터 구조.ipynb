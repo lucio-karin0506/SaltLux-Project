{
 "cells": [
  {
   "cell_type": "markdown",
   "id": "1f5c3c67",
   "metadata": {
    "heading_collapsed": true
   },
   "source": [
    "## 1절 리스트"
   ]
  },
  {
   "cell_type": "code",
   "execution_count": 1,
   "id": "2f1baf28",
   "metadata": {
    "ExecuteTime": {
     "end_time": "2021-11-11T01:33:23.992649Z",
     "start_time": "2021-11-11T01:33:23.967605Z"
    },
    "hidden": true
   },
   "outputs": [
    {
     "data": {
      "text/plain": [
       "['a', 'b', 'c', 'd']"
      ]
     },
     "execution_count": 1,
     "metadata": {},
     "output_type": "execute_result"
    }
   ],
   "source": [
    "fruits = ['a', 'b', 'c', 'd']\n",
    "fruits"
   ]
  },
  {
   "cell_type": "code",
   "execution_count": 2,
   "id": "699485e6",
   "metadata": {
    "ExecuteTime": {
     "end_time": "2021-11-11T01:34:19.547665Z",
     "start_time": "2021-11-11T01:34:19.537723Z"
    },
    "hidden": true
   },
   "outputs": [
    {
     "data": {
      "text/plain": [
       "[[1, 2, 3, 4, 5], [10, 20, 30, 40, 50], [1, 3, 5, 7, 9], [2, 4, 6, 8, 10]]"
      ]
     },
     "execution_count": 2,
     "metadata": {},
     "output_type": "execute_result"
    }
   ],
   "source": [
    "num_2d = [[1, 2, 3, 4, 5], [10, 20, 30, 40, 50], [1, 3, 5, 7, 9], [2, 4, 6, 8, 10]]\n",
    "num_2d"
   ]
  },
  {
   "cell_type": "code",
   "execution_count": 6,
   "id": "0d328259",
   "metadata": {
    "ExecuteTime": {
     "end_time": "2021-11-11T01:44:45.670384Z",
     "start_time": "2021-11-11T01:44:45.658415Z"
    },
    "hidden": true
   },
   "outputs": [
    {
     "data": {
      "text/plain": [
       "[0, 1, 2, 3, 4, 5, 6, 7, 8, 9]"
      ]
     },
     "execution_count": 6,
     "metadata": {},
     "output_type": "execute_result"
    }
   ],
   "source": [
    "list(range(10))"
   ]
  },
  {
   "cell_type": "code",
   "execution_count": 7,
   "id": "9f5f52e8",
   "metadata": {
    "ExecuteTime": {
     "end_time": "2021-11-11T01:44:48.233056Z",
     "start_time": "2021-11-11T01:44:48.223111Z"
    },
    "hidden": true
   },
   "outputs": [
    {
     "data": {
      "text/plain": [
       "[-10, -8, -6, -4, -2, 0, 2, 4, 6, 8]"
      ]
     },
     "execution_count": 7,
     "metadata": {},
     "output_type": "execute_result"
    }
   ],
   "source": [
    "list(range(-10, 10, 2))"
   ]
  },
  {
   "cell_type": "code",
   "execution_count": 23,
   "id": "13beaecc",
   "metadata": {
    "ExecuteTime": {
     "end_time": "2021-11-11T02:09:43.570861Z",
     "start_time": "2021-11-11T02:09:43.565905Z"
    },
    "hidden": true
   },
   "outputs": [
    {
     "name": "stdout",
     "output_type": "stream",
     "text": [
      "[1, 2, 3, 4, 5]\n",
      "[[1, 2, 3, 4, 5], [10, 20, 30, 40, 50], [1, 3, 5, 7, 9], [2, 4, 6, 8, 10]]\n"
     ]
    }
   ],
   "source": [
    "numbers = [1, 2, 3, 4, 5]\n",
    "numbers_2d = [[1,2,3,4,5], [10,20,30,40,50], [1,3,5,7,9], [2,4,6,8,10]]\n",
    "print(numbers)\n",
    "print(numbers_2d)"
   ]
  },
  {
   "cell_type": "code",
   "execution_count": 10,
   "id": "098854cf",
   "metadata": {
    "ExecuteTime": {
     "end_time": "2021-11-11T01:47:26.660423Z",
     "start_time": "2021-11-11T01:47:26.646461Z"
    },
    "hidden": true,
    "scrolled": true
   },
   "outputs": [
    {
     "name": "stdout",
     "output_type": "stream",
     "text": [
      "5\n",
      "4\n",
      "5\n"
     ]
    }
   ],
   "source": [
    "print(len(numbers))\n",
    "print(len(numbers_2d))\n",
    "print(len(numbers_2d[0]))"
   ]
  },
  {
   "cell_type": "code",
   "execution_count": 12,
   "id": "9c01ef9d",
   "metadata": {
    "ExecuteTime": {
     "end_time": "2021-11-11T02:06:17.039844Z",
     "start_time": "2021-11-11T02:06:17.025882Z"
    },
    "hidden": true
   },
   "outputs": [
    {
     "name": "stdout",
     "output_type": "stream",
     "text": [
      "1\n",
      "5\n",
      "[10, 20, 30, 40, 50]\n"
     ]
    }
   ],
   "source": [
    "print(min(numbers))\n",
    "print(max(numbers))\n",
    "print(max(numbers_2d))"
   ]
  },
  {
   "cell_type": "code",
   "execution_count": 16,
   "id": "7befc7bb",
   "metadata": {
    "ExecuteTime": {
     "end_time": "2021-11-11T02:07:49.494199Z",
     "start_time": "2021-11-11T02:07:49.480194Z"
    },
    "hidden": true
   },
   "outputs": [
    {
     "data": {
      "text/plain": [
       "[1, 2, 3, 4, 5, 1, 2, 3, 4, 5]"
      ]
     },
     "execution_count": 16,
     "metadata": {},
     "output_type": "execute_result"
    }
   ],
   "source": [
    "# 요소 추가하기\n",
    "new_numbers = numbers + numbers\n",
    "new_numbers"
   ]
  },
  {
   "cell_type": "code",
   "execution_count": 17,
   "id": "fa883e06",
   "metadata": {
    "ExecuteTime": {
     "end_time": "2021-11-11T02:07:51.660492Z",
     "start_time": "2021-11-11T02:07:51.643536Z"
    },
    "hidden": true
   },
   "outputs": [
    {
     "data": {
      "text/plain": [
       "[1, 2, 3, 4, 5, 1, 2, 3, 4, 5, 1, 2, 3, 4, 5]"
      ]
     },
     "execution_count": 17,
     "metadata": {},
     "output_type": "execute_result"
    }
   ],
   "source": [
    "3*numbers"
   ]
  },
  {
   "cell_type": "code",
   "execution_count": 18,
   "id": "acbbbe0c",
   "metadata": {
    "ExecuteTime": {
     "end_time": "2021-11-11T02:07:52.770353Z",
     "start_time": "2021-11-11T02:07:52.754167Z"
    },
    "hidden": true
   },
   "outputs": [
    {
     "data": {
      "text/plain": [
       "[0, 0, 0, 0, 0]"
      ]
     },
     "execution_count": 18,
     "metadata": {},
     "output_type": "execute_result"
    }
   ],
   "source": [
    "[0]*5"
   ]
  },
  {
   "cell_type": "code",
   "execution_count": 24,
   "id": "08006a74",
   "metadata": {
    "ExecuteTime": {
     "end_time": "2021-11-11T02:09:52.853581Z",
     "start_time": "2021-11-11T02:09:52.833366Z"
    },
    "hidden": true
   },
   "outputs": [
    {
     "data": {
      "text/plain": [
       "[1, 2, 3, 4, 5, 10, [20, 30, 40, 50], 'Hello']"
      ]
     },
     "execution_count": 24,
     "metadata": {},
     "output_type": "execute_result"
    }
   ],
   "source": [
    "numbers.append(10)\n",
    "numbers.append([20, 30, 40, 50])\n",
    "numbers.append(\"Hello\")\n",
    "numbers"
   ]
  },
  {
   "cell_type": "code",
   "execution_count": 27,
   "id": "516fce33",
   "metadata": {
    "ExecuteTime": {
     "end_time": "2021-11-11T02:11:03.611496Z",
     "start_time": "2021-11-11T02:11:03.600553Z"
    },
    "hidden": true
   },
   "outputs": [
    {
     "data": {
      "text/plain": [
       "[1, 2, 3, 4, 5, 10, 20, 30, 40, 50]"
      ]
     },
     "execution_count": 27,
     "metadata": {},
     "output_type": "execute_result"
    }
   ],
   "source": [
    "numbers = list(range(1, 6))\n",
    "numbers.extend([10, 20, 30, 40, 50])\n",
    "numbers"
   ]
  },
  {
   "cell_type": "code",
   "execution_count": 28,
   "id": "81ac75df",
   "metadata": {
    "ExecuteTime": {
     "end_time": "2021-11-11T02:11:52.513193Z",
     "start_time": "2021-11-11T02:11:52.500218Z"
    },
    "hidden": true
   },
   "outputs": [
    {
     "data": {
      "text/plain": [
       "[1, 2, 3, 4, 5, 'h', 'e', 'l', 'l', 'o']"
      ]
     },
     "execution_count": 28,
     "metadata": {},
     "output_type": "execute_result"
    }
   ],
   "source": [
    "numbers = list(range(1, 6))\n",
    "numbers.extend('hello')\n",
    "numbers"
   ]
  },
  {
   "cell_type": "code",
   "execution_count": 29,
   "id": "d9bd3297",
   "metadata": {
    "ExecuteTime": {
     "end_time": "2021-11-11T02:13:06.772467Z",
     "start_time": "2021-11-11T02:13:06.766487Z"
    },
    "hidden": true
   },
   "outputs": [
    {
     "data": {
      "text/plain": [
       "[1, 2, 3, 4, 5, 100, 'h', 'e', 'l', 'l', 'o']"
      ]
     },
     "execution_count": 29,
     "metadata": {},
     "output_type": "execute_result"
    }
   ],
   "source": [
    "numbers.insert(5, 100)\n",
    "numbers"
   ]
  },
  {
   "cell_type": "code",
   "execution_count": 30,
   "id": "8da2dd19",
   "metadata": {
    "ExecuteTime": {
     "end_time": "2021-11-11T02:14:39.715504Z",
     "start_time": "2021-11-11T02:14:39.701541Z"
    },
    "hidden": true
   },
   "outputs": [
    {
     "data": {
      "text/plain": [
       "2"
      ]
     },
     "execution_count": 30,
     "metadata": {},
     "output_type": "execute_result"
    }
   ],
   "source": [
    "# indexing\n",
    "numbers = [1, 3, 5, 7, 9, 1, 2, 3, 4, 5]\n",
    "numbers.count(1)"
   ]
  },
  {
   "cell_type": "code",
   "execution_count": 32,
   "id": "c5c6fef0",
   "metadata": {
    "ExecuteTime": {
     "end_time": "2021-11-11T02:16:58.878178Z",
     "start_time": "2021-11-11T02:16:58.865199Z"
    },
    "hidden": true
   },
   "outputs": [
    {
     "data": {
      "text/plain": [
       "2"
      ]
     },
     "execution_count": 32,
     "metadata": {},
     "output_type": "execute_result"
    }
   ],
   "source": [
    "numbers = [i for i in range(1, 10) if i%2 == 1]\n",
    "numbers.index(5)"
   ]
  },
  {
   "cell_type": "code",
   "execution_count": 33,
   "id": "3a181f23",
   "metadata": {
    "ExecuteTime": {
     "end_time": "2021-11-11T02:20:09.175800Z",
     "start_time": "2021-11-11T02:20:09.165810Z"
    },
    "hidden": true
   },
   "outputs": [
    {
     "data": {
      "text/plain": [
       "9"
      ]
     },
     "execution_count": 33,
     "metadata": {},
     "output_type": "execute_result"
    }
   ],
   "source": [
    "numbers = [1, 3, 5, 7, 9, 1, 2, 3, 4, 5]\n",
    "numbers.index(5,3)"
   ]
  },
  {
   "cell_type": "code",
   "execution_count": 34,
   "id": "f7a7ddf0",
   "metadata": {
    "ExecuteTime": {
     "end_time": "2021-11-11T02:25:08.958357Z",
     "start_time": "2021-11-11T02:25:08.949353Z"
    },
    "hidden": true
   },
   "outputs": [
    {
     "data": {
      "text/plain": [
       "(1, 5)"
      ]
     },
     "execution_count": 34,
     "metadata": {},
     "output_type": "execute_result"
    }
   ],
   "source": [
    "numbers[0], numbers[2]"
   ]
  },
  {
   "cell_type": "code",
   "execution_count": 35,
   "id": "1724b153",
   "metadata": {
    "ExecuteTime": {
     "end_time": "2021-11-11T02:25:47.536216Z",
     "start_time": "2021-11-11T02:25:47.520258Z"
    },
    "hidden": true
   },
   "outputs": [
    {
     "data": {
      "text/plain": [
       "'hello'"
      ]
     },
     "execution_count": 35,
     "metadata": {},
     "output_type": "execute_result"
    }
   ],
   "source": [
    "a = [1, 2, ['a', 'b', ['hello', 'world']]]\n",
    "a[2][2][0]"
   ]
  },
  {
   "cell_type": "code",
   "execution_count": 36,
   "id": "26382e5e",
   "metadata": {
    "ExecuteTime": {
     "end_time": "2021-11-11T02:34:00.519916Z",
     "start_time": "2021-11-11T02:34:00.509973Z"
    },
    "hidden": true
   },
   "outputs": [],
   "source": [
    "# 리스트 자르기\n",
    "numbers = [1, 2, 3, 4, 5, 6, 7, 8, 9, 10]\n",
    "numbers_2d = [[1,2,3,4,5], [10,20,30,40,50], [1,3,5,7,9], [2,4,6,8,10]]"
   ]
  },
  {
   "cell_type": "code",
   "execution_count": 46,
   "id": "18ef1c30",
   "metadata": {
    "ExecuteTime": {
     "end_time": "2021-11-11T02:38:03.178017Z",
     "start_time": "2021-11-11T02:38:03.167027Z"
    },
    "hidden": true
   },
   "outputs": [
    {
     "name": "stdout",
     "output_type": "stream",
     "text": [
      "[3, 4]\n",
      "[3, 4, 5, 6, 7, 8, 9, 10]\n",
      "[1, 2, 3, 4]\n",
      "[1, 2, 3, 4, 5, 6, 7, 8, 9, 10]\n",
      "[6, 7, 8, 9]\n",
      "[1, 2, 3, 4, 5, 6, 7, 8, 9]\n",
      "[]\n"
     ]
    }
   ],
   "source": [
    "print(numbers[2:4])\n",
    "print(numbers[2:])\n",
    "print(numbers[:4])\n",
    "print(numbers[:])\n",
    "print(numbers[-5:-1])\n",
    "print(numbers[:-1])\n",
    "print(numbers[-1:-5])"
   ]
  },
  {
   "cell_type": "code",
   "execution_count": 48,
   "id": "6ab9565a",
   "metadata": {
    "ExecuteTime": {
     "end_time": "2021-11-11T02:39:04.876737Z",
     "start_time": "2021-11-11T02:39:04.858785Z"
    },
    "hidden": true
   },
   "outputs": [
    {
     "name": "stdout",
     "output_type": "stream",
     "text": [
      "[[10, 20, 30, 40, 50], [1, 3, 5, 7, 9]]\n",
      "[20, 30, 40]\n"
     ]
    }
   ],
   "source": [
    "print(numbers_2d[1:3])\n",
    "print(numbers_2d[1][1:4])"
   ]
  },
  {
   "cell_type": "code",
   "execution_count": 49,
   "id": "5ea73aca",
   "metadata": {
    "ExecuteTime": {
     "end_time": "2021-11-11T04:08:15.142681Z",
     "start_time": "2021-11-11T04:08:15.123725Z"
    },
    "hidden": true
   },
   "outputs": [
    {
     "data": {
      "text/plain": [
       "[1, 3, 2, 7, 40, 1, 600, 3, 4, 5]"
      ]
     },
     "execution_count": 49,
     "metadata": {},
     "output_type": "execute_result"
    }
   ],
   "source": [
    "# 요소 수정하기\n",
    "numbers = [1, 3, 5, 7, 9, 1, 2, 3, 4, 5]\n",
    "numbers[2] = 2\n",
    "numbers[4] = 40\n",
    "numbers[6] = 600\n",
    "numbers"
   ]
  },
  {
   "cell_type": "code",
   "execution_count": 50,
   "id": "edc4606c",
   "metadata": {
    "ExecuteTime": {
     "end_time": "2021-11-11T04:08:54.928484Z",
     "start_time": "2021-11-11T04:08:54.920506Z"
    },
    "hidden": true
   },
   "outputs": [
    {
     "data": {
      "text/plain": [
       "[2, 4, 6, 8, 10, 1, 2, 3, 4, 5]"
      ]
     },
     "execution_count": 50,
     "metadata": {},
     "output_type": "execute_result"
    }
   ],
   "source": [
    "numbers = [1, 3, 5, 7, 9, 1, 2, 3, 4, 5]\n",
    "numbers[0:5] = [2, 4, 6, 8, 10]\n",
    "numbers"
   ]
  },
  {
   "cell_type": "code",
   "execution_count": 51,
   "id": "45e9375c",
   "metadata": {
    "ExecuteTime": {
     "end_time": "2021-11-11T04:11:21.955846Z",
     "start_time": "2021-11-11T04:11:21.937894Z"
    },
    "hidden": true
   },
   "outputs": [],
   "source": [
    "# 삭제\n",
    "numbers = [1, 2, 3, 4, 5, 6, 7, 8, 9, 10]\n",
    "numbers_2d = [[1,2,3,4,5], [10,20,30,40,50], [1,3,5,7,9], [2,4,6,8,10]]"
   ]
  },
  {
   "cell_type": "code",
   "execution_count": 52,
   "id": "727cc4bc",
   "metadata": {
    "ExecuteTime": {
     "end_time": "2021-11-11T04:11:35.293418Z",
     "start_time": "2021-11-11T04:11:35.285440Z"
    },
    "hidden": true
   },
   "outputs": [
    {
     "data": {
      "text/plain": [
       "[1, 2, 3, 4, 5, 6, 7, 8, 9]"
      ]
     },
     "execution_count": 52,
     "metadata": {},
     "output_type": "execute_result"
    }
   ],
   "source": [
    "numbers.pop()\n",
    "numbers"
   ]
  },
  {
   "cell_type": "code",
   "execution_count": 53,
   "id": "f47c4102",
   "metadata": {
    "ExecuteTime": {
     "end_time": "2021-11-11T04:11:53.886059Z",
     "start_time": "2021-11-11T04:11:53.876086Z"
    },
    "hidden": true
   },
   "outputs": [
    {
     "data": {
      "text/plain": [
       "[[1, 2, 3, 4, 5], [10, 20, 30, 40, 50], [1, 3, 5, 7, 9]]"
      ]
     },
     "execution_count": 53,
     "metadata": {},
     "output_type": "execute_result"
    }
   ],
   "source": [
    "numbers_2d.pop()\n",
    "numbers_2d"
   ]
  },
  {
   "cell_type": "code",
   "execution_count": 54,
   "id": "2b7f4f5f",
   "metadata": {
    "ExecuteTime": {
     "end_time": "2021-11-11T04:12:21.509228Z",
     "start_time": "2021-11-11T04:12:21.502242Z"
    },
    "hidden": true
   },
   "outputs": [
    {
     "data": {
      "text/plain": [
       "[1, 2, 4, 5, 6, 7, 8, 9, 10]"
      ]
     },
     "execution_count": 54,
     "metadata": {},
     "output_type": "execute_result"
    }
   ],
   "source": [
    "numbers = [1, 2, 3, 4, 5, 6, 7, 8, 9, 10]\n",
    "numbers.remove(3)\n",
    "numbers"
   ]
  },
  {
   "cell_type": "code",
   "execution_count": 55,
   "id": "240bc45a",
   "metadata": {
    "ExecuteTime": {
     "end_time": "2021-11-11T04:13:25.841900Z",
     "start_time": "2021-11-11T04:13:25.825943Z"
    },
    "hidden": true
   },
   "outputs": [
    {
     "data": {
      "text/plain": [
       "[[10, 20, 30, 40, 50], [1, 3, 5, 7, 9], [2, 4, 6, 8, 10]]"
      ]
     },
     "execution_count": 55,
     "metadata": {},
     "output_type": "execute_result"
    }
   ],
   "source": [
    "numbers_2d = [[1,2,3,4,5], [10,20,30,40,50], [1,3,5,7,9], [2,4,6,8,10]]\n",
    "numbers_2d.remove([1, 2, 3, 4, 5])\n",
    "numbers_2d"
   ]
  },
  {
   "cell_type": "code",
   "execution_count": 56,
   "id": "5ae032a8",
   "metadata": {
    "ExecuteTime": {
     "end_time": "2021-11-11T04:13:48.278145Z",
     "start_time": "2021-11-11T04:13:48.269138Z"
    },
    "hidden": true
   },
   "outputs": [
    {
     "data": {
      "text/plain": [
       "[1, 2, 3, 5, 6, 7, 8, 9, 10]"
      ]
     },
     "execution_count": 56,
     "metadata": {},
     "output_type": "execute_result"
    }
   ],
   "source": [
    "numbers = [1, 2, 3, 4, 5, 6, 7, 8, 9, 10]\n",
    "del numbers[3]\n",
    "numbers"
   ]
  },
  {
   "cell_type": "code",
   "execution_count": 57,
   "id": "32b69327",
   "metadata": {
    "ExecuteTime": {
     "end_time": "2021-11-11T04:14:31.178982Z",
     "start_time": "2021-11-11T04:14:31.164050Z"
    },
    "hidden": true
   },
   "outputs": [
    {
     "data": {
      "text/plain": [
       "[1, 2, 3, 9, 10]"
      ]
     },
     "execution_count": 57,
     "metadata": {},
     "output_type": "execute_result"
    }
   ],
   "source": [
    "numbers = [1, 2, 3, 4, 5, 6, 7, 8, 9, 10]\n",
    "del numbers[3:8]\n",
    "numbers"
   ]
  },
  {
   "cell_type": "code",
   "execution_count": 58,
   "id": "5bbb967f",
   "metadata": {
    "ExecuteTime": {
     "end_time": "2021-11-11T04:14:55.653678Z",
     "start_time": "2021-11-11T04:14:55.640713Z"
    },
    "hidden": true
   },
   "outputs": [
    {
     "data": {
      "text/plain": [
       "[2, 4, 6, 8, 10]"
      ]
     },
     "execution_count": 58,
     "metadata": {},
     "output_type": "execute_result"
    }
   ],
   "source": [
    "numbers = [1, 2, 3, 4, 5, 6, 7, 8, 9, 10]\n",
    "del numbers[::2]\n",
    "numbers"
   ]
  },
  {
   "cell_type": "code",
   "execution_count": 59,
   "id": "6cd54e77",
   "metadata": {
    "ExecuteTime": {
     "end_time": "2021-11-11T04:15:24.830167Z",
     "start_time": "2021-11-11T04:15:24.825179Z"
    },
    "hidden": true
   },
   "outputs": [
    {
     "data": {
      "text/plain": [
       "[]"
      ]
     },
     "execution_count": 59,
     "metadata": {},
     "output_type": "execute_result"
    }
   ],
   "source": [
    "numbers = [1, 2, 3, 4, 5, 6, 7, 8, 9, 10]\n",
    "numbers.clear()\n",
    "numbers"
   ]
  },
  {
   "cell_type": "code",
   "execution_count": 60,
   "id": "31d6e125",
   "metadata": {
    "ExecuteTime": {
     "end_time": "2021-11-11T04:17:16.188066Z",
     "start_time": "2021-11-11T04:17:16.169082Z"
    },
    "hidden": true
   },
   "outputs": [
    {
     "data": {
      "text/plain": [
       "[1, 2, 3, 4, 5, 6, 7, 8, 9, 10]"
      ]
     },
     "execution_count": 60,
     "metadata": {},
     "output_type": "execute_result"
    }
   ],
   "source": [
    "numbers = [6, 2, 7, 4, 10, 8, 3, 9, 1, 5]\n",
    "numbers.sort()\n",
    "numbers"
   ]
  },
  {
   "cell_type": "code",
   "execution_count": 61,
   "id": "f4c96631",
   "metadata": {
    "ExecuteTime": {
     "end_time": "2021-11-11T04:17:34.325007Z",
     "start_time": "2021-11-11T04:17:34.310046Z"
    },
    "hidden": true
   },
   "outputs": [
    {
     "data": {
      "text/plain": [
       "[10, 9, 8, 7, 6, 5, 4, 3, 2, 1]"
      ]
     },
     "execution_count": 61,
     "metadata": {},
     "output_type": "execute_result"
    }
   ],
   "source": [
    "numbers = [6, 2, 7, 4, 10, 8, 3, 9, 1, 5]\n",
    "numbers.sort(reverse=True)\n",
    "numbers"
   ]
  },
  {
   "cell_type": "code",
   "execution_count": 62,
   "id": "b504f9d8",
   "metadata": {
    "ExecuteTime": {
     "end_time": "2021-11-11T04:17:55.686138Z",
     "start_time": "2021-11-11T04:17:55.675136Z"
    },
    "hidden": true
   },
   "outputs": [
    {
     "data": {
      "text/plain": [
       "[5, 1, 9, 3, 8, 10, 4, 7, 2, 6]"
      ]
     },
     "execution_count": 62,
     "metadata": {},
     "output_type": "execute_result"
    }
   ],
   "source": [
    "numbers = [6, 2, 7, 4, 10, 8, 3, 9, 1, 5]\n",
    "numbers.reverse()\n",
    "numbers"
   ]
  },
  {
   "cell_type": "code",
   "execution_count": 63,
   "id": "17d5a6f4",
   "metadata": {
    "ExecuteTime": {
     "end_time": "2021-11-11T04:18:17.773671Z",
     "start_time": "2021-11-11T04:18:17.761731Z"
    },
    "hidden": true
   },
   "outputs": [
    {
     "data": {
      "text/plain": [
       "[5, 1, 9, 3, 8, 10, 4, 7, 2, 6]"
      ]
     },
     "execution_count": 63,
     "metadata": {},
     "output_type": "execute_result"
    }
   ],
   "source": [
    "numbers = [6, 2, 7, 4, 10, 8, 3, 9, 1, 5]\n",
    "numbers[::-1]"
   ]
  },
  {
   "cell_type": "code",
   "execution_count": 64,
   "id": "cb2b2818",
   "metadata": {
    "ExecuteTime": {
     "end_time": "2021-11-11T04:19:15.070682Z",
     "start_time": "2021-11-11T04:19:15.053703Z"
    },
    "hidden": true
   },
   "outputs": [
    {
     "name": "stdout",
     "output_type": "stream",
     "text": [
      "[6, 2, 7, 4, 10, 8, 3, 9, 1, 5] [6, 2, 7, 4, 10, 8, 3, 9, 1, 5]\n"
     ]
    }
   ],
   "source": [
    "# 리스트 복제\n",
    "numbers = [6, 2, 7, 4, 10, 8, 3, 9, 1, 5]\n",
    "new_numbers = numbers.copy()\n",
    "print(numbers, new_numbers)"
   ]
  },
  {
   "cell_type": "code",
   "execution_count": 68,
   "id": "f2d392d9",
   "metadata": {
    "ExecuteTime": {
     "end_time": "2021-11-11T05:21:58.081431Z",
     "start_time": "2021-11-11T05:21:58.076444Z"
    },
    "hidden": true
   },
   "outputs": [
    {
     "name": "stdout",
     "output_type": "stream",
     "text": [
      "[[1, 2, 3, 4], [5, 6, 7, 8]]\n",
      "[[9, 2, 3, 4], [5, 6, 7, 8]]\n",
      "[[1, 2, 3, 4], [5, 6, 7, 8]]\n"
     ]
    }
   ],
   "source": [
    "L = [[1, 2, 3, 4], [5, 6, 7, 8]]\n",
    "L2 = [sub.copy() for sub in L] # for 구문을 이용해서 새로운 리스트생성\n",
    "L2[0][0] = 9 # L2의 항목을 수정해도 L에는 영향을 주지 않음\n",
    "print(L)\n",
    "print(L2)\n",
    "\n",
    "# deep copy => copy with different object id\n",
    "# shallow copy => copy with same object id\n",
    "import copy\n",
    "L3 = copy.deepcopy(L)\n",
    "print(L3)"
   ]
  },
  {
   "cell_type": "markdown",
   "id": "5497a194",
   "metadata": {
    "heading_collapsed": true
   },
   "source": [
    "## 2절 튜플"
   ]
  },
  {
   "cell_type": "code",
   "execution_count": 72,
   "id": "63a07004",
   "metadata": {
    "ExecuteTime": {
     "end_time": "2021-11-11T05:29:03.416891Z",
     "start_time": "2021-11-11T05:29:03.401929Z"
    },
    "hidden": true
   },
   "outputs": [
    {
     "name": "stdout",
     "output_type": "stream",
     "text": [
      "<class 'tuple'>\n",
      "<class 'tuple'>\n",
      "<class 'tuple'>\n"
     ]
    }
   ],
   "source": [
    "num1 = (1, 2, 3, 4, 5)\n",
    "print(type(num1))\n",
    "num2 = (1, )\n",
    "print(type(num2))\n",
    "num3 = 1,\n",
    "print(type(num3))"
   ]
  },
  {
   "cell_type": "code",
   "execution_count": 73,
   "id": "8aa85068",
   "metadata": {
    "ExecuteTime": {
     "end_time": "2021-11-11T05:37:14.131609Z",
     "start_time": "2021-11-11T05:37:14.125624Z"
    },
    "hidden": true
   },
   "outputs": [
    {
     "data": {
      "text/plain": [
       "tuple"
      ]
     },
     "execution_count": 73,
     "metadata": {},
     "output_type": "execute_result"
    }
   ],
   "source": [
    "numbers1 = 1, 2, 3, 4\n",
    "type(numbers1)"
   ]
  },
  {
   "cell_type": "code",
   "execution_count": 74,
   "id": "33b9b5ce",
   "metadata": {
    "ExecuteTime": {
     "end_time": "2021-11-11T05:42:06.389833Z",
     "start_time": "2021-11-11T05:42:06.374873Z"
    },
    "hidden": true
   },
   "outputs": [
    {
     "data": {
      "text/plain": [
       "((1, 2, 3), (4, 5, 6))"
      ]
     },
     "execution_count": 74,
     "metadata": {},
     "output_type": "execute_result"
    }
   ],
   "source": [
    "numbers_2d = ((1, 2, 3), (4, 5, 6))\n",
    "numbers_2d"
   ]
  },
  {
   "cell_type": "code",
   "execution_count": 75,
   "id": "2be7c6b0",
   "metadata": {
    "ExecuteTime": {
     "end_time": "2021-11-11T05:42:51.782682Z",
     "start_time": "2021-11-11T05:42:51.776669Z"
    },
    "hidden": true
   },
   "outputs": [],
   "source": [
    "# 기본 정보 조회\n",
    "numbers = (1, 2, 3, 4, 5)\n",
    "numbers_2d = ((1,2,3,4,5), (10,20,30,40,50), (1,3,5,7,9), (2,4,6,8,10))"
   ]
  },
  {
   "cell_type": "code",
   "execution_count": 77,
   "id": "eb81200a",
   "metadata": {
    "ExecuteTime": {
     "end_time": "2021-11-11T05:43:55.561245Z",
     "start_time": "2021-11-11T05:43:55.543322Z"
    },
    "hidden": true
   },
   "outputs": [
    {
     "name": "stdout",
     "output_type": "stream",
     "text": [
      "5\n",
      "4\n"
     ]
    }
   ],
   "source": [
    "print(len(numbers))\n",
    "print(len(numbers_2d))"
   ]
  },
  {
   "cell_type": "code",
   "execution_count": 78,
   "id": "46ffd835",
   "metadata": {
    "ExecuteTime": {
     "end_time": "2021-11-11T05:44:26.492851Z",
     "start_time": "2021-11-11T05:44:26.483874Z"
    },
    "hidden": true
   },
   "outputs": [
    {
     "name": "stdout",
     "output_type": "stream",
     "text": [
      "1\n",
      "5\n"
     ]
    }
   ],
   "source": [
    "print(min(numbers))\n",
    "print(max(numbers))"
   ]
  },
  {
   "cell_type": "markdown",
   "id": "f164845c",
   "metadata": {
    "heading_collapsed": true
   },
   "source": [
    "## 3절 딕셔너리"
   ]
  },
  {
   "cell_type": "code",
   "execution_count": 79,
   "id": "9a9da242",
   "metadata": {
    "ExecuteTime": {
     "end_time": "2021-11-11T06:08:17.823740Z",
     "start_time": "2021-11-11T06:08:17.809750Z"
    },
    "hidden": true
   },
   "outputs": [
    {
     "data": {
      "text/plain": [
       "dict"
      ]
     },
     "execution_count": 79,
     "metadata": {},
     "output_type": "execute_result"
    }
   ],
   "source": [
    "my_favorite = {\"fruit\":\"apple\", \"number\":1, \"sports\":\"golf\"}\n",
    "type(my_favorite)"
   ]
  },
  {
   "cell_type": "code",
   "execution_count": 81,
   "id": "33106039",
   "metadata": {
    "ExecuteTime": {
     "end_time": "2021-11-11T06:09:51.717379Z",
     "start_time": "2021-11-11T06:09:51.705425Z"
    },
    "hidden": true,
    "scrolled": true
   },
   "outputs": [
    {
     "name": "stdout",
     "output_type": "stream",
     "text": [
      "1\n",
      "golf\n"
     ]
    }
   ],
   "source": [
    "print(my_favorite.get(\"number\"))\n",
    "print(my_favorite.get(\"sports\"))"
   ]
  },
  {
   "cell_type": "code",
   "execution_count": 83,
   "id": "8b19df75",
   "metadata": {
    "ExecuteTime": {
     "end_time": "2021-11-11T06:19:44.715468Z",
     "start_time": "2021-11-11T06:19:44.697485Z"
    },
    "hidden": true
   },
   "outputs": [
    {
     "data": {
      "text/plain": [
       "{1: 'World', 'KEY': 'VALUE'}"
      ]
     },
     "execution_count": 83,
     "metadata": {},
     "output_type": "execute_result"
    }
   ],
   "source": [
    "my_dic2 = {1:\"Hello\", True:\"World\", \"KEY\": \"VALUE\"}\n",
    "my_dic2.get(True)\n",
    "my_dic2"
   ]
  },
  {
   "cell_type": "code",
   "execution_count": 85,
   "id": "c753e25b",
   "metadata": {
    "ExecuteTime": {
     "end_time": "2021-11-11T06:29:39.409344Z",
     "start_time": "2021-11-11T06:29:39.396369Z"
    },
    "hidden": true
   },
   "outputs": [
    {
     "data": {
      "text/plain": [
       "{'fruit': 'banana', 'number': 1, 'sports': 'golf'}"
      ]
     },
     "execution_count": 85,
     "metadata": {},
     "output_type": "execute_result"
    }
   ],
   "source": [
    "# 추가하기\n",
    "my_favorite = {\"fruit\":\"apple\", \"number\":1, \"sports\":\"golf\"}\n",
    "my_favorite[\"fruit\"] = \"banana\"\n",
    "my_favorite"
   ]
  },
  {
   "cell_type": "code",
   "execution_count": 86,
   "id": "3f0b19ab",
   "metadata": {
    "ExecuteTime": {
     "end_time": "2021-11-11T06:29:49.010162Z",
     "start_time": "2021-11-11T06:29:48.999111Z"
    },
    "hidden": true
   },
   "outputs": [
    {
     "data": {
      "text/plain": [
       "{'fruit': 'banana', 'number': 1, 'sports': 'golf', 'language': 'python'}"
      ]
     },
     "execution_count": 86,
     "metadata": {},
     "output_type": "execute_result"
    }
   ],
   "source": [
    "my_favorite[\"language\"] = \"python\"\n",
    "my_favorite"
   ]
  },
  {
   "cell_type": "code",
   "execution_count": 87,
   "id": "fa159dad",
   "metadata": {
    "ExecuteTime": {
     "end_time": "2021-11-11T06:30:27.326854Z",
     "start_time": "2021-11-11T06:30:27.306903Z"
    },
    "hidden": true
   },
   "outputs": [
    {
     "data": {
      "text/plain": [
       "{'number': 1, 'sports': 'golf'}"
      ]
     },
     "execution_count": 87,
     "metadata": {},
     "output_type": "execute_result"
    }
   ],
   "source": [
    "# 삭제하기\n",
    "my_favorite = {\"fruit\":\"apple\", \"number\":1, \"sports\":\"golf\"}\n",
    "del my_favorite['fruit']\n",
    "my_favorite"
   ]
  },
  {
   "cell_type": "code",
   "execution_count": 88,
   "id": "6b5ec2fa",
   "metadata": {
    "ExecuteTime": {
     "end_time": "2021-11-11T06:31:03.886781Z",
     "start_time": "2021-11-11T06:31:03.878831Z"
    },
    "hidden": true
   },
   "outputs": [
    {
     "data": {
      "text/plain": [
       "{'fruit': 'apple', 'sports': 'golf'}"
      ]
     },
     "execution_count": 88,
     "metadata": {},
     "output_type": "execute_result"
    }
   ],
   "source": [
    "my_favorite = {\"fruit\":\"apple\", \"number\":1, \"sports\":\"golf\"}\n",
    "my_favorite.pop(\"number\")\n",
    "my_favorite"
   ]
  },
  {
   "cell_type": "code",
   "execution_count": 91,
   "id": "7d25211e",
   "metadata": {
    "ExecuteTime": {
     "end_time": "2021-11-11T06:33:03.920482Z",
     "start_time": "2021-11-11T06:33:03.907543Z"
    },
    "hidden": true
   },
   "outputs": [
    {
     "name": "stdout",
     "output_type": "stream",
     "text": [
      "fruit\n",
      "sports\n",
      "number\n",
      "food\n",
      "apple\n",
      "golf\n",
      "1\n",
      "라면\n"
     ]
    }
   ],
   "source": [
    "# 조회하기\n",
    "my_favorite = {'fruit':'apple', 'sports':'golf', 'number':1, 'food':'라면'}\n",
    "for fav in my_favorite:\n",
    "    print(fav)\n",
    "for fav in my_favorite:\n",
    "    print(my_favorite[fav])"
   ]
  },
  {
   "cell_type": "code",
   "execution_count": 92,
   "id": "be0c07fd",
   "metadata": {
    "ExecuteTime": {
     "end_time": "2021-11-11T06:33:51.972187Z",
     "start_time": "2021-11-11T06:33:51.955232Z"
    },
    "hidden": true
   },
   "outputs": [
    {
     "name": "stdout",
     "output_type": "stream",
     "text": [
      "apple\n",
      "golf\n",
      "1\n",
      "라면\n"
     ]
    }
   ],
   "source": [
    "for fav in my_favorite:\n",
    "    print(my_favorite.get(fav))"
   ]
  },
  {
   "cell_type": "code",
   "execution_count": 93,
   "id": "8bf27f6a",
   "metadata": {
    "ExecuteTime": {
     "end_time": "2021-11-11T06:34:23.908346Z",
     "start_time": "2021-11-11T06:34:23.891413Z"
    },
    "hidden": true,
    "scrolled": true
   },
   "outputs": [
    {
     "name": "stdout",
     "output_type": "stream",
     "text": [
      "fruit\n",
      "sports\n",
      "number\n",
      "food\n",
      "apple\n",
      "golf\n",
      "1\n",
      "라면\n"
     ]
    }
   ],
   "source": [
    "for key in my_favorite.keys():\n",
    "    print(key)\n",
    "for value in my_favorite.values():\n",
    "    print(value)"
   ]
  },
  {
   "cell_type": "code",
   "execution_count": 95,
   "id": "3cb04ae9",
   "metadata": {
    "ExecuteTime": {
     "end_time": "2021-11-11T06:36:53.430717Z",
     "start_time": "2021-11-11T06:36:53.424733Z"
    },
    "hidden": true
   },
   "outputs": [
    {
     "name": "stdout",
     "output_type": "stream",
     "text": [
      "('fruit', 'apple')\n",
      "('sports', 'golf')\n",
      "('number', 1)\n",
      "('food', '라면')\n",
      "fruit apple\n",
      "sports golf\n",
      "number 1\n",
      "food 라면\n"
     ]
    }
   ],
   "source": [
    "for item in my_favorite.items():\n",
    "    print(item)\n",
    "for key, value in my_favorite.items():\n",
    "    print(key, value)"
   ]
  },
  {
   "cell_type": "code",
   "execution_count": 97,
   "id": "5441644e",
   "metadata": {
    "ExecuteTime": {
     "end_time": "2021-11-11T06:42:26.573151Z",
     "start_time": "2021-11-11T06:42:26.565145Z"
    },
    "hidden": true
   },
   "outputs": [
    {
     "name": "stdout",
     "output_type": "stream",
     "text": [
      "True\n",
      "False\n"
     ]
    }
   ],
   "source": [
    "# in 연산자\n",
    "my_favorite = {\"fruit\":\"apple\", \"number\":1, \"sports\":\"golf\"}\n",
    "print(\"sports\" in my_favorite)\n",
    "print(\"golf\" in my_favorite)"
   ]
  },
  {
   "cell_type": "code",
   "execution_count": 98,
   "id": "d1fc6859",
   "metadata": {
    "ExecuteTime": {
     "end_time": "2021-11-11T06:43:30.773235Z",
     "start_time": "2021-11-11T06:43:30.758305Z"
    },
    "hidden": true
   },
   "outputs": [
    {
     "name": "stdout",
     "output_type": "stream",
     "text": [
      "{'fruit': 'apple', 'number': 1, 'sports': 'golf'}\n",
      "{'fruit': 'apple', 'number': 1, 'sports': 'golf'}\n"
     ]
    }
   ],
   "source": [
    "# 딕셔너리 복제\n",
    "my_favorite = {\"fruit\":\"apple\", \"number\":1, \"sports\":\"golf\"}\n",
    "my_fav = my_favorite.copy()\n",
    "print(my_fav)\n",
    "print(my_favorite)"
   ]
  },
  {
   "cell_type": "markdown",
   "id": "5acd4f57",
   "metadata": {
    "heading_collapsed": true
   },
   "source": [
    "## 4절 셋"
   ]
  },
  {
   "cell_type": "code",
   "execution_count": 99,
   "id": "c9f7325d",
   "metadata": {
    "ExecuteTime": {
     "end_time": "2021-11-11T07:26:59.278371Z",
     "start_time": "2021-11-11T07:26:59.267401Z"
    },
    "hidden": true
   },
   "outputs": [
    {
     "data": {
      "text/plain": [
       "{'apple', 'banana', 'orange', 'pear'}"
      ]
     },
     "execution_count": 99,
     "metadata": {},
     "output_type": "execute_result"
    }
   ],
   "source": [
    "fruits = {\"apple\", \"orange\", \"banana\", \"apple\", \"pear\"}\n",
    "fruits"
   ]
  },
  {
   "cell_type": "code",
   "execution_count": 100,
   "id": "1f623425",
   "metadata": {
    "ExecuteTime": {
     "end_time": "2021-11-11T07:27:32.258478Z",
     "start_time": "2021-11-11T07:27:32.242550Z"
    },
    "hidden": true
   },
   "outputs": [
    {
     "data": {
      "text/plain": [
       "{1, 2, 3}"
      ]
     },
     "execution_count": 100,
     "metadata": {},
     "output_type": "execute_result"
    }
   ],
   "source": [
    "s1 = set([1,2,3])\n",
    "s1"
   ]
  },
  {
   "cell_type": "code",
   "execution_count": 101,
   "id": "e421da97",
   "metadata": {
    "ExecuteTime": {
     "end_time": "2021-11-11T07:27:45.764017Z",
     "start_time": "2021-11-11T07:27:45.755042Z"
    },
    "hidden": true
   },
   "outputs": [
    {
     "data": {
      "text/plain": [
       "{'key'}"
      ]
     },
     "execution_count": 101,
     "metadata": {},
     "output_type": "execute_result"
    }
   ],
   "source": [
    "s3 = set({'key' : 'value'})\n",
    "s3"
   ]
  },
  {
   "cell_type": "code",
   "execution_count": 103,
   "id": "51e07a41",
   "metadata": {
    "ExecuteTime": {
     "end_time": "2021-11-11T07:29:47.217664Z",
     "start_time": "2021-11-11T07:29:47.207692Z"
    },
    "hidden": true
   },
   "outputs": [
    {
     "data": {
      "text/plain": [
       "{'apple', 'banana', 'mango', 'orange', 'pear'}"
      ]
     },
     "execution_count": 103,
     "metadata": {},
     "output_type": "execute_result"
    }
   ],
   "source": [
    "# 추가하기\n",
    "fruits.add(\"apple\")\n",
    "fruits.add(\"mango\")\n",
    "fruits"
   ]
  },
  {
   "cell_type": "code",
   "execution_count": 104,
   "id": "7d33c874",
   "metadata": {
    "ExecuteTime": {
     "end_time": "2021-11-11T07:30:29.055451Z",
     "start_time": "2021-11-11T07:30:29.043455Z"
    },
    "hidden": true
   },
   "outputs": [
    {
     "data": {
      "text/plain": [
       "{(10, 20), 1, 2, False, 'Hello', 'abc'}"
      ]
     },
     "execution_count": 104,
     "metadata": {},
     "output_type": "execute_result"
    }
   ],
   "source": [
    "s1 = {1,2}\n",
    "s1.add('Hello')\n",
    "s1.add(False)\n",
    "s1.add((10, 20))\n",
    "s1.add('abc')\n",
    "s1"
   ]
  },
  {
   "cell_type": "code",
   "execution_count": 105,
   "id": "d8ddf08f",
   "metadata": {
    "ExecuteTime": {
     "end_time": "2021-11-11T07:32:12.608757Z",
     "start_time": "2021-11-11T07:32:12.601774Z"
    },
    "hidden": true
   },
   "outputs": [
    {
     "data": {
      "text/plain": [
       "{0, 2}"
      ]
     },
     "execution_count": 105,
     "metadata": {},
     "output_type": "execute_result"
    }
   ],
   "source": [
    "s1 = {0, 2}\n",
    "s1.add(False)\n",
    "s1"
   ]
  },
  {
   "cell_type": "code",
   "execution_count": 109,
   "id": "7cffe9d2",
   "metadata": {
    "ExecuteTime": {
     "end_time": "2021-11-11T07:36:44.966617Z",
     "start_time": "2021-11-11T07:36:44.957614Z"
    },
    "hidden": true
   },
   "outputs": [
    {
     "data": {
      "text/plain": [
       "{1, 10, 100, 2, 20, 200, 30, 300, 'age', 'city'}"
      ]
     },
     "execution_count": 109,
     "metadata": {},
     "output_type": "execute_result"
    }
   ],
   "source": [
    "s1 = {1,2}\n",
    "s1.update([10,20,30])\n",
    "s1.update([100, 200, 300])\n",
    "s1.update({'city':'seoul', 'age':20})\n",
    "s1"
   ]
  },
  {
   "cell_type": "code",
   "execution_count": 110,
   "id": "6c0afb74",
   "metadata": {
    "ExecuteTime": {
     "end_time": "2021-11-11T07:47:54.992776Z",
     "start_time": "2021-11-11T07:47:54.986778Z"
    },
    "hidden": true
   },
   "outputs": [
    {
     "data": {
      "text/plain": [
       "({1, 2, 3, 4, 5, 6}, {4, 5, 6, 7, 8, 9})"
      ]
     },
     "execution_count": 110,
     "metadata": {},
     "output_type": "execute_result"
    }
   ],
   "source": [
    "# 합집합, 교집합, 차집합\n",
    "s1 = {1, 2, 3, 4, 5, 6}\n",
    "s2 = {4, 5, 6, 7, 8, 9}\n",
    "s1, s2"
   ]
  },
  {
   "cell_type": "code",
   "execution_count": 112,
   "id": "8688091f",
   "metadata": {
    "ExecuteTime": {
     "end_time": "2021-11-11T07:49:11.170826Z",
     "start_time": "2021-11-11T07:49:11.152875Z"
    },
    "hidden": true
   },
   "outputs": [
    {
     "name": "stdout",
     "output_type": "stream",
     "text": [
      "{4, 5, 6}\n",
      "{1, 2, 3, 4, 5, 6, 7, 8, 9}\n",
      "{1, 2, 3}\n"
     ]
    }
   ],
   "source": [
    "print(s1&s2)\n",
    "print(s1|s2)\n",
    "print(s1-s2)"
   ]
  },
  {
   "cell_type": "code",
   "execution_count": 114,
   "id": "11dac38b",
   "metadata": {
    "ExecuteTime": {
     "end_time": "2021-11-11T08:14:14.072137Z",
     "start_time": "2021-11-11T08:14:14.064159Z"
    },
    "hidden": true
   },
   "outputs": [
    {
     "data": {
      "text/plain": [
       "{2, 'abc'}"
      ]
     },
     "execution_count": 114,
     "metadata": {},
     "output_type": "execute_result"
    }
   ],
   "source": [
    "# 삭제하기\n",
    "s1 = {(10, 20), 1, 2, False, 'Hello', 'abc'}\n",
    "s1.remove(1)\n",
    "s1.remove('Hello')\n",
    "s1.remove((10, 20))\n",
    "s1.remove(0)\n",
    "s1"
   ]
  },
  {
   "cell_type": "markdown",
   "id": "12feb7b0",
   "metadata": {
    "heading_collapsed": true
   },
   "source": [
    "## 5절 enumerate와 comprehension"
   ]
  },
  {
   "cell_type": "code",
   "execution_count": 118,
   "id": "9e0b02ba",
   "metadata": {
    "ExecuteTime": {
     "end_time": "2021-11-11T08:17:14.663934Z",
     "start_time": "2021-11-11T08:17:14.659973Z"
    },
    "hidden": true
   },
   "outputs": [
    {
     "name": "stdout",
     "output_type": "stream",
     "text": [
      "데이터는 watermelon입니다.\n",
      "데이터는 orange입니다.\n",
      "데이터는 mango입니다.\n",
      "데이터는 grape입니다.\n",
      "데이터는 banana입니다.\n"
     ]
    }
   ],
   "source": [
    "# enumerate\n",
    "fruits = ['watermelon', 'orange', 'mango', 'grape', 'banana']\n",
    "for fruit in fruits:\n",
    "    print(\"데이터는 {}입니다.\".format(fruit))"
   ]
  },
  {
   "cell_type": "code",
   "execution_count": 119,
   "id": "958245da",
   "metadata": {
    "ExecuteTime": {
     "end_time": "2021-11-11T08:17:16.910614Z",
     "start_time": "2021-11-11T08:17:16.899643Z"
    },
    "hidden": true
   },
   "outputs": [
    {
     "name": "stdout",
     "output_type": "stream",
     "text": [
      "1번째 데이터는 watermelon입니다.\n",
      "2번째 데이터는 orange입니다.\n",
      "3번째 데이터는 mango입니다.\n",
      "4번째 데이터는 grape입니다.\n",
      "5번째 데이터는 banana입니다.\n"
     ]
    }
   ],
   "source": [
    "for i in range(len(fruits)):\n",
    "    print(\"{}번째 데이터는 {}입니다.\".format(i+1, fruits[i]))"
   ]
  },
  {
   "cell_type": "code",
   "execution_count": 120,
   "id": "7a4519b6",
   "metadata": {
    "ExecuteTime": {
     "end_time": "2021-11-11T08:17:18.939766Z",
     "start_time": "2021-11-11T08:17:18.921843Z"
    },
    "hidden": true
   },
   "outputs": [
    {
     "name": "stdout",
     "output_type": "stream",
     "text": [
      "1번째 데이터는 watermelon입니다.\n",
      "2번째 데이터는 orange입니다.\n",
      "3번째 데이터는 mango입니다.\n",
      "4번째 데이터는 grape입니다.\n",
      "5번째 데이터는 banana입니다.\n"
     ]
    }
   ],
   "source": [
    "for index, value in enumerate(fruits):\n",
    "    print(\"{}번째 데이터는 {}입니다.\".format(index+1, value))"
   ]
  },
  {
   "cell_type": "code",
   "execution_count": 121,
   "id": "848c8f28",
   "metadata": {
    "ExecuteTime": {
     "end_time": "2021-11-11T08:18:01.170523Z",
     "start_time": "2021-11-11T08:18:01.157529Z"
    },
    "hidden": true
   },
   "outputs": [
    {
     "data": {
      "text/plain": [
       "[2, 4, 6, 8, 10]"
      ]
     },
     "execution_count": 121,
     "metadata": {},
     "output_type": "execute_result"
    }
   ],
   "source": [
    "# comprehension\n",
    "L = [1, 2, 3, 4, 5, 6, 7, 8, 9, 10]\n",
    "L2 = [ item for item in L if item%2==0 ]\n",
    "L2"
   ]
  },
  {
   "cell_type": "code",
   "execution_count": 126,
   "id": "6fa9c55d",
   "metadata": {
    "ExecuteTime": {
     "end_time": "2021-11-11T08:20:00.835195Z",
     "start_time": "2021-11-11T08:20:00.817245Z"
    },
    "hidden": true
   },
   "outputs": [
    {
     "data": {
      "text/plain": [
       "2"
      ]
     },
     "execution_count": 126,
     "metadata": {},
     "output_type": "execute_result"
    }
   ],
   "source": [
    "G = (item for item in L if item%2==0)\n",
    "next(G) # type(G)의 결과는 generator임"
   ]
  },
  {
   "cell_type": "markdown",
   "id": "673d3949",
   "metadata": {},
   "source": [
    "## 6절 연습문제"
   ]
  },
  {
   "cell_type": "code",
   "execution_count": 1,
   "id": "44454fa5",
   "metadata": {
    "ExecuteTime": {
     "end_time": "2021-11-11T08:31:26.157720Z",
     "start_time": "2021-11-11T08:31:26.130230Z"
    }
   },
   "outputs": [
    {
     "data": {
      "text/plain": [
       "[1, 2, 3, 4, 5, 6, 7, 8, 9, 10, 100]"
      ]
     },
     "execution_count": 1,
     "metadata": {},
     "output_type": "execute_result"
    }
   ],
   "source": [
    "#1\n",
    "numbers = [1, 2, 3, 4, 5, 6, 7, 8, 9, 10]\n",
    "numbers.append(100)\n",
    "numbers"
   ]
  },
  {
   "cell_type": "code",
   "execution_count": 2,
   "id": "a5f140f3",
   "metadata": {
    "ExecuteTime": {
     "end_time": "2021-11-11T08:31:28.722821Z",
     "start_time": "2021-11-11T08:31:28.714842Z"
    }
   },
   "outputs": [
    {
     "data": {
      "text/plain": [
       "[1, 2, 3, 4, 5, 6, 7, 8, 9, 10, 100, 200, 300, 400, 500]"
      ]
     },
     "execution_count": 2,
     "metadata": {},
     "output_type": "execute_result"
    }
   ],
   "source": [
    "#2\n",
    "data = [200, 300, 400, 500]\n",
    "renewed_numbers = numbers + data\n",
    "renewed_numbers"
   ]
  },
  {
   "cell_type": "code",
   "execution_count": 10,
   "id": "570191ae",
   "metadata": {
    "ExecuteTime": {
     "end_time": "2021-11-11T08:39:22.302137Z",
     "start_time": "2021-11-11T08:39:22.284184Z"
    }
   },
   "outputs": [
    {
     "data": {
      "text/plain": [
       "[1, 2, 3, 4, 5]"
      ]
     },
     "execution_count": 10,
     "metadata": {},
     "output_type": "execute_result"
    }
   ],
   "source": [
    "#3\n",
    "numbers[:5]"
   ]
  },
  {
   "cell_type": "code",
   "execution_count": 11,
   "id": "485a234f",
   "metadata": {
    "ExecuteTime": {
     "end_time": "2021-11-11T08:39:54.522435Z",
     "start_time": "2021-11-11T08:39:54.514475Z"
    }
   },
   "outputs": [
    {
     "data": {
      "text/plain": [
       "[2, 4, 6, 8, 10]"
      ]
     },
     "execution_count": 11,
     "metadata": {},
     "output_type": "execute_result"
    }
   ],
   "source": [
    "#4\n",
    "numbers[1::2]"
   ]
  },
  {
   "cell_type": "code",
   "execution_count": 14,
   "id": "c5703fc0",
   "metadata": {
    "ExecuteTime": {
     "end_time": "2021-11-11T08:40:48.872062Z",
     "start_time": "2021-11-11T08:40:48.858072Z"
    }
   },
   "outputs": [
    {
     "data": {
      "text/plain": [
       "[1, 0, 3, 0, 5, 0, 7, 0, 9, 0, 100]"
      ]
     },
     "execution_count": 14,
     "metadata": {},
     "output_type": "execute_result"
    }
   ],
   "source": [
    "#5\n",
    "numbers[1::2] = [0] * int(len(numbers)/2)\n",
    "numbers"
   ]
  },
  {
   "cell_type": "code",
   "execution_count": 17,
   "id": "198d89be",
   "metadata": {
    "ExecuteTime": {
     "end_time": "2021-11-11T08:42:30.635611Z",
     "start_time": "2021-11-11T08:42:30.616662Z"
    }
   },
   "outputs": [
    {
     "data": {
      "text/plain": [
       "[100, 0, 9, 0, 7, 0, 5, 0, 3, 0, 1]"
      ]
     },
     "execution_count": 17,
     "metadata": {},
     "output_type": "execute_result"
    }
   ],
   "source": [
    "#6\n",
    "numbers[::-1]"
   ]
  },
  {
   "cell_type": "code",
   "execution_count": 29,
   "id": "ab042242",
   "metadata": {
    "ExecuteTime": {
     "end_time": "2021-11-11T08:45:33.903566Z",
     "start_time": "2021-11-11T08:45:33.896586Z"
    }
   },
   "outputs": [
    {
     "data": {
      "text/plain": [
       "'서울시 강동구'"
      ]
     },
     "execution_count": 29,
     "metadata": {},
     "output_type": "execute_result"
    }
   ],
   "source": [
    "#7\n",
    "member_info = {\"name\": \"홍길동\", \"age\": 20, \"address\": \"서울시 강동구\", \"score\": 90}\n",
    "member_info['address']"
   ]
  },
  {
   "cell_type": "code",
   "execution_count": 30,
   "id": "d74c76c4",
   "metadata": {
    "ExecuteTime": {
     "end_time": "2021-11-11T08:45:35.979443Z",
     "start_time": "2021-11-11T08:45:35.971464Z"
    }
   },
   "outputs": [
    {
     "data": {
      "text/plain": [
       "90"
      ]
     },
     "execution_count": 30,
     "metadata": {},
     "output_type": "execute_result"
    }
   ],
   "source": [
    "#8\n",
    "member_info['score']\n",
    "member_info.pop('score')"
   ]
  },
  {
   "cell_type": "code",
   "execution_count": 31,
   "id": "2e93b8eb",
   "metadata": {
    "ExecuteTime": {
     "end_time": "2021-11-11T08:46:03.776909Z",
     "start_time": "2021-11-11T08:46:03.768931Z"
    }
   },
   "outputs": [
    {
     "data": {
      "text/plain": [
       "{'name': '홍길동', 'age': 20, 'address': '서울시 강남구'}"
      ]
     },
     "execution_count": 31,
     "metadata": {},
     "output_type": "execute_result"
    }
   ],
   "source": [
    "#9\n",
    "member_info['address'] = '서울시 강남구'\n",
    "member_info"
   ]
  },
  {
   "cell_type": "code",
   "execution_count": 34,
   "id": "0a1c1c79",
   "metadata": {
    "ExecuteTime": {
     "end_time": "2021-11-11T08:47:17.427688Z",
     "start_time": "2021-11-11T08:47:17.417714Z"
    }
   },
   "outputs": [
    {
     "data": {
      "text/plain": [
       "['홍길동', 20, '서울시 강남구']"
      ]
     },
     "execution_count": 34,
     "metadata": {},
     "output_type": "execute_result"
    }
   ],
   "source": [
    "#10\n",
    "list(member_info.values())"
   ]
  }
 ],
 "metadata": {
  "kernelspec": {
   "display_name": "saltlux_lecture",
   "language": "python",
   "name": "saltlux_lecture"
  },
  "language_info": {
   "codemirror_mode": {
    "name": "ipython",
    "version": 3
   },
   "file_extension": ".py",
   "mimetype": "text/x-python",
   "name": "python",
   "nbconvert_exporter": "python",
   "pygments_lexer": "ipython3",
   "version": "3.9.7"
  },
  "toc": {
   "base_numbering": 1,
   "nav_menu": {},
   "number_sections": true,
   "sideBar": true,
   "skip_h1_title": false,
   "title_cell": "Table of Contents",
   "title_sidebar": "Contents",
   "toc_cell": false,
   "toc_position": {
    "height": "calc(100% - 180px)",
    "left": "10px",
    "top": "150px",
    "width": "165px"
   },
   "toc_section_display": true,
   "toc_window_display": true
  }
 },
 "nbformat": 4,
 "nbformat_minor": 5
}
