{
 "cells": [
  {
   "cell_type": "markdown",
   "id": "aba38a39",
   "metadata": {},
   "source": [
    "## 1절 함수의 정의 및 사용"
   ]
  },
  {
   "cell_type": "code",
   "execution_count": 1,
   "id": "ac05c10e",
   "metadata": {
    "ExecuteTime": {
     "end_time": "2021-11-15T07:11:30.083952Z",
     "start_time": "2021-11-15T07:11:30.073979Z"
    }
   },
   "outputs": [
    {
     "name": "stdout",
     "output_type": "stream",
     "text": [
      "1 1 2 3 5 8 13 21 34 55 89 144 \n"
     ]
    }
   ],
   "source": [
    "def fibonacci(n):\n",
    "    \"n값 미만까지 피보나치수열을 출력합니다.\"\n",
    "    a, b = 0, 1\n",
    "    while b < n:\n",
    "        print(b, end=' ')\n",
    "        a, b = b, a+b\n",
    "    print()\n",
    "    \n",
    "fibonacci(200)"
   ]
  },
  {
   "cell_type": "code",
   "execution_count": 2,
   "id": "62f8e4b8",
   "metadata": {
    "ExecuteTime": {
     "end_time": "2021-11-15T07:19:42.458415Z",
     "start_time": "2021-11-15T07:19:42.439295Z"
    }
   },
   "outputs": [
    {
     "name": "stdout",
     "output_type": "stream",
     "text": [
      "you :  바위\n"
     ]
    }
   ],
   "source": [
    "import random\n",
    "\n",
    "def caption(val):\n",
    "    if val == 1:\n",
    "        return '가위'\n",
    "    elif val == 2:\n",
    "        return '바위'\n",
    "    elif val == 3:\n",
    "        return '보'\n",
    "    else:\n",
    "        return 'error'\n",
    "\n",
    "print('you : ', caption(random.randint(1, 5)))"
   ]
  },
  {
   "cell_type": "code",
   "execution_count": 3,
   "id": "6e9cfd09",
   "metadata": {
    "ExecuteTime": {
     "end_time": "2021-11-15T07:46:32.917075Z",
     "start_time": "2021-11-15T07:46:32.894799Z"
    }
   },
   "outputs": [
    {
     "data": {
      "text/plain": [
       "1549428479440"
      ]
     },
     "execution_count": 3,
     "metadata": {},
     "output_type": "execute_result"
    }
   ],
   "source": [
    "# 값에 의한 호출\n",
    "foo = 100\n",
    "id(foo)"
   ]
  },
  {
   "cell_type": "code",
   "execution_count": 4,
   "id": "c6afc70f",
   "metadata": {
    "ExecuteTime": {
     "end_time": "2021-11-15T07:47:19.716703Z",
     "start_time": "2021-11-15T07:47:19.704735Z"
    }
   },
   "outputs": [
    {
     "name": "stdout",
     "output_type": "stream",
     "text": [
      "Before 1549428479440\n",
      "After 1549428482704\n",
      "200\n"
     ]
    }
   ],
   "source": [
    "def func1(foo):\n",
    "    print('Before', id(foo))\n",
    "    foo = 200\n",
    "    print('After', id(foo))\n",
    "    print(foo)\n",
    "    \n",
    "func1(foo)"
   ]
  },
  {
   "cell_type": "code",
   "execution_count": 5,
   "id": "d6160cac",
   "metadata": {
    "ExecuteTime": {
     "end_time": "2021-11-15T08:02:21.348895Z",
     "start_time": "2021-11-15T08:02:21.329790Z"
    }
   },
   "outputs": [
    {
     "data": {
      "text/plain": [
       "1549508169408"
      ]
     },
     "execution_count": 5,
     "metadata": {},
     "output_type": "execute_result"
    }
   ],
   "source": [
    "# 참조에 의한 호출\n",
    "L = [1,2,3,4,5]\n",
    "id(L)"
   ]
  },
  {
   "cell_type": "code",
   "execution_count": 6,
   "id": "f039880a",
   "metadata": {
    "ExecuteTime": {
     "end_time": "2021-11-15T08:02:42.211745Z",
     "start_time": "2021-11-15T08:02:42.192808Z"
    }
   },
   "outputs": [
    {
     "name": "stdout",
     "output_type": "stream",
     "text": [
      "1549508169408\n",
      "[1, 2, 3, 4, 5, 6]\n"
     ]
    }
   ],
   "source": [
    "def func2(foo):\n",
    "    foo.append(6)\n",
    "    print(id(foo))\n",
    "    print(foo)\n",
    "    \n",
    "func2(L)"
   ]
  },
  {
   "cell_type": "markdown",
   "id": "14cc3725",
   "metadata": {},
   "source": [
    "## 2절 함수의 실행결과를 반환하는 return"
   ]
  },
  {
   "cell_type": "code",
   "execution_count": null,
   "id": "1cbddee4",
   "metadata": {},
   "outputs": [],
   "source": []
  },
  {
   "cell_type": "markdown",
   "id": "ae424b9f",
   "metadata": {},
   "source": [
    "## 3절 함수 매개변수"
   ]
  },
  {
   "cell_type": "code",
   "execution_count": null,
   "id": "64d87f00",
   "metadata": {},
   "outputs": [],
   "source": []
  },
  {
   "cell_type": "markdown",
   "id": "4f86751c",
   "metadata": {},
   "source": [
    "## 4절 람다식"
   ]
  },
  {
   "cell_type": "code",
   "execution_count": 7,
   "id": "cc2ecfbe",
   "metadata": {},
   "outputs": [
    {
     "name": "stdout",
     "output_type": "stream",
     "text": [
      "여자\n"
     ]
    }
   ],
   "source": [
    "n = 3\n",
    "print('남자' if n == 1 else '여자')"
   ]
  },
  {
   "cell_type": "markdown",
   "id": "7d31eb47",
   "metadata": {},
   "source": [
    "## 5절 파이썬 내장 함수"
   ]
  },
  {
   "cell_type": "code",
   "execution_count": 8,
   "id": "f07c8f7b",
   "metadata": {},
   "outputs": [
    {
     "data": {
      "text/plain": [
       "7"
      ]
     },
     "execution_count": 8,
     "metadata": {},
     "output_type": "execute_result"
    }
   ],
   "source": [
    "eval('3+4')"
   ]
  },
  {
   "cell_type": "markdown",
   "id": "91af3da6",
   "metadata": {},
   "source": [
    "## 6절 연습문제"
   ]
  },
  {
   "cell_type": "code",
   "execution_count": 9,
   "id": "8a083e63",
   "metadata": {},
   "outputs": [
    {
     "name": "stdout",
     "output_type": "stream",
     "text": [
      "(6, 3)\n"
     ]
    }
   ],
   "source": [
    "# 1\n",
    "def get_max_min(data_list):\n",
    "    return max(data_list), min(data_list)\n",
    "\n",
    "data_list = [3, 4, 5, 6]\n",
    "print(get_max_min(data_list))"
   ]
  },
  {
   "cell_type": "code",
   "execution_count": 23,
   "id": "4d2fccd8",
   "metadata": {},
   "outputs": [
    {
     "name": "stdout",
     "output_type": "stream",
     "text": [
      "27.041644131963228\n",
      "비만\n"
     ]
    }
   ],
   "source": [
    "# 2\n",
    "def get_BMI(weight, height):\n",
    "    bmi = weight / (height ** 2)\n",
    "    print(bmi)\n",
    "    if bmi < 18.5:\n",
    "        return '마른 체형'\n",
    "    elif 18.5 <= bmi < 25.0:\n",
    "        return '표준'\n",
    "    elif 25.0 <= bmi < 30.0:\n",
    "        return '비만'\n",
    "    elif bmi >= 30.0:\n",
    "        return '고도 비만'\n",
    "\n",
    "print(get_BMI(80, 1.72))"
   ]
  },
  {
   "cell_type": "code",
   "execution_count": 24,
   "id": "fd603d71",
   "metadata": {},
   "outputs": [
    {
     "data": {
      "text/plain": [
       "(6.0, 12.0)"
      ]
     },
     "execution_count": 24,
     "metadata": {},
     "output_type": "execute_result"
    }
   ],
   "source": [
    "# 3\n",
    "from math import sqrt\n",
    "\n",
    "def get_triangle(width, height):\n",
    "    area = (width * height) / 2\n",
    "    dullae = width + height + sqrt(width**2 + height**2)\n",
    "    return area, dullae\n",
    "\n",
    "get_triangle(3, 4)"
   ]
  },
  {
   "cell_type": "code",
   "execution_count": 27,
   "id": "9de36360",
   "metadata": {},
   "outputs": [
    {
     "data": {
      "text/plain": [
       "18"
      ]
     },
     "execution_count": 27,
     "metadata": {},
     "output_type": "execute_result"
    }
   ],
   "source": [
    "# 4\n",
    "def mysum(start, end):\n",
    "    sum = 0\n",
    "    if start <= end:\n",
    "        for i in range(start, end+1):\n",
    "            sum += i\n",
    "        return sum\n",
    "    else:\n",
    "        return 'error'\n",
    "\n",
    "mysum(5, 7)"
   ]
  },
  {
   "cell_type": "code",
   "execution_count": 29,
   "id": "1dffc86b",
   "metadata": {},
   "outputs": [
    {
     "data": {
      "text/plain": [
       "['Seo', 'Dae', 'Kwa', 'Jej']"
      ]
     },
     "execution_count": 29,
     "metadata": {},
     "output_type": "execute_result"
    }
   ],
   "source": [
    "# 5\n",
    "def get_abbrs(list):\n",
    "    new_list = []\n",
    "    for i in list:\n",
    "        new_list.append(i[0:3])\n",
    "    return new_list\n",
    "\n",
    "get_abbrs(['Seoul', 'Daegu', 'Kwangju', 'Jeju'])"
   ]
  }
 ],
 "metadata": {
  "interpreter": {
   "hash": "9cea8177b4720f8e58b915fe7d25071150cb7f046bd1970d257908049c667e74"
  },
  "kernelspec": {
   "display_name": "saltlux_lecture",
   "language": "python",
   "name": "python3"
  },
  "language_info": {
   "codemirror_mode": {
    "name": "ipython",
    "version": 3
   },
   "file_extension": ".py",
   "mimetype": "text/x-python",
   "name": "python",
   "nbconvert_exporter": "python",
   "pygments_lexer": "ipython3",
   "version": "3.9.7"
  },
  "toc": {
   "base_numbering": 1,
   "nav_menu": {},
   "number_sections": true,
   "sideBar": true,
   "skip_h1_title": false,
   "title_cell": "Table of Contents",
   "title_sidebar": "Contents",
   "toc_cell": false,
   "toc_position": {
    "height": "calc(100% - 180px)",
    "left": "10px",
    "top": "150px",
    "width": "224px"
   },
   "toc_section_display": true,
   "toc_window_display": true
  }
 },
 "nbformat": 4,
 "nbformat_minor": 5
}
