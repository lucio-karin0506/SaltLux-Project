{
 "cells": [
  {
   "cell_type": "markdown",
   "id": "9fd2384a",
   "metadata": {},
   "source": [
    "## 1절. 파일에 데이터 저장하고 불러오기"
   ]
  },
  {
   "cell_type": "markdown",
   "id": "9248dcfc",
   "metadata": {},
   "source": [
    "## 2절. 피클을 이용한 객체 저장 및 불러오기"
   ]
  },
  {
   "cell_type": "markdown",
   "id": "366c2e4a",
   "metadata": {},
   "source": [
    "## 3절.  CSV 형식 파일 읽기/쓰기"
   ]
  },
  {
   "cell_type": "markdown",
   "id": "19d2fac3",
   "metadata": {},
   "source": [
    "## 4절. JSON 데이터 저장 및 불러오기"
   ]
  },
  {
   "cell_type": "markdown",
   "id": "66684d2a",
   "metadata": {},
   "source": [
    "## 5절. HDF5 파일 읽기/쓰기"
   ]
  },
  {
   "cell_type": "markdown",
   "id": "38007184",
   "metadata": {},
   "source": [
    "## 6절. 하둡 파일 시스템 데이터 조회"
   ]
  }
 ],
 "metadata": {
  "kernelspec": {
   "display_name": "saltlux_lecture",
   "language": "python",
   "name": "saltlux_lecture"
  },
  "language_info": {
   "codemirror_mode": {
    "name": "ipython",
    "version": 3
   },
   "file_extension": ".py",
   "mimetype": "text/x-python",
   "name": "python",
   "nbconvert_exporter": "python",
   "pygments_lexer": "ipython3",
   "version": "3.9.7"
  },
  "toc": {
   "base_numbering": 1,
   "nav_menu": {},
   "number_sections": true,
   "sideBar": true,
   "skip_h1_title": false,
   "title_cell": "Table of Contents",
   "title_sidebar": "Contents",
   "toc_cell": false,
   "toc_position": {
    "height": "calc(100% - 180px)",
    "left": "10px",
    "top": "150px",
    "width": "228.594px"
   },
   "toc_section_display": true,
   "toc_window_display": true
  }
 },
 "nbformat": 4,
 "nbformat_minor": 5
}
