{
 "cells": [
  {
   "cell_type": "markdown",
   "id": "5b82ee55",
   "metadata": {},
   "source": [
    "## 1절 변수"
   ]
  },
  {
   "cell_type": "code",
   "execution_count": 1,
   "id": "651c8a43",
   "metadata": {
    "ExecuteTime": {
     "end_time": "2021-11-09T03:38:18.704966Z",
     "start_time": "2021-11-09T03:38:18.687166Z"
    }
   },
   "outputs": [
    {
     "name": "stdout",
     "output_type": "stream",
     "text": [
      "78.5\n"
     ]
    }
   ],
   "source": [
    "print(5 * 5 * 3.14)"
   ]
  },
  {
   "cell_type": "code",
   "execution_count": 2,
   "id": "cc28a57b",
   "metadata": {
    "ExecuteTime": {
     "end_time": "2021-11-09T03:38:21.053743Z",
     "start_time": "2021-11-09T03:38:21.040778Z"
    }
   },
   "outputs": [
    {
     "name": "stdout",
     "output_type": "stream",
     "text": [
      "hello world\n"
     ]
    }
   ],
   "source": [
    "print(\"hello world\")"
   ]
  },
  {
   "cell_type": "code",
   "execution_count": 3,
   "id": "d3e033f2",
   "metadata": {
    "ExecuteTime": {
     "end_time": "2021-11-09T03:38:30.918263Z",
     "start_time": "2021-11-09T03:38:30.906296Z"
    }
   },
   "outputs": [
    {
     "data": {
      "text/plain": [
       "'the python'"
      ]
     },
     "execution_count": 3,
     "metadata": {},
     "output_type": "execute_result"
    }
   ],
   "source": [
    "my_favorite_book = \"the python\"\n",
    "my_favorite_book"
   ]
  },
  {
   "cell_type": "code",
   "execution_count": 4,
   "id": "4f93d109",
   "metadata": {
    "ExecuteTime": {
     "end_time": "2021-11-09T03:39:11.031689Z",
     "start_time": "2021-11-09T03:39:11.026701Z"
    }
   },
   "outputs": [
    {
     "data": {
      "text/plain": [
       "'the python2'"
      ]
     },
     "execution_count": 4,
     "metadata": {},
     "output_type": "execute_result"
    }
   ],
   "source": [
    "my_favorite_book = \"the python2\"\n",
    "my_favorite_book"
   ]
  },
  {
   "cell_type": "code",
   "execution_count": 5,
   "id": "835490b7",
   "metadata": {
    "ExecuteTime": {
     "end_time": "2021-11-09T05:11:02.910201Z",
     "start_time": "2021-11-09T05:11:02.900251Z"
    }
   },
   "outputs": [
    {
     "name": "stdout",
     "output_type": "stream",
     "text": [
      "10\n"
     ]
    }
   ],
   "source": [
    "a = 10\n",
    "print(a)"
   ]
  }
 ],
 "metadata": {
  "kernelspec": {
   "display_name": "saltlux_lecture",
   "language": "python",
   "name": "saltlux_lecture"
  },
  "language_info": {
   "codemirror_mode": {
    "name": "ipython",
    "version": 3
   },
   "file_extension": ".py",
   "mimetype": "text/x-python",
   "name": "python",
   "nbconvert_exporter": "python",
   "pygments_lexer": "ipython3",
   "version": "3.9.7"
  },
  "toc": {
   "base_numbering": 1,
   "nav_menu": {},
   "number_sections": true,
   "sideBar": true,
   "skip_h1_title": false,
   "title_cell": "Table of Contents",
   "title_sidebar": "Contents",
   "toc_cell": false,
   "toc_position": {
    "height": "calc(100% - 180px)",
    "left": "10px",
    "top": "150px",
    "width": "184px"
   },
   "toc_section_display": true,
   "toc_window_display": true
  }
 },
 "nbformat": 4,
 "nbformat_minor": 5
}
