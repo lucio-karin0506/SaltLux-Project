{
 "cells": [
  {
   "cell_type": "markdown",
   "id": "5b82ee55",
   "metadata": {},
   "source": [
    "## 1절 변수"
   ]
  },
  {
   "cell_type": "code",
   "execution_count": 1,
   "id": "651c8a43",
   "metadata": {
    "ExecuteTime": {
     "end_time": "2021-11-09T03:38:18.704966Z",
     "start_time": "2021-11-09T03:38:18.687166Z"
    }
   },
   "outputs": [
    {
     "name": "stdout",
     "output_type": "stream",
     "text": [
      "78.5\n"
     ]
    }
   ],
   "source": [
    "print(5 * 5 * 3.14)"
   ]
  },
  {
   "cell_type": "code",
   "execution_count": 2,
   "id": "cc28a57b",
   "metadata": {
    "ExecuteTime": {
     "end_time": "2021-11-09T03:38:21.053743Z",
     "start_time": "2021-11-09T03:38:21.040778Z"
    }
   },
   "outputs": [
    {
     "name": "stdout",
     "output_type": "stream",
     "text": [
      "hello world\n"
     ]
    }
   ],
   "source": [
    "print(\"hello world\")"
   ]
  },
  {
   "cell_type": "code",
   "execution_count": 3,
   "id": "f820e707",
   "metadata": {
    "ExecuteTime": {
     "end_time": "2021-11-09T03:38:30.918263Z",
     "start_time": "2021-11-09T03:38:30.906296Z"
    }
   },
   "outputs": [
    {
     "data": {
      "text/plain": [
       "'the python'"
      ]
     },
     "execution_count": 3,
     "metadata": {},
     "output_type": "execute_result"
    }
   ],
   "source": [
    "my_favorite_book = \"the python\"\n",
    "my_favorite_book"
   ]
  },
  {
   "cell_type": "code",
   "execution_count": 4,
   "id": "57fedcd5",
   "metadata": {
    "ExecuteTime": {
     "end_time": "2021-11-09T03:39:11.031689Z",
     "start_time": "2021-11-09T03:39:11.026701Z"
    }
   },
   "outputs": [
    {
     "data": {
      "text/plain": [
       "'the python2'"
      ]
     },
     "execution_count": 4,
     "metadata": {},
     "output_type": "execute_result"
    }
   ],
   "source": [
    "my_favorite_book = \"the python2\"\n",
    "my_favorite_book"
   ]
  },
  {
   "cell_type": "code",
   "execution_count": 5,
   "id": "e75205b4",
   "metadata": {
    "ExecuteTime": {
     "end_time": "2021-11-09T05:11:02.910201Z",
     "start_time": "2021-11-09T05:11:02.900251Z"
    }
   },
   "outputs": [
    {
     "name": "stdout",
     "output_type": "stream",
     "text": [
      "10\n"
     ]
    }
   ],
   "source": [
    "a = 10\n",
    "print(a)"
   ]
  },
  {
   "cell_type": "code",
   "execution_count": 10,
   "id": "5a990fbd",
   "metadata": {
    "ExecuteTime": {
     "end_time": "2021-11-09T05:21:26.661318Z",
     "start_time": "2021-11-09T05:21:26.653330Z"
    }
   },
   "outputs": [
    {
     "name": "stdout",
     "output_type": "stream",
     "text": [
      "100\n",
      "1929967392208\n"
     ]
    }
   ],
   "source": [
    "x = 100\n",
    "print(x)\n",
    "print(id(x))"
   ]
  },
  {
   "cell_type": "code",
   "execution_count": 17,
   "id": "7cfcf59f",
   "metadata": {
    "ExecuteTime": {
     "end_time": "2021-11-09T05:25:34.312055Z",
     "start_time": "2021-11-09T05:25:34.300087Z"
    }
   },
   "outputs": [
    {
     "name": "stdout",
     "output_type": "stream",
     "text": [
      "30\n",
      "10 20\n"
     ]
    }
   ],
   "source": [
    "a = 10\n",
    "b = 20\n",
    "print(a + b)\n",
    "# print(str(a) + \" \" + str(b))\n",
    "print(a, b)"
   ]
  },
  {
   "cell_type": "code",
   "execution_count": 19,
   "id": "5d04ccd9",
   "metadata": {
    "ExecuteTime": {
     "end_time": "2021-11-09T05:25:44.134506Z",
     "start_time": "2021-11-09T05:25:44.126527Z"
    }
   },
   "outputs": [
    {
     "name": "stdout",
     "output_type": "stream",
     "text": [
      "Variable           Type    Data/Info\n",
      "------------------------------------\n",
      "a                  int     10\n",
      "b                  int     20\n",
      "my_favorite_book   str     the python2\n",
      "x                  int     100\n"
     ]
    }
   ],
   "source": [
    "whos"
   ]
  },
  {
   "cell_type": "code",
   "execution_count": 22,
   "id": "e9785f80",
   "metadata": {
    "ExecuteTime": {
     "end_time": "2021-11-09T05:28:03.772013Z",
     "start_time": "2021-11-09T05:28:03.765026Z"
    }
   },
   "outputs": [
    {
     "name": "stdout",
     "output_type": "stream",
     "text": [
      "In\n",
      "Out\n",
      "a\n",
      "b\n",
      "exit\n",
      "get_ipython\n",
      "my_favorite_book\n",
      "name\n",
      "quit\n",
      "x\n"
     ]
    }
   ],
   "source": [
    "for name in dir():\n",
    "    if not name.startswith('_'):\n",
    "        print(name)"
   ]
  },
  {
   "cell_type": "code",
   "execution_count": 26,
   "id": "6bc9ed7c",
   "metadata": {
    "ExecuteTime": {
     "end_time": "2021-11-09T05:29:13.887220Z",
     "start_time": "2021-11-09T05:29:13.869268Z"
    }
   },
   "outputs": [
    {
     "name": "stdout",
     "output_type": "stream",
     "text": [
      "10 20\n",
      "Variable           Type    Data/Info\n",
      "------------------------------------\n",
      "a                  int     10\n",
      "b                  int     20\n",
      "my_favorite_book   str     the python2\n",
      "name               str     x\n",
      "x                  int     100\n"
     ]
    }
   ],
   "source": [
    "# 다중 변수 선언\n",
    "a, b = 10, 20\n",
    "print(a, b)\n",
    "%whos"
   ]
  },
  {
   "cell_type": "code",
   "execution_count": 29,
   "id": "7e36de7a",
   "metadata": {
    "ExecuteTime": {
     "end_time": "2021-11-09T05:32:36.549321Z",
     "start_time": "2021-11-09T05:32:36.532365Z"
    }
   },
   "outputs": [
    {
     "name": "stdout",
     "output_type": "stream",
     "text": [
      "20 40\n"
     ]
    }
   ],
   "source": [
    "a = 10\n",
    "b = 20\n",
    "a = b\n",
    "b = a+b\n",
    "print(a, b)"
   ]
  },
  {
   "cell_type": "code",
   "execution_count": 30,
   "id": "91c68faf",
   "metadata": {
    "ExecuteTime": {
     "end_time": "2021-11-09T05:32:39.887134Z",
     "start_time": "2021-11-09T05:32:39.869183Z"
    }
   },
   "outputs": [
    {
     "name": "stdout",
     "output_type": "stream",
     "text": [
      "20 30\n"
     ]
    }
   ],
   "source": [
    "a = 10\n",
    "b = 20\n",
    "a, b = b, a+b # 동시 실행 시 연산에 바뀐 변수 바로 적용 안됨\n",
    "print(a, b)"
   ]
  },
  {
   "cell_type": "code",
   "execution_count": 32,
   "id": "129b9bc0",
   "metadata": {
    "ExecuteTime": {
     "end_time": "2021-11-09T05:37:54.498996Z",
     "start_time": "2021-11-09T05:37:54.490020Z"
    }
   },
   "outputs": [
    {
     "name": "stdout",
     "output_type": "stream",
     "text": [
      "20 30\n"
     ]
    }
   ],
   "source": [
    "# 다중할당\n",
    "a, b = b, a\n",
    "print(a, b)"
   ]
  },
  {
   "cell_type": "markdown",
   "id": "6e8fade7",
   "metadata": {},
   "source": [
    "## 2절 화면입출력"
   ]
  },
  {
   "cell_type": "code",
   "execution_count": 35,
   "id": "8b6d87f3",
   "metadata": {
    "ExecuteTime": {
     "end_time": "2021-11-09T06:28:04.665092Z",
     "start_time": "2021-11-09T06:28:03.106980Z"
    }
   },
   "outputs": [
    {
     "name": "stdout",
     "output_type": "stream",
     "text": [
      "prompt_msg: a\n",
      "a\n"
     ]
    }
   ],
   "source": [
    "read_msg = input('prompt_msg: ')\n",
    "print(read_msg)"
   ]
  },
  {
   "cell_type": "code",
   "execution_count": 36,
   "id": "03187a49",
   "metadata": {
    "ExecuteTime": {
     "end_time": "2021-11-09T06:32:24.566736Z",
     "start_time": "2021-11-09T06:32:24.548596Z"
    }
   },
   "outputs": [
    {
     "name": "stdout",
     "output_type": "stream",
     "text": [
      "hello\tworld\n",
      "python\n"
     ]
    }
   ],
   "source": [
    "print('hello', end='\\t')\n",
    "print('world')\n",
    "print('python')"
   ]
  },
  {
   "cell_type": "code",
   "execution_count": 37,
   "id": "1c5aafa1",
   "metadata": {
    "ExecuteTime": {
     "end_time": "2021-11-09T06:45:02.322841Z",
     "start_time": "2021-11-09T06:45:02.313866Z"
    }
   },
   "outputs": [
    {
     "data": {
      "text/plain": [
       "9223372036854775807"
      ]
     },
     "execution_count": 37,
     "metadata": {},
     "output_type": "execute_result"
    }
   ],
   "source": [
    "import sys\n",
    "sys.maxsize"
   ]
  },
  {
   "cell_type": "code",
   "execution_count": 39,
   "id": "2df8367d",
   "metadata": {
    "ExecuteTime": {
     "end_time": "2021-11-09T06:45:35.497389Z",
     "start_time": "2021-11-09T06:45:35.479430Z"
    }
   },
   "outputs": [
    {
     "data": {
      "text/plain": [
       "int"
      ]
     },
     "execution_count": 39,
     "metadata": {},
     "output_type": "execute_result"
    }
   ],
   "source": [
    "type(sys.maxsize)\n",
    "type(2**31)"
   ]
  },
  {
   "cell_type": "code",
   "execution_count": 40,
   "id": "018895f7",
   "metadata": {
    "ExecuteTime": {
     "end_time": "2021-11-09T07:10:26.353778Z",
     "start_time": "2021-11-09T07:10:26.347810Z"
    }
   },
   "outputs": [
    {
     "data": {
      "text/plain": [
       "1.5"
      ]
     },
     "execution_count": 40,
     "metadata": {},
     "output_type": "execute_result"
    }
   ],
   "source": [
    "a = 3/2\n",
    "a"
   ]
  },
  {
   "cell_type": "code",
   "execution_count": 41,
   "id": "9e5b9eac",
   "metadata": {
    "ExecuteTime": {
     "end_time": "2021-11-09T07:11:54.749861Z",
     "start_time": "2021-11-09T07:11:54.743909Z"
    }
   },
   "outputs": [
    {
     "data": {
      "text/plain": [
       "1234.56"
      ]
     },
     "execution_count": 41,
     "metadata": {},
     "output_type": "execute_result"
    }
   ],
   "source": [
    "1.23456e3"
   ]
  },
  {
   "cell_type": "code",
   "execution_count": 43,
   "id": "82357c8a",
   "metadata": {
    "ExecuteTime": {
     "end_time": "2021-11-09T07:14:35.176960Z",
     "start_time": "2021-11-09T07:14:35.158904Z"
    }
   },
   "outputs": [
    {
     "data": {
      "text/plain": [
       "complex"
      ]
     },
     "execution_count": 43,
     "metadata": {},
     "output_type": "execute_result"
    }
   ],
   "source": [
    "d = 3+2j\n",
    "type(d)"
   ]
  },
  {
   "cell_type": "code",
   "execution_count": 44,
   "id": "9dbf8844",
   "metadata": {
    "ExecuteTime": {
     "end_time": "2021-11-09T07:14:58.818840Z",
     "start_time": "2021-11-09T07:14:58.808840Z"
    }
   },
   "outputs": [
    {
     "name": "stdout",
     "output_type": "stream",
     "text": [
      "(-1+0j)\n"
     ]
    }
   ],
   "source": [
    "d = 1j\n",
    "print(d**2)"
   ]
  },
  {
   "cell_type": "code",
   "execution_count": 45,
   "id": "84e590f0",
   "metadata": {
    "ExecuteTime": {
     "end_time": "2021-11-09T07:16:19.192062Z",
     "start_time": "2021-11-09T07:16:19.184084Z"
    }
   },
   "outputs": [
    {
     "data": {
      "text/plain": [
       "30"
      ]
     },
     "execution_count": 45,
     "metadata": {},
     "output_type": "execute_result"
    }
   ],
   "source": [
    "a = 10\n",
    "b = 20\n",
    "a + b"
   ]
  },
  {
   "cell_type": "code",
   "execution_count": 47,
   "id": "cd246c5d",
   "metadata": {
    "ExecuteTime": {
     "end_time": "2021-11-09T07:16:48.027316Z",
     "start_time": "2021-11-09T07:16:48.019365Z"
    }
   },
   "outputs": [
    {
     "data": {
      "text/plain": [
       "30"
      ]
     },
     "execution_count": 47,
     "metadata": {},
     "output_type": "execute_result"
    }
   ],
   "source": [
    "# 현재 값 출력\n",
    "_"
   ]
  },
  {
   "cell_type": "code",
   "execution_count": 54,
   "id": "d04d0bf6",
   "metadata": {
    "ExecuteTime": {
     "end_time": "2021-11-09T08:11:08.200397Z",
     "start_time": "2021-11-09T08:11:08.182474Z"
    }
   },
   "outputs": [
    {
     "data": {
      "text/plain": [
       "'p'"
      ]
     },
     "execution_count": 54,
     "metadata": {},
     "output_type": "execute_result"
    }
   ],
   "source": [
    "# string index parsing\n",
    "name = 'python'\n",
    "name[0]"
   ]
  },
  {
   "cell_type": "code",
   "execution_count": 55,
   "id": "0b13c26a",
   "metadata": {
    "ExecuteTime": {
     "end_time": "2021-11-09T08:11:10.445820Z",
     "start_time": "2021-11-09T08:11:10.428577Z"
    }
   },
   "outputs": [
    {
     "data": {
      "text/plain": [
       "'pyt'"
      ]
     },
     "execution_count": 55,
     "metadata": {},
     "output_type": "execute_result"
    }
   ],
   "source": [
    "name[0:3]"
   ]
  },
  {
   "cell_type": "code",
   "execution_count": 56,
   "id": "29695929",
   "metadata": {
    "ExecuteTime": {
     "end_time": "2021-11-09T08:27:23.680353Z",
     "start_time": "2021-11-09T08:27:23.666420Z"
    }
   },
   "outputs": [
    {
     "name": "stdout",
     "output_type": "stream",
     "text": [
      "\n",
      " \t \r",
      " \\ ' \"\n"
     ]
    }
   ],
   "source": [
    "print(\"\\n \\t \\r \\\\ \\' \\\"\")"
   ]
  },
  {
   "cell_type": "code",
   "execution_count": 57,
   "id": "80452c81",
   "metadata": {
    "ExecuteTime": {
     "end_time": "2021-11-09T08:27:33.909318Z",
     "start_time": "2021-11-09T08:27:33.903334Z"
    }
   },
   "outputs": [
    {
     "name": "stdout",
     "output_type": "stream",
     "text": [
      "\\n \\t \\r \\\\ \\' \\\"\n"
     ]
    }
   ],
   "source": [
    "print(r\"\\n \\t \\r \\\\ \\' \\\"\")"
   ]
  },
  {
   "cell_type": "code",
   "execution_count": 59,
   "id": "317a9ef4",
   "metadata": {
    "ExecuteTime": {
     "end_time": "2021-11-09T08:32:40.874005Z",
     "start_time": "2021-11-09T08:32:40.864031Z"
    }
   },
   "outputs": [
    {
     "name": "stdout",
     "output_type": "stream",
     "text": [
      "['010-2345-6789', '010-1111-1111']\n"
     ]
    }
   ],
   "source": [
    "import re\n",
    "data = \"이름:홍길동, 주소:서울시, 전화번호:010-2345-6789, 010-1111-1111, 특징:동해번쩍서해번쩍\"\n",
    "phone_pattern = r'[\\d]{3,4}-[\\d]{4}-[\\d]{4}'\n",
    "phone = re.findall(phone_pattern, data)\n",
    "print(phone)"
   ]
  }
 ],
 "metadata": {
  "kernelspec": {
   "display_name": "saltlux_lecture",
   "language": "python",
   "name": "saltlux_lecture"
  },
  "language_info": {
   "codemirror_mode": {
    "name": "ipython",
    "version": 3
   },
   "file_extension": ".py",
   "mimetype": "text/x-python",
   "name": "python",
   "nbconvert_exporter": "python",
   "pygments_lexer": "ipython3",
   "version": "3.9.7"
  },
  "toc": {
   "base_numbering": 1,
   "nav_menu": {},
   "number_sections": true,
   "sideBar": true,
   "skip_h1_title": false,
   "title_cell": "Table of Contents",
   "title_sidebar": "Contents",
   "toc_cell": false,
   "toc_position": {
    "height": "calc(100% - 180px)",
    "left": "10px",
    "top": "150px",
    "width": "184px"
   },
   "toc_section_display": true,
   "toc_window_display": true
  }
 },
 "nbformat": 4,
 "nbformat_minor": 5
}
