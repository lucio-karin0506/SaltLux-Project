{
 "cells": [
  {
   "cell_type": "markdown",
   "id": "5b82ee55",
   "metadata": {},
   "source": [
    "## 1절 변수"
   ]
  },
  {
   "cell_type": "code",
   "execution_count": 1,
   "id": "651c8a43",
   "metadata": {
    "ExecuteTime": {
     "end_time": "2021-11-09T03:38:18.704966Z",
     "start_time": "2021-11-09T03:38:18.687166Z"
    }
   },
   "outputs": [
    {
     "name": "stdout",
     "output_type": "stream",
     "text": [
      "78.5\n"
     ]
    }
   ],
   "source": [
    "print(5 * 5 * 3.14)"
   ]
  },
  {
   "cell_type": "code",
   "execution_count": 2,
   "id": "cc28a57b",
   "metadata": {
    "ExecuteTime": {
     "end_time": "2021-11-09T03:38:21.053743Z",
     "start_time": "2021-11-09T03:38:21.040778Z"
    }
   },
   "outputs": [
    {
     "name": "stdout",
     "output_type": "stream",
     "text": [
      "hello world\n"
     ]
    }
   ],
   "source": [
    "print(\"hello world\")"
   ]
  },
  {
   "cell_type": "code",
   "execution_count": 3,
   "id": "456780e2",
   "metadata": {
    "ExecuteTime": {
     "end_time": "2021-11-09T03:38:30.918263Z",
     "start_time": "2021-11-09T03:38:30.906296Z"
    }
   },
   "outputs": [
    {
     "data": {
      "text/plain": [
       "'the python'"
      ]
     },
     "execution_count": 3,
     "metadata": {},
     "output_type": "execute_result"
    }
   ],
   "source": [
    "my_favorite_book = \"the python\"\n",
    "my_favorite_book"
   ]
  },
  {
   "cell_type": "code",
   "execution_count": 4,
   "id": "4c4f248b",
   "metadata": {
    "ExecuteTime": {
     "end_time": "2021-11-09T03:39:11.031689Z",
     "start_time": "2021-11-09T03:39:11.026701Z"
    }
   },
   "outputs": [
    {
     "data": {
      "text/plain": [
       "'the python2'"
      ]
     },
     "execution_count": 4,
     "metadata": {},
     "output_type": "execute_result"
    }
   ],
   "source": [
    "my_favorite_book = \"the python2\"\n",
    "my_favorite_book"
   ]
  },
  {
   "cell_type": "code",
   "execution_count": 5,
   "id": "bbc5a3ce",
   "metadata": {
    "ExecuteTime": {
     "end_time": "2021-11-09T05:11:02.910201Z",
     "start_time": "2021-11-09T05:11:02.900251Z"
    }
   },
   "outputs": [
    {
     "name": "stdout",
     "output_type": "stream",
     "text": [
      "10\n"
     ]
    }
   ],
   "source": [
    "a = 10\n",
    "print(a)"
   ]
  },
  {
   "cell_type": "code",
   "execution_count": 10,
   "id": "fc4dff93",
   "metadata": {
    "ExecuteTime": {
     "end_time": "2021-11-09T05:21:26.661318Z",
     "start_time": "2021-11-09T05:21:26.653330Z"
    }
   },
   "outputs": [
    {
     "name": "stdout",
     "output_type": "stream",
     "text": [
      "100\n",
      "1929967392208\n"
     ]
    }
   ],
   "source": [
    "x = 100\n",
    "print(x)\n",
    "print(id(x))"
   ]
  },
  {
   "cell_type": "code",
   "execution_count": 17,
   "id": "d573ef23",
   "metadata": {
    "ExecuteTime": {
     "end_time": "2021-11-09T05:25:34.312055Z",
     "start_time": "2021-11-09T05:25:34.300087Z"
    }
   },
   "outputs": [
    {
     "name": "stdout",
     "output_type": "stream",
     "text": [
      "30\n",
      "10 20\n"
     ]
    }
   ],
   "source": [
    "a = 10\n",
    "b = 20\n",
    "print(a + b)\n",
    "# print(str(a) + \" \" + str(b))\n",
    "print(a, b)"
   ]
  },
  {
   "cell_type": "code",
   "execution_count": 19,
   "id": "c8d26cea",
   "metadata": {
    "ExecuteTime": {
     "end_time": "2021-11-09T05:25:44.134506Z",
     "start_time": "2021-11-09T05:25:44.126527Z"
    }
   },
   "outputs": [
    {
     "name": "stdout",
     "output_type": "stream",
     "text": [
      "Variable           Type    Data/Info\n",
      "------------------------------------\n",
      "a                  int     10\n",
      "b                  int     20\n",
      "my_favorite_book   str     the python2\n",
      "x                  int     100\n"
     ]
    }
   ],
   "source": [
    "whos"
   ]
  },
  {
   "cell_type": "code",
   "execution_count": 22,
   "id": "46a9594e",
   "metadata": {
    "ExecuteTime": {
     "end_time": "2021-11-09T05:28:03.772013Z",
     "start_time": "2021-11-09T05:28:03.765026Z"
    }
   },
   "outputs": [
    {
     "name": "stdout",
     "output_type": "stream",
     "text": [
      "In\n",
      "Out\n",
      "a\n",
      "b\n",
      "exit\n",
      "get_ipython\n",
      "my_favorite_book\n",
      "name\n",
      "quit\n",
      "x\n"
     ]
    }
   ],
   "source": [
    "for name in dir():\n",
    "    if not name.startswith('_'):\n",
    "        print(name)"
   ]
  },
  {
   "cell_type": "code",
   "execution_count": 26,
   "id": "6748d743",
   "metadata": {
    "ExecuteTime": {
     "end_time": "2021-11-09T05:29:13.887220Z",
     "start_time": "2021-11-09T05:29:13.869268Z"
    }
   },
   "outputs": [
    {
     "name": "stdout",
     "output_type": "stream",
     "text": [
      "10 20\n",
      "Variable           Type    Data/Info\n",
      "------------------------------------\n",
      "a                  int     10\n",
      "b                  int     20\n",
      "my_favorite_book   str     the python2\n",
      "name               str     x\n",
      "x                  int     100\n"
     ]
    }
   ],
   "source": [
    "# 다중 변수 선언\n",
    "a, b = 10, 20\n",
    "print(a, b)\n",
    "%whos"
   ]
  },
  {
   "cell_type": "code",
   "execution_count": 29,
   "id": "966358b3",
   "metadata": {
    "ExecuteTime": {
     "end_time": "2021-11-09T05:32:36.549321Z",
     "start_time": "2021-11-09T05:32:36.532365Z"
    }
   },
   "outputs": [
    {
     "name": "stdout",
     "output_type": "stream",
     "text": [
      "20 40\n"
     ]
    }
   ],
   "source": [
    "a = 10\n",
    "b = 20\n",
    "a = b\n",
    "b = a+b\n",
    "print(a, b)"
   ]
  },
  {
   "cell_type": "code",
   "execution_count": 30,
   "id": "c438e606",
   "metadata": {
    "ExecuteTime": {
     "end_time": "2021-11-09T05:32:39.887134Z",
     "start_time": "2021-11-09T05:32:39.869183Z"
    }
   },
   "outputs": [
    {
     "name": "stdout",
     "output_type": "stream",
     "text": [
      "20 30\n"
     ]
    }
   ],
   "source": [
    "a = 10\n",
    "b = 20\n",
    "a, b = b, a+b # 동시 실행 시 연산에 바뀐 변수 바로 적용 안됨\n",
    "print(a, b)"
   ]
  },
  {
   "cell_type": "code",
   "execution_count": 32,
   "id": "7761a0fd",
   "metadata": {
    "ExecuteTime": {
     "end_time": "2021-11-09T05:37:54.498996Z",
     "start_time": "2021-11-09T05:37:54.490020Z"
    }
   },
   "outputs": [
    {
     "name": "stdout",
     "output_type": "stream",
     "text": [
      "20 30\n"
     ]
    }
   ],
   "source": [
    "# 다중할당\n",
    "a, b = b, a\n",
    "print(a, b)"
   ]
  },
  {
   "cell_type": "markdown",
   "id": "575795b9",
   "metadata": {},
   "source": [
    "## 2절 화면입출력"
   ]
  },
  {
   "cell_type": "code",
   "execution_count": 35,
   "id": "a6b10293",
   "metadata": {
    "ExecuteTime": {
     "end_time": "2021-11-09T06:28:04.665092Z",
     "start_time": "2021-11-09T06:28:03.106980Z"
    }
   },
   "outputs": [
    {
     "name": "stdout",
     "output_type": "stream",
     "text": [
      "prompt_msg: a\n",
      "a\n"
     ]
    }
   ],
   "source": [
    "read_msg = input('prompt_msg: ')\n",
    "print(read_msg)"
   ]
  },
  {
   "cell_type": "code",
   "execution_count": 36,
   "id": "c47c1a24",
   "metadata": {
    "ExecuteTime": {
     "end_time": "2021-11-09T06:32:24.566736Z",
     "start_time": "2021-11-09T06:32:24.548596Z"
    }
   },
   "outputs": [
    {
     "name": "stdout",
     "output_type": "stream",
     "text": [
      "hello\tworld\n",
      "python\n"
     ]
    }
   ],
   "source": [
    "print('hello', end='\\t')\n",
    "print('world')\n",
    "print('python')"
   ]
  }
 ],
 "metadata": {
  "kernelspec": {
   "display_name": "saltlux_lecture",
   "language": "python",
   "name": "saltlux_lecture"
  },
  "language_info": {
   "codemirror_mode": {
    "name": "ipython",
    "version": 3
   },
   "file_extension": ".py",
   "mimetype": "text/x-python",
   "name": "python",
   "nbconvert_exporter": "python",
   "pygments_lexer": "ipython3",
   "version": "3.9.7"
  },
  "toc": {
   "base_numbering": 1,
   "nav_menu": {},
   "number_sections": true,
   "sideBar": true,
   "skip_h1_title": false,
   "title_cell": "Table of Contents",
   "title_sidebar": "Contents",
   "toc_cell": false,
   "toc_position": {
    "height": "calc(100% - 180px)",
    "left": "10px",
    "top": "150px",
    "width": "184px"
   },
   "toc_section_display": true,
   "toc_window_display": true
  }
 },
 "nbformat": 4,
 "nbformat_minor": 5
}
