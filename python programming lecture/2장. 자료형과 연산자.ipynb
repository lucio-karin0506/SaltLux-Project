{
 "cells": [
  {
   "cell_type": "markdown",
   "id": "510e917e",
   "metadata": {},
   "source": [
    "## 1절 변수"
   ]
  },
  {
   "cell_type": "code",
   "execution_count": 1,
   "id": "e007ee9c",
   "metadata": {
    "ExecuteTime": {
     "end_time": "2021-11-10T01:27:10.965466Z",
     "start_time": "2021-11-10T01:27:10.942885Z"
    }
   },
   "outputs": [
    {
     "name": "stdout",
     "output_type": "stream",
     "text": [
      "78.5\n"
     ]
    }
   ],
   "source": [
    "print(5 * 5 * 3.14)"
   ]
  },
  {
   "cell_type": "code",
   "execution_count": 2,
   "id": "7aea902b",
   "metadata": {
    "ExecuteTime": {
     "end_time": "2021-11-10T01:27:10.980483Z",
     "start_time": "2021-11-10T01:27:10.969784Z"
    }
   },
   "outputs": [
    {
     "name": "stdout",
     "output_type": "stream",
     "text": [
      "hello world\n"
     ]
    }
   ],
   "source": [
    "print(\"hello world\")"
   ]
  },
  {
   "cell_type": "code",
   "execution_count": 3,
   "id": "ed0a744e",
   "metadata": {
    "ExecuteTime": {
     "end_time": "2021-11-10T01:27:11.010350Z",
     "start_time": "2021-11-10T01:27:10.983786Z"
    }
   },
   "outputs": [
    {
     "data": {
      "text/plain": [
       "'the python'"
      ]
     },
     "execution_count": 3,
     "metadata": {},
     "output_type": "execute_result"
    }
   ],
   "source": [
    "my_favorite_book = \"the python\"\n",
    "my_favorite_book"
   ]
  },
  {
   "cell_type": "code",
   "execution_count": 4,
   "id": "4f3c09b2",
   "metadata": {
    "ExecuteTime": {
     "end_time": "2021-11-10T01:27:11.026036Z",
     "start_time": "2021-11-10T01:27:11.013358Z"
    }
   },
   "outputs": [
    {
     "data": {
      "text/plain": [
       "'the python2'"
      ]
     },
     "execution_count": 4,
     "metadata": {},
     "output_type": "execute_result"
    }
   ],
   "source": [
    "my_favorite_book = \"the python2\"\n",
    "my_favorite_book"
   ]
  },
  {
   "cell_type": "code",
   "execution_count": 5,
   "id": "601dfaad",
   "metadata": {
    "ExecuteTime": {
     "end_time": "2021-11-10T01:27:11.041784Z",
     "start_time": "2021-11-10T01:27:11.029688Z"
    }
   },
   "outputs": [
    {
     "name": "stdout",
     "output_type": "stream",
     "text": [
      "10\n"
     ]
    }
   ],
   "source": [
    "a = 10\n",
    "print(a)"
   ]
  },
  {
   "cell_type": "code",
   "execution_count": 6,
   "id": "1e2e2ca5",
   "metadata": {
    "ExecuteTime": {
     "end_time": "2021-11-10T01:27:11.057120Z",
     "start_time": "2021-11-10T01:27:11.044221Z"
    }
   },
   "outputs": [
    {
     "name": "stdout",
     "output_type": "stream",
     "text": [
      "100\n",
      "2281601324496\n"
     ]
    }
   ],
   "source": [
    "x = 100\n",
    "print(x)\n",
    "print(id(x))"
   ]
  },
  {
   "cell_type": "code",
   "execution_count": 7,
   "id": "bcc3ec4f",
   "metadata": {
    "ExecuteTime": {
     "end_time": "2021-11-10T01:27:11.072213Z",
     "start_time": "2021-11-10T01:27:11.060088Z"
    }
   },
   "outputs": [
    {
     "name": "stdout",
     "output_type": "stream",
     "text": [
      "30\n",
      "10 20\n"
     ]
    }
   ],
   "source": [
    "a = 10\n",
    "b = 20\n",
    "print(a + b)\n",
    "# print(str(a) + \" \" + str(b))\n",
    "print(a, b)"
   ]
  },
  {
   "cell_type": "code",
   "execution_count": 8,
   "id": "c3c920f4",
   "metadata": {
    "ExecuteTime": {
     "end_time": "2021-11-10T01:27:11.087431Z",
     "start_time": "2021-11-10T01:27:11.075602Z"
    }
   },
   "outputs": [
    {
     "name": "stdout",
     "output_type": "stream",
     "text": [
      "Variable           Type    Data/Info\n",
      "------------------------------------\n",
      "a                  int     10\n",
      "b                  int     20\n",
      "my_favorite_book   str     the python2\n",
      "x                  int     100\n"
     ]
    }
   ],
   "source": [
    "whos"
   ]
  },
  {
   "cell_type": "code",
   "execution_count": 9,
   "id": "6a1a1e27",
   "metadata": {
    "ExecuteTime": {
     "end_time": "2021-11-10T01:27:11.116993Z",
     "start_time": "2021-11-10T01:27:11.091996Z"
    }
   },
   "outputs": [
    {
     "name": "stdout",
     "output_type": "stream",
     "text": [
      "In\n",
      "Out\n",
      "a\n",
      "b\n",
      "exit\n",
      "get_ipython\n",
      "my_favorite_book\n",
      "quit\n",
      "x\n"
     ]
    }
   ],
   "source": [
    "for name in dir():\n",
    "    if not name.startswith('_'):\n",
    "        print(name)"
   ]
  },
  {
   "cell_type": "code",
   "execution_count": 10,
   "id": "a5545f45",
   "metadata": {
    "ExecuteTime": {
     "end_time": "2021-11-10T01:27:11.131778Z",
     "start_time": "2021-11-10T01:27:11.119976Z"
    }
   },
   "outputs": [
    {
     "name": "stdout",
     "output_type": "stream",
     "text": [
      "10 20\n",
      "Variable           Type    Data/Info\n",
      "------------------------------------\n",
      "a                  int     10\n",
      "b                  int     20\n",
      "my_favorite_book   str     the python2\n",
      "name               str     x\n",
      "x                  int     100\n"
     ]
    }
   ],
   "source": [
    "# 다중 변수 선언\n",
    "a, b = 10, 20\n",
    "print(a, b)\n",
    "%whos"
   ]
  },
  {
   "cell_type": "code",
   "execution_count": 11,
   "id": "2514ec97",
   "metadata": {
    "ExecuteTime": {
     "end_time": "2021-11-10T01:27:11.146405Z",
     "start_time": "2021-11-10T01:27:11.135155Z"
    }
   },
   "outputs": [
    {
     "name": "stdout",
     "output_type": "stream",
     "text": [
      "20 40\n"
     ]
    }
   ],
   "source": [
    "a = 10\n",
    "b = 20\n",
    "a = b\n",
    "b = a+b\n",
    "print(a, b)"
   ]
  },
  {
   "cell_type": "code",
   "execution_count": 12,
   "id": "85a015d1",
   "metadata": {
    "ExecuteTime": {
     "end_time": "2021-11-10T01:27:11.161500Z",
     "start_time": "2021-11-10T01:27:11.149937Z"
    }
   },
   "outputs": [
    {
     "name": "stdout",
     "output_type": "stream",
     "text": [
      "20 30\n"
     ]
    }
   ],
   "source": [
    "a = 10\n",
    "b = 20\n",
    "a, b = b, a+b # 동시 실행 시 연산에 바뀐 변수 바로 적용 안됨\n",
    "print(a, b)"
   ]
  },
  {
   "cell_type": "code",
   "execution_count": 13,
   "id": "2adf3b49",
   "metadata": {
    "ExecuteTime": {
     "end_time": "2021-11-10T01:27:11.177179Z",
     "start_time": "2021-11-10T01:27:11.165399Z"
    }
   },
   "outputs": [
    {
     "name": "stdout",
     "output_type": "stream",
     "text": [
      "30 20\n"
     ]
    }
   ],
   "source": [
    "# 다중할당\n",
    "a, b = b, a\n",
    "print(a, b)"
   ]
  },
  {
   "cell_type": "markdown",
   "id": "def7a9e1",
   "metadata": {},
   "source": [
    "## 2절 화면입출력"
   ]
  },
  {
   "cell_type": "code",
   "execution_count": 14,
   "id": "8b0a15ee",
   "metadata": {
    "ExecuteTime": {
     "end_time": "2021-11-10T01:27:17.026653Z",
     "start_time": "2021-11-10T01:27:11.183989Z"
    }
   },
   "outputs": [
    {
     "name": "stdout",
     "output_type": "stream",
     "text": [
      "prompt_msg: 3\n",
      "3\n"
     ]
    }
   ],
   "source": [
    "read_msg = input('prompt_msg: ')\n",
    "print(read_msg)"
   ]
  },
  {
   "cell_type": "code",
   "execution_count": 15,
   "id": "b009ed3f",
   "metadata": {
    "ExecuteTime": {
     "end_time": "2021-11-10T01:27:17.042096Z",
     "start_time": "2021-11-10T01:27:17.032167Z"
    }
   },
   "outputs": [
    {
     "name": "stdout",
     "output_type": "stream",
     "text": [
      "hello\tworld\n",
      "python\n"
     ]
    }
   ],
   "source": [
    "print('hello', end='\\t')\n",
    "print('world')\n",
    "print('python')"
   ]
  },
  {
   "cell_type": "markdown",
   "id": "c25aa52c",
   "metadata": {},
   "source": [
    "## 3절 기본 자료형"
   ]
  },
  {
   "cell_type": "code",
   "execution_count": 16,
   "id": "437c304e",
   "metadata": {
    "ExecuteTime": {
     "end_time": "2021-11-10T01:27:17.057413Z",
     "start_time": "2021-11-10T01:27:17.046154Z"
    }
   },
   "outputs": [
    {
     "data": {
      "text/plain": [
       "9223372036854775807"
      ]
     },
     "execution_count": 16,
     "metadata": {},
     "output_type": "execute_result"
    }
   ],
   "source": [
    "import sys\n",
    "sys.maxsize"
   ]
  },
  {
   "cell_type": "code",
   "execution_count": 17,
   "id": "da20c6e4",
   "metadata": {
    "ExecuteTime": {
     "end_time": "2021-11-10T01:27:17.073024Z",
     "start_time": "2021-11-10T01:27:17.061688Z"
    }
   },
   "outputs": [
    {
     "data": {
      "text/plain": [
       "int"
      ]
     },
     "execution_count": 17,
     "metadata": {},
     "output_type": "execute_result"
    }
   ],
   "source": [
    "type(sys.maxsize)\n",
    "type(2**31)"
   ]
  },
  {
   "cell_type": "code",
   "execution_count": 18,
   "id": "41268ba2",
   "metadata": {
    "ExecuteTime": {
     "end_time": "2021-11-10T01:27:17.088463Z",
     "start_time": "2021-11-10T01:27:17.076501Z"
    }
   },
   "outputs": [
    {
     "data": {
      "text/plain": [
       "1.5"
      ]
     },
     "execution_count": 18,
     "metadata": {},
     "output_type": "execute_result"
    }
   ],
   "source": [
    "a = 3/2\n",
    "a"
   ]
  },
  {
   "cell_type": "code",
   "execution_count": 19,
   "id": "1f9ba340",
   "metadata": {
    "ExecuteTime": {
     "end_time": "2021-11-10T01:27:17.104261Z",
     "start_time": "2021-11-10T01:27:17.092043Z"
    }
   },
   "outputs": [
    {
     "data": {
      "text/plain": [
       "1234.56"
      ]
     },
     "execution_count": 19,
     "metadata": {},
     "output_type": "execute_result"
    }
   ],
   "source": [
    "1.23456e3"
   ]
  },
  {
   "cell_type": "code",
   "execution_count": 20,
   "id": "7d1e66e5",
   "metadata": {
    "ExecuteTime": {
     "end_time": "2021-11-10T01:27:17.120180Z",
     "start_time": "2021-11-10T01:27:17.107242Z"
    }
   },
   "outputs": [
    {
     "data": {
      "text/plain": [
       "complex"
      ]
     },
     "execution_count": 20,
     "metadata": {},
     "output_type": "execute_result"
    }
   ],
   "source": [
    "d = 3+2j\n",
    "type(d)"
   ]
  },
  {
   "cell_type": "code",
   "execution_count": 21,
   "id": "a5f56047",
   "metadata": {
    "ExecuteTime": {
     "end_time": "2021-11-10T01:27:17.135756Z",
     "start_time": "2021-11-10T01:27:17.124599Z"
    }
   },
   "outputs": [
    {
     "name": "stdout",
     "output_type": "stream",
     "text": [
      "(-1+0j)\n"
     ]
    }
   ],
   "source": [
    "d = 1j\n",
    "print(d**2)"
   ]
  },
  {
   "cell_type": "code",
   "execution_count": 22,
   "id": "d8e6fad0",
   "metadata": {
    "ExecuteTime": {
     "end_time": "2021-11-10T01:27:17.165581Z",
     "start_time": "2021-11-10T01:27:17.145513Z"
    }
   },
   "outputs": [
    {
     "data": {
      "text/plain": [
       "30"
      ]
     },
     "execution_count": 22,
     "metadata": {},
     "output_type": "execute_result"
    }
   ],
   "source": [
    "a = 10\n",
    "b = 20\n",
    "a + b"
   ]
  },
  {
   "cell_type": "code",
   "execution_count": 23,
   "id": "43f3f619",
   "metadata": {
    "ExecuteTime": {
     "end_time": "2021-11-10T01:27:17.181067Z",
     "start_time": "2021-11-10T01:27:17.170971Z"
    }
   },
   "outputs": [
    {
     "data": {
      "text/plain": [
       "30"
      ]
     },
     "execution_count": 23,
     "metadata": {},
     "output_type": "execute_result"
    }
   ],
   "source": [
    "# 현재 값 출력\n",
    "_"
   ]
  },
  {
   "cell_type": "code",
   "execution_count": 24,
   "id": "397ac3a1",
   "metadata": {
    "ExecuteTime": {
     "end_time": "2021-11-10T01:27:17.212192Z",
     "start_time": "2021-11-10T01:27:17.188815Z"
    }
   },
   "outputs": [
    {
     "data": {
      "text/plain": [
       "'p'"
      ]
     },
     "execution_count": 24,
     "metadata": {},
     "output_type": "execute_result"
    }
   ],
   "source": [
    "# string index parsing\n",
    "name = 'python'\n",
    "name[0]"
   ]
  },
  {
   "cell_type": "code",
   "execution_count": 25,
   "id": "3d8eeda7",
   "metadata": {
    "ExecuteTime": {
     "end_time": "2021-11-10T01:27:17.228153Z",
     "start_time": "2021-11-10T01:27:17.219201Z"
    }
   },
   "outputs": [
    {
     "data": {
      "text/plain": [
       "'pyt'"
      ]
     },
     "execution_count": 25,
     "metadata": {},
     "output_type": "execute_result"
    }
   ],
   "source": [
    "name[0:3]"
   ]
  },
  {
   "cell_type": "code",
   "execution_count": 26,
   "id": "2a2105d6",
   "metadata": {
    "ExecuteTime": {
     "end_time": "2021-11-10T01:27:17.257647Z",
     "start_time": "2021-11-10T01:27:17.234356Z"
    }
   },
   "outputs": [
    {
     "name": "stdout",
     "output_type": "stream",
     "text": [
      "\n",
      " \t \r",
      " \\ ' \"\n"
     ]
    }
   ],
   "source": [
    "print(\"\\n \\t \\r \\\\ \\' \\\"\")"
   ]
  },
  {
   "cell_type": "code",
   "execution_count": 27,
   "id": "d6c51416",
   "metadata": {
    "ExecuteTime": {
     "end_time": "2021-11-10T01:27:17.273044Z",
     "start_time": "2021-11-10T01:27:17.265776Z"
    }
   },
   "outputs": [
    {
     "name": "stdout",
     "output_type": "stream",
     "text": [
      "\\n \\t \\r \\\\ \\' \\\"\n"
     ]
    }
   ],
   "source": [
    "print(r\"\\n \\t \\r \\\\ \\' \\\"\")"
   ]
  },
  {
   "cell_type": "code",
   "execution_count": 28,
   "id": "2839d563",
   "metadata": {
    "ExecuteTime": {
     "end_time": "2021-11-10T01:27:17.288240Z",
     "start_time": "2021-11-10T01:27:17.276638Z"
    }
   },
   "outputs": [
    {
     "name": "stdout",
     "output_type": "stream",
     "text": [
      "['010-2345-6789', '010-1111-1111']\n"
     ]
    }
   ],
   "source": [
    "import re\n",
    "data = \"이름:홍길동, 주소:서울시, 전화번호:010-2345-6789, 010-1111-1111, 특징:동해번쩍서해번쩍\"\n",
    "phone_pattern = r'[\\d]{3,4}-[\\d]{4}-[\\d]{4}'\n",
    "phone = re.findall(phone_pattern, data)\n",
    "print(phone)"
   ]
  },
  {
   "cell_type": "code",
   "execution_count": 29,
   "id": "4df2b286",
   "metadata": {
    "ExecuteTime": {
     "end_time": "2021-11-10T01:27:49.689377Z",
     "start_time": "2021-11-10T01:27:49.671896Z"
    }
   },
   "outputs": [
    {
     "data": {
      "text/plain": [
       "'Hiworld'"
      ]
     },
     "execution_count": 29,
     "metadata": {},
     "output_type": "execute_result"
    }
   ],
   "source": [
    "\"hiworld\".capitalize()"
   ]
  },
  {
   "cell_type": "code",
   "execution_count": 30,
   "id": "29e2b8da",
   "metadata": {
    "ExecuteTime": {
     "end_time": "2021-11-10T01:28:17.402557Z",
     "start_time": "2021-11-10T01:28:17.378243Z"
    },
    "scrolled": false
   },
   "outputs": [
    {
     "data": {
      "text/plain": [
       "-1"
      ]
     },
     "execution_count": 30,
     "metadata": {},
     "output_type": "execute_result"
    }
   ],
   "source": [
    "\"hiworld\".find('z')"
   ]
  },
  {
   "cell_type": "code",
   "execution_count": 32,
   "id": "9b39a10f",
   "metadata": {
    "ExecuteTime": {
     "end_time": "2021-11-10T01:31:27.343522Z",
     "start_time": "2021-11-10T01:31:27.330714Z"
    }
   },
   "outputs": [
    {
     "data": {
      "text/plain": [
       "True"
      ]
     },
     "execution_count": 32,
     "metadata": {},
     "output_type": "execute_result"
    }
   ],
   "source": [
    "# true\n",
    "# tRUE\n",
    "# TRUE\n",
    "# \"TRUE\"\n",
    "True"
   ]
  },
  {
   "cell_type": "code",
   "execution_count": 33,
   "id": "d0d4f291",
   "metadata": {
    "ExecuteTime": {
     "end_time": "2021-11-10T01:39:44.276325Z",
     "start_time": "2021-11-10T01:39:44.260442Z"
    }
   },
   "outputs": [
    {
     "name": "stdout",
     "output_type": "stream",
     "text": [
      "False\n"
     ]
    }
   ],
   "source": [
    "if \"\": #None, 0, 0.0, 0+0j\n",
    "    print(True)\n",
    "else:\n",
    "    print(False)"
   ]
  },
  {
   "cell_type": "markdown",
   "id": "4ec18d20",
   "metadata": {},
   "source": [
    "## 4절 출력 형식 지정"
   ]
  },
  {
   "cell_type": "code",
   "execution_count": 36,
   "id": "3fdf1b5b",
   "metadata": {
    "ExecuteTime": {
     "end_time": "2021-11-10T04:44:55.085493Z",
     "start_time": "2021-11-10T04:44:55.065787Z"
    }
   },
   "outputs": [
    {
     "name": "stdout",
     "output_type": "stream",
     "text": [
      "홍길동's age is 20\n"
     ]
    }
   ],
   "source": [
    "name, age = '홍길동', 20\n",
    "print(name, \"'s age is \", age, sep='')"
   ]
  },
  {
   "cell_type": "code",
   "execution_count": 40,
   "id": "a3973822",
   "metadata": {
    "ExecuteTime": {
     "end_time": "2021-11-10T04:46:36.174430Z",
     "start_time": "2021-11-10T04:46:36.154466Z"
    }
   },
   "outputs": [
    {
     "name": "stdout",
     "output_type": "stream",
     "text": [
      "홍길동, 20\n",
      "홍길동, 20\n",
      "홍길동, 20\n"
     ]
    }
   ],
   "source": [
    "print(\"%s, %d\"%(name, age))\n",
    "print(\"{}, {}\".format(name, age))\n",
    "print(f\"{name}, {age}\")"
   ]
  },
  {
   "cell_type": "code",
   "execution_count": 41,
   "id": "84ea9233",
   "metadata": {
    "ExecuteTime": {
     "end_time": "2021-11-10T04:48:53.698575Z",
     "start_time": "2021-11-10T04:48:53.678629Z"
    },
    "scrolled": true
   },
   "outputs": [
    {
     "name": "stdout",
     "output_type": "stream",
     "text": [
      "10, 20, 30\n",
      "30, 10, 20\n"
     ]
    }
   ],
   "source": [
    "a, b, c = 10, 20, 30\n",
    "print('{}, {}, {}'.format(a, b, c))\n",
    "print('{2}, {0}, {1}'.format(a, b, c))"
   ]
  },
  {
   "cell_type": "code",
   "execution_count": 43,
   "id": "502ed569",
   "metadata": {
    "ExecuteTime": {
     "end_time": "2021-11-10T04:54:02.330526Z",
     "start_time": "2021-11-10T04:54:02.317805Z"
    }
   },
   "outputs": [
    {
     "name": "stdout",
     "output_type": "stream",
     "text": [
      "[12345], [     12345], [12345]\n",
      "[12345], [12345.000000], [11000000111001], [30071], [3039]\n"
     ]
    }
   ],
   "source": [
    "a = 12345\n",
    "print('[{}], [{:10}], [{:3}]'.format(a, a, a))\n",
    "print('[{:d}], [{:f}], [{:b}], [{:o}], [{:x}]'.format(a, a, a, a, a))"
   ]
  },
  {
   "cell_type": "code",
   "execution_count": 44,
   "id": "8ef4eb46",
   "metadata": {
    "ExecuteTime": {
     "end_time": "2021-11-10T04:56:52.074677Z",
     "start_time": "2021-11-10T04:56:52.063926Z"
    }
   },
   "outputs": [
    {
     "name": "stdout",
     "output_type": "stream",
     "text": [
      "[12345.123456789], [12345.123457], [   12345.123457], [  12345.12], [    12345.1234567890]\n"
     ]
    }
   ],
   "source": [
    "a = 12345.123456789\n",
    "print('[{}], [{:f}], [{:15f}], [{:10.2f}], [{:20.10f}]'.format(a, a, a, a, a))"
   ]
  },
  {
   "cell_type": "code",
   "execution_count": 49,
   "id": "8c5b2e1b",
   "metadata": {
    "ExecuteTime": {
     "end_time": "2021-11-10T05:00:42.164698Z",
     "start_time": "2021-11-10T05:00:42.152825Z"
    }
   },
   "outputs": [
    {
     "name": "stdout",
     "output_type": "stream",
     "text": [
      "[Hello World], [Hello World], [Hello World         ], [Hello World]\n",
      "[Hello World], [Hello], [Hello     ]\n"
     ]
    }
   ],
   "source": [
    "str_ = \"Hello World\"\n",
    "print('[{}], [{:s}], [{:20}], [{:5}]'.format(str_, str_, str_, str_))\n",
    "print('[{}], [{:.5}], [{:10.5s}]'.format(str_, str_, str_))"
   ]
  },
  {
   "cell_type": "code",
   "execution_count": 50,
   "id": "8d381d6d",
   "metadata": {
    "ExecuteTime": {
     "end_time": "2021-11-10T05:04:06.040299Z",
     "start_time": "2021-11-10T05:04:06.025713Z"
    }
   },
   "outputs": [],
   "source": [
    "# 정렬 방법 지정\n",
    "# 공백 대체 문자\n",
    "# 매개 변수 갖는 format"
   ]
  },
  {
   "cell_type": "code",
   "execution_count": 51,
   "id": "613ea4a6",
   "metadata": {
    "ExecuteTime": {
     "end_time": "2021-11-10T05:06:12.236393Z",
     "start_time": "2021-11-10T05:06:12.226498Z"
    }
   },
   "outputs": [
    {
     "name": "stdout",
     "output_type": "stream",
     "text": [
      "2001-02-03 04:05\n"
     ]
    }
   ],
   "source": [
    "# 날짜 출력\n",
    "from datetime import datetime\n",
    "print('{:%Y-%m-%d %H:%M}'.format(datetime(2001, 2, 3, 4, 5)))"
   ]
  },
  {
   "cell_type": "code",
   "execution_count": 53,
   "id": "eb63147b",
   "metadata": {
    "ExecuteTime": {
     "end_time": "2021-11-10T05:06:35.030187Z",
     "start_time": "2021-11-10T05:06:35.007919Z"
    }
   },
   "outputs": [
    {
     "data": {
      "text/plain": [
       "time.struct_time(tm_year=2021, tm_mon=11, tm_mday=10, tm_hour=14, tm_min=6, tm_sec=35, tm_wday=2, tm_yday=314, tm_isdst=0)"
      ]
     },
     "execution_count": 53,
     "metadata": {},
     "output_type": "execute_result"
    }
   ],
   "source": [
    "from time import localtime\n",
    "now = localtime()\n",
    "now"
   ]
  },
  {
   "cell_type": "code",
   "execution_count": 54,
   "id": "b5ff70be",
   "metadata": {
    "ExecuteTime": {
     "end_time": "2021-11-10T05:06:58.069795Z",
     "start_time": "2021-11-10T05:06:58.057866Z"
    }
   },
   "outputs": [
    {
     "data": {
      "text/plain": [
       "'2021-11-10 14:06'"
      ]
     },
     "execution_count": 54,
     "metadata": {},
     "output_type": "execute_result"
    }
   ],
   "source": [
    "from time import strftime\n",
    "strftime('%Y-%m-%d %H:%M', now)"
   ]
  },
  {
   "cell_type": "code",
   "execution_count": 57,
   "id": "c24a905f",
   "metadata": {
    "ExecuteTime": {
     "end_time": "2021-11-10T07:54:04.337618Z",
     "start_time": "2021-11-10T07:54:04.306735Z"
    }
   },
   "outputs": [
    {
     "data": {
      "text/plain": [
       "datetime.datetime(2019, 3, 24, 0, 0)"
      ]
     },
     "execution_count": 57,
     "metadata": {},
     "output_type": "execute_result"
    }
   ],
   "source": [
    "date_object = datetime.strptime('24 March, 2019', '%d %B, %Y')\n",
    "date_object"
   ]
  },
  {
   "cell_type": "code",
   "execution_count": 61,
   "id": "37ef75ef",
   "metadata": {
    "ExecuteTime": {
     "end_time": "2021-11-10T07:54:47.355588Z",
     "start_time": "2021-11-10T07:54:47.345480Z"
    }
   },
   "outputs": [
    {
     "data": {
      "text/plain": [
       "False"
      ]
     },
     "execution_count": 61,
     "metadata": {},
     "output_type": "execute_result"
    }
   ],
   "source": [
    "isinstance(True, list)"
   ]
  }
 ],
 "metadata": {
  "kernelspec": {
   "display_name": "saltlux_lecture",
   "language": "python",
   "name": "saltlux_lecture"
  },
  "language_info": {
   "codemirror_mode": {
    "name": "ipython",
    "version": 3
   },
   "file_extension": ".py",
   "mimetype": "text/x-python",
   "name": "python",
   "nbconvert_exporter": "python",
   "pygments_lexer": "ipython3",
   "version": "3.9.7"
  },
  "toc": {
   "base_numbering": 1,
   "nav_menu": {},
   "number_sections": true,
   "sideBar": true,
   "skip_h1_title": false,
   "title_cell": "Table of Contents",
   "title_sidebar": "Contents",
   "toc_cell": false,
   "toc_position": {
    "height": "calc(100% - 180px)",
    "left": "10px",
    "top": "150px",
    "width": "165px"
   },
   "toc_section_display": true,
   "toc_window_display": true
  }
 },
 "nbformat": 4,
 "nbformat_minor": 5
}
