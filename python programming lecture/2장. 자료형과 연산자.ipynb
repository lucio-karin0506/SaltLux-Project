{
 "cells": [
  {
   "cell_type": "markdown",
   "id": "510e917e",
   "metadata": {},
   "source": [
    "## 1절 변수"
   ]
  },
  {
   "cell_type": "code",
   "execution_count": 1,
   "id": "e007ee9c",
   "metadata": {
    "ExecuteTime": {
     "end_time": "2021-11-11T00:17:48.724037Z",
     "start_time": "2021-11-11T00:17:48.699116Z"
    }
   },
   "outputs": [
    {
     "name": "stdout",
     "output_type": "stream",
     "text": [
      "78.5\n"
     ]
    }
   ],
   "source": [
    "print(5 * 5 * 3.14)"
   ]
  },
  {
   "cell_type": "code",
   "execution_count": 2,
   "id": "7aea902b",
   "metadata": {
    "ExecuteTime": {
     "end_time": "2021-11-11T00:17:48.739995Z",
     "start_time": "2021-11-11T00:17:48.726032Z"
    }
   },
   "outputs": [
    {
     "name": "stdout",
     "output_type": "stream",
     "text": [
      "hello world\n"
     ]
    }
   ],
   "source": [
    "print(\"hello world\")"
   ]
  },
  {
   "cell_type": "code",
   "execution_count": 3,
   "id": "ed0a744e",
   "metadata": {
    "ExecuteTime": {
     "end_time": "2021-11-11T00:17:48.755952Z",
     "start_time": "2021-11-11T00:17:48.741996Z"
    }
   },
   "outputs": [
    {
     "data": {
      "text/plain": [
       "'the python'"
      ]
     },
     "execution_count": 3,
     "metadata": {},
     "output_type": "execute_result"
    }
   ],
   "source": [
    "my_favorite_book = \"the python\"\n",
    "my_favorite_book"
   ]
  },
  {
   "cell_type": "code",
   "execution_count": 4,
   "id": "4f3c09b2",
   "metadata": {
    "ExecuteTime": {
     "end_time": "2021-11-11T00:17:48.771942Z",
     "start_time": "2021-11-11T00:17:48.757947Z"
    }
   },
   "outputs": [
    {
     "data": {
      "text/plain": [
       "'the python2'"
      ]
     },
     "execution_count": 4,
     "metadata": {},
     "output_type": "execute_result"
    }
   ],
   "source": [
    "my_favorite_book = \"the python2\"\n",
    "my_favorite_book"
   ]
  },
  {
   "cell_type": "code",
   "execution_count": 5,
   "id": "601dfaad",
   "metadata": {
    "ExecuteTime": {
     "end_time": "2021-11-11T00:17:48.787904Z",
     "start_time": "2021-11-11T00:17:48.772908Z"
    }
   },
   "outputs": [
    {
     "name": "stdout",
     "output_type": "stream",
     "text": [
      "10\n"
     ]
    }
   ],
   "source": [
    "a = 10\n",
    "print(a)"
   ]
  },
  {
   "cell_type": "code",
   "execution_count": 6,
   "id": "1e2e2ca5",
   "metadata": {
    "ExecuteTime": {
     "end_time": "2021-11-11T00:17:48.803852Z",
     "start_time": "2021-11-11T00:17:48.788865Z"
    }
   },
   "outputs": [
    {
     "name": "stdout",
     "output_type": "stream",
     "text": [
      "100\n",
      "2551527921104\n"
     ]
    }
   ],
   "source": [
    "x = 100\n",
    "print(x)\n",
    "print(id(x))"
   ]
  },
  {
   "cell_type": "code",
   "execution_count": 7,
   "id": "bcc3ec4f",
   "metadata": {
    "ExecuteTime": {
     "end_time": "2021-11-11T00:17:48.819781Z",
     "start_time": "2021-11-11T00:17:48.805818Z"
    }
   },
   "outputs": [
    {
     "name": "stdout",
     "output_type": "stream",
     "text": [
      "30\n",
      "10 20\n"
     ]
    }
   ],
   "source": [
    "a = 10\n",
    "b = 20\n",
    "print(a + b)\n",
    "# print(str(a) + \" \" + str(b))\n",
    "print(a, b)"
   ]
  },
  {
   "cell_type": "code",
   "execution_count": 8,
   "id": "c3c920f4",
   "metadata": {
    "ExecuteTime": {
     "end_time": "2021-11-11T00:17:48.835687Z",
     "start_time": "2021-11-11T00:17:48.820779Z"
    }
   },
   "outputs": [
    {
     "name": "stdout",
     "output_type": "stream",
     "text": [
      "Variable           Type    Data/Info\n",
      "------------------------------------\n",
      "a                  int     10\n",
      "b                  int     20\n",
      "my_favorite_book   str     the python2\n",
      "x                  int     100\n"
     ]
    }
   ],
   "source": [
    "whos"
   ]
  },
  {
   "cell_type": "code",
   "execution_count": 9,
   "id": "6a1a1e27",
   "metadata": {
    "ExecuteTime": {
     "end_time": "2021-11-11T00:17:48.851630Z",
     "start_time": "2021-11-11T00:17:48.837666Z"
    }
   },
   "outputs": [
    {
     "name": "stdout",
     "output_type": "stream",
     "text": [
      "In\n",
      "Out\n",
      "a\n",
      "b\n",
      "exit\n",
      "get_ipython\n",
      "my_favorite_book\n",
      "quit\n",
      "x\n"
     ]
    }
   ],
   "source": [
    "for name in dir():\n",
    "    if not name.startswith('_'):\n",
    "        print(name)"
   ]
  },
  {
   "cell_type": "code",
   "execution_count": 10,
   "id": "a5545f45",
   "metadata": {
    "ExecuteTime": {
     "end_time": "2021-11-11T00:17:48.867604Z",
     "start_time": "2021-11-11T00:17:48.854622Z"
    }
   },
   "outputs": [
    {
     "name": "stdout",
     "output_type": "stream",
     "text": [
      "10 20\n",
      "Variable           Type    Data/Info\n",
      "------------------------------------\n",
      "a                  int     10\n",
      "b                  int     20\n",
      "my_favorite_book   str     the python2\n",
      "name               str     x\n",
      "x                  int     100\n"
     ]
    }
   ],
   "source": [
    "# 다중 변수 선언\n",
    "a, b = 10, 20\n",
    "print(a, b)\n",
    "%whos"
   ]
  },
  {
   "cell_type": "code",
   "execution_count": 11,
   "id": "2514ec97",
   "metadata": {
    "ExecuteTime": {
     "end_time": "2021-11-11T00:17:48.883544Z",
     "start_time": "2021-11-11T00:17:48.869582Z"
    }
   },
   "outputs": [
    {
     "name": "stdout",
     "output_type": "stream",
     "text": [
      "20 40\n"
     ]
    }
   ],
   "source": [
    "a = 10\n",
    "b = 20\n",
    "a = b\n",
    "b = a+b\n",
    "print(a, b)"
   ]
  },
  {
   "cell_type": "code",
   "execution_count": 12,
   "id": "85a015d1",
   "metadata": {
    "ExecuteTime": {
     "end_time": "2021-11-11T00:17:48.899504Z",
     "start_time": "2021-11-11T00:17:48.884541Z"
    }
   },
   "outputs": [
    {
     "name": "stdout",
     "output_type": "stream",
     "text": [
      "20 30\n"
     ]
    }
   ],
   "source": [
    "a = 10\n",
    "b = 20\n",
    "a, b = b, a+b # 동시 실행 시 연산에 바뀐 변수 바로 적용 안됨\n",
    "print(a, b)"
   ]
  },
  {
   "cell_type": "code",
   "execution_count": 13,
   "id": "2adf3b49",
   "metadata": {
    "ExecuteTime": {
     "end_time": "2021-11-11T00:17:48.915458Z",
     "start_time": "2021-11-11T00:17:48.901500Z"
    }
   },
   "outputs": [
    {
     "name": "stdout",
     "output_type": "stream",
     "text": [
      "30 20\n"
     ]
    }
   ],
   "source": [
    "# 다중할당\n",
    "a, b = b, a\n",
    "print(a, b)"
   ]
  },
  {
   "cell_type": "markdown",
   "id": "def7a9e1",
   "metadata": {},
   "source": [
    "## 2절 화면입출력"
   ]
  },
  {
   "cell_type": "code",
   "execution_count": 14,
   "id": "8b0a15ee",
   "metadata": {
    "ExecuteTime": {
     "end_time": "2021-11-11T00:17:50.855260Z",
     "start_time": "2021-11-11T00:17:48.917454Z"
    }
   },
   "outputs": [
    {
     "name": "stdout",
     "output_type": "stream",
     "text": [
      "prompt_msg: 3\n",
      "3\n"
     ]
    }
   ],
   "source": [
    "read_msg = input('prompt_msg: ')\n",
    "print(read_msg)"
   ]
  },
  {
   "cell_type": "code",
   "execution_count": 15,
   "id": "b009ed3f",
   "metadata": {
    "ExecuteTime": {
     "end_time": "2021-11-11T00:17:50.871218Z",
     "start_time": "2021-11-11T00:17:50.857262Z"
    }
   },
   "outputs": [
    {
     "name": "stdout",
     "output_type": "stream",
     "text": [
      "hello\tworld\n",
      "python\n"
     ]
    }
   ],
   "source": [
    "print('hello', end='\\t')\n",
    "print('world')\n",
    "print('python')"
   ]
  },
  {
   "cell_type": "markdown",
   "id": "c25aa52c",
   "metadata": {},
   "source": [
    "## 3절 기본 자료형"
   ]
  },
  {
   "cell_type": "code",
   "execution_count": 16,
   "id": "437c304e",
   "metadata": {
    "ExecuteTime": {
     "end_time": "2021-11-11T00:17:50.887175Z",
     "start_time": "2021-11-11T00:17:50.874216Z"
    }
   },
   "outputs": [
    {
     "data": {
      "text/plain": [
       "9223372036854775807"
      ]
     },
     "execution_count": 16,
     "metadata": {},
     "output_type": "execute_result"
    }
   ],
   "source": [
    "import sys\n",
    "sys.maxsize"
   ]
  },
  {
   "cell_type": "code",
   "execution_count": 17,
   "id": "da20c6e4",
   "metadata": {
    "ExecuteTime": {
     "end_time": "2021-11-11T00:17:50.903159Z",
     "start_time": "2021-11-11T00:17:50.888172Z"
    }
   },
   "outputs": [
    {
     "data": {
      "text/plain": [
       "int"
      ]
     },
     "execution_count": 17,
     "metadata": {},
     "output_type": "execute_result"
    }
   ],
   "source": [
    "type(sys.maxsize)\n",
    "type(2**31)"
   ]
  },
  {
   "cell_type": "code",
   "execution_count": 18,
   "id": "41268ba2",
   "metadata": {
    "ExecuteTime": {
     "end_time": "2021-11-11T00:17:50.919120Z",
     "start_time": "2021-11-11T00:17:50.904128Z"
    }
   },
   "outputs": [
    {
     "data": {
      "text/plain": [
       "1.5"
      ]
     },
     "execution_count": 18,
     "metadata": {},
     "output_type": "execute_result"
    }
   ],
   "source": [
    "a = 3/2\n",
    "a"
   ]
  },
  {
   "cell_type": "code",
   "execution_count": 19,
   "id": "1f9ba340",
   "metadata": {
    "ExecuteTime": {
     "end_time": "2021-11-11T00:17:50.934076Z",
     "start_time": "2021-11-11T00:17:50.921101Z"
    }
   },
   "outputs": [
    {
     "data": {
      "text/plain": [
       "1234.56"
      ]
     },
     "execution_count": 19,
     "metadata": {},
     "output_type": "execute_result"
    }
   ],
   "source": [
    "1.23456e3"
   ]
  },
  {
   "cell_type": "code",
   "execution_count": 20,
   "id": "7d1e66e5",
   "metadata": {
    "ExecuteTime": {
     "end_time": "2021-11-11T00:17:50.949008Z",
     "start_time": "2021-11-11T00:17:50.935075Z"
    }
   },
   "outputs": [
    {
     "data": {
      "text/plain": [
       "complex"
      ]
     },
     "execution_count": 20,
     "metadata": {},
     "output_type": "execute_result"
    }
   ],
   "source": [
    "d = 3+2j\n",
    "type(d)"
   ]
  },
  {
   "cell_type": "code",
   "execution_count": 21,
   "id": "a5f56047",
   "metadata": {
    "ExecuteTime": {
     "end_time": "2021-11-11T00:17:50.963969Z",
     "start_time": "2021-11-11T00:17:50.951004Z"
    }
   },
   "outputs": [
    {
     "name": "stdout",
     "output_type": "stream",
     "text": [
      "(-1+0j)\n"
     ]
    }
   ],
   "source": [
    "d = 1j\n",
    "print(d**2)"
   ]
  },
  {
   "cell_type": "code",
   "execution_count": 22,
   "id": "d8e6fad0",
   "metadata": {
    "ExecuteTime": {
     "end_time": "2021-11-11T00:17:50.978929Z",
     "start_time": "2021-11-11T00:17:50.964975Z"
    }
   },
   "outputs": [
    {
     "data": {
      "text/plain": [
       "30"
      ]
     },
     "execution_count": 22,
     "metadata": {},
     "output_type": "execute_result"
    }
   ],
   "source": [
    "a = 10\n",
    "b = 20\n",
    "a + b"
   ]
  },
  {
   "cell_type": "code",
   "execution_count": 23,
   "id": "43f3f619",
   "metadata": {
    "ExecuteTime": {
     "end_time": "2021-11-11T00:17:50.994680Z",
     "start_time": "2021-11-11T00:17:50.980923Z"
    }
   },
   "outputs": [
    {
     "data": {
      "text/plain": [
       "30"
      ]
     },
     "execution_count": 23,
     "metadata": {},
     "output_type": "execute_result"
    }
   ],
   "source": [
    "# 현재 값 출력\n",
    "_"
   ]
  },
  {
   "cell_type": "code",
   "execution_count": 24,
   "id": "397ac3a1",
   "metadata": {
    "ExecuteTime": {
     "end_time": "2021-11-11T00:17:51.009639Z",
     "start_time": "2021-11-11T00:17:50.996691Z"
    }
   },
   "outputs": [
    {
     "data": {
      "text/plain": [
       "'p'"
      ]
     },
     "execution_count": 24,
     "metadata": {},
     "output_type": "execute_result"
    }
   ],
   "source": [
    "# string index parsing\n",
    "name = 'python'\n",
    "name[0]"
   ]
  },
  {
   "cell_type": "code",
   "execution_count": 25,
   "id": "3d8eeda7",
   "metadata": {
    "ExecuteTime": {
     "end_time": "2021-11-11T00:17:51.025597Z",
     "start_time": "2021-11-11T00:17:51.011635Z"
    }
   },
   "outputs": [
    {
     "data": {
      "text/plain": [
       "'pyt'"
      ]
     },
     "execution_count": 25,
     "metadata": {},
     "output_type": "execute_result"
    }
   ],
   "source": [
    "name[0:3]"
   ]
  },
  {
   "cell_type": "code",
   "execution_count": 26,
   "id": "2a2105d6",
   "metadata": {
    "ExecuteTime": {
     "end_time": "2021-11-11T00:17:51.041554Z",
     "start_time": "2021-11-11T00:17:51.027592Z"
    }
   },
   "outputs": [
    {
     "name": "stdout",
     "output_type": "stream",
     "text": [
      "\n",
      " \t \r",
      " \\ ' \"\n"
     ]
    }
   ],
   "source": [
    "print(\"\\n \\t \\r \\\\ \\' \\\"\")"
   ]
  },
  {
   "cell_type": "code",
   "execution_count": 27,
   "id": "d6c51416",
   "metadata": {
    "ExecuteTime": {
     "end_time": "2021-11-11T00:17:51.057511Z",
     "start_time": "2021-11-11T00:17:51.042551Z"
    }
   },
   "outputs": [
    {
     "name": "stdout",
     "output_type": "stream",
     "text": [
      "\\n \\t \\r \\\\ \\' \\\"\n"
     ]
    }
   ],
   "source": [
    "print(r\"\\n \\t \\r \\\\ \\' \\\"\")"
   ]
  },
  {
   "cell_type": "code",
   "execution_count": 28,
   "id": "2839d563",
   "metadata": {
    "ExecuteTime": {
     "end_time": "2021-11-11T00:17:51.073468Z",
     "start_time": "2021-11-11T00:17:51.062500Z"
    }
   },
   "outputs": [
    {
     "name": "stdout",
     "output_type": "stream",
     "text": [
      "['010-2345-6789', '010-1111-1111']\n"
     ]
    }
   ],
   "source": [
    "import re\n",
    "data = \"이름:홍길동, 주소:서울시, 전화번호:010-2345-6789, 010-1111-1111, 특징:동해번쩍서해번쩍\"\n",
    "phone_pattern = r'[\\d]{3,4}-[\\d]{4}-[\\d]{4}'\n",
    "phone = re.findall(phone_pattern, data)\n",
    "print(phone)"
   ]
  },
  {
   "cell_type": "code",
   "execution_count": 29,
   "id": "4df2b286",
   "metadata": {
    "ExecuteTime": {
     "end_time": "2021-11-11T00:17:51.089428Z",
     "start_time": "2021-11-11T00:17:51.074466Z"
    }
   },
   "outputs": [
    {
     "data": {
      "text/plain": [
       "'Hiworld'"
      ]
     },
     "execution_count": 29,
     "metadata": {},
     "output_type": "execute_result"
    }
   ],
   "source": [
    "\"hiworld\".capitalize()"
   ]
  },
  {
   "cell_type": "code",
   "execution_count": 30,
   "id": "29e2b8da",
   "metadata": {
    "ExecuteTime": {
     "end_time": "2021-11-11T00:17:51.105386Z",
     "start_time": "2021-11-11T00:17:51.091420Z"
    },
    "scrolled": false
   },
   "outputs": [
    {
     "data": {
      "text/plain": [
       "-1"
      ]
     },
     "execution_count": 30,
     "metadata": {},
     "output_type": "execute_result"
    }
   ],
   "source": [
    "\"hiworld\".find('z')"
   ]
  },
  {
   "cell_type": "code",
   "execution_count": 31,
   "id": "9b39a10f",
   "metadata": {
    "ExecuteTime": {
     "end_time": "2021-11-11T00:17:51.121341Z",
     "start_time": "2021-11-11T00:17:51.107378Z"
    }
   },
   "outputs": [
    {
     "data": {
      "text/plain": [
       "True"
      ]
     },
     "execution_count": 31,
     "metadata": {},
     "output_type": "execute_result"
    }
   ],
   "source": [
    "# true\n",
    "# tRUE\n",
    "# TRUE\n",
    "# \"TRUE\"\n",
    "True"
   ]
  },
  {
   "cell_type": "code",
   "execution_count": 32,
   "id": "d0d4f291",
   "metadata": {
    "ExecuteTime": {
     "end_time": "2021-11-11T00:17:51.136300Z",
     "start_time": "2021-11-11T00:17:51.123336Z"
    }
   },
   "outputs": [
    {
     "name": "stdout",
     "output_type": "stream",
     "text": [
      "False\n"
     ]
    }
   ],
   "source": [
    "if \"\": #None, 0, 0.0, 0+0j\n",
    "    print(True)\n",
    "else:\n",
    "    print(False)"
   ]
  },
  {
   "cell_type": "markdown",
   "id": "4ec18d20",
   "metadata": {},
   "source": [
    "## 4절 출력 형식 지정"
   ]
  },
  {
   "cell_type": "code",
   "execution_count": 33,
   "id": "3fdf1b5b",
   "metadata": {
    "ExecuteTime": {
     "end_time": "2021-11-11T00:17:51.152258Z",
     "start_time": "2021-11-11T00:17:51.138306Z"
    }
   },
   "outputs": [
    {
     "name": "stdout",
     "output_type": "stream",
     "text": [
      "홍길동's age is 20\n"
     ]
    }
   ],
   "source": [
    "name, age = '홍길동', 20\n",
    "print(name, \"'s age is \", age, sep='')"
   ]
  },
  {
   "cell_type": "code",
   "execution_count": 34,
   "id": "a3973822",
   "metadata": {
    "ExecuteTime": {
     "end_time": "2021-11-11T00:17:51.168215Z",
     "start_time": "2021-11-11T00:17:51.153255Z"
    }
   },
   "outputs": [
    {
     "name": "stdout",
     "output_type": "stream",
     "text": [
      "홍길동, 20\n",
      "홍길동, 20\n",
      "홍길동, 20\n"
     ]
    }
   ],
   "source": [
    "print(\"%s, %d\"%(name, age))\n",
    "print(\"{}, {}\".format(name, age))\n",
    "print(f\"{name}, {age}\")"
   ]
  },
  {
   "cell_type": "code",
   "execution_count": 35,
   "id": "84ea9233",
   "metadata": {
    "ExecuteTime": {
     "end_time": "2021-11-11T00:17:51.184172Z",
     "start_time": "2021-11-11T00:17:51.169213Z"
    },
    "scrolled": true
   },
   "outputs": [
    {
     "name": "stdout",
     "output_type": "stream",
     "text": [
      "10, 20, 30\n",
      "30, 10, 20\n"
     ]
    }
   ],
   "source": [
    "a, b, c = 10, 20, 30\n",
    "print('{}, {}, {}'.format(a, b, c))\n",
    "print('{2}, {0}, {1}'.format(a, b, c))"
   ]
  },
  {
   "cell_type": "code",
   "execution_count": 36,
   "id": "502ed569",
   "metadata": {
    "ExecuteTime": {
     "end_time": "2021-11-11T00:17:51.199145Z",
     "start_time": "2021-11-11T00:17:51.186168Z"
    }
   },
   "outputs": [
    {
     "name": "stdout",
     "output_type": "stream",
     "text": [
      "[12345], [     12345], [12345]\n",
      "[12345], [12345.000000], [11000000111001], [30071], [3039]\n"
     ]
    }
   ],
   "source": [
    "a = 12345\n",
    "print('[{}], [{:10}], [{:3}]'.format(a, a, a))\n",
    "print('[{:d}], [{:f}], [{:b}], [{:o}], [{:x}]'.format(a, a, a, a, a))"
   ]
  },
  {
   "cell_type": "code",
   "execution_count": 37,
   "id": "8ef4eb46",
   "metadata": {
    "ExecuteTime": {
     "end_time": "2021-11-11T00:17:51.215091Z",
     "start_time": "2021-11-11T00:17:51.200140Z"
    }
   },
   "outputs": [
    {
     "name": "stdout",
     "output_type": "stream",
     "text": [
      "[12345.123456789], [12345.123457], [   12345.123457], [  12345.12], [    12345.1234567890]\n"
     ]
    }
   ],
   "source": [
    "a = 12345.123456789\n",
    "print('[{}], [{:f}], [{:15f}], [{:10.2f}], [{:20.10f}]'.format(a, a, a, a, a))"
   ]
  },
  {
   "cell_type": "code",
   "execution_count": 38,
   "id": "8c5b2e1b",
   "metadata": {
    "ExecuteTime": {
     "end_time": "2021-11-11T00:17:51.231054Z",
     "start_time": "2021-11-11T00:17:51.217085Z"
    }
   },
   "outputs": [
    {
     "name": "stdout",
     "output_type": "stream",
     "text": [
      "[Hello World], [Hello World], [Hello World         ], [Hello World]\n",
      "[Hello World], [Hello], [Hello     ]\n"
     ]
    }
   ],
   "source": [
    "str_ = \"Hello World\"\n",
    "print('[{}], [{:s}], [{:20}], [{:5}]'.format(str_, str_, str_, str_))\n",
    "print('[{}], [{:.5}], [{:10.5s}]'.format(str_, str_, str_))"
   ]
  },
  {
   "cell_type": "code",
   "execution_count": 39,
   "id": "8d381d6d",
   "metadata": {
    "ExecuteTime": {
     "end_time": "2021-11-11T00:17:51.247020Z",
     "start_time": "2021-11-11T00:17:51.233042Z"
    }
   },
   "outputs": [],
   "source": [
    "# 정렬 방법 지정\n",
    "# 공백 대체 문자\n",
    "# 매개 변수 갖는 format"
   ]
  },
  {
   "cell_type": "code",
   "execution_count": 40,
   "id": "613ea4a6",
   "metadata": {
    "ExecuteTime": {
     "end_time": "2021-11-11T00:17:51.262962Z",
     "start_time": "2021-11-11T00:17:51.248999Z"
    }
   },
   "outputs": [
    {
     "name": "stdout",
     "output_type": "stream",
     "text": [
      "2001-02-03 04:05\n"
     ]
    }
   ],
   "source": [
    "# 날짜 출력\n",
    "from datetime import datetime\n",
    "print('{:%Y-%m-%d %H:%M}'.format(datetime(2001, 2, 3, 4, 5)))"
   ]
  },
  {
   "cell_type": "code",
   "execution_count": 41,
   "id": "eb63147b",
   "metadata": {
    "ExecuteTime": {
     "end_time": "2021-11-11T00:17:51.278921Z",
     "start_time": "2021-11-11T00:17:51.265955Z"
    }
   },
   "outputs": [
    {
     "data": {
      "text/plain": [
       "time.struct_time(tm_year=2021, tm_mon=11, tm_mday=11, tm_hour=9, tm_min=17, tm_sec=51, tm_wday=3, tm_yday=315, tm_isdst=0)"
      ]
     },
     "execution_count": 41,
     "metadata": {},
     "output_type": "execute_result"
    }
   ],
   "source": [
    "from time import localtime\n",
    "now = localtime()\n",
    "now"
   ]
  },
  {
   "cell_type": "code",
   "execution_count": 42,
   "id": "b5ff70be",
   "metadata": {
    "ExecuteTime": {
     "end_time": "2021-11-11T00:17:51.294876Z",
     "start_time": "2021-11-11T00:17:51.280918Z"
    }
   },
   "outputs": [
    {
     "data": {
      "text/plain": [
       "'2021-11-11 09:17'"
      ]
     },
     "execution_count": 42,
     "metadata": {},
     "output_type": "execute_result"
    }
   ],
   "source": [
    "from time import strftime\n",
    "strftime('%Y-%m-%d %H:%M', now)"
   ]
  },
  {
   "cell_type": "code",
   "execution_count": 43,
   "id": "c24a905f",
   "metadata": {
    "ExecuteTime": {
     "end_time": "2021-11-11T00:17:51.310834Z",
     "start_time": "2021-11-11T00:17:51.298868Z"
    }
   },
   "outputs": [
    {
     "data": {
      "text/plain": [
       "datetime.datetime(2019, 3, 24, 0, 0)"
      ]
     },
     "execution_count": 43,
     "metadata": {},
     "output_type": "execute_result"
    }
   ],
   "source": [
    "date_object = datetime.strptime('24 March, 2019', '%d %B, %Y')\n",
    "date_object"
   ]
  },
  {
   "cell_type": "code",
   "execution_count": 44,
   "id": "37ef75ef",
   "metadata": {
    "ExecuteTime": {
     "end_time": "2021-11-11T00:17:51.325794Z",
     "start_time": "2021-11-11T00:17:51.312829Z"
    }
   },
   "outputs": [
    {
     "data": {
      "text/plain": [
       "False"
      ]
     },
     "execution_count": 44,
     "metadata": {},
     "output_type": "execute_result"
    }
   ],
   "source": [
    "isinstance(True, list)"
   ]
  },
  {
   "cell_type": "markdown",
   "id": "d40f592c",
   "metadata": {},
   "source": [
    "## 7절 연습문제"
   ]
  },
  {
   "cell_type": "code",
   "execution_count": 45,
   "id": "5748f619",
   "metadata": {
    "ExecuteTime": {
     "end_time": "2021-11-11T00:19:01.793876Z",
     "start_time": "2021-11-11T00:19:01.788920Z"
    }
   },
   "outputs": [
    {
     "name": "stdout",
     "output_type": "stream",
     "text": [
      "홍길동님의 나이는 23살 입니다.\n"
     ]
    }
   ],
   "source": [
    "#1\n",
    "name = '홍길동'\n",
    "age = 23\n",
    "print(f'{name}님의 나이는 {age}살 입니다.')"
   ]
  },
  {
   "cell_type": "code",
   "execution_count": 47,
   "id": "6cef5d88",
   "metadata": {
    "ExecuteTime": {
     "end_time": "2021-11-11T00:20:40.108227Z",
     "start_time": "2021-11-11T00:20:35.082084Z"
    }
   },
   "outputs": [
    {
     "name": "stdout",
     "output_type": "stream",
     "text": [
      "a: 12\n",
      "b: 5\n",
      "17, 7, 60, 2, 2\n"
     ]
    }
   ],
   "source": [
    "#2\n",
    "a = int(input('a: '))\n",
    "b = int(input('b: '))\n",
    "print(f'{a+b}, {a-b}, {a*b}, {a//b}, {a%b}')"
   ]
  },
  {
   "cell_type": "code",
   "execution_count": 49,
   "id": "078ad984",
   "metadata": {
    "ExecuteTime": {
     "end_time": "2021-11-11T00:22:14.922347Z",
     "start_time": "2021-11-11T00:22:14.903396Z"
    }
   },
   "outputs": [
    {
     "data": {
      "text/plain": [
       "'World Hello'"
      ]
     },
     "execution_count": 49,
     "metadata": {},
     "output_type": "execute_result"
    }
   ],
   "source": [
    "#3\n",
    "text = 'Hello World'\n",
    "text_split = text.split(' ')\n",
    "new_text = text_split[1] + ' ' + text_split[0]\n",
    "new_text"
   ]
  },
  {
   "cell_type": "code",
   "execution_count": 60,
   "id": "b92048fa",
   "metadata": {
    "ExecuteTime": {
     "end_time": "2021-11-11T00:37:24.226499Z",
     "start_time": "2021-11-11T00:37:24.212560Z"
    }
   },
   "outputs": [
    {
     "data": {
      "text/plain": [
       "'bcedfa'"
      ]
     },
     "execution_count": 60,
     "metadata": {},
     "output_type": "execute_result"
    }
   ],
   "source": [
    "#4\n",
    "x = 'abcedf'\n",
    "# x1 = x[1]+x[2]+x[4]+x[3]+x[5]+x[0]\n",
    "x1 = x[1:] + x[:1]\n",
    "x1"
   ]
  },
  {
   "cell_type": "code",
   "execution_count": 61,
   "id": "b919ee32",
   "metadata": {
    "ExecuteTime": {
     "end_time": "2021-11-11T00:38:15.735261Z",
     "start_time": "2021-11-11T00:38:15.719276Z"
    }
   },
   "outputs": [
    {
     "data": {
      "text/plain": [
       "'fdecba'"
      ]
     },
     "execution_count": 61,
     "metadata": {},
     "output_type": "execute_result"
    }
   ],
   "source": [
    "#5\n",
    "x2 = x[::-1]\n",
    "x2"
   ]
  },
  {
   "cell_type": "code",
   "execution_count": 62,
   "id": "01c1247c",
   "metadata": {
    "ExecuteTime": {
     "end_time": "2021-11-11T00:38:20.979545Z",
     "start_time": "2021-11-11T00:38:18.666732Z"
    }
   },
   "outputs": [
    {
     "name": "stdout",
     "output_type": "stream",
     "text": [
      "c degree: 35\n",
      "95.00\n"
     ]
    }
   ],
   "source": [
    "#6\n",
    "c_degree = float(input('c degree: '))\n",
    "f_degree = (c_degree * 1.8) + 32\n",
    "print('{:.2f}'.format(f_degree))"
   ]
  },
  {
   "cell_type": "code",
   "execution_count": 65,
   "id": "e5b47b1e",
   "metadata": {
    "ExecuteTime": {
     "end_time": "2021-11-11T01:05:34.740538Z",
     "start_time": "2021-11-11T01:05:34.695075Z"
    }
   },
   "outputs": [
    {
     "name": "stdout",
     "output_type": "stream",
     "text": [
      "Python 3.8.8\n"
     ]
    }
   ],
   "source": [
    "!python --version"
   ]
  }
 ],
 "metadata": {
  "kernelspec": {
   "display_name": "saltlux_lecture",
   "language": "python",
   "name": "saltlux_lecture"
  },
  "language_info": {
   "codemirror_mode": {
    "name": "ipython",
    "version": 3
   },
   "file_extension": ".py",
   "mimetype": "text/x-python",
   "name": "python",
   "nbconvert_exporter": "python",
   "pygments_lexer": "ipython3",
   "version": "3.9.7"
  },
  "toc": {
   "base_numbering": 1,
   "nav_menu": {},
   "number_sections": true,
   "sideBar": true,
   "skip_h1_title": false,
   "title_cell": "Table of Contents",
   "title_sidebar": "Contents",
   "toc_cell": false,
   "toc_position": {
    "height": "calc(100% - 180px)",
    "left": "10px",
    "top": "150px",
    "width": "165px"
   },
   "toc_section_display": true,
   "toc_window_display": true
  }
 },
 "nbformat": 4,
 "nbformat_minor": 5
}
