{
 "cells": [
  {
   "cell_type": "markdown",
   "id": "b5cd83b9",
   "metadata": {
    "heading_collapsed": true
   },
   "source": [
    "## 1절. 넘파이 패키지"
   ]
  },
  {
   "cell_type": "code",
   "execution_count": 2,
   "id": "462dc6c6",
   "metadata": {
    "ExecuteTime": {
     "end_time": "2021-11-23T00:40:43.999068Z",
     "start_time": "2021-11-23T00:40:43.985104Z"
    },
    "hidden": true
   },
   "outputs": [
    {
     "data": {
      "text/plain": [
       "array([[ 0,  1,  2,  3,  4],\n",
       "       [ 5,  6,  7,  8,  9],\n",
       "       [10, 11, 12, 13, 14]])"
      ]
     },
     "execution_count": 2,
     "metadata": {},
     "output_type": "execute_result"
    }
   ],
   "source": [
    "import numpy as np\n",
    "\n",
    "a = np.arange(15).reshape(3, 5)\n",
    "a"
   ]
  },
  {
   "cell_type": "code",
   "execution_count": 3,
   "id": "941e811d",
   "metadata": {
    "ExecuteTime": {
     "end_time": "2021-11-23T01:24:05.767051Z",
     "start_time": "2021-11-23T01:24:05.754085Z"
    },
    "hidden": true
   },
   "outputs": [
    {
     "data": {
      "text/plain": [
       "numpy.ndarray"
      ]
     },
     "execution_count": 3,
     "metadata": {},
     "output_type": "execute_result"
    }
   ],
   "source": [
    "type(a)"
   ]
  },
  {
   "cell_type": "code",
   "execution_count": 4,
   "id": "0c64d7e6",
   "metadata": {
    "ExecuteTime": {
     "end_time": "2021-11-23T01:24:14.751851Z",
     "start_time": "2021-11-23T01:24:14.744870Z"
    },
    "hidden": true
   },
   "outputs": [
    {
     "data": {
      "text/plain": [
       "(3, 5)"
      ]
     },
     "execution_count": 4,
     "metadata": {},
     "output_type": "execute_result"
    }
   ],
   "source": [
    "a.shape"
   ]
  },
  {
   "cell_type": "code",
   "execution_count": 5,
   "id": "97d91667",
   "metadata": {
    "ExecuteTime": {
     "end_time": "2021-11-23T01:24:38.391471Z",
     "start_time": "2021-11-23T01:24:38.386485Z"
    },
    "hidden": true
   },
   "outputs": [
    {
     "data": {
      "text/plain": [
       "2"
      ]
     },
     "execution_count": 5,
     "metadata": {},
     "output_type": "execute_result"
    }
   ],
   "source": [
    "# 축의 수 aka 튜플의 길이 (차원)\n",
    "a.ndim"
   ]
  },
  {
   "cell_type": "code",
   "execution_count": 8,
   "id": "f38708a3",
   "metadata": {
    "ExecuteTime": {
     "end_time": "2021-11-23T01:25:46.888564Z",
     "start_time": "2021-11-23T01:25:46.883575Z"
    },
    "hidden": true
   },
   "outputs": [
    {
     "data": {
      "text/plain": [
       "'int32'"
      ]
     },
     "execution_count": 8,
     "metadata": {},
     "output_type": "execute_result"
    }
   ],
   "source": [
    "a.dtype\n",
    "a.dtype.name"
   ]
  },
  {
   "cell_type": "code",
   "execution_count": 10,
   "id": "13a8bee2",
   "metadata": {
    "ExecuteTime": {
     "end_time": "2021-11-23T01:26:31.684888Z",
     "start_time": "2021-11-23T01:26:31.679902Z"
    },
    "hidden": true
   },
   "outputs": [
    {
     "data": {
      "text/plain": [
       "4"
      ]
     },
     "execution_count": 10,
     "metadata": {},
     "output_type": "execute_result"
    }
   ],
   "source": [
    "# 각 요소 바이트 단위 크기(int32이므로 4byte)\n",
    "a.itemsize"
   ]
  },
  {
   "cell_type": "code",
   "execution_count": 12,
   "id": "4dad5cdb",
   "metadata": {
    "ExecuteTime": {
     "end_time": "2021-11-23T01:26:51.250667Z",
     "start_time": "2021-11-23T01:26:51.233712Z"
    },
    "hidden": true
   },
   "outputs": [
    {
     "data": {
      "text/plain": [
       "15"
      ]
     },
     "execution_count": 12,
     "metadata": {},
     "output_type": "execute_result"
    }
   ],
   "source": [
    "# 배열 요소 전체 개수\n",
    "a.size"
   ]
  },
  {
   "cell_type": "code",
   "execution_count": 17,
   "id": "a9b3ea09",
   "metadata": {
    "ExecuteTime": {
     "end_time": "2021-11-23T01:43:46.572776Z",
     "start_time": "2021-11-23T01:43:46.566767Z"
    },
    "hidden": true
   },
   "outputs": [
    {
     "data": {
      "text/plain": [
       "dtype('int32')"
      ]
     },
     "execution_count": 17,
     "metadata": {},
     "output_type": "execute_result"
    }
   ],
   "source": [
    "b = np.arange(12, dtype=np.int32).reshape(3, 4)\n",
    "b.dtype"
   ]
  },
  {
   "cell_type": "code",
   "execution_count": 15,
   "id": "ebb0c677",
   "metadata": {
    "ExecuteTime": {
     "end_time": "2021-11-23T01:42:55.631686Z",
     "start_time": "2021-11-23T01:42:55.626699Z"
    },
    "hidden": true
   },
   "outputs": [
    {
     "data": {
      "text/plain": [
       "array([[ 4294967296, 12884901890],\n",
       "       [21474836484, 30064771078],\n",
       "       [38654705672, 47244640266]], dtype=int64)"
      ]
     },
     "execution_count": 15,
     "metadata": {},
     "output_type": "execute_result"
    }
   ],
   "source": [
    "# dtype은 각 요소의 타입 변경 안함\n",
    "# 아래와 같이 강제로 바꿀 시 요소 값을 변경함 => 대참사\n",
    "# b.dtype = np.int64\n",
    "# b"
   ]
  },
  {
   "cell_type": "code",
   "execution_count": 22,
   "id": "83d02468",
   "metadata": {
    "ExecuteTime": {
     "end_time": "2021-11-23T01:47:25.963339Z",
     "start_time": "2021-11-23T01:47:25.951372Z"
    },
    "hidden": true
   },
   "outputs": [
    {
     "data": {
      "text/plain": [
       "dtype('int64')"
      ]
     },
     "execution_count": 22,
     "metadata": {},
     "output_type": "execute_result"
    }
   ],
   "source": [
    "# astype으로 배열 요소 타입 변경\n",
    "b_64 = b.astype(np.int64)\n",
    "b_64\n",
    "b_64.dtype"
   ]
  },
  {
   "cell_type": "markdown",
   "id": "09c85ea6",
   "metadata": {},
   "source": [
    "## 2절. 넘파이 배열"
   ]
  },
  {
   "cell_type": "code",
   "execution_count": 23,
   "id": "6290ae09",
   "metadata": {
    "ExecuteTime": {
     "end_time": "2021-11-23T01:49:31.039898Z",
     "start_time": "2021-11-23T01:49:31.021831Z"
    }
   },
   "outputs": [
    {
     "data": {
      "text/plain": [
       "array([2, 3, 4])"
      ]
     },
     "execution_count": 23,
     "metadata": {},
     "output_type": "execute_result"
    }
   ],
   "source": [
    "a = np.array([2, 3, 4])\n",
    "a"
   ]
  },
  {
   "cell_type": "code",
   "execution_count": 24,
   "id": "aec59982",
   "metadata": {
    "ExecuteTime": {
     "end_time": "2021-11-23T01:49:42.055850Z",
     "start_time": "2021-11-23T01:49:42.040889Z"
    }
   },
   "outputs": [
    {
     "data": {
      "text/plain": [
       "dtype('int32')"
      ]
     },
     "execution_count": 24,
     "metadata": {},
     "output_type": "execute_result"
    }
   ],
   "source": [
    "a.dtype"
   ]
  },
  {
   "cell_type": "code",
   "execution_count": 26,
   "id": "2601182b",
   "metadata": {
    "ExecuteTime": {
     "end_time": "2021-11-23T01:51:20.016940Z",
     "start_time": "2021-11-23T01:51:20.001975Z"
    }
   },
   "outputs": [
    {
     "data": {
      "text/plain": [
       "array([[1.5, 2. , 3. ],\n",
       "       [4. , 5. , 6. ]])"
      ]
     },
     "execution_count": 26,
     "metadata": {},
     "output_type": "execute_result"
    }
   ],
   "source": [
    "b = np.array([1.2, 3.5, 5.1])\n",
    "b.dtype\n",
    "\n",
    "b = np.array([(1.5, 2, 3), (4, 5, 6)])\n",
    "b"
   ]
  },
  {
   "cell_type": "code",
   "execution_count": 28,
   "id": "2e9854bb",
   "metadata": {
    "ExecuteTime": {
     "end_time": "2021-11-23T02:16:59.507546Z",
     "start_time": "2021-11-23T02:16:59.498570Z"
    }
   },
   "outputs": [
    {
     "data": {
      "text/plain": [
       "array([[1.+0.j, 2.+0.j],\n",
       "       [3.+0.j, 4.+0.j]])"
      ]
     },
     "execution_count": 28,
     "metadata": {},
     "output_type": "execute_result"
    }
   ],
   "source": [
    "c = np.array([[1, 2], [3, 4]], dtype=complex)\n",
    "c"
   ]
  },
  {
   "cell_type": "code",
   "execution_count": 29,
   "id": "a40059ee",
   "metadata": {
    "ExecuteTime": {
     "end_time": "2021-11-23T02:17:45.836651Z",
     "start_time": "2021-11-23T02:17:45.816703Z"
    }
   },
   "outputs": [
    {
     "data": {
      "text/plain": [
       "array([[1., 2.],\n",
       "       [3., 4.]], dtype=float32)"
      ]
     },
     "execution_count": 29,
     "metadata": {},
     "output_type": "execute_result"
    }
   ],
   "source": [
    "c = np.array([[1, 2], [3, 4]], dtype=np.float32)\n",
    "c"
   ]
  },
  {
   "cell_type": "code",
   "execution_count": 32,
   "id": "2ac67163",
   "metadata": {
    "ExecuteTime": {
     "end_time": "2021-11-23T02:19:04.707450Z",
     "start_time": "2021-11-23T02:19:04.688471Z"
    }
   },
   "outputs": [
    {
     "name": "stdout",
     "output_type": "stream",
     "text": [
      "1898962664208 1898962664208\n",
      "1898962664208 1898826229296\n"
     ]
    }
   ],
   "source": [
    "# 기존 객체 이용한 새로운 배열 복사본 생성 안함\n",
    "d = np.array(c, copy=False)\n",
    "print(id(c), id(d))\n",
    "\n",
    "e = np.array(c, copy=True)\n",
    "print(id(c), id(e))"
   ]
  },
  {
   "cell_type": "code",
   "execution_count": 34,
   "id": "4bc37b6b",
   "metadata": {
    "ExecuteTime": {
     "end_time": "2021-11-23T02:20:48.041248Z",
     "start_time": "2021-11-23T02:20:48.023294Z"
    }
   },
   "outputs": [
    {
     "name": "stdout",
     "output_type": "stream",
     "text": [
      "1898962664208 1898768924560\n"
     ]
    }
   ],
   "source": [
    "# copy=False 여도 dtype에 다른 유형 지정되면 복사본 생성됨.\n",
    "d = np.array(c, copy=False, dtype=int)\n",
    "print(id(c), id(d))"
   ]
  },
  {
   "cell_type": "code",
   "execution_count": 39,
   "id": "33fd6144",
   "metadata": {
    "ExecuteTime": {
     "end_time": "2021-11-23T02:39:23.768560Z",
     "start_time": "2021-11-23T02:39:23.757588Z"
    }
   },
   "outputs": [
    {
     "data": {
      "text/plain": [
       "dtype('float64')"
      ]
     },
     "execution_count": 39,
     "metadata": {},
     "output_type": "execute_result"
    }
   ],
   "source": [
    "# 기본값이 있는 배열\n",
    "x = np.zeros((3, 4))\n",
    "x\n",
    "x.dtype"
   ]
  },
  {
   "cell_type": "code",
   "execution_count": 40,
   "id": "d6fcd184",
   "metadata": {
    "ExecuteTime": {
     "end_time": "2021-11-23T02:39:49.602126Z",
     "start_time": "2021-11-23T02:39:49.590170Z"
    }
   },
   "outputs": [
    {
     "data": {
      "text/plain": [
       "array([[[1, 1, 1, 1],\n",
       "        [1, 1, 1, 1],\n",
       "        [1, 1, 1, 1]],\n",
       "\n",
       "       [[1, 1, 1, 1],\n",
       "        [1, 1, 1, 1],\n",
       "        [1, 1, 1, 1]]], dtype=int64)"
      ]
     },
     "execution_count": 40,
     "metadata": {},
     "output_type": "execute_result"
    }
   ],
   "source": [
    "np.ones((2, 3, 4), dtype=np.int64)"
   ]
  },
  {
   "cell_type": "code",
   "execution_count": 42,
   "id": "c6027c01",
   "metadata": {
    "ExecuteTime": {
     "end_time": "2021-11-23T02:40:42.765313Z",
     "start_time": "2021-11-23T02:40:42.759328Z"
    }
   },
   "outputs": [
    {
     "data": {
      "text/plain": [
       "array([[1.5, 2. , 3. ],\n",
       "       [4. , 5. , 6. ]])"
      ]
     },
     "execution_count": 42,
     "metadata": {},
     "output_type": "execute_result"
    }
   ],
   "source": [
    "# 현재 커널에 있는 쓰레기 데이터 값으로 채움\n",
    "np.empty((2, 3))"
   ]
  },
  {
   "cell_type": "code",
   "execution_count": 47,
   "id": "7275db88",
   "metadata": {
    "ExecuteTime": {
     "end_time": "2021-11-23T02:49:09.127567Z",
     "start_time": "2021-11-23T02:49:09.119585Z"
    }
   },
   "outputs": [
    {
     "name": "stdout",
     "output_type": "stream",
     "text": [
      "[0 1 2 3 4 5 6 7 8 9]\n",
      "[11 12 13 14 15 16 17 18 19]\n",
      "[10 15 20 25]\n",
      "[0.  0.3 0.6 0.9 1.2 1.5 1.8]\n"
     ]
    }
   ],
   "source": [
    "# 연속된 값 갖는 배열\n",
    "print(np.arange(10))\n",
    "print(np.arange(11, 20))\n",
    "print(np.arange(10, 30, 5))\n",
    "print(np.arange(0, 2, 0.3))"
   ]
  },
  {
   "cell_type": "code",
   "execution_count": 49,
   "id": "70cb8ea2",
   "metadata": {
    "ExecuteTime": {
     "end_time": "2021-11-23T03:03:28.239819Z",
     "start_time": "2021-11-23T03:03:28.230843Z"
    }
   },
   "outputs": [
    {
     "name": "stdout",
     "output_type": "stream",
     "text": [
      "[0.   0.25 0.5  0.75 1.   1.25 1.5  1.75 2.  ]\n",
      "[ 0.          0.52631579  1.05263158  1.57894737  2.10526316  2.63157895\n",
      "  3.15789474  3.68421053  4.21052632  4.73684211  5.26315789  5.78947368\n",
      "  6.31578947  6.84210526  7.36842105  7.89473684  8.42105263  8.94736842\n",
      "  9.47368421 10.        ]\n"
     ]
    }
   ],
   "source": [
    "print(np.linspace(0, 2, 9))\n",
    "print(np.linspace(0, 10, 20))"
   ]
  },
  {
   "cell_type": "code",
   "execution_count": 55,
   "id": "efde66af",
   "metadata": {
    "ExecuteTime": {
     "end_time": "2021-11-23T03:08:34.554737Z",
     "start_time": "2021-11-23T03:08:34.535759Z"
    }
   },
   "outputs": [
    {
     "name": "stdout",
     "output_type": "stream",
     "text": [
      "[0.         0.6981317  1.3962634  2.0943951  2.7925268  3.4906585\n",
      " 4.1887902  4.88692191 5.58505361 6.28318531] [ 0.00000000e+00  6.42787610e-01  9.84807753e-01  8.66025404e-01\n",
      "  3.42020143e-01 -3.42020143e-01 -8.66025404e-01 -9.84807753e-01\n",
      " -6.42787610e-01 -2.44929360e-16]\n"
     ]
    }
   ],
   "source": [
    "x = np.linspace(0, 2*np.pi, 10)\n",
    "y = np.sin(x)\n",
    "print(x, y)"
   ]
  },
  {
   "cell_type": "code",
   "execution_count": 52,
   "id": "ed9fd821",
   "metadata": {
    "ExecuteTime": {
     "end_time": "2021-11-23T03:05:02.644329Z",
     "start_time": "2021-11-23T03:05:02.638346Z"
    }
   },
   "outputs": [
    {
     "data": {
      "text/plain": [
       "array([[ 0,  1,  2,  3],\n",
       "       [ 4,  5,  6,  7],\n",
       "       [ 8,  9, 10, 11]])"
      ]
     },
     "execution_count": 52,
     "metadata": {},
     "output_type": "execute_result"
    }
   ],
   "source": [
    "a = np.arange(12).reshape(3, 4)\n",
    "a"
   ]
  },
  {
   "cell_type": "code",
   "execution_count": 56,
   "id": "ed66316a",
   "metadata": {
    "ExecuteTime": {
     "end_time": "2021-11-23T03:08:57.340386Z",
     "start_time": "2021-11-23T03:08:57.329389Z"
    }
   },
   "outputs": [
    {
     "data": {
      "text/plain": [
       "array([ 0,  1,  2,  3,  4,  5,  6,  7,  8,  9, 10, 11])"
      ]
     },
     "execution_count": 56,
     "metadata": {},
     "output_type": "execute_result"
    }
   ],
   "source": [
    "# 차원이 풀린 배열 반환\n",
    "a.ravel()"
   ]
  },
  {
   "cell_type": "code",
   "execution_count": 57,
   "id": "7d95375b",
   "metadata": {
    "ExecuteTime": {
     "end_time": "2021-11-23T03:09:13.332474Z",
     "start_time": "2021-11-23T03:09:13.327487Z"
    }
   },
   "outputs": [
    {
     "data": {
      "text/plain": [
       "array([[ 0,  1,  2,  3,  4,  5],\n",
       "       [ 6,  7,  8,  9, 10, 11]])"
      ]
     },
     "execution_count": 57,
     "metadata": {},
     "output_type": "execute_result"
    }
   ],
   "source": [
    "a.reshape(2, 6)"
   ]
  },
  {
   "cell_type": "code",
   "execution_count": 59,
   "id": "91b8c514",
   "metadata": {
    "ExecuteTime": {
     "end_time": "2021-11-23T03:12:38.594575Z",
     "start_time": "2021-11-23T03:12:38.581598Z"
    }
   },
   "outputs": [
    {
     "data": {
      "text/plain": [
       "array([[ 0,  4,  8],\n",
       "       [ 1,  5,  9],\n",
       "       [ 2,  6, 10],\n",
       "       [ 3,  7, 11]])"
      ]
     },
     "execution_count": 59,
     "metadata": {},
     "output_type": "execute_result"
    }
   ],
   "source": [
    "# 전치행렬 transposed 반환\n",
    "a.T"
   ]
  },
  {
   "cell_type": "code",
   "execution_count": 60,
   "id": "b37f50a1",
   "metadata": {
    "ExecuteTime": {
     "end_time": "2021-11-23T03:23:24.753514Z",
     "start_time": "2021-11-23T03:23:24.735562Z"
    }
   },
   "outputs": [
    {
     "data": {
      "text/plain": [
       "array([[ 0,  1,  2,  3,  4,  5],\n",
       "       [ 6,  7,  8,  9, 10, 11]])"
      ]
     },
     "execution_count": 60,
     "metadata": {},
     "output_type": "execute_result"
    }
   ],
   "source": [
    "# reshape()는 차원 수정된 배열 반환\n",
    "# resize()는 배열 자체 수정\n",
    "\n",
    "a = np.arange(12).reshape(3, 4)\n",
    "a.resize(2, 6)\n",
    "a"
   ]
  },
  {
   "cell_type": "code",
   "execution_count": 63,
   "id": "00ff85d1",
   "metadata": {
    "ExecuteTime": {
     "end_time": "2021-11-23T03:24:51.177278Z",
     "start_time": "2021-11-23T03:24:51.172286Z"
    }
   },
   "outputs": [
    {
     "data": {
      "text/plain": [
       "array([[ 0,  1,  2,  3,  4,  5],\n",
       "       [ 6,  7,  8,  9, 10, 11]])"
      ]
     },
     "execution_count": 63,
     "metadata": {},
     "output_type": "execute_result"
    }
   ],
   "source": [
    "# 크기 -1로 주어질 시, 해당 차원의 크기 자동으로 계산됨\n",
    "# resize는 -1 사용못함\n",
    "a.reshape(2, -1)"
   ]
  },
  {
   "cell_type": "code",
   "execution_count": 64,
   "id": "762b527d",
   "metadata": {
    "ExecuteTime": {
     "end_time": "2021-11-23T03:25:09.952346Z",
     "start_time": "2021-11-23T03:25:09.945365Z"
    }
   },
   "outputs": [
    {
     "data": {
      "text/plain": [
       "array([[ 0,  1,  2,  3,  4,  5],\n",
       "       [ 6,  7,  8,  9, 10, 11]])"
      ]
     },
     "execution_count": 64,
     "metadata": {},
     "output_type": "execute_result"
    }
   ],
   "source": [
    "a.shape = (2, 6)\n",
    "a"
   ]
  },
  {
   "cell_type": "code",
   "execution_count": 66,
   "id": "eb40ce0b",
   "metadata": {
    "ExecuteTime": {
     "end_time": "2021-11-23T03:32:51.095385Z",
     "start_time": "2021-11-23T03:32:51.083418Z"
    }
   },
   "outputs": [
    {
     "name": "stdout",
     "output_type": "stream",
     "text": [
      "[[ 0  1  2  3  4  5  6  7  8  9]\n",
      " [10 11 12 13 14 15 16 17 18 19]\n",
      " [20 21 22 23 24 25 26 27 28 29]\n",
      " [30 31 32 33 34 35 36 37 38 39]\n",
      " [40 41 42 43 44 45 46 47 48 49]\n",
      " [50 51 52 53 54 55 56 57 58 59]\n",
      " [60 61 62 63 64 65 66 67 68 69]\n",
      " [70 71 72 73 74 75 76 77 78 79]\n",
      " [80 81 82 83 84 85 86 87 88 89]\n",
      " [90 91 92 93 94 95 96 97 98 99]]\n"
     ]
    }
   ],
   "source": [
    "# numpy가 요소 값 생략 안하고 전체 배열 인쇄하도록 설정\n",
    "# threshold: threshold값이 배열의 데이터 수보다 크거나 같아야 전체 데이터 인쇄할 수 있음\n",
    "\n",
    "np.set_printoptions(threshold=1000)\n",
    "print(np.arange(100).reshape(10, 10))"
   ]
  },
  {
   "cell_type": "code",
   "execution_count": 67,
   "id": "871d5d23",
   "metadata": {
    "ExecuteTime": {
     "end_time": "2021-11-23T05:06:52.559633Z",
     "start_time": "2021-11-23T05:06:52.546668Z"
    }
   },
   "outputs": [
    {
     "data": {
      "text/plain": [
       "array([20, 29, 38, 47])"
      ]
     },
     "execution_count": 67,
     "metadata": {},
     "output_type": "execute_result"
    }
   ],
   "source": [
    "# 배열 연산\n",
    "a = np.array([20, 30, 40, 50])\n",
    "b = np.arange(4)\n",
    "\n",
    "a - b"
   ]
  },
  {
   "cell_type": "code",
   "execution_count": 68,
   "id": "a556de28",
   "metadata": {
    "ExecuteTime": {
     "end_time": "2021-11-23T05:07:04.036432Z",
     "start_time": "2021-11-23T05:07:04.021473Z"
    }
   },
   "outputs": [
    {
     "data": {
      "text/plain": [
       "array([0, 1, 4, 9], dtype=int32)"
      ]
     },
     "execution_count": 68,
     "metadata": {},
     "output_type": "execute_result"
    }
   ],
   "source": [
    "b ** 2"
   ]
  },
  {
   "cell_type": "code",
   "execution_count": 70,
   "id": "d3549700",
   "metadata": {
    "ExecuteTime": {
     "end_time": "2021-11-23T05:07:44.727519Z",
     "start_time": "2021-11-23T05:07:44.708568Z"
    }
   },
   "outputs": [
    {
     "data": {
      "text/plain": [
       "array([ True,  True, False, False])"
      ]
     },
     "execution_count": 70,
     "metadata": {},
     "output_type": "execute_result"
    }
   ],
   "source": [
    "a < 35"
   ]
  },
  {
   "cell_type": "code",
   "execution_count": 74,
   "id": "7902fd09",
   "metadata": {
    "ExecuteTime": {
     "end_time": "2021-11-23T05:13:10.957168Z",
     "start_time": "2021-11-23T05:13:10.944233Z"
    }
   },
   "outputs": [
    {
     "name": "stdout",
     "output_type": "stream",
     "text": [
      "[[2 0]\n",
      " [0 4]]\n",
      "[[5 4]\n",
      " [3 4]]\n",
      "[[5 4]\n",
      " [3 4]]\n"
     ]
    }
   ],
   "source": [
    "a = np.array( [[1,1], [0,1]] )\n",
    "b = np.array( [[2,0], [3,4]] )\n",
    "\n",
    "# 요소별 곱\n",
    "print(a * b)\n",
    "# 행렬 곱\n",
    "print(a.dot(b))\n",
    "print(a@b)"
   ]
  },
  {
   "cell_type": "code",
   "execution_count": 80,
   "id": "fec6c73f",
   "metadata": {
    "ExecuteTime": {
     "end_time": "2021-11-23T05:16:18.574574Z",
     "start_time": "2021-11-23T05:16:18.566596Z"
    }
   },
   "outputs": [
    {
     "name": "stdout",
     "output_type": "stream",
     "text": [
      "[[1 1 1]\n",
      " [1 1 1]]\n",
      "[[0. 1. 2.]\n",
      " [3. 4. 5.]]\n"
     ]
    }
   ],
   "source": [
    "a = np.ones((2, 3), dtype=np.int32)\n",
    "b = np.arange(6).reshape(2, 3).astype(np.float32)\n",
    "\n",
    "print(a)\n",
    "print(b)"
   ]
  },
  {
   "cell_type": "code",
   "execution_count": 81,
   "id": "95c6f485",
   "metadata": {
    "ExecuteTime": {
     "end_time": "2021-11-23T05:16:20.657303Z",
     "start_time": "2021-11-23T05:16:20.644309Z"
    }
   },
   "outputs": [
    {
     "name": "stdout",
     "output_type": "stream",
     "text": [
      "[[3 3 3]\n",
      " [3 3 3]]\n"
     ]
    },
    {
     "data": {
      "text/plain": [
       "array([[3., 4., 5.],\n",
       "       [6., 7., 8.]], dtype=float32)"
      ]
     },
     "execution_count": 81,
     "metadata": {},
     "output_type": "execute_result"
    }
   ],
   "source": [
    "a *= 3\n",
    "print(a)\n",
    "\n",
    "b += a\n",
    "b"
   ]
  },
  {
   "cell_type": "code",
   "execution_count": 84,
   "id": "9e834758",
   "metadata": {
    "ExecuteTime": {
     "end_time": "2021-11-23T05:34:40.843460Z",
     "start_time": "2021-11-23T05:34:40.835483Z"
    }
   },
   "outputs": [
    {
     "name": "stdout",
     "output_type": "stream",
     "text": [
      "[[ 0  1  2  3]\n",
      " [ 4  5  6  7]\n",
      " [ 8  9 10 11]]\n"
     ]
    },
    {
     "data": {
      "text/plain": [
       "(66, 0, 11, 5.5, 3.452052529534663)"
      ]
     },
     "execution_count": 84,
     "metadata": {},
     "output_type": "execute_result"
    }
   ],
   "source": [
    "# 배열 요소의 집계\n",
    "a = np.arange(12).reshape(3, 4)\n",
    "print(a)\n",
    "a.sum(), a.min(), a.max(), a.mean(), a.std()"
   ]
  },
  {
   "cell_type": "code",
   "execution_count": 86,
   "id": "4da2438b",
   "metadata": {
    "ExecuteTime": {
     "end_time": "2021-11-23T05:36:58.733381Z",
     "start_time": "2021-11-23T05:36:58.721385Z"
    }
   },
   "outputs": [
    {
     "name": "stdout",
     "output_type": "stream",
     "text": [
      "[12 15 18 21]\n",
      "[ 6 22 38]\n"
     ]
    }
   ],
   "source": [
    "# 열이 같고 행 인덱스가 변하는 값들의 합 (열 별 합계)\n",
    "print(a.sum(axis=0))\n",
    "\n",
    "# 행이 같고 열 인덱스가 변하는 값들의 합 (행 별 합계)\n",
    "print(a.sum(axis=1))"
   ]
  },
  {
   "cell_type": "code",
   "execution_count": 87,
   "id": "d98fa126",
   "metadata": {
    "ExecuteTime": {
     "end_time": "2021-11-23T06:13:54.148545Z",
     "start_time": "2021-11-23T06:13:54.142560Z"
    }
   },
   "outputs": [
    {
     "data": {
      "text/plain": [
       "array([4, 6, 8])"
      ]
     },
     "execution_count": 87,
     "metadata": {},
     "output_type": "execute_result"
    }
   ],
   "source": [
    "A = np.arange(3) # array([0, 1, 2])\n",
    "B = np.arange(4,7) # array([4, 5, 6])\n",
    "\n",
    "# 범용함수\n",
    "np.add(A, B)"
   ]
  },
  {
   "cell_type": "code",
   "execution_count": 94,
   "id": "70f5518d",
   "metadata": {
    "ExecuteTime": {
     "end_time": "2021-11-23T06:36:56.256806Z",
     "start_time": "2021-11-23T06:36:48.253799Z"
    }
   },
   "outputs": [
    {
     "name": "stdout",
     "output_type": "stream",
     "text": [
      "The memory_profiler extension is already loaded. To reload it, use:\n",
      "  %reload_ext memory_profiler\n"
     ]
    }
   ],
   "source": [
    "# 메모리 사용량 및 실행시간 비교\n",
    "%load_ext memory_profiler\n",
    "\n",
    "a = np.random.randn(100000000)\n",
    "b = np.random.randn(100000000)\n",
    "c = np.random.randn(100000000)"
   ]
  },
  {
   "cell_type": "code",
   "execution_count": 95,
   "id": "9d44a6ef",
   "metadata": {
    "ExecuteTime": {
     "end_time": "2021-11-23T06:36:57.821232Z",
     "start_time": "2021-11-23T06:36:56.259807Z"
    }
   },
   "outputs": [
    {
     "name": "stdout",
     "output_type": "stream",
     "text": [
      "peak memory: 3673.80 MiB, increment: 1253.18 MiB\n",
      "Wall time: 1.55 s\n"
     ]
    },
    {
     "data": {
      "text/plain": [
       "array([-2.34267143, -1.78434815,  2.33649324, ...,  1.73877098,\n",
       "       -0.51954677,  3.08317729])"
      ]
     },
     "execution_count": 95,
     "metadata": {},
     "output_type": "execute_result"
    }
   ],
   "source": [
    "%%time # 셀을 실행시킨 시간 출력\n",
    "%memit g = a + b + c # 해당 구문 실행할 때 메모리 사용량 출력\n",
    "g"
   ]
  },
  {
   "cell_type": "code",
   "execution_count": 96,
   "id": "e0f4f4e3",
   "metadata": {
    "ExecuteTime": {
     "end_time": "2021-11-23T06:37:04.238883Z",
     "start_time": "2021-11-23T06:37:02.686752Z"
    }
   },
   "outputs": [
    {
     "name": "stdout",
     "output_type": "stream",
     "text": [
      "peak memory: 4700.59 MiB, increment: 1517.02 MiB\n",
      "[-2.95168647 -1.16070155  1.4955757  ...  1.22045654 -0.66096671\n",
      "  1.79736573]\n",
      "Wall time: 1.55 s\n"
     ]
    }
   ],
   "source": [
    "%%time\n",
    "%memit T1 = a * b; G = T1 + c; del T1\n",
    "print(G)"
   ]
  },
  {
   "cell_type": "code",
   "execution_count": 97,
   "id": "0ab4b170",
   "metadata": {
    "ExecuteTime": {
     "end_time": "2021-11-23T06:37:07.826651Z",
     "start_time": "2021-11-23T06:37:06.452384Z"
    }
   },
   "outputs": [
    {
     "name": "stdout",
     "output_type": "stream",
     "text": [
      "peak memory: 4629.61 MiB, increment: 690.73 MiB\n",
      "[-2.95168647 -1.16070155  1.4955757  ...  1.22045654 -0.66096671\n",
      "  1.79736573]\n",
      "Wall time: 1.37 s\n"
     ]
    }
   ],
   "source": [
    "%%time\n",
    "%memit G = a * b; G += c\n",
    "print(G)"
   ]
  },
  {
   "cell_type": "code",
   "execution_count": 98,
   "id": "3e3ec6be",
   "metadata": {
    "ExecuteTime": {
     "end_time": "2021-11-23T06:37:11.246606Z",
     "start_time": "2021-11-23T06:37:09.905853Z"
    }
   },
   "outputs": [
    {
     "name": "stdout",
     "output_type": "stream",
     "text": [
      "peak memory: 4609.95 MiB, increment: 671.07 MiB\n",
      "[-2.95168647 -1.16070155  1.4955757  ...  1.22045654 -0.66096671\n",
      "  1.79736573]\n",
      "Wall time: 1.32 s\n"
     ]
    }
   ],
   "source": [
    "%%time\n",
    "%memit G = a * b; np.add(G, c, G)\n",
    "print(G)"
   ]
  },
  {
   "cell_type": "code",
   "execution_count": 100,
   "id": "e467d603",
   "metadata": {
    "ExecuteTime": {
     "end_time": "2021-11-23T07:13:24.430685Z",
     "start_time": "2021-11-23T07:13:24.416694Z"
    }
   },
   "outputs": [
    {
     "name": "stdout",
     "output_type": "stream",
     "text": [
      "[2 4 6]\n",
      "[2 4 6]\n"
     ]
    }
   ],
   "source": [
    "# 브로드캐스팅\n",
    "a = np.array([1, 2, 3])\n",
    "b = np.array([2, 2, 2])\n",
    "\n",
    "print(a * b)\n",
    "print(np.multiply(a, b))"
   ]
  },
  {
   "cell_type": "code",
   "execution_count": 101,
   "id": "12ba5897",
   "metadata": {
    "ExecuteTime": {
     "end_time": "2021-11-23T07:18:30.522254Z",
     "start_time": "2021-11-23T07:18:30.510287Z"
    }
   },
   "outputs": [
    {
     "data": {
      "text/plain": [
       "array([2, 4, 6])"
      ]
     },
     "execution_count": 101,
     "metadata": {},
     "output_type": "execute_result"
    }
   ],
   "source": [
    "a = np.array([1, 2, 3])\n",
    "b = 2\n",
    "\n",
    "a*b"
   ]
  },
  {
   "cell_type": "code",
   "execution_count": 102,
   "id": "6723f19f",
   "metadata": {
    "ExecuteTime": {
     "end_time": "2021-11-23T07:23:35.994911Z",
     "start_time": "2021-11-23T07:23:35.982916Z"
    }
   },
   "outputs": [
    {
     "data": {
      "text/plain": [
       "array([[ 1,  2,  3],\n",
       "       [11, 12, 13],\n",
       "       [21, 22, 23],\n",
       "       [31, 32, 33]])"
      ]
     },
     "execution_count": 102,
     "metadata": {},
     "output_type": "execute_result"
    }
   ],
   "source": [
    "A = np.array([[ 0, 0, 0],\n",
    "[10, 10, 10],\n",
    "[20, 20, 20],\n",
    "[30, 30, 30]])\n",
    "\n",
    "B = np.array([1, 2, 3])\n",
    "\n",
    "A + B"
   ]
  },
  {
   "cell_type": "code",
   "execution_count": 104,
   "id": "ac4bf66c",
   "metadata": {
    "ExecuteTime": {
     "end_time": "2021-11-23T07:30:31.146801Z",
     "start_time": "2021-11-23T07:30:31.135799Z"
    }
   },
   "outputs": [
    {
     "data": {
      "text/plain": [
       "array([[ 1.,  2.,  3.],\n",
       "       [11., 12., 13.],\n",
       "       [21., 22., 23.],\n",
       "       [31., 32., 33.]])"
      ]
     },
     "execution_count": 104,
     "metadata": {},
     "output_type": "execute_result"
    }
   ],
   "source": [
    "A = np.array([0.0, 10.0, 20.0, 30.0])\n",
    "B = np.array([1.0, 2.0, 3.0])\n",
    "\n",
    "A[:, np.newaxis] + B # A[:, np.newaxis]는 4*1 모양의 2차원 배열\n",
    "# 행 또는 열의 차원 승격"
   ]
  },
  {
   "cell_type": "markdown",
   "id": "57f9d99d",
   "metadata": {},
   "source": [
    "## 3절. 배열 합치기/나누기"
   ]
  },
  {
   "cell_type": "markdown",
   "id": "09fc9637",
   "metadata": {},
   "source": [
    "## 4절. 복사와 뷰"
   ]
  },
  {
   "cell_type": "markdown",
   "id": "8c0dd5e3",
   "metadata": {},
   "source": [
    "## 5절. 고급 인덱싱"
   ]
  },
  {
   "cell_type": "markdown",
   "id": "86776125",
   "metadata": {},
   "source": [
    "## 6절. 선형대수학"
   ]
  },
  {
   "cell_type": "markdown",
   "id": "5afee592",
   "metadata": {},
   "source": [
    "## 7절. 유용한 정보 및 팁"
   ]
  },
  {
   "cell_type": "markdown",
   "id": "47f6774c",
   "metadata": {},
   "source": [
    "## 8절. 연습문제"
   ]
  }
 ],
 "metadata": {
  "kernelspec": {
   "display_name": "saltlux_lecture",
   "language": "python",
   "name": "saltlux_lecture"
  },
  "language_info": {
   "codemirror_mode": {
    "name": "ipython",
    "version": 3
   },
   "file_extension": ".py",
   "mimetype": "text/x-python",
   "name": "python",
   "nbconvert_exporter": "python",
   "pygments_lexer": "ipython3",
   "version": "3.9.7"
  },
  "toc": {
   "base_numbering": 1,
   "nav_menu": {},
   "number_sections": true,
   "sideBar": true,
   "skip_h1_title": false,
   "title_cell": "Table of Contents",
   "title_sidebar": "Contents",
   "toc_cell": false,
   "toc_position": {
    "height": "calc(100% - 180px)",
    "left": "10px",
    "top": "150px",
    "width": "182.594px"
   },
   "toc_section_display": true,
   "toc_window_display": true
  }
 },
 "nbformat": 4,
 "nbformat_minor": 5
}
