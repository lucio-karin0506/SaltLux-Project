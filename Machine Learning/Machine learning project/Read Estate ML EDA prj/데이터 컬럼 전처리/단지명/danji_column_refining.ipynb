{
 "cells": [
  {
   "cell_type": "markdown",
   "id": "3a6740e7",
   "metadata": {},
   "source": [
    "## 1. 데이터 로딩 및 전처리"
   ]
  },
  {
   "cell_type": "code",
   "execution_count": 1,
   "id": "9277cb84",
   "metadata": {},
   "outputs": [],
   "source": [
    "# load library\n",
    "import pandas as pd\n",
    "import numpy as np\n",
    "\n",
    "import plotly.offline as off\n",
    "import plotly.graph_objs as go"
   ]
  },
  {
   "cell_type": "markdown",
   "id": "ff4296e3",
   "metadata": {},
   "source": [
    "### 1.1 train data 생성"
   ]
  },
  {
   "cell_type": "code",
   "execution_count": 2,
   "id": "40228e30",
   "metadata": {
    "ExecuteTime": {
     "end_time": "2021-12-23T01:32:13.635996Z",
     "start_time": "2021-12-23T01:32:12.378182Z"
    }
   },
   "outputs": [],
   "source": [
    "estate_price_2016 = pd.read_csv('../dataset/estate_price_2016.csv', encoding='cp949')\n",
    "estate_price_2017 = pd.read_csv('../dataset/estate_price_2017.csv', encoding='cp949')\n",
    "estate_price_2018 = pd.read_csv('../dataset/estate_price_2018.csv', encoding='cp949')\n",
    "estate_price_2019 = pd.read_csv('../dataset/estate_price_2019.csv', encoding='cp949')\n",
    "estate_price_2020 = pd.read_csv('../dataset/estate_price_2020.csv', encoding='cp949')\n",
    "estate_price_2021 = pd.read_csv('../dataset/estate_price_2021.csv', encoding='cp949')"
   ]
  },
  {
   "cell_type": "code",
   "execution_count": 3,
   "id": "2d3b6a8d",
   "metadata": {},
   "outputs": [
    {
     "data": {
      "text/html": [
       "<div>\n",
       "<style scoped>\n",
       "    .dataframe tbody tr th:only-of-type {\n",
       "        vertical-align: middle;\n",
       "    }\n",
       "\n",
       "    .dataframe tbody tr th {\n",
       "        vertical-align: top;\n",
       "    }\n",
       "\n",
       "    .dataframe thead th {\n",
       "        text-align: right;\n",
       "    }\n",
       "</style>\n",
       "<table border=\"1\" class=\"dataframe\">\n",
       "  <thead>\n",
       "    <tr style=\"text-align: right;\">\n",
       "      <th></th>\n",
       "      <th>시군구</th>\n",
       "      <th>번지</th>\n",
       "      <th>본번</th>\n",
       "      <th>부번</th>\n",
       "      <th>단지명</th>\n",
       "      <th>전용면적(㎡)</th>\n",
       "      <th>계약년월</th>\n",
       "      <th>계약일</th>\n",
       "      <th>거래금액(만원)</th>\n",
       "      <th>층</th>\n",
       "      <th>건축년도</th>\n",
       "      <th>도로명</th>\n",
       "      <th>해제사유발생일</th>\n",
       "      <th>거래유형</th>\n",
       "      <th>중개사소재지</th>\n",
       "    </tr>\n",
       "  </thead>\n",
       "  <tbody>\n",
       "    <tr>\n",
       "      <th>0</th>\n",
       "      <td>서울특별시 강남구 개포동</td>\n",
       "      <td>658-1</td>\n",
       "      <td>658.0</td>\n",
       "      <td>1.0</td>\n",
       "      <td>개포6차우성아파트1동~8동</td>\n",
       "      <td>79.97</td>\n",
       "      <td>201801</td>\n",
       "      <td>3</td>\n",
       "      <td>130,000</td>\n",
       "      <td>4</td>\n",
       "      <td>1987</td>\n",
       "      <td>언주로 3</td>\n",
       "      <td>NaN</td>\n",
       "      <td>-</td>\n",
       "      <td>-</td>\n",
       "    </tr>\n",
       "    <tr>\n",
       "      <th>1</th>\n",
       "      <td>서울특별시 강남구 개포동</td>\n",
       "      <td>658-1</td>\n",
       "      <td>658.0</td>\n",
       "      <td>1.0</td>\n",
       "      <td>개포6차우성아파트1동~8동</td>\n",
       "      <td>79.97</td>\n",
       "      <td>201801</td>\n",
       "      <td>8</td>\n",
       "      <td>117,000</td>\n",
       "      <td>2</td>\n",
       "      <td>1987</td>\n",
       "      <td>언주로 3</td>\n",
       "      <td>NaN</td>\n",
       "      <td>-</td>\n",
       "      <td>-</td>\n",
       "    </tr>\n",
       "    <tr>\n",
       "      <th>2</th>\n",
       "      <td>서울특별시 강남구 개포동</td>\n",
       "      <td>658-1</td>\n",
       "      <td>658.0</td>\n",
       "      <td>1.0</td>\n",
       "      <td>개포6차우성아파트1동~8동</td>\n",
       "      <td>79.97</td>\n",
       "      <td>201801</td>\n",
       "      <td>11</td>\n",
       "      <td>130,000</td>\n",
       "      <td>1</td>\n",
       "      <td>1987</td>\n",
       "      <td>언주로 3</td>\n",
       "      <td>NaN</td>\n",
       "      <td>-</td>\n",
       "      <td>-</td>\n",
       "    </tr>\n",
       "    <tr>\n",
       "      <th>3</th>\n",
       "      <td>서울특별시 강남구 개포동</td>\n",
       "      <td>658-1</td>\n",
       "      <td>658.0</td>\n",
       "      <td>1.0</td>\n",
       "      <td>개포6차우성아파트1동~8동</td>\n",
       "      <td>79.97</td>\n",
       "      <td>201803</td>\n",
       "      <td>19</td>\n",
       "      <td>139,500</td>\n",
       "      <td>2</td>\n",
       "      <td>1987</td>\n",
       "      <td>언주로 3</td>\n",
       "      <td>NaN</td>\n",
       "      <td>-</td>\n",
       "      <td>-</td>\n",
       "    </tr>\n",
       "    <tr>\n",
       "      <th>4</th>\n",
       "      <td>서울특별시 강남구 개포동</td>\n",
       "      <td>658-1</td>\n",
       "      <td>658.0</td>\n",
       "      <td>1.0</td>\n",
       "      <td>개포6차우성아파트1동~8동</td>\n",
       "      <td>54.98</td>\n",
       "      <td>201804</td>\n",
       "      <td>5</td>\n",
       "      <td>107,500</td>\n",
       "      <td>5</td>\n",
       "      <td>1987</td>\n",
       "      <td>언주로 3</td>\n",
       "      <td>NaN</td>\n",
       "      <td>-</td>\n",
       "      <td>-</td>\n",
       "    </tr>\n",
       "    <tr>\n",
       "      <th>...</th>\n",
       "      <td>...</td>\n",
       "      <td>...</td>\n",
       "      <td>...</td>\n",
       "      <td>...</td>\n",
       "      <td>...</td>\n",
       "      <td>...</td>\n",
       "      <td>...</td>\n",
       "      <td>...</td>\n",
       "      <td>...</td>\n",
       "      <td>...</td>\n",
       "      <td>...</td>\n",
       "      <td>...</td>\n",
       "      <td>...</td>\n",
       "      <td>...</td>\n",
       "      <td>...</td>\n",
       "    </tr>\n",
       "    <tr>\n",
       "      <th>84234</th>\n",
       "      <td>서울특별시 중랑구 중화동</td>\n",
       "      <td>274-77</td>\n",
       "      <td>274.0</td>\n",
       "      <td>77.0</td>\n",
       "      <td>한영(104)</td>\n",
       "      <td>67.57</td>\n",
       "      <td>202008</td>\n",
       "      <td>7</td>\n",
       "      <td>26,000</td>\n",
       "      <td>2</td>\n",
       "      <td>2003</td>\n",
       "      <td>동일로144길 74</td>\n",
       "      <td>NaN</td>\n",
       "      <td>-</td>\n",
       "      <td>-</td>\n",
       "    </tr>\n",
       "    <tr>\n",
       "      <th>84235</th>\n",
       "      <td>서울특별시 중랑구 중화동</td>\n",
       "      <td>11</td>\n",
       "      <td>11.0</td>\n",
       "      <td>0.0</td>\n",
       "      <td>현대휴앤미</td>\n",
       "      <td>95.94</td>\n",
       "      <td>202007</td>\n",
       "      <td>10</td>\n",
       "      <td>44,000</td>\n",
       "      <td>6</td>\n",
       "      <td>2007</td>\n",
       "      <td>봉화산로27가길 23</td>\n",
       "      <td>NaN</td>\n",
       "      <td>-</td>\n",
       "      <td>-</td>\n",
       "    </tr>\n",
       "    <tr>\n",
       "      <th>84236</th>\n",
       "      <td>서울특별시 중랑구 중화동</td>\n",
       "      <td>11</td>\n",
       "      <td>11.0</td>\n",
       "      <td>0.0</td>\n",
       "      <td>현대휴앤미</td>\n",
       "      <td>100.17</td>\n",
       "      <td>202012</td>\n",
       "      <td>3</td>\n",
       "      <td>54,800</td>\n",
       "      <td>5</td>\n",
       "      <td>2007</td>\n",
       "      <td>봉화산로27가길 23</td>\n",
       "      <td>NaN</td>\n",
       "      <td>-</td>\n",
       "      <td>-</td>\n",
       "    </tr>\n",
       "    <tr>\n",
       "      <th>84237</th>\n",
       "      <td>서울특별시 중랑구 중화동</td>\n",
       "      <td>11월 07일</td>\n",
       "      <td>11.0</td>\n",
       "      <td>7.0</td>\n",
       "      <td>현대휴앤미(102동)</td>\n",
       "      <td>77.71</td>\n",
       "      <td>202009</td>\n",
       "      <td>28</td>\n",
       "      <td>40,000</td>\n",
       "      <td>5</td>\n",
       "      <td>2007</td>\n",
       "      <td>봉화산로27가길 19</td>\n",
       "      <td>NaN</td>\n",
       "      <td>-</td>\n",
       "      <td>-</td>\n",
       "    </tr>\n",
       "    <tr>\n",
       "      <th>84238</th>\n",
       "      <td>서울특별시 중랑구 중화동</td>\n",
       "      <td>11월 07일</td>\n",
       "      <td>11.0</td>\n",
       "      <td>7.0</td>\n",
       "      <td>현대휴앤미(102동)</td>\n",
       "      <td>77.71</td>\n",
       "      <td>202009</td>\n",
       "      <td>28</td>\n",
       "      <td>40,000</td>\n",
       "      <td>5</td>\n",
       "      <td>2007</td>\n",
       "      <td>봉화산로27가길 19</td>\n",
       "      <td>20201027.0</td>\n",
       "      <td>-</td>\n",
       "      <td>-</td>\n",
       "    </tr>\n",
       "  </tbody>\n",
       "</table>\n",
       "<p>240921 rows × 15 columns</p>\n",
       "</div>"
      ],
      "text/plain": [
       "                 시군구       번지     본번    부번             단지명  전용면적(㎡)    계약년월  \\\n",
       "0      서울특별시 강남구 개포동    658-1  658.0   1.0  개포6차우성아파트1동~8동    79.97  201801   \n",
       "1      서울특별시 강남구 개포동    658-1  658.0   1.0  개포6차우성아파트1동~8동    79.97  201801   \n",
       "2      서울특별시 강남구 개포동    658-1  658.0   1.0  개포6차우성아파트1동~8동    79.97  201801   \n",
       "3      서울특별시 강남구 개포동    658-1  658.0   1.0  개포6차우성아파트1동~8동    79.97  201803   \n",
       "4      서울특별시 강남구 개포동    658-1  658.0   1.0  개포6차우성아파트1동~8동    54.98  201804   \n",
       "...              ...      ...    ...   ...             ...      ...     ...   \n",
       "84234  서울특별시 중랑구 중화동   274-77  274.0  77.0         한영(104)    67.57  202008   \n",
       "84235  서울특별시 중랑구 중화동       11   11.0   0.0           현대휴앤미    95.94  202007   \n",
       "84236  서울특별시 중랑구 중화동       11   11.0   0.0           현대휴앤미   100.17  202012   \n",
       "84237  서울특별시 중랑구 중화동  11월 07일   11.0   7.0     현대휴앤미(102동)    77.71  202009   \n",
       "84238  서울특별시 중랑구 중화동  11월 07일   11.0   7.0     현대휴앤미(102동)    77.71  202009   \n",
       "\n",
       "       계약일 거래금액(만원)  층  건축년도          도로명     해제사유발생일 거래유형 중개사소재지  \n",
       "0        3  130,000  4  1987        언주로 3         NaN    -      -  \n",
       "1        8  117,000  2  1987        언주로 3         NaN    -      -  \n",
       "2       11  130,000  1  1987        언주로 3         NaN    -      -  \n",
       "3       19  139,500  2  1987        언주로 3         NaN    -      -  \n",
       "4        5  107,500  5  1987        언주로 3         NaN    -      -  \n",
       "...    ...      ... ..   ...          ...         ...  ...    ...  \n",
       "84234    7   26,000  2  2003   동일로144길 74         NaN    -      -  \n",
       "84235   10   44,000  6  2007  봉화산로27가길 23         NaN    -      -  \n",
       "84236    3   54,800  5  2007  봉화산로27가길 23         NaN    -      -  \n",
       "84237   28   40,000  5  2007  봉화산로27가길 19         NaN    -      -  \n",
       "84238   28   40,000  5  2007  봉화산로27가길 19  20201027.0    -      -  \n",
       "\n",
       "[240921 rows x 15 columns]"
      ]
     },
     "execution_count": 3,
     "metadata": {},
     "output_type": "execute_result"
    }
   ],
   "source": [
    "train_data = pd.concat([estate_price_2018, estate_price_2019, estate_price_2020])\n",
    "train_data"
   ]
  },
  {
   "cell_type": "code",
   "execution_count": 4,
   "id": "b196c82f",
   "metadata": {},
   "outputs": [],
   "source": [
    "# train data 생성 위한 전처리 수행\n",
    "\n",
    "train_data.drop(['해제사유발생일', '거래유형', '중개사소재지'], inplace=True, axis=1)\n",
    "train_data.drop(['번지', '본번', '부번', '계약일'], inplace=True, axis=1)\n",
    "# train_data.to_csv('projectDataset/main data from seoul/train_data.csv', index=False, encoding='utf-8-sig')"
   ]
  },
  {
   "cell_type": "code",
   "execution_count": 5,
   "id": "9bea6950",
   "metadata": {},
   "outputs": [
    {
     "name": "stdout",
     "output_type": "stream",
     "text": [
      "<class 'pandas.core.frame.DataFrame'>\n",
      "Int64Index: 240921 entries, 0 to 84238\n",
      "Data columns (total 8 columns):\n",
      " #   Column    Non-Null Count   Dtype  \n",
      "---  ------    --------------   -----  \n",
      " 0   시군구       240921 non-null  object \n",
      " 1   단지명       240921 non-null  object \n",
      " 2   전용면적(㎡)   240921 non-null  float64\n",
      " 3   계약년월      240921 non-null  int64  \n",
      " 4   거래금액(만원)  240921 non-null  object \n",
      " 5   층         240921 non-null  int64  \n",
      " 6   건축년도      240921 non-null  int64  \n",
      " 7   도로명       240921 non-null  object \n",
      "dtypes: float64(1), int64(3), object(4)\n",
      "memory usage: 16.5+ MB\n"
     ]
    }
   ],
   "source": [
    "train_data.info()"
   ]
  },
  {
   "cell_type": "code",
   "execution_count": 6,
   "id": "ea9c05cd",
   "metadata": {},
   "outputs": [
    {
     "data": {
      "text/html": [
       "<div>\n",
       "<style scoped>\n",
       "    .dataframe tbody tr th:only-of-type {\n",
       "        vertical-align: middle;\n",
       "    }\n",
       "\n",
       "    .dataframe tbody tr th {\n",
       "        vertical-align: top;\n",
       "    }\n",
       "\n",
       "    .dataframe thead th {\n",
       "        text-align: right;\n",
       "    }\n",
       "</style>\n",
       "<table border=\"1\" class=\"dataframe\">\n",
       "  <thead>\n",
       "    <tr style=\"text-align: right;\">\n",
       "      <th></th>\n",
       "      <th>시군구</th>\n",
       "      <th>단지명</th>\n",
       "      <th>전용면적(㎡)</th>\n",
       "      <th>계약년월</th>\n",
       "      <th>거래금액(만원)</th>\n",
       "      <th>층</th>\n",
       "      <th>건축년도</th>\n",
       "      <th>도로명</th>\n",
       "    </tr>\n",
       "  </thead>\n",
       "  <tbody>\n",
       "    <tr>\n",
       "      <th>0</th>\n",
       "      <td>서울특별시 강남구 개포동</td>\n",
       "      <td>개포6차우성아파트1동~8동</td>\n",
       "      <td>79.97</td>\n",
       "      <td>201801</td>\n",
       "      <td>130,000</td>\n",
       "      <td>4</td>\n",
       "      <td>1987</td>\n",
       "      <td>언주로 3</td>\n",
       "    </tr>\n",
       "    <tr>\n",
       "      <th>1</th>\n",
       "      <td>서울특별시 강남구 개포동</td>\n",
       "      <td>개포6차우성아파트1동~8동</td>\n",
       "      <td>79.97</td>\n",
       "      <td>201801</td>\n",
       "      <td>117,000</td>\n",
       "      <td>2</td>\n",
       "      <td>1987</td>\n",
       "      <td>언주로 3</td>\n",
       "    </tr>\n",
       "    <tr>\n",
       "      <th>2</th>\n",
       "      <td>서울특별시 강남구 개포동</td>\n",
       "      <td>개포6차우성아파트1동~8동</td>\n",
       "      <td>79.97</td>\n",
       "      <td>201801</td>\n",
       "      <td>130,000</td>\n",
       "      <td>1</td>\n",
       "      <td>1987</td>\n",
       "      <td>언주로 3</td>\n",
       "    </tr>\n",
       "    <tr>\n",
       "      <th>3</th>\n",
       "      <td>서울특별시 강남구 개포동</td>\n",
       "      <td>개포6차우성아파트1동~8동</td>\n",
       "      <td>79.97</td>\n",
       "      <td>201803</td>\n",
       "      <td>139,500</td>\n",
       "      <td>2</td>\n",
       "      <td>1987</td>\n",
       "      <td>언주로 3</td>\n",
       "    </tr>\n",
       "    <tr>\n",
       "      <th>4</th>\n",
       "      <td>서울특별시 강남구 개포동</td>\n",
       "      <td>개포6차우성아파트1동~8동</td>\n",
       "      <td>54.98</td>\n",
       "      <td>201804</td>\n",
       "      <td>107,500</td>\n",
       "      <td>5</td>\n",
       "      <td>1987</td>\n",
       "      <td>언주로 3</td>\n",
       "    </tr>\n",
       "    <tr>\n",
       "      <th>...</th>\n",
       "      <td>...</td>\n",
       "      <td>...</td>\n",
       "      <td>...</td>\n",
       "      <td>...</td>\n",
       "      <td>...</td>\n",
       "      <td>...</td>\n",
       "      <td>...</td>\n",
       "      <td>...</td>\n",
       "    </tr>\n",
       "    <tr>\n",
       "      <th>84234</th>\n",
       "      <td>서울특별시 중랑구 중화동</td>\n",
       "      <td>한영(104)</td>\n",
       "      <td>67.57</td>\n",
       "      <td>202008</td>\n",
       "      <td>26,000</td>\n",
       "      <td>2</td>\n",
       "      <td>2003</td>\n",
       "      <td>동일로144길 74</td>\n",
       "    </tr>\n",
       "    <tr>\n",
       "      <th>84235</th>\n",
       "      <td>서울특별시 중랑구 중화동</td>\n",
       "      <td>현대휴앤미</td>\n",
       "      <td>95.94</td>\n",
       "      <td>202007</td>\n",
       "      <td>44,000</td>\n",
       "      <td>6</td>\n",
       "      <td>2007</td>\n",
       "      <td>봉화산로27가길 23</td>\n",
       "    </tr>\n",
       "    <tr>\n",
       "      <th>84236</th>\n",
       "      <td>서울특별시 중랑구 중화동</td>\n",
       "      <td>현대휴앤미</td>\n",
       "      <td>100.17</td>\n",
       "      <td>202012</td>\n",
       "      <td>54,800</td>\n",
       "      <td>5</td>\n",
       "      <td>2007</td>\n",
       "      <td>봉화산로27가길 23</td>\n",
       "    </tr>\n",
       "    <tr>\n",
       "      <th>84237</th>\n",
       "      <td>서울특별시 중랑구 중화동</td>\n",
       "      <td>현대휴앤미(102동)</td>\n",
       "      <td>77.71</td>\n",
       "      <td>202009</td>\n",
       "      <td>40,000</td>\n",
       "      <td>5</td>\n",
       "      <td>2007</td>\n",
       "      <td>봉화산로27가길 19</td>\n",
       "    </tr>\n",
       "    <tr>\n",
       "      <th>84238</th>\n",
       "      <td>서울특별시 중랑구 중화동</td>\n",
       "      <td>현대휴앤미(102동)</td>\n",
       "      <td>77.71</td>\n",
       "      <td>202009</td>\n",
       "      <td>40,000</td>\n",
       "      <td>5</td>\n",
       "      <td>2007</td>\n",
       "      <td>봉화산로27가길 19</td>\n",
       "    </tr>\n",
       "  </tbody>\n",
       "</table>\n",
       "<p>240921 rows × 8 columns</p>\n",
       "</div>"
      ],
      "text/plain": [
       "                 시군구             단지명  전용면적(㎡)    계약년월 거래금액(만원)  층  건축년도  \\\n",
       "0      서울특별시 강남구 개포동  개포6차우성아파트1동~8동    79.97  201801  130,000  4  1987   \n",
       "1      서울특별시 강남구 개포동  개포6차우성아파트1동~8동    79.97  201801  117,000  2  1987   \n",
       "2      서울특별시 강남구 개포동  개포6차우성아파트1동~8동    79.97  201801  130,000  1  1987   \n",
       "3      서울특별시 강남구 개포동  개포6차우성아파트1동~8동    79.97  201803  139,500  2  1987   \n",
       "4      서울특별시 강남구 개포동  개포6차우성아파트1동~8동    54.98  201804  107,500  5  1987   \n",
       "...              ...             ...      ...     ...      ... ..   ...   \n",
       "84234  서울특별시 중랑구 중화동         한영(104)    67.57  202008   26,000  2  2003   \n",
       "84235  서울특별시 중랑구 중화동           현대휴앤미    95.94  202007   44,000  6  2007   \n",
       "84236  서울특별시 중랑구 중화동           현대휴앤미   100.17  202012   54,800  5  2007   \n",
       "84237  서울특별시 중랑구 중화동     현대휴앤미(102동)    77.71  202009   40,000  5  2007   \n",
       "84238  서울특별시 중랑구 중화동     현대휴앤미(102동)    77.71  202009   40,000  5  2007   \n",
       "\n",
       "               도로명  \n",
       "0            언주로 3  \n",
       "1            언주로 3  \n",
       "2            언주로 3  \n",
       "3            언주로 3  \n",
       "4            언주로 3  \n",
       "...            ...  \n",
       "84234   동일로144길 74  \n",
       "84235  봉화산로27가길 23  \n",
       "84236  봉화산로27가길 23  \n",
       "84237  봉화산로27가길 19  \n",
       "84238  봉화산로27가길 19  \n",
       "\n",
       "[240921 rows x 8 columns]"
      ]
     },
     "execution_count": 6,
     "metadata": {},
     "output_type": "execute_result"
    }
   ],
   "source": [
    "train_data"
   ]
  },
  {
   "cell_type": "markdown",
   "id": "789ccdfb",
   "metadata": {},
   "source": [
    "### 1.2 단지명 컬럼 데이터 분석 및 전처리"
   ]
  },
  {
   "cell_type": "code",
   "execution_count": 7,
   "id": "1d3d6b4f",
   "metadata": {},
   "outputs": [
    {
     "data": {
      "text/plain": [
       "시군구         0\n",
       "단지명         0\n",
       "전용면적(㎡)     0\n",
       "계약년월        0\n",
       "거래금액(만원)    0\n",
       "층           0\n",
       "건축년도        0\n",
       "도로명         0\n",
       "dtype: int64"
      ]
     },
     "execution_count": 7,
     "metadata": {},
     "output_type": "execute_result"
    }
   ],
   "source": [
    "# 각 컬럼 별 결측치 파악\n",
    "\n",
    "np.sum(pd.isnull(train_data))"
   ]
  },
  {
   "cell_type": "code",
   "execution_count": 8,
   "id": "7f7755bd",
   "metadata": {},
   "outputs": [
    {
     "data": {
      "text/html": [
       "<div>\n",
       "<style scoped>\n",
       "    .dataframe tbody tr th:only-of-type {\n",
       "        vertical-align: middle;\n",
       "    }\n",
       "\n",
       "    .dataframe tbody tr th {\n",
       "        vertical-align: top;\n",
       "    }\n",
       "\n",
       "    .dataframe thead th {\n",
       "        text-align: right;\n",
       "    }\n",
       "</style>\n",
       "<table border=\"1\" class=\"dataframe\">\n",
       "  <thead>\n",
       "    <tr style=\"text-align: right;\">\n",
       "      <th></th>\n",
       "      <th>시군구</th>\n",
       "      <th>단지명</th>\n",
       "      <th>전용면적(㎡)</th>\n",
       "      <th>계약년월</th>\n",
       "      <th>거래금액(만원)</th>\n",
       "      <th>층</th>\n",
       "      <th>건축년도</th>\n",
       "      <th>도로명</th>\n",
       "      <th>계약연도</th>\n",
       "    </tr>\n",
       "  </thead>\n",
       "  <tbody>\n",
       "    <tr>\n",
       "      <th>0</th>\n",
       "      <td>서울특별시 강남구 개포동</td>\n",
       "      <td>개포6차우성아파트1동~8동</td>\n",
       "      <td>79.97</td>\n",
       "      <td>201801</td>\n",
       "      <td>130,000</td>\n",
       "      <td>4</td>\n",
       "      <td>1987</td>\n",
       "      <td>언주로 3</td>\n",
       "      <td>2018</td>\n",
       "    </tr>\n",
       "    <tr>\n",
       "      <th>1</th>\n",
       "      <td>서울특별시 강남구 개포동</td>\n",
       "      <td>개포6차우성아파트1동~8동</td>\n",
       "      <td>79.97</td>\n",
       "      <td>201801</td>\n",
       "      <td>117,000</td>\n",
       "      <td>2</td>\n",
       "      <td>1987</td>\n",
       "      <td>언주로 3</td>\n",
       "      <td>2018</td>\n",
       "    </tr>\n",
       "    <tr>\n",
       "      <th>2</th>\n",
       "      <td>서울특별시 강남구 개포동</td>\n",
       "      <td>개포6차우성아파트1동~8동</td>\n",
       "      <td>79.97</td>\n",
       "      <td>201801</td>\n",
       "      <td>130,000</td>\n",
       "      <td>1</td>\n",
       "      <td>1987</td>\n",
       "      <td>언주로 3</td>\n",
       "      <td>2018</td>\n",
       "    </tr>\n",
       "    <tr>\n",
       "      <th>3</th>\n",
       "      <td>서울특별시 강남구 개포동</td>\n",
       "      <td>개포6차우성아파트1동~8동</td>\n",
       "      <td>79.97</td>\n",
       "      <td>201803</td>\n",
       "      <td>139,500</td>\n",
       "      <td>2</td>\n",
       "      <td>1987</td>\n",
       "      <td>언주로 3</td>\n",
       "      <td>2018</td>\n",
       "    </tr>\n",
       "    <tr>\n",
       "      <th>4</th>\n",
       "      <td>서울특별시 강남구 개포동</td>\n",
       "      <td>개포6차우성아파트1동~8동</td>\n",
       "      <td>54.98</td>\n",
       "      <td>201804</td>\n",
       "      <td>107,500</td>\n",
       "      <td>5</td>\n",
       "      <td>1987</td>\n",
       "      <td>언주로 3</td>\n",
       "      <td>2018</td>\n",
       "    </tr>\n",
       "  </tbody>\n",
       "</table>\n",
       "</div>"
      ],
      "text/plain": [
       "             시군구             단지명  전용면적(㎡)    계약년월 거래금액(만원)  층  건축년도    도로명  \\\n",
       "0  서울특별시 강남구 개포동  개포6차우성아파트1동~8동    79.97  201801  130,000  4  1987  언주로 3   \n",
       "1  서울특별시 강남구 개포동  개포6차우성아파트1동~8동    79.97  201801  117,000  2  1987  언주로 3   \n",
       "2  서울특별시 강남구 개포동  개포6차우성아파트1동~8동    79.97  201801  130,000  1  1987  언주로 3   \n",
       "3  서울특별시 강남구 개포동  개포6차우성아파트1동~8동    79.97  201803  139,500  2  1987  언주로 3   \n",
       "4  서울특별시 강남구 개포동  개포6차우성아파트1동~8동    54.98  201804  107,500  5  1987  언주로 3   \n",
       "\n",
       "   계약연도  \n",
       "0  2018  \n",
       "1  2018  \n",
       "2  2018  \n",
       "3  2018  \n",
       "4  2018  "
      ]
     },
     "execution_count": 8,
     "metadata": {},
     "output_type": "execute_result"
    }
   ],
   "source": [
    "# 연도별 데이터 집계 위해 계약연도 컬럼 추가\n",
    "\n",
    "year_splited = train_data['계약년월'].astype(str).str[:4]\n",
    "train_data['계약연도'] = year_splited\n",
    "train_data.head()"
   ]
  },
  {
   "cell_type": "code",
   "execution_count": 9,
   "id": "8bcede52",
   "metadata": {},
   "outputs": [],
   "source": [
    "# 단지 별 아파트 데이터 탐색\n",
    "train_data_by_danji = train_data.groupby(train_data['단지명'])\n",
    "\n",
    "# 아파트 실거래가 컬럼 숫자형 변환 => 단지 별 아파트 데이터 탐색에 실거래가 포함 위함\n",
    "train_data['거래금액(만원)'] = train_data['거래금액(만원)'].apply(lambda x: x.replace(',', '')).astype('int64')\n",
    "\n",
    "# 단지 별 거래금액(만원) 평균 가격(2018~2020)\n",
    "train_data_by_danji = train_data_by_danji.mean()"
   ]
  },
  {
   "cell_type": "code",
   "execution_count": 10,
   "id": "148e9b6a",
   "metadata": {},
   "outputs": [
    {
     "data": {
      "text/html": [
       "<div>\n",
       "<style scoped>\n",
       "    .dataframe tbody tr th:only-of-type {\n",
       "        vertical-align: middle;\n",
       "    }\n",
       "\n",
       "    .dataframe tbody tr th {\n",
       "        vertical-align: top;\n",
       "    }\n",
       "\n",
       "    .dataframe thead th {\n",
       "        text-align: right;\n",
       "    }\n",
       "</style>\n",
       "<table border=\"1\" class=\"dataframe\">\n",
       "  <thead>\n",
       "    <tr style=\"text-align: right;\">\n",
       "      <th></th>\n",
       "      <th>전용면적(㎡)</th>\n",
       "      <th>계약년월</th>\n",
       "      <th>거래금액(만원)</th>\n",
       "      <th>층</th>\n",
       "      <th>건축년도</th>\n",
       "    </tr>\n",
       "    <tr>\n",
       "      <th>단지명</th>\n",
       "      <th></th>\n",
       "      <th></th>\n",
       "      <th></th>\n",
       "      <th></th>\n",
       "      <th></th>\n",
       "    </tr>\n",
       "  </thead>\n",
       "  <tbody>\n",
       "    <tr>\n",
       "      <th>(1-102)</th>\n",
       "      <td>29.985000</td>\n",
       "      <td>201905.000000</td>\n",
       "      <td>8125.000000</td>\n",
       "      <td>3.500000</td>\n",
       "      <td>1997.0</td>\n",
       "    </tr>\n",
       "    <tr>\n",
       "      <th>(1101-1)</th>\n",
       "      <td>14.168571</td>\n",
       "      <td>201911.523810</td>\n",
       "      <td>11892.023810</td>\n",
       "      <td>6.595238</td>\n",
       "      <td>2012.0</td>\n",
       "    </tr>\n",
       "    <tr>\n",
       "      <th>(13-21)</th>\n",
       "      <td>66.510000</td>\n",
       "      <td>201803.666667</td>\n",
       "      <td>38666.666667</td>\n",
       "      <td>4.000000</td>\n",
       "      <td>2006.0</td>\n",
       "    </tr>\n",
       "    <tr>\n",
       "      <th>(1546-0)</th>\n",
       "      <td>29.350000</td>\n",
       "      <td>201910.000000</td>\n",
       "      <td>22900.000000</td>\n",
       "      <td>9.000000</td>\n",
       "      <td>2015.0</td>\n",
       "    </tr>\n",
       "    <tr>\n",
       "      <th>(1617-21)</th>\n",
       "      <td>82.340000</td>\n",
       "      <td>201806.000000</td>\n",
       "      <td>66500.000000</td>\n",
       "      <td>5.000000</td>\n",
       "      <td>2007.0</td>\n",
       "    </tr>\n",
       "    <tr>\n",
       "      <th>...</th>\n",
       "      <td>...</td>\n",
       "      <td>...</td>\n",
       "      <td>...</td>\n",
       "      <td>...</td>\n",
       "      <td>...</td>\n",
       "    </tr>\n",
       "    <tr>\n",
       "      <th>힐튼빌리지1차</th>\n",
       "      <td>82.350000</td>\n",
       "      <td>202005.000000</td>\n",
       "      <td>63000.000000</td>\n",
       "      <td>1.000000</td>\n",
       "      <td>2002.0</td>\n",
       "    </tr>\n",
       "    <tr>\n",
       "      <th>힐튼빌리지2차</th>\n",
       "      <td>140.720000</td>\n",
       "      <td>201907.333333</td>\n",
       "      <td>81500.000000</td>\n",
       "      <td>3.333333</td>\n",
       "      <td>2002.0</td>\n",
       "    </tr>\n",
       "    <tr>\n",
       "      <th>힐하우스</th>\n",
       "      <td>163.980000</td>\n",
       "      <td>202010.000000</td>\n",
       "      <td>118000.000000</td>\n",
       "      <td>6.000000</td>\n",
       "      <td>1998.0</td>\n",
       "    </tr>\n",
       "    <tr>\n",
       "      <th>힐하우스(577-79)</th>\n",
       "      <td>88.350000</td>\n",
       "      <td>201802.000000</td>\n",
       "      <td>59000.000000</td>\n",
       "      <td>1.000000</td>\n",
       "      <td>2003.0</td>\n",
       "    </tr>\n",
       "    <tr>\n",
       "      <th>힐하우스(802-3)</th>\n",
       "      <td>212.480000</td>\n",
       "      <td>201803.000000</td>\n",
       "      <td>87000.000000</td>\n",
       "      <td>1.000000</td>\n",
       "      <td>2003.0</td>\n",
       "    </tr>\n",
       "  </tbody>\n",
       "</table>\n",
       "<p>6850 rows × 5 columns</p>\n",
       "</div>"
      ],
      "text/plain": [
       "                 전용면적(㎡)           계약년월       거래금액(만원)         층    건축년도\n",
       "단지명                                                                     \n",
       "(1-102)        29.985000  201905.000000    8125.000000  3.500000  1997.0\n",
       "(1101-1)       14.168571  201911.523810   11892.023810  6.595238  2012.0\n",
       "(13-21)        66.510000  201803.666667   38666.666667  4.000000  2006.0\n",
       "(1546-0)       29.350000  201910.000000   22900.000000  9.000000  2015.0\n",
       "(1617-21)      82.340000  201806.000000   66500.000000  5.000000  2007.0\n",
       "...                  ...            ...            ...       ...     ...\n",
       "힐튼빌리지1차        82.350000  202005.000000   63000.000000  1.000000  2002.0\n",
       "힐튼빌리지2차       140.720000  201907.333333   81500.000000  3.333333  2002.0\n",
       "힐하우스          163.980000  202010.000000  118000.000000  6.000000  1998.0\n",
       "힐하우스(577-79)   88.350000  201802.000000   59000.000000  1.000000  2003.0\n",
       "힐하우스(802-3)   212.480000  201803.000000   87000.000000  1.000000  2003.0\n",
       "\n",
       "[6850 rows x 5 columns]"
      ]
     },
     "execution_count": 10,
     "metadata": {},
     "output_type": "execute_result"
    }
   ],
   "source": [
    "train_data_by_danji"
   ]
  },
  {
   "cell_type": "code",
   "execution_count": 11,
   "id": "e9624de4",
   "metadata": {},
   "outputs": [
    {
     "data": {
      "application/vnd.plotly.v1+json": {
       "config": {
        "plotlyServerURL": "https://plot.ly"
       },
       "data": [
        {
         "type": "bar",
         "x": [
          "상지카일룸",
          "효성빌라청담101(A동)",
          "상지리츠빌카일룸2차",
          "마크힐스이스트윙",
          "상지리츠빌카일룸(65-4)",
          "효성빌라청담101(B동)",
          "청담어퍼하우스",
          "아펠바움",
          "현대65동(대림아크로빌아파트)",
          "상지리츠빌카일룸",
          "트라움하우스3",
          "로덴하우스웨스트빌리지",
          "한양8(81동한개동)",
          "레베빌",
          "한남더힐",
          "논현라폴리움",
          "연세리버테라스",
          "상지리츠빌카일룸3차",
          "상지리츠빌카일룸(1009-4)",
          "청담7상지리츠빌",
          "로덴하우스이스트빌리지",
          "현대2차(10,11,20,23,24,25동)",
          "현대7차(73~77,82,85동)",
          "대림빌라트",
          "갤러리아포레",
          "이니그마빌2",
          "레베빌(798-1)",
          "반포주공1단지",
          "스톤힐스",
          "신현대11차"
         ],
         "y": [
          640000,
          620000,
          592500,
          553333.3333333334,
          533000,
          530000,
          519500,
          492166.6666666667,
          489000,
          483057.14285714284,
          460000,
          455750,
          451800,
          450000,
          449567.82945736434,
          444000,
          440000,
          431925,
          420000,
          419000,
          409000,
          405666.6666666667,
          405470,
          399250,
          397774.03125,
          388666.6666666667,
          380000,
          374835.04929577466,
          370000,
          368602.5641025641
         ]
        }
       ],
       "layout": {
        "autosize": false,
        "height": 1000,
        "template": {
         "data": {
          "bar": [
           {
            "error_x": {
             "color": "#2a3f5f"
            },
            "error_y": {
             "color": "#2a3f5f"
            },
            "marker": {
             "line": {
              "color": "#E5ECF6",
              "width": 0.5
             },
             "pattern": {
              "fillmode": "overlay",
              "size": 10,
              "solidity": 0.2
             }
            },
            "type": "bar"
           }
          ],
          "barpolar": [
           {
            "marker": {
             "line": {
              "color": "#E5ECF6",
              "width": 0.5
             },
             "pattern": {
              "fillmode": "overlay",
              "size": 10,
              "solidity": 0.2
             }
            },
            "type": "barpolar"
           }
          ],
          "carpet": [
           {
            "aaxis": {
             "endlinecolor": "#2a3f5f",
             "gridcolor": "white",
             "linecolor": "white",
             "minorgridcolor": "white",
             "startlinecolor": "#2a3f5f"
            },
            "baxis": {
             "endlinecolor": "#2a3f5f",
             "gridcolor": "white",
             "linecolor": "white",
             "minorgridcolor": "white",
             "startlinecolor": "#2a3f5f"
            },
            "type": "carpet"
           }
          ],
          "choropleth": [
           {
            "colorbar": {
             "outlinewidth": 0,
             "ticks": ""
            },
            "type": "choropleth"
           }
          ],
          "contour": [
           {
            "colorbar": {
             "outlinewidth": 0,
             "ticks": ""
            },
            "colorscale": [
             [
              0,
              "#0d0887"
             ],
             [
              0.1111111111111111,
              "#46039f"
             ],
             [
              0.2222222222222222,
              "#7201a8"
             ],
             [
              0.3333333333333333,
              "#9c179e"
             ],
             [
              0.4444444444444444,
              "#bd3786"
             ],
             [
              0.5555555555555556,
              "#d8576b"
             ],
             [
              0.6666666666666666,
              "#ed7953"
             ],
             [
              0.7777777777777778,
              "#fb9f3a"
             ],
             [
              0.8888888888888888,
              "#fdca26"
             ],
             [
              1,
              "#f0f921"
             ]
            ],
            "type": "contour"
           }
          ],
          "contourcarpet": [
           {
            "colorbar": {
             "outlinewidth": 0,
             "ticks": ""
            },
            "type": "contourcarpet"
           }
          ],
          "heatmap": [
           {
            "colorbar": {
             "outlinewidth": 0,
             "ticks": ""
            },
            "colorscale": [
             [
              0,
              "#0d0887"
             ],
             [
              0.1111111111111111,
              "#46039f"
             ],
             [
              0.2222222222222222,
              "#7201a8"
             ],
             [
              0.3333333333333333,
              "#9c179e"
             ],
             [
              0.4444444444444444,
              "#bd3786"
             ],
             [
              0.5555555555555556,
              "#d8576b"
             ],
             [
              0.6666666666666666,
              "#ed7953"
             ],
             [
              0.7777777777777778,
              "#fb9f3a"
             ],
             [
              0.8888888888888888,
              "#fdca26"
             ],
             [
              1,
              "#f0f921"
             ]
            ],
            "type": "heatmap"
           }
          ],
          "heatmapgl": [
           {
            "colorbar": {
             "outlinewidth": 0,
             "ticks": ""
            },
            "colorscale": [
             [
              0,
              "#0d0887"
             ],
             [
              0.1111111111111111,
              "#46039f"
             ],
             [
              0.2222222222222222,
              "#7201a8"
             ],
             [
              0.3333333333333333,
              "#9c179e"
             ],
             [
              0.4444444444444444,
              "#bd3786"
             ],
             [
              0.5555555555555556,
              "#d8576b"
             ],
             [
              0.6666666666666666,
              "#ed7953"
             ],
             [
              0.7777777777777778,
              "#fb9f3a"
             ],
             [
              0.8888888888888888,
              "#fdca26"
             ],
             [
              1,
              "#f0f921"
             ]
            ],
            "type": "heatmapgl"
           }
          ],
          "histogram": [
           {
            "marker": {
             "pattern": {
              "fillmode": "overlay",
              "size": 10,
              "solidity": 0.2
             }
            },
            "type": "histogram"
           }
          ],
          "histogram2d": [
           {
            "colorbar": {
             "outlinewidth": 0,
             "ticks": ""
            },
            "colorscale": [
             [
              0,
              "#0d0887"
             ],
             [
              0.1111111111111111,
              "#46039f"
             ],
             [
              0.2222222222222222,
              "#7201a8"
             ],
             [
              0.3333333333333333,
              "#9c179e"
             ],
             [
              0.4444444444444444,
              "#bd3786"
             ],
             [
              0.5555555555555556,
              "#d8576b"
             ],
             [
              0.6666666666666666,
              "#ed7953"
             ],
             [
              0.7777777777777778,
              "#fb9f3a"
             ],
             [
              0.8888888888888888,
              "#fdca26"
             ],
             [
              1,
              "#f0f921"
             ]
            ],
            "type": "histogram2d"
           }
          ],
          "histogram2dcontour": [
           {
            "colorbar": {
             "outlinewidth": 0,
             "ticks": ""
            },
            "colorscale": [
             [
              0,
              "#0d0887"
             ],
             [
              0.1111111111111111,
              "#46039f"
             ],
             [
              0.2222222222222222,
              "#7201a8"
             ],
             [
              0.3333333333333333,
              "#9c179e"
             ],
             [
              0.4444444444444444,
              "#bd3786"
             ],
             [
              0.5555555555555556,
              "#d8576b"
             ],
             [
              0.6666666666666666,
              "#ed7953"
             ],
             [
              0.7777777777777778,
              "#fb9f3a"
             ],
             [
              0.8888888888888888,
              "#fdca26"
             ],
             [
              1,
              "#f0f921"
             ]
            ],
            "type": "histogram2dcontour"
           }
          ],
          "mesh3d": [
           {
            "colorbar": {
             "outlinewidth": 0,
             "ticks": ""
            },
            "type": "mesh3d"
           }
          ],
          "parcoords": [
           {
            "line": {
             "colorbar": {
              "outlinewidth": 0,
              "ticks": ""
             }
            },
            "type": "parcoords"
           }
          ],
          "pie": [
           {
            "automargin": true,
            "type": "pie"
           }
          ],
          "scatter": [
           {
            "marker": {
             "colorbar": {
              "outlinewidth": 0,
              "ticks": ""
             }
            },
            "type": "scatter"
           }
          ],
          "scatter3d": [
           {
            "line": {
             "colorbar": {
              "outlinewidth": 0,
              "ticks": ""
             }
            },
            "marker": {
             "colorbar": {
              "outlinewidth": 0,
              "ticks": ""
             }
            },
            "type": "scatter3d"
           }
          ],
          "scattercarpet": [
           {
            "marker": {
             "colorbar": {
              "outlinewidth": 0,
              "ticks": ""
             }
            },
            "type": "scattercarpet"
           }
          ],
          "scattergeo": [
           {
            "marker": {
             "colorbar": {
              "outlinewidth": 0,
              "ticks": ""
             }
            },
            "type": "scattergeo"
           }
          ],
          "scattergl": [
           {
            "marker": {
             "colorbar": {
              "outlinewidth": 0,
              "ticks": ""
             }
            },
            "type": "scattergl"
           }
          ],
          "scattermapbox": [
           {
            "marker": {
             "colorbar": {
              "outlinewidth": 0,
              "ticks": ""
             }
            },
            "type": "scattermapbox"
           }
          ],
          "scatterpolar": [
           {
            "marker": {
             "colorbar": {
              "outlinewidth": 0,
              "ticks": ""
             }
            },
            "type": "scatterpolar"
           }
          ],
          "scatterpolargl": [
           {
            "marker": {
             "colorbar": {
              "outlinewidth": 0,
              "ticks": ""
             }
            },
            "type": "scatterpolargl"
           }
          ],
          "scatterternary": [
           {
            "marker": {
             "colorbar": {
              "outlinewidth": 0,
              "ticks": ""
             }
            },
            "type": "scatterternary"
           }
          ],
          "surface": [
           {
            "colorbar": {
             "outlinewidth": 0,
             "ticks": ""
            },
            "colorscale": [
             [
              0,
              "#0d0887"
             ],
             [
              0.1111111111111111,
              "#46039f"
             ],
             [
              0.2222222222222222,
              "#7201a8"
             ],
             [
              0.3333333333333333,
              "#9c179e"
             ],
             [
              0.4444444444444444,
              "#bd3786"
             ],
             [
              0.5555555555555556,
              "#d8576b"
             ],
             [
              0.6666666666666666,
              "#ed7953"
             ],
             [
              0.7777777777777778,
              "#fb9f3a"
             ],
             [
              0.8888888888888888,
              "#fdca26"
             ],
             [
              1,
              "#f0f921"
             ]
            ],
            "type": "surface"
           }
          ],
          "table": [
           {
            "cells": {
             "fill": {
              "color": "#EBF0F8"
             },
             "line": {
              "color": "white"
             }
            },
            "header": {
             "fill": {
              "color": "#C8D4E3"
             },
             "line": {
              "color": "white"
             }
            },
            "type": "table"
           }
          ]
         },
         "layout": {
          "annotationdefaults": {
           "arrowcolor": "#2a3f5f",
           "arrowhead": 0,
           "arrowwidth": 1
          },
          "autotypenumbers": "strict",
          "coloraxis": {
           "colorbar": {
            "outlinewidth": 0,
            "ticks": ""
           }
          },
          "colorscale": {
           "diverging": [
            [
             0,
             "#8e0152"
            ],
            [
             0.1,
             "#c51b7d"
            ],
            [
             0.2,
             "#de77ae"
            ],
            [
             0.3,
             "#f1b6da"
            ],
            [
             0.4,
             "#fde0ef"
            ],
            [
             0.5,
             "#f7f7f7"
            ],
            [
             0.6,
             "#e6f5d0"
            ],
            [
             0.7,
             "#b8e186"
            ],
            [
             0.8,
             "#7fbc41"
            ],
            [
             0.9,
             "#4d9221"
            ],
            [
             1,
             "#276419"
            ]
           ],
           "sequential": [
            [
             0,
             "#0d0887"
            ],
            [
             0.1111111111111111,
             "#46039f"
            ],
            [
             0.2222222222222222,
             "#7201a8"
            ],
            [
             0.3333333333333333,
             "#9c179e"
            ],
            [
             0.4444444444444444,
             "#bd3786"
            ],
            [
             0.5555555555555556,
             "#d8576b"
            ],
            [
             0.6666666666666666,
             "#ed7953"
            ],
            [
             0.7777777777777778,
             "#fb9f3a"
            ],
            [
             0.8888888888888888,
             "#fdca26"
            ],
            [
             1,
             "#f0f921"
            ]
           ],
           "sequentialminus": [
            [
             0,
             "#0d0887"
            ],
            [
             0.1111111111111111,
             "#46039f"
            ],
            [
             0.2222222222222222,
             "#7201a8"
            ],
            [
             0.3333333333333333,
             "#9c179e"
            ],
            [
             0.4444444444444444,
             "#bd3786"
            ],
            [
             0.5555555555555556,
             "#d8576b"
            ],
            [
             0.6666666666666666,
             "#ed7953"
            ],
            [
             0.7777777777777778,
             "#fb9f3a"
            ],
            [
             0.8888888888888888,
             "#fdca26"
            ],
            [
             1,
             "#f0f921"
            ]
           ]
          },
          "colorway": [
           "#636efa",
           "#EF553B",
           "#00cc96",
           "#ab63fa",
           "#FFA15A",
           "#19d3f3",
           "#FF6692",
           "#B6E880",
           "#FF97FF",
           "#FECB52"
          ],
          "font": {
           "color": "#2a3f5f"
          },
          "geo": {
           "bgcolor": "white",
           "lakecolor": "white",
           "landcolor": "#E5ECF6",
           "showlakes": true,
           "showland": true,
           "subunitcolor": "white"
          },
          "hoverlabel": {
           "align": "left"
          },
          "hovermode": "closest",
          "mapbox": {
           "style": "light"
          },
          "paper_bgcolor": "white",
          "plot_bgcolor": "#E5ECF6",
          "polar": {
           "angularaxis": {
            "gridcolor": "white",
            "linecolor": "white",
            "ticks": ""
           },
           "bgcolor": "#E5ECF6",
           "radialaxis": {
            "gridcolor": "white",
            "linecolor": "white",
            "ticks": ""
           }
          },
          "scene": {
           "xaxis": {
            "backgroundcolor": "#E5ECF6",
            "gridcolor": "white",
            "gridwidth": 2,
            "linecolor": "white",
            "showbackground": true,
            "ticks": "",
            "zerolinecolor": "white"
           },
           "yaxis": {
            "backgroundcolor": "#E5ECF6",
            "gridcolor": "white",
            "gridwidth": 2,
            "linecolor": "white",
            "showbackground": true,
            "ticks": "",
            "zerolinecolor": "white"
           },
           "zaxis": {
            "backgroundcolor": "#E5ECF6",
            "gridcolor": "white",
            "gridwidth": 2,
            "linecolor": "white",
            "showbackground": true,
            "ticks": "",
            "zerolinecolor": "white"
           }
          },
          "shapedefaults": {
           "line": {
            "color": "#2a3f5f"
           }
          },
          "ternary": {
           "aaxis": {
            "gridcolor": "white",
            "linecolor": "white",
            "ticks": ""
           },
           "baxis": {
            "gridcolor": "white",
            "linecolor": "white",
            "ticks": ""
           },
           "bgcolor": "#E5ECF6",
           "caxis": {
            "gridcolor": "white",
            "linecolor": "white",
            "ticks": ""
           }
          },
          "title": {
           "x": 0.05
          },
          "xaxis": {
           "automargin": true,
           "gridcolor": "white",
           "linecolor": "white",
           "ticks": "",
           "title": {
            "standoff": 15
           },
           "zerolinecolor": "white",
           "zerolinewidth": 2
          },
          "yaxis": {
           "automargin": true,
           "gridcolor": "white",
           "linecolor": "white",
           "ticks": "",
           "title": {
            "standoff": 15
           },
           "zerolinecolor": "white",
           "zerolinewidth": 2
          }
         }
        },
        "title": {
         "text": "상위 30개 아파트 단지별 평균 거래금액(2018~2020)"
        },
        "width": 1200,
        "xaxis": {
         "title": {
          "text": "단지명"
         }
        },
        "yaxis": {
         "tickformat": "(만원)",
         "title": {
          "text": "거래금액(만원)"
         }
        }
       }
      }
     },
     "metadata": {},
     "output_type": "display_data"
    }
   ],
   "source": [
    "# 상위 30개의 거래금액 가격을 지닌 아파트 단지\n",
    "train_data_by_danji_top30 = train_data_by_danji.sort_values('거래금액(만원)', ascending=False)[:30]\n",
    "\n",
    "danji_fig = go.Figure()\n",
    "danji_trace = go.Bar(x=train_data_by_danji_top30.index, y=train_data_by_danji_top30['거래금액(만원)'])\n",
    "danji_fig.add_trace(danji_trace)\n",
    "\n",
    "danji_fig.update_layout(\n",
    "    title='상위 30개 아파트 단지별 평균 거래금액(2018~2020)',\n",
    "    xaxis_title='단지명',\n",
    "    yaxis_title='거래금액(만원)',\n",
    "    yaxis_tickformat='(만원)',\n",
    "    autosize=False,\n",
    "    width=1200,\n",
    "    height=1000\n",
    ")\n",
    "\n",
    "danji_fig.show()"
   ]
  },
  {
   "cell_type": "code",
   "execution_count": 12,
   "id": "70336c7e",
   "metadata": {},
   "outputs": [
    {
     "data": {
      "text/html": [
       "<div>\n",
       "<style scoped>\n",
       "    .dataframe tbody tr th:only-of-type {\n",
       "        vertical-align: middle;\n",
       "    }\n",
       "\n",
       "    .dataframe tbody tr th {\n",
       "        vertical-align: top;\n",
       "    }\n",
       "\n",
       "    .dataframe thead th {\n",
       "        text-align: right;\n",
       "    }\n",
       "</style>\n",
       "<table border=\"1\" class=\"dataframe\">\n",
       "  <thead>\n",
       "    <tr style=\"text-align: right;\">\n",
       "      <th></th>\n",
       "      <th></th>\n",
       "      <th>전용면적(㎡)</th>\n",
       "      <th>계약년월</th>\n",
       "      <th>거래금액(만원)</th>\n",
       "      <th>층</th>\n",
       "      <th>건축년도</th>\n",
       "    </tr>\n",
       "    <tr>\n",
       "      <th>단지명</th>\n",
       "      <th>계약연도</th>\n",
       "      <th></th>\n",
       "      <th></th>\n",
       "      <th></th>\n",
       "      <th></th>\n",
       "      <th></th>\n",
       "    </tr>\n",
       "  </thead>\n",
       "  <tbody>\n",
       "    <tr>\n",
       "      <th>상지리츠빌카일룸2차</th>\n",
       "      <th>2019</th>\n",
       "      <td>244.320000</td>\n",
       "      <td>201911.000000</td>\n",
       "      <td>645000.000000</td>\n",
       "      <td>8.000000</td>\n",
       "      <td>2006.0</td>\n",
       "    </tr>\n",
       "    <tr>\n",
       "      <th>상지카일룸</th>\n",
       "      <th>2018</th>\n",
       "      <td>244.980000</td>\n",
       "      <td>201806.000000</td>\n",
       "      <td>640000.000000</td>\n",
       "      <td>13.000000</td>\n",
       "      <td>2003.0</td>\n",
       "    </tr>\n",
       "    <tr>\n",
       "      <th>효성빌라청담101(A동)</th>\n",
       "      <th>2020</th>\n",
       "      <td>226.740000</td>\n",
       "      <td>202011.000000</td>\n",
       "      <td>620000.000000</td>\n",
       "      <td>5.000000</td>\n",
       "      <td>2019.0</td>\n",
       "    </tr>\n",
       "    <tr>\n",
       "      <th>상지리츠빌카일룸2차</th>\n",
       "      <th>2018</th>\n",
       "      <td>244.320000</td>\n",
       "      <td>201803.666667</td>\n",
       "      <td>575000.000000</td>\n",
       "      <td>7.333333</td>\n",
       "      <td>2006.0</td>\n",
       "    </tr>\n",
       "    <tr>\n",
       "      <th>상지리츠빌카일룸</th>\n",
       "      <th>2020</th>\n",
       "      <td>210.500000</td>\n",
       "      <td>202010.000000</td>\n",
       "      <td>565400.000000</td>\n",
       "      <td>4.000000</td>\n",
       "      <td>2018.0</td>\n",
       "    </tr>\n",
       "    <tr>\n",
       "      <th>마크힐스이스트윙</th>\n",
       "      <th>2018</th>\n",
       "      <td>192.860000</td>\n",
       "      <td>201808.000000</td>\n",
       "      <td>553333.333333</td>\n",
       "      <td>14.000000</td>\n",
       "      <td>2010.0</td>\n",
       "    </tr>\n",
       "    <tr>\n",
       "      <th>상지리츠빌카일룸(65-4)</th>\n",
       "      <th>2019</th>\n",
       "      <td>237.740000</td>\n",
       "      <td>201907.000000</td>\n",
       "      <td>533000.000000</td>\n",
       "      <td>2.000000</td>\n",
       "      <td>2012.0</td>\n",
       "    </tr>\n",
       "    <tr>\n",
       "      <th>효성빌라청담101(B동)</th>\n",
       "      <th>2019</th>\n",
       "      <td>226.740000</td>\n",
       "      <td>201905.000000</td>\n",
       "      <td>530000.000000</td>\n",
       "      <td>3.000000</td>\n",
       "      <td>2019.0</td>\n",
       "    </tr>\n",
       "    <tr>\n",
       "      <th>청담어퍼하우스</th>\n",
       "      <th>2020</th>\n",
       "      <td>199.702500</td>\n",
       "      <td>202006.750000</td>\n",
       "      <td>519500.000000</td>\n",
       "      <td>3.750000</td>\n",
       "      <td>2019.0</td>\n",
       "    </tr>\n",
       "    <tr>\n",
       "      <th>아펠바움</th>\n",
       "      <th>2019</th>\n",
       "      <td>241.830000</td>\n",
       "      <td>201907.000000</td>\n",
       "      <td>510000.000000</td>\n",
       "      <td>15.000000</td>\n",
       "      <td>2008.0</td>\n",
       "    </tr>\n",
       "    <tr>\n",
       "      <th>한양8(81동한개동)</th>\n",
       "      <th>2020</th>\n",
       "      <td>207.916000</td>\n",
       "      <td>202007.800000</td>\n",
       "      <td>491600.000000</td>\n",
       "      <td>11.000000</td>\n",
       "      <td>1984.0</td>\n",
       "    </tr>\n",
       "    <tr>\n",
       "      <th>현대65동(대림아크로빌아파트)</th>\n",
       "      <th>2019</th>\n",
       "      <td>243.230000</td>\n",
       "      <td>201906.000000</td>\n",
       "      <td>489000.000000</td>\n",
       "      <td>12.000000</td>\n",
       "      <td>1979.0</td>\n",
       "    </tr>\n",
       "    <tr>\n",
       "      <th>아펠바움</th>\n",
       "      <th>2018</th>\n",
       "      <td>241.830000</td>\n",
       "      <td>201803.000000</td>\n",
       "      <td>486500.000000</td>\n",
       "      <td>14.000000</td>\n",
       "      <td>2008.0</td>\n",
       "    </tr>\n",
       "    <tr>\n",
       "      <th>한남더힐</th>\n",
       "      <th>2020</th>\n",
       "      <td>187.113568</td>\n",
       "      <td>202006.409091</td>\n",
       "      <td>481420.454545</td>\n",
       "      <td>4.136364</td>\n",
       "      <td>2011.0</td>\n",
       "    </tr>\n",
       "    <tr>\n",
       "      <th>아펠바움</th>\n",
       "      <th>2020</th>\n",
       "      <td>241.830000</td>\n",
       "      <td>202008.000000</td>\n",
       "      <td>480000.000000</td>\n",
       "      <td>8.000000</td>\n",
       "      <td>2008.0</td>\n",
       "    </tr>\n",
       "    <tr>\n",
       "      <th>로덴하우스웨스트빌리지</th>\n",
       "      <th>2020</th>\n",
       "      <td>254.333333</td>\n",
       "      <td>202006.000000</td>\n",
       "      <td>471666.666667</td>\n",
       "      <td>14.000000</td>\n",
       "      <td>2009.0</td>\n",
       "    </tr>\n",
       "    <tr>\n",
       "      <th>삼성동라테라스</th>\n",
       "      <th>2020</th>\n",
       "      <td>182.210000</td>\n",
       "      <td>202006.000000</td>\n",
       "      <td>470000.000000</td>\n",
       "      <td>11.000000</td>\n",
       "      <td>2013.0</td>\n",
       "    </tr>\n",
       "    <tr>\n",
       "      <th>상지리츠빌카일룸</th>\n",
       "      <th>2019</th>\n",
       "      <td>210.825000</td>\n",
       "      <td>201908.333333</td>\n",
       "      <td>469333.333333</td>\n",
       "      <td>2.333333</td>\n",
       "      <td>2018.0</td>\n",
       "    </tr>\n",
       "    <tr>\n",
       "      <th>한남더힐</th>\n",
       "      <th>2018</th>\n",
       "      <td>219.113092</td>\n",
       "      <td>201806.948980</td>\n",
       "      <td>461821.428571</td>\n",
       "      <td>4.489796</td>\n",
       "      <td>2011.0</td>\n",
       "    </tr>\n",
       "    <tr>\n",
       "      <th>트라움하우스3</th>\n",
       "      <th>2020</th>\n",
       "      <td>273.860000</td>\n",
       "      <td>202005.500000</td>\n",
       "      <td>460000.000000</td>\n",
       "      <td>6.500000</td>\n",
       "      <td>2002.0</td>\n",
       "    </tr>\n",
       "    <tr>\n",
       "      <th>상지리츠빌카일룸3차</th>\n",
       "      <th>2019</th>\n",
       "      <td>225.690000</td>\n",
       "      <td>201903.000000</td>\n",
       "      <td>456400.000000</td>\n",
       "      <td>12.000000</td>\n",
       "      <td>2009.0</td>\n",
       "    </tr>\n",
       "    <tr>\n",
       "      <th>대림빌라트</th>\n",
       "      <th>2019</th>\n",
       "      <td>234.750000</td>\n",
       "      <td>201911.000000</td>\n",
       "      <td>450000.000000</td>\n",
       "      <td>10.000000</td>\n",
       "      <td>1998.0</td>\n",
       "    </tr>\n",
       "    <tr>\n",
       "      <th>레베빌</th>\n",
       "      <th>2020</th>\n",
       "      <td>244.740000</td>\n",
       "      <td>202008.000000</td>\n",
       "      <td>450000.000000</td>\n",
       "      <td>6.000000</td>\n",
       "      <td>1998.0</td>\n",
       "    </tr>\n",
       "    <tr>\n",
       "      <th>UPPERHOUSE2</th>\n",
       "      <th>2020</th>\n",
       "      <td>244.820000</td>\n",
       "      <td>202007.000000</td>\n",
       "      <td>450000.000000</td>\n",
       "      <td>6.000000</td>\n",
       "      <td>2014.0</td>\n",
       "    </tr>\n",
       "    <tr>\n",
       "      <th rowspan=\"2\" valign=\"top\">논현라폴리움</th>\n",
       "      <th>2020</th>\n",
       "      <td>240.030000</td>\n",
       "      <td>202012.000000</td>\n",
       "      <td>445000.000000</td>\n",
       "      <td>5.000000</td>\n",
       "      <td>2012.0</td>\n",
       "    </tr>\n",
       "    <tr>\n",
       "      <th>2018</th>\n",
       "      <td>240.030000</td>\n",
       "      <td>201808.000000</td>\n",
       "      <td>443000.000000</td>\n",
       "      <td>3.000000</td>\n",
       "      <td>2012.0</td>\n",
       "    </tr>\n",
       "    <tr>\n",
       "      <th>연세리버테라스</th>\n",
       "      <th>2019</th>\n",
       "      <td>243.490000</td>\n",
       "      <td>201905.000000</td>\n",
       "      <td>440000.000000</td>\n",
       "      <td>5.000000</td>\n",
       "      <td>2003.0</td>\n",
       "    </tr>\n",
       "    <tr>\n",
       "      <th>신현대11차</th>\n",
       "      <th>2020</th>\n",
       "      <td>175.746154</td>\n",
       "      <td>202010.384615</td>\n",
       "      <td>439923.076923</td>\n",
       "      <td>8.692308</td>\n",
       "      <td>1983.0</td>\n",
       "    </tr>\n",
       "    <tr>\n",
       "      <th>현대7차(73~77,82,85동)</th>\n",
       "      <th>2020</th>\n",
       "      <td>166.991200</td>\n",
       "      <td>202008.640000</td>\n",
       "      <td>432260.000000</td>\n",
       "      <td>8.600000</td>\n",
       "      <td>1979.0</td>\n",
       "    </tr>\n",
       "    <tr>\n",
       "      <th>한남더힐</th>\n",
       "      <th>2019</th>\n",
       "      <td>195.921569</td>\n",
       "      <td>201906.482759</td>\n",
       "      <td>427133.620690</td>\n",
       "      <td>4.241379</td>\n",
       "      <td>2011.0</td>\n",
       "    </tr>\n",
       "  </tbody>\n",
       "</table>\n",
       "</div>"
      ],
      "text/plain": [
       "                            전용면적(㎡)           계약년월       거래금액(만원)          층  \\\n",
       "단지명                계약연도                                                        \n",
       "상지리츠빌카일룸2차         2019  244.320000  201911.000000  645000.000000   8.000000   \n",
       "상지카일룸              2018  244.980000  201806.000000  640000.000000  13.000000   \n",
       "효성빌라청담101(A동)      2020  226.740000  202011.000000  620000.000000   5.000000   \n",
       "상지리츠빌카일룸2차         2018  244.320000  201803.666667  575000.000000   7.333333   \n",
       "상지리츠빌카일룸           2020  210.500000  202010.000000  565400.000000   4.000000   \n",
       "마크힐스이스트윙           2018  192.860000  201808.000000  553333.333333  14.000000   \n",
       "상지리츠빌카일룸(65-4)     2019  237.740000  201907.000000  533000.000000   2.000000   \n",
       "효성빌라청담101(B동)      2019  226.740000  201905.000000  530000.000000   3.000000   \n",
       "청담어퍼하우스            2020  199.702500  202006.750000  519500.000000   3.750000   \n",
       "아펠바움               2019  241.830000  201907.000000  510000.000000  15.000000   \n",
       "한양8(81동한개동)        2020  207.916000  202007.800000  491600.000000  11.000000   \n",
       "현대65동(대림아크로빌아파트)   2019  243.230000  201906.000000  489000.000000  12.000000   \n",
       "아펠바움               2018  241.830000  201803.000000  486500.000000  14.000000   \n",
       "한남더힐               2020  187.113568  202006.409091  481420.454545   4.136364   \n",
       "아펠바움               2020  241.830000  202008.000000  480000.000000   8.000000   \n",
       "로덴하우스웨스트빌리지        2020  254.333333  202006.000000  471666.666667  14.000000   \n",
       "삼성동라테라스            2020  182.210000  202006.000000  470000.000000  11.000000   \n",
       "상지리츠빌카일룸           2019  210.825000  201908.333333  469333.333333   2.333333   \n",
       "한남더힐               2018  219.113092  201806.948980  461821.428571   4.489796   \n",
       "트라움하우스3            2020  273.860000  202005.500000  460000.000000   6.500000   \n",
       "상지리츠빌카일룸3차         2019  225.690000  201903.000000  456400.000000  12.000000   \n",
       "대림빌라트              2019  234.750000  201911.000000  450000.000000  10.000000   \n",
       "레베빌                2020  244.740000  202008.000000  450000.000000   6.000000   \n",
       "UPPERHOUSE2        2020  244.820000  202007.000000  450000.000000   6.000000   \n",
       "논현라폴리움             2020  240.030000  202012.000000  445000.000000   5.000000   \n",
       "                   2018  240.030000  201808.000000  443000.000000   3.000000   \n",
       "연세리버테라스            2019  243.490000  201905.000000  440000.000000   5.000000   \n",
       "신현대11차             2020  175.746154  202010.384615  439923.076923   8.692308   \n",
       "현대7차(73~77,82,85동) 2020  166.991200  202008.640000  432260.000000   8.600000   \n",
       "한남더힐               2019  195.921569  201906.482759  427133.620690   4.241379   \n",
       "\n",
       "                           건축년도  \n",
       "단지명                계약연도          \n",
       "상지리츠빌카일룸2차         2019  2006.0  \n",
       "상지카일룸              2018  2003.0  \n",
       "효성빌라청담101(A동)      2020  2019.0  \n",
       "상지리츠빌카일룸2차         2018  2006.0  \n",
       "상지리츠빌카일룸           2020  2018.0  \n",
       "마크힐스이스트윙           2018  2010.0  \n",
       "상지리츠빌카일룸(65-4)     2019  2012.0  \n",
       "효성빌라청담101(B동)      2019  2019.0  \n",
       "청담어퍼하우스            2020  2019.0  \n",
       "아펠바움               2019  2008.0  \n",
       "한양8(81동한개동)        2020  1984.0  \n",
       "현대65동(대림아크로빌아파트)   2019  1979.0  \n",
       "아펠바움               2018  2008.0  \n",
       "한남더힐               2020  2011.0  \n",
       "아펠바움               2020  2008.0  \n",
       "로덴하우스웨스트빌리지        2020  2009.0  \n",
       "삼성동라테라스            2020  2013.0  \n",
       "상지리츠빌카일룸           2019  2018.0  \n",
       "한남더힐               2018  2011.0  \n",
       "트라움하우스3            2020  2002.0  \n",
       "상지리츠빌카일룸3차         2019  2009.0  \n",
       "대림빌라트              2019  1998.0  \n",
       "레베빌                2020  1998.0  \n",
       "UPPERHOUSE2        2020  2014.0  \n",
       "논현라폴리움             2020  2012.0  \n",
       "                   2018  2012.0  \n",
       "연세리버테라스            2019  2003.0  \n",
       "신현대11차             2020  1983.0  \n",
       "현대7차(73~77,82,85동) 2020  1979.0  \n",
       "한남더힐               2019  2011.0  "
      ]
     },
     "execution_count": 12,
     "metadata": {},
     "output_type": "execute_result"
    }
   ],
   "source": [
    "#  단지 별 계약 연도 별 그룹바이 수행 후 단지 별 내 계약 연도 내 거래금액 평균가격 도출\n",
    "\n",
    "train_data_by_danji_year = train_data.groupby(['단지명', '계약연도']).mean()\n",
    "train_data_by_danji_year_top30 = train_data_by_danji_year.sort_values('거래금액(만원)', ascending=False)[:30]\n",
    "train_data_by_danji_year_top30"
   ]
  },
  {
   "cell_type": "code",
   "execution_count": 13,
   "id": "a7971427",
   "metadata": {},
   "outputs": [
    {
     "data": {
      "application/vnd.plotly.v1+json": {
       "config": {
        "plotlyServerURL": "https://plot.ly"
       },
       "data": [
        {
         "name": "2018년",
         "type": "bar",
         "x": [
          "상지카일룸",
          "상지리츠빌카일룸2차",
          "마크힐스이스트윙",
          "아펠바움",
          "한남더힐",
          "논현라폴리움"
         ],
         "y": [
          640000,
          575000,
          553333.3333333334,
          486500,
          461821.4285714286,
          443000
         ]
        },
        {
         "name": "2019년",
         "type": "bar",
         "x": [
          "상지리츠빌카일룸2차",
          "상지리츠빌카일룸(65-4)",
          "효성빌라청담101(B동)",
          "아펠바움",
          "현대65동(대림아크로빌아파트)",
          "상지리츠빌카일룸",
          "상지리츠빌카일룸3차",
          "대림빌라트",
          "연세리버테라스",
          "한남더힐"
         ],
         "y": [
          645000,
          533000,
          530000,
          510000,
          489000,
          469333.3333333333,
          456400,
          450000,
          440000,
          427133.6206896552
         ]
        },
        {
         "name": "2020년",
         "type": "bar",
         "x": [
          "효성빌라청담101(A동)",
          "상지리츠빌카일룸",
          "청담어퍼하우스",
          "한양8(81동한개동)",
          "한남더힐",
          "아펠바움",
          "로덴하우스웨스트빌리지",
          "삼성동라테라스",
          "트라움하우스3",
          "레베빌",
          "UPPERHOUSE2",
          "논현라폴리움",
          "신현대11차",
          "현대7차(73~77,82,85동)"
         ],
         "y": [
          620000,
          565400,
          519500,
          491600,
          481420.45454545453,
          480000,
          471666.6666666667,
          470000,
          460000,
          450000,
          450000,
          445000,
          439923.07692307694,
          432260
         ]
        }
       ],
       "layout": {
        "autosize": false,
        "height": 1000,
        "template": {
         "data": {
          "bar": [
           {
            "error_x": {
             "color": "#2a3f5f"
            },
            "error_y": {
             "color": "#2a3f5f"
            },
            "marker": {
             "line": {
              "color": "#E5ECF6",
              "width": 0.5
             },
             "pattern": {
              "fillmode": "overlay",
              "size": 10,
              "solidity": 0.2
             }
            },
            "type": "bar"
           }
          ],
          "barpolar": [
           {
            "marker": {
             "line": {
              "color": "#E5ECF6",
              "width": 0.5
             },
             "pattern": {
              "fillmode": "overlay",
              "size": 10,
              "solidity": 0.2
             }
            },
            "type": "barpolar"
           }
          ],
          "carpet": [
           {
            "aaxis": {
             "endlinecolor": "#2a3f5f",
             "gridcolor": "white",
             "linecolor": "white",
             "minorgridcolor": "white",
             "startlinecolor": "#2a3f5f"
            },
            "baxis": {
             "endlinecolor": "#2a3f5f",
             "gridcolor": "white",
             "linecolor": "white",
             "minorgridcolor": "white",
             "startlinecolor": "#2a3f5f"
            },
            "type": "carpet"
           }
          ],
          "choropleth": [
           {
            "colorbar": {
             "outlinewidth": 0,
             "ticks": ""
            },
            "type": "choropleth"
           }
          ],
          "contour": [
           {
            "colorbar": {
             "outlinewidth": 0,
             "ticks": ""
            },
            "colorscale": [
             [
              0,
              "#0d0887"
             ],
             [
              0.1111111111111111,
              "#46039f"
             ],
             [
              0.2222222222222222,
              "#7201a8"
             ],
             [
              0.3333333333333333,
              "#9c179e"
             ],
             [
              0.4444444444444444,
              "#bd3786"
             ],
             [
              0.5555555555555556,
              "#d8576b"
             ],
             [
              0.6666666666666666,
              "#ed7953"
             ],
             [
              0.7777777777777778,
              "#fb9f3a"
             ],
             [
              0.8888888888888888,
              "#fdca26"
             ],
             [
              1,
              "#f0f921"
             ]
            ],
            "type": "contour"
           }
          ],
          "contourcarpet": [
           {
            "colorbar": {
             "outlinewidth": 0,
             "ticks": ""
            },
            "type": "contourcarpet"
           }
          ],
          "heatmap": [
           {
            "colorbar": {
             "outlinewidth": 0,
             "ticks": ""
            },
            "colorscale": [
             [
              0,
              "#0d0887"
             ],
             [
              0.1111111111111111,
              "#46039f"
             ],
             [
              0.2222222222222222,
              "#7201a8"
             ],
             [
              0.3333333333333333,
              "#9c179e"
             ],
             [
              0.4444444444444444,
              "#bd3786"
             ],
             [
              0.5555555555555556,
              "#d8576b"
             ],
             [
              0.6666666666666666,
              "#ed7953"
             ],
             [
              0.7777777777777778,
              "#fb9f3a"
             ],
             [
              0.8888888888888888,
              "#fdca26"
             ],
             [
              1,
              "#f0f921"
             ]
            ],
            "type": "heatmap"
           }
          ],
          "heatmapgl": [
           {
            "colorbar": {
             "outlinewidth": 0,
             "ticks": ""
            },
            "colorscale": [
             [
              0,
              "#0d0887"
             ],
             [
              0.1111111111111111,
              "#46039f"
             ],
             [
              0.2222222222222222,
              "#7201a8"
             ],
             [
              0.3333333333333333,
              "#9c179e"
             ],
             [
              0.4444444444444444,
              "#bd3786"
             ],
             [
              0.5555555555555556,
              "#d8576b"
             ],
             [
              0.6666666666666666,
              "#ed7953"
             ],
             [
              0.7777777777777778,
              "#fb9f3a"
             ],
             [
              0.8888888888888888,
              "#fdca26"
             ],
             [
              1,
              "#f0f921"
             ]
            ],
            "type": "heatmapgl"
           }
          ],
          "histogram": [
           {
            "marker": {
             "pattern": {
              "fillmode": "overlay",
              "size": 10,
              "solidity": 0.2
             }
            },
            "type": "histogram"
           }
          ],
          "histogram2d": [
           {
            "colorbar": {
             "outlinewidth": 0,
             "ticks": ""
            },
            "colorscale": [
             [
              0,
              "#0d0887"
             ],
             [
              0.1111111111111111,
              "#46039f"
             ],
             [
              0.2222222222222222,
              "#7201a8"
             ],
             [
              0.3333333333333333,
              "#9c179e"
             ],
             [
              0.4444444444444444,
              "#bd3786"
             ],
             [
              0.5555555555555556,
              "#d8576b"
             ],
             [
              0.6666666666666666,
              "#ed7953"
             ],
             [
              0.7777777777777778,
              "#fb9f3a"
             ],
             [
              0.8888888888888888,
              "#fdca26"
             ],
             [
              1,
              "#f0f921"
             ]
            ],
            "type": "histogram2d"
           }
          ],
          "histogram2dcontour": [
           {
            "colorbar": {
             "outlinewidth": 0,
             "ticks": ""
            },
            "colorscale": [
             [
              0,
              "#0d0887"
             ],
             [
              0.1111111111111111,
              "#46039f"
             ],
             [
              0.2222222222222222,
              "#7201a8"
             ],
             [
              0.3333333333333333,
              "#9c179e"
             ],
             [
              0.4444444444444444,
              "#bd3786"
             ],
             [
              0.5555555555555556,
              "#d8576b"
             ],
             [
              0.6666666666666666,
              "#ed7953"
             ],
             [
              0.7777777777777778,
              "#fb9f3a"
             ],
             [
              0.8888888888888888,
              "#fdca26"
             ],
             [
              1,
              "#f0f921"
             ]
            ],
            "type": "histogram2dcontour"
           }
          ],
          "mesh3d": [
           {
            "colorbar": {
             "outlinewidth": 0,
             "ticks": ""
            },
            "type": "mesh3d"
           }
          ],
          "parcoords": [
           {
            "line": {
             "colorbar": {
              "outlinewidth": 0,
              "ticks": ""
             }
            },
            "type": "parcoords"
           }
          ],
          "pie": [
           {
            "automargin": true,
            "type": "pie"
           }
          ],
          "scatter": [
           {
            "marker": {
             "colorbar": {
              "outlinewidth": 0,
              "ticks": ""
             }
            },
            "type": "scatter"
           }
          ],
          "scatter3d": [
           {
            "line": {
             "colorbar": {
              "outlinewidth": 0,
              "ticks": ""
             }
            },
            "marker": {
             "colorbar": {
              "outlinewidth": 0,
              "ticks": ""
             }
            },
            "type": "scatter3d"
           }
          ],
          "scattercarpet": [
           {
            "marker": {
             "colorbar": {
              "outlinewidth": 0,
              "ticks": ""
             }
            },
            "type": "scattercarpet"
           }
          ],
          "scattergeo": [
           {
            "marker": {
             "colorbar": {
              "outlinewidth": 0,
              "ticks": ""
             }
            },
            "type": "scattergeo"
           }
          ],
          "scattergl": [
           {
            "marker": {
             "colorbar": {
              "outlinewidth": 0,
              "ticks": ""
             }
            },
            "type": "scattergl"
           }
          ],
          "scattermapbox": [
           {
            "marker": {
             "colorbar": {
              "outlinewidth": 0,
              "ticks": ""
             }
            },
            "type": "scattermapbox"
           }
          ],
          "scatterpolar": [
           {
            "marker": {
             "colorbar": {
              "outlinewidth": 0,
              "ticks": ""
             }
            },
            "type": "scatterpolar"
           }
          ],
          "scatterpolargl": [
           {
            "marker": {
             "colorbar": {
              "outlinewidth": 0,
              "ticks": ""
             }
            },
            "type": "scatterpolargl"
           }
          ],
          "scatterternary": [
           {
            "marker": {
             "colorbar": {
              "outlinewidth": 0,
              "ticks": ""
             }
            },
            "type": "scatterternary"
           }
          ],
          "surface": [
           {
            "colorbar": {
             "outlinewidth": 0,
             "ticks": ""
            },
            "colorscale": [
             [
              0,
              "#0d0887"
             ],
             [
              0.1111111111111111,
              "#46039f"
             ],
             [
              0.2222222222222222,
              "#7201a8"
             ],
             [
              0.3333333333333333,
              "#9c179e"
             ],
             [
              0.4444444444444444,
              "#bd3786"
             ],
             [
              0.5555555555555556,
              "#d8576b"
             ],
             [
              0.6666666666666666,
              "#ed7953"
             ],
             [
              0.7777777777777778,
              "#fb9f3a"
             ],
             [
              0.8888888888888888,
              "#fdca26"
             ],
             [
              1,
              "#f0f921"
             ]
            ],
            "type": "surface"
           }
          ],
          "table": [
           {
            "cells": {
             "fill": {
              "color": "#EBF0F8"
             },
             "line": {
              "color": "white"
             }
            },
            "header": {
             "fill": {
              "color": "#C8D4E3"
             },
             "line": {
              "color": "white"
             }
            },
            "type": "table"
           }
          ]
         },
         "layout": {
          "annotationdefaults": {
           "arrowcolor": "#2a3f5f",
           "arrowhead": 0,
           "arrowwidth": 1
          },
          "autotypenumbers": "strict",
          "coloraxis": {
           "colorbar": {
            "outlinewidth": 0,
            "ticks": ""
           }
          },
          "colorscale": {
           "diverging": [
            [
             0,
             "#8e0152"
            ],
            [
             0.1,
             "#c51b7d"
            ],
            [
             0.2,
             "#de77ae"
            ],
            [
             0.3,
             "#f1b6da"
            ],
            [
             0.4,
             "#fde0ef"
            ],
            [
             0.5,
             "#f7f7f7"
            ],
            [
             0.6,
             "#e6f5d0"
            ],
            [
             0.7,
             "#b8e186"
            ],
            [
             0.8,
             "#7fbc41"
            ],
            [
             0.9,
             "#4d9221"
            ],
            [
             1,
             "#276419"
            ]
           ],
           "sequential": [
            [
             0,
             "#0d0887"
            ],
            [
             0.1111111111111111,
             "#46039f"
            ],
            [
             0.2222222222222222,
             "#7201a8"
            ],
            [
             0.3333333333333333,
             "#9c179e"
            ],
            [
             0.4444444444444444,
             "#bd3786"
            ],
            [
             0.5555555555555556,
             "#d8576b"
            ],
            [
             0.6666666666666666,
             "#ed7953"
            ],
            [
             0.7777777777777778,
             "#fb9f3a"
            ],
            [
             0.8888888888888888,
             "#fdca26"
            ],
            [
             1,
             "#f0f921"
            ]
           ],
           "sequentialminus": [
            [
             0,
             "#0d0887"
            ],
            [
             0.1111111111111111,
             "#46039f"
            ],
            [
             0.2222222222222222,
             "#7201a8"
            ],
            [
             0.3333333333333333,
             "#9c179e"
            ],
            [
             0.4444444444444444,
             "#bd3786"
            ],
            [
             0.5555555555555556,
             "#d8576b"
            ],
            [
             0.6666666666666666,
             "#ed7953"
            ],
            [
             0.7777777777777778,
             "#fb9f3a"
            ],
            [
             0.8888888888888888,
             "#fdca26"
            ],
            [
             1,
             "#f0f921"
            ]
           ]
          },
          "colorway": [
           "#636efa",
           "#EF553B",
           "#00cc96",
           "#ab63fa",
           "#FFA15A",
           "#19d3f3",
           "#FF6692",
           "#B6E880",
           "#FF97FF",
           "#FECB52"
          ],
          "font": {
           "color": "#2a3f5f"
          },
          "geo": {
           "bgcolor": "white",
           "lakecolor": "white",
           "landcolor": "#E5ECF6",
           "showlakes": true,
           "showland": true,
           "subunitcolor": "white"
          },
          "hoverlabel": {
           "align": "left"
          },
          "hovermode": "closest",
          "mapbox": {
           "style": "light"
          },
          "paper_bgcolor": "white",
          "plot_bgcolor": "#E5ECF6",
          "polar": {
           "angularaxis": {
            "gridcolor": "white",
            "linecolor": "white",
            "ticks": ""
           },
           "bgcolor": "#E5ECF6",
           "radialaxis": {
            "gridcolor": "white",
            "linecolor": "white",
            "ticks": ""
           }
          },
          "scene": {
           "xaxis": {
            "backgroundcolor": "#E5ECF6",
            "gridcolor": "white",
            "gridwidth": 2,
            "linecolor": "white",
            "showbackground": true,
            "ticks": "",
            "zerolinecolor": "white"
           },
           "yaxis": {
            "backgroundcolor": "#E5ECF6",
            "gridcolor": "white",
            "gridwidth": 2,
            "linecolor": "white",
            "showbackground": true,
            "ticks": "",
            "zerolinecolor": "white"
           },
           "zaxis": {
            "backgroundcolor": "#E5ECF6",
            "gridcolor": "white",
            "gridwidth": 2,
            "linecolor": "white",
            "showbackground": true,
            "ticks": "",
            "zerolinecolor": "white"
           }
          },
          "shapedefaults": {
           "line": {
            "color": "#2a3f5f"
           }
          },
          "ternary": {
           "aaxis": {
            "gridcolor": "white",
            "linecolor": "white",
            "ticks": ""
           },
           "baxis": {
            "gridcolor": "white",
            "linecolor": "white",
            "ticks": ""
           },
           "bgcolor": "#E5ECF6",
           "caxis": {
            "gridcolor": "white",
            "linecolor": "white",
            "ticks": ""
           }
          },
          "title": {
           "x": 0.05
          },
          "xaxis": {
           "automargin": true,
           "gridcolor": "white",
           "linecolor": "white",
           "ticks": "",
           "title": {
            "standoff": 15
           },
           "zerolinecolor": "white",
           "zerolinewidth": 2
          },
          "yaxis": {
           "automargin": true,
           "gridcolor": "white",
           "linecolor": "white",
           "ticks": "",
           "title": {
            "standoff": 15
           },
           "zerolinecolor": "white",
           "zerolinewidth": 2
          }
         }
        },
        "title": {
         "text": "상위 30개 아파트 단지, 연도별 평균 거래금액(2018~2020)"
        },
        "width": 1200,
        "xaxis": {
         "title": {
          "text": "단지명"
         }
        },
        "yaxis": {
         "tickformat": "(만원)",
         "title": {
          "text": "거래금액(만원)"
         }
        }
       }
      }
     },
     "metadata": {},
     "output_type": "display_data"
    }
   ],
   "source": [
    "# 단지 별 내 계약 연도 내 거래금액 평균가격 시각화\n",
    "df = train_data_by_danji_year_top30.reset_index()\n",
    "\n",
    "danji_year_fig = go.Figure()\n",
    "\n",
    "trace_danji_2018 = go.Bar(x=df[df['계약연도'] == '2018']['단지명'], y=df[df['계약연도'] == '2018']['거래금액(만원)'], name='2018년')\n",
    "trace_danji_2019 = go.Bar(x=df[df['계약연도'] == '2019']['단지명'], y=df[df['계약연도'] == '2019']['거래금액(만원)'], name='2019년')\n",
    "trace_danji_2020 = go.Bar(x=df[df['계약연도'] == '2020']['단지명'], y=df[df['계약연도'] == '2020']['거래금액(만원)'], name='2020년')\n",
    "\n",
    "danji_year_fig.add_traces([trace_danji_2018, trace_danji_2019, trace_danji_2020])\n",
    "\n",
    "danji_year_fig.update_layout(\n",
    "    title='상위 30개 아파트 단지, 연도별 평균 거래금액(2018~2020)',\n",
    "    xaxis_title='단지명',\n",
    "    yaxis_title='거래금액(만원)',\n",
    "    yaxis_tickformat='(만원)',\n",
    "    autosize=False,\n",
    "    width=1200,\n",
    "    height=1000\n",
    ")\n",
    "\n",
    "danji_year_fig.show()"
   ]
  },
  {
   "cell_type": "markdown",
   "id": "ae3db151",
   "metadata": {},
   "source": [
    "### 1.3 주요 아파트 시공사 별 거래횟수"
   ]
  },
  {
   "cell_type": "code",
   "execution_count": 14,
   "id": "30c67460",
   "metadata": {},
   "outputs": [
    {
     "data": {
      "text/html": [
       "<div>\n",
       "<style scoped>\n",
       "    .dataframe tbody tr th:only-of-type {\n",
       "        vertical-align: middle;\n",
       "    }\n",
       "\n",
       "    .dataframe tbody tr th {\n",
       "        vertical-align: top;\n",
       "    }\n",
       "\n",
       "    .dataframe thead th {\n",
       "        text-align: right;\n",
       "    }\n",
       "</style>\n",
       "<table border=\"1\" class=\"dataframe\">\n",
       "  <thead>\n",
       "    <tr style=\"text-align: right;\">\n",
       "      <th></th>\n",
       "      <th>시군구</th>\n",
       "      <th>단지명</th>\n",
       "      <th>전용면적(㎡)</th>\n",
       "      <th>계약년월</th>\n",
       "      <th>거래금액(만원)</th>\n",
       "      <th>층</th>\n",
       "      <th>건축년도</th>\n",
       "      <th>도로명</th>\n",
       "      <th>계약연도</th>\n",
       "      <th>아파트 별 집 개수</th>\n",
       "    </tr>\n",
       "  </thead>\n",
       "  <tbody>\n",
       "    <tr>\n",
       "      <th>177688</th>\n",
       "      <td>서울특별시 구로구 개봉동</td>\n",
       "      <td>현대</td>\n",
       "      <td>59.94</td>\n",
       "      <td>202006</td>\n",
       "      <td>59500</td>\n",
       "      <td>7</td>\n",
       "      <td>2001</td>\n",
       "      <td>개봉로20길 6</td>\n",
       "      <td>2020</td>\n",
       "      <td>2249</td>\n",
       "    </tr>\n",
       "    <tr>\n",
       "      <th>130809</th>\n",
       "      <td>서울특별시 성동구 옥수동</td>\n",
       "      <td>현대</td>\n",
       "      <td>84.90</td>\n",
       "      <td>201910</td>\n",
       "      <td>108000</td>\n",
       "      <td>11</td>\n",
       "      <td>1990</td>\n",
       "      <td>독서당로40길 25</td>\n",
       "      <td>2019</td>\n",
       "      <td>2249</td>\n",
       "    </tr>\n",
       "    <tr>\n",
       "      <th>63684</th>\n",
       "      <td>서울특별시 송파구 잠실동</td>\n",
       "      <td>현대</td>\n",
       "      <td>84.68</td>\n",
       "      <td>201803</td>\n",
       "      <td>81500</td>\n",
       "      <td>10</td>\n",
       "      <td>1990</td>\n",
       "      <td>백제고분로18길 7</td>\n",
       "      <td>2018</td>\n",
       "      <td>2249</td>\n",
       "    </tr>\n",
       "    <tr>\n",
       "      <th>63685</th>\n",
       "      <td>서울특별시 송파구 잠실동</td>\n",
       "      <td>현대</td>\n",
       "      <td>71.90</td>\n",
       "      <td>201804</td>\n",
       "      <td>83000</td>\n",
       "      <td>13</td>\n",
       "      <td>1990</td>\n",
       "      <td>백제고분로18길 7</td>\n",
       "      <td>2018</td>\n",
       "      <td>2249</td>\n",
       "    </tr>\n",
       "    <tr>\n",
       "      <th>63686</th>\n",
       "      <td>서울특별시 송파구 잠실동</td>\n",
       "      <td>현대</td>\n",
       "      <td>84.67</td>\n",
       "      <td>201804</td>\n",
       "      <td>100000</td>\n",
       "      <td>2</td>\n",
       "      <td>1990</td>\n",
       "      <td>백제고분로18길 7</td>\n",
       "      <td>2018</td>\n",
       "      <td>2249</td>\n",
       "    </tr>\n",
       "    <tr>\n",
       "      <th>...</th>\n",
       "      <td>...</td>\n",
       "      <td>...</td>\n",
       "      <td>...</td>\n",
       "      <td>...</td>\n",
       "      <td>...</td>\n",
       "      <td>...</td>\n",
       "      <td>...</td>\n",
       "      <td>...</td>\n",
       "      <td>...</td>\n",
       "      <td>...</td>\n",
       "    </tr>\n",
       "    <tr>\n",
       "      <th>96660</th>\n",
       "      <td>서울특별시 관악구 봉천동</td>\n",
       "      <td>새진7차</td>\n",
       "      <td>84.66</td>\n",
       "      <td>201910</td>\n",
       "      <td>47000</td>\n",
       "      <td>3</td>\n",
       "      <td>2005</td>\n",
       "      <td>인헌16길 35</td>\n",
       "      <td>2019</td>\n",
       "      <td>1</td>\n",
       "    </tr>\n",
       "    <tr>\n",
       "      <th>178866</th>\n",
       "      <td>서울특별시 구로구 구로동</td>\n",
       "      <td>계영주택(738-27)</td>\n",
       "      <td>48.42</td>\n",
       "      <td>202001</td>\n",
       "      <td>14200</td>\n",
       "      <td>5</td>\n",
       "      <td>1996</td>\n",
       "      <td>구로동로18길 20-8</td>\n",
       "      <td>2020</td>\n",
       "      <td>1</td>\n",
       "    </tr>\n",
       "    <tr>\n",
       "      <th>47525</th>\n",
       "      <td>서울특별시 서대문구 연희동</td>\n",
       "      <td>충우하이빌</td>\n",
       "      <td>105.44</td>\n",
       "      <td>201802</td>\n",
       "      <td>23400</td>\n",
       "      <td>3</td>\n",
       "      <td>2003</td>\n",
       "      <td>연희로18안길 13</td>\n",
       "      <td>2018</td>\n",
       "      <td>1</td>\n",
       "    </tr>\n",
       "    <tr>\n",
       "      <th>210044</th>\n",
       "      <td>서울특별시 서초구 방배동</td>\n",
       "      <td>방배포레스트</td>\n",
       "      <td>139.84</td>\n",
       "      <td>202006</td>\n",
       "      <td>133000</td>\n",
       "      <td>4</td>\n",
       "      <td>2003</td>\n",
       "      <td>방배로28길 93</td>\n",
       "      <td>2020</td>\n",
       "      <td>1</td>\n",
       "    </tr>\n",
       "    <tr>\n",
       "      <th>175970</th>\n",
       "      <td>서울특별시 광진구 구의동</td>\n",
       "      <td>욱현(208-1)</td>\n",
       "      <td>76.49</td>\n",
       "      <td>202010</td>\n",
       "      <td>47000</td>\n",
       "      <td>3</td>\n",
       "      <td>2001</td>\n",
       "      <td>아차산로65길 57</td>\n",
       "      <td>2020</td>\n",
       "      <td>1</td>\n",
       "    </tr>\n",
       "  </tbody>\n",
       "</table>\n",
       "<p>240921 rows × 10 columns</p>\n",
       "</div>"
      ],
      "text/plain": [
       "                   시군구           단지명  전용면적(㎡)    계약년월  거래금액(만원)   층  건축년도  \\\n",
       "177688   서울특별시 구로구 개봉동            현대    59.94  202006     59500   7  2001   \n",
       "130809   서울특별시 성동구 옥수동            현대    84.90  201910    108000  11  1990   \n",
       "63684    서울특별시 송파구 잠실동            현대    84.68  201803     81500  10  1990   \n",
       "63685    서울특별시 송파구 잠실동            현대    71.90  201804     83000  13  1990   \n",
       "63686    서울특별시 송파구 잠실동            현대    84.67  201804    100000   2  1990   \n",
       "...                ...           ...      ...     ...       ...  ..   ...   \n",
       "96660    서울특별시 관악구 봉천동          새진7차    84.66  201910     47000   3  2005   \n",
       "178866   서울특별시 구로구 구로동  계영주택(738-27)    48.42  202001     14200   5  1996   \n",
       "47525   서울특별시 서대문구 연희동         충우하이빌   105.44  201802     23400   3  2003   \n",
       "210044   서울특별시 서초구 방배동        방배포레스트   139.84  202006    133000   4  2003   \n",
       "175970   서울특별시 광진구 구의동     욱현(208-1)    76.49  202010     47000   3  2001   \n",
       "\n",
       "                 도로명  계약연도  아파트 별 집 개수  \n",
       "177688      개봉로20길 6  2020        2249  \n",
       "130809    독서당로40길 25  2019        2249  \n",
       "63684     백제고분로18길 7  2018        2249  \n",
       "63685     백제고분로18길 7  2018        2249  \n",
       "63686     백제고분로18길 7  2018        2249  \n",
       "...              ...   ...         ...  \n",
       "96660       인헌16길 35  2019           1  \n",
       "178866  구로동로18길 20-8  2020           1  \n",
       "47525     연희로18안길 13  2018           1  \n",
       "210044     방배로28길 93  2020           1  \n",
       "175970    아차산로65길 57  2020           1  \n",
       "\n",
       "[240921 rows x 10 columns]"
      ]
     },
     "execution_count": 14,
     "metadata": {},
     "output_type": "execute_result"
    }
   ],
   "source": [
    "# 아파트 별 몇 채 있는지 탐색, 같은 아파트 이름 갖는 수 저장\n",
    "# column => 아파트 별 집 개수\n",
    "train_data['아파트 별 집 개수'] = 0\n",
    "train_data_apt_count = train_data.groupby('단지명')['아파트 별 집 개수'].count()\n",
    "\n",
    "train_data = pd.merge(train_data, train_data_apt_count, on='단지명', how='left')\n",
    "train_data = train_data.drop('아파트 별 집 개수_x', axis=1).rename(columns={'아파트 별 집 개수_y':'아파트 별 집 개수'})\n",
    "\n",
    "train_data.sort_values('아파트 별 집 개수', ascending=False)"
   ]
  },
  {
   "cell_type": "markdown",
   "id": "39fd4c3b",
   "metadata": {},
   "source": [
    "아파트 단지 별 개수 집계 결과 고유 값을 가지는 아파트 단지명이 적기 때문에 데이터 모델링으로써 적합하지 못한 데이터셋을 지녔다고 판단하였다.\n",
    "단순히 단지명 컬럼을 모델링에 바로 사용하는 것에는 무리가 있다..."
   ]
  },
  {
   "cell_type": "code",
   "execution_count": 15,
   "id": "61adde9d",
   "metadata": {},
   "outputs": [
    {
     "data": {
      "text/html": [
       "<div>\n",
       "<style scoped>\n",
       "    .dataframe tbody tr th:only-of-type {\n",
       "        vertical-align: middle;\n",
       "    }\n",
       "\n",
       "    .dataframe tbody tr th {\n",
       "        vertical-align: top;\n",
       "    }\n",
       "\n",
       "    .dataframe thead th {\n",
       "        text-align: right;\n",
       "    }\n",
       "</style>\n",
       "<table border=\"1\" class=\"dataframe\">\n",
       "  <thead>\n",
       "    <tr style=\"text-align: right;\">\n",
       "      <th></th>\n",
       "      <th>시군구</th>\n",
       "      <th>단지명</th>\n",
       "      <th>전용면적(㎡)</th>\n",
       "      <th>계약년월</th>\n",
       "      <th>거래금액(만원)</th>\n",
       "      <th>층</th>\n",
       "      <th>건축년도</th>\n",
       "      <th>도로명</th>\n",
       "      <th>계약연도</th>\n",
       "      <th>아파트 별 집 개수</th>\n",
       "      <th>top10</th>\n",
       "    </tr>\n",
       "  </thead>\n",
       "  <tbody>\n",
       "    <tr>\n",
       "      <th>17</th>\n",
       "      <td>서울특별시 강남구 개포동</td>\n",
       "      <td>개포자이(12-2)</td>\n",
       "      <td>170.3200</td>\n",
       "      <td>201801</td>\n",
       "      <td>162000</td>\n",
       "      <td>16</td>\n",
       "      <td>2004</td>\n",
       "      <td>개포로109길 69</td>\n",
       "      <td>2018</td>\n",
       "      <td>25</td>\n",
       "      <td>자이</td>\n",
       "    </tr>\n",
       "    <tr>\n",
       "      <th>18</th>\n",
       "      <td>서울특별시 강남구 개포동</td>\n",
       "      <td>개포자이(12-2)</td>\n",
       "      <td>134.3000</td>\n",
       "      <td>201801</td>\n",
       "      <td>153500</td>\n",
       "      <td>3</td>\n",
       "      <td>2004</td>\n",
       "      <td>개포로109길 69</td>\n",
       "      <td>2018</td>\n",
       "      <td>25</td>\n",
       "      <td>자이</td>\n",
       "    </tr>\n",
       "    <tr>\n",
       "      <th>19</th>\n",
       "      <td>서울특별시 강남구 개포동</td>\n",
       "      <td>개포자이(12-2)</td>\n",
       "      <td>170.3200</td>\n",
       "      <td>201801</td>\n",
       "      <td>175000</td>\n",
       "      <td>15</td>\n",
       "      <td>2004</td>\n",
       "      <td>개포로109길 69</td>\n",
       "      <td>2018</td>\n",
       "      <td>25</td>\n",
       "      <td>자이</td>\n",
       "    </tr>\n",
       "    <tr>\n",
       "      <th>20</th>\n",
       "      <td>서울특별시 강남구 개포동</td>\n",
       "      <td>개포자이(12-2)</td>\n",
       "      <td>134.3000</td>\n",
       "      <td>201803</td>\n",
       "      <td>158000</td>\n",
       "      <td>18</td>\n",
       "      <td>2004</td>\n",
       "      <td>개포로109길 69</td>\n",
       "      <td>2018</td>\n",
       "      <td>25</td>\n",
       "      <td>자이</td>\n",
       "    </tr>\n",
       "    <tr>\n",
       "      <th>21</th>\n",
       "      <td>서울특별시 강남구 개포동</td>\n",
       "      <td>개포자이(12-2)</td>\n",
       "      <td>168.4200</td>\n",
       "      <td>201804</td>\n",
       "      <td>171000</td>\n",
       "      <td>5</td>\n",
       "      <td>2004</td>\n",
       "      <td>개포로109길 69</td>\n",
       "      <td>2018</td>\n",
       "      <td>25</td>\n",
       "      <td>자이</td>\n",
       "    </tr>\n",
       "    <tr>\n",
       "      <th>...</th>\n",
       "      <td>...</td>\n",
       "      <td>...</td>\n",
       "      <td>...</td>\n",
       "      <td>...</td>\n",
       "      <td>...</td>\n",
       "      <td>...</td>\n",
       "      <td>...</td>\n",
       "      <td>...</td>\n",
       "      <td>...</td>\n",
       "      <td>...</td>\n",
       "      <td>...</td>\n",
       "    </tr>\n",
       "    <tr>\n",
       "      <th>239380</th>\n",
       "      <td>서울특별시 중랑구 묵동</td>\n",
       "      <td>현대아이파크</td>\n",
       "      <td>84.9416</td>\n",
       "      <td>202009</td>\n",
       "      <td>77000</td>\n",
       "      <td>7</td>\n",
       "      <td>2002</td>\n",
       "      <td>중랑천로 286</td>\n",
       "      <td>2020</td>\n",
       "      <td>114</td>\n",
       "      <td>아이파크</td>\n",
       "    </tr>\n",
       "    <tr>\n",
       "      <th>239381</th>\n",
       "      <td>서울특별시 중랑구 묵동</td>\n",
       "      <td>현대아이파크</td>\n",
       "      <td>84.9416</td>\n",
       "      <td>202010</td>\n",
       "      <td>70000</td>\n",
       "      <td>1</td>\n",
       "      <td>2002</td>\n",
       "      <td>중랑천로 286</td>\n",
       "      <td>2020</td>\n",
       "      <td>114</td>\n",
       "      <td>아이파크</td>\n",
       "    </tr>\n",
       "    <tr>\n",
       "      <th>239382</th>\n",
       "      <td>서울특별시 중랑구 묵동</td>\n",
       "      <td>현대아이파크</td>\n",
       "      <td>84.9785</td>\n",
       "      <td>202010</td>\n",
       "      <td>78500</td>\n",
       "      <td>5</td>\n",
       "      <td>2002</td>\n",
       "      <td>중랑천로 286</td>\n",
       "      <td>2020</td>\n",
       "      <td>114</td>\n",
       "      <td>아이파크</td>\n",
       "    </tr>\n",
       "    <tr>\n",
       "      <th>239383</th>\n",
       "      <td>서울특별시 중랑구 묵동</td>\n",
       "      <td>현대아이파크</td>\n",
       "      <td>84.9785</td>\n",
       "      <td>202010</td>\n",
       "      <td>78500</td>\n",
       "      <td>5</td>\n",
       "      <td>2002</td>\n",
       "      <td>중랑천로 286</td>\n",
       "      <td>2020</td>\n",
       "      <td>114</td>\n",
       "      <td>아이파크</td>\n",
       "    </tr>\n",
       "    <tr>\n",
       "      <th>239384</th>\n",
       "      <td>서울특별시 중랑구 묵동</td>\n",
       "      <td>현대아이파크</td>\n",
       "      <td>84.9416</td>\n",
       "      <td>202012</td>\n",
       "      <td>86500</td>\n",
       "      <td>11</td>\n",
       "      <td>2002</td>\n",
       "      <td>중랑천로 286</td>\n",
       "      <td>2020</td>\n",
       "      <td>114</td>\n",
       "      <td>아이파크</td>\n",
       "    </tr>\n",
       "  </tbody>\n",
       "</table>\n",
       "<p>44588 rows × 11 columns</p>\n",
       "</div>"
      ],
      "text/plain": [
       "                  시군구         단지명   전용면적(㎡)    계약년월  거래금액(만원)   층  건축년도  \\\n",
       "17      서울특별시 강남구 개포동  개포자이(12-2)  170.3200  201801    162000  16  2004   \n",
       "18      서울특별시 강남구 개포동  개포자이(12-2)  134.3000  201801    153500   3  2004   \n",
       "19      서울특별시 강남구 개포동  개포자이(12-2)  170.3200  201801    175000  15  2004   \n",
       "20      서울특별시 강남구 개포동  개포자이(12-2)  134.3000  201803    158000  18  2004   \n",
       "21      서울특별시 강남구 개포동  개포자이(12-2)  168.4200  201804    171000   5  2004   \n",
       "...               ...         ...       ...     ...       ...  ..   ...   \n",
       "239380   서울특별시 중랑구 묵동      현대아이파크   84.9416  202009     77000   7  2002   \n",
       "239381   서울특별시 중랑구 묵동      현대아이파크   84.9416  202010     70000   1  2002   \n",
       "239382   서울특별시 중랑구 묵동      현대아이파크   84.9785  202010     78500   5  2002   \n",
       "239383   서울특별시 중랑구 묵동      현대아이파크   84.9785  202010     78500   5  2002   \n",
       "239384   서울특별시 중랑구 묵동      현대아이파크   84.9416  202012     86500  11  2002   \n",
       "\n",
       "               도로명  계약연도  아파트 별 집 개수 top10  \n",
       "17      개포로109길 69  2018          25    자이  \n",
       "18      개포로109길 69  2018          25    자이  \n",
       "19      개포로109길 69  2018          25    자이  \n",
       "20      개포로109길 69  2018          25    자이  \n",
       "21      개포로109길 69  2018          25    자이  \n",
       "...            ...   ...         ...   ...  \n",
       "239380    중랑천로 286  2020         114  아이파크  \n",
       "239381    중랑천로 286  2020         114  아이파크  \n",
       "239382    중랑천로 286  2020         114  아이파크  \n",
       "239383    중랑천로 286  2020         114  아이파크  \n",
       "239384    중랑천로 286  2020         114  아이파크  \n",
       "\n",
       "[44588 rows x 11 columns]"
      ]
     },
     "execution_count": 15,
     "metadata": {},
     "output_type": "execute_result"
    }
   ],
   "source": [
    "# top10 시공사 + 데이터에서 가장 많이 나오는 아파트 20개의 이름을 통일\n",
    "# top 10 시공사 아파트 여부를 나타내는 컬럼 생성\n",
    "# 2021.09.16 시공사 브랜드평판 순위 참고 링크: http://brikorea.com/bbs/board.php?bo_table=rep_1&wr_id=701 \n",
    "train_data['top10'] = 'others'\n",
    "top10_apt = ['힐스테이트', '자이', '롯데캐슬', '더샵', '푸르지오', \n",
    "            '래미안', '아이파크', 'sk|SK|에스케이', '이편한|e편한|e-편한', '더 플래티넘']\n",
    "\n",
    "# top 10 시공사에 속해 있는 아파트면 해당 시공사 이름으로 top10 컬럼 값 할당\n",
    "for brand in top10_apt:\n",
    "    train_data.loc[train_data['단지명'].str.contains(brand), 'top10'] = brand\n",
    "\n",
    "# top10 시공사에 속하는 아파트 단지 탐색\n",
    "train_data[train_data['top10'] != 'others']"
   ]
  },
  {
   "cell_type": "code",
   "execution_count": 16,
   "metadata": {},
   "outputs": [
    {
     "data": {
      "text/plain": [
       "others          133430\n",
       "현대               18675\n",
       "래미안              10568\n",
       "삼성                8106\n",
       "동아                7153\n",
       "우성                6103\n",
       "푸르지오              5566\n",
       "한신                5354\n",
       "두산                5181\n",
       "힐스테이트             5008\n",
       "벽산                4626\n",
       "자이                4211\n",
       "롯데캐슬              3928\n",
       "이편한|e편한|e-편한      3460\n",
       "대우                2584\n",
       "아이파크              2421\n",
       "쌍용                2412\n",
       "극동                2169\n",
       "주공2               1713\n",
       "sk|SK|에스케이        1434\n",
       "중앙하이츠             1373\n",
       "더샵                1142\n",
       "대림e-편한세상          1019\n",
       "에스케이북한산시티          939\n",
       "파크리오               911\n",
       "신동아아파트1            739\n",
       "중계그린1단지            696\n",
       "Name: top30, dtype: int64"
      ]
     },
     "execution_count": 16,
     "metadata": {},
     "output_type": "execute_result"
    }
   ],
   "source": [
    "# 겹치는 아파트 이름 탐색\n",
    "# 데이터에 존재하는 상위 20개 아파트\n",
    "apt_top20 = train_data['단지명'].value_counts()[:20]\n",
    "top20_apt = list(apt_top20.index)\n",
    "\n",
    "# top10 시공사 + 기존 데이터에 존재하는 상위 20개 아파트 단지 키워드 리스트 합성\n",
    "total_top_apt = top10_apt + top20_apt\n",
    "\n",
    "# total_top_apt 의 키워드에 해당하는 아파트명이 있는지 여부를 나타내는 새로운 컬럼 생성\n",
    "# top30 키워드에 속하지 않은 아파트는 others로 분류\n",
    "train_data['top30'] = 'others'\n",
    "\n",
    "for apt_name in total_top_apt:\n",
    "    train_data.loc[train_data['단지명'].str.contains(apt_name), 'top30'] = apt_name\n",
    "\n",
    "# 통합 상위 30개 아파트 단지명에 대한 각각의 속성 개수 탐색\n",
    "train_data['top30'].value_counts()"
   ]
  },
  {
   "cell_type": "code",
   "execution_count": 17,
   "id": "7a97064c",
   "metadata": {},
   "outputs": [],
   "source": [
    "# 상위 30 시공사 아파트 군에 속하는 행 개수 count series 도출\n",
    "\n",
    "train_data_top30_count = train_data['top30'].value_counts()\n",
    "train_data_top30_count = train_data_top30_count.drop('others').sort_values(ascending=False)\n",
    "# train_data_top30_count"
   ]
  },
  {
   "cell_type": "code",
   "execution_count": 18,
   "id": "8ebc9ac6",
   "metadata": {},
   "outputs": [
    {
     "data": {
      "application/vnd.plotly.v1+json": {
       "config": {
        "plotlyServerURL": "https://plot.ly"
       },
       "data": [
        {
         "type": "bar",
         "x": [
          "현대",
          "래미안",
          "삼성",
          "동아",
          "우성",
          "푸르지오",
          "한신",
          "두산",
          "힐스테이트",
          "벽산",
          "자이",
          "롯데캐슬",
          "이편한|e편한|e-편한",
          "대우",
          "아이파크",
          "쌍용",
          "극동",
          "주공2",
          "sk|SK|에스케이",
          "중앙하이츠",
          "더샵",
          "대림e-편한세상",
          "에스케이북한산시티",
          "파크리오",
          "신동아아파트1",
          "중계그린1단지"
         ],
         "y": [
          18675,
          10568,
          8106,
          7153,
          6103,
          5566,
          5354,
          5181,
          5008,
          4626,
          4211,
          3928,
          3460,
          2584,
          2421,
          2412,
          2169,
          1713,
          1434,
          1373,
          1142,
          1019,
          939,
          911,
          739,
          696
         ]
        }
       ],
       "layout": {
        "autosize": false,
        "height": 1000,
        "template": {
         "data": {
          "bar": [
           {
            "error_x": {
             "color": "#2a3f5f"
            },
            "error_y": {
             "color": "#2a3f5f"
            },
            "marker": {
             "line": {
              "color": "#E5ECF6",
              "width": 0.5
             },
             "pattern": {
              "fillmode": "overlay",
              "size": 10,
              "solidity": 0.2
             }
            },
            "type": "bar"
           }
          ],
          "barpolar": [
           {
            "marker": {
             "line": {
              "color": "#E5ECF6",
              "width": 0.5
             },
             "pattern": {
              "fillmode": "overlay",
              "size": 10,
              "solidity": 0.2
             }
            },
            "type": "barpolar"
           }
          ],
          "carpet": [
           {
            "aaxis": {
             "endlinecolor": "#2a3f5f",
             "gridcolor": "white",
             "linecolor": "white",
             "minorgridcolor": "white",
             "startlinecolor": "#2a3f5f"
            },
            "baxis": {
             "endlinecolor": "#2a3f5f",
             "gridcolor": "white",
             "linecolor": "white",
             "minorgridcolor": "white",
             "startlinecolor": "#2a3f5f"
            },
            "type": "carpet"
           }
          ],
          "choropleth": [
           {
            "colorbar": {
             "outlinewidth": 0,
             "ticks": ""
            },
            "type": "choropleth"
           }
          ],
          "contour": [
           {
            "colorbar": {
             "outlinewidth": 0,
             "ticks": ""
            },
            "colorscale": [
             [
              0,
              "#0d0887"
             ],
             [
              0.1111111111111111,
              "#46039f"
             ],
             [
              0.2222222222222222,
              "#7201a8"
             ],
             [
              0.3333333333333333,
              "#9c179e"
             ],
             [
              0.4444444444444444,
              "#bd3786"
             ],
             [
              0.5555555555555556,
              "#d8576b"
             ],
             [
              0.6666666666666666,
              "#ed7953"
             ],
             [
              0.7777777777777778,
              "#fb9f3a"
             ],
             [
              0.8888888888888888,
              "#fdca26"
             ],
             [
              1,
              "#f0f921"
             ]
            ],
            "type": "contour"
           }
          ],
          "contourcarpet": [
           {
            "colorbar": {
             "outlinewidth": 0,
             "ticks": ""
            },
            "type": "contourcarpet"
           }
          ],
          "heatmap": [
           {
            "colorbar": {
             "outlinewidth": 0,
             "ticks": ""
            },
            "colorscale": [
             [
              0,
              "#0d0887"
             ],
             [
              0.1111111111111111,
              "#46039f"
             ],
             [
              0.2222222222222222,
              "#7201a8"
             ],
             [
              0.3333333333333333,
              "#9c179e"
             ],
             [
              0.4444444444444444,
              "#bd3786"
             ],
             [
              0.5555555555555556,
              "#d8576b"
             ],
             [
              0.6666666666666666,
              "#ed7953"
             ],
             [
              0.7777777777777778,
              "#fb9f3a"
             ],
             [
              0.8888888888888888,
              "#fdca26"
             ],
             [
              1,
              "#f0f921"
             ]
            ],
            "type": "heatmap"
           }
          ],
          "heatmapgl": [
           {
            "colorbar": {
             "outlinewidth": 0,
             "ticks": ""
            },
            "colorscale": [
             [
              0,
              "#0d0887"
             ],
             [
              0.1111111111111111,
              "#46039f"
             ],
             [
              0.2222222222222222,
              "#7201a8"
             ],
             [
              0.3333333333333333,
              "#9c179e"
             ],
             [
              0.4444444444444444,
              "#bd3786"
             ],
             [
              0.5555555555555556,
              "#d8576b"
             ],
             [
              0.6666666666666666,
              "#ed7953"
             ],
             [
              0.7777777777777778,
              "#fb9f3a"
             ],
             [
              0.8888888888888888,
              "#fdca26"
             ],
             [
              1,
              "#f0f921"
             ]
            ],
            "type": "heatmapgl"
           }
          ],
          "histogram": [
           {
            "marker": {
             "pattern": {
              "fillmode": "overlay",
              "size": 10,
              "solidity": 0.2
             }
            },
            "type": "histogram"
           }
          ],
          "histogram2d": [
           {
            "colorbar": {
             "outlinewidth": 0,
             "ticks": ""
            },
            "colorscale": [
             [
              0,
              "#0d0887"
             ],
             [
              0.1111111111111111,
              "#46039f"
             ],
             [
              0.2222222222222222,
              "#7201a8"
             ],
             [
              0.3333333333333333,
              "#9c179e"
             ],
             [
              0.4444444444444444,
              "#bd3786"
             ],
             [
              0.5555555555555556,
              "#d8576b"
             ],
             [
              0.6666666666666666,
              "#ed7953"
             ],
             [
              0.7777777777777778,
              "#fb9f3a"
             ],
             [
              0.8888888888888888,
              "#fdca26"
             ],
             [
              1,
              "#f0f921"
             ]
            ],
            "type": "histogram2d"
           }
          ],
          "histogram2dcontour": [
           {
            "colorbar": {
             "outlinewidth": 0,
             "ticks": ""
            },
            "colorscale": [
             [
              0,
              "#0d0887"
             ],
             [
              0.1111111111111111,
              "#46039f"
             ],
             [
              0.2222222222222222,
              "#7201a8"
             ],
             [
              0.3333333333333333,
              "#9c179e"
             ],
             [
              0.4444444444444444,
              "#bd3786"
             ],
             [
              0.5555555555555556,
              "#d8576b"
             ],
             [
              0.6666666666666666,
              "#ed7953"
             ],
             [
              0.7777777777777778,
              "#fb9f3a"
             ],
             [
              0.8888888888888888,
              "#fdca26"
             ],
             [
              1,
              "#f0f921"
             ]
            ],
            "type": "histogram2dcontour"
           }
          ],
          "mesh3d": [
           {
            "colorbar": {
             "outlinewidth": 0,
             "ticks": ""
            },
            "type": "mesh3d"
           }
          ],
          "parcoords": [
           {
            "line": {
             "colorbar": {
              "outlinewidth": 0,
              "ticks": ""
             }
            },
            "type": "parcoords"
           }
          ],
          "pie": [
           {
            "automargin": true,
            "type": "pie"
           }
          ],
          "scatter": [
           {
            "marker": {
             "colorbar": {
              "outlinewidth": 0,
              "ticks": ""
             }
            },
            "type": "scatter"
           }
          ],
          "scatter3d": [
           {
            "line": {
             "colorbar": {
              "outlinewidth": 0,
              "ticks": ""
             }
            },
            "marker": {
             "colorbar": {
              "outlinewidth": 0,
              "ticks": ""
             }
            },
            "type": "scatter3d"
           }
          ],
          "scattercarpet": [
           {
            "marker": {
             "colorbar": {
              "outlinewidth": 0,
              "ticks": ""
             }
            },
            "type": "scattercarpet"
           }
          ],
          "scattergeo": [
           {
            "marker": {
             "colorbar": {
              "outlinewidth": 0,
              "ticks": ""
             }
            },
            "type": "scattergeo"
           }
          ],
          "scattergl": [
           {
            "marker": {
             "colorbar": {
              "outlinewidth": 0,
              "ticks": ""
             }
            },
            "type": "scattergl"
           }
          ],
          "scattermapbox": [
           {
            "marker": {
             "colorbar": {
              "outlinewidth": 0,
              "ticks": ""
             }
            },
            "type": "scattermapbox"
           }
          ],
          "scatterpolar": [
           {
            "marker": {
             "colorbar": {
              "outlinewidth": 0,
              "ticks": ""
             }
            },
            "type": "scatterpolar"
           }
          ],
          "scatterpolargl": [
           {
            "marker": {
             "colorbar": {
              "outlinewidth": 0,
              "ticks": ""
             }
            },
            "type": "scatterpolargl"
           }
          ],
          "scatterternary": [
           {
            "marker": {
             "colorbar": {
              "outlinewidth": 0,
              "ticks": ""
             }
            },
            "type": "scatterternary"
           }
          ],
          "surface": [
           {
            "colorbar": {
             "outlinewidth": 0,
             "ticks": ""
            },
            "colorscale": [
             [
              0,
              "#0d0887"
             ],
             [
              0.1111111111111111,
              "#46039f"
             ],
             [
              0.2222222222222222,
              "#7201a8"
             ],
             [
              0.3333333333333333,
              "#9c179e"
             ],
             [
              0.4444444444444444,
              "#bd3786"
             ],
             [
              0.5555555555555556,
              "#d8576b"
             ],
             [
              0.6666666666666666,
              "#ed7953"
             ],
             [
              0.7777777777777778,
              "#fb9f3a"
             ],
             [
              0.8888888888888888,
              "#fdca26"
             ],
             [
              1,
              "#f0f921"
             ]
            ],
            "type": "surface"
           }
          ],
          "table": [
           {
            "cells": {
             "fill": {
              "color": "#EBF0F8"
             },
             "line": {
              "color": "white"
             }
            },
            "header": {
             "fill": {
              "color": "#C8D4E3"
             },
             "line": {
              "color": "white"
             }
            },
            "type": "table"
           }
          ]
         },
         "layout": {
          "annotationdefaults": {
           "arrowcolor": "#2a3f5f",
           "arrowhead": 0,
           "arrowwidth": 1
          },
          "autotypenumbers": "strict",
          "coloraxis": {
           "colorbar": {
            "outlinewidth": 0,
            "ticks": ""
           }
          },
          "colorscale": {
           "diverging": [
            [
             0,
             "#8e0152"
            ],
            [
             0.1,
             "#c51b7d"
            ],
            [
             0.2,
             "#de77ae"
            ],
            [
             0.3,
             "#f1b6da"
            ],
            [
             0.4,
             "#fde0ef"
            ],
            [
             0.5,
             "#f7f7f7"
            ],
            [
             0.6,
             "#e6f5d0"
            ],
            [
             0.7,
             "#b8e186"
            ],
            [
             0.8,
             "#7fbc41"
            ],
            [
             0.9,
             "#4d9221"
            ],
            [
             1,
             "#276419"
            ]
           ],
           "sequential": [
            [
             0,
             "#0d0887"
            ],
            [
             0.1111111111111111,
             "#46039f"
            ],
            [
             0.2222222222222222,
             "#7201a8"
            ],
            [
             0.3333333333333333,
             "#9c179e"
            ],
            [
             0.4444444444444444,
             "#bd3786"
            ],
            [
             0.5555555555555556,
             "#d8576b"
            ],
            [
             0.6666666666666666,
             "#ed7953"
            ],
            [
             0.7777777777777778,
             "#fb9f3a"
            ],
            [
             0.8888888888888888,
             "#fdca26"
            ],
            [
             1,
             "#f0f921"
            ]
           ],
           "sequentialminus": [
            [
             0,
             "#0d0887"
            ],
            [
             0.1111111111111111,
             "#46039f"
            ],
            [
             0.2222222222222222,
             "#7201a8"
            ],
            [
             0.3333333333333333,
             "#9c179e"
            ],
            [
             0.4444444444444444,
             "#bd3786"
            ],
            [
             0.5555555555555556,
             "#d8576b"
            ],
            [
             0.6666666666666666,
             "#ed7953"
            ],
            [
             0.7777777777777778,
             "#fb9f3a"
            ],
            [
             0.8888888888888888,
             "#fdca26"
            ],
            [
             1,
             "#f0f921"
            ]
           ]
          },
          "colorway": [
           "#636efa",
           "#EF553B",
           "#00cc96",
           "#ab63fa",
           "#FFA15A",
           "#19d3f3",
           "#FF6692",
           "#B6E880",
           "#FF97FF",
           "#FECB52"
          ],
          "font": {
           "color": "#2a3f5f"
          },
          "geo": {
           "bgcolor": "white",
           "lakecolor": "white",
           "landcolor": "#E5ECF6",
           "showlakes": true,
           "showland": true,
           "subunitcolor": "white"
          },
          "hoverlabel": {
           "align": "left"
          },
          "hovermode": "closest",
          "mapbox": {
           "style": "light"
          },
          "paper_bgcolor": "white",
          "plot_bgcolor": "#E5ECF6",
          "polar": {
           "angularaxis": {
            "gridcolor": "white",
            "linecolor": "white",
            "ticks": ""
           },
           "bgcolor": "#E5ECF6",
           "radialaxis": {
            "gridcolor": "white",
            "linecolor": "white",
            "ticks": ""
           }
          },
          "scene": {
           "xaxis": {
            "backgroundcolor": "#E5ECF6",
            "gridcolor": "white",
            "gridwidth": 2,
            "linecolor": "white",
            "showbackground": true,
            "ticks": "",
            "zerolinecolor": "white"
           },
           "yaxis": {
            "backgroundcolor": "#E5ECF6",
            "gridcolor": "white",
            "gridwidth": 2,
            "linecolor": "white",
            "showbackground": true,
            "ticks": "",
            "zerolinecolor": "white"
           },
           "zaxis": {
            "backgroundcolor": "#E5ECF6",
            "gridcolor": "white",
            "gridwidth": 2,
            "linecolor": "white",
            "showbackground": true,
            "ticks": "",
            "zerolinecolor": "white"
           }
          },
          "shapedefaults": {
           "line": {
            "color": "#2a3f5f"
           }
          },
          "ternary": {
           "aaxis": {
            "gridcolor": "white",
            "linecolor": "white",
            "ticks": ""
           },
           "baxis": {
            "gridcolor": "white",
            "linecolor": "white",
            "ticks": ""
           },
           "bgcolor": "#E5ECF6",
           "caxis": {
            "gridcolor": "white",
            "linecolor": "white",
            "ticks": ""
           }
          },
          "title": {
           "x": 0.05
          },
          "xaxis": {
           "automargin": true,
           "gridcolor": "white",
           "linecolor": "white",
           "ticks": "",
           "title": {
            "standoff": 15
           },
           "zerolinecolor": "white",
           "zerolinewidth": 2
          },
          "yaxis": {
           "automargin": true,
           "gridcolor": "white",
           "linecolor": "white",
           "ticks": "",
           "title": {
            "standoff": 15
           },
           "zerolinecolor": "white",
           "zerolinewidth": 2
          }
         }
        },
        "title": {
         "text": "상위 26 시공사 아파트 단지 거래횟수(2018~2020)"
        },
        "width": 1200,
        "xaxis": {
         "title": {
          "text": "상위 26 시공사"
         }
        },
        "yaxis": {
         "tickformat": "(횟수)",
         "title": {
          "text": "거래횟수(회)"
         }
        }
       }
      }
     },
     "metadata": {},
     "output_type": "display_data"
    }
   ],
   "source": [
    "# 상위 30 아파트 군에 속하는 행 개수 count 시각화\n",
    "\n",
    "top30_count_fig = go.Figure()\n",
    "top30_count_trace = go.Bar(x=train_data_top30_count.index, y=train_data_top30_count.values)\n",
    "top30_count_fig.add_trace(top30_count_trace)\n",
    "\n",
    "top30_count_fig.update_layout(\n",
    "    title='상위 26 시공사 아파트 단지 거래횟수(2018~2020)',\n",
    "    xaxis_title='상위 26 시공사',\n",
    "    yaxis_title='거래횟수(회)',\n",
    "    yaxis_tickformat='(횟수)',\n",
    "    autosize=False,\n",
    "    width=1200,\n",
    "    height=1000\n",
    ")\n",
    "\n",
    "top30_count_fig.show()"
   ]
  },
  {
   "cell_type": "code",
   "execution_count": 19,
   "id": "94a4b586",
   "metadata": {},
   "outputs": [
    {
     "data": {
      "text/html": [
       "<div>\n",
       "<style scoped>\n",
       "    .dataframe tbody tr th:only-of-type {\n",
       "        vertical-align: middle;\n",
       "    }\n",
       "\n",
       "    .dataframe tbody tr th {\n",
       "        vertical-align: top;\n",
       "    }\n",
       "\n",
       "    .dataframe thead th {\n",
       "        text-align: right;\n",
       "    }\n",
       "</style>\n",
       "<table border=\"1\" class=\"dataframe\">\n",
       "  <thead>\n",
       "    <tr style=\"text-align: right;\">\n",
       "      <th></th>\n",
       "      <th></th>\n",
       "      <th>시군구</th>\n",
       "      <th>단지명</th>\n",
       "      <th>전용면적(㎡)</th>\n",
       "      <th>계약년월</th>\n",
       "      <th>거래금액(만원)</th>\n",
       "      <th>층</th>\n",
       "      <th>건축년도</th>\n",
       "      <th>도로명</th>\n",
       "      <th>아파트 별 집 개수</th>\n",
       "      <th>top10</th>\n",
       "    </tr>\n",
       "    <tr>\n",
       "      <th>top30</th>\n",
       "      <th>계약연도</th>\n",
       "      <th></th>\n",
       "      <th></th>\n",
       "      <th></th>\n",
       "      <th></th>\n",
       "      <th></th>\n",
       "      <th></th>\n",
       "      <th></th>\n",
       "      <th></th>\n",
       "      <th></th>\n",
       "      <th></th>\n",
       "    </tr>\n",
       "  </thead>\n",
       "  <tbody>\n",
       "    <tr>\n",
       "      <th rowspan=\"3\" valign=\"top\">현대</th>\n",
       "      <th>2018</th>\n",
       "      <td>6389</td>\n",
       "      <td>6389</td>\n",
       "      <td>6389</td>\n",
       "      <td>6389</td>\n",
       "      <td>6389</td>\n",
       "      <td>6389</td>\n",
       "      <td>6389</td>\n",
       "      <td>6389</td>\n",
       "      <td>6389</td>\n",
       "      <td>6389</td>\n",
       "    </tr>\n",
       "    <tr>\n",
       "      <th>2020</th>\n",
       "      <td>6362</td>\n",
       "      <td>6362</td>\n",
       "      <td>6362</td>\n",
       "      <td>6362</td>\n",
       "      <td>6362</td>\n",
       "      <td>6362</td>\n",
       "      <td>6362</td>\n",
       "      <td>6362</td>\n",
       "      <td>6362</td>\n",
       "      <td>6362</td>\n",
       "    </tr>\n",
       "    <tr>\n",
       "      <th>2019</th>\n",
       "      <td>5924</td>\n",
       "      <td>5924</td>\n",
       "      <td>5924</td>\n",
       "      <td>5924</td>\n",
       "      <td>5924</td>\n",
       "      <td>5924</td>\n",
       "      <td>5924</td>\n",
       "      <td>5924</td>\n",
       "      <td>5924</td>\n",
       "      <td>5924</td>\n",
       "    </tr>\n",
       "    <tr>\n",
       "      <th rowspan=\"2\" valign=\"top\">래미안</th>\n",
       "      <th>2019</th>\n",
       "      <td>3727</td>\n",
       "      <td>3727</td>\n",
       "      <td>3727</td>\n",
       "      <td>3727</td>\n",
       "      <td>3727</td>\n",
       "      <td>3727</td>\n",
       "      <td>3727</td>\n",
       "      <td>3727</td>\n",
       "      <td>3727</td>\n",
       "      <td>3727</td>\n",
       "    </tr>\n",
       "    <tr>\n",
       "      <th>2020</th>\n",
       "      <td>3489</td>\n",
       "      <td>3489</td>\n",
       "      <td>3489</td>\n",
       "      <td>3489</td>\n",
       "      <td>3489</td>\n",
       "      <td>3489</td>\n",
       "      <td>3489</td>\n",
       "      <td>3489</td>\n",
       "      <td>3489</td>\n",
       "      <td>3489</td>\n",
       "    </tr>\n",
       "    <tr>\n",
       "      <th>...</th>\n",
       "      <th>...</th>\n",
       "      <td>...</td>\n",
       "      <td>...</td>\n",
       "      <td>...</td>\n",
       "      <td>...</td>\n",
       "      <td>...</td>\n",
       "      <td>...</td>\n",
       "      <td>...</td>\n",
       "      <td>...</td>\n",
       "      <td>...</td>\n",
       "      <td>...</td>\n",
       "    </tr>\n",
       "    <tr>\n",
       "      <th>중계그린1단지</th>\n",
       "      <th>2018</th>\n",
       "      <td>226</td>\n",
       "      <td>226</td>\n",
       "      <td>226</td>\n",
       "      <td>226</td>\n",
       "      <td>226</td>\n",
       "      <td>226</td>\n",
       "      <td>226</td>\n",
       "      <td>226</td>\n",
       "      <td>226</td>\n",
       "      <td>226</td>\n",
       "    </tr>\n",
       "    <tr>\n",
       "      <th>에스케이북한산시티</th>\n",
       "      <th>2019</th>\n",
       "      <td>218</td>\n",
       "      <td>218</td>\n",
       "      <td>218</td>\n",
       "      <td>218</td>\n",
       "      <td>218</td>\n",
       "      <td>218</td>\n",
       "      <td>218</td>\n",
       "      <td>218</td>\n",
       "      <td>218</td>\n",
       "      <td>218</td>\n",
       "    </tr>\n",
       "    <tr>\n",
       "      <th>파크리오</th>\n",
       "      <th>2018</th>\n",
       "      <td>216</td>\n",
       "      <td>216</td>\n",
       "      <td>216</td>\n",
       "      <td>216</td>\n",
       "      <td>216</td>\n",
       "      <td>216</td>\n",
       "      <td>216</td>\n",
       "      <td>216</td>\n",
       "      <td>216</td>\n",
       "      <td>216</td>\n",
       "    </tr>\n",
       "    <tr>\n",
       "      <th>중계그린1단지</th>\n",
       "      <th>2019</th>\n",
       "      <td>202</td>\n",
       "      <td>202</td>\n",
       "      <td>202</td>\n",
       "      <td>202</td>\n",
       "      <td>202</td>\n",
       "      <td>202</td>\n",
       "      <td>202</td>\n",
       "      <td>202</td>\n",
       "      <td>202</td>\n",
       "      <td>202</td>\n",
       "    </tr>\n",
       "    <tr>\n",
       "      <th>신동아아파트1</th>\n",
       "      <th>2019</th>\n",
       "      <td>173</td>\n",
       "      <td>173</td>\n",
       "      <td>173</td>\n",
       "      <td>173</td>\n",
       "      <td>173</td>\n",
       "      <td>173</td>\n",
       "      <td>173</td>\n",
       "      <td>173</td>\n",
       "      <td>173</td>\n",
       "      <td>173</td>\n",
       "    </tr>\n",
       "  </tbody>\n",
       "</table>\n",
       "<p>78 rows × 10 columns</p>\n",
       "</div>"
      ],
      "text/plain": [
       "                 시군구   단지명  전용면적(㎡)  계약년월  거래금액(만원)     층  건축년도   도로명  \\\n",
       "top30     계약연도                                                          \n",
       "현대        2018  6389  6389     6389  6389      6389  6389  6389  6389   \n",
       "          2020  6362  6362     6362  6362      6362  6362  6362  6362   \n",
       "          2019  5924  5924     5924  5924      5924  5924  5924  5924   \n",
       "래미안       2019  3727  3727     3727  3727      3727  3727  3727  3727   \n",
       "          2020  3489  3489     3489  3489      3489  3489  3489  3489   \n",
       "...              ...   ...      ...   ...       ...   ...   ...   ...   \n",
       "중계그린1단지   2018   226   226      226   226       226   226   226   226   \n",
       "에스케이북한산시티 2019   218   218      218   218       218   218   218   218   \n",
       "파크리오      2018   216   216      216   216       216   216   216   216   \n",
       "중계그린1단지   2019   202   202      202   202       202   202   202   202   \n",
       "신동아아파트1   2019   173   173      173   173       173   173   173   173   \n",
       "\n",
       "                아파트 별 집 개수  top10  \n",
       "top30     계약연도                     \n",
       "현대        2018        6389   6389  \n",
       "          2020        6362   6362  \n",
       "          2019        5924   5924  \n",
       "래미안       2019        3727   3727  \n",
       "          2020        3489   3489  \n",
       "...                    ...    ...  \n",
       "중계그린1단지   2018         226    226  \n",
       "에스케이북한산시티 2019         218    218  \n",
       "파크리오      2018         216    216  \n",
       "중계그린1단지   2019         202    202  \n",
       "신동아아파트1   2019         173    173  \n",
       "\n",
       "[78 rows x 10 columns]"
      ]
     },
     "execution_count": 19,
     "metadata": {},
     "output_type": "execute_result"
    }
   ],
   "source": [
    "# 연도별 상위 30 시공사 아파트 군에 속하는 행 개수 도출\n",
    "train_data_top30_count_by_year = train_data[train_data['top30'] != 'others'].groupby(['top30', '계약연도']).count().sort_values('단지명', ascending=False)\n",
    "train_data_top30_count_by_year"
   ]
  },
  {
   "cell_type": "code",
   "execution_count": 20,
   "id": "bb092a5c",
   "metadata": {},
   "outputs": [
    {
     "data": {
      "application/vnd.plotly.v1+json": {
       "config": {
        "plotlyServerURL": "https://plot.ly"
       },
       "data": [
        {
         "name": "2018년",
         "type": "bar",
         "x": [
          "현대",
          "래미안",
          "삼성",
          "동아",
          "우성",
          "푸르지오",
          "한신",
          "두산",
          "힐스테이트",
          "벽산",
          "롯데캐슬",
          "자이",
          "이편한|e편한|e-편한",
          "대우",
          "쌍용",
          "극동",
          "아이파크",
          "주공2",
          "sk|SK|에스케이",
          "중앙하이츠",
          "더샵",
          "대림e-편한세상",
          "에스케이북한산시티",
          "신동아아파트1",
          "중계그린1단지",
          "파크리오"
         ],
         "y": [
          6389,
          3352,
          2643,
          2552,
          2168,
          1966,
          1922,
          1854,
          1746,
          1656,
          1350,
          1288,
          1083,
          938,
          879,
          719,
          697,
          591,
          501,
          447,
          375,
          333,
          325,
          262,
          226,
          216
         ]
        },
        {
         "name": "2019년",
         "type": "bar",
         "x": [
          "현대",
          "래미안",
          "삼성",
          "동아",
          "우성",
          "푸르지오",
          "두산",
          "자이",
          "힐스테이트",
          "한신",
          "벽산",
          "롯데캐슬",
          "이편한|e편한|e-편한",
          "아이파크",
          "대우",
          "쌍용",
          "극동",
          "주공2",
          "sk|SK|에스케이",
          "중앙하이츠",
          "파크리오",
          "더샵",
          "대림e-편한세상",
          "에스케이북한산시티",
          "중계그린1단지",
          "신동아아파트1"
         ],
         "y": [
          5924,
          3727,
          2671,
          2122,
          1881,
          1791,
          1560,
          1527,
          1523,
          1512,
          1315,
          1282,
          1172,
          767,
          752,
          730,
          723,
          517,
          445,
          428,
          418,
          372,
          366,
          218,
          202,
          173
         ]
        },
        {
         "name": "2020년",
         "type": "bar",
         "x": [
          "현대",
          "래미안",
          "삼성",
          "동아",
          "우성",
          "한신",
          "푸르지오",
          "두산",
          "힐스테이트",
          "벽산",
          "자이",
          "롯데캐슬",
          "이편한|e편한|e-편한",
          "아이파크",
          "대우",
          "쌍용",
          "극동",
          "주공2",
          "중앙하이츠",
          "sk|SK|에스케이",
          "에스케이북한산시티",
          "더샵",
          "대림e-편한세상",
          "신동아아파트1",
          "파크리오",
          "중계그린1단지"
         ],
         "y": [
          6362,
          3489,
          2792,
          2479,
          2054,
          1920,
          1809,
          1767,
          1739,
          1655,
          1396,
          1296,
          1205,
          957,
          894,
          803,
          727,
          605,
          498,
          488,
          396,
          395,
          320,
          304,
          277,
          268
         ]
        }
       ],
       "layout": {
        "autosize": false,
        "height": 1000,
        "template": {
         "data": {
          "bar": [
           {
            "error_x": {
             "color": "#2a3f5f"
            },
            "error_y": {
             "color": "#2a3f5f"
            },
            "marker": {
             "line": {
              "color": "#E5ECF6",
              "width": 0.5
             },
             "pattern": {
              "fillmode": "overlay",
              "size": 10,
              "solidity": 0.2
             }
            },
            "type": "bar"
           }
          ],
          "barpolar": [
           {
            "marker": {
             "line": {
              "color": "#E5ECF6",
              "width": 0.5
             },
             "pattern": {
              "fillmode": "overlay",
              "size": 10,
              "solidity": 0.2
             }
            },
            "type": "barpolar"
           }
          ],
          "carpet": [
           {
            "aaxis": {
             "endlinecolor": "#2a3f5f",
             "gridcolor": "white",
             "linecolor": "white",
             "minorgridcolor": "white",
             "startlinecolor": "#2a3f5f"
            },
            "baxis": {
             "endlinecolor": "#2a3f5f",
             "gridcolor": "white",
             "linecolor": "white",
             "minorgridcolor": "white",
             "startlinecolor": "#2a3f5f"
            },
            "type": "carpet"
           }
          ],
          "choropleth": [
           {
            "colorbar": {
             "outlinewidth": 0,
             "ticks": ""
            },
            "type": "choropleth"
           }
          ],
          "contour": [
           {
            "colorbar": {
             "outlinewidth": 0,
             "ticks": ""
            },
            "colorscale": [
             [
              0,
              "#0d0887"
             ],
             [
              0.1111111111111111,
              "#46039f"
             ],
             [
              0.2222222222222222,
              "#7201a8"
             ],
             [
              0.3333333333333333,
              "#9c179e"
             ],
             [
              0.4444444444444444,
              "#bd3786"
             ],
             [
              0.5555555555555556,
              "#d8576b"
             ],
             [
              0.6666666666666666,
              "#ed7953"
             ],
             [
              0.7777777777777778,
              "#fb9f3a"
             ],
             [
              0.8888888888888888,
              "#fdca26"
             ],
             [
              1,
              "#f0f921"
             ]
            ],
            "type": "contour"
           }
          ],
          "contourcarpet": [
           {
            "colorbar": {
             "outlinewidth": 0,
             "ticks": ""
            },
            "type": "contourcarpet"
           }
          ],
          "heatmap": [
           {
            "colorbar": {
             "outlinewidth": 0,
             "ticks": ""
            },
            "colorscale": [
             [
              0,
              "#0d0887"
             ],
             [
              0.1111111111111111,
              "#46039f"
             ],
             [
              0.2222222222222222,
              "#7201a8"
             ],
             [
              0.3333333333333333,
              "#9c179e"
             ],
             [
              0.4444444444444444,
              "#bd3786"
             ],
             [
              0.5555555555555556,
              "#d8576b"
             ],
             [
              0.6666666666666666,
              "#ed7953"
             ],
             [
              0.7777777777777778,
              "#fb9f3a"
             ],
             [
              0.8888888888888888,
              "#fdca26"
             ],
             [
              1,
              "#f0f921"
             ]
            ],
            "type": "heatmap"
           }
          ],
          "heatmapgl": [
           {
            "colorbar": {
             "outlinewidth": 0,
             "ticks": ""
            },
            "colorscale": [
             [
              0,
              "#0d0887"
             ],
             [
              0.1111111111111111,
              "#46039f"
             ],
             [
              0.2222222222222222,
              "#7201a8"
             ],
             [
              0.3333333333333333,
              "#9c179e"
             ],
             [
              0.4444444444444444,
              "#bd3786"
             ],
             [
              0.5555555555555556,
              "#d8576b"
             ],
             [
              0.6666666666666666,
              "#ed7953"
             ],
             [
              0.7777777777777778,
              "#fb9f3a"
             ],
             [
              0.8888888888888888,
              "#fdca26"
             ],
             [
              1,
              "#f0f921"
             ]
            ],
            "type": "heatmapgl"
           }
          ],
          "histogram": [
           {
            "marker": {
             "pattern": {
              "fillmode": "overlay",
              "size": 10,
              "solidity": 0.2
             }
            },
            "type": "histogram"
           }
          ],
          "histogram2d": [
           {
            "colorbar": {
             "outlinewidth": 0,
             "ticks": ""
            },
            "colorscale": [
             [
              0,
              "#0d0887"
             ],
             [
              0.1111111111111111,
              "#46039f"
             ],
             [
              0.2222222222222222,
              "#7201a8"
             ],
             [
              0.3333333333333333,
              "#9c179e"
             ],
             [
              0.4444444444444444,
              "#bd3786"
             ],
             [
              0.5555555555555556,
              "#d8576b"
             ],
             [
              0.6666666666666666,
              "#ed7953"
             ],
             [
              0.7777777777777778,
              "#fb9f3a"
             ],
             [
              0.8888888888888888,
              "#fdca26"
             ],
             [
              1,
              "#f0f921"
             ]
            ],
            "type": "histogram2d"
           }
          ],
          "histogram2dcontour": [
           {
            "colorbar": {
             "outlinewidth": 0,
             "ticks": ""
            },
            "colorscale": [
             [
              0,
              "#0d0887"
             ],
             [
              0.1111111111111111,
              "#46039f"
             ],
             [
              0.2222222222222222,
              "#7201a8"
             ],
             [
              0.3333333333333333,
              "#9c179e"
             ],
             [
              0.4444444444444444,
              "#bd3786"
             ],
             [
              0.5555555555555556,
              "#d8576b"
             ],
             [
              0.6666666666666666,
              "#ed7953"
             ],
             [
              0.7777777777777778,
              "#fb9f3a"
             ],
             [
              0.8888888888888888,
              "#fdca26"
             ],
             [
              1,
              "#f0f921"
             ]
            ],
            "type": "histogram2dcontour"
           }
          ],
          "mesh3d": [
           {
            "colorbar": {
             "outlinewidth": 0,
             "ticks": ""
            },
            "type": "mesh3d"
           }
          ],
          "parcoords": [
           {
            "line": {
             "colorbar": {
              "outlinewidth": 0,
              "ticks": ""
             }
            },
            "type": "parcoords"
           }
          ],
          "pie": [
           {
            "automargin": true,
            "type": "pie"
           }
          ],
          "scatter": [
           {
            "marker": {
             "colorbar": {
              "outlinewidth": 0,
              "ticks": ""
             }
            },
            "type": "scatter"
           }
          ],
          "scatter3d": [
           {
            "line": {
             "colorbar": {
              "outlinewidth": 0,
              "ticks": ""
             }
            },
            "marker": {
             "colorbar": {
              "outlinewidth": 0,
              "ticks": ""
             }
            },
            "type": "scatter3d"
           }
          ],
          "scattercarpet": [
           {
            "marker": {
             "colorbar": {
              "outlinewidth": 0,
              "ticks": ""
             }
            },
            "type": "scattercarpet"
           }
          ],
          "scattergeo": [
           {
            "marker": {
             "colorbar": {
              "outlinewidth": 0,
              "ticks": ""
             }
            },
            "type": "scattergeo"
           }
          ],
          "scattergl": [
           {
            "marker": {
             "colorbar": {
              "outlinewidth": 0,
              "ticks": ""
             }
            },
            "type": "scattergl"
           }
          ],
          "scattermapbox": [
           {
            "marker": {
             "colorbar": {
              "outlinewidth": 0,
              "ticks": ""
             }
            },
            "type": "scattermapbox"
           }
          ],
          "scatterpolar": [
           {
            "marker": {
             "colorbar": {
              "outlinewidth": 0,
              "ticks": ""
             }
            },
            "type": "scatterpolar"
           }
          ],
          "scatterpolargl": [
           {
            "marker": {
             "colorbar": {
              "outlinewidth": 0,
              "ticks": ""
             }
            },
            "type": "scatterpolargl"
           }
          ],
          "scatterternary": [
           {
            "marker": {
             "colorbar": {
              "outlinewidth": 0,
              "ticks": ""
             }
            },
            "type": "scatterternary"
           }
          ],
          "surface": [
           {
            "colorbar": {
             "outlinewidth": 0,
             "ticks": ""
            },
            "colorscale": [
             [
              0,
              "#0d0887"
             ],
             [
              0.1111111111111111,
              "#46039f"
             ],
             [
              0.2222222222222222,
              "#7201a8"
             ],
             [
              0.3333333333333333,
              "#9c179e"
             ],
             [
              0.4444444444444444,
              "#bd3786"
             ],
             [
              0.5555555555555556,
              "#d8576b"
             ],
             [
              0.6666666666666666,
              "#ed7953"
             ],
             [
              0.7777777777777778,
              "#fb9f3a"
             ],
             [
              0.8888888888888888,
              "#fdca26"
             ],
             [
              1,
              "#f0f921"
             ]
            ],
            "type": "surface"
           }
          ],
          "table": [
           {
            "cells": {
             "fill": {
              "color": "#EBF0F8"
             },
             "line": {
              "color": "white"
             }
            },
            "header": {
             "fill": {
              "color": "#C8D4E3"
             },
             "line": {
              "color": "white"
             }
            },
            "type": "table"
           }
          ]
         },
         "layout": {
          "annotationdefaults": {
           "arrowcolor": "#2a3f5f",
           "arrowhead": 0,
           "arrowwidth": 1
          },
          "autotypenumbers": "strict",
          "coloraxis": {
           "colorbar": {
            "outlinewidth": 0,
            "ticks": ""
           }
          },
          "colorscale": {
           "diverging": [
            [
             0,
             "#8e0152"
            ],
            [
             0.1,
             "#c51b7d"
            ],
            [
             0.2,
             "#de77ae"
            ],
            [
             0.3,
             "#f1b6da"
            ],
            [
             0.4,
             "#fde0ef"
            ],
            [
             0.5,
             "#f7f7f7"
            ],
            [
             0.6,
             "#e6f5d0"
            ],
            [
             0.7,
             "#b8e186"
            ],
            [
             0.8,
             "#7fbc41"
            ],
            [
             0.9,
             "#4d9221"
            ],
            [
             1,
             "#276419"
            ]
           ],
           "sequential": [
            [
             0,
             "#0d0887"
            ],
            [
             0.1111111111111111,
             "#46039f"
            ],
            [
             0.2222222222222222,
             "#7201a8"
            ],
            [
             0.3333333333333333,
             "#9c179e"
            ],
            [
             0.4444444444444444,
             "#bd3786"
            ],
            [
             0.5555555555555556,
             "#d8576b"
            ],
            [
             0.6666666666666666,
             "#ed7953"
            ],
            [
             0.7777777777777778,
             "#fb9f3a"
            ],
            [
             0.8888888888888888,
             "#fdca26"
            ],
            [
             1,
             "#f0f921"
            ]
           ],
           "sequentialminus": [
            [
             0,
             "#0d0887"
            ],
            [
             0.1111111111111111,
             "#46039f"
            ],
            [
             0.2222222222222222,
             "#7201a8"
            ],
            [
             0.3333333333333333,
             "#9c179e"
            ],
            [
             0.4444444444444444,
             "#bd3786"
            ],
            [
             0.5555555555555556,
             "#d8576b"
            ],
            [
             0.6666666666666666,
             "#ed7953"
            ],
            [
             0.7777777777777778,
             "#fb9f3a"
            ],
            [
             0.8888888888888888,
             "#fdca26"
            ],
            [
             1,
             "#f0f921"
            ]
           ]
          },
          "colorway": [
           "#636efa",
           "#EF553B",
           "#00cc96",
           "#ab63fa",
           "#FFA15A",
           "#19d3f3",
           "#FF6692",
           "#B6E880",
           "#FF97FF",
           "#FECB52"
          ],
          "font": {
           "color": "#2a3f5f"
          },
          "geo": {
           "bgcolor": "white",
           "lakecolor": "white",
           "landcolor": "#E5ECF6",
           "showlakes": true,
           "showland": true,
           "subunitcolor": "white"
          },
          "hoverlabel": {
           "align": "left"
          },
          "hovermode": "closest",
          "mapbox": {
           "style": "light"
          },
          "paper_bgcolor": "white",
          "plot_bgcolor": "#E5ECF6",
          "polar": {
           "angularaxis": {
            "gridcolor": "white",
            "linecolor": "white",
            "ticks": ""
           },
           "bgcolor": "#E5ECF6",
           "radialaxis": {
            "gridcolor": "white",
            "linecolor": "white",
            "ticks": ""
           }
          },
          "scene": {
           "xaxis": {
            "backgroundcolor": "#E5ECF6",
            "gridcolor": "white",
            "gridwidth": 2,
            "linecolor": "white",
            "showbackground": true,
            "ticks": "",
            "zerolinecolor": "white"
           },
           "yaxis": {
            "backgroundcolor": "#E5ECF6",
            "gridcolor": "white",
            "gridwidth": 2,
            "linecolor": "white",
            "showbackground": true,
            "ticks": "",
            "zerolinecolor": "white"
           },
           "zaxis": {
            "backgroundcolor": "#E5ECF6",
            "gridcolor": "white",
            "gridwidth": 2,
            "linecolor": "white",
            "showbackground": true,
            "ticks": "",
            "zerolinecolor": "white"
           }
          },
          "shapedefaults": {
           "line": {
            "color": "#2a3f5f"
           }
          },
          "ternary": {
           "aaxis": {
            "gridcolor": "white",
            "linecolor": "white",
            "ticks": ""
           },
           "baxis": {
            "gridcolor": "white",
            "linecolor": "white",
            "ticks": ""
           },
           "bgcolor": "#E5ECF6",
           "caxis": {
            "gridcolor": "white",
            "linecolor": "white",
            "ticks": ""
           }
          },
          "title": {
           "x": 0.05
          },
          "xaxis": {
           "automargin": true,
           "gridcolor": "white",
           "linecolor": "white",
           "ticks": "",
           "title": {
            "standoff": 15
           },
           "zerolinecolor": "white",
           "zerolinewidth": 2
          },
          "yaxis": {
           "automargin": true,
           "gridcolor": "white",
           "linecolor": "white",
           "ticks": "",
           "title": {
            "standoff": 15
           },
           "zerolinecolor": "white",
           "zerolinewidth": 2
          }
         }
        },
        "title": {
         "text": "상위 26 시공사 아파트 단지 연도별 거래횟수(2018~2020)"
        },
        "width": 1200,
        "xaxis": {
         "title": {
          "text": "상위 26 시공사"
         }
        },
        "yaxis": {
         "tickformat": "(횟수)",
         "title": {
          "text": "거래횟수(회)"
         }
        }
       }
      }
     },
     "metadata": {},
     "output_type": "display_data"
    }
   ],
   "source": [
    "# 연도별 상위 30 시공사 아파트 군 거래횟수 시각화\n",
    "df = train_data_top30_count_by_year.reset_index()\n",
    "\n",
    "top30_year_count_fig = go.Figure()\n",
    "\n",
    "trace_top30_count_2018 = go.Bar(x=df[df['계약연도'] == '2018']['top30'], y=df[df['계약연도'] == '2018']['단지명'], name='2018년')\n",
    "trace_top30_count_2019 = go.Bar(x=df[df['계약연도'] == '2019']['top30'], y=df[df['계약연도'] == '2019']['단지명'], name='2019년')\n",
    "trace_top30_count_2020 = go.Bar(x=df[df['계약연도'] == '2020']['top30'], y=df[df['계약연도'] == '2020']['단지명'], name='2020년')\n",
    "\n",
    "top30_year_count_fig.add_traces([trace_top30_count_2018, trace_top30_count_2019, trace_top30_count_2020])\n",
    "\n",
    "top30_year_count_fig.update_layout(\n",
    "    title='상위 26 시공사 아파트 단지 연도별 거래횟수(2018~2020)',\n",
    "    xaxis_title='상위 26 시공사',\n",
    "    yaxis_title='거래횟수(회)',\n",
    "    yaxis_tickformat='(횟수)',\n",
    "    autosize=False,\n",
    "    width=1200,\n",
    "    height=1000\n",
    ")\n",
    "\n",
    "top30_year_count_fig.show()"
   ]
  },
  {
   "cell_type": "markdown",
   "id": "e060e37d",
   "metadata": {},
   "source": [
    "### 1.4 주요 아파트 시공사 별 평균 거래금액"
   ]
  },
  {
   "cell_type": "code",
   "execution_count": 21,
   "id": "a197977c",
   "metadata": {},
   "outputs": [
    {
     "data": {
      "text/plain": [
       "top30\n",
       "sk|SK|에스케이       75505.575314\n",
       "극동               71921.678654\n",
       "대림e-편한세상         83480.117763\n",
       "대우               67783.424149\n",
       "더샵              126580.551664\n",
       "동아               73591.333147\n",
       "두산               63158.108859\n",
       "래미안             114160.671650\n",
       "롯데캐슬            107670.102342\n",
       "벽산               51715.343709\n",
       "삼성               85070.955959\n",
       "신동아아파트1          30162.182679\n",
       "쌍용               76014.265340\n",
       "아이파크            114141.009913\n",
       "에스케이북한산시티        52068.924388\n",
       "우성               78820.868753\n",
       "이편한|e편한|e-편한     96553.041618\n",
       "자이              128949.995013\n",
       "주공2              39859.612960\n",
       "중계그린1단지          36170.163793\n",
       "중앙하이츠            61087.513474\n",
       "파크리오            157247.091109\n",
       "푸르지오             85126.000719\n",
       "한신               63342.387000\n",
       "현대               80762.798661\n",
       "힐스테이트            88930.139776\n",
       "Name: 거래금액(만원), dtype: float64"
      ]
     },
     "execution_count": 21,
     "metadata": {},
     "output_type": "execute_result"
    }
   ],
   "source": [
    "# 상위 30 시공사 아파트 평균 거래금액 도출\n",
    "train_data_top30_mean = train_data[train_data['top30'] != 'others']\n",
    "train_data_top30_mean = train_data_top30_mean.groupby('top30').mean()\n",
    "train_data_top30_mean['거래금액(만원)']"
   ]
  },
  {
   "cell_type": "code",
   "execution_count": 22,
   "id": "e65c448c",
   "metadata": {},
   "outputs": [
    {
     "data": {
      "application/vnd.plotly.v1+json": {
       "config": {
        "plotlyServerURL": "https://plot.ly"
       },
       "data": [
        {
         "type": "bar",
         "x": [
          "파크리오",
          "자이",
          "더샵",
          "래미안",
          "아이파크",
          "롯데캐슬",
          "이편한|e편한|e-편한",
          "힐스테이트",
          "푸르지오",
          "삼성",
          "대림e-편한세상",
          "현대",
          "우성",
          "쌍용",
          "sk|SK|에스케이",
          "동아",
          "극동",
          "대우",
          "한신",
          "두산",
          "중앙하이츠",
          "에스케이북한산시티",
          "벽산",
          "주공2",
          "중계그린1단지",
          "신동아아파트1"
         ],
         "y": [
          157247.0911086718,
          128949.99501306104,
          126580.55166374781,
          114160.67165026495,
          114141.00991325898,
          107670.10234215886,
          96553.04161849711,
          88930.13977635783,
          85126.00071864894,
          85070.95595854922,
          83480.11776251227,
          80762.79866131191,
          78820.86875307225,
          76014.26533996683,
          75505.57531380754,
          73591.33314693136,
          71921.6786537575,
          67783.4241486068,
          63342.38700037355,
          63158.10885929357,
          61087.51347414421,
          52068.92438764643,
          51715.34370946822,
          39859.61295971979,
          36170.16379310345,
          30162.182679296347
         ]
        }
       ],
       "layout": {
        "autosize": false,
        "height": 1000,
        "template": {
         "data": {
          "bar": [
           {
            "error_x": {
             "color": "#2a3f5f"
            },
            "error_y": {
             "color": "#2a3f5f"
            },
            "marker": {
             "line": {
              "color": "#E5ECF6",
              "width": 0.5
             },
             "pattern": {
              "fillmode": "overlay",
              "size": 10,
              "solidity": 0.2
             }
            },
            "type": "bar"
           }
          ],
          "barpolar": [
           {
            "marker": {
             "line": {
              "color": "#E5ECF6",
              "width": 0.5
             },
             "pattern": {
              "fillmode": "overlay",
              "size": 10,
              "solidity": 0.2
             }
            },
            "type": "barpolar"
           }
          ],
          "carpet": [
           {
            "aaxis": {
             "endlinecolor": "#2a3f5f",
             "gridcolor": "white",
             "linecolor": "white",
             "minorgridcolor": "white",
             "startlinecolor": "#2a3f5f"
            },
            "baxis": {
             "endlinecolor": "#2a3f5f",
             "gridcolor": "white",
             "linecolor": "white",
             "minorgridcolor": "white",
             "startlinecolor": "#2a3f5f"
            },
            "type": "carpet"
           }
          ],
          "choropleth": [
           {
            "colorbar": {
             "outlinewidth": 0,
             "ticks": ""
            },
            "type": "choropleth"
           }
          ],
          "contour": [
           {
            "colorbar": {
             "outlinewidth": 0,
             "ticks": ""
            },
            "colorscale": [
             [
              0,
              "#0d0887"
             ],
             [
              0.1111111111111111,
              "#46039f"
             ],
             [
              0.2222222222222222,
              "#7201a8"
             ],
             [
              0.3333333333333333,
              "#9c179e"
             ],
             [
              0.4444444444444444,
              "#bd3786"
             ],
             [
              0.5555555555555556,
              "#d8576b"
             ],
             [
              0.6666666666666666,
              "#ed7953"
             ],
             [
              0.7777777777777778,
              "#fb9f3a"
             ],
             [
              0.8888888888888888,
              "#fdca26"
             ],
             [
              1,
              "#f0f921"
             ]
            ],
            "type": "contour"
           }
          ],
          "contourcarpet": [
           {
            "colorbar": {
             "outlinewidth": 0,
             "ticks": ""
            },
            "type": "contourcarpet"
           }
          ],
          "heatmap": [
           {
            "colorbar": {
             "outlinewidth": 0,
             "ticks": ""
            },
            "colorscale": [
             [
              0,
              "#0d0887"
             ],
             [
              0.1111111111111111,
              "#46039f"
             ],
             [
              0.2222222222222222,
              "#7201a8"
             ],
             [
              0.3333333333333333,
              "#9c179e"
             ],
             [
              0.4444444444444444,
              "#bd3786"
             ],
             [
              0.5555555555555556,
              "#d8576b"
             ],
             [
              0.6666666666666666,
              "#ed7953"
             ],
             [
              0.7777777777777778,
              "#fb9f3a"
             ],
             [
              0.8888888888888888,
              "#fdca26"
             ],
             [
              1,
              "#f0f921"
             ]
            ],
            "type": "heatmap"
           }
          ],
          "heatmapgl": [
           {
            "colorbar": {
             "outlinewidth": 0,
             "ticks": ""
            },
            "colorscale": [
             [
              0,
              "#0d0887"
             ],
             [
              0.1111111111111111,
              "#46039f"
             ],
             [
              0.2222222222222222,
              "#7201a8"
             ],
             [
              0.3333333333333333,
              "#9c179e"
             ],
             [
              0.4444444444444444,
              "#bd3786"
             ],
             [
              0.5555555555555556,
              "#d8576b"
             ],
             [
              0.6666666666666666,
              "#ed7953"
             ],
             [
              0.7777777777777778,
              "#fb9f3a"
             ],
             [
              0.8888888888888888,
              "#fdca26"
             ],
             [
              1,
              "#f0f921"
             ]
            ],
            "type": "heatmapgl"
           }
          ],
          "histogram": [
           {
            "marker": {
             "pattern": {
              "fillmode": "overlay",
              "size": 10,
              "solidity": 0.2
             }
            },
            "type": "histogram"
           }
          ],
          "histogram2d": [
           {
            "colorbar": {
             "outlinewidth": 0,
             "ticks": ""
            },
            "colorscale": [
             [
              0,
              "#0d0887"
             ],
             [
              0.1111111111111111,
              "#46039f"
             ],
             [
              0.2222222222222222,
              "#7201a8"
             ],
             [
              0.3333333333333333,
              "#9c179e"
             ],
             [
              0.4444444444444444,
              "#bd3786"
             ],
             [
              0.5555555555555556,
              "#d8576b"
             ],
             [
              0.6666666666666666,
              "#ed7953"
             ],
             [
              0.7777777777777778,
              "#fb9f3a"
             ],
             [
              0.8888888888888888,
              "#fdca26"
             ],
             [
              1,
              "#f0f921"
             ]
            ],
            "type": "histogram2d"
           }
          ],
          "histogram2dcontour": [
           {
            "colorbar": {
             "outlinewidth": 0,
             "ticks": ""
            },
            "colorscale": [
             [
              0,
              "#0d0887"
             ],
             [
              0.1111111111111111,
              "#46039f"
             ],
             [
              0.2222222222222222,
              "#7201a8"
             ],
             [
              0.3333333333333333,
              "#9c179e"
             ],
             [
              0.4444444444444444,
              "#bd3786"
             ],
             [
              0.5555555555555556,
              "#d8576b"
             ],
             [
              0.6666666666666666,
              "#ed7953"
             ],
             [
              0.7777777777777778,
              "#fb9f3a"
             ],
             [
              0.8888888888888888,
              "#fdca26"
             ],
             [
              1,
              "#f0f921"
             ]
            ],
            "type": "histogram2dcontour"
           }
          ],
          "mesh3d": [
           {
            "colorbar": {
             "outlinewidth": 0,
             "ticks": ""
            },
            "type": "mesh3d"
           }
          ],
          "parcoords": [
           {
            "line": {
             "colorbar": {
              "outlinewidth": 0,
              "ticks": ""
             }
            },
            "type": "parcoords"
           }
          ],
          "pie": [
           {
            "automargin": true,
            "type": "pie"
           }
          ],
          "scatter": [
           {
            "marker": {
             "colorbar": {
              "outlinewidth": 0,
              "ticks": ""
             }
            },
            "type": "scatter"
           }
          ],
          "scatter3d": [
           {
            "line": {
             "colorbar": {
              "outlinewidth": 0,
              "ticks": ""
             }
            },
            "marker": {
             "colorbar": {
              "outlinewidth": 0,
              "ticks": ""
             }
            },
            "type": "scatter3d"
           }
          ],
          "scattercarpet": [
           {
            "marker": {
             "colorbar": {
              "outlinewidth": 0,
              "ticks": ""
             }
            },
            "type": "scattercarpet"
           }
          ],
          "scattergeo": [
           {
            "marker": {
             "colorbar": {
              "outlinewidth": 0,
              "ticks": ""
             }
            },
            "type": "scattergeo"
           }
          ],
          "scattergl": [
           {
            "marker": {
             "colorbar": {
              "outlinewidth": 0,
              "ticks": ""
             }
            },
            "type": "scattergl"
           }
          ],
          "scattermapbox": [
           {
            "marker": {
             "colorbar": {
              "outlinewidth": 0,
              "ticks": ""
             }
            },
            "type": "scattermapbox"
           }
          ],
          "scatterpolar": [
           {
            "marker": {
             "colorbar": {
              "outlinewidth": 0,
              "ticks": ""
             }
            },
            "type": "scatterpolar"
           }
          ],
          "scatterpolargl": [
           {
            "marker": {
             "colorbar": {
              "outlinewidth": 0,
              "ticks": ""
             }
            },
            "type": "scatterpolargl"
           }
          ],
          "scatterternary": [
           {
            "marker": {
             "colorbar": {
              "outlinewidth": 0,
              "ticks": ""
             }
            },
            "type": "scatterternary"
           }
          ],
          "surface": [
           {
            "colorbar": {
             "outlinewidth": 0,
             "ticks": ""
            },
            "colorscale": [
             [
              0,
              "#0d0887"
             ],
             [
              0.1111111111111111,
              "#46039f"
             ],
             [
              0.2222222222222222,
              "#7201a8"
             ],
             [
              0.3333333333333333,
              "#9c179e"
             ],
             [
              0.4444444444444444,
              "#bd3786"
             ],
             [
              0.5555555555555556,
              "#d8576b"
             ],
             [
              0.6666666666666666,
              "#ed7953"
             ],
             [
              0.7777777777777778,
              "#fb9f3a"
             ],
             [
              0.8888888888888888,
              "#fdca26"
             ],
             [
              1,
              "#f0f921"
             ]
            ],
            "type": "surface"
           }
          ],
          "table": [
           {
            "cells": {
             "fill": {
              "color": "#EBF0F8"
             },
             "line": {
              "color": "white"
             }
            },
            "header": {
             "fill": {
              "color": "#C8D4E3"
             },
             "line": {
              "color": "white"
             }
            },
            "type": "table"
           }
          ]
         },
         "layout": {
          "annotationdefaults": {
           "arrowcolor": "#2a3f5f",
           "arrowhead": 0,
           "arrowwidth": 1
          },
          "autotypenumbers": "strict",
          "coloraxis": {
           "colorbar": {
            "outlinewidth": 0,
            "ticks": ""
           }
          },
          "colorscale": {
           "diverging": [
            [
             0,
             "#8e0152"
            ],
            [
             0.1,
             "#c51b7d"
            ],
            [
             0.2,
             "#de77ae"
            ],
            [
             0.3,
             "#f1b6da"
            ],
            [
             0.4,
             "#fde0ef"
            ],
            [
             0.5,
             "#f7f7f7"
            ],
            [
             0.6,
             "#e6f5d0"
            ],
            [
             0.7,
             "#b8e186"
            ],
            [
             0.8,
             "#7fbc41"
            ],
            [
             0.9,
             "#4d9221"
            ],
            [
             1,
             "#276419"
            ]
           ],
           "sequential": [
            [
             0,
             "#0d0887"
            ],
            [
             0.1111111111111111,
             "#46039f"
            ],
            [
             0.2222222222222222,
             "#7201a8"
            ],
            [
             0.3333333333333333,
             "#9c179e"
            ],
            [
             0.4444444444444444,
             "#bd3786"
            ],
            [
             0.5555555555555556,
             "#d8576b"
            ],
            [
             0.6666666666666666,
             "#ed7953"
            ],
            [
             0.7777777777777778,
             "#fb9f3a"
            ],
            [
             0.8888888888888888,
             "#fdca26"
            ],
            [
             1,
             "#f0f921"
            ]
           ],
           "sequentialminus": [
            [
             0,
             "#0d0887"
            ],
            [
             0.1111111111111111,
             "#46039f"
            ],
            [
             0.2222222222222222,
             "#7201a8"
            ],
            [
             0.3333333333333333,
             "#9c179e"
            ],
            [
             0.4444444444444444,
             "#bd3786"
            ],
            [
             0.5555555555555556,
             "#d8576b"
            ],
            [
             0.6666666666666666,
             "#ed7953"
            ],
            [
             0.7777777777777778,
             "#fb9f3a"
            ],
            [
             0.8888888888888888,
             "#fdca26"
            ],
            [
             1,
             "#f0f921"
            ]
           ]
          },
          "colorway": [
           "#636efa",
           "#EF553B",
           "#00cc96",
           "#ab63fa",
           "#FFA15A",
           "#19d3f3",
           "#FF6692",
           "#B6E880",
           "#FF97FF",
           "#FECB52"
          ],
          "font": {
           "color": "#2a3f5f"
          },
          "geo": {
           "bgcolor": "white",
           "lakecolor": "white",
           "landcolor": "#E5ECF6",
           "showlakes": true,
           "showland": true,
           "subunitcolor": "white"
          },
          "hoverlabel": {
           "align": "left"
          },
          "hovermode": "closest",
          "mapbox": {
           "style": "light"
          },
          "paper_bgcolor": "white",
          "plot_bgcolor": "#E5ECF6",
          "polar": {
           "angularaxis": {
            "gridcolor": "white",
            "linecolor": "white",
            "ticks": ""
           },
           "bgcolor": "#E5ECF6",
           "radialaxis": {
            "gridcolor": "white",
            "linecolor": "white",
            "ticks": ""
           }
          },
          "scene": {
           "xaxis": {
            "backgroundcolor": "#E5ECF6",
            "gridcolor": "white",
            "gridwidth": 2,
            "linecolor": "white",
            "showbackground": true,
            "ticks": "",
            "zerolinecolor": "white"
           },
           "yaxis": {
            "backgroundcolor": "#E5ECF6",
            "gridcolor": "white",
            "gridwidth": 2,
            "linecolor": "white",
            "showbackground": true,
            "ticks": "",
            "zerolinecolor": "white"
           },
           "zaxis": {
            "backgroundcolor": "#E5ECF6",
            "gridcolor": "white",
            "gridwidth": 2,
            "linecolor": "white",
            "showbackground": true,
            "ticks": "",
            "zerolinecolor": "white"
           }
          },
          "shapedefaults": {
           "line": {
            "color": "#2a3f5f"
           }
          },
          "ternary": {
           "aaxis": {
            "gridcolor": "white",
            "linecolor": "white",
            "ticks": ""
           },
           "baxis": {
            "gridcolor": "white",
            "linecolor": "white",
            "ticks": ""
           },
           "bgcolor": "#E5ECF6",
           "caxis": {
            "gridcolor": "white",
            "linecolor": "white",
            "ticks": ""
           }
          },
          "title": {
           "x": 0.05
          },
          "xaxis": {
           "automargin": true,
           "gridcolor": "white",
           "linecolor": "white",
           "ticks": "",
           "title": {
            "standoff": 15
           },
           "zerolinecolor": "white",
           "zerolinewidth": 2
          },
          "yaxis": {
           "automargin": true,
           "gridcolor": "white",
           "linecolor": "white",
           "ticks": "",
           "title": {
            "standoff": 15
           },
           "zerolinecolor": "white",
           "zerolinewidth": 2
          }
         }
        },
        "title": {
         "text": "상위 26 시공사 아파트 단지 평균 거래금액(2018~2020)"
        },
        "width": 1200,
        "xaxis": {
         "title": {
          "text": "상위 26 시공사"
         }
        },
        "yaxis": {
         "tickformat": "(만원)",
         "title": {
          "text": "거래금액(만원)"
         }
        }
       }
      }
     },
     "metadata": {},
     "output_type": "display_data"
    }
   ],
   "source": [
    "# 상위 30 시공사 아파트 평균 거래금액 시각화\n",
    "train_data_top30_mean = train_data_top30_mean['거래금액(만원)'].sort_values(ascending=False)\n",
    "\n",
    "top30_mean_fig = go.Figure()\n",
    "top30_mean_trace = go.Bar(x=train_data_top30_mean.index, y=train_data_top30_mean.values)\n",
    "top30_mean_fig.add_trace(top30_mean_trace)\n",
    "\n",
    "top30_mean_fig.update_layout(\n",
    "    title='상위 26 시공사 아파트 단지 평균 거래금액(2018~2020)',\n",
    "    xaxis_title='상위 26 시공사',\n",
    "    yaxis_title='거래금액(만원)',\n",
    "    yaxis_tickformat='(만원)',\n",
    "    autosize=False,\n",
    "    width=1200,\n",
    "    height=1000\n",
    ")\n",
    "\n",
    "top30_mean_fig.show()"
   ]
  },
  {
   "cell_type": "code",
   "execution_count": 23,
   "id": "a48086dd",
   "metadata": {},
   "outputs": [
    {
     "data": {
      "text/html": [
       "<div>\n",
       "<style scoped>\n",
       "    .dataframe tbody tr th:only-of-type {\n",
       "        vertical-align: middle;\n",
       "    }\n",
       "\n",
       "    .dataframe tbody tr th {\n",
       "        vertical-align: top;\n",
       "    }\n",
       "\n",
       "    .dataframe thead th {\n",
       "        text-align: right;\n",
       "    }\n",
       "</style>\n",
       "<table border=\"1\" class=\"dataframe\">\n",
       "  <thead>\n",
       "    <tr style=\"text-align: right;\">\n",
       "      <th></th>\n",
       "      <th></th>\n",
       "      <th>전용면적(㎡)</th>\n",
       "      <th>계약년월</th>\n",
       "      <th>거래금액(만원)</th>\n",
       "      <th>층</th>\n",
       "      <th>건축년도</th>\n",
       "      <th>아파트 별 집 개수</th>\n",
       "    </tr>\n",
       "    <tr>\n",
       "      <th>top30</th>\n",
       "      <th>계약연도</th>\n",
       "      <th></th>\n",
       "      <th></th>\n",
       "      <th></th>\n",
       "      <th></th>\n",
       "      <th></th>\n",
       "      <th></th>\n",
       "    </tr>\n",
       "  </thead>\n",
       "  <tbody>\n",
       "    <tr>\n",
       "      <th rowspan=\"2\" valign=\"top\">파크리오</th>\n",
       "      <th>2020</th>\n",
       "      <td>86.711625</td>\n",
       "      <td>202007.324910</td>\n",
       "      <td>180432.490975</td>\n",
       "      <td>15.602888</td>\n",
       "      <td>2008.000000</td>\n",
       "      <td>911.000000</td>\n",
       "    </tr>\n",
       "    <tr>\n",
       "      <th>2019</th>\n",
       "      <td>83.691770</td>\n",
       "      <td>201907.655502</td>\n",
       "      <td>150490.550239</td>\n",
       "      <td>16.007177</td>\n",
       "      <td>2008.000000</td>\n",
       "      <td>911.000000</td>\n",
       "    </tr>\n",
       "    <tr>\n",
       "      <th>자이</th>\n",
       "      <th>2020</th>\n",
       "      <td>91.879273</td>\n",
       "      <td>202006.873926</td>\n",
       "      <td>144521.482808</td>\n",
       "      <td>12.422636</td>\n",
       "      <td>2011.729943</td>\n",
       "      <td>149.500716</td>\n",
       "    </tr>\n",
       "    <tr>\n",
       "      <th>더샵</th>\n",
       "      <th>2020</th>\n",
       "      <td>106.897383</td>\n",
       "      <td>202006.810127</td>\n",
       "      <td>140711.620253</td>\n",
       "      <td>14.931646</td>\n",
       "      <td>2010.005063</td>\n",
       "      <td>143.172152</td>\n",
       "    </tr>\n",
       "    <tr>\n",
       "      <th>파크리오</th>\n",
       "      <th>2018</th>\n",
       "      <td>88.134259</td>\n",
       "      <td>201804.939815</td>\n",
       "      <td>140589.120370</td>\n",
       "      <td>16.342593</td>\n",
       "      <td>2008.000000</td>\n",
       "      <td>911.000000</td>\n",
       "    </tr>\n",
       "    <tr>\n",
       "      <th>...</th>\n",
       "      <th>...</th>\n",
       "      <td>...</td>\n",
       "      <td>...</td>\n",
       "      <td>...</td>\n",
       "      <td>...</td>\n",
       "      <td>...</td>\n",
       "      <td>...</td>\n",
       "    </tr>\n",
       "    <tr>\n",
       "      <th>중계그린1단지</th>\n",
       "      <th>2019</th>\n",
       "      <td>48.208564</td>\n",
       "      <td>201908.381188</td>\n",
       "      <td>34589.772277</td>\n",
       "      <td>6.945545</td>\n",
       "      <td>1990.000000</td>\n",
       "      <td>696.000000</td>\n",
       "    </tr>\n",
       "    <tr>\n",
       "      <th>신동아아파트1</th>\n",
       "      <th>2020</th>\n",
       "      <td>63.884474</td>\n",
       "      <td>202005.855263</td>\n",
       "      <td>33480.953947</td>\n",
       "      <td>7.092105</td>\n",
       "      <td>1986.000000</td>\n",
       "      <td>739.000000</td>\n",
       "    </tr>\n",
       "    <tr>\n",
       "      <th>중계그린1단지</th>\n",
       "      <th>2018</th>\n",
       "      <td>47.649381</td>\n",
       "      <td>201805.969027</td>\n",
       "      <td>30317.079646</td>\n",
       "      <td>7.402655</td>\n",
       "      <td>1990.000000</td>\n",
       "      <td>696.000000</td>\n",
       "    </tr>\n",
       "    <tr>\n",
       "      <th rowspan=\"2\" valign=\"top\">신동아아파트1</th>\n",
       "      <th>2019</th>\n",
       "      <td>67.781850</td>\n",
       "      <td>201907.930636</td>\n",
       "      <td>29472.791908</td>\n",
       "      <td>7.763006</td>\n",
       "      <td>1986.000000</td>\n",
       "      <td>739.000000</td>\n",
       "    </tr>\n",
       "    <tr>\n",
       "      <th>2018</th>\n",
       "      <td>66.270382</td>\n",
       "      <td>201806.767176</td>\n",
       "      <td>26766.603053</td>\n",
       "      <td>7.000000</td>\n",
       "      <td>1986.000000</td>\n",
       "      <td>739.000000</td>\n",
       "    </tr>\n",
       "  </tbody>\n",
       "</table>\n",
       "<p>78 rows × 6 columns</p>\n",
       "</div>"
      ],
      "text/plain": [
       "                 전용면적(㎡)           계약년월       거래금액(만원)          층  \\\n",
       "top30   계약연도                                                        \n",
       "파크리오    2020   86.711625  202007.324910  180432.490975  15.602888   \n",
       "        2019   83.691770  201907.655502  150490.550239  16.007177   \n",
       "자이      2020   91.879273  202006.873926  144521.482808  12.422636   \n",
       "더샵      2020  106.897383  202006.810127  140711.620253  14.931646   \n",
       "파크리오    2018   88.134259  201804.939815  140589.120370  16.342593   \n",
       "...                  ...            ...            ...        ...   \n",
       "중계그린1단지 2019   48.208564  201908.381188   34589.772277   6.945545   \n",
       "신동아아파트1 2020   63.884474  202005.855263   33480.953947   7.092105   \n",
       "중계그린1단지 2018   47.649381  201805.969027   30317.079646   7.402655   \n",
       "신동아아파트1 2019   67.781850  201907.930636   29472.791908   7.763006   \n",
       "        2018   66.270382  201806.767176   26766.603053   7.000000   \n",
       "\n",
       "                     건축년도  아파트 별 집 개수  \n",
       "top30   계약연도                           \n",
       "파크리오    2020  2008.000000  911.000000  \n",
       "        2019  2008.000000  911.000000  \n",
       "자이      2020  2011.729943  149.500716  \n",
       "더샵      2020  2010.005063  143.172152  \n",
       "파크리오    2018  2008.000000  911.000000  \n",
       "...                   ...         ...  \n",
       "중계그린1단지 2019  1990.000000  696.000000  \n",
       "신동아아파트1 2020  1986.000000  739.000000  \n",
       "중계그린1단지 2018  1990.000000  696.000000  \n",
       "신동아아파트1 2019  1986.000000  739.000000  \n",
       "        2018  1986.000000  739.000000  \n",
       "\n",
       "[78 rows x 6 columns]"
      ]
     },
     "execution_count": 23,
     "metadata": {},
     "output_type": "execute_result"
    }
   ],
   "source": [
    "# 연도별 상위 30 시공사 아파트 평균 거래금액 도출\n",
    "train_data_top30_mean_by_year = train_data[train_data['top30'] != 'others'].groupby(['top30', '계약연도']).mean().sort_values('거래금액(만원)', ascending=False)\n",
    "train_data_top30_mean_by_year"
   ]
  },
  {
   "cell_type": "code",
   "execution_count": 24,
   "id": "38a755df",
   "metadata": {},
   "outputs": [
    {
     "data": {
      "application/vnd.plotly.v1+json": {
       "config": {
        "plotlyServerURL": "https://plot.ly"
       },
       "data": [
        {
         "name": "2018년",
         "type": "bar",
         "x": [
          "파크리오",
          "더샵",
          "자이",
          "아이파크",
          "롯데캐슬",
          "래미안",
          "이편한|e편한|e-편한",
          "힐스테이트",
          "대림e-편한세상",
          "삼성",
          "푸르지오",
          "현대",
          "우성",
          "쌍용",
          "sk|SK|에스케이",
          "극동",
          "동아",
          "대우",
          "한신",
          "중앙하이츠",
          "두산",
          "벽산",
          "에스케이북한산시티",
          "주공2",
          "중계그린1단지",
          "신동아아파트1"
         ],
         "y": [
          140589.12037037036,
          110268.66666666667,
          109256.76940993789,
          97819.7474892396,
          96601.74444444444,
          94071.18943914081,
          78601.52723915051,
          74272.33963344787,
          72103.003003003,
          71839.06961785849,
          71452.78738555443,
          66309.40710596337,
          65848.44557195572,
          65770.53469852105,
          62524.00199600798,
          62412.03059805285,
          61330.17711598746,
          60442.878464818765,
          57191.97190426639,
          53654.8322147651,
          53626.37540453074,
          44900.54347826087,
          44082.83076923077,
          35033.87986463621,
          30317.0796460177,
          26766.603053435116
         ]
        },
        {
         "name": "2019년",
         "type": "bar",
         "x": [
          "파크리오",
          "자이",
          "더샵",
          "아이파크",
          "래미안",
          "롯데캐슬",
          "이편한|e편한|e-편한",
          "힐스테이트",
          "삼성",
          "푸르지오",
          "우성",
          "현대",
          "대림e-편한세상",
          "sk|SK|에스케이",
          "쌍용",
          "동아",
          "극동",
          "대우",
          "한신",
          "두산",
          "중앙하이츠",
          "벽산",
          "에스케이북한산시티",
          "주공2",
          "중계그린1단지",
          "신동아아파트1"
         ],
         "y": [
          150490.55023923446,
          131325.2914210871,
          128019.22043010753,
          121107.09647979139,
          118566.05285752616,
          109563.22698907956,
          96613.96757679181,
          89798.94287590282,
          88725.03406963684,
          88454.10943606924,
          84300.73152578415,
          83705.99392302499,
          82590,
          77953.55056179775,
          77877.68219178083,
          74493.93308199811,
          73523.18118948824,
          72049.65425531915,
          63512.00396825397,
          62168.71923076923,
          61098.54439252336,
          50908.59315589353,
          48113.99082568807,
          41728.13152804642,
          34589.77227722772,
          29472.79190751445
         ]
        },
        {
         "name": "2020년",
         "type": "bar",
         "x": [
          "파크리오",
          "자이",
          "더샵",
          "래미안",
          "아이파크",
          "롯데캐슬",
          "이편한|e편한|e-편한",
          "힐스테이트",
          "푸르지오",
          "대림e-편한세상",
          "삼성",
          "현대",
          "우성",
          "sk|SK|에스케이",
          "쌍용",
          "동아",
          "극동",
          "두산",
          "대우",
          "한신",
          "중앙하이츠",
          "에스케이북한산시티",
          "벽산",
          "주공2",
          "중계그린1단지",
          "신동아아파트1"
         ],
         "y": [
          180432.49097472924,
          144521.48280802293,
          140711.62025316455,
          128755.42333046718,
          120445.01358411703,
          117326.9675925926,
          112627.80082987552,
          102886.05232892466,
          96690.89552238806,
          96337.5,
          94100.98209169054,
          92536.96243319711,
          87494.96397273612,
          86600.69672131147,
          85533.499377335,
          85440.93102057281,
          79733.99037138927,
          74032.63157894737,
          71896.65324384788,
          69365.63541666667,
          67749.53614457832,
          60800.378787878784,
          59175.2749244713,
          42976.94214876033,
          42297.164179104475,
          33480.95394736842
         ]
        }
       ],
       "layout": {
        "autosize": false,
        "height": 1000,
        "template": {
         "data": {
          "bar": [
           {
            "error_x": {
             "color": "#2a3f5f"
            },
            "error_y": {
             "color": "#2a3f5f"
            },
            "marker": {
             "line": {
              "color": "#E5ECF6",
              "width": 0.5
             },
             "pattern": {
              "fillmode": "overlay",
              "size": 10,
              "solidity": 0.2
             }
            },
            "type": "bar"
           }
          ],
          "barpolar": [
           {
            "marker": {
             "line": {
              "color": "#E5ECF6",
              "width": 0.5
             },
             "pattern": {
              "fillmode": "overlay",
              "size": 10,
              "solidity": 0.2
             }
            },
            "type": "barpolar"
           }
          ],
          "carpet": [
           {
            "aaxis": {
             "endlinecolor": "#2a3f5f",
             "gridcolor": "white",
             "linecolor": "white",
             "minorgridcolor": "white",
             "startlinecolor": "#2a3f5f"
            },
            "baxis": {
             "endlinecolor": "#2a3f5f",
             "gridcolor": "white",
             "linecolor": "white",
             "minorgridcolor": "white",
             "startlinecolor": "#2a3f5f"
            },
            "type": "carpet"
           }
          ],
          "choropleth": [
           {
            "colorbar": {
             "outlinewidth": 0,
             "ticks": ""
            },
            "type": "choropleth"
           }
          ],
          "contour": [
           {
            "colorbar": {
             "outlinewidth": 0,
             "ticks": ""
            },
            "colorscale": [
             [
              0,
              "#0d0887"
             ],
             [
              0.1111111111111111,
              "#46039f"
             ],
             [
              0.2222222222222222,
              "#7201a8"
             ],
             [
              0.3333333333333333,
              "#9c179e"
             ],
             [
              0.4444444444444444,
              "#bd3786"
             ],
             [
              0.5555555555555556,
              "#d8576b"
             ],
             [
              0.6666666666666666,
              "#ed7953"
             ],
             [
              0.7777777777777778,
              "#fb9f3a"
             ],
             [
              0.8888888888888888,
              "#fdca26"
             ],
             [
              1,
              "#f0f921"
             ]
            ],
            "type": "contour"
           }
          ],
          "contourcarpet": [
           {
            "colorbar": {
             "outlinewidth": 0,
             "ticks": ""
            },
            "type": "contourcarpet"
           }
          ],
          "heatmap": [
           {
            "colorbar": {
             "outlinewidth": 0,
             "ticks": ""
            },
            "colorscale": [
             [
              0,
              "#0d0887"
             ],
             [
              0.1111111111111111,
              "#46039f"
             ],
             [
              0.2222222222222222,
              "#7201a8"
             ],
             [
              0.3333333333333333,
              "#9c179e"
             ],
             [
              0.4444444444444444,
              "#bd3786"
             ],
             [
              0.5555555555555556,
              "#d8576b"
             ],
             [
              0.6666666666666666,
              "#ed7953"
             ],
             [
              0.7777777777777778,
              "#fb9f3a"
             ],
             [
              0.8888888888888888,
              "#fdca26"
             ],
             [
              1,
              "#f0f921"
             ]
            ],
            "type": "heatmap"
           }
          ],
          "heatmapgl": [
           {
            "colorbar": {
             "outlinewidth": 0,
             "ticks": ""
            },
            "colorscale": [
             [
              0,
              "#0d0887"
             ],
             [
              0.1111111111111111,
              "#46039f"
             ],
             [
              0.2222222222222222,
              "#7201a8"
             ],
             [
              0.3333333333333333,
              "#9c179e"
             ],
             [
              0.4444444444444444,
              "#bd3786"
             ],
             [
              0.5555555555555556,
              "#d8576b"
             ],
             [
              0.6666666666666666,
              "#ed7953"
             ],
             [
              0.7777777777777778,
              "#fb9f3a"
             ],
             [
              0.8888888888888888,
              "#fdca26"
             ],
             [
              1,
              "#f0f921"
             ]
            ],
            "type": "heatmapgl"
           }
          ],
          "histogram": [
           {
            "marker": {
             "pattern": {
              "fillmode": "overlay",
              "size": 10,
              "solidity": 0.2
             }
            },
            "type": "histogram"
           }
          ],
          "histogram2d": [
           {
            "colorbar": {
             "outlinewidth": 0,
             "ticks": ""
            },
            "colorscale": [
             [
              0,
              "#0d0887"
             ],
             [
              0.1111111111111111,
              "#46039f"
             ],
             [
              0.2222222222222222,
              "#7201a8"
             ],
             [
              0.3333333333333333,
              "#9c179e"
             ],
             [
              0.4444444444444444,
              "#bd3786"
             ],
             [
              0.5555555555555556,
              "#d8576b"
             ],
             [
              0.6666666666666666,
              "#ed7953"
             ],
             [
              0.7777777777777778,
              "#fb9f3a"
             ],
             [
              0.8888888888888888,
              "#fdca26"
             ],
             [
              1,
              "#f0f921"
             ]
            ],
            "type": "histogram2d"
           }
          ],
          "histogram2dcontour": [
           {
            "colorbar": {
             "outlinewidth": 0,
             "ticks": ""
            },
            "colorscale": [
             [
              0,
              "#0d0887"
             ],
             [
              0.1111111111111111,
              "#46039f"
             ],
             [
              0.2222222222222222,
              "#7201a8"
             ],
             [
              0.3333333333333333,
              "#9c179e"
             ],
             [
              0.4444444444444444,
              "#bd3786"
             ],
             [
              0.5555555555555556,
              "#d8576b"
             ],
             [
              0.6666666666666666,
              "#ed7953"
             ],
             [
              0.7777777777777778,
              "#fb9f3a"
             ],
             [
              0.8888888888888888,
              "#fdca26"
             ],
             [
              1,
              "#f0f921"
             ]
            ],
            "type": "histogram2dcontour"
           }
          ],
          "mesh3d": [
           {
            "colorbar": {
             "outlinewidth": 0,
             "ticks": ""
            },
            "type": "mesh3d"
           }
          ],
          "parcoords": [
           {
            "line": {
             "colorbar": {
              "outlinewidth": 0,
              "ticks": ""
             }
            },
            "type": "parcoords"
           }
          ],
          "pie": [
           {
            "automargin": true,
            "type": "pie"
           }
          ],
          "scatter": [
           {
            "marker": {
             "colorbar": {
              "outlinewidth": 0,
              "ticks": ""
             }
            },
            "type": "scatter"
           }
          ],
          "scatter3d": [
           {
            "line": {
             "colorbar": {
              "outlinewidth": 0,
              "ticks": ""
             }
            },
            "marker": {
             "colorbar": {
              "outlinewidth": 0,
              "ticks": ""
             }
            },
            "type": "scatter3d"
           }
          ],
          "scattercarpet": [
           {
            "marker": {
             "colorbar": {
              "outlinewidth": 0,
              "ticks": ""
             }
            },
            "type": "scattercarpet"
           }
          ],
          "scattergeo": [
           {
            "marker": {
             "colorbar": {
              "outlinewidth": 0,
              "ticks": ""
             }
            },
            "type": "scattergeo"
           }
          ],
          "scattergl": [
           {
            "marker": {
             "colorbar": {
              "outlinewidth": 0,
              "ticks": ""
             }
            },
            "type": "scattergl"
           }
          ],
          "scattermapbox": [
           {
            "marker": {
             "colorbar": {
              "outlinewidth": 0,
              "ticks": ""
             }
            },
            "type": "scattermapbox"
           }
          ],
          "scatterpolar": [
           {
            "marker": {
             "colorbar": {
              "outlinewidth": 0,
              "ticks": ""
             }
            },
            "type": "scatterpolar"
           }
          ],
          "scatterpolargl": [
           {
            "marker": {
             "colorbar": {
              "outlinewidth": 0,
              "ticks": ""
             }
            },
            "type": "scatterpolargl"
           }
          ],
          "scatterternary": [
           {
            "marker": {
             "colorbar": {
              "outlinewidth": 0,
              "ticks": ""
             }
            },
            "type": "scatterternary"
           }
          ],
          "surface": [
           {
            "colorbar": {
             "outlinewidth": 0,
             "ticks": ""
            },
            "colorscale": [
             [
              0,
              "#0d0887"
             ],
             [
              0.1111111111111111,
              "#46039f"
             ],
             [
              0.2222222222222222,
              "#7201a8"
             ],
             [
              0.3333333333333333,
              "#9c179e"
             ],
             [
              0.4444444444444444,
              "#bd3786"
             ],
             [
              0.5555555555555556,
              "#d8576b"
             ],
             [
              0.6666666666666666,
              "#ed7953"
             ],
             [
              0.7777777777777778,
              "#fb9f3a"
             ],
             [
              0.8888888888888888,
              "#fdca26"
             ],
             [
              1,
              "#f0f921"
             ]
            ],
            "type": "surface"
           }
          ],
          "table": [
           {
            "cells": {
             "fill": {
              "color": "#EBF0F8"
             },
             "line": {
              "color": "white"
             }
            },
            "header": {
             "fill": {
              "color": "#C8D4E3"
             },
             "line": {
              "color": "white"
             }
            },
            "type": "table"
           }
          ]
         },
         "layout": {
          "annotationdefaults": {
           "arrowcolor": "#2a3f5f",
           "arrowhead": 0,
           "arrowwidth": 1
          },
          "autotypenumbers": "strict",
          "coloraxis": {
           "colorbar": {
            "outlinewidth": 0,
            "ticks": ""
           }
          },
          "colorscale": {
           "diverging": [
            [
             0,
             "#8e0152"
            ],
            [
             0.1,
             "#c51b7d"
            ],
            [
             0.2,
             "#de77ae"
            ],
            [
             0.3,
             "#f1b6da"
            ],
            [
             0.4,
             "#fde0ef"
            ],
            [
             0.5,
             "#f7f7f7"
            ],
            [
             0.6,
             "#e6f5d0"
            ],
            [
             0.7,
             "#b8e186"
            ],
            [
             0.8,
             "#7fbc41"
            ],
            [
             0.9,
             "#4d9221"
            ],
            [
             1,
             "#276419"
            ]
           ],
           "sequential": [
            [
             0,
             "#0d0887"
            ],
            [
             0.1111111111111111,
             "#46039f"
            ],
            [
             0.2222222222222222,
             "#7201a8"
            ],
            [
             0.3333333333333333,
             "#9c179e"
            ],
            [
             0.4444444444444444,
             "#bd3786"
            ],
            [
             0.5555555555555556,
             "#d8576b"
            ],
            [
             0.6666666666666666,
             "#ed7953"
            ],
            [
             0.7777777777777778,
             "#fb9f3a"
            ],
            [
             0.8888888888888888,
             "#fdca26"
            ],
            [
             1,
             "#f0f921"
            ]
           ],
           "sequentialminus": [
            [
             0,
             "#0d0887"
            ],
            [
             0.1111111111111111,
             "#46039f"
            ],
            [
             0.2222222222222222,
             "#7201a8"
            ],
            [
             0.3333333333333333,
             "#9c179e"
            ],
            [
             0.4444444444444444,
             "#bd3786"
            ],
            [
             0.5555555555555556,
             "#d8576b"
            ],
            [
             0.6666666666666666,
             "#ed7953"
            ],
            [
             0.7777777777777778,
             "#fb9f3a"
            ],
            [
             0.8888888888888888,
             "#fdca26"
            ],
            [
             1,
             "#f0f921"
            ]
           ]
          },
          "colorway": [
           "#636efa",
           "#EF553B",
           "#00cc96",
           "#ab63fa",
           "#FFA15A",
           "#19d3f3",
           "#FF6692",
           "#B6E880",
           "#FF97FF",
           "#FECB52"
          ],
          "font": {
           "color": "#2a3f5f"
          },
          "geo": {
           "bgcolor": "white",
           "lakecolor": "white",
           "landcolor": "#E5ECF6",
           "showlakes": true,
           "showland": true,
           "subunitcolor": "white"
          },
          "hoverlabel": {
           "align": "left"
          },
          "hovermode": "closest",
          "mapbox": {
           "style": "light"
          },
          "paper_bgcolor": "white",
          "plot_bgcolor": "#E5ECF6",
          "polar": {
           "angularaxis": {
            "gridcolor": "white",
            "linecolor": "white",
            "ticks": ""
           },
           "bgcolor": "#E5ECF6",
           "radialaxis": {
            "gridcolor": "white",
            "linecolor": "white",
            "ticks": ""
           }
          },
          "scene": {
           "xaxis": {
            "backgroundcolor": "#E5ECF6",
            "gridcolor": "white",
            "gridwidth": 2,
            "linecolor": "white",
            "showbackground": true,
            "ticks": "",
            "zerolinecolor": "white"
           },
           "yaxis": {
            "backgroundcolor": "#E5ECF6",
            "gridcolor": "white",
            "gridwidth": 2,
            "linecolor": "white",
            "showbackground": true,
            "ticks": "",
            "zerolinecolor": "white"
           },
           "zaxis": {
            "backgroundcolor": "#E5ECF6",
            "gridcolor": "white",
            "gridwidth": 2,
            "linecolor": "white",
            "showbackground": true,
            "ticks": "",
            "zerolinecolor": "white"
           }
          },
          "shapedefaults": {
           "line": {
            "color": "#2a3f5f"
           }
          },
          "ternary": {
           "aaxis": {
            "gridcolor": "white",
            "linecolor": "white",
            "ticks": ""
           },
           "baxis": {
            "gridcolor": "white",
            "linecolor": "white",
            "ticks": ""
           },
           "bgcolor": "#E5ECF6",
           "caxis": {
            "gridcolor": "white",
            "linecolor": "white",
            "ticks": ""
           }
          },
          "title": {
           "x": 0.05
          },
          "xaxis": {
           "automargin": true,
           "gridcolor": "white",
           "linecolor": "white",
           "ticks": "",
           "title": {
            "standoff": 15
           },
           "zerolinecolor": "white",
           "zerolinewidth": 2
          },
          "yaxis": {
           "automargin": true,
           "gridcolor": "white",
           "linecolor": "white",
           "ticks": "",
           "title": {
            "standoff": 15
           },
           "zerolinecolor": "white",
           "zerolinewidth": 2
          }
         }
        },
        "title": {
         "text": "상위 26 시공사 아파트 단지 연도별 평균 거래금액(2018~2020)"
        },
        "width": 1200,
        "xaxis": {
         "title": {
          "text": "상위 26 시공사"
         }
        },
        "yaxis": {
         "tickformat": "(만원)",
         "title": {
          "text": "거래금액(만원)"
         }
        }
       }
      }
     },
     "metadata": {},
     "output_type": "display_data"
    }
   ],
   "source": [
    "# 연도별 상위 30 시공사 아파트 평균 거래금액 시각화\n",
    "df = train_data_top30_mean_by_year.reset_index()\n",
    "\n",
    "top30_year_mean_fig = go.Figure()\n",
    "\n",
    "trace_top30_mean_2018 = go.Bar(x=df[df['계약연도'] == '2018']['top30'], y=df[df['계약연도'] == '2018']['거래금액(만원)'], name='2018년')\n",
    "trace_top30_mean_2019 = go.Bar(x=df[df['계약연도'] == '2019']['top30'], y=df[df['계약연도'] == '2019']['거래금액(만원)'], name='2019년')\n",
    "trace_top30_mean_2020 = go.Bar(x=df[df['계약연도'] == '2020']['top30'], y=df[df['계약연도'] == '2020']['거래금액(만원)'], name='2020년')\n",
    "\n",
    "top30_year_mean_fig.add_traces([trace_top30_mean_2018, trace_top30_mean_2019, trace_top30_mean_2020])\n",
    "\n",
    "top30_year_mean_fig.update_layout(\n",
    "    title='상위 26 시공사 아파트 단지 연도별 평균 거래금액(2018~2020)',\n",
    "    xaxis_title='상위 26 시공사',\n",
    "    yaxis_title='거래금액(만원)',\n",
    "    yaxis_tickformat='(만원)',\n",
    "    autosize=False,\n",
    "    width=1200,\n",
    "    height=1000\n",
    ")\n",
    "\n",
    "top30_year_mean_fig.show()"
   ]
  },
  {
   "cell_type": "markdown",
   "id": "b166badc",
   "metadata": {},
   "source": [
    "### 1.5 생성한 top30 컬럼에 대한 인코딩 및 가중치 처리"
   ]
  },
  {
   "cell_type": "code",
   "execution_count": 25,
   "id": "9d709e57",
   "metadata": {},
   "outputs": [
    {
     "data": {
      "text/plain": [
       "others          133430\n",
       "현대               18675\n",
       "래미안              10568\n",
       "삼성                8106\n",
       "동아                7153\n",
       "우성                6103\n",
       "푸르지오              5566\n",
       "한신                5354\n",
       "두산                5181\n",
       "힐스테이트             5008\n",
       "벽산                4626\n",
       "자이                4211\n",
       "롯데캐슬              3928\n",
       "이편한|e편한|e-편한      3460\n",
       "대우                2584\n",
       "아이파크              2421\n",
       "쌍용                2412\n",
       "극동                2169\n",
       "주공2               1713\n",
       "sk|SK|에스케이        1434\n",
       "중앙하이츠             1373\n",
       "더샵                1142\n",
       "대림e-편한세상          1019\n",
       "에스케이북한산시티          939\n",
       "파크리오               911\n",
       "신동아아파트1            739\n",
       "중계그린1단지            696\n",
       "Name: top30, dtype: int64"
      ]
     },
     "execution_count": 25,
     "metadata": {},
     "output_type": "execute_result"
    }
   ],
   "source": [
    "'''\n",
    "    case 1. label encoding\n",
    "        - 상위 30개 시공사에 대한 거래횟수 및 평균 거래금액의 가중치를 부여하여 레이블 된 숫자 자체에 의미를 부여하도록 함.\n",
    "        - 숫자의 차이가 회귀분석 모델에 영향을 미치도록 함.\n",
    "        - 본래 분류에서 사용하는 레이블 인코딩 개념과는 조금 상이함.\n",
    "'''\n",
    "# 상위 30개 시공사 및 아파트 단지 별 거래횟수\n",
    "trade_count = train_data['top30'].value_counts().sort_values(ascending=False)\n",
    "trade_count\n",
    "\n",
    "# 단순 거래 횟수에서 others가 압도적으로 많을 수 밖에 없음.\n",
    "# 해당 인코딩에서 단순 거래 횟수가 기여도를 높일 수 있는 방법은 상위 거래횟수 아파트 단지 수를 늘리는 것이라 판단됨 ex) 상위 30개 => 상위 60개"
   ]
  },
  {
   "cell_type": "code",
   "execution_count": 26,
   "id": "23fed66a",
   "metadata": {},
   "outputs": [
    {
     "data": {
      "text/plain": [
       "top30\n",
       "파크리오            157247.091109\n",
       "자이              128949.995013\n",
       "더샵              126580.551664\n",
       "래미안             114160.671650\n",
       "아이파크            114141.009913\n",
       "롯데캐슬            107670.102342\n",
       "이편한|e편한|e-편한     96553.041618\n",
       "힐스테이트            88930.139776\n",
       "푸르지오             85126.000719\n",
       "삼성               85070.955959\n",
       "대림e-편한세상         83480.117763\n",
       "현대               80762.798661\n",
       "우성               78820.868753\n",
       "쌍용               76014.265340\n",
       "sk|SK|에스케이       75505.575314\n",
       "동아               73591.333147\n",
       "others           71966.954306\n",
       "극동               71921.678654\n",
       "대우               67783.424149\n",
       "한신               63342.387000\n",
       "두산               63158.108859\n",
       "중앙하이츠            61087.513474\n",
       "에스케이북한산시티        52068.924388\n",
       "벽산               51715.343709\n",
       "주공2              39859.612960\n",
       "중계그린1단지          36170.163793\n",
       "신동아아파트1          30162.182679\n",
       "Name: 거래금액(만원), dtype: float64"
      ]
     },
     "execution_count": 26,
     "metadata": {},
     "output_type": "execute_result"
    }
   ],
   "source": [
    "# 상위 30개 시공사 및 아파트 단지 별 평균 거래금액\n",
    "train_data_top30_mean = train_data.groupby('top30').mean()\n",
    "trade_price = train_data_top30_mean['거래금액(만원)'].sort_values(ascending=False)\n",
    "trade_price"
   ]
  },
  {
   "cell_type": "code",
   "execution_count": 27,
   "id": "a443d4a4",
   "metadata": {},
   "outputs": [
    {
     "data": {
      "text/html": [
       "<div>\n",
       "<style scoped>\n",
       "    .dataframe tbody tr th:only-of-type {\n",
       "        vertical-align: middle;\n",
       "    }\n",
       "\n",
       "    .dataframe tbody tr th {\n",
       "        vertical-align: top;\n",
       "    }\n",
       "\n",
       "    .dataframe thead th {\n",
       "        text-align: right;\n",
       "    }\n",
       "</style>\n",
       "<table border=\"1\" class=\"dataframe\">\n",
       "  <thead>\n",
       "    <tr style=\"text-align: right;\">\n",
       "      <th></th>\n",
       "      <th>trade_count</th>\n",
       "      <th>trade_price</th>\n",
       "      <th>trade_label</th>\n",
       "    </tr>\n",
       "  </thead>\n",
       "  <tbody>\n",
       "    <tr>\n",
       "      <th>others</th>\n",
       "      <td>133430</td>\n",
       "      <td>71966.954306</td>\n",
       "      <td>0.539361</td>\n",
       "    </tr>\n",
       "    <tr>\n",
       "      <th>현대</th>\n",
       "      <td>18675</td>\n",
       "      <td>80762.798661</td>\n",
       "      <td>4.324648</td>\n",
       "    </tr>\n",
       "    <tr>\n",
       "      <th>래미안</th>\n",
       "      <td>10568</td>\n",
       "      <td>114160.671650</td>\n",
       "      <td>10.802486</td>\n",
       "    </tr>\n",
       "    <tr>\n",
       "      <th>삼성</th>\n",
       "      <td>8106</td>\n",
       "      <td>85070.955959</td>\n",
       "      <td>10.494813</td>\n",
       "    </tr>\n",
       "    <tr>\n",
       "      <th>동아</th>\n",
       "      <td>7153</td>\n",
       "      <td>73591.333147</td>\n",
       "      <td>10.288177</td>\n",
       "    </tr>\n",
       "    <tr>\n",
       "      <th>우성</th>\n",
       "      <td>6103</td>\n",
       "      <td>78820.868753</td>\n",
       "      <td>12.915102</td>\n",
       "    </tr>\n",
       "    <tr>\n",
       "      <th>푸르지오</th>\n",
       "      <td>5566</td>\n",
       "      <td>85126.000719</td>\n",
       "      <td>15.293928</td>\n",
       "    </tr>\n",
       "    <tr>\n",
       "      <th>한신</th>\n",
       "      <td>5354</td>\n",
       "      <td>63342.387000</td>\n",
       "      <td>11.830853</td>\n",
       "    </tr>\n",
       "    <tr>\n",
       "      <th>두산</th>\n",
       "      <td>5181</td>\n",
       "      <td>63158.108859</td>\n",
       "      <td>12.190332</td>\n",
       "    </tr>\n",
       "    <tr>\n",
       "      <th>힐스테이트</th>\n",
       "      <td>5008</td>\n",
       "      <td>88930.139776</td>\n",
       "      <td>17.757616</td>\n",
       "    </tr>\n",
       "    <tr>\n",
       "      <th>벽산</th>\n",
       "      <td>4626</td>\n",
       "      <td>51715.343709</td>\n",
       "      <td>11.179279</td>\n",
       "    </tr>\n",
       "    <tr>\n",
       "      <th>자이</th>\n",
       "      <td>4211</td>\n",
       "      <td>128949.995013</td>\n",
       "      <td>30.622179</td>\n",
       "    </tr>\n",
       "    <tr>\n",
       "      <th>롯데캐슬</th>\n",
       "      <td>3928</td>\n",
       "      <td>107670.102342</td>\n",
       "      <td>27.410922</td>\n",
       "    </tr>\n",
       "    <tr>\n",
       "      <th>이편한|e편한|e-편한</th>\n",
       "      <td>3460</td>\n",
       "      <td>96553.041618</td>\n",
       "      <td>27.905503</td>\n",
       "    </tr>\n",
       "    <tr>\n",
       "      <th>대우</th>\n",
       "      <td>2584</td>\n",
       "      <td>67783.424149</td>\n",
       "      <td>26.231975</td>\n",
       "    </tr>\n",
       "    <tr>\n",
       "      <th>아이파크</th>\n",
       "      <td>2421</td>\n",
       "      <td>114141.009913</td>\n",
       "      <td>47.146225</td>\n",
       "    </tr>\n",
       "    <tr>\n",
       "      <th>쌍용</th>\n",
       "      <td>2412</td>\n",
       "      <td>76014.265340</td>\n",
       "      <td>31.515035</td>\n",
       "    </tr>\n",
       "    <tr>\n",
       "      <th>극동</th>\n",
       "      <td>2169</td>\n",
       "      <td>71921.678654</td>\n",
       "      <td>33.158911</td>\n",
       "    </tr>\n",
       "    <tr>\n",
       "      <th>주공2</th>\n",
       "      <td>1713</td>\n",
       "      <td>39859.612960</td>\n",
       "      <td>23.268893</td>\n",
       "    </tr>\n",
       "    <tr>\n",
       "      <th>sk|SK|에스케이</th>\n",
       "      <td>1434</td>\n",
       "      <td>75505.575314</td>\n",
       "      <td>52.653818</td>\n",
       "    </tr>\n",
       "    <tr>\n",
       "      <th>중앙하이츠</th>\n",
       "      <td>1373</td>\n",
       "      <td>61087.513474</td>\n",
       "      <td>44.491998</td>\n",
       "    </tr>\n",
       "    <tr>\n",
       "      <th>더샵</th>\n",
       "      <td>1142</td>\n",
       "      <td>126580.551664</td>\n",
       "      <td>110.841114</td>\n",
       "    </tr>\n",
       "    <tr>\n",
       "      <th>대림e-편한세상</th>\n",
       "      <td>1019</td>\n",
       "      <td>83480.117763</td>\n",
       "      <td>81.923570</td>\n",
       "    </tr>\n",
       "    <tr>\n",
       "      <th>에스케이북한산시티</th>\n",
       "      <td>939</td>\n",
       "      <td>52068.924388</td>\n",
       "      <td>55.451464</td>\n",
       "    </tr>\n",
       "    <tr>\n",
       "      <th>파크리오</th>\n",
       "      <td>911</td>\n",
       "      <td>157247.091109</td>\n",
       "      <td>172.609321</td>\n",
       "    </tr>\n",
       "    <tr>\n",
       "      <th>신동아아파트1</th>\n",
       "      <td>739</td>\n",
       "      <td>30162.182679</td>\n",
       "      <td>40.814862</td>\n",
       "    </tr>\n",
       "    <tr>\n",
       "      <th>중계그린1단지</th>\n",
       "      <td>696</td>\n",
       "      <td>36170.163793</td>\n",
       "      <td>51.968626</td>\n",
       "    </tr>\n",
       "  </tbody>\n",
       "</table>\n",
       "</div>"
      ],
      "text/plain": [
       "              trade_count    trade_price  trade_label\n",
       "others             133430   71966.954306     0.539361\n",
       "현대                  18675   80762.798661     4.324648\n",
       "래미안                 10568  114160.671650    10.802486\n",
       "삼성                   8106   85070.955959    10.494813\n",
       "동아                   7153   73591.333147    10.288177\n",
       "우성                   6103   78820.868753    12.915102\n",
       "푸르지오                 5566   85126.000719    15.293928\n",
       "한신                   5354   63342.387000    11.830853\n",
       "두산                   5181   63158.108859    12.190332\n",
       "힐스테이트                5008   88930.139776    17.757616\n",
       "벽산                   4626   51715.343709    11.179279\n",
       "자이                   4211  128949.995013    30.622179\n",
       "롯데캐슬                 3928  107670.102342    27.410922\n",
       "이편한|e편한|e-편한         3460   96553.041618    27.905503\n",
       "대우                   2584   67783.424149    26.231975\n",
       "아이파크                 2421  114141.009913    47.146225\n",
       "쌍용                   2412   76014.265340    31.515035\n",
       "극동                   2169   71921.678654    33.158911\n",
       "주공2                  1713   39859.612960    23.268893\n",
       "sk|SK|에스케이           1434   75505.575314    52.653818\n",
       "중앙하이츠                1373   61087.513474    44.491998\n",
       "더샵                   1142  126580.551664   110.841114\n",
       "대림e-편한세상             1019   83480.117763    81.923570\n",
       "에스케이북한산시티             939   52068.924388    55.451464\n",
       "파크리오                  911  157247.091109   172.609321\n",
       "신동아아파트1               739   30162.182679    40.814862\n",
       "중계그린1단지               696   36170.163793    51.968626"
      ]
     },
     "execution_count": 27,
     "metadata": {},
     "output_type": "execute_result"
    }
   ],
   "source": [
    "# 현재 적용하고자 하는 레이블 인코딩은\n",
    "# 평균 거래금액이 총합 거래금액에서 도출된 값이므로 거래 횟수에도 영향받을 수 밖에 없다는 점을 고려하여\n",
    "# 평균 거래금액 * 거래횟수 = 총합 거래금액이라는 단순한 식을 적용해보고자 함.\n",
    "\n",
    "df_count_mean = pd.concat([trade_count, trade_price], axis=1)\n",
    "df_count_mean.rename(columns={'top30':'trade_count', '거래금액(만원)':'trade_price'}, inplace=True)\n",
    "df_count_mean['trade_label'] = df_count_mean['trade_price'] / df_count_mean['trade_count']\n",
    "\n",
    "df_count_mean"
   ]
  },
  {
   "cell_type": "code",
   "execution_count": 28,
   "id": "11cd592b",
   "metadata": {},
   "outputs": [
    {
     "data": {
      "text/html": [
       "<div>\n",
       "<style scoped>\n",
       "    .dataframe tbody tr th:only-of-type {\n",
       "        vertical-align: middle;\n",
       "    }\n",
       "\n",
       "    .dataframe tbody tr th {\n",
       "        vertical-align: top;\n",
       "    }\n",
       "\n",
       "    .dataframe thead th {\n",
       "        text-align: right;\n",
       "    }\n",
       "</style>\n",
       "<table border=\"1\" class=\"dataframe\">\n",
       "  <thead>\n",
       "    <tr style=\"text-align: right;\">\n",
       "      <th></th>\n",
       "      <th>trade_count</th>\n",
       "      <th>trade_price</th>\n",
       "      <th>trade_label</th>\n",
       "      <th>trade_rank</th>\n",
       "    </tr>\n",
       "  </thead>\n",
       "  <tbody>\n",
       "    <tr>\n",
       "      <th>others</th>\n",
       "      <td>133430</td>\n",
       "      <td>71966.954306</td>\n",
       "      <td>0.539361</td>\n",
       "      <td>1.0</td>\n",
       "    </tr>\n",
       "    <tr>\n",
       "      <th>현대</th>\n",
       "      <td>18675</td>\n",
       "      <td>80762.798661</td>\n",
       "      <td>4.324648</td>\n",
       "      <td>2.0</td>\n",
       "    </tr>\n",
       "    <tr>\n",
       "      <th>래미안</th>\n",
       "      <td>10568</td>\n",
       "      <td>114160.671650</td>\n",
       "      <td>10.802486</td>\n",
       "      <td>5.0</td>\n",
       "    </tr>\n",
       "    <tr>\n",
       "      <th>삼성</th>\n",
       "      <td>8106</td>\n",
       "      <td>85070.955959</td>\n",
       "      <td>10.494813</td>\n",
       "      <td>4.0</td>\n",
       "    </tr>\n",
       "    <tr>\n",
       "      <th>동아</th>\n",
       "      <td>7153</td>\n",
       "      <td>73591.333147</td>\n",
       "      <td>10.288177</td>\n",
       "      <td>3.0</td>\n",
       "    </tr>\n",
       "    <tr>\n",
       "      <th>우성</th>\n",
       "      <td>6103</td>\n",
       "      <td>78820.868753</td>\n",
       "      <td>12.915102</td>\n",
       "      <td>9.0</td>\n",
       "    </tr>\n",
       "    <tr>\n",
       "      <th>푸르지오</th>\n",
       "      <td>5566</td>\n",
       "      <td>85126.000719</td>\n",
       "      <td>15.293928</td>\n",
       "      <td>10.0</td>\n",
       "    </tr>\n",
       "    <tr>\n",
       "      <th>한신</th>\n",
       "      <td>5354</td>\n",
       "      <td>63342.387000</td>\n",
       "      <td>11.830853</td>\n",
       "      <td>7.0</td>\n",
       "    </tr>\n",
       "    <tr>\n",
       "      <th>두산</th>\n",
       "      <td>5181</td>\n",
       "      <td>63158.108859</td>\n",
       "      <td>12.190332</td>\n",
       "      <td>8.0</td>\n",
       "    </tr>\n",
       "    <tr>\n",
       "      <th>힐스테이트</th>\n",
       "      <td>5008</td>\n",
       "      <td>88930.139776</td>\n",
       "      <td>17.757616</td>\n",
       "      <td>11.0</td>\n",
       "    </tr>\n",
       "    <tr>\n",
       "      <th>벽산</th>\n",
       "      <td>4626</td>\n",
       "      <td>51715.343709</td>\n",
       "      <td>11.179279</td>\n",
       "      <td>6.0</td>\n",
       "    </tr>\n",
       "    <tr>\n",
       "      <th>자이</th>\n",
       "      <td>4211</td>\n",
       "      <td>128949.995013</td>\n",
       "      <td>30.622179</td>\n",
       "      <td>16.0</td>\n",
       "    </tr>\n",
       "    <tr>\n",
       "      <th>롯데캐슬</th>\n",
       "      <td>3928</td>\n",
       "      <td>107670.102342</td>\n",
       "      <td>27.410922</td>\n",
       "      <td>14.0</td>\n",
       "    </tr>\n",
       "    <tr>\n",
       "      <th>이편한|e편한|e-편한</th>\n",
       "      <td>3460</td>\n",
       "      <td>96553.041618</td>\n",
       "      <td>27.905503</td>\n",
       "      <td>15.0</td>\n",
       "    </tr>\n",
       "    <tr>\n",
       "      <th>대우</th>\n",
       "      <td>2584</td>\n",
       "      <td>67783.424149</td>\n",
       "      <td>26.231975</td>\n",
       "      <td>13.0</td>\n",
       "    </tr>\n",
       "    <tr>\n",
       "      <th>아이파크</th>\n",
       "      <td>2421</td>\n",
       "      <td>114141.009913</td>\n",
       "      <td>47.146225</td>\n",
       "      <td>21.0</td>\n",
       "    </tr>\n",
       "    <tr>\n",
       "      <th>쌍용</th>\n",
       "      <td>2412</td>\n",
       "      <td>76014.265340</td>\n",
       "      <td>31.515035</td>\n",
       "      <td>17.0</td>\n",
       "    </tr>\n",
       "    <tr>\n",
       "      <th>극동</th>\n",
       "      <td>2169</td>\n",
       "      <td>71921.678654</td>\n",
       "      <td>33.158911</td>\n",
       "      <td>18.0</td>\n",
       "    </tr>\n",
       "    <tr>\n",
       "      <th>주공2</th>\n",
       "      <td>1713</td>\n",
       "      <td>39859.612960</td>\n",
       "      <td>23.268893</td>\n",
       "      <td>12.0</td>\n",
       "    </tr>\n",
       "    <tr>\n",
       "      <th>sk|SK|에스케이</th>\n",
       "      <td>1434</td>\n",
       "      <td>75505.575314</td>\n",
       "      <td>52.653818</td>\n",
       "      <td>23.0</td>\n",
       "    </tr>\n",
       "    <tr>\n",
       "      <th>중앙하이츠</th>\n",
       "      <td>1373</td>\n",
       "      <td>61087.513474</td>\n",
       "      <td>44.491998</td>\n",
       "      <td>20.0</td>\n",
       "    </tr>\n",
       "    <tr>\n",
       "      <th>더샵</th>\n",
       "      <td>1142</td>\n",
       "      <td>126580.551664</td>\n",
       "      <td>110.841114</td>\n",
       "      <td>26.0</td>\n",
       "    </tr>\n",
       "    <tr>\n",
       "      <th>대림e-편한세상</th>\n",
       "      <td>1019</td>\n",
       "      <td>83480.117763</td>\n",
       "      <td>81.923570</td>\n",
       "      <td>25.0</td>\n",
       "    </tr>\n",
       "    <tr>\n",
       "      <th>에스케이북한산시티</th>\n",
       "      <td>939</td>\n",
       "      <td>52068.924388</td>\n",
       "      <td>55.451464</td>\n",
       "      <td>24.0</td>\n",
       "    </tr>\n",
       "    <tr>\n",
       "      <th>파크리오</th>\n",
       "      <td>911</td>\n",
       "      <td>157247.091109</td>\n",
       "      <td>172.609321</td>\n",
       "      <td>27.0</td>\n",
       "    </tr>\n",
       "    <tr>\n",
       "      <th>신동아아파트1</th>\n",
       "      <td>739</td>\n",
       "      <td>30162.182679</td>\n",
       "      <td>40.814862</td>\n",
       "      <td>19.0</td>\n",
       "    </tr>\n",
       "    <tr>\n",
       "      <th>중계그린1단지</th>\n",
       "      <td>696</td>\n",
       "      <td>36170.163793</td>\n",
       "      <td>51.968626</td>\n",
       "      <td>22.0</td>\n",
       "    </tr>\n",
       "  </tbody>\n",
       "</table>\n",
       "</div>"
      ],
      "text/plain": [
       "              trade_count    trade_price  trade_label  trade_rank\n",
       "others             133430   71966.954306     0.539361         1.0\n",
       "현대                  18675   80762.798661     4.324648         2.0\n",
       "래미안                 10568  114160.671650    10.802486         5.0\n",
       "삼성                   8106   85070.955959    10.494813         4.0\n",
       "동아                   7153   73591.333147    10.288177         3.0\n",
       "우성                   6103   78820.868753    12.915102         9.0\n",
       "푸르지오                 5566   85126.000719    15.293928        10.0\n",
       "한신                   5354   63342.387000    11.830853         7.0\n",
       "두산                   5181   63158.108859    12.190332         8.0\n",
       "힐스테이트                5008   88930.139776    17.757616        11.0\n",
       "벽산                   4626   51715.343709    11.179279         6.0\n",
       "자이                   4211  128949.995013    30.622179        16.0\n",
       "롯데캐슬                 3928  107670.102342    27.410922        14.0\n",
       "이편한|e편한|e-편한         3460   96553.041618    27.905503        15.0\n",
       "대우                   2584   67783.424149    26.231975        13.0\n",
       "아이파크                 2421  114141.009913    47.146225        21.0\n",
       "쌍용                   2412   76014.265340    31.515035        17.0\n",
       "극동                   2169   71921.678654    33.158911        18.0\n",
       "주공2                  1713   39859.612960    23.268893        12.0\n",
       "sk|SK|에스케이           1434   75505.575314    52.653818        23.0\n",
       "중앙하이츠                1373   61087.513474    44.491998        20.0\n",
       "더샵                   1142  126580.551664   110.841114        26.0\n",
       "대림e-편한세상             1019   83480.117763    81.923570        25.0\n",
       "에스케이북한산시티             939   52068.924388    55.451464        24.0\n",
       "파크리오                  911  157247.091109   172.609321        27.0\n",
       "신동아아파트1               739   30162.182679    40.814862        19.0\n",
       "중계그린1단지               696   36170.163793    51.968626        22.0"
      ]
     },
     "execution_count": 28,
     "metadata": {},
     "output_type": "execute_result"
    }
   ],
   "source": [
    "# trade_rank의 숫자가 높을수록 거래 금액이 높다고 판단\n",
    "\n",
    "df_count_mean.sort_values('trade_label', ascending=False)\n",
    "df_count_mean['trade_rank'] = df_count_mean['trade_label'].rank()\n",
    "df_count_mean"
   ]
  },
  {
   "cell_type": "code",
   "execution_count": 29,
   "id": "277325a1",
   "metadata": {},
   "outputs": [
    {
     "data": {
      "text/html": [
       "<div>\n",
       "<style scoped>\n",
       "    .dataframe tbody tr th:only-of-type {\n",
       "        vertical-align: middle;\n",
       "    }\n",
       "\n",
       "    .dataframe tbody tr th {\n",
       "        vertical-align: top;\n",
       "    }\n",
       "\n",
       "    .dataframe thead th {\n",
       "        text-align: right;\n",
       "    }\n",
       "</style>\n",
       "<table border=\"1\" class=\"dataframe\">\n",
       "  <thead>\n",
       "    <tr style=\"text-align: right;\">\n",
       "      <th></th>\n",
       "      <th>시군구</th>\n",
       "      <th>단지명</th>\n",
       "      <th>전용면적(㎡)</th>\n",
       "      <th>계약년월</th>\n",
       "      <th>거래금액(만원)</th>\n",
       "      <th>층</th>\n",
       "      <th>건축년도</th>\n",
       "      <th>도로명</th>\n",
       "      <th>계약연도</th>\n",
       "      <th>아파트 별 집 개수</th>\n",
       "      <th>top10</th>\n",
       "      <th>top30</th>\n",
       "      <th>trade_rank</th>\n",
       "    </tr>\n",
       "  </thead>\n",
       "  <tbody>\n",
       "    <tr>\n",
       "      <th>0</th>\n",
       "      <td>서울특별시 강남구 개포동</td>\n",
       "      <td>개포6차우성아파트1동~8동</td>\n",
       "      <td>79.97</td>\n",
       "      <td>201801</td>\n",
       "      <td>130000</td>\n",
       "      <td>4</td>\n",
       "      <td>1987</td>\n",
       "      <td>언주로 3</td>\n",
       "      <td>2018</td>\n",
       "      <td>26</td>\n",
       "      <td>others</td>\n",
       "      <td>우성</td>\n",
       "      <td>9.0</td>\n",
       "    </tr>\n",
       "    <tr>\n",
       "      <th>1</th>\n",
       "      <td>서울특별시 강남구 개포동</td>\n",
       "      <td>개포6차우성아파트1동~8동</td>\n",
       "      <td>79.97</td>\n",
       "      <td>201801</td>\n",
       "      <td>117000</td>\n",
       "      <td>2</td>\n",
       "      <td>1987</td>\n",
       "      <td>언주로 3</td>\n",
       "      <td>2018</td>\n",
       "      <td>26</td>\n",
       "      <td>others</td>\n",
       "      <td>우성</td>\n",
       "      <td>9.0</td>\n",
       "    </tr>\n",
       "    <tr>\n",
       "      <th>2</th>\n",
       "      <td>서울특별시 강남구 개포동</td>\n",
       "      <td>개포6차우성아파트1동~8동</td>\n",
       "      <td>79.97</td>\n",
       "      <td>201801</td>\n",
       "      <td>130000</td>\n",
       "      <td>1</td>\n",
       "      <td>1987</td>\n",
       "      <td>언주로 3</td>\n",
       "      <td>2018</td>\n",
       "      <td>26</td>\n",
       "      <td>others</td>\n",
       "      <td>우성</td>\n",
       "      <td>9.0</td>\n",
       "    </tr>\n",
       "    <tr>\n",
       "      <th>3</th>\n",
       "      <td>서울특별시 강남구 개포동</td>\n",
       "      <td>개포6차우성아파트1동~8동</td>\n",
       "      <td>79.97</td>\n",
       "      <td>201803</td>\n",
       "      <td>139500</td>\n",
       "      <td>2</td>\n",
       "      <td>1987</td>\n",
       "      <td>언주로 3</td>\n",
       "      <td>2018</td>\n",
       "      <td>26</td>\n",
       "      <td>others</td>\n",
       "      <td>우성</td>\n",
       "      <td>9.0</td>\n",
       "    </tr>\n",
       "    <tr>\n",
       "      <th>4</th>\n",
       "      <td>서울특별시 강남구 개포동</td>\n",
       "      <td>개포6차우성아파트1동~8동</td>\n",
       "      <td>54.98</td>\n",
       "      <td>201804</td>\n",
       "      <td>107500</td>\n",
       "      <td>5</td>\n",
       "      <td>1987</td>\n",
       "      <td>언주로 3</td>\n",
       "      <td>2018</td>\n",
       "      <td>26</td>\n",
       "      <td>others</td>\n",
       "      <td>우성</td>\n",
       "      <td>9.0</td>\n",
       "    </tr>\n",
       "    <tr>\n",
       "      <th>...</th>\n",
       "      <td>...</td>\n",
       "      <td>...</td>\n",
       "      <td>...</td>\n",
       "      <td>...</td>\n",
       "      <td>...</td>\n",
       "      <td>...</td>\n",
       "      <td>...</td>\n",
       "      <td>...</td>\n",
       "      <td>...</td>\n",
       "      <td>...</td>\n",
       "      <td>...</td>\n",
       "      <td>...</td>\n",
       "      <td>...</td>\n",
       "    </tr>\n",
       "    <tr>\n",
       "      <th>240916</th>\n",
       "      <td>서울특별시 중랑구 중화동</td>\n",
       "      <td>한영(104)</td>\n",
       "      <td>67.57</td>\n",
       "      <td>202008</td>\n",
       "      <td>26000</td>\n",
       "      <td>2</td>\n",
       "      <td>2003</td>\n",
       "      <td>동일로144길 74</td>\n",
       "      <td>2020</td>\n",
       "      <td>5</td>\n",
       "      <td>others</td>\n",
       "      <td>others</td>\n",
       "      <td>1.0</td>\n",
       "    </tr>\n",
       "    <tr>\n",
       "      <th>240917</th>\n",
       "      <td>서울특별시 중랑구 중화동</td>\n",
       "      <td>현대휴앤미</td>\n",
       "      <td>95.94</td>\n",
       "      <td>202007</td>\n",
       "      <td>44000</td>\n",
       "      <td>6</td>\n",
       "      <td>2007</td>\n",
       "      <td>봉화산로27가길 23</td>\n",
       "      <td>2020</td>\n",
       "      <td>4</td>\n",
       "      <td>others</td>\n",
       "      <td>현대</td>\n",
       "      <td>2.0</td>\n",
       "    </tr>\n",
       "    <tr>\n",
       "      <th>240918</th>\n",
       "      <td>서울특별시 중랑구 중화동</td>\n",
       "      <td>현대휴앤미</td>\n",
       "      <td>100.17</td>\n",
       "      <td>202012</td>\n",
       "      <td>54800</td>\n",
       "      <td>5</td>\n",
       "      <td>2007</td>\n",
       "      <td>봉화산로27가길 23</td>\n",
       "      <td>2020</td>\n",
       "      <td>4</td>\n",
       "      <td>others</td>\n",
       "      <td>현대</td>\n",
       "      <td>2.0</td>\n",
       "    </tr>\n",
       "    <tr>\n",
       "      <th>240919</th>\n",
       "      <td>서울특별시 중랑구 중화동</td>\n",
       "      <td>현대휴앤미(102동)</td>\n",
       "      <td>77.71</td>\n",
       "      <td>202009</td>\n",
       "      <td>40000</td>\n",
       "      <td>5</td>\n",
       "      <td>2007</td>\n",
       "      <td>봉화산로27가길 19</td>\n",
       "      <td>2020</td>\n",
       "      <td>3</td>\n",
       "      <td>others</td>\n",
       "      <td>현대</td>\n",
       "      <td>2.0</td>\n",
       "    </tr>\n",
       "    <tr>\n",
       "      <th>240920</th>\n",
       "      <td>서울특별시 중랑구 중화동</td>\n",
       "      <td>현대휴앤미(102동)</td>\n",
       "      <td>77.71</td>\n",
       "      <td>202009</td>\n",
       "      <td>40000</td>\n",
       "      <td>5</td>\n",
       "      <td>2007</td>\n",
       "      <td>봉화산로27가길 19</td>\n",
       "      <td>2020</td>\n",
       "      <td>3</td>\n",
       "      <td>others</td>\n",
       "      <td>현대</td>\n",
       "      <td>2.0</td>\n",
       "    </tr>\n",
       "  </tbody>\n",
       "</table>\n",
       "<p>240921 rows × 13 columns</p>\n",
       "</div>"
      ],
      "text/plain": [
       "                  시군구             단지명  전용면적(㎡)    계약년월  거래금액(만원)  층  건축년도  \\\n",
       "0       서울특별시 강남구 개포동  개포6차우성아파트1동~8동    79.97  201801    130000  4  1987   \n",
       "1       서울특별시 강남구 개포동  개포6차우성아파트1동~8동    79.97  201801    117000  2  1987   \n",
       "2       서울특별시 강남구 개포동  개포6차우성아파트1동~8동    79.97  201801    130000  1  1987   \n",
       "3       서울특별시 강남구 개포동  개포6차우성아파트1동~8동    79.97  201803    139500  2  1987   \n",
       "4       서울특별시 강남구 개포동  개포6차우성아파트1동~8동    54.98  201804    107500  5  1987   \n",
       "...               ...             ...      ...     ...       ... ..   ...   \n",
       "240916  서울특별시 중랑구 중화동         한영(104)    67.57  202008     26000  2  2003   \n",
       "240917  서울특별시 중랑구 중화동           현대휴앤미    95.94  202007     44000  6  2007   \n",
       "240918  서울특별시 중랑구 중화동           현대휴앤미   100.17  202012     54800  5  2007   \n",
       "240919  서울특별시 중랑구 중화동     현대휴앤미(102동)    77.71  202009     40000  5  2007   \n",
       "240920  서울특별시 중랑구 중화동     현대휴앤미(102동)    77.71  202009     40000  5  2007   \n",
       "\n",
       "                도로명  계약연도  아파트 별 집 개수   top10   top30  trade_rank  \n",
       "0             언주로 3  2018          26  others      우성         9.0  \n",
       "1             언주로 3  2018          26  others      우성         9.0  \n",
       "2             언주로 3  2018          26  others      우성         9.0  \n",
       "3             언주로 3  2018          26  others      우성         9.0  \n",
       "4             언주로 3  2018          26  others      우성         9.0  \n",
       "...             ...   ...         ...     ...     ...         ...  \n",
       "240916   동일로144길 74  2020           5  others  others         1.0  \n",
       "240917  봉화산로27가길 23  2020           4  others      현대         2.0  \n",
       "240918  봉화산로27가길 23  2020           4  others      현대         2.0  \n",
       "240919  봉화산로27가길 19  2020           3  others      현대         2.0  \n",
       "240920  봉화산로27가길 19  2020           3  others      현대         2.0  \n",
       "\n",
       "[240921 rows x 13 columns]"
      ]
     },
     "execution_count": 29,
     "metadata": {},
     "output_type": "execute_result"
    }
   ],
   "source": [
    "# train_data에 최종 반영\n",
    "\n",
    "trade_rank_dict = df_count_mean['trade_rank'].sort_values(ascending=False).to_dict()\n",
    "\n",
    "# top30 가중치 rank 변환 함수\n",
    "def get_rank(top30_ele):\n",
    "    return trade_rank_dict.get(top30_ele)\n",
    "\n",
    "train_data['trade_rank'] = train_data['top30'].apply(get_rank)\n",
    "train_data"
   ]
  },
  {
   "cell_type": "code",
   "execution_count": 30,
   "id": "3124b2db",
   "metadata": {},
   "outputs": [
    {
     "data": {
      "text/html": [
       "<div>\n",
       "<style scoped>\n",
       "    .dataframe tbody tr th:only-of-type {\n",
       "        vertical-align: middle;\n",
       "    }\n",
       "\n",
       "    .dataframe tbody tr th {\n",
       "        vertical-align: top;\n",
       "    }\n",
       "\n",
       "    .dataframe thead th {\n",
       "        text-align: right;\n",
       "    }\n",
       "</style>\n",
       "<table border=\"1\" class=\"dataframe\">\n",
       "  <thead>\n",
       "    <tr style=\"text-align: right;\">\n",
       "      <th></th>\n",
       "      <th>시군구</th>\n",
       "      <th>단지명</th>\n",
       "      <th>전용면적(㎡)</th>\n",
       "      <th>계약년월</th>\n",
       "      <th>거래금액(만원)</th>\n",
       "      <th>층</th>\n",
       "      <th>건축년도</th>\n",
       "      <th>도로명</th>\n",
       "      <th>계약연도</th>\n",
       "      <th>아파트 별 집 개수</th>\n",
       "      <th>...</th>\n",
       "      <th>이편한|e편한|e-편한</th>\n",
       "      <th>자이</th>\n",
       "      <th>주공2</th>\n",
       "      <th>중계그린1단지</th>\n",
       "      <th>중앙하이츠</th>\n",
       "      <th>파크리오</th>\n",
       "      <th>푸르지오</th>\n",
       "      <th>한신</th>\n",
       "      <th>현대</th>\n",
       "      <th>힐스테이트</th>\n",
       "    </tr>\n",
       "  </thead>\n",
       "  <tbody>\n",
       "    <tr>\n",
       "      <th>0</th>\n",
       "      <td>서울특별시 강남구 개포동</td>\n",
       "      <td>개포6차우성아파트1동~8동</td>\n",
       "      <td>79.97</td>\n",
       "      <td>201801</td>\n",
       "      <td>130000</td>\n",
       "      <td>4</td>\n",
       "      <td>1987</td>\n",
       "      <td>언주로 3</td>\n",
       "      <td>2018</td>\n",
       "      <td>26</td>\n",
       "      <td>...</td>\n",
       "      <td>0</td>\n",
       "      <td>0</td>\n",
       "      <td>0</td>\n",
       "      <td>0</td>\n",
       "      <td>0</td>\n",
       "      <td>0</td>\n",
       "      <td>0</td>\n",
       "      <td>0</td>\n",
       "      <td>0</td>\n",
       "      <td>0</td>\n",
       "    </tr>\n",
       "    <tr>\n",
       "      <th>1</th>\n",
       "      <td>서울특별시 강남구 개포동</td>\n",
       "      <td>개포6차우성아파트1동~8동</td>\n",
       "      <td>79.97</td>\n",
       "      <td>201801</td>\n",
       "      <td>117000</td>\n",
       "      <td>2</td>\n",
       "      <td>1987</td>\n",
       "      <td>언주로 3</td>\n",
       "      <td>2018</td>\n",
       "      <td>26</td>\n",
       "      <td>...</td>\n",
       "      <td>0</td>\n",
       "      <td>0</td>\n",
       "      <td>0</td>\n",
       "      <td>0</td>\n",
       "      <td>0</td>\n",
       "      <td>0</td>\n",
       "      <td>0</td>\n",
       "      <td>0</td>\n",
       "      <td>0</td>\n",
       "      <td>0</td>\n",
       "    </tr>\n",
       "    <tr>\n",
       "      <th>2</th>\n",
       "      <td>서울특별시 강남구 개포동</td>\n",
       "      <td>개포6차우성아파트1동~8동</td>\n",
       "      <td>79.97</td>\n",
       "      <td>201801</td>\n",
       "      <td>130000</td>\n",
       "      <td>1</td>\n",
       "      <td>1987</td>\n",
       "      <td>언주로 3</td>\n",
       "      <td>2018</td>\n",
       "      <td>26</td>\n",
       "      <td>...</td>\n",
       "      <td>0</td>\n",
       "      <td>0</td>\n",
       "      <td>0</td>\n",
       "      <td>0</td>\n",
       "      <td>0</td>\n",
       "      <td>0</td>\n",
       "      <td>0</td>\n",
       "      <td>0</td>\n",
       "      <td>0</td>\n",
       "      <td>0</td>\n",
       "    </tr>\n",
       "    <tr>\n",
       "      <th>3</th>\n",
       "      <td>서울특별시 강남구 개포동</td>\n",
       "      <td>개포6차우성아파트1동~8동</td>\n",
       "      <td>79.97</td>\n",
       "      <td>201803</td>\n",
       "      <td>139500</td>\n",
       "      <td>2</td>\n",
       "      <td>1987</td>\n",
       "      <td>언주로 3</td>\n",
       "      <td>2018</td>\n",
       "      <td>26</td>\n",
       "      <td>...</td>\n",
       "      <td>0</td>\n",
       "      <td>0</td>\n",
       "      <td>0</td>\n",
       "      <td>0</td>\n",
       "      <td>0</td>\n",
       "      <td>0</td>\n",
       "      <td>0</td>\n",
       "      <td>0</td>\n",
       "      <td>0</td>\n",
       "      <td>0</td>\n",
       "    </tr>\n",
       "    <tr>\n",
       "      <th>4</th>\n",
       "      <td>서울특별시 강남구 개포동</td>\n",
       "      <td>개포6차우성아파트1동~8동</td>\n",
       "      <td>54.98</td>\n",
       "      <td>201804</td>\n",
       "      <td>107500</td>\n",
       "      <td>5</td>\n",
       "      <td>1987</td>\n",
       "      <td>언주로 3</td>\n",
       "      <td>2018</td>\n",
       "      <td>26</td>\n",
       "      <td>...</td>\n",
       "      <td>0</td>\n",
       "      <td>0</td>\n",
       "      <td>0</td>\n",
       "      <td>0</td>\n",
       "      <td>0</td>\n",
       "      <td>0</td>\n",
       "      <td>0</td>\n",
       "      <td>0</td>\n",
       "      <td>0</td>\n",
       "      <td>0</td>\n",
       "    </tr>\n",
       "    <tr>\n",
       "      <th>...</th>\n",
       "      <td>...</td>\n",
       "      <td>...</td>\n",
       "      <td>...</td>\n",
       "      <td>...</td>\n",
       "      <td>...</td>\n",
       "      <td>...</td>\n",
       "      <td>...</td>\n",
       "      <td>...</td>\n",
       "      <td>...</td>\n",
       "      <td>...</td>\n",
       "      <td>...</td>\n",
       "      <td>...</td>\n",
       "      <td>...</td>\n",
       "      <td>...</td>\n",
       "      <td>...</td>\n",
       "      <td>...</td>\n",
       "      <td>...</td>\n",
       "      <td>...</td>\n",
       "      <td>...</td>\n",
       "      <td>...</td>\n",
       "      <td>...</td>\n",
       "    </tr>\n",
       "    <tr>\n",
       "      <th>240916</th>\n",
       "      <td>서울특별시 중랑구 중화동</td>\n",
       "      <td>한영(104)</td>\n",
       "      <td>67.57</td>\n",
       "      <td>202008</td>\n",
       "      <td>26000</td>\n",
       "      <td>2</td>\n",
       "      <td>2003</td>\n",
       "      <td>동일로144길 74</td>\n",
       "      <td>2020</td>\n",
       "      <td>5</td>\n",
       "      <td>...</td>\n",
       "      <td>0</td>\n",
       "      <td>0</td>\n",
       "      <td>0</td>\n",
       "      <td>0</td>\n",
       "      <td>0</td>\n",
       "      <td>0</td>\n",
       "      <td>0</td>\n",
       "      <td>0</td>\n",
       "      <td>0</td>\n",
       "      <td>0</td>\n",
       "    </tr>\n",
       "    <tr>\n",
       "      <th>240917</th>\n",
       "      <td>서울특별시 중랑구 중화동</td>\n",
       "      <td>현대휴앤미</td>\n",
       "      <td>95.94</td>\n",
       "      <td>202007</td>\n",
       "      <td>44000</td>\n",
       "      <td>6</td>\n",
       "      <td>2007</td>\n",
       "      <td>봉화산로27가길 23</td>\n",
       "      <td>2020</td>\n",
       "      <td>4</td>\n",
       "      <td>...</td>\n",
       "      <td>0</td>\n",
       "      <td>0</td>\n",
       "      <td>0</td>\n",
       "      <td>0</td>\n",
       "      <td>0</td>\n",
       "      <td>0</td>\n",
       "      <td>0</td>\n",
       "      <td>0</td>\n",
       "      <td>1</td>\n",
       "      <td>0</td>\n",
       "    </tr>\n",
       "    <tr>\n",
       "      <th>240918</th>\n",
       "      <td>서울특별시 중랑구 중화동</td>\n",
       "      <td>현대휴앤미</td>\n",
       "      <td>100.17</td>\n",
       "      <td>202012</td>\n",
       "      <td>54800</td>\n",
       "      <td>5</td>\n",
       "      <td>2007</td>\n",
       "      <td>봉화산로27가길 23</td>\n",
       "      <td>2020</td>\n",
       "      <td>4</td>\n",
       "      <td>...</td>\n",
       "      <td>0</td>\n",
       "      <td>0</td>\n",
       "      <td>0</td>\n",
       "      <td>0</td>\n",
       "      <td>0</td>\n",
       "      <td>0</td>\n",
       "      <td>0</td>\n",
       "      <td>0</td>\n",
       "      <td>1</td>\n",
       "      <td>0</td>\n",
       "    </tr>\n",
       "    <tr>\n",
       "      <th>240919</th>\n",
       "      <td>서울특별시 중랑구 중화동</td>\n",
       "      <td>현대휴앤미(102동)</td>\n",
       "      <td>77.71</td>\n",
       "      <td>202009</td>\n",
       "      <td>40000</td>\n",
       "      <td>5</td>\n",
       "      <td>2007</td>\n",
       "      <td>봉화산로27가길 19</td>\n",
       "      <td>2020</td>\n",
       "      <td>3</td>\n",
       "      <td>...</td>\n",
       "      <td>0</td>\n",
       "      <td>0</td>\n",
       "      <td>0</td>\n",
       "      <td>0</td>\n",
       "      <td>0</td>\n",
       "      <td>0</td>\n",
       "      <td>0</td>\n",
       "      <td>0</td>\n",
       "      <td>1</td>\n",
       "      <td>0</td>\n",
       "    </tr>\n",
       "    <tr>\n",
       "      <th>240920</th>\n",
       "      <td>서울특별시 중랑구 중화동</td>\n",
       "      <td>현대휴앤미(102동)</td>\n",
       "      <td>77.71</td>\n",
       "      <td>202009</td>\n",
       "      <td>40000</td>\n",
       "      <td>5</td>\n",
       "      <td>2007</td>\n",
       "      <td>봉화산로27가길 19</td>\n",
       "      <td>2020</td>\n",
       "      <td>3</td>\n",
       "      <td>...</td>\n",
       "      <td>0</td>\n",
       "      <td>0</td>\n",
       "      <td>0</td>\n",
       "      <td>0</td>\n",
       "      <td>0</td>\n",
       "      <td>0</td>\n",
       "      <td>0</td>\n",
       "      <td>0</td>\n",
       "      <td>1</td>\n",
       "      <td>0</td>\n",
       "    </tr>\n",
       "  </tbody>\n",
       "</table>\n",
       "<p>240921 rows × 40 columns</p>\n",
       "</div>"
      ],
      "text/plain": [
       "                  시군구             단지명  전용면적(㎡)    계약년월  거래금액(만원)  층  건축년도  \\\n",
       "0       서울특별시 강남구 개포동  개포6차우성아파트1동~8동    79.97  201801    130000  4  1987   \n",
       "1       서울특별시 강남구 개포동  개포6차우성아파트1동~8동    79.97  201801    117000  2  1987   \n",
       "2       서울특별시 강남구 개포동  개포6차우성아파트1동~8동    79.97  201801    130000  1  1987   \n",
       "3       서울특별시 강남구 개포동  개포6차우성아파트1동~8동    79.97  201803    139500  2  1987   \n",
       "4       서울특별시 강남구 개포동  개포6차우성아파트1동~8동    54.98  201804    107500  5  1987   \n",
       "...               ...             ...      ...     ...       ... ..   ...   \n",
       "240916  서울특별시 중랑구 중화동         한영(104)    67.57  202008     26000  2  2003   \n",
       "240917  서울특별시 중랑구 중화동           현대휴앤미    95.94  202007     44000  6  2007   \n",
       "240918  서울특별시 중랑구 중화동           현대휴앤미   100.17  202012     54800  5  2007   \n",
       "240919  서울특별시 중랑구 중화동     현대휴앤미(102동)    77.71  202009     40000  5  2007   \n",
       "240920  서울특별시 중랑구 중화동     현대휴앤미(102동)    77.71  202009     40000  5  2007   \n",
       "\n",
       "                도로명  계약연도  아파트 별 집 개수  ... 이편한|e편한|e-편한 자이  주공2  중계그린1단지  \\\n",
       "0             언주로 3  2018          26  ...            0  0    0        0   \n",
       "1             언주로 3  2018          26  ...            0  0    0        0   \n",
       "2             언주로 3  2018          26  ...            0  0    0        0   \n",
       "3             언주로 3  2018          26  ...            0  0    0        0   \n",
       "4             언주로 3  2018          26  ...            0  0    0        0   \n",
       "...             ...   ...         ...  ...          ... ..  ...      ...   \n",
       "240916   동일로144길 74  2020           5  ...            0  0    0        0   \n",
       "240917  봉화산로27가길 23  2020           4  ...            0  0    0        0   \n",
       "240918  봉화산로27가길 23  2020           4  ...            0  0    0        0   \n",
       "240919  봉화산로27가길 19  2020           3  ...            0  0    0        0   \n",
       "240920  봉화산로27가길 19  2020           3  ...            0  0    0        0   \n",
       "\n",
       "        중앙하이츠  파크리오  푸르지오  한신  현대  힐스테이트  \n",
       "0           0     0     0   0   0      0  \n",
       "1           0     0     0   0   0      0  \n",
       "2           0     0     0   0   0      0  \n",
       "3           0     0     0   0   0      0  \n",
       "4           0     0     0   0   0      0  \n",
       "...       ...   ...   ...  ..  ..    ...  \n",
       "240916      0     0     0   0   0      0  \n",
       "240917      0     0     0   0   1      0  \n",
       "240918      0     0     0   0   1      0  \n",
       "240919      0     0     0   0   1      0  \n",
       "240920      0     0     0   0   1      0  \n",
       "\n",
       "[240921 rows x 40 columns]"
      ]
     },
     "execution_count": 30,
     "metadata": {},
     "output_type": "execute_result"
    }
   ],
   "source": [
    "'''\n",
    "    case 2. one-hot encoding\n",
    "'''\n",
    "\n",
    "one_hot_encoded = pd.get_dummies(train_data['top30'])\n",
    "one_hot_encoded\n",
    "\n",
    "# train_data에 최종 반영\n",
    "train_data = pd.concat([train_data, one_hot_encoded], axis=1)\n",
    "train_data"
   ]
  }
 ],
 "metadata": {
  "interpreter": {
   "hash": "c88dec21746cf2110f30e89a2fb18b0e9386b44c370810919302f55f1825a187"
  },
  "kernelspec": {
   "display_name": "saltlux_lecture",
   "language": "python",
   "name": "python3"
  },
  "language_info": {
   "codemirror_mode": {
    "name": "ipython",
    "version": 3
   },
   "file_extension": ".py",
   "mimetype": "text/x-python",
   "name": "python",
   "nbconvert_exporter": "python",
   "pygments_lexer": "ipython3",
   "version": "3.9.7"
  },
  "toc": {
   "base_numbering": 1,
   "nav_menu": {},
   "number_sections": true,
   "sideBar": true,
   "skip_h1_title": false,
   "title_cell": "Table of Contents",
   "title_sidebar": "Contents",
   "toc_cell": false,
   "toc_position": {
    "height": "calc(100% - 180px)",
    "left": "10px",
    "top": "150px",
    "width": "203px"
   },
   "toc_section_display": true,
   "toc_window_display": true
  }
 },
 "nbformat": 4,
 "nbformat_minor": 5
}
