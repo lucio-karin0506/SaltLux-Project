{
 "cells": [
  {
   "cell_type": "code",
   "execution_count": 23,
   "id": "8e77c8ba",
   "metadata": {},
   "outputs": [],
   "source": [
    "# 패키지 임포트\n",
    "import numpy as np\n",
    "import pandas as pd\n",
    "import scipy.stats as ss\n",
    "import os \n",
    "import matplotlib.pyplot as plt\n",
    "import seaborn as sns\n",
    "from sklearn.preprocessing import MinMaxScaler\n",
    "from sklearn.preprocessing import minmax_scale\n",
    "from sklearn.preprocessing import LabelEncoder\n",
    "from datetime import datetime\n",
    "# !pip install plotly\n",
    "import plotly.offline as off\n",
    "import plotly.graph_objs as go\n",
    "pd.set_option('display.max_columns', 500)\n",
    "\n",
    "plt.rc(\"font\", family=\"Malgun Gothic\") # matplotlib 한글깨짐 방지"
   ]
  },
  {
   "cell_type": "code",
   "execution_count": 24,
   "id": "734ec7fd",
   "metadata": {
    "scrolled": true
   },
   "outputs": [],
   "source": [
    "# 데이터 로드\n",
    "# 부동산 데이터\n",
    "estate_price_2018 = pd.read_csv('estate_price_2018.csv', encoding='cp949')\n",
    "estate_price_2019 = pd.read_csv('estate_price_2019.csv', encoding='cp949')\n",
    "estate_price_2020 = pd.read_csv('estate_price_2020.csv', encoding='cp949')\n",
    "# train_data=pd.read_csv('train_data.csv', encoding='cp949')\n",
    "\n",
    "# 역 데이터\n",
    "station = pd.read_excel('서울교통공사_역주소현황(행정동기준)_20201109.xlsx')\n",
    "\n",
    "# 학원 데이터\n",
    "cram_school_data=pd.read_csv('학원데이터.csv', encoding='cp949')"
   ]
  },
  {
   "cell_type": "code",
   "execution_count": 25,
   "id": "d2af42f2",
   "metadata": {
    "scrolled": true
   },
   "outputs": [
    {
     "data": {
      "text/html": [
       "<div>\n",
       "<style scoped>\n",
       "    .dataframe tbody tr th:only-of-type {\n",
       "        vertical-align: middle;\n",
       "    }\n",
       "\n",
       "    .dataframe tbody tr th {\n",
       "        vertical-align: top;\n",
       "    }\n",
       "\n",
       "    .dataframe thead th {\n",
       "        text-align: right;\n",
       "    }\n",
       "</style>\n",
       "<table border=\"1\" class=\"dataframe\">\n",
       "  <thead>\n",
       "    <tr style=\"text-align: right;\">\n",
       "      <th></th>\n",
       "      <th>시군구</th>\n",
       "      <th>번지</th>\n",
       "      <th>본번</th>\n",
       "      <th>부번</th>\n",
       "      <th>단지명</th>\n",
       "      <th>전용면적(㎡)</th>\n",
       "      <th>계약년월</th>\n",
       "      <th>계약일</th>\n",
       "      <th>거래금액(만원)</th>\n",
       "      <th>층</th>\n",
       "      <th>건축년도</th>\n",
       "      <th>도로명</th>\n",
       "      <th>해제사유발생일</th>\n",
       "      <th>거래유형</th>\n",
       "      <th>중개사소재지</th>\n",
       "    </tr>\n",
       "  </thead>\n",
       "  <tbody>\n",
       "    <tr>\n",
       "      <th>0</th>\n",
       "      <td>서울특별시 강남구 개포동</td>\n",
       "      <td>658-1</td>\n",
       "      <td>658.0</td>\n",
       "      <td>1.0</td>\n",
       "      <td>개포6차우성아파트1동~8동</td>\n",
       "      <td>79.97</td>\n",
       "      <td>201801</td>\n",
       "      <td>3</td>\n",
       "      <td>130,000</td>\n",
       "      <td>4</td>\n",
       "      <td>1987</td>\n",
       "      <td>언주로 3</td>\n",
       "      <td>NaN</td>\n",
       "      <td>-</td>\n",
       "      <td>-</td>\n",
       "    </tr>\n",
       "    <tr>\n",
       "      <th>1</th>\n",
       "      <td>서울특별시 강남구 개포동</td>\n",
       "      <td>658-1</td>\n",
       "      <td>658.0</td>\n",
       "      <td>1.0</td>\n",
       "      <td>개포6차우성아파트1동~8동</td>\n",
       "      <td>79.97</td>\n",
       "      <td>201801</td>\n",
       "      <td>8</td>\n",
       "      <td>117,000</td>\n",
       "      <td>2</td>\n",
       "      <td>1987</td>\n",
       "      <td>언주로 3</td>\n",
       "      <td>NaN</td>\n",
       "      <td>-</td>\n",
       "      <td>-</td>\n",
       "    </tr>\n",
       "    <tr>\n",
       "      <th>2</th>\n",
       "      <td>서울특별시 강남구 개포동</td>\n",
       "      <td>658-1</td>\n",
       "      <td>658.0</td>\n",
       "      <td>1.0</td>\n",
       "      <td>개포6차우성아파트1동~8동</td>\n",
       "      <td>79.97</td>\n",
       "      <td>201801</td>\n",
       "      <td>11</td>\n",
       "      <td>130,000</td>\n",
       "      <td>1</td>\n",
       "      <td>1987</td>\n",
       "      <td>언주로 3</td>\n",
       "      <td>NaN</td>\n",
       "      <td>-</td>\n",
       "      <td>-</td>\n",
       "    </tr>\n",
       "    <tr>\n",
       "      <th>3</th>\n",
       "      <td>서울특별시 강남구 개포동</td>\n",
       "      <td>658-1</td>\n",
       "      <td>658.0</td>\n",
       "      <td>1.0</td>\n",
       "      <td>개포6차우성아파트1동~8동</td>\n",
       "      <td>79.97</td>\n",
       "      <td>201803</td>\n",
       "      <td>19</td>\n",
       "      <td>139,500</td>\n",
       "      <td>2</td>\n",
       "      <td>1987</td>\n",
       "      <td>언주로 3</td>\n",
       "      <td>NaN</td>\n",
       "      <td>-</td>\n",
       "      <td>-</td>\n",
       "    </tr>\n",
       "    <tr>\n",
       "      <th>4</th>\n",
       "      <td>서울특별시 강남구 개포동</td>\n",
       "      <td>658-1</td>\n",
       "      <td>658.0</td>\n",
       "      <td>1.0</td>\n",
       "      <td>개포6차우성아파트1동~8동</td>\n",
       "      <td>54.98</td>\n",
       "      <td>201804</td>\n",
       "      <td>5</td>\n",
       "      <td>107,500</td>\n",
       "      <td>5</td>\n",
       "      <td>1987</td>\n",
       "      <td>언주로 3</td>\n",
       "      <td>NaN</td>\n",
       "      <td>-</td>\n",
       "      <td>-</td>\n",
       "    </tr>\n",
       "    <tr>\n",
       "      <th>...</th>\n",
       "      <td>...</td>\n",
       "      <td>...</td>\n",
       "      <td>...</td>\n",
       "      <td>...</td>\n",
       "      <td>...</td>\n",
       "      <td>...</td>\n",
       "      <td>...</td>\n",
       "      <td>...</td>\n",
       "      <td>...</td>\n",
       "      <td>...</td>\n",
       "      <td>...</td>\n",
       "      <td>...</td>\n",
       "      <td>...</td>\n",
       "      <td>...</td>\n",
       "      <td>...</td>\n",
       "    </tr>\n",
       "    <tr>\n",
       "      <th>81598</th>\n",
       "      <td>서울특별시 중랑구 중화동</td>\n",
       "      <td>274-76</td>\n",
       "      <td>274.0</td>\n",
       "      <td>76.0</td>\n",
       "      <td>한영(103)</td>\n",
       "      <td>56.52</td>\n",
       "      <td>201809</td>\n",
       "      <td>22</td>\n",
       "      <td>21,000</td>\n",
       "      <td>5</td>\n",
       "      <td>2003</td>\n",
       "      <td>동일로144길 74</td>\n",
       "      <td>NaN</td>\n",
       "      <td>-</td>\n",
       "      <td>-</td>\n",
       "    </tr>\n",
       "    <tr>\n",
       "      <th>81599</th>\n",
       "      <td>서울특별시 중랑구 중화동</td>\n",
       "      <td>274-76</td>\n",
       "      <td>274.0</td>\n",
       "      <td>76.0</td>\n",
       "      <td>한영(103)</td>\n",
       "      <td>69.52</td>\n",
       "      <td>201811</td>\n",
       "      <td>1</td>\n",
       "      <td>29,500</td>\n",
       "      <td>3</td>\n",
       "      <td>2003</td>\n",
       "      <td>동일로144길 74</td>\n",
       "      <td>NaN</td>\n",
       "      <td>-</td>\n",
       "      <td>-</td>\n",
       "    </tr>\n",
       "    <tr>\n",
       "      <th>81600</th>\n",
       "      <td>서울특별시 중랑구 중화동</td>\n",
       "      <td>274-76</td>\n",
       "      <td>274.0</td>\n",
       "      <td>76.0</td>\n",
       "      <td>한영(103)</td>\n",
       "      <td>69.09</td>\n",
       "      <td>201811</td>\n",
       "      <td>12</td>\n",
       "      <td>30,000</td>\n",
       "      <td>5</td>\n",
       "      <td>2003</td>\n",
       "      <td>동일로144길 74</td>\n",
       "      <td>NaN</td>\n",
       "      <td>-</td>\n",
       "      <td>-</td>\n",
       "    </tr>\n",
       "    <tr>\n",
       "      <th>81601</th>\n",
       "      <td>서울특별시 중랑구 중화동</td>\n",
       "      <td>274-77</td>\n",
       "      <td>274.0</td>\n",
       "      <td>77.0</td>\n",
       "      <td>한영(104)</td>\n",
       "      <td>75.88</td>\n",
       "      <td>201808</td>\n",
       "      <td>29</td>\n",
       "      <td>24,500</td>\n",
       "      <td>2</td>\n",
       "      <td>2003</td>\n",
       "      <td>동일로144길 74</td>\n",
       "      <td>NaN</td>\n",
       "      <td>-</td>\n",
       "      <td>-</td>\n",
       "    </tr>\n",
       "    <tr>\n",
       "      <th>81602</th>\n",
       "      <td>서울특별시 중랑구 중화동</td>\n",
       "      <td>11</td>\n",
       "      <td>11.0</td>\n",
       "      <td>0.0</td>\n",
       "      <td>현대휴앤미</td>\n",
       "      <td>100.17</td>\n",
       "      <td>201807</td>\n",
       "      <td>30</td>\n",
       "      <td>37,000</td>\n",
       "      <td>2</td>\n",
       "      <td>2007</td>\n",
       "      <td>봉화산로27가길 23</td>\n",
       "      <td>NaN</td>\n",
       "      <td>-</td>\n",
       "      <td>-</td>\n",
       "    </tr>\n",
       "  </tbody>\n",
       "</table>\n",
       "<p>81603 rows × 15 columns</p>\n",
       "</div>"
      ],
      "text/plain": [
       "                 시군구      번지     본번    부번             단지명  전용면적(㎡)    계약년월  \\\n",
       "0      서울특별시 강남구 개포동   658-1  658.0   1.0  개포6차우성아파트1동~8동    79.97  201801   \n",
       "1      서울특별시 강남구 개포동   658-1  658.0   1.0  개포6차우성아파트1동~8동    79.97  201801   \n",
       "2      서울특별시 강남구 개포동   658-1  658.0   1.0  개포6차우성아파트1동~8동    79.97  201801   \n",
       "3      서울특별시 강남구 개포동   658-1  658.0   1.0  개포6차우성아파트1동~8동    79.97  201803   \n",
       "4      서울특별시 강남구 개포동   658-1  658.0   1.0  개포6차우성아파트1동~8동    54.98  201804   \n",
       "...              ...     ...    ...   ...             ...      ...     ...   \n",
       "81598  서울특별시 중랑구 중화동  274-76  274.0  76.0         한영(103)    56.52  201809   \n",
       "81599  서울특별시 중랑구 중화동  274-76  274.0  76.0         한영(103)    69.52  201811   \n",
       "81600  서울특별시 중랑구 중화동  274-76  274.0  76.0         한영(103)    69.09  201811   \n",
       "81601  서울특별시 중랑구 중화동  274-77  274.0  77.0         한영(104)    75.88  201808   \n",
       "81602  서울특별시 중랑구 중화동      11   11.0   0.0           현대휴앤미   100.17  201807   \n",
       "\n",
       "       계약일 거래금액(만원)  층  건축년도          도로명  해제사유발생일 거래유형 중개사소재지  \n",
       "0        3  130,000  4  1987        언주로 3      NaN    -      -  \n",
       "1        8  117,000  2  1987        언주로 3      NaN    -      -  \n",
       "2       11  130,000  1  1987        언주로 3      NaN    -      -  \n",
       "3       19  139,500  2  1987        언주로 3      NaN    -      -  \n",
       "4        5  107,500  5  1987        언주로 3      NaN    -      -  \n",
       "...    ...      ... ..   ...          ...      ...  ...    ...  \n",
       "81598   22   21,000  5  2003   동일로144길 74      NaN    -      -  \n",
       "81599    1   29,500  3  2003   동일로144길 74      NaN    -      -  \n",
       "81600   12   30,000  5  2003   동일로144길 74      NaN    -      -  \n",
       "81601   29   24,500  2  2003   동일로144길 74      NaN    -      -  \n",
       "81602   30   37,000  2  2007  봉화산로27가길 23      NaN    -      -  \n",
       "\n",
       "[81603 rows x 15 columns]"
      ]
     },
     "execution_count": 25,
     "metadata": {},
     "output_type": "execute_result"
    }
   ],
   "source": [
    "estate_price_2018"
   ]
  },
  {
   "cell_type": "code",
   "execution_count": 26,
   "id": "8dd2dbd4",
   "metadata": {},
   "outputs": [],
   "source": [
    "# train data 생성 위한 전처리 수행\n",
    "train_data = pd.concat([estate_price_2018, estate_price_2019, estate_price_2020])\n",
    "train_data\n",
    "\n",
    "train_data.drop(['번지', '본번', '부번','해제사유발생일', '거래유형', '중개사소재지'], inplace=True, axis=1)\n",
    "train_data.drop(['도로명'], inplace=True, axis=1)\n",
    "# train_data.to_csv('projectDataset/main data from seoul/train_data.csv', index=False, encoding='utf-8-sig')"
   ]
  },
  {
   "cell_type": "code",
   "execution_count": 27,
   "id": "41517582",
   "metadata": {},
   "outputs": [
    {
     "data": {
      "text/plain": [
       "Index(['시군구', '단지명', '전용면적(㎡)', '계약년월', '계약일', '거래금액(만원)', '층', '건축년도'], dtype='object')"
      ]
     },
     "execution_count": 27,
     "metadata": {},
     "output_type": "execute_result"
    }
   ],
   "source": [
    "train_data.columns"
   ]
  },
  {
   "cell_type": "code",
   "execution_count": 28,
   "id": "ceb00a43",
   "metadata": {},
   "outputs": [],
   "source": [
    "# train_data.columns = ['sigungu', 'danji', 'area', 'transaction_year_month','transaction_day', \n",
    "#                       'price', 'floor', 'completion_year']"
   ]
  },
  {
   "cell_type": "code",
   "execution_count": 29,
   "id": "cb71e718",
   "metadata": {
    "scrolled": true
   },
   "outputs": [
    {
     "data": {
      "text/html": [
       "<div>\n",
       "<style scoped>\n",
       "    .dataframe tbody tr th:only-of-type {\n",
       "        vertical-align: middle;\n",
       "    }\n",
       "\n",
       "    .dataframe tbody tr th {\n",
       "        vertical-align: top;\n",
       "    }\n",
       "\n",
       "    .dataframe thead th {\n",
       "        text-align: right;\n",
       "    }\n",
       "</style>\n",
       "<table border=\"1\" class=\"dataframe\">\n",
       "  <thead>\n",
       "    <tr style=\"text-align: right;\">\n",
       "      <th></th>\n",
       "      <th>시군구</th>\n",
       "      <th>단지명</th>\n",
       "      <th>전용면적(㎡)</th>\n",
       "      <th>계약년월</th>\n",
       "      <th>계약일</th>\n",
       "      <th>거래금액(만원)</th>\n",
       "      <th>층</th>\n",
       "      <th>건축년도</th>\n",
       "    </tr>\n",
       "  </thead>\n",
       "  <tbody>\n",
       "    <tr>\n",
       "      <th>0</th>\n",
       "      <td>서울특별시 강남구 개포동</td>\n",
       "      <td>개포6차우성아파트1동~8동</td>\n",
       "      <td>79.97</td>\n",
       "      <td>201801</td>\n",
       "      <td>3</td>\n",
       "      <td>130,000</td>\n",
       "      <td>4</td>\n",
       "      <td>1987</td>\n",
       "    </tr>\n",
       "    <tr>\n",
       "      <th>1</th>\n",
       "      <td>서울특별시 강남구 개포동</td>\n",
       "      <td>개포6차우성아파트1동~8동</td>\n",
       "      <td>79.97</td>\n",
       "      <td>201801</td>\n",
       "      <td>8</td>\n",
       "      <td>117,000</td>\n",
       "      <td>2</td>\n",
       "      <td>1987</td>\n",
       "    </tr>\n",
       "    <tr>\n",
       "      <th>2</th>\n",
       "      <td>서울특별시 강남구 개포동</td>\n",
       "      <td>개포6차우성아파트1동~8동</td>\n",
       "      <td>79.97</td>\n",
       "      <td>201801</td>\n",
       "      <td>11</td>\n",
       "      <td>130,000</td>\n",
       "      <td>1</td>\n",
       "      <td>1987</td>\n",
       "    </tr>\n",
       "    <tr>\n",
       "      <th>3</th>\n",
       "      <td>서울특별시 강남구 개포동</td>\n",
       "      <td>개포6차우성아파트1동~8동</td>\n",
       "      <td>79.97</td>\n",
       "      <td>201803</td>\n",
       "      <td>19</td>\n",
       "      <td>139,500</td>\n",
       "      <td>2</td>\n",
       "      <td>1987</td>\n",
       "    </tr>\n",
       "    <tr>\n",
       "      <th>4</th>\n",
       "      <td>서울특별시 강남구 개포동</td>\n",
       "      <td>개포6차우성아파트1동~8동</td>\n",
       "      <td>54.98</td>\n",
       "      <td>201804</td>\n",
       "      <td>5</td>\n",
       "      <td>107,500</td>\n",
       "      <td>5</td>\n",
       "      <td>1987</td>\n",
       "    </tr>\n",
       "    <tr>\n",
       "      <th>...</th>\n",
       "      <td>...</td>\n",
       "      <td>...</td>\n",
       "      <td>...</td>\n",
       "      <td>...</td>\n",
       "      <td>...</td>\n",
       "      <td>...</td>\n",
       "      <td>...</td>\n",
       "      <td>...</td>\n",
       "    </tr>\n",
       "    <tr>\n",
       "      <th>84234</th>\n",
       "      <td>서울특별시 중랑구 중화동</td>\n",
       "      <td>한영(104)</td>\n",
       "      <td>67.57</td>\n",
       "      <td>202008</td>\n",
       "      <td>7</td>\n",
       "      <td>26,000</td>\n",
       "      <td>2</td>\n",
       "      <td>2003</td>\n",
       "    </tr>\n",
       "    <tr>\n",
       "      <th>84235</th>\n",
       "      <td>서울특별시 중랑구 중화동</td>\n",
       "      <td>현대휴앤미</td>\n",
       "      <td>95.94</td>\n",
       "      <td>202007</td>\n",
       "      <td>10</td>\n",
       "      <td>44,000</td>\n",
       "      <td>6</td>\n",
       "      <td>2007</td>\n",
       "    </tr>\n",
       "    <tr>\n",
       "      <th>84236</th>\n",
       "      <td>서울특별시 중랑구 중화동</td>\n",
       "      <td>현대휴앤미</td>\n",
       "      <td>100.17</td>\n",
       "      <td>202012</td>\n",
       "      <td>3</td>\n",
       "      <td>54,800</td>\n",
       "      <td>5</td>\n",
       "      <td>2007</td>\n",
       "    </tr>\n",
       "    <tr>\n",
       "      <th>84237</th>\n",
       "      <td>서울특별시 중랑구 중화동</td>\n",
       "      <td>현대휴앤미(102동)</td>\n",
       "      <td>77.71</td>\n",
       "      <td>202009</td>\n",
       "      <td>28</td>\n",
       "      <td>40,000</td>\n",
       "      <td>5</td>\n",
       "      <td>2007</td>\n",
       "    </tr>\n",
       "    <tr>\n",
       "      <th>84238</th>\n",
       "      <td>서울특별시 중랑구 중화동</td>\n",
       "      <td>현대휴앤미(102동)</td>\n",
       "      <td>77.71</td>\n",
       "      <td>202009</td>\n",
       "      <td>28</td>\n",
       "      <td>40,000</td>\n",
       "      <td>5</td>\n",
       "      <td>2007</td>\n",
       "    </tr>\n",
       "  </tbody>\n",
       "</table>\n",
       "<p>240921 rows × 8 columns</p>\n",
       "</div>"
      ],
      "text/plain": [
       "                 시군구             단지명  전용면적(㎡)    계약년월  계약일 거래금액(만원)  층  건축년도\n",
       "0      서울특별시 강남구 개포동  개포6차우성아파트1동~8동    79.97  201801    3  130,000  4  1987\n",
       "1      서울특별시 강남구 개포동  개포6차우성아파트1동~8동    79.97  201801    8  117,000  2  1987\n",
       "2      서울특별시 강남구 개포동  개포6차우성아파트1동~8동    79.97  201801   11  130,000  1  1987\n",
       "3      서울특별시 강남구 개포동  개포6차우성아파트1동~8동    79.97  201803   19  139,500  2  1987\n",
       "4      서울특별시 강남구 개포동  개포6차우성아파트1동~8동    54.98  201804    5  107,500  5  1987\n",
       "...              ...             ...      ...     ...  ...      ... ..   ...\n",
       "84234  서울특별시 중랑구 중화동         한영(104)    67.57  202008    7   26,000  2  2003\n",
       "84235  서울특별시 중랑구 중화동           현대휴앤미    95.94  202007   10   44,000  6  2007\n",
       "84236  서울특별시 중랑구 중화동           현대휴앤미   100.17  202012    3   54,800  5  2007\n",
       "84237  서울특별시 중랑구 중화동     현대휴앤미(102동)    77.71  202009   28   40,000  5  2007\n",
       "84238  서울특별시 중랑구 중화동     현대휴앤미(102동)    77.71  202009   28   40,000  5  2007\n",
       "\n",
       "[240921 rows x 8 columns]"
      ]
     },
     "execution_count": 29,
     "metadata": {},
     "output_type": "execute_result"
    }
   ],
   "source": [
    "train_data"
   ]
  },
  {
   "cell_type": "code",
   "execution_count": 30,
   "id": "1f74b143",
   "metadata": {
    "scrolled": true
   },
   "outputs": [
    {
     "data": {
      "text/html": [
       "<div>\n",
       "<style scoped>\n",
       "    .dataframe tbody tr th:only-of-type {\n",
       "        vertical-align: middle;\n",
       "    }\n",
       "\n",
       "    .dataframe tbody tr th {\n",
       "        vertical-align: top;\n",
       "    }\n",
       "\n",
       "    .dataframe thead th {\n",
       "        text-align: right;\n",
       "    }\n",
       "</style>\n",
       "<table border=\"1\" class=\"dataframe\">\n",
       "  <thead>\n",
       "    <tr style=\"text-align: right;\">\n",
       "      <th></th>\n",
       "      <th>시군구</th>\n",
       "      <th>단지명</th>\n",
       "      <th>전용면적(㎡)</th>\n",
       "      <th>계약년월</th>\n",
       "      <th>계약일</th>\n",
       "      <th>거래금액(만원)</th>\n",
       "      <th>층</th>\n",
       "      <th>건축년도</th>\n",
       "    </tr>\n",
       "  </thead>\n",
       "  <tbody>\n",
       "    <tr>\n",
       "      <th>2478</th>\n",
       "      <td>서울특별시 강남구 압구정동</td>\n",
       "      <td>한양6</td>\n",
       "      <td>106.71</td>\n",
       "      <td>201807</td>\n",
       "      <td>26</td>\n",
       "      <td>220,000</td>\n",
       "      <td>9</td>\n",
       "      <td>1980</td>\n",
       "    </tr>\n",
       "    <tr>\n",
       "      <th>2479</th>\n",
       "      <td>서울특별시 강남구 압구정동</td>\n",
       "      <td>한양6</td>\n",
       "      <td>106.71</td>\n",
       "      <td>201807</td>\n",
       "      <td>26</td>\n",
       "      <td>220,000</td>\n",
       "      <td>9</td>\n",
       "      <td>1980</td>\n",
       "    </tr>\n",
       "    <tr>\n",
       "      <th>2480</th>\n",
       "      <td>서울특별시 강남구 압구정동</td>\n",
       "      <td>한양6</td>\n",
       "      <td>106.71</td>\n",
       "      <td>201808</td>\n",
       "      <td>2</td>\n",
       "      <td>224,000</td>\n",
       "      <td>9</td>\n",
       "      <td>1980</td>\n",
       "    </tr>\n",
       "    <tr>\n",
       "      <th>2481</th>\n",
       "      <td>서울특별시 강남구 압구정동</td>\n",
       "      <td>한양6</td>\n",
       "      <td>106.71</td>\n",
       "      <td>201808</td>\n",
       "      <td>2</td>\n",
       "      <td>224,000</td>\n",
       "      <td>9</td>\n",
       "      <td>1980</td>\n",
       "    </tr>\n",
       "    <tr>\n",
       "      <th>3242</th>\n",
       "      <td>서울특별시 강남구 자곡동</td>\n",
       "      <td>래미안강남힐즈</td>\n",
       "      <td>91.96</td>\n",
       "      <td>201801</td>\n",
       "      <td>8</td>\n",
       "      <td>115,000</td>\n",
       "      <td>9</td>\n",
       "      <td>2014</td>\n",
       "    </tr>\n",
       "    <tr>\n",
       "      <th>...</th>\n",
       "      <td>...</td>\n",
       "      <td>...</td>\n",
       "      <td>...</td>\n",
       "      <td>...</td>\n",
       "      <td>...</td>\n",
       "      <td>...</td>\n",
       "      <td>...</td>\n",
       "      <td>...</td>\n",
       "    </tr>\n",
       "    <tr>\n",
       "      <th>84205</th>\n",
       "      <td>서울특별시 중랑구 중화동</td>\n",
       "      <td>한신1차</td>\n",
       "      <td>84.87</td>\n",
       "      <td>202012</td>\n",
       "      <td>9</td>\n",
       "      <td>75,000</td>\n",
       "      <td>3</td>\n",
       "      <td>1997</td>\n",
       "    </tr>\n",
       "    <tr>\n",
       "      <th>84206</th>\n",
       "      <td>서울특별시 중랑구 중화동</td>\n",
       "      <td>한신1차</td>\n",
       "      <td>59.76</td>\n",
       "      <td>202012</td>\n",
       "      <td>11</td>\n",
       "      <td>62,500</td>\n",
       "      <td>19</td>\n",
       "      <td>1997</td>\n",
       "    </tr>\n",
       "    <tr>\n",
       "      <th>84207</th>\n",
       "      <td>서울특별시 중랑구 중화동</td>\n",
       "      <td>한신1차</td>\n",
       "      <td>59.76</td>\n",
       "      <td>202012</td>\n",
       "      <td>11</td>\n",
       "      <td>62,500</td>\n",
       "      <td>19</td>\n",
       "      <td>1997</td>\n",
       "    </tr>\n",
       "    <tr>\n",
       "      <th>84237</th>\n",
       "      <td>서울특별시 중랑구 중화동</td>\n",
       "      <td>현대휴앤미(102동)</td>\n",
       "      <td>77.71</td>\n",
       "      <td>202009</td>\n",
       "      <td>28</td>\n",
       "      <td>40,000</td>\n",
       "      <td>5</td>\n",
       "      <td>2007</td>\n",
       "    </tr>\n",
       "    <tr>\n",
       "      <th>84238</th>\n",
       "      <td>서울특별시 중랑구 중화동</td>\n",
       "      <td>현대휴앤미(102동)</td>\n",
       "      <td>77.71</td>\n",
       "      <td>202009</td>\n",
       "      <td>28</td>\n",
       "      <td>40,000</td>\n",
       "      <td>5</td>\n",
       "      <td>2007</td>\n",
       "    </tr>\n",
       "  </tbody>\n",
       "</table>\n",
       "<p>4958 rows × 8 columns</p>\n",
       "</div>"
      ],
      "text/plain": [
       "                  시군구          단지명  전용면적(㎡)    계약년월  계약일 거래금액(만원)   층  건축년도\n",
       "2478   서울특별시 강남구 압구정동          한양6   106.71  201807   26  220,000   9  1980\n",
       "2479   서울특별시 강남구 압구정동          한양6   106.71  201807   26  220,000   9  1980\n",
       "2480   서울특별시 강남구 압구정동          한양6   106.71  201808    2  224,000   9  1980\n",
       "2481   서울특별시 강남구 압구정동          한양6   106.71  201808    2  224,000   9  1980\n",
       "3242    서울특별시 강남구 자곡동      래미안강남힐즈    91.96  201801    8  115,000   9  2014\n",
       "...               ...          ...      ...     ...  ...      ...  ..   ...\n",
       "84205   서울특별시 중랑구 중화동         한신1차    84.87  202012    9   75,000   3  1997\n",
       "84206   서울특별시 중랑구 중화동         한신1차    59.76  202012   11   62,500  19  1997\n",
       "84207   서울특별시 중랑구 중화동         한신1차    59.76  202012   11   62,500  19  1997\n",
       "84237   서울특별시 중랑구 중화동  현대휴앤미(102동)    77.71  202009   28   40,000   5  2007\n",
       "84238   서울특별시 중랑구 중화동  현대휴앤미(102동)    77.71  202009   28   40,000   5  2007\n",
       "\n",
       "[4958 rows x 8 columns]"
      ]
     },
     "execution_count": 30,
     "metadata": {},
     "output_type": "execute_result"
    }
   ],
   "source": [
    "# 중복값 확인\n",
    "train_data[train_data.duplicated(keep=False)]"
   ]
  },
  {
   "cell_type": "code",
   "execution_count": 31,
   "id": "1842814e",
   "metadata": {},
   "outputs": [],
   "source": [
    "# 중복값 삭제\n",
    "train_data.drop_duplicates(inplace=True)"
   ]
  },
  {
   "cell_type": "code",
   "execution_count": 32,
   "id": "63e949f2",
   "metadata": {
    "scrolled": true
   },
   "outputs": [
    {
     "data": {
      "text/html": [
       "<div>\n",
       "<style scoped>\n",
       "    .dataframe tbody tr th:only-of-type {\n",
       "        vertical-align: middle;\n",
       "    }\n",
       "\n",
       "    .dataframe tbody tr th {\n",
       "        vertical-align: top;\n",
       "    }\n",
       "\n",
       "    .dataframe thead th {\n",
       "        text-align: right;\n",
       "    }\n",
       "</style>\n",
       "<table border=\"1\" class=\"dataframe\">\n",
       "  <thead>\n",
       "    <tr style=\"text-align: right;\">\n",
       "      <th></th>\n",
       "      <th>시군구</th>\n",
       "      <th>단지명</th>\n",
       "      <th>전용면적(㎡)</th>\n",
       "      <th>계약년월</th>\n",
       "      <th>계약일</th>\n",
       "      <th>거래금액(만원)</th>\n",
       "      <th>층</th>\n",
       "      <th>건축년도</th>\n",
       "    </tr>\n",
       "  </thead>\n",
       "  <tbody>\n",
       "    <tr>\n",
       "      <th>0</th>\n",
       "      <td>서울특별시 강남구 개포동</td>\n",
       "      <td>개포6차우성아파트1동~8동</td>\n",
       "      <td>79.97</td>\n",
       "      <td>201801</td>\n",
       "      <td>3</td>\n",
       "      <td>130,000</td>\n",
       "      <td>4</td>\n",
       "      <td>1987</td>\n",
       "    </tr>\n",
       "    <tr>\n",
       "      <th>1</th>\n",
       "      <td>서울특별시 강남구 개포동</td>\n",
       "      <td>개포6차우성아파트1동~8동</td>\n",
       "      <td>79.97</td>\n",
       "      <td>201801</td>\n",
       "      <td>8</td>\n",
       "      <td>117,000</td>\n",
       "      <td>2</td>\n",
       "      <td>1987</td>\n",
       "    </tr>\n",
       "    <tr>\n",
       "      <th>2</th>\n",
       "      <td>서울특별시 강남구 개포동</td>\n",
       "      <td>개포6차우성아파트1동~8동</td>\n",
       "      <td>79.97</td>\n",
       "      <td>201801</td>\n",
       "      <td>11</td>\n",
       "      <td>130,000</td>\n",
       "      <td>1</td>\n",
       "      <td>1987</td>\n",
       "    </tr>\n",
       "    <tr>\n",
       "      <th>3</th>\n",
       "      <td>서울특별시 강남구 개포동</td>\n",
       "      <td>개포6차우성아파트1동~8동</td>\n",
       "      <td>79.97</td>\n",
       "      <td>201803</td>\n",
       "      <td>19</td>\n",
       "      <td>139,500</td>\n",
       "      <td>2</td>\n",
       "      <td>1987</td>\n",
       "    </tr>\n",
       "    <tr>\n",
       "      <th>4</th>\n",
       "      <td>서울특별시 강남구 개포동</td>\n",
       "      <td>개포6차우성아파트1동~8동</td>\n",
       "      <td>54.98</td>\n",
       "      <td>201804</td>\n",
       "      <td>5</td>\n",
       "      <td>107,500</td>\n",
       "      <td>5</td>\n",
       "      <td>1987</td>\n",
       "    </tr>\n",
       "    <tr>\n",
       "      <th>...</th>\n",
       "      <td>...</td>\n",
       "      <td>...</td>\n",
       "      <td>...</td>\n",
       "      <td>...</td>\n",
       "      <td>...</td>\n",
       "      <td>...</td>\n",
       "      <td>...</td>\n",
       "      <td>...</td>\n",
       "    </tr>\n",
       "    <tr>\n",
       "      <th>84233</th>\n",
       "      <td>서울특별시 중랑구 중화동</td>\n",
       "      <td>한영(104)</td>\n",
       "      <td>106.21</td>\n",
       "      <td>202003</td>\n",
       "      <td>11</td>\n",
       "      <td>45,400</td>\n",
       "      <td>6</td>\n",
       "      <td>2003</td>\n",
       "    </tr>\n",
       "    <tr>\n",
       "      <th>84234</th>\n",
       "      <td>서울특별시 중랑구 중화동</td>\n",
       "      <td>한영(104)</td>\n",
       "      <td>67.57</td>\n",
       "      <td>202008</td>\n",
       "      <td>7</td>\n",
       "      <td>26,000</td>\n",
       "      <td>2</td>\n",
       "      <td>2003</td>\n",
       "    </tr>\n",
       "    <tr>\n",
       "      <th>84235</th>\n",
       "      <td>서울특별시 중랑구 중화동</td>\n",
       "      <td>현대휴앤미</td>\n",
       "      <td>95.94</td>\n",
       "      <td>202007</td>\n",
       "      <td>10</td>\n",
       "      <td>44,000</td>\n",
       "      <td>6</td>\n",
       "      <td>2007</td>\n",
       "    </tr>\n",
       "    <tr>\n",
       "      <th>84236</th>\n",
       "      <td>서울특별시 중랑구 중화동</td>\n",
       "      <td>현대휴앤미</td>\n",
       "      <td>100.17</td>\n",
       "      <td>202012</td>\n",
       "      <td>3</td>\n",
       "      <td>54,800</td>\n",
       "      <td>5</td>\n",
       "      <td>2007</td>\n",
       "    </tr>\n",
       "    <tr>\n",
       "      <th>84237</th>\n",
       "      <td>서울특별시 중랑구 중화동</td>\n",
       "      <td>현대휴앤미(102동)</td>\n",
       "      <td>77.71</td>\n",
       "      <td>202009</td>\n",
       "      <td>28</td>\n",
       "      <td>40,000</td>\n",
       "      <td>5</td>\n",
       "      <td>2007</td>\n",
       "    </tr>\n",
       "  </tbody>\n",
       "</table>\n",
       "<p>238182 rows × 8 columns</p>\n",
       "</div>"
      ],
      "text/plain": [
       "                 시군구             단지명  전용면적(㎡)    계약년월  계약일 거래금액(만원)  층  건축년도\n",
       "0      서울특별시 강남구 개포동  개포6차우성아파트1동~8동    79.97  201801    3  130,000  4  1987\n",
       "1      서울특별시 강남구 개포동  개포6차우성아파트1동~8동    79.97  201801    8  117,000  2  1987\n",
       "2      서울특별시 강남구 개포동  개포6차우성아파트1동~8동    79.97  201801   11  130,000  1  1987\n",
       "3      서울특별시 강남구 개포동  개포6차우성아파트1동~8동    79.97  201803   19  139,500  2  1987\n",
       "4      서울특별시 강남구 개포동  개포6차우성아파트1동~8동    54.98  201804    5  107,500  5  1987\n",
       "...              ...             ...      ...     ...  ...      ... ..   ...\n",
       "84233  서울특별시 중랑구 중화동         한영(104)   106.21  202003   11   45,400  6  2003\n",
       "84234  서울특별시 중랑구 중화동         한영(104)    67.57  202008    7   26,000  2  2003\n",
       "84235  서울특별시 중랑구 중화동           현대휴앤미    95.94  202007   10   44,000  6  2007\n",
       "84236  서울특별시 중랑구 중화동           현대휴앤미   100.17  202012    3   54,800  5  2007\n",
       "84237  서울특별시 중랑구 중화동     현대휴앤미(102동)    77.71  202009   28   40,000  5  2007\n",
       "\n",
       "[238182 rows x 8 columns]"
      ]
     },
     "execution_count": 32,
     "metadata": {},
     "output_type": "execute_result"
    }
   ],
   "source": [
    "train_data"
   ]
  },
  {
   "cell_type": "markdown",
   "id": "31dba5b8",
   "metadata": {},
   "source": [
    "### 거래금액 컬럼\n",
    "- 컬럼명 변경, 숫자형으로 변경\n",
    "- 거래금액/전용면적"
   ]
  },
  {
   "cell_type": "code",
   "execution_count": 33,
   "id": "4f694e6a",
   "metadata": {},
   "outputs": [],
   "source": [
    "#### 전처리\n",
    "## 거래금액\n",
    "# 거래금액 데이터 컬럼명 변경\n",
    "train_data.rename(columns = {'거래금액(만원)':'거래금액'}, inplace=True)\n",
    "\n",
    "# 거래금액 , 제거 후 숫자형 변환\n",
    "train_data['거래금액'] = train_data['거래금액'].str.replace(',','').astype(int)"
   ]
  },
  {
   "cell_type": "code",
   "execution_count": 34,
   "id": "634b1cad",
   "metadata": {},
   "outputs": [
    {
     "name": "stderr",
     "output_type": "stream",
     "text": [
      "C:\\ProgramData\\Anaconda3\\lib\\site-packages\\seaborn\\distributions.py:2557: FutureWarning:\n",
      "\n",
      "`distplot` is a deprecated function and will be removed in a future version. Please adapt your code to use either `displot` (a figure-level function with similar flexibility) or `histplot` (an axes-level function for histograms).\n",
      "\n"
     ]
    },
    {
     "data": {
      "text/plain": [
       "<AxesSubplot:xlabel='거래금액', ylabel='Density'>"
      ]
     },
     "execution_count": 34,
     "metadata": {},
     "output_type": "execute_result"
    },
    {
     "name": "stderr",
     "output_type": "stream",
     "text": [
      "C:\\ProgramData\\Anaconda3\\lib\\site-packages\\matplotlib\\backends\\backend_agg.py:238: RuntimeWarning:\n",
      "\n",
      "Glyph 8722 missing from current font.\n",
      "\n",
      "C:\\ProgramData\\Anaconda3\\lib\\site-packages\\matplotlib\\backends\\backend_agg.py:201: RuntimeWarning:\n",
      "\n",
      "Glyph 8722 missing from current font.\n",
      "\n"
     ]
    },
    {
     "data": {
      "image/png": "[encoded data removed]",
      "text/plain": [
       "<Figure size 720x432 with 1 Axes>"
      ]
     },
     "metadata": {
      "needs_background": "light"
     },
     "output_type": "display_data"
    }
   ],
   "source": [
    "# 거래 가격 분포 확인\n",
    "f, ax = plt.subplots(figsize = (10, 6)) \n",
    "sns.distplot(train_data[\"거래금액\"])"
   ]
  },
  {
   "cell_type": "markdown",
   "id": "839f8bc8",
   "metadata": {},
   "source": [
    "### 제곱미터 단가"
   ]
  },
  {
   "cell_type": "code",
   "execution_count": 35,
   "id": "d1cef5dd",
   "metadata": {},
   "outputs": [],
   "source": [
    "train_data.rename(columns = {'전용면적(㎡)':'전용면적'}, inplace=True)"
   ]
  },
  {
   "cell_type": "code",
   "execution_count": 36,
   "id": "7b36ec43",
   "metadata": {},
   "outputs": [
    {
     "data": {
      "text/html": [
       "<div>\n",
       "<style scoped>\n",
       "    .dataframe tbody tr th:only-of-type {\n",
       "        vertical-align: middle;\n",
       "    }\n",
       "\n",
       "    .dataframe tbody tr th {\n",
       "        vertical-align: top;\n",
       "    }\n",
       "\n",
       "    .dataframe thead th {\n",
       "        text-align: right;\n",
       "    }\n",
       "</style>\n",
       "<table border=\"1\" class=\"dataframe\">\n",
       "  <thead>\n",
       "    <tr style=\"text-align: right;\">\n",
       "      <th></th>\n",
       "      <th>시군구</th>\n",
       "      <th>단지명</th>\n",
       "      <th>전용면적</th>\n",
       "      <th>계약년월</th>\n",
       "      <th>계약일</th>\n",
       "      <th>거래금액</th>\n",
       "      <th>층</th>\n",
       "      <th>건축년도</th>\n",
       "      <th>제곱미터단가</th>\n",
       "      <th>평당단가</th>\n",
       "    </tr>\n",
       "  </thead>\n",
       "  <tbody>\n",
       "    <tr>\n",
       "      <th>0</th>\n",
       "      <td>서울특별시 강남구 개포동</td>\n",
       "      <td>개포6차우성아파트1동~8동</td>\n",
       "      <td>79.97</td>\n",
       "      <td>201801</td>\n",
       "      <td>3</td>\n",
       "      <td>130000</td>\n",
       "      <td>4</td>\n",
       "      <td>1987</td>\n",
       "      <td>1625.609604</td>\n",
       "      <td>5364.511692</td>\n",
       "    </tr>\n",
       "    <tr>\n",
       "      <th>1</th>\n",
       "      <td>서울특별시 강남구 개포동</td>\n",
       "      <td>개포6차우성아파트1동~8동</td>\n",
       "      <td>79.97</td>\n",
       "      <td>201801</td>\n",
       "      <td>8</td>\n",
       "      <td>117000</td>\n",
       "      <td>2</td>\n",
       "      <td>1987</td>\n",
       "      <td>1463.048643</td>\n",
       "      <td>4828.060523</td>\n",
       "    </tr>\n",
       "    <tr>\n",
       "      <th>2</th>\n",
       "      <td>서울특별시 강남구 개포동</td>\n",
       "      <td>개포6차우성아파트1동~8동</td>\n",
       "      <td>79.97</td>\n",
       "      <td>201801</td>\n",
       "      <td>11</td>\n",
       "      <td>130000</td>\n",
       "      <td>1</td>\n",
       "      <td>1987</td>\n",
       "      <td>1625.609604</td>\n",
       "      <td>5364.511692</td>\n",
       "    </tr>\n",
       "    <tr>\n",
       "      <th>3</th>\n",
       "      <td>서울특별시 강남구 개포동</td>\n",
       "      <td>개포6차우성아파트1동~8동</td>\n",
       "      <td>79.97</td>\n",
       "      <td>201803</td>\n",
       "      <td>19</td>\n",
       "      <td>139500</td>\n",
       "      <td>2</td>\n",
       "      <td>1987</td>\n",
       "      <td>1744.404152</td>\n",
       "      <td>5756.533700</td>\n",
       "    </tr>\n",
       "    <tr>\n",
       "      <th>4</th>\n",
       "      <td>서울특별시 강남구 개포동</td>\n",
       "      <td>개포6차우성아파트1동~8동</td>\n",
       "      <td>54.98</td>\n",
       "      <td>201804</td>\n",
       "      <td>5</td>\n",
       "      <td>107500</td>\n",
       "      <td>5</td>\n",
       "      <td>1987</td>\n",
       "      <td>1955.256457</td>\n",
       "      <td>6452.346308</td>\n",
       "    </tr>\n",
       "    <tr>\n",
       "      <th>...</th>\n",
       "      <td>...</td>\n",
       "      <td>...</td>\n",
       "      <td>...</td>\n",
       "      <td>...</td>\n",
       "      <td>...</td>\n",
       "      <td>...</td>\n",
       "      <td>...</td>\n",
       "      <td>...</td>\n",
       "      <td>...</td>\n",
       "      <td>...</td>\n",
       "    </tr>\n",
       "    <tr>\n",
       "      <th>84233</th>\n",
       "      <td>서울특별시 중랑구 중화동</td>\n",
       "      <td>한영(104)</td>\n",
       "      <td>106.21</td>\n",
       "      <td>202003</td>\n",
       "      <td>11</td>\n",
       "      <td>45400</td>\n",
       "      <td>6</td>\n",
       "      <td>2003</td>\n",
       "      <td>427.455042</td>\n",
       "      <td>1410.601638</td>\n",
       "    </tr>\n",
       "    <tr>\n",
       "      <th>84234</th>\n",
       "      <td>서울특별시 중랑구 중화동</td>\n",
       "      <td>한영(104)</td>\n",
       "      <td>67.57</td>\n",
       "      <td>202008</td>\n",
       "      <td>7</td>\n",
       "      <td>26000</td>\n",
       "      <td>2</td>\n",
       "      <td>2003</td>\n",
       "      <td>384.786148</td>\n",
       "      <td>1269.794287</td>\n",
       "    </tr>\n",
       "    <tr>\n",
       "      <th>84235</th>\n",
       "      <td>서울특별시 중랑구 중화동</td>\n",
       "      <td>현대휴앤미</td>\n",
       "      <td>95.94</td>\n",
       "      <td>202007</td>\n",
       "      <td>10</td>\n",
       "      <td>44000</td>\n",
       "      <td>6</td>\n",
       "      <td>2007</td>\n",
       "      <td>458.619971</td>\n",
       "      <td>1513.445904</td>\n",
       "    </tr>\n",
       "    <tr>\n",
       "      <th>84236</th>\n",
       "      <td>서울특별시 중랑구 중화동</td>\n",
       "      <td>현대휴앤미</td>\n",
       "      <td>100.17</td>\n",
       "      <td>202012</td>\n",
       "      <td>3</td>\n",
       "      <td>54800</td>\n",
       "      <td>5</td>\n",
       "      <td>2007</td>\n",
       "      <td>547.069981</td>\n",
       "      <td>1805.330937</td>\n",
       "    </tr>\n",
       "    <tr>\n",
       "      <th>84237</th>\n",
       "      <td>서울특별시 중랑구 중화동</td>\n",
       "      <td>현대휴앤미(102동)</td>\n",
       "      <td>77.71</td>\n",
       "      <td>202009</td>\n",
       "      <td>28</td>\n",
       "      <td>40000</td>\n",
       "      <td>5</td>\n",
       "      <td>2007</td>\n",
       "      <td>514.734268</td>\n",
       "      <td>1698.623086</td>\n",
       "    </tr>\n",
       "  </tbody>\n",
       "</table>\n",
       "<p>238182 rows × 10 columns</p>\n",
       "</div>"
      ],
      "text/plain": [
       "                 시군구             단지명    전용면적    계약년월  계약일    거래금액  층  건축년도  \\\n",
       "0      서울특별시 강남구 개포동  개포6차우성아파트1동~8동   79.97  201801    3  130000  4  1987   \n",
       "1      서울특별시 강남구 개포동  개포6차우성아파트1동~8동   79.97  201801    8  117000  2  1987   \n",
       "2      서울특별시 강남구 개포동  개포6차우성아파트1동~8동   79.97  201801   11  130000  1  1987   \n",
       "3      서울특별시 강남구 개포동  개포6차우성아파트1동~8동   79.97  201803   19  139500  2  1987   \n",
       "4      서울특별시 강남구 개포동  개포6차우성아파트1동~8동   54.98  201804    5  107500  5  1987   \n",
       "...              ...             ...     ...     ...  ...     ... ..   ...   \n",
       "84233  서울특별시 중랑구 중화동         한영(104)  106.21  202003   11   45400  6  2003   \n",
       "84234  서울특별시 중랑구 중화동         한영(104)   67.57  202008    7   26000  2  2003   \n",
       "84235  서울특별시 중랑구 중화동           현대휴앤미   95.94  202007   10   44000  6  2007   \n",
       "84236  서울특별시 중랑구 중화동           현대휴앤미  100.17  202012    3   54800  5  2007   \n",
       "84237  서울특별시 중랑구 중화동     현대휴앤미(102동)   77.71  202009   28   40000  5  2007   \n",
       "\n",
       "            제곱미터단가         평당단가  \n",
       "0      1625.609604  5364.511692  \n",
       "1      1463.048643  4828.060523  \n",
       "2      1625.609604  5364.511692  \n",
       "3      1744.404152  5756.533700  \n",
       "4      1955.256457  6452.346308  \n",
       "...            ...          ...  \n",
       "84233   427.455042  1410.601638  \n",
       "84234   384.786148  1269.794287  \n",
       "84235   458.619971  1513.445904  \n",
       "84236   547.069981  1805.330937  \n",
       "84237   514.734268  1698.623086  \n",
       "\n",
       "[238182 rows x 10 columns]"
      ]
     },
     "execution_count": 36,
     "metadata": {},
     "output_type": "execute_result"
    }
   ],
   "source": [
    "# 거래금액을 전용면적으로 나누기 -> 면적당 금액\n",
    "train_data['제곱미터단가']= train_data['거래금액']/train_data['전용면적']\n",
    "train_data['평당단가']= train_data['제곱미터단가']*3.3\n",
    "train_data"
   ]
  },
  {
   "cell_type": "code",
   "execution_count": 37,
   "id": "e4e6f3da",
   "metadata": {
    "scrolled": false
   },
   "outputs": [
    {
     "name": "stderr",
     "output_type": "stream",
     "text": [
      "C:\\ProgramData\\Anaconda3\\lib\\site-packages\\seaborn\\distributions.py:2557: FutureWarning:\n",
      "\n",
      "`distplot` is a deprecated function and will be removed in a future version. Please adapt your code to use either `displot` (a figure-level function with similar flexibility) or `histplot` (an axes-level function for histograms).\n",
      "\n"
     ]
    },
    {
     "data": {
      "text/plain": [
       "<AxesSubplot:xlabel='제곱미터단가', ylabel='Density'>"
      ]
     },
     "execution_count": 37,
     "metadata": {},
     "output_type": "execute_result"
    },
    {
     "data": {
      "image/png": "[encoded data removed]",
      "text/plain": [
       "<Figure size 720x432 with 1 Axes>"
      ]
     },
     "metadata": {
      "needs_background": "light"
     },
     "output_type": "display_data"
    }
   ],
   "source": [
    "# 거래 가격 분포 확인\n",
    "f, ax = plt.subplots(figsize = (10, 6)) \n",
    "sns.distplot(train_data[\"평당단가\"])"
   ]
  },
  {
   "cell_type": "markdown",
   "id": "8dff826c",
   "metadata": {},
   "source": [
    "### 시군구 컬럼\n",
    "- 시, 구, 동으로 분리\n",
    "- 인코딩"
   ]
  },
  {
   "cell_type": "code",
   "execution_count": 38,
   "id": "7ea35ca0",
   "metadata": {},
   "outputs": [
    {
     "data": {
      "text/html": [
       "<div>\n",
       "<style scoped>\n",
       "    .dataframe tbody tr th:only-of-type {\n",
       "        vertical-align: middle;\n",
       "    }\n",
       "\n",
       "    .dataframe tbody tr th {\n",
       "        vertical-align: top;\n",
       "    }\n",
       "\n",
       "    .dataframe thead th {\n",
       "        text-align: right;\n",
       "    }\n",
       "</style>\n",
       "<table border=\"1\" class=\"dataframe\">\n",
       "  <thead>\n",
       "    <tr style=\"text-align: right;\">\n",
       "      <th></th>\n",
       "      <th>시군구</th>\n",
       "      <th>단지명</th>\n",
       "      <th>전용면적</th>\n",
       "      <th>계약년월</th>\n",
       "      <th>계약일</th>\n",
       "      <th>거래금액</th>\n",
       "      <th>층</th>\n",
       "      <th>건축년도</th>\n",
       "      <th>제곱미터단가</th>\n",
       "      <th>평당단가</th>\n",
       "      <th>시</th>\n",
       "      <th>구</th>\n",
       "      <th>동</th>\n",
       "    </tr>\n",
       "  </thead>\n",
       "  <tbody>\n",
       "    <tr>\n",
       "      <th>0</th>\n",
       "      <td>서울특별시 강남구 개포동</td>\n",
       "      <td>개포6차우성아파트1동~8동</td>\n",
       "      <td>79.97</td>\n",
       "      <td>201801</td>\n",
       "      <td>3</td>\n",
       "      <td>130000</td>\n",
       "      <td>4</td>\n",
       "      <td>1987</td>\n",
       "      <td>1625.609604</td>\n",
       "      <td>5364.511692</td>\n",
       "      <td>서울특별시</td>\n",
       "      <td>강남구</td>\n",
       "      <td>개포동</td>\n",
       "    </tr>\n",
       "    <tr>\n",
       "      <th>1</th>\n",
       "      <td>서울특별시 강남구 개포동</td>\n",
       "      <td>개포6차우성아파트1동~8동</td>\n",
       "      <td>79.97</td>\n",
       "      <td>201801</td>\n",
       "      <td>8</td>\n",
       "      <td>117000</td>\n",
       "      <td>2</td>\n",
       "      <td>1987</td>\n",
       "      <td>1463.048643</td>\n",
       "      <td>4828.060523</td>\n",
       "      <td>서울특별시</td>\n",
       "      <td>강남구</td>\n",
       "      <td>개포동</td>\n",
       "    </tr>\n",
       "    <tr>\n",
       "      <th>2</th>\n",
       "      <td>서울특별시 강남구 개포동</td>\n",
       "      <td>개포6차우성아파트1동~8동</td>\n",
       "      <td>79.97</td>\n",
       "      <td>201801</td>\n",
       "      <td>11</td>\n",
       "      <td>130000</td>\n",
       "      <td>1</td>\n",
       "      <td>1987</td>\n",
       "      <td>1625.609604</td>\n",
       "      <td>5364.511692</td>\n",
       "      <td>서울특별시</td>\n",
       "      <td>강남구</td>\n",
       "      <td>개포동</td>\n",
       "    </tr>\n",
       "    <tr>\n",
       "      <th>3</th>\n",
       "      <td>서울특별시 강남구 개포동</td>\n",
       "      <td>개포6차우성아파트1동~8동</td>\n",
       "      <td>79.97</td>\n",
       "      <td>201803</td>\n",
       "      <td>19</td>\n",
       "      <td>139500</td>\n",
       "      <td>2</td>\n",
       "      <td>1987</td>\n",
       "      <td>1744.404152</td>\n",
       "      <td>5756.533700</td>\n",
       "      <td>서울특별시</td>\n",
       "      <td>강남구</td>\n",
       "      <td>개포동</td>\n",
       "    </tr>\n",
       "    <tr>\n",
       "      <th>4</th>\n",
       "      <td>서울특별시 강남구 개포동</td>\n",
       "      <td>개포6차우성아파트1동~8동</td>\n",
       "      <td>54.98</td>\n",
       "      <td>201804</td>\n",
       "      <td>5</td>\n",
       "      <td>107500</td>\n",
       "      <td>5</td>\n",
       "      <td>1987</td>\n",
       "      <td>1955.256457</td>\n",
       "      <td>6452.346308</td>\n",
       "      <td>서울특별시</td>\n",
       "      <td>강남구</td>\n",
       "      <td>개포동</td>\n",
       "    </tr>\n",
       "    <tr>\n",
       "      <th>...</th>\n",
       "      <td>...</td>\n",
       "      <td>...</td>\n",
       "      <td>...</td>\n",
       "      <td>...</td>\n",
       "      <td>...</td>\n",
       "      <td>...</td>\n",
       "      <td>...</td>\n",
       "      <td>...</td>\n",
       "      <td>...</td>\n",
       "      <td>...</td>\n",
       "      <td>...</td>\n",
       "      <td>...</td>\n",
       "      <td>...</td>\n",
       "    </tr>\n",
       "    <tr>\n",
       "      <th>84233</th>\n",
       "      <td>서울특별시 중랑구 중화동</td>\n",
       "      <td>한영(104)</td>\n",
       "      <td>106.21</td>\n",
       "      <td>202003</td>\n",
       "      <td>11</td>\n",
       "      <td>45400</td>\n",
       "      <td>6</td>\n",
       "      <td>2003</td>\n",
       "      <td>427.455042</td>\n",
       "      <td>1410.601638</td>\n",
       "      <td>서울특별시</td>\n",
       "      <td>중랑구</td>\n",
       "      <td>중화동</td>\n",
       "    </tr>\n",
       "    <tr>\n",
       "      <th>84234</th>\n",
       "      <td>서울특별시 중랑구 중화동</td>\n",
       "      <td>한영(104)</td>\n",
       "      <td>67.57</td>\n",
       "      <td>202008</td>\n",
       "      <td>7</td>\n",
       "      <td>26000</td>\n",
       "      <td>2</td>\n",
       "      <td>2003</td>\n",
       "      <td>384.786148</td>\n",
       "      <td>1269.794287</td>\n",
       "      <td>서울특별시</td>\n",
       "      <td>중랑구</td>\n",
       "      <td>중화동</td>\n",
       "    </tr>\n",
       "    <tr>\n",
       "      <th>84235</th>\n",
       "      <td>서울특별시 중랑구 중화동</td>\n",
       "      <td>현대휴앤미</td>\n",
       "      <td>95.94</td>\n",
       "      <td>202007</td>\n",
       "      <td>10</td>\n",
       "      <td>44000</td>\n",
       "      <td>6</td>\n",
       "      <td>2007</td>\n",
       "      <td>458.619971</td>\n",
       "      <td>1513.445904</td>\n",
       "      <td>서울특별시</td>\n",
       "      <td>중랑구</td>\n",
       "      <td>중화동</td>\n",
       "    </tr>\n",
       "    <tr>\n",
       "      <th>84236</th>\n",
       "      <td>서울특별시 중랑구 중화동</td>\n",
       "      <td>현대휴앤미</td>\n",
       "      <td>100.17</td>\n",
       "      <td>202012</td>\n",
       "      <td>3</td>\n",
       "      <td>54800</td>\n",
       "      <td>5</td>\n",
       "      <td>2007</td>\n",
       "      <td>547.069981</td>\n",
       "      <td>1805.330937</td>\n",
       "      <td>서울특별시</td>\n",
       "      <td>중랑구</td>\n",
       "      <td>중화동</td>\n",
       "    </tr>\n",
       "    <tr>\n",
       "      <th>84237</th>\n",
       "      <td>서울특별시 중랑구 중화동</td>\n",
       "      <td>현대휴앤미(102동)</td>\n",
       "      <td>77.71</td>\n",
       "      <td>202009</td>\n",
       "      <td>28</td>\n",
       "      <td>40000</td>\n",
       "      <td>5</td>\n",
       "      <td>2007</td>\n",
       "      <td>514.734268</td>\n",
       "      <td>1698.623086</td>\n",
       "      <td>서울특별시</td>\n",
       "      <td>중랑구</td>\n",
       "      <td>중화동</td>\n",
       "    </tr>\n",
       "  </tbody>\n",
       "</table>\n",
       "<p>238182 rows × 13 columns</p>\n",
       "</div>"
      ],
      "text/plain": [
       "                 시군구             단지명    전용면적    계약년월  계약일    거래금액  층  건축년도  \\\n",
       "0      서울특별시 강남구 개포동  개포6차우성아파트1동~8동   79.97  201801    3  130000  4  1987   \n",
       "1      서울특별시 강남구 개포동  개포6차우성아파트1동~8동   79.97  201801    8  117000  2  1987   \n",
       "2      서울특별시 강남구 개포동  개포6차우성아파트1동~8동   79.97  201801   11  130000  1  1987   \n",
       "3      서울특별시 강남구 개포동  개포6차우성아파트1동~8동   79.97  201803   19  139500  2  1987   \n",
       "4      서울특별시 강남구 개포동  개포6차우성아파트1동~8동   54.98  201804    5  107500  5  1987   \n",
       "...              ...             ...     ...     ...  ...     ... ..   ...   \n",
       "84233  서울특별시 중랑구 중화동         한영(104)  106.21  202003   11   45400  6  2003   \n",
       "84234  서울특별시 중랑구 중화동         한영(104)   67.57  202008    7   26000  2  2003   \n",
       "84235  서울특별시 중랑구 중화동           현대휴앤미   95.94  202007   10   44000  6  2007   \n",
       "84236  서울특별시 중랑구 중화동           현대휴앤미  100.17  202012    3   54800  5  2007   \n",
       "84237  서울특별시 중랑구 중화동     현대휴앤미(102동)   77.71  202009   28   40000  5  2007   \n",
       "\n",
       "            제곱미터단가         평당단가      시    구    동  \n",
       "0      1625.609604  5364.511692  서울특별시  강남구  개포동  \n",
       "1      1463.048643  4828.060523  서울특별시  강남구  개포동  \n",
       "2      1625.609604  5364.511692  서울특별시  강남구  개포동  \n",
       "3      1744.404152  5756.533700  서울특별시  강남구  개포동  \n",
       "4      1955.256457  6452.346308  서울특별시  강남구  개포동  \n",
       "...            ...          ...    ...  ...  ...  \n",
       "84233   427.455042  1410.601638  서울특별시  중랑구  중화동  \n",
       "84234   384.786148  1269.794287  서울특별시  중랑구  중화동  \n",
       "84235   458.619971  1513.445904  서울특별시  중랑구  중화동  \n",
       "84236   547.069981  1805.330937  서울특별시  중랑구  중화동  \n",
       "84237   514.734268  1698.623086  서울특별시  중랑구  중화동  \n",
       "\n",
       "[238182 rows x 13 columns]"
      ]
     },
     "execution_count": 38,
     "metadata": {},
     "output_type": "execute_result"
    }
   ],
   "source": [
    "region_split = train_data['시군구'].str.split(' ', expand=True)\n",
    "region_split.columns = ['시', '구', '동']\n",
    "\n",
    "train_data = pd.concat([train_data, region_split], axis=1)\n",
    "train_data"
   ]
  },
  {
   "cell_type": "code",
   "execution_count": 39,
   "id": "54c67be2",
   "metadata": {},
   "outputs": [
    {
     "data": {
      "text/plain": [
       "구\n",
       "강남구     11849\n",
       "강동구     12052\n",
       "강북구      5485\n",
       "강서구     14659\n",
       "관악구      7805\n",
       "광진구      4423\n",
       "구로구     12977\n",
       "금천구      4552\n",
       "노원구     24724\n",
       "도봉구     11356\n",
       "동대문구     8889\n",
       "동작구      8262\n",
       "마포구      8608\n",
       "서대문구     8006\n",
       "서초구      9542\n",
       "성동구      9019\n",
       "성북구     12996\n",
       "송파구     14929\n",
       "양천구     11170\n",
       "영등포구     9785\n",
       "용산구      4706\n",
       "은평구      9067\n",
       "종로구      2092\n",
       "중구       3275\n",
       "중랑구      7954\n",
       "Name: 거래금액, dtype: int64"
      ]
     },
     "execution_count": 39,
     "metadata": {},
     "output_type": "execute_result"
    }
   ],
   "source": [
    "# 구별 거래 횟수\n",
    "train_data.groupby('구').count()['거래금액']"
   ]
  },
  {
   "cell_type": "code",
   "execution_count": 40,
   "id": "f98eeacf",
   "metadata": {},
   "outputs": [
    {
     "data": {
      "text/plain": [
       "구\n",
       "강남구     172389.832982\n",
       "서초구     162562.396143\n",
       "용산구     144753.982788\n",
       "송파구     116834.927189\n",
       "성동구      98045.302805\n",
       "광진구      92582.478861\n",
       "마포구      90321.685525\n",
       "동작구      84743.921206\n",
       "중구       79739.880611\n",
       "양천구      79507.519785\n",
       "영등포구     78298.655902\n",
       "종로구      75092.054015\n",
       "강동구      74854.759625\n",
       "서대문구     67934.167874\n",
       "강서구      60731.687359\n",
       "동대문구     60424.357521\n",
       "성북구      58470.971761\n",
       "은평구      54875.648395\n",
       "관악구      54058.405125\n",
       "구로구      49741.599908\n",
       "강북구      48765.654512\n",
       "노원구      45296.524834\n",
       "중랑구      45132.519236\n",
       "금천구      43475.700571\n",
       "도봉구      40920.243748\n",
       "Name: 거래금액, dtype: float64"
      ]
     },
     "execution_count": 40,
     "metadata": {},
     "output_type": "execute_result"
    }
   ],
   "source": [
    "# 구별 거래 금액\n",
    "train_data.groupby('구').mean().sort_values('거래금액', ascending=False)['거래금액']"
   ]
  },
  {
   "cell_type": "code",
   "execution_count": 41,
   "id": "b732dd03",
   "metadata": {},
   "outputs": [
    {
     "data": {
      "application/vnd.plotly.v1+json": {
       "config": {
        "plotlyServerURL": "https://plot.ly"
       },
       "data": [
        {
         "type": "bar",
         "x": [
          "노원구",
          "송파구",
          "강서구",
          "성북구",
          "구로구",
          "강동구",
          "강남구",
          "도봉구",
          "양천구",
          "영등포구",
          "서초구",
          "은평구",
          "성동구",
          "동대문구",
          "마포구",
          "동작구",
          "서대문구",
          "중랑구",
          "관악구",
          "강북구",
          "용산구",
          "금천구",
          "광진구",
          "중구",
          "종로구"
         ],
         "y": [
          24724,
          14929,
          14659,
          12996,
          12977,
          12052,
          11849,
          11356,
          11170,
          9785,
          9542,
          9067,
          9019,
          8889,
          8608,
          8262,
          8006,
          7954,
          7805,
          5485,
          4706,
          4552,
          4423,
          3275,
          2092
         ]
        }
       ],
       "layout": {
        "autosize": false,
        "height": 1000,
        "template": {
         "data": {
          "bar": [
           {
            "error_x": {
             "color": "#2a3f5f"
            },
            "error_y": {
             "color": "#2a3f5f"
            },
            "marker": {
             "line": {
              "color": "#E5ECF6",
              "width": 0.5
             },
             "pattern": {
              "fillmode": "overlay",
              "size": 10,
              "solidity": 0.2
             }
            },
            "type": "bar"
           }
          ],
          "barpolar": [
           {
            "marker": {
             "line": {
              "color": "#E5ECF6",
              "width": 0.5
             },
             "pattern": {
              "fillmode": "overlay",
              "size": 10,
              "solidity": 0.2
             }
            },
            "type": "barpolar"
           }
          ],
          "carpet": [
           {
            "aaxis": {
             "endlinecolor": "#2a3f5f",
             "gridcolor": "white",
             "linecolor": "white",
             "minorgridcolor": "white",
             "startlinecolor": "#2a3f5f"
            },
            "baxis": {
             "endlinecolor": "#2a3f5f",
             "gridcolor": "white",
             "linecolor": "white",
             "minorgridcolor": "white",
             "startlinecolor": "#2a3f5f"
            },
            "type": "carpet"
           }
          ],
          "choropleth": [
           {
            "colorbar": {
             "outlinewidth": 0,
             "ticks": ""
            },
            "type": "choropleth"
           }
          ],
          "contour": [
           {
            "colorbar": {
             "outlinewidth": 0,
             "ticks": ""
            },
            "colorscale": [
             [
              0,
              "#0d0887"
             ],
             [
              0.1111111111111111,
              "#46039f"
             ],
             [
              0.2222222222222222,
              "#7201a8"
             ],
             [
              0.3333333333333333,
              "#9c179e"
             ],
             [
              0.4444444444444444,
              "#bd3786"
             ],
             [
              0.5555555555555556,
              "#d8576b"
             ],
             [
              0.6666666666666666,
              "#ed7953"
             ],
             [
              0.7777777777777778,
              "#fb9f3a"
             ],
             [
              0.8888888888888888,
              "#fdca26"
             ],
             [
              1,
              "#f0f921"
             ]
            ],
            "type": "contour"
           }
          ],
          "contourcarpet": [
           {
            "colorbar": {
             "outlinewidth": 0,
             "ticks": ""
            },
            "type": "contourcarpet"
           }
          ],
          "heatmap": [
           {
            "colorbar": {
             "outlinewidth": 0,
             "ticks": ""
            },
            "colorscale": [
             [
              0,
              "#0d0887"
             ],
             [
              0.1111111111111111,
              "#46039f"
             ],
             [
              0.2222222222222222,
              "#7201a8"
             ],
             [
              0.3333333333333333,
              "#9c179e"
             ],
             [
              0.4444444444444444,
              "#bd3786"
             ],
             [
              0.5555555555555556,
              "#d8576b"
             ],
             [
              0.6666666666666666,
              "#ed7953"
             ],
             [
              0.7777777777777778,
              "#fb9f3a"
             ],
             [
              0.8888888888888888,
              "#fdca26"
             ],
             [
              1,
              "#f0f921"
             ]
            ],
            "type": "heatmap"
           }
          ],
          "heatmapgl": [
           {
            "colorbar": {
             "outlinewidth": 0,
             "ticks": ""
            },
            "colorscale": [
             [
              0,
              "#0d0887"
             ],
             [
              0.1111111111111111,
              "#46039f"
             ],
             [
              0.2222222222222222,
              "#7201a8"
             ],
             [
              0.3333333333333333,
              "#9c179e"
             ],
             [
              0.4444444444444444,
              "#bd3786"
             ],
             [
              0.5555555555555556,
              "#d8576b"
             ],
             [
              0.6666666666666666,
              "#ed7953"
             ],
             [
              0.7777777777777778,
              "#fb9f3a"
             ],
             [
              0.8888888888888888,
              "#fdca26"
             ],
             [
              1,
              "#f0f921"
             ]
            ],
            "type": "heatmapgl"
           }
          ],
          "histogram": [
           {
            "marker": {
             "pattern": {
              "fillmode": "overlay",
              "size": 10,
              "solidity": 0.2
             }
            },
            "type": "histogram"
           }
          ],
          "histogram2d": [
           {
            "colorbar": {
             "outlinewidth": 0,
             "ticks": ""
            },
            "colorscale": [
             [
              0,
              "#0d0887"
             ],
             [
              0.1111111111111111,
              "#46039f"
             ],
             [
              0.2222222222222222,
              "#7201a8"
             ],
             [
              0.3333333333333333,
              "#9c179e"
             ],
             [
              0.4444444444444444,
              "#bd3786"
             ],
             [
              0.5555555555555556,
              "#d8576b"
             ],
             [
              0.6666666666666666,
              "#ed7953"
             ],
             [
              0.7777777777777778,
              "#fb9f3a"
             ],
             [
              0.8888888888888888,
              "#fdca26"
             ],
             [
              1,
              "#f0f921"
             ]
            ],
            "type": "histogram2d"
           }
          ],
          "histogram2dcontour": [
           {
            "colorbar": {
             "outlinewidth": 0,
             "ticks": ""
            },
            "colorscale": [
             [
              0,
              "#0d0887"
             ],
             [
              0.1111111111111111,
              "#46039f"
             ],
             [
              0.2222222222222222,
              "#7201a8"
             ],
             [
              0.3333333333333333,
              "#9c179e"
             ],
             [
              0.4444444444444444,
              "#bd3786"
             ],
             [
              0.5555555555555556,
              "#d8576b"
             ],
             [
              0.6666666666666666,
              "#ed7953"
             ],
             [
              0.7777777777777778,
              "#fb9f3a"
             ],
             [
              0.8888888888888888,
              "#fdca26"
             ],
             [
              1,
              "#f0f921"
             ]
            ],
            "type": "histogram2dcontour"
           }
          ],
          "mesh3d": [
           {
            "colorbar": {
             "outlinewidth": 0,
             "ticks": ""
            },
            "type": "mesh3d"
           }
          ],
          "parcoords": [
           {
            "line": {
             "colorbar": {
              "outlinewidth": 0,
              "ticks": ""
             }
            },
            "type": "parcoords"
           }
          ],
          "pie": [
           {
            "automargin": true,
            "type": "pie"
           }
          ],
          "scatter": [
           {
            "marker": {
             "colorbar": {
              "outlinewidth": 0,
              "ticks": ""
             }
            },
            "type": "scatter"
           }
          ],
          "scatter3d": [
           {
            "line": {
             "colorbar": {
              "outlinewidth": 0,
              "ticks": ""
             }
            },
            "marker": {
             "colorbar": {
              "outlinewidth": 0,
              "ticks": ""
             }
            },
            "type": "scatter3d"
           }
          ],
          "scattercarpet": [
           {
            "marker": {
             "colorbar": {
              "outlinewidth": 0,
              "ticks": ""
             }
            },
            "type": "scattercarpet"
           }
          ],
          "scattergeo": [
           {
            "marker": {
             "colorbar": {
              "outlinewidth": 0,
              "ticks": ""
             }
            },
            "type": "scattergeo"
           }
          ],
          "scattergl": [
           {
            "marker": {
             "colorbar": {
              "outlinewidth": 0,
              "ticks": ""
             }
            },
            "type": "scattergl"
           }
          ],
          "scattermapbox": [
           {
            "marker": {
             "colorbar": {
              "outlinewidth": 0,
              "ticks": ""
             }
            },
            "type": "scattermapbox"
           }
          ],
          "scatterpolar": [
           {
            "marker": {
             "colorbar": {
              "outlinewidth": 0,
              "ticks": ""
             }
            },
            "type": "scatterpolar"
           }
          ],
          "scatterpolargl": [
           {
            "marker": {
             "colorbar": {
              "outlinewidth": 0,
              "ticks": ""
             }
            },
            "type": "scatterpolargl"
           }
          ],
          "scatterternary": [
           {
            "marker": {
             "colorbar": {
              "outlinewidth": 0,
              "ticks": ""
             }
            },
            "type": "scatterternary"
           }
          ],
          "surface": [
           {
            "colorbar": {
             "outlinewidth": 0,
             "ticks": ""
            },
            "colorscale": [
             [
              0,
              "#0d0887"
             ],
             [
              0.1111111111111111,
              "#46039f"
             ],
             [
              0.2222222222222222,
              "#7201a8"
             ],
             [
              0.3333333333333333,
              "#9c179e"
             ],
             [
              0.4444444444444444,
              "#bd3786"
             ],
             [
              0.5555555555555556,
              "#d8576b"
             ],
             [
              0.6666666666666666,
              "#ed7953"
             ],
             [
              0.7777777777777778,
              "#fb9f3a"
             ],
             [
              0.8888888888888888,
              "#fdca26"
             ],
             [
              1,
              "#f0f921"
             ]
            ],
            "type": "surface"
           }
          ],
          "table": [
           {
            "cells": {
             "fill": {
              "color": "#EBF0F8"
             },
             "line": {
              "color": "white"
             }
            },
            "header": {
             "fill": {
              "color": "#C8D4E3"
             },
             "line": {
              "color": "white"
             }
            },
            "type": "table"
           }
          ]
         },
         "layout": {
          "annotationdefaults": {
           "arrowcolor": "#2a3f5f",
           "arrowhead": 0,
           "arrowwidth": 1
          },
          "autotypenumbers": "strict",
          "coloraxis": {
           "colorbar": {
            "outlinewidth": 0,
            "ticks": ""
           }
          },
          "colorscale": {
           "diverging": [
            [
             0,
             "#8e0152"
            ],
            [
             0.1,
             "#c51b7d"
            ],
            [
             0.2,
             "#de77ae"
            ],
            [
             0.3,
             "#f1b6da"
            ],
            [
             0.4,
             "#fde0ef"
            ],
            [
             0.5,
             "#f7f7f7"
            ],
            [
             0.6,
             "#e6f5d0"
            ],
            [
             0.7,
             "#b8e186"
            ],
            [
             0.8,
             "#7fbc41"
            ],
            [
             0.9,
             "#4d9221"
            ],
            [
             1,
             "#276419"
            ]
           ],
           "sequential": [
            [
             0,
             "#0d0887"
            ],
            [
             0.1111111111111111,
             "#46039f"
            ],
            [
             0.2222222222222222,
             "#7201a8"
            ],
            [
             0.3333333333333333,
             "#9c179e"
            ],
            [
             0.4444444444444444,
             "#bd3786"
            ],
            [
             0.5555555555555556,
             "#d8576b"
            ],
            [
             0.6666666666666666,
             "#ed7953"
            ],
            [
             0.7777777777777778,
             "#fb9f3a"
            ],
            [
             0.8888888888888888,
             "#fdca26"
            ],
            [
             1,
             "#f0f921"
            ]
           ],
           "sequentialminus": [
            [
             0,
             "#0d0887"
            ],
            [
             0.1111111111111111,
             "#46039f"
            ],
            [
             0.2222222222222222,
             "#7201a8"
            ],
            [
             0.3333333333333333,
             "#9c179e"
            ],
            [
             0.4444444444444444,
             "#bd3786"
            ],
            [
             0.5555555555555556,
             "#d8576b"
            ],
            [
             0.6666666666666666,
             "#ed7953"
            ],
            [
             0.7777777777777778,
             "#fb9f3a"
            ],
            [
             0.8888888888888888,
             "#fdca26"
            ],
            [
             1,
             "#f0f921"
            ]
           ]
          },
          "colorway": [
           "#636efa",
           "#EF553B",
           "#00cc96",
           "#ab63fa",
           "#FFA15A",
           "#19d3f3",
           "#FF6692",
           "#B6E880",
           "#FF97FF",
           "#FECB52"
          ],
          "font": {
           "color": "#2a3f5f"
          },
          "geo": {
           "bgcolor": "white",
           "lakecolor": "white",
           "landcolor": "#E5ECF6",
           "showlakes": true,
           "showland": true,
           "subunitcolor": "white"
          },
          "hoverlabel": {
           "align": "left"
          },
          "hovermode": "closest",
          "mapbox": {
           "style": "light"
          },
          "paper_bgcolor": "white",
          "plot_bgcolor": "#E5ECF6",
          "polar": {
           "angularaxis": {
            "gridcolor": "white",
            "linecolor": "white",
            "ticks": ""
           },
           "bgcolor": "#E5ECF6",
           "radialaxis": {
            "gridcolor": "white",
            "linecolor": "white",
            "ticks": ""
           }
          },
          "scene": {
           "xaxis": {
            "backgroundcolor": "#E5ECF6",
            "gridcolor": "white",
            "gridwidth": 2,
            "linecolor": "white",
            "showbackground": true,
            "ticks": "",
            "zerolinecolor": "white"
           },
           "yaxis": {
            "backgroundcolor": "#E5ECF6",
            "gridcolor": "white",
            "gridwidth": 2,
            "linecolor": "white",
            "showbackground": true,
            "ticks": "",
            "zerolinecolor": "white"
           },
           "zaxis": {
            "backgroundcolor": "#E5ECF6",
            "gridcolor": "white",
            "gridwidth": 2,
            "linecolor": "white",
            "showbackground": true,
            "ticks": "",
            "zerolinecolor": "white"
           }
          },
          "shapedefaults": {
           "line": {
            "color": "#2a3f5f"
           }
          },
          "ternary": {
           "aaxis": {
            "gridcolor": "white",
            "linecolor": "white",
            "ticks": ""
           },
           "baxis": {
            "gridcolor": "white",
            "linecolor": "white",
            "ticks": ""
           },
           "bgcolor": "#E5ECF6",
           "caxis": {
            "gridcolor": "white",
            "linecolor": "white",
            "ticks": ""
           }
          },
          "title": {
           "x": 0.05
          },
          "xaxis": {
           "automargin": true,
           "gridcolor": "white",
           "linecolor": "white",
           "ticks": "",
           "title": {
            "standoff": 15
           },
           "zerolinecolor": "white",
           "zerolinewidth": 2
          },
          "yaxis": {
           "automargin": true,
           "gridcolor": "white",
           "linecolor": "white",
           "ticks": "",
           "title": {
            "standoff": 15
           },
           "zerolinecolor": "white",
           "zerolinewidth": 2
          }
         }
        },
        "title": {
         "text": "구별 거래 횟수"
        },
        "width": 1200,
        "xaxis": {
         "title": {
          "text": "구"
         }
        },
        "yaxis": {
         "title": {
          "text": "거래횟수"
         }
        }
       }
      },
      "text/html": [
       "<div>                            <div id=\"796015f8-21a9-45dd-aaa6-aa5b4c6c7326\" class=\"plotly-graph-div\" style=\"height:1000px; width:1200px;\"></div>            <script type=\"text/javascript\">                require([\"plotly\"], function(Plotly) {                    window.PLOTLYENV=window.PLOTLYENV || {};                                    if (document.getElementById(\"796015f8-21a9-45dd-aaa6-aa5b4c6c7326\")) {                    Plotly.newPlot(                        \"796015f8-21a9-45dd-aaa6-aa5b4c6c7326\",                        [{\"x\":[\"\\ub178\\uc6d0\\uad6c\",\"\\uc1a1\\ud30c\\uad6c\",\"\\uac15\\uc11c\\uad6c\",\"\\uc131\\ubd81\\uad6c\",\"\\uad6c\\ub85c\\uad6c\",\"\\uac15\\ub3d9\\uad6c\",\"\\uac15\\ub0a8\\uad6c\",\"\\ub3c4\\ubd09\\uad6c\",\"\\uc591\\ucc9c\\uad6c\",\"\\uc601\\ub4f1\\ud3ec\\uad6c\",\"\\uc11c\\ucd08\\uad6c\",\"\\uc740\\ud3c9\\uad6c\",\"\\uc131\\ub3d9\\uad6c\",\"\\ub3d9\\ub300\\ubb38\\uad6c\",\"\\ub9c8\\ud3ec\\uad6c\",\"\\ub3d9\\uc791\\uad6c\",\"\\uc11c\\ub300\\ubb38\\uad6c\",\"\\uc911\\ub791\\uad6c\",\"\\uad00\\uc545\\uad6c\",\"\\uac15\\ubd81\\uad6c\",\"\\uc6a9\\uc0b0\\uad6c\",\"\\uae08\\ucc9c\\uad6c\",\"\\uad11\\uc9c4\\uad6c\",\"\\uc911\\uad6c\",\"\\uc885\\ub85c\\uad6c\"],\"y\":[24724,14929,14659,12996,12977,12052,11849,11356,11170,9785,9542,9067,9019,8889,8608,8262,8006,7954,7805,5485,4706,4552,4423,3275,2092],\"type\":\"bar\"}],                        {\"template\":{\"data\":{\"bar\":[{\"error_x\":{\"color\":\"#2a3f5f\"},\"error_y\":{\"color\":\"#2a3f5f\"},\"marker\":{\"line\":{\"color\":\"#E5ECF6\",\"width\":0.5},\"pattern\":{\"fillmode\":\"overlay\",\"size\":10,\"solidity\":0.2}},\"type\":\"bar\"}],\"barpolar\":[{\"marker\":{\"line\":{\"color\":\"#E5ECF6\",\"width\":0.5},\"pattern\":{\"fillmode\":\"overlay\",\"size\":10,\"solidity\":0.2}},\"type\":\"barpolar\"}],\"carpet\":[{\"aaxis\":{\"endlinecolor\":\"#2a3f5f\",\"gridcolor\":\"white\",\"linecolor\":\"white\",\"minorgridcolor\":\"white\",\"startlinecolor\":\"#2a3f5f\"},\"baxis\":{\"endlinecolor\":\"#2a3f5f\",\"gridcolor\":\"white\",\"linecolor\":\"white\",\"minorgridcolor\":\"white\",\"startlinecolor\":\"#2a3f5f\"},\"type\":\"carpet\"}],\"choropleth\":[{\"colorbar\":{\"outlinewidth\":0,\"ticks\":\"\"},\"type\":\"choropleth\"}],\"contour\":[{\"colorbar\":{\"outlinewidth\":0,\"ticks\":\"\"},\"colorscale\":[[0.0,\"#0d0887\"],[0.1111111111111111,\"#46039f\"],[0.2222222222222222,\"#7201a8\"],[0.3333333333333333,\"#9c179e\"],[0.4444444444444444,\"#bd3786\"],[0.5555555555555556,\"#d8576b\"],[0.6666666666666666,\"#ed7953\"],[0.7777777777777778,\"#fb9f3a\"],[0.8888888888888888,\"#fdca26\"],[1.0,\"#f0f921\"]],\"type\":\"contour\"}],\"contourcarpet\":[{\"colorbar\":{\"outlinewidth\":0,\"ticks\":\"\"},\"type\":\"contourcarpet\"}],\"heatmap\":[{\"colorbar\":{\"outlinewidth\":0,\"ticks\":\"\"},\"colorscale\":[[0.0,\"#0d0887\"],[0.1111111111111111,\"#46039f\"],[0.2222222222222222,\"#7201a8\"],[0.3333333333333333,\"#9c179e\"],[0.4444444444444444,\"#bd3786\"],[0.5555555555555556,\"#d8576b\"],[0.6666666666666666,\"#ed7953\"],[0.7777777777777778,\"#fb9f3a\"],[0.8888888888888888,\"#fdca26\"],[1.0,\"#f0f921\"]],\"type\":\"heatmap\"}],\"heatmapgl\":[{\"colorbar\":{\"outlinewidth\":0,\"ticks\":\"\"},\"colorscale\":[[0.0,\"#0d0887\"],[0.1111111111111111,\"#46039f\"],[0.2222222222222222,\"#7201a8\"],[0.3333333333333333,\"#9c179e\"],[0.4444444444444444,\"#bd3786\"],[0.5555555555555556,\"#d8576b\"],[0.6666666666666666,\"#ed7953\"],[0.7777777777777778,\"#fb9f3a\"],[0.8888888888888888,\"#fdca26\"],[1.0,\"#f0f921\"]],\"type\":\"heatmapgl\"}],\"histogram\":[{\"marker\":{\"pattern\":{\"fillmode\":\"overlay\",\"size\":10,\"solidity\":0.2}},\"type\":\"histogram\"}],\"histogram2d\":[{\"colorbar\":{\"outlinewidth\":0,\"ticks\":\"\"},\"colorscale\":[[0.0,\"#0d0887\"],[0.1111111111111111,\"#46039f\"],[0.2222222222222222,\"#7201a8\"],[0.3333333333333333,\"#9c179e\"],[0.4444444444444444,\"#bd3786\"],[0.5555555555555556,\"#d8576b\"],[0.6666666666666666,\"#ed7953\"],[0.7777777777777778,\"#fb9f3a\"],[0.8888888888888888,\"#fdca26\"],[1.0,\"#f0f921\"]],\"type\":\"histogram2d\"}],\"histogram2dcontour\":[{\"colorbar\":{\"outlinewidth\":0,\"ticks\":\"\"},\"colorscale\":[[0.0,\"#0d0887\"],[0.1111111111111111,\"#46039f\"],[0.2222222222222222,\"#7201a8\"],[0.3333333333333333,\"#9c179e\"],[0.4444444444444444,\"#bd3786\"],[0.5555555555555556,\"#d8576b\"],[0.6666666666666666,\"#ed7953\"],[0.7777777777777778,\"#fb9f3a\"],[0.8888888888888888,\"#fdca26\"],[1.0,\"#f0f921\"]],\"type\":\"histogram2dcontour\"}],\"mesh3d\":[{\"colorbar\":{\"outlinewidth\":0,\"ticks\":\"\"},\"type\":\"mesh3d\"}],\"parcoords\":[{\"line\":{\"colorbar\":{\"outlinewidth\":0,\"ticks\":\"\"}},\"type\":\"parcoords\"}],\"pie\":[{\"automargin\":true,\"type\":\"pie\"}],\"scatter\":[{\"marker\":{\"colorbar\":{\"outlinewidth\":0,\"ticks\":\"\"}},\"type\":\"scatter\"}],\"scatter3d\":[{\"line\":{\"colorbar\":{\"outlinewidth\":0,\"ticks\":\"\"}},\"marker\":{\"colorbar\":{\"outlinewidth\":0,\"ticks\":\"\"}},\"type\":\"scatter3d\"}],\"scattercarpet\":[{\"marker\":{\"colorbar\":{\"outlinewidth\":0,\"ticks\":\"\"}},\"type\":\"scattercarpet\"}],\"scattergeo\":[{\"marker\":{\"colorbar\":{\"outlinewidth\":0,\"ticks\":\"\"}},\"type\":\"scattergeo\"}],\"scattergl\":[{\"marker\":{\"colorbar\":{\"outlinewidth\":0,\"ticks\":\"\"}},\"type\":\"scattergl\"}],\"scattermapbox\":[{\"marker\":{\"colorbar\":{\"outlinewidth\":0,\"ticks\":\"\"}},\"type\":\"scattermapbox\"}],\"scatterpolar\":[{\"marker\":{\"colorbar\":{\"outlinewidth\":0,\"ticks\":\"\"}},\"type\":\"scatterpolar\"}],\"scatterpolargl\":[{\"marker\":{\"colorbar\":{\"outlinewidth\":0,\"ticks\":\"\"}},\"type\":\"scatterpolargl\"}],\"scatterternary\":[{\"marker\":{\"colorbar\":{\"outlinewidth\":0,\"ticks\":\"\"}},\"type\":\"scatterternary\"}],\"surface\":[{\"colorbar\":{\"outlinewidth\":0,\"ticks\":\"\"},\"colorscale\":[[0.0,\"#0d0887\"],[0.1111111111111111,\"#46039f\"],[0.2222222222222222,\"#7201a8\"],[0.3333333333333333,\"#9c179e\"],[0.4444444444444444,\"#bd3786\"],[0.5555555555555556,\"#d8576b\"],[0.6666666666666666,\"#ed7953\"],[0.7777777777777778,\"#fb9f3a\"],[0.8888888888888888,\"#fdca26\"],[1.0,\"#f0f921\"]],\"type\":\"surface\"}],\"table\":[{\"cells\":{\"fill\":{\"color\":\"#EBF0F8\"},\"line\":{\"color\":\"white\"}},\"header\":{\"fill\":{\"color\":\"#C8D4E3\"},\"line\":{\"color\":\"white\"}},\"type\":\"table\"}]},\"layout\":{\"annotationdefaults\":{\"arrowcolor\":\"#2a3f5f\",\"arrowhead\":0,\"arrowwidth\":1},\"autotypenumbers\":\"strict\",\"coloraxis\":{\"colorbar\":{\"outlinewidth\":0,\"ticks\":\"\"}},\"colorscale\":{\"diverging\":[[0,\"#8e0152\"],[0.1,\"#c51b7d\"],[0.2,\"#de77ae\"],[0.3,\"#f1b6da\"],[0.4,\"#fde0ef\"],[0.5,\"#f7f7f7\"],[0.6,\"#e6f5d0\"],[0.7,\"#b8e186\"],[0.8,\"#7fbc41\"],[0.9,\"#4d9221\"],[1,\"#276419\"]],\"sequential\":[[0.0,\"#0d0887\"],[0.1111111111111111,\"#46039f\"],[0.2222222222222222,\"#7201a8\"],[0.3333333333333333,\"#9c179e\"],[0.4444444444444444,\"#bd3786\"],[0.5555555555555556,\"#d8576b\"],[0.6666666666666666,\"#ed7953\"],[0.7777777777777778,\"#fb9f3a\"],[0.8888888888888888,\"#fdca26\"],[1.0,\"#f0f921\"]],\"sequentialminus\":[[0.0,\"#0d0887\"],[0.1111111111111111,\"#46039f\"],[0.2222222222222222,\"#7201a8\"],[0.3333333333333333,\"#9c179e\"],[0.4444444444444444,\"#bd3786\"],[0.5555555555555556,\"#d8576b\"],[0.6666666666666666,\"#ed7953\"],[0.7777777777777778,\"#fb9f3a\"],[0.8888888888888888,\"#fdca26\"],[1.0,\"#f0f921\"]]},\"colorway\":[\"#636efa\",\"#EF553B\",\"#00cc96\",\"#ab63fa\",\"#FFA15A\",\"#19d3f3\",\"#FF6692\",\"#B6E880\",\"#FF97FF\",\"#FECB52\"],\"font\":{\"color\":\"#2a3f5f\"},\"geo\":{\"bgcolor\":\"white\",\"lakecolor\":\"white\",\"landcolor\":\"#E5ECF6\",\"showlakes\":true,\"showland\":true,\"subunitcolor\":\"white\"},\"hoverlabel\":{\"align\":\"left\"},\"hovermode\":\"closest\",\"mapbox\":{\"style\":\"light\"},\"paper_bgcolor\":\"white\",\"plot_bgcolor\":\"#E5ECF6\",\"polar\":{\"angularaxis\":{\"gridcolor\":\"white\",\"linecolor\":\"white\",\"ticks\":\"\"},\"bgcolor\":\"#E5ECF6\",\"radialaxis\":{\"gridcolor\":\"white\",\"linecolor\":\"white\",\"ticks\":\"\"}},\"scene\":{\"xaxis\":{\"backgroundcolor\":\"#E5ECF6\",\"gridcolor\":\"white\",\"gridwidth\":2,\"linecolor\":\"white\",\"showbackground\":true,\"ticks\":\"\",\"zerolinecolor\":\"white\"},\"yaxis\":{\"backgroundcolor\":\"#E5ECF6\",\"gridcolor\":\"white\",\"gridwidth\":2,\"linecolor\":\"white\",\"showbackground\":true,\"ticks\":\"\",\"zerolinecolor\":\"white\"},\"zaxis\":{\"backgroundcolor\":\"#E5ECF6\",\"gridcolor\":\"white\",\"gridwidth\":2,\"linecolor\":\"white\",\"showbackground\":true,\"ticks\":\"\",\"zerolinecolor\":\"white\"}},\"shapedefaults\":{\"line\":{\"color\":\"#2a3f5f\"}},\"ternary\":{\"aaxis\":{\"gridcolor\":\"white\",\"linecolor\":\"white\",\"ticks\":\"\"},\"baxis\":{\"gridcolor\":\"white\",\"linecolor\":\"white\",\"ticks\":\"\"},\"bgcolor\":\"#E5ECF6\",\"caxis\":{\"gridcolor\":\"white\",\"linecolor\":\"white\",\"ticks\":\"\"}},\"title\":{\"x\":0.05},\"xaxis\":{\"automargin\":true,\"gridcolor\":\"white\",\"linecolor\":\"white\",\"ticks\":\"\",\"title\":{\"standoff\":15},\"zerolinecolor\":\"white\",\"zerolinewidth\":2},\"yaxis\":{\"automargin\":true,\"gridcolor\":\"white\",\"linecolor\":\"white\",\"ticks\":\"\",\"title\":{\"standoff\":15},\"zerolinecolor\":\"white\",\"zerolinewidth\":2}}},\"title\":{\"text\":\"\\uad6c\\ubcc4 \\uac70\\ub798 \\ud69f\\uc218\"},\"xaxis\":{\"title\":{\"text\":\"\\uad6c\"}},\"yaxis\":{\"title\":{\"text\":\"\\uac70\\ub798\\ud69f\\uc218\"}},\"autosize\":false,\"width\":1200,\"height\":1000},                        {\"responsive\": true}                    ).then(function(){\n",
       "                            \n",
       "var gd = document.getElementById('796015f8-21a9-45dd-aaa6-aa5b4c6c7326');\n",
       "var x = new MutationObserver(function (mutations, observer) {{\n",
       "        var display = window.getComputedStyle(gd).display;\n",
       "        if (!display || display === 'none') {{\n",
       "            console.log([gd, 'removed!']);\n",
       "            Plotly.purge(gd);\n",
       "            observer.disconnect();\n",
       "        }}\n",
       "}});\n",
       "\n",
       "// Listen for the removal of the full notebook cells\n",
       "var notebookContainer = gd.closest('#notebook-container');\n",
       "if (notebookContainer) {{\n",
       "    x.observe(notebookContainer, {childList: true});\n",
       "}}\n",
       "\n",
       "// Listen for the clearing of the current output cell\n",
       "var outputEl = gd.closest('.output');\n",
       "if (outputEl) {{\n",
       "    x.observe(outputEl, {childList: true});\n",
       "}}\n",
       "\n",
       "                        })                };                });            </script>        </div>"
      ]
     },
     "metadata": {},
     "output_type": "display_data"
    }
   ],
   "source": [
    "# 구별 거래횟수\n",
    "\n",
    "cnt_gu= train_data.groupby('구').count().sort_values('시군구', ascending=False)\n",
    "\n",
    "gu_fig = go.Figure()\n",
    "gu_trace = go.Bar(x=cnt_gu.index, y=cnt_gu['시군구'])\n",
    "gu_fig.add_trace(gu_trace)\n",
    "\n",
    "gu_fig.update_layout(\n",
    "    title='구별 거래 횟수',\n",
    "    xaxis_title='구',\n",
    "    yaxis_title='거래횟수',\n",
    "#     yaxis_tickformat='(만원)',\n",
    "    autosize=False,\n",
    "    width=1200,\n",
    "    height=1000\n",
    ")\n",
    "\n",
    "gu_fig.show()"
   ]
  },
  {
   "cell_type": "code",
   "execution_count": 42,
   "id": "d3427edc",
   "metadata": {
    "scrolled": true
   },
   "outputs": [
    {
     "data": {
      "text/html": [
       "<div>\n",
       "<style scoped>\n",
       "    .dataframe tbody tr th:only-of-type {\n",
       "        vertical-align: middle;\n",
       "    }\n",
       "\n",
       "    .dataframe tbody tr th {\n",
       "        vertical-align: top;\n",
       "    }\n",
       "\n",
       "    .dataframe thead th {\n",
       "        text-align: right;\n",
       "    }\n",
       "</style>\n",
       "<table border=\"1\" class=\"dataframe\">\n",
       "  <thead>\n",
       "    <tr style=\"text-align: right;\">\n",
       "      <th></th>\n",
       "      <th>전용면적</th>\n",
       "      <th>계약년월</th>\n",
       "      <th>계약일</th>\n",
       "      <th>거래금액</th>\n",
       "      <th>층</th>\n",
       "      <th>건축년도</th>\n",
       "      <th>제곱미터단가</th>\n",
       "      <th>평당단가</th>\n",
       "    </tr>\n",
       "    <tr>\n",
       "      <th>구</th>\n",
       "      <th></th>\n",
       "      <th></th>\n",
       "      <th></th>\n",
       "      <th></th>\n",
       "      <th></th>\n",
       "      <th></th>\n",
       "      <th></th>\n",
       "      <th></th>\n",
       "    </tr>\n",
       "  </thead>\n",
       "  <tbody>\n",
       "    <tr>\n",
       "      <th>강남구</th>\n",
       "      <td>91.539864</td>\n",
       "      <td>201908.247109</td>\n",
       "      <td>15.804118</td>\n",
       "      <td>172389.832982</td>\n",
       "      <td>9.304329</td>\n",
       "      <td>1997.701494</td>\n",
       "      <td>1959.311919</td>\n",
       "      <td>6465.729333</td>\n",
       "    </tr>\n",
       "    <tr>\n",
       "      <th>강동구</th>\n",
       "      <td>75.696313</td>\n",
       "      <td>201909.890724</td>\n",
       "      <td>15.736973</td>\n",
       "      <td>74854.759625</td>\n",
       "      <td>9.474693</td>\n",
       "      <td>2001.550282</td>\n",
       "      <td>1018.142030</td>\n",
       "      <td>3359.868698</td>\n",
       "    </tr>\n",
       "    <tr>\n",
       "      <th>강북구</th>\n",
       "      <td>75.716059</td>\n",
       "      <td>201908.780492</td>\n",
       "      <td>15.942388</td>\n",
       "      <td>48765.654512</td>\n",
       "      <td>9.340747</td>\n",
       "      <td>2003.437739</td>\n",
       "      <td>669.011870</td>\n",
       "      <td>2207.739172</td>\n",
       "    </tr>\n",
       "    <tr>\n",
       "      <th>강서구</th>\n",
       "      <td>73.347080</td>\n",
       "      <td>201910.592401</td>\n",
       "      <td>16.156696</td>\n",
       "      <td>60731.687359</td>\n",
       "      <td>7.829047</td>\n",
       "      <td>2001.085272</td>\n",
       "      <td>853.286623</td>\n",
       "      <td>2815.845855</td>\n",
       "    </tr>\n",
       "    <tr>\n",
       "      <th>관악구</th>\n",
       "      <td>74.619934</td>\n",
       "      <td>201903.714798</td>\n",
       "      <td>15.955926</td>\n",
       "      <td>54058.405125</td>\n",
       "      <td>9.377578</td>\n",
       "      <td>2001.067905</td>\n",
       "      <td>754.041828</td>\n",
       "      <td>2488.338032</td>\n",
       "    </tr>\n",
       "    <tr>\n",
       "      <th>광진구</th>\n",
       "      <td>85.613370</td>\n",
       "      <td>201902.048836</td>\n",
       "      <td>15.695682</td>\n",
       "      <td>92582.478861</td>\n",
       "      <td>10.412842</td>\n",
       "      <td>1998.595297</td>\n",
       "      <td>1105.629567</td>\n",
       "      <td>3648.577571</td>\n",
       "    </tr>\n",
       "    <tr>\n",
       "      <th>구로구</th>\n",
       "      <td>72.608506</td>\n",
       "      <td>201909.509132</td>\n",
       "      <td>15.816522</td>\n",
       "      <td>49741.599908</td>\n",
       "      <td>9.720274</td>\n",
       "      <td>1999.463512</td>\n",
       "      <td>692.820869</td>\n",
       "      <td>2286.308867</td>\n",
       "    </tr>\n",
       "    <tr>\n",
       "      <th>금천구</th>\n",
       "      <td>73.135042</td>\n",
       "      <td>201905.664104</td>\n",
       "      <td>15.478691</td>\n",
       "      <td>43475.700571</td>\n",
       "      <td>9.630931</td>\n",
       "      <td>2001.089851</td>\n",
       "      <td>619.838108</td>\n",
       "      <td>2045.465758</td>\n",
       "    </tr>\n",
       "    <tr>\n",
       "      <th>노원구</th>\n",
       "      <td>64.625151</td>\n",
       "      <td>201907.992760</td>\n",
       "      <td>16.006593</td>\n",
       "      <td>45296.524834</td>\n",
       "      <td>8.081257</td>\n",
       "      <td>1993.870692</td>\n",
       "      <td>718.582928</td>\n",
       "      <td>2371.323664</td>\n",
       "    </tr>\n",
       "    <tr>\n",
       "      <th>도봉구</th>\n",
       "      <td>70.508594</td>\n",
       "      <td>201911.438359</td>\n",
       "      <td>15.714072</td>\n",
       "      <td>40920.243748</td>\n",
       "      <td>8.281701</td>\n",
       "      <td>1994.592374</td>\n",
       "      <td>594.942774</td>\n",
       "      <td>1963.311155</td>\n",
       "    </tr>\n",
       "    <tr>\n",
       "      <th>동대문구</th>\n",
       "      <td>74.430920</td>\n",
       "      <td>201907.319834</td>\n",
       "      <td>15.711104</td>\n",
       "      <td>60424.357521</td>\n",
       "      <td>9.736753</td>\n",
       "      <td>2004.542468</td>\n",
       "      <td>843.511890</td>\n",
       "      <td>2783.589238</td>\n",
       "    </tr>\n",
       "    <tr>\n",
       "      <th>동작구</th>\n",
       "      <td>82.783244</td>\n",
       "      <td>201908.091140</td>\n",
       "      <td>15.777294</td>\n",
       "      <td>84743.921206</td>\n",
       "      <td>9.042121</td>\n",
       "      <td>2001.883563</td>\n",
       "      <td>1060.768713</td>\n",
       "      <td>3500.536754</td>\n",
       "    </tr>\n",
       "    <tr>\n",
       "      <th>마포구</th>\n",
       "      <td>78.705418</td>\n",
       "      <td>201905.138127</td>\n",
       "      <td>15.752440</td>\n",
       "      <td>90321.685525</td>\n",
       "      <td>9.708527</td>\n",
       "      <td>2003.654507</td>\n",
       "      <td>1183.217868</td>\n",
       "      <td>3904.618965</td>\n",
       "    </tr>\n",
       "    <tr>\n",
       "      <th>서대문구</th>\n",
       "      <td>78.084295</td>\n",
       "      <td>201907.175493</td>\n",
       "      <td>15.605796</td>\n",
       "      <td>67934.167874</td>\n",
       "      <td>8.774669</td>\n",
       "      <td>2002.951786</td>\n",
       "      <td>898.759840</td>\n",
       "      <td>2965.907473</td>\n",
       "    </tr>\n",
       "    <tr>\n",
       "      <th>서초구</th>\n",
       "      <td>99.700761</td>\n",
       "      <td>201908.533326</td>\n",
       "      <td>16.015720</td>\n",
       "      <td>162562.396143</td>\n",
       "      <td>9.184553</td>\n",
       "      <td>2000.931042</td>\n",
       "      <td>1711.313314</td>\n",
       "      <td>5647.333935</td>\n",
       "    </tr>\n",
       "    <tr>\n",
       "      <th>성동구</th>\n",
       "      <td>79.678081</td>\n",
       "      <td>201908.345160</td>\n",
       "      <td>15.686218</td>\n",
       "      <td>98045.302805</td>\n",
       "      <td>9.837676</td>\n",
       "      <td>2003.515024</td>\n",
       "      <td>1258.108184</td>\n",
       "      <td>4151.757007</td>\n",
       "    </tr>\n",
       "    <tr>\n",
       "      <th>성북구</th>\n",
       "      <td>79.129736</td>\n",
       "      <td>201901.093644</td>\n",
       "      <td>15.792629</td>\n",
       "      <td>58470.971761</td>\n",
       "      <td>9.568329</td>\n",
       "      <td>2003.847338</td>\n",
       "      <td>764.148514</td>\n",
       "      <td>2521.690097</td>\n",
       "    </tr>\n",
       "    <tr>\n",
       "      <th>송파구</th>\n",
       "      <td>85.504966</td>\n",
       "      <td>201906.274968</td>\n",
       "      <td>15.706946</td>\n",
       "      <td>116834.927189</td>\n",
       "      <td>10.203363</td>\n",
       "      <td>1999.088753</td>\n",
       "      <td>1415.921738</td>\n",
       "      <td>4672.541736</td>\n",
       "    </tr>\n",
       "    <tr>\n",
       "      <th>양천구</th>\n",
       "      <td>81.016299</td>\n",
       "      <td>201902.705640</td>\n",
       "      <td>15.991316</td>\n",
       "      <td>79507.519785</td>\n",
       "      <td>8.084512</td>\n",
       "      <td>1998.043688</td>\n",
       "      <td>990.942267</td>\n",
       "      <td>3270.109480</td>\n",
       "    </tr>\n",
       "    <tr>\n",
       "      <th>영등포구</th>\n",
       "      <td>77.132694</td>\n",
       "      <td>201907.261216</td>\n",
       "      <td>15.829433</td>\n",
       "      <td>78298.655902</td>\n",
       "      <td>10.077874</td>\n",
       "      <td>1998.363516</td>\n",
       "      <td>1019.793595</td>\n",
       "      <td>3365.318862</td>\n",
       "    </tr>\n",
       "    <tr>\n",
       "      <th>용산구</th>\n",
       "      <td>102.644739</td>\n",
       "      <td>201901.587123</td>\n",
       "      <td>15.842329</td>\n",
       "      <td>144753.982788</td>\n",
       "      <td>10.345729</td>\n",
       "      <td>1999.219720</td>\n",
       "      <td>1408.336738</td>\n",
       "      <td>4647.511237</td>\n",
       "    </tr>\n",
       "    <tr>\n",
       "      <th>은평구</th>\n",
       "      <td>78.245269</td>\n",
       "      <td>201906.925334</td>\n",
       "      <td>15.769163</td>\n",
       "      <td>54875.648395</td>\n",
       "      <td>7.425940</td>\n",
       "      <td>2006.273299</td>\n",
       "      <td>727.742187</td>\n",
       "      <td>2401.549217</td>\n",
       "    </tr>\n",
       "    <tr>\n",
       "      <th>종로구</th>\n",
       "      <td>80.767118</td>\n",
       "      <td>201910.010038</td>\n",
       "      <td>15.859465</td>\n",
       "      <td>75092.054015</td>\n",
       "      <td>7.970363</td>\n",
       "      <td>2003.758604</td>\n",
       "      <td>942.571059</td>\n",
       "      <td>3110.484494</td>\n",
       "    </tr>\n",
       "    <tr>\n",
       "      <th>중구</th>\n",
       "      <td>82.777618</td>\n",
       "      <td>201898.161221</td>\n",
       "      <td>15.500153</td>\n",
       "      <td>79739.880611</td>\n",
       "      <td>11.575878</td>\n",
       "      <td>2004.451298</td>\n",
       "      <td>997.909102</td>\n",
       "      <td>3293.100038</td>\n",
       "    </tr>\n",
       "    <tr>\n",
       "      <th>중랑구</th>\n",
       "      <td>71.663560</td>\n",
       "      <td>201905.162308</td>\n",
       "      <td>15.852401</td>\n",
       "      <td>45132.519236</td>\n",
       "      <td>9.103093</td>\n",
       "      <td>2000.253709</td>\n",
       "      <td>648.926545</td>\n",
       "      <td>2141.457600</td>\n",
       "    </tr>\n",
       "  </tbody>\n",
       "</table>\n",
       "</div>"
      ],
      "text/plain": [
       "            전용면적           계약년월        계약일           거래금액          층  \\\n",
       "구                                                                      \n",
       "강남구    91.539864  201908.247109  15.804118  172389.832982   9.304329   \n",
       "강동구    75.696313  201909.890724  15.736973   74854.759625   9.474693   \n",
       "강북구    75.716059  201908.780492  15.942388   48765.654512   9.340747   \n",
       "강서구    73.347080  201910.592401  16.156696   60731.687359   7.829047   \n",
       "관악구    74.619934  201903.714798  15.955926   54058.405125   9.377578   \n",
       "광진구    85.613370  201902.048836  15.695682   92582.478861  10.412842   \n",
       "구로구    72.608506  201909.509132  15.816522   49741.599908   9.720274   \n",
       "금천구    73.135042  201905.664104  15.478691   43475.700571   9.630931   \n",
       "노원구    64.625151  201907.992760  16.006593   45296.524834   8.081257   \n",
       "도봉구    70.508594  201911.438359  15.714072   40920.243748   8.281701   \n",
       "동대문구   74.430920  201907.319834  15.711104   60424.357521   9.736753   \n",
       "동작구    82.783244  201908.091140  15.777294   84743.921206   9.042121   \n",
       "마포구    78.705418  201905.138127  15.752440   90321.685525   9.708527   \n",
       "서대문구   78.084295  201907.175493  15.605796   67934.167874   8.774669   \n",
       "서초구    99.700761  201908.533326  16.015720  162562.396143   9.184553   \n",
       "성동구    79.678081  201908.345160  15.686218   98045.302805   9.837676   \n",
       "성북구    79.129736  201901.093644  15.792629   58470.971761   9.568329   \n",
       "송파구    85.504966  201906.274968  15.706946  116834.927189  10.203363   \n",
       "양천구    81.016299  201902.705640  15.991316   79507.519785   8.084512   \n",
       "영등포구   77.132694  201907.261216  15.829433   78298.655902  10.077874   \n",
       "용산구   102.644739  201901.587123  15.842329  144753.982788  10.345729   \n",
       "은평구    78.245269  201906.925334  15.769163   54875.648395   7.425940   \n",
       "종로구    80.767118  201910.010038  15.859465   75092.054015   7.970363   \n",
       "중구     82.777618  201898.161221  15.500153   79739.880611  11.575878   \n",
       "중랑구    71.663560  201905.162308  15.852401   45132.519236   9.103093   \n",
       "\n",
       "             건축년도       제곱미터단가         평당단가  \n",
       "구                                            \n",
       "강남구   1997.701494  1959.311919  6465.729333  \n",
       "강동구   2001.550282  1018.142030  3359.868698  \n",
       "강북구   2003.437739   669.011870  2207.739172  \n",
       "강서구   2001.085272   853.286623  2815.845855  \n",
       "관악구   2001.067905   754.041828  2488.338032  \n",
       "광진구   1998.595297  1105.629567  3648.577571  \n",
       "구로구   1999.463512   692.820869  2286.308867  \n",
       "금천구   2001.089851   619.838108  2045.465758  \n",
       "노원구   1993.870692   718.582928  2371.323664  \n",
       "도봉구   1994.592374   594.942774  1963.311155  \n",
       "동대문구  2004.542468   843.511890  2783.589238  \n",
       "동작구   2001.883563  1060.768713  3500.536754  \n",
       "마포구   2003.654507  1183.217868  3904.618965  \n",
       "서대문구  2002.951786   898.759840  2965.907473  \n",
       "서초구   2000.931042  1711.313314  5647.333935  \n",
       "성동구   2003.515024  1258.108184  4151.757007  \n",
       "성북구   2003.847338   764.148514  2521.690097  \n",
       "송파구   1999.088753  1415.921738  4672.541736  \n",
       "양천구   1998.043688   990.942267  3270.109480  \n",
       "영등포구  1998.363516  1019.793595  3365.318862  \n",
       "용산구   1999.219720  1408.336738  4647.511237  \n",
       "은평구   2006.273299   727.742187  2401.549217  \n",
       "종로구   2003.758604   942.571059  3110.484494  \n",
       "중구    2004.451298   997.909102  3293.100038  \n",
       "중랑구   2000.253709   648.926545  2141.457600  "
      ]
     },
     "execution_count": 42,
     "metadata": {},
     "output_type": "execute_result"
    }
   ],
   "source": [
    "# 구별 평균 거래금액\n",
    "\n",
    "mean_by_gu = train_data.groupby(['구']).mean()\n",
    "mean_by_gu"
   ]
  },
  {
   "cell_type": "code",
   "execution_count": 43,
   "id": "7120c578",
   "metadata": {
    "scrolled": true
   },
   "outputs": [
    {
     "data": {
      "application/vnd.plotly.v1+json": {
       "config": {
        "plotlyServerURL": "https://plot.ly"
       },
       "data": [
        {
         "name": "강남구",
         "type": "bar",
         "x": [
          "강남구"
         ],
         "y": [
          172389.83298168622
         ]
        },
        {
         "name": "서초구",
         "type": "bar",
         "x": [
          "서초구"
         ],
         "y": [
          162562.39614336618
         ]
        },
        {
         "name": "용산구",
         "type": "bar",
         "x": [
          "용산구"
         ],
         "y": [
          144753.9827879303
         ]
        },
        {
         "name": "송파구",
         "type": "bar",
         "x": [
          "송파구"
         ],
         "y": [
          116834.92718869315
         ]
        },
        {
         "name": "성동구",
         "type": "bar",
         "x": [
          "성동구"
         ],
         "y": [
          98045.30280518904
         ]
        },
        {
         "name": "광진구",
         "type": "bar",
         "x": [
          "광진구"
         ],
         "y": [
          92582.47886050193
         ]
        },
        {
         "name": "마포구",
         "type": "bar",
         "x": [
          "마포구"
         ],
         "y": [
          90321.68552509294
         ]
        },
        {
         "name": "동작구",
         "type": "bar",
         "x": [
          "동작구"
         ],
         "y": [
          84743.92120551925
         ]
        },
        {
         "name": "중구",
         "type": "bar",
         "x": [
          "중구"
         ],
         "y": [
          79739.88061068702
         ]
        },
        {
         "name": "양천구",
         "type": "bar",
         "x": [
          "양천구"
         ],
         "y": [
          79507.51978513876
         ]
        },
        {
         "name": "영등포구",
         "type": "bar",
         "x": [
          "영등포구"
         ],
         "y": [
          78298.65590189066
         ]
        },
        {
         "name": "종로구",
         "type": "bar",
         "x": [
          "종로구"
         ],
         "y": [
          75092.05401529637
         ]
        },
        {
         "name": "강동구",
         "type": "bar",
         "x": [
          "강동구"
         ],
         "y": [
          74854.75962495852
         ]
        },
        {
         "name": "서대문구",
         "type": "bar",
         "x": [
          "서대문구"
         ],
         "y": [
          67934.16787409443
         ]
        },
        {
         "name": "강서구",
         "type": "bar",
         "x": [
          "강서구"
         ],
         "y": [
          60731.68735930145
         ]
        },
        {
         "name": "동대문구",
         "type": "bar",
         "x": [
          "동대문구"
         ],
         "y": [
          60424.35752053099
         ]
        },
        {
         "name": "성북구",
         "type": "bar",
         "x": [
          "성북구"
         ],
         "y": [
          58470.9717605417
         ]
        },
        {
         "name": "은평구",
         "type": "bar",
         "x": [
          "은평구"
         ],
         "y": [
          54875.64839527958
         ]
        },
        {
         "name": "관악구",
         "type": "bar",
         "x": [
          "관악구"
         ],
         "y": [
          54058.405124919926
         ]
        },
        {
         "name": "구로구",
         "type": "bar",
         "x": [
          "구로구"
         ],
         "y": [
          49741.5999075287
         ]
        },
        {
         "name": "강북구",
         "type": "bar",
         "x": [
          "강북구"
         ],
         "y": [
          48765.65451230629
         ]
        },
        {
         "name": "노원구",
         "type": "bar",
         "x": [
          "노원구"
         ],
         "y": [
          45296.52483416923
         ]
        },
        {
         "name": "중랑구",
         "type": "bar",
         "x": [
          "중랑구"
         ],
         "y": [
          45132.51923560473
         ]
        },
        {
         "name": "금천구",
         "type": "bar",
         "x": [
          "금천구"
         ],
         "y": [
          43475.700571177505
         ]
        },
        {
         "name": "도봉구",
         "type": "bar",
         "x": [
          "도봉구"
         ],
         "y": [
          40920.24374779852
         ]
        }
       ],
       "layout": {
        "autosize": false,
        "height": 1000,
        "template": {
         "data": {
          "bar": [
           {
            "error_x": {
             "color": "#2a3f5f"
            },
            "error_y": {
             "color": "#2a3f5f"
            },
            "marker": {
             "line": {
              "color": "#E5ECF6",
              "width": 0.5
             },
             "pattern": {
              "fillmode": "overlay",
              "size": 10,
              "solidity": 0.2
             }
            },
            "type": "bar"
           }
          ],
          "barpolar": [
           {
            "marker": {
             "line": {
              "color": "#E5ECF6",
              "width": 0.5
             },
             "pattern": {
              "fillmode": "overlay",
              "size": 10,
              "solidity": 0.2
             }
            },
            "type": "barpolar"
           }
          ],
          "carpet": [
           {
            "aaxis": {
             "endlinecolor": "#2a3f5f",
             "gridcolor": "white",
             "linecolor": "white",
             "minorgridcolor": "white",
             "startlinecolor": "#2a3f5f"
            },
            "baxis": {
             "endlinecolor": "#2a3f5f",
             "gridcolor": "white",
             "linecolor": "white",
             "minorgridcolor": "white",
             "startlinecolor": "#2a3f5f"
            },
            "type": "carpet"
           }
          ],
          "choropleth": [
           {
            "colorbar": {
             "outlinewidth": 0,
             "ticks": ""
            },
            "type": "choropleth"
           }
          ],
          "contour": [
           {
            "colorbar": {
             "outlinewidth": 0,
             "ticks": ""
            },
            "colorscale": [
             [
              0,
              "#0d0887"
             ],
             [
              0.1111111111111111,
              "#46039f"
             ],
             [
              0.2222222222222222,
              "#7201a8"
             ],
             [
              0.3333333333333333,
              "#9c179e"
             ],
             [
              0.4444444444444444,
              "#bd3786"
             ],
             [
              0.5555555555555556,
              "#d8576b"
             ],
             [
              0.6666666666666666,
              "#ed7953"
             ],
             [
              0.7777777777777778,
              "#fb9f3a"
             ],
             [
              0.8888888888888888,
              "#fdca26"
             ],
             [
              1,
              "#f0f921"
             ]
            ],
            "type": "contour"
           }
          ],
          "contourcarpet": [
           {
            "colorbar": {
             "outlinewidth": 0,
             "ticks": ""
            },
            "type": "contourcarpet"
           }
          ],
          "heatmap": [
           {
            "colorbar": {
             "outlinewidth": 0,
             "ticks": ""
            },
            "colorscale": [
             [
              0,
              "#0d0887"
             ],
             [
              0.1111111111111111,
              "#46039f"
             ],
             [
              0.2222222222222222,
              "#7201a8"
             ],
             [
              0.3333333333333333,
              "#9c179e"
             ],
             [
              0.4444444444444444,
              "#bd3786"
             ],
             [
              0.5555555555555556,
              "#d8576b"
             ],
             [
              0.6666666666666666,
              "#ed7953"
             ],
             [
              0.7777777777777778,
              "#fb9f3a"
             ],
             [
              0.8888888888888888,
              "#fdca26"
             ],
             [
              1,
              "#f0f921"
             ]
            ],
            "type": "heatmap"
           }
          ],
          "heatmapgl": [
           {
            "colorbar": {
             "outlinewidth": 0,
             "ticks": ""
            },
            "colorscale": [
             [
              0,
              "#0d0887"
             ],
             [
              0.1111111111111111,
              "#46039f"
             ],
             [
              0.2222222222222222,
              "#7201a8"
             ],
             [
              0.3333333333333333,
              "#9c179e"
             ],
             [
              0.4444444444444444,
              "#bd3786"
             ],
             [
              0.5555555555555556,
              "#d8576b"
             ],
             [
              0.6666666666666666,
              "#ed7953"
             ],
             [
              0.7777777777777778,
              "#fb9f3a"
             ],
             [
              0.8888888888888888,
              "#fdca26"
             ],
             [
              1,
              "#f0f921"
             ]
            ],
            "type": "heatmapgl"
           }
          ],
          "histogram": [
           {
            "marker": {
             "pattern": {
              "fillmode": "overlay",
              "size": 10,
              "solidity": 0.2
             }
            },
            "type": "histogram"
           }
          ],
          "histogram2d": [
           {
            "colorbar": {
             "outlinewidth": 0,
             "ticks": ""
            },
            "colorscale": [
             [
              0,
              "#0d0887"
             ],
             [
              0.1111111111111111,
              "#46039f"
             ],
             [
              0.2222222222222222,
              "#7201a8"
             ],
             [
              0.3333333333333333,
              "#9c179e"
             ],
             [
              0.4444444444444444,
              "#bd3786"
             ],
             [
              0.5555555555555556,
              "#d8576b"
             ],
             [
              0.6666666666666666,
              "#ed7953"
             ],
             [
              0.7777777777777778,
              "#fb9f3a"
             ],
             [
              0.8888888888888888,
              "#fdca26"
             ],
             [
              1,
              "#f0f921"
             ]
            ],
            "type": "histogram2d"
           }
          ],
          "histogram2dcontour": [
           {
            "colorbar": {
             "outlinewidth": 0,
             "ticks": ""
            },
            "colorscale": [
             [
              0,
              "#0d0887"
             ],
             [
              0.1111111111111111,
              "#46039f"
             ],
             [
              0.2222222222222222,
              "#7201a8"
             ],
             [
              0.3333333333333333,
              "#9c179e"
             ],
             [
              0.4444444444444444,
              "#bd3786"
             ],
             [
              0.5555555555555556,
              "#d8576b"
             ],
             [
              0.6666666666666666,
              "#ed7953"
             ],
             [
              0.7777777777777778,
              "#fb9f3a"
             ],
             [
              0.8888888888888888,
              "#fdca26"
             ],
             [
              1,
              "#f0f921"
             ]
            ],
            "type": "histogram2dcontour"
           }
          ],
          "mesh3d": [
           {
            "colorbar": {
             "outlinewidth": 0,
             "ticks": ""
            },
            "type": "mesh3d"
           }
          ],
          "parcoords": [
           {
            "line": {
             "colorbar": {
              "outlinewidth": 0,
              "ticks": ""
             }
            },
            "type": "parcoords"
           }
          ],
          "pie": [
           {
            "automargin": true,
            "type": "pie"
           }
          ],
          "scatter": [
           {
            "marker": {
             "colorbar": {
              "outlinewidth": 0,
              "ticks": ""
             }
            },
            "type": "scatter"
           }
          ],
          "scatter3d": [
           {
            "line": {
             "colorbar": {
              "outlinewidth": 0,
              "ticks": ""
             }
            },
            "marker": {
             "colorbar": {
              "outlinewidth": 0,
              "ticks": ""
             }
            },
            "type": "scatter3d"
           }
          ],
          "scattercarpet": [
           {
            "marker": {
             "colorbar": {
              "outlinewidth": 0,
              "ticks": ""
             }
            },
            "type": "scattercarpet"
           }
          ],
          "scattergeo": [
           {
            "marker": {
             "colorbar": {
              "outlinewidth": 0,
              "ticks": ""
             }
            },
            "type": "scattergeo"
           }
          ],
          "scattergl": [
           {
            "marker": {
             "colorbar": {
              "outlinewidth": 0,
              "ticks": ""
             }
            },
            "type": "scattergl"
           }
          ],
          "scattermapbox": [
           {
            "marker": {
             "colorbar": {
              "outlinewidth": 0,
              "ticks": ""
             }
            },
            "type": "scattermapbox"
           }
          ],
          "scatterpolar": [
           {
            "marker": {
             "colorbar": {
              "outlinewidth": 0,
              "ticks": ""
             }
            },
            "type": "scatterpolar"
           }
          ],
          "scatterpolargl": [
           {
            "marker": {
             "colorbar": {
              "outlinewidth": 0,
              "ticks": ""
             }
            },
            "type": "scatterpolargl"
           }
          ],
          "scatterternary": [
           {
            "marker": {
             "colorbar": {
              "outlinewidth": 0,
              "ticks": ""
             }
            },
            "type": "scatterternary"
           }
          ],
          "surface": [
           {
            "colorbar": {
             "outlinewidth": 0,
             "ticks": ""
            },
            "colorscale": [
             [
              0,
              "#0d0887"
             ],
             [
              0.1111111111111111,
              "#46039f"
             ],
             [
              0.2222222222222222,
              "#7201a8"
             ],
             [
              0.3333333333333333,
              "#9c179e"
             ],
             [
              0.4444444444444444,
              "#bd3786"
             ],
             [
              0.5555555555555556,
              "#d8576b"
             ],
             [
              0.6666666666666666,
              "#ed7953"
             ],
             [
              0.7777777777777778,
              "#fb9f3a"
             ],
             [
              0.8888888888888888,
              "#fdca26"
             ],
             [
              1,
              "#f0f921"
             ]
            ],
            "type": "surface"
           }
          ],
          "table": [
           {
            "cells": {
             "fill": {
              "color": "#EBF0F8"
             },
             "line": {
              "color": "white"
             }
            },
            "header": {
             "fill": {
              "color": "#C8D4E3"
             },
             "line": {
              "color": "white"
             }
            },
            "type": "table"
           }
          ]
         },
         "layout": {
          "annotationdefaults": {
           "arrowcolor": "#2a3f5f",
           "arrowhead": 0,
           "arrowwidth": 1
          },
          "autotypenumbers": "strict",
          "coloraxis": {
           "colorbar": {
            "outlinewidth": 0,
            "ticks": ""
           }
          },
          "colorscale": {
           "diverging": [
            [
             0,
             "#8e0152"
            ],
            [
             0.1,
             "#c51b7d"
            ],
            [
             0.2,
             "#de77ae"
            ],
            [
             0.3,
             "#f1b6da"
            ],
            [
             0.4,
             "#fde0ef"
            ],
            [
             0.5,
             "#f7f7f7"
            ],
            [
             0.6,
             "#e6f5d0"
            ],
            [
             0.7,
             "#b8e186"
            ],
            [
             0.8,
             "#7fbc41"
            ],
            [
             0.9,
             "#4d9221"
            ],
            [
             1,
             "#276419"
            ]
           ],
           "sequential": [
            [
             0,
             "#0d0887"
            ],
            [
             0.1111111111111111,
             "#46039f"
            ],
            [
             0.2222222222222222,
             "#7201a8"
            ],
            [
             0.3333333333333333,
             "#9c179e"
            ],
            [
             0.4444444444444444,
             "#bd3786"
            ],
            [
             0.5555555555555556,
             "#d8576b"
            ],
            [
             0.6666666666666666,
             "#ed7953"
            ],
            [
             0.7777777777777778,
             "#fb9f3a"
            ],
            [
             0.8888888888888888,
             "#fdca26"
            ],
            [
             1,
             "#f0f921"
            ]
           ],
           "sequentialminus": [
            [
             0,
             "#0d0887"
            ],
            [
             0.1111111111111111,
             "#46039f"
            ],
            [
             0.2222222222222222,
             "#7201a8"
            ],
            [
             0.3333333333333333,
             "#9c179e"
            ],
            [
             0.4444444444444444,
             "#bd3786"
            ],
            [
             0.5555555555555556,
             "#d8576b"
            ],
            [
             0.6666666666666666,
             "#ed7953"
            ],
            [
             0.7777777777777778,
             "#fb9f3a"
            ],
            [
             0.8888888888888888,
             "#fdca26"
            ],
            [
             1,
             "#f0f921"
            ]
           ]
          },
          "colorway": [
           "#636efa",
           "#EF553B",
           "#00cc96",
           "#ab63fa",
           "#FFA15A",
           "#19d3f3",
           "#FF6692",
           "#B6E880",
           "#FF97FF",
           "#FECB52"
          ],
          "font": {
           "color": "#2a3f5f"
          },
          "geo": {
           "bgcolor": "white",
           "lakecolor": "white",
           "landcolor": "#E5ECF6",
           "showlakes": true,
           "showland": true,
           "subunitcolor": "white"
          },
          "hoverlabel": {
           "align": "left"
          },
          "hovermode": "closest",
          "mapbox": {
           "style": "light"
          },
          "paper_bgcolor": "white",
          "plot_bgcolor": "#E5ECF6",
          "polar": {
           "angularaxis": {
            "gridcolor": "white",
            "linecolor": "white",
            "ticks": ""
           },
           "bgcolor": "#E5ECF6",
           "radialaxis": {
            "gridcolor": "white",
            "linecolor": "white",
            "ticks": ""
           }
          },
          "scene": {
           "xaxis": {
            "backgroundcolor": "#E5ECF6",
            "gridcolor": "white",
            "gridwidth": 2,
            "linecolor": "white",
            "showbackground": true,
            "ticks": "",
            "zerolinecolor": "white"
           },
           "yaxis": {
            "backgroundcolor": "#E5ECF6",
            "gridcolor": "white",
            "gridwidth": 2,
            "linecolor": "white",
            "showbackground": true,
            "ticks": "",
            "zerolinecolor": "white"
           },
           "zaxis": {
            "backgroundcolor": "#E5ECF6",
            "gridcolor": "white",
            "gridwidth": 2,
            "linecolor": "white",
            "showbackground": true,
            "ticks": "",
            "zerolinecolor": "white"
           }
          },
          "shapedefaults": {
           "line": {
            "color": "#2a3f5f"
           }
          },
          "ternary": {
           "aaxis": {
            "gridcolor": "white",
            "linecolor": "white",
            "ticks": ""
           },
           "baxis": {
            "gridcolor": "white",
            "linecolor": "white",
            "ticks": ""
           },
           "bgcolor": "#E5ECF6",
           "caxis": {
            "gridcolor": "white",
            "linecolor": "white",
            "ticks": ""
           }
          },
          "title": {
           "x": 0.05
          },
          "xaxis": {
           "automargin": true,
           "gridcolor": "white",
           "linecolor": "white",
           "ticks": "",
           "title": {
            "standoff": 15
           },
           "zerolinecolor": "white",
           "zerolinewidth": 2
          },
          "yaxis": {
           "automargin": true,
           "gridcolor": "white",
           "linecolor": "white",
           "ticks": "",
           "title": {
            "standoff": 15
           },
           "zerolinecolor": "white",
           "zerolinewidth": 2
          }
         }
        },
        "title": {
         "text": "구별 평균 거래금액(2018~2020)"
        },
        "width": 1200,
        "xaxis": {
         "title": {
          "text": "구"
         }
        },
        "yaxis": {
         "tickformat": "(만원)",
         "title": {
          "text": "거래금액"
         }
        }
       }
      },
      "text/html": [
       "<div>                            <div id=\"2df06b35-b784-462b-814d-bcd06cfceb78\" class=\"plotly-graph-div\" style=\"height:1000px; width:1200px;\"></div>            <script type=\"text/javascript\">                require([\"plotly\"], function(Plotly) {                    window.PLOTLYENV=window.PLOTLYENV || {};                                    if (document.getElementById(\"2df06b35-b784-462b-814d-bcd06cfceb78\")) {                    Plotly.newPlot(                        \"2df06b35-b784-462b-814d-bcd06cfceb78\",                        [{\"name\":\"\\uac15\\ub0a8\\uad6c\",\"x\":[\"\\uac15\\ub0a8\\uad6c\"],\"y\":[172389.83298168622],\"type\":\"bar\"},{\"name\":\"\\uc11c\\ucd08\\uad6c\",\"x\":[\"\\uc11c\\ucd08\\uad6c\"],\"y\":[162562.39614336618],\"type\":\"bar\"},{\"name\":\"\\uc6a9\\uc0b0\\uad6c\",\"x\":[\"\\uc6a9\\uc0b0\\uad6c\"],\"y\":[144753.9827879303],\"type\":\"bar\"},{\"name\":\"\\uc1a1\\ud30c\\uad6c\",\"x\":[\"\\uc1a1\\ud30c\\uad6c\"],\"y\":[116834.92718869315],\"type\":\"bar\"},{\"name\":\"\\uc131\\ub3d9\\uad6c\",\"x\":[\"\\uc131\\ub3d9\\uad6c\"],\"y\":[98045.30280518904],\"type\":\"bar\"},{\"name\":\"\\uad11\\uc9c4\\uad6c\",\"x\":[\"\\uad11\\uc9c4\\uad6c\"],\"y\":[92582.47886050193],\"type\":\"bar\"},{\"name\":\"\\ub9c8\\ud3ec\\uad6c\",\"x\":[\"\\ub9c8\\ud3ec\\uad6c\"],\"y\":[90321.68552509294],\"type\":\"bar\"},{\"name\":\"\\ub3d9\\uc791\\uad6c\",\"x\":[\"\\ub3d9\\uc791\\uad6c\"],\"y\":[84743.92120551925],\"type\":\"bar\"},{\"name\":\"\\uc911\\uad6c\",\"x\":[\"\\uc911\\uad6c\"],\"y\":[79739.88061068702],\"type\":\"bar\"},{\"name\":\"\\uc591\\ucc9c\\uad6c\",\"x\":[\"\\uc591\\ucc9c\\uad6c\"],\"y\":[79507.51978513876],\"type\":\"bar\"},{\"name\":\"\\uc601\\ub4f1\\ud3ec\\uad6c\",\"x\":[\"\\uc601\\ub4f1\\ud3ec\\uad6c\"],\"y\":[78298.65590189066],\"type\":\"bar\"},{\"name\":\"\\uc885\\ub85c\\uad6c\",\"x\":[\"\\uc885\\ub85c\\uad6c\"],\"y\":[75092.05401529637],\"type\":\"bar\"},{\"name\":\"\\uac15\\ub3d9\\uad6c\",\"x\":[\"\\uac15\\ub3d9\\uad6c\"],\"y\":[74854.75962495852],\"type\":\"bar\"},{\"name\":\"\\uc11c\\ub300\\ubb38\\uad6c\",\"x\":[\"\\uc11c\\ub300\\ubb38\\uad6c\"],\"y\":[67934.16787409443],\"type\":\"bar\"},{\"name\":\"\\uac15\\uc11c\\uad6c\",\"x\":[\"\\uac15\\uc11c\\uad6c\"],\"y\":[60731.68735930145],\"type\":\"bar\"},{\"name\":\"\\ub3d9\\ub300\\ubb38\\uad6c\",\"x\":[\"\\ub3d9\\ub300\\ubb38\\uad6c\"],\"y\":[60424.35752053099],\"type\":\"bar\"},{\"name\":\"\\uc131\\ubd81\\uad6c\",\"x\":[\"\\uc131\\ubd81\\uad6c\"],\"y\":[58470.9717605417],\"type\":\"bar\"},{\"name\":\"\\uc740\\ud3c9\\uad6c\",\"x\":[\"\\uc740\\ud3c9\\uad6c\"],\"y\":[54875.64839527958],\"type\":\"bar\"},{\"name\":\"\\uad00\\uc545\\uad6c\",\"x\":[\"\\uad00\\uc545\\uad6c\"],\"y\":[54058.405124919926],\"type\":\"bar\"},{\"name\":\"\\uad6c\\ub85c\\uad6c\",\"x\":[\"\\uad6c\\ub85c\\uad6c\"],\"y\":[49741.5999075287],\"type\":\"bar\"},{\"name\":\"\\uac15\\ubd81\\uad6c\",\"x\":[\"\\uac15\\ubd81\\uad6c\"],\"y\":[48765.65451230629],\"type\":\"bar\"},{\"name\":\"\\ub178\\uc6d0\\uad6c\",\"x\":[\"\\ub178\\uc6d0\\uad6c\"],\"y\":[45296.52483416923],\"type\":\"bar\"},{\"name\":\"\\uc911\\ub791\\uad6c\",\"x\":[\"\\uc911\\ub791\\uad6c\"],\"y\":[45132.51923560473],\"type\":\"bar\"},{\"name\":\"\\uae08\\ucc9c\\uad6c\",\"x\":[\"\\uae08\\ucc9c\\uad6c\"],\"y\":[43475.700571177505],\"type\":\"bar\"},{\"name\":\"\\ub3c4\\ubd09\\uad6c\",\"x\":[\"\\ub3c4\\ubd09\\uad6c\"],\"y\":[40920.24374779852],\"type\":\"bar\"}],                        {\"template\":{\"data\":{\"bar\":[{\"error_x\":{\"color\":\"#2a3f5f\"},\"error_y\":{\"color\":\"#2a3f5f\"},\"marker\":{\"line\":{\"color\":\"#E5ECF6\",\"width\":0.5},\"pattern\":{\"fillmode\":\"overlay\",\"size\":10,\"solidity\":0.2}},\"type\":\"bar\"}],\"barpolar\":[{\"marker\":{\"line\":{\"color\":\"#E5ECF6\",\"width\":0.5},\"pattern\":{\"fillmode\":\"overlay\",\"size\":10,\"solidity\":0.2}},\"type\":\"barpolar\"}],\"carpet\":[{\"aaxis\":{\"endlinecolor\":\"#2a3f5f\",\"gridcolor\":\"white\",\"linecolor\":\"white\",\"minorgridcolor\":\"white\",\"startlinecolor\":\"#2a3f5f\"},\"baxis\":{\"endlinecolor\":\"#2a3f5f\",\"gridcolor\":\"white\",\"linecolor\":\"white\",\"minorgridcolor\":\"white\",\"startlinecolor\":\"#2a3f5f\"},\"type\":\"carpet\"}],\"choropleth\":[{\"colorbar\":{\"outlinewidth\":0,\"ticks\":\"\"},\"type\":\"choropleth\"}],\"contour\":[{\"colorbar\":{\"outlinewidth\":0,\"ticks\":\"\"},\"colorscale\":[[0.0,\"#0d0887\"],[0.1111111111111111,\"#46039f\"],[0.2222222222222222,\"#7201a8\"],[0.3333333333333333,\"#9c179e\"],[0.4444444444444444,\"#bd3786\"],[0.5555555555555556,\"#d8576b\"],[0.6666666666666666,\"#ed7953\"],[0.7777777777777778,\"#fb9f3a\"],[0.8888888888888888,\"#fdca26\"],[1.0,\"#f0f921\"]],\"type\":\"contour\"}],\"contourcarpet\":[{\"colorbar\":{\"outlinewidth\":0,\"ticks\":\"\"},\"type\":\"contourcarpet\"}],\"heatmap\":[{\"colorbar\":{\"outlinewidth\":0,\"ticks\":\"\"},\"colorscale\":[[0.0,\"#0d0887\"],[0.1111111111111111,\"#46039f\"],[0.2222222222222222,\"#7201a8\"],[0.3333333333333333,\"#9c179e\"],[0.4444444444444444,\"#bd3786\"],[0.5555555555555556,\"#d8576b\"],[0.6666666666666666,\"#ed7953\"],[0.7777777777777778,\"#fb9f3a\"],[0.8888888888888888,\"#fdca26\"],[1.0,\"#f0f921\"]],\"type\":\"heatmap\"}],\"heatmapgl\":[{\"colorbar\":{\"outlinewidth\":0,\"ticks\":\"\"},\"colorscale\":[[0.0,\"#0d0887\"],[0.1111111111111111,\"#46039f\"],[0.2222222222222222,\"#7201a8\"],[0.3333333333333333,\"#9c179e\"],[0.4444444444444444,\"#bd3786\"],[0.5555555555555556,\"#d8576b\"],[0.6666666666666666,\"#ed7953\"],[0.7777777777777778,\"#fb9f3a\"],[0.8888888888888888,\"#fdca26\"],[1.0,\"#f0f921\"]],\"type\":\"heatmapgl\"}],\"histogram\":[{\"marker\":{\"pattern\":{\"fillmode\":\"overlay\",\"size\":10,\"solidity\":0.2}},\"type\":\"histogram\"}],\"histogram2d\":[{\"colorbar\":{\"outlinewidth\":0,\"ticks\":\"\"},\"colorscale\":[[0.0,\"#0d0887\"],[0.1111111111111111,\"#46039f\"],[0.2222222222222222,\"#7201a8\"],[0.3333333333333333,\"#9c179e\"],[0.4444444444444444,\"#bd3786\"],[0.5555555555555556,\"#d8576b\"],[0.6666666666666666,\"#ed7953\"],[0.7777777777777778,\"#fb9f3a\"],[0.8888888888888888,\"#fdca26\"],[1.0,\"#f0f921\"]],\"type\":\"histogram2d\"}],\"histogram2dcontour\":[{\"colorbar\":{\"outlinewidth\":0,\"ticks\":\"\"},\"colorscale\":[[0.0,\"#0d0887\"],[0.1111111111111111,\"#46039f\"],[0.2222222222222222,\"#7201a8\"],[0.3333333333333333,\"#9c179e\"],[0.4444444444444444,\"#bd3786\"],[0.5555555555555556,\"#d8576b\"],[0.6666666666666666,\"#ed7953\"],[0.7777777777777778,\"#fb9f3a\"],[0.8888888888888888,\"#fdca26\"],[1.0,\"#f0f921\"]],\"type\":\"histogram2dcontour\"}],\"mesh3d\":[{\"colorbar\":{\"outlinewidth\":0,\"ticks\":\"\"},\"type\":\"mesh3d\"}],\"parcoords\":[{\"line\":{\"colorbar\":{\"outlinewidth\":0,\"ticks\":\"\"}},\"type\":\"parcoords\"}],\"pie\":[{\"automargin\":true,\"type\":\"pie\"}],\"scatter\":[{\"marker\":{\"colorbar\":{\"outlinewidth\":0,\"ticks\":\"\"}},\"type\":\"scatter\"}],\"scatter3d\":[{\"line\":{\"colorbar\":{\"outlinewidth\":0,\"ticks\":\"\"}},\"marker\":{\"colorbar\":{\"outlinewidth\":0,\"ticks\":\"\"}},\"type\":\"scatter3d\"}],\"scattercarpet\":[{\"marker\":{\"colorbar\":{\"outlinewidth\":0,\"ticks\":\"\"}},\"type\":\"scattercarpet\"}],\"scattergeo\":[{\"marker\":{\"colorbar\":{\"outlinewidth\":0,\"ticks\":\"\"}},\"type\":\"scattergeo\"}],\"scattergl\":[{\"marker\":{\"colorbar\":{\"outlinewidth\":0,\"ticks\":\"\"}},\"type\":\"scattergl\"}],\"scattermapbox\":[{\"marker\":{\"colorbar\":{\"outlinewidth\":0,\"ticks\":\"\"}},\"type\":\"scattermapbox\"}],\"scatterpolar\":[{\"marker\":{\"colorbar\":{\"outlinewidth\":0,\"ticks\":\"\"}},\"type\":\"scatterpolar\"}],\"scatterpolargl\":[{\"marker\":{\"colorbar\":{\"outlinewidth\":0,\"ticks\":\"\"}},\"type\":\"scatterpolargl\"}],\"scatterternary\":[{\"marker\":{\"colorbar\":{\"outlinewidth\":0,\"ticks\":\"\"}},\"type\":\"scatterternary\"}],\"surface\":[{\"colorbar\":{\"outlinewidth\":0,\"ticks\":\"\"},\"colorscale\":[[0.0,\"#0d0887\"],[0.1111111111111111,\"#46039f\"],[0.2222222222222222,\"#7201a8\"],[0.3333333333333333,\"#9c179e\"],[0.4444444444444444,\"#bd3786\"],[0.5555555555555556,\"#d8576b\"],[0.6666666666666666,\"#ed7953\"],[0.7777777777777778,\"#fb9f3a\"],[0.8888888888888888,\"#fdca26\"],[1.0,\"#f0f921\"]],\"type\":\"surface\"}],\"table\":[{\"cells\":{\"fill\":{\"color\":\"#EBF0F8\"},\"line\":{\"color\":\"white\"}},\"header\":{\"fill\":{\"color\":\"#C8D4E3\"},\"line\":{\"color\":\"white\"}},\"type\":\"table\"}]},\"layout\":{\"annotationdefaults\":{\"arrowcolor\":\"#2a3f5f\",\"arrowhead\":0,\"arrowwidth\":1},\"autotypenumbers\":\"strict\",\"coloraxis\":{\"colorbar\":{\"outlinewidth\":0,\"ticks\":\"\"}},\"colorscale\":{\"diverging\":[[0,\"#8e0152\"],[0.1,\"#c51b7d\"],[0.2,\"#de77ae\"],[0.3,\"#f1b6da\"],[0.4,\"#fde0ef\"],[0.5,\"#f7f7f7\"],[0.6,\"#e6f5d0\"],[0.7,\"#b8e186\"],[0.8,\"#7fbc41\"],[0.9,\"#4d9221\"],[1,\"#276419\"]],\"sequential\":[[0.0,\"#0d0887\"],[0.1111111111111111,\"#46039f\"],[0.2222222222222222,\"#7201a8\"],[0.3333333333333333,\"#9c179e\"],[0.4444444444444444,\"#bd3786\"],[0.5555555555555556,\"#d8576b\"],[0.6666666666666666,\"#ed7953\"],[0.7777777777777778,\"#fb9f3a\"],[0.8888888888888888,\"#fdca26\"],[1.0,\"#f0f921\"]],\"sequentialminus\":[[0.0,\"#0d0887\"],[0.1111111111111111,\"#46039f\"],[0.2222222222222222,\"#7201a8\"],[0.3333333333333333,\"#9c179e\"],[0.4444444444444444,\"#bd3786\"],[0.5555555555555556,\"#d8576b\"],[0.6666666666666666,\"#ed7953\"],[0.7777777777777778,\"#fb9f3a\"],[0.8888888888888888,\"#fdca26\"],[1.0,\"#f0f921\"]]},\"colorway\":[\"#636efa\",\"#EF553B\",\"#00cc96\",\"#ab63fa\",\"#FFA15A\",\"#19d3f3\",\"#FF6692\",\"#B6E880\",\"#FF97FF\",\"#FECB52\"],\"font\":{\"color\":\"#2a3f5f\"},\"geo\":{\"bgcolor\":\"white\",\"lakecolor\":\"white\",\"landcolor\":\"#E5ECF6\",\"showlakes\":true,\"showland\":true,\"subunitcolor\":\"white\"},\"hoverlabel\":{\"align\":\"left\"},\"hovermode\":\"closest\",\"mapbox\":{\"style\":\"light\"},\"paper_bgcolor\":\"white\",\"plot_bgcolor\":\"#E5ECF6\",\"polar\":{\"angularaxis\":{\"gridcolor\":\"white\",\"linecolor\":\"white\",\"ticks\":\"\"},\"bgcolor\":\"#E5ECF6\",\"radialaxis\":{\"gridcolor\":\"white\",\"linecolor\":\"white\",\"ticks\":\"\"}},\"scene\":{\"xaxis\":{\"backgroundcolor\":\"#E5ECF6\",\"gridcolor\":\"white\",\"gridwidth\":2,\"linecolor\":\"white\",\"showbackground\":true,\"ticks\":\"\",\"zerolinecolor\":\"white\"},\"yaxis\":{\"backgroundcolor\":\"#E5ECF6\",\"gridcolor\":\"white\",\"gridwidth\":2,\"linecolor\":\"white\",\"showbackground\":true,\"ticks\":\"\",\"zerolinecolor\":\"white\"},\"zaxis\":{\"backgroundcolor\":\"#E5ECF6\",\"gridcolor\":\"white\",\"gridwidth\":2,\"linecolor\":\"white\",\"showbackground\":true,\"ticks\":\"\",\"zerolinecolor\":\"white\"}},\"shapedefaults\":{\"line\":{\"color\":\"#2a3f5f\"}},\"ternary\":{\"aaxis\":{\"gridcolor\":\"white\",\"linecolor\":\"white\",\"ticks\":\"\"},\"baxis\":{\"gridcolor\":\"white\",\"linecolor\":\"white\",\"ticks\":\"\"},\"bgcolor\":\"#E5ECF6\",\"caxis\":{\"gridcolor\":\"white\",\"linecolor\":\"white\",\"ticks\":\"\"}},\"title\":{\"x\":0.05},\"xaxis\":{\"automargin\":true,\"gridcolor\":\"white\",\"linecolor\":\"white\",\"ticks\":\"\",\"title\":{\"standoff\":15},\"zerolinecolor\":\"white\",\"zerolinewidth\":2},\"yaxis\":{\"automargin\":true,\"gridcolor\":\"white\",\"linecolor\":\"white\",\"ticks\":\"\",\"title\":{\"standoff\":15},\"zerolinecolor\":\"white\",\"zerolinewidth\":2}}},\"yaxis\":{\"title\":{\"text\":\"\\uac70\\ub798\\uae08\\uc561\"},\"tickformat\":\"(\\ub9cc\\uc6d0)\"},\"title\":{\"text\":\"\\uad6c\\ubcc4 \\ud3c9\\uade0 \\uac70\\ub798\\uae08\\uc561(2018~2020)\"},\"xaxis\":{\"title\":{\"text\":\"\\uad6c\"}},\"autosize\":false,\"width\":1200,\"height\":1000},                        {\"responsive\": true}                    ).then(function(){\n",
       "                            \n",
       "var gd = document.getElementById('2df06b35-b784-462b-814d-bcd06cfceb78');\n",
       "var x = new MutationObserver(function (mutations, observer) {{\n",
       "        var display = window.getComputedStyle(gd).display;\n",
       "        if (!display || display === 'none') {{\n",
       "            console.log([gd, 'removed!']);\n",
       "            Plotly.purge(gd);\n",
       "            observer.disconnect();\n",
       "        }}\n",
       "}});\n",
       "\n",
       "// Listen for the removal of the full notebook cells\n",
       "var notebookContainer = gd.closest('#notebook-container');\n",
       "if (notebookContainer) {{\n",
       "    x.observe(notebookContainer, {childList: true});\n",
       "}}\n",
       "\n",
       "// Listen for the clearing of the current output cell\n",
       "var outputEl = gd.closest('.output');\n",
       "if (outputEl) {{\n",
       "    x.observe(outputEl, {childList: true});\n",
       "}}\n",
       "\n",
       "                        })                };                });            </script>        </div>"
      ]
     },
     "metadata": {},
     "output_type": "display_data"
    }
   ],
   "source": [
    "# 구별 평균 거래금액\n",
    "df = mean_by_gu.reset_index()\n",
    "sorted_df = df[['구', '거래금액']].sort_values('거래금액', ascending=False)\n",
    "gu_list = list(sorted_df['구'].values)\n",
    "\n",
    "region_mean_fig = go.Figure()\n",
    "\n",
    "trace_mean_list = []\n",
    "for gu in gu_list:\n",
    "    trace_region = go.Bar(x=df[df['구'] == gu]['구'], y=df[df['구'] == gu]['거래금액'], name=gu)\n",
    "    trace_mean_list.append(trace_region)\n",
    "\n",
    "region_mean_fig.add_traces(trace_mean_list)\n",
    "\n",
    "region_mean_fig.update_layout(\n",
    "    title='구별 평균 거래금액(2018~2020)',\n",
    "    xaxis_title='구',\n",
    "    yaxis_title='거래금액',\n",
    "    yaxis_tickformat='(만원)',\n",
    "    autosize=False,\n",
    "    width=1200,\n",
    "    height=1000\n",
    ")\n",
    "\n",
    "region_mean_fig.show()"
   ]
  },
  {
   "cell_type": "code",
   "execution_count": 44,
   "id": "21b8cf4d",
   "metadata": {},
   "outputs": [
    {
     "data": {
      "text/html": [
       "<div>\n",
       "<style scoped>\n",
       "    .dataframe tbody tr th:only-of-type {\n",
       "        vertical-align: middle;\n",
       "    }\n",
       "\n",
       "    .dataframe tbody tr th {\n",
       "        vertical-align: top;\n",
       "    }\n",
       "\n",
       "    .dataframe thead th {\n",
       "        text-align: right;\n",
       "    }\n",
       "</style>\n",
       "<table border=\"1\" class=\"dataframe\">\n",
       "  <thead>\n",
       "    <tr style=\"text-align: right;\">\n",
       "      <th></th>\n",
       "      <th>시군구</th>\n",
       "      <th>단지명</th>\n",
       "      <th>전용면적</th>\n",
       "      <th>계약년월</th>\n",
       "      <th>계약일</th>\n",
       "      <th>거래금액</th>\n",
       "      <th>층</th>\n",
       "      <th>건축년도</th>\n",
       "      <th>제곱미터단가</th>\n",
       "      <th>평당단가</th>\n",
       "      <th>시</th>\n",
       "      <th>구</th>\n",
       "      <th>동</th>\n",
       "    </tr>\n",
       "  </thead>\n",
       "  <tbody>\n",
       "    <tr>\n",
       "      <th>0</th>\n",
       "      <td>서울특별시 강남구 개포동</td>\n",
       "      <td>개포6차우성아파트1동~8동</td>\n",
       "      <td>79.97</td>\n",
       "      <td>201801</td>\n",
       "      <td>3</td>\n",
       "      <td>130000</td>\n",
       "      <td>4</td>\n",
       "      <td>1987</td>\n",
       "      <td>1625.609604</td>\n",
       "      <td>5364.511692</td>\n",
       "      <td>서울특별시</td>\n",
       "      <td>강남구</td>\n",
       "      <td>개포동</td>\n",
       "    </tr>\n",
       "    <tr>\n",
       "      <th>1</th>\n",
       "      <td>서울특별시 강남구 개포동</td>\n",
       "      <td>개포6차우성아파트1동~8동</td>\n",
       "      <td>79.97</td>\n",
       "      <td>201801</td>\n",
       "      <td>8</td>\n",
       "      <td>117000</td>\n",
       "      <td>2</td>\n",
       "      <td>1987</td>\n",
       "      <td>1463.048643</td>\n",
       "      <td>4828.060523</td>\n",
       "      <td>서울특별시</td>\n",
       "      <td>강남구</td>\n",
       "      <td>개포동</td>\n",
       "    </tr>\n",
       "    <tr>\n",
       "      <th>2</th>\n",
       "      <td>서울특별시 강남구 개포동</td>\n",
       "      <td>개포6차우성아파트1동~8동</td>\n",
       "      <td>79.97</td>\n",
       "      <td>201801</td>\n",
       "      <td>11</td>\n",
       "      <td>130000</td>\n",
       "      <td>1</td>\n",
       "      <td>1987</td>\n",
       "      <td>1625.609604</td>\n",
       "      <td>5364.511692</td>\n",
       "      <td>서울특별시</td>\n",
       "      <td>강남구</td>\n",
       "      <td>개포동</td>\n",
       "    </tr>\n",
       "    <tr>\n",
       "      <th>3</th>\n",
       "      <td>서울특별시 강남구 개포동</td>\n",
       "      <td>개포6차우성아파트1동~8동</td>\n",
       "      <td>79.97</td>\n",
       "      <td>201803</td>\n",
       "      <td>19</td>\n",
       "      <td>139500</td>\n",
       "      <td>2</td>\n",
       "      <td>1987</td>\n",
       "      <td>1744.404152</td>\n",
       "      <td>5756.533700</td>\n",
       "      <td>서울특별시</td>\n",
       "      <td>강남구</td>\n",
       "      <td>개포동</td>\n",
       "    </tr>\n",
       "    <tr>\n",
       "      <th>4</th>\n",
       "      <td>서울특별시 강남구 개포동</td>\n",
       "      <td>개포6차우성아파트1동~8동</td>\n",
       "      <td>54.98</td>\n",
       "      <td>201804</td>\n",
       "      <td>5</td>\n",
       "      <td>107500</td>\n",
       "      <td>5</td>\n",
       "      <td>1987</td>\n",
       "      <td>1955.256457</td>\n",
       "      <td>6452.346308</td>\n",
       "      <td>서울특별시</td>\n",
       "      <td>강남구</td>\n",
       "      <td>개포동</td>\n",
       "    </tr>\n",
       "    <tr>\n",
       "      <th>...</th>\n",
       "      <td>...</td>\n",
       "      <td>...</td>\n",
       "      <td>...</td>\n",
       "      <td>...</td>\n",
       "      <td>...</td>\n",
       "      <td>...</td>\n",
       "      <td>...</td>\n",
       "      <td>...</td>\n",
       "      <td>...</td>\n",
       "      <td>...</td>\n",
       "      <td>...</td>\n",
       "      <td>...</td>\n",
       "      <td>...</td>\n",
       "    </tr>\n",
       "    <tr>\n",
       "      <th>84233</th>\n",
       "      <td>서울특별시 중랑구 중화동</td>\n",
       "      <td>한영(104)</td>\n",
       "      <td>106.21</td>\n",
       "      <td>202003</td>\n",
       "      <td>11</td>\n",
       "      <td>45400</td>\n",
       "      <td>6</td>\n",
       "      <td>2003</td>\n",
       "      <td>427.455042</td>\n",
       "      <td>1410.601638</td>\n",
       "      <td>서울특별시</td>\n",
       "      <td>중랑구</td>\n",
       "      <td>중화동</td>\n",
       "    </tr>\n",
       "    <tr>\n",
       "      <th>84234</th>\n",
       "      <td>서울특별시 중랑구 중화동</td>\n",
       "      <td>한영(104)</td>\n",
       "      <td>67.57</td>\n",
       "      <td>202008</td>\n",
       "      <td>7</td>\n",
       "      <td>26000</td>\n",
       "      <td>2</td>\n",
       "      <td>2003</td>\n",
       "      <td>384.786148</td>\n",
       "      <td>1269.794287</td>\n",
       "      <td>서울특별시</td>\n",
       "      <td>중랑구</td>\n",
       "      <td>중화동</td>\n",
       "    </tr>\n",
       "    <tr>\n",
       "      <th>84235</th>\n",
       "      <td>서울특별시 중랑구 중화동</td>\n",
       "      <td>현대휴앤미</td>\n",
       "      <td>95.94</td>\n",
       "      <td>202007</td>\n",
       "      <td>10</td>\n",
       "      <td>44000</td>\n",
       "      <td>6</td>\n",
       "      <td>2007</td>\n",
       "      <td>458.619971</td>\n",
       "      <td>1513.445904</td>\n",
       "      <td>서울특별시</td>\n",
       "      <td>중랑구</td>\n",
       "      <td>중화동</td>\n",
       "    </tr>\n",
       "    <tr>\n",
       "      <th>84236</th>\n",
       "      <td>서울특별시 중랑구 중화동</td>\n",
       "      <td>현대휴앤미</td>\n",
       "      <td>100.17</td>\n",
       "      <td>202012</td>\n",
       "      <td>3</td>\n",
       "      <td>54800</td>\n",
       "      <td>5</td>\n",
       "      <td>2007</td>\n",
       "      <td>547.069981</td>\n",
       "      <td>1805.330937</td>\n",
       "      <td>서울특별시</td>\n",
       "      <td>중랑구</td>\n",
       "      <td>중화동</td>\n",
       "    </tr>\n",
       "    <tr>\n",
       "      <th>84237</th>\n",
       "      <td>서울특별시 중랑구 중화동</td>\n",
       "      <td>현대휴앤미(102동)</td>\n",
       "      <td>77.71</td>\n",
       "      <td>202009</td>\n",
       "      <td>28</td>\n",
       "      <td>40000</td>\n",
       "      <td>5</td>\n",
       "      <td>2007</td>\n",
       "      <td>514.734268</td>\n",
       "      <td>1698.623086</td>\n",
       "      <td>서울특별시</td>\n",
       "      <td>중랑구</td>\n",
       "      <td>중화동</td>\n",
       "    </tr>\n",
       "  </tbody>\n",
       "</table>\n",
       "<p>238182 rows × 13 columns</p>\n",
       "</div>"
      ],
      "text/plain": [
       "                 시군구             단지명    전용면적    계약년월  계약일    거래금액  층  건축년도  \\\n",
       "0      서울특별시 강남구 개포동  개포6차우성아파트1동~8동   79.97  201801    3  130000  4  1987   \n",
       "1      서울특별시 강남구 개포동  개포6차우성아파트1동~8동   79.97  201801    8  117000  2  1987   \n",
       "2      서울특별시 강남구 개포동  개포6차우성아파트1동~8동   79.97  201801   11  130000  1  1987   \n",
       "3      서울특별시 강남구 개포동  개포6차우성아파트1동~8동   79.97  201803   19  139500  2  1987   \n",
       "4      서울특별시 강남구 개포동  개포6차우성아파트1동~8동   54.98  201804    5  107500  5  1987   \n",
       "...              ...             ...     ...     ...  ...     ... ..   ...   \n",
       "84233  서울특별시 중랑구 중화동         한영(104)  106.21  202003   11   45400  6  2003   \n",
       "84234  서울특별시 중랑구 중화동         한영(104)   67.57  202008    7   26000  2  2003   \n",
       "84235  서울특별시 중랑구 중화동           현대휴앤미   95.94  202007   10   44000  6  2007   \n",
       "84236  서울특별시 중랑구 중화동           현대휴앤미  100.17  202012    3   54800  5  2007   \n",
       "84237  서울특별시 중랑구 중화동     현대휴앤미(102동)   77.71  202009   28   40000  5  2007   \n",
       "\n",
       "            제곱미터단가         평당단가      시    구    동  \n",
       "0      1625.609604  5364.511692  서울특별시  강남구  개포동  \n",
       "1      1463.048643  4828.060523  서울특별시  강남구  개포동  \n",
       "2      1625.609604  5364.511692  서울특별시  강남구  개포동  \n",
       "3      1744.404152  5756.533700  서울특별시  강남구  개포동  \n",
       "4      1955.256457  6452.346308  서울특별시  강남구  개포동  \n",
       "...            ...          ...    ...  ...  ...  \n",
       "84233   427.455042  1410.601638  서울특별시  중랑구  중화동  \n",
       "84234   384.786148  1269.794287  서울특별시  중랑구  중화동  \n",
       "84235   458.619971  1513.445904  서울특별시  중랑구  중화동  \n",
       "84236   547.069981  1805.330937  서울특별시  중랑구  중화동  \n",
       "84237   514.734268  1698.623086  서울특별시  중랑구  중화동  \n",
       "\n",
       "[238182 rows x 13 columns]"
      ]
     },
     "execution_count": 44,
     "metadata": {},
     "output_type": "execute_result"
    }
   ],
   "source": [
    "train_data"
   ]
  },
  {
   "cell_type": "code",
   "execution_count": 45,
   "id": "aefd20b0",
   "metadata": {},
   "outputs": [
    {
     "name": "stdout",
     "output_type": "stream",
     "text": [
      "train_data.csv , 거래금액, 시군구 데이터가 csv로 저장되었습니다.\n"
     ]
    }
   ],
   "source": [
    "# 거래금액, 시군구까지 저장\n",
    "train_data.to_csv('train_data.csv', encoding='utf-8-sig', index=False)\n",
    "print('train_data.csv , 거래금액, 시군구 데이터가 csv로 저장되었습니다.')"
   ]
  },
  {
   "cell_type": "markdown",
   "id": "dbc66fdb",
   "metadata": {},
   "source": [
    "### 단지명"
   ]
  },
  {
   "cell_type": "code",
   "execution_count": 46,
   "id": "3dba873e",
   "metadata": {},
   "outputs": [
    {
     "data": {
      "text/plain": [
       "기타              148872\n",
       "현대               17712\n",
       "래미안              13880\n",
       "푸르지오              5738\n",
       "힐스테이트             5388\n",
       "두산|두산위브           5114\n",
       "삼성                4632\n",
       "이편한|e편한|e-편한      4436\n",
       "자이                4170\n",
       "벽산                3905\n",
       "롯데캐슬              3896\n",
       "아이파크              3086\n",
       "sk|SK|에스케이        2351\n",
       "대우                2284\n",
       "쌍용                2271\n",
       "센트레빌              2133\n",
       "포스코|더샵            1141\n",
       "한화                1133\n",
       "데시앙                877\n",
       "코오롱                822\n",
       "롯데                 729\n",
       "벽산블루밍              688\n",
       "태영                 635\n",
       "동부                 546\n",
       "하늘채                343\n",
       "한라|한라비발디           180\n",
       "서희|서희스타힐스          176\n",
       "리슈빌                175\n",
       "KCC                148\n",
       "GS                 134\n",
       "플래티넘               124\n",
       "스위첸                117\n",
       "코아루                 97\n",
       "우미                  90\n",
       "호반                  75\n",
       "계룡                  45\n",
       "동문                  39\n",
       "Name: 단지명브랜드, dtype: int64"
      ]
     },
     "execution_count": 46,
     "metadata": {},
     "output_type": "execute_result"
    }
   ],
   "source": [
    "# 브랜드 평판 top24 시공사로 범주 축소\n",
    "# 2021.09.16 시공사 브랜드평판 순위 참고 링크: http://brikorea.com/bbs/board.php?bo_table=rep_1&wr_id=701\n",
    "\n",
    "train_data['단지명브랜드'] = '기타'\n",
    "top_brand = ['현대', '힐스테이트', 'GS','자이', '롯데','롯데캐슬', '포스코|더샵', '대우','푸르지오','삼성', '래미안', \n",
    "             '아이파크', 'sk|SK|에스케이', '이편한|e편한|e-편한', \n",
    "             '쌍용', '플래티넘', '호반', '서희|서희스타힐스', '한라|한라비발디', '우미','우미린',\n",
    "             '동부','센트레빌', '태영', '데시앙', '두산|두산위브', '벽산', '벽산블루밍', '한화', \n",
    "             '동문', '코오롱','하늘채', '코아루', '계룡', '리슈빌', 'KCC','스위첸']\n",
    "\n",
    "# top 10 시공사에 속해 있는 아파트면 해당 시공사 이름으로 top10 컬럼 값 할당\n",
    "for brand in top_brand:\n",
    "    train_data.loc[train_data['단지명'].str.contains(brand), '단지명브랜드'] = brand\n",
    "\n",
    "# top10 시공사에 속하는 아파트 단지 탐색\n",
    "train_data['단지명브랜드'].value_counts()\n"
   ]
  },
  {
   "cell_type": "code",
   "execution_count": 47,
   "id": "7791a41f",
   "metadata": {},
   "outputs": [
    {
     "data": {
      "text/html": [
       "<div>\n",
       "<style scoped>\n",
       "    .dataframe tbody tr th:only-of-type {\n",
       "        vertical-align: middle;\n",
       "    }\n",
       "\n",
       "    .dataframe tbody tr th {\n",
       "        vertical-align: top;\n",
       "    }\n",
       "\n",
       "    .dataframe thead th {\n",
       "        text-align: right;\n",
       "    }\n",
       "</style>\n",
       "<table border=\"1\" class=\"dataframe\">\n",
       "  <thead>\n",
       "    <tr style=\"text-align: right;\">\n",
       "      <th></th>\n",
       "      <th>시군구</th>\n",
       "      <th>단지명</th>\n",
       "      <th>전용면적</th>\n",
       "      <th>계약년월</th>\n",
       "      <th>계약일</th>\n",
       "      <th>거래금액</th>\n",
       "      <th>층</th>\n",
       "      <th>건축년도</th>\n",
       "      <th>제곱미터단가</th>\n",
       "      <th>평당단가</th>\n",
       "      <th>시</th>\n",
       "      <th>구</th>\n",
       "      <th>동</th>\n",
       "      <th>단지명브랜드</th>\n",
       "    </tr>\n",
       "  </thead>\n",
       "  <tbody>\n",
       "    <tr>\n",
       "      <th>0</th>\n",
       "      <td>서울특별시 강남구 개포동</td>\n",
       "      <td>개포6차우성아파트1동~8동</td>\n",
       "      <td>79.97</td>\n",
       "      <td>201801</td>\n",
       "      <td>3</td>\n",
       "      <td>130000</td>\n",
       "      <td>4</td>\n",
       "      <td>1987</td>\n",
       "      <td>1625.609604</td>\n",
       "      <td>5364.511692</td>\n",
       "      <td>서울특별시</td>\n",
       "      <td>강남구</td>\n",
       "      <td>개포동</td>\n",
       "      <td>기타</td>\n",
       "    </tr>\n",
       "    <tr>\n",
       "      <th>1</th>\n",
       "      <td>서울특별시 강남구 개포동</td>\n",
       "      <td>개포6차우성아파트1동~8동</td>\n",
       "      <td>79.97</td>\n",
       "      <td>201801</td>\n",
       "      <td>8</td>\n",
       "      <td>117000</td>\n",
       "      <td>2</td>\n",
       "      <td>1987</td>\n",
       "      <td>1463.048643</td>\n",
       "      <td>4828.060523</td>\n",
       "      <td>서울특별시</td>\n",
       "      <td>강남구</td>\n",
       "      <td>개포동</td>\n",
       "      <td>기타</td>\n",
       "    </tr>\n",
       "    <tr>\n",
       "      <th>2</th>\n",
       "      <td>서울특별시 강남구 개포동</td>\n",
       "      <td>개포6차우성아파트1동~8동</td>\n",
       "      <td>79.97</td>\n",
       "      <td>201801</td>\n",
       "      <td>11</td>\n",
       "      <td>130000</td>\n",
       "      <td>1</td>\n",
       "      <td>1987</td>\n",
       "      <td>1625.609604</td>\n",
       "      <td>5364.511692</td>\n",
       "      <td>서울특별시</td>\n",
       "      <td>강남구</td>\n",
       "      <td>개포동</td>\n",
       "      <td>기타</td>\n",
       "    </tr>\n",
       "    <tr>\n",
       "      <th>3</th>\n",
       "      <td>서울특별시 강남구 개포동</td>\n",
       "      <td>개포6차우성아파트1동~8동</td>\n",
       "      <td>79.97</td>\n",
       "      <td>201803</td>\n",
       "      <td>19</td>\n",
       "      <td>139500</td>\n",
       "      <td>2</td>\n",
       "      <td>1987</td>\n",
       "      <td>1744.404152</td>\n",
       "      <td>5756.533700</td>\n",
       "      <td>서울특별시</td>\n",
       "      <td>강남구</td>\n",
       "      <td>개포동</td>\n",
       "      <td>기타</td>\n",
       "    </tr>\n",
       "    <tr>\n",
       "      <th>4</th>\n",
       "      <td>서울특별시 강남구 개포동</td>\n",
       "      <td>개포6차우성아파트1동~8동</td>\n",
       "      <td>54.98</td>\n",
       "      <td>201804</td>\n",
       "      <td>5</td>\n",
       "      <td>107500</td>\n",
       "      <td>5</td>\n",
       "      <td>1987</td>\n",
       "      <td>1955.256457</td>\n",
       "      <td>6452.346308</td>\n",
       "      <td>서울특별시</td>\n",
       "      <td>강남구</td>\n",
       "      <td>개포동</td>\n",
       "      <td>기타</td>\n",
       "    </tr>\n",
       "    <tr>\n",
       "      <th>...</th>\n",
       "      <td>...</td>\n",
       "      <td>...</td>\n",
       "      <td>...</td>\n",
       "      <td>...</td>\n",
       "      <td>...</td>\n",
       "      <td>...</td>\n",
       "      <td>...</td>\n",
       "      <td>...</td>\n",
       "      <td>...</td>\n",
       "      <td>...</td>\n",
       "      <td>...</td>\n",
       "      <td>...</td>\n",
       "      <td>...</td>\n",
       "      <td>...</td>\n",
       "    </tr>\n",
       "    <tr>\n",
       "      <th>84233</th>\n",
       "      <td>서울특별시 중랑구 중화동</td>\n",
       "      <td>한영(104)</td>\n",
       "      <td>106.21</td>\n",
       "      <td>202003</td>\n",
       "      <td>11</td>\n",
       "      <td>45400</td>\n",
       "      <td>6</td>\n",
       "      <td>2003</td>\n",
       "      <td>427.455042</td>\n",
       "      <td>1410.601638</td>\n",
       "      <td>서울특별시</td>\n",
       "      <td>중랑구</td>\n",
       "      <td>중화동</td>\n",
       "      <td>기타</td>\n",
       "    </tr>\n",
       "    <tr>\n",
       "      <th>84234</th>\n",
       "      <td>서울특별시 중랑구 중화동</td>\n",
       "      <td>한영(104)</td>\n",
       "      <td>67.57</td>\n",
       "      <td>202008</td>\n",
       "      <td>7</td>\n",
       "      <td>26000</td>\n",
       "      <td>2</td>\n",
       "      <td>2003</td>\n",
       "      <td>384.786148</td>\n",
       "      <td>1269.794287</td>\n",
       "      <td>서울특별시</td>\n",
       "      <td>중랑구</td>\n",
       "      <td>중화동</td>\n",
       "      <td>기타</td>\n",
       "    </tr>\n",
       "    <tr>\n",
       "      <th>84235</th>\n",
       "      <td>서울특별시 중랑구 중화동</td>\n",
       "      <td>현대휴앤미</td>\n",
       "      <td>95.94</td>\n",
       "      <td>202007</td>\n",
       "      <td>10</td>\n",
       "      <td>44000</td>\n",
       "      <td>6</td>\n",
       "      <td>2007</td>\n",
       "      <td>458.619971</td>\n",
       "      <td>1513.445904</td>\n",
       "      <td>서울특별시</td>\n",
       "      <td>중랑구</td>\n",
       "      <td>중화동</td>\n",
       "      <td>현대</td>\n",
       "    </tr>\n",
       "    <tr>\n",
       "      <th>84236</th>\n",
       "      <td>서울특별시 중랑구 중화동</td>\n",
       "      <td>현대휴앤미</td>\n",
       "      <td>100.17</td>\n",
       "      <td>202012</td>\n",
       "      <td>3</td>\n",
       "      <td>54800</td>\n",
       "      <td>5</td>\n",
       "      <td>2007</td>\n",
       "      <td>547.069981</td>\n",
       "      <td>1805.330937</td>\n",
       "      <td>서울특별시</td>\n",
       "      <td>중랑구</td>\n",
       "      <td>중화동</td>\n",
       "      <td>현대</td>\n",
       "    </tr>\n",
       "    <tr>\n",
       "      <th>84237</th>\n",
       "      <td>서울특별시 중랑구 중화동</td>\n",
       "      <td>현대휴앤미(102동)</td>\n",
       "      <td>77.71</td>\n",
       "      <td>202009</td>\n",
       "      <td>28</td>\n",
       "      <td>40000</td>\n",
       "      <td>5</td>\n",
       "      <td>2007</td>\n",
       "      <td>514.734268</td>\n",
       "      <td>1698.623086</td>\n",
       "      <td>서울특별시</td>\n",
       "      <td>중랑구</td>\n",
       "      <td>중화동</td>\n",
       "      <td>현대</td>\n",
       "    </tr>\n",
       "  </tbody>\n",
       "</table>\n",
       "<p>238182 rows × 14 columns</p>\n",
       "</div>"
      ],
      "text/plain": [
       "                 시군구             단지명    전용면적    계약년월  계약일    거래금액  층  건축년도  \\\n",
       "0      서울특별시 강남구 개포동  개포6차우성아파트1동~8동   79.97  201801    3  130000  4  1987   \n",
       "1      서울특별시 강남구 개포동  개포6차우성아파트1동~8동   79.97  201801    8  117000  2  1987   \n",
       "2      서울특별시 강남구 개포동  개포6차우성아파트1동~8동   79.97  201801   11  130000  1  1987   \n",
       "3      서울특별시 강남구 개포동  개포6차우성아파트1동~8동   79.97  201803   19  139500  2  1987   \n",
       "4      서울특별시 강남구 개포동  개포6차우성아파트1동~8동   54.98  201804    5  107500  5  1987   \n",
       "...              ...             ...     ...     ...  ...     ... ..   ...   \n",
       "84233  서울특별시 중랑구 중화동         한영(104)  106.21  202003   11   45400  6  2003   \n",
       "84234  서울특별시 중랑구 중화동         한영(104)   67.57  202008    7   26000  2  2003   \n",
       "84235  서울특별시 중랑구 중화동           현대휴앤미   95.94  202007   10   44000  6  2007   \n",
       "84236  서울특별시 중랑구 중화동           현대휴앤미  100.17  202012    3   54800  5  2007   \n",
       "84237  서울특별시 중랑구 중화동     현대휴앤미(102동)   77.71  202009   28   40000  5  2007   \n",
       "\n",
       "            제곱미터단가         평당단가      시    구    동 단지명브랜드  \n",
       "0      1625.609604  5364.511692  서울특별시  강남구  개포동     기타  \n",
       "1      1463.048643  4828.060523  서울특별시  강남구  개포동     기타  \n",
       "2      1625.609604  5364.511692  서울특별시  강남구  개포동     기타  \n",
       "3      1744.404152  5756.533700  서울특별시  강남구  개포동     기타  \n",
       "4      1955.256457  6452.346308  서울특별시  강남구  개포동     기타  \n",
       "...            ...          ...    ...  ...  ...    ...  \n",
       "84233   427.455042  1410.601638  서울특별시  중랑구  중화동     기타  \n",
       "84234   384.786148  1269.794287  서울특별시  중랑구  중화동     기타  \n",
       "84235   458.619971  1513.445904  서울특별시  중랑구  중화동     현대  \n",
       "84236   547.069981  1805.330937  서울특별시  중랑구  중화동     현대  \n",
       "84237   514.734268  1698.623086  서울특별시  중랑구  중화동     현대  \n",
       "\n",
       "[238182 rows x 14 columns]"
      ]
     },
     "execution_count": 47,
     "metadata": {},
     "output_type": "execute_result"
    }
   ],
   "source": [
    "train_data"
   ]
  },
  {
   "cell_type": "code",
   "execution_count": 48,
   "id": "36b88fb9",
   "metadata": {},
   "outputs": [
    {
     "data": {
      "text/plain": [
       "37"
      ]
     },
     "execution_count": 48,
     "metadata": {},
     "output_type": "execute_result"
    }
   ],
   "source": [
    "train_data['단지명브랜드'].nunique()"
   ]
  },
  {
   "cell_type": "code",
   "execution_count": 49,
   "id": "84cff235",
   "metadata": {
    "scrolled": true
   },
   "outputs": [
    {
     "data": {
      "text/plain": [
       "0.3749653626218606"
      ]
     },
     "execution_count": 49,
     "metadata": {},
     "output_type": "execute_result"
    }
   ],
   "source": [
    "# 전체 데이터에서 37% 정도 차지\n",
    "sum(train_data['단지명브랜드']!='기타')/train_data.shape[0]"
   ]
  },
  {
   "cell_type": "markdown",
   "id": "9938566a",
   "metadata": {},
   "source": [
    "#### 단지명브랜드 EDA"
   ]
  },
  {
   "cell_type": "code",
   "execution_count": 50,
   "id": "40678288",
   "metadata": {},
   "outputs": [
    {
     "data": {
      "text/html": [
       "<div>\n",
       "<style scoped>\n",
       "    .dataframe tbody tr th:only-of-type {\n",
       "        vertical-align: middle;\n",
       "    }\n",
       "\n",
       "    .dataframe tbody tr th {\n",
       "        vertical-align: top;\n",
       "    }\n",
       "\n",
       "    .dataframe thead th {\n",
       "        text-align: right;\n",
       "    }\n",
       "</style>\n",
       "<table border=\"1\" class=\"dataframe\">\n",
       "  <thead>\n",
       "    <tr style=\"text-align: right;\">\n",
       "      <th></th>\n",
       "      <th>전용면적</th>\n",
       "      <th>계약년월</th>\n",
       "      <th>계약일</th>\n",
       "      <th>거래금액</th>\n",
       "      <th>층</th>\n",
       "      <th>건축년도</th>\n",
       "      <th>제곱미터단가</th>\n",
       "      <th>평당단가</th>\n",
       "    </tr>\n",
       "    <tr>\n",
       "      <th>단지명브랜드</th>\n",
       "      <th></th>\n",
       "      <th></th>\n",
       "      <th></th>\n",
       "      <th></th>\n",
       "      <th></th>\n",
       "      <th></th>\n",
       "      <th></th>\n",
       "      <th></th>\n",
       "    </tr>\n",
       "  </thead>\n",
       "  <tbody>\n",
       "    <tr>\n",
       "      <th>GS</th>\n",
       "      <td>57.840522</td>\n",
       "      <td>201915.179104</td>\n",
       "      <td>14.305970</td>\n",
       "      <td>61292.537313</td>\n",
       "      <td>11.231343</td>\n",
       "      <td>2003.664179</td>\n",
       "      <td>975.386409</td>\n",
       "      <td>3218.775151</td>\n",
       "    </tr>\n",
       "    <tr>\n",
       "      <th>KCC</th>\n",
       "      <td>87.845473</td>\n",
       "      <td>201916.317568</td>\n",
       "      <td>16.148649</td>\n",
       "      <td>94906.756757</td>\n",
       "      <td>13.574324</td>\n",
       "      <td>2006.993243</td>\n",
       "      <td>1100.200430</td>\n",
       "      <td>3630.661420</td>\n",
       "    </tr>\n",
       "    <tr>\n",
       "      <th>sk|SK|에스케이</th>\n",
       "      <td>83.380053</td>\n",
       "      <td>201907.962994</td>\n",
       "      <td>16.308379</td>\n",
       "      <td>66325.229689</td>\n",
       "      <td>11.675032</td>\n",
       "      <td>2005.017865</td>\n",
       "      <td>812.708225</td>\n",
       "      <td>2681.937142</td>\n",
       "    </tr>\n",
       "    <tr>\n",
       "      <th>계룡</th>\n",
       "      <td>71.930667</td>\n",
       "      <td>201898.022222</td>\n",
       "      <td>16.555556</td>\n",
       "      <td>51975.555556</td>\n",
       "      <td>9.644444</td>\n",
       "      <td>1998.977778</td>\n",
       "      <td>725.543952</td>\n",
       "      <td>2394.295042</td>\n",
       "    </tr>\n",
       "    <tr>\n",
       "      <th>기타</th>\n",
       "      <td>74.410862</td>\n",
       "      <td>201907.383900</td>\n",
       "      <td>15.830949</td>\n",
       "      <td>71544.785138</td>\n",
       "      <td>8.443482</td>\n",
       "      <td>1997.941218</td>\n",
       "      <td>953.565131</td>\n",
       "      <td>3146.764932</td>\n",
       "    </tr>\n",
       "    <tr>\n",
       "      <th>대우</th>\n",
       "      <td>75.375579</td>\n",
       "      <td>201904.352452</td>\n",
       "      <td>15.749562</td>\n",
       "      <td>69093.142732</td>\n",
       "      <td>10.802977</td>\n",
       "      <td>2000.108144</td>\n",
       "      <td>941.861218</td>\n",
       "      <td>3108.142021</td>\n",
       "    </tr>\n",
       "    <tr>\n",
       "      <th>데시앙</th>\n",
       "      <td>80.361433</td>\n",
       "      <td>201898.596351</td>\n",
       "      <td>15.291904</td>\n",
       "      <td>73712.713797</td>\n",
       "      <td>8.873432</td>\n",
       "      <td>2006.659065</td>\n",
       "      <td>924.677971</td>\n",
       "      <td>3051.437303</td>\n",
       "    </tr>\n",
       "    <tr>\n",
       "      <th>동문</th>\n",
       "      <td>83.142564</td>\n",
       "      <td>201926.384615</td>\n",
       "      <td>14.846154</td>\n",
       "      <td>43643.589744</td>\n",
       "      <td>6.794872</td>\n",
       "      <td>1998.333333</td>\n",
       "      <td>548.878418</td>\n",
       "      <td>1811.298778</td>\n",
       "    </tr>\n",
       "    <tr>\n",
       "      <th>동부</th>\n",
       "      <td>78.157115</td>\n",
       "      <td>201903.560440</td>\n",
       "      <td>15.630037</td>\n",
       "      <td>48843.446886</td>\n",
       "      <td>9.000000</td>\n",
       "      <td>1998.199634</td>\n",
       "      <td>642.904771</td>\n",
       "      <td>2121.585743</td>\n",
       "    </tr>\n",
       "    <tr>\n",
       "      <th>두산|두산위브</th>\n",
       "      <td>77.387576</td>\n",
       "      <td>201904.091513</td>\n",
       "      <td>15.839069</td>\n",
       "      <td>63354.612436</td>\n",
       "      <td>9.915917</td>\n",
       "      <td>2002.257528</td>\n",
       "      <td>840.341597</td>\n",
       "      <td>2773.127271</td>\n",
       "    </tr>\n",
       "    <tr>\n",
       "      <th>래미안</th>\n",
       "      <td>83.752831</td>\n",
       "      <td>201907.130187</td>\n",
       "      <td>15.709510</td>\n",
       "      <td>107636.163329</td>\n",
       "      <td>10.788329</td>\n",
       "      <td>2008.094669</td>\n",
       "      <td>1308.430425</td>\n",
       "      <td>4317.820404</td>\n",
       "    </tr>\n",
       "    <tr>\n",
       "      <th>롯데</th>\n",
       "      <td>88.190845</td>\n",
       "      <td>201905.068587</td>\n",
       "      <td>16.023320</td>\n",
       "      <td>69515.170096</td>\n",
       "      <td>9.293553</td>\n",
       "      <td>1998.156379</td>\n",
       "      <td>829.206351</td>\n",
       "      <td>2736.380957</td>\n",
       "    </tr>\n",
       "    <tr>\n",
       "      <th>롯데캐슬</th>\n",
       "      <td>99.168779</td>\n",
       "      <td>201904.867300</td>\n",
       "      <td>16.053131</td>\n",
       "      <td>107362.849589</td>\n",
       "      <td>12.760524</td>\n",
       "      <td>2009.059548</td>\n",
       "      <td>1119.437056</td>\n",
       "      <td>3694.142286</td>\n",
       "    </tr>\n",
       "    <tr>\n",
       "      <th>리슈빌</th>\n",
       "      <td>41.974571</td>\n",
       "      <td>201923.142857</td>\n",
       "      <td>16.228571</td>\n",
       "      <td>54711.142857</td>\n",
       "      <td>8.280000</td>\n",
       "      <td>2014.000000</td>\n",
       "      <td>1293.706573</td>\n",
       "      <td>4269.231690</td>\n",
       "    </tr>\n",
       "    <tr>\n",
       "      <th>벽산</th>\n",
       "      <td>80.813317</td>\n",
       "      <td>201906.803841</td>\n",
       "      <td>15.945198</td>\n",
       "      <td>50281.393086</td>\n",
       "      <td>9.540077</td>\n",
       "      <td>1998.682202</td>\n",
       "      <td>636.044578</td>\n",
       "      <td>2098.947109</td>\n",
       "    </tr>\n",
       "    <tr>\n",
       "      <th>벽산블루밍</th>\n",
       "      <td>80.711126</td>\n",
       "      <td>201901.046512</td>\n",
       "      <td>16.136628</td>\n",
       "      <td>59615.101744</td>\n",
       "      <td>9.765988</td>\n",
       "      <td>2004.815407</td>\n",
       "      <td>761.977294</td>\n",
       "      <td>2514.525070</td>\n",
       "    </tr>\n",
       "    <tr>\n",
       "      <th>삼성</th>\n",
       "      <td>82.572576</td>\n",
       "      <td>201907.726036</td>\n",
       "      <td>15.755829</td>\n",
       "      <td>83300.425734</td>\n",
       "      <td>10.144430</td>\n",
       "      <td>1999.667962</td>\n",
       "      <td>1040.311028</td>\n",
       "      <td>3433.026392</td>\n",
       "    </tr>\n",
       "    <tr>\n",
       "      <th>서희|서희스타힐스</th>\n",
       "      <td>61.941705</td>\n",
       "      <td>201897.994318</td>\n",
       "      <td>16.420455</td>\n",
       "      <td>44172.556818</td>\n",
       "      <td>10.465909</td>\n",
       "      <td>2013.045455</td>\n",
       "      <td>862.462102</td>\n",
       "      <td>2846.124937</td>\n",
       "    </tr>\n",
       "    <tr>\n",
       "      <th>센트레빌</th>\n",
       "      <td>92.066169</td>\n",
       "      <td>201903.099859</td>\n",
       "      <td>15.705110</td>\n",
       "      <td>96592.264416</td>\n",
       "      <td>9.153774</td>\n",
       "      <td>2006.980778</td>\n",
       "      <td>1035.483126</td>\n",
       "      <td>3417.094316</td>\n",
       "    </tr>\n",
       "    <tr>\n",
       "      <th>스위첸</th>\n",
       "      <td>76.064017</td>\n",
       "      <td>201910.940171</td>\n",
       "      <td>16.641026</td>\n",
       "      <td>91644.102564</td>\n",
       "      <td>8.461538</td>\n",
       "      <td>2014.512821</td>\n",
       "      <td>1228.517542</td>\n",
       "      <td>4054.107890</td>\n",
       "    </tr>\n",
       "    <tr>\n",
       "      <th>쌍용</th>\n",
       "      <td>78.972734</td>\n",
       "      <td>201901.950683</td>\n",
       "      <td>15.726112</td>\n",
       "      <td>74966.956407</td>\n",
       "      <td>9.428886</td>\n",
       "      <td>1997.922061</td>\n",
       "      <td>963.238624</td>\n",
       "      <td>3178.687459</td>\n",
       "    </tr>\n",
       "    <tr>\n",
       "      <th>아이파크</th>\n",
       "      <td>93.328370</td>\n",
       "      <td>201913.522359</td>\n",
       "      <td>16.122813</td>\n",
       "      <td>106841.840570</td>\n",
       "      <td>10.200259</td>\n",
       "      <td>2009.259235</td>\n",
       "      <td>1182.406715</td>\n",
       "      <td>3901.942159</td>\n",
       "    </tr>\n",
       "    <tr>\n",
       "      <th>우미</th>\n",
       "      <td>45.658556</td>\n",
       "      <td>201905.133333</td>\n",
       "      <td>14.288889</td>\n",
       "      <td>36402.777778</td>\n",
       "      <td>7.211111</td>\n",
       "      <td>2007.200000</td>\n",
       "      <td>816.886403</td>\n",
       "      <td>2695.725129</td>\n",
       "    </tr>\n",
       "    <tr>\n",
       "      <th>이편한|e편한|e-편한</th>\n",
       "      <td>85.499629</td>\n",
       "      <td>201908.366546</td>\n",
       "      <td>15.911858</td>\n",
       "      <td>93412.165014</td>\n",
       "      <td>9.893598</td>\n",
       "      <td>2007.539901</td>\n",
       "      <td>1128.325834</td>\n",
       "      <td>3723.475253</td>\n",
       "    </tr>\n",
       "    <tr>\n",
       "      <th>자이</th>\n",
       "      <td>94.368012</td>\n",
       "      <td>201909.284173</td>\n",
       "      <td>15.873381</td>\n",
       "      <td>129258.846283</td>\n",
       "      <td>12.574341</td>\n",
       "      <td>2011.400000</td>\n",
       "      <td>1424.200309</td>\n",
       "      <td>4699.861021</td>\n",
       "    </tr>\n",
       "    <tr>\n",
       "      <th>코아루</th>\n",
       "      <td>92.707732</td>\n",
       "      <td>201900.948454</td>\n",
       "      <td>15.144330</td>\n",
       "      <td>60023.804124</td>\n",
       "      <td>6.546392</td>\n",
       "      <td>2009.082474</td>\n",
       "      <td>649.062204</td>\n",
       "      <td>2141.905272</td>\n",
       "    </tr>\n",
       "    <tr>\n",
       "      <th>코오롱</th>\n",
       "      <td>76.448314</td>\n",
       "      <td>201910.731144</td>\n",
       "      <td>15.826034</td>\n",
       "      <td>78106.727494</td>\n",
       "      <td>8.852798</td>\n",
       "      <td>1997.208029</td>\n",
       "      <td>1046.337295</td>\n",
       "      <td>3452.913072</td>\n",
       "    </tr>\n",
       "    <tr>\n",
       "      <th>태영</th>\n",
       "      <td>78.491307</td>\n",
       "      <td>201908.773228</td>\n",
       "      <td>15.776378</td>\n",
       "      <td>75960.316535</td>\n",
       "      <td>11.275591</td>\n",
       "      <td>1999.244094</td>\n",
       "      <td>998.435906</td>\n",
       "      <td>3294.838490</td>\n",
       "    </tr>\n",
       "    <tr>\n",
       "      <th>포스코|더샵</th>\n",
       "      <td>109.827586</td>\n",
       "      <td>201907.719544</td>\n",
       "      <td>15.645048</td>\n",
       "      <td>127449.158633</td>\n",
       "      <td>14.976337</td>\n",
       "      <td>2009.675723</td>\n",
       "      <td>1196.154173</td>\n",
       "      <td>3947.308772</td>\n",
       "    </tr>\n",
       "    <tr>\n",
       "      <th>푸르지오</th>\n",
       "      <td>81.977599</td>\n",
       "      <td>201903.223597</td>\n",
       "      <td>15.912687</td>\n",
       "      <td>84260.578599</td>\n",
       "      <td>9.931858</td>\n",
       "      <td>2007.914779</td>\n",
       "      <td>1059.065263</td>\n",
       "      <td>3494.915369</td>\n",
       "    </tr>\n",
       "    <tr>\n",
       "      <th>플래티넘</th>\n",
       "      <td>107.720806</td>\n",
       "      <td>201916.653226</td>\n",
       "      <td>17.500000</td>\n",
       "      <td>94198.387097</td>\n",
       "      <td>15.129032</td>\n",
       "      <td>2008.435484</td>\n",
       "      <td>826.394283</td>\n",
       "      <td>2727.101135</td>\n",
       "    </tr>\n",
       "    <tr>\n",
       "      <th>하늘채</th>\n",
       "      <td>79.883234</td>\n",
       "      <td>201915.268222</td>\n",
       "      <td>16.402332</td>\n",
       "      <td>70474.606414</td>\n",
       "      <td>9.288630</td>\n",
       "      <td>2011.577259</td>\n",
       "      <td>907.062811</td>\n",
       "      <td>2993.307275</td>\n",
       "    </tr>\n",
       "    <tr>\n",
       "      <th>한라|한라비발디</th>\n",
       "      <td>63.458267</td>\n",
       "      <td>201909.466667</td>\n",
       "      <td>16.205556</td>\n",
       "      <td>73685.277778</td>\n",
       "      <td>7.961111</td>\n",
       "      <td>2002.733333</td>\n",
       "      <td>1172.216348</td>\n",
       "      <td>3868.313949</td>\n",
       "    </tr>\n",
       "    <tr>\n",
       "      <th>한화</th>\n",
       "      <td>79.333496</td>\n",
       "      <td>201902.759047</td>\n",
       "      <td>15.533098</td>\n",
       "      <td>66560.282436</td>\n",
       "      <td>11.716681</td>\n",
       "      <td>2003.396293</td>\n",
       "      <td>861.825780</td>\n",
       "      <td>2844.025074</td>\n",
       "    </tr>\n",
       "    <tr>\n",
       "      <th>현대</th>\n",
       "      <td>83.037596</td>\n",
       "      <td>201905.929935</td>\n",
       "      <td>15.764623</td>\n",
       "      <td>80466.599029</td>\n",
       "      <td>9.514905</td>\n",
       "      <td>1995.724142</td>\n",
       "      <td>953.530409</td>\n",
       "      <td>3146.650351</td>\n",
       "    </tr>\n",
       "    <tr>\n",
       "      <th>호반</th>\n",
       "      <td>104.935665</td>\n",
       "      <td>201909.306667</td>\n",
       "      <td>17.026667</td>\n",
       "      <td>134140.666667</td>\n",
       "      <td>11.813333</td>\n",
       "      <td>2013.466667</td>\n",
       "      <td>1279.764572</td>\n",
       "      <td>4223.223088</td>\n",
       "    </tr>\n",
       "    <tr>\n",
       "      <th>힐스테이트</th>\n",
       "      <td>84.052082</td>\n",
       "      <td>201905.095768</td>\n",
       "      <td>15.822754</td>\n",
       "      <td>89116.804009</td>\n",
       "      <td>8.838159</td>\n",
       "      <td>2010.928359</td>\n",
       "      <td>1092.546426</td>\n",
       "      <td>3605.403205</td>\n",
       "    </tr>\n",
       "  </tbody>\n",
       "</table>\n",
       "</div>"
      ],
      "text/plain": [
       "                    전용면적           계약년월        계약일           거래금액          층  \\\n",
       "단지명브랜드                                                                         \n",
       "GS             57.840522  201915.179104  14.305970   61292.537313  11.231343   \n",
       "KCC            87.845473  201916.317568  16.148649   94906.756757  13.574324   \n",
       "sk|SK|에스케이     83.380053  201907.962994  16.308379   66325.229689  11.675032   \n",
       "계룡             71.930667  201898.022222  16.555556   51975.555556   9.644444   \n",
       "기타             74.410862  201907.383900  15.830949   71544.785138   8.443482   \n",
       "대우             75.375579  201904.352452  15.749562   69093.142732  10.802977   \n",
       "데시앙            80.361433  201898.596351  15.291904   73712.713797   8.873432   \n",
       "동문             83.142564  201926.384615  14.846154   43643.589744   6.794872   \n",
       "동부             78.157115  201903.560440  15.630037   48843.446886   9.000000   \n",
       "두산|두산위브        77.387576  201904.091513  15.839069   63354.612436   9.915917   \n",
       "래미안            83.752831  201907.130187  15.709510  107636.163329  10.788329   \n",
       "롯데             88.190845  201905.068587  16.023320   69515.170096   9.293553   \n",
       "롯데캐슬           99.168779  201904.867300  16.053131  107362.849589  12.760524   \n",
       "리슈빌            41.974571  201923.142857  16.228571   54711.142857   8.280000   \n",
       "벽산             80.813317  201906.803841  15.945198   50281.393086   9.540077   \n",
       "벽산블루밍          80.711126  201901.046512  16.136628   59615.101744   9.765988   \n",
       "삼성             82.572576  201907.726036  15.755829   83300.425734  10.144430   \n",
       "서희|서희스타힐스      61.941705  201897.994318  16.420455   44172.556818  10.465909   \n",
       "센트레빌           92.066169  201903.099859  15.705110   96592.264416   9.153774   \n",
       "스위첸            76.064017  201910.940171  16.641026   91644.102564   8.461538   \n",
       "쌍용             78.972734  201901.950683  15.726112   74966.956407   9.428886   \n",
       "아이파크           93.328370  201913.522359  16.122813  106841.840570  10.200259   \n",
       "우미             45.658556  201905.133333  14.288889   36402.777778   7.211111   \n",
       "이편한|e편한|e-편한   85.499629  201908.366546  15.911858   93412.165014   9.893598   \n",
       "자이             94.368012  201909.284173  15.873381  129258.846283  12.574341   \n",
       "코아루            92.707732  201900.948454  15.144330   60023.804124   6.546392   \n",
       "코오롱            76.448314  201910.731144  15.826034   78106.727494   8.852798   \n",
       "태영             78.491307  201908.773228  15.776378   75960.316535  11.275591   \n",
       "포스코|더샵        109.827586  201907.719544  15.645048  127449.158633  14.976337   \n",
       "푸르지오           81.977599  201903.223597  15.912687   84260.578599   9.931858   \n",
       "플래티넘          107.720806  201916.653226  17.500000   94198.387097  15.129032   \n",
       "하늘채            79.883234  201915.268222  16.402332   70474.606414   9.288630   \n",
       "한라|한라비발디       63.458267  201909.466667  16.205556   73685.277778   7.961111   \n",
       "한화             79.333496  201902.759047  15.533098   66560.282436  11.716681   \n",
       "현대             83.037596  201905.929935  15.764623   80466.599029   9.514905   \n",
       "호반            104.935665  201909.306667  17.026667  134140.666667  11.813333   \n",
       "힐스테이트          84.052082  201905.095768  15.822754   89116.804009   8.838159   \n",
       "\n",
       "                     건축년도       제곱미터단가         평당단가  \n",
       "단지명브랜드                                               \n",
       "GS            2003.664179   975.386409  3218.775151  \n",
       "KCC           2006.993243  1100.200430  3630.661420  \n",
       "sk|SK|에스케이    2005.017865   812.708225  2681.937142  \n",
       "계룡            1998.977778   725.543952  2394.295042  \n",
       "기타            1997.941218   953.565131  3146.764932  \n",
       "대우            2000.108144   941.861218  3108.142021  \n",
       "데시앙           2006.659065   924.677971  3051.437303  \n",
       "동문            1998.333333   548.878418  1811.298778  \n",
       "동부            1998.199634   642.904771  2121.585743  \n",
       "두산|두산위브       2002.257528   840.341597  2773.127271  \n",
       "래미안           2008.094669  1308.430425  4317.820404  \n",
       "롯데            1998.156379   829.206351  2736.380957  \n",
       "롯데캐슬          2009.059548  1119.437056  3694.142286  \n",
       "리슈빌           2014.000000  1293.706573  4269.231690  \n",
       "벽산            1998.682202   636.044578  2098.947109  \n",
       "벽산블루밍         2004.815407   761.977294  2514.525070  \n",
       "삼성            1999.667962  1040.311028  3433.026392  \n",
       "서희|서희스타힐스     2013.045455   862.462102  2846.124937  \n",
       "센트레빌          2006.980778  1035.483126  3417.094316  \n",
       "스위첸           2014.512821  1228.517542  4054.107890  \n",
       "쌍용            1997.922061   963.238624  3178.687459  \n",
       "아이파크          2009.259235  1182.406715  3901.942159  \n",
       "우미            2007.200000   816.886403  2695.725129  \n",
       "이편한|e편한|e-편한  2007.539901  1128.325834  3723.475253  \n",
       "자이            2011.400000  1424.200309  4699.861021  \n",
       "코아루           2009.082474   649.062204  2141.905272  \n",
       "코오롱           1997.208029  1046.337295  3452.913072  \n",
       "태영            1999.244094   998.435906  3294.838490  \n",
       "포스코|더샵        2009.675723  1196.154173  3947.308772  \n",
       "푸르지오          2007.914779  1059.065263  3494.915369  \n",
       "플래티넘          2008.435484   826.394283  2727.101135  \n",
       "하늘채           2011.577259   907.062811  2993.307275  \n",
       "한라|한라비발디      2002.733333  1172.216348  3868.313949  \n",
       "한화            2003.396293   861.825780  2844.025074  \n",
       "현대            1995.724142   953.530409  3146.650351  \n",
       "호반            2013.466667  1279.764572  4223.223088  \n",
       "힐스테이트         2010.928359  1092.546426  3605.403205  "
      ]
     },
     "execution_count": 50,
     "metadata": {},
     "output_type": "execute_result"
    }
   ],
   "source": [
    "# 단지명브랜드별 평균 거래금액\n",
    "\n",
    "mean_by_aptbrand = train_data.groupby(['단지명브랜드']).mean()\n",
    "mean_by_aptbrand"
   ]
  },
  {
   "cell_type": "code",
   "execution_count": 51,
   "id": "883ea716",
   "metadata": {},
   "outputs": [
    {
     "data": {
      "application/vnd.plotly.v1+json": {
       "config": {
        "plotlyServerURL": "https://plot.ly"
       },
       "data": [
        {
         "name": "호반",
         "type": "bar",
         "x": [
          "호반"
         ],
         "y": [
          134140.66666666666
         ]
        },
        {
         "name": "자이",
         "type": "bar",
         "x": [
          "자이"
         ],
         "y": [
          129258.84628297362
         ]
        },
        {
         "name": "포스코|더샵",
         "type": "bar",
         "x": [
          "포스코|더샵"
         ],
         "y": [
          127449.15863277827
         ]
        },
        {
         "name": "래미안",
         "type": "bar",
         "x": [
          "래미안"
         ],
         "y": [
          107636.16332853025
         ]
        },
        {
         "name": "롯데캐슬",
         "type": "bar",
         "x": [
          "롯데캐슬"
         ],
         "y": [
          107362.84958932239
         ]
        },
        {
         "name": "아이파크",
         "type": "bar",
         "x": [
          "아이파크"
         ],
         "y": [
          106841.84057031757
         ]
        },
        {
         "name": "센트레빌",
         "type": "bar",
         "x": [
          "센트레빌"
         ],
         "y": [
          96592.26441631505
         ]
        },
        {
         "name": "KCC",
         "type": "bar",
         "x": [
          "KCC"
         ],
         "y": [
          94906.75675675676
         ]
        },
        {
         "name": "플래티넘",
         "type": "bar",
         "x": [
          "플래티넘"
         ],
         "y": [
          94198.3870967742
         ]
        },
        {
         "name": "이편한|e편한|e-편한",
         "type": "bar",
         "x": [
          "이편한|e편한|e-편한"
         ],
         "y": [
          93412.1650135257
         ]
        },
        {
         "name": "스위첸",
         "type": "bar",
         "x": [
          "스위첸"
         ],
         "y": [
          91644.10256410256
         ]
        },
        {
         "name": "힐스테이트",
         "type": "bar",
         "x": [
          "힐스테이트"
         ],
         "y": [
          89116.80400890869
         ]
        },
        {
         "name": "푸르지오",
         "type": "bar",
         "x": [
          "푸르지오"
         ],
         "y": [
          84260.57859881491
         ]
        },
        {
         "name": "삼성",
         "type": "bar",
         "x": [
          "삼성"
         ],
         "y": [
          83300.42573402417
         ]
        },
        {
         "name": "현대",
         "type": "bar",
         "x": [
          "현대"
         ],
         "y": [
          80466.59902890696
         ]
        },
        {
         "name": "코오롱",
         "type": "bar",
         "x": [
          "코오롱"
         ],
         "y": [
          78106.72749391728
         ]
        },
        {
         "name": "태영",
         "type": "bar",
         "x": [
          "태영"
         ],
         "y": [
          75960.31653543307
         ]
        },
        {
         "name": "쌍용",
         "type": "bar",
         "x": [
          "쌍용"
         ],
         "y": [
          74966.95640686923
         ]
        },
        {
         "name": "데시앙",
         "type": "bar",
         "x": [
          "데시앙"
         ],
         "y": [
          73712.71379703535
         ]
        },
        {
         "name": "한라|한라비발디",
         "type": "bar",
         "x": [
          "한라|한라비발디"
         ],
         "y": [
          73685.27777777778
         ]
        },
        {
         "name": "기타",
         "type": "bar",
         "x": [
          "기타"
         ],
         "y": [
          71544.78513756784
         ]
        },
        {
         "name": "하늘채",
         "type": "bar",
         "x": [
          "하늘채"
         ],
         "y": [
          70474.60641399417
         ]
        },
        {
         "name": "롯데",
         "type": "bar",
         "x": [
          "롯데"
         ],
         "y": [
          69515.17009602195
         ]
        },
        {
         "name": "대우",
         "type": "bar",
         "x": [
          "대우"
         ],
         "y": [
          69093.14273204903
         ]
        },
        {
         "name": "한화",
         "type": "bar",
         "x": [
          "한화"
         ],
         "y": [
          66560.28243601059
         ]
        },
        {
         "name": "sk|SK|에스케이",
         "type": "bar",
         "x": [
          "sk|SK|에스케이"
         ],
         "y": [
          66325.22968949383
         ]
        },
        {
         "name": "두산|두산위브",
         "type": "bar",
         "x": [
          "두산|두산위브"
         ],
         "y": [
          63354.612436448966
         ]
        },
        {
         "name": "GS",
         "type": "bar",
         "x": [
          "GS"
         ],
         "y": [
          61292.53731343283
         ]
        },
        {
         "name": "코아루",
         "type": "bar",
         "x": [
          "코아루"
         ],
         "y": [
          60023.80412371134
         ]
        },
        {
         "name": "벽산블루밍",
         "type": "bar",
         "x": [
          "벽산블루밍"
         ],
         "y": [
          59615.101744186046
         ]
        },
        {
         "name": "리슈빌",
         "type": "bar",
         "x": [
          "리슈빌"
         ],
         "y": [
          54711.142857142855
         ]
        },
        {
         "name": "계룡",
         "type": "bar",
         "x": [
          "계룡"
         ],
         "y": [
          51975.555555555555
         ]
        },
        {
         "name": "벽산",
         "type": "bar",
         "x": [
          "벽산"
         ],
         "y": [
          50281.39308578745
         ]
        },
        {
         "name": "동부",
         "type": "bar",
         "x": [
          "동부"
         ],
         "y": [
          48843.44688644689
         ]
        },
        {
         "name": "서희|서희스타힐스",
         "type": "bar",
         "x": [
          "서희|서희스타힐스"
         ],
         "y": [
          44172.556818181816
         ]
        },
        {
         "name": "동문",
         "type": "bar",
         "x": [
          "동문"
         ],
         "y": [
          43643.58974358974
         ]
        },
        {
         "name": "우미",
         "type": "bar",
         "x": [
          "우미"
         ],
         "y": [
          36402.77777777778
         ]
        }
       ],
       "layout": {
        "autosize": false,
        "height": 1000,
        "template": {
         "data": {
          "bar": [
           {
            "error_x": {
             "color": "#2a3f5f"
            },
            "error_y": {
             "color": "#2a3f5f"
            },
            "marker": {
             "line": {
              "color": "#E5ECF6",
              "width": 0.5
             },
             "pattern": {
              "fillmode": "overlay",
              "size": 10,
              "solidity": 0.2
             }
            },
            "type": "bar"
           }
          ],
          "barpolar": [
           {
            "marker": {
             "line": {
              "color": "#E5ECF6",
              "width": 0.5
             },
             "pattern": {
              "fillmode": "overlay",
              "size": 10,
              "solidity": 0.2
             }
            },
            "type": "barpolar"
           }
          ],
          "carpet": [
           {
            "aaxis": {
             "endlinecolor": "#2a3f5f",
             "gridcolor": "white",
             "linecolor": "white",
             "minorgridcolor": "white",
             "startlinecolor": "#2a3f5f"
            },
            "baxis": {
             "endlinecolor": "#2a3f5f",
             "gridcolor": "white",
             "linecolor": "white",
             "minorgridcolor": "white",
             "startlinecolor": "#2a3f5f"
            },
            "type": "carpet"
           }
          ],
          "choropleth": [
           {
            "colorbar": {
             "outlinewidth": 0,
             "ticks": ""
            },
            "type": "choropleth"
           }
          ],
          "contour": [
           {
            "colorbar": {
             "outlinewidth": 0,
             "ticks": ""
            },
            "colorscale": [
             [
              0,
              "#0d0887"
             ],
             [
              0.1111111111111111,
              "#46039f"
             ],
             [
              0.2222222222222222,
              "#7201a8"
             ],
             [
              0.3333333333333333,
              "#9c179e"
             ],
             [
              0.4444444444444444,
              "#bd3786"
             ],
             [
              0.5555555555555556,
              "#d8576b"
             ],
             [
              0.6666666666666666,
              "#ed7953"
             ],
             [
              0.7777777777777778,
              "#fb9f3a"
             ],
             [
              0.8888888888888888,
              "#fdca26"
             ],
             [
              1,
              "#f0f921"
             ]
            ],
            "type": "contour"
           }
          ],
          "contourcarpet": [
           {
            "colorbar": {
             "outlinewidth": 0,
             "ticks": ""
            },
            "type": "contourcarpet"
           }
          ],
          "heatmap": [
           {
            "colorbar": {
             "outlinewidth": 0,
             "ticks": ""
            },
            "colorscale": [
             [
              0,
              "#0d0887"
             ],
             [
              0.1111111111111111,
              "#46039f"
             ],
             [
              0.2222222222222222,
              "#7201a8"
             ],
             [
              0.3333333333333333,
              "#9c179e"
             ],
             [
              0.4444444444444444,
              "#bd3786"
             ],
             [
              0.5555555555555556,
              "#d8576b"
             ],
             [
              0.6666666666666666,
              "#ed7953"
             ],
             [
              0.7777777777777778,
              "#fb9f3a"
             ],
             [
              0.8888888888888888,
              "#fdca26"
             ],
             [
              1,
              "#f0f921"
             ]
            ],
            "type": "heatmap"
           }
          ],
          "heatmapgl": [
           {
            "colorbar": {
             "outlinewidth": 0,
             "ticks": ""
            },
            "colorscale": [
             [
              0,
              "#0d0887"
             ],
             [
              0.1111111111111111,
              "#46039f"
             ],
             [
              0.2222222222222222,
              "#7201a8"
             ],
             [
              0.3333333333333333,
              "#9c179e"
             ],
             [
              0.4444444444444444,
              "#bd3786"
             ],
             [
              0.5555555555555556,
              "#d8576b"
             ],
             [
              0.6666666666666666,
              "#ed7953"
             ],
             [
              0.7777777777777778,
              "#fb9f3a"
             ],
             [
              0.8888888888888888,
              "#fdca26"
             ],
             [
              1,
              "#f0f921"
             ]
            ],
            "type": "heatmapgl"
           }
          ],
          "histogram": [
           {
            "marker": {
             "pattern": {
              "fillmode": "overlay",
              "size": 10,
              "solidity": 0.2
             }
            },
            "type": "histogram"
           }
          ],
          "histogram2d": [
           {
            "colorbar": {
             "outlinewidth": 0,
             "ticks": ""
            },
            "colorscale": [
             [
              0,
              "#0d0887"
             ],
             [
              0.1111111111111111,
              "#46039f"
             ],
             [
              0.2222222222222222,
              "#7201a8"
             ],
             [
              0.3333333333333333,
              "#9c179e"
             ],
             [
              0.4444444444444444,
              "#bd3786"
             ],
             [
              0.5555555555555556,
              "#d8576b"
             ],
             [
              0.6666666666666666,
              "#ed7953"
             ],
             [
              0.7777777777777778,
              "#fb9f3a"
             ],
             [
              0.8888888888888888,
              "#fdca26"
             ],
             [
              1,
              "#f0f921"
             ]
            ],
            "type": "histogram2d"
           }
          ],
          "histogram2dcontour": [
           {
            "colorbar": {
             "outlinewidth": 0,
             "ticks": ""
            },
            "colorscale": [
             [
              0,
              "#0d0887"
             ],
             [
              0.1111111111111111,
              "#46039f"
             ],
             [
              0.2222222222222222,
              "#7201a8"
             ],
             [
              0.3333333333333333,
              "#9c179e"
             ],
             [
              0.4444444444444444,
              "#bd3786"
             ],
             [
              0.5555555555555556,
              "#d8576b"
             ],
             [
              0.6666666666666666,
              "#ed7953"
             ],
             [
              0.7777777777777778,
              "#fb9f3a"
             ],
             [
              0.8888888888888888,
              "#fdca26"
             ],
             [
              1,
              "#f0f921"
             ]
            ],
            "type": "histogram2dcontour"
           }
          ],
          "mesh3d": [
           {
            "colorbar": {
             "outlinewidth": 0,
             "ticks": ""
            },
            "type": "mesh3d"
           }
          ],
          "parcoords": [
           {
            "line": {
             "colorbar": {
              "outlinewidth": 0,
              "ticks": ""
             }
            },
            "type": "parcoords"
           }
          ],
          "pie": [
           {
            "automargin": true,
            "type": "pie"
           }
          ],
          "scatter": [
           {
            "marker": {
             "colorbar": {
              "outlinewidth": 0,
              "ticks": ""
             }
            },
            "type": "scatter"
           }
          ],
          "scatter3d": [
           {
            "line": {
             "colorbar": {
              "outlinewidth": 0,
              "ticks": ""
             }
            },
            "marker": {
             "colorbar": {
              "outlinewidth": 0,
              "ticks": ""
             }
            },
            "type": "scatter3d"
           }
          ],
          "scattercarpet": [
           {
            "marker": {
             "colorbar": {
              "outlinewidth": 0,
              "ticks": ""
             }
            },
            "type": "scattercarpet"
           }
          ],
          "scattergeo": [
           {
            "marker": {
             "colorbar": {
              "outlinewidth": 0,
              "ticks": ""
             }
            },
            "type": "scattergeo"
           }
          ],
          "scattergl": [
           {
            "marker": {
             "colorbar": {
              "outlinewidth": 0,
              "ticks": ""
             }
            },
            "type": "scattergl"
           }
          ],
          "scattermapbox": [
           {
            "marker": {
             "colorbar": {
              "outlinewidth": 0,
              "ticks": ""
             }
            },
            "type": "scattermapbox"
           }
          ],
          "scatterpolar": [
           {
            "marker": {
             "colorbar": {
              "outlinewidth": 0,
              "ticks": ""
             }
            },
            "type": "scatterpolar"
           }
          ],
          "scatterpolargl": [
           {
            "marker": {
             "colorbar": {
              "outlinewidth": 0,
              "ticks": ""
             }
            },
            "type": "scatterpolargl"
           }
          ],
          "scatterternary": [
           {
            "marker": {
             "colorbar": {
              "outlinewidth": 0,
              "ticks": ""
             }
            },
            "type": "scatterternary"
           }
          ],
          "surface": [
           {
            "colorbar": {
             "outlinewidth": 0,
             "ticks": ""
            },
            "colorscale": [
             [
              0,
              "#0d0887"
             ],
             [
              0.1111111111111111,
              "#46039f"
             ],
             [
              0.2222222222222222,
              "#7201a8"
             ],
             [
              0.3333333333333333,
              "#9c179e"
             ],
             [
              0.4444444444444444,
              "#bd3786"
             ],
             [
              0.5555555555555556,
              "#d8576b"
             ],
             [
              0.6666666666666666,
              "#ed7953"
             ],
             [
              0.7777777777777778,
              "#fb9f3a"
             ],
             [
              0.8888888888888888,
              "#fdca26"
             ],
             [
              1,
              "#f0f921"
             ]
            ],
            "type": "surface"
           }
          ],
          "table": [
           {
            "cells": {
             "fill": {
              "color": "#EBF0F8"
             },
             "line": {
              "color": "white"
             }
            },
            "header": {
             "fill": {
              "color": "#C8D4E3"
             },
             "line": {
              "color": "white"
             }
            },
            "type": "table"
           }
          ]
         },
         "layout": {
          "annotationdefaults": {
           "arrowcolor": "#2a3f5f",
           "arrowhead": 0,
           "arrowwidth": 1
          },
          "autotypenumbers": "strict",
          "coloraxis": {
           "colorbar": {
            "outlinewidth": 0,
            "ticks": ""
           }
          },
          "colorscale": {
           "diverging": [
            [
             0,
             "#8e0152"
            ],
            [
             0.1,
             "#c51b7d"
            ],
            [
             0.2,
             "#de77ae"
            ],
            [
             0.3,
             "#f1b6da"
            ],
            [
             0.4,
             "#fde0ef"
            ],
            [
             0.5,
             "#f7f7f7"
            ],
            [
             0.6,
             "#e6f5d0"
            ],
            [
             0.7,
             "#b8e186"
            ],
            [
             0.8,
             "#7fbc41"
            ],
            [
             0.9,
             "#4d9221"
            ],
            [
             1,
             "#276419"
            ]
           ],
           "sequential": [
            [
             0,
             "#0d0887"
            ],
            [
             0.1111111111111111,
             "#46039f"
            ],
            [
             0.2222222222222222,
             "#7201a8"
            ],
            [
             0.3333333333333333,
             "#9c179e"
            ],
            [
             0.4444444444444444,
             "#bd3786"
            ],
            [
             0.5555555555555556,
             "#d8576b"
            ],
            [
             0.6666666666666666,
             "#ed7953"
            ],
            [
             0.7777777777777778,
             "#fb9f3a"
            ],
            [
             0.8888888888888888,
             "#fdca26"
            ],
            [
             1,
             "#f0f921"
            ]
           ],
           "sequentialminus": [
            [
             0,
             "#0d0887"
            ],
            [
             0.1111111111111111,
             "#46039f"
            ],
            [
             0.2222222222222222,
             "#7201a8"
            ],
            [
             0.3333333333333333,
             "#9c179e"
            ],
            [
             0.4444444444444444,
             "#bd3786"
            ],
            [
             0.5555555555555556,
             "#d8576b"
            ],
            [
             0.6666666666666666,
             "#ed7953"
            ],
            [
             0.7777777777777778,
             "#fb9f3a"
            ],
            [
             0.8888888888888888,
             "#fdca26"
            ],
            [
             1,
             "#f0f921"
            ]
           ]
          },
          "colorway": [
           "#636efa",
           "#EF553B",
           "#00cc96",
           "#ab63fa",
           "#FFA15A",
           "#19d3f3",
           "#FF6692",
           "#B6E880",
           "#FF97FF",
           "#FECB52"
          ],
          "font": {
           "color": "#2a3f5f"
          },
          "geo": {
           "bgcolor": "white",
           "lakecolor": "white",
           "landcolor": "#E5ECF6",
           "showlakes": true,
           "showland": true,
           "subunitcolor": "white"
          },
          "hoverlabel": {
           "align": "left"
          },
          "hovermode": "closest",
          "mapbox": {
           "style": "light"
          },
          "paper_bgcolor": "white",
          "plot_bgcolor": "#E5ECF6",
          "polar": {
           "angularaxis": {
            "gridcolor": "white",
            "linecolor": "white",
            "ticks": ""
           },
           "bgcolor": "#E5ECF6",
           "radialaxis": {
            "gridcolor": "white",
            "linecolor": "white",
            "ticks": ""
           }
          },
          "scene": {
           "xaxis": {
            "backgroundcolor": "#E5ECF6",
            "gridcolor": "white",
            "gridwidth": 2,
            "linecolor": "white",
            "showbackground": true,
            "ticks": "",
            "zerolinecolor": "white"
           },
           "yaxis": {
            "backgroundcolor": "#E5ECF6",
            "gridcolor": "white",
            "gridwidth": 2,
            "linecolor": "white",
            "showbackground": true,
            "ticks": "",
            "zerolinecolor": "white"
           },
           "zaxis": {
            "backgroundcolor": "#E5ECF6",
            "gridcolor": "white",
            "gridwidth": 2,
            "linecolor": "white",
            "showbackground": true,
            "ticks": "",
            "zerolinecolor": "white"
           }
          },
          "shapedefaults": {
           "line": {
            "color": "#2a3f5f"
           }
          },
          "ternary": {
           "aaxis": {
            "gridcolor": "white",
            "linecolor": "white",
            "ticks": ""
           },
           "baxis": {
            "gridcolor": "white",
            "linecolor": "white",
            "ticks": ""
           },
           "bgcolor": "#E5ECF6",
           "caxis": {
            "gridcolor": "white",
            "linecolor": "white",
            "ticks": ""
           }
          },
          "title": {
           "x": 0.05
          },
          "xaxis": {
           "automargin": true,
           "gridcolor": "white",
           "linecolor": "white",
           "ticks": "",
           "title": {
            "standoff": 15
           },
           "zerolinecolor": "white",
           "zerolinewidth": 2
          },
          "yaxis": {
           "automargin": true,
           "gridcolor": "white",
           "linecolor": "white",
           "ticks": "",
           "title": {
            "standoff": 15
           },
           "zerolinecolor": "white",
           "zerolinewidth": 2
          }
         }
        },
        "title": {
         "text": "단지명브랜드별 평균 거래금액(2018~2020)"
        },
        "width": 1200,
        "xaxis": {
         "title": {
          "text": "단지명브랜드"
         }
        },
        "yaxis": {
         "tickformat": "(만원)",
         "title": {
          "text": "거래금액"
         }
        }
       }
      },
      "text/html": [
       "<div>                            <div id=\"9f0e3cb1-5fa1-4dde-8f20-9ca4194bb925\" class=\"plotly-graph-div\" style=\"height:1000px; width:1200px;\"></div>            <script type=\"text/javascript\">                require([\"plotly\"], function(Plotly) {                    window.PLOTLYENV=window.PLOTLYENV || {};                                    if (document.getElementById(\"9f0e3cb1-5fa1-4dde-8f20-9ca4194bb925\")) {                    Plotly.newPlot(                        \"9f0e3cb1-5fa1-4dde-8f20-9ca4194bb925\",                        [{\"name\":\"\\ud638\\ubc18\",\"x\":[\"\\ud638\\ubc18\"],\"y\":[134140.66666666666],\"type\":\"bar\"},{\"name\":\"\\uc790\\uc774\",\"x\":[\"\\uc790\\uc774\"],\"y\":[129258.84628297362],\"type\":\"bar\"},{\"name\":\"\\ud3ec\\uc2a4\\ucf54|\\ub354\\uc0f5\",\"x\":[\"\\ud3ec\\uc2a4\\ucf54|\\ub354\\uc0f5\"],\"y\":[127449.15863277827],\"type\":\"bar\"},{\"name\":\"\\ub798\\ubbf8\\uc548\",\"x\":[\"\\ub798\\ubbf8\\uc548\"],\"y\":[107636.16332853025],\"type\":\"bar\"},{\"name\":\"\\ub86f\\ub370\\uce90\\uc2ac\",\"x\":[\"\\ub86f\\ub370\\uce90\\uc2ac\"],\"y\":[107362.84958932239],\"type\":\"bar\"},{\"name\":\"\\uc544\\uc774\\ud30c\\ud06c\",\"x\":[\"\\uc544\\uc774\\ud30c\\ud06c\"],\"y\":[106841.84057031757],\"type\":\"bar\"},{\"name\":\"\\uc13c\\ud2b8\\ub808\\ube4c\",\"x\":[\"\\uc13c\\ud2b8\\ub808\\ube4c\"],\"y\":[96592.26441631505],\"type\":\"bar\"},{\"name\":\"KCC\",\"x\":[\"KCC\"],\"y\":[94906.75675675676],\"type\":\"bar\"},{\"name\":\"\\ud50c\\ub798\\ud2f0\\ub118\",\"x\":[\"\\ud50c\\ub798\\ud2f0\\ub118\"],\"y\":[94198.3870967742],\"type\":\"bar\"},{\"name\":\"\\uc774\\ud3b8\\ud55c|e\\ud3b8\\ud55c|e-\\ud3b8\\ud55c\",\"x\":[\"\\uc774\\ud3b8\\ud55c|e\\ud3b8\\ud55c|e-\\ud3b8\\ud55c\"],\"y\":[93412.1650135257],\"type\":\"bar\"},{\"name\":\"\\uc2a4\\uc704\\uccb8\",\"x\":[\"\\uc2a4\\uc704\\uccb8\"],\"y\":[91644.10256410256],\"type\":\"bar\"},{\"name\":\"\\ud790\\uc2a4\\ud14c\\uc774\\ud2b8\",\"x\":[\"\\ud790\\uc2a4\\ud14c\\uc774\\ud2b8\"],\"y\":[89116.80400890869],\"type\":\"bar\"},{\"name\":\"\\ud478\\ub974\\uc9c0\\uc624\",\"x\":[\"\\ud478\\ub974\\uc9c0\\uc624\"],\"y\":[84260.57859881491],\"type\":\"bar\"},{\"name\":\"\\uc0bc\\uc131\",\"x\":[\"\\uc0bc\\uc131\"],\"y\":[83300.42573402417],\"type\":\"bar\"},{\"name\":\"\\ud604\\ub300\",\"x\":[\"\\ud604\\ub300\"],\"y\":[80466.59902890696],\"type\":\"bar\"},{\"name\":\"\\ucf54\\uc624\\ub871\",\"x\":[\"\\ucf54\\uc624\\ub871\"],\"y\":[78106.72749391728],\"type\":\"bar\"},{\"name\":\"\\ud0dc\\uc601\",\"x\":[\"\\ud0dc\\uc601\"],\"y\":[75960.31653543307],\"type\":\"bar\"},{\"name\":\"\\uc30d\\uc6a9\",\"x\":[\"\\uc30d\\uc6a9\"],\"y\":[74966.95640686923],\"type\":\"bar\"},{\"name\":\"\\ub370\\uc2dc\\uc559\",\"x\":[\"\\ub370\\uc2dc\\uc559\"],\"y\":[73712.71379703535],\"type\":\"bar\"},{\"name\":\"\\ud55c\\ub77c|\\ud55c\\ub77c\\ube44\\ubc1c\\ub514\",\"x\":[\"\\ud55c\\ub77c|\\ud55c\\ub77c\\ube44\\ubc1c\\ub514\"],\"y\":[73685.27777777778],\"type\":\"bar\"},{\"name\":\"\\uae30\\ud0c0\",\"x\":[\"\\uae30\\ud0c0\"],\"y\":[71544.78513756784],\"type\":\"bar\"},{\"name\":\"\\ud558\\ub298\\ucc44\",\"x\":[\"\\ud558\\ub298\\ucc44\"],\"y\":[70474.60641399417],\"type\":\"bar\"},{\"name\":\"\\ub86f\\ub370\",\"x\":[\"\\ub86f\\ub370\"],\"y\":[69515.17009602195],\"type\":\"bar\"},{\"name\":\"\\ub300\\uc6b0\",\"x\":[\"\\ub300\\uc6b0\"],\"y\":[69093.14273204903],\"type\":\"bar\"},{\"name\":\"\\ud55c\\ud654\",\"x\":[\"\\ud55c\\ud654\"],\"y\":[66560.28243601059],\"type\":\"bar\"},{\"name\":\"sk|SK|\\uc5d0\\uc2a4\\ucf00\\uc774\",\"x\":[\"sk|SK|\\uc5d0\\uc2a4\\ucf00\\uc774\"],\"y\":[66325.22968949383],\"type\":\"bar\"},{\"name\":\"\\ub450\\uc0b0|\\ub450\\uc0b0\\uc704\\ube0c\",\"x\":[\"\\ub450\\uc0b0|\\ub450\\uc0b0\\uc704\\ube0c\"],\"y\":[63354.612436448966],\"type\":\"bar\"},{\"name\":\"GS\",\"x\":[\"GS\"],\"y\":[61292.53731343283],\"type\":\"bar\"},{\"name\":\"\\ucf54\\uc544\\ub8e8\",\"x\":[\"\\ucf54\\uc544\\ub8e8\"],\"y\":[60023.80412371134],\"type\":\"bar\"},{\"name\":\"\\ubcbd\\uc0b0\\ube14\\ub8e8\\ubc0d\",\"x\":[\"\\ubcbd\\uc0b0\\ube14\\ub8e8\\ubc0d\"],\"y\":[59615.101744186046],\"type\":\"bar\"},{\"name\":\"\\ub9ac\\uc288\\ube4c\",\"x\":[\"\\ub9ac\\uc288\\ube4c\"],\"y\":[54711.142857142855],\"type\":\"bar\"},{\"name\":\"\\uacc4\\ub8e1\",\"x\":[\"\\uacc4\\ub8e1\"],\"y\":[51975.555555555555],\"type\":\"bar\"},{\"name\":\"\\ubcbd\\uc0b0\",\"x\":[\"\\ubcbd\\uc0b0\"],\"y\":[50281.39308578745],\"type\":\"bar\"},{\"name\":\"\\ub3d9\\ubd80\",\"x\":[\"\\ub3d9\\ubd80\"],\"y\":[48843.44688644689],\"type\":\"bar\"},{\"name\":\"\\uc11c\\ud76c|\\uc11c\\ud76c\\uc2a4\\ud0c0\\ud790\\uc2a4\",\"x\":[\"\\uc11c\\ud76c|\\uc11c\\ud76c\\uc2a4\\ud0c0\\ud790\\uc2a4\"],\"y\":[44172.556818181816],\"type\":\"bar\"},{\"name\":\"\\ub3d9\\ubb38\",\"x\":[\"\\ub3d9\\ubb38\"],\"y\":[43643.58974358974],\"type\":\"bar\"},{\"name\":\"\\uc6b0\\ubbf8\",\"x\":[\"\\uc6b0\\ubbf8\"],\"y\":[36402.77777777778],\"type\":\"bar\"}],                        {\"template\":{\"data\":{\"bar\":[{\"error_x\":{\"color\":\"#2a3f5f\"},\"error_y\":{\"color\":\"#2a3f5f\"},\"marker\":{\"line\":{\"color\":\"#E5ECF6\",\"width\":0.5},\"pattern\":{\"fillmode\":\"overlay\",\"size\":10,\"solidity\":0.2}},\"type\":\"bar\"}],\"barpolar\":[{\"marker\":{\"line\":{\"color\":\"#E5ECF6\",\"width\":0.5},\"pattern\":{\"fillmode\":\"overlay\",\"size\":10,\"solidity\":0.2}},\"type\":\"barpolar\"}],\"carpet\":[{\"aaxis\":{\"endlinecolor\":\"#2a3f5f\",\"gridcolor\":\"white\",\"linecolor\":\"white\",\"minorgridcolor\":\"white\",\"startlinecolor\":\"#2a3f5f\"},\"baxis\":{\"endlinecolor\":\"#2a3f5f\",\"gridcolor\":\"white\",\"linecolor\":\"white\",\"minorgridcolor\":\"white\",\"startlinecolor\":\"#2a3f5f\"},\"type\":\"carpet\"}],\"choropleth\":[{\"colorbar\":{\"outlinewidth\":0,\"ticks\":\"\"},\"type\":\"choropleth\"}],\"contour\":[{\"colorbar\":{\"outlinewidth\":0,\"ticks\":\"\"},\"colorscale\":[[0.0,\"#0d0887\"],[0.1111111111111111,\"#46039f\"],[0.2222222222222222,\"#7201a8\"],[0.3333333333333333,\"#9c179e\"],[0.4444444444444444,\"#bd3786\"],[0.5555555555555556,\"#d8576b\"],[0.6666666666666666,\"#ed7953\"],[0.7777777777777778,\"#fb9f3a\"],[0.8888888888888888,\"#fdca26\"],[1.0,\"#f0f921\"]],\"type\":\"contour\"}],\"contourcarpet\":[{\"colorbar\":{\"outlinewidth\":0,\"ticks\":\"\"},\"type\":\"contourcarpet\"}],\"heatmap\":[{\"colorbar\":{\"outlinewidth\":0,\"ticks\":\"\"},\"colorscale\":[[0.0,\"#0d0887\"],[0.1111111111111111,\"#46039f\"],[0.2222222222222222,\"#7201a8\"],[0.3333333333333333,\"#9c179e\"],[0.4444444444444444,\"#bd3786\"],[0.5555555555555556,\"#d8576b\"],[0.6666666666666666,\"#ed7953\"],[0.7777777777777778,\"#fb9f3a\"],[0.8888888888888888,\"#fdca26\"],[1.0,\"#f0f921\"]],\"type\":\"heatmap\"}],\"heatmapgl\":[{\"colorbar\":{\"outlinewidth\":0,\"ticks\":\"\"},\"colorscale\":[[0.0,\"#0d0887\"],[0.1111111111111111,\"#46039f\"],[0.2222222222222222,\"#7201a8\"],[0.3333333333333333,\"#9c179e\"],[0.4444444444444444,\"#bd3786\"],[0.5555555555555556,\"#d8576b\"],[0.6666666666666666,\"#ed7953\"],[0.7777777777777778,\"#fb9f3a\"],[0.8888888888888888,\"#fdca26\"],[1.0,\"#f0f921\"]],\"type\":\"heatmapgl\"}],\"histogram\":[{\"marker\":{\"pattern\":{\"fillmode\":\"overlay\",\"size\":10,\"solidity\":0.2}},\"type\":\"histogram\"}],\"histogram2d\":[{\"colorbar\":{\"outlinewidth\":0,\"ticks\":\"\"},\"colorscale\":[[0.0,\"#0d0887\"],[0.1111111111111111,\"#46039f\"],[0.2222222222222222,\"#7201a8\"],[0.3333333333333333,\"#9c179e\"],[0.4444444444444444,\"#bd3786\"],[0.5555555555555556,\"#d8576b\"],[0.6666666666666666,\"#ed7953\"],[0.7777777777777778,\"#fb9f3a\"],[0.8888888888888888,\"#fdca26\"],[1.0,\"#f0f921\"]],\"type\":\"histogram2d\"}],\"histogram2dcontour\":[{\"colorbar\":{\"outlinewidth\":0,\"ticks\":\"\"},\"colorscale\":[[0.0,\"#0d0887\"],[0.1111111111111111,\"#46039f\"],[0.2222222222222222,\"#7201a8\"],[0.3333333333333333,\"#9c179e\"],[0.4444444444444444,\"#bd3786\"],[0.5555555555555556,\"#d8576b\"],[0.6666666666666666,\"#ed7953\"],[0.7777777777777778,\"#fb9f3a\"],[0.8888888888888888,\"#fdca26\"],[1.0,\"#f0f921\"]],\"type\":\"histogram2dcontour\"}],\"mesh3d\":[{\"colorbar\":{\"outlinewidth\":0,\"ticks\":\"\"},\"type\":\"mesh3d\"}],\"parcoords\":[{\"line\":{\"colorbar\":{\"outlinewidth\":0,\"ticks\":\"\"}},\"type\":\"parcoords\"}],\"pie\":[{\"automargin\":true,\"type\":\"pie\"}],\"scatter\":[{\"marker\":{\"colorbar\":{\"outlinewidth\":0,\"ticks\":\"\"}},\"type\":\"scatter\"}],\"scatter3d\":[{\"line\":{\"colorbar\":{\"outlinewidth\":0,\"ticks\":\"\"}},\"marker\":{\"colorbar\":{\"outlinewidth\":0,\"ticks\":\"\"}},\"type\":\"scatter3d\"}],\"scattercarpet\":[{\"marker\":{\"colorbar\":{\"outlinewidth\":0,\"ticks\":\"\"}},\"type\":\"scattercarpet\"}],\"scattergeo\":[{\"marker\":{\"colorbar\":{\"outlinewidth\":0,\"ticks\":\"\"}},\"type\":\"scattergeo\"}],\"scattergl\":[{\"marker\":{\"colorbar\":{\"outlinewidth\":0,\"ticks\":\"\"}},\"type\":\"scattergl\"}],\"scattermapbox\":[{\"marker\":{\"colorbar\":{\"outlinewidth\":0,\"ticks\":\"\"}},\"type\":\"scattermapbox\"}],\"scatterpolar\":[{\"marker\":{\"colorbar\":{\"outlinewidth\":0,\"ticks\":\"\"}},\"type\":\"scatterpolar\"}],\"scatterpolargl\":[{\"marker\":{\"colorbar\":{\"outlinewidth\":0,\"ticks\":\"\"}},\"type\":\"scatterpolargl\"}],\"scatterternary\":[{\"marker\":{\"colorbar\":{\"outlinewidth\":0,\"ticks\":\"\"}},\"type\":\"scatterternary\"}],\"surface\":[{\"colorbar\":{\"outlinewidth\":0,\"ticks\":\"\"},\"colorscale\":[[0.0,\"#0d0887\"],[0.1111111111111111,\"#46039f\"],[0.2222222222222222,\"#7201a8\"],[0.3333333333333333,\"#9c179e\"],[0.4444444444444444,\"#bd3786\"],[0.5555555555555556,\"#d8576b\"],[0.6666666666666666,\"#ed7953\"],[0.7777777777777778,\"#fb9f3a\"],[0.8888888888888888,\"#fdca26\"],[1.0,\"#f0f921\"]],\"type\":\"surface\"}],\"table\":[{\"cells\":{\"fill\":{\"color\":\"#EBF0F8\"},\"line\":{\"color\":\"white\"}},\"header\":{\"fill\":{\"color\":\"#C8D4E3\"},\"line\":{\"color\":\"white\"}},\"type\":\"table\"}]},\"layout\":{\"annotationdefaults\":{\"arrowcolor\":\"#2a3f5f\",\"arrowhead\":0,\"arrowwidth\":1},\"autotypenumbers\":\"strict\",\"coloraxis\":{\"colorbar\":{\"outlinewidth\":0,\"ticks\":\"\"}},\"colorscale\":{\"diverging\":[[0,\"#8e0152\"],[0.1,\"#c51b7d\"],[0.2,\"#de77ae\"],[0.3,\"#f1b6da\"],[0.4,\"#fde0ef\"],[0.5,\"#f7f7f7\"],[0.6,\"#e6f5d0\"],[0.7,\"#b8e186\"],[0.8,\"#7fbc41\"],[0.9,\"#4d9221\"],[1,\"#276419\"]],\"sequential\":[[0.0,\"#0d0887\"],[0.1111111111111111,\"#46039f\"],[0.2222222222222222,\"#7201a8\"],[0.3333333333333333,\"#9c179e\"],[0.4444444444444444,\"#bd3786\"],[0.5555555555555556,\"#d8576b\"],[0.6666666666666666,\"#ed7953\"],[0.7777777777777778,\"#fb9f3a\"],[0.8888888888888888,\"#fdca26\"],[1.0,\"#f0f921\"]],\"sequentialminus\":[[0.0,\"#0d0887\"],[0.1111111111111111,\"#46039f\"],[0.2222222222222222,\"#7201a8\"],[0.3333333333333333,\"#9c179e\"],[0.4444444444444444,\"#bd3786\"],[0.5555555555555556,\"#d8576b\"],[0.6666666666666666,\"#ed7953\"],[0.7777777777777778,\"#fb9f3a\"],[0.8888888888888888,\"#fdca26\"],[1.0,\"#f0f921\"]]},\"colorway\":[\"#636efa\",\"#EF553B\",\"#00cc96\",\"#ab63fa\",\"#FFA15A\",\"#19d3f3\",\"#FF6692\",\"#B6E880\",\"#FF97FF\",\"#FECB52\"],\"font\":{\"color\":\"#2a3f5f\"},\"geo\":{\"bgcolor\":\"white\",\"lakecolor\":\"white\",\"landcolor\":\"#E5ECF6\",\"showlakes\":true,\"showland\":true,\"subunitcolor\":\"white\"},\"hoverlabel\":{\"align\":\"left\"},\"hovermode\":\"closest\",\"mapbox\":{\"style\":\"light\"},\"paper_bgcolor\":\"white\",\"plot_bgcolor\":\"#E5ECF6\",\"polar\":{\"angularaxis\":{\"gridcolor\":\"white\",\"linecolor\":\"white\",\"ticks\":\"\"},\"bgcolor\":\"#E5ECF6\",\"radialaxis\":{\"gridcolor\":\"white\",\"linecolor\":\"white\",\"ticks\":\"\"}},\"scene\":{\"xaxis\":{\"backgroundcolor\":\"#E5ECF6\",\"gridcolor\":\"white\",\"gridwidth\":2,\"linecolor\":\"white\",\"showbackground\":true,\"ticks\":\"\",\"zerolinecolor\":\"white\"},\"yaxis\":{\"backgroundcolor\":\"#E5ECF6\",\"gridcolor\":\"white\",\"gridwidth\":2,\"linecolor\":\"white\",\"showbackground\":true,\"ticks\":\"\",\"zerolinecolor\":\"white\"},\"zaxis\":{\"backgroundcolor\":\"#E5ECF6\",\"gridcolor\":\"white\",\"gridwidth\":2,\"linecolor\":\"white\",\"showbackground\":true,\"ticks\":\"\",\"zerolinecolor\":\"white\"}},\"shapedefaults\":{\"line\":{\"color\":\"#2a3f5f\"}},\"ternary\":{\"aaxis\":{\"gridcolor\":\"white\",\"linecolor\":\"white\",\"ticks\":\"\"},\"baxis\":{\"gridcolor\":\"white\",\"linecolor\":\"white\",\"ticks\":\"\"},\"bgcolor\":\"#E5ECF6\",\"caxis\":{\"gridcolor\":\"white\",\"linecolor\":\"white\",\"ticks\":\"\"}},\"title\":{\"x\":0.05},\"xaxis\":{\"automargin\":true,\"gridcolor\":\"white\",\"linecolor\":\"white\",\"ticks\":\"\",\"title\":{\"standoff\":15},\"zerolinecolor\":\"white\",\"zerolinewidth\":2},\"yaxis\":{\"automargin\":true,\"gridcolor\":\"white\",\"linecolor\":\"white\",\"ticks\":\"\",\"title\":{\"standoff\":15},\"zerolinecolor\":\"white\",\"zerolinewidth\":2}}},\"yaxis\":{\"title\":{\"text\":\"\\uac70\\ub798\\uae08\\uc561\"},\"tickformat\":\"(\\ub9cc\\uc6d0)\"},\"title\":{\"text\":\"\\ub2e8\\uc9c0\\uba85\\ube0c\\ub79c\\ub4dc\\ubcc4 \\ud3c9\\uade0 \\uac70\\ub798\\uae08\\uc561(2018~2020)\"},\"xaxis\":{\"title\":{\"text\":\"\\ub2e8\\uc9c0\\uba85\\ube0c\\ub79c\\ub4dc\"}},\"autosize\":false,\"width\":1200,\"height\":1000},                        {\"responsive\": true}                    ).then(function(){\n",
       "                            \n",
       "var gd = document.getElementById('9f0e3cb1-5fa1-4dde-8f20-9ca4194bb925');\n",
       "var x = new MutationObserver(function (mutations, observer) {{\n",
       "        var display = window.getComputedStyle(gd).display;\n",
       "        if (!display || display === 'none') {{\n",
       "            console.log([gd, 'removed!']);\n",
       "            Plotly.purge(gd);\n",
       "            observer.disconnect();\n",
       "        }}\n",
       "}});\n",
       "\n",
       "// Listen for the removal of the full notebook cells\n",
       "var notebookContainer = gd.closest('#notebook-container');\n",
       "if (notebookContainer) {{\n",
       "    x.observe(notebookContainer, {childList: true});\n",
       "}}\n",
       "\n",
       "// Listen for the clearing of the current output cell\n",
       "var outputEl = gd.closest('.output');\n",
       "if (outputEl) {{\n",
       "    x.observe(outputEl, {childList: true});\n",
       "}}\n",
       "\n",
       "                        })                };                });            </script>        </div>"
      ]
     },
     "metadata": {},
     "output_type": "display_data"
    }
   ],
   "source": [
    "# 단지명브랜드별 평균 거래금액\n",
    "df = mean_by_aptbrand.reset_index()\n",
    "sorted_df = df[['단지명브랜드', '거래금액']].sort_values('거래금액', ascending=False)\n",
    "aptbrand_list = list(sorted_df['단지명브랜드'].values)\n",
    "\n",
    "region_mean_fig = go.Figure()\n",
    "\n",
    "trace_mean_list = []\n",
    "for aptbrand in aptbrand_list:\n",
    "    trace_region = go.Bar(x=df[df['단지명브랜드'] == aptbrand]['단지명브랜드'], y=df[df['단지명브랜드'] == aptbrand]['거래금액'], name=aptbrand)\n",
    "    trace_mean_list.append(trace_region)\n",
    "\n",
    "region_mean_fig.add_traces(trace_mean_list)\n",
    "\n",
    "region_mean_fig.update_layout(\n",
    "    title='단지명브랜드별 평균 거래금액(2018~2020)',\n",
    "    xaxis_title='단지명브랜드',\n",
    "    yaxis_title='거래금액',\n",
    "    yaxis_tickformat='(만원)',\n",
    "    autosize=False,\n",
    "    width=1200,\n",
    "    height=1000\n",
    ")\n",
    "\n",
    "region_mean_fig.show()"
   ]
  },
  {
   "cell_type": "code",
   "execution_count": 52,
   "id": "e59fc823",
   "metadata": {},
   "outputs": [
    {
     "data": {
      "image/png": "[encoded data removed]",
      "text/plain": [
       "<Figure size 1440x720 with 1 Axes>"
      ]
     },
     "metadata": {
      "needs_background": "light"
     },
     "output_type": "display_data"
    }
   ],
   "source": [
    "df = mean_by_aptbrand.reset_index()\n",
    "# col_list=[df['단지명브랜드'],df['전용면적']]\n",
    "plt.figure(figsize=(20,10))\n",
    "sns.boxplot(x='단지명브랜드',y='거래금액',  data=df)\n",
    "plt.show()"
   ]
  },
  {
   "cell_type": "code",
   "execution_count": 53,
   "id": "d1a4a7be",
   "metadata": {},
   "outputs": [
    {
     "name": "stdout",
     "output_type": "stream",
     "text": [
      "train_data.csv , 단지명브랜드까지 csv로 저장되었습니다.\n"
     ]
    }
   ],
   "source": [
    "# 단지명브랜드까지 저장\n",
    "train_data.to_csv('train_data.csv', encoding='utf-8-sig', index=False)\n",
    "print('train_data.csv , 단지명브랜드까지 csv로 저장되었습니다.')"
   ]
  },
  {
   "cell_type": "markdown",
   "id": "07610040",
   "metadata": {},
   "source": [
    "### 층 컬럼\n",
    "- 이상치 : 음수 값 -> 70개로 전체의 0.03%이므로 삭제\n",
    "- 로그변환 컬럼 생성(모형에 적용한 경우와 아닌 경우 성능 비교)"
   ]
  },
  {
   "cell_type": "code",
   "execution_count": 54,
   "id": "8b3cf970",
   "metadata": {},
   "outputs": [
    {
     "name": "stdout",
     "output_type": "stream",
     "text": [
      "4     16895\n",
      "5     16800\n",
      "3     16580\n",
      "2     15986\n",
      "6     15614\n",
      "      ...  \n",
      "61        2\n",
      "59        2\n",
      "57        2\n",
      "68        1\n",
      "69        1\n",
      "Name: 층, Length: 71, dtype: int64\n"
     ]
    },
    {
     "data": {
      "image/png": "[encoded data removed]",
      "text/plain": [
       "<Figure size 720x360 with 1 Axes>"
      ]
     },
     "metadata": {
      "needs_background": "light"
     },
     "output_type": "display_data"
    }
   ],
   "source": [
    "# 거래 가격 분포 확인\n",
    "print(train_data['층'].value_counts())\n",
    "fig=plt.figure(figsize=(10, 5))\n",
    "plt.rc('font', size=15)\n",
    "plt.bar(train_data['층'].value_counts().index.unique(), train_data['층'].value_counts())\n",
    "plt.title('층 수 barplot')\n",
    "plt.xlabel('층 수')\n",
    "plt.show()"
   ]
  },
  {
   "cell_type": "code",
   "execution_count": 55,
   "id": "27a961cc",
   "metadata": {},
   "outputs": [
    {
     "data": {
      "text/plain": [
       "69"
      ]
     },
     "execution_count": 55,
     "metadata": {},
     "output_type": "execute_result"
    }
   ],
   "source": [
    "# 층 중 음수 개수 : 70개, 전체의 약 0.03%\n",
    "sum(train_data['층']<=0)"
   ]
  },
  {
   "cell_type": "code",
   "execution_count": 56,
   "id": "4b03a006",
   "metadata": {},
   "outputs": [
    {
     "data": {
      "text/plain": [
       "-1    52\n",
       "-2    13\n",
       "-3     4\n",
       "Name: 층, dtype: int64"
      ]
     },
     "execution_count": 56,
     "metadata": {},
     "output_type": "execute_result"
    }
   ],
   "source": [
    "# 층 중 음수 개수 확인\n",
    "train_data.loc[train_data['층']<0,'층'].value_counts()"
   ]
  },
  {
   "cell_type": "code",
   "execution_count": 57,
   "id": "1d8bc151",
   "metadata": {},
   "outputs": [],
   "source": [
    "## 이상치 삭제\n",
    "train_data.drop(train_data.loc[train_data['층']<0].index, inplace=True)"
   ]
  },
  {
   "cell_type": "code",
   "execution_count": 58,
   "id": "958d599f",
   "metadata": {},
   "outputs": [
    {
     "data": {
      "image/png": "[encoded data removed]",
      "text/plain": [
       "<Figure size 720x360 with 1 Axes>"
      ]
     },
     "metadata": {
      "needs_background": "light"
     },
     "output_type": "display_data"
    }
   ],
   "source": [
    "# 거래 가격 분포 확인\n",
    "fig=plt.figure(figsize=(10, 5))\n",
    "plt.rc('font', size=15)\n",
    "plt.bar(train_data['층'].value_counts().index.unique(), train_data['층'].value_counts())\n",
    "plt.title('층 수 barplot')\n",
    "plt.xlabel('층 수')\n",
    "plt.show()"
   ]
  },
  {
   "cell_type": "code",
   "execution_count": 59,
   "id": "8dd13773",
   "metadata": {},
   "outputs": [
    {
     "name": "stdout",
     "output_type": "stream",
     "text": [
      "train_data.csv , 층까지 csv로 저장되었습니다.\n"
     ]
    }
   ],
   "source": [
    "# 층까지 저장\n",
    "train_data.to_csv('train_data.csv', encoding='utf-8-sig', index=False)\n",
    "print('train_data.csv , 층까지 csv로 저장되었습니다.')"
   ]
  },
  {
   "cell_type": "markdown",
   "id": "b18a20aa",
   "metadata": {},
   "source": [
    "### 계약년월\n",
    "- 인코딩 : 연속적이나 구간이 일정한 추세 t를 변수로 포함 https://be-favorite.tistory.com/86\n",
    "- 계약날짜로 변환"
   ]
  },
  {
   "cell_type": "code",
   "execution_count": 60,
   "id": "bde71f5f",
   "metadata": {
    "scrolled": true
   },
   "outputs": [
    {
     "data": {
      "text/html": [
       "<div>\n",
       "<style scoped>\n",
       "    .dataframe tbody tr th:only-of-type {\n",
       "        vertical-align: middle;\n",
       "    }\n",
       "\n",
       "    .dataframe tbody tr th {\n",
       "        vertical-align: top;\n",
       "    }\n",
       "\n",
       "    .dataframe thead th {\n",
       "        text-align: right;\n",
       "    }\n",
       "</style>\n",
       "<table border=\"1\" class=\"dataframe\">\n",
       "  <thead>\n",
       "    <tr style=\"text-align: right;\">\n",
       "      <th></th>\n",
       "      <th>전용면적</th>\n",
       "      <th>계약년월</th>\n",
       "      <th>계약일</th>\n",
       "      <th>거래금액</th>\n",
       "      <th>층</th>\n",
       "      <th>건축년도</th>\n",
       "      <th>제곱미터단가</th>\n",
       "      <th>평당단가</th>\n",
       "    </tr>\n",
       "  </thead>\n",
       "  <tbody>\n",
       "    <tr>\n",
       "      <th>count</th>\n",
       "      <td>237995.000000</td>\n",
       "      <td>237995.000000</td>\n",
       "      <td>237995.000000</td>\n",
       "      <td>237995.000000</td>\n",
       "      <td>237995.000000</td>\n",
       "      <td>237995.000000</td>\n",
       "      <td>237995.000000</td>\n",
       "      <td>237995.000000</td>\n",
       "    </tr>\n",
       "    <tr>\n",
       "      <th>mean</th>\n",
       "      <td>78.110023</td>\n",
       "      <td>201906.973878</td>\n",
       "      <td>15.832194</td>\n",
       "      <td>77518.326011</td>\n",
       "      <td>9.128818</td>\n",
       "      <td>2000.172739</td>\n",
       "      <td>990.132216</td>\n",
       "      <td>3267.436313</td>\n",
       "    </tr>\n",
       "    <tr>\n",
       "      <th>std</th>\n",
       "      <td>30.264553</td>\n",
       "      <td>83.356822</td>\n",
       "      <td>8.697208</td>\n",
       "      <td>54457.670763</td>\n",
       "      <td>6.168803</td>\n",
       "      <td>9.626455</td>\n",
       "      <td>517.891398</td>\n",
       "      <td>1709.041612</td>\n",
       "    </tr>\n",
       "    <tr>\n",
       "      <th>min</th>\n",
       "      <td>10.321500</td>\n",
       "      <td>201801.000000</td>\n",
       "      <td>1.000000</td>\n",
       "      <td>5400.000000</td>\n",
       "      <td>1.000000</td>\n",
       "      <td>1961.000000</td>\n",
       "      <td>143.143430</td>\n",
       "      <td>472.373318</td>\n",
       "    </tr>\n",
       "    <tr>\n",
       "      <th>25%</th>\n",
       "      <td>59.730000</td>\n",
       "      <td>201808.000000</td>\n",
       "      <td>8.000000</td>\n",
       "      <td>43000.000000</td>\n",
       "      <td>4.000000</td>\n",
       "      <td>1994.000000</td>\n",
       "      <td>638.204225</td>\n",
       "      <td>2106.073944</td>\n",
       "    </tr>\n",
       "    <tr>\n",
       "      <th>50%</th>\n",
       "      <td>83.580000</td>\n",
       "      <td>201909.000000</td>\n",
       "      <td>16.000000</td>\n",
       "      <td>63000.000000</td>\n",
       "      <td>8.000000</td>\n",
       "      <td>2001.000000</td>\n",
       "      <td>852.073379</td>\n",
       "      <td>2811.842149</td>\n",
       "    </tr>\n",
       "    <tr>\n",
       "      <th>75%</th>\n",
       "      <td>84.970000</td>\n",
       "      <td>202005.000000</td>\n",
       "      <td>23.000000</td>\n",
       "      <td>92000.000000</td>\n",
       "      <td>13.000000</td>\n",
       "      <td>2007.000000</td>\n",
       "      <td>1179.709661</td>\n",
       "      <td>3893.041882</td>\n",
       "    </tr>\n",
       "    <tr>\n",
       "      <th>max</th>\n",
       "      <td>395.060000</td>\n",
       "      <td>202012.000000</td>\n",
       "      <td>31.000000</td>\n",
       "      <td>840000.000000</td>\n",
       "      <td>69.000000</td>\n",
       "      <td>2021.000000</td>\n",
       "      <td>6969.612490</td>\n",
       "      <td>22999.721216</td>\n",
       "    </tr>\n",
       "  </tbody>\n",
       "</table>\n",
       "</div>"
      ],
      "text/plain": [
       "                전용면적           계약년월            계약일           거래금액  \\\n",
       "count  237995.000000  237995.000000  237995.000000  237995.000000   \n",
       "mean       78.110023  201906.973878      15.832194   77518.326011   \n",
       "std        30.264553      83.356822       8.697208   54457.670763   \n",
       "min        10.321500  201801.000000       1.000000    5400.000000   \n",
       "25%        59.730000  201808.000000       8.000000   43000.000000   \n",
       "50%        83.580000  201909.000000      16.000000   63000.000000   \n",
       "75%        84.970000  202005.000000      23.000000   92000.000000   \n",
       "max       395.060000  202012.000000      31.000000  840000.000000   \n",
       "\n",
       "                   층           건축년도         제곱미터단가           평당단가  \n",
       "count  237995.000000  237995.000000  237995.000000  237995.000000  \n",
       "mean        9.128818    2000.172739     990.132216    3267.436313  \n",
       "std         6.168803       9.626455     517.891398    1709.041612  \n",
       "min         1.000000    1961.000000     143.143430     472.373318  \n",
       "25%         4.000000    1994.000000     638.204225    2106.073944  \n",
       "50%         8.000000    2001.000000     852.073379    2811.842149  \n",
       "75%        13.000000    2007.000000    1179.709661    3893.041882  \n",
       "max        69.000000    2021.000000    6969.612490   22999.721216  "
      ]
     },
     "execution_count": 60,
     "metadata": {},
     "output_type": "execute_result"
    }
   ],
   "source": [
    "train_data.describe()"
   ]
  },
  {
   "cell_type": "code",
   "execution_count": 61,
   "id": "012d338a",
   "metadata": {},
   "outputs": [],
   "source": [
    "# 1일을 01일로 변경\n",
    "train_data['계약일'] = train_data['계약일'].map(lambda x : str(x).zfill(2))"
   ]
  },
  {
   "cell_type": "code",
   "execution_count": 62,
   "id": "b8dcd6ed",
   "metadata": {
    "scrolled": true
   },
   "outputs": [
    {
     "data": {
      "text/html": [
       "<div>\n",
       "<style scoped>\n",
       "    .dataframe tbody tr th:only-of-type {\n",
       "        vertical-align: middle;\n",
       "    }\n",
       "\n",
       "    .dataframe tbody tr th {\n",
       "        vertical-align: top;\n",
       "    }\n",
       "\n",
       "    .dataframe thead th {\n",
       "        text-align: right;\n",
       "    }\n",
       "</style>\n",
       "<table border=\"1\" class=\"dataframe\">\n",
       "  <thead>\n",
       "    <tr style=\"text-align: right;\">\n",
       "      <th></th>\n",
       "      <th>시군구</th>\n",
       "      <th>단지명</th>\n",
       "      <th>전용면적</th>\n",
       "      <th>계약년월</th>\n",
       "      <th>계약일</th>\n",
       "      <th>거래금액</th>\n",
       "      <th>층</th>\n",
       "      <th>건축년도</th>\n",
       "      <th>제곱미터단가</th>\n",
       "      <th>평당단가</th>\n",
       "      <th>시</th>\n",
       "      <th>구</th>\n",
       "      <th>동</th>\n",
       "      <th>단지명브랜드</th>\n",
       "      <th>계약날짜</th>\n",
       "    </tr>\n",
       "  </thead>\n",
       "  <tbody>\n",
       "    <tr>\n",
       "      <th>0</th>\n",
       "      <td>서울특별시 강남구 개포동</td>\n",
       "      <td>개포6차우성아파트1동~8동</td>\n",
       "      <td>79.97</td>\n",
       "      <td>201801</td>\n",
       "      <td>03</td>\n",
       "      <td>130000</td>\n",
       "      <td>4</td>\n",
       "      <td>1987</td>\n",
       "      <td>1625.609604</td>\n",
       "      <td>5364.511692</td>\n",
       "      <td>서울특별시</td>\n",
       "      <td>강남구</td>\n",
       "      <td>개포동</td>\n",
       "      <td>기타</td>\n",
       "      <td>2018-01-03</td>\n",
       "    </tr>\n",
       "    <tr>\n",
       "      <th>1</th>\n",
       "      <td>서울특별시 강남구 개포동</td>\n",
       "      <td>개포6차우성아파트1동~8동</td>\n",
       "      <td>79.97</td>\n",
       "      <td>201801</td>\n",
       "      <td>08</td>\n",
       "      <td>117000</td>\n",
       "      <td>2</td>\n",
       "      <td>1987</td>\n",
       "      <td>1463.048643</td>\n",
       "      <td>4828.060523</td>\n",
       "      <td>서울특별시</td>\n",
       "      <td>강남구</td>\n",
       "      <td>개포동</td>\n",
       "      <td>기타</td>\n",
       "      <td>2018-01-08</td>\n",
       "    </tr>\n",
       "    <tr>\n",
       "      <th>2</th>\n",
       "      <td>서울특별시 강남구 개포동</td>\n",
       "      <td>개포6차우성아파트1동~8동</td>\n",
       "      <td>79.97</td>\n",
       "      <td>201801</td>\n",
       "      <td>11</td>\n",
       "      <td>130000</td>\n",
       "      <td>1</td>\n",
       "      <td>1987</td>\n",
       "      <td>1625.609604</td>\n",
       "      <td>5364.511692</td>\n",
       "      <td>서울특별시</td>\n",
       "      <td>강남구</td>\n",
       "      <td>개포동</td>\n",
       "      <td>기타</td>\n",
       "      <td>2018-01-11</td>\n",
       "    </tr>\n",
       "    <tr>\n",
       "      <th>3</th>\n",
       "      <td>서울특별시 강남구 개포동</td>\n",
       "      <td>개포6차우성아파트1동~8동</td>\n",
       "      <td>79.97</td>\n",
       "      <td>201803</td>\n",
       "      <td>19</td>\n",
       "      <td>139500</td>\n",
       "      <td>2</td>\n",
       "      <td>1987</td>\n",
       "      <td>1744.404152</td>\n",
       "      <td>5756.533700</td>\n",
       "      <td>서울특별시</td>\n",
       "      <td>강남구</td>\n",
       "      <td>개포동</td>\n",
       "      <td>기타</td>\n",
       "      <td>2018-03-19</td>\n",
       "    </tr>\n",
       "    <tr>\n",
       "      <th>4</th>\n",
       "      <td>서울특별시 강남구 개포동</td>\n",
       "      <td>개포6차우성아파트1동~8동</td>\n",
       "      <td>54.98</td>\n",
       "      <td>201804</td>\n",
       "      <td>05</td>\n",
       "      <td>107500</td>\n",
       "      <td>5</td>\n",
       "      <td>1987</td>\n",
       "      <td>1955.256457</td>\n",
       "      <td>6452.346308</td>\n",
       "      <td>서울특별시</td>\n",
       "      <td>강남구</td>\n",
       "      <td>개포동</td>\n",
       "      <td>기타</td>\n",
       "      <td>2018-04-05</td>\n",
       "    </tr>\n",
       "    <tr>\n",
       "      <th>...</th>\n",
       "      <td>...</td>\n",
       "      <td>...</td>\n",
       "      <td>...</td>\n",
       "      <td>...</td>\n",
       "      <td>...</td>\n",
       "      <td>...</td>\n",
       "      <td>...</td>\n",
       "      <td>...</td>\n",
       "      <td>...</td>\n",
       "      <td>...</td>\n",
       "      <td>...</td>\n",
       "      <td>...</td>\n",
       "      <td>...</td>\n",
       "      <td>...</td>\n",
       "      <td>...</td>\n",
       "    </tr>\n",
       "    <tr>\n",
       "      <th>84233</th>\n",
       "      <td>서울특별시 중랑구 중화동</td>\n",
       "      <td>한영(104)</td>\n",
       "      <td>106.21</td>\n",
       "      <td>202003</td>\n",
       "      <td>11</td>\n",
       "      <td>45400</td>\n",
       "      <td>6</td>\n",
       "      <td>2003</td>\n",
       "      <td>427.455042</td>\n",
       "      <td>1410.601638</td>\n",
       "      <td>서울특별시</td>\n",
       "      <td>중랑구</td>\n",
       "      <td>중화동</td>\n",
       "      <td>기타</td>\n",
       "      <td>2020-03-11</td>\n",
       "    </tr>\n",
       "    <tr>\n",
       "      <th>84234</th>\n",
       "      <td>서울특별시 중랑구 중화동</td>\n",
       "      <td>한영(104)</td>\n",
       "      <td>67.57</td>\n",
       "      <td>202008</td>\n",
       "      <td>07</td>\n",
       "      <td>26000</td>\n",
       "      <td>2</td>\n",
       "      <td>2003</td>\n",
       "      <td>384.786148</td>\n",
       "      <td>1269.794287</td>\n",
       "      <td>서울특별시</td>\n",
       "      <td>중랑구</td>\n",
       "      <td>중화동</td>\n",
       "      <td>기타</td>\n",
       "      <td>2020-08-07</td>\n",
       "    </tr>\n",
       "    <tr>\n",
       "      <th>84235</th>\n",
       "      <td>서울특별시 중랑구 중화동</td>\n",
       "      <td>현대휴앤미</td>\n",
       "      <td>95.94</td>\n",
       "      <td>202007</td>\n",
       "      <td>10</td>\n",
       "      <td>44000</td>\n",
       "      <td>6</td>\n",
       "      <td>2007</td>\n",
       "      <td>458.619971</td>\n",
       "      <td>1513.445904</td>\n",
       "      <td>서울특별시</td>\n",
       "      <td>중랑구</td>\n",
       "      <td>중화동</td>\n",
       "      <td>현대</td>\n",
       "      <td>2020-07-10</td>\n",
       "    </tr>\n",
       "    <tr>\n",
       "      <th>84236</th>\n",
       "      <td>서울특별시 중랑구 중화동</td>\n",
       "      <td>현대휴앤미</td>\n",
       "      <td>100.17</td>\n",
       "      <td>202012</td>\n",
       "      <td>03</td>\n",
       "      <td>54800</td>\n",
       "      <td>5</td>\n",
       "      <td>2007</td>\n",
       "      <td>547.069981</td>\n",
       "      <td>1805.330937</td>\n",
       "      <td>서울특별시</td>\n",
       "      <td>중랑구</td>\n",
       "      <td>중화동</td>\n",
       "      <td>현대</td>\n",
       "      <td>2020-12-03</td>\n",
       "    </tr>\n",
       "    <tr>\n",
       "      <th>84237</th>\n",
       "      <td>서울특별시 중랑구 중화동</td>\n",
       "      <td>현대휴앤미(102동)</td>\n",
       "      <td>77.71</td>\n",
       "      <td>202009</td>\n",
       "      <td>28</td>\n",
       "      <td>40000</td>\n",
       "      <td>5</td>\n",
       "      <td>2007</td>\n",
       "      <td>514.734268</td>\n",
       "      <td>1698.623086</td>\n",
       "      <td>서울특별시</td>\n",
       "      <td>중랑구</td>\n",
       "      <td>중화동</td>\n",
       "      <td>현대</td>\n",
       "      <td>2020-09-28</td>\n",
       "    </tr>\n",
       "  </tbody>\n",
       "</table>\n",
       "<p>237995 rows × 15 columns</p>\n",
       "</div>"
      ],
      "text/plain": [
       "                 시군구             단지명    전용면적    계약년월 계약일    거래금액  층  건축년도  \\\n",
       "0      서울특별시 강남구 개포동  개포6차우성아파트1동~8동   79.97  201801  03  130000  4  1987   \n",
       "1      서울특별시 강남구 개포동  개포6차우성아파트1동~8동   79.97  201801  08  117000  2  1987   \n",
       "2      서울특별시 강남구 개포동  개포6차우성아파트1동~8동   79.97  201801  11  130000  1  1987   \n",
       "3      서울특별시 강남구 개포동  개포6차우성아파트1동~8동   79.97  201803  19  139500  2  1987   \n",
       "4      서울특별시 강남구 개포동  개포6차우성아파트1동~8동   54.98  201804  05  107500  5  1987   \n",
       "...              ...             ...     ...     ...  ..     ... ..   ...   \n",
       "84233  서울특별시 중랑구 중화동         한영(104)  106.21  202003  11   45400  6  2003   \n",
       "84234  서울특별시 중랑구 중화동         한영(104)   67.57  202008  07   26000  2  2003   \n",
       "84235  서울특별시 중랑구 중화동           현대휴앤미   95.94  202007  10   44000  6  2007   \n",
       "84236  서울특별시 중랑구 중화동           현대휴앤미  100.17  202012  03   54800  5  2007   \n",
       "84237  서울특별시 중랑구 중화동     현대휴앤미(102동)   77.71  202009  28   40000  5  2007   \n",
       "\n",
       "            제곱미터단가         평당단가      시    구    동 단지명브랜드       계약날짜  \n",
       "0      1625.609604  5364.511692  서울특별시  강남구  개포동     기타 2018-01-03  \n",
       "1      1463.048643  4828.060523  서울특별시  강남구  개포동     기타 2018-01-08  \n",
       "2      1625.609604  5364.511692  서울특별시  강남구  개포동     기타 2018-01-11  \n",
       "3      1744.404152  5756.533700  서울특별시  강남구  개포동     기타 2018-03-19  \n",
       "4      1955.256457  6452.346308  서울특별시  강남구  개포동     기타 2018-04-05  \n",
       "...            ...          ...    ...  ...  ...    ...        ...  \n",
       "84233   427.455042  1410.601638  서울특별시  중랑구  중화동     기타 2020-03-11  \n",
       "84234   384.786148  1269.794287  서울특별시  중랑구  중화동     기타 2020-08-07  \n",
       "84235   458.619971  1513.445904  서울특별시  중랑구  중화동     현대 2020-07-10  \n",
       "84236   547.069981  1805.330937  서울특별시  중랑구  중화동     현대 2020-12-03  \n",
       "84237   514.734268  1698.623086  서울특별시  중랑구  중화동     현대 2020-09-28  \n",
       "\n",
       "[237995 rows x 15 columns]"
      ]
     },
     "execution_count": 62,
     "metadata": {},
     "output_type": "execute_result"
    }
   ],
   "source": [
    "# 계약년월 + 계약일 --> 계약날짜\n",
    "train_data['계약날짜'] =[datetime.strptime(date,'%Y%m%d') for date in train_data['계약년월'].astype('str') + train_data['계약일'].astype('str')]\n",
    "train_data"
   ]
  },
  {
   "cell_type": "code",
   "execution_count": 63,
   "id": "b3b29780",
   "metadata": {},
   "outputs": [
    {
     "data": {
      "image/png": "[encoded data removed]",
      "text/plain": [
       "<Figure size 1008x360 with 1 Axes>"
      ]
     },
     "metadata": {
      "needs_background": "light"
     },
     "output_type": "display_data"
    }
   ],
   "source": [
    "# 계약년월 별로 그룹화 후 평균 거래금액 산출 \n",
    "train_data['계약년월'] = train_data['계약년월'].astype('str')\n",
    "train_data_grouped_ymd_mean = train_data.groupby(train_data['계약년월'])['거래금액'].mean()\n",
    "\n",
    "# 시각화\n",
    "plt.rc('font', size=15)\n",
    "fig=plt.figure(figsize=(14, 5))\n",
    "# plt.boxplot(train_data['계약년월'], train_data['거래금액'])\n",
    "plt.plot(train_data_grouped_ymd_mean)\n",
    "plt.xticks(rotation='vertical')\n",
    "plt.title('2018~2020년도 계약일자 별 평균 거래금액')\n",
    "plt.xlabel('날짜')\n",
    "plt.ylabel('평균 거래금액')\n",
    "plt.show()"
   ]
  },
  {
   "cell_type": "code",
   "execution_count": 64,
   "id": "2bef8e2d",
   "metadata": {},
   "outputs": [
    {
     "data": {
      "image/png": "[encoded data removed]",
      "text/plain": [
       "<Figure size 1008x360 with 1 Axes>"
      ]
     },
     "metadata": {
      "needs_background": "light"
     },
     "output_type": "display_data"
    }
   ],
   "source": [
    "# 계약년월 별로 그룹화 후 평균 거래금액 산출 \n",
    "train_data_grouped_ymd_mean = train_data.groupby(train_data['계약날짜'])['거래금액'].mean()\n",
    "\n",
    "# 시각화\n",
    "plt.rc('font', size=15)\n",
    "fig=plt.figure(figsize=(14, 5))\n",
    "# plt.boxplot(train_data['계약년월'], train_data['거래금액'])\n",
    "plt.plot(train_data_grouped_ymd_mean)\n",
    "plt.xticks(rotation='vertical')\n",
    "plt.title('2018~2020년도 계약일자 별 평균 거래금액')\n",
    "plt.xlabel('날짜')\n",
    "plt.ylabel('평균 거래금액')\n",
    "plt.show()"
   ]
  },
  {
   "cell_type": "code",
   "execution_count": 65,
   "id": "2c0f7d14",
   "metadata": {},
   "outputs": [
    {
     "data": {
      "text/html": [
       "<div>\n",
       "<style scoped>\n",
       "    .dataframe tbody tr th:only-of-type {\n",
       "        vertical-align: middle;\n",
       "    }\n",
       "\n",
       "    .dataframe tbody tr th {\n",
       "        vertical-align: top;\n",
       "    }\n",
       "\n",
       "    .dataframe thead th {\n",
       "        text-align: right;\n",
       "    }\n",
       "</style>\n",
       "<table border=\"1\" class=\"dataframe\">\n",
       "  <thead>\n",
       "    <tr style=\"text-align: right;\">\n",
       "      <th></th>\n",
       "      <th>계약날짜</th>\n",
       "      <th>계약날짜인코딩</th>\n",
       "    </tr>\n",
       "  </thead>\n",
       "  <tbody>\n",
       "    <tr>\n",
       "      <th>79138</th>\n",
       "      <td>2018-01-01</td>\n",
       "      <td>0</td>\n",
       "    </tr>\n",
       "    <tr>\n",
       "      <th>592</th>\n",
       "      <td>2018-01-01</td>\n",
       "      <td>0</td>\n",
       "    </tr>\n",
       "    <tr>\n",
       "      <th>52288</th>\n",
       "      <td>2018-01-01</td>\n",
       "      <td>0</td>\n",
       "    </tr>\n",
       "    <tr>\n",
       "      <th>14297</th>\n",
       "      <td>2018-01-01</td>\n",
       "      <td>0</td>\n",
       "    </tr>\n",
       "    <tr>\n",
       "      <th>19703</th>\n",
       "      <td>2018-01-01</td>\n",
       "      <td>0</td>\n",
       "    </tr>\n",
       "    <tr>\n",
       "      <th>...</th>\n",
       "      <td>...</td>\n",
       "      <td>...</td>\n",
       "    </tr>\n",
       "    <tr>\n",
       "      <th>73217</th>\n",
       "      <td>2020-12-31</td>\n",
       "      <td>1095</td>\n",
       "    </tr>\n",
       "    <tr>\n",
       "      <th>73795</th>\n",
       "      <td>2020-12-31</td>\n",
       "      <td>1095</td>\n",
       "    </tr>\n",
       "    <tr>\n",
       "      <th>82653</th>\n",
       "      <td>2020-12-31</td>\n",
       "      <td>1095</td>\n",
       "    </tr>\n",
       "    <tr>\n",
       "      <th>75893</th>\n",
       "      <td>2020-12-31</td>\n",
       "      <td>1095</td>\n",
       "    </tr>\n",
       "    <tr>\n",
       "      <th>47705</th>\n",
       "      <td>2020-12-31</td>\n",
       "      <td>1095</td>\n",
       "    </tr>\n",
       "  </tbody>\n",
       "</table>\n",
       "<p>237995 rows × 2 columns</p>\n",
       "</div>"
      ],
      "text/plain": [
       "            계약날짜  계약날짜인코딩\n",
       "79138 2018-01-01        0\n",
       "592   2018-01-01        0\n",
       "52288 2018-01-01        0\n",
       "14297 2018-01-01        0\n",
       "19703 2018-01-01        0\n",
       "...          ...      ...\n",
       "73217 2020-12-31     1095\n",
       "73795 2020-12-31     1095\n",
       "82653 2020-12-31     1095\n",
       "75893 2020-12-31     1095\n",
       "47705 2020-12-31     1095\n",
       "\n",
       "[237995 rows x 2 columns]"
      ]
     },
     "execution_count": 65,
     "metadata": {},
     "output_type": "execute_result"
    }
   ],
   "source": [
    "le = LabelEncoder()\n",
    "train_data['계약날짜인코딩'] = le.fit_transform(train_data['계약날짜'])\n",
    "train_data[['계약날짜', '계약날짜인코딩']].sort_values('계약날짜')"
   ]
  },
  {
   "cell_type": "code",
   "execution_count": 66,
   "id": "a20d4f3c",
   "metadata": {
    "scrolled": true
   },
   "outputs": [
    {
     "data": {
      "text/html": [
       "<div>\n",
       "<style scoped>\n",
       "    .dataframe tbody tr th:only-of-type {\n",
       "        vertical-align: middle;\n",
       "    }\n",
       "\n",
       "    .dataframe tbody tr th {\n",
       "        vertical-align: top;\n",
       "    }\n",
       "\n",
       "    .dataframe thead th {\n",
       "        text-align: right;\n",
       "    }\n",
       "</style>\n",
       "<table border=\"1\" class=\"dataframe\">\n",
       "  <thead>\n",
       "    <tr style=\"text-align: right;\">\n",
       "      <th></th>\n",
       "      <th>시군구</th>\n",
       "      <th>단지명</th>\n",
       "      <th>전용면적</th>\n",
       "      <th>계약년월</th>\n",
       "      <th>계약일</th>\n",
       "      <th>거래금액</th>\n",
       "      <th>층</th>\n",
       "      <th>건축년도</th>\n",
       "      <th>제곱미터단가</th>\n",
       "      <th>평당단가</th>\n",
       "      <th>시</th>\n",
       "      <th>구</th>\n",
       "      <th>동</th>\n",
       "      <th>단지명브랜드</th>\n",
       "      <th>계약날짜</th>\n",
       "      <th>계약날짜인코딩</th>\n",
       "    </tr>\n",
       "  </thead>\n",
       "  <tbody>\n",
       "    <tr>\n",
       "      <th>0</th>\n",
       "      <td>서울특별시 강남구 개포동</td>\n",
       "      <td>개포6차우성아파트1동~8동</td>\n",
       "      <td>79.97</td>\n",
       "      <td>201801</td>\n",
       "      <td>03</td>\n",
       "      <td>130000</td>\n",
       "      <td>4</td>\n",
       "      <td>1987</td>\n",
       "      <td>1625.609604</td>\n",
       "      <td>5364.511692</td>\n",
       "      <td>서울특별시</td>\n",
       "      <td>강남구</td>\n",
       "      <td>개포동</td>\n",
       "      <td>기타</td>\n",
       "      <td>2018-01-03</td>\n",
       "      <td>2</td>\n",
       "    </tr>\n",
       "    <tr>\n",
       "      <th>1</th>\n",
       "      <td>서울특별시 강남구 개포동</td>\n",
       "      <td>개포6차우성아파트1동~8동</td>\n",
       "      <td>79.97</td>\n",
       "      <td>201801</td>\n",
       "      <td>08</td>\n",
       "      <td>117000</td>\n",
       "      <td>2</td>\n",
       "      <td>1987</td>\n",
       "      <td>1463.048643</td>\n",
       "      <td>4828.060523</td>\n",
       "      <td>서울특별시</td>\n",
       "      <td>강남구</td>\n",
       "      <td>개포동</td>\n",
       "      <td>기타</td>\n",
       "      <td>2018-01-08</td>\n",
       "      <td>7</td>\n",
       "    </tr>\n",
       "    <tr>\n",
       "      <th>2</th>\n",
       "      <td>서울특별시 강남구 개포동</td>\n",
       "      <td>개포6차우성아파트1동~8동</td>\n",
       "      <td>79.97</td>\n",
       "      <td>201801</td>\n",
       "      <td>11</td>\n",
       "      <td>130000</td>\n",
       "      <td>1</td>\n",
       "      <td>1987</td>\n",
       "      <td>1625.609604</td>\n",
       "      <td>5364.511692</td>\n",
       "      <td>서울특별시</td>\n",
       "      <td>강남구</td>\n",
       "      <td>개포동</td>\n",
       "      <td>기타</td>\n",
       "      <td>2018-01-11</td>\n",
       "      <td>10</td>\n",
       "    </tr>\n",
       "    <tr>\n",
       "      <th>3</th>\n",
       "      <td>서울특별시 강남구 개포동</td>\n",
       "      <td>개포6차우성아파트1동~8동</td>\n",
       "      <td>79.97</td>\n",
       "      <td>201803</td>\n",
       "      <td>19</td>\n",
       "      <td>139500</td>\n",
       "      <td>2</td>\n",
       "      <td>1987</td>\n",
       "      <td>1744.404152</td>\n",
       "      <td>5756.533700</td>\n",
       "      <td>서울특별시</td>\n",
       "      <td>강남구</td>\n",
       "      <td>개포동</td>\n",
       "      <td>기타</td>\n",
       "      <td>2018-03-19</td>\n",
       "      <td>77</td>\n",
       "    </tr>\n",
       "    <tr>\n",
       "      <th>4</th>\n",
       "      <td>서울특별시 강남구 개포동</td>\n",
       "      <td>개포6차우성아파트1동~8동</td>\n",
       "      <td>54.98</td>\n",
       "      <td>201804</td>\n",
       "      <td>05</td>\n",
       "      <td>107500</td>\n",
       "      <td>5</td>\n",
       "      <td>1987</td>\n",
       "      <td>1955.256457</td>\n",
       "      <td>6452.346308</td>\n",
       "      <td>서울특별시</td>\n",
       "      <td>강남구</td>\n",
       "      <td>개포동</td>\n",
       "      <td>기타</td>\n",
       "      <td>2018-04-05</td>\n",
       "      <td>94</td>\n",
       "    </tr>\n",
       "    <tr>\n",
       "      <th>...</th>\n",
       "      <td>...</td>\n",
       "      <td>...</td>\n",
       "      <td>...</td>\n",
       "      <td>...</td>\n",
       "      <td>...</td>\n",
       "      <td>...</td>\n",
       "      <td>...</td>\n",
       "      <td>...</td>\n",
       "      <td>...</td>\n",
       "      <td>...</td>\n",
       "      <td>...</td>\n",
       "      <td>...</td>\n",
       "      <td>...</td>\n",
       "      <td>...</td>\n",
       "      <td>...</td>\n",
       "      <td>...</td>\n",
       "    </tr>\n",
       "    <tr>\n",
       "      <th>84233</th>\n",
       "      <td>서울특별시 중랑구 중화동</td>\n",
       "      <td>한영(104)</td>\n",
       "      <td>106.21</td>\n",
       "      <td>202003</td>\n",
       "      <td>11</td>\n",
       "      <td>45400</td>\n",
       "      <td>6</td>\n",
       "      <td>2003</td>\n",
       "      <td>427.455042</td>\n",
       "      <td>1410.601638</td>\n",
       "      <td>서울특별시</td>\n",
       "      <td>중랑구</td>\n",
       "      <td>중화동</td>\n",
       "      <td>기타</td>\n",
       "      <td>2020-03-11</td>\n",
       "      <td>800</td>\n",
       "    </tr>\n",
       "    <tr>\n",
       "      <th>84234</th>\n",
       "      <td>서울특별시 중랑구 중화동</td>\n",
       "      <td>한영(104)</td>\n",
       "      <td>67.57</td>\n",
       "      <td>202008</td>\n",
       "      <td>07</td>\n",
       "      <td>26000</td>\n",
       "      <td>2</td>\n",
       "      <td>2003</td>\n",
       "      <td>384.786148</td>\n",
       "      <td>1269.794287</td>\n",
       "      <td>서울특별시</td>\n",
       "      <td>중랑구</td>\n",
       "      <td>중화동</td>\n",
       "      <td>기타</td>\n",
       "      <td>2020-08-07</td>\n",
       "      <td>949</td>\n",
       "    </tr>\n",
       "    <tr>\n",
       "      <th>84235</th>\n",
       "      <td>서울특별시 중랑구 중화동</td>\n",
       "      <td>현대휴앤미</td>\n",
       "      <td>95.94</td>\n",
       "      <td>202007</td>\n",
       "      <td>10</td>\n",
       "      <td>44000</td>\n",
       "      <td>6</td>\n",
       "      <td>2007</td>\n",
       "      <td>458.619971</td>\n",
       "      <td>1513.445904</td>\n",
       "      <td>서울특별시</td>\n",
       "      <td>중랑구</td>\n",
       "      <td>중화동</td>\n",
       "      <td>현대</td>\n",
       "      <td>2020-07-10</td>\n",
       "      <td>921</td>\n",
       "    </tr>\n",
       "    <tr>\n",
       "      <th>84236</th>\n",
       "      <td>서울특별시 중랑구 중화동</td>\n",
       "      <td>현대휴앤미</td>\n",
       "      <td>100.17</td>\n",
       "      <td>202012</td>\n",
       "      <td>03</td>\n",
       "      <td>54800</td>\n",
       "      <td>5</td>\n",
       "      <td>2007</td>\n",
       "      <td>547.069981</td>\n",
       "      <td>1805.330937</td>\n",
       "      <td>서울특별시</td>\n",
       "      <td>중랑구</td>\n",
       "      <td>중화동</td>\n",
       "      <td>현대</td>\n",
       "      <td>2020-12-03</td>\n",
       "      <td>1067</td>\n",
       "    </tr>\n",
       "    <tr>\n",
       "      <th>84237</th>\n",
       "      <td>서울특별시 중랑구 중화동</td>\n",
       "      <td>현대휴앤미(102동)</td>\n",
       "      <td>77.71</td>\n",
       "      <td>202009</td>\n",
       "      <td>28</td>\n",
       "      <td>40000</td>\n",
       "      <td>5</td>\n",
       "      <td>2007</td>\n",
       "      <td>514.734268</td>\n",
       "      <td>1698.623086</td>\n",
       "      <td>서울특별시</td>\n",
       "      <td>중랑구</td>\n",
       "      <td>중화동</td>\n",
       "      <td>현대</td>\n",
       "      <td>2020-09-28</td>\n",
       "      <td>1001</td>\n",
       "    </tr>\n",
       "  </tbody>\n",
       "</table>\n",
       "<p>237995 rows × 16 columns</p>\n",
       "</div>"
      ],
      "text/plain": [
       "                 시군구             단지명    전용면적    계약년월 계약일    거래금액  층  건축년도  \\\n",
       "0      서울특별시 강남구 개포동  개포6차우성아파트1동~8동   79.97  201801  03  130000  4  1987   \n",
       "1      서울특별시 강남구 개포동  개포6차우성아파트1동~8동   79.97  201801  08  117000  2  1987   \n",
       "2      서울특별시 강남구 개포동  개포6차우성아파트1동~8동   79.97  201801  11  130000  1  1987   \n",
       "3      서울특별시 강남구 개포동  개포6차우성아파트1동~8동   79.97  201803  19  139500  2  1987   \n",
       "4      서울특별시 강남구 개포동  개포6차우성아파트1동~8동   54.98  201804  05  107500  5  1987   \n",
       "...              ...             ...     ...     ...  ..     ... ..   ...   \n",
       "84233  서울특별시 중랑구 중화동         한영(104)  106.21  202003  11   45400  6  2003   \n",
       "84234  서울특별시 중랑구 중화동         한영(104)   67.57  202008  07   26000  2  2003   \n",
       "84235  서울특별시 중랑구 중화동           현대휴앤미   95.94  202007  10   44000  6  2007   \n",
       "84236  서울특별시 중랑구 중화동           현대휴앤미  100.17  202012  03   54800  5  2007   \n",
       "84237  서울특별시 중랑구 중화동     현대휴앤미(102동)   77.71  202009  28   40000  5  2007   \n",
       "\n",
       "            제곱미터단가         평당단가      시    구    동 단지명브랜드       계약날짜  계약날짜인코딩  \n",
       "0      1625.609604  5364.511692  서울특별시  강남구  개포동     기타 2018-01-03        2  \n",
       "1      1463.048643  4828.060523  서울특별시  강남구  개포동     기타 2018-01-08        7  \n",
       "2      1625.609604  5364.511692  서울특별시  강남구  개포동     기타 2018-01-11       10  \n",
       "3      1744.404152  5756.533700  서울특별시  강남구  개포동     기타 2018-03-19       77  \n",
       "4      1955.256457  6452.346308  서울특별시  강남구  개포동     기타 2018-04-05       94  \n",
       "...            ...          ...    ...  ...  ...    ...        ...      ...  \n",
       "84233   427.455042  1410.601638  서울특별시  중랑구  중화동     기타 2020-03-11      800  \n",
       "84234   384.786148  1269.794287  서울특별시  중랑구  중화동     기타 2020-08-07      949  \n",
       "84235   458.619971  1513.445904  서울특별시  중랑구  중화동     현대 2020-07-10      921  \n",
       "84236   547.069981  1805.330937  서울특별시  중랑구  중화동     현대 2020-12-03     1067  \n",
       "84237   514.734268  1698.623086  서울특별시  중랑구  중화동     현대 2020-09-28     1001  \n",
       "\n",
       "[237995 rows x 16 columns]"
      ]
     },
     "execution_count": 66,
     "metadata": {},
     "output_type": "execute_result"
    }
   ],
   "source": [
    "train_data"
   ]
  },
  {
   "cell_type": "code",
   "execution_count": 67,
   "id": "f4f19a54",
   "metadata": {},
   "outputs": [
    {
     "name": "stdout",
     "output_type": "stream",
     "text": [
      "train_data.csv , 계약년월까지 csv로 저장되었습니다.\n"
     ]
    }
   ],
   "source": [
    "# 계약년월까지 저장\n",
    "train_data.to_csv('train_data.csv', encoding='utf-8-sig', index=False)\n",
    "print('train_data.csv , 계약년월까지 csv로 저장되었습니다.')"
   ]
  },
  {
   "cell_type": "markdown",
   "id": "d798a25d",
   "metadata": {},
   "source": [
    "### 전용면적"
   ]
  },
  {
   "cell_type": "code",
   "execution_count": 68,
   "id": "ff6b7d14",
   "metadata": {},
   "outputs": [],
   "source": [
    "# train_data.rename(columns = {'전용면적(㎡)':'전용면적'}, inplace=True)\n",
    "# train_data"
   ]
  },
  {
   "cell_type": "code",
   "execution_count": 69,
   "id": "fccab1f8",
   "metadata": {},
   "outputs": [
    {
     "data": {
      "text/plain": [
       "(300.0, 400.0)"
      ]
     },
     "execution_count": 69,
     "metadata": {},
     "output_type": "execute_result"
    },
    {
     "data": {
      "image/png": "[encoded data removed]",
      "text/plain": [
       "<Figure size 1440x360 with 2 Axes>"
      ]
     },
     "metadata": {
      "needs_background": "light"
     },
     "output_type": "display_data"
    }
   ],
   "source": [
    "#거래금액 - 전용면적 분포도 확인 (12/26)\n",
    "plt.figure(figsize=(20,5))\n",
    "plt.subplot(1, 2, 1)\n",
    "plt.scatter(train_data['전용면적'],train_data['거래금액'])\n",
    "\n",
    "plt.subplot(1, 2, 2)\n",
    "plt.scatter(train_data['전용면적'],train_data['거래금액'])\n",
    "plt.xlim([300,400])#max=395.06"
   ]
  },
  {
   "cell_type": "code",
   "execution_count": 70,
   "id": "946bee48",
   "metadata": {},
   "outputs": [
    {
     "data": {
      "text/html": [
       "<div>\n",
       "<style scoped>\n",
       "    .dataframe tbody tr th:only-of-type {\n",
       "        vertical-align: middle;\n",
       "    }\n",
       "\n",
       "    .dataframe tbody tr th {\n",
       "        vertical-align: top;\n",
       "    }\n",
       "\n",
       "    .dataframe thead th {\n",
       "        text-align: right;\n",
       "    }\n",
       "</style>\n",
       "<table border=\"1\" class=\"dataframe\">\n",
       "  <thead>\n",
       "    <tr style=\"text-align: right;\">\n",
       "      <th></th>\n",
       "      <th>시군구</th>\n",
       "      <th>단지명</th>\n",
       "      <th>전용면적</th>\n",
       "      <th>계약년월</th>\n",
       "      <th>계약일</th>\n",
       "      <th>거래금액</th>\n",
       "      <th>층</th>\n",
       "      <th>건축년도</th>\n",
       "      <th>제곱미터단가</th>\n",
       "      <th>평당단가</th>\n",
       "      <th>시</th>\n",
       "      <th>구</th>\n",
       "      <th>동</th>\n",
       "      <th>단지명브랜드</th>\n",
       "      <th>계약날짜</th>\n",
       "      <th>계약날짜인코딩</th>\n",
       "    </tr>\n",
       "  </thead>\n",
       "  <tbody>\n",
       "    <tr>\n",
       "      <th>0</th>\n",
       "      <td>서울특별시 강남구 개포동</td>\n",
       "      <td>개포6차우성아파트1동~8동</td>\n",
       "      <td>79.97</td>\n",
       "      <td>201801</td>\n",
       "      <td>03</td>\n",
       "      <td>130000</td>\n",
       "      <td>4</td>\n",
       "      <td>1987</td>\n",
       "      <td>1625.609604</td>\n",
       "      <td>5364.511692</td>\n",
       "      <td>서울특별시</td>\n",
       "      <td>강남구</td>\n",
       "      <td>개포동</td>\n",
       "      <td>기타</td>\n",
       "      <td>2018-01-03</td>\n",
       "      <td>2</td>\n",
       "    </tr>\n",
       "    <tr>\n",
       "      <th>1</th>\n",
       "      <td>서울특별시 강남구 개포동</td>\n",
       "      <td>개포6차우성아파트1동~8동</td>\n",
       "      <td>79.97</td>\n",
       "      <td>201801</td>\n",
       "      <td>08</td>\n",
       "      <td>117000</td>\n",
       "      <td>2</td>\n",
       "      <td>1987</td>\n",
       "      <td>1463.048643</td>\n",
       "      <td>4828.060523</td>\n",
       "      <td>서울특별시</td>\n",
       "      <td>강남구</td>\n",
       "      <td>개포동</td>\n",
       "      <td>기타</td>\n",
       "      <td>2018-01-08</td>\n",
       "      <td>7</td>\n",
       "    </tr>\n",
       "    <tr>\n",
       "      <th>2</th>\n",
       "      <td>서울특별시 강남구 개포동</td>\n",
       "      <td>개포6차우성아파트1동~8동</td>\n",
       "      <td>79.97</td>\n",
       "      <td>201801</td>\n",
       "      <td>11</td>\n",
       "      <td>130000</td>\n",
       "      <td>1</td>\n",
       "      <td>1987</td>\n",
       "      <td>1625.609604</td>\n",
       "      <td>5364.511692</td>\n",
       "      <td>서울특별시</td>\n",
       "      <td>강남구</td>\n",
       "      <td>개포동</td>\n",
       "      <td>기타</td>\n",
       "      <td>2018-01-11</td>\n",
       "      <td>10</td>\n",
       "    </tr>\n",
       "    <tr>\n",
       "      <th>3</th>\n",
       "      <td>서울특별시 강남구 개포동</td>\n",
       "      <td>개포6차우성아파트1동~8동</td>\n",
       "      <td>79.97</td>\n",
       "      <td>201803</td>\n",
       "      <td>19</td>\n",
       "      <td>139500</td>\n",
       "      <td>2</td>\n",
       "      <td>1987</td>\n",
       "      <td>1744.404152</td>\n",
       "      <td>5756.533700</td>\n",
       "      <td>서울특별시</td>\n",
       "      <td>강남구</td>\n",
       "      <td>개포동</td>\n",
       "      <td>기타</td>\n",
       "      <td>2018-03-19</td>\n",
       "      <td>77</td>\n",
       "    </tr>\n",
       "    <tr>\n",
       "      <th>4</th>\n",
       "      <td>서울특별시 강남구 개포동</td>\n",
       "      <td>개포6차우성아파트1동~8동</td>\n",
       "      <td>54.98</td>\n",
       "      <td>201804</td>\n",
       "      <td>05</td>\n",
       "      <td>107500</td>\n",
       "      <td>5</td>\n",
       "      <td>1987</td>\n",
       "      <td>1955.256457</td>\n",
       "      <td>6452.346308</td>\n",
       "      <td>서울특별시</td>\n",
       "      <td>강남구</td>\n",
       "      <td>개포동</td>\n",
       "      <td>기타</td>\n",
       "      <td>2018-04-05</td>\n",
       "      <td>94</td>\n",
       "    </tr>\n",
       "    <tr>\n",
       "      <th>...</th>\n",
       "      <td>...</td>\n",
       "      <td>...</td>\n",
       "      <td>...</td>\n",
       "      <td>...</td>\n",
       "      <td>...</td>\n",
       "      <td>...</td>\n",
       "      <td>...</td>\n",
       "      <td>...</td>\n",
       "      <td>...</td>\n",
       "      <td>...</td>\n",
       "      <td>...</td>\n",
       "      <td>...</td>\n",
       "      <td>...</td>\n",
       "      <td>...</td>\n",
       "      <td>...</td>\n",
       "      <td>...</td>\n",
       "    </tr>\n",
       "    <tr>\n",
       "      <th>84233</th>\n",
       "      <td>서울특별시 중랑구 중화동</td>\n",
       "      <td>한영(104)</td>\n",
       "      <td>106.21</td>\n",
       "      <td>202003</td>\n",
       "      <td>11</td>\n",
       "      <td>45400</td>\n",
       "      <td>6</td>\n",
       "      <td>2003</td>\n",
       "      <td>427.455042</td>\n",
       "      <td>1410.601638</td>\n",
       "      <td>서울특별시</td>\n",
       "      <td>중랑구</td>\n",
       "      <td>중화동</td>\n",
       "      <td>기타</td>\n",
       "      <td>2020-03-11</td>\n",
       "      <td>800</td>\n",
       "    </tr>\n",
       "    <tr>\n",
       "      <th>84234</th>\n",
       "      <td>서울특별시 중랑구 중화동</td>\n",
       "      <td>한영(104)</td>\n",
       "      <td>67.57</td>\n",
       "      <td>202008</td>\n",
       "      <td>07</td>\n",
       "      <td>26000</td>\n",
       "      <td>2</td>\n",
       "      <td>2003</td>\n",
       "      <td>384.786148</td>\n",
       "      <td>1269.794287</td>\n",
       "      <td>서울특별시</td>\n",
       "      <td>중랑구</td>\n",
       "      <td>중화동</td>\n",
       "      <td>기타</td>\n",
       "      <td>2020-08-07</td>\n",
       "      <td>949</td>\n",
       "    </tr>\n",
       "    <tr>\n",
       "      <th>84235</th>\n",
       "      <td>서울특별시 중랑구 중화동</td>\n",
       "      <td>현대휴앤미</td>\n",
       "      <td>95.94</td>\n",
       "      <td>202007</td>\n",
       "      <td>10</td>\n",
       "      <td>44000</td>\n",
       "      <td>6</td>\n",
       "      <td>2007</td>\n",
       "      <td>458.619971</td>\n",
       "      <td>1513.445904</td>\n",
       "      <td>서울특별시</td>\n",
       "      <td>중랑구</td>\n",
       "      <td>중화동</td>\n",
       "      <td>현대</td>\n",
       "      <td>2020-07-10</td>\n",
       "      <td>921</td>\n",
       "    </tr>\n",
       "    <tr>\n",
       "      <th>84236</th>\n",
       "      <td>서울특별시 중랑구 중화동</td>\n",
       "      <td>현대휴앤미</td>\n",
       "      <td>100.17</td>\n",
       "      <td>202012</td>\n",
       "      <td>03</td>\n",
       "      <td>54800</td>\n",
       "      <td>5</td>\n",
       "      <td>2007</td>\n",
       "      <td>547.069981</td>\n",
       "      <td>1805.330937</td>\n",
       "      <td>서울특별시</td>\n",
       "      <td>중랑구</td>\n",
       "      <td>중화동</td>\n",
       "      <td>현대</td>\n",
       "      <td>2020-12-03</td>\n",
       "      <td>1067</td>\n",
       "    </tr>\n",
       "    <tr>\n",
       "      <th>84237</th>\n",
       "      <td>서울특별시 중랑구 중화동</td>\n",
       "      <td>현대휴앤미(102동)</td>\n",
       "      <td>77.71</td>\n",
       "      <td>202009</td>\n",
       "      <td>28</td>\n",
       "      <td>40000</td>\n",
       "      <td>5</td>\n",
       "      <td>2007</td>\n",
       "      <td>514.734268</td>\n",
       "      <td>1698.623086</td>\n",
       "      <td>서울특별시</td>\n",
       "      <td>중랑구</td>\n",
       "      <td>중화동</td>\n",
       "      <td>현대</td>\n",
       "      <td>2020-09-28</td>\n",
       "      <td>1001</td>\n",
       "    </tr>\n",
       "  </tbody>\n",
       "</table>\n",
       "<p>237987 rows × 16 columns</p>\n",
       "</div>"
      ],
      "text/plain": [
       "                 시군구             단지명    전용면적    계약년월 계약일    거래금액  층  건축년도  \\\n",
       "0      서울특별시 강남구 개포동  개포6차우성아파트1동~8동   79.97  201801  03  130000  4  1987   \n",
       "1      서울특별시 강남구 개포동  개포6차우성아파트1동~8동   79.97  201801  08  117000  2  1987   \n",
       "2      서울특별시 강남구 개포동  개포6차우성아파트1동~8동   79.97  201801  11  130000  1  1987   \n",
       "3      서울특별시 강남구 개포동  개포6차우성아파트1동~8동   79.97  201803  19  139500  2  1987   \n",
       "4      서울특별시 강남구 개포동  개포6차우성아파트1동~8동   54.98  201804  05  107500  5  1987   \n",
       "...              ...             ...     ...     ...  ..     ... ..   ...   \n",
       "84233  서울특별시 중랑구 중화동         한영(104)  106.21  202003  11   45400  6  2003   \n",
       "84234  서울특별시 중랑구 중화동         한영(104)   67.57  202008  07   26000  2  2003   \n",
       "84235  서울특별시 중랑구 중화동           현대휴앤미   95.94  202007  10   44000  6  2007   \n",
       "84236  서울특별시 중랑구 중화동           현대휴앤미  100.17  202012  03   54800  5  2007   \n",
       "84237  서울특별시 중랑구 중화동     현대휴앤미(102동)   77.71  202009  28   40000  5  2007   \n",
       "\n",
       "            제곱미터단가         평당단가      시    구    동 단지명브랜드       계약날짜  계약날짜인코딩  \n",
       "0      1625.609604  5364.511692  서울특별시  강남구  개포동     기타 2018-01-03        2  \n",
       "1      1463.048643  4828.060523  서울특별시  강남구  개포동     기타 2018-01-08        7  \n",
       "2      1625.609604  5364.511692  서울특별시  강남구  개포동     기타 2018-01-11       10  \n",
       "3      1744.404152  5756.533700  서울특별시  강남구  개포동     기타 2018-03-19       77  \n",
       "4      1955.256457  6452.346308  서울특별시  강남구  개포동     기타 2018-04-05       94  \n",
       "...            ...          ...    ...  ...  ...    ...        ...      ...  \n",
       "84233   427.455042  1410.601638  서울특별시  중랑구  중화동     기타 2020-03-11      800  \n",
       "84234   384.786148  1269.794287  서울특별시  중랑구  중화동     기타 2020-08-07      949  \n",
       "84235   458.619971  1513.445904  서울특별시  중랑구  중화동     현대 2020-07-10      921  \n",
       "84236   547.069981  1805.330937  서울특별시  중랑구  중화동     현대 2020-12-03     1067  \n",
       "84237   514.734268  1698.623086  서울특별시  중랑구  중화동     현대 2020-09-28     1001  \n",
       "\n",
       "[237987 rows x 16 columns]"
      ]
     },
     "execution_count": 70,
     "metadata": {},
     "output_type": "execute_result"
    }
   ],
   "source": [
    "# 이상치 제거하기\n",
    "train_data.drop(train_data.loc[train_data['전용면적']>300].index, inplace=True)\n",
    "train_data"
   ]
  },
  {
   "cell_type": "code",
   "execution_count": 71,
   "id": "0ddc7d5a",
   "metadata": {},
   "outputs": [
    {
     "data": {
      "text/plain": [
       "count    237987.000000\n",
       "mean         78.106752\n",
       "std          30.249997\n",
       "min          10.321500\n",
       "25%          59.730000\n",
       "50%          83.580000\n",
       "75%          84.970000\n",
       "max         283.760000\n",
       "Name: 전용면적, dtype: float64"
      ]
     },
     "execution_count": 71,
     "metadata": {},
     "output_type": "execute_result"
    }
   ],
   "source": [
    "train_data['전용면적'].describe()"
   ]
  },
  {
   "cell_type": "code",
   "execution_count": 72,
   "id": "f9f8aca5",
   "metadata": {
    "scrolled": true
   },
   "outputs": [],
   "source": [
    "# #로그변환\n",
    "# train_data['전용면적_log']=np.log1p(train_data['전용면적'])\n",
    "# train_data"
   ]
  },
  {
   "cell_type": "code",
   "execution_count": 73,
   "id": "baaf6fb2",
   "metadata": {
    "scrolled": true
   },
   "outputs": [],
   "source": [
    "# #10단위로 29구간 인코딩 (10~290)\n",
    "# labels=list(range(1,30))\n",
    "# train_data['전용면적_10']=pd.cut(train_data['전용면적'],\n",
    "#                                 bins=29, labels=labels, include_lowest=True)\n",
    "# train_data"
   ]
  },
  {
   "cell_type": "code",
   "execution_count": 74,
   "id": "58944f6a",
   "metadata": {},
   "outputs": [],
   "source": [
    "# train_data['전용면적_10'].value_counts()"
   ]
  },
  {
   "cell_type": "code",
   "execution_count": 75,
   "id": "b79523bc",
   "metadata": {
    "scrolled": true
   },
   "outputs": [],
   "source": [
    "# train_data['전용면적'].value_counts().sort_values(ascending=False)"
   ]
  },
  {
   "cell_type": "code",
   "execution_count": 76,
   "id": "3faf6024",
   "metadata": {},
   "outputs": [
    {
     "name": "stdout",
     "output_type": "stream",
     "text": [
      "train_data.csv , 전용면적까지 csv로 저장되었습니다.\n"
     ]
    }
   ],
   "source": [
    "# 전용면적까지 저장\n",
    "train_data.to_csv('train_data.csv', encoding='utf-8-sig', index=False)\n",
    "print('train_data.csv , 전용면적까지 csv로 저장되었습니다.')"
   ]
  },
  {
   "cell_type": "markdown",
   "id": "686e5309",
   "metadata": {},
   "source": [
    "### 건축년도"
   ]
  },
  {
   "cell_type": "code",
   "execution_count": 77,
   "id": "45fb735f",
   "metadata": {},
   "outputs": [],
   "source": [
    "# 분포"
   ]
  },
  {
   "cell_type": "code",
   "execution_count": 78,
   "id": "29743c6d",
   "metadata": {},
   "outputs": [
    {
     "name": "stdout",
     "output_type": "stream",
     "text": [
      "train_data_ver1.csv , 기존 부동산 데이터가 csv로 저장되었습니다.\n"
     ]
    }
   ],
   "source": [
    "# 거래금액, 제곱미터당 단가, 시군구, 단지명브랜드, 계약날짜 인코딩, 층, 전용면적, 층까지 저장\n",
    "train_data.to_csv('train_data_ver1.csv', encoding='utf-8-sig', index=False)\n",
    "print('train_data_ver1.csv , 기존 부동산 데이터가 csv로 저장되었습니다.')"
   ]
  },
  {
   "cell_type": "markdown",
   "id": "424e3ca5",
   "metadata": {},
   "source": [
    "## -- 추가 데이터 --"
   ]
  },
  {
   "cell_type": "markdown",
   "id": "45a53722",
   "metadata": {},
   "source": [
    "### 공원 데이터"
   ]
  },
  {
   "cell_type": "code",
   "execution_count": 79,
   "id": "7de96836",
   "metadata": {},
   "outputs": [
    {
     "data": {
      "text/html": [
       "<div>\n",
       "<style scoped>\n",
       "    .dataframe tbody tr th:only-of-type {\n",
       "        vertical-align: middle;\n",
       "    }\n",
       "\n",
       "    .dataframe tbody tr th {\n",
       "        vertical-align: top;\n",
       "    }\n",
       "\n",
       "    .dataframe thead th {\n",
       "        text-align: right;\n",
       "    }\n",
       "</style>\n",
       "<table border=\"1\" class=\"dataframe\">\n",
       "  <thead>\n",
       "    <tr style=\"text-align: right;\">\n",
       "      <th></th>\n",
       "      <th>시군구</th>\n",
       "      <th>단지명</th>\n",
       "      <th>전용면적</th>\n",
       "      <th>계약년월</th>\n",
       "      <th>계약일</th>\n",
       "      <th>거래금액</th>\n",
       "      <th>층</th>\n",
       "      <th>건축년도</th>\n",
       "      <th>제곱미터단가</th>\n",
       "      <th>평당단가</th>\n",
       "      <th>시</th>\n",
       "      <th>구</th>\n",
       "      <th>동</th>\n",
       "      <th>단지명브랜드</th>\n",
       "      <th>계약날짜</th>\n",
       "      <th>계약날짜인코딩</th>\n",
       "    </tr>\n",
       "  </thead>\n",
       "  <tbody>\n",
       "    <tr>\n",
       "      <th>0</th>\n",
       "      <td>서울특별시 강남구 개포동</td>\n",
       "      <td>개포6차우성아파트1동~8동</td>\n",
       "      <td>79.97</td>\n",
       "      <td>201801</td>\n",
       "      <td>3</td>\n",
       "      <td>130000</td>\n",
       "      <td>4</td>\n",
       "      <td>1987</td>\n",
       "      <td>1625.609604</td>\n",
       "      <td>5364.511692</td>\n",
       "      <td>서울특별시</td>\n",
       "      <td>강남구</td>\n",
       "      <td>개포동</td>\n",
       "      <td>기타</td>\n",
       "      <td>2018-01-03</td>\n",
       "      <td>2</td>\n",
       "    </tr>\n",
       "    <tr>\n",
       "      <th>1</th>\n",
       "      <td>서울특별시 강남구 개포동</td>\n",
       "      <td>개포6차우성아파트1동~8동</td>\n",
       "      <td>79.97</td>\n",
       "      <td>201801</td>\n",
       "      <td>8</td>\n",
       "      <td>117000</td>\n",
       "      <td>2</td>\n",
       "      <td>1987</td>\n",
       "      <td>1463.048643</td>\n",
       "      <td>4828.060523</td>\n",
       "      <td>서울특별시</td>\n",
       "      <td>강남구</td>\n",
       "      <td>개포동</td>\n",
       "      <td>기타</td>\n",
       "      <td>2018-01-08</td>\n",
       "      <td>7</td>\n",
       "    </tr>\n",
       "    <tr>\n",
       "      <th>2</th>\n",
       "      <td>서울특별시 강남구 개포동</td>\n",
       "      <td>개포6차우성아파트1동~8동</td>\n",
       "      <td>79.97</td>\n",
       "      <td>201801</td>\n",
       "      <td>11</td>\n",
       "      <td>130000</td>\n",
       "      <td>1</td>\n",
       "      <td>1987</td>\n",
       "      <td>1625.609604</td>\n",
       "      <td>5364.511692</td>\n",
       "      <td>서울특별시</td>\n",
       "      <td>강남구</td>\n",
       "      <td>개포동</td>\n",
       "      <td>기타</td>\n",
       "      <td>2018-01-11</td>\n",
       "      <td>10</td>\n",
       "    </tr>\n",
       "    <tr>\n",
       "      <th>3</th>\n",
       "      <td>서울특별시 강남구 개포동</td>\n",
       "      <td>개포6차우성아파트1동~8동</td>\n",
       "      <td>79.97</td>\n",
       "      <td>201803</td>\n",
       "      <td>19</td>\n",
       "      <td>139500</td>\n",
       "      <td>2</td>\n",
       "      <td>1987</td>\n",
       "      <td>1744.404152</td>\n",
       "      <td>5756.533700</td>\n",
       "      <td>서울특별시</td>\n",
       "      <td>강남구</td>\n",
       "      <td>개포동</td>\n",
       "      <td>기타</td>\n",
       "      <td>2018-03-19</td>\n",
       "      <td>77</td>\n",
       "    </tr>\n",
       "    <tr>\n",
       "      <th>4</th>\n",
       "      <td>서울특별시 강남구 개포동</td>\n",
       "      <td>개포6차우성아파트1동~8동</td>\n",
       "      <td>54.98</td>\n",
       "      <td>201804</td>\n",
       "      <td>5</td>\n",
       "      <td>107500</td>\n",
       "      <td>5</td>\n",
       "      <td>1987</td>\n",
       "      <td>1955.256457</td>\n",
       "      <td>6452.346308</td>\n",
       "      <td>서울특별시</td>\n",
       "      <td>강남구</td>\n",
       "      <td>개포동</td>\n",
       "      <td>기타</td>\n",
       "      <td>2018-04-05</td>\n",
       "      <td>94</td>\n",
       "    </tr>\n",
       "    <tr>\n",
       "      <th>...</th>\n",
       "      <td>...</td>\n",
       "      <td>...</td>\n",
       "      <td>...</td>\n",
       "      <td>...</td>\n",
       "      <td>...</td>\n",
       "      <td>...</td>\n",
       "      <td>...</td>\n",
       "      <td>...</td>\n",
       "      <td>...</td>\n",
       "      <td>...</td>\n",
       "      <td>...</td>\n",
       "      <td>...</td>\n",
       "      <td>...</td>\n",
       "      <td>...</td>\n",
       "      <td>...</td>\n",
       "      <td>...</td>\n",
       "    </tr>\n",
       "    <tr>\n",
       "      <th>237982</th>\n",
       "      <td>서울특별시 중랑구 중화동</td>\n",
       "      <td>한영(104)</td>\n",
       "      <td>106.21</td>\n",
       "      <td>202003</td>\n",
       "      <td>11</td>\n",
       "      <td>45400</td>\n",
       "      <td>6</td>\n",
       "      <td>2003</td>\n",
       "      <td>427.455042</td>\n",
       "      <td>1410.601638</td>\n",
       "      <td>서울특별시</td>\n",
       "      <td>중랑구</td>\n",
       "      <td>중화동</td>\n",
       "      <td>기타</td>\n",
       "      <td>2020-03-11</td>\n",
       "      <td>800</td>\n",
       "    </tr>\n",
       "    <tr>\n",
       "      <th>237983</th>\n",
       "      <td>서울특별시 중랑구 중화동</td>\n",
       "      <td>한영(104)</td>\n",
       "      <td>67.57</td>\n",
       "      <td>202008</td>\n",
       "      <td>7</td>\n",
       "      <td>26000</td>\n",
       "      <td>2</td>\n",
       "      <td>2003</td>\n",
       "      <td>384.786148</td>\n",
       "      <td>1269.794287</td>\n",
       "      <td>서울특별시</td>\n",
       "      <td>중랑구</td>\n",
       "      <td>중화동</td>\n",
       "      <td>기타</td>\n",
       "      <td>2020-08-07</td>\n",
       "      <td>949</td>\n",
       "    </tr>\n",
       "    <tr>\n",
       "      <th>237984</th>\n",
       "      <td>서울특별시 중랑구 중화동</td>\n",
       "      <td>현대휴앤미</td>\n",
       "      <td>95.94</td>\n",
       "      <td>202007</td>\n",
       "      <td>10</td>\n",
       "      <td>44000</td>\n",
       "      <td>6</td>\n",
       "      <td>2007</td>\n",
       "      <td>458.619971</td>\n",
       "      <td>1513.445904</td>\n",
       "      <td>서울특별시</td>\n",
       "      <td>중랑구</td>\n",
       "      <td>중화동</td>\n",
       "      <td>현대</td>\n",
       "      <td>2020-07-10</td>\n",
       "      <td>921</td>\n",
       "    </tr>\n",
       "    <tr>\n",
       "      <th>237985</th>\n",
       "      <td>서울특별시 중랑구 중화동</td>\n",
       "      <td>현대휴앤미</td>\n",
       "      <td>100.17</td>\n",
       "      <td>202012</td>\n",
       "      <td>3</td>\n",
       "      <td>54800</td>\n",
       "      <td>5</td>\n",
       "      <td>2007</td>\n",
       "      <td>547.069981</td>\n",
       "      <td>1805.330937</td>\n",
       "      <td>서울특별시</td>\n",
       "      <td>중랑구</td>\n",
       "      <td>중화동</td>\n",
       "      <td>현대</td>\n",
       "      <td>2020-12-03</td>\n",
       "      <td>1067</td>\n",
       "    </tr>\n",
       "    <tr>\n",
       "      <th>237986</th>\n",
       "      <td>서울특별시 중랑구 중화동</td>\n",
       "      <td>현대휴앤미(102동)</td>\n",
       "      <td>77.71</td>\n",
       "      <td>202009</td>\n",
       "      <td>28</td>\n",
       "      <td>40000</td>\n",
       "      <td>5</td>\n",
       "      <td>2007</td>\n",
       "      <td>514.734268</td>\n",
       "      <td>1698.623086</td>\n",
       "      <td>서울특별시</td>\n",
       "      <td>중랑구</td>\n",
       "      <td>중화동</td>\n",
       "      <td>현대</td>\n",
       "      <td>2020-09-28</td>\n",
       "      <td>1001</td>\n",
       "    </tr>\n",
       "  </tbody>\n",
       "</table>\n",
       "<p>237987 rows × 16 columns</p>\n",
       "</div>"
      ],
      "text/plain": [
       "                  시군구             단지명    전용면적    계약년월  계약일    거래금액  층  건축년도  \\\n",
       "0       서울특별시 강남구 개포동  개포6차우성아파트1동~8동   79.97  201801    3  130000  4  1987   \n",
       "1       서울특별시 강남구 개포동  개포6차우성아파트1동~8동   79.97  201801    8  117000  2  1987   \n",
       "2       서울특별시 강남구 개포동  개포6차우성아파트1동~8동   79.97  201801   11  130000  1  1987   \n",
       "3       서울특별시 강남구 개포동  개포6차우성아파트1동~8동   79.97  201803   19  139500  2  1987   \n",
       "4       서울특별시 강남구 개포동  개포6차우성아파트1동~8동   54.98  201804    5  107500  5  1987   \n",
       "...               ...             ...     ...     ...  ...     ... ..   ...   \n",
       "237982  서울특별시 중랑구 중화동         한영(104)  106.21  202003   11   45400  6  2003   \n",
       "237983  서울특별시 중랑구 중화동         한영(104)   67.57  202008    7   26000  2  2003   \n",
       "237984  서울특별시 중랑구 중화동           현대휴앤미   95.94  202007   10   44000  6  2007   \n",
       "237985  서울특별시 중랑구 중화동           현대휴앤미  100.17  202012    3   54800  5  2007   \n",
       "237986  서울특별시 중랑구 중화동     현대휴앤미(102동)   77.71  202009   28   40000  5  2007   \n",
       "\n",
       "             제곱미터단가         평당단가      시    구    동 단지명브랜드        계약날짜  계약날짜인코딩  \n",
       "0       1625.609604  5364.511692  서울특별시  강남구  개포동     기타  2018-01-03        2  \n",
       "1       1463.048643  4828.060523  서울특별시  강남구  개포동     기타  2018-01-08        7  \n",
       "2       1625.609604  5364.511692  서울특별시  강남구  개포동     기타  2018-01-11       10  \n",
       "3       1744.404152  5756.533700  서울특별시  강남구  개포동     기타  2018-03-19       77  \n",
       "4       1955.256457  6452.346308  서울특별시  강남구  개포동     기타  2018-04-05       94  \n",
       "...             ...          ...    ...  ...  ...    ...         ...      ...  \n",
       "237982   427.455042  1410.601638  서울특별시  중랑구  중화동     기타  2020-03-11      800  \n",
       "237983   384.786148  1269.794287  서울특별시  중랑구  중화동     기타  2020-08-07      949  \n",
       "237984   458.619971  1513.445904  서울특별시  중랑구  중화동     현대  2020-07-10      921  \n",
       "237985   547.069981  1805.330937  서울특별시  중랑구  중화동     현대  2020-12-03     1067  \n",
       "237986   514.734268  1698.623086  서울특별시  중랑구  중화동     현대  2020-09-28     1001  \n",
       "\n",
       "[237987 rows x 16 columns]"
      ]
     },
     "execution_count": 79,
     "metadata": {},
     "output_type": "execute_result"
    }
   ],
   "source": [
    "# 공원 데이터\n",
    "park_data=pd.read_csv('park.csv')\n",
    "park_data=park_data.loc[park_data['city']=='서울특별시'].reset_index()\n",
    "\n",
    "#공원 이전까지 인코딩된 데이터 불러오기\n",
    "train_data=pd.read_csv('train_data_ver1.csv')\n",
    "\n",
    "train_data"
   ]
  },
  {
   "cell_type": "code",
   "execution_count": 80,
   "id": "7a834ca2",
   "metadata": {},
   "outputs": [
    {
     "data": {
      "text/plain": [
       "송파구     147\n",
       "강남구     132\n",
       "강서구     109\n",
       "서초구     107\n",
       "은평구      79\n",
       "서대문구     50\n",
       "구로구      47\n",
       "동작구      46\n",
       "동대문구     41\n",
       "용산구      32\n",
       "성동구      23\n",
       "강동구      23\n",
       "관악구      21\n",
       "중구       14\n",
       "광진구      11\n",
       "중랑구      11\n",
       "금천구      10\n",
       "강북구       9\n",
       "영등포구      8\n",
       "종로구       5\n",
       "도봉구       2\n",
       "노원구       2\n",
       "양천구       1\n",
       "Name: gu, dtype: int64"
      ]
     },
     "execution_count": 80,
     "metadata": {},
     "output_type": "execute_result"
    }
   ],
   "source": [
    "park_data['gu'].value_counts()"
   ]
  },
  {
   "cell_type": "code",
   "execution_count": 81,
   "id": "657e7f1b",
   "metadata": {
    "scrolled": true
   },
   "outputs": [
    {
     "data": {
      "text/html": [
       "<div>\n",
       "<style scoped>\n",
       "    .dataframe tbody tr th:only-of-type {\n",
       "        vertical-align: middle;\n",
       "    }\n",
       "\n",
       "    .dataframe tbody tr th {\n",
       "        vertical-align: top;\n",
       "    }\n",
       "\n",
       "    .dataframe thead th {\n",
       "        text-align: right;\n",
       "    }\n",
       "</style>\n",
       "<table border=\"1\" class=\"dataframe\">\n",
       "  <thead>\n",
       "    <tr style=\"text-align: right;\">\n",
       "      <th></th>\n",
       "      <th>index</th>\n",
       "      <th>city</th>\n",
       "      <th>gu</th>\n",
       "      <th>dong</th>\n",
       "      <th>park_name</th>\n",
       "      <th>park_type</th>\n",
       "      <th>park_area</th>\n",
       "      <th>park_exercise_facility</th>\n",
       "      <th>park_entertainment_facility</th>\n",
       "      <th>park_benefit_facility</th>\n",
       "      <th>park_cultural_facitiy</th>\n",
       "      <th>park_facility_other</th>\n",
       "      <th>park_open_year</th>\n",
       "      <th>reference_date</th>\n",
       "    </tr>\n",
       "  </thead>\n",
       "  <tbody>\n",
       "    <tr>\n",
       "      <th>0</th>\n",
       "      <td>58</td>\n",
       "      <td>서울특별시</td>\n",
       "      <td>서초구</td>\n",
       "      <td>반포동</td>\n",
       "      <td>반  포</td>\n",
       "      <td>근린공원</td>\n",
       "      <td>26092.2</td>\n",
       "      <td>NaN</td>\n",
       "      <td>NaN</td>\n",
       "      <td>NaN</td>\n",
       "      <td>NaN</td>\n",
       "      <td>NaN</td>\n",
       "      <td>1981.0</td>\n",
       "      <td>2018-06-30</td>\n",
       "    </tr>\n",
       "    <tr>\n",
       "      <th>1</th>\n",
       "      <td>59</td>\n",
       "      <td>서울특별시</td>\n",
       "      <td>서초구</td>\n",
       "      <td>양재동</td>\n",
       "      <td>방아다리1</td>\n",
       "      <td>근린공원</td>\n",
       "      <td>2870.8</td>\n",
       "      <td>NaN</td>\n",
       "      <td>NaN</td>\n",
       "      <td>NaN</td>\n",
       "      <td>NaN</td>\n",
       "      <td>NaN</td>\n",
       "      <td>1988.0</td>\n",
       "      <td>2018-06-30</td>\n",
       "    </tr>\n",
       "    <tr>\n",
       "      <th>2</th>\n",
       "      <td>60</td>\n",
       "      <td>서울특별시</td>\n",
       "      <td>서초구</td>\n",
       "      <td>양재동</td>\n",
       "      <td>방아다리2</td>\n",
       "      <td>근린공원</td>\n",
       "      <td>2934.3</td>\n",
       "      <td>NaN</td>\n",
       "      <td>NaN</td>\n",
       "      <td>NaN</td>\n",
       "      <td>NaN</td>\n",
       "      <td>NaN</td>\n",
       "      <td>1988.0</td>\n",
       "      <td>2018-06-30</td>\n",
       "    </tr>\n",
       "    <tr>\n",
       "      <th>3</th>\n",
       "      <td>61</td>\n",
       "      <td>서울특별시</td>\n",
       "      <td>서초구</td>\n",
       "      <td>양재동</td>\n",
       "      <td>양재천</td>\n",
       "      <td>근린공원</td>\n",
       "      <td>19258.0</td>\n",
       "      <td>NaN</td>\n",
       "      <td>NaN</td>\n",
       "      <td>NaN</td>\n",
       "      <td>NaN</td>\n",
       "      <td>NaN</td>\n",
       "      <td>1988.0</td>\n",
       "      <td>2018-06-30</td>\n",
       "    </tr>\n",
       "    <tr>\n",
       "      <th>4</th>\n",
       "      <td>62</td>\n",
       "      <td>서울특별시</td>\n",
       "      <td>서초구</td>\n",
       "      <td>양재동</td>\n",
       "      <td>마  방</td>\n",
       "      <td>근린공원</td>\n",
       "      <td>6546.6</td>\n",
       "      <td>NaN</td>\n",
       "      <td>NaN</td>\n",
       "      <td>NaN</td>\n",
       "      <td>NaN</td>\n",
       "      <td>NaN</td>\n",
       "      <td>1983.0</td>\n",
       "      <td>2018-06-30</td>\n",
       "    </tr>\n",
       "    <tr>\n",
       "      <th>...</th>\n",
       "      <td>...</td>\n",
       "      <td>...</td>\n",
       "      <td>...</td>\n",
       "      <td>...</td>\n",
       "      <td>...</td>\n",
       "      <td>...</td>\n",
       "      <td>...</td>\n",
       "      <td>...</td>\n",
       "      <td>...</td>\n",
       "      <td>...</td>\n",
       "      <td>...</td>\n",
       "      <td>...</td>\n",
       "      <td>...</td>\n",
       "      <td>...</td>\n",
       "    </tr>\n",
       "    <tr>\n",
       "      <th>925</th>\n",
       "      <td>1354</td>\n",
       "      <td>서울특별시</td>\n",
       "      <td>구로구</td>\n",
       "      <td>천왕동</td>\n",
       "      <td>이펜시아어린이공원</td>\n",
       "      <td>어린이공원</td>\n",
       "      <td>1500.0</td>\n",
       "      <td>NaN</td>\n",
       "      <td>조합놀이 1기</td>\n",
       "      <td>NaN</td>\n",
       "      <td>NaN</td>\n",
       "      <td>NaN</td>\n",
       "      <td>2006.0</td>\n",
       "      <td>2019-02-25</td>\n",
       "    </tr>\n",
       "    <tr>\n",
       "      <th>926</th>\n",
       "      <td>1355</td>\n",
       "      <td>서울특별시</td>\n",
       "      <td>구로구</td>\n",
       "      <td>천왕동</td>\n",
       "      <td>개명소공원</td>\n",
       "      <td>소공원</td>\n",
       "      <td>5415.0</td>\n",
       "      <td>NaN</td>\n",
       "      <td>NaN</td>\n",
       "      <td>NaN</td>\n",
       "      <td>NaN</td>\n",
       "      <td>NaN</td>\n",
       "      <td>2006.0</td>\n",
       "      <td>2019-02-25</td>\n",
       "    </tr>\n",
       "    <tr>\n",
       "      <th>927</th>\n",
       "      <td>1356</td>\n",
       "      <td>서울특별시</td>\n",
       "      <td>구로구</td>\n",
       "      <td>천왕동</td>\n",
       "      <td>봉화대근린공원</td>\n",
       "      <td>근린공원</td>\n",
       "      <td>60975.0</td>\n",
       "      <td>NaN</td>\n",
       "      <td>NaN</td>\n",
       "      <td>NaN</td>\n",
       "      <td>NaN</td>\n",
       "      <td>NaN</td>\n",
       "      <td>2006.0</td>\n",
       "      <td>2019-02-25</td>\n",
       "    </tr>\n",
       "    <tr>\n",
       "      <th>928</th>\n",
       "      <td>1357</td>\n",
       "      <td>서울특별시</td>\n",
       "      <td>구로구</td>\n",
       "      <td>항동</td>\n",
       "      <td>푸른수목원</td>\n",
       "      <td>근린공원</td>\n",
       "      <td>100809.0</td>\n",
       "      <td>NaN</td>\n",
       "      <td>NaN</td>\n",
       "      <td>NaN</td>\n",
       "      <td>NaN</td>\n",
       "      <td>NaN</td>\n",
       "      <td>2005.0</td>\n",
       "      <td>2019-02-25</td>\n",
       "    </tr>\n",
       "    <tr>\n",
       "      <th>929</th>\n",
       "      <td>1358</td>\n",
       "      <td>서울특별시</td>\n",
       "      <td>구로구</td>\n",
       "      <td>오류동</td>\n",
       "      <td>오류동역문화공원</td>\n",
       "      <td>문화공원</td>\n",
       "      <td>7510.0</td>\n",
       "      <td>NaN</td>\n",
       "      <td>NaN</td>\n",
       "      <td>NaN</td>\n",
       "      <td>NaN</td>\n",
       "      <td>NaN</td>\n",
       "      <td>2013.0</td>\n",
       "      <td>2019-02-25</td>\n",
       "    </tr>\n",
       "  </tbody>\n",
       "</table>\n",
       "<p>930 rows × 14 columns</p>\n",
       "</div>"
      ],
      "text/plain": [
       "     index   city   gu dong  park_name park_type  park_area  \\\n",
       "0       58  서울특별시  서초구  반포동       반  포      근린공원    26092.2   \n",
       "1       59  서울특별시  서초구  양재동      방아다리1      근린공원     2870.8   \n",
       "2       60  서울특별시  서초구  양재동      방아다리2      근린공원     2934.3   \n",
       "3       61  서울특별시  서초구  양재동        양재천      근린공원    19258.0   \n",
       "4       62  서울특별시  서초구  양재동       마  방      근린공원     6546.6   \n",
       "..     ...    ...  ...  ...        ...       ...        ...   \n",
       "925   1354  서울특별시  구로구  천왕동  이펜시아어린이공원     어린이공원     1500.0   \n",
       "926   1355  서울특별시  구로구  천왕동      개명소공원       소공원     5415.0   \n",
       "927   1356  서울특별시  구로구  천왕동    봉화대근린공원      근린공원    60975.0   \n",
       "928   1357  서울특별시  구로구   항동      푸른수목원      근린공원   100809.0   \n",
       "929   1358  서울특별시  구로구  오류동   오류동역문화공원      문화공원     7510.0   \n",
       "\n",
       "    park_exercise_facility park_entertainment_facility park_benefit_facility  \\\n",
       "0                      NaN                         NaN                   NaN   \n",
       "1                      NaN                         NaN                   NaN   \n",
       "2                      NaN                         NaN                   NaN   \n",
       "3                      NaN                         NaN                   NaN   \n",
       "4                      NaN                         NaN                   NaN   \n",
       "..                     ...                         ...                   ...   \n",
       "925                    NaN                     조합놀이 1기                   NaN   \n",
       "926                    NaN                         NaN                   NaN   \n",
       "927                    NaN                         NaN                   NaN   \n",
       "928                    NaN                         NaN                   NaN   \n",
       "929                    NaN                         NaN                   NaN   \n",
       "\n",
       "    park_cultural_facitiy park_facility_other  park_open_year reference_date  \n",
       "0                     NaN                 NaN          1981.0     2018-06-30  \n",
       "1                     NaN                 NaN          1988.0     2018-06-30  \n",
       "2                     NaN                 NaN          1988.0     2018-06-30  \n",
       "3                     NaN                 NaN          1988.0     2018-06-30  \n",
       "4                     NaN                 NaN          1983.0     2018-06-30  \n",
       "..                    ...                 ...             ...            ...  \n",
       "925                   NaN                 NaN          2006.0     2019-02-25  \n",
       "926                   NaN                 NaN          2006.0     2019-02-25  \n",
       "927                   NaN                 NaN          2006.0     2019-02-25  \n",
       "928                   NaN                 NaN          2005.0     2019-02-25  \n",
       "929                   NaN                 NaN          2013.0     2019-02-25  \n",
       "\n",
       "[930 rows x 14 columns]"
      ]
     },
     "execution_count": 81,
     "metadata": {},
     "output_type": "execute_result"
    }
   ],
   "source": [
    "park_data"
   ]
  },
  {
   "cell_type": "code",
   "execution_count": 82,
   "id": "f3d0db7b",
   "metadata": {},
   "outputs": [
    {
     "data": {
      "text/html": [
       "<div>\n",
       "<style scoped>\n",
       "    .dataframe tbody tr th:only-of-type {\n",
       "        vertical-align: middle;\n",
       "    }\n",
       "\n",
       "    .dataframe tbody tr th {\n",
       "        vertical-align: top;\n",
       "    }\n",
       "\n",
       "    .dataframe thead th {\n",
       "        text-align: right;\n",
       "    }\n",
       "</style>\n",
       "<table border=\"1\" class=\"dataframe\">\n",
       "  <thead>\n",
       "    <tr style=\"text-align: right;\">\n",
       "      <th></th>\n",
       "      <th>city</th>\n",
       "      <th>gu</th>\n",
       "      <th>dong</th>\n",
       "      <th>park_name</th>\n",
       "    </tr>\n",
       "  </thead>\n",
       "  <tbody>\n",
       "    <tr>\n",
       "      <th>0</th>\n",
       "      <td>서울특별시</td>\n",
       "      <td>서초구</td>\n",
       "      <td>반포동</td>\n",
       "      <td>반  포</td>\n",
       "    </tr>\n",
       "    <tr>\n",
       "      <th>1</th>\n",
       "      <td>서울특별시</td>\n",
       "      <td>서초구</td>\n",
       "      <td>양재동</td>\n",
       "      <td>방아다리1</td>\n",
       "    </tr>\n",
       "    <tr>\n",
       "      <th>2</th>\n",
       "      <td>서울특별시</td>\n",
       "      <td>서초구</td>\n",
       "      <td>양재동</td>\n",
       "      <td>방아다리2</td>\n",
       "    </tr>\n",
       "    <tr>\n",
       "      <th>3</th>\n",
       "      <td>서울특별시</td>\n",
       "      <td>서초구</td>\n",
       "      <td>양재동</td>\n",
       "      <td>양재천</td>\n",
       "    </tr>\n",
       "    <tr>\n",
       "      <th>4</th>\n",
       "      <td>서울특별시</td>\n",
       "      <td>서초구</td>\n",
       "      <td>양재동</td>\n",
       "      <td>마  방</td>\n",
       "    </tr>\n",
       "    <tr>\n",
       "      <th>...</th>\n",
       "      <td>...</td>\n",
       "      <td>...</td>\n",
       "      <td>...</td>\n",
       "      <td>...</td>\n",
       "    </tr>\n",
       "    <tr>\n",
       "      <th>925</th>\n",
       "      <td>서울특별시</td>\n",
       "      <td>구로구</td>\n",
       "      <td>천왕동</td>\n",
       "      <td>이펜시아어린이공원</td>\n",
       "    </tr>\n",
       "    <tr>\n",
       "      <th>926</th>\n",
       "      <td>서울특별시</td>\n",
       "      <td>구로구</td>\n",
       "      <td>천왕동</td>\n",
       "      <td>개명소공원</td>\n",
       "    </tr>\n",
       "    <tr>\n",
       "      <th>927</th>\n",
       "      <td>서울특별시</td>\n",
       "      <td>구로구</td>\n",
       "      <td>천왕동</td>\n",
       "      <td>봉화대근린공원</td>\n",
       "    </tr>\n",
       "    <tr>\n",
       "      <th>928</th>\n",
       "      <td>서울특별시</td>\n",
       "      <td>구로구</td>\n",
       "      <td>항동</td>\n",
       "      <td>푸른수목원</td>\n",
       "    </tr>\n",
       "    <tr>\n",
       "      <th>929</th>\n",
       "      <td>서울특별시</td>\n",
       "      <td>구로구</td>\n",
       "      <td>오류동</td>\n",
       "      <td>오류동역문화공원</td>\n",
       "    </tr>\n",
       "  </tbody>\n",
       "</table>\n",
       "<p>930 rows × 4 columns</p>\n",
       "</div>"
      ],
      "text/plain": [
       "      city   gu dong  park_name\n",
       "0    서울특별시  서초구  반포동       반  포\n",
       "1    서울특별시  서초구  양재동      방아다리1\n",
       "2    서울특별시  서초구  양재동      방아다리2\n",
       "3    서울특별시  서초구  양재동        양재천\n",
       "4    서울특별시  서초구  양재동       마  방\n",
       "..     ...  ...  ...        ...\n",
       "925  서울특별시  구로구  천왕동  이펜시아어린이공원\n",
       "926  서울특별시  구로구  천왕동      개명소공원\n",
       "927  서울특별시  구로구  천왕동    봉화대근린공원\n",
       "928  서울특별시  구로구   항동      푸른수목원\n",
       "929  서울특별시  구로구  오류동   오류동역문화공원\n",
       "\n",
       "[930 rows x 4 columns]"
      ]
     },
     "execution_count": 82,
     "metadata": {},
     "output_type": "execute_result"
    }
   ],
   "source": [
    "# 필요한 컬럼만 가져오기\n",
    "park_data.drop(park_data.iloc[:, 5:14], axis=1, inplace=True)\n",
    "park_data.drop(columns=['index'], inplace=True)\n",
    "park_data"
   ]
  },
  {
   "cell_type": "code",
   "execution_count": 83,
   "id": "5e2dfd31",
   "metadata": {},
   "outputs": [
    {
     "data": {
      "text/html": [
       "<div>\n",
       "<style scoped>\n",
       "    .dataframe tbody tr th:only-of-type {\n",
       "        vertical-align: middle;\n",
       "    }\n",
       "\n",
       "    .dataframe tbody tr th {\n",
       "        vertical-align: top;\n",
       "    }\n",
       "\n",
       "    .dataframe thead th {\n",
       "        text-align: right;\n",
       "    }\n",
       "</style>\n",
       "<table border=\"1\" class=\"dataframe\">\n",
       "  <thead>\n",
       "    <tr style=\"text-align: right;\">\n",
       "      <th></th>\n",
       "      <th>city</th>\n",
       "      <th>gu</th>\n",
       "      <th>dong</th>\n",
       "      <th>park_name</th>\n",
       "    </tr>\n",
       "  </thead>\n",
       "  <tbody>\n",
       "    <tr>\n",
       "      <th>0</th>\n",
       "      <td>서울특별시</td>\n",
       "      <td>서초구</td>\n",
       "      <td>반포동</td>\n",
       "      <td>반  포</td>\n",
       "    </tr>\n",
       "    <tr>\n",
       "      <th>1</th>\n",
       "      <td>서울특별시</td>\n",
       "      <td>서초구</td>\n",
       "      <td>양재동</td>\n",
       "      <td>방아다리1</td>\n",
       "    </tr>\n",
       "    <tr>\n",
       "      <th>2</th>\n",
       "      <td>서울특별시</td>\n",
       "      <td>서초구</td>\n",
       "      <td>양재동</td>\n",
       "      <td>방아다리2</td>\n",
       "    </tr>\n",
       "    <tr>\n",
       "      <th>3</th>\n",
       "      <td>서울특별시</td>\n",
       "      <td>서초구</td>\n",
       "      <td>양재동</td>\n",
       "      <td>양재천</td>\n",
       "    </tr>\n",
       "    <tr>\n",
       "      <th>4</th>\n",
       "      <td>서울특별시</td>\n",
       "      <td>서초구</td>\n",
       "      <td>양재동</td>\n",
       "      <td>마  방</td>\n",
       "    </tr>\n",
       "    <tr>\n",
       "      <th>...</th>\n",
       "      <td>...</td>\n",
       "      <td>...</td>\n",
       "      <td>...</td>\n",
       "      <td>...</td>\n",
       "    </tr>\n",
       "    <tr>\n",
       "      <th>925</th>\n",
       "      <td>서울특별시</td>\n",
       "      <td>구로구</td>\n",
       "      <td>천왕동</td>\n",
       "      <td>이펜시아어린이공원</td>\n",
       "    </tr>\n",
       "    <tr>\n",
       "      <th>926</th>\n",
       "      <td>서울특별시</td>\n",
       "      <td>구로구</td>\n",
       "      <td>천왕동</td>\n",
       "      <td>개명소공원</td>\n",
       "    </tr>\n",
       "    <tr>\n",
       "      <th>927</th>\n",
       "      <td>서울특별시</td>\n",
       "      <td>구로구</td>\n",
       "      <td>천왕동</td>\n",
       "      <td>봉화대근린공원</td>\n",
       "    </tr>\n",
       "    <tr>\n",
       "      <th>928</th>\n",
       "      <td>서울특별시</td>\n",
       "      <td>구로구</td>\n",
       "      <td>항동</td>\n",
       "      <td>푸른수목원</td>\n",
       "    </tr>\n",
       "    <tr>\n",
       "      <th>929</th>\n",
       "      <td>서울특별시</td>\n",
       "      <td>구로구</td>\n",
       "      <td>오류동</td>\n",
       "      <td>오류동역문화공원</td>\n",
       "    </tr>\n",
       "  </tbody>\n",
       "</table>\n",
       "<p>923 rows × 4 columns</p>\n",
       "</div>"
      ],
      "text/plain": [
       "      city   gu dong  park_name\n",
       "0    서울특별시  서초구  반포동       반  포\n",
       "1    서울특별시  서초구  양재동      방아다리1\n",
       "2    서울특별시  서초구  양재동      방아다리2\n",
       "3    서울특별시  서초구  양재동        양재천\n",
       "4    서울특별시  서초구  양재동       마  방\n",
       "..     ...  ...  ...        ...\n",
       "925  서울특별시  구로구  천왕동  이펜시아어린이공원\n",
       "926  서울특별시  구로구  천왕동      개명소공원\n",
       "927  서울특별시  구로구  천왕동    봉화대근린공원\n",
       "928  서울특별시  구로구   항동      푸른수목원\n",
       "929  서울특별시  구로구  오류동   오류동역문화공원\n",
       "\n",
       "[923 rows x 4 columns]"
      ]
     },
     "execution_count": 83,
     "metadata": {},
     "output_type": "execute_result"
    }
   ],
   "source": [
    "# 중복값 확인 및 삭제 \n",
    "park_data=park_data.drop_duplicates()\n",
    "park_data"
   ]
  },
  {
   "cell_type": "code",
   "execution_count": 84,
   "id": "200ce13a",
   "metadata": {},
   "outputs": [
    {
     "data": {
      "text/html": [
       "<div>\n",
       "<style scoped>\n",
       "    .dataframe tbody tr th:only-of-type {\n",
       "        vertical-align: middle;\n",
       "    }\n",
       "\n",
       "    .dataframe tbody tr th {\n",
       "        vertical-align: top;\n",
       "    }\n",
       "\n",
       "    .dataframe thead th {\n",
       "        text-align: right;\n",
       "    }\n",
       "</style>\n",
       "<table border=\"1\" class=\"dataframe\">\n",
       "  <thead>\n",
       "    <tr style=\"text-align: right;\">\n",
       "      <th></th>\n",
       "      <th>시군구</th>\n",
       "      <th>단지명</th>\n",
       "      <th>전용면적</th>\n",
       "      <th>계약년월</th>\n",
       "      <th>계약일</th>\n",
       "      <th>거래금액</th>\n",
       "      <th>층</th>\n",
       "      <th>건축년도</th>\n",
       "      <th>제곱미터단가</th>\n",
       "      <th>평당단가</th>\n",
       "      <th>시</th>\n",
       "      <th>구</th>\n",
       "      <th>동</th>\n",
       "      <th>단지명브랜드</th>\n",
       "      <th>계약날짜</th>\n",
       "      <th>계약날짜인코딩</th>\n",
       "      <th>구별 공원 갯수</th>\n",
       "    </tr>\n",
       "  </thead>\n",
       "  <tbody>\n",
       "    <tr>\n",
       "      <th>0</th>\n",
       "      <td>서울특별시 강남구 개포동</td>\n",
       "      <td>개포6차우성아파트1동~8동</td>\n",
       "      <td>79.97</td>\n",
       "      <td>201801</td>\n",
       "      <td>3</td>\n",
       "      <td>130000</td>\n",
       "      <td>4</td>\n",
       "      <td>1987</td>\n",
       "      <td>1625.609604</td>\n",
       "      <td>5364.511692</td>\n",
       "      <td>서울특별시</td>\n",
       "      <td>강남구</td>\n",
       "      <td>개포동</td>\n",
       "      <td>기타</td>\n",
       "      <td>2018-01-03</td>\n",
       "      <td>2</td>\n",
       "      <td>132.0</td>\n",
       "    </tr>\n",
       "    <tr>\n",
       "      <th>1</th>\n",
       "      <td>서울특별시 강남구 개포동</td>\n",
       "      <td>개포6차우성아파트1동~8동</td>\n",
       "      <td>79.97</td>\n",
       "      <td>201801</td>\n",
       "      <td>8</td>\n",
       "      <td>117000</td>\n",
       "      <td>2</td>\n",
       "      <td>1987</td>\n",
       "      <td>1463.048643</td>\n",
       "      <td>4828.060523</td>\n",
       "      <td>서울특별시</td>\n",
       "      <td>강남구</td>\n",
       "      <td>개포동</td>\n",
       "      <td>기타</td>\n",
       "      <td>2018-01-08</td>\n",
       "      <td>7</td>\n",
       "      <td>132.0</td>\n",
       "    </tr>\n",
       "    <tr>\n",
       "      <th>2</th>\n",
       "      <td>서울특별시 강남구 개포동</td>\n",
       "      <td>개포6차우성아파트1동~8동</td>\n",
       "      <td>79.97</td>\n",
       "      <td>201801</td>\n",
       "      <td>11</td>\n",
       "      <td>130000</td>\n",
       "      <td>1</td>\n",
       "      <td>1987</td>\n",
       "      <td>1625.609604</td>\n",
       "      <td>5364.511692</td>\n",
       "      <td>서울특별시</td>\n",
       "      <td>강남구</td>\n",
       "      <td>개포동</td>\n",
       "      <td>기타</td>\n",
       "      <td>2018-01-11</td>\n",
       "      <td>10</td>\n",
       "      <td>132.0</td>\n",
       "    </tr>\n",
       "    <tr>\n",
       "      <th>3</th>\n",
       "      <td>서울특별시 강남구 개포동</td>\n",
       "      <td>개포6차우성아파트1동~8동</td>\n",
       "      <td>79.97</td>\n",
       "      <td>201803</td>\n",
       "      <td>19</td>\n",
       "      <td>139500</td>\n",
       "      <td>2</td>\n",
       "      <td>1987</td>\n",
       "      <td>1744.404152</td>\n",
       "      <td>5756.533700</td>\n",
       "      <td>서울특별시</td>\n",
       "      <td>강남구</td>\n",
       "      <td>개포동</td>\n",
       "      <td>기타</td>\n",
       "      <td>2018-03-19</td>\n",
       "      <td>77</td>\n",
       "      <td>132.0</td>\n",
       "    </tr>\n",
       "    <tr>\n",
       "      <th>4</th>\n",
       "      <td>서울특별시 강남구 개포동</td>\n",
       "      <td>개포6차우성아파트1동~8동</td>\n",
       "      <td>54.98</td>\n",
       "      <td>201804</td>\n",
       "      <td>5</td>\n",
       "      <td>107500</td>\n",
       "      <td>5</td>\n",
       "      <td>1987</td>\n",
       "      <td>1955.256457</td>\n",
       "      <td>6452.346308</td>\n",
       "      <td>서울특별시</td>\n",
       "      <td>강남구</td>\n",
       "      <td>개포동</td>\n",
       "      <td>기타</td>\n",
       "      <td>2018-04-05</td>\n",
       "      <td>94</td>\n",
       "      <td>132.0</td>\n",
       "    </tr>\n",
       "    <tr>\n",
       "      <th>...</th>\n",
       "      <td>...</td>\n",
       "      <td>...</td>\n",
       "      <td>...</td>\n",
       "      <td>...</td>\n",
       "      <td>...</td>\n",
       "      <td>...</td>\n",
       "      <td>...</td>\n",
       "      <td>...</td>\n",
       "      <td>...</td>\n",
       "      <td>...</td>\n",
       "      <td>...</td>\n",
       "      <td>...</td>\n",
       "      <td>...</td>\n",
       "      <td>...</td>\n",
       "      <td>...</td>\n",
       "      <td>...</td>\n",
       "      <td>...</td>\n",
       "    </tr>\n",
       "    <tr>\n",
       "      <th>237982</th>\n",
       "      <td>서울특별시 중랑구 중화동</td>\n",
       "      <td>한영(104)</td>\n",
       "      <td>106.21</td>\n",
       "      <td>202003</td>\n",
       "      <td>11</td>\n",
       "      <td>45400</td>\n",
       "      <td>6</td>\n",
       "      <td>2003</td>\n",
       "      <td>427.455042</td>\n",
       "      <td>1410.601638</td>\n",
       "      <td>서울특별시</td>\n",
       "      <td>중랑구</td>\n",
       "      <td>중화동</td>\n",
       "      <td>기타</td>\n",
       "      <td>2020-03-11</td>\n",
       "      <td>800</td>\n",
       "      <td>11.0</td>\n",
       "    </tr>\n",
       "    <tr>\n",
       "      <th>237983</th>\n",
       "      <td>서울특별시 중랑구 중화동</td>\n",
       "      <td>한영(104)</td>\n",
       "      <td>67.57</td>\n",
       "      <td>202008</td>\n",
       "      <td>7</td>\n",
       "      <td>26000</td>\n",
       "      <td>2</td>\n",
       "      <td>2003</td>\n",
       "      <td>384.786148</td>\n",
       "      <td>1269.794287</td>\n",
       "      <td>서울특별시</td>\n",
       "      <td>중랑구</td>\n",
       "      <td>중화동</td>\n",
       "      <td>기타</td>\n",
       "      <td>2020-08-07</td>\n",
       "      <td>949</td>\n",
       "      <td>11.0</td>\n",
       "    </tr>\n",
       "    <tr>\n",
       "      <th>237984</th>\n",
       "      <td>서울특별시 중랑구 중화동</td>\n",
       "      <td>현대휴앤미</td>\n",
       "      <td>95.94</td>\n",
       "      <td>202007</td>\n",
       "      <td>10</td>\n",
       "      <td>44000</td>\n",
       "      <td>6</td>\n",
       "      <td>2007</td>\n",
       "      <td>458.619971</td>\n",
       "      <td>1513.445904</td>\n",
       "      <td>서울특별시</td>\n",
       "      <td>중랑구</td>\n",
       "      <td>중화동</td>\n",
       "      <td>현대</td>\n",
       "      <td>2020-07-10</td>\n",
       "      <td>921</td>\n",
       "      <td>11.0</td>\n",
       "    </tr>\n",
       "    <tr>\n",
       "      <th>237985</th>\n",
       "      <td>서울특별시 중랑구 중화동</td>\n",
       "      <td>현대휴앤미</td>\n",
       "      <td>100.17</td>\n",
       "      <td>202012</td>\n",
       "      <td>3</td>\n",
       "      <td>54800</td>\n",
       "      <td>5</td>\n",
       "      <td>2007</td>\n",
       "      <td>547.069981</td>\n",
       "      <td>1805.330937</td>\n",
       "      <td>서울특별시</td>\n",
       "      <td>중랑구</td>\n",
       "      <td>중화동</td>\n",
       "      <td>현대</td>\n",
       "      <td>2020-12-03</td>\n",
       "      <td>1067</td>\n",
       "      <td>11.0</td>\n",
       "    </tr>\n",
       "    <tr>\n",
       "      <th>237986</th>\n",
       "      <td>서울특별시 중랑구 중화동</td>\n",
       "      <td>현대휴앤미(102동)</td>\n",
       "      <td>77.71</td>\n",
       "      <td>202009</td>\n",
       "      <td>28</td>\n",
       "      <td>40000</td>\n",
       "      <td>5</td>\n",
       "      <td>2007</td>\n",
       "      <td>514.734268</td>\n",
       "      <td>1698.623086</td>\n",
       "      <td>서울특별시</td>\n",
       "      <td>중랑구</td>\n",
       "      <td>중화동</td>\n",
       "      <td>현대</td>\n",
       "      <td>2020-09-28</td>\n",
       "      <td>1001</td>\n",
       "      <td>11.0</td>\n",
       "    </tr>\n",
       "  </tbody>\n",
       "</table>\n",
       "<p>237987 rows × 17 columns</p>\n",
       "</div>"
      ],
      "text/plain": [
       "                  시군구             단지명    전용면적    계약년월  계약일    거래금액  층  건축년도  \\\n",
       "0       서울특별시 강남구 개포동  개포6차우성아파트1동~8동   79.97  201801    3  130000  4  1987   \n",
       "1       서울특별시 강남구 개포동  개포6차우성아파트1동~8동   79.97  201801    8  117000  2  1987   \n",
       "2       서울특별시 강남구 개포동  개포6차우성아파트1동~8동   79.97  201801   11  130000  1  1987   \n",
       "3       서울특별시 강남구 개포동  개포6차우성아파트1동~8동   79.97  201803   19  139500  2  1987   \n",
       "4       서울특별시 강남구 개포동  개포6차우성아파트1동~8동   54.98  201804    5  107500  5  1987   \n",
       "...               ...             ...     ...     ...  ...     ... ..   ...   \n",
       "237982  서울특별시 중랑구 중화동         한영(104)  106.21  202003   11   45400  6  2003   \n",
       "237983  서울특별시 중랑구 중화동         한영(104)   67.57  202008    7   26000  2  2003   \n",
       "237984  서울특별시 중랑구 중화동           현대휴앤미   95.94  202007   10   44000  6  2007   \n",
       "237985  서울특별시 중랑구 중화동           현대휴앤미  100.17  202012    3   54800  5  2007   \n",
       "237986  서울특별시 중랑구 중화동     현대휴앤미(102동)   77.71  202009   28   40000  5  2007   \n",
       "\n",
       "             제곱미터단가         평당단가      시    구    동 단지명브랜드        계약날짜  계약날짜인코딩  \\\n",
       "0       1625.609604  5364.511692  서울특별시  강남구  개포동     기타  2018-01-03        2   \n",
       "1       1463.048643  4828.060523  서울특별시  강남구  개포동     기타  2018-01-08        7   \n",
       "2       1625.609604  5364.511692  서울특별시  강남구  개포동     기타  2018-01-11       10   \n",
       "3       1744.404152  5756.533700  서울특별시  강남구  개포동     기타  2018-03-19       77   \n",
       "4       1955.256457  6452.346308  서울특별시  강남구  개포동     기타  2018-04-05       94   \n",
       "...             ...          ...    ...  ...  ...    ...         ...      ...   \n",
       "237982   427.455042  1410.601638  서울특별시  중랑구  중화동     기타  2020-03-11      800   \n",
       "237983   384.786148  1269.794287  서울특별시  중랑구  중화동     기타  2020-08-07      949   \n",
       "237984   458.619971  1513.445904  서울특별시  중랑구  중화동     현대  2020-07-10      921   \n",
       "237985   547.069981  1805.330937  서울특별시  중랑구  중화동     현대  2020-12-03     1067   \n",
       "237986   514.734268  1698.623086  서울특별시  중랑구  중화동     현대  2020-09-28     1001   \n",
       "\n",
       "        구별 공원 갯수  \n",
       "0          132.0  \n",
       "1          132.0  \n",
       "2          132.0  \n",
       "3          132.0  \n",
       "4          132.0  \n",
       "...          ...  \n",
       "237982      11.0  \n",
       "237983      11.0  \n",
       "237984      11.0  \n",
       "237985      11.0  \n",
       "237986      11.0  \n",
       "\n",
       "[237987 rows x 17 columns]"
      ]
     },
     "execution_count": 84,
     "metadata": {},
     "output_type": "execute_result"
    }
   ],
   "source": [
    "# 구, 동별 공원 갯수 mapping\n",
    "# 결측치는 0으로 일괄 처리\n",
    "dong_park=park_data['gu'].value_counts()\n",
    "train_data['구별 공원 갯수']=train_data['구'].map(dong_park).fillna(0)\n",
    "train_data"
   ]
  },
  {
   "cell_type": "code",
   "execution_count": 85,
   "id": "015bf14f",
   "metadata": {
    "scrolled": true
   },
   "outputs": [
    {
     "data": {
      "text/plain": [
       "구     구별 공원 갯수\n",
       "노원구   2.0         24717\n",
       "송파구   144.0       14923\n",
       "강서구   107.0       14658\n",
       "성북구   0.0         12987\n",
       "구로구   47.0        12970\n",
       "강동구   23.0        12050\n",
       "강남구   132.0       11842\n",
       "도봉구   2.0         11355\n",
       "양천구   1.0         11156\n",
       "영등포구  8.0          9765\n",
       "서초구   105.0        9532\n",
       "은평구   79.0         9045\n",
       "성동구   23.0         9012\n",
       "동대문구  41.0         8885\n",
       "마포구   0.0          8600\n",
       "동작구   46.0         8257\n",
       "서대문구  50.0         7999\n",
       "중랑구   11.0         7940\n",
       "관악구   21.0         7803\n",
       "강북구   9.0          5485\n",
       "용산구   32.0         4677\n",
       "금천구   10.0         4551\n",
       "광진구   11.0         4423\n",
       "중구    14.0         3266\n",
       "종로구   5.0          2089\n",
       "dtype: int64"
      ]
     },
     "execution_count": 85,
     "metadata": {},
     "output_type": "execute_result"
    }
   ],
   "source": [
    "train_data[['구','구별 공원 갯수']].value_counts()[:30]"
   ]
  },
  {
   "cell_type": "code",
   "execution_count": 86,
   "id": "816301e5",
   "metadata": {},
   "outputs": [
    {
     "name": "stdout",
     "output_type": "stream",
     "text": [
      "train_data.csv , 공원까지 csv로 저장되었습니다.\n"
     ]
    }
   ],
   "source": [
    "# 중간 저장\n",
    "train_data.to_csv('train_data.csv', encoding='utf-8-sig', index=False)\n",
    "print('train_data.csv , 공원까지 csv로 저장되었습니다.')"
   ]
  },
  {
   "cell_type": "markdown",
   "id": "a14f02d8",
   "metadata": {},
   "source": [
    "### 8학군"
   ]
  },
  {
   "cell_type": "code",
   "execution_count": 87,
   "id": "6dc4904a",
   "metadata": {},
   "outputs": [
    {
     "data": {
      "text/plain": [
       "0    227226\n",
       "1     10761\n",
       "Name: 8학군, dtype: int64"
      ]
     },
     "execution_count": 87,
     "metadata": {},
     "output_type": "execute_result"
    }
   ],
   "source": [
    "# 강남 8학군 기준 - 반포, 서초, 압구정, 개포, 방배, 대치\n",
    "dong_8=['반포', '서초', '압구정', '개포', '방배', '대치']\n",
    "train_data['8학군']=0\n",
    "for dong in dong_8:\n",
    "    train_data.loc[train_data['동'].str.contains(dong), '8학군'] = 1\n",
    "train_data['8학군'].value_counts()"
   ]
  },
  {
   "cell_type": "code",
   "execution_count": 88,
   "id": "7582653f",
   "metadata": {},
   "outputs": [
    {
     "data": {
      "text/html": [
       "<div>\n",
       "<style scoped>\n",
       "    .dataframe tbody tr th:only-of-type {\n",
       "        vertical-align: middle;\n",
       "    }\n",
       "\n",
       "    .dataframe tbody tr th {\n",
       "        vertical-align: top;\n",
       "    }\n",
       "\n",
       "    .dataframe thead th {\n",
       "        text-align: right;\n",
       "    }\n",
       "</style>\n",
       "<table border=\"1\" class=\"dataframe\">\n",
       "  <thead>\n",
       "    <tr style=\"text-align: right;\">\n",
       "      <th></th>\n",
       "      <th>시군구</th>\n",
       "      <th>단지명</th>\n",
       "      <th>전용면적</th>\n",
       "      <th>계약년월</th>\n",
       "      <th>계약일</th>\n",
       "      <th>거래금액</th>\n",
       "      <th>층</th>\n",
       "      <th>건축년도</th>\n",
       "      <th>제곱미터단가</th>\n",
       "      <th>평당단가</th>\n",
       "      <th>시</th>\n",
       "      <th>구</th>\n",
       "      <th>동</th>\n",
       "      <th>단지명브랜드</th>\n",
       "      <th>계약날짜</th>\n",
       "      <th>계약날짜인코딩</th>\n",
       "      <th>구별 공원 갯수</th>\n",
       "      <th>8학군</th>\n",
       "    </tr>\n",
       "  </thead>\n",
       "  <tbody>\n",
       "    <tr>\n",
       "      <th>0</th>\n",
       "      <td>서울특별시 강남구 개포동</td>\n",
       "      <td>개포6차우성아파트1동~8동</td>\n",
       "      <td>79.97</td>\n",
       "      <td>201801</td>\n",
       "      <td>3</td>\n",
       "      <td>130000</td>\n",
       "      <td>4</td>\n",
       "      <td>1987</td>\n",
       "      <td>1625.609604</td>\n",
       "      <td>5364.511692</td>\n",
       "      <td>서울특별시</td>\n",
       "      <td>강남구</td>\n",
       "      <td>개포동</td>\n",
       "      <td>기타</td>\n",
       "      <td>2018-01-03</td>\n",
       "      <td>2</td>\n",
       "      <td>132.0</td>\n",
       "      <td>1</td>\n",
       "    </tr>\n",
       "    <tr>\n",
       "      <th>1</th>\n",
       "      <td>서울특별시 강남구 개포동</td>\n",
       "      <td>개포6차우성아파트1동~8동</td>\n",
       "      <td>79.97</td>\n",
       "      <td>201801</td>\n",
       "      <td>8</td>\n",
       "      <td>117000</td>\n",
       "      <td>2</td>\n",
       "      <td>1987</td>\n",
       "      <td>1463.048643</td>\n",
       "      <td>4828.060523</td>\n",
       "      <td>서울특별시</td>\n",
       "      <td>강남구</td>\n",
       "      <td>개포동</td>\n",
       "      <td>기타</td>\n",
       "      <td>2018-01-08</td>\n",
       "      <td>7</td>\n",
       "      <td>132.0</td>\n",
       "      <td>1</td>\n",
       "    </tr>\n",
       "    <tr>\n",
       "      <th>2</th>\n",
       "      <td>서울특별시 강남구 개포동</td>\n",
       "      <td>개포6차우성아파트1동~8동</td>\n",
       "      <td>79.97</td>\n",
       "      <td>201801</td>\n",
       "      <td>11</td>\n",
       "      <td>130000</td>\n",
       "      <td>1</td>\n",
       "      <td>1987</td>\n",
       "      <td>1625.609604</td>\n",
       "      <td>5364.511692</td>\n",
       "      <td>서울특별시</td>\n",
       "      <td>강남구</td>\n",
       "      <td>개포동</td>\n",
       "      <td>기타</td>\n",
       "      <td>2018-01-11</td>\n",
       "      <td>10</td>\n",
       "      <td>132.0</td>\n",
       "      <td>1</td>\n",
       "    </tr>\n",
       "    <tr>\n",
       "      <th>3</th>\n",
       "      <td>서울특별시 강남구 개포동</td>\n",
       "      <td>개포6차우성아파트1동~8동</td>\n",
       "      <td>79.97</td>\n",
       "      <td>201803</td>\n",
       "      <td>19</td>\n",
       "      <td>139500</td>\n",
       "      <td>2</td>\n",
       "      <td>1987</td>\n",
       "      <td>1744.404152</td>\n",
       "      <td>5756.533700</td>\n",
       "      <td>서울특별시</td>\n",
       "      <td>강남구</td>\n",
       "      <td>개포동</td>\n",
       "      <td>기타</td>\n",
       "      <td>2018-03-19</td>\n",
       "      <td>77</td>\n",
       "      <td>132.0</td>\n",
       "      <td>1</td>\n",
       "    </tr>\n",
       "    <tr>\n",
       "      <th>4</th>\n",
       "      <td>서울특별시 강남구 개포동</td>\n",
       "      <td>개포6차우성아파트1동~8동</td>\n",
       "      <td>54.98</td>\n",
       "      <td>201804</td>\n",
       "      <td>5</td>\n",
       "      <td>107500</td>\n",
       "      <td>5</td>\n",
       "      <td>1987</td>\n",
       "      <td>1955.256457</td>\n",
       "      <td>6452.346308</td>\n",
       "      <td>서울특별시</td>\n",
       "      <td>강남구</td>\n",
       "      <td>개포동</td>\n",
       "      <td>기타</td>\n",
       "      <td>2018-04-05</td>\n",
       "      <td>94</td>\n",
       "      <td>132.0</td>\n",
       "      <td>1</td>\n",
       "    </tr>\n",
       "    <tr>\n",
       "      <th>...</th>\n",
       "      <td>...</td>\n",
       "      <td>...</td>\n",
       "      <td>...</td>\n",
       "      <td>...</td>\n",
       "      <td>...</td>\n",
       "      <td>...</td>\n",
       "      <td>...</td>\n",
       "      <td>...</td>\n",
       "      <td>...</td>\n",
       "      <td>...</td>\n",
       "      <td>...</td>\n",
       "      <td>...</td>\n",
       "      <td>...</td>\n",
       "      <td>...</td>\n",
       "      <td>...</td>\n",
       "      <td>...</td>\n",
       "      <td>...</td>\n",
       "      <td>...</td>\n",
       "    </tr>\n",
       "    <tr>\n",
       "      <th>237982</th>\n",
       "      <td>서울특별시 중랑구 중화동</td>\n",
       "      <td>한영(104)</td>\n",
       "      <td>106.21</td>\n",
       "      <td>202003</td>\n",
       "      <td>11</td>\n",
       "      <td>45400</td>\n",
       "      <td>6</td>\n",
       "      <td>2003</td>\n",
       "      <td>427.455042</td>\n",
       "      <td>1410.601638</td>\n",
       "      <td>서울특별시</td>\n",
       "      <td>중랑구</td>\n",
       "      <td>중화동</td>\n",
       "      <td>기타</td>\n",
       "      <td>2020-03-11</td>\n",
       "      <td>800</td>\n",
       "      <td>11.0</td>\n",
       "      <td>0</td>\n",
       "    </tr>\n",
       "    <tr>\n",
       "      <th>237983</th>\n",
       "      <td>서울특별시 중랑구 중화동</td>\n",
       "      <td>한영(104)</td>\n",
       "      <td>67.57</td>\n",
       "      <td>202008</td>\n",
       "      <td>7</td>\n",
       "      <td>26000</td>\n",
       "      <td>2</td>\n",
       "      <td>2003</td>\n",
       "      <td>384.786148</td>\n",
       "      <td>1269.794287</td>\n",
       "      <td>서울특별시</td>\n",
       "      <td>중랑구</td>\n",
       "      <td>중화동</td>\n",
       "      <td>기타</td>\n",
       "      <td>2020-08-07</td>\n",
       "      <td>949</td>\n",
       "      <td>11.0</td>\n",
       "      <td>0</td>\n",
       "    </tr>\n",
       "    <tr>\n",
       "      <th>237984</th>\n",
       "      <td>서울특별시 중랑구 중화동</td>\n",
       "      <td>현대휴앤미</td>\n",
       "      <td>95.94</td>\n",
       "      <td>202007</td>\n",
       "      <td>10</td>\n",
       "      <td>44000</td>\n",
       "      <td>6</td>\n",
       "      <td>2007</td>\n",
       "      <td>458.619971</td>\n",
       "      <td>1513.445904</td>\n",
       "      <td>서울특별시</td>\n",
       "      <td>중랑구</td>\n",
       "      <td>중화동</td>\n",
       "      <td>현대</td>\n",
       "      <td>2020-07-10</td>\n",
       "      <td>921</td>\n",
       "      <td>11.0</td>\n",
       "      <td>0</td>\n",
       "    </tr>\n",
       "    <tr>\n",
       "      <th>237985</th>\n",
       "      <td>서울특별시 중랑구 중화동</td>\n",
       "      <td>현대휴앤미</td>\n",
       "      <td>100.17</td>\n",
       "      <td>202012</td>\n",
       "      <td>3</td>\n",
       "      <td>54800</td>\n",
       "      <td>5</td>\n",
       "      <td>2007</td>\n",
       "      <td>547.069981</td>\n",
       "      <td>1805.330937</td>\n",
       "      <td>서울특별시</td>\n",
       "      <td>중랑구</td>\n",
       "      <td>중화동</td>\n",
       "      <td>현대</td>\n",
       "      <td>2020-12-03</td>\n",
       "      <td>1067</td>\n",
       "      <td>11.0</td>\n",
       "      <td>0</td>\n",
       "    </tr>\n",
       "    <tr>\n",
       "      <th>237986</th>\n",
       "      <td>서울특별시 중랑구 중화동</td>\n",
       "      <td>현대휴앤미(102동)</td>\n",
       "      <td>77.71</td>\n",
       "      <td>202009</td>\n",
       "      <td>28</td>\n",
       "      <td>40000</td>\n",
       "      <td>5</td>\n",
       "      <td>2007</td>\n",
       "      <td>514.734268</td>\n",
       "      <td>1698.623086</td>\n",
       "      <td>서울특별시</td>\n",
       "      <td>중랑구</td>\n",
       "      <td>중화동</td>\n",
       "      <td>현대</td>\n",
       "      <td>2020-09-28</td>\n",
       "      <td>1001</td>\n",
       "      <td>11.0</td>\n",
       "      <td>0</td>\n",
       "    </tr>\n",
       "  </tbody>\n",
       "</table>\n",
       "<p>237987 rows × 18 columns</p>\n",
       "</div>"
      ],
      "text/plain": [
       "                  시군구             단지명    전용면적    계약년월  계약일    거래금액  층  건축년도  \\\n",
       "0       서울특별시 강남구 개포동  개포6차우성아파트1동~8동   79.97  201801    3  130000  4  1987   \n",
       "1       서울특별시 강남구 개포동  개포6차우성아파트1동~8동   79.97  201801    8  117000  2  1987   \n",
       "2       서울특별시 강남구 개포동  개포6차우성아파트1동~8동   79.97  201801   11  130000  1  1987   \n",
       "3       서울특별시 강남구 개포동  개포6차우성아파트1동~8동   79.97  201803   19  139500  2  1987   \n",
       "4       서울특별시 강남구 개포동  개포6차우성아파트1동~8동   54.98  201804    5  107500  5  1987   \n",
       "...               ...             ...     ...     ...  ...     ... ..   ...   \n",
       "237982  서울특별시 중랑구 중화동         한영(104)  106.21  202003   11   45400  6  2003   \n",
       "237983  서울특별시 중랑구 중화동         한영(104)   67.57  202008    7   26000  2  2003   \n",
       "237984  서울특별시 중랑구 중화동           현대휴앤미   95.94  202007   10   44000  6  2007   \n",
       "237985  서울특별시 중랑구 중화동           현대휴앤미  100.17  202012    3   54800  5  2007   \n",
       "237986  서울특별시 중랑구 중화동     현대휴앤미(102동)   77.71  202009   28   40000  5  2007   \n",
       "\n",
       "             제곱미터단가         평당단가      시    구    동 단지명브랜드        계약날짜  계약날짜인코딩  \\\n",
       "0       1625.609604  5364.511692  서울특별시  강남구  개포동     기타  2018-01-03        2   \n",
       "1       1463.048643  4828.060523  서울특별시  강남구  개포동     기타  2018-01-08        7   \n",
       "2       1625.609604  5364.511692  서울특별시  강남구  개포동     기타  2018-01-11       10   \n",
       "3       1744.404152  5756.533700  서울특별시  강남구  개포동     기타  2018-03-19       77   \n",
       "4       1955.256457  6452.346308  서울특별시  강남구  개포동     기타  2018-04-05       94   \n",
       "...             ...          ...    ...  ...  ...    ...         ...      ...   \n",
       "237982   427.455042  1410.601638  서울특별시  중랑구  중화동     기타  2020-03-11      800   \n",
       "237983   384.786148  1269.794287  서울특별시  중랑구  중화동     기타  2020-08-07      949   \n",
       "237984   458.619971  1513.445904  서울특별시  중랑구  중화동     현대  2020-07-10      921   \n",
       "237985   547.069981  1805.330937  서울특별시  중랑구  중화동     현대  2020-12-03     1067   \n",
       "237986   514.734268  1698.623086  서울특별시  중랑구  중화동     현대  2020-09-28     1001   \n",
       "\n",
       "        구별 공원 갯수  8학군  \n",
       "0          132.0    1  \n",
       "1          132.0    1  \n",
       "2          132.0    1  \n",
       "3          132.0    1  \n",
       "4          132.0    1  \n",
       "...          ...  ...  \n",
       "237982      11.0    0  \n",
       "237983      11.0    0  \n",
       "237984      11.0    0  \n",
       "237985      11.0    0  \n",
       "237986      11.0    0  \n",
       "\n",
       "[237987 rows x 18 columns]"
      ]
     },
     "execution_count": 88,
     "metadata": {},
     "output_type": "execute_result"
    }
   ],
   "source": [
    "train_data"
   ]
  },
  {
   "cell_type": "code",
   "execution_count": 89,
   "id": "3018b160",
   "metadata": {},
   "outputs": [
    {
     "name": "stdout",
     "output_type": "stream",
     "text": [
      "train_data.csv , 8학군까지 csv로 저장되었습니다.\n"
     ]
    }
   ],
   "source": [
    "# 중간 저장\n",
    "train_data.to_csv('train_data.csv', encoding='utf-8-sig', index=False)\n",
    "print('train_data.csv , 8학군까지 csv로 저장되었습니다.')"
   ]
  },
  {
   "cell_type": "markdown",
   "id": "8ab25072",
   "metadata": {},
   "source": [
    "### 학원 데이터"
   ]
  },
  {
   "cell_type": "code",
   "execution_count": 90,
   "id": "36759219",
   "metadata": {},
   "outputs": [
    {
     "data": {
      "text/html": [
       "<div>\n",
       "<style scoped>\n",
       "    .dataframe tbody tr th:only-of-type {\n",
       "        vertical-align: middle;\n",
       "    }\n",
       "\n",
       "    .dataframe tbody tr th {\n",
       "        vertical-align: top;\n",
       "    }\n",
       "\n",
       "    .dataframe thead th {\n",
       "        text-align: right;\n",
       "    }\n",
       "</style>\n",
       "<table border=\"1\" class=\"dataframe\">\n",
       "  <thead>\n",
       "    <tr style=\"text-align: right;\">\n",
       "      <th></th>\n",
       "      <th>학원명</th>\n",
       "      <th>학원주소</th>\n",
       "    </tr>\n",
       "  </thead>\n",
       "  <tbody>\n",
       "    <tr>\n",
       "      <th>0</th>\n",
       "      <td>예맥보습학원</td>\n",
       "      <td>서울특별시 중랑구 동일로151길 30  2층3층 (묵동)</td>\n",
       "    </tr>\n",
       "    <tr>\n",
       "      <th>1</th>\n",
       "      <td>세진보습학원</td>\n",
       "      <td>서울특별시 중랑구 공릉로 58  2층4층일부 (묵동)</td>\n",
       "    </tr>\n",
       "    <tr>\n",
       "      <th>2</th>\n",
       "      <td>대찬하브루타학원</td>\n",
       "      <td>서울특별시 동대문구 전농로 120 , 3층 (전농동)</td>\n",
       "    </tr>\n",
       "    <tr>\n",
       "      <th>3</th>\n",
       "      <td>장안로드맵수학학원</td>\n",
       "      <td>서울특별시 동대문구 한천로 124 , 2층 202호 (장안동)</td>\n",
       "    </tr>\n",
       "    <tr>\n",
       "      <th>4</th>\n",
       "      <td>더하이스트수학학원</td>\n",
       "      <td>서울특별시 동대문구 사가정로 190  전농우성아파트 상가4층7,8,9호 (전농동)</td>\n",
       "    </tr>\n",
       "    <tr>\n",
       "      <th>...</th>\n",
       "      <td>...</td>\n",
       "      <td>...</td>\n",
       "    </tr>\n",
       "    <tr>\n",
       "      <th>8384</th>\n",
       "      <td>EIE(이아이이)어학원</td>\n",
       "      <td>서울특별시 강북구 도봉로 189 , 4층,5층 (미아동)</td>\n",
       "    </tr>\n",
       "    <tr>\n",
       "      <th>8385</th>\n",
       "      <td>이상숙어학원</td>\n",
       "      <td>서울특별시 성북구 오패산로 98 , 402호,501호,502호,503호 (하월곡동,...</td>\n",
       "    </tr>\n",
       "    <tr>\n",
       "      <th>8386</th>\n",
       "      <td>성북메가스터디학원</td>\n",
       "      <td>서울특별시 성북구 아리랑로 17   민국빌딩 1-5층 (동소문동6가)</td>\n",
       "    </tr>\n",
       "    <tr>\n",
       "      <th>8387</th>\n",
       "      <td>하이스트미래탐구학원</td>\n",
       "      <td>서울특별시 성북구 정릉로 364   3-5층 (돈암동)</td>\n",
       "    </tr>\n",
       "    <tr>\n",
       "      <th>8388</th>\n",
       "      <td>러시아어에듀랑통역학원</td>\n",
       "      <td>서울특별시 성북구 동소문로13길 12 , 5층 전체 (동소문동6가)</td>\n",
       "    </tr>\n",
       "  </tbody>\n",
       "</table>\n",
       "<p>8389 rows × 2 columns</p>\n",
       "</div>"
      ],
      "text/plain": [
       "               학원명                                               학원주소\n",
       "0           예맥보습학원                    서울특별시 중랑구 동일로151길 30  2층3층 (묵동)\n",
       "1           세진보습학원                      서울특별시 중랑구 공릉로 58  2층4층일부 (묵동)\n",
       "2         대찬하브루타학원                      서울특별시 동대문구 전농로 120 , 3층 (전농동)\n",
       "3        장안로드맵수학학원                 서울특별시 동대문구 한천로 124 , 2층 202호 (장안동)\n",
       "4        더하이스트수학학원      서울특별시 동대문구 사가정로 190  전농우성아파트 상가4층7,8,9호 (전농동)\n",
       "...            ...                                                ...\n",
       "8384  EIE(이아이이)어학원                    서울특별시 강북구 도봉로 189 , 4층,5층 (미아동)\n",
       "8385        이상숙어학원  서울특별시 성북구 오패산로 98 , 402호,501호,502호,503호 (하월곡동,...\n",
       "8386     성북메가스터디학원             서울특별시 성북구 아리랑로 17   민국빌딩 1-5층 (동소문동6가)\n",
       "8387    하이스트미래탐구학원                     서울특별시 성북구 정릉로 364   3-5층 (돈암동)\n",
       "8388   러시아어에듀랑통역학원              서울특별시 성북구 동소문로13길 12 , 5층 전체 (동소문동6가)\n",
       "\n",
       "[8389 rows x 2 columns]"
      ]
     },
     "execution_count": 90,
     "metadata": {},
     "output_type": "execute_result"
    }
   ],
   "source": [
    "cram_school_data"
   ]
  },
  {
   "cell_type": "code",
   "execution_count": 91,
   "id": "288109a8",
   "metadata": {
    "scrolled": false
   },
   "outputs": [
    {
     "name": "stdout",
     "output_type": "stream",
     "text": [
      "<class 'pandas.core.frame.DataFrame'>\n",
      "RangeIndex: 8389 entries, 0 to 8388\n",
      "Data columns (total 2 columns):\n",
      " #   Column  Non-Null Count  Dtype \n",
      "---  ------  --------------  ----- \n",
      " 0   학원명     8389 non-null   object\n",
      " 1   학원주소    8389 non-null   object\n",
      "dtypes: object(2)\n",
      "memory usage: 131.2+ KB\n"
     ]
    }
   ],
   "source": [
    "cram_school_data.info()"
   ]
  },
  {
   "cell_type": "code",
   "execution_count": 92,
   "id": "12b3bd27",
   "metadata": {},
   "outputs": [
    {
     "data": {
      "text/html": [
       "<div>\n",
       "<style scoped>\n",
       "    .dataframe tbody tr th:only-of-type {\n",
       "        vertical-align: middle;\n",
       "    }\n",
       "\n",
       "    .dataframe tbody tr th {\n",
       "        vertical-align: top;\n",
       "    }\n",
       "\n",
       "    .dataframe thead th {\n",
       "        text-align: right;\n",
       "    }\n",
       "</style>\n",
       "<table border=\"1\" class=\"dataframe\">\n",
       "  <thead>\n",
       "    <tr style=\"text-align: right;\">\n",
       "      <th></th>\n",
       "      <th>학원명</th>\n",
       "      <th>학원주소</th>\n",
       "      <th>구</th>\n",
       "    </tr>\n",
       "  </thead>\n",
       "  <tbody>\n",
       "    <tr>\n",
       "      <th>0</th>\n",
       "      <td>예맥보습학원</td>\n",
       "      <td>서울특별시 중랑구 동일로151길 30  2층3층 (묵동)</td>\n",
       "      <td>중랑구</td>\n",
       "    </tr>\n",
       "    <tr>\n",
       "      <th>1</th>\n",
       "      <td>세진보습학원</td>\n",
       "      <td>서울특별시 중랑구 공릉로 58  2층4층일부 (묵동)</td>\n",
       "      <td>중랑구</td>\n",
       "    </tr>\n",
       "    <tr>\n",
       "      <th>2</th>\n",
       "      <td>대찬하브루타학원</td>\n",
       "      <td>서울특별시 동대문구 전농로 120 , 3층 (전농동)</td>\n",
       "      <td>동대문구</td>\n",
       "    </tr>\n",
       "    <tr>\n",
       "      <th>3</th>\n",
       "      <td>장안로드맵수학학원</td>\n",
       "      <td>서울특별시 동대문구 한천로 124 , 2층 202호 (장안동)</td>\n",
       "      <td>동대문구</td>\n",
       "    </tr>\n",
       "    <tr>\n",
       "      <th>4</th>\n",
       "      <td>더하이스트수학학원</td>\n",
       "      <td>서울특별시 동대문구 사가정로 190  전농우성아파트 상가4층7,8,9호 (전농동)</td>\n",
       "      <td>동대문구</td>\n",
       "    </tr>\n",
       "    <tr>\n",
       "      <th>...</th>\n",
       "      <td>...</td>\n",
       "      <td>...</td>\n",
       "      <td>...</td>\n",
       "    </tr>\n",
       "    <tr>\n",
       "      <th>8384</th>\n",
       "      <td>EIE(이아이이)어학원</td>\n",
       "      <td>서울특별시 강북구 도봉로 189 , 4층,5층 (미아동)</td>\n",
       "      <td>강북구</td>\n",
       "    </tr>\n",
       "    <tr>\n",
       "      <th>8385</th>\n",
       "      <td>이상숙어학원</td>\n",
       "      <td>서울특별시 성북구 오패산로 98 , 402호,501호,502호,503호 (하월곡동,...</td>\n",
       "      <td>성북구</td>\n",
       "    </tr>\n",
       "    <tr>\n",
       "      <th>8386</th>\n",
       "      <td>성북메가스터디학원</td>\n",
       "      <td>서울특별시 성북구 아리랑로 17   민국빌딩 1-5층 (동소문동6가)</td>\n",
       "      <td>성북구</td>\n",
       "    </tr>\n",
       "    <tr>\n",
       "      <th>8387</th>\n",
       "      <td>하이스트미래탐구학원</td>\n",
       "      <td>서울특별시 성북구 정릉로 364   3-5층 (돈암동)</td>\n",
       "      <td>성북구</td>\n",
       "    </tr>\n",
       "    <tr>\n",
       "      <th>8388</th>\n",
       "      <td>러시아어에듀랑통역학원</td>\n",
       "      <td>서울특별시 성북구 동소문로13길 12 , 5층 전체 (동소문동6가)</td>\n",
       "      <td>성북구</td>\n",
       "    </tr>\n",
       "  </tbody>\n",
       "</table>\n",
       "<p>8389 rows × 3 columns</p>\n",
       "</div>"
      ],
      "text/plain": [
       "               학원명                                               학원주소     구\n",
       "0           예맥보습학원                    서울특별시 중랑구 동일로151길 30  2층3층 (묵동)   중랑구\n",
       "1           세진보습학원                      서울특별시 중랑구 공릉로 58  2층4층일부 (묵동)   중랑구\n",
       "2         대찬하브루타학원                      서울특별시 동대문구 전농로 120 , 3층 (전농동)  동대문구\n",
       "3        장안로드맵수학학원                 서울특별시 동대문구 한천로 124 , 2층 202호 (장안동)  동대문구\n",
       "4        더하이스트수학학원      서울특별시 동대문구 사가정로 190  전농우성아파트 상가4층7,8,9호 (전농동)  동대문구\n",
       "...            ...                                                ...   ...\n",
       "8384  EIE(이아이이)어학원                    서울특별시 강북구 도봉로 189 , 4층,5층 (미아동)   강북구\n",
       "8385        이상숙어학원  서울특별시 성북구 오패산로 98 , 402호,501호,502호,503호 (하월곡동,...   성북구\n",
       "8386     성북메가스터디학원             서울특별시 성북구 아리랑로 17   민국빌딩 1-5층 (동소문동6가)   성북구\n",
       "8387    하이스트미래탐구학원                     서울특별시 성북구 정릉로 364   3-5층 (돈암동)   성북구\n",
       "8388   러시아어에듀랑통역학원              서울특별시 성북구 동소문로13길 12 , 5층 전체 (동소문동6가)   성북구\n",
       "\n",
       "[8389 rows x 3 columns]"
      ]
     },
     "execution_count": 92,
     "metadata": {},
     "output_type": "execute_result"
    }
   ],
   "source": [
    "region_split = cram_school_data['학원주소'].map(lambda x : x[x.find(' ')+1:x.find(' ',6)+1].replace(' ','') if x.find('구')!=-1 else None)\n",
    "cram_school_data['구']=region_split\n",
    "cram_school_data"
   ]
  },
  {
   "cell_type": "code",
   "execution_count": 93,
   "id": "1846cbfc",
   "metadata": {},
   "outputs": [
    {
     "data": {
      "text/plain": [
       "0"
      ]
     },
     "execution_count": 93,
     "metadata": {},
     "output_type": "execute_result"
    }
   ],
   "source": [
    "sum(region_split[region_split.isna()]) #모두 잘 들어감"
   ]
  },
  {
   "cell_type": "code",
   "execution_count": 94,
   "id": "cd118522",
   "metadata": {
    "scrolled": false
   },
   "outputs": [
    {
     "data": {
      "text/plain": [
       "강남구     1304\n",
       "양천구      743\n",
       "송파구      655\n",
       "서초구      613\n",
       "노원구      506\n",
       "강서구      455\n",
       "강동구      453\n",
       "은평구      366\n",
       "성북구      301\n",
       "마포구      290\n",
       "동작구      257\n",
       "관악구      253\n",
       "광진구      250\n",
       "구로구      249\n",
       "영등포구     222\n",
       "동대문구     220\n",
       "서대문구     217\n",
       "도봉구      216\n",
       "중랑구      174\n",
       "성동구      168\n",
       "강북구      150\n",
       "금천구      121\n",
       "종로구       86\n",
       "용산구       74\n",
       "중구        46\n",
       "Name: 구, dtype: int64"
      ]
     },
     "execution_count": 94,
     "metadata": {},
     "output_type": "execute_result"
    }
   ],
   "source": [
    "cram_school_count=cram_school_data['구'].value_counts()\n",
    "cram_school_count"
   ]
  },
  {
   "cell_type": "code",
   "execution_count": 95,
   "id": "98f990ab",
   "metadata": {},
   "outputs": [
    {
     "data": {
      "text/html": [
       "<div>\n",
       "<style scoped>\n",
       "    .dataframe tbody tr th:only-of-type {\n",
       "        vertical-align: middle;\n",
       "    }\n",
       "\n",
       "    .dataframe tbody tr th {\n",
       "        vertical-align: top;\n",
       "    }\n",
       "\n",
       "    .dataframe thead th {\n",
       "        text-align: right;\n",
       "    }\n",
       "</style>\n",
       "<table border=\"1\" class=\"dataframe\">\n",
       "  <thead>\n",
       "    <tr style=\"text-align: right;\">\n",
       "      <th></th>\n",
       "      <th>시군구</th>\n",
       "      <th>단지명</th>\n",
       "      <th>전용면적</th>\n",
       "      <th>계약년월</th>\n",
       "      <th>계약일</th>\n",
       "      <th>거래금액</th>\n",
       "      <th>층</th>\n",
       "      <th>건축년도</th>\n",
       "      <th>제곱미터단가</th>\n",
       "      <th>평당단가</th>\n",
       "      <th>시</th>\n",
       "      <th>구</th>\n",
       "      <th>동</th>\n",
       "      <th>단지명브랜드</th>\n",
       "      <th>계약날짜</th>\n",
       "      <th>계약날짜인코딩</th>\n",
       "      <th>구별 공원 갯수</th>\n",
       "      <th>8학군</th>\n",
       "      <th>구별 교과학원 갯수</th>\n",
       "    </tr>\n",
       "  </thead>\n",
       "  <tbody>\n",
       "    <tr>\n",
       "      <th>0</th>\n",
       "      <td>서울특별시 강남구 개포동</td>\n",
       "      <td>개포6차우성아파트1동~8동</td>\n",
       "      <td>79.97</td>\n",
       "      <td>201801</td>\n",
       "      <td>3</td>\n",
       "      <td>130000</td>\n",
       "      <td>4</td>\n",
       "      <td>1987</td>\n",
       "      <td>1625.609604</td>\n",
       "      <td>5364.511692</td>\n",
       "      <td>서울특별시</td>\n",
       "      <td>강남구</td>\n",
       "      <td>개포동</td>\n",
       "      <td>기타</td>\n",
       "      <td>2018-01-03</td>\n",
       "      <td>2</td>\n",
       "      <td>132.0</td>\n",
       "      <td>1</td>\n",
       "      <td>1304</td>\n",
       "    </tr>\n",
       "    <tr>\n",
       "      <th>1</th>\n",
       "      <td>서울특별시 강남구 개포동</td>\n",
       "      <td>개포6차우성아파트1동~8동</td>\n",
       "      <td>79.97</td>\n",
       "      <td>201801</td>\n",
       "      <td>8</td>\n",
       "      <td>117000</td>\n",
       "      <td>2</td>\n",
       "      <td>1987</td>\n",
       "      <td>1463.048643</td>\n",
       "      <td>4828.060523</td>\n",
       "      <td>서울특별시</td>\n",
       "      <td>강남구</td>\n",
       "      <td>개포동</td>\n",
       "      <td>기타</td>\n",
       "      <td>2018-01-08</td>\n",
       "      <td>7</td>\n",
       "      <td>132.0</td>\n",
       "      <td>1</td>\n",
       "      <td>1304</td>\n",
       "    </tr>\n",
       "    <tr>\n",
       "      <th>2</th>\n",
       "      <td>서울특별시 강남구 개포동</td>\n",
       "      <td>개포6차우성아파트1동~8동</td>\n",
       "      <td>79.97</td>\n",
       "      <td>201801</td>\n",
       "      <td>11</td>\n",
       "      <td>130000</td>\n",
       "      <td>1</td>\n",
       "      <td>1987</td>\n",
       "      <td>1625.609604</td>\n",
       "      <td>5364.511692</td>\n",
       "      <td>서울특별시</td>\n",
       "      <td>강남구</td>\n",
       "      <td>개포동</td>\n",
       "      <td>기타</td>\n",
       "      <td>2018-01-11</td>\n",
       "      <td>10</td>\n",
       "      <td>132.0</td>\n",
       "      <td>1</td>\n",
       "      <td>1304</td>\n",
       "    </tr>\n",
       "    <tr>\n",
       "      <th>3</th>\n",
       "      <td>서울특별시 강남구 개포동</td>\n",
       "      <td>개포6차우성아파트1동~8동</td>\n",
       "      <td>79.97</td>\n",
       "      <td>201803</td>\n",
       "      <td>19</td>\n",
       "      <td>139500</td>\n",
       "      <td>2</td>\n",
       "      <td>1987</td>\n",
       "      <td>1744.404152</td>\n",
       "      <td>5756.533700</td>\n",
       "      <td>서울특별시</td>\n",
       "      <td>강남구</td>\n",
       "      <td>개포동</td>\n",
       "      <td>기타</td>\n",
       "      <td>2018-03-19</td>\n",
       "      <td>77</td>\n",
       "      <td>132.0</td>\n",
       "      <td>1</td>\n",
       "      <td>1304</td>\n",
       "    </tr>\n",
       "    <tr>\n",
       "      <th>4</th>\n",
       "      <td>서울특별시 강남구 개포동</td>\n",
       "      <td>개포6차우성아파트1동~8동</td>\n",
       "      <td>54.98</td>\n",
       "      <td>201804</td>\n",
       "      <td>5</td>\n",
       "      <td>107500</td>\n",
       "      <td>5</td>\n",
       "      <td>1987</td>\n",
       "      <td>1955.256457</td>\n",
       "      <td>6452.346308</td>\n",
       "      <td>서울특별시</td>\n",
       "      <td>강남구</td>\n",
       "      <td>개포동</td>\n",
       "      <td>기타</td>\n",
       "      <td>2018-04-05</td>\n",
       "      <td>94</td>\n",
       "      <td>132.0</td>\n",
       "      <td>1</td>\n",
       "      <td>1304</td>\n",
       "    </tr>\n",
       "    <tr>\n",
       "      <th>...</th>\n",
       "      <td>...</td>\n",
       "      <td>...</td>\n",
       "      <td>...</td>\n",
       "      <td>...</td>\n",
       "      <td>...</td>\n",
       "      <td>...</td>\n",
       "      <td>...</td>\n",
       "      <td>...</td>\n",
       "      <td>...</td>\n",
       "      <td>...</td>\n",
       "      <td>...</td>\n",
       "      <td>...</td>\n",
       "      <td>...</td>\n",
       "      <td>...</td>\n",
       "      <td>...</td>\n",
       "      <td>...</td>\n",
       "      <td>...</td>\n",
       "      <td>...</td>\n",
       "      <td>...</td>\n",
       "    </tr>\n",
       "    <tr>\n",
       "      <th>237982</th>\n",
       "      <td>서울특별시 중랑구 중화동</td>\n",
       "      <td>한영(104)</td>\n",
       "      <td>106.21</td>\n",
       "      <td>202003</td>\n",
       "      <td>11</td>\n",
       "      <td>45400</td>\n",
       "      <td>6</td>\n",
       "      <td>2003</td>\n",
       "      <td>427.455042</td>\n",
       "      <td>1410.601638</td>\n",
       "      <td>서울특별시</td>\n",
       "      <td>중랑구</td>\n",
       "      <td>중화동</td>\n",
       "      <td>기타</td>\n",
       "      <td>2020-03-11</td>\n",
       "      <td>800</td>\n",
       "      <td>11.0</td>\n",
       "      <td>0</td>\n",
       "      <td>174</td>\n",
       "    </tr>\n",
       "    <tr>\n",
       "      <th>237983</th>\n",
       "      <td>서울특별시 중랑구 중화동</td>\n",
       "      <td>한영(104)</td>\n",
       "      <td>67.57</td>\n",
       "      <td>202008</td>\n",
       "      <td>7</td>\n",
       "      <td>26000</td>\n",
       "      <td>2</td>\n",
       "      <td>2003</td>\n",
       "      <td>384.786148</td>\n",
       "      <td>1269.794287</td>\n",
       "      <td>서울특별시</td>\n",
       "      <td>중랑구</td>\n",
       "      <td>중화동</td>\n",
       "      <td>기타</td>\n",
       "      <td>2020-08-07</td>\n",
       "      <td>949</td>\n",
       "      <td>11.0</td>\n",
       "      <td>0</td>\n",
       "      <td>174</td>\n",
       "    </tr>\n",
       "    <tr>\n",
       "      <th>237984</th>\n",
       "      <td>서울특별시 중랑구 중화동</td>\n",
       "      <td>현대휴앤미</td>\n",
       "      <td>95.94</td>\n",
       "      <td>202007</td>\n",
       "      <td>10</td>\n",
       "      <td>44000</td>\n",
       "      <td>6</td>\n",
       "      <td>2007</td>\n",
       "      <td>458.619971</td>\n",
       "      <td>1513.445904</td>\n",
       "      <td>서울특별시</td>\n",
       "      <td>중랑구</td>\n",
       "      <td>중화동</td>\n",
       "      <td>현대</td>\n",
       "      <td>2020-07-10</td>\n",
       "      <td>921</td>\n",
       "      <td>11.0</td>\n",
       "      <td>0</td>\n",
       "      <td>174</td>\n",
       "    </tr>\n",
       "    <tr>\n",
       "      <th>237985</th>\n",
       "      <td>서울특별시 중랑구 중화동</td>\n",
       "      <td>현대휴앤미</td>\n",
       "      <td>100.17</td>\n",
       "      <td>202012</td>\n",
       "      <td>3</td>\n",
       "      <td>54800</td>\n",
       "      <td>5</td>\n",
       "      <td>2007</td>\n",
       "      <td>547.069981</td>\n",
       "      <td>1805.330937</td>\n",
       "      <td>서울특별시</td>\n",
       "      <td>중랑구</td>\n",
       "      <td>중화동</td>\n",
       "      <td>현대</td>\n",
       "      <td>2020-12-03</td>\n",
       "      <td>1067</td>\n",
       "      <td>11.0</td>\n",
       "      <td>0</td>\n",
       "      <td>174</td>\n",
       "    </tr>\n",
       "    <tr>\n",
       "      <th>237986</th>\n",
       "      <td>서울특별시 중랑구 중화동</td>\n",
       "      <td>현대휴앤미(102동)</td>\n",
       "      <td>77.71</td>\n",
       "      <td>202009</td>\n",
       "      <td>28</td>\n",
       "      <td>40000</td>\n",
       "      <td>5</td>\n",
       "      <td>2007</td>\n",
       "      <td>514.734268</td>\n",
       "      <td>1698.623086</td>\n",
       "      <td>서울특별시</td>\n",
       "      <td>중랑구</td>\n",
       "      <td>중화동</td>\n",
       "      <td>현대</td>\n",
       "      <td>2020-09-28</td>\n",
       "      <td>1001</td>\n",
       "      <td>11.0</td>\n",
       "      <td>0</td>\n",
       "      <td>174</td>\n",
       "    </tr>\n",
       "  </tbody>\n",
       "</table>\n",
       "<p>237987 rows × 19 columns</p>\n",
       "</div>"
      ],
      "text/plain": [
       "                  시군구             단지명    전용면적    계약년월  계약일    거래금액  층  건축년도  \\\n",
       "0       서울특별시 강남구 개포동  개포6차우성아파트1동~8동   79.97  201801    3  130000  4  1987   \n",
       "1       서울특별시 강남구 개포동  개포6차우성아파트1동~8동   79.97  201801    8  117000  2  1987   \n",
       "2       서울특별시 강남구 개포동  개포6차우성아파트1동~8동   79.97  201801   11  130000  1  1987   \n",
       "3       서울특별시 강남구 개포동  개포6차우성아파트1동~8동   79.97  201803   19  139500  2  1987   \n",
       "4       서울특별시 강남구 개포동  개포6차우성아파트1동~8동   54.98  201804    5  107500  5  1987   \n",
       "...               ...             ...     ...     ...  ...     ... ..   ...   \n",
       "237982  서울특별시 중랑구 중화동         한영(104)  106.21  202003   11   45400  6  2003   \n",
       "237983  서울특별시 중랑구 중화동         한영(104)   67.57  202008    7   26000  2  2003   \n",
       "237984  서울특별시 중랑구 중화동           현대휴앤미   95.94  202007   10   44000  6  2007   \n",
       "237985  서울특별시 중랑구 중화동           현대휴앤미  100.17  202012    3   54800  5  2007   \n",
       "237986  서울특별시 중랑구 중화동     현대휴앤미(102동)   77.71  202009   28   40000  5  2007   \n",
       "\n",
       "             제곱미터단가         평당단가      시    구    동 단지명브랜드        계약날짜  계약날짜인코딩  \\\n",
       "0       1625.609604  5364.511692  서울특별시  강남구  개포동     기타  2018-01-03        2   \n",
       "1       1463.048643  4828.060523  서울특별시  강남구  개포동     기타  2018-01-08        7   \n",
       "2       1625.609604  5364.511692  서울특별시  강남구  개포동     기타  2018-01-11       10   \n",
       "3       1744.404152  5756.533700  서울특별시  강남구  개포동     기타  2018-03-19       77   \n",
       "4       1955.256457  6452.346308  서울특별시  강남구  개포동     기타  2018-04-05       94   \n",
       "...             ...          ...    ...  ...  ...    ...         ...      ...   \n",
       "237982   427.455042  1410.601638  서울특별시  중랑구  중화동     기타  2020-03-11      800   \n",
       "237983   384.786148  1269.794287  서울특별시  중랑구  중화동     기타  2020-08-07      949   \n",
       "237984   458.619971  1513.445904  서울특별시  중랑구  중화동     현대  2020-07-10      921   \n",
       "237985   547.069981  1805.330937  서울특별시  중랑구  중화동     현대  2020-12-03     1067   \n",
       "237986   514.734268  1698.623086  서울특별시  중랑구  중화동     현대  2020-09-28     1001   \n",
       "\n",
       "        구별 공원 갯수  8학군  구별 교과학원 갯수  \n",
       "0          132.0    1        1304  \n",
       "1          132.0    1        1304  \n",
       "2          132.0    1        1304  \n",
       "3          132.0    1        1304  \n",
       "4          132.0    1        1304  \n",
       "...          ...  ...         ...  \n",
       "237982      11.0    0         174  \n",
       "237983      11.0    0         174  \n",
       "237984      11.0    0         174  \n",
       "237985      11.0    0         174  \n",
       "237986      11.0    0         174  \n",
       "\n",
       "[237987 rows x 19 columns]"
      ]
     },
     "execution_count": 95,
     "metadata": {},
     "output_type": "execute_result"
    }
   ],
   "source": [
    "train_data['구별 교과학원 갯수']=train_data['구'].map(cram_school_count)\n",
    "train_data"
   ]
  },
  {
   "cell_type": "code",
   "execution_count": 96,
   "id": "baf918ba",
   "metadata": {},
   "outputs": [
    {
     "name": "stdout",
     "output_type": "stream",
     "text": [
      "train_data_ver2.csv(지하철, 공원, 학원, 8학군)이 저장되었습니다.\n"
     ]
    }
   ],
   "source": [
    "# 동별-지하철역 / 구별-공원,학원,8학군\n",
    "train_data.to_csv('train_data_ver2.csv', encoding='utf-8-sig')\n",
    "print('train_data_ver2.csv(지하철, 공원, 학원, 8학군)이 저장되었습니다.')"
   ]
  },
  {
   "cell_type": "code",
   "execution_count": 97,
   "id": "b8646535",
   "metadata": {},
   "outputs": [
    {
     "name": "stdout",
     "output_type": "stream",
     "text": [
      "train_data.csv , 학원까지 csv로 저장되었습니다.\n"
     ]
    }
   ],
   "source": [
    "# 중간 저장\n",
    "train_data.to_csv('train_data.csv', encoding='utf-8-sig', index=False)\n",
    "print('train_data.csv , 학원까지 csv로 저장되었습니다.')"
   ]
  },
  {
   "cell_type": "markdown",
   "id": "0729fdea",
   "metadata": {},
   "source": [
    "### 유통업체"
   ]
  },
  {
   "cell_type": "code",
   "execution_count": 98,
   "id": "e1cdb09f",
   "metadata": {},
   "outputs": [
    {
     "data": {
      "text/html": [
       "<div>\n",
       "<style scoped>\n",
       "    .dataframe tbody tr th:only-of-type {\n",
       "        vertical-align: middle;\n",
       "    }\n",
       "\n",
       "    .dataframe tbody tr th {\n",
       "        vertical-align: top;\n",
       "    }\n",
       "\n",
       "    .dataframe thead th {\n",
       "        text-align: right;\n",
       "    }\n",
       "</style>\n",
       "<table border=\"1\" class=\"dataframe\">\n",
       "  <thead>\n",
       "    <tr style=\"text-align: right;\">\n",
       "      <th></th>\n",
       "      <th>자치구</th>\n",
       "      <th>동</th>\n",
       "      <th>대형마트 수</th>\n",
       "      <th>백화점 수</th>\n",
       "    </tr>\n",
       "  </thead>\n",
       "  <tbody>\n",
       "    <tr>\n",
       "      <th>0</th>\n",
       "      <td>종로구</td>\n",
       "      <td>종로1.2.3.4가동</td>\n",
       "      <td>0</td>\n",
       "      <td>0</td>\n",
       "    </tr>\n",
       "    <tr>\n",
       "      <th>1</th>\n",
       "      <td>종로구</td>\n",
       "      <td>종로5·6가동</td>\n",
       "      <td>0</td>\n",
       "      <td>0</td>\n",
       "    </tr>\n",
       "    <tr>\n",
       "      <th>2</th>\n",
       "      <td>종로구</td>\n",
       "      <td>창신1동</td>\n",
       "      <td>0</td>\n",
       "      <td>0</td>\n",
       "    </tr>\n",
       "    <tr>\n",
       "      <th>3</th>\n",
       "      <td>종로구</td>\n",
       "      <td>창신3동</td>\n",
       "      <td>0</td>\n",
       "      <td>0</td>\n",
       "    </tr>\n",
       "    <tr>\n",
       "      <th>4</th>\n",
       "      <td>종로구</td>\n",
       "      <td>숭인2동</td>\n",
       "      <td>0</td>\n",
       "      <td>0</td>\n",
       "    </tr>\n",
       "  </tbody>\n",
       "</table>\n",
       "</div>"
      ],
      "text/plain": [
       "   자치구            동  대형마트 수  백화점 수\n",
       "0  종로구  종로1.2.3.4가동       0      0\n",
       "1  종로구      종로5·6가동       0      0\n",
       "2  종로구         창신1동       0      0\n",
       "3  종로구         창신3동       0      0\n",
       "4  종로구         숭인2동       0      0"
      ]
     },
     "execution_count": 98,
     "metadata": {},
     "output_type": "execute_result"
    }
   ],
   "source": [
    "retail_df = pd.read_csv('유통업체.csv', encoding='cp949')\n",
    "retail_df.head()"
   ]
  },
  {
   "cell_type": "markdown",
   "id": "060fb14c",
   "metadata": {},
   "source": [
    "### 구별 집계"
   ]
  },
  {
   "cell_type": "code",
   "execution_count": 99,
   "id": "9c5c1066",
   "metadata": {},
   "outputs": [
    {
     "data": {
      "text/html": [
       "<div>\n",
       "<style scoped>\n",
       "    .dataframe tbody tr th:only-of-type {\n",
       "        vertical-align: middle;\n",
       "    }\n",
       "\n",
       "    .dataframe tbody tr th {\n",
       "        vertical-align: top;\n",
       "    }\n",
       "\n",
       "    .dataframe thead th {\n",
       "        text-align: right;\n",
       "    }\n",
       "</style>\n",
       "<table border=\"1\" class=\"dataframe\">\n",
       "  <thead>\n",
       "    <tr style=\"text-align: right;\">\n",
       "      <th></th>\n",
       "      <th>자치구</th>\n",
       "      <th>대형마트 수</th>\n",
       "      <th>백화점 수</th>\n",
       "      <th>전체 마트 수</th>\n",
       "    </tr>\n",
       "  </thead>\n",
       "  <tbody>\n",
       "    <tr>\n",
       "      <th>0</th>\n",
       "      <td>강남구</td>\n",
       "      <td>1</td>\n",
       "      <td>6</td>\n",
       "      <td>7</td>\n",
       "    </tr>\n",
       "    <tr>\n",
       "      <th>1</th>\n",
       "      <td>강동구</td>\n",
       "      <td>3</td>\n",
       "      <td>1</td>\n",
       "      <td>4</td>\n",
       "    </tr>\n",
       "    <tr>\n",
       "      <th>2</th>\n",
       "      <td>강북구</td>\n",
       "      <td>1</td>\n",
       "      <td>1</td>\n",
       "      <td>2</td>\n",
       "    </tr>\n",
       "    <tr>\n",
       "      <th>3</th>\n",
       "      <td>강서구</td>\n",
       "      <td>3</td>\n",
       "      <td>1</td>\n",
       "      <td>4</td>\n",
       "    </tr>\n",
       "    <tr>\n",
       "      <th>4</th>\n",
       "      <td>관악구</td>\n",
       "      <td>1</td>\n",
       "      <td>1</td>\n",
       "      <td>2</td>\n",
       "    </tr>\n",
       "    <tr>\n",
       "      <th>5</th>\n",
       "      <td>광진구</td>\n",
       "      <td>2</td>\n",
       "      <td>1</td>\n",
       "      <td>3</td>\n",
       "    </tr>\n",
       "    <tr>\n",
       "      <th>6</th>\n",
       "      <td>구로구</td>\n",
       "      <td>3</td>\n",
       "      <td>2</td>\n",
       "      <td>5</td>\n",
       "    </tr>\n",
       "    <tr>\n",
       "      <th>7</th>\n",
       "      <td>금천구</td>\n",
       "      <td>3</td>\n",
       "      <td>0</td>\n",
       "      <td>3</td>\n",
       "    </tr>\n",
       "    <tr>\n",
       "      <th>8</th>\n",
       "      <td>노원구</td>\n",
       "      <td>2</td>\n",
       "      <td>2</td>\n",
       "      <td>4</td>\n",
       "    </tr>\n",
       "    <tr>\n",
       "      <th>9</th>\n",
       "      <td>도봉구</td>\n",
       "      <td>2</td>\n",
       "      <td>0</td>\n",
       "      <td>2</td>\n",
       "    </tr>\n",
       "    <tr>\n",
       "      <th>10</th>\n",
       "      <td>동대문구</td>\n",
       "      <td>2</td>\n",
       "      <td>1</td>\n",
       "      <td>3</td>\n",
       "    </tr>\n",
       "    <tr>\n",
       "      <th>11</th>\n",
       "      <td>동작구</td>\n",
       "      <td>0</td>\n",
       "      <td>1</td>\n",
       "      <td>1</td>\n",
       "    </tr>\n",
       "    <tr>\n",
       "      <th>12</th>\n",
       "      <td>마포구</td>\n",
       "      <td>3</td>\n",
       "      <td>0</td>\n",
       "      <td>3</td>\n",
       "    </tr>\n",
       "    <tr>\n",
       "      <th>13</th>\n",
       "      <td>서대문구</td>\n",
       "      <td>0</td>\n",
       "      <td>1</td>\n",
       "      <td>1</td>\n",
       "    </tr>\n",
       "    <tr>\n",
       "      <th>14</th>\n",
       "      <td>서초구</td>\n",
       "      <td>4</td>\n",
       "      <td>2</td>\n",
       "      <td>6</td>\n",
       "    </tr>\n",
       "    <tr>\n",
       "      <th>15</th>\n",
       "      <td>성동구</td>\n",
       "      <td>2</td>\n",
       "      <td>0</td>\n",
       "      <td>2</td>\n",
       "    </tr>\n",
       "    <tr>\n",
       "      <th>16</th>\n",
       "      <td>성북구</td>\n",
       "      <td>3</td>\n",
       "      <td>1</td>\n",
       "      <td>4</td>\n",
       "    </tr>\n",
       "    <tr>\n",
       "      <th>17</th>\n",
       "      <td>송파구</td>\n",
       "      <td>4</td>\n",
       "      <td>2</td>\n",
       "      <td>6</td>\n",
       "    </tr>\n",
       "    <tr>\n",
       "      <th>18</th>\n",
       "      <td>양천구</td>\n",
       "      <td>1</td>\n",
       "      <td>1</td>\n",
       "      <td>2</td>\n",
       "    </tr>\n",
       "    <tr>\n",
       "      <th>19</th>\n",
       "      <td>영등포구</td>\n",
       "      <td>5</td>\n",
       "      <td>3</td>\n",
       "      <td>8</td>\n",
       "    </tr>\n",
       "    <tr>\n",
       "      <th>20</th>\n",
       "      <td>용산구</td>\n",
       "      <td>2</td>\n",
       "      <td>1</td>\n",
       "      <td>3</td>\n",
       "    </tr>\n",
       "    <tr>\n",
       "      <th>21</th>\n",
       "      <td>은평구</td>\n",
       "      <td>2</td>\n",
       "      <td>0</td>\n",
       "      <td>2</td>\n",
       "    </tr>\n",
       "    <tr>\n",
       "      <th>22</th>\n",
       "      <td>중구</td>\n",
       "      <td>2</td>\n",
       "      <td>3</td>\n",
       "      <td>5</td>\n",
       "    </tr>\n",
       "    <tr>\n",
       "      <th>23</th>\n",
       "      <td>중랑구</td>\n",
       "      <td>6</td>\n",
       "      <td>0</td>\n",
       "      <td>6</td>\n",
       "    </tr>\n",
       "  </tbody>\n",
       "</table>\n",
       "</div>"
      ],
      "text/plain": [
       "     자치구  대형마트 수  백화점 수  전체 마트 수\n",
       "0    강남구       1      6        7\n",
       "1    강동구       3      1        4\n",
       "2    강북구       1      1        2\n",
       "3    강서구       3      1        4\n",
       "4    관악구       1      1        2\n",
       "5    광진구       2      1        3\n",
       "6    구로구       3      2        5\n",
       "7    금천구       3      0        3\n",
       "8    노원구       2      2        4\n",
       "9    도봉구       2      0        2\n",
       "10  동대문구       2      1        3\n",
       "11   동작구       0      1        1\n",
       "12   마포구       3      0        3\n",
       "13  서대문구       0      1        1\n",
       "14   서초구       4      2        6\n",
       "15   성동구       2      0        2\n",
       "16   성북구       3      1        4\n",
       "17   송파구       4      2        6\n",
       "18   양천구       1      1        2\n",
       "19  영등포구       5      3        8\n",
       "20   용산구       2      1        3\n",
       "21   은평구       2      0        2\n",
       "22    중구       2      3        5\n",
       "23   중랑구       6      0        6"
      ]
     },
     "execution_count": 99,
     "metadata": {},
     "output_type": "execute_result"
    }
   ],
   "source": [
    "group_by_gu = retail_df.groupby('자치구').sum()\n",
    "group_by_gu = group_by_gu.reset_index()\n",
    "group_by_gu['전체 마트 수'] = group_by_gu['대형마트 수'] + group_by_gu['백화점 수']\n",
    "group_by_gu = group_by_gu[group_by_gu['전체 마트 수'] != 0]\n",
    "group_by_gu = group_by_gu.reset_index().drop('index', axis=1)\n",
    "group_by_gu"
   ]
  },
  {
   "cell_type": "code",
   "execution_count": 100,
   "id": "9cb275a9",
   "metadata": {},
   "outputs": [
    {
     "data": {
      "text/plain": [
       "2.0    75380\n",
       "3.0    65816\n",
       "1.0    36286\n",
       "4.0    24455\n",
       "0.0    16256\n",
       "5.0     9765\n",
       "6.0     7940\n",
       "Name: 구별 대형마트 수, dtype: int64"
      ]
     },
     "execution_count": 100,
     "metadata": {},
     "output_type": "execute_result"
    }
   ],
   "source": [
    "# 구별 대형마트 수 원본 데이터에 매핑\n",
    "big_mart_count_by_gu = group_by_gu[['자치구', '대형마트 수']]\n",
    "big_mart_guname = list(big_mart_count_by_gu['자치구'])\n",
    "big_mart_guvalue = list(big_mart_count_by_gu['대형마트 수'])\n",
    "big_mart_count_by_gu = pd.Series(index=big_mart_guname, data=big_mart_guvalue)\n",
    "\n",
    "train_data['구별 대형마트 수'] = train_data['구'].map(big_mart_count_by_gu)\n",
    "train_data['구별 대형마트 수'].value_counts()"
   ]
  },
  {
   "cell_type": "code",
   "execution_count": 101,
   "id": "1df9eec9",
   "metadata": {},
   "outputs": [
    {
     "data": {
      "text/plain": [
       "1.0    98380\n",
       "2.0    62142\n",
       "0.0    50503\n",
       "3.0    13031\n",
       "6.0    11842\n",
       "Name: 구별 백화점 수, dtype: int64"
      ]
     },
     "execution_count": 101,
     "metadata": {},
     "output_type": "execute_result"
    }
   ],
   "source": [
    "# 구별 백화점 수 원본 데이터에 매핑\n",
    "department_count_by_gu = group_by_gu[['자치구', '백화점 수']]\n",
    "department_guname = list(department_count_by_gu['자치구'])\n",
    "department_guvalue = list(department_count_by_gu['백화점 수'])\n",
    "department_count_by_gu = pd.Series(index=department_guname, data=department_guvalue)\n",
    "\n",
    "train_data['구별 백화점 수'] = train_data['구'].map(department_count_by_gu)\n",
    "train_data['구별 백화점 수'].value_counts()"
   ]
  },
  {
   "cell_type": "code",
   "execution_count": 102,
   "id": "2b121507",
   "metadata": {
    "scrolled": true
   },
   "outputs": [
    {
     "data": {
      "text/html": [
       "<div>\n",
       "<style scoped>\n",
       "    .dataframe tbody tr th:only-of-type {\n",
       "        vertical-align: middle;\n",
       "    }\n",
       "\n",
       "    .dataframe tbody tr th {\n",
       "        vertical-align: top;\n",
       "    }\n",
       "\n",
       "    .dataframe thead th {\n",
       "        text-align: right;\n",
       "    }\n",
       "</style>\n",
       "<table border=\"1\" class=\"dataframe\">\n",
       "  <thead>\n",
       "    <tr style=\"text-align: right;\">\n",
       "      <th></th>\n",
       "      <th>시군구</th>\n",
       "      <th>단지명</th>\n",
       "      <th>전용면적</th>\n",
       "      <th>계약년월</th>\n",
       "      <th>계약일</th>\n",
       "      <th>거래금액</th>\n",
       "      <th>층</th>\n",
       "      <th>건축년도</th>\n",
       "      <th>제곱미터단가</th>\n",
       "      <th>평당단가</th>\n",
       "      <th>시</th>\n",
       "      <th>구</th>\n",
       "      <th>동</th>\n",
       "      <th>단지명브랜드</th>\n",
       "      <th>계약날짜</th>\n",
       "      <th>계약날짜인코딩</th>\n",
       "      <th>구별 공원 갯수</th>\n",
       "      <th>8학군</th>\n",
       "      <th>구별 교과학원 갯수</th>\n",
       "      <th>구별 대형마트 수</th>\n",
       "      <th>구별 백화점 수</th>\n",
       "    </tr>\n",
       "  </thead>\n",
       "  <tbody>\n",
       "    <tr>\n",
       "      <th>0</th>\n",
       "      <td>서울특별시 강남구 개포동</td>\n",
       "      <td>개포6차우성아파트1동~8동</td>\n",
       "      <td>79.97</td>\n",
       "      <td>201801</td>\n",
       "      <td>3</td>\n",
       "      <td>130000</td>\n",
       "      <td>4</td>\n",
       "      <td>1987</td>\n",
       "      <td>1625.609604</td>\n",
       "      <td>5364.511692</td>\n",
       "      <td>서울특별시</td>\n",
       "      <td>강남구</td>\n",
       "      <td>개포동</td>\n",
       "      <td>기타</td>\n",
       "      <td>2018-01-03</td>\n",
       "      <td>2</td>\n",
       "      <td>132.0</td>\n",
       "      <td>1</td>\n",
       "      <td>1304</td>\n",
       "      <td>1.0</td>\n",
       "      <td>6.0</td>\n",
       "    </tr>\n",
       "    <tr>\n",
       "      <th>1</th>\n",
       "      <td>서울특별시 강남구 개포동</td>\n",
       "      <td>개포6차우성아파트1동~8동</td>\n",
       "      <td>79.97</td>\n",
       "      <td>201801</td>\n",
       "      <td>8</td>\n",
       "      <td>117000</td>\n",
       "      <td>2</td>\n",
       "      <td>1987</td>\n",
       "      <td>1463.048643</td>\n",
       "      <td>4828.060523</td>\n",
       "      <td>서울특별시</td>\n",
       "      <td>강남구</td>\n",
       "      <td>개포동</td>\n",
       "      <td>기타</td>\n",
       "      <td>2018-01-08</td>\n",
       "      <td>7</td>\n",
       "      <td>132.0</td>\n",
       "      <td>1</td>\n",
       "      <td>1304</td>\n",
       "      <td>1.0</td>\n",
       "      <td>6.0</td>\n",
       "    </tr>\n",
       "    <tr>\n",
       "      <th>2</th>\n",
       "      <td>서울특별시 강남구 개포동</td>\n",
       "      <td>개포6차우성아파트1동~8동</td>\n",
       "      <td>79.97</td>\n",
       "      <td>201801</td>\n",
       "      <td>11</td>\n",
       "      <td>130000</td>\n",
       "      <td>1</td>\n",
       "      <td>1987</td>\n",
       "      <td>1625.609604</td>\n",
       "      <td>5364.511692</td>\n",
       "      <td>서울특별시</td>\n",
       "      <td>강남구</td>\n",
       "      <td>개포동</td>\n",
       "      <td>기타</td>\n",
       "      <td>2018-01-11</td>\n",
       "      <td>10</td>\n",
       "      <td>132.0</td>\n",
       "      <td>1</td>\n",
       "      <td>1304</td>\n",
       "      <td>1.0</td>\n",
       "      <td>6.0</td>\n",
       "    </tr>\n",
       "    <tr>\n",
       "      <th>3</th>\n",
       "      <td>서울특별시 강남구 개포동</td>\n",
       "      <td>개포6차우성아파트1동~8동</td>\n",
       "      <td>79.97</td>\n",
       "      <td>201803</td>\n",
       "      <td>19</td>\n",
       "      <td>139500</td>\n",
       "      <td>2</td>\n",
       "      <td>1987</td>\n",
       "      <td>1744.404152</td>\n",
       "      <td>5756.533700</td>\n",
       "      <td>서울특별시</td>\n",
       "      <td>강남구</td>\n",
       "      <td>개포동</td>\n",
       "      <td>기타</td>\n",
       "      <td>2018-03-19</td>\n",
       "      <td>77</td>\n",
       "      <td>132.0</td>\n",
       "      <td>1</td>\n",
       "      <td>1304</td>\n",
       "      <td>1.0</td>\n",
       "      <td>6.0</td>\n",
       "    </tr>\n",
       "    <tr>\n",
       "      <th>4</th>\n",
       "      <td>서울특별시 강남구 개포동</td>\n",
       "      <td>개포6차우성아파트1동~8동</td>\n",
       "      <td>54.98</td>\n",
       "      <td>201804</td>\n",
       "      <td>5</td>\n",
       "      <td>107500</td>\n",
       "      <td>5</td>\n",
       "      <td>1987</td>\n",
       "      <td>1955.256457</td>\n",
       "      <td>6452.346308</td>\n",
       "      <td>서울특별시</td>\n",
       "      <td>강남구</td>\n",
       "      <td>개포동</td>\n",
       "      <td>기타</td>\n",
       "      <td>2018-04-05</td>\n",
       "      <td>94</td>\n",
       "      <td>132.0</td>\n",
       "      <td>1</td>\n",
       "      <td>1304</td>\n",
       "      <td>1.0</td>\n",
       "      <td>6.0</td>\n",
       "    </tr>\n",
       "    <tr>\n",
       "      <th>...</th>\n",
       "      <td>...</td>\n",
       "      <td>...</td>\n",
       "      <td>...</td>\n",
       "      <td>...</td>\n",
       "      <td>...</td>\n",
       "      <td>...</td>\n",
       "      <td>...</td>\n",
       "      <td>...</td>\n",
       "      <td>...</td>\n",
       "      <td>...</td>\n",
       "      <td>...</td>\n",
       "      <td>...</td>\n",
       "      <td>...</td>\n",
       "      <td>...</td>\n",
       "      <td>...</td>\n",
       "      <td>...</td>\n",
       "      <td>...</td>\n",
       "      <td>...</td>\n",
       "      <td>...</td>\n",
       "      <td>...</td>\n",
       "      <td>...</td>\n",
       "    </tr>\n",
       "    <tr>\n",
       "      <th>237982</th>\n",
       "      <td>서울특별시 중랑구 중화동</td>\n",
       "      <td>한영(104)</td>\n",
       "      <td>106.21</td>\n",
       "      <td>202003</td>\n",
       "      <td>11</td>\n",
       "      <td>45400</td>\n",
       "      <td>6</td>\n",
       "      <td>2003</td>\n",
       "      <td>427.455042</td>\n",
       "      <td>1410.601638</td>\n",
       "      <td>서울특별시</td>\n",
       "      <td>중랑구</td>\n",
       "      <td>중화동</td>\n",
       "      <td>기타</td>\n",
       "      <td>2020-03-11</td>\n",
       "      <td>800</td>\n",
       "      <td>11.0</td>\n",
       "      <td>0</td>\n",
       "      <td>174</td>\n",
       "      <td>6.0</td>\n",
       "      <td>0.0</td>\n",
       "    </tr>\n",
       "    <tr>\n",
       "      <th>237983</th>\n",
       "      <td>서울특별시 중랑구 중화동</td>\n",
       "      <td>한영(104)</td>\n",
       "      <td>67.57</td>\n",
       "      <td>202008</td>\n",
       "      <td>7</td>\n",
       "      <td>26000</td>\n",
       "      <td>2</td>\n",
       "      <td>2003</td>\n",
       "      <td>384.786148</td>\n",
       "      <td>1269.794287</td>\n",
       "      <td>서울특별시</td>\n",
       "      <td>중랑구</td>\n",
       "      <td>중화동</td>\n",
       "      <td>기타</td>\n",
       "      <td>2020-08-07</td>\n",
       "      <td>949</td>\n",
       "      <td>11.0</td>\n",
       "      <td>0</td>\n",
       "      <td>174</td>\n",
       "      <td>6.0</td>\n",
       "      <td>0.0</td>\n",
       "    </tr>\n",
       "    <tr>\n",
       "      <th>237984</th>\n",
       "      <td>서울특별시 중랑구 중화동</td>\n",
       "      <td>현대휴앤미</td>\n",
       "      <td>95.94</td>\n",
       "      <td>202007</td>\n",
       "      <td>10</td>\n",
       "      <td>44000</td>\n",
       "      <td>6</td>\n",
       "      <td>2007</td>\n",
       "      <td>458.619971</td>\n",
       "      <td>1513.445904</td>\n",
       "      <td>서울특별시</td>\n",
       "      <td>중랑구</td>\n",
       "      <td>중화동</td>\n",
       "      <td>현대</td>\n",
       "      <td>2020-07-10</td>\n",
       "      <td>921</td>\n",
       "      <td>11.0</td>\n",
       "      <td>0</td>\n",
       "      <td>174</td>\n",
       "      <td>6.0</td>\n",
       "      <td>0.0</td>\n",
       "    </tr>\n",
       "    <tr>\n",
       "      <th>237985</th>\n",
       "      <td>서울특별시 중랑구 중화동</td>\n",
       "      <td>현대휴앤미</td>\n",
       "      <td>100.17</td>\n",
       "      <td>202012</td>\n",
       "      <td>3</td>\n",
       "      <td>54800</td>\n",
       "      <td>5</td>\n",
       "      <td>2007</td>\n",
       "      <td>547.069981</td>\n",
       "      <td>1805.330937</td>\n",
       "      <td>서울특별시</td>\n",
       "      <td>중랑구</td>\n",
       "      <td>중화동</td>\n",
       "      <td>현대</td>\n",
       "      <td>2020-12-03</td>\n",
       "      <td>1067</td>\n",
       "      <td>11.0</td>\n",
       "      <td>0</td>\n",
       "      <td>174</td>\n",
       "      <td>6.0</td>\n",
       "      <td>0.0</td>\n",
       "    </tr>\n",
       "    <tr>\n",
       "      <th>237986</th>\n",
       "      <td>서울특별시 중랑구 중화동</td>\n",
       "      <td>현대휴앤미(102동)</td>\n",
       "      <td>77.71</td>\n",
       "      <td>202009</td>\n",
       "      <td>28</td>\n",
       "      <td>40000</td>\n",
       "      <td>5</td>\n",
       "      <td>2007</td>\n",
       "      <td>514.734268</td>\n",
       "      <td>1698.623086</td>\n",
       "      <td>서울특별시</td>\n",
       "      <td>중랑구</td>\n",
       "      <td>중화동</td>\n",
       "      <td>현대</td>\n",
       "      <td>2020-09-28</td>\n",
       "      <td>1001</td>\n",
       "      <td>11.0</td>\n",
       "      <td>0</td>\n",
       "      <td>174</td>\n",
       "      <td>6.0</td>\n",
       "      <td>0.0</td>\n",
       "    </tr>\n",
       "  </tbody>\n",
       "</table>\n",
       "<p>237987 rows × 21 columns</p>\n",
       "</div>"
      ],
      "text/plain": [
       "                  시군구             단지명    전용면적    계약년월  계약일    거래금액  층  건축년도  \\\n",
       "0       서울특별시 강남구 개포동  개포6차우성아파트1동~8동   79.97  201801    3  130000  4  1987   \n",
       "1       서울특별시 강남구 개포동  개포6차우성아파트1동~8동   79.97  201801    8  117000  2  1987   \n",
       "2       서울특별시 강남구 개포동  개포6차우성아파트1동~8동   79.97  201801   11  130000  1  1987   \n",
       "3       서울특별시 강남구 개포동  개포6차우성아파트1동~8동   79.97  201803   19  139500  2  1987   \n",
       "4       서울특별시 강남구 개포동  개포6차우성아파트1동~8동   54.98  201804    5  107500  5  1987   \n",
       "...               ...             ...     ...     ...  ...     ... ..   ...   \n",
       "237982  서울특별시 중랑구 중화동         한영(104)  106.21  202003   11   45400  6  2003   \n",
       "237983  서울특별시 중랑구 중화동         한영(104)   67.57  202008    7   26000  2  2003   \n",
       "237984  서울특별시 중랑구 중화동           현대휴앤미   95.94  202007   10   44000  6  2007   \n",
       "237985  서울특별시 중랑구 중화동           현대휴앤미  100.17  202012    3   54800  5  2007   \n",
       "237986  서울특별시 중랑구 중화동     현대휴앤미(102동)   77.71  202009   28   40000  5  2007   \n",
       "\n",
       "             제곱미터단가         평당단가      시    구    동 단지명브랜드        계약날짜  계약날짜인코딩  \\\n",
       "0       1625.609604  5364.511692  서울특별시  강남구  개포동     기타  2018-01-03        2   \n",
       "1       1463.048643  4828.060523  서울특별시  강남구  개포동     기타  2018-01-08        7   \n",
       "2       1625.609604  5364.511692  서울특별시  강남구  개포동     기타  2018-01-11       10   \n",
       "3       1744.404152  5756.533700  서울특별시  강남구  개포동     기타  2018-03-19       77   \n",
       "4       1955.256457  6452.346308  서울특별시  강남구  개포동     기타  2018-04-05       94   \n",
       "...             ...          ...    ...  ...  ...    ...         ...      ...   \n",
       "237982   427.455042  1410.601638  서울특별시  중랑구  중화동     기타  2020-03-11      800   \n",
       "237983   384.786148  1269.794287  서울특별시  중랑구  중화동     기타  2020-08-07      949   \n",
       "237984   458.619971  1513.445904  서울특별시  중랑구  중화동     현대  2020-07-10      921   \n",
       "237985   547.069981  1805.330937  서울특별시  중랑구  중화동     현대  2020-12-03     1067   \n",
       "237986   514.734268  1698.623086  서울특별시  중랑구  중화동     현대  2020-09-28     1001   \n",
       "\n",
       "        구별 공원 갯수  8학군  구별 교과학원 갯수  구별 대형마트 수  구별 백화점 수  \n",
       "0          132.0    1        1304        1.0       6.0  \n",
       "1          132.0    1        1304        1.0       6.0  \n",
       "2          132.0    1        1304        1.0       6.0  \n",
       "3          132.0    1        1304        1.0       6.0  \n",
       "4          132.0    1        1304        1.0       6.0  \n",
       "...          ...  ...         ...        ...       ...  \n",
       "237982      11.0    0         174        6.0       0.0  \n",
       "237983      11.0    0         174        6.0       0.0  \n",
       "237984      11.0    0         174        6.0       0.0  \n",
       "237985      11.0    0         174        6.0       0.0  \n",
       "237986      11.0    0         174        6.0       0.0  \n",
       "\n",
       "[237987 rows x 21 columns]"
      ]
     },
     "execution_count": 102,
     "metadata": {},
     "output_type": "execute_result"
    }
   ],
   "source": [
    "train_data"
   ]
  },
  {
   "cell_type": "code",
   "execution_count": 103,
   "id": "b7a738d6",
   "metadata": {
    "scrolled": false
   },
   "outputs": [
    {
     "data": {
      "text/plain": [
       "4.0    64412\n",
       "2.0    53856\n",
       "6.0    32395\n",
       "3.0    31136\n",
       "1.0    16256\n",
       "5.0    16236\n",
       "7.0    11842\n",
       "8.0     9765\n",
       "0.0     2089\n",
       "Name: 구별 전체 마트 수, dtype: int64"
      ]
     },
     "execution_count": 103,
     "metadata": {},
     "output_type": "execute_result"
    }
   ],
   "source": [
    "# 구별 전체 마트 수 원본 데이터에 매핑\n",
    "all_count_by_gu = group_by_gu[['자치구', '전체 마트 수']]\n",
    "all_guname = list(all_count_by_gu['자치구'])\n",
    "all_guvalue = list(all_count_by_gu['전체 마트 수'])\n",
    "all_count_by_gu = pd.Series(index=all_guname, data=all_guvalue)\n",
    "\n",
    "train_data['구별 전체 마트 수'] = train_data['구'].map(all_count_by_gu).fillna(0)\n",
    "train_data['구별 전체 마트 수'].value_counts()"
   ]
  },
  {
   "cell_type": "code",
   "execution_count": 104,
   "id": "afdccbb1",
   "metadata": {},
   "outputs": [
    {
     "name": "stdout",
     "output_type": "stream",
     "text": [
      "train_data.csv , 유통업체까지 csv로 저장되었습니다.\n"
     ]
    }
   ],
   "source": [
    "# 중간 저장\n",
    "train_data.to_csv('train_data.csv', encoding='utf-8-sig', index=False)\n",
    "print('train_data.csv , 유통업체까지 csv로 저장되었습니다.')"
   ]
  },
  {
   "cell_type": "markdown",
   "id": "891eec7c",
   "metadata": {},
   "source": [
    "### 병원"
   ]
  },
  {
   "cell_type": "code",
   "execution_count": 105,
   "id": "3b501b22",
   "metadata": {
    "scrolled": true
   },
   "outputs": [
    {
     "data": {
      "text/html": [
       "<div>\n",
       "<style scoped>\n",
       "    .dataframe tbody tr th:only-of-type {\n",
       "        vertical-align: middle;\n",
       "    }\n",
       "\n",
       "    .dataframe tbody tr th {\n",
       "        vertical-align: top;\n",
       "    }\n",
       "\n",
       "    .dataframe thead th {\n",
       "        text-align: right;\n",
       "    }\n",
       "</style>\n",
       "<table border=\"1\" class=\"dataframe\">\n",
       "  <thead>\n",
       "    <tr style=\"text-align: right;\">\n",
       "      <th></th>\n",
       "      <th>자치구</th>\n",
       "      <th>대학병원 병원수</th>\n",
       "      <th>대학병원 병상수</th>\n",
       "      <th>종합 병원수</th>\n",
       "      <th>종합 병상수</th>\n",
       "    </tr>\n",
       "  </thead>\n",
       "  <tbody>\n",
       "    <tr>\n",
       "      <th>0</th>\n",
       "      <td>종로구</td>\n",
       "      <td>0</td>\n",
       "      <td>0</td>\n",
       "      <td>0</td>\n",
       "      <td>0</td>\n",
       "    </tr>\n",
       "    <tr>\n",
       "      <th>1</th>\n",
       "      <td>종로구</td>\n",
       "      <td>0</td>\n",
       "      <td>0</td>\n",
       "      <td>1</td>\n",
       "      <td>30</td>\n",
       "    </tr>\n",
       "    <tr>\n",
       "      <th>2</th>\n",
       "      <td>종로구</td>\n",
       "      <td>0</td>\n",
       "      <td>0</td>\n",
       "      <td>0</td>\n",
       "      <td>0</td>\n",
       "    </tr>\n",
       "    <tr>\n",
       "      <th>3</th>\n",
       "      <td>종로구</td>\n",
       "      <td>0</td>\n",
       "      <td>0</td>\n",
       "      <td>1</td>\n",
       "      <td>123</td>\n",
       "    </tr>\n",
       "    <tr>\n",
       "      <th>4</th>\n",
       "      <td>종로구</td>\n",
       "      <td>1</td>\n",
       "      <td>218</td>\n",
       "      <td>0</td>\n",
       "      <td>0</td>\n",
       "    </tr>\n",
       "    <tr>\n",
       "      <th>...</th>\n",
       "      <td>...</td>\n",
       "      <td>...</td>\n",
       "      <td>...</td>\n",
       "      <td>...</td>\n",
       "      <td>...</td>\n",
       "    </tr>\n",
       "    <tr>\n",
       "      <th>419</th>\n",
       "      <td>강동구</td>\n",
       "      <td>0</td>\n",
       "      <td>0</td>\n",
       "      <td>0</td>\n",
       "      <td>0</td>\n",
       "    </tr>\n",
       "    <tr>\n",
       "      <th>420</th>\n",
       "      <td>강동구</td>\n",
       "      <td>1</td>\n",
       "      <td>965</td>\n",
       "      <td>0</td>\n",
       "      <td>0</td>\n",
       "    </tr>\n",
       "    <tr>\n",
       "      <th>421</th>\n",
       "      <td>강동구</td>\n",
       "      <td>0</td>\n",
       "      <td>0</td>\n",
       "      <td>0</td>\n",
       "      <td>0</td>\n",
       "    </tr>\n",
       "    <tr>\n",
       "      <th>422</th>\n",
       "      <td>강동구</td>\n",
       "      <td>0</td>\n",
       "      <td>0</td>\n",
       "      <td>1</td>\n",
       "      <td>32</td>\n",
       "    </tr>\n",
       "    <tr>\n",
       "      <th>423</th>\n",
       "      <td>강동구</td>\n",
       "      <td>1</td>\n",
       "      <td>620</td>\n",
       "      <td>3</td>\n",
       "      <td>237</td>\n",
       "    </tr>\n",
       "  </tbody>\n",
       "</table>\n",
       "<p>424 rows × 5 columns</p>\n",
       "</div>"
      ],
      "text/plain": [
       "     자치구  대학병원 병원수  대학병원 병상수  종합 병원수  종합 병상수\n",
       "0    종로구         0         0       0       0\n",
       "1    종로구         0         0       1      30\n",
       "2    종로구         0         0       0       0\n",
       "3    종로구         0         0       1     123\n",
       "4    종로구         1       218       0       0\n",
       "..   ...       ...       ...     ...     ...\n",
       "419  강동구         0         0       0       0\n",
       "420  강동구         1       965       0       0\n",
       "421  강동구         0         0       0       0\n",
       "422  강동구         0         0       1      32\n",
       "423  강동구         1       620       3     237\n",
       "\n",
       "[424 rows x 5 columns]"
      ]
     },
     "execution_count": 105,
     "metadata": {},
     "output_type": "execute_result"
    }
   ],
   "source": [
    "# 병원 데이터 불러오기\n",
    "hospital_data = pd.read_csv('병원.csv')\n",
    "hospital_data.drop('동', axis=1, inplace=True)\n",
    "hospital_data"
   ]
  },
  {
   "cell_type": "code",
   "execution_count": 106,
   "id": "e5a20c63",
   "metadata": {},
   "outputs": [
    {
     "data": {
      "text/html": [
       "<div>\n",
       "<style scoped>\n",
       "    .dataframe tbody tr th:only-of-type {\n",
       "        vertical-align: middle;\n",
       "    }\n",
       "\n",
       "    .dataframe tbody tr th {\n",
       "        vertical-align: top;\n",
       "    }\n",
       "\n",
       "    .dataframe thead th {\n",
       "        text-align: right;\n",
       "    }\n",
       "</style>\n",
       "<table border=\"1\" class=\"dataframe\">\n",
       "  <thead>\n",
       "    <tr style=\"text-align: right;\">\n",
       "      <th></th>\n",
       "      <th>자치구</th>\n",
       "      <th>대학병원 병원수</th>\n",
       "      <th>종합 병원수</th>\n",
       "    </tr>\n",
       "  </thead>\n",
       "  <tbody>\n",
       "    <tr>\n",
       "      <th>0</th>\n",
       "      <td>강남구</td>\n",
       "      <td>4</td>\n",
       "      <td>33</td>\n",
       "    </tr>\n",
       "    <tr>\n",
       "      <th>1</th>\n",
       "      <td>강동구</td>\n",
       "      <td>3</td>\n",
       "      <td>14</td>\n",
       "    </tr>\n",
       "    <tr>\n",
       "      <th>2</th>\n",
       "      <td>강북구</td>\n",
       "      <td>1</td>\n",
       "      <td>8</td>\n",
       "    </tr>\n",
       "    <tr>\n",
       "      <th>3</th>\n",
       "      <td>강서구</td>\n",
       "      <td>3</td>\n",
       "      <td>16</td>\n",
       "    </tr>\n",
       "    <tr>\n",
       "      <th>4</th>\n",
       "      <td>관악구</td>\n",
       "      <td>2</td>\n",
       "      <td>8</td>\n",
       "    </tr>\n",
       "    <tr>\n",
       "      <th>5</th>\n",
       "      <td>광진구</td>\n",
       "      <td>2</td>\n",
       "      <td>3</td>\n",
       "    </tr>\n",
       "    <tr>\n",
       "      <th>6</th>\n",
       "      <td>구로구</td>\n",
       "      <td>2</td>\n",
       "      <td>8</td>\n",
       "    </tr>\n",
       "    <tr>\n",
       "      <th>7</th>\n",
       "      <td>금천구</td>\n",
       "      <td>1</td>\n",
       "      <td>6</td>\n",
       "    </tr>\n",
       "    <tr>\n",
       "      <th>8</th>\n",
       "      <td>노원구</td>\n",
       "      <td>3</td>\n",
       "      <td>7</td>\n",
       "    </tr>\n",
       "    <tr>\n",
       "      <th>9</th>\n",
       "      <td>도봉구</td>\n",
       "      <td>1</td>\n",
       "      <td>5</td>\n",
       "    </tr>\n",
       "    <tr>\n",
       "      <th>10</th>\n",
       "      <td>동대문구</td>\n",
       "      <td>5</td>\n",
       "      <td>14</td>\n",
       "    </tr>\n",
       "    <tr>\n",
       "      <th>11</th>\n",
       "      <td>동작구</td>\n",
       "      <td>2</td>\n",
       "      <td>5</td>\n",
       "    </tr>\n",
       "    <tr>\n",
       "      <th>12</th>\n",
       "      <td>마포구</td>\n",
       "      <td>0</td>\n",
       "      <td>2</td>\n",
       "    </tr>\n",
       "    <tr>\n",
       "      <th>13</th>\n",
       "      <td>서대문구</td>\n",
       "      <td>2</td>\n",
       "      <td>4</td>\n",
       "    </tr>\n",
       "    <tr>\n",
       "      <th>14</th>\n",
       "      <td>서초구</td>\n",
       "      <td>1</td>\n",
       "      <td>10</td>\n",
       "    </tr>\n",
       "    <tr>\n",
       "      <th>15</th>\n",
       "      <td>성동구</td>\n",
       "      <td>1</td>\n",
       "      <td>7</td>\n",
       "    </tr>\n",
       "    <tr>\n",
       "      <th>16</th>\n",
       "      <td>성북구</td>\n",
       "      <td>1</td>\n",
       "      <td>6</td>\n",
       "    </tr>\n",
       "    <tr>\n",
       "      <th>17</th>\n",
       "      <td>송파구</td>\n",
       "      <td>2</td>\n",
       "      <td>16</td>\n",
       "    </tr>\n",
       "    <tr>\n",
       "      <th>18</th>\n",
       "      <td>양천구</td>\n",
       "      <td>2</td>\n",
       "      <td>5</td>\n",
       "    </tr>\n",
       "    <tr>\n",
       "      <th>19</th>\n",
       "      <td>영등포구</td>\n",
       "      <td>7</td>\n",
       "      <td>9</td>\n",
       "    </tr>\n",
       "    <tr>\n",
       "      <th>20</th>\n",
       "      <td>용산구</td>\n",
       "      <td>1</td>\n",
       "      <td>2</td>\n",
       "    </tr>\n",
       "    <tr>\n",
       "      <th>21</th>\n",
       "      <td>은평구</td>\n",
       "      <td>1</td>\n",
       "      <td>9</td>\n",
       "    </tr>\n",
       "    <tr>\n",
       "      <th>22</th>\n",
       "      <td>종로구</td>\n",
       "      <td>4</td>\n",
       "      <td>2</td>\n",
       "    </tr>\n",
       "    <tr>\n",
       "      <th>23</th>\n",
       "      <td>중구</td>\n",
       "      <td>3</td>\n",
       "      <td>3</td>\n",
       "    </tr>\n",
       "    <tr>\n",
       "      <th>24</th>\n",
       "      <td>중랑구</td>\n",
       "      <td>3</td>\n",
       "      <td>12</td>\n",
       "    </tr>\n",
       "  </tbody>\n",
       "</table>\n",
       "</div>"
      ],
      "text/plain": [
       "     자치구  대학병원 병원수  종합 병원수\n",
       "0    강남구         4      33\n",
       "1    강동구         3      14\n",
       "2    강북구         1       8\n",
       "3    강서구         3      16\n",
       "4    관악구         2       8\n",
       "5    광진구         2       3\n",
       "6    구로구         2       8\n",
       "7    금천구         1       6\n",
       "8    노원구         3       7\n",
       "9    도봉구         1       5\n",
       "10  동대문구         5      14\n",
       "11   동작구         2       5\n",
       "12   마포구         0       2\n",
       "13  서대문구         2       4\n",
       "14   서초구         1      10\n",
       "15   성동구         1       7\n",
       "16   성북구         1       6\n",
       "17   송파구         2      16\n",
       "18   양천구         2       5\n",
       "19  영등포구         7       9\n",
       "20   용산구         1       2\n",
       "21   은평구         1       9\n",
       "22   종로구         4       2\n",
       "23    중구         3       3\n",
       "24   중랑구         3      12"
      ]
     },
     "execution_count": 106,
     "metadata": {},
     "output_type": "execute_result"
    }
   ],
   "source": [
    "# 구별 종합병원수, 종합병상수 count\n",
    "group_by_gu = hospital_data.groupby('자치구').sum()\n",
    "group_by_gu = group_by_gu.reset_index()\n",
    "group_by_gu.drop(['대학병원 병상수','종합 병상수'], axis=1, inplace=True)\n",
    "group_by_gu"
   ]
  },
  {
   "cell_type": "code",
   "execution_count": 107,
   "id": "ec70672a",
   "metadata": {},
   "outputs": [
    {
     "data": {
      "text/html": [
       "<div>\n",
       "<style scoped>\n",
       "    .dataframe tbody tr th:only-of-type {\n",
       "        vertical-align: middle;\n",
       "    }\n",
       "\n",
       "    .dataframe tbody tr th {\n",
       "        vertical-align: top;\n",
       "    }\n",
       "\n",
       "    .dataframe thead th {\n",
       "        text-align: right;\n",
       "    }\n",
       "</style>\n",
       "<table border=\"1\" class=\"dataframe\">\n",
       "  <thead>\n",
       "    <tr style=\"text-align: right;\">\n",
       "      <th></th>\n",
       "      <th>대학병원 병원수</th>\n",
       "      <th>종합 병원수</th>\n",
       "    </tr>\n",
       "    <tr>\n",
       "      <th>자치구</th>\n",
       "      <th></th>\n",
       "      <th></th>\n",
       "    </tr>\n",
       "  </thead>\n",
       "  <tbody>\n",
       "    <tr>\n",
       "      <th>강남구</th>\n",
       "      <td>4</td>\n",
       "      <td>33</td>\n",
       "    </tr>\n",
       "    <tr>\n",
       "      <th>강동구</th>\n",
       "      <td>3</td>\n",
       "      <td>14</td>\n",
       "    </tr>\n",
       "    <tr>\n",
       "      <th>강북구</th>\n",
       "      <td>1</td>\n",
       "      <td>8</td>\n",
       "    </tr>\n",
       "    <tr>\n",
       "      <th>강서구</th>\n",
       "      <td>3</td>\n",
       "      <td>16</td>\n",
       "    </tr>\n",
       "    <tr>\n",
       "      <th>관악구</th>\n",
       "      <td>2</td>\n",
       "      <td>8</td>\n",
       "    </tr>\n",
       "    <tr>\n",
       "      <th>광진구</th>\n",
       "      <td>2</td>\n",
       "      <td>3</td>\n",
       "    </tr>\n",
       "    <tr>\n",
       "      <th>구로구</th>\n",
       "      <td>2</td>\n",
       "      <td>8</td>\n",
       "    </tr>\n",
       "    <tr>\n",
       "      <th>금천구</th>\n",
       "      <td>1</td>\n",
       "      <td>6</td>\n",
       "    </tr>\n",
       "    <tr>\n",
       "      <th>노원구</th>\n",
       "      <td>3</td>\n",
       "      <td>7</td>\n",
       "    </tr>\n",
       "    <tr>\n",
       "      <th>도봉구</th>\n",
       "      <td>1</td>\n",
       "      <td>5</td>\n",
       "    </tr>\n",
       "    <tr>\n",
       "      <th>동대문구</th>\n",
       "      <td>5</td>\n",
       "      <td>14</td>\n",
       "    </tr>\n",
       "    <tr>\n",
       "      <th>동작구</th>\n",
       "      <td>2</td>\n",
       "      <td>5</td>\n",
       "    </tr>\n",
       "    <tr>\n",
       "      <th>마포구</th>\n",
       "      <td>0</td>\n",
       "      <td>2</td>\n",
       "    </tr>\n",
       "    <tr>\n",
       "      <th>서대문구</th>\n",
       "      <td>2</td>\n",
       "      <td>4</td>\n",
       "    </tr>\n",
       "    <tr>\n",
       "      <th>서초구</th>\n",
       "      <td>1</td>\n",
       "      <td>10</td>\n",
       "    </tr>\n",
       "    <tr>\n",
       "      <th>성동구</th>\n",
       "      <td>1</td>\n",
       "      <td>7</td>\n",
       "    </tr>\n",
       "    <tr>\n",
       "      <th>성북구</th>\n",
       "      <td>1</td>\n",
       "      <td>6</td>\n",
       "    </tr>\n",
       "    <tr>\n",
       "      <th>송파구</th>\n",
       "      <td>2</td>\n",
       "      <td>16</td>\n",
       "    </tr>\n",
       "    <tr>\n",
       "      <th>양천구</th>\n",
       "      <td>2</td>\n",
       "      <td>5</td>\n",
       "    </tr>\n",
       "    <tr>\n",
       "      <th>영등포구</th>\n",
       "      <td>7</td>\n",
       "      <td>9</td>\n",
       "    </tr>\n",
       "    <tr>\n",
       "      <th>용산구</th>\n",
       "      <td>1</td>\n",
       "      <td>2</td>\n",
       "    </tr>\n",
       "    <tr>\n",
       "      <th>은평구</th>\n",
       "      <td>1</td>\n",
       "      <td>9</td>\n",
       "    </tr>\n",
       "    <tr>\n",
       "      <th>종로구</th>\n",
       "      <td>4</td>\n",
       "      <td>2</td>\n",
       "    </tr>\n",
       "    <tr>\n",
       "      <th>중구</th>\n",
       "      <td>3</td>\n",
       "      <td>3</td>\n",
       "    </tr>\n",
       "    <tr>\n",
       "      <th>중랑구</th>\n",
       "      <td>3</td>\n",
       "      <td>12</td>\n",
       "    </tr>\n",
       "  </tbody>\n",
       "</table>\n",
       "</div>"
      ],
      "text/plain": [
       "      대학병원 병원수  종합 병원수\n",
       "자치구                   \n",
       "강남구          4      33\n",
       "강동구          3      14\n",
       "강북구          1       8\n",
       "강서구          3      16\n",
       "관악구          2       8\n",
       "광진구          2       3\n",
       "구로구          2       8\n",
       "금천구          1       6\n",
       "노원구          3       7\n",
       "도봉구          1       5\n",
       "동대문구         5      14\n",
       "동작구          2       5\n",
       "마포구          0       2\n",
       "서대문구         2       4\n",
       "서초구          1      10\n",
       "성동구          1       7\n",
       "성북구          1       6\n",
       "송파구          2      16\n",
       "양천구          2       5\n",
       "영등포구         7       9\n",
       "용산구          1       2\n",
       "은평구          1       9\n",
       "종로구          4       2\n",
       "중구           3       3\n",
       "중랑구          3      12"
      ]
     },
     "execution_count": 107,
     "metadata": {},
     "output_type": "execute_result"
    }
   ],
   "source": [
    "group_by_gu=group_by_gu.set_index('자치구', drop=True)\n",
    "group_by_gu"
   ]
  },
  {
   "cell_type": "code",
   "execution_count": 108,
   "id": "53280114",
   "metadata": {},
   "outputs": [
    {
     "data": {
      "text/html": [
       "<div>\n",
       "<style scoped>\n",
       "    .dataframe tbody tr th:only-of-type {\n",
       "        vertical-align: middle;\n",
       "    }\n",
       "\n",
       "    .dataframe tbody tr th {\n",
       "        vertical-align: top;\n",
       "    }\n",
       "\n",
       "    .dataframe thead th {\n",
       "        text-align: right;\n",
       "    }\n",
       "</style>\n",
       "<table border=\"1\" class=\"dataframe\">\n",
       "  <thead>\n",
       "    <tr style=\"text-align: right;\">\n",
       "      <th></th>\n",
       "      <th>시군구</th>\n",
       "      <th>단지명</th>\n",
       "      <th>전용면적</th>\n",
       "      <th>계약년월</th>\n",
       "      <th>계약일</th>\n",
       "      <th>거래금액</th>\n",
       "      <th>층</th>\n",
       "      <th>건축년도</th>\n",
       "      <th>제곱미터단가</th>\n",
       "      <th>평당단가</th>\n",
       "      <th>시</th>\n",
       "      <th>구</th>\n",
       "      <th>동</th>\n",
       "      <th>단지명브랜드</th>\n",
       "      <th>계약날짜</th>\n",
       "      <th>계약날짜인코딩</th>\n",
       "      <th>구별 공원 갯수</th>\n",
       "      <th>8학군</th>\n",
       "      <th>구별 교과학원 갯수</th>\n",
       "      <th>구별 대형마트 수</th>\n",
       "      <th>구별 백화점 수</th>\n",
       "      <th>구별 전체 마트 수</th>\n",
       "      <th>구별 대학병원 병원수</th>\n",
       "      <th>구별 종합병원 병원수</th>\n",
       "    </tr>\n",
       "  </thead>\n",
       "  <tbody>\n",
       "    <tr>\n",
       "      <th>0</th>\n",
       "      <td>서울특별시 강남구 개포동</td>\n",
       "      <td>개포6차우성아파트1동~8동</td>\n",
       "      <td>79.97</td>\n",
       "      <td>201801</td>\n",
       "      <td>3</td>\n",
       "      <td>130000</td>\n",
       "      <td>4</td>\n",
       "      <td>1987</td>\n",
       "      <td>1625.609604</td>\n",
       "      <td>5364.511692</td>\n",
       "      <td>서울특별시</td>\n",
       "      <td>강남구</td>\n",
       "      <td>개포동</td>\n",
       "      <td>기타</td>\n",
       "      <td>2018-01-03</td>\n",
       "      <td>2</td>\n",
       "      <td>132.0</td>\n",
       "      <td>1</td>\n",
       "      <td>1304</td>\n",
       "      <td>1.0</td>\n",
       "      <td>6.0</td>\n",
       "      <td>7.0</td>\n",
       "      <td>4</td>\n",
       "      <td>33</td>\n",
       "    </tr>\n",
       "    <tr>\n",
       "      <th>1</th>\n",
       "      <td>서울특별시 강남구 개포동</td>\n",
       "      <td>개포6차우성아파트1동~8동</td>\n",
       "      <td>79.97</td>\n",
       "      <td>201801</td>\n",
       "      <td>8</td>\n",
       "      <td>117000</td>\n",
       "      <td>2</td>\n",
       "      <td>1987</td>\n",
       "      <td>1463.048643</td>\n",
       "      <td>4828.060523</td>\n",
       "      <td>서울특별시</td>\n",
       "      <td>강남구</td>\n",
       "      <td>개포동</td>\n",
       "      <td>기타</td>\n",
       "      <td>2018-01-08</td>\n",
       "      <td>7</td>\n",
       "      <td>132.0</td>\n",
       "      <td>1</td>\n",
       "      <td>1304</td>\n",
       "      <td>1.0</td>\n",
       "      <td>6.0</td>\n",
       "      <td>7.0</td>\n",
       "      <td>4</td>\n",
       "      <td>33</td>\n",
       "    </tr>\n",
       "    <tr>\n",
       "      <th>2</th>\n",
       "      <td>서울특별시 강남구 개포동</td>\n",
       "      <td>개포6차우성아파트1동~8동</td>\n",
       "      <td>79.97</td>\n",
       "      <td>201801</td>\n",
       "      <td>11</td>\n",
       "      <td>130000</td>\n",
       "      <td>1</td>\n",
       "      <td>1987</td>\n",
       "      <td>1625.609604</td>\n",
       "      <td>5364.511692</td>\n",
       "      <td>서울특별시</td>\n",
       "      <td>강남구</td>\n",
       "      <td>개포동</td>\n",
       "      <td>기타</td>\n",
       "      <td>2018-01-11</td>\n",
       "      <td>10</td>\n",
       "      <td>132.0</td>\n",
       "      <td>1</td>\n",
       "      <td>1304</td>\n",
       "      <td>1.0</td>\n",
       "      <td>6.0</td>\n",
       "      <td>7.0</td>\n",
       "      <td>4</td>\n",
       "      <td>33</td>\n",
       "    </tr>\n",
       "    <tr>\n",
       "      <th>3</th>\n",
       "      <td>서울특별시 강남구 개포동</td>\n",
       "      <td>개포6차우성아파트1동~8동</td>\n",
       "      <td>79.97</td>\n",
       "      <td>201803</td>\n",
       "      <td>19</td>\n",
       "      <td>139500</td>\n",
       "      <td>2</td>\n",
       "      <td>1987</td>\n",
       "      <td>1744.404152</td>\n",
       "      <td>5756.533700</td>\n",
       "      <td>서울특별시</td>\n",
       "      <td>강남구</td>\n",
       "      <td>개포동</td>\n",
       "      <td>기타</td>\n",
       "      <td>2018-03-19</td>\n",
       "      <td>77</td>\n",
       "      <td>132.0</td>\n",
       "      <td>1</td>\n",
       "      <td>1304</td>\n",
       "      <td>1.0</td>\n",
       "      <td>6.0</td>\n",
       "      <td>7.0</td>\n",
       "      <td>4</td>\n",
       "      <td>33</td>\n",
       "    </tr>\n",
       "    <tr>\n",
       "      <th>4</th>\n",
       "      <td>서울특별시 강남구 개포동</td>\n",
       "      <td>개포6차우성아파트1동~8동</td>\n",
       "      <td>54.98</td>\n",
       "      <td>201804</td>\n",
       "      <td>5</td>\n",
       "      <td>107500</td>\n",
       "      <td>5</td>\n",
       "      <td>1987</td>\n",
       "      <td>1955.256457</td>\n",
       "      <td>6452.346308</td>\n",
       "      <td>서울특별시</td>\n",
       "      <td>강남구</td>\n",
       "      <td>개포동</td>\n",
       "      <td>기타</td>\n",
       "      <td>2018-04-05</td>\n",
       "      <td>94</td>\n",
       "      <td>132.0</td>\n",
       "      <td>1</td>\n",
       "      <td>1304</td>\n",
       "      <td>1.0</td>\n",
       "      <td>6.0</td>\n",
       "      <td>7.0</td>\n",
       "      <td>4</td>\n",
       "      <td>33</td>\n",
       "    </tr>\n",
       "    <tr>\n",
       "      <th>...</th>\n",
       "      <td>...</td>\n",
       "      <td>...</td>\n",
       "      <td>...</td>\n",
       "      <td>...</td>\n",
       "      <td>...</td>\n",
       "      <td>...</td>\n",
       "      <td>...</td>\n",
       "      <td>...</td>\n",
       "      <td>...</td>\n",
       "      <td>...</td>\n",
       "      <td>...</td>\n",
       "      <td>...</td>\n",
       "      <td>...</td>\n",
       "      <td>...</td>\n",
       "      <td>...</td>\n",
       "      <td>...</td>\n",
       "      <td>...</td>\n",
       "      <td>...</td>\n",
       "      <td>...</td>\n",
       "      <td>...</td>\n",
       "      <td>...</td>\n",
       "      <td>...</td>\n",
       "      <td>...</td>\n",
       "      <td>...</td>\n",
       "    </tr>\n",
       "    <tr>\n",
       "      <th>237982</th>\n",
       "      <td>서울특별시 중랑구 중화동</td>\n",
       "      <td>한영(104)</td>\n",
       "      <td>106.21</td>\n",
       "      <td>202003</td>\n",
       "      <td>11</td>\n",
       "      <td>45400</td>\n",
       "      <td>6</td>\n",
       "      <td>2003</td>\n",
       "      <td>427.455042</td>\n",
       "      <td>1410.601638</td>\n",
       "      <td>서울특별시</td>\n",
       "      <td>중랑구</td>\n",
       "      <td>중화동</td>\n",
       "      <td>기타</td>\n",
       "      <td>2020-03-11</td>\n",
       "      <td>800</td>\n",
       "      <td>11.0</td>\n",
       "      <td>0</td>\n",
       "      <td>174</td>\n",
       "      <td>6.0</td>\n",
       "      <td>0.0</td>\n",
       "      <td>6.0</td>\n",
       "      <td>3</td>\n",
       "      <td>12</td>\n",
       "    </tr>\n",
       "    <tr>\n",
       "      <th>237983</th>\n",
       "      <td>서울특별시 중랑구 중화동</td>\n",
       "      <td>한영(104)</td>\n",
       "      <td>67.57</td>\n",
       "      <td>202008</td>\n",
       "      <td>7</td>\n",
       "      <td>26000</td>\n",
       "      <td>2</td>\n",
       "      <td>2003</td>\n",
       "      <td>384.786148</td>\n",
       "      <td>1269.794287</td>\n",
       "      <td>서울특별시</td>\n",
       "      <td>중랑구</td>\n",
       "      <td>중화동</td>\n",
       "      <td>기타</td>\n",
       "      <td>2020-08-07</td>\n",
       "      <td>949</td>\n",
       "      <td>11.0</td>\n",
       "      <td>0</td>\n",
       "      <td>174</td>\n",
       "      <td>6.0</td>\n",
       "      <td>0.0</td>\n",
       "      <td>6.0</td>\n",
       "      <td>3</td>\n",
       "      <td>12</td>\n",
       "    </tr>\n",
       "    <tr>\n",
       "      <th>237984</th>\n",
       "      <td>서울특별시 중랑구 중화동</td>\n",
       "      <td>현대휴앤미</td>\n",
       "      <td>95.94</td>\n",
       "      <td>202007</td>\n",
       "      <td>10</td>\n",
       "      <td>44000</td>\n",
       "      <td>6</td>\n",
       "      <td>2007</td>\n",
       "      <td>458.619971</td>\n",
       "      <td>1513.445904</td>\n",
       "      <td>서울특별시</td>\n",
       "      <td>중랑구</td>\n",
       "      <td>중화동</td>\n",
       "      <td>현대</td>\n",
       "      <td>2020-07-10</td>\n",
       "      <td>921</td>\n",
       "      <td>11.0</td>\n",
       "      <td>0</td>\n",
       "      <td>174</td>\n",
       "      <td>6.0</td>\n",
       "      <td>0.0</td>\n",
       "      <td>6.0</td>\n",
       "      <td>3</td>\n",
       "      <td>12</td>\n",
       "    </tr>\n",
       "    <tr>\n",
       "      <th>237985</th>\n",
       "      <td>서울특별시 중랑구 중화동</td>\n",
       "      <td>현대휴앤미</td>\n",
       "      <td>100.17</td>\n",
       "      <td>202012</td>\n",
       "      <td>3</td>\n",
       "      <td>54800</td>\n",
       "      <td>5</td>\n",
       "      <td>2007</td>\n",
       "      <td>547.069981</td>\n",
       "      <td>1805.330937</td>\n",
       "      <td>서울특별시</td>\n",
       "      <td>중랑구</td>\n",
       "      <td>중화동</td>\n",
       "      <td>현대</td>\n",
       "      <td>2020-12-03</td>\n",
       "      <td>1067</td>\n",
       "      <td>11.0</td>\n",
       "      <td>0</td>\n",
       "      <td>174</td>\n",
       "      <td>6.0</td>\n",
       "      <td>0.0</td>\n",
       "      <td>6.0</td>\n",
       "      <td>3</td>\n",
       "      <td>12</td>\n",
       "    </tr>\n",
       "    <tr>\n",
       "      <th>237986</th>\n",
       "      <td>서울특별시 중랑구 중화동</td>\n",
       "      <td>현대휴앤미(102동)</td>\n",
       "      <td>77.71</td>\n",
       "      <td>202009</td>\n",
       "      <td>28</td>\n",
       "      <td>40000</td>\n",
       "      <td>5</td>\n",
       "      <td>2007</td>\n",
       "      <td>514.734268</td>\n",
       "      <td>1698.623086</td>\n",
       "      <td>서울특별시</td>\n",
       "      <td>중랑구</td>\n",
       "      <td>중화동</td>\n",
       "      <td>현대</td>\n",
       "      <td>2020-09-28</td>\n",
       "      <td>1001</td>\n",
       "      <td>11.0</td>\n",
       "      <td>0</td>\n",
       "      <td>174</td>\n",
       "      <td>6.0</td>\n",
       "      <td>0.0</td>\n",
       "      <td>6.0</td>\n",
       "      <td>3</td>\n",
       "      <td>12</td>\n",
       "    </tr>\n",
       "  </tbody>\n",
       "</table>\n",
       "<p>237987 rows × 24 columns</p>\n",
       "</div>"
      ],
      "text/plain": [
       "                  시군구             단지명    전용면적    계약년월  계약일    거래금액  층  건축년도  \\\n",
       "0       서울특별시 강남구 개포동  개포6차우성아파트1동~8동   79.97  201801    3  130000  4  1987   \n",
       "1       서울특별시 강남구 개포동  개포6차우성아파트1동~8동   79.97  201801    8  117000  2  1987   \n",
       "2       서울특별시 강남구 개포동  개포6차우성아파트1동~8동   79.97  201801   11  130000  1  1987   \n",
       "3       서울특별시 강남구 개포동  개포6차우성아파트1동~8동   79.97  201803   19  139500  2  1987   \n",
       "4       서울특별시 강남구 개포동  개포6차우성아파트1동~8동   54.98  201804    5  107500  5  1987   \n",
       "...               ...             ...     ...     ...  ...     ... ..   ...   \n",
       "237982  서울특별시 중랑구 중화동         한영(104)  106.21  202003   11   45400  6  2003   \n",
       "237983  서울특별시 중랑구 중화동         한영(104)   67.57  202008    7   26000  2  2003   \n",
       "237984  서울특별시 중랑구 중화동           현대휴앤미   95.94  202007   10   44000  6  2007   \n",
       "237985  서울특별시 중랑구 중화동           현대휴앤미  100.17  202012    3   54800  5  2007   \n",
       "237986  서울특별시 중랑구 중화동     현대휴앤미(102동)   77.71  202009   28   40000  5  2007   \n",
       "\n",
       "             제곱미터단가         평당단가      시    구    동 단지명브랜드        계약날짜  계약날짜인코딩  \\\n",
       "0       1625.609604  5364.511692  서울특별시  강남구  개포동     기타  2018-01-03        2   \n",
       "1       1463.048643  4828.060523  서울특별시  강남구  개포동     기타  2018-01-08        7   \n",
       "2       1625.609604  5364.511692  서울특별시  강남구  개포동     기타  2018-01-11       10   \n",
       "3       1744.404152  5756.533700  서울특별시  강남구  개포동     기타  2018-03-19       77   \n",
       "4       1955.256457  6452.346308  서울특별시  강남구  개포동     기타  2018-04-05       94   \n",
       "...             ...          ...    ...  ...  ...    ...         ...      ...   \n",
       "237982   427.455042  1410.601638  서울특별시  중랑구  중화동     기타  2020-03-11      800   \n",
       "237983   384.786148  1269.794287  서울특별시  중랑구  중화동     기타  2020-08-07      949   \n",
       "237984   458.619971  1513.445904  서울특별시  중랑구  중화동     현대  2020-07-10      921   \n",
       "237985   547.069981  1805.330937  서울특별시  중랑구  중화동     현대  2020-12-03     1067   \n",
       "237986   514.734268  1698.623086  서울특별시  중랑구  중화동     현대  2020-09-28     1001   \n",
       "\n",
       "        구별 공원 갯수  8학군  구별 교과학원 갯수  구별 대형마트 수  구별 백화점 수  구별 전체 마트 수  \\\n",
       "0          132.0    1        1304        1.0       6.0         7.0   \n",
       "1          132.0    1        1304        1.0       6.0         7.0   \n",
       "2          132.0    1        1304        1.0       6.0         7.0   \n",
       "3          132.0    1        1304        1.0       6.0         7.0   \n",
       "4          132.0    1        1304        1.0       6.0         7.0   \n",
       "...          ...  ...         ...        ...       ...         ...   \n",
       "237982      11.0    0         174        6.0       0.0         6.0   \n",
       "237983      11.0    0         174        6.0       0.0         6.0   \n",
       "237984      11.0    0         174        6.0       0.0         6.0   \n",
       "237985      11.0    0         174        6.0       0.0         6.0   \n",
       "237986      11.0    0         174        6.0       0.0         6.0   \n",
       "\n",
       "        구별 대학병원 병원수  구별 종합병원 병원수  \n",
       "0                 4           33  \n",
       "1                 4           33  \n",
       "2                 4           33  \n",
       "3                 4           33  \n",
       "4                 4           33  \n",
       "...             ...          ...  \n",
       "237982            3           12  \n",
       "237983            3           12  \n",
       "237984            3           12  \n",
       "237985            3           12  \n",
       "237986            3           12  \n",
       "\n",
       "[237987 rows x 24 columns]"
      ]
     },
     "execution_count": 108,
     "metadata": {},
     "output_type": "execute_result"
    }
   ],
   "source": [
    "train_data['구별 대학병원 병원수']=train_data['구'].map(group_by_gu['대학병원 병원수'])\n",
    "train_data['구별 종합병원 병원수']=train_data['구'].map(group_by_gu['종합 병원수'])\n",
    "train_data"
   ]
  },
  {
   "cell_type": "code",
   "execution_count": 109,
   "id": "dac485e7",
   "metadata": {},
   "outputs": [
    {
     "name": "stdout",
     "output_type": "stream",
     "text": [
      "train_data.csv , 병원까지 csv로 저장되었습니다.\n"
     ]
    }
   ],
   "source": [
    "# 중간 저장\n",
    "train_data.to_csv('train_data.csv', encoding='utf-8-sig', index=False)\n",
    "print('train_data.csv , 병원까지 csv로 저장되었습니다.')"
   ]
  },
  {
   "cell_type": "markdown",
   "id": "db5a5f94",
   "metadata": {},
   "source": [
    "### 파생변수"
   ]
  },
  {
   "cell_type": "code",
   "execution_count": 110,
   "id": "c7a42f94",
   "metadata": {},
   "outputs": [
    {
     "data": {
      "text/html": [
       "<div>\n",
       "<style scoped>\n",
       "    .dataframe tbody tr th:only-of-type {\n",
       "        vertical-align: middle;\n",
       "    }\n",
       "\n",
       "    .dataframe tbody tr th {\n",
       "        vertical-align: top;\n",
       "    }\n",
       "\n",
       "    .dataframe thead th {\n",
       "        text-align: right;\n",
       "    }\n",
       "</style>\n",
       "<table border=\"1\" class=\"dataframe\">\n",
       "  <thead>\n",
       "    <tr style=\"text-align: right;\">\n",
       "      <th></th>\n",
       "      <th>sinchook_count</th>\n",
       "      <th>danji_count</th>\n",
       "    </tr>\n",
       "  </thead>\n",
       "  <tbody>\n",
       "    <tr>\n",
       "      <th>기타</th>\n",
       "      <td>16458.0</td>\n",
       "      <td>148730</td>\n",
       "    </tr>\n",
       "    <tr>\n",
       "      <th>래미안</th>\n",
       "      <td>5063.0</td>\n",
       "      <td>13872</td>\n",
       "    </tr>\n",
       "    <tr>\n",
       "      <th>힐스테이트</th>\n",
       "      <td>2967.0</td>\n",
       "      <td>5388</td>\n",
       "    </tr>\n",
       "    <tr>\n",
       "      <th>자이</th>\n",
       "      <td>2370.0</td>\n",
       "      <td>4166</td>\n",
       "    </tr>\n",
       "    <tr>\n",
       "      <th>푸르지오</th>\n",
       "      <td>1771.0</td>\n",
       "      <td>5734</td>\n",
       "    </tr>\n",
       "    <tr>\n",
       "      <th>이편한|e편한|e-편한</th>\n",
       "      <td>1387.0</td>\n",
       "      <td>4435</td>\n",
       "    </tr>\n",
       "    <tr>\n",
       "      <th>롯데캐슬</th>\n",
       "      <td>1135.0</td>\n",
       "      <td>3891</td>\n",
       "    </tr>\n",
       "    <tr>\n",
       "      <th>아이파크</th>\n",
       "      <td>1126.0</td>\n",
       "      <td>3086</td>\n",
       "    </tr>\n",
       "    <tr>\n",
       "      <th>두산|두산위브</th>\n",
       "      <td>649.0</td>\n",
       "      <td>5107</td>\n",
       "    </tr>\n",
       "    <tr>\n",
       "      <th>센트레빌</th>\n",
       "      <td>598.0</td>\n",
       "      <td>2133</td>\n",
       "    </tr>\n",
       "    <tr>\n",
       "      <th>포스코|더샵</th>\n",
       "      <td>429.0</td>\n",
       "      <td>1141</td>\n",
       "    </tr>\n",
       "    <tr>\n",
       "      <th>데시앙</th>\n",
       "      <td>341.0</td>\n",
       "      <td>875</td>\n",
       "    </tr>\n",
       "    <tr>\n",
       "      <th>sk|SK|에스케이</th>\n",
       "      <td>312.0</td>\n",
       "      <td>2351</td>\n",
       "    </tr>\n",
       "    <tr>\n",
       "      <th>현대</th>\n",
       "      <td>292.0</td>\n",
       "      <td>17702</td>\n",
       "    </tr>\n",
       "    <tr>\n",
       "      <th>하늘채</th>\n",
       "      <td>231.0</td>\n",
       "      <td>343</td>\n",
       "    </tr>\n",
       "    <tr>\n",
       "      <th>리슈빌</th>\n",
       "      <td>175.0</td>\n",
       "      <td>175</td>\n",
       "    </tr>\n",
       "    <tr>\n",
       "      <th>서희|서희스타힐스</th>\n",
       "      <td>172.0</td>\n",
       "      <td>176</td>\n",
       "    </tr>\n",
       "    <tr>\n",
       "      <th>삼성</th>\n",
       "      <td>101.0</td>\n",
       "      <td>4630</td>\n",
       "    </tr>\n",
       "    <tr>\n",
       "      <th>스위첸</th>\n",
       "      <td>97.0</td>\n",
       "      <td>117</td>\n",
       "    </tr>\n",
       "    <tr>\n",
       "      <th>호반</th>\n",
       "      <td>75.0</td>\n",
       "      <td>75</td>\n",
       "    </tr>\n",
       "    <tr>\n",
       "      <th>한라|한라비발디</th>\n",
       "      <td>54.0</td>\n",
       "      <td>180</td>\n",
       "    </tr>\n",
       "    <tr>\n",
       "      <th>GS</th>\n",
       "      <td>48.0</td>\n",
       "      <td>134</td>\n",
       "    </tr>\n",
       "    <tr>\n",
       "      <th>KCC</th>\n",
       "      <td>47.0</td>\n",
       "      <td>148</td>\n",
       "    </tr>\n",
       "    <tr>\n",
       "      <th>한화</th>\n",
       "      <td>43.0</td>\n",
       "      <td>1133</td>\n",
       "    </tr>\n",
       "    <tr>\n",
       "      <th>대우</th>\n",
       "      <td>32.0</td>\n",
       "      <td>2282</td>\n",
       "    </tr>\n",
       "    <tr>\n",
       "      <th>쌍용</th>\n",
       "      <td>32.0</td>\n",
       "      <td>2268</td>\n",
       "    </tr>\n",
       "    <tr>\n",
       "      <th>플래티넘</th>\n",
       "      <td>24.0</td>\n",
       "      <td>124</td>\n",
       "    </tr>\n",
       "    <tr>\n",
       "      <th>우미</th>\n",
       "      <td>18.0</td>\n",
       "      <td>90</td>\n",
       "    </tr>\n",
       "    <tr>\n",
       "      <th>벽산</th>\n",
       "      <td>3.0</td>\n",
       "      <td>3905</td>\n",
       "    </tr>\n",
       "    <tr>\n",
       "      <th>코오롱</th>\n",
       "      <td>0.0</td>\n",
       "      <td>822</td>\n",
       "    </tr>\n",
       "    <tr>\n",
       "      <th>롯데</th>\n",
       "      <td>0.0</td>\n",
       "      <td>728</td>\n",
       "    </tr>\n",
       "    <tr>\n",
       "      <th>벽산블루밍</th>\n",
       "      <td>0.0</td>\n",
       "      <td>687</td>\n",
       "    </tr>\n",
       "    <tr>\n",
       "      <th>태영</th>\n",
       "      <td>0.0</td>\n",
       "      <td>633</td>\n",
       "    </tr>\n",
       "    <tr>\n",
       "      <th>동부</th>\n",
       "      <td>0.0</td>\n",
       "      <td>546</td>\n",
       "    </tr>\n",
       "    <tr>\n",
       "      <th>코아루</th>\n",
       "      <td>0.0</td>\n",
       "      <td>97</td>\n",
       "    </tr>\n",
       "    <tr>\n",
       "      <th>계룡</th>\n",
       "      <td>0.0</td>\n",
       "      <td>45</td>\n",
       "    </tr>\n",
       "    <tr>\n",
       "      <th>동문</th>\n",
       "      <td>0.0</td>\n",
       "      <td>38</td>\n",
       "    </tr>\n",
       "  </tbody>\n",
       "</table>\n",
       "</div>"
      ],
      "text/plain": [
       "              sinchook_count  danji_count\n",
       "기타                   16458.0       148730\n",
       "래미안                   5063.0        13872\n",
       "힐스테이트                 2967.0         5388\n",
       "자이                    2370.0         4166\n",
       "푸르지오                  1771.0         5734\n",
       "이편한|e편한|e-편한          1387.0         4435\n",
       "롯데캐슬                  1135.0         3891\n",
       "아이파크                  1126.0         3086\n",
       "두산|두산위브                649.0         5107\n",
       "센트레빌                   598.0         2133\n",
       "포스코|더샵                 429.0         1141\n",
       "데시앙                    341.0          875\n",
       "sk|SK|에스케이             312.0         2351\n",
       "현대                     292.0        17702\n",
       "하늘채                    231.0          343\n",
       "리슈빌                    175.0          175\n",
       "서희|서희스타힐스              172.0          176\n",
       "삼성                     101.0         4630\n",
       "스위첸                     97.0          117\n",
       "호반                      75.0           75\n",
       "한라|한라비발디                54.0          180\n",
       "GS                      48.0          134\n",
       "KCC                     47.0          148\n",
       "한화                      43.0         1133\n",
       "대우                      32.0         2282\n",
       "쌍용                      32.0         2268\n",
       "플래티넘                    24.0          124\n",
       "우미                      18.0           90\n",
       "벽산                       3.0         3905\n",
       "코오롱                      0.0          822\n",
       "롯데                       0.0          728\n",
       "벽산블루밍                    0.0          687\n",
       "태영                       0.0          633\n",
       "동부                       0.0          546\n",
       "코아루                      0.0           97\n",
       "계룡                       0.0           45\n",
       "동문                       0.0           38"
      ]
     },
     "execution_count": 110,
     "metadata": {},
     "output_type": "execute_result"
    }
   ],
   "source": [
    "# 단지명브랜드별 거래 횟수 대비 신축 거래 횟수\n",
    "# train_original_data / train_data\n",
    "danji_count=train_data['단지명브랜드'].value_counts()\n",
    "sinchook=train_data.loc[train_data['건축년도']>2010] #신축\n",
    "goochook=train_data.loc[train_data['건축년도']<=2010] #구축\n",
    "\n",
    "sinchook_count=sinchook['단지명브랜드'].value_counts()\n",
    "singoo=pd.concat([sinchook_count,danji_count], axis=1, keys=['sinchook_count','danji_count']).fillna(0)\n",
    "singoo"
   ]
  },
  {
   "cell_type": "code",
   "execution_count": 111,
   "id": "55fabcff",
   "metadata": {},
   "outputs": [
    {
     "data": {
      "text/plain": [
       "기타              0.110657\n",
       "래미안             0.364980\n",
       "힐스테이트           0.550668\n",
       "자이              0.568891\n",
       "푸르지오            0.308859\n",
       "이편한|e편한|e-편한    0.312740\n",
       "롯데캐슬            0.291699\n",
       "아이파크            0.364874\n",
       "두산|두산위브         0.127080\n",
       "센트레빌            0.280356\n",
       "포스코|더샵          0.375986\n",
       "데시앙             0.389714\n",
       "sk|SK|에스케이      0.132709\n",
       "현대              0.016495\n",
       "하늘채             0.673469\n",
       "리슈빌             1.000000\n",
       "서희|서희스타힐스       0.977273\n",
       "삼성              0.021814\n",
       "스위첸             0.829060\n",
       "호반              1.000000\n",
       "한라|한라비발디        0.300000\n",
       "GS              0.358209\n",
       "KCC             0.317568\n",
       "한화              0.037952\n",
       "대우              0.014023\n",
       "쌍용              0.014109\n",
       "플래티넘            0.193548\n",
       "우미              0.200000\n",
       "벽산              0.000768\n",
       "코오롱             0.000000\n",
       "롯데              0.000000\n",
       "벽산블루밍           0.000000\n",
       "태영              0.000000\n",
       "동부              0.000000\n",
       "코아루             0.000000\n",
       "계룡              0.000000\n",
       "동문              0.000000\n",
       "Name: singoo_ratio, dtype: float64"
      ]
     },
     "execution_count": 111,
     "metadata": {},
     "output_type": "execute_result"
    }
   ],
   "source": [
    "# 단지 거래 횟수별 신축 비율\n",
    "singoo['singoo_ratio']=singoo['sinchook_count']/singoo['danji_count']\n",
    "singoo['singoo_ratio']\n",
    "# singoo.loc[singoo['singoo_ratio']!=1]"
   ]
  },
  {
   "cell_type": "code",
   "execution_count": 112,
   "id": "f404b1e0",
   "metadata": {},
   "outputs": [
    {
     "data": {
      "text/plain": [
       "단지명브랜드        단지명별 신축거래비율\n",
       "기타            0.110657       148730\n",
       "현대            0.016495        17702\n",
       "래미안           0.364980        13872\n",
       "푸르지오          0.308859         5734\n",
       "힐스테이트         0.550668         5388\n",
       "두산|두산위브       0.127080         5107\n",
       "삼성            0.021814         4630\n",
       "이편한|e편한|e-편한  0.312740         4435\n",
       "자이            0.568891         4166\n",
       "벽산            0.000768         3905\n",
       "롯데캐슬          0.291699         3891\n",
       "아이파크          0.364874         3086\n",
       "sk|SK|에스케이    0.132709         2351\n",
       "대우            0.014023         2282\n",
       "쌍용            0.014109         2268\n",
       "센트레빌          0.280356         2133\n",
       "포스코|더샵        0.375986         1141\n",
       "한화            0.037952         1133\n",
       "데시앙           0.389714          875\n",
       "코오롱           0.000000          822\n",
       "롯데            0.000000          728\n",
       "벽산블루밍         0.000000          687\n",
       "태영            0.000000          633\n",
       "동부            0.000000          546\n",
       "하늘채           0.673469          343\n",
       "한라|한라비발디      0.300000          180\n",
       "서희|서희스타힐스     0.977273          176\n",
       "리슈빌           1.000000          175\n",
       "KCC           0.317568          148\n",
       "GS            0.358209          134\n",
       "플래티넘          0.193548          124\n",
       "스위첸           0.829060          117\n",
       "코아루           0.000000           97\n",
       "우미            0.200000           90\n",
       "호반            1.000000           75\n",
       "계룡            0.000000           45\n",
       "동문            0.000000           38\n",
       "dtype: int64"
      ]
     },
     "execution_count": 112,
     "metadata": {},
     "output_type": "execute_result"
    }
   ],
   "source": [
    "# 인코딩 데이터 train_data에 합치기\n",
    "train_data['단지명별 신축거래비율']=train_data['단지명브랜드'].map(singoo['singoo_ratio'])\n",
    "train_data[['단지명브랜드','단지명별 신축거래비율']].value_counts()"
   ]
  },
  {
   "cell_type": "code",
   "execution_count": 113,
   "id": "95ec2bc9",
   "metadata": {},
   "outputs": [
    {
     "name": "stdout",
     "output_type": "stream",
     "text": [
      "train_data_pre_drop.csv , 파생변수까지 csv로 저장되었습니다.\n"
     ]
    }
   ],
   "source": [
    "# 중간 저장\n",
    "train_data.to_csv('train_data.csv', encoding='utf-8-sig', index=False)\n",
    "print('train_data_pre_drop.csv , 파생변수까지 csv로 저장되었습니다.')"
   ]
  },
  {
   "cell_type": "markdown",
   "id": "5d6f334c",
   "metadata": {},
   "source": [
    "### 전처리 완료 데이터 csv 저장"
   ]
  },
  {
   "cell_type": "code",
   "execution_count": 114,
   "id": "17225ea4",
   "metadata": {},
   "outputs": [
    {
     "data": {
      "text/plain": [
       "Index(['시군구', '단지명', '전용면적', '계약년월', '계약일', '거래금액', '층', '건축년도', '제곱미터단가',\n",
       "       '평당단가', '시', '구', '동', '단지명브랜드', '계약날짜', '계약날짜인코딩', '구별 공원 갯수', '8학군',\n",
       "       '구별 교과학원 갯수', '구별 대형마트 수', '구별 백화점 수', '구별 전체 마트 수', '구별 대학병원 병원수',\n",
       "       '구별 종합병원 병원수', '단지명별 신축거래비율'],\n",
       "      dtype='object')"
      ]
     },
     "execution_count": 114,
     "metadata": {},
     "output_type": "execute_result"
    }
   ],
   "source": [
    "train_data.columns"
   ]
  },
  {
   "cell_type": "code",
   "execution_count": 115,
   "id": "ad7fdde1",
   "metadata": {},
   "outputs": [],
   "source": [
    "train_data.rename(columns={'시군구':'시구동'}, inplace=True)"
   ]
  },
  {
   "cell_type": "code",
   "execution_count": 116,
   "id": "535cdb9a",
   "metadata": {
    "scrolled": true
   },
   "outputs": [],
   "source": [
    "train_data.drop(['제곱미터단가','단지명','시','계약년월','계약일','계약날짜','동'],axis=1,inplace=True)"
   ]
  },
  {
   "cell_type": "code",
   "execution_count": 117,
   "id": "abc9b9d6",
   "metadata": {},
   "outputs": [
    {
     "data": {
      "text/plain": [
       "시구동               0\n",
       "전용면적              0\n",
       "거래금액              0\n",
       "층                 0\n",
       "건축년도              0\n",
       "평당단가              0\n",
       "구                 0\n",
       "단지명브랜드            0\n",
       "계약날짜인코딩           0\n",
       "구별 공원 갯수          0\n",
       "8학군               0\n",
       "구별 교과학원 갯수        0\n",
       "구별 대형마트 수      2089\n",
       "구별 백화점 수       2089\n",
       "구별 전체 마트 수        0\n",
       "구별 대학병원 병원수       0\n",
       "구별 종합병원 병원수       0\n",
       "단지명별 신축거래비율       0\n",
       "dtype: int64"
      ]
     },
     "execution_count": 117,
     "metadata": {},
     "output_type": "execute_result"
    }
   ],
   "source": [
    "# 결측치 확인\n",
    "train_data.isna().sum()"
   ]
  },
  {
   "cell_type": "code",
   "execution_count": 118,
   "id": "3db6482c",
   "metadata": {},
   "outputs": [
    {
     "data": {
      "text/plain": [
       "<AxesSubplot:>"
      ]
     },
     "execution_count": 118,
     "metadata": {},
     "output_type": "execute_result"
    },
    {
     "data": {
      "image/png": "[encoded data removed]",
      "text/plain": [
       "<Figure size 1800x720 with 2 Axes>"
      ]
     },
     "metadata": {
      "needs_background": "light"
     },
     "output_type": "display_data"
    }
   ],
   "source": [
    "import missingno as msno\n",
    "msno.matrix(df=train_data.iloc[:, :], color=(0.1, 0.6, 0.8))"
   ]
  },
  {
   "cell_type": "code",
   "execution_count": 119,
   "id": "e283380d",
   "metadata": {},
   "outputs": [],
   "source": [
    "# 결측치 0으로 대체 -> 종로구에는 대형마트, 백화점 수가 없음.\n",
    "train_data.fillna(0, inplace=True)"
   ]
  },
  {
   "cell_type": "code",
   "execution_count": 120,
   "id": "fc7c5587",
   "metadata": {},
   "outputs": [
    {
     "data": {
      "text/plain": [
       "시구동            0\n",
       "전용면적           0\n",
       "거래금액           0\n",
       "층              0\n",
       "건축년도           0\n",
       "평당단가           0\n",
       "구              0\n",
       "단지명브랜드         0\n",
       "계약날짜인코딩        0\n",
       "구별 공원 갯수       0\n",
       "8학군            0\n",
       "구별 교과학원 갯수     0\n",
       "구별 대형마트 수      0\n",
       "구별 백화점 수       0\n",
       "구별 전체 마트 수     0\n",
       "구별 대학병원 병원수    0\n",
       "구별 종합병원 병원수    0\n",
       "단지명별 신축거래비율    0\n",
       "dtype: int64"
      ]
     },
     "execution_count": 120,
     "metadata": {},
     "output_type": "execute_result"
    }
   ],
   "source": [
    "train_data.isna().sum()"
   ]
  },
  {
   "cell_type": "code",
   "execution_count": 121,
   "id": "5aa485c0",
   "metadata": {},
   "outputs": [
    {
     "name": "stdout",
     "output_type": "stream",
     "text": [
      "train_data_final.csv, 최종저장되었습니다.\n"
     ]
    }
   ],
   "source": [
    "# 최종 저장\n",
    "train_data.to_csv('train_data_onehot.csv', encoding='utf-8-sig',index=False)\n",
    "print('train_data_final.csv, 최종저장되었습니다.')"
   ]
  },
  {
   "cell_type": "code",
   "execution_count": 122,
   "id": "70c8b593",
   "metadata": {},
   "outputs": [
    {
     "data": {
      "text/plain": [
       "Index(['시구동', '전용면적', '거래금액', '층', '건축년도', '평당단가', '구', '단지명브랜드', '계약날짜인코딩',\n",
       "       '구별 공원 갯수', '8학군', '구별 교과학원 갯수', '구별 대형마트 수', '구별 백화점 수', '구별 전체 마트 수',\n",
       "       '구별 대학병원 병원수', '구별 종합병원 병원수', '단지명별 신축거래비율'],\n",
       "      dtype='object')"
      ]
     },
     "execution_count": 122,
     "metadata": {},
     "output_type": "execute_result"
    }
   ],
   "source": [
    "train_data.columns"
   ]
  },
  {
   "cell_type": "code",
   "execution_count": 123,
   "id": "9b3b925e",
   "metadata": {
    "scrolled": true
   },
   "outputs": [
    {
     "data": {
      "text/html": [
       "<div>\n",
       "<style scoped>\n",
       "    .dataframe tbody tr th:only-of-type {\n",
       "        vertical-align: middle;\n",
       "    }\n",
       "\n",
       "    .dataframe tbody tr th {\n",
       "        vertical-align: top;\n",
       "    }\n",
       "\n",
       "    .dataframe thead th {\n",
       "        text-align: right;\n",
       "    }\n",
       "</style>\n",
       "<table border=\"1\" class=\"dataframe\">\n",
       "  <thead>\n",
       "    <tr style=\"text-align: right;\">\n",
       "      <th></th>\n",
       "      <th>시구동</th>\n",
       "      <th>전용면적</th>\n",
       "      <th>거래금액</th>\n",
       "      <th>층</th>\n",
       "      <th>건축년도</th>\n",
       "      <th>평당단가</th>\n",
       "      <th>구</th>\n",
       "      <th>단지명브랜드</th>\n",
       "      <th>계약날짜인코딩</th>\n",
       "      <th>구별 공원 갯수</th>\n",
       "      <th>8학군</th>\n",
       "      <th>구별 교과학원 갯수</th>\n",
       "      <th>구별 대형마트 수</th>\n",
       "      <th>구별 백화점 수</th>\n",
       "      <th>구별 전체 마트 수</th>\n",
       "      <th>구별 대학병원 병원수</th>\n",
       "      <th>구별 종합병원 병원수</th>\n",
       "      <th>단지명별 신축거래비율</th>\n",
       "    </tr>\n",
       "  </thead>\n",
       "  <tbody>\n",
       "    <tr>\n",
       "      <th>0</th>\n",
       "      <td>서울특별시 강남구 개포동</td>\n",
       "      <td>79.97</td>\n",
       "      <td>130000</td>\n",
       "      <td>4</td>\n",
       "      <td>1987</td>\n",
       "      <td>5364.511692</td>\n",
       "      <td>강남구</td>\n",
       "      <td>기타</td>\n",
       "      <td>2</td>\n",
       "      <td>132.0</td>\n",
       "      <td>1</td>\n",
       "      <td>1304</td>\n",
       "      <td>1.0</td>\n",
       "      <td>6.0</td>\n",
       "      <td>7.0</td>\n",
       "      <td>4</td>\n",
       "      <td>33</td>\n",
       "      <td>0.110657</td>\n",
       "    </tr>\n",
       "    <tr>\n",
       "      <th>1</th>\n",
       "      <td>서울특별시 강남구 개포동</td>\n",
       "      <td>79.97</td>\n",
       "      <td>117000</td>\n",
       "      <td>2</td>\n",
       "      <td>1987</td>\n",
       "      <td>4828.060523</td>\n",
       "      <td>강남구</td>\n",
       "      <td>기타</td>\n",
       "      <td>7</td>\n",
       "      <td>132.0</td>\n",
       "      <td>1</td>\n",
       "      <td>1304</td>\n",
       "      <td>1.0</td>\n",
       "      <td>6.0</td>\n",
       "      <td>7.0</td>\n",
       "      <td>4</td>\n",
       "      <td>33</td>\n",
       "      <td>0.110657</td>\n",
       "    </tr>\n",
       "    <tr>\n",
       "      <th>2</th>\n",
       "      <td>서울특별시 강남구 개포동</td>\n",
       "      <td>79.97</td>\n",
       "      <td>130000</td>\n",
       "      <td>1</td>\n",
       "      <td>1987</td>\n",
       "      <td>5364.511692</td>\n",
       "      <td>강남구</td>\n",
       "      <td>기타</td>\n",
       "      <td>10</td>\n",
       "      <td>132.0</td>\n",
       "      <td>1</td>\n",
       "      <td>1304</td>\n",
       "      <td>1.0</td>\n",
       "      <td>6.0</td>\n",
       "      <td>7.0</td>\n",
       "      <td>4</td>\n",
       "      <td>33</td>\n",
       "      <td>0.110657</td>\n",
       "    </tr>\n",
       "    <tr>\n",
       "      <th>3</th>\n",
       "      <td>서울특별시 강남구 개포동</td>\n",
       "      <td>79.97</td>\n",
       "      <td>139500</td>\n",
       "      <td>2</td>\n",
       "      <td>1987</td>\n",
       "      <td>5756.533700</td>\n",
       "      <td>강남구</td>\n",
       "      <td>기타</td>\n",
       "      <td>77</td>\n",
       "      <td>132.0</td>\n",
       "      <td>1</td>\n",
       "      <td>1304</td>\n",
       "      <td>1.0</td>\n",
       "      <td>6.0</td>\n",
       "      <td>7.0</td>\n",
       "      <td>4</td>\n",
       "      <td>33</td>\n",
       "      <td>0.110657</td>\n",
       "    </tr>\n",
       "    <tr>\n",
       "      <th>4</th>\n",
       "      <td>서울특별시 강남구 개포동</td>\n",
       "      <td>54.98</td>\n",
       "      <td>107500</td>\n",
       "      <td>5</td>\n",
       "      <td>1987</td>\n",
       "      <td>6452.346308</td>\n",
       "      <td>강남구</td>\n",
       "      <td>기타</td>\n",
       "      <td>94</td>\n",
       "      <td>132.0</td>\n",
       "      <td>1</td>\n",
       "      <td>1304</td>\n",
       "      <td>1.0</td>\n",
       "      <td>6.0</td>\n",
       "      <td>7.0</td>\n",
       "      <td>4</td>\n",
       "      <td>33</td>\n",
       "      <td>0.110657</td>\n",
       "    </tr>\n",
       "    <tr>\n",
       "      <th>...</th>\n",
       "      <td>...</td>\n",
       "      <td>...</td>\n",
       "      <td>...</td>\n",
       "      <td>...</td>\n",
       "      <td>...</td>\n",
       "      <td>...</td>\n",
       "      <td>...</td>\n",
       "      <td>...</td>\n",
       "      <td>...</td>\n",
       "      <td>...</td>\n",
       "      <td>...</td>\n",
       "      <td>...</td>\n",
       "      <td>...</td>\n",
       "      <td>...</td>\n",
       "      <td>...</td>\n",
       "      <td>...</td>\n",
       "      <td>...</td>\n",
       "      <td>...</td>\n",
       "    </tr>\n",
       "    <tr>\n",
       "      <th>237982</th>\n",
       "      <td>서울특별시 중랑구 중화동</td>\n",
       "      <td>106.21</td>\n",
       "      <td>45400</td>\n",
       "      <td>6</td>\n",
       "      <td>2003</td>\n",
       "      <td>1410.601638</td>\n",
       "      <td>중랑구</td>\n",
       "      <td>기타</td>\n",
       "      <td>800</td>\n",
       "      <td>11.0</td>\n",
       "      <td>0</td>\n",
       "      <td>174</td>\n",
       "      <td>6.0</td>\n",
       "      <td>0.0</td>\n",
       "      <td>6.0</td>\n",
       "      <td>3</td>\n",
       "      <td>12</td>\n",
       "      <td>0.110657</td>\n",
       "    </tr>\n",
       "    <tr>\n",
       "      <th>237983</th>\n",
       "      <td>서울특별시 중랑구 중화동</td>\n",
       "      <td>67.57</td>\n",
       "      <td>26000</td>\n",
       "      <td>2</td>\n",
       "      <td>2003</td>\n",
       "      <td>1269.794287</td>\n",
       "      <td>중랑구</td>\n",
       "      <td>기타</td>\n",
       "      <td>949</td>\n",
       "      <td>11.0</td>\n",
       "      <td>0</td>\n",
       "      <td>174</td>\n",
       "      <td>6.0</td>\n",
       "      <td>0.0</td>\n",
       "      <td>6.0</td>\n",
       "      <td>3</td>\n",
       "      <td>12</td>\n",
       "      <td>0.110657</td>\n",
       "    </tr>\n",
       "    <tr>\n",
       "      <th>237984</th>\n",
       "      <td>서울특별시 중랑구 중화동</td>\n",
       "      <td>95.94</td>\n",
       "      <td>44000</td>\n",
       "      <td>6</td>\n",
       "      <td>2007</td>\n",
       "      <td>1513.445904</td>\n",
       "      <td>중랑구</td>\n",
       "      <td>현대</td>\n",
       "      <td>921</td>\n",
       "      <td>11.0</td>\n",
       "      <td>0</td>\n",
       "      <td>174</td>\n",
       "      <td>6.0</td>\n",
       "      <td>0.0</td>\n",
       "      <td>6.0</td>\n",
       "      <td>3</td>\n",
       "      <td>12</td>\n",
       "      <td>0.016495</td>\n",
       "    </tr>\n",
       "    <tr>\n",
       "      <th>237985</th>\n",
       "      <td>서울특별시 중랑구 중화동</td>\n",
       "      <td>100.17</td>\n",
       "      <td>54800</td>\n",
       "      <td>5</td>\n",
       "      <td>2007</td>\n",
       "      <td>1805.330937</td>\n",
       "      <td>중랑구</td>\n",
       "      <td>현대</td>\n",
       "      <td>1067</td>\n",
       "      <td>11.0</td>\n",
       "      <td>0</td>\n",
       "      <td>174</td>\n",
       "      <td>6.0</td>\n",
       "      <td>0.0</td>\n",
       "      <td>6.0</td>\n",
       "      <td>3</td>\n",
       "      <td>12</td>\n",
       "      <td>0.016495</td>\n",
       "    </tr>\n",
       "    <tr>\n",
       "      <th>237986</th>\n",
       "      <td>서울특별시 중랑구 중화동</td>\n",
       "      <td>77.71</td>\n",
       "      <td>40000</td>\n",
       "      <td>5</td>\n",
       "      <td>2007</td>\n",
       "      <td>1698.623086</td>\n",
       "      <td>중랑구</td>\n",
       "      <td>현대</td>\n",
       "      <td>1001</td>\n",
       "      <td>11.0</td>\n",
       "      <td>0</td>\n",
       "      <td>174</td>\n",
       "      <td>6.0</td>\n",
       "      <td>0.0</td>\n",
       "      <td>6.0</td>\n",
       "      <td>3</td>\n",
       "      <td>12</td>\n",
       "      <td>0.016495</td>\n",
       "    </tr>\n",
       "  </tbody>\n",
       "</table>\n",
       "<p>237987 rows × 18 columns</p>\n",
       "</div>"
      ],
      "text/plain": [
       "                  시구동    전용면적    거래금액  층  건축년도         평당단가    구 단지명브랜드  \\\n",
       "0       서울특별시 강남구 개포동   79.97  130000  4  1987  5364.511692  강남구     기타   \n",
       "1       서울특별시 강남구 개포동   79.97  117000  2  1987  4828.060523  강남구     기타   \n",
       "2       서울특별시 강남구 개포동   79.97  130000  1  1987  5364.511692  강남구     기타   \n",
       "3       서울특별시 강남구 개포동   79.97  139500  2  1987  5756.533700  강남구     기타   \n",
       "4       서울특별시 강남구 개포동   54.98  107500  5  1987  6452.346308  강남구     기타   \n",
       "...               ...     ...     ... ..   ...          ...  ...    ...   \n",
       "237982  서울특별시 중랑구 중화동  106.21   45400  6  2003  1410.601638  중랑구     기타   \n",
       "237983  서울특별시 중랑구 중화동   67.57   26000  2  2003  1269.794287  중랑구     기타   \n",
       "237984  서울특별시 중랑구 중화동   95.94   44000  6  2007  1513.445904  중랑구     현대   \n",
       "237985  서울특별시 중랑구 중화동  100.17   54800  5  2007  1805.330937  중랑구     현대   \n",
       "237986  서울특별시 중랑구 중화동   77.71   40000  5  2007  1698.623086  중랑구     현대   \n",
       "\n",
       "        계약날짜인코딩  구별 공원 갯수  8학군  구별 교과학원 갯수  구별 대형마트 수  구별 백화점 수  구별 전체 마트 수  \\\n",
       "0             2     132.0    1        1304        1.0       6.0         7.0   \n",
       "1             7     132.0    1        1304        1.0       6.0         7.0   \n",
       "2            10     132.0    1        1304        1.0       6.0         7.0   \n",
       "3            77     132.0    1        1304        1.0       6.0         7.0   \n",
       "4            94     132.0    1        1304        1.0       6.0         7.0   \n",
       "...         ...       ...  ...         ...        ...       ...         ...   \n",
       "237982      800      11.0    0         174        6.0       0.0         6.0   \n",
       "237983      949      11.0    0         174        6.0       0.0         6.0   \n",
       "237984      921      11.0    0         174        6.0       0.0         6.0   \n",
       "237985     1067      11.0    0         174        6.0       0.0         6.0   \n",
       "237986     1001      11.0    0         174        6.0       0.0         6.0   \n",
       "\n",
       "        구별 대학병원 병원수  구별 종합병원 병원수  단지명별 신축거래비율  \n",
       "0                 4           33     0.110657  \n",
       "1                 4           33     0.110657  \n",
       "2                 4           33     0.110657  \n",
       "3                 4           33     0.110657  \n",
       "4                 4           33     0.110657  \n",
       "...             ...          ...          ...  \n",
       "237982            3           12     0.110657  \n",
       "237983            3           12     0.110657  \n",
       "237984            3           12     0.016495  \n",
       "237985            3           12     0.016495  \n",
       "237986            3           12     0.016495  \n",
       "\n",
       "[237987 rows x 18 columns]"
      ]
     },
     "execution_count": 123,
     "metadata": {},
     "output_type": "execute_result"
    }
   ],
   "source": [
    "train_data"
   ]
  },
  {
   "cell_type": "code",
   "execution_count": null,
   "id": "9a641b13",
   "metadata": {},
   "outputs": [],
   "source": []
  }
 ],
 "metadata": {
  "kernelspec": {
   "display_name": "Python 3",
   "language": "python",
   "name": "python3"
  },
  "language_info": {
   "codemirror_mode": {
    "name": "ipython",
    "version": 3
   },
   "file_extension": ".py",
   "mimetype": "text/x-python",
   "name": "python",
   "nbconvert_exporter": "python",
   "pygments_lexer": "ipython3",
   "version": "3.8.8"
  },
  "toc": {
   "base_numbering": 1,
   "nav_menu": {},
   "number_sections": true,
   "sideBar": true,
   "skip_h1_title": false,
   "title_cell": "Table of Contents",
   "title_sidebar": "Contents",
   "toc_cell": false,
   "toc_position": {
    "height": "calc(100% - 180px)",
    "left": "10px",
    "top": "150px",
    "width": "193.391px"
   },
   "toc_section_display": true,
   "toc_window_display": true
  }
 },
 "nbformat": 4,
 "nbformat_minor": 5
}
