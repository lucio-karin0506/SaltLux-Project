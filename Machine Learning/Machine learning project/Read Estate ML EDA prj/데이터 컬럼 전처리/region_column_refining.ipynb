{
 "cells": [
  {
   "cell_type": "code",
   "execution_count": 1,
   "metadata": {},
   "outputs": [],
   "source": [
    "# 라이브러리 로드\n",
    "import missingno # pip install missingno\n",
    "import numpy as np\n",
    "import pandas as pd\n",
    "\n",
    "# from pandas import DataFrame as df\n",
    "import matplotlib\n",
    "import matplotlib.pyplot as plt\n",
    "%matplotlib inline\n",
    "\n",
    "import plotly.offline as off\n",
    "import plotly.graph_objs as go"
   ]
  },
  {
   "cell_type": "code",
   "execution_count": 2,
   "metadata": {},
   "outputs": [],
   "source": [
    "import platform # 플랫폼 확인\n",
    "\n",
    "# Window\n",
    "if platform.system() == 'Windows': \n",
    "    matplotlib.rc('font', family='Malgun Gothic') \n",
    "elif platform.system() == 'Darwin': # Mac \n",
    "    matplotlib.rc('font', family='AppleGothic') \n",
    "else: #linux \n",
    "    matplotlib.rc('font', family='NanumGothic')"
   ]
  },
  {
   "cell_type": "markdown",
   "metadata": {},
   "source": [
    "## 1. 시군구 데이터 분석 및 전처리"
   ]
  },
  {
   "cell_type": "markdown",
   "metadata": {},
   "source": [
    "### 1.1 train data loading"
   ]
  },
  {
   "cell_type": "code",
   "execution_count": 3,
   "metadata": {},
   "outputs": [
    {
     "data": {
      "text/html": [
       "<div>\n",
       "<style scoped>\n",
       "    .dataframe tbody tr th:only-of-type {\n",
       "        vertical-align: middle;\n",
       "    }\n",
       "\n",
       "    .dataframe tbody tr th {\n",
       "        vertical-align: top;\n",
       "    }\n",
       "\n",
       "    .dataframe thead th {\n",
       "        text-align: right;\n",
       "    }\n",
       "</style>\n",
       "<table border=\"1\" class=\"dataframe\">\n",
       "  <thead>\n",
       "    <tr style=\"text-align: right;\">\n",
       "      <th></th>\n",
       "      <th>시군구</th>\n",
       "      <th>단지명</th>\n",
       "      <th>전용면적(㎡)</th>\n",
       "      <th>계약년월</th>\n",
       "      <th>거래금액(만원)</th>\n",
       "      <th>층</th>\n",
       "      <th>건축년도</th>\n",
       "      <th>도로명</th>\n",
       "    </tr>\n",
       "  </thead>\n",
       "  <tbody>\n",
       "    <tr>\n",
       "      <th>0</th>\n",
       "      <td>서울특별시 강남구 개포동</td>\n",
       "      <td>개포6차우성아파트1동~8동</td>\n",
       "      <td>79.97</td>\n",
       "      <td>201801</td>\n",
       "      <td>130000</td>\n",
       "      <td>4</td>\n",
       "      <td>1987</td>\n",
       "      <td>언주로 3</td>\n",
       "    </tr>\n",
       "    <tr>\n",
       "      <th>1</th>\n",
       "      <td>서울특별시 강남구 개포동</td>\n",
       "      <td>개포6차우성아파트1동~8동</td>\n",
       "      <td>79.97</td>\n",
       "      <td>201801</td>\n",
       "      <td>117000</td>\n",
       "      <td>2</td>\n",
       "      <td>1987</td>\n",
       "      <td>언주로 3</td>\n",
       "    </tr>\n",
       "    <tr>\n",
       "      <th>2</th>\n",
       "      <td>서울특별시 강남구 개포동</td>\n",
       "      <td>개포6차우성아파트1동~8동</td>\n",
       "      <td>79.97</td>\n",
       "      <td>201801</td>\n",
       "      <td>130000</td>\n",
       "      <td>1</td>\n",
       "      <td>1987</td>\n",
       "      <td>언주로 3</td>\n",
       "    </tr>\n",
       "    <tr>\n",
       "      <th>3</th>\n",
       "      <td>서울특별시 강남구 개포동</td>\n",
       "      <td>개포6차우성아파트1동~8동</td>\n",
       "      <td>79.97</td>\n",
       "      <td>201803</td>\n",
       "      <td>139500</td>\n",
       "      <td>2</td>\n",
       "      <td>1987</td>\n",
       "      <td>언주로 3</td>\n",
       "    </tr>\n",
       "    <tr>\n",
       "      <th>4</th>\n",
       "      <td>서울특별시 강남구 개포동</td>\n",
       "      <td>개포6차우성아파트1동~8동</td>\n",
       "      <td>54.98</td>\n",
       "      <td>201804</td>\n",
       "      <td>107500</td>\n",
       "      <td>5</td>\n",
       "      <td>1987</td>\n",
       "      <td>언주로 3</td>\n",
       "    </tr>\n",
       "    <tr>\n",
       "      <th>...</th>\n",
       "      <td>...</td>\n",
       "      <td>...</td>\n",
       "      <td>...</td>\n",
       "      <td>...</td>\n",
       "      <td>...</td>\n",
       "      <td>...</td>\n",
       "      <td>...</td>\n",
       "      <td>...</td>\n",
       "    </tr>\n",
       "    <tr>\n",
       "      <th>240916</th>\n",
       "      <td>서울특별시 중랑구 중화동</td>\n",
       "      <td>한영(104)</td>\n",
       "      <td>67.57</td>\n",
       "      <td>202008</td>\n",
       "      <td>26000</td>\n",
       "      <td>2</td>\n",
       "      <td>2003</td>\n",
       "      <td>동일로144길 74</td>\n",
       "    </tr>\n",
       "    <tr>\n",
       "      <th>240917</th>\n",
       "      <td>서울특별시 중랑구 중화동</td>\n",
       "      <td>현대휴앤미</td>\n",
       "      <td>95.94</td>\n",
       "      <td>202007</td>\n",
       "      <td>44000</td>\n",
       "      <td>6</td>\n",
       "      <td>2007</td>\n",
       "      <td>봉화산로27가길 23</td>\n",
       "    </tr>\n",
       "    <tr>\n",
       "      <th>240918</th>\n",
       "      <td>서울특별시 중랑구 중화동</td>\n",
       "      <td>현대휴앤미</td>\n",
       "      <td>100.17</td>\n",
       "      <td>202012</td>\n",
       "      <td>54800</td>\n",
       "      <td>5</td>\n",
       "      <td>2007</td>\n",
       "      <td>봉화산로27가길 23</td>\n",
       "    </tr>\n",
       "    <tr>\n",
       "      <th>240919</th>\n",
       "      <td>서울특별시 중랑구 중화동</td>\n",
       "      <td>현대휴앤미(102동)</td>\n",
       "      <td>77.71</td>\n",
       "      <td>202009</td>\n",
       "      <td>40000</td>\n",
       "      <td>5</td>\n",
       "      <td>2007</td>\n",
       "      <td>봉화산로27가길 19</td>\n",
       "    </tr>\n",
       "    <tr>\n",
       "      <th>240920</th>\n",
       "      <td>서울특별시 중랑구 중화동</td>\n",
       "      <td>현대휴앤미(102동)</td>\n",
       "      <td>77.71</td>\n",
       "      <td>202009</td>\n",
       "      <td>40000</td>\n",
       "      <td>5</td>\n",
       "      <td>2007</td>\n",
       "      <td>봉화산로27가길 19</td>\n",
       "    </tr>\n",
       "  </tbody>\n",
       "</table>\n",
       "<p>240921 rows × 8 columns</p>\n",
       "</div>"
      ],
      "text/plain": [
       "                  시군구             단지명  전용면적(㎡)    계약년월  거래금액(만원)  층  건축년도  \\\n",
       "0       서울특별시 강남구 개포동  개포6차우성아파트1동~8동    79.97  201801    130000  4  1987   \n",
       "1       서울특별시 강남구 개포동  개포6차우성아파트1동~8동    79.97  201801    117000  2  1987   \n",
       "2       서울특별시 강남구 개포동  개포6차우성아파트1동~8동    79.97  201801    130000  1  1987   \n",
       "3       서울특별시 강남구 개포동  개포6차우성아파트1동~8동    79.97  201803    139500  2  1987   \n",
       "4       서울특별시 강남구 개포동  개포6차우성아파트1동~8동    54.98  201804    107500  5  1987   \n",
       "...               ...             ...      ...     ...       ... ..   ...   \n",
       "240916  서울특별시 중랑구 중화동         한영(104)    67.57  202008     26000  2  2003   \n",
       "240917  서울특별시 중랑구 중화동           현대휴앤미    95.94  202007     44000  6  2007   \n",
       "240918  서울특별시 중랑구 중화동           현대휴앤미   100.17  202012     54800  5  2007   \n",
       "240919  서울특별시 중랑구 중화동     현대휴앤미(102동)    77.71  202009     40000  5  2007   \n",
       "240920  서울특별시 중랑구 중화동     현대휴앤미(102동)    77.71  202009     40000  5  2007   \n",
       "\n",
       "                도로명  \n",
       "0             언주로 3  \n",
       "1             언주로 3  \n",
       "2             언주로 3  \n",
       "3             언주로 3  \n",
       "4             언주로 3  \n",
       "...             ...  \n",
       "240916   동일로144길 74  \n",
       "240917  봉화산로27가길 23  \n",
       "240918  봉화산로27가길 23  \n",
       "240919  봉화산로27가길 19  \n",
       "240920  봉화산로27가길 19  \n",
       "\n",
       "[240921 rows x 8 columns]"
      ]
     },
     "execution_count": 3,
     "metadata": {},
     "output_type": "execute_result"
    }
   ],
   "source": [
    "train_data = pd.read_csv(\"../dataset/train_data.csv\", sep=',')\n",
    "\n",
    "# 거래금액 숫자형으로 변환\n",
    "train_data['거래금액(만원)'] = train_data['거래금액(만원)'].str.replace(',','').astype('int64')\n",
    "train_data"
   ]
  },
  {
   "cell_type": "markdown",
   "metadata": {},
   "source": [
    "### 1.2 시군구 데이터 생성 및 탐색"
   ]
  },
  {
   "cell_type": "code",
   "execution_count": 4,
   "metadata": {},
   "outputs": [
    {
     "data": {
      "image/png": "[encoded data removed]",
      "text/plain": [
       "<Figure size 1800x720 with 2 Axes>"
      ]
     },
     "metadata": {
      "needs_background": "light"
     },
     "output_type": "display_data"
    }
   ],
   "source": [
    "# 시군구 결측치 탐색\n",
    "temp_data = train_data[['시군구','거래금액(만원)']]\n",
    "\n",
    "missingno.matrix(temp_data)\n",
    "plt.show() # 결측치 없음!"
   ]
  },
  {
   "cell_type": "code",
   "execution_count": 5,
   "metadata": {},
   "outputs": [
    {
     "data": {
      "text/html": [
       "<div>\n",
       "<style scoped>\n",
       "    .dataframe tbody tr th:only-of-type {\n",
       "        vertical-align: middle;\n",
       "    }\n",
       "\n",
       "    .dataframe tbody tr th {\n",
       "        vertical-align: top;\n",
       "    }\n",
       "\n",
       "    .dataframe thead th {\n",
       "        text-align: right;\n",
       "    }\n",
       "</style>\n",
       "<table border=\"1\" class=\"dataframe\">\n",
       "  <thead>\n",
       "    <tr style=\"text-align: right;\">\n",
       "      <th></th>\n",
       "      <th>단지명</th>\n",
       "      <th>전용면적(㎡)</th>\n",
       "      <th>계약년월</th>\n",
       "      <th>거래금액(만원)</th>\n",
       "      <th>층</th>\n",
       "      <th>건축년도</th>\n",
       "      <th>도로명</th>\n",
       "      <th>시</th>\n",
       "      <th>구</th>\n",
       "      <th>동</th>\n",
       "    </tr>\n",
       "  </thead>\n",
       "  <tbody>\n",
       "    <tr>\n",
       "      <th>0</th>\n",
       "      <td>개포6차우성아파트1동~8동</td>\n",
       "      <td>79.97</td>\n",
       "      <td>201801</td>\n",
       "      <td>130000</td>\n",
       "      <td>4</td>\n",
       "      <td>1987</td>\n",
       "      <td>언주로 3</td>\n",
       "      <td>서울특별시</td>\n",
       "      <td>강남구</td>\n",
       "      <td>개포동</td>\n",
       "    </tr>\n",
       "    <tr>\n",
       "      <th>1</th>\n",
       "      <td>개포6차우성아파트1동~8동</td>\n",
       "      <td>79.97</td>\n",
       "      <td>201801</td>\n",
       "      <td>117000</td>\n",
       "      <td>2</td>\n",
       "      <td>1987</td>\n",
       "      <td>언주로 3</td>\n",
       "      <td>서울특별시</td>\n",
       "      <td>강남구</td>\n",
       "      <td>개포동</td>\n",
       "    </tr>\n",
       "    <tr>\n",
       "      <th>2</th>\n",
       "      <td>개포6차우성아파트1동~8동</td>\n",
       "      <td>79.97</td>\n",
       "      <td>201801</td>\n",
       "      <td>130000</td>\n",
       "      <td>1</td>\n",
       "      <td>1987</td>\n",
       "      <td>언주로 3</td>\n",
       "      <td>서울특별시</td>\n",
       "      <td>강남구</td>\n",
       "      <td>개포동</td>\n",
       "    </tr>\n",
       "    <tr>\n",
       "      <th>3</th>\n",
       "      <td>개포6차우성아파트1동~8동</td>\n",
       "      <td>79.97</td>\n",
       "      <td>201803</td>\n",
       "      <td>139500</td>\n",
       "      <td>2</td>\n",
       "      <td>1987</td>\n",
       "      <td>언주로 3</td>\n",
       "      <td>서울특별시</td>\n",
       "      <td>강남구</td>\n",
       "      <td>개포동</td>\n",
       "    </tr>\n",
       "    <tr>\n",
       "      <th>4</th>\n",
       "      <td>개포6차우성아파트1동~8동</td>\n",
       "      <td>54.98</td>\n",
       "      <td>201804</td>\n",
       "      <td>107500</td>\n",
       "      <td>5</td>\n",
       "      <td>1987</td>\n",
       "      <td>언주로 3</td>\n",
       "      <td>서울특별시</td>\n",
       "      <td>강남구</td>\n",
       "      <td>개포동</td>\n",
       "    </tr>\n",
       "    <tr>\n",
       "      <th>...</th>\n",
       "      <td>...</td>\n",
       "      <td>...</td>\n",
       "      <td>...</td>\n",
       "      <td>...</td>\n",
       "      <td>...</td>\n",
       "      <td>...</td>\n",
       "      <td>...</td>\n",
       "      <td>...</td>\n",
       "      <td>...</td>\n",
       "      <td>...</td>\n",
       "    </tr>\n",
       "    <tr>\n",
       "      <th>240916</th>\n",
       "      <td>한영(104)</td>\n",
       "      <td>67.57</td>\n",
       "      <td>202008</td>\n",
       "      <td>26000</td>\n",
       "      <td>2</td>\n",
       "      <td>2003</td>\n",
       "      <td>동일로144길 74</td>\n",
       "      <td>서울특별시</td>\n",
       "      <td>중랑구</td>\n",
       "      <td>중화동</td>\n",
       "    </tr>\n",
       "    <tr>\n",
       "      <th>240917</th>\n",
       "      <td>현대휴앤미</td>\n",
       "      <td>95.94</td>\n",
       "      <td>202007</td>\n",
       "      <td>44000</td>\n",
       "      <td>6</td>\n",
       "      <td>2007</td>\n",
       "      <td>봉화산로27가길 23</td>\n",
       "      <td>서울특별시</td>\n",
       "      <td>중랑구</td>\n",
       "      <td>중화동</td>\n",
       "    </tr>\n",
       "    <tr>\n",
       "      <th>240918</th>\n",
       "      <td>현대휴앤미</td>\n",
       "      <td>100.17</td>\n",
       "      <td>202012</td>\n",
       "      <td>54800</td>\n",
       "      <td>5</td>\n",
       "      <td>2007</td>\n",
       "      <td>봉화산로27가길 23</td>\n",
       "      <td>서울특별시</td>\n",
       "      <td>중랑구</td>\n",
       "      <td>중화동</td>\n",
       "    </tr>\n",
       "    <tr>\n",
       "      <th>240919</th>\n",
       "      <td>현대휴앤미(102동)</td>\n",
       "      <td>77.71</td>\n",
       "      <td>202009</td>\n",
       "      <td>40000</td>\n",
       "      <td>5</td>\n",
       "      <td>2007</td>\n",
       "      <td>봉화산로27가길 19</td>\n",
       "      <td>서울특별시</td>\n",
       "      <td>중랑구</td>\n",
       "      <td>중화동</td>\n",
       "    </tr>\n",
       "    <tr>\n",
       "      <th>240920</th>\n",
       "      <td>현대휴앤미(102동)</td>\n",
       "      <td>77.71</td>\n",
       "      <td>202009</td>\n",
       "      <td>40000</td>\n",
       "      <td>5</td>\n",
       "      <td>2007</td>\n",
       "      <td>봉화산로27가길 19</td>\n",
       "      <td>서울특별시</td>\n",
       "      <td>중랑구</td>\n",
       "      <td>중화동</td>\n",
       "    </tr>\n",
       "  </tbody>\n",
       "</table>\n",
       "<p>240921 rows × 10 columns</p>\n",
       "</div>"
      ],
      "text/plain": [
       "                   단지명  전용면적(㎡)    계약년월  거래금액(만원)  층  건축년도          도로명  \\\n",
       "0       개포6차우성아파트1동~8동    79.97  201801    130000  4  1987        언주로 3   \n",
       "1       개포6차우성아파트1동~8동    79.97  201801    117000  2  1987        언주로 3   \n",
       "2       개포6차우성아파트1동~8동    79.97  201801    130000  1  1987        언주로 3   \n",
       "3       개포6차우성아파트1동~8동    79.97  201803    139500  2  1987        언주로 3   \n",
       "4       개포6차우성아파트1동~8동    54.98  201804    107500  5  1987        언주로 3   \n",
       "...                ...      ...     ...       ... ..   ...          ...   \n",
       "240916         한영(104)    67.57  202008     26000  2  2003   동일로144길 74   \n",
       "240917           현대휴앤미    95.94  202007     44000  6  2007  봉화산로27가길 23   \n",
       "240918           현대휴앤미   100.17  202012     54800  5  2007  봉화산로27가길 23   \n",
       "240919     현대휴앤미(102동)    77.71  202009     40000  5  2007  봉화산로27가길 19   \n",
       "240920     현대휴앤미(102동)    77.71  202009     40000  5  2007  봉화산로27가길 19   \n",
       "\n",
       "            시    구    동  \n",
       "0       서울특별시  강남구  개포동  \n",
       "1       서울특별시  강남구  개포동  \n",
       "2       서울특별시  강남구  개포동  \n",
       "3       서울특별시  강남구  개포동  \n",
       "4       서울특별시  강남구  개포동  \n",
       "...       ...  ...  ...  \n",
       "240916  서울특별시  중랑구  중화동  \n",
       "240917  서울특별시  중랑구  중화동  \n",
       "240918  서울특별시  중랑구  중화동  \n",
       "240919  서울특별시  중랑구  중화동  \n",
       "240920  서울특별시  중랑구  중화동  \n",
       "\n",
       "[240921 rows x 10 columns]"
      ]
     },
     "execution_count": 5,
     "metadata": {},
     "output_type": "execute_result"
    }
   ],
   "source": [
    "region_split = train_data['시군구'].str.split(' ', expand=True)\n",
    "region_split.columns = ['시', '구', '동']\n",
    "\n",
    "train_data.drop('시군구', axis=1, inplace=True)\n",
    "\n",
    "train_data = pd.concat([train_data, region_split], axis=1)\n",
    "train_data"
   ]
  },
  {
   "cell_type": "code",
   "execution_count": 6,
   "metadata": {},
   "outputs": [
    {
     "data": {
      "text/plain": [
       "<AxesSubplot:>"
      ]
     },
     "execution_count": 6,
     "metadata": {},
     "output_type": "execute_result"
    },
    {
     "data": {
      "image/png": "[encoded data removed]",
      "text/plain": [
       "<Figure size 1080x720 with 1 Axes>"
      ]
     },
     "metadata": {
      "needs_background": "light"
     },
     "output_type": "display_data"
    }
   ],
   "source": [
    "# 구별 거래횟수\n",
    "\n",
    "plt.figure(figsize=(15,10))\n",
    "train_data['구'].value_counts().plot.barh()"
   ]
  },
  {
   "cell_type": "code",
   "execution_count": 7,
   "metadata": {},
   "outputs": [
    {
     "data": {
      "text/html": [
       "<div>\n",
       "<style scoped>\n",
       "    .dataframe tbody tr th:only-of-type {\n",
       "        vertical-align: middle;\n",
       "    }\n",
       "\n",
       "    .dataframe tbody tr th {\n",
       "        vertical-align: top;\n",
       "    }\n",
       "\n",
       "    .dataframe thead th {\n",
       "        text-align: right;\n",
       "    }\n",
       "</style>\n",
       "<table border=\"1\" class=\"dataframe\">\n",
       "  <thead>\n",
       "    <tr style=\"text-align: right;\">\n",
       "      <th></th>\n",
       "      <th>전용면적(㎡)</th>\n",
       "      <th>계약년월</th>\n",
       "      <th>거래금액(만원)</th>\n",
       "      <th>층</th>\n",
       "      <th>건축년도</th>\n",
       "    </tr>\n",
       "    <tr>\n",
       "      <th>구</th>\n",
       "      <th></th>\n",
       "      <th></th>\n",
       "      <th></th>\n",
       "      <th></th>\n",
       "      <th></th>\n",
       "    </tr>\n",
       "  </thead>\n",
       "  <tbody>\n",
       "    <tr>\n",
       "      <th>강남구</th>\n",
       "      <td>91.442268</td>\n",
       "      <td>201909.418750</td>\n",
       "      <td>172391.946333</td>\n",
       "      <td>9.306250</td>\n",
       "      <td>1997.683750</td>\n",
       "    </tr>\n",
       "    <tr>\n",
       "      <th>강동구</th>\n",
       "      <td>75.361315</td>\n",
       "      <td>201910.345055</td>\n",
       "      <td>74535.932965</td>\n",
       "      <td>9.453265</td>\n",
       "      <td>2001.609487</td>\n",
       "    </tr>\n",
       "    <tr>\n",
       "      <th>강북구</th>\n",
       "      <td>75.565458</td>\n",
       "      <td>201909.878963</td>\n",
       "      <td>48766.357169</td>\n",
       "      <td>9.315922</td>\n",
       "      <td>2003.499280</td>\n",
       "    </tr>\n",
       "    <tr>\n",
       "      <th>강서구</th>\n",
       "      <td>73.308650</td>\n",
       "      <td>201910.929352</td>\n",
       "      <td>60720.017306</td>\n",
       "      <td>7.830607</td>\n",
       "      <td>2001.087818</td>\n",
       "    </tr>\n",
       "    <tr>\n",
       "      <th>관악구</th>\n",
       "      <td>74.569392</td>\n",
       "      <td>201904.433749</td>\n",
       "      <td>54070.933622</td>\n",
       "      <td>9.378433</td>\n",
       "      <td>2001.093591</td>\n",
       "    </tr>\n",
       "    <tr>\n",
       "      <th>광진구</th>\n",
       "      <td>85.591974</td>\n",
       "      <td>201902.809193</td>\n",
       "      <td>92670.886547</td>\n",
       "      <td>10.430493</td>\n",
       "      <td>1998.630269</td>\n",
       "    </tr>\n",
       "    <tr>\n",
       "      <th>구로구</th>\n",
       "      <td>72.507784</td>\n",
       "      <td>201910.427769</td>\n",
       "      <td>49678.507705</td>\n",
       "      <td>9.685797</td>\n",
       "      <td>1999.408867</td>\n",
       "    </tr>\n",
       "    <tr>\n",
       "      <th>금천구</th>\n",
       "      <td>71.603233</td>\n",
       "      <td>201909.862881</td>\n",
       "      <td>42854.317350</td>\n",
       "      <td>9.524290</td>\n",
       "      <td>2001.773081</td>\n",
       "    </tr>\n",
       "    <tr>\n",
       "      <th>노원구</th>\n",
       "      <td>64.562158</td>\n",
       "      <td>201908.641531</td>\n",
       "      <td>45312.471622</td>\n",
       "      <td>8.077855</td>\n",
       "      <td>1993.881393</td>\n",
       "    </tr>\n",
       "    <tr>\n",
       "      <th>도봉구</th>\n",
       "      <td>70.513222</td>\n",
       "      <td>201912.299747</td>\n",
       "      <td>40985.334089</td>\n",
       "      <td>8.281531</td>\n",
       "      <td>1994.613615</td>\n",
       "    </tr>\n",
       "    <tr>\n",
       "      <th>동대문구</th>\n",
       "      <td>74.108312</td>\n",
       "      <td>201908.617200</td>\n",
       "      <td>60403.467034</td>\n",
       "      <td>9.716097</td>\n",
       "      <td>2004.628997</td>\n",
       "    </tr>\n",
       "    <tr>\n",
       "      <th>동작구</th>\n",
       "      <td>82.702661</td>\n",
       "      <td>201908.941458</td>\n",
       "      <td>84834.802509</td>\n",
       "      <td>9.032975</td>\n",
       "      <td>2001.930108</td>\n",
       "    </tr>\n",
       "    <tr>\n",
       "      <th>마포구</th>\n",
       "      <td>78.630668</td>\n",
       "      <td>201905.530735</td>\n",
       "      <td>90263.944066</td>\n",
       "      <td>9.716872</td>\n",
       "      <td>2003.684927</td>\n",
       "    </tr>\n",
       "    <tr>\n",
       "      <th>서대문구</th>\n",
       "      <td>77.893268</td>\n",
       "      <td>201907.312531</td>\n",
       "      <td>67735.164020</td>\n",
       "      <td>8.744913</td>\n",
       "      <td>2003.034491</td>\n",
       "    </tr>\n",
       "    <tr>\n",
       "      <th>서초구</th>\n",
       "      <td>99.631132</td>\n",
       "      <td>201909.312922</td>\n",
       "      <td>162752.238694</td>\n",
       "      <td>9.169456</td>\n",
       "      <td>2000.863083</td>\n",
       "    </tr>\n",
       "    <tr>\n",
       "      <th>성동구</th>\n",
       "      <td>79.337642</td>\n",
       "      <td>201908.661510</td>\n",
       "      <td>97842.113084</td>\n",
       "      <td>9.803247</td>\n",
       "      <td>2003.629807</td>\n",
       "    </tr>\n",
       "    <tr>\n",
       "      <th>성북구</th>\n",
       "      <td>79.130622</td>\n",
       "      <td>201902.030945</td>\n",
       "      <td>58597.054040</td>\n",
       "      <td>9.574238</td>\n",
       "      <td>2003.857393</td>\n",
       "    </tr>\n",
       "    <tr>\n",
       "      <th>송파구</th>\n",
       "      <td>85.441900</td>\n",
       "      <td>201906.913497</td>\n",
       "      <td>116817.008178</td>\n",
       "      <td>10.199867</td>\n",
       "      <td>1999.098338</td>\n",
       "    </tr>\n",
       "    <tr>\n",
       "      <th>양천구</th>\n",
       "      <td>80.983112</td>\n",
       "      <td>201903.287697</td>\n",
       "      <td>79586.816031</td>\n",
       "      <td>8.086024</td>\n",
       "      <td>1998.065830</td>\n",
       "    </tr>\n",
       "    <tr>\n",
       "      <th>영등포구</th>\n",
       "      <td>76.597741</td>\n",
       "      <td>201907.783411</td>\n",
       "      <td>77887.888228</td>\n",
       "      <td>10.102197</td>\n",
       "      <td>1998.510381</td>\n",
       "    </tr>\n",
       "    <tr>\n",
       "      <th>용산구</th>\n",
       "      <td>102.662728</td>\n",
       "      <td>201902.633649</td>\n",
       "      <td>144904.003155</td>\n",
       "      <td>10.344479</td>\n",
       "      <td>1999.195794</td>\n",
       "    </tr>\n",
       "    <tr>\n",
       "      <th>은평구</th>\n",
       "      <td>77.923323</td>\n",
       "      <td>201907.386223</td>\n",
       "      <td>54732.433888</td>\n",
       "      <td>7.414191</td>\n",
       "      <td>2006.333551</td>\n",
       "    </tr>\n",
       "    <tr>\n",
       "      <th>종로구</th>\n",
       "      <td>79.281602</td>\n",
       "      <td>201910.235075</td>\n",
       "      <td>73677.272854</td>\n",
       "      <td>7.972481</td>\n",
       "      <td>2003.947761</td>\n",
       "    </tr>\n",
       "    <tr>\n",
       "      <th>중구</th>\n",
       "      <td>82.502676</td>\n",
       "      <td>201898.941496</td>\n",
       "      <td>79669.936369</td>\n",
       "      <td>11.551870</td>\n",
       "      <td>2004.523824</td>\n",
       "    </tr>\n",
       "    <tr>\n",
       "      <th>중랑구</th>\n",
       "      <td>71.158132</td>\n",
       "      <td>201906.673916</td>\n",
       "      <td>44998.326330</td>\n",
       "      <td>9.076914</td>\n",
       "      <td>2000.462219</td>\n",
       "    </tr>\n",
       "  </tbody>\n",
       "</table>\n",
       "</div>"
      ],
      "text/plain": [
       "         전용면적(㎡)           계약년월       거래금액(만원)          층         건축년도\n",
       "구                                                                     \n",
       "강남구    91.442268  201909.418750  172391.946333   9.306250  1997.683750\n",
       "강동구    75.361315  201910.345055   74535.932965   9.453265  2001.609487\n",
       "강북구    75.565458  201909.878963   48766.357169   9.315922  2003.499280\n",
       "강서구    73.308650  201910.929352   60720.017306   7.830607  2001.087818\n",
       "관악구    74.569392  201904.433749   54070.933622   9.378433  2001.093591\n",
       "광진구    85.591974  201902.809193   92670.886547  10.430493  1998.630269\n",
       "구로구    72.507784  201910.427769   49678.507705   9.685797  1999.408867\n",
       "금천구    71.603233  201909.862881   42854.317350   9.524290  2001.773081\n",
       "노원구    64.562158  201908.641531   45312.471622   8.077855  1993.881393\n",
       "도봉구    70.513222  201912.299747   40985.334089   8.281531  1994.613615\n",
       "동대문구   74.108312  201908.617200   60403.467034   9.716097  2004.628997\n",
       "동작구    82.702661  201908.941458   84834.802509   9.032975  2001.930108\n",
       "마포구    78.630668  201905.530735   90263.944066   9.716872  2003.684927\n",
       "서대문구   77.893268  201907.312531   67735.164020   8.744913  2003.034491\n",
       "서초구    99.631132  201909.312922  162752.238694   9.169456  2000.863083\n",
       "성동구    79.337642  201908.661510   97842.113084   9.803247  2003.629807\n",
       "성북구    79.130622  201902.030945   58597.054040   9.574238  2003.857393\n",
       "송파구    85.441900  201906.913497  116817.008178  10.199867  1999.098338\n",
       "양천구    80.983112  201903.287697   79586.816031   8.086024  1998.065830\n",
       "영등포구   76.597741  201907.783411   77887.888228  10.102197  1998.510381\n",
       "용산구   102.662728  201902.633649  144904.003155  10.344479  1999.195794\n",
       "은평구    77.923323  201907.386223   54732.433888   7.414191  2006.333551\n",
       "종로구    79.281602  201910.235075   73677.272854   7.972481  2003.947761\n",
       "중구     82.502676  201898.941496   79669.936369  11.551870  2004.523824\n",
       "중랑구    71.158132  201906.673916   44998.326330   9.076914  2000.462219"
      ]
     },
     "execution_count": 7,
     "metadata": {},
     "output_type": "execute_result"
    }
   ],
   "source": [
    "# 구별 내 동별 평균 거래금액\n",
    "\n",
    "train_data_by_gu = train_data.groupby(['구']).mean()\n",
    "train_data_by_gu"
   ]
  },
  {
   "cell_type": "code",
   "execution_count": 8,
   "metadata": {},
   "outputs": [
    {
     "data": {
      "application/vnd.plotly.v1+json": {
       "config": {
        "plotlyServerURL": "https://plot.ly"
       },
       "data": [
        {
         "name": "강남구",
         "type": "bar",
         "x": [
          "강남구"
         ],
         "y": [
          172391.94633333333
         ]
        },
        {
         "name": "서초구",
         "type": "bar",
         "x": [
          "서초구"
         ],
         "y": [
          162752.23869425096
         ]
        },
        {
         "name": "용산구",
         "type": "bar",
         "x": [
          "용산구"
         ],
         "y": [
          144904.00315457414
         ]
        },
        {
         "name": "송파구",
         "type": "bar",
         "x": [
          "송파구"
         ],
         "y": [
          116817.00817819149
         ]
        },
        {
         "name": "성동구",
         "type": "bar",
         "x": [
          "성동구"
         ],
         "y": [
          97842.11308421397
         ]
        },
        {
         "name": "광진구",
         "type": "bar",
         "x": [
          "광진구"
         ],
         "y": [
          92670.8865470852
         ]
        },
        {
         "name": "마포구",
         "type": "bar",
         "x": [
          "마포구"
         ],
         "y": [
          90263.94406642832
         ]
        },
        {
         "name": "동작구",
         "type": "bar",
         "x": [
          "동작구"
         ],
         "y": [
          84834.80250896058
         ]
        },
        {
         "name": "중구",
         "type": "bar",
         "x": [
          "중구"
         ],
         "y": [
          79669.93636911942
         ]
        },
        {
         "name": "양천구",
         "type": "bar",
         "x": [
          "양천구"
         ],
         "y": [
          79586.81603060226
         ]
        },
        {
         "name": "영등포구",
         "type": "bar",
         "x": [
          "영등포구"
         ],
         "y": [
          77887.8882281798
         ]
        },
        {
         "name": "강동구",
         "type": "bar",
         "x": [
          "강동구"
         ],
         "y": [
          74535.93296549452
         ]
        },
        {
         "name": "종로구",
         "type": "bar",
         "x": [
          "종로구"
         ],
         "y": [
          73677.27285447762
         ]
        },
        {
         "name": "서대문구",
         "type": "bar",
         "x": [
          "서대문구"
         ],
         "y": [
          67735.16401985112
         ]
        },
        {
         "name": "강서구",
         "type": "bar",
         "x": [
          "강서구"
         ],
         "y": [
          60720.01730573465
         ]
        },
        {
         "name": "동대문구",
         "type": "bar",
         "x": [
          "동대문구"
         ],
         "y": [
          60403.46703417861
         ]
        },
        {
         "name": "성북구",
         "type": "bar",
         "x": [
          "성북구"
         ],
         "y": [
          58597.054039634146
         ]
        },
        {
         "name": "은평구",
         "type": "bar",
         "x": [
          "은평구"
         ],
         "y": [
          54732.43388834476
         ]
        },
        {
         "name": "관악구",
         "type": "bar",
         "x": [
          "관악구"
         ],
         "y": [
          54070.93362156663
         ]
        },
        {
         "name": "구로구",
         "type": "bar",
         "x": [
          "구로구"
         ],
         "y": [
          49678.50770515448
         ]
        },
        {
         "name": "강북구",
         "type": "bar",
         "x": [
          "강북구"
         ],
         "y": [
          48766.3571685879
         ]
        },
        {
         "name": "노원구",
         "type": "bar",
         "x": [
          "노원구"
         ],
         "y": [
          45312.471621675824
         ]
        },
        {
         "name": "중랑구",
         "type": "bar",
         "x": [
          "중랑구"
         ],
         "y": [
          44998.326330015974
         ]
        },
        {
         "name": "금천구",
         "type": "bar",
         "x": [
          "금천구"
         ],
         "y": [
          42854.317350157726
         ]
        },
        {
         "name": "도봉구",
         "type": "bar",
         "x": [
          "도봉구"
         ],
         "y": [
          40985.33408873006
         ]
        }
       ],
       "layout": {
        "autosize": false,
        "height": 1000,
        "template": {
         "data": {
          "bar": [
           {
            "error_x": {
             "color": "#2a3f5f"
            },
            "error_y": {
             "color": "#2a3f5f"
            },
            "marker": {
             "line": {
              "color": "#E5ECF6",
              "width": 0.5
             },
             "pattern": {
              "fillmode": "overlay",
              "size": 10,
              "solidity": 0.2
             }
            },
            "type": "bar"
           }
          ],
          "barpolar": [
           {
            "marker": {
             "line": {
              "color": "#E5ECF6",
              "width": 0.5
             },
             "pattern": {
              "fillmode": "overlay",
              "size": 10,
              "solidity": 0.2
             }
            },
            "type": "barpolar"
           }
          ],
          "carpet": [
           {
            "aaxis": {
             "endlinecolor": "#2a3f5f",
             "gridcolor": "white",
             "linecolor": "white",
             "minorgridcolor": "white",
             "startlinecolor": "#2a3f5f"
            },
            "baxis": {
             "endlinecolor": "#2a3f5f",
             "gridcolor": "white",
             "linecolor": "white",
             "minorgridcolor": "white",
             "startlinecolor": "#2a3f5f"
            },
            "type": "carpet"
           }
          ],
          "choropleth": [
           {
            "colorbar": {
             "outlinewidth": 0,
             "ticks": ""
            },
            "type": "choropleth"
           }
          ],
          "contour": [
           {
            "colorbar": {
             "outlinewidth": 0,
             "ticks": ""
            },
            "colorscale": [
             [
              0,
              "#0d0887"
             ],
             [
              0.1111111111111111,
              "#46039f"
             ],
             [
              0.2222222222222222,
              "#7201a8"
             ],
             [
              0.3333333333333333,
              "#9c179e"
             ],
             [
              0.4444444444444444,
              "#bd3786"
             ],
             [
              0.5555555555555556,
              "#d8576b"
             ],
             [
              0.6666666666666666,
              "#ed7953"
             ],
             [
              0.7777777777777778,
              "#fb9f3a"
             ],
             [
              0.8888888888888888,
              "#fdca26"
             ],
             [
              1,
              "#f0f921"
             ]
            ],
            "type": "contour"
           }
          ],
          "contourcarpet": [
           {
            "colorbar": {
             "outlinewidth": 0,
             "ticks": ""
            },
            "type": "contourcarpet"
           }
          ],
          "heatmap": [
           {
            "colorbar": {
             "outlinewidth": 0,
             "ticks": ""
            },
            "colorscale": [
             [
              0,
              "#0d0887"
             ],
             [
              0.1111111111111111,
              "#46039f"
             ],
             [
              0.2222222222222222,
              "#7201a8"
             ],
             [
              0.3333333333333333,
              "#9c179e"
             ],
             [
              0.4444444444444444,
              "#bd3786"
             ],
             [
              0.5555555555555556,
              "#d8576b"
             ],
             [
              0.6666666666666666,
              "#ed7953"
             ],
             [
              0.7777777777777778,
              "#fb9f3a"
             ],
             [
              0.8888888888888888,
              "#fdca26"
             ],
             [
              1,
              "#f0f921"
             ]
            ],
            "type": "heatmap"
           }
          ],
          "heatmapgl": [
           {
            "colorbar": {
             "outlinewidth": 0,
             "ticks": ""
            },
            "colorscale": [
             [
              0,
              "#0d0887"
             ],
             [
              0.1111111111111111,
              "#46039f"
             ],
             [
              0.2222222222222222,
              "#7201a8"
             ],
             [
              0.3333333333333333,
              "#9c179e"
             ],
             [
              0.4444444444444444,
              "#bd3786"
             ],
             [
              0.5555555555555556,
              "#d8576b"
             ],
             [
              0.6666666666666666,
              "#ed7953"
             ],
             [
              0.7777777777777778,
              "#fb9f3a"
             ],
             [
              0.8888888888888888,
              "#fdca26"
             ],
             [
              1,
              "#f0f921"
             ]
            ],
            "type": "heatmapgl"
           }
          ],
          "histogram": [
           {
            "marker": {
             "pattern": {
              "fillmode": "overlay",
              "size": 10,
              "solidity": 0.2
             }
            },
            "type": "histogram"
           }
          ],
          "histogram2d": [
           {
            "colorbar": {
             "outlinewidth": 0,
             "ticks": ""
            },
            "colorscale": [
             [
              0,
              "#0d0887"
             ],
             [
              0.1111111111111111,
              "#46039f"
             ],
             [
              0.2222222222222222,
              "#7201a8"
             ],
             [
              0.3333333333333333,
              "#9c179e"
             ],
             [
              0.4444444444444444,
              "#bd3786"
             ],
             [
              0.5555555555555556,
              "#d8576b"
             ],
             [
              0.6666666666666666,
              "#ed7953"
             ],
             [
              0.7777777777777778,
              "#fb9f3a"
             ],
             [
              0.8888888888888888,
              "#fdca26"
             ],
             [
              1,
              "#f0f921"
             ]
            ],
            "type": "histogram2d"
           }
          ],
          "histogram2dcontour": [
           {
            "colorbar": {
             "outlinewidth": 0,
             "ticks": ""
            },
            "colorscale": [
             [
              0,
              "#0d0887"
             ],
             [
              0.1111111111111111,
              "#46039f"
             ],
             [
              0.2222222222222222,
              "#7201a8"
             ],
             [
              0.3333333333333333,
              "#9c179e"
             ],
             [
              0.4444444444444444,
              "#bd3786"
             ],
             [
              0.5555555555555556,
              "#d8576b"
             ],
             [
              0.6666666666666666,
              "#ed7953"
             ],
             [
              0.7777777777777778,
              "#fb9f3a"
             ],
             [
              0.8888888888888888,
              "#fdca26"
             ],
             [
              1,
              "#f0f921"
             ]
            ],
            "type": "histogram2dcontour"
           }
          ],
          "mesh3d": [
           {
            "colorbar": {
             "outlinewidth": 0,
             "ticks": ""
            },
            "type": "mesh3d"
           }
          ],
          "parcoords": [
           {
            "line": {
             "colorbar": {
              "outlinewidth": 0,
              "ticks": ""
             }
            },
            "type": "parcoords"
           }
          ],
          "pie": [
           {
            "automargin": true,
            "type": "pie"
           }
          ],
          "scatter": [
           {
            "marker": {
             "colorbar": {
              "outlinewidth": 0,
              "ticks": ""
             }
            },
            "type": "scatter"
           }
          ],
          "scatter3d": [
           {
            "line": {
             "colorbar": {
              "outlinewidth": 0,
              "ticks": ""
             }
            },
            "marker": {
             "colorbar": {
              "outlinewidth": 0,
              "ticks": ""
             }
            },
            "type": "scatter3d"
           }
          ],
          "scattercarpet": [
           {
            "marker": {
             "colorbar": {
              "outlinewidth": 0,
              "ticks": ""
             }
            },
            "type": "scattercarpet"
           }
          ],
          "scattergeo": [
           {
            "marker": {
             "colorbar": {
              "outlinewidth": 0,
              "ticks": ""
             }
            },
            "type": "scattergeo"
           }
          ],
          "scattergl": [
           {
            "marker": {
             "colorbar": {
              "outlinewidth": 0,
              "ticks": ""
             }
            },
            "type": "scattergl"
           }
          ],
          "scattermapbox": [
           {
            "marker": {
             "colorbar": {
              "outlinewidth": 0,
              "ticks": ""
             }
            },
            "type": "scattermapbox"
           }
          ],
          "scatterpolar": [
           {
            "marker": {
             "colorbar": {
              "outlinewidth": 0,
              "ticks": ""
             }
            },
            "type": "scatterpolar"
           }
          ],
          "scatterpolargl": [
           {
            "marker": {
             "colorbar": {
              "outlinewidth": 0,
              "ticks": ""
             }
            },
            "type": "scatterpolargl"
           }
          ],
          "scatterternary": [
           {
            "marker": {
             "colorbar": {
              "outlinewidth": 0,
              "ticks": ""
             }
            },
            "type": "scatterternary"
           }
          ],
          "surface": [
           {
            "colorbar": {
             "outlinewidth": 0,
             "ticks": ""
            },
            "colorscale": [
             [
              0,
              "#0d0887"
             ],
             [
              0.1111111111111111,
              "#46039f"
             ],
             [
              0.2222222222222222,
              "#7201a8"
             ],
             [
              0.3333333333333333,
              "#9c179e"
             ],
             [
              0.4444444444444444,
              "#bd3786"
             ],
             [
              0.5555555555555556,
              "#d8576b"
             ],
             [
              0.6666666666666666,
              "#ed7953"
             ],
             [
              0.7777777777777778,
              "#fb9f3a"
             ],
             [
              0.8888888888888888,
              "#fdca26"
             ],
             [
              1,
              "#f0f921"
             ]
            ],
            "type": "surface"
           }
          ],
          "table": [
           {
            "cells": {
             "fill": {
              "color": "#EBF0F8"
             },
             "line": {
              "color": "white"
             }
            },
            "header": {
             "fill": {
              "color": "#C8D4E3"
             },
             "line": {
              "color": "white"
             }
            },
            "type": "table"
           }
          ]
         },
         "layout": {
          "annotationdefaults": {
           "arrowcolor": "#2a3f5f",
           "arrowhead": 0,
           "arrowwidth": 1
          },
          "autotypenumbers": "strict",
          "coloraxis": {
           "colorbar": {
            "outlinewidth": 0,
            "ticks": ""
           }
          },
          "colorscale": {
           "diverging": [
            [
             0,
             "#8e0152"
            ],
            [
             0.1,
             "#c51b7d"
            ],
            [
             0.2,
             "#de77ae"
            ],
            [
             0.3,
             "#f1b6da"
            ],
            [
             0.4,
             "#fde0ef"
            ],
            [
             0.5,
             "#f7f7f7"
            ],
            [
             0.6,
             "#e6f5d0"
            ],
            [
             0.7,
             "#b8e186"
            ],
            [
             0.8,
             "#7fbc41"
            ],
            [
             0.9,
             "#4d9221"
            ],
            [
             1,
             "#276419"
            ]
           ],
           "sequential": [
            [
             0,
             "#0d0887"
            ],
            [
             0.1111111111111111,
             "#46039f"
            ],
            [
             0.2222222222222222,
             "#7201a8"
            ],
            [
             0.3333333333333333,
             "#9c179e"
            ],
            [
             0.4444444444444444,
             "#bd3786"
            ],
            [
             0.5555555555555556,
             "#d8576b"
            ],
            [
             0.6666666666666666,
             "#ed7953"
            ],
            [
             0.7777777777777778,
             "#fb9f3a"
            ],
            [
             0.8888888888888888,
             "#fdca26"
            ],
            [
             1,
             "#f0f921"
            ]
           ],
           "sequentialminus": [
            [
             0,
             "#0d0887"
            ],
            [
             0.1111111111111111,
             "#46039f"
            ],
            [
             0.2222222222222222,
             "#7201a8"
            ],
            [
             0.3333333333333333,
             "#9c179e"
            ],
            [
             0.4444444444444444,
             "#bd3786"
            ],
            [
             0.5555555555555556,
             "#d8576b"
            ],
            [
             0.6666666666666666,
             "#ed7953"
            ],
            [
             0.7777777777777778,
             "#fb9f3a"
            ],
            [
             0.8888888888888888,
             "#fdca26"
            ],
            [
             1,
             "#f0f921"
            ]
           ]
          },
          "colorway": [
           "#636efa",
           "#EF553B",
           "#00cc96",
           "#ab63fa",
           "#FFA15A",
           "#19d3f3",
           "#FF6692",
           "#B6E880",
           "#FF97FF",
           "#FECB52"
          ],
          "font": {
           "color": "#2a3f5f"
          },
          "geo": {
           "bgcolor": "white",
           "lakecolor": "white",
           "landcolor": "#E5ECF6",
           "showlakes": true,
           "showland": true,
           "subunitcolor": "white"
          },
          "hoverlabel": {
           "align": "left"
          },
          "hovermode": "closest",
          "mapbox": {
           "style": "light"
          },
          "paper_bgcolor": "white",
          "plot_bgcolor": "#E5ECF6",
          "polar": {
           "angularaxis": {
            "gridcolor": "white",
            "linecolor": "white",
            "ticks": ""
           },
           "bgcolor": "#E5ECF6",
           "radialaxis": {
            "gridcolor": "white",
            "linecolor": "white",
            "ticks": ""
           }
          },
          "scene": {
           "xaxis": {
            "backgroundcolor": "#E5ECF6",
            "gridcolor": "white",
            "gridwidth": 2,
            "linecolor": "white",
            "showbackground": true,
            "ticks": "",
            "zerolinecolor": "white"
           },
           "yaxis": {
            "backgroundcolor": "#E5ECF6",
            "gridcolor": "white",
            "gridwidth": 2,
            "linecolor": "white",
            "showbackground": true,
            "ticks": "",
            "zerolinecolor": "white"
           },
           "zaxis": {
            "backgroundcolor": "#E5ECF6",
            "gridcolor": "white",
            "gridwidth": 2,
            "linecolor": "white",
            "showbackground": true,
            "ticks": "",
            "zerolinecolor": "white"
           }
          },
          "shapedefaults": {
           "line": {
            "color": "#2a3f5f"
           }
          },
          "ternary": {
           "aaxis": {
            "gridcolor": "white",
            "linecolor": "white",
            "ticks": ""
           },
           "baxis": {
            "gridcolor": "white",
            "linecolor": "white",
            "ticks": ""
           },
           "bgcolor": "#E5ECF6",
           "caxis": {
            "gridcolor": "white",
            "linecolor": "white",
            "ticks": ""
           }
          },
          "title": {
           "x": 0.05
          },
          "xaxis": {
           "automargin": true,
           "gridcolor": "white",
           "linecolor": "white",
           "ticks": "",
           "title": {
            "standoff": 15
           },
           "zerolinecolor": "white",
           "zerolinewidth": 2
          },
          "yaxis": {
           "automargin": true,
           "gridcolor": "white",
           "linecolor": "white",
           "ticks": "",
           "title": {
            "standoff": 15
           },
           "zerolinecolor": "white",
           "zerolinewidth": 2
          }
         }
        },
        "title": {
         "text": "구별 평균 거래금액(2018~2020)"
        },
        "width": 1200,
        "xaxis": {
         "title": {
          "text": "구"
         }
        },
        "yaxis": {
         "tickformat": "(만원)",
         "title": {
          "text": "거래금액(만원)"
         }
        }
       }
      }
     },
     "metadata": {},
     "output_type": "display_data"
    }
   ],
   "source": [
    "# 구별 거래금액 평균가격 시각화\n",
    "df = train_data_by_gu.reset_index()\n",
    "sorted_df = df[['구', '거래금액(만원)']].sort_values('거래금액(만원)', ascending=False)\n",
    "gu_list = list(sorted_df['구'].values)\n",
    "\n",
    "region_mean_fig = go.Figure()\n",
    "\n",
    "trace_mean_list = []\n",
    "for gu in gu_list:\n",
    "    trace_region = go.Bar(x=df[df['구'] == gu]['구'], y=df[df['구'] == gu]['거래금액(만원)'], name=gu)\n",
    "    trace_mean_list.append(trace_region)\n",
    "\n",
    "region_mean_fig.add_traces(trace_mean_list)\n",
    "\n",
    "region_mean_fig.update_layout(\n",
    "    title='구별 평균 거래금액(2018~2020)',\n",
    "    xaxis_title='구',\n",
    "    yaxis_title='거래금액(만원)',\n",
    "    yaxis_tickformat='(만원)',\n",
    "    autosize=False,\n",
    "    width=1200,\n",
    "    height=1000\n",
    ")\n",
    "\n",
    "region_mean_fig.show()"
   ]
  },
  {
   "cell_type": "markdown",
   "metadata": {},
   "source": [
    "# folium 해보기"
   ]
  },
  {
   "cell_type": "code",
   "execution_count": 9,
   "metadata": {},
   "outputs": [
    {
     "name": "stdout",
     "output_type": "stream",
     "text": [
      "Collecting folium==0.9.0\n",
      "  Downloading folium-0.9.0-py2.py3-none-any.whl (91 kB)\n",
      "Collecting branca>=0.3.0\n",
      "  Downloading branca-0.4.2-py3-none-any.whl (24 kB)\n",
      "Requirement already satisfied: requests in c:\\users\\ameli\\anaconda3\\envs\\saltlux_lecture\\lib\\site-packages (from folium==0.9.0) (2.26.0)\n",
      "Requirement already satisfied: jinja2>=2.9 in c:\\users\\ameli\\anaconda3\\envs\\saltlux_lecture\\lib\\site-packages (from folium==0.9.0) (3.0.2)\n",
      "Requirement already satisfied: numpy in c:\\users\\ameli\\anaconda3\\envs\\saltlux_lecture\\lib\\site-packages (from folium==0.9.0) (1.21.4)\n",
      "Requirement already satisfied: MarkupSafe>=2.0 in c:\\users\\ameli\\anaconda3\\envs\\saltlux_lecture\\lib\\site-packages (from jinja2>=2.9->folium==0.9.0) (2.0.1)\n",
      "Requirement already satisfied: idna<4,>=2.5 in c:\\users\\ameli\\anaconda3\\envs\\saltlux_lecture\\lib\\site-packages (from requests->folium==0.9.0) (3.3)\n",
      "Requirement already satisfied: charset-normalizer~=2.0.0 in c:\\users\\ameli\\anaconda3\\envs\\saltlux_lecture\\lib\\site-packages (from requests->folium==0.9.0) (2.0.9)\n",
      "Requirement already satisfied: certifi>=2017.4.17 in c:\\users\\ameli\\anaconda3\\envs\\saltlux_lecture\\lib\\site-packages (from requests->folium==0.9.0) (2021.10.8)\n",
      "Requirement already satisfied: urllib3<1.27,>=1.21.1 in c:\\users\\ameli\\anaconda3\\envs\\saltlux_lecture\\lib\\site-packages (from requests->folium==0.9.0) (1.26.7)\n",
      "Installing collected packages: branca, folium\n",
      "Successfully installed branca-0.4.2 folium-0.9.0\n"
     ]
    }
   ],
   "source": [
    "!pip install --upgrade folium==0.9.0"
   ]
  },
  {
   "cell_type": "code",
   "execution_count": 10,
   "metadata": {},
   "outputs": [
    {
     "data": {
      "text/plain": [
       "'0.9.0'"
      ]
     },
     "execution_count": 10,
     "metadata": {},
     "output_type": "execute_result"
    }
   ],
   "source": [
    "import folium\n",
    "folium.__version__"
   ]
  },
  {
   "cell_type": "code",
   "execution_count": 11,
   "metadata": {},
   "outputs": [
    {
     "ename": "NameError",
     "evalue": "name 'new_data' is not defined",
     "output_type": "error",
     "traceback": [
      "\u001b[1;31m---------------------------------------------------------------------------\u001b[0m",
      "\u001b[1;31mNameError\u001b[0m                                 Traceback (most recent call last)",
      "\u001b[1;32m~\\AppData\\Local\\Temp/ipykernel_24508/4269257853.py\u001b[0m in \u001b[0;36m<module>\u001b[1;34m\u001b[0m\n\u001b[1;32m----> 1\u001b[1;33m \u001b[0mnew_data\u001b[0m\u001b[1;33m.\u001b[0m\u001b[0mhead\u001b[0m\u001b[1;33m(\u001b[0m\u001b[1;33m)\u001b[0m\u001b[1;33m\u001b[0m\u001b[1;33m\u001b[0m\u001b[0m\n\u001b[0m",
      "\u001b[1;31mNameError\u001b[0m: name 'new_data' is not defined"
     ]
    }
   ],
   "source": [
    "new_data.head()"
   ]
  },
  {
   "cell_type": "code",
   "execution_count": null,
   "metadata": {},
   "outputs": [],
   "source": [
    "geo_data = 'seoul-dong.geo.json'"
   ]
  },
  {
   "cell_type": "code",
   "execution_count": null,
   "metadata": {},
   "outputs": [
    {
     "ename": "UnicodeDecodeError",
     "evalue": "'cp949' codec can't decode byte 0xec in position 43: illegal multibyte sequence",
     "output_type": "error",
     "traceback": [
      "\u001b[1;31m---------------------------------------------------------------------------\u001b[0m",
      "\u001b[1;31mUnicodeDecodeError\u001b[0m                        Traceback (most recent call last)",
      "\u001b[1;32m~\\AppData\\Local\\Temp/ipykernel_4764/2584142301.py\u001b[0m in \u001b[0;36m<module>\u001b[1;34m\u001b[0m\n\u001b[0;32m      6\u001b[0m \u001b[1;33m\u001b[0m\u001b[0m\n\u001b[0;32m      7\u001b[0m \u001b[1;31m# Choropleth 레이어를 만들고, 맵 m에 추가합니다.\u001b[0m\u001b[1;33m\u001b[0m\u001b[1;33m\u001b[0m\u001b[0m\n\u001b[1;32m----> 8\u001b[1;33m folium.Choropleth(\n\u001b[0m\u001b[0;32m      9\u001b[0m     \u001b[0mgeo_data\u001b[0m\u001b[1;33m=\u001b[0m\u001b[0mgeo_data\u001b[0m\u001b[1;33m,\u001b[0m\u001b[1;33m\u001b[0m\u001b[1;33m\u001b[0m\u001b[0m\n\u001b[0;32m     10\u001b[0m     \u001b[0mdata\u001b[0m\u001b[1;33m=\u001b[0m\u001b[0mnew_data\u001b[0m\u001b[1;33m,\u001b[0m\u001b[1;33m\u001b[0m\u001b[1;33m\u001b[0m\u001b[0m\n",
      "\u001b[1;32mC:\\ProgramData\\Anaconda3\\lib\\site-packages\\folium\\features.py\u001b[0m in \u001b[0;36m__init__\u001b[1;34m(self, geo_data, data, columns, key_on, bins, fill_color, nan_fill_color, fill_opacity, nan_fill_opacity, line_color, line_weight, line_opacity, name, legend_name, overlay, control, show, topojson, smooth_factor, highlight, **kwargs)\u001b[0m\n\u001b[0;32m   1134\u001b[0m                 smooth_factor=smooth_factor)\n\u001b[0;32m   1135\u001b[0m         \u001b[1;32melse\u001b[0m\u001b[1;33m:\u001b[0m\u001b[1;33m\u001b[0m\u001b[1;33m\u001b[0m\u001b[0m\n\u001b[1;32m-> 1136\u001b[1;33m             self.geojson = GeoJson(\n\u001b[0m\u001b[0;32m   1137\u001b[0m                 \u001b[0mgeo_data\u001b[0m\u001b[1;33m,\u001b[0m\u001b[1;33m\u001b[0m\u001b[1;33m\u001b[0m\u001b[0m\n\u001b[0;32m   1138\u001b[0m                 \u001b[0mstyle_function\u001b[0m\u001b[1;33m=\u001b[0m\u001b[0mstyle_function\u001b[0m\u001b[1;33m,\u001b[0m\u001b[1;33m\u001b[0m\u001b[1;33m\u001b[0m\u001b[0m\n",
      "\u001b[1;32mC:\\ProgramData\\Anaconda3\\lib\\site-packages\\folium\\features.py\u001b[0m in \u001b[0;36m__init__\u001b[1;34m(self, data, style_function, highlight_function, name, overlay, control, show, smooth_factor, tooltip, embed)\u001b[0m\n\u001b[0;32m    448\u001b[0m         \u001b[0mself\u001b[0m\u001b[1;33m.\u001b[0m\u001b[0mhighlight\u001b[0m \u001b[1;33m=\u001b[0m \u001b[0mhighlight_function\u001b[0m \u001b[1;32mis\u001b[0m \u001b[1;32mnot\u001b[0m \u001b[1;32mNone\u001b[0m\u001b[1;33m\u001b[0m\u001b[1;33m\u001b[0m\u001b[0m\n\u001b[0;32m    449\u001b[0m \u001b[1;33m\u001b[0m\u001b[0m\n\u001b[1;32m--> 450\u001b[1;33m         \u001b[0mself\u001b[0m\u001b[1;33m.\u001b[0m\u001b[0mdata\u001b[0m \u001b[1;33m=\u001b[0m \u001b[0mself\u001b[0m\u001b[1;33m.\u001b[0m\u001b[0mprocess_data\u001b[0m\u001b[1;33m(\u001b[0m\u001b[0mdata\u001b[0m\u001b[1;33m)\u001b[0m\u001b[1;33m\u001b[0m\u001b[1;33m\u001b[0m\u001b[0m\n\u001b[0m\u001b[0;32m    451\u001b[0m \u001b[1;33m\u001b[0m\u001b[0m\n\u001b[0;32m    452\u001b[0m         \u001b[1;32mif\u001b[0m \u001b[0mself\u001b[0m\u001b[1;33m.\u001b[0m\u001b[0mstyle\u001b[0m \u001b[1;32mor\u001b[0m \u001b[0mself\u001b[0m\u001b[1;33m.\u001b[0m\u001b[0mhighlight\u001b[0m\u001b[1;33m:\u001b[0m\u001b[1;33m\u001b[0m\u001b[1;33m\u001b[0m\u001b[0m\n",
      "\u001b[1;32mC:\\ProgramData\\Anaconda3\\lib\\site-packages\\folium\\features.py\u001b[0m in \u001b[0;36mprocess_data\u001b[1;34m(self, data)\u001b[0m\n\u001b[0;32m    484\u001b[0m                     \u001b[0mself\u001b[0m\u001b[1;33m.\u001b[0m\u001b[0membed_link\u001b[0m \u001b[1;33m=\u001b[0m \u001b[0mdata\u001b[0m\u001b[1;33m\u001b[0m\u001b[1;33m\u001b[0m\u001b[0m\n\u001b[0;32m    485\u001b[0m                 \u001b[1;32mwith\u001b[0m \u001b[0mopen\u001b[0m\u001b[1;33m(\u001b[0m\u001b[0mdata\u001b[0m\u001b[1;33m)\u001b[0m \u001b[1;32mas\u001b[0m \u001b[0mf\u001b[0m\u001b[1;33m:\u001b[0m\u001b[1;33m\u001b[0m\u001b[1;33m\u001b[0m\u001b[0m\n\u001b[1;32m--> 486\u001b[1;33m                     \u001b[1;32mreturn\u001b[0m \u001b[0mjson\u001b[0m\u001b[1;33m.\u001b[0m\u001b[0mloads\u001b[0m\u001b[1;33m(\u001b[0m\u001b[0mf\u001b[0m\u001b[1;33m.\u001b[0m\u001b[0mread\u001b[0m\u001b[1;33m(\u001b[0m\u001b[1;33m)\u001b[0m\u001b[1;33m)\u001b[0m\u001b[1;33m\u001b[0m\u001b[1;33m\u001b[0m\u001b[0m\n\u001b[0m\u001b[0;32m    487\u001b[0m         \u001b[1;32melif\u001b[0m \u001b[0mhasattr\u001b[0m\u001b[1;33m(\u001b[0m\u001b[0mdata\u001b[0m\u001b[1;33m,\u001b[0m \u001b[1;34m'__geo_interface__'\u001b[0m\u001b[1;33m)\u001b[0m\u001b[1;33m:\u001b[0m\u001b[1;33m\u001b[0m\u001b[1;33m\u001b[0m\u001b[0m\n\u001b[0;32m    488\u001b[0m             \u001b[0mself\u001b[0m\u001b[1;33m.\u001b[0m\u001b[0membed\u001b[0m \u001b[1;33m=\u001b[0m \u001b[1;32mTrue\u001b[0m\u001b[1;33m\u001b[0m\u001b[1;33m\u001b[0m\u001b[0m\n",
      "\u001b[1;31mUnicodeDecodeError\u001b[0m: 'cp949' codec can't decode byte 0xec in position 43: illegal multibyte sequence"
     ]
    }
   ],
   "source": [
    "# 서울시 중심부의 위도, 경도 입니다.\n",
    "center = [37.541, 126.986]\n",
    "\n",
    "# 맵이 center 에 위치하고, zoom 레벨은 11로 시작하는 맵 m을 만듭니다.\n",
    "m = folium.Map(location=center, zoom_start=10)\n",
    "\n",
    "# Choropleth 레이어를 만들고, 맵 m에 추가합니다.\n",
    "folium.Choropleth(\n",
    "    geo_data=geo_data,\n",
    "    data=new_data,\n",
    "    columns=('동', '거래금액(만원)'),\n",
    "    key_on='feature.properties.동',\n",
    "    fill_color='BuPu',\n",
    "    legend_name='실거래가',\n",
    ").add_to(m)\n",
    "\n",
    "# 맵 m을 출력합니다.\n",
    "m"
   ]
  }
 ],
 "metadata": {
  "interpreter": {
   "hash": "b3ba2566441a7c06988d0923437866b63cedc61552a5af99d1f4fb67d367b25f"
  },
  "kernelspec": {
   "display_name": "Python 3.9.7 64-bit ('base': conda)",
   "language": "python",
   "name": "python3"
  },
  "language_info": {
   "codemirror_mode": {
    "name": "ipython",
    "version": 3
   },
   "file_extension": ".py",
   "mimetype": "text/x-python",
   "name": "python",
   "nbconvert_exporter": "python",
   "pygments_lexer": "ipython3",
   "version": "3.9.7"
  },
  "orig_nbformat": 4
 },
 "nbformat": 4,
 "nbformat_minor": 2
}
