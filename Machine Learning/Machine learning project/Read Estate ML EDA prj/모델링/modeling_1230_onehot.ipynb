{
 "cells": [
  {
   "cell_type": "code",
   "execution_count": 1,
   "metadata": {},
   "outputs": [],
   "source": [
    "import pandas as pd\n",
    "import numpy as np\n",
    "import warnings\n",
    "\n",
    "\n",
    "warnings.filterwarnings('ignore')\n",
    "\n",
    "from sklearn.preprocessing import OneHotEncoder\n",
    "from sklearn import preprocessing\n",
    "\n",
    "from sklearn.model_selection import train_test_split\n",
    "from sklearn.model_selection import TimeSeriesSplit\n",
    "\n",
    "from sklearn.model_selection import cross_val_score\n",
    "\n",
    "from optuna import Trial\n",
    "import optuna\n",
    "from optuna.samplers import TPESampler"
   ]
  },
  {
   "cell_type": "code",
   "execution_count": 2,
   "metadata": {},
   "outputs": [
    {
     "name": "stdout",
     "output_type": "stream",
     "text": [
      "<class 'pandas.core.frame.DataFrame'>\n",
      "Int64Index: 237987 entries, 64104 to 208092\n",
      "Data columns (total 18 columns):\n",
      " #   Column       Non-Null Count   Dtype  \n",
      "---  ------       --------------   -----  \n",
      " 0   시구동          237987 non-null  object \n",
      " 1   전용면적         237987 non-null  float64\n",
      " 2   거래금액         237987 non-null  int64  \n",
      " 3   층            237987 non-null  int64  \n",
      " 4   건축년도         237987 non-null  int64  \n",
      " 5   평당단가         237987 non-null  float64\n",
      " 6   구            237987 non-null  object \n",
      " 7   단지명브랜드       237987 non-null  object \n",
      " 8   계약날짜인코딩      237987 non-null  int64  \n",
      " 9   구별 공원 갯수     237987 non-null  float64\n",
      " 10  8학군          237987 non-null  int64  \n",
      " 11  구별 교과학원 갯수   237987 non-null  int64  \n",
      " 12  구별 대형마트 수    237987 non-null  float64\n",
      " 13  구별 백화점 수     237987 non-null  float64\n",
      " 14  구별 전체 마트 수   237987 non-null  float64\n",
      " 15  구별 대학병원 병원수  237987 non-null  int64  \n",
      " 16  구별 종합병원 병원수  237987 non-null  int64  \n",
      " 17  단지명별 신축거래비율  237987 non-null  float64\n",
      "dtypes: float64(7), int64(8), object(3)\n",
      "memory usage: 34.5+ MB\n"
     ]
    }
   ],
   "source": [
    "sample_df = pd.read_csv('train_data_onehot.csv', sep=',')\n",
    "\n",
    "# 시간 순서대로 데이터 반영하기 위해서 거래년월일 정렬 필요\n",
    "sample_df = sample_df.sort_values('계약날짜인코딩')\n",
    "# sample_df = sample_df[sample_df.columns.difference(['동별 공원 갯수', '8학군', '동별지하철역수', '구별 교과학원 갯수'])]\n",
    "sample_df = sample_df.fillna(0)\n",
    "sample_df.info()"
   ]
  },
  {
   "cell_type": "markdown",
   "metadata": {},
   "source": [
    "### 1. 무지성 인코딩"
   ]
  },
  {
   "cell_type": "code",
   "execution_count": 3,
   "metadata": {},
   "outputs": [],
   "source": [
    "\n",
    "'''\n",
    "    - 카테고리: 데이터 전처리\n",
    "    - 개요: 무지성 인코딩 => 전체 컬럼 데이터 타입 확인 후 통째로 범주형 인코딩 처리\n",
    "    - param: df\n",
    "    - return: encoded columns dataframe\n",
    "'''\n",
    "def one_hot(df):\n",
    "    # 컬럼의 이름 리스트로 뽑아오기\n",
    "    columns_name_list = list(df.columns)\n",
    "\n",
    "    # 컬럼마다 for문 반복\n",
    "    for col_name in columns_name_list:\n",
    "        # 만약 컬럼의 값 타입이 범주형이면\n",
    "        if df[col_name].dtype == object or df[col_name].dtype == str:\n",
    "\n",
    "            # # 컬럼의 유니크한 값을 리스트로 만들어둠\n",
    "            col_items = df[col_name].unique().tolist()\n",
    "            # print(col_items)\n",
    "\n",
    "            onehot = OneHotEncoder(sparse=False)\n",
    "            # print(col_name)\n",
    "            onehot_encoded_arr = onehot.fit_transform(df[col_name].values.reshape(-1, 1))\n",
    "            onehot_encoded_label = onehot.categories_[0]\n",
    "            onehot_encoded_df = pd.DataFrame(onehot_encoded_arr, columns=onehot_encoded_label)\n",
    "            # print(onehot_encoded_df)\n",
    "            df.drop(col_name, axis=1, inplace=True)\n",
    "            df = pd.concat([df, onehot_encoded_df], axis=1)\n",
    "        else:\n",
    "            # 종속(타겟) 컬럼만 인코딩 제외\n",
    "            if col_name == '평당단가':\n",
    "                continue\n",
    "            scaled_label = [col_name]\n",
    "            x = df[col_name].values.reshape(-1, 1) #returns a numpy array\n",
    "            min_max_scaler = preprocessing.MinMaxScaler()\n",
    "            x_scaled = min_max_scaler.fit_transform(x)\n",
    "            scaled_df = pd.DataFrame(x_scaled, columns=scaled_label)\n",
    "\n",
    "            df.drop(col_name, axis=1, inplace=True)\n",
    "            df = pd.concat([df, scaled_df], axis=1)\n",
    "\n",
    "    return df\n",
    "'''\n",
    "    - 카테고리: 데이터 전처리\n",
    "    - 개요: 무지성 인코딩 => 새로운 데이터 컬럼 추가 시 별도 인코딩 결과만 출력할 때 사용 ㄱㄱ\n",
    "    - param: df, col_name\n",
    "    - return: encoded columns dataframe or series\n",
    "'''\n",
    "def encode_column(df, col_name):\n",
    "\n",
    "    # column data type이 object 또는 str 즉 범주형일 경우\n",
    "    # onehot 인코딩 수행된 데이터프레임 return\n",
    "    if df[col_name].dtype == object or df[col_name].dtype == str:\n",
    "        onehot = OneHotEncoder(sparse=False)\n",
    "\n",
    "        onehot_encoded_arr = onehot.fit_transform(df[col_name].values.reshape(-1, 1))\n",
    "        onehot_encoded_label = onehot.categories_[0]\n",
    "        onehot_encoded_df = pd.DataFrame(onehot_encoded_arr, columns=onehot_encoded_label)\n",
    "\n",
    "        return onehot_encoded_df\n",
    "\n",
    "    # column data type이 나머지 타입일 경우\n",
    "    # 해당 컬럼의 series return\n",
    "    else:\n",
    "        return df[col_name]"
   ]
  },
  {
   "cell_type": "code",
   "execution_count": 4,
   "metadata": {},
   "outputs": [
    {
     "data": {
      "text/html": [
       "<div>\n",
       "<style scoped>\n",
       "    .dataframe tbody tr th:only-of-type {\n",
       "        vertical-align: middle;\n",
       "    }\n",
       "\n",
       "    .dataframe tbody tr th {\n",
       "        vertical-align: top;\n",
       "    }\n",
       "\n",
       "    .dataframe thead th {\n",
       "        text-align: right;\n",
       "    }\n",
       "</style>\n",
       "<table border=\"1\" class=\"dataframe\">\n",
       "  <thead>\n",
       "    <tr style=\"text-align: right;\">\n",
       "      <th></th>\n",
       "      <th>평당단가</th>\n",
       "      <th>서울특별시 강남구 개포동</th>\n",
       "      <th>서울특별시 강남구 논현동</th>\n",
       "      <th>서울특별시 강남구 대치동</th>\n",
       "      <th>서울특별시 강남구 도곡동</th>\n",
       "      <th>서울특별시 강남구 삼성동</th>\n",
       "      <th>서울특별시 강남구 세곡동</th>\n",
       "      <th>서울특별시 강남구 수서동</th>\n",
       "      <th>서울특별시 강남구 신사동</th>\n",
       "      <th>서울특별시 강남구 압구정동</th>\n",
       "      <th>...</th>\n",
       "      <th>계약날짜인코딩</th>\n",
       "      <th>구별 공원 갯수</th>\n",
       "      <th>8학군</th>\n",
       "      <th>구별 교과학원 갯수</th>\n",
       "      <th>구별 대형마트 수</th>\n",
       "      <th>구별 백화점 수</th>\n",
       "      <th>구별 전체 마트 수</th>\n",
       "      <th>구별 대학병원 병원수</th>\n",
       "      <th>구별 종합병원 병원수</th>\n",
       "      <th>단지명별 신축거래비율</th>\n",
       "    </tr>\n",
       "  </thead>\n",
       "  <tbody>\n",
       "    <tr>\n",
       "      <th>0</th>\n",
       "      <td>5364.511692</td>\n",
       "      <td>0.0</td>\n",
       "      <td>0.0</td>\n",
       "      <td>0.0</td>\n",
       "      <td>0.0</td>\n",
       "      <td>0.0</td>\n",
       "      <td>0.0</td>\n",
       "      <td>0.0</td>\n",
       "      <td>0.0</td>\n",
       "      <td>0.0</td>\n",
       "      <td>...</td>\n",
       "      <td>0.001826</td>\n",
       "      <td>0.916667</td>\n",
       "      <td>1.0</td>\n",
       "      <td>1.000000</td>\n",
       "      <td>0.166667</td>\n",
       "      <td>1.0</td>\n",
       "      <td>0.875</td>\n",
       "      <td>0.571429</td>\n",
       "      <td>1.000000</td>\n",
       "      <td>0.110657</td>\n",
       "    </tr>\n",
       "    <tr>\n",
       "      <th>1</th>\n",
       "      <td>4828.060523</td>\n",
       "      <td>0.0</td>\n",
       "      <td>0.0</td>\n",
       "      <td>0.0</td>\n",
       "      <td>0.0</td>\n",
       "      <td>0.0</td>\n",
       "      <td>0.0</td>\n",
       "      <td>0.0</td>\n",
       "      <td>0.0</td>\n",
       "      <td>0.0</td>\n",
       "      <td>...</td>\n",
       "      <td>0.006393</td>\n",
       "      <td>0.916667</td>\n",
       "      <td>1.0</td>\n",
       "      <td>1.000000</td>\n",
       "      <td>0.166667</td>\n",
       "      <td>1.0</td>\n",
       "      <td>0.875</td>\n",
       "      <td>0.571429</td>\n",
       "      <td>1.000000</td>\n",
       "      <td>0.110657</td>\n",
       "    </tr>\n",
       "    <tr>\n",
       "      <th>2</th>\n",
       "      <td>5364.511692</td>\n",
       "      <td>0.0</td>\n",
       "      <td>0.0</td>\n",
       "      <td>0.0</td>\n",
       "      <td>0.0</td>\n",
       "      <td>0.0</td>\n",
       "      <td>0.0</td>\n",
       "      <td>0.0</td>\n",
       "      <td>0.0</td>\n",
       "      <td>0.0</td>\n",
       "      <td>...</td>\n",
       "      <td>0.009132</td>\n",
       "      <td>0.916667</td>\n",
       "      <td>1.0</td>\n",
       "      <td>1.000000</td>\n",
       "      <td>0.166667</td>\n",
       "      <td>1.0</td>\n",
       "      <td>0.875</td>\n",
       "      <td>0.571429</td>\n",
       "      <td>1.000000</td>\n",
       "      <td>0.110657</td>\n",
       "    </tr>\n",
       "    <tr>\n",
       "      <th>3</th>\n",
       "      <td>5756.533700</td>\n",
       "      <td>0.0</td>\n",
       "      <td>0.0</td>\n",
       "      <td>0.0</td>\n",
       "      <td>0.0</td>\n",
       "      <td>0.0</td>\n",
       "      <td>0.0</td>\n",
       "      <td>0.0</td>\n",
       "      <td>0.0</td>\n",
       "      <td>0.0</td>\n",
       "      <td>...</td>\n",
       "      <td>0.070320</td>\n",
       "      <td>0.916667</td>\n",
       "      <td>1.0</td>\n",
       "      <td>1.000000</td>\n",
       "      <td>0.166667</td>\n",
       "      <td>1.0</td>\n",
       "      <td>0.875</td>\n",
       "      <td>0.571429</td>\n",
       "      <td>1.000000</td>\n",
       "      <td>0.110657</td>\n",
       "    </tr>\n",
       "    <tr>\n",
       "      <th>4</th>\n",
       "      <td>6452.346308</td>\n",
       "      <td>0.0</td>\n",
       "      <td>0.0</td>\n",
       "      <td>0.0</td>\n",
       "      <td>0.0</td>\n",
       "      <td>1.0</td>\n",
       "      <td>0.0</td>\n",
       "      <td>0.0</td>\n",
       "      <td>0.0</td>\n",
       "      <td>0.0</td>\n",
       "      <td>...</td>\n",
       "      <td>0.085845</td>\n",
       "      <td>0.916667</td>\n",
       "      <td>1.0</td>\n",
       "      <td>1.000000</td>\n",
       "      <td>0.166667</td>\n",
       "      <td>1.0</td>\n",
       "      <td>0.875</td>\n",
       "      <td>0.571429</td>\n",
       "      <td>1.000000</td>\n",
       "      <td>0.110657</td>\n",
       "    </tr>\n",
       "    <tr>\n",
       "      <th>...</th>\n",
       "      <td>...</td>\n",
       "      <td>...</td>\n",
       "      <td>...</td>\n",
       "      <td>...</td>\n",
       "      <td>...</td>\n",
       "      <td>...</td>\n",
       "      <td>...</td>\n",
       "      <td>...</td>\n",
       "      <td>...</td>\n",
       "      <td>...</td>\n",
       "      <td>...</td>\n",
       "      <td>...</td>\n",
       "      <td>...</td>\n",
       "      <td>...</td>\n",
       "      <td>...</td>\n",
       "      <td>...</td>\n",
       "      <td>...</td>\n",
       "      <td>...</td>\n",
       "      <td>...</td>\n",
       "      <td>...</td>\n",
       "      <td>...</td>\n",
       "    </tr>\n",
       "    <tr>\n",
       "      <th>237982</th>\n",
       "      <td>1410.601638</td>\n",
       "      <td>0.0</td>\n",
       "      <td>0.0</td>\n",
       "      <td>0.0</td>\n",
       "      <td>0.0</td>\n",
       "      <td>0.0</td>\n",
       "      <td>0.0</td>\n",
       "      <td>0.0</td>\n",
       "      <td>0.0</td>\n",
       "      <td>0.0</td>\n",
       "      <td>...</td>\n",
       "      <td>0.730594</td>\n",
       "      <td>0.076389</td>\n",
       "      <td>0.0</td>\n",
       "      <td>0.101749</td>\n",
       "      <td>1.000000</td>\n",
       "      <td>0.0</td>\n",
       "      <td>0.750</td>\n",
       "      <td>0.428571</td>\n",
       "      <td>0.322581</td>\n",
       "      <td>0.110657</td>\n",
       "    </tr>\n",
       "    <tr>\n",
       "      <th>237983</th>\n",
       "      <td>1269.794287</td>\n",
       "      <td>0.0</td>\n",
       "      <td>0.0</td>\n",
       "      <td>0.0</td>\n",
       "      <td>0.0</td>\n",
       "      <td>0.0</td>\n",
       "      <td>0.0</td>\n",
       "      <td>0.0</td>\n",
       "      <td>0.0</td>\n",
       "      <td>0.0</td>\n",
       "      <td>...</td>\n",
       "      <td>0.866667</td>\n",
       "      <td>0.076389</td>\n",
       "      <td>0.0</td>\n",
       "      <td>0.101749</td>\n",
       "      <td>1.000000</td>\n",
       "      <td>0.0</td>\n",
       "      <td>0.750</td>\n",
       "      <td>0.428571</td>\n",
       "      <td>0.322581</td>\n",
       "      <td>0.110657</td>\n",
       "    </tr>\n",
       "    <tr>\n",
       "      <th>237984</th>\n",
       "      <td>1513.445904</td>\n",
       "      <td>0.0</td>\n",
       "      <td>0.0</td>\n",
       "      <td>0.0</td>\n",
       "      <td>0.0</td>\n",
       "      <td>0.0</td>\n",
       "      <td>0.0</td>\n",
       "      <td>0.0</td>\n",
       "      <td>0.0</td>\n",
       "      <td>0.0</td>\n",
       "      <td>...</td>\n",
       "      <td>0.841096</td>\n",
       "      <td>0.076389</td>\n",
       "      <td>0.0</td>\n",
       "      <td>0.101749</td>\n",
       "      <td>1.000000</td>\n",
       "      <td>0.0</td>\n",
       "      <td>0.750</td>\n",
       "      <td>0.428571</td>\n",
       "      <td>0.322581</td>\n",
       "      <td>0.016495</td>\n",
       "    </tr>\n",
       "    <tr>\n",
       "      <th>237985</th>\n",
       "      <td>1805.330937</td>\n",
       "      <td>0.0</td>\n",
       "      <td>0.0</td>\n",
       "      <td>0.0</td>\n",
       "      <td>0.0</td>\n",
       "      <td>0.0</td>\n",
       "      <td>0.0</td>\n",
       "      <td>0.0</td>\n",
       "      <td>0.0</td>\n",
       "      <td>0.0</td>\n",
       "      <td>...</td>\n",
       "      <td>0.974429</td>\n",
       "      <td>0.076389</td>\n",
       "      <td>0.0</td>\n",
       "      <td>0.101749</td>\n",
       "      <td>1.000000</td>\n",
       "      <td>0.0</td>\n",
       "      <td>0.750</td>\n",
       "      <td>0.428571</td>\n",
       "      <td>0.322581</td>\n",
       "      <td>0.016495</td>\n",
       "    </tr>\n",
       "    <tr>\n",
       "      <th>237986</th>\n",
       "      <td>1698.623086</td>\n",
       "      <td>0.0</td>\n",
       "      <td>0.0</td>\n",
       "      <td>0.0</td>\n",
       "      <td>0.0</td>\n",
       "      <td>0.0</td>\n",
       "      <td>0.0</td>\n",
       "      <td>0.0</td>\n",
       "      <td>0.0</td>\n",
       "      <td>0.0</td>\n",
       "      <td>...</td>\n",
       "      <td>0.914155</td>\n",
       "      <td>0.076389</td>\n",
       "      <td>0.0</td>\n",
       "      <td>0.101749</td>\n",
       "      <td>1.000000</td>\n",
       "      <td>0.0</td>\n",
       "      <td>0.750</td>\n",
       "      <td>0.428571</td>\n",
       "      <td>0.322581</td>\n",
       "      <td>0.016495</td>\n",
       "    </tr>\n",
       "  </tbody>\n",
       "</table>\n",
       "<p>237987 rows × 409 columns</p>\n",
       "</div>"
      ],
      "text/plain": [
       "               평당단가  서울특별시 강남구 개포동  서울특별시 강남구 논현동  서울특별시 강남구 대치동  \\\n",
       "0       5364.511692            0.0            0.0            0.0   \n",
       "1       4828.060523            0.0            0.0            0.0   \n",
       "2       5364.511692            0.0            0.0            0.0   \n",
       "3       5756.533700            0.0            0.0            0.0   \n",
       "4       6452.346308            0.0            0.0            0.0   \n",
       "...             ...            ...            ...            ...   \n",
       "237982  1410.601638            0.0            0.0            0.0   \n",
       "237983  1269.794287            0.0            0.0            0.0   \n",
       "237984  1513.445904            0.0            0.0            0.0   \n",
       "237985  1805.330937            0.0            0.0            0.0   \n",
       "237986  1698.623086            0.0            0.0            0.0   \n",
       "\n",
       "        서울특별시 강남구 도곡동  서울특별시 강남구 삼성동  서울특별시 강남구 세곡동  서울특별시 강남구 수서동  \\\n",
       "0                 0.0            0.0            0.0            0.0   \n",
       "1                 0.0            0.0            0.0            0.0   \n",
       "2                 0.0            0.0            0.0            0.0   \n",
       "3                 0.0            0.0            0.0            0.0   \n",
       "4                 0.0            1.0            0.0            0.0   \n",
       "...               ...            ...            ...            ...   \n",
       "237982            0.0            0.0            0.0            0.0   \n",
       "237983            0.0            0.0            0.0            0.0   \n",
       "237984            0.0            0.0            0.0            0.0   \n",
       "237985            0.0            0.0            0.0            0.0   \n",
       "237986            0.0            0.0            0.0            0.0   \n",
       "\n",
       "        서울특별시 강남구 신사동  서울특별시 강남구 압구정동  ...   계약날짜인코딩  구별 공원 갯수  8학군  \\\n",
       "0                 0.0             0.0  ...  0.001826  0.916667  1.0   \n",
       "1                 0.0             0.0  ...  0.006393  0.916667  1.0   \n",
       "2                 0.0             0.0  ...  0.009132  0.916667  1.0   \n",
       "3                 0.0             0.0  ...  0.070320  0.916667  1.0   \n",
       "4                 0.0             0.0  ...  0.085845  0.916667  1.0   \n",
       "...               ...             ...  ...       ...       ...  ...   \n",
       "237982            0.0             0.0  ...  0.730594  0.076389  0.0   \n",
       "237983            0.0             0.0  ...  0.866667  0.076389  0.0   \n",
       "237984            0.0             0.0  ...  0.841096  0.076389  0.0   \n",
       "237985            0.0             0.0  ...  0.974429  0.076389  0.0   \n",
       "237986            0.0             0.0  ...  0.914155  0.076389  0.0   \n",
       "\n",
       "        구별 교과학원 갯수  구별 대형마트 수  구별 백화점 수  구별 전체 마트 수  구별 대학병원 병원수  구별 종합병원 병원수  \\\n",
       "0         1.000000   0.166667       1.0       0.875     0.571429     1.000000   \n",
       "1         1.000000   0.166667       1.0       0.875     0.571429     1.000000   \n",
       "2         1.000000   0.166667       1.0       0.875     0.571429     1.000000   \n",
       "3         1.000000   0.166667       1.0       0.875     0.571429     1.000000   \n",
       "4         1.000000   0.166667       1.0       0.875     0.571429     1.000000   \n",
       "...            ...        ...       ...         ...          ...          ...   \n",
       "237982    0.101749   1.000000       0.0       0.750     0.428571     0.322581   \n",
       "237983    0.101749   1.000000       0.0       0.750     0.428571     0.322581   \n",
       "237984    0.101749   1.000000       0.0       0.750     0.428571     0.322581   \n",
       "237985    0.101749   1.000000       0.0       0.750     0.428571     0.322581   \n",
       "237986    0.101749   1.000000       0.0       0.750     0.428571     0.322581   \n",
       "\n",
       "        단지명별 신축거래비율  \n",
       "0          0.110657  \n",
       "1          0.110657  \n",
       "2          0.110657  \n",
       "3          0.110657  \n",
       "4          0.110657  \n",
       "...             ...  \n",
       "237982     0.110657  \n",
       "237983     0.110657  \n",
       "237984     0.016495  \n",
       "237985     0.016495  \n",
       "237986     0.016495  \n",
       "\n",
       "[237987 rows x 409 columns]"
      ]
     },
     "execution_count": 4,
     "metadata": {},
     "output_type": "execute_result"
    }
   ],
   "source": [
    "# 1-1 test one_hot function\n",
    "preprocessed_train_df = one_hot(sample_df)\n",
    "preprocessed_train_df"
   ]
  },
  {
   "cell_type": "code",
   "execution_count": 9,
   "metadata": {},
   "outputs": [
    {
     "data": {
      "text/plain": [
       "(142792, 142792)"
      ]
     },
     "execution_count": 9,
     "metadata": {},
     "output_type": "execute_result"
    }
   ],
   "source": [
    "# 인코딩된 전체 데이터 셋에서 train, test split하여 분할 시행\n",
    "# fit 함수에서 사용할 예정 train(모델 훈련 및 도출), test(최종 검증 데이터)\n",
    "\n",
    "# 인코딩된 데이터에서 data, target 분류\n",
    "data = preprocessed_train_df[preprocessed_train_df.columns.difference(['평당단가', '거래금액', '전용면적'])]\n",
    "target = preprocessed_train_df['평당단가'] \n",
    "\n",
    "train_x, test_x, train_y, test_y = train_test_split(data, target, test_size=0.4, shuffle=False)\n",
    "\n",
    "# train_x(data), train_y(target) => cross validation을 이용하여 교차 검증 및 점수 도출할 데이터\n",
    "# test_x(data), test_y(target) => 향후 train data를 이용하여 생성된 최종 모형 평가하기 위한 테스트 데이터\n",
    "# 무작위가 아닌 시간순 정렬 반영 위해 shuffle=False\n",
    "\n",
    "len(train_x), len(train_y)"
   ]
  },
  {
   "cell_type": "markdown",
   "metadata": {},
   "source": [
    "### 2. 모델링"
   ]
  },
  {
   "cell_type": "code",
   "execution_count": 10,
   "metadata": {},
   "outputs": [],
   "source": [
    "from sklearn.model_selection import KFold\n",
    "'''\n",
    "    - 카테고리: 모델링\n",
    "    - 개요: 머신러닝 모델링 수행 및 점수 도출\n",
    "        - 교차 검증 방법으로 TimeSeriesSplit 수행\n",
    "    - param: \n",
    "\n",
    "        1. model_tuple => ex. ('LR', LinearRegression())\n",
    "        2. X_train, y_train, X_test, y_test\n",
    "\n",
    "    - return: rmse\n",
    "'''\n",
    "def execute_modeling(model_tuple, data, target):\n",
    "\n",
    "    name = model_tuple[0]\n",
    "    model = model_tuple[1]\n",
    "\n",
    "    # TimeSeries Cross validation \n",
    "    # tscv = TimeSeriesSplit(n_splits=7)\n",
    "    kfold = KFold(n_splits=5)\n",
    "\n",
    "    # 각 모델에 대하여 교차 검증한 결과 점수 확인\n",
    "    # r^2, rmse 같이 도출 ㄱㄱ\n",
    "    score_list = []\n",
    "    score_type = ['r2', 'neg_mean_squared_error']\n",
    "\n",
    "    for s_type in score_type:\n",
    "\n",
    "        scores = cross_val_score(model, data, target, cv=kfold, scoring=s_type)\n",
    "\n",
    "        if s_type == 'neg_mean_squared_error':\n",
    "            scores = np.sqrt(-scores)\n",
    "\n",
    "        print(f'{name} average {s_type}: {scores.mean()}, score_list {s_type}: {scores}')\n",
    "\n",
    "        score_list.append(scores.mean())\n",
    "\n",
    "    r_square = score_list[0]\n",
    "\n",
    "    return r_square"
   ]
  },
  {
   "cell_type": "code",
   "execution_count": 26,
   "metadata": {},
   "outputs": [
    {
     "name": "stdout",
     "output_type": "stream",
     "text": [
      "voting average r2: 0.7165227293085995, score_list r2: [0.83815711 0.78086846 0.69478342 0.58965144 0.67915322]\n",
      "voting average neg_mean_squared_error: 797.4463838734443, score_list neg_mean_squared_error: [ 598.8057214   623.51280198 1168.07000529  621.20111403  975.64227667]\n"
     ]
    }
   ],
   "source": [
    "from sklearn.linear_model import Ridge, Lasso, LinearRegression, ElasticNet\n",
    "import tqdm\n",
    "from sklearn.ensemble import RandomForestRegressor, VotingRegressor\n",
    "\n",
    "import xgboost as xgb\n",
    "import lightgbm as lgb\n",
    "\n",
    "# 2. test execute_modeling function\n",
    "preprocessed_train_df = one_hot(sample_df)\n",
    "preprocessed_train_df = preprocessed_train_df.drop_duplicates()\n",
    "\n",
    "model_list = [\n",
    "#                 ('RF', RandomForestRegressor(n_estimators=5)),\n",
    "#                 ('XGB', xgb.XGBRegressor()),\n",
    "#                 ('LGBM', lgb.LGBMRegressor()),\n",
    "\n",
    "#                 ('voting', VotingRegressor(estimators=[\n",
    "#                     ('RF', RandomForestRegressor(n_estimators=5)),\n",
    "#                     ('XGB', xgb.XGBRegressor()),\n",
    "#                     ('LGBM', lgb.LGBMRegressor())\n",
    "#                 ]))\n",
    "                ('voting', VotingRegressor(estimators=[\n",
    "                    ('XGB', xgb.XGBRegressor()),\n",
    "                    ('LGBM', lgb.LGBMRegressor())\n",
    "                ]))\n",
    "            ]\n",
    "\n",
    "for model_tuple in model_list:\n",
    "    execute_modeling(model_tuple, train_x, train_y)\n",
    "    pass"
   ]
  },
  {
   "cell_type": "markdown",
   "metadata": {},
   "source": [
    "### 3. 파라미터 튜닝"
   ]
  },
  {
   "cell_type": "code",
   "execution_count": 15,
   "metadata": {},
   "outputs": [
    {
     "name": "stderr",
     "output_type": "stream",
     "text": [
      "\u001b[32m[I 2021-12-30 17:11:22,514]\u001b[0m A new study created in memory with name: no-name-56ee262b-75ae-424e-96c5-aa8bbbe0cc5b\u001b[0m\n"
     ]
    },
    {
     "name": "stdout",
     "output_type": "stream",
     "text": [
      "XGBR average r2: 0.7095428377769324, score_list r2: [0.82273435 0.76481911 0.70636837 0.58197308 0.67181927]\n"
     ]
    },
    {
     "name": "stderr",
     "output_type": "stream",
     "text": [
      "\u001b[32m[I 2021-12-30 17:16:18,458]\u001b[0m Trial 0 finished with value: 0.7095428377769324 and parameters: {'n_estimators': 96, 'max_depth': 5, 'min_child_weight': 10}. Best is trial 0 with value: 0.7095428377769324.\u001b[0m\n"
     ]
    },
    {
     "name": "stdout",
     "output_type": "stream",
     "text": [
      "XGBR average neg_mean_squared_error: 806.4068669299389, score_list neg_mean_squared_error: [ 626.68806941  645.94261656 1145.68764053  626.98606645  986.72994171]\n",
      "XGBR average r2: 0.707626165868014, score_list r2: [0.81444688 0.76297092 0.70080597 0.57652542 0.68338164]\n"
     ]
    },
    {
     "name": "stderr",
     "output_type": "stream",
     "text": [
      "\u001b[32m[I 2021-12-30 17:21:28,475]\u001b[0m Trial 1 finished with value: 0.707626165868014 and parameters: {'n_estimators': 83, 'max_depth': 5, 'min_child_weight': 1}. Best is trial 1 with value: 0.707626165868014.\u001b[0m\n"
     ]
    },
    {
     "name": "stdout",
     "output_type": "stream",
     "text": [
      "XGBR average neg_mean_squared_error: 809.2768931884116, score_list neg_mean_squared_error: [ 641.17009122  648.47575178 1156.48839235  631.05823418  969.19199641]\n",
      "XGBR average r2: 0.6963666569441289, score_list r2: [0.84528169 0.78836072 0.63742656 0.52681846 0.68394584]\n"
     ]
    },
    {
     "name": "stderr",
     "output_type": "stream",
     "text": [
      "\u001b[32m[I 2021-12-30 17:31:29,609]\u001b[0m Trial 2 finished with value: 0.6963666569441289 and parameters: {'n_estimators': 95, 'max_depth': 9, 'min_child_weight': 6}. Best is trial 2 with value: 0.6963666569441289.\u001b[0m\n"
     ]
    },
    {
     "name": "stdout",
     "output_type": "stream",
     "text": [
      "XGBR average neg_mean_squared_error: 821.3468685594971, score_list neg_mean_squared_error: [ 585.47719046  612.76092498 1273.10084151  667.06731585  968.32806999]\n",
      "XGBR average r2: 0.7102343048542894, score_list r2: [0.83671853 0.78540072 0.71918847 0.50144347 0.70842033]\n"
     ]
    },
    {
     "name": "stderr",
     "output_type": "stream",
     "text": [
      "\u001b[32m[I 2021-12-30 17:40:02,876]\u001b[0m Trial 3 finished with value: 0.7102343048542894 and parameters: {'n_estimators': 88, 'max_depth': 8, 'min_child_weight': 9}. Best is trial 2 with value: 0.6963666569441289.\u001b[0m\n"
     ]
    },
    {
     "name": "stdout",
     "output_type": "stream",
     "text": [
      "XGBR average neg_mean_squared_error: 790.7380496010428, score_list neg_mean_squared_error: [ 601.46115466  617.03110832 1120.39788323  684.71993086  930.08017093]\n",
      "XGBR average r2: 0.695441352778244, score_list r2: [0.82762256 0.78001699 0.6456818  0.54608514 0.67780027]\n"
     ]
    },
    {
     "name": "stderr",
     "output_type": "stream",
     "text": [
      "\u001b[32m[I 2021-12-30 17:46:14,906]\u001b[0m Trial 4 finished with value: 0.695441352778244 and parameters: {'n_estimators': 72, 'max_depth': 7, 'min_child_weight': 4}. Best is trial 4 with value: 0.695441352778244.\u001b[0m\n"
     ]
    },
    {
     "name": "stdout",
     "output_type": "stream",
     "text": [
      "XGBR average neg_mean_squared_error: 826.4553757322246, score_list neg_mean_squared_error: [ 617.98701321  624.72299502 1258.52411873  653.345596    977.6971557 ]\n",
      "XGBR average r2: 0.7078899385400866, score_list r2: [0.80759912 0.76868431 0.71239879 0.58005375 0.67071373]\n"
     ]
    },
    {
     "name": "stderr",
     "output_type": "stream",
     "text": [
      "\u001b[32m[I 2021-12-30 17:50:11,593]\u001b[0m Trial 5 finished with value: 0.7078899385400866 and parameters: {'n_estimators': 65, 'max_depth': 5, 'min_child_weight': 2}. Best is trial 4 with value: 0.695441352778244.\u001b[0m\n"
     ]
    },
    {
     "name": "stdout",
     "output_type": "stream",
     "text": [
      "XGBR average neg_mean_squared_error: 808.8365639230277, score_list neg_mean_squared_error: [ 652.89397029  640.61259673 1133.86192015  628.42379677  988.39053568]\n",
      "XGBR average r2: 0.708397706233662, score_list r2: [0.83659456 0.78234833 0.70180075 0.52569917 0.69554573]\n"
     ]
    },
    {
     "name": "stderr",
     "output_type": "stream",
     "text": [
      "\u001b[32m[I 2021-12-30 17:57:39,405]\u001b[0m Trial 6 finished with value: 0.708397706233662 and parameters: {'n_estimators': 77, 'max_depth': 8, 'min_child_weight': 5}. Best is trial 4 with value: 0.695441352778244.\u001b[0m\n"
     ]
    },
    {
     "name": "stdout",
     "output_type": "stream",
     "text": [
      "XGBR average neg_mean_squared_error: 799.1810724261542, score_list neg_mean_squared_error: [ 601.68944189  621.40383657 1154.564209    667.85581139  950.39206329]\n",
      "XGBR average r2: 0.7089557256327463, score_list r2: [0.82430523 0.77851451 0.71329748 0.53417971 0.69448169]\n"
     ]
    },
    {
     "name": "stderr",
     "output_type": "stream",
     "text": [
      "\u001b[32m[I 2021-12-30 18:03:30,796]\u001b[0m Trial 7 finished with value: 0.7089557256327463 and parameters: {'n_estimators': 78, 'max_depth': 6, 'min_child_weight': 4}. Best is trial 4 with value: 0.695441352778244.\u001b[0m\n"
     ]
    },
    {
     "name": "stdout",
     "output_type": "stream",
     "text": [
      "XGBR average neg_mean_squared_error: 799.3513002450329, score_list neg_mean_squared_error: [ 623.90511787  626.85278696 1132.08899225  661.8582196   952.05138455]\n",
      "XGBR average r2: 0.7043885875996782, score_list r2: [0.83666153 0.78116973 0.65942869 0.55400029 0.69068269]\n"
     ]
    },
    {
     "name": "stderr",
     "output_type": "stream",
     "text": [
      "\u001b[32m[I 2021-12-30 18:09:54,556]\u001b[0m Trial 8 finished with value: 0.7043885875996782 and parameters: {'n_estimators': 91, 'max_depth': 7, 'min_child_weight': 10}. Best is trial 4 with value: 0.695441352778244.\u001b[0m\n"
     ]
    },
    {
     "name": "stdout",
     "output_type": "stream",
     "text": [
      "XGBR average neg_mean_squared_error: 812.8190041955274, score_list neg_mean_squared_error: [ 601.56611606  623.08403047 1233.86839704  647.6241788   957.95229861]\n",
      "XGBR average r2: 0.6965164852503326, score_list r2: [0.82807894 0.78190308 0.64880754 0.54569855 0.67809432]\n"
     ]
    },
    {
     "name": "stderr",
     "output_type": "stream",
     "text": [
      "\u001b[32m[I 2021-12-30 18:15:23,712]\u001b[0m Trial 9 finished with value: 0.6965164852503326 and parameters: {'n_estimators': 79, 'max_depth': 7, 'min_child_weight': 4}. Best is trial 4 with value: 0.695441352778244.\u001b[0m\n"
     ]
    },
    {
     "name": "stdout",
     "output_type": "stream",
     "text": [
      "XGBR average neg_mean_squared_error: 824.60855009837, score_list neg_mean_squared_error: [ 617.16838413  622.03911522 1252.96057185  653.6237554   977.25092389]\n",
      "0.695441352778244 {'n_estimators': 72, 'max_depth': 7, 'min_child_weight': 4}\n"
     ]
    }
   ],
   "source": [
    "# 3. test get_best_param function\n",
    "\n",
    "# linear regression model object\n",
    "def linear_object(trial:Trial, data, target):\n",
    "    params = {\n",
    "        'fit_intercept': trial.suggest_categorical('fit_intercept', [True, False])\n",
    "    }\n",
    "    \n",
    "    test_model = LinearRegression(**params)\n",
    "    test_model_score = execute_modeling(('LR', test_model), data, target)\n",
    "\n",
    "    return test_model_score\n",
    "\n",
    "# xgbr regression model object\n",
    "def xgb_object(trial:Trial, data, target):\n",
    "    params = {\n",
    "        \"n_estimators\" : trial.suggest_int('n_estimators', 50, 100),\n",
    "        'max_depth':trial.suggest_int('max_depth', 5, 10),\n",
    "        'min_child_weight':trial.suggest_int('min_child_weight', 1, 10)\n",
    "    }\n",
    "\n",
    "    test_model = xgb.XGBRegressor(**params)\n",
    "    test_model_score = execute_modeling(('XGBR', test_model), data, target)\n",
    "\n",
    "    return test_model_score\n",
    "    \n",
    "\n",
    "# light gbm regression model object\n",
    "def lgb_object(trial:Trial, data, target):\n",
    "    params = {\n",
    "        \"n_estimators\" : trial.suggest_int('n_estimators', 50, 100),\n",
    "        'max_depth':trial.suggest_int('max_depth', 5, 10),\n",
    "        'min_child_weight':trial.suggest_int('min_child_weight', 1, 10)\n",
    "    }\n",
    "    \n",
    "    test_model = lgb.LGBMRegressor(**params)\n",
    "    test_model_score = execute_modeling(('LGBM', test_model), data, target)\n",
    "\n",
    "    return test_model_score\n",
    "\n",
    "# randomforest regressor model object\n",
    "def random_forest_object(trial:Trial, data, target):\n",
    "    params = {\n",
    "        \"n_estimators\" : trial.suggest_int('n_estimators', 50, 100),\n",
    "        'max_depth':trial.suggest_int('max_depth', 5, 10),\n",
    "        'min_samples_split':trial.suggest_int('min_samples_split', 2, 10),\n",
    "        'min_samples_leaf':trial.suggest_int('min_samples_leaf', 1, 10)\n",
    "    }\n",
    "    \n",
    "    test_model = RandomForestRegressor(**params)\n",
    "    test_model_score = execute_modeling(('rf', test_model), data, target)\n",
    "\n",
    "    return test_model_score\n",
    "\n",
    "# voting regressor model object\n",
    "def voting_regressor(trial:Trial, data, target):\n",
    "    pass\n",
    "\n",
    "# 하이퍼 파라미터 결과 도출\n",
    "# 위에서 분할한  X_train, y_train, X_test, y_test 파라미터 삽입\n",
    "study = optuna.create_study(direction='minimize', sampler=TPESampler())\n",
    "study.optimize(lambda trial: xgb_object(trial, train_x, train_y), n_trials=10)\n",
    "\n",
    "best_score = study.best_value\n",
    "best_param_dict = study.best_trial.params\n",
    "\n",
    "print(best_score, best_param_dict)"
   ]
  },
  {
   "cell_type": "code",
   "execution_count": 18,
   "metadata": {},
   "outputs": [
    {
     "name": "stderr",
     "output_type": "stream",
     "text": [
      "\u001b[32m[I 2021-12-30 18:19:09,138]\u001b[0m A new study created in memory with name: no-name-788e9fd5-89ac-4f59-bb40-6c685ceff80d\u001b[0m\n"
     ]
    },
    {
     "name": "stdout",
     "output_type": "stream",
     "text": [
      "LGBM average r2: 0.6882148312702514, score_list r2: [0.81225661 0.7607092  0.64021953 0.55546157 0.67242724]\n"
     ]
    },
    {
     "name": "stderr",
     "output_type": "stream",
     "text": [
      "\u001b[32m[I 2021-12-30 18:19:28,268]\u001b[0m Trial 0 finished with value: 0.6882148312702514 and parameters: {'n_estimators': 98, 'max_depth': 8, 'min_child_weight': 7}. Best is trial 0 with value: 0.6882148312702514.\u001b[0m\n"
     ]
    },
    {
     "name": "stdout",
     "output_type": "stream",
     "text": [
      "LGBM average neg_mean_squared_error: 839.4142501007078, score_list neg_mean_squared_error: [ 644.94317976  651.56226896 1268.18789899  646.56236298  985.8155398 ]\n",
      "LGBM average r2: 0.6831569915556878, score_list r2: [0.81442416 0.76508661 0.64013389 0.52004824 0.67609205]\n"
     ]
    },
    {
     "name": "stderr",
     "output_type": "stream",
     "text": [
      "\u001b[32m[I 2021-12-30 18:19:47,517]\u001b[0m Trial 1 finished with value: 0.6831569915556878 and parameters: {'n_estimators': 97, 'max_depth': 7, 'min_child_weight': 2}. Best is trial 1 with value: 0.6831569915556878.\u001b[0m\n"
     ]
    },
    {
     "name": "stdout",
     "output_type": "stream",
     "text": [
      "LGBM average neg_mean_squared_error: 841.4462671797177, score_list neg_mean_squared_error: [ 641.20934356  645.57515504 1268.33882859  671.82252814  980.28548058]\n",
      "LGBM average r2: 0.6884369533630366, score_list r2: [0.81706005 0.76517885 0.64746762 0.54435336 0.66812489]\n"
     ]
    },
    {
     "name": "stderr",
     "output_type": "stream",
     "text": [
      "\u001b[32m[I 2021-12-30 18:20:06,530]\u001b[0m Trial 2 finished with value: 0.6884369533630366 and parameters: {'n_estimators': 97, 'max_depth': 10, 'min_child_weight': 4}. Best is trial 1 with value: 0.6831569915556878.\u001b[0m\n"
     ]
    },
    {
     "name": "stdout",
     "output_type": "stream",
     "text": [
      "LGBM average neg_mean_squared_error: 836.8590404851636, score_list neg_mean_squared_error: [ 636.63924166  645.44840883 1255.34853279  654.59073506  992.2682841 ]\n",
      "LGBM average r2: 0.653265246332789, score_list r2: [0.7815434  0.71852796 0.66710581 0.46465676 0.63449231]\n"
     ]
    },
    {
     "name": "stderr",
     "output_type": "stream",
     "text": [
      "\u001b[32m[I 2021-12-30 18:20:23,011]\u001b[0m Trial 3 finished with value: 0.653265246332789 and parameters: {'n_estimators': 55, 'max_depth': 6, 'min_child_weight': 1}. Best is trial 3 with value: 0.653265246332789.\u001b[0m\n"
     ]
    },
    {
     "name": "stdout",
     "output_type": "stream",
     "text": [
      "LGBM average neg_mean_squared_error: 874.6215509162851, score_list neg_mean_squared_error: [ 695.69953689  706.66007769 1219.88227696  709.53190572 1041.33395732]\n",
      "LGBM average r2: 0.6545077228106215, score_list r2: [0.79177795 0.72811086 0.60766401 0.4941613  0.65082449]\n"
     ]
    },
    {
     "name": "stderr",
     "output_type": "stream",
     "text": [
      "\u001b[32m[I 2021-12-30 18:20:39,265]\u001b[0m Trial 4 finished with value: 0.6545077228106215 and parameters: {'n_estimators': 51, 'max_depth': 9, 'min_child_weight': 3}. Best is trial 3 with value: 0.653265246332789.\u001b[0m\n"
     ]
    },
    {
     "name": "stdout",
     "output_type": "stream",
     "text": [
      "LGBM average neg_mean_squared_error: 881.1124598479194, score_list neg_mean_squared_error: [ 679.20752478  694.52655947 1324.32289097  689.70248567 1017.80283835]\n",
      "LGBM average r2: 0.6858235432132634, score_list r2: [0.81614864 0.75325199 0.63278073 0.5479121  0.67902426]\n"
     ]
    },
    {
     "name": "stderr",
     "output_type": "stream",
     "text": [
      "\u001b[32m[I 2021-12-30 18:20:57,516]\u001b[0m Trial 5 finished with value: 0.6858235432132634 and parameters: {'n_estimators': 87, 'max_depth': 9, 'min_child_weight': 10}. Best is trial 3 with value: 0.653265246332789.\u001b[0m\n"
     ]
    },
    {
     "name": "stdout",
     "output_type": "stream",
     "text": [
      "LGBM average neg_mean_squared_error: 841.7918401400686, score_list neg_mean_squared_error: [ 638.22314925  661.63695944 1281.23132006  652.02944736  975.83832458]\n",
      "LGBM average r2: 0.656741933594047, score_list r2: [0.78250141 0.72297109 0.66828333 0.47261747 0.63733636]\n"
     ]
    },
    {
     "name": "stderr",
     "output_type": "stream",
     "text": [
      "\u001b[32m[I 2021-12-30 18:21:13,890]\u001b[0m Trial 6 finished with value: 0.656741933594047 and parameters: {'n_estimators': 58, 'max_depth': 6, 'min_child_weight': 5}. Best is trial 3 with value: 0.653265246332789.\u001b[0m\n"
     ]
    },
    {
     "name": "stdout",
     "output_type": "stream",
     "text": [
      "LGBM average neg_mean_squared_error: 870.8934159768618, score_list neg_mean_squared_error: [ 694.17240895  701.06046359 1217.72286188  704.23667215 1037.27467332]\n",
      "LGBM average r2: 0.6562182177462358, score_list r2: [0.78155523 0.73371556 0.67217641 0.47628911 0.61735478]\n"
     ]
    },
    {
     "name": "stderr",
     "output_type": "stream",
     "text": [
      "\u001b[32m[I 2021-12-30 18:21:30,495]\u001b[0m Trial 7 finished with value: 0.6562182177462358 and parameters: {'n_estimators': 68, 'max_depth': 5, 'min_child_weight': 9}. Best is trial 3 with value: 0.653265246332789.\u001b[0m\n"
     ]
    },
    {
     "name": "stdout",
     "output_type": "stream",
     "text": [
      "LGBM average neg_mean_squared_error: 872.1630656124664, score_list neg_mean_squared_error: [ 695.68069579  687.33082387 1210.55607914  701.78094377 1065.46678548]\n",
      "LGBM average r2: 0.6437010795174194, score_list r2: [0.77640038 0.71950139 0.66391317 0.45355816 0.6051323 ]\n"
     ]
    },
    {
     "name": "stderr",
     "output_type": "stream",
     "text": [
      "\u001b[32m[I 2021-12-30 18:21:46,429]\u001b[0m Trial 8 finished with value: 0.6437010795174194 and parameters: {'n_estimators': 55, 'max_depth': 5, 'min_child_weight': 1}. Best is trial 8 with value: 0.6437010795174194.\u001b[0m\n"
     ]
    },
    {
     "name": "stdout",
     "output_type": "stream",
     "text": [
      "LGBM average neg_mean_squared_error: 886.8389905097487, score_list neg_mean_squared_error: [ 703.84116436  705.43707782 1225.71798298  716.84909289 1082.3496345 ]\n",
      "LGBM average r2: 0.6713346560285504, score_list r2: [0.79030373 0.74775873 0.68278182 0.50588385 0.62994514]\n"
     ]
    },
    {
     "name": "stderr",
     "output_type": "stream",
     "text": [
      "\u001b[32m[I 2021-12-30 18:22:03,976]\u001b[0m Trial 9 finished with value: 0.6713346560285504 and parameters: {'n_estimators': 94, 'max_depth': 5, 'min_child_weight': 2}. Best is trial 8 with value: 0.6437010795174194.\u001b[0m\n"
     ]
    },
    {
     "name": "stdout",
     "output_type": "stream",
     "text": [
      "LGBM average neg_mean_squared_error: 854.1676068605254, score_list neg_mean_squared_error: [ 681.6076925   668.96129887 1190.81376554  681.66389473 1047.79138267]\n",
      "0.6437010795174194 {'n_estimators': 55, 'max_depth': 5, 'min_child_weight': 1}\n"
     ]
    }
   ],
   "source": [
    "# 하이퍼 파라미터 결과 도출\n",
    "# 위에서 분할한  X_train, y_train, X_test, y_test 파라미터 삽입\n",
    "study = optuna.create_study(direction='minimize', sampler=TPESampler())\n",
    "study.optimize(lambda trial: lgb_object(trial, train_x, train_y), n_trials=10)\n",
    "\n",
    "best_score = study.best_value\n",
    "best_param_dict = study.best_trial.params\n",
    "\n",
    "print(best_score, best_param_dict)"
   ]
  },
  {
   "cell_type": "code",
   "execution_count": 19,
   "metadata": {},
   "outputs": [
    {
     "name": "stderr",
     "output_type": "stream",
     "text": [
      "\u001b[32m[I 2021-12-30 18:22:03,994]\u001b[0m A new study created in memory with name: no-name-c98f314b-2978-4edd-a3b7-58dd5b0f1bc2\u001b[0m\n"
     ]
    },
    {
     "name": "stdout",
     "output_type": "stream",
     "text": [
      "rf average r2: 0.443796791473914, score_list r2: [0.63638586 0.53672585 0.52483931 0.19292764 0.3281053 ]\n"
     ]
    },
    {
     "name": "stderr",
     "output_type": "stream",
     "text": [
      "\u001b[32m[I 2021-12-30 18:33:08,181]\u001b[0m Trial 0 finished with value: 0.443796791473914 and parameters: {'n_estimators': 80, 'max_depth': 5, 'min_samples_split': 7, 'min_samples_leaf': 5}. Best is trial 0 with value: 0.443796791473914.\u001b[0m\n"
     ]
    },
    {
     "name": "stdout",
     "output_type": "stream",
     "text": [
      "rf average neg_mean_squared_error: 1110.6366710726518, score_list neg_mean_squared_error: [ 895.70592316  906.87148005 1466.64009331  871.83317727 1412.13268158]\n",
      "rf average r2: 0.5582271398526268, score_list r2: [0.7296468  0.63065126 0.60092463 0.29508495 0.53482806]\n"
     ]
    },
    {
     "name": "stderr",
     "output_type": "stream",
     "text": [
      "\u001b[32m[I 2021-12-30 18:48:08,727]\u001b[0m Trial 1 finished with value: 0.5582271398526268 and parameters: {'n_estimators': 84, 'max_depth': 7, 'min_samples_split': 10, 'min_samples_leaf': 1}. Best is trial 0 with value: 0.443796791473914.\u001b[0m\n"
     ]
    },
    {
     "name": "stdout",
     "output_type": "stream",
     "text": [
      "rf average neg_mean_squared_error: 972.4209792402191, score_list neg_mean_squared_error: [ 769.92756386  813.0072086  1296.54501155  807.54806646 1175.07704573]\n",
      "rf average r2: 0.4422501283345424, score_list r2: [0.63591794 0.54233966 0.50675793 0.19260091 0.33363421]\n"
     ]
    },
    {
     "name": "stderr",
     "output_type": "stream",
     "text": [
      "\u001b[32m[I 2021-12-30 18:58:26,560]\u001b[0m Trial 2 finished with value: 0.4422501283345424 and parameters: {'n_estimators': 79, 'max_depth': 5, 'min_samples_split': 9, 'min_samples_leaf': 6}. Best is trial 2 with value: 0.4422501283345424.\u001b[0m\n"
     ]
    },
    {
     "name": "stdout",
     "output_type": "stream",
     "text": [
      "rf average neg_mean_squared_error: 1107.3188388676358, score_list neg_mean_squared_error: [ 898.51402532  901.94693403 1460.9622924   864.93352984 1410.23741275]\n",
      "rf average r2: 0.5112906290769983, score_list r2: [0.6784557  0.59682013 0.5745615  0.25484071 0.45177511]\n"
     ]
    },
    {
     "name": "stderr",
     "output_type": "stream",
     "text": [
      "\u001b[32m[I 2021-12-30 19:08:32,664]\u001b[0m Trial 3 finished with value: 0.5112906290769983 and parameters: {'n_estimators': 67, 'max_depth': 6, 'min_samples_split': 7, 'min_samples_leaf': 9}. Best is trial 2 with value: 0.4422501283345424.\u001b[0m\n"
     ]
    },
    {
     "name": "stdout",
     "output_type": "stream",
     "text": [
      "rf average neg_mean_squared_error: 1031.3418855702425, score_list neg_mean_squared_error: [ 842.73616588  843.8912215  1358.84051096  834.03733977 1277.20418974]\n",
      "rf average r2: 0.5661436014993184, score_list r2: [0.7301972  0.63662308 0.62284575 0.3055251  0.53552688]\n"
     ]
    },
    {
     "name": "stderr",
     "output_type": "stream",
     "text": [
      "\u001b[32m[I 2021-12-30 19:19:27,304]\u001b[0m Trial 4 finished with value: 0.5661436014993184 and parameters: {'n_estimators': 63, 'max_depth': 7, 'min_samples_split': 3, 'min_samples_leaf': 10}. Best is trial 2 with value: 0.4422501283345424.\u001b[0m\n"
     ]
    },
    {
     "name": "stdout",
     "output_type": "stream",
     "text": [
      "rf average neg_mean_squared_error: 965.367490294552, score_list neg_mean_squared_error: [ 770.24520761  807.60617427 1259.42775148  815.26855744 1174.28976067]\n",
      "rf average r2: 0.6475823163961918, score_list r2: [0.79365415 0.68908048 0.68599875 0.44767349 0.62150471]\n"
     ]
    },
    {
     "name": "stderr",
     "output_type": "stream",
     "text": [
      "\u001b[32m[I 2021-12-30 19:30:40,012]\u001b[0m Trial 5 finished with value: 0.6475823163961918 and parameters: {'n_estimators': 53, 'max_depth': 9, 'min_samples_split': 9, 'min_samples_leaf': 3}. Best is trial 2 with value: 0.4422501283345424.\u001b[0m\n"
     ]
    },
    {
     "name": "stdout",
     "output_type": "stream",
     "text": [
      "rf average neg_mean_squared_error: 880.4496049215617, score_list neg_mean_squared_error: [ 674.88488519  738.63300787 1202.59504879  718.80589581 1067.32918694]\n",
      "rf average r2: 0.568085248715521, score_list r2: [0.73144141 0.62637731 0.63371965 0.31230186 0.53658601]\n"
     ]
    },
    {
     "name": "stderr",
     "output_type": "stream",
     "text": [
      "\u001b[32m[I 2021-12-30 19:39:25,963]\u001b[0m Trial 6 finished with value: 0.568085248715521 and parameters: {'n_estimators': 51, 'max_depth': 7, 'min_samples_split': 5, 'min_samples_leaf': 9}. Best is trial 2 with value: 0.4422501283345424.\u001b[0m\n"
     ]
    },
    {
     "name": "stdout",
     "output_type": "stream",
     "text": [
      "rf average neg_mean_squared_error: 967.0756594673279, score_list neg_mean_squared_error: [ 775.12720636  802.2871592  1279.33831567  804.84267605 1173.78294005]\n",
      "rf average r2: 0.5681309437147553, score_list r2: [0.73117987 0.62723585 0.6422877  0.30686206 0.53308924]\n"
     ]
    },
    {
     "name": "stderr",
     "output_type": "stream",
     "text": [
      "\u001b[32m[I 2021-12-30 19:51:07,474]\u001b[0m Trial 7 finished with value: 0.5681309437147553 and parameters: {'n_estimators': 68, 'max_depth': 7, 'min_samples_split': 4, 'min_samples_leaf': 9}. Best is trial 2 with value: 0.4422501283345424.\u001b[0m\n"
     ]
    },
    {
     "name": "stdout",
     "output_type": "stream",
     "text": [
      "rf average neg_mean_squared_error: 971.368132962684, score_list neg_mean_squared_error: [ 769.26714049  810.81988069 1291.55814196  809.59883533 1175.59666635]\n",
      "rf average r2: 0.5621916690948343, score_list r2: [0.73270203 0.62873196 0.59181276 0.32153446 0.53617714]\n"
     ]
    },
    {
     "name": "stderr",
     "output_type": "stream",
     "text": [
      "\u001b[32m[I 2021-12-30 20:00:45,201]\u001b[0m Trial 8 finished with value: 0.5621916690948343 and parameters: {'n_estimators': 56, 'max_depth': 7, 'min_samples_split': 2, 'min_samples_leaf': 5}. Best is trial 2 with value: 0.4422501283345424.\u001b[0m\n"
     ]
    },
    {
     "name": "stdout",
     "output_type": "stream",
     "text": [
      "rf average neg_mean_squared_error: 972.2636704522984, score_list neg_mean_squared_error: [ 770.69425625  806.63657479 1301.46996918  812.18156699 1170.33598505]\n",
      "rf average r2: 0.44089997407454373, score_list r2: [0.63704903 0.54034601 0.50824397 0.19116214 0.32769872]\n"
     ]
    },
    {
     "name": "stderr",
     "output_type": "stream",
     "text": [
      "\u001b[32m[I 2021-12-30 20:09:37,072]\u001b[0m Trial 9 finished with value: 0.44089997407454373 and parameters: {'n_estimators': 69, 'max_depth': 5, 'min_samples_split': 8, 'min_samples_leaf': 2}. Best is trial 9 with value: 0.44089997407454373.\u001b[0m\n"
     ]
    },
    {
     "name": "stdout",
     "output_type": "stream",
     "text": [
      "rf average neg_mean_squared_error: 1110.9559861784578, score_list neg_mean_squared_error: [ 901.3414605   902.64591852 1463.63417     870.73088312 1416.42749875]\n",
      "0.44089997407454373 {'n_estimators': 69, 'max_depth': 5, 'min_samples_split': 8, 'min_samples_leaf': 2}\n"
     ]
    }
   ],
   "source": [
    "# 하이퍼 파라미터 결과 도출\n",
    "# 위에서 분할한  X_train, y_train, X_test, y_test 파라미터 삽입\n",
    "study = optuna.create_study(direction='minimize', sampler=TPESampler())\n",
    "study.optimize(lambda trial: random_forest_object(trial, train_x, train_y), n_trials=10)\n",
    "\n",
    "best_score = study.best_value\n",
    "best_param_dict = study.best_trial.params\n",
    "\n",
    "print(best_score, best_param_dict)"
   ]
  },
  {
   "cell_type": "code",
   "execution_count": 27,
   "metadata": {},
   "outputs": [
    {
     "name": "stderr",
     "output_type": "stream",
     "text": [
      "\u001b[33m[W 2021-12-30 21:40:11,557]\u001b[0m Study instance does not contain completed trials.\u001b[0m\n"
     ]
    },
    {
     "data": {
      "application/vnd.plotly.v1+json": {
       "config": {
        "plotlyServerURL": "https://plot.ly"
       },
       "data": [],
       "layout": {
        "showlegend": false,
        "template": {
         "data": {
          "bar": [
           {
            "error_x": {
             "color": "#2a3f5f"
            },
            "error_y": {
             "color": "#2a3f5f"
            },
            "marker": {
             "line": {
              "color": "#E5ECF6",
              "width": 0.5
             },
             "pattern": {
              "fillmode": "overlay",
              "size": 10,
              "solidity": 0.2
             }
            },
            "type": "bar"
           }
          ],
          "barpolar": [
           {
            "marker": {
             "line": {
              "color": "#E5ECF6",
              "width": 0.5
             },
             "pattern": {
              "fillmode": "overlay",
              "size": 10,
              "solidity": 0.2
             }
            },
            "type": "barpolar"
           }
          ],
          "carpet": [
           {
            "aaxis": {
             "endlinecolor": "#2a3f5f",
             "gridcolor": "white",
             "linecolor": "white",
             "minorgridcolor": "white",
             "startlinecolor": "#2a3f5f"
            },
            "baxis": {
             "endlinecolor": "#2a3f5f",
             "gridcolor": "white",
             "linecolor": "white",
             "minorgridcolor": "white",
             "startlinecolor": "#2a3f5f"
            },
            "type": "carpet"
           }
          ],
          "choropleth": [
           {
            "colorbar": {
             "outlinewidth": 0,
             "ticks": ""
            },
            "type": "choropleth"
           }
          ],
          "contour": [
           {
            "colorbar": {
             "outlinewidth": 0,
             "ticks": ""
            },
            "colorscale": [
             [
              0,
              "#0d0887"
             ],
             [
              0.1111111111111111,
              "#46039f"
             ],
             [
              0.2222222222222222,
              "#7201a8"
             ],
             [
              0.3333333333333333,
              "#9c179e"
             ],
             [
              0.4444444444444444,
              "#bd3786"
             ],
             [
              0.5555555555555556,
              "#d8576b"
             ],
             [
              0.6666666666666666,
              "#ed7953"
             ],
             [
              0.7777777777777778,
              "#fb9f3a"
             ],
             [
              0.8888888888888888,
              "#fdca26"
             ],
             [
              1,
              "#f0f921"
             ]
            ],
            "type": "contour"
           }
          ],
          "contourcarpet": [
           {
            "colorbar": {
             "outlinewidth": 0,
             "ticks": ""
            },
            "type": "contourcarpet"
           }
          ],
          "heatmap": [
           {
            "colorbar": {
             "outlinewidth": 0,
             "ticks": ""
            },
            "colorscale": [
             [
              0,
              "#0d0887"
             ],
             [
              0.1111111111111111,
              "#46039f"
             ],
             [
              0.2222222222222222,
              "#7201a8"
             ],
             [
              0.3333333333333333,
              "#9c179e"
             ],
             [
              0.4444444444444444,
              "#bd3786"
             ],
             [
              0.5555555555555556,
              "#d8576b"
             ],
             [
              0.6666666666666666,
              "#ed7953"
             ],
             [
              0.7777777777777778,
              "#fb9f3a"
             ],
             [
              0.8888888888888888,
              "#fdca26"
             ],
             [
              1,
              "#f0f921"
             ]
            ],
            "type": "heatmap"
           }
          ],
          "heatmapgl": [
           {
            "colorbar": {
             "outlinewidth": 0,
             "ticks": ""
            },
            "colorscale": [
             [
              0,
              "#0d0887"
             ],
             [
              0.1111111111111111,
              "#46039f"
             ],
             [
              0.2222222222222222,
              "#7201a8"
             ],
             [
              0.3333333333333333,
              "#9c179e"
             ],
             [
              0.4444444444444444,
              "#bd3786"
             ],
             [
              0.5555555555555556,
              "#d8576b"
             ],
             [
              0.6666666666666666,
              "#ed7953"
             ],
             [
              0.7777777777777778,
              "#fb9f3a"
             ],
             [
              0.8888888888888888,
              "#fdca26"
             ],
             [
              1,
              "#f0f921"
             ]
            ],
            "type": "heatmapgl"
           }
          ],
          "histogram": [
           {
            "marker": {
             "pattern": {
              "fillmode": "overlay",
              "size": 10,
              "solidity": 0.2
             }
            },
            "type": "histogram"
           }
          ],
          "histogram2d": [
           {
            "colorbar": {
             "outlinewidth": 0,
             "ticks": ""
            },
            "colorscale": [
             [
              0,
              "#0d0887"
             ],
             [
              0.1111111111111111,
              "#46039f"
             ],
             [
              0.2222222222222222,
              "#7201a8"
             ],
             [
              0.3333333333333333,
              "#9c179e"
             ],
             [
              0.4444444444444444,
              "#bd3786"
             ],
             [
              0.5555555555555556,
              "#d8576b"
             ],
             [
              0.6666666666666666,
              "#ed7953"
             ],
             [
              0.7777777777777778,
              "#fb9f3a"
             ],
             [
              0.8888888888888888,
              "#fdca26"
             ],
             [
              1,
              "#f0f921"
             ]
            ],
            "type": "histogram2d"
           }
          ],
          "histogram2dcontour": [
           {
            "colorbar": {
             "outlinewidth": 0,
             "ticks": ""
            },
            "colorscale": [
             [
              0,
              "#0d0887"
             ],
             [
              0.1111111111111111,
              "#46039f"
             ],
             [
              0.2222222222222222,
              "#7201a8"
             ],
             [
              0.3333333333333333,
              "#9c179e"
             ],
             [
              0.4444444444444444,
              "#bd3786"
             ],
             [
              0.5555555555555556,
              "#d8576b"
             ],
             [
              0.6666666666666666,
              "#ed7953"
             ],
             [
              0.7777777777777778,
              "#fb9f3a"
             ],
             [
              0.8888888888888888,
              "#fdca26"
             ],
             [
              1,
              "#f0f921"
             ]
            ],
            "type": "histogram2dcontour"
           }
          ],
          "mesh3d": [
           {
            "colorbar": {
             "outlinewidth": 0,
             "ticks": ""
            },
            "type": "mesh3d"
           }
          ],
          "parcoords": [
           {
            "line": {
             "colorbar": {
              "outlinewidth": 0,
              "ticks": ""
             }
            },
            "type": "parcoords"
           }
          ],
          "pie": [
           {
            "automargin": true,
            "type": "pie"
           }
          ],
          "scatter": [
           {
            "marker": {
             "colorbar": {
              "outlinewidth": 0,
              "ticks": ""
             }
            },
            "type": "scatter"
           }
          ],
          "scatter3d": [
           {
            "line": {
             "colorbar": {
              "outlinewidth": 0,
              "ticks": ""
             }
            },
            "marker": {
             "colorbar": {
              "outlinewidth": 0,
              "ticks": ""
             }
            },
            "type": "scatter3d"
           }
          ],
          "scattercarpet": [
           {
            "marker": {
             "colorbar": {
              "outlinewidth": 0,
              "ticks": ""
             }
            },
            "type": "scattercarpet"
           }
          ],
          "scattergeo": [
           {
            "marker": {
             "colorbar": {
              "outlinewidth": 0,
              "ticks": ""
             }
            },
            "type": "scattergeo"
           }
          ],
          "scattergl": [
           {
            "marker": {
             "colorbar": {
              "outlinewidth": 0,
              "ticks": ""
             }
            },
            "type": "scattergl"
           }
          ],
          "scattermapbox": [
           {
            "marker": {
             "colorbar": {
              "outlinewidth": 0,
              "ticks": ""
             }
            },
            "type": "scattermapbox"
           }
          ],
          "scatterpolar": [
           {
            "marker": {
             "colorbar": {
              "outlinewidth": 0,
              "ticks": ""
             }
            },
            "type": "scatterpolar"
           }
          ],
          "scatterpolargl": [
           {
            "marker": {
             "colorbar": {
              "outlinewidth": 0,
              "ticks": ""
             }
            },
            "type": "scatterpolargl"
           }
          ],
          "scatterternary": [
           {
            "marker": {
             "colorbar": {
              "outlinewidth": 0,
              "ticks": ""
             }
            },
            "type": "scatterternary"
           }
          ],
          "surface": [
           {
            "colorbar": {
             "outlinewidth": 0,
             "ticks": ""
            },
            "colorscale": [
             [
              0,
              "#0d0887"
             ],
             [
              0.1111111111111111,
              "#46039f"
             ],
             [
              0.2222222222222222,
              "#7201a8"
             ],
             [
              0.3333333333333333,
              "#9c179e"
             ],
             [
              0.4444444444444444,
              "#bd3786"
             ],
             [
              0.5555555555555556,
              "#d8576b"
             ],
             [
              0.6666666666666666,
              "#ed7953"
             ],
             [
              0.7777777777777778,
              "#fb9f3a"
             ],
             [
              0.8888888888888888,
              "#fdca26"
             ],
             [
              1,
              "#f0f921"
             ]
            ],
            "type": "surface"
           }
          ],
          "table": [
           {
            "cells": {
             "fill": {
              "color": "#EBF0F8"
             },
             "line": {
              "color": "white"
             }
            },
            "header": {
             "fill": {
              "color": "#C8D4E3"
             },
             "line": {
              "color": "white"
             }
            },
            "type": "table"
           }
          ]
         },
         "layout": {
          "annotationdefaults": {
           "arrowcolor": "#2a3f5f",
           "arrowhead": 0,
           "arrowwidth": 1
          },
          "autotypenumbers": "strict",
          "coloraxis": {
           "colorbar": {
            "outlinewidth": 0,
            "ticks": ""
           }
          },
          "colorscale": {
           "diverging": [
            [
             0,
             "#8e0152"
            ],
            [
             0.1,
             "#c51b7d"
            ],
            [
             0.2,
             "#de77ae"
            ],
            [
             0.3,
             "#f1b6da"
            ],
            [
             0.4,
             "#fde0ef"
            ],
            [
             0.5,
             "#f7f7f7"
            ],
            [
             0.6,
             "#e6f5d0"
            ],
            [
             0.7,
             "#b8e186"
            ],
            [
             0.8,
             "#7fbc41"
            ],
            [
             0.9,
             "#4d9221"
            ],
            [
             1,
             "#276419"
            ]
           ],
           "sequential": [
            [
             0,
             "#0d0887"
            ],
            [
             0.1111111111111111,
             "#46039f"
            ],
            [
             0.2222222222222222,
             "#7201a8"
            ],
            [
             0.3333333333333333,
             "#9c179e"
            ],
            [
             0.4444444444444444,
             "#bd3786"
            ],
            [
             0.5555555555555556,
             "#d8576b"
            ],
            [
             0.6666666666666666,
             "#ed7953"
            ],
            [
             0.7777777777777778,
             "#fb9f3a"
            ],
            [
             0.8888888888888888,
             "#fdca26"
            ],
            [
             1,
             "#f0f921"
            ]
           ],
           "sequentialminus": [
            [
             0,
             "#0d0887"
            ],
            [
             0.1111111111111111,
             "#46039f"
            ],
            [
             0.2222222222222222,
             "#7201a8"
            ],
            [
             0.3333333333333333,
             "#9c179e"
            ],
            [
             0.4444444444444444,
             "#bd3786"
            ],
            [
             0.5555555555555556,
             "#d8576b"
            ],
            [
             0.6666666666666666,
             "#ed7953"
            ],
            [
             0.7777777777777778,
             "#fb9f3a"
            ],
            [
             0.8888888888888888,
             "#fdca26"
            ],
            [
             1,
             "#f0f921"
            ]
           ]
          },
          "colorway": [
           "#636efa",
           "#EF553B",
           "#00cc96",
           "#ab63fa",
           "#FFA15A",
           "#19d3f3",
           "#FF6692",
           "#B6E880",
           "#FF97FF",
           "#FECB52"
          ],
          "font": {
           "color": "#2a3f5f"
          },
          "geo": {
           "bgcolor": "white",
           "lakecolor": "white",
           "landcolor": "#E5ECF6",
           "showlakes": true,
           "showland": true,
           "subunitcolor": "white"
          },
          "hoverlabel": {
           "align": "left"
          },
          "hovermode": "closest",
          "mapbox": {
           "style": "light"
          },
          "paper_bgcolor": "white",
          "plot_bgcolor": "#E5ECF6",
          "polar": {
           "angularaxis": {
            "gridcolor": "white",
            "linecolor": "white",
            "ticks": ""
           },
           "bgcolor": "#E5ECF6",
           "radialaxis": {
            "gridcolor": "white",
            "linecolor": "white",
            "ticks": ""
           }
          },
          "scene": {
           "xaxis": {
            "backgroundcolor": "#E5ECF6",
            "gridcolor": "white",
            "gridwidth": 2,
            "linecolor": "white",
            "showbackground": true,
            "ticks": "",
            "zerolinecolor": "white"
           },
           "yaxis": {
            "backgroundcolor": "#E5ECF6",
            "gridcolor": "white",
            "gridwidth": 2,
            "linecolor": "white",
            "showbackground": true,
            "ticks": "",
            "zerolinecolor": "white"
           },
           "zaxis": {
            "backgroundcolor": "#E5ECF6",
            "gridcolor": "white",
            "gridwidth": 2,
            "linecolor": "white",
            "showbackground": true,
            "ticks": "",
            "zerolinecolor": "white"
           }
          },
          "shapedefaults": {
           "line": {
            "color": "#2a3f5f"
           }
          },
          "ternary": {
           "aaxis": {
            "gridcolor": "white",
            "linecolor": "white",
            "ticks": ""
           },
           "baxis": {
            "gridcolor": "white",
            "linecolor": "white",
            "ticks": ""
           },
           "bgcolor": "#E5ECF6",
           "caxis": {
            "gridcolor": "white",
            "linecolor": "white",
            "ticks": ""
           }
          },
          "title": {
           "x": 0.05
          },
          "xaxis": {
           "automargin": true,
           "gridcolor": "white",
           "linecolor": "white",
           "ticks": "",
           "title": {
            "standoff": 15
           },
           "zerolinecolor": "white",
           "zerolinewidth": 2
          },
          "yaxis": {
           "automargin": true,
           "gridcolor": "white",
           "linecolor": "white",
           "ticks": "",
           "title": {
            "standoff": 15
           },
           "zerolinecolor": "white",
           "zerolinewidth": 2
          }
         }
        },
        "title": {
         "text": "Hyperparameter Importances"
        },
        "xaxis": {
         "title": {
          "text": "Importance for Objective Value"
         }
        },
        "yaxis": {
         "title": {
          "text": "Hyperparameter"
         }
        }
       }
      },
      "text/html": [
       "<div>                            <div id=\"ddf4c0e4-fcd7-454f-ba94-38ca9bf3f336\" class=\"plotly-graph-div\" style=\"height:525px; width:100%;\"></div>            <script type=\"text/javascript\">                require([\"plotly\"], function(Plotly) {                    window.PLOTLYENV=window.PLOTLYENV || {};                                    if (document.getElementById(\"ddf4c0e4-fcd7-454f-ba94-38ca9bf3f336\")) {                    Plotly.newPlot(                        \"ddf4c0e4-fcd7-454f-ba94-38ca9bf3f336\",                        [],                        {\"showlegend\":false,\"title\":{\"text\":\"Hyperparameter Importances\"},\"xaxis\":{\"title\":{\"text\":\"Importance for Objective Value\"}},\"yaxis\":{\"title\":{\"text\":\"Hyperparameter\"}},\"template\":{\"data\":{\"bar\":[{\"error_x\":{\"color\":\"#2a3f5f\"},\"error_y\":{\"color\":\"#2a3f5f\"},\"marker\":{\"line\":{\"color\":\"#E5ECF6\",\"width\":0.5},\"pattern\":{\"fillmode\":\"overlay\",\"size\":10,\"solidity\":0.2}},\"type\":\"bar\"}],\"barpolar\":[{\"marker\":{\"line\":{\"color\":\"#E5ECF6\",\"width\":0.5},\"pattern\":{\"fillmode\":\"overlay\",\"size\":10,\"solidity\":0.2}},\"type\":\"barpolar\"}],\"carpet\":[{\"aaxis\":{\"endlinecolor\":\"#2a3f5f\",\"gridcolor\":\"white\",\"linecolor\":\"white\",\"minorgridcolor\":\"white\",\"startlinecolor\":\"#2a3f5f\"},\"baxis\":{\"endlinecolor\":\"#2a3f5f\",\"gridcolor\":\"white\",\"linecolor\":\"white\",\"minorgridcolor\":\"white\",\"startlinecolor\":\"#2a3f5f\"},\"type\":\"carpet\"}],\"choropleth\":[{\"colorbar\":{\"outlinewidth\":0,\"ticks\":\"\"},\"type\":\"choropleth\"}],\"contour\":[{\"colorbar\":{\"outlinewidth\":0,\"ticks\":\"\"},\"colorscale\":[[0.0,\"#0d0887\"],[0.1111111111111111,\"#46039f\"],[0.2222222222222222,\"#7201a8\"],[0.3333333333333333,\"#9c179e\"],[0.4444444444444444,\"#bd3786\"],[0.5555555555555556,\"#d8576b\"],[0.6666666666666666,\"#ed7953\"],[0.7777777777777778,\"#fb9f3a\"],[0.8888888888888888,\"#fdca26\"],[1.0,\"#f0f921\"]],\"type\":\"contour\"}],\"contourcarpet\":[{\"colorbar\":{\"outlinewidth\":0,\"ticks\":\"\"},\"type\":\"contourcarpet\"}],\"heatmap\":[{\"colorbar\":{\"outlinewidth\":0,\"ticks\":\"\"},\"colorscale\":[[0.0,\"#0d0887\"],[0.1111111111111111,\"#46039f\"],[0.2222222222222222,\"#7201a8\"],[0.3333333333333333,\"#9c179e\"],[0.4444444444444444,\"#bd3786\"],[0.5555555555555556,\"#d8576b\"],[0.6666666666666666,\"#ed7953\"],[0.7777777777777778,\"#fb9f3a\"],[0.8888888888888888,\"#fdca26\"],[1.0,\"#f0f921\"]],\"type\":\"heatmap\"}],\"heatmapgl\":[{\"colorbar\":{\"outlinewidth\":0,\"ticks\":\"\"},\"colorscale\":[[0.0,\"#0d0887\"],[0.1111111111111111,\"#46039f\"],[0.2222222222222222,\"#7201a8\"],[0.3333333333333333,\"#9c179e\"],[0.4444444444444444,\"#bd3786\"],[0.5555555555555556,\"#d8576b\"],[0.6666666666666666,\"#ed7953\"],[0.7777777777777778,\"#fb9f3a\"],[0.8888888888888888,\"#fdca26\"],[1.0,\"#f0f921\"]],\"type\":\"heatmapgl\"}],\"histogram\":[{\"marker\":{\"pattern\":{\"fillmode\":\"overlay\",\"size\":10,\"solidity\":0.2}},\"type\":\"histogram\"}],\"histogram2d\":[{\"colorbar\":{\"outlinewidth\":0,\"ticks\":\"\"},\"colorscale\":[[0.0,\"#0d0887\"],[0.1111111111111111,\"#46039f\"],[0.2222222222222222,\"#7201a8\"],[0.3333333333333333,\"#9c179e\"],[0.4444444444444444,\"#bd3786\"],[0.5555555555555556,\"#d8576b\"],[0.6666666666666666,\"#ed7953\"],[0.7777777777777778,\"#fb9f3a\"],[0.8888888888888888,\"#fdca26\"],[1.0,\"#f0f921\"]],\"type\":\"histogram2d\"}],\"histogram2dcontour\":[{\"colorbar\":{\"outlinewidth\":0,\"ticks\":\"\"},\"colorscale\":[[0.0,\"#0d0887\"],[0.1111111111111111,\"#46039f\"],[0.2222222222222222,\"#7201a8\"],[0.3333333333333333,\"#9c179e\"],[0.4444444444444444,\"#bd3786\"],[0.5555555555555556,\"#d8576b\"],[0.6666666666666666,\"#ed7953\"],[0.7777777777777778,\"#fb9f3a\"],[0.8888888888888888,\"#fdca26\"],[1.0,\"#f0f921\"]],\"type\":\"histogram2dcontour\"}],\"mesh3d\":[{\"colorbar\":{\"outlinewidth\":0,\"ticks\":\"\"},\"type\":\"mesh3d\"}],\"parcoords\":[{\"line\":{\"colorbar\":{\"outlinewidth\":0,\"ticks\":\"\"}},\"type\":\"parcoords\"}],\"pie\":[{\"automargin\":true,\"type\":\"pie\"}],\"scatter\":[{\"marker\":{\"colorbar\":{\"outlinewidth\":0,\"ticks\":\"\"}},\"type\":\"scatter\"}],\"scatter3d\":[{\"line\":{\"colorbar\":{\"outlinewidth\":0,\"ticks\":\"\"}},\"marker\":{\"colorbar\":{\"outlinewidth\":0,\"ticks\":\"\"}},\"type\":\"scatter3d\"}],\"scattercarpet\":[{\"marker\":{\"colorbar\":{\"outlinewidth\":0,\"ticks\":\"\"}},\"type\":\"scattercarpet\"}],\"scattergeo\":[{\"marker\":{\"colorbar\":{\"outlinewidth\":0,\"ticks\":\"\"}},\"type\":\"scattergeo\"}],\"scattergl\":[{\"marker\":{\"colorbar\":{\"outlinewidth\":0,\"ticks\":\"\"}},\"type\":\"scattergl\"}],\"scattermapbox\":[{\"marker\":{\"colorbar\":{\"outlinewidth\":0,\"ticks\":\"\"}},\"type\":\"scattermapbox\"}],\"scatterpolar\":[{\"marker\":{\"colorbar\":{\"outlinewidth\":0,\"ticks\":\"\"}},\"type\":\"scatterpolar\"}],\"scatterpolargl\":[{\"marker\":{\"colorbar\":{\"outlinewidth\":0,\"ticks\":\"\"}},\"type\":\"scatterpolargl\"}],\"scatterternary\":[{\"marker\":{\"colorbar\":{\"outlinewidth\":0,\"ticks\":\"\"}},\"type\":\"scatterternary\"}],\"surface\":[{\"colorbar\":{\"outlinewidth\":0,\"ticks\":\"\"},\"colorscale\":[[0.0,\"#0d0887\"],[0.1111111111111111,\"#46039f\"],[0.2222222222222222,\"#7201a8\"],[0.3333333333333333,\"#9c179e\"],[0.4444444444444444,\"#bd3786\"],[0.5555555555555556,\"#d8576b\"],[0.6666666666666666,\"#ed7953\"],[0.7777777777777778,\"#fb9f3a\"],[0.8888888888888888,\"#fdca26\"],[1.0,\"#f0f921\"]],\"type\":\"surface\"}],\"table\":[{\"cells\":{\"fill\":{\"color\":\"#EBF0F8\"},\"line\":{\"color\":\"white\"}},\"header\":{\"fill\":{\"color\":\"#C8D4E3\"},\"line\":{\"color\":\"white\"}},\"type\":\"table\"}]},\"layout\":{\"annotationdefaults\":{\"arrowcolor\":\"#2a3f5f\",\"arrowhead\":0,\"arrowwidth\":1},\"autotypenumbers\":\"strict\",\"coloraxis\":{\"colorbar\":{\"outlinewidth\":0,\"ticks\":\"\"}},\"colorscale\":{\"diverging\":[[0,\"#8e0152\"],[0.1,\"#c51b7d\"],[0.2,\"#de77ae\"],[0.3,\"#f1b6da\"],[0.4,\"#fde0ef\"],[0.5,\"#f7f7f7\"],[0.6,\"#e6f5d0\"],[0.7,\"#b8e186\"],[0.8,\"#7fbc41\"],[0.9,\"#4d9221\"],[1,\"#276419\"]],\"sequential\":[[0.0,\"#0d0887\"],[0.1111111111111111,\"#46039f\"],[0.2222222222222222,\"#7201a8\"],[0.3333333333333333,\"#9c179e\"],[0.4444444444444444,\"#bd3786\"],[0.5555555555555556,\"#d8576b\"],[0.6666666666666666,\"#ed7953\"],[0.7777777777777778,\"#fb9f3a\"],[0.8888888888888888,\"#fdca26\"],[1.0,\"#f0f921\"]],\"sequentialminus\":[[0.0,\"#0d0887\"],[0.1111111111111111,\"#46039f\"],[0.2222222222222222,\"#7201a8\"],[0.3333333333333333,\"#9c179e\"],[0.4444444444444444,\"#bd3786\"],[0.5555555555555556,\"#d8576b\"],[0.6666666666666666,\"#ed7953\"],[0.7777777777777778,\"#fb9f3a\"],[0.8888888888888888,\"#fdca26\"],[1.0,\"#f0f921\"]]},\"colorway\":[\"#636efa\",\"#EF553B\",\"#00cc96\",\"#ab63fa\",\"#FFA15A\",\"#19d3f3\",\"#FF6692\",\"#B6E880\",\"#FF97FF\",\"#FECB52\"],\"font\":{\"color\":\"#2a3f5f\"},\"geo\":{\"bgcolor\":\"white\",\"lakecolor\":\"white\",\"landcolor\":\"#E5ECF6\",\"showlakes\":true,\"showland\":true,\"subunitcolor\":\"white\"},\"hoverlabel\":{\"align\":\"left\"},\"hovermode\":\"closest\",\"mapbox\":{\"style\":\"light\"},\"paper_bgcolor\":\"white\",\"plot_bgcolor\":\"#E5ECF6\",\"polar\":{\"angularaxis\":{\"gridcolor\":\"white\",\"linecolor\":\"white\",\"ticks\":\"\"},\"bgcolor\":\"#E5ECF6\",\"radialaxis\":{\"gridcolor\":\"white\",\"linecolor\":\"white\",\"ticks\":\"\"}},\"scene\":{\"xaxis\":{\"backgroundcolor\":\"#E5ECF6\",\"gridcolor\":\"white\",\"gridwidth\":2,\"linecolor\":\"white\",\"showbackground\":true,\"ticks\":\"\",\"zerolinecolor\":\"white\"},\"yaxis\":{\"backgroundcolor\":\"#E5ECF6\",\"gridcolor\":\"white\",\"gridwidth\":2,\"linecolor\":\"white\",\"showbackground\":true,\"ticks\":\"\",\"zerolinecolor\":\"white\"},\"zaxis\":{\"backgroundcolor\":\"#E5ECF6\",\"gridcolor\":\"white\",\"gridwidth\":2,\"linecolor\":\"white\",\"showbackground\":true,\"ticks\":\"\",\"zerolinecolor\":\"white\"}},\"shapedefaults\":{\"line\":{\"color\":\"#2a3f5f\"}},\"ternary\":{\"aaxis\":{\"gridcolor\":\"white\",\"linecolor\":\"white\",\"ticks\":\"\"},\"baxis\":{\"gridcolor\":\"white\",\"linecolor\":\"white\",\"ticks\":\"\"},\"bgcolor\":\"#E5ECF6\",\"caxis\":{\"gridcolor\":\"white\",\"linecolor\":\"white\",\"ticks\":\"\"}},\"title\":{\"x\":0.05},\"xaxis\":{\"automargin\":true,\"gridcolor\":\"white\",\"linecolor\":\"white\",\"ticks\":\"\",\"title\":{\"standoff\":15},\"zerolinecolor\":\"white\",\"zerolinewidth\":2},\"yaxis\":{\"automargin\":true,\"gridcolor\":\"white\",\"linecolor\":\"white\",\"ticks\":\"\",\"title\":{\"standoff\":15},\"zerolinecolor\":\"white\",\"zerolinewidth\":2}}}},                        {\"responsive\": true}                    ).then(function(){\n",
       "                            \n",
       "var gd = document.getElementById('ddf4c0e4-fcd7-454f-ba94-38ca9bf3f336');\n",
       "var x = new MutationObserver(function (mutations, observer) {{\n",
       "        var display = window.getComputedStyle(gd).display;\n",
       "        if (!display || display === 'none') {{\n",
       "            console.log([gd, 'removed!']);\n",
       "            Plotly.purge(gd);\n",
       "            observer.disconnect();\n",
       "        }}\n",
       "}});\n",
       "\n",
       "// Listen for the removal of the full notebook cells\n",
       "var notebookContainer = gd.closest('#notebook-container');\n",
       "if (notebookContainer) {{\n",
       "    x.observe(notebookContainer, {childList: true});\n",
       "}}\n",
       "\n",
       "// Listen for the clearing of the current output cell\n",
       "var outputEl = gd.closest('.output');\n",
       "if (outputEl) {{\n",
       "    x.observe(outputEl, {childList: true});\n",
       "}}\n",
       "\n",
       "                        })                };                });            </script>        </div>"
      ]
     },
     "metadata": {},
     "output_type": "display_data"
    }
   ],
   "source": [
    "# 하이퍼파라미터별 중요도를 확인할 수 있는 그래프\n",
    "#순서-xgb, lgbm, random-forest, voting\n",
    "optuna.visualization.plot_param_importances(study)"
   ]
  },
  {
   "cell_type": "code",
   "execution_count": 28,
   "metadata": {},
   "outputs": [
    {
     "name": "stderr",
     "output_type": "stream",
     "text": [
      "\u001b[33m[W 2021-12-30 21:40:11,589]\u001b[0m Study instance does not contain trials.\u001b[0m\n"
     ]
    },
    {
     "data": {
      "application/vnd.plotly.v1+json": {
       "config": {
        "plotlyServerURL": "https://plot.ly"
       },
       "data": [],
       "layout": {
        "template": {
         "data": {
          "bar": [
           {
            "error_x": {
             "color": "#2a3f5f"
            },
            "error_y": {
             "color": "#2a3f5f"
            },
            "marker": {
             "line": {
              "color": "#E5ECF6",
              "width": 0.5
             },
             "pattern": {
              "fillmode": "overlay",
              "size": 10,
              "solidity": 0.2
             }
            },
            "type": "bar"
           }
          ],
          "barpolar": [
           {
            "marker": {
             "line": {
              "color": "#E5ECF6",
              "width": 0.5
             },
             "pattern": {
              "fillmode": "overlay",
              "size": 10,
              "solidity": 0.2
             }
            },
            "type": "barpolar"
           }
          ],
          "carpet": [
           {
            "aaxis": {
             "endlinecolor": "#2a3f5f",
             "gridcolor": "white",
             "linecolor": "white",
             "minorgridcolor": "white",
             "startlinecolor": "#2a3f5f"
            },
            "baxis": {
             "endlinecolor": "#2a3f5f",
             "gridcolor": "white",
             "linecolor": "white",
             "minorgridcolor": "white",
             "startlinecolor": "#2a3f5f"
            },
            "type": "carpet"
           }
          ],
          "choropleth": [
           {
            "colorbar": {
             "outlinewidth": 0,
             "ticks": ""
            },
            "type": "choropleth"
           }
          ],
          "contour": [
           {
            "colorbar": {
             "outlinewidth": 0,
             "ticks": ""
            },
            "colorscale": [
             [
              0,
              "#0d0887"
             ],
             [
              0.1111111111111111,
              "#46039f"
             ],
             [
              0.2222222222222222,
              "#7201a8"
             ],
             [
              0.3333333333333333,
              "#9c179e"
             ],
             [
              0.4444444444444444,
              "#bd3786"
             ],
             [
              0.5555555555555556,
              "#d8576b"
             ],
             [
              0.6666666666666666,
              "#ed7953"
             ],
             [
              0.7777777777777778,
              "#fb9f3a"
             ],
             [
              0.8888888888888888,
              "#fdca26"
             ],
             [
              1,
              "#f0f921"
             ]
            ],
            "type": "contour"
           }
          ],
          "contourcarpet": [
           {
            "colorbar": {
             "outlinewidth": 0,
             "ticks": ""
            },
            "type": "contourcarpet"
           }
          ],
          "heatmap": [
           {
            "colorbar": {
             "outlinewidth": 0,
             "ticks": ""
            },
            "colorscale": [
             [
              0,
              "#0d0887"
             ],
             [
              0.1111111111111111,
              "#46039f"
             ],
             [
              0.2222222222222222,
              "#7201a8"
             ],
             [
              0.3333333333333333,
              "#9c179e"
             ],
             [
              0.4444444444444444,
              "#bd3786"
             ],
             [
              0.5555555555555556,
              "#d8576b"
             ],
             [
              0.6666666666666666,
              "#ed7953"
             ],
             [
              0.7777777777777778,
              "#fb9f3a"
             ],
             [
              0.8888888888888888,
              "#fdca26"
             ],
             [
              1,
              "#f0f921"
             ]
            ],
            "type": "heatmap"
           }
          ],
          "heatmapgl": [
           {
            "colorbar": {
             "outlinewidth": 0,
             "ticks": ""
            },
            "colorscale": [
             [
              0,
              "#0d0887"
             ],
             [
              0.1111111111111111,
              "#46039f"
             ],
             [
              0.2222222222222222,
              "#7201a8"
             ],
             [
              0.3333333333333333,
              "#9c179e"
             ],
             [
              0.4444444444444444,
              "#bd3786"
             ],
             [
              0.5555555555555556,
              "#d8576b"
             ],
             [
              0.6666666666666666,
              "#ed7953"
             ],
             [
              0.7777777777777778,
              "#fb9f3a"
             ],
             [
              0.8888888888888888,
              "#fdca26"
             ],
             [
              1,
              "#f0f921"
             ]
            ],
            "type": "heatmapgl"
           }
          ],
          "histogram": [
           {
            "marker": {
             "pattern": {
              "fillmode": "overlay",
              "size": 10,
              "solidity": 0.2
             }
            },
            "type": "histogram"
           }
          ],
          "histogram2d": [
           {
            "colorbar": {
             "outlinewidth": 0,
             "ticks": ""
            },
            "colorscale": [
             [
              0,
              "#0d0887"
             ],
             [
              0.1111111111111111,
              "#46039f"
             ],
             [
              0.2222222222222222,
              "#7201a8"
             ],
             [
              0.3333333333333333,
              "#9c179e"
             ],
             [
              0.4444444444444444,
              "#bd3786"
             ],
             [
              0.5555555555555556,
              "#d8576b"
             ],
             [
              0.6666666666666666,
              "#ed7953"
             ],
             [
              0.7777777777777778,
              "#fb9f3a"
             ],
             [
              0.8888888888888888,
              "#fdca26"
             ],
             [
              1,
              "#f0f921"
             ]
            ],
            "type": "histogram2d"
           }
          ],
          "histogram2dcontour": [
           {
            "colorbar": {
             "outlinewidth": 0,
             "ticks": ""
            },
            "colorscale": [
             [
              0,
              "#0d0887"
             ],
             [
              0.1111111111111111,
              "#46039f"
             ],
             [
              0.2222222222222222,
              "#7201a8"
             ],
             [
              0.3333333333333333,
              "#9c179e"
             ],
             [
              0.4444444444444444,
              "#bd3786"
             ],
             [
              0.5555555555555556,
              "#d8576b"
             ],
             [
              0.6666666666666666,
              "#ed7953"
             ],
             [
              0.7777777777777778,
              "#fb9f3a"
             ],
             [
              0.8888888888888888,
              "#fdca26"
             ],
             [
              1,
              "#f0f921"
             ]
            ],
            "type": "histogram2dcontour"
           }
          ],
          "mesh3d": [
           {
            "colorbar": {
             "outlinewidth": 0,
             "ticks": ""
            },
            "type": "mesh3d"
           }
          ],
          "parcoords": [
           {
            "line": {
             "colorbar": {
              "outlinewidth": 0,
              "ticks": ""
             }
            },
            "type": "parcoords"
           }
          ],
          "pie": [
           {
            "automargin": true,
            "type": "pie"
           }
          ],
          "scatter": [
           {
            "marker": {
             "colorbar": {
              "outlinewidth": 0,
              "ticks": ""
             }
            },
            "type": "scatter"
           }
          ],
          "scatter3d": [
           {
            "line": {
             "colorbar": {
              "outlinewidth": 0,
              "ticks": ""
             }
            },
            "marker": {
             "colorbar": {
              "outlinewidth": 0,
              "ticks": ""
             }
            },
            "type": "scatter3d"
           }
          ],
          "scattercarpet": [
           {
            "marker": {
             "colorbar": {
              "outlinewidth": 0,
              "ticks": ""
             }
            },
            "type": "scattercarpet"
           }
          ],
          "scattergeo": [
           {
            "marker": {
             "colorbar": {
              "outlinewidth": 0,
              "ticks": ""
             }
            },
            "type": "scattergeo"
           }
          ],
          "scattergl": [
           {
            "marker": {
             "colorbar": {
              "outlinewidth": 0,
              "ticks": ""
             }
            },
            "type": "scattergl"
           }
          ],
          "scattermapbox": [
           {
            "marker": {
             "colorbar": {
              "outlinewidth": 0,
              "ticks": ""
             }
            },
            "type": "scattermapbox"
           }
          ],
          "scatterpolar": [
           {
            "marker": {
             "colorbar": {
              "outlinewidth": 0,
              "ticks": ""
             }
            },
            "type": "scatterpolar"
           }
          ],
          "scatterpolargl": [
           {
            "marker": {
             "colorbar": {
              "outlinewidth": 0,
              "ticks": ""
             }
            },
            "type": "scatterpolargl"
           }
          ],
          "scatterternary": [
           {
            "marker": {
             "colorbar": {
              "outlinewidth": 0,
              "ticks": ""
             }
            },
            "type": "scatterternary"
           }
          ],
          "surface": [
           {
            "colorbar": {
             "outlinewidth": 0,
             "ticks": ""
            },
            "colorscale": [
             [
              0,
              "#0d0887"
             ],
             [
              0.1111111111111111,
              "#46039f"
             ],
             [
              0.2222222222222222,
              "#7201a8"
             ],
             [
              0.3333333333333333,
              "#9c179e"
             ],
             [
              0.4444444444444444,
              "#bd3786"
             ],
             [
              0.5555555555555556,
              "#d8576b"
             ],
             [
              0.6666666666666666,
              "#ed7953"
             ],
             [
              0.7777777777777778,
              "#fb9f3a"
             ],
             [
              0.8888888888888888,
              "#fdca26"
             ],
             [
              1,
              "#f0f921"
             ]
            ],
            "type": "surface"
           }
          ],
          "table": [
           {
            "cells": {
             "fill": {
              "color": "#EBF0F8"
             },
             "line": {
              "color": "white"
             }
            },
            "header": {
             "fill": {
              "color": "#C8D4E3"
             },
             "line": {
              "color": "white"
             }
            },
            "type": "table"
           }
          ]
         },
         "layout": {
          "annotationdefaults": {
           "arrowcolor": "#2a3f5f",
           "arrowhead": 0,
           "arrowwidth": 1
          },
          "autotypenumbers": "strict",
          "coloraxis": {
           "colorbar": {
            "outlinewidth": 0,
            "ticks": ""
           }
          },
          "colorscale": {
           "diverging": [
            [
             0,
             "#8e0152"
            ],
            [
             0.1,
             "#c51b7d"
            ],
            [
             0.2,
             "#de77ae"
            ],
            [
             0.3,
             "#f1b6da"
            ],
            [
             0.4,
             "#fde0ef"
            ],
            [
             0.5,
             "#f7f7f7"
            ],
            [
             0.6,
             "#e6f5d0"
            ],
            [
             0.7,
             "#b8e186"
            ],
            [
             0.8,
             "#7fbc41"
            ],
            [
             0.9,
             "#4d9221"
            ],
            [
             1,
             "#276419"
            ]
           ],
           "sequential": [
            [
             0,
             "#0d0887"
            ],
            [
             0.1111111111111111,
             "#46039f"
            ],
            [
             0.2222222222222222,
             "#7201a8"
            ],
            [
             0.3333333333333333,
             "#9c179e"
            ],
            [
             0.4444444444444444,
             "#bd3786"
            ],
            [
             0.5555555555555556,
             "#d8576b"
            ],
            [
             0.6666666666666666,
             "#ed7953"
            ],
            [
             0.7777777777777778,
             "#fb9f3a"
            ],
            [
             0.8888888888888888,
             "#fdca26"
            ],
            [
             1,
             "#f0f921"
            ]
           ],
           "sequentialminus": [
            [
             0,
             "#0d0887"
            ],
            [
             0.1111111111111111,
             "#46039f"
            ],
            [
             0.2222222222222222,
             "#7201a8"
            ],
            [
             0.3333333333333333,
             "#9c179e"
            ],
            [
             0.4444444444444444,
             "#bd3786"
            ],
            [
             0.5555555555555556,
             "#d8576b"
            ],
            [
             0.6666666666666666,
             "#ed7953"
            ],
            [
             0.7777777777777778,
             "#fb9f3a"
            ],
            [
             0.8888888888888888,
             "#fdca26"
            ],
            [
             1,
             "#f0f921"
            ]
           ]
          },
          "colorway": [
           "#636efa",
           "#EF553B",
           "#00cc96",
           "#ab63fa",
           "#FFA15A",
           "#19d3f3",
           "#FF6692",
           "#B6E880",
           "#FF97FF",
           "#FECB52"
          ],
          "font": {
           "color": "#2a3f5f"
          },
          "geo": {
           "bgcolor": "white",
           "lakecolor": "white",
           "landcolor": "#E5ECF6",
           "showlakes": true,
           "showland": true,
           "subunitcolor": "white"
          },
          "hoverlabel": {
           "align": "left"
          },
          "hovermode": "closest",
          "mapbox": {
           "style": "light"
          },
          "paper_bgcolor": "white",
          "plot_bgcolor": "#E5ECF6",
          "polar": {
           "angularaxis": {
            "gridcolor": "white",
            "linecolor": "white",
            "ticks": ""
           },
           "bgcolor": "#E5ECF6",
           "radialaxis": {
            "gridcolor": "white",
            "linecolor": "white",
            "ticks": ""
           }
          },
          "scene": {
           "xaxis": {
            "backgroundcolor": "#E5ECF6",
            "gridcolor": "white",
            "gridwidth": 2,
            "linecolor": "white",
            "showbackground": true,
            "ticks": "",
            "zerolinecolor": "white"
           },
           "yaxis": {
            "backgroundcolor": "#E5ECF6",
            "gridcolor": "white",
            "gridwidth": 2,
            "linecolor": "white",
            "showbackground": true,
            "ticks": "",
            "zerolinecolor": "white"
           },
           "zaxis": {
            "backgroundcolor": "#E5ECF6",
            "gridcolor": "white",
            "gridwidth": 2,
            "linecolor": "white",
            "showbackground": true,
            "ticks": "",
            "zerolinecolor": "white"
           }
          },
          "shapedefaults": {
           "line": {
            "color": "#2a3f5f"
           }
          },
          "ternary": {
           "aaxis": {
            "gridcolor": "white",
            "linecolor": "white",
            "ticks": ""
           },
           "baxis": {
            "gridcolor": "white",
            "linecolor": "white",
            "ticks": ""
           },
           "bgcolor": "#E5ECF6",
           "caxis": {
            "gridcolor": "white",
            "linecolor": "white",
            "ticks": ""
           }
          },
          "title": {
           "x": 0.05
          },
          "xaxis": {
           "automargin": true,
           "gridcolor": "white",
           "linecolor": "white",
           "ticks": "",
           "title": {
            "standoff": 15
           },
           "zerolinecolor": "white",
           "zerolinewidth": 2
          },
          "yaxis": {
           "automargin": true,
           "gridcolor": "white",
           "linecolor": "white",
           "ticks": "",
           "title": {
            "standoff": 15
           },
           "zerolinecolor": "white",
           "zerolinewidth": 2
          }
         }
        },
        "title": {
         "text": "Optimization History Plot"
        },
        "xaxis": {
         "title": {
          "text": "#Trials"
         }
        },
        "yaxis": {
         "title": {
          "text": "Objective Value"
         }
        }
       }
      },
      "text/html": [
       "<div>                            <div id=\"e1c38d27-2cbb-4f49-8083-048885190fc0\" class=\"plotly-graph-div\" style=\"height:525px; width:100%;\"></div>            <script type=\"text/javascript\">                require([\"plotly\"], function(Plotly) {                    window.PLOTLYENV=window.PLOTLYENV || {};                                    if (document.getElementById(\"e1c38d27-2cbb-4f49-8083-048885190fc0\")) {                    Plotly.newPlot(                        \"e1c38d27-2cbb-4f49-8083-048885190fc0\",                        [],                        {\"title\":{\"text\":\"Optimization History Plot\"},\"xaxis\":{\"title\":{\"text\":\"#Trials\"}},\"yaxis\":{\"title\":{\"text\":\"Objective Value\"}},\"template\":{\"data\":{\"bar\":[{\"error_x\":{\"color\":\"#2a3f5f\"},\"error_y\":{\"color\":\"#2a3f5f\"},\"marker\":{\"line\":{\"color\":\"#E5ECF6\",\"width\":0.5},\"pattern\":{\"fillmode\":\"overlay\",\"size\":10,\"solidity\":0.2}},\"type\":\"bar\"}],\"barpolar\":[{\"marker\":{\"line\":{\"color\":\"#E5ECF6\",\"width\":0.5},\"pattern\":{\"fillmode\":\"overlay\",\"size\":10,\"solidity\":0.2}},\"type\":\"barpolar\"}],\"carpet\":[{\"aaxis\":{\"endlinecolor\":\"#2a3f5f\",\"gridcolor\":\"white\",\"linecolor\":\"white\",\"minorgridcolor\":\"white\",\"startlinecolor\":\"#2a3f5f\"},\"baxis\":{\"endlinecolor\":\"#2a3f5f\",\"gridcolor\":\"white\",\"linecolor\":\"white\",\"minorgridcolor\":\"white\",\"startlinecolor\":\"#2a3f5f\"},\"type\":\"carpet\"}],\"choropleth\":[{\"colorbar\":{\"outlinewidth\":0,\"ticks\":\"\"},\"type\":\"choropleth\"}],\"contour\":[{\"colorbar\":{\"outlinewidth\":0,\"ticks\":\"\"},\"colorscale\":[[0.0,\"#0d0887\"],[0.1111111111111111,\"#46039f\"],[0.2222222222222222,\"#7201a8\"],[0.3333333333333333,\"#9c179e\"],[0.4444444444444444,\"#bd3786\"],[0.5555555555555556,\"#d8576b\"],[0.6666666666666666,\"#ed7953\"],[0.7777777777777778,\"#fb9f3a\"],[0.8888888888888888,\"#fdca26\"],[1.0,\"#f0f921\"]],\"type\":\"contour\"}],\"contourcarpet\":[{\"colorbar\":{\"outlinewidth\":0,\"ticks\":\"\"},\"type\":\"contourcarpet\"}],\"heatmap\":[{\"colorbar\":{\"outlinewidth\":0,\"ticks\":\"\"},\"colorscale\":[[0.0,\"#0d0887\"],[0.1111111111111111,\"#46039f\"],[0.2222222222222222,\"#7201a8\"],[0.3333333333333333,\"#9c179e\"],[0.4444444444444444,\"#bd3786\"],[0.5555555555555556,\"#d8576b\"],[0.6666666666666666,\"#ed7953\"],[0.7777777777777778,\"#fb9f3a\"],[0.8888888888888888,\"#fdca26\"],[1.0,\"#f0f921\"]],\"type\":\"heatmap\"}],\"heatmapgl\":[{\"colorbar\":{\"outlinewidth\":0,\"ticks\":\"\"},\"colorscale\":[[0.0,\"#0d0887\"],[0.1111111111111111,\"#46039f\"],[0.2222222222222222,\"#7201a8\"],[0.3333333333333333,\"#9c179e\"],[0.4444444444444444,\"#bd3786\"],[0.5555555555555556,\"#d8576b\"],[0.6666666666666666,\"#ed7953\"],[0.7777777777777778,\"#fb9f3a\"],[0.8888888888888888,\"#fdca26\"],[1.0,\"#f0f921\"]],\"type\":\"heatmapgl\"}],\"histogram\":[{\"marker\":{\"pattern\":{\"fillmode\":\"overlay\",\"size\":10,\"solidity\":0.2}},\"type\":\"histogram\"}],\"histogram2d\":[{\"colorbar\":{\"outlinewidth\":0,\"ticks\":\"\"},\"colorscale\":[[0.0,\"#0d0887\"],[0.1111111111111111,\"#46039f\"],[0.2222222222222222,\"#7201a8\"],[0.3333333333333333,\"#9c179e\"],[0.4444444444444444,\"#bd3786\"],[0.5555555555555556,\"#d8576b\"],[0.6666666666666666,\"#ed7953\"],[0.7777777777777778,\"#fb9f3a\"],[0.8888888888888888,\"#fdca26\"],[1.0,\"#f0f921\"]],\"type\":\"histogram2d\"}],\"histogram2dcontour\":[{\"colorbar\":{\"outlinewidth\":0,\"ticks\":\"\"},\"colorscale\":[[0.0,\"#0d0887\"],[0.1111111111111111,\"#46039f\"],[0.2222222222222222,\"#7201a8\"],[0.3333333333333333,\"#9c179e\"],[0.4444444444444444,\"#bd3786\"],[0.5555555555555556,\"#d8576b\"],[0.6666666666666666,\"#ed7953\"],[0.7777777777777778,\"#fb9f3a\"],[0.8888888888888888,\"#fdca26\"],[1.0,\"#f0f921\"]],\"type\":\"histogram2dcontour\"}],\"mesh3d\":[{\"colorbar\":{\"outlinewidth\":0,\"ticks\":\"\"},\"type\":\"mesh3d\"}],\"parcoords\":[{\"line\":{\"colorbar\":{\"outlinewidth\":0,\"ticks\":\"\"}},\"type\":\"parcoords\"}],\"pie\":[{\"automargin\":true,\"type\":\"pie\"}],\"scatter\":[{\"marker\":{\"colorbar\":{\"outlinewidth\":0,\"ticks\":\"\"}},\"type\":\"scatter\"}],\"scatter3d\":[{\"line\":{\"colorbar\":{\"outlinewidth\":0,\"ticks\":\"\"}},\"marker\":{\"colorbar\":{\"outlinewidth\":0,\"ticks\":\"\"}},\"type\":\"scatter3d\"}],\"scattercarpet\":[{\"marker\":{\"colorbar\":{\"outlinewidth\":0,\"ticks\":\"\"}},\"type\":\"scattercarpet\"}],\"scattergeo\":[{\"marker\":{\"colorbar\":{\"outlinewidth\":0,\"ticks\":\"\"}},\"type\":\"scattergeo\"}],\"scattergl\":[{\"marker\":{\"colorbar\":{\"outlinewidth\":0,\"ticks\":\"\"}},\"type\":\"scattergl\"}],\"scattermapbox\":[{\"marker\":{\"colorbar\":{\"outlinewidth\":0,\"ticks\":\"\"}},\"type\":\"scattermapbox\"}],\"scatterpolar\":[{\"marker\":{\"colorbar\":{\"outlinewidth\":0,\"ticks\":\"\"}},\"type\":\"scatterpolar\"}],\"scatterpolargl\":[{\"marker\":{\"colorbar\":{\"outlinewidth\":0,\"ticks\":\"\"}},\"type\":\"scatterpolargl\"}],\"scatterternary\":[{\"marker\":{\"colorbar\":{\"outlinewidth\":0,\"ticks\":\"\"}},\"type\":\"scatterternary\"}],\"surface\":[{\"colorbar\":{\"outlinewidth\":0,\"ticks\":\"\"},\"colorscale\":[[0.0,\"#0d0887\"],[0.1111111111111111,\"#46039f\"],[0.2222222222222222,\"#7201a8\"],[0.3333333333333333,\"#9c179e\"],[0.4444444444444444,\"#bd3786\"],[0.5555555555555556,\"#d8576b\"],[0.6666666666666666,\"#ed7953\"],[0.7777777777777778,\"#fb9f3a\"],[0.8888888888888888,\"#fdca26\"],[1.0,\"#f0f921\"]],\"type\":\"surface\"}],\"table\":[{\"cells\":{\"fill\":{\"color\":\"#EBF0F8\"},\"line\":{\"color\":\"white\"}},\"header\":{\"fill\":{\"color\":\"#C8D4E3\"},\"line\":{\"color\":\"white\"}},\"type\":\"table\"}]},\"layout\":{\"annotationdefaults\":{\"arrowcolor\":\"#2a3f5f\",\"arrowhead\":0,\"arrowwidth\":1},\"autotypenumbers\":\"strict\",\"coloraxis\":{\"colorbar\":{\"outlinewidth\":0,\"ticks\":\"\"}},\"colorscale\":{\"diverging\":[[0,\"#8e0152\"],[0.1,\"#c51b7d\"],[0.2,\"#de77ae\"],[0.3,\"#f1b6da\"],[0.4,\"#fde0ef\"],[0.5,\"#f7f7f7\"],[0.6,\"#e6f5d0\"],[0.7,\"#b8e186\"],[0.8,\"#7fbc41\"],[0.9,\"#4d9221\"],[1,\"#276419\"]],\"sequential\":[[0.0,\"#0d0887\"],[0.1111111111111111,\"#46039f\"],[0.2222222222222222,\"#7201a8\"],[0.3333333333333333,\"#9c179e\"],[0.4444444444444444,\"#bd3786\"],[0.5555555555555556,\"#d8576b\"],[0.6666666666666666,\"#ed7953\"],[0.7777777777777778,\"#fb9f3a\"],[0.8888888888888888,\"#fdca26\"],[1.0,\"#f0f921\"]],\"sequentialminus\":[[0.0,\"#0d0887\"],[0.1111111111111111,\"#46039f\"],[0.2222222222222222,\"#7201a8\"],[0.3333333333333333,\"#9c179e\"],[0.4444444444444444,\"#bd3786\"],[0.5555555555555556,\"#d8576b\"],[0.6666666666666666,\"#ed7953\"],[0.7777777777777778,\"#fb9f3a\"],[0.8888888888888888,\"#fdca26\"],[1.0,\"#f0f921\"]]},\"colorway\":[\"#636efa\",\"#EF553B\",\"#00cc96\",\"#ab63fa\",\"#FFA15A\",\"#19d3f3\",\"#FF6692\",\"#B6E880\",\"#FF97FF\",\"#FECB52\"],\"font\":{\"color\":\"#2a3f5f\"},\"geo\":{\"bgcolor\":\"white\",\"lakecolor\":\"white\",\"landcolor\":\"#E5ECF6\",\"showlakes\":true,\"showland\":true,\"subunitcolor\":\"white\"},\"hoverlabel\":{\"align\":\"left\"},\"hovermode\":\"closest\",\"mapbox\":{\"style\":\"light\"},\"paper_bgcolor\":\"white\",\"plot_bgcolor\":\"#E5ECF6\",\"polar\":{\"angularaxis\":{\"gridcolor\":\"white\",\"linecolor\":\"white\",\"ticks\":\"\"},\"bgcolor\":\"#E5ECF6\",\"radialaxis\":{\"gridcolor\":\"white\",\"linecolor\":\"white\",\"ticks\":\"\"}},\"scene\":{\"xaxis\":{\"backgroundcolor\":\"#E5ECF6\",\"gridcolor\":\"white\",\"gridwidth\":2,\"linecolor\":\"white\",\"showbackground\":true,\"ticks\":\"\",\"zerolinecolor\":\"white\"},\"yaxis\":{\"backgroundcolor\":\"#E5ECF6\",\"gridcolor\":\"white\",\"gridwidth\":2,\"linecolor\":\"white\",\"showbackground\":true,\"ticks\":\"\",\"zerolinecolor\":\"white\"},\"zaxis\":{\"backgroundcolor\":\"#E5ECF6\",\"gridcolor\":\"white\",\"gridwidth\":2,\"linecolor\":\"white\",\"showbackground\":true,\"ticks\":\"\",\"zerolinecolor\":\"white\"}},\"shapedefaults\":{\"line\":{\"color\":\"#2a3f5f\"}},\"ternary\":{\"aaxis\":{\"gridcolor\":\"white\",\"linecolor\":\"white\",\"ticks\":\"\"},\"baxis\":{\"gridcolor\":\"white\",\"linecolor\":\"white\",\"ticks\":\"\"},\"bgcolor\":\"#E5ECF6\",\"caxis\":{\"gridcolor\":\"white\",\"linecolor\":\"white\",\"ticks\":\"\"}},\"title\":{\"x\":0.05},\"xaxis\":{\"automargin\":true,\"gridcolor\":\"white\",\"linecolor\":\"white\",\"ticks\":\"\",\"title\":{\"standoff\":15},\"zerolinecolor\":\"white\",\"zerolinewidth\":2},\"yaxis\":{\"automargin\":true,\"gridcolor\":\"white\",\"linecolor\":\"white\",\"ticks\":\"\",\"title\":{\"standoff\":15},\"zerolinecolor\":\"white\",\"zerolinewidth\":2}}}},                        {\"responsive\": true}                    ).then(function(){\n",
       "                            \n",
       "var gd = document.getElementById('e1c38d27-2cbb-4f49-8083-048885190fc0');\n",
       "var x = new MutationObserver(function (mutations, observer) {{\n",
       "        var display = window.getComputedStyle(gd).display;\n",
       "        if (!display || display === 'none') {{\n",
       "            console.log([gd, 'removed!']);\n",
       "            Plotly.purge(gd);\n",
       "            observer.disconnect();\n",
       "        }}\n",
       "}});\n",
       "\n",
       "// Listen for the removal of the full notebook cells\n",
       "var notebookContainer = gd.closest('#notebook-container');\n",
       "if (notebookContainer) {{\n",
       "    x.observe(notebookContainer, {childList: true});\n",
       "}}\n",
       "\n",
       "// Listen for the clearing of the current output cell\n",
       "var outputEl = gd.closest('.output');\n",
       "if (outputEl) {{\n",
       "    x.observe(outputEl, {childList: true});\n",
       "}}\n",
       "\n",
       "                        })                };                });            </script>        </div>"
      ]
     },
     "metadata": {},
     "output_type": "display_data"
    }
   ],
   "source": [
    "# 하이퍼파라미터 최적화 과정을 확인\n",
    "optuna.visualization.plot_optimization_history(study)"
   ]
  },
  {
   "cell_type": "markdown",
   "metadata": {},
   "source": [
    "### 최종 모형 검증"
   ]
  },
  {
   "cell_type": "code",
   "execution_count": 29,
   "metadata": {
    "scrolled": true
   },
   "outputs": [
    {
     "name": "stdout",
     "output_type": "stream",
     "text": [
      "142792    1259.992338\n",
      "142793    1165.665842\n",
      "142794    1251.926497\n",
      "142795    1485.828167\n",
      "142796    1630.971993\n",
      "             ...     \n",
      "237982    1410.601638\n",
      "237983    1269.794287\n",
      "237984    1513.445904\n",
      "237985    1805.330937\n",
      "237986    1698.623086\n",
      "Name: 평당단가, Length: 95195, dtype: float64\n",
      "[2586.14359096 2671.51274051 2039.19007528 ... 1743.0770064  1731.09912281\n",
      " 1731.09912281]\n",
      "RMSE:  969.5677471255754\n",
      "R^2:  0.6894484397254004\n"
     ]
    }
   ],
   "source": [
    "# model = xgb.XGBRegressor()\n",
    "\n",
    "model = VotingRegressor(estimators=[\n",
    "                    ('model_xgb', xgb.XGB\n",
    "                     \n",
    "                     \n",
    "                     \n",
    "                     Regressor()),\n",
    "                    ('model_lgb', lgb.LGBMRegressor())\n",
    "                ])\n",
    "\n",
    "# model = xgb.XGBRegressor()\n",
    "\n",
    "# model = lgb.LGBMRegressor()\n",
    "\n",
    "model.fit(train_x, train_y)\n",
    "pred = model.predict(test_x)\n",
    "\n",
    "# 실제 평당단가 금액\n",
    "print(test_y)\n",
    "# 예측 평당단가 금액\n",
    "print(pred)\n",
    "\n",
    "from sklearn.metrics import mean_squared_error, r2_score\n",
    "\n",
    "mse = mean_squared_error(test_y, pred)\n",
    "rmse = np.sqrt(mse)\n",
    "r2 = r2_score(test_y, pred)\n",
    "\n",
    "print('RMSE: ', rmse)\n",
    "print('R^2: ', r2 )\n",
    "\n",
    "# execute_modeling(('model_rf', model), test_x, test_y)\n",
    "\n",
    "# pickle 생성\n",
    "import pickle\n",
    "# pickle.dump(model, open('model.pkl', 'wb'))"
   ]
  },
  {
   "cell_type": "code",
   "execution_count": 30,
   "metadata": {
    "scrolled": true
   },
   "outputs": [
    {
     "ename": "AttributeError",
     "evalue": "'VotingRegressor' object has no attribute 'feature_importances_'",
     "output_type": "error",
     "traceback": [
      "\u001b[1;31m---------------------------------------------------------------------------\u001b[0m",
      "\u001b[1;31mAttributeError\u001b[0m                            Traceback (most recent call last)",
      "\u001b[1;32m<ipython-input-30-7b132609fc59>\u001b[0m in \u001b[0;36m<module>\u001b[1;34m\u001b[0m\n\u001b[1;32m----> 1\u001b[1;33m \u001b[0mnp\u001b[0m\u001b[1;33m.\u001b[0m\u001b[0msort\u001b[0m\u001b[1;33m(\u001b[0m\u001b[0mmodel\u001b[0m\u001b[1;33m.\u001b[0m\u001b[0mfeature_importances_\u001b[0m\u001b[1;33m)\u001b[0m\u001b[1;33m\u001b[0m\u001b[1;33m\u001b[0m\u001b[0m\n\u001b[0m",
      "\u001b[1;31mAttributeError\u001b[0m: 'VotingRegressor' object has no attribute 'feature_importances_'"
     ]
    }
   ],
   "source": [
    "np.sort(model.feature_importances_)"
   ]
  },
  {
   "cell_type": "code",
   "execution_count": null,
   "metadata": {},
   "outputs": [],
   "source": []
  }
 ],
 "metadata": {
  "interpreter": {
   "hash": "9cea8177b4720f8e58b915fe7d25071150cb7f046bd1970d257908049c667e74"
  },
  "kernelspec": {
   "display_name": "Python 3",
   "language": "python",
   "name": "python3"
  },
  "language_info": {
   "codemirror_mode": {
    "name": "ipython",
    "version": 3
   },
   "file_extension": ".py",
   "mimetype": "text/x-python",
   "name": "python",
   "nbconvert_exporter": "python",
   "pygments_lexer": "ipython3",
   "version": "3.8.8"
  }
 },
 "nbformat": 4,
 "nbformat_minor": 2
}
