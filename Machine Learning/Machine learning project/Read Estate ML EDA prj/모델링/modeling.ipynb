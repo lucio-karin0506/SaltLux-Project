{
 "cells": [
  {
   "cell_type": "code",
   "execution_count": 1,
   "metadata": {},
   "outputs": [],
   "source": [
    "import pandas as pd\n",
    "import numpy as np\n",
    "import warnings\n",
    "\n",
    "warnings.filterwarnings('ignore')\n",
    "\n",
    "from sklearn.preprocessing import OneHotEncoder\n",
    "from sklearn import preprocessing\n",
    "\n",
    "from sklearn.model_selection import train_test_split\n",
    "from sklearn.model_selection import TimeSeriesSplit\n",
    "\n",
    "from sklearn.model_selection import cross_val_score\n",
    "\n",
    "from optuna import Trial\n",
    "import optuna\n",
    "from optuna.samplers import TPESampler"
   ]
  },
  {
   "cell_type": "code",
   "execution_count": 2,
   "metadata": {},
   "outputs": [
    {
     "name": "stdout",
     "output_type": "stream",
     "text": [
      "<class 'pandas.core.frame.DataFrame'>\n",
      "Int64Index: 237987 entries, 64104 to 208092\n",
      "Data columns (total 16 columns):\n",
      " #   Column       Non-Null Count   Dtype  \n",
      "---  ------       --------------   -----  \n",
      " 0   거래금액         237987 non-null  int64  \n",
      " 1   건축년도         237987 non-null  int64  \n",
      " 2   계약날짜인코딩      237987 non-null  int64  \n",
      " 3   구            237987 non-null  object \n",
      " 4   구별 공원 갯수     237987 non-null  float64\n",
      " 5   구별 대학병원 병원수  237987 non-null  int64  \n",
      " 6   구별 대형마트 수    237987 non-null  float64\n",
      " 7   구별 백화점 수     237987 non-null  float64\n",
      " 8   구별 전체 마트 수   237987 non-null  float64\n",
      " 9   구별 종합병원 병원수  237987 non-null  int64  \n",
      " 10  단지명별 신축거래비율  237987 non-null  float64\n",
      " 11  단지명브랜드       237987 non-null  object \n",
      " 12  동            237987 non-null  object \n",
      " 13  전용면적         237987 non-null  float64\n",
      " 14  층            237987 non-null  int64  \n",
      " 15  평당단가         237987 non-null  float64\n",
      "dtypes: float64(7), int64(6), object(3)\n",
      "memory usage: 30.9+ MB\n"
     ]
    }
   ],
   "source": [
    "sample_df = pd.read_csv('train_data_final.csv', sep=',')\n",
    "\n",
    "# 시간 순서대로 데이터 반영하기 위해서 거래년월일 정렬 필요\n",
    "sample_df = sample_df.sort_values('계약날짜인코딩')\n",
    "sample_df = sample_df[sample_df.columns.difference(['동별 공원 갯수', '8학군', '동별지하철역수', '구별 교과학원 갯수'])]\n",
    "sample_df = sample_df.fillna(0)\n",
    "sample_df.info()"
   ]
  },
  {
   "cell_type": "code",
   "execution_count": 3,
   "metadata": {},
   "outputs": [
    {
     "name": "stderr",
     "output_type": "stream",
     "text": [
      "100%|██████████| 330/330 [00:05<00:00, 58.24it/s]\n"
     ]
    },
    {
     "data": {
      "text/html": [
       "<div>\n",
       "<style scoped>\n",
       "    .dataframe tbody tr th:only-of-type {\n",
       "        vertical-align: middle;\n",
       "    }\n",
       "\n",
       "    .dataframe tbody tr th {\n",
       "        vertical-align: top;\n",
       "    }\n",
       "\n",
       "    .dataframe thead th {\n",
       "        text-align: right;\n",
       "    }\n",
       "</style>\n",
       "<table border=\"1\" class=\"dataframe\">\n",
       "  <thead>\n",
       "    <tr style=\"text-align: right;\">\n",
       "      <th></th>\n",
       "      <th>거래금액</th>\n",
       "      <th>건축년도</th>\n",
       "      <th>계약날짜인코딩</th>\n",
       "      <th>구</th>\n",
       "      <th>구별 공원 갯수</th>\n",
       "      <th>구별 대학병원 병원수</th>\n",
       "      <th>구별 대형마트 수</th>\n",
       "      <th>구별 백화점 수</th>\n",
       "      <th>구별 전체 마트 수</th>\n",
       "      <th>구별 종합병원 병원수</th>\n",
       "      <th>단지명별 신축거래비율</th>\n",
       "      <th>단지명브랜드</th>\n",
       "      <th>동</th>\n",
       "      <th>전용면적</th>\n",
       "      <th>층</th>\n",
       "      <th>평당단가</th>\n",
       "    </tr>\n",
       "  </thead>\n",
       "  <tbody>\n",
       "    <tr>\n",
       "      <th>64104</th>\n",
       "      <td>39500</td>\n",
       "      <td>2000</td>\n",
       "      <td>0</td>\n",
       "      <td>송파구</td>\n",
       "      <td>144.0</td>\n",
       "      <td>2</td>\n",
       "      <td>4.0</td>\n",
       "      <td>2.0</td>\n",
       "      <td>6.0</td>\n",
       "      <td>16</td>\n",
       "      <td>0.110657</td>\n",
       "      <td>기타</td>\n",
       "      <td>130</td>\n",
       "      <td>57.8800</td>\n",
       "      <td>5</td>\n",
       "      <td>2252.073255</td>\n",
       "    </tr>\n",
       "    <tr>\n",
       "      <th>78845</th>\n",
       "      <td>37700</td>\n",
       "      <td>1993</td>\n",
       "      <td>0</td>\n",
       "      <td>중랑구</td>\n",
       "      <td>11.0</td>\n",
       "      <td>3</td>\n",
       "      <td>6.0</td>\n",
       "      <td>0.0</td>\n",
       "      <td>6.0</td>\n",
       "      <td>12</td>\n",
       "      <td>0.127080</td>\n",
       "      <td>두산|두산위브</td>\n",
       "      <td>265</td>\n",
       "      <td>84.9400</td>\n",
       "      <td>3</td>\n",
       "      <td>1464.680951</td>\n",
       "    </tr>\n",
       "    <tr>\n",
       "      <th>79128</th>\n",
       "      <td>59500</td>\n",
       "      <td>2015</td>\n",
       "      <td>0</td>\n",
       "      <td>중랑구</td>\n",
       "      <td>11.0</td>\n",
       "      <td>3</td>\n",
       "      <td>6.0</td>\n",
       "      <td>0.0</td>\n",
       "      <td>6.0</td>\n",
       "      <td>12</td>\n",
       "      <td>0.673469</td>\n",
       "      <td>하늘채</td>\n",
       "      <td>265</td>\n",
       "      <td>84.7054</td>\n",
       "      <td>11</td>\n",
       "      <td>2318.034033</td>\n",
       "    </tr>\n",
       "    <tr>\n",
       "      <th>15567</th>\n",
       "      <td>52000</td>\n",
       "      <td>1996</td>\n",
       "      <td>0</td>\n",
       "      <td>관악구</td>\n",
       "      <td>21.0</td>\n",
       "      <td>2</td>\n",
       "      <td>1.0</td>\n",
       "      <td>1.0</td>\n",
       "      <td>2.0</td>\n",
       "      <td>8</td>\n",
       "      <td>0.021814</td>\n",
       "      <td>삼성</td>\n",
       "      <td>202</td>\n",
       "      <td>84.8400</td>\n",
       "      <td>8</td>\n",
       "      <td>2022.630835</td>\n",
       "    </tr>\n",
       "    <tr>\n",
       "      <th>1983</th>\n",
       "      <td>180000</td>\n",
       "      <td>2008</td>\n",
       "      <td>0</td>\n",
       "      <td>강남구</td>\n",
       "      <td>132.0</td>\n",
       "      <td>4</td>\n",
       "      <td>1.0</td>\n",
       "      <td>6.0</td>\n",
       "      <td>7.0</td>\n",
       "      <td>33</td>\n",
       "      <td>0.550668</td>\n",
       "      <td>힐스테이트</td>\n",
       "      <td>12</td>\n",
       "      <td>84.2360</td>\n",
       "      <td>19</td>\n",
       "      <td>7051.616886</td>\n",
       "    </tr>\n",
       "  </tbody>\n",
       "</table>\n",
       "</div>"
      ],
      "text/plain": [
       "         거래금액  건축년도  계약날짜인코딩    구  구별 공원 갯수  구별 대학병원 병원수  구별 대형마트 수  구별 백화점 수  \\\n",
       "64104   39500  2000        0  송파구     144.0            2        4.0       2.0   \n",
       "78845   37700  1993        0  중랑구      11.0            3        6.0       0.0   \n",
       "79128   59500  2015        0  중랑구      11.0            3        6.0       0.0   \n",
       "15567   52000  1996        0  관악구      21.0            2        1.0       1.0   \n",
       "1983   180000  2008        0  강남구     132.0            4        1.0       6.0   \n",
       "\n",
       "       구별 전체 마트 수  구별 종합병원 병원수  단지명별 신축거래비율   단지명브랜드    동     전용면적   층  \\\n",
       "64104         6.0           16     0.110657       기타  130  57.8800   5   \n",
       "78845         6.0           12     0.127080  두산|두산위브  265  84.9400   3   \n",
       "79128         6.0           12     0.673469      하늘채  265  84.7054  11   \n",
       "15567         2.0            8     0.021814       삼성  202  84.8400   8   \n",
       "1983          7.0           33     0.550668    힐스테이트   12  84.2360  19   \n",
       "\n",
       "              평당단가  \n",
       "64104  2252.073255  \n",
       "78845  1464.680951  \n",
       "79128  2318.034033  \n",
       "15567  2022.630835  \n",
       "1983   7051.616886  "
      ]
     },
     "execution_count": 3,
     "metadata": {},
     "output_type": "execute_result"
    }
   ],
   "source": [
    "# 동 레이블 인코딩\n",
    "from tqdm import tqdm\n",
    "dong_price = sample_df.groupby('동')['거래금액'].agg('mean').sort_values(ascending=False)\n",
    "# 가격기준으로 동을 정렬한 리스트를 바탕으로 dong에 대해 라벨 인코딩 진행 - 477 it.\n",
    "for i, d in tqdm(enumerate(list(dong_price.index)), total=len(dong_price)):\n",
    "    sample_df.loc[sample_df['동'] == d, '동'] = i\n",
    "    # test_dat.loc[test_df['동'] == d, '동'] = i\n",
    "sample_df.head()"
   ]
  },
  {
   "cell_type": "code",
   "execution_count": 4,
   "metadata": {},
   "outputs": [
    {
     "name": "stdout",
     "output_type": "stream",
     "text": [
      "<class 'pandas.core.frame.DataFrame'>\n",
      "Int64Index: 237987 entries, 64104 to 208092\n",
      "Data columns (total 16 columns):\n",
      " #   Column       Non-Null Count   Dtype  \n",
      "---  ------       --------------   -----  \n",
      " 0   거래금액         237987 non-null  int64  \n",
      " 1   건축년도         237987 non-null  int64  \n",
      " 2   계약날짜인코딩      237987 non-null  int64  \n",
      " 3   구            237987 non-null  object \n",
      " 4   구별 공원 갯수     237987 non-null  float64\n",
      " 5   구별 대학병원 병원수  237987 non-null  int64  \n",
      " 6   구별 대형마트 수    237987 non-null  float64\n",
      " 7   구별 백화점 수     237987 non-null  float64\n",
      " 8   구별 전체 마트 수   237987 non-null  float64\n",
      " 9   구별 종합병원 병원수  237987 non-null  int64  \n",
      " 10  단지명별 신축거래비율  237987 non-null  float64\n",
      " 11  단지명브랜드       237987 non-null  object \n",
      " 12  동            237987 non-null  int32  \n",
      " 13  전용면적         237987 non-null  float64\n",
      " 14  층            237987 non-null  int64  \n",
      " 15  평당단가         237987 non-null  float64\n",
      "dtypes: float64(7), int32(1), int64(6), object(2)\n",
      "memory usage: 30.0+ MB\n"
     ]
    }
   ],
   "source": [
    "sample_df = sample_df.astype({'동':'int'})\n",
    "sample_df.info()"
   ]
  },
  {
   "cell_type": "markdown",
   "metadata": {},
   "source": [
    "### 1. 무지성 인코딩"
   ]
  },
  {
   "cell_type": "code",
   "execution_count": 5,
   "metadata": {},
   "outputs": [],
   "source": [
    "\n",
    "'''\n",
    "    - 카테고리: 데이터 전처리\n",
    "    - 개요: 무지성 인코딩 => 전체 컬럼 데이터 타입 확인 후 통째로 범주형 인코딩 처리\n",
    "    - param: df\n",
    "    - return: encoded columns dataframe\n",
    "'''\n",
    "def one_hot(df):\n",
    "    # 컬럼의 이름 리스트로 뽑아오기\n",
    "    columns_name_list = list(df.columns)\n",
    "\n",
    "    # 컬럼마다 for문 반복\n",
    "    for col_name in columns_name_list:\n",
    "        # 만약 컬럼의 값 타입이 범주형이면\n",
    "        if df[col_name].dtype == object or df[col_name].dtype == str:\n",
    "\n",
    "            # # 컬럼의 유니크한 값을 리스트로 만들어둠\n",
    "            col_items = df[col_name].unique().tolist()\n",
    "            # print(col_items)\n",
    "\n",
    "            onehot = OneHotEncoder(sparse=False)\n",
    "            # print(col_name)\n",
    "            onehot_encoded_arr = onehot.fit_transform(df[col_name].values.reshape(-1, 1))\n",
    "            onehot_encoded_label = onehot.categories_[0]\n",
    "            onehot_encoded_df = pd.DataFrame(onehot_encoded_arr, columns=onehot_encoded_label)\n",
    "            # print(onehot_encoded_df)\n",
    "            df.drop(col_name, axis=1, inplace=True)\n",
    "            df = pd.concat([df, onehot_encoded_df], axis=1)\n",
    "        else:\n",
    "            # 종속(타겟) 컬럼만 인코딩 제외\n",
    "            if col_name == '평당단가':\n",
    "                continue\n",
    "            scaled_label = [col_name]\n",
    "            x = df[col_name].values.reshape(-1, 1) #returns a numpy array\n",
    "            min_max_scaler = preprocessing.MinMaxScaler()\n",
    "            x_scaled = min_max_scaler.fit_transform(x)\n",
    "            scaled_df = pd.DataFrame(x_scaled, columns=scaled_label)\n",
    "\n",
    "            df.drop(col_name, axis=1, inplace=True)\n",
    "            df = pd.concat([df, scaled_df], axis=1)\n",
    "\n",
    "    return df\n",
    "'''\n",
    "    - 카테고리: 데이터 전처리\n",
    "    - 개요: 무지성 인코딩 => 새로운 데이터 컬럼 추가 시 별도 인코딩 결과만 출력할 때 사용 ㄱㄱ\n",
    "    - param: df, col_name\n",
    "    - return: encoded columns dataframe or series\n",
    "'''\n",
    "def encode_column(df, col_name):\n",
    "\n",
    "    # column data type이 object 또는 str 즉 범주형일 경우\n",
    "    # onehot 인코딩 수행된 데이터프레임 return\n",
    "    if df[col_name].dtype == object or df[col_name].dtype == str:\n",
    "        onehot = OneHotEncoder(sparse=False)\n",
    "\n",
    "        onehot_encoded_arr = onehot.fit_transform(df[col_name].values.reshape(-1, 1))\n",
    "        onehot_encoded_label = onehot.categories_[0]\n",
    "        onehot_encoded_df = pd.DataFrame(onehot_encoded_arr, columns=onehot_encoded_label)\n",
    "\n",
    "        return onehot_encoded_df\n",
    "\n",
    "    # column data type이 나머지 타입일 경우\n",
    "    # 해당 컬럼의 series return\n",
    "    else:\n",
    "        return df[col_name]"
   ]
  },
  {
   "cell_type": "code",
   "execution_count": 6,
   "metadata": {},
   "outputs": [
    {
     "data": {
      "text/html": [
       "<div>\n",
       "<style scoped>\n",
       "    .dataframe tbody tr th:only-of-type {\n",
       "        vertical-align: middle;\n",
       "    }\n",
       "\n",
       "    .dataframe tbody tr th {\n",
       "        vertical-align: top;\n",
       "    }\n",
       "\n",
       "    .dataframe thead th {\n",
       "        text-align: right;\n",
       "    }\n",
       "</style>\n",
       "<table border=\"1\" class=\"dataframe\">\n",
       "  <thead>\n",
       "    <tr style=\"text-align: right;\">\n",
       "      <th></th>\n",
       "      <th>평당단가</th>\n",
       "      <th>거래금액</th>\n",
       "      <th>건축년도</th>\n",
       "      <th>계약날짜인코딩</th>\n",
       "      <th>강남구</th>\n",
       "      <th>강동구</th>\n",
       "      <th>강북구</th>\n",
       "      <th>강서구</th>\n",
       "      <th>관악구</th>\n",
       "      <th>광진구</th>\n",
       "      <th>...</th>\n",
       "      <th>플래티넘</th>\n",
       "      <th>하늘채</th>\n",
       "      <th>한라|한라비발디</th>\n",
       "      <th>한화</th>\n",
       "      <th>현대</th>\n",
       "      <th>호반</th>\n",
       "      <th>힐스테이트</th>\n",
       "      <th>동</th>\n",
       "      <th>전용면적</th>\n",
       "      <th>층</th>\n",
       "    </tr>\n",
       "  </thead>\n",
       "  <tbody>\n",
       "    <tr>\n",
       "      <th>0</th>\n",
       "      <td>5364.511692</td>\n",
       "      <td>0.040858</td>\n",
       "      <td>0.433333</td>\n",
       "      <td>0.001826</td>\n",
       "      <td>1.0</td>\n",
       "      <td>0.0</td>\n",
       "      <td>0.0</td>\n",
       "      <td>0.0</td>\n",
       "      <td>0.0</td>\n",
       "      <td>0.0</td>\n",
       "      <td>...</td>\n",
       "      <td>0.0</td>\n",
       "      <td>0.0</td>\n",
       "      <td>0.0</td>\n",
       "      <td>0.0</td>\n",
       "      <td>0.0</td>\n",
       "      <td>0.0</td>\n",
       "      <td>0.0</td>\n",
       "      <td>0.039514</td>\n",
       "      <td>0.254714</td>\n",
       "      <td>0.044118</td>\n",
       "    </tr>\n",
       "    <tr>\n",
       "      <th>1</th>\n",
       "      <td>4828.060523</td>\n",
       "      <td>0.038701</td>\n",
       "      <td>0.433333</td>\n",
       "      <td>0.006393</td>\n",
       "      <td>1.0</td>\n",
       "      <td>0.0</td>\n",
       "      <td>0.0</td>\n",
       "      <td>0.0</td>\n",
       "      <td>0.0</td>\n",
       "      <td>0.0</td>\n",
       "      <td>...</td>\n",
       "      <td>0.0</td>\n",
       "      <td>0.0</td>\n",
       "      <td>0.0</td>\n",
       "      <td>0.0</td>\n",
       "      <td>0.0</td>\n",
       "      <td>0.0</td>\n",
       "      <td>0.0</td>\n",
       "      <td>0.039514</td>\n",
       "      <td>0.254714</td>\n",
       "      <td>0.014706</td>\n",
       "    </tr>\n",
       "    <tr>\n",
       "      <th>2</th>\n",
       "      <td>5364.511692</td>\n",
       "      <td>0.064821</td>\n",
       "      <td>0.433333</td>\n",
       "      <td>0.009132</td>\n",
       "      <td>1.0</td>\n",
       "      <td>0.0</td>\n",
       "      <td>0.0</td>\n",
       "      <td>0.0</td>\n",
       "      <td>0.0</td>\n",
       "      <td>0.0</td>\n",
       "      <td>...</td>\n",
       "      <td>0.0</td>\n",
       "      <td>0.0</td>\n",
       "      <td>0.0</td>\n",
       "      <td>0.0</td>\n",
       "      <td>0.0</td>\n",
       "      <td>0.0</td>\n",
       "      <td>0.0</td>\n",
       "      <td>0.039514</td>\n",
       "      <td>0.254714</td>\n",
       "      <td>0.000000</td>\n",
       "    </tr>\n",
       "    <tr>\n",
       "      <th>3</th>\n",
       "      <td>5756.533700</td>\n",
       "      <td>0.055835</td>\n",
       "      <td>0.433333</td>\n",
       "      <td>0.070320</td>\n",
       "      <td>1.0</td>\n",
       "      <td>0.0</td>\n",
       "      <td>0.0</td>\n",
       "      <td>0.0</td>\n",
       "      <td>0.0</td>\n",
       "      <td>0.0</td>\n",
       "      <td>...</td>\n",
       "      <td>0.0</td>\n",
       "      <td>0.0</td>\n",
       "      <td>0.0</td>\n",
       "      <td>0.0</td>\n",
       "      <td>0.0</td>\n",
       "      <td>0.0</td>\n",
       "      <td>0.0</td>\n",
       "      <td>0.039514</td>\n",
       "      <td>0.254714</td>\n",
       "      <td>0.014706</td>\n",
       "    </tr>\n",
       "    <tr>\n",
       "      <th>4</th>\n",
       "      <td>6452.346308</td>\n",
       "      <td>0.209202</td>\n",
       "      <td>0.433333</td>\n",
       "      <td>0.085845</td>\n",
       "      <td>1.0</td>\n",
       "      <td>0.0</td>\n",
       "      <td>0.0</td>\n",
       "      <td>0.0</td>\n",
       "      <td>0.0</td>\n",
       "      <td>0.0</td>\n",
       "      <td>...</td>\n",
       "      <td>0.0</td>\n",
       "      <td>0.0</td>\n",
       "      <td>0.0</td>\n",
       "      <td>0.0</td>\n",
       "      <td>0.0</td>\n",
       "      <td>0.0</td>\n",
       "      <td>0.0</td>\n",
       "      <td>0.039514</td>\n",
       "      <td>0.163322</td>\n",
       "      <td>0.058824</td>\n",
       "    </tr>\n",
       "    <tr>\n",
       "      <th>...</th>\n",
       "      <td>...</td>\n",
       "      <td>...</td>\n",
       "      <td>...</td>\n",
       "      <td>...</td>\n",
       "      <td>...</td>\n",
       "      <td>...</td>\n",
       "      <td>...</td>\n",
       "      <td>...</td>\n",
       "      <td>...</td>\n",
       "      <td>...</td>\n",
       "      <td>...</td>\n",
       "      <td>...</td>\n",
       "      <td>...</td>\n",
       "      <td>...</td>\n",
       "      <td>...</td>\n",
       "      <td>...</td>\n",
       "      <td>...</td>\n",
       "      <td>...</td>\n",
       "      <td>...</td>\n",
       "      <td>...</td>\n",
       "      <td>...</td>\n",
       "    </tr>\n",
       "    <tr>\n",
       "      <th>237982</th>\n",
       "      <td>1410.601638</td>\n",
       "      <td>0.076564</td>\n",
       "      <td>0.700000</td>\n",
       "      <td>0.730594</td>\n",
       "      <td>0.0</td>\n",
       "      <td>0.0</td>\n",
       "      <td>0.0</td>\n",
       "      <td>0.0</td>\n",
       "      <td>0.0</td>\n",
       "      <td>0.0</td>\n",
       "      <td>...</td>\n",
       "      <td>0.0</td>\n",
       "      <td>0.0</td>\n",
       "      <td>0.0</td>\n",
       "      <td>0.0</td>\n",
       "      <td>0.0</td>\n",
       "      <td>0.0</td>\n",
       "      <td>0.0</td>\n",
       "      <td>0.811550</td>\n",
       "      <td>0.350677</td>\n",
       "      <td>0.073529</td>\n",
       "    </tr>\n",
       "    <tr>\n",
       "      <th>237983</th>\n",
       "      <td>1269.794287</td>\n",
       "      <td>0.059430</td>\n",
       "      <td>0.700000</td>\n",
       "      <td>0.866667</td>\n",
       "      <td>0.0</td>\n",
       "      <td>0.0</td>\n",
       "      <td>0.0</td>\n",
       "      <td>0.0</td>\n",
       "      <td>0.0</td>\n",
       "      <td>0.0</td>\n",
       "      <td>...</td>\n",
       "      <td>0.0</td>\n",
       "      <td>0.0</td>\n",
       "      <td>0.0</td>\n",
       "      <td>0.0</td>\n",
       "      <td>0.0</td>\n",
       "      <td>0.0</td>\n",
       "      <td>0.0</td>\n",
       "      <td>0.811550</td>\n",
       "      <td>0.209365</td>\n",
       "      <td>0.014706</td>\n",
       "    </tr>\n",
       "    <tr>\n",
       "      <th>237984</th>\n",
       "      <td>1513.445904</td>\n",
       "      <td>0.103762</td>\n",
       "      <td>0.766667</td>\n",
       "      <td>0.841096</td>\n",
       "      <td>0.0</td>\n",
       "      <td>0.0</td>\n",
       "      <td>0.0</td>\n",
       "      <td>0.0</td>\n",
       "      <td>0.0</td>\n",
       "      <td>0.0</td>\n",
       "      <td>...</td>\n",
       "      <td>0.0</td>\n",
       "      <td>0.0</td>\n",
       "      <td>0.0</td>\n",
       "      <td>0.0</td>\n",
       "      <td>1.0</td>\n",
       "      <td>0.0</td>\n",
       "      <td>0.0</td>\n",
       "      <td>0.811550</td>\n",
       "      <td>0.313118</td>\n",
       "      <td>0.073529</td>\n",
       "    </tr>\n",
       "    <tr>\n",
       "      <th>237985</th>\n",
       "      <td>1805.330937</td>\n",
       "      <td>0.075006</td>\n",
       "      <td>0.766667</td>\n",
       "      <td>0.974429</td>\n",
       "      <td>0.0</td>\n",
       "      <td>0.0</td>\n",
       "      <td>0.0</td>\n",
       "      <td>0.0</td>\n",
       "      <td>0.0</td>\n",
       "      <td>0.0</td>\n",
       "      <td>...</td>\n",
       "      <td>0.0</td>\n",
       "      <td>0.0</td>\n",
       "      <td>0.0</td>\n",
       "      <td>0.0</td>\n",
       "      <td>1.0</td>\n",
       "      <td>0.0</td>\n",
       "      <td>0.0</td>\n",
       "      <td>0.811550</td>\n",
       "      <td>0.328588</td>\n",
       "      <td>0.058824</td>\n",
       "    </tr>\n",
       "    <tr>\n",
       "      <th>237986</th>\n",
       "      <td>1698.623086</td>\n",
       "      <td>0.317038</td>\n",
       "      <td>0.766667</td>\n",
       "      <td>0.914155</td>\n",
       "      <td>0.0</td>\n",
       "      <td>0.0</td>\n",
       "      <td>0.0</td>\n",
       "      <td>0.0</td>\n",
       "      <td>0.0</td>\n",
       "      <td>0.0</td>\n",
       "      <td>...</td>\n",
       "      <td>0.0</td>\n",
       "      <td>0.0</td>\n",
       "      <td>0.0</td>\n",
       "      <td>0.0</td>\n",
       "      <td>1.0</td>\n",
       "      <td>0.0</td>\n",
       "      <td>0.0</td>\n",
       "      <td>0.811550</td>\n",
       "      <td>0.246448</td>\n",
       "      <td>0.058824</td>\n",
       "    </tr>\n",
       "  </tbody>\n",
       "</table>\n",
       "<p>237987 rows × 76 columns</p>\n",
       "</div>"
      ],
      "text/plain": [
       "               평당단가      거래금액      건축년도   계약날짜인코딩  강남구  강동구  강북구  강서구  관악구  \\\n",
       "0       5364.511692  0.040858  0.433333  0.001826  1.0  0.0  0.0  0.0  0.0   \n",
       "1       4828.060523  0.038701  0.433333  0.006393  1.0  0.0  0.0  0.0  0.0   \n",
       "2       5364.511692  0.064821  0.433333  0.009132  1.0  0.0  0.0  0.0  0.0   \n",
       "3       5756.533700  0.055835  0.433333  0.070320  1.0  0.0  0.0  0.0  0.0   \n",
       "4       6452.346308  0.209202  0.433333  0.085845  1.0  0.0  0.0  0.0  0.0   \n",
       "...             ...       ...       ...       ...  ...  ...  ...  ...  ...   \n",
       "237982  1410.601638  0.076564  0.700000  0.730594  0.0  0.0  0.0  0.0  0.0   \n",
       "237983  1269.794287  0.059430  0.700000  0.866667  0.0  0.0  0.0  0.0  0.0   \n",
       "237984  1513.445904  0.103762  0.766667  0.841096  0.0  0.0  0.0  0.0  0.0   \n",
       "237985  1805.330937  0.075006  0.766667  0.974429  0.0  0.0  0.0  0.0  0.0   \n",
       "237986  1698.623086  0.317038  0.766667  0.914155  0.0  0.0  0.0  0.0  0.0   \n",
       "\n",
       "        광진구  ...  플래티넘  하늘채  한라|한라비발디   한화   현대   호반  힐스테이트         동  \\\n",
       "0       0.0  ...   0.0  0.0       0.0  0.0  0.0  0.0    0.0  0.039514   \n",
       "1       0.0  ...   0.0  0.0       0.0  0.0  0.0  0.0    0.0  0.039514   \n",
       "2       0.0  ...   0.0  0.0       0.0  0.0  0.0  0.0    0.0  0.039514   \n",
       "3       0.0  ...   0.0  0.0       0.0  0.0  0.0  0.0    0.0  0.039514   \n",
       "4       0.0  ...   0.0  0.0       0.0  0.0  0.0  0.0    0.0  0.039514   \n",
       "...     ...  ...   ...  ...       ...  ...  ...  ...    ...       ...   \n",
       "237982  0.0  ...   0.0  0.0       0.0  0.0  0.0  0.0    0.0  0.811550   \n",
       "237983  0.0  ...   0.0  0.0       0.0  0.0  0.0  0.0    0.0  0.811550   \n",
       "237984  0.0  ...   0.0  0.0       0.0  0.0  1.0  0.0    0.0  0.811550   \n",
       "237985  0.0  ...   0.0  0.0       0.0  0.0  1.0  0.0    0.0  0.811550   \n",
       "237986  0.0  ...   0.0  0.0       0.0  0.0  1.0  0.0    0.0  0.811550   \n",
       "\n",
       "            전용면적         층  \n",
       "0       0.254714  0.044118  \n",
       "1       0.254714  0.014706  \n",
       "2       0.254714  0.000000  \n",
       "3       0.254714  0.014706  \n",
       "4       0.163322  0.058824  \n",
       "...          ...       ...  \n",
       "237982  0.350677  0.073529  \n",
       "237983  0.209365  0.014706  \n",
       "237984  0.313118  0.073529  \n",
       "237985  0.328588  0.058824  \n",
       "237986  0.246448  0.058824  \n",
       "\n",
       "[237987 rows x 76 columns]"
      ]
     },
     "execution_count": 6,
     "metadata": {},
     "output_type": "execute_result"
    }
   ],
   "source": [
    "# 1-1 test one_hot function\n",
    "preprocessed_train_df = one_hot(sample_df)\n",
    "preprocessed_train_df"
   ]
  },
  {
   "cell_type": "code",
   "execution_count": 7,
   "metadata": {},
   "outputs": [
    {
     "data": {
      "text/plain": [
       "(142792, 142792)"
      ]
     },
     "execution_count": 7,
     "metadata": {},
     "output_type": "execute_result"
    }
   ],
   "source": [
    "# 인코딩된 전체 데이터 셋에서 train, test split하여 분할 시행\n",
    "# fit 함수에서 사용할 예정 train(모델 훈련 및 도출), test(최종 검증 데이터)\n",
    "\n",
    "# 인코딩된 데이터에서 data, target 분류\n",
    "data = preprocessed_train_df[preprocessed_train_df.columns.difference(['평당단가', '거래금액', '전용면적'])]\n",
    "target = preprocessed_train_df['평당단가'] \n",
    "\n",
    "train_x, test_x, train_y, test_y = train_test_split(data, target, test_size=0.4, shuffle=False)\n",
    "\n",
    "# train_x(data), train_y(target) => cross validation을 이용하여 교차 검증 및 점수 도출할 데이터\n",
    "# test_x(data), test_y(target) => 향후 train data를 이용하여 생성된 최종 모형 평가하기 위한 테스트 데이터\n",
    "# 무작위가 아닌 시간순 정렬 반영 위해 shuffle=False\n",
    "\n",
    "len(train_x), len(train_y)"
   ]
  },
  {
   "cell_type": "markdown",
   "metadata": {},
   "source": [
    "### 2. 모델링"
   ]
  },
  {
   "cell_type": "code",
   "execution_count": 8,
   "metadata": {},
   "outputs": [],
   "source": [
    "from sklearn.model_selection import KFold\n",
    "'''\n",
    "    - 카테고리: 모델링\n",
    "    - 개요: 머신러닝 모델링 수행 및 점수 도출\n",
    "        - 교차 검증 방법으로 TimeSeriesSplit 수행\n",
    "    - param: \n",
    "\n",
    "        1. model_tuple => ex. ('LR', LinearRegression())\n",
    "        2. X_train, y_train, X_test, y_test\n",
    "\n",
    "    - return: rmse\n",
    "'''\n",
    "def execute_modeling(model_tuple, data, target):\n",
    "\n",
    "    name = model_tuple[0]\n",
    "    model = model_tuple[1]\n",
    "\n",
    "    # TimeSeries Cross validation \n",
    "    # tscv = TimeSeriesSplit(n_splits=7)\n",
    "    kfold = KFold(n_splits=5)\n",
    "\n",
    "    # 각 모델에 대하여 교차 검증한 결과 점수 확인\n",
    "    # r^2, rmse 같이 도출 ㄱㄱ\n",
    "    # scoring parameter option 어캐 줘야 함?\n",
    "    score_list = []\n",
    "    score_type = ['r2', 'neg_mean_squared_error']\n",
    "\n",
    "    for s_type in score_type:\n",
    "\n",
    "        scores = cross_val_score(model, data, target, cv=kfold, scoring=s_type)\n",
    "\n",
    "        if s_type == 'neg_mean_squared_error':\n",
    "            scores = np.sqrt(-scores)\n",
    "\n",
    "        print(f'{name} average {s_type}: {scores.mean()}, score_list {s_type}: {scores}')\n",
    "\n",
    "        score_list.append(scores.mean())\n",
    "\n",
    "    rmse_score = score_list[1]\n",
    "\n",
    "    return rmse_score"
   ]
  },
  {
   "cell_type": "code",
   "execution_count": 10,
   "metadata": {},
   "outputs": [
    {
     "name": "stdout",
     "output_type": "stream",
     "text": [
      "RF average r2: 0.7432132282405489, score_list r2: [0.80105098 0.76895105 0.7799826  0.61039648 0.75568504]\n",
      "RF average neg_mean_squared_error: 785.0082694010437, score_list neg_mean_squared_error: [ 676.67113357  659.76179902 1082.86365226  609.90403498  895.84072717]\n",
      "model_xgb average r2: 0.8151721753213408, score_list r2: [0.86919548 0.84059245 0.80969602 0.73685049 0.81952645]\n",
      "model_xgb average neg_mean_squared_error: 644.3302373605477, score_list neg_mean_squared_error: [538.33239143 531.79882228 922.33513876 497.45872069 731.72611365]\n",
      "model_lgb average r2: 0.7951417147889878, score_list r2: [0.84433004 0.82645016 0.81871912 0.69451397 0.79169529]\n",
      "model_lgb average neg_mean_squared_error: 672.8948790435604, score_list neg_mean_squared_error: [587.27502136 554.88762484 900.2037445  535.98353299 786.12447152]\n",
      "voting average r2: 0.8087667086746473, score_list r2: [0.85499324 0.83529057 0.82065795 0.72175489 0.81113689]\n",
      "voting average neg_mean_squared_error: 645.630733537886, score_list neg_mean_squared_error: [553.59105727 543.62286754 876.49356257 505.39059807 749.05558223]\n"
     ]
    }
   ],
   "source": [
    "from sklearn.linear_model import LinearRegression \n",
    "from sklearn.ensemble import RandomForestRegressor\n",
    "from sklearn.ensemble import VotingRegressor\n",
    "import xgboost as xgb\n",
    "import lightgbm as lgb\n",
    "\n",
    "# 2. test execute_modeling function\n",
    "preprocessed_train_df = one_hot(sample_df)\n",
    "preprocessed_train_df = preprocessed_train_df.drop_duplicates()\n",
    "\n",
    "model_list = [\n",
    "                ('RF', RandomForestRegressor(n_estimators=5)),\n",
    "                ('model_xgb', xgb.XGBRegressor()),\n",
    "                ('model_lgb', lgb.LGBMRegressor()),\n",
    "\n",
    "                ('voting', VotingRegressor(estimators=[\n",
    "                    ('RF', RandomForestRegressor(n_estimators=5)),\n",
    "                    ('model_xgb', xgb.XGBRegressor()),\n",
    "                    ('model_lgb', lgb.LGBMRegressor())\n",
    "                ]))\n",
    "            ]\n",
    "\n",
    "for model_tuple in model_list:\n",
    "    execute_modeling(model_tuple, train_x, train_y)\n",
    "    pass"
   ]
  },
  {
   "cell_type": "markdown",
   "metadata": {},
   "source": [
    "### 3. 파라미터 튜닝"
   ]
  },
  {
   "cell_type": "code",
   "execution_count": 7,
   "metadata": {},
   "outputs": [
    {
     "name": "stderr",
     "output_type": "stream",
     "text": [
      "\u001b[32m[I 2021-12-28 16:21:42,984]\u001b[0m A new study created in memory with name: no-name-aa9728d7-5b52-4b7f-a314-9ab0fc9daa4f\u001b[0m\n",
      "\u001b[32m[I 2021-12-28 16:22:21,732]\u001b[0m Trial 0 finished with value: 25895.329099756465 and parameters: {'n_estimators': 790, 'max_depth': 14, 'min_child_weight': 43}. Best is trial 0 with value: 25895.329099756465.\u001b[0m\n"
     ]
    },
    {
     "name": "stdout",
     "output_type": "stream",
     "text": [
      "LGBM average rmse_scores: 25895.329099756465, rmse_scores: [19576.06321571 19376.58158036 55598.44322939 56276.78036999\n",
      " 29394.86794348 12642.15597452 12019.52356509 25045.80398683\n",
      " 21638.95337171 34075.15963913 14420.76480632 13809.82873753\n",
      " 21766.47121174 26651.99570745 26136.5431571 ]\n"
     ]
    },
    {
     "name": "stderr",
     "output_type": "stream",
     "text": [
      "\u001b[32m[I 2021-12-28 16:23:02,077]\u001b[0m Trial 1 finished with value: 26214.330928425254 and parameters: {'n_estimators': 750, 'max_depth': 9, 'min_child_weight': 64}. Best is trial 0 with value: 25895.329099756465.\u001b[0m\n"
     ]
    },
    {
     "name": "stdout",
     "output_type": "stream",
     "text": [
      "LGBM average rmse_scores: 26214.330928425254, rmse_scores: [19831.40428064 20039.21382514 54863.88110247 56009.72590423\n",
      " 29900.24350841 13507.73394071 12359.79148079 25557.985213\n",
      " 22598.22387112 34117.80646005 14865.52649845 13909.8459276\n",
      " 21980.87217221 27063.63479704 26609.07494452]\n"
     ]
    },
    {
     "name": "stderr",
     "output_type": "stream",
     "text": [
      "\u001b[32m[I 2021-12-28 16:23:40,147]\u001b[0m Trial 2 finished with value: 25739.27317819786 and parameters: {'n_estimators': 727, 'max_depth': 14, 'min_child_weight': 21}. Best is trial 2 with value: 25739.27317819786.\u001b[0m\n"
     ]
    },
    {
     "name": "stdout",
     "output_type": "stream",
     "text": [
      "LGBM average rmse_scores: 25739.27317819786, rmse_scores: [19982.4711522  19401.4453833  55313.02189458 56188.8881972\n",
      " 29589.53745901 12440.62745936 11658.56881514 24586.18736491\n",
      " 21635.68308552 33538.90012906 14624.16575483 13800.14089515\n",
      " 21483.4692944  26478.39201484 25367.59877348]\n",
      "25739.27317819786 {'n_estimators': 727, 'max_depth': 14, 'min_child_weight': 21}\n"
     ]
    }
   ],
   "source": [
    "# 3. test get_best_param function\n",
    "\n",
    "# linear regression model object\n",
    "def linear_object(trial:Trial, data, target):\n",
    "    params = {\n",
    "        'fit_intercept': trial.suggest_categorical('fit_intercept', [True, False])\n",
    "    }\n",
    "    \n",
    "    test_model = LinearRegression(**params)\n",
    "    test_model_score = execute_modeling(('LR', test_model), data, target)\n",
    "\n",
    "    return test_model_score\n",
    "\n",
    "# xgbr regression model object\n",
    "def xgbr_object(trial:Trial, data, target):\n",
    "    params = {\n",
    "        \"n_estimators\" : trial.suggest_int('n_estimators', 500, 1000),\n",
    "        'max_depth':trial.suggest_int('max_depth', 8, 16),\n",
    "        'min_child_weight':trial.suggest_int('min_child_weight', 1, 100),\n",
    "        'gamma':trial.suggest_int('gamma', 1, 3),\n",
    "        'learning_rate': 0.01,\n",
    "        'colsample_bytree':trial.suggest_discrete_uniform('colsample_bytree',0.5, 1, 0.1),\n",
    "        'nthread' : -1,\n",
    "        'tree_method': 'gpu_hist',\n",
    "        'predictor': 'gpu_predictor',\n",
    "        'lambda': trial.suggest_loguniform('lambda', 1e-3, 1.0),\n",
    "        'alpha': trial.suggest_loguniform('alpha', 1e-3, 1.0),\n",
    "        'subsample': trial.suggest_categorical('subsample', [0.6,0.7,0.8,1.0] ),\n",
    "        'random_state': 42\n",
    "    }\n",
    "    \n",
    "    test_model = xgb.XGBRegressor(**params)\n",
    "    test_model_score = execute_modeling(('XGBR', test_model), data, target)\n",
    "\n",
    "    return test_model_score\n",
    "\n",
    "# light gbm regression model object\n",
    "def lgb_object(trial:Trial, data, target):\n",
    "    params = {\n",
    "        \"n_estimators\" : trial.suggest_int('n_estimators', 500, 1000),\n",
    "        'max_depth':trial.suggest_int('max_depth', 8, 16),\n",
    "        'min_child_weight':trial.suggest_int('min_child_weight', 1, 100)\n",
    "    }\n",
    "    \n",
    "    test_model = lgb.LGBMRegressor(**params)\n",
    "    test_model_score = execute_modeling(('LGBM', test_model), data, target)\n",
    "\n",
    "    return test_model_score\n",
    "\n",
    "# randomforest regressor model object\n",
    "def random_forest_object(trial:Trial, data, target):\n",
    "    params = {\n",
    "        \"n_estimators\" : trial.suggest_int('n_estimators', 500, 1000),\n",
    "        'max_depth':trial.suggest_int('max_depth', 8, 16),\n",
    "        ''\n",
    "    }\n",
    "    \n",
    "    test_model = RandomForestRegressor(**params)\n",
    "    test_model_score = execute_modeling(('rf', test_model), data, target)\n",
    "\n",
    "    return test_model_score\n",
    "\n",
    "# voting regressor model object\n",
    "def voting_regressor(trial:Trial, data, target):\n",
    "    pass\n",
    "\n",
    "# 하이퍼 파라미터 결과 도출\n",
    "# 위에서 분할한  X_train, y_train, X_test, y_test 파라미터 삽입\n",
    "study = optuna.create_study(direction='minimize', sampler=TPESampler())\n",
    "study.optimize(lambda trial: lgb_object(trial, train_x, train_y), n_trials=3)\n",
    "\n",
    "best_score = study.best_value\n",
    "best_param_dict = study.best_trial.params\n",
    "\n",
    "print(best_score, best_param_dict)"
   ]
  },
  {
   "cell_type": "code",
   "execution_count": 8,
   "metadata": {},
   "outputs": [
    {
     "data": {
      "application/vnd.plotly.v1+json": {
       "config": {
        "plotlyServerURL": "https://plot.ly"
       },
       "data": [
        {
         "cliponaxis": false,
         "hovertemplate": [
          "n_estimators (IntUniformDistribution): 0.14653137089826526<extra></extra>",
          "max_depth (IntUniformDistribution): 0.2978409437962425<extra></extra>",
          "min_child_weight (IntUniformDistribution): 0.5556276853054922<extra></extra>"
         ],
         "marker": {
          "color": "rgb(66,146,198)"
         },
         "orientation": "h",
         "text": [
          "0.14653137089826526",
          "0.2978409437962425",
          "0.5556276853054922"
         ],
         "textposition": "outside",
         "texttemplate": "%{text:.2f}",
         "type": "bar",
         "x": [
          0.14653137089826526,
          0.2978409437962425,
          0.5556276853054922
         ],
         "y": [
          "n_estimators",
          "max_depth",
          "min_child_weight"
         ]
        }
       ],
       "layout": {
        "showlegend": false,
        "template": {
         "data": {
          "bar": [
           {
            "error_x": {
             "color": "#2a3f5f"
            },
            "error_y": {
             "color": "#2a3f5f"
            },
            "marker": {
             "line": {
              "color": "#E5ECF6",
              "width": 0.5
             },
             "pattern": {
              "fillmode": "overlay",
              "size": 10,
              "solidity": 0.2
             }
            },
            "type": "bar"
           }
          ],
          "barpolar": [
           {
            "marker": {
             "line": {
              "color": "#E5ECF6",
              "width": 0.5
             },
             "pattern": {
              "fillmode": "overlay",
              "size": 10,
              "solidity": 0.2
             }
            },
            "type": "barpolar"
           }
          ],
          "carpet": [
           {
            "aaxis": {
             "endlinecolor": "#2a3f5f",
             "gridcolor": "white",
             "linecolor": "white",
             "minorgridcolor": "white",
             "startlinecolor": "#2a3f5f"
            },
            "baxis": {
             "endlinecolor": "#2a3f5f",
             "gridcolor": "white",
             "linecolor": "white",
             "minorgridcolor": "white",
             "startlinecolor": "#2a3f5f"
            },
            "type": "carpet"
           }
          ],
          "choropleth": [
           {
            "colorbar": {
             "outlinewidth": 0,
             "ticks": ""
            },
            "type": "choropleth"
           }
          ],
          "contour": [
           {
            "colorbar": {
             "outlinewidth": 0,
             "ticks": ""
            },
            "colorscale": [
             [
              0,
              "#0d0887"
             ],
             [
              0.1111111111111111,
              "#46039f"
             ],
             [
              0.2222222222222222,
              "#7201a8"
             ],
             [
              0.3333333333333333,
              "#9c179e"
             ],
             [
              0.4444444444444444,
              "#bd3786"
             ],
             [
              0.5555555555555556,
              "#d8576b"
             ],
             [
              0.6666666666666666,
              "#ed7953"
             ],
             [
              0.7777777777777778,
              "#fb9f3a"
             ],
             [
              0.8888888888888888,
              "#fdca26"
             ],
             [
              1,
              "#f0f921"
             ]
            ],
            "type": "contour"
           }
          ],
          "contourcarpet": [
           {
            "colorbar": {
             "outlinewidth": 0,
             "ticks": ""
            },
            "type": "contourcarpet"
           }
          ],
          "heatmap": [
           {
            "colorbar": {
             "outlinewidth": 0,
             "ticks": ""
            },
            "colorscale": [
             [
              0,
              "#0d0887"
             ],
             [
              0.1111111111111111,
              "#46039f"
             ],
             [
              0.2222222222222222,
              "#7201a8"
             ],
             [
              0.3333333333333333,
              "#9c179e"
             ],
             [
              0.4444444444444444,
              "#bd3786"
             ],
             [
              0.5555555555555556,
              "#d8576b"
             ],
             [
              0.6666666666666666,
              "#ed7953"
             ],
             [
              0.7777777777777778,
              "#fb9f3a"
             ],
             [
              0.8888888888888888,
              "#fdca26"
             ],
             [
              1,
              "#f0f921"
             ]
            ],
            "type": "heatmap"
           }
          ],
          "heatmapgl": [
           {
            "colorbar": {
             "outlinewidth": 0,
             "ticks": ""
            },
            "colorscale": [
             [
              0,
              "#0d0887"
             ],
             [
              0.1111111111111111,
              "#46039f"
             ],
             [
              0.2222222222222222,
              "#7201a8"
             ],
             [
              0.3333333333333333,
              "#9c179e"
             ],
             [
              0.4444444444444444,
              "#bd3786"
             ],
             [
              0.5555555555555556,
              "#d8576b"
             ],
             [
              0.6666666666666666,
              "#ed7953"
             ],
             [
              0.7777777777777778,
              "#fb9f3a"
             ],
             [
              0.8888888888888888,
              "#fdca26"
             ],
             [
              1,
              "#f0f921"
             ]
            ],
            "type": "heatmapgl"
           }
          ],
          "histogram": [
           {
            "marker": {
             "pattern": {
              "fillmode": "overlay",
              "size": 10,
              "solidity": 0.2
             }
            },
            "type": "histogram"
           }
          ],
          "histogram2d": [
           {
            "colorbar": {
             "outlinewidth": 0,
             "ticks": ""
            },
            "colorscale": [
             [
              0,
              "#0d0887"
             ],
             [
              0.1111111111111111,
              "#46039f"
             ],
             [
              0.2222222222222222,
              "#7201a8"
             ],
             [
              0.3333333333333333,
              "#9c179e"
             ],
             [
              0.4444444444444444,
              "#bd3786"
             ],
             [
              0.5555555555555556,
              "#d8576b"
             ],
             [
              0.6666666666666666,
              "#ed7953"
             ],
             [
              0.7777777777777778,
              "#fb9f3a"
             ],
             [
              0.8888888888888888,
              "#fdca26"
             ],
             [
              1,
              "#f0f921"
             ]
            ],
            "type": "histogram2d"
           }
          ],
          "histogram2dcontour": [
           {
            "colorbar": {
             "outlinewidth": 0,
             "ticks": ""
            },
            "colorscale": [
             [
              0,
              "#0d0887"
             ],
             [
              0.1111111111111111,
              "#46039f"
             ],
             [
              0.2222222222222222,
              "#7201a8"
             ],
             [
              0.3333333333333333,
              "#9c179e"
             ],
             [
              0.4444444444444444,
              "#bd3786"
             ],
             [
              0.5555555555555556,
              "#d8576b"
             ],
             [
              0.6666666666666666,
              "#ed7953"
             ],
             [
              0.7777777777777778,
              "#fb9f3a"
             ],
             [
              0.8888888888888888,
              "#fdca26"
             ],
             [
              1,
              "#f0f921"
             ]
            ],
            "type": "histogram2dcontour"
           }
          ],
          "mesh3d": [
           {
            "colorbar": {
             "outlinewidth": 0,
             "ticks": ""
            },
            "type": "mesh3d"
           }
          ],
          "parcoords": [
           {
            "line": {
             "colorbar": {
              "outlinewidth": 0,
              "ticks": ""
             }
            },
            "type": "parcoords"
           }
          ],
          "pie": [
           {
            "automargin": true,
            "type": "pie"
           }
          ],
          "scatter": [
           {
            "marker": {
             "colorbar": {
              "outlinewidth": 0,
              "ticks": ""
             }
            },
            "type": "scatter"
           }
          ],
          "scatter3d": [
           {
            "line": {
             "colorbar": {
              "outlinewidth": 0,
              "ticks": ""
             }
            },
            "marker": {
             "colorbar": {
              "outlinewidth": 0,
              "ticks": ""
             }
            },
            "type": "scatter3d"
           }
          ],
          "scattercarpet": [
           {
            "marker": {
             "colorbar": {
              "outlinewidth": 0,
              "ticks": ""
             }
            },
            "type": "scattercarpet"
           }
          ],
          "scattergeo": [
           {
            "marker": {
             "colorbar": {
              "outlinewidth": 0,
              "ticks": ""
             }
            },
            "type": "scattergeo"
           }
          ],
          "scattergl": [
           {
            "marker": {
             "colorbar": {
              "outlinewidth": 0,
              "ticks": ""
             }
            },
            "type": "scattergl"
           }
          ],
          "scattermapbox": [
           {
            "marker": {
             "colorbar": {
              "outlinewidth": 0,
              "ticks": ""
             }
            },
            "type": "scattermapbox"
           }
          ],
          "scatterpolar": [
           {
            "marker": {
             "colorbar": {
              "outlinewidth": 0,
              "ticks": ""
             }
            },
            "type": "scatterpolar"
           }
          ],
          "scatterpolargl": [
           {
            "marker": {
             "colorbar": {
              "outlinewidth": 0,
              "ticks": ""
             }
            },
            "type": "scatterpolargl"
           }
          ],
          "scatterternary": [
           {
            "marker": {
             "colorbar": {
              "outlinewidth": 0,
              "ticks": ""
             }
            },
            "type": "scatterternary"
           }
          ],
          "surface": [
           {
            "colorbar": {
             "outlinewidth": 0,
             "ticks": ""
            },
            "colorscale": [
             [
              0,
              "#0d0887"
             ],
             [
              0.1111111111111111,
              "#46039f"
             ],
             [
              0.2222222222222222,
              "#7201a8"
             ],
             [
              0.3333333333333333,
              "#9c179e"
             ],
             [
              0.4444444444444444,
              "#bd3786"
             ],
             [
              0.5555555555555556,
              "#d8576b"
             ],
             [
              0.6666666666666666,
              "#ed7953"
             ],
             [
              0.7777777777777778,
              "#fb9f3a"
             ],
             [
              0.8888888888888888,
              "#fdca26"
             ],
             [
              1,
              "#f0f921"
             ]
            ],
            "type": "surface"
           }
          ],
          "table": [
           {
            "cells": {
             "fill": {
              "color": "#EBF0F8"
             },
             "line": {
              "color": "white"
             }
            },
            "header": {
             "fill": {
              "color": "#C8D4E3"
             },
             "line": {
              "color": "white"
             }
            },
            "type": "table"
           }
          ]
         },
         "layout": {
          "annotationdefaults": {
           "arrowcolor": "#2a3f5f",
           "arrowhead": 0,
           "arrowwidth": 1
          },
          "autotypenumbers": "strict",
          "coloraxis": {
           "colorbar": {
            "outlinewidth": 0,
            "ticks": ""
           }
          },
          "colorscale": {
           "diverging": [
            [
             0,
             "#8e0152"
            ],
            [
             0.1,
             "#c51b7d"
            ],
            [
             0.2,
             "#de77ae"
            ],
            [
             0.3,
             "#f1b6da"
            ],
            [
             0.4,
             "#fde0ef"
            ],
            [
             0.5,
             "#f7f7f7"
            ],
            [
             0.6,
             "#e6f5d0"
            ],
            [
             0.7,
             "#b8e186"
            ],
            [
             0.8,
             "#7fbc41"
            ],
            [
             0.9,
             "#4d9221"
            ],
            [
             1,
             "#276419"
            ]
           ],
           "sequential": [
            [
             0,
             "#0d0887"
            ],
            [
             0.1111111111111111,
             "#46039f"
            ],
            [
             0.2222222222222222,
             "#7201a8"
            ],
            [
             0.3333333333333333,
             "#9c179e"
            ],
            [
             0.4444444444444444,
             "#bd3786"
            ],
            [
             0.5555555555555556,
             "#d8576b"
            ],
            [
             0.6666666666666666,
             "#ed7953"
            ],
            [
             0.7777777777777778,
             "#fb9f3a"
            ],
            [
             0.8888888888888888,
             "#fdca26"
            ],
            [
             1,
             "#f0f921"
            ]
           ],
           "sequentialminus": [
            [
             0,
             "#0d0887"
            ],
            [
             0.1111111111111111,
             "#46039f"
            ],
            [
             0.2222222222222222,
             "#7201a8"
            ],
            [
             0.3333333333333333,
             "#9c179e"
            ],
            [
             0.4444444444444444,
             "#bd3786"
            ],
            [
             0.5555555555555556,
             "#d8576b"
            ],
            [
             0.6666666666666666,
             "#ed7953"
            ],
            [
             0.7777777777777778,
             "#fb9f3a"
            ],
            [
             0.8888888888888888,
             "#fdca26"
            ],
            [
             1,
             "#f0f921"
            ]
           ]
          },
          "colorway": [
           "#636efa",
           "#EF553B",
           "#00cc96",
           "#ab63fa",
           "#FFA15A",
           "#19d3f3",
           "#FF6692",
           "#B6E880",
           "#FF97FF",
           "#FECB52"
          ],
          "font": {
           "color": "#2a3f5f"
          },
          "geo": {
           "bgcolor": "white",
           "lakecolor": "white",
           "landcolor": "#E5ECF6",
           "showlakes": true,
           "showland": true,
           "subunitcolor": "white"
          },
          "hoverlabel": {
           "align": "left"
          },
          "hovermode": "closest",
          "mapbox": {
           "style": "light"
          },
          "paper_bgcolor": "white",
          "plot_bgcolor": "#E5ECF6",
          "polar": {
           "angularaxis": {
            "gridcolor": "white",
            "linecolor": "white",
            "ticks": ""
           },
           "bgcolor": "#E5ECF6",
           "radialaxis": {
            "gridcolor": "white",
            "linecolor": "white",
            "ticks": ""
           }
          },
          "scene": {
           "xaxis": {
            "backgroundcolor": "#E5ECF6",
            "gridcolor": "white",
            "gridwidth": 2,
            "linecolor": "white",
            "showbackground": true,
            "ticks": "",
            "zerolinecolor": "white"
           },
           "yaxis": {
            "backgroundcolor": "#E5ECF6",
            "gridcolor": "white",
            "gridwidth": 2,
            "linecolor": "white",
            "showbackground": true,
            "ticks": "",
            "zerolinecolor": "white"
           },
           "zaxis": {
            "backgroundcolor": "#E5ECF6",
            "gridcolor": "white",
            "gridwidth": 2,
            "linecolor": "white",
            "showbackground": true,
            "ticks": "",
            "zerolinecolor": "white"
           }
          },
          "shapedefaults": {
           "line": {
            "color": "#2a3f5f"
           }
          },
          "ternary": {
           "aaxis": {
            "gridcolor": "white",
            "linecolor": "white",
            "ticks": ""
           },
           "baxis": {
            "gridcolor": "white",
            "linecolor": "white",
            "ticks": ""
           },
           "bgcolor": "#E5ECF6",
           "caxis": {
            "gridcolor": "white",
            "linecolor": "white",
            "ticks": ""
           }
          },
          "title": {
           "x": 0.05
          },
          "xaxis": {
           "automargin": true,
           "gridcolor": "white",
           "linecolor": "white",
           "ticks": "",
           "title": {
            "standoff": 15
           },
           "zerolinecolor": "white",
           "zerolinewidth": 2
          },
          "yaxis": {
           "automargin": true,
           "gridcolor": "white",
           "linecolor": "white",
           "ticks": "",
           "title": {
            "standoff": 15
           },
           "zerolinecolor": "white",
           "zerolinewidth": 2
          }
         }
        },
        "title": {
         "text": "Hyperparameter Importances"
        },
        "xaxis": {
         "title": {
          "text": "Importance for Objective Value"
         }
        },
        "yaxis": {
         "title": {
          "text": "Hyperparameter"
         }
        }
       }
      }
     },
     "metadata": {},
     "output_type": "display_data"
    }
   ],
   "source": [
    "# 하이퍼파라미터별 중요도를 확인할 수 있는 그래프\n",
    "optuna.visualization.plot_param_importances(study)"
   ]
  },
  {
   "cell_type": "code",
   "execution_count": 9,
   "metadata": {},
   "outputs": [
    {
     "data": {
      "application/vnd.plotly.v1+json": {
       "config": {
        "plotlyServerURL": "https://plot.ly"
       },
       "data": [
        {
         "mode": "markers",
         "name": "Objective Value",
         "type": "scatter",
         "x": [
          0,
          1,
          2
         ],
         "y": [
          25895.329099756465,
          26214.330928425254,
          25739.27317819786
         ]
        },
        {
         "name": "Best Value",
         "type": "scatter",
         "x": [
          0,
          1,
          2
         ],
         "y": [
          25895.329099756465,
          25895.329099756465,
          25739.27317819786
         ]
        }
       ],
       "layout": {
        "template": {
         "data": {
          "bar": [
           {
            "error_x": {
             "color": "#2a3f5f"
            },
            "error_y": {
             "color": "#2a3f5f"
            },
            "marker": {
             "line": {
              "color": "#E5ECF6",
              "width": 0.5
             },
             "pattern": {
              "fillmode": "overlay",
              "size": 10,
              "solidity": 0.2
             }
            },
            "type": "bar"
           }
          ],
          "barpolar": [
           {
            "marker": {
             "line": {
              "color": "#E5ECF6",
              "width": 0.5
             },
             "pattern": {
              "fillmode": "overlay",
              "size": 10,
              "solidity": 0.2
             }
            },
            "type": "barpolar"
           }
          ],
          "carpet": [
           {
            "aaxis": {
             "endlinecolor": "#2a3f5f",
             "gridcolor": "white",
             "linecolor": "white",
             "minorgridcolor": "white",
             "startlinecolor": "#2a3f5f"
            },
            "baxis": {
             "endlinecolor": "#2a3f5f",
             "gridcolor": "white",
             "linecolor": "white",
             "minorgridcolor": "white",
             "startlinecolor": "#2a3f5f"
            },
            "type": "carpet"
           }
          ],
          "choropleth": [
           {
            "colorbar": {
             "outlinewidth": 0,
             "ticks": ""
            },
            "type": "choropleth"
           }
          ],
          "contour": [
           {
            "colorbar": {
             "outlinewidth": 0,
             "ticks": ""
            },
            "colorscale": [
             [
              0,
              "#0d0887"
             ],
             [
              0.1111111111111111,
              "#46039f"
             ],
             [
              0.2222222222222222,
              "#7201a8"
             ],
             [
              0.3333333333333333,
              "#9c179e"
             ],
             [
              0.4444444444444444,
              "#bd3786"
             ],
             [
              0.5555555555555556,
              "#d8576b"
             ],
             [
              0.6666666666666666,
              "#ed7953"
             ],
             [
              0.7777777777777778,
              "#fb9f3a"
             ],
             [
              0.8888888888888888,
              "#fdca26"
             ],
             [
              1,
              "#f0f921"
             ]
            ],
            "type": "contour"
           }
          ],
          "contourcarpet": [
           {
            "colorbar": {
             "outlinewidth": 0,
             "ticks": ""
            },
            "type": "contourcarpet"
           }
          ],
          "heatmap": [
           {
            "colorbar": {
             "outlinewidth": 0,
             "ticks": ""
            },
            "colorscale": [
             [
              0,
              "#0d0887"
             ],
             [
              0.1111111111111111,
              "#46039f"
             ],
             [
              0.2222222222222222,
              "#7201a8"
             ],
             [
              0.3333333333333333,
              "#9c179e"
             ],
             [
              0.4444444444444444,
              "#bd3786"
             ],
             [
              0.5555555555555556,
              "#d8576b"
             ],
             [
              0.6666666666666666,
              "#ed7953"
             ],
             [
              0.7777777777777778,
              "#fb9f3a"
             ],
             [
              0.8888888888888888,
              "#fdca26"
             ],
             [
              1,
              "#f0f921"
             ]
            ],
            "type": "heatmap"
           }
          ],
          "heatmapgl": [
           {
            "colorbar": {
             "outlinewidth": 0,
             "ticks": ""
            },
            "colorscale": [
             [
              0,
              "#0d0887"
             ],
             [
              0.1111111111111111,
              "#46039f"
             ],
             [
              0.2222222222222222,
              "#7201a8"
             ],
             [
              0.3333333333333333,
              "#9c179e"
             ],
             [
              0.4444444444444444,
              "#bd3786"
             ],
             [
              0.5555555555555556,
              "#d8576b"
             ],
             [
              0.6666666666666666,
              "#ed7953"
             ],
             [
              0.7777777777777778,
              "#fb9f3a"
             ],
             [
              0.8888888888888888,
              "#fdca26"
             ],
             [
              1,
              "#f0f921"
             ]
            ],
            "type": "heatmapgl"
           }
          ],
          "histogram": [
           {
            "marker": {
             "pattern": {
              "fillmode": "overlay",
              "size": 10,
              "solidity": 0.2
             }
            },
            "type": "histogram"
           }
          ],
          "histogram2d": [
           {
            "colorbar": {
             "outlinewidth": 0,
             "ticks": ""
            },
            "colorscale": [
             [
              0,
              "#0d0887"
             ],
             [
              0.1111111111111111,
              "#46039f"
             ],
             [
              0.2222222222222222,
              "#7201a8"
             ],
             [
              0.3333333333333333,
              "#9c179e"
             ],
             [
              0.4444444444444444,
              "#bd3786"
             ],
             [
              0.5555555555555556,
              "#d8576b"
             ],
             [
              0.6666666666666666,
              "#ed7953"
             ],
             [
              0.7777777777777778,
              "#fb9f3a"
             ],
             [
              0.8888888888888888,
              "#fdca26"
             ],
             [
              1,
              "#f0f921"
             ]
            ],
            "type": "histogram2d"
           }
          ],
          "histogram2dcontour": [
           {
            "colorbar": {
             "outlinewidth": 0,
             "ticks": ""
            },
            "colorscale": [
             [
              0,
              "#0d0887"
             ],
             [
              0.1111111111111111,
              "#46039f"
             ],
             [
              0.2222222222222222,
              "#7201a8"
             ],
             [
              0.3333333333333333,
              "#9c179e"
             ],
             [
              0.4444444444444444,
              "#bd3786"
             ],
             [
              0.5555555555555556,
              "#d8576b"
             ],
             [
              0.6666666666666666,
              "#ed7953"
             ],
             [
              0.7777777777777778,
              "#fb9f3a"
             ],
             [
              0.8888888888888888,
              "#fdca26"
             ],
             [
              1,
              "#f0f921"
             ]
            ],
            "type": "histogram2dcontour"
           }
          ],
          "mesh3d": [
           {
            "colorbar": {
             "outlinewidth": 0,
             "ticks": ""
            },
            "type": "mesh3d"
           }
          ],
          "parcoords": [
           {
            "line": {
             "colorbar": {
              "outlinewidth": 0,
              "ticks": ""
             }
            },
            "type": "parcoords"
           }
          ],
          "pie": [
           {
            "automargin": true,
            "type": "pie"
           }
          ],
          "scatter": [
           {
            "marker": {
             "colorbar": {
              "outlinewidth": 0,
              "ticks": ""
             }
            },
            "type": "scatter"
           }
          ],
          "scatter3d": [
           {
            "line": {
             "colorbar": {
              "outlinewidth": 0,
              "ticks": ""
             }
            },
            "marker": {
             "colorbar": {
              "outlinewidth": 0,
              "ticks": ""
             }
            },
            "type": "scatter3d"
           }
          ],
          "scattercarpet": [
           {
            "marker": {
             "colorbar": {
              "outlinewidth": 0,
              "ticks": ""
             }
            },
            "type": "scattercarpet"
           }
          ],
          "scattergeo": [
           {
            "marker": {
             "colorbar": {
              "outlinewidth": 0,
              "ticks": ""
             }
            },
            "type": "scattergeo"
           }
          ],
          "scattergl": [
           {
            "marker": {
             "colorbar": {
              "outlinewidth": 0,
              "ticks": ""
             }
            },
            "type": "scattergl"
           }
          ],
          "scattermapbox": [
           {
            "marker": {
             "colorbar": {
              "outlinewidth": 0,
              "ticks": ""
             }
            },
            "type": "scattermapbox"
           }
          ],
          "scatterpolar": [
           {
            "marker": {
             "colorbar": {
              "outlinewidth": 0,
              "ticks": ""
             }
            },
            "type": "scatterpolar"
           }
          ],
          "scatterpolargl": [
           {
            "marker": {
             "colorbar": {
              "outlinewidth": 0,
              "ticks": ""
             }
            },
            "type": "scatterpolargl"
           }
          ],
          "scatterternary": [
           {
            "marker": {
             "colorbar": {
              "outlinewidth": 0,
              "ticks": ""
             }
            },
            "type": "scatterternary"
           }
          ],
          "surface": [
           {
            "colorbar": {
             "outlinewidth": 0,
             "ticks": ""
            },
            "colorscale": [
             [
              0,
              "#0d0887"
             ],
             [
              0.1111111111111111,
              "#46039f"
             ],
             [
              0.2222222222222222,
              "#7201a8"
             ],
             [
              0.3333333333333333,
              "#9c179e"
             ],
             [
              0.4444444444444444,
              "#bd3786"
             ],
             [
              0.5555555555555556,
              "#d8576b"
             ],
             [
              0.6666666666666666,
              "#ed7953"
             ],
             [
              0.7777777777777778,
              "#fb9f3a"
             ],
             [
              0.8888888888888888,
              "#fdca26"
             ],
             [
              1,
              "#f0f921"
             ]
            ],
            "type": "surface"
           }
          ],
          "table": [
           {
            "cells": {
             "fill": {
              "color": "#EBF0F8"
             },
             "line": {
              "color": "white"
             }
            },
            "header": {
             "fill": {
              "color": "#C8D4E3"
             },
             "line": {
              "color": "white"
             }
            },
            "type": "table"
           }
          ]
         },
         "layout": {
          "annotationdefaults": {
           "arrowcolor": "#2a3f5f",
           "arrowhead": 0,
           "arrowwidth": 1
          },
          "autotypenumbers": "strict",
          "coloraxis": {
           "colorbar": {
            "outlinewidth": 0,
            "ticks": ""
           }
          },
          "colorscale": {
           "diverging": [
            [
             0,
             "#8e0152"
            ],
            [
             0.1,
             "#c51b7d"
            ],
            [
             0.2,
             "#de77ae"
            ],
            [
             0.3,
             "#f1b6da"
            ],
            [
             0.4,
             "#fde0ef"
            ],
            [
             0.5,
             "#f7f7f7"
            ],
            [
             0.6,
             "#e6f5d0"
            ],
            [
             0.7,
             "#b8e186"
            ],
            [
             0.8,
             "#7fbc41"
            ],
            [
             0.9,
             "#4d9221"
            ],
            [
             1,
             "#276419"
            ]
           ],
           "sequential": [
            [
             0,
             "#0d0887"
            ],
            [
             0.1111111111111111,
             "#46039f"
            ],
            [
             0.2222222222222222,
             "#7201a8"
            ],
            [
             0.3333333333333333,
             "#9c179e"
            ],
            [
             0.4444444444444444,
             "#bd3786"
            ],
            [
             0.5555555555555556,
             "#d8576b"
            ],
            [
             0.6666666666666666,
             "#ed7953"
            ],
            [
             0.7777777777777778,
             "#fb9f3a"
            ],
            [
             0.8888888888888888,
             "#fdca26"
            ],
            [
             1,
             "#f0f921"
            ]
           ],
           "sequentialminus": [
            [
             0,
             "#0d0887"
            ],
            [
             0.1111111111111111,
             "#46039f"
            ],
            [
             0.2222222222222222,
             "#7201a8"
            ],
            [
             0.3333333333333333,
             "#9c179e"
            ],
            [
             0.4444444444444444,
             "#bd3786"
            ],
            [
             0.5555555555555556,
             "#d8576b"
            ],
            [
             0.6666666666666666,
             "#ed7953"
            ],
            [
             0.7777777777777778,
             "#fb9f3a"
            ],
            [
             0.8888888888888888,
             "#fdca26"
            ],
            [
             1,
             "#f0f921"
            ]
           ]
          },
          "colorway": [
           "#636efa",
           "#EF553B",
           "#00cc96",
           "#ab63fa",
           "#FFA15A",
           "#19d3f3",
           "#FF6692",
           "#B6E880",
           "#FF97FF",
           "#FECB52"
          ],
          "font": {
           "color": "#2a3f5f"
          },
          "geo": {
           "bgcolor": "white",
           "lakecolor": "white",
           "landcolor": "#E5ECF6",
           "showlakes": true,
           "showland": true,
           "subunitcolor": "white"
          },
          "hoverlabel": {
           "align": "left"
          },
          "hovermode": "closest",
          "mapbox": {
           "style": "light"
          },
          "paper_bgcolor": "white",
          "plot_bgcolor": "#E5ECF6",
          "polar": {
           "angularaxis": {
            "gridcolor": "white",
            "linecolor": "white",
            "ticks": ""
           },
           "bgcolor": "#E5ECF6",
           "radialaxis": {
            "gridcolor": "white",
            "linecolor": "white",
            "ticks": ""
           }
          },
          "scene": {
           "xaxis": {
            "backgroundcolor": "#E5ECF6",
            "gridcolor": "white",
            "gridwidth": 2,
            "linecolor": "white",
            "showbackground": true,
            "ticks": "",
            "zerolinecolor": "white"
           },
           "yaxis": {
            "backgroundcolor": "#E5ECF6",
            "gridcolor": "white",
            "gridwidth": 2,
            "linecolor": "white",
            "showbackground": true,
            "ticks": "",
            "zerolinecolor": "white"
           },
           "zaxis": {
            "backgroundcolor": "#E5ECF6",
            "gridcolor": "white",
            "gridwidth": 2,
            "linecolor": "white",
            "showbackground": true,
            "ticks": "",
            "zerolinecolor": "white"
           }
          },
          "shapedefaults": {
           "line": {
            "color": "#2a3f5f"
           }
          },
          "ternary": {
           "aaxis": {
            "gridcolor": "white",
            "linecolor": "white",
            "ticks": ""
           },
           "baxis": {
            "gridcolor": "white",
            "linecolor": "white",
            "ticks": ""
           },
           "bgcolor": "#E5ECF6",
           "caxis": {
            "gridcolor": "white",
            "linecolor": "white",
            "ticks": ""
           }
          },
          "title": {
           "x": 0.05
          },
          "xaxis": {
           "automargin": true,
           "gridcolor": "white",
           "linecolor": "white",
           "ticks": "",
           "title": {
            "standoff": 15
           },
           "zerolinecolor": "white",
           "zerolinewidth": 2
          },
          "yaxis": {
           "automargin": true,
           "gridcolor": "white",
           "linecolor": "white",
           "ticks": "",
           "title": {
            "standoff": 15
           },
           "zerolinecolor": "white",
           "zerolinewidth": 2
          }
         }
        },
        "title": {
         "text": "Optimization History Plot"
        },
        "xaxis": {
         "title": {
          "text": "#Trials"
         }
        },
        "yaxis": {
         "title": {
          "text": "Objective Value"
         }
        }
       }
      }
     },
     "metadata": {},
     "output_type": "display_data"
    }
   ],
   "source": [
    "# 하이퍼파라미터 최적화 과정을 확인\n",
    "optuna.visualization.plot_optimization_history(study)"
   ]
  },
  {
   "cell_type": "markdown",
   "metadata": {},
   "source": [
    "### 최종 모형 검증"
   ]
  },
  {
   "cell_type": "code",
   "execution_count": 12,
   "metadata": {},
   "outputs": [
    {
     "name": "stdout",
     "output_type": "stream",
     "text": [
      "142792    1259.992338\n",
      "142793    1165.665842\n",
      "142794    1251.926497\n",
      "142795    1485.828167\n",
      "142796    1630.971993\n",
      "             ...     \n",
      "237982    1410.601638\n",
      "237983    1269.794287\n",
      "237984    1513.445904\n",
      "237985    1805.330937\n",
      "237986    1698.623086\n",
      "Name: 평당단가, Length: 95195, dtype: float64\n",
      "[1875.81492161 1789.12565536 1571.90492257 ... 2463.80742686 2457.74112793\n",
      " 2457.74112793]\n",
      "RMSE:  807.3275740649004\n",
      "R^2:  0.7846836708162324\n"
     ]
    }
   ],
   "source": [
    "# model = RandomForestRegressor(n_estimators=5)\n",
    "\n",
    "model = VotingRegressor(estimators=[\n",
    "                    ('RF', RandomForestRegressor(n_estimators=5)),\n",
    "                    ('model_xgb', xgb.XGBRegressor()),\n",
    "                    ('model_lgb', lgb.LGBMRegressor())\n",
    "                ])\n",
    "\n",
    "model.fit(train_x, train_y)\n",
    "pred = model.predict(test_x)\n",
    "\n",
    "# 실제 평당단가 금액\n",
    "print(test_y.tolist())\n",
    "# 예측 평당단가 금액\n",
    "print(pred)\n",
    "\n",
    "from sklearn.metrics import mean_squared_error, r2_score\n",
    "\n",
    "mse = mean_squared_error(test_y, pred)\n",
    "rmse = np.sqrt(mse)\n",
    "r2 = r2_score(test_y, pred)\n",
    "\n",
    "print('RMSE: ', rmse)\n",
    "print('R^2: ', r2 )\n",
    "\n",
    "# execute_modeling(('model_rf', model), test_x, test_y)"
   ]
  }
 ],
 "metadata": {
  "interpreter": {
   "hash": "9cea8177b4720f8e58b915fe7d25071150cb7f046bd1970d257908049c667e74"
  },
  "kernelspec": {
   "display_name": "Python 3.9.7 64-bit ('saltlux_lecture': conda)",
   "language": "python",
   "name": "python3"
  },
  "language_info": {
   "codemirror_mode": {
    "name": "ipython",
    "version": 3
   },
   "file_extension": ".py",
   "mimetype": "text/x-python",
   "name": "python",
   "nbconvert_exporter": "python",
   "pygments_lexer": "ipython3",
   "version": "3.9.7"
  },
  "orig_nbformat": 4
 },
 "nbformat": 4,
 "nbformat_minor": 2
}
