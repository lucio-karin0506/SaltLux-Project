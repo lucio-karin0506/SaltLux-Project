{
 "cells": [
  {
   "cell_type": "markdown",
   "id": "eef0dbe1",
   "metadata": {
    "heading_collapsed": true
   },
   "source": [
    "## 2절. 분포와 추론"
   ]
  },
  {
   "cell_type": "markdown",
   "id": "cf6b02f7",
   "metadata": {
    "heading_collapsed": true,
    "hidden": true
   },
   "source": [
    "### 2.1 표본과 실험"
   ]
  },
  {
   "cell_type": "markdown",
   "id": "49a228aa",
   "metadata": {
    "heading_collapsed": true,
    "hidden": true
   },
   "source": [
    "### 2.2 분포"
   ]
  },
  {
   "cell_type": "code",
   "execution_count": 1,
   "id": "adace504",
   "metadata": {
    "ExecuteTime": {
     "end_time": "2021-12-06T05:43:30.706695Z",
     "start_time": "2021-12-06T05:43:28.790767Z"
    },
    "hidden": true
   },
   "outputs": [
    {
     "data": {
      "text/plain": [
       "(array([ 1,  1,  6, 14,  0, 16, 25, 20, 12,  5], dtype=int64),\n",
       " array([0. , 0.8, 1.6, 2.4, 3.2, 4. , 4.8, 5.6, 6.4, 7.2, 8. ]))"
      ]
     },
     "execution_count": 1,
     "metadata": {},
     "output_type": "execute_result"
    }
   ],
   "source": [
    "# 이산형 확률분포\n",
    "import numpy as np\n",
    "import matplotlib.pyplot as plt\n",
    "%matplotlib inline\n",
    "\n",
    "np.random.seed(1)\n",
    "\n",
    "binomial = np.random.binomial(10, 0.5, 100)\n",
    "np.histogram(binomial)"
   ]
  },
  {
   "cell_type": "code",
   "execution_count": 2,
   "id": "f2434f06",
   "metadata": {
    "ExecuteTime": {
     "end_time": "2021-12-06T05:44:10.877359Z",
     "start_time": "2021-12-06T05:44:10.568669Z"
    },
    "hidden": true
   },
   "outputs": [
    {
     "data": {
      "image/png": "[encoded data removed]",
      "text/plain": [
       "<Figure size 432x288 with 1 Axes>"
      ]
     },
     "metadata": {
      "needs_background": "light"
     },
     "output_type": "display_data"
    }
   ],
   "source": [
    "# 이항분포\n",
    "plt.hist(binomial, bins=50)\n",
    "plt.show()"
   ]
  },
  {
   "cell_type": "code",
   "execution_count": 4,
   "id": "6f12ab26",
   "metadata": {
    "ExecuteTime": {
     "end_time": "2021-12-06T05:45:36.453570Z",
     "start_time": "2021-12-06T05:45:36.138858Z"
    },
    "hidden": true
   },
   "outputs": [
    {
     "data": {
      "image/png": "[encoded data removed]",
      "text/plain": [
       "<Figure size 432x288 with 1 Axes>"
      ]
     },
     "metadata": {
      "needs_background": "light"
     },
     "output_type": "display_data"
    }
   ],
   "source": [
    "# 베르누이 분포\n",
    "bernoulli = np.random.binomial(1, 0.5, 100)\n",
    "plt.hist(bernoulli, bins=50)\n",
    "plt.show()"
   ]
  },
  {
   "cell_type": "code",
   "execution_count": 5,
   "id": "62298fe3",
   "metadata": {
    "ExecuteTime": {
     "end_time": "2021-12-06T05:47:43.656599Z",
     "start_time": "2021-12-06T05:47:43.440810Z"
    },
    "hidden": true
   },
   "outputs": [
    {
     "data": {
      "image/png": "[encoded data removed]",
      "text/plain": [
       "<Figure size 432x288 with 1 Axes>"
      ]
     },
     "metadata": {
      "needs_background": "light"
     },
     "output_type": "display_data"
    }
   ],
   "source": [
    "# 기하분포\n",
    "geome = np.random.geometric(0.5, 100)\n",
    "plt.hist(geome, bins=50)\n",
    "plt.show()"
   ]
  },
  {
   "cell_type": "code",
   "execution_count": 15,
   "id": "540e3bff",
   "metadata": {
    "ExecuteTime": {
     "end_time": "2021-12-06T05:50:30.983431Z",
     "start_time": "2021-12-06T05:50:30.970493Z"
    },
    "hidden": true
   },
   "outputs": [
    {
     "data": {
      "text/plain": [
       "array([[6, 4, 4, 1, 1, 4]])"
      ]
     },
     "execution_count": 15,
     "metadata": {},
     "output_type": "execute_result"
    }
   ],
   "source": [
    "# 다항 분포\n",
    "multi = np.random.multinomial(n=20, pvals=[1/6.]*6, size=1)\n",
    "multi"
   ]
  },
  {
   "cell_type": "code",
   "execution_count": 16,
   "id": "e69e7a28",
   "metadata": {
    "ExecuteTime": {
     "end_time": "2021-12-06T06:30:30.437160Z",
     "start_time": "2021-12-06T06:30:29.862180Z"
    },
    "hidden": true
   },
   "outputs": [
    {
     "data": {
      "image/png": "[encoded data removed]",
      "text/plain": [
       "<Figure size 432x288 with 1 Axes>"
      ]
     },
     "metadata": {
      "needs_background": "light"
     },
     "output_type": "display_data"
    }
   ],
   "source": [
    "# 연속형 확률분포\n",
    "# 균일분포\n",
    "unif = np.random.uniform(0, 10, 1000)\n",
    "plt.hist(unif, bins=100)\n",
    "plt.show()"
   ]
  },
  {
   "cell_type": "code",
   "execution_count": 17,
   "id": "beec50f6",
   "metadata": {
    "ExecuteTime": {
     "end_time": "2021-12-06T06:37:15.380426Z",
     "start_time": "2021-12-06T06:37:14.863139Z"
    },
    "hidden": true
   },
   "outputs": [
    {
     "data": {
      "image/png": "[encoded data removed]",
      "text/plain": [
       "<Figure size 432x288 with 1 Axes>"
      ]
     },
     "metadata": {
      "needs_background": "light"
     },
     "output_type": "display_data"
    }
   ],
   "source": [
    "# 정규분포\n",
    "norm = np.random.normal(0, 1, 1000)\n",
    "plt.hist(norm, bins=50)\n",
    "plt.show()"
   ]
  },
  {
   "cell_type": "code",
   "execution_count": 18,
   "id": "ab91d253",
   "metadata": {
    "ExecuteTime": {
     "end_time": "2021-12-06T06:38:14.613330Z",
     "start_time": "2021-12-06T06:38:14.325576Z"
    },
    "hidden": true
   },
   "outputs": [
    {
     "data": {
      "image/png": "[encoded data removed]",
      "text/plain": [
       "<Figure size 432x288 with 1 Axes>"
      ]
     },
     "metadata": {
      "needs_background": "light"
     },
     "output_type": "display_data"
    }
   ],
   "source": [
    "# 지수분포\n",
    "expo = np.random.exponential(10, 100)\n",
    "plt.hist(expo, bins=10)\n",
    "plt.show()"
   ]
  },
  {
   "cell_type": "markdown",
   "id": "93a02218",
   "metadata": {
    "heading_collapsed": true,
    "hidden": true
   },
   "source": [
    "### 2.3 추정과 가설검정"
   ]
  },
  {
   "cell_type": "markdown",
   "id": "5401bb29",
   "metadata": {
    "heading_collapsed": true
   },
   "source": [
    "## 3절. 상관분석"
   ]
  },
  {
   "cell_type": "markdown",
   "id": "3c719660",
   "metadata": {
    "heading_collapsed": true,
    "hidden": true
   },
   "source": [
    "### 3.1 피어슨 상관계수"
   ]
  },
  {
   "cell_type": "code",
   "execution_count": 1,
   "id": "45fb092e",
   "metadata": {
    "ExecuteTime": {
     "end_time": "2021-12-07T01:34:48.800890Z",
     "start_time": "2021-12-07T01:34:46.931620Z"
    },
    "hidden": true
   },
   "outputs": [
    {
     "data": {
      "text/html": [
       "<div>\n",
       "<style scoped>\n",
       "    .dataframe tbody tr th:only-of-type {\n",
       "        vertical-align: middle;\n",
       "    }\n",
       "\n",
       "    .dataframe tbody tr th {\n",
       "        vertical-align: top;\n",
       "    }\n",
       "\n",
       "    .dataframe thead th {\n",
       "        text-align: right;\n",
       "    }\n",
       "</style>\n",
       "<table border=\"1\" class=\"dataframe\">\n",
       "  <thead>\n",
       "    <tr style=\"text-align: right;\">\n",
       "      <th></th>\n",
       "      <th>sepal_length</th>\n",
       "      <th>sepal_width</th>\n",
       "      <th>petal_length</th>\n",
       "      <th>petal_width</th>\n",
       "    </tr>\n",
       "  </thead>\n",
       "  <tbody>\n",
       "    <tr>\n",
       "      <th>sepal_length</th>\n",
       "      <td>1.000000</td>\n",
       "      <td>-0.117570</td>\n",
       "      <td>0.871754</td>\n",
       "      <td>0.817941</td>\n",
       "    </tr>\n",
       "    <tr>\n",
       "      <th>sepal_width</th>\n",
       "      <td>-0.117570</td>\n",
       "      <td>1.000000</td>\n",
       "      <td>-0.428440</td>\n",
       "      <td>-0.366126</td>\n",
       "    </tr>\n",
       "    <tr>\n",
       "      <th>petal_length</th>\n",
       "      <td>0.871754</td>\n",
       "      <td>-0.428440</td>\n",
       "      <td>1.000000</td>\n",
       "      <td>0.962865</td>\n",
       "    </tr>\n",
       "    <tr>\n",
       "      <th>petal_width</th>\n",
       "      <td>0.817941</td>\n",
       "      <td>-0.366126</td>\n",
       "      <td>0.962865</td>\n",
       "      <td>1.000000</td>\n",
       "    </tr>\n",
       "  </tbody>\n",
       "</table>\n",
       "</div>"
      ],
      "text/plain": [
       "              sepal_length  sepal_width  petal_length  petal_width\n",
       "sepal_length      1.000000    -0.117570      0.871754     0.817941\n",
       "sepal_width      -0.117570     1.000000     -0.428440    -0.366126\n",
       "petal_length      0.871754    -0.428440      1.000000     0.962865\n",
       "petal_width       0.817941    -0.366126      0.962865     1.000000"
      ]
     },
     "execution_count": 1,
     "metadata": {},
     "output_type": "execute_result"
    }
   ],
   "source": [
    "import seaborn as sns\n",
    "\n",
    "iris = sns.load_dataset('iris')\n",
    "iris.corr(method='pearson')"
   ]
  },
  {
   "cell_type": "code",
   "execution_count": 2,
   "id": "86d17077",
   "metadata": {
    "ExecuteTime": {
     "end_time": "2021-12-07T01:35:22.137363Z",
     "start_time": "2021-12-07T01:35:19.848274Z"
    },
    "hidden": true
   },
   "outputs": [
    {
     "data": {
      "text/plain": [
       "<seaborn.axisgrid.PairGrid at 0x215972fa310>"
      ]
     },
     "execution_count": 2,
     "metadata": {},
     "output_type": "execute_result"
    },
    {
     "data": {
      "image/png": "[encoded data removed]",
      "text/plain": [
       "<Figure size 720x720 with 20 Axes>"
      ]
     },
     "metadata": {
      "needs_background": "light"
     },
     "output_type": "display_data"
    }
   ],
   "source": [
    "sns.pairplot(iris)"
   ]
  },
  {
   "cell_type": "code",
   "execution_count": 3,
   "id": "824a7a45",
   "metadata": {
    "ExecuteTime": {
     "end_time": "2021-12-07T01:36:31.073325Z",
     "start_time": "2021-12-07T01:36:31.060333Z"
    },
    "hidden": true
   },
   "outputs": [
    {
     "data": {
      "text/plain": [
       "(0.9628654314027963, 4.6750039073255585e-86)"
      ]
     },
     "execution_count": 3,
     "metadata": {},
     "output_type": "execute_result"
    }
   ],
   "source": [
    "from scipy.stats import pearsonr\n",
    "\n",
    "# return value: (피어슨 상관계수, p-value)\n",
    "pearsonr(iris.petal_length, iris.petal_width)\n",
    "\n",
    "'''\n",
    "    유의확률 (p-value)이 0.05보다 작으므로 귀무가설 기각\n",
    "    꽃잎 길이와 꽃잎 너비는 관계가 있다. 즉 상관관계가 있다.\n",
    "'''"
   ]
  },
  {
   "cell_type": "code",
   "execution_count": 7,
   "id": "65bb43e9",
   "metadata": {
    "ExecuteTime": {
     "end_time": "2021-12-07T01:39:33.995454Z",
     "start_time": "2021-12-07T01:39:33.862149Z"
    },
    "hidden": true
   },
   "outputs": [
    {
     "data": {
      "text/plain": [
       "<AxesSubplot:xlabel='petal_length', ylabel='petal_width'>"
      ]
     },
     "execution_count": 7,
     "metadata": {},
     "output_type": "execute_result"
    },
    {
     "data": {
      "image/png": "[encoded data removed]",
      "text/plain": [
       "<Figure size 432x288 with 1 Axes>"
      ]
     },
     "metadata": {
      "needs_background": "light"
     },
     "output_type": "display_data"
    }
   ],
   "source": [
    "import warnings\n",
    "warnings.filterwarnings('ignore')\n",
    "\n",
    "sns.scatterplot(iris.petal_length, iris.petal_width)"
   ]
  },
  {
   "cell_type": "markdown",
   "id": "0c223594",
   "metadata": {
    "heading_collapsed": true,
    "hidden": true
   },
   "source": [
    "### 3.2 스피어만 상관계수"
   ]
  },
  {
   "cell_type": "code",
   "execution_count": 8,
   "id": "6b2c11d0",
   "metadata": {
    "ExecuteTime": {
     "end_time": "2021-12-07T02:18:16.410095Z",
     "start_time": "2021-12-07T02:18:16.373332Z"
    },
    "hidden": true
   },
   "outputs": [
    {
     "data": {
      "text/html": [
       "<div>\n",
       "<style scoped>\n",
       "    .dataframe tbody tr th:only-of-type {\n",
       "        vertical-align: middle;\n",
       "    }\n",
       "\n",
       "    .dataframe tbody tr th {\n",
       "        vertical-align: top;\n",
       "    }\n",
       "\n",
       "    .dataframe thead th {\n",
       "        text-align: right;\n",
       "    }\n",
       "</style>\n",
       "<table border=\"1\" class=\"dataframe\">\n",
       "  <thead>\n",
       "    <tr style=\"text-align: right;\">\n",
       "      <th></th>\n",
       "      <th>sepal_length</th>\n",
       "      <th>sepal_width</th>\n",
       "      <th>petal_length</th>\n",
       "      <th>petal_width</th>\n",
       "    </tr>\n",
       "  </thead>\n",
       "  <tbody>\n",
       "    <tr>\n",
       "      <th>sepal_length</th>\n",
       "      <td>1.000000</td>\n",
       "      <td>-0.166778</td>\n",
       "      <td>0.881898</td>\n",
       "      <td>0.834289</td>\n",
       "    </tr>\n",
       "    <tr>\n",
       "      <th>sepal_width</th>\n",
       "      <td>-0.166778</td>\n",
       "      <td>1.000000</td>\n",
       "      <td>-0.309635</td>\n",
       "      <td>-0.289032</td>\n",
       "    </tr>\n",
       "    <tr>\n",
       "      <th>petal_length</th>\n",
       "      <td>0.881898</td>\n",
       "      <td>-0.309635</td>\n",
       "      <td>1.000000</td>\n",
       "      <td>0.937667</td>\n",
       "    </tr>\n",
       "    <tr>\n",
       "      <th>petal_width</th>\n",
       "      <td>0.834289</td>\n",
       "      <td>-0.289032</td>\n",
       "      <td>0.937667</td>\n",
       "      <td>1.000000</td>\n",
       "    </tr>\n",
       "  </tbody>\n",
       "</table>\n",
       "</div>"
      ],
      "text/plain": [
       "              sepal_length  sepal_width  petal_length  petal_width\n",
       "sepal_length      1.000000    -0.166778      0.881898     0.834289\n",
       "sepal_width      -0.166778     1.000000     -0.309635    -0.289032\n",
       "petal_length      0.881898    -0.309635      1.000000     0.937667\n",
       "petal_width       0.834289    -0.289032      0.937667     1.000000"
      ]
     },
     "execution_count": 8,
     "metadata": {},
     "output_type": "execute_result"
    }
   ],
   "source": [
    "iris = sns.load_dataset('iris')\n",
    "iris.corr(method='spearman')"
   ]
  },
  {
   "cell_type": "code",
   "execution_count": 9,
   "id": "28256fd6",
   "metadata": {
    "ExecuteTime": {
     "end_time": "2021-12-07T02:18:55.165505Z",
     "start_time": "2021-12-07T02:18:55.144456Z"
    },
    "hidden": true
   },
   "outputs": [
    {
     "data": {
      "text/plain": [
       "SpearmanrResult(correlation=0.9376668235763412, pvalue=8.156596854126675e-70)"
      ]
     },
     "execution_count": 9,
     "metadata": {},
     "output_type": "execute_result"
    }
   ],
   "source": [
    "from scipy.stats.stats import spearmanr\n",
    "\n",
    "spearmanr(iris.petal_length, iris.petal_width)"
   ]
  },
  {
   "cell_type": "markdown",
   "id": "238006bc",
   "metadata": {
    "heading_collapsed": true,
    "hidden": true
   },
   "source": [
    "### 3.3 상관계수 시각화"
   ]
  },
  {
   "cell_type": "code",
   "execution_count": 10,
   "id": "790ed55d",
   "metadata": {
    "ExecuteTime": {
     "end_time": "2021-12-07T02:35:26.839886Z",
     "start_time": "2021-12-07T02:35:26.821932Z"
    },
    "hidden": true
   },
   "outputs": [
    {
     "data": {
      "text/html": [
       "<div>\n",
       "<style scoped>\n",
       "    .dataframe tbody tr th:only-of-type {\n",
       "        vertical-align: middle;\n",
       "    }\n",
       "\n",
       "    .dataframe tbody tr th {\n",
       "        vertical-align: top;\n",
       "    }\n",
       "\n",
       "    .dataframe thead th {\n",
       "        text-align: right;\n",
       "    }\n",
       "</style>\n",
       "<table border=\"1\" class=\"dataframe\">\n",
       "  <thead>\n",
       "    <tr style=\"text-align: right;\">\n",
       "      <th></th>\n",
       "      <th>sepal_length</th>\n",
       "      <th>sepal_width</th>\n",
       "      <th>petal_length</th>\n",
       "      <th>petal_width</th>\n",
       "    </tr>\n",
       "  </thead>\n",
       "  <tbody>\n",
       "    <tr>\n",
       "      <th>sepal_length</th>\n",
       "      <td>1.000000</td>\n",
       "      <td>-0.117570</td>\n",
       "      <td>0.871754</td>\n",
       "      <td>0.817941</td>\n",
       "    </tr>\n",
       "    <tr>\n",
       "      <th>sepal_width</th>\n",
       "      <td>-0.117570</td>\n",
       "      <td>1.000000</td>\n",
       "      <td>-0.428440</td>\n",
       "      <td>-0.366126</td>\n",
       "    </tr>\n",
       "    <tr>\n",
       "      <th>petal_length</th>\n",
       "      <td>0.871754</td>\n",
       "      <td>-0.428440</td>\n",
       "      <td>1.000000</td>\n",
       "      <td>0.962865</td>\n",
       "    </tr>\n",
       "    <tr>\n",
       "      <th>petal_width</th>\n",
       "      <td>0.817941</td>\n",
       "      <td>-0.366126</td>\n",
       "      <td>0.962865</td>\n",
       "      <td>1.000000</td>\n",
       "    </tr>\n",
       "  </tbody>\n",
       "</table>\n",
       "</div>"
      ],
      "text/plain": [
       "              sepal_length  sepal_width  petal_length  petal_width\n",
       "sepal_length      1.000000    -0.117570      0.871754     0.817941\n",
       "sepal_width      -0.117570     1.000000     -0.428440    -0.366126\n",
       "petal_length      0.871754    -0.428440      1.000000     0.962865\n",
       "petal_width       0.817941    -0.366126      0.962865     1.000000"
      ]
     },
     "execution_count": 10,
     "metadata": {},
     "output_type": "execute_result"
    }
   ],
   "source": [
    "iris = sns.load_dataset('iris')\n",
    "\n",
    "iris.corr()"
   ]
  },
  {
   "cell_type": "code",
   "execution_count": 11,
   "id": "2547dc88",
   "metadata": {
    "ExecuteTime": {
     "end_time": "2021-12-07T02:36:34.684902Z",
     "start_time": "2021-12-07T02:36:34.481411Z"
    },
    "hidden": true
   },
   "outputs": [
    {
     "data": {
      "image/png": "[encoded data removed]",
      "text/plain": [
       "<Figure size 720x576 with 2 Axes>"
      ]
     },
     "metadata": {
      "needs_background": "light"
     },
     "output_type": "display_data"
    }
   ],
   "source": [
    "import matplotlib.pyplot as plt\n",
    "\n",
    "plt.figure(figsize=(10, 8))\n",
    "sns.heatmap(iris.corr(), vmin=1, vmax=1, annot=True, cmap='cubehelix_r')\n",
    "plt.show()"
   ]
  },
  {
   "cell_type": "markdown",
   "id": "a7620cba",
   "metadata": {
    "heading_collapsed": true
   },
   "source": [
    "## 4절. 단순 회귀분석"
   ]
  },
  {
   "cell_type": "markdown",
   "id": "54bc5556",
   "metadata": {
    "heading_collapsed": true,
    "hidden": true
   },
   "source": [
    "### 4.1 행렬을 이용한 회귀모형 구하기"
   ]
  },
  {
   "cell_type": "code",
   "execution_count": 18,
   "id": "03819872",
   "metadata": {
    "ExecuteTime": {
     "end_time": "2021-12-07T03:02:08.456661Z",
     "start_time": "2021-12-07T03:02:08.440703Z"
    },
    "hidden": true
   },
   "outputs": [
    {
     "name": "stdout",
     "output_type": "stream",
     "text": [
      "[[ 32.   1.]\n",
      " [ 64.   1.]\n",
      " [ 96.   1.]\n",
      " [118.   1.]\n",
      " [126.   1.]\n",
      " [144.   1.]\n",
      " [152.   1.]\n",
      " [158.   1.]]\n",
      "[ 17  24  62  49  52 105 130 125]\n"
     ]
    }
   ],
   "source": [
    "x = [32, 64, 96, 118, 126, 144, 152, 158]\n",
    "y = [17, 24, 62, 49, 52, 105, 130, 125]\n",
    "\n",
    "import numpy as np\n",
    "a = np.c_[x, np.ones(8)]\n",
    "b = np.array(y)\n",
    "\n",
    "print(a)\n",
    "print(b)"
   ]
  },
  {
   "cell_type": "code",
   "execution_count": 22,
   "id": "4169ec51",
   "metadata": {
    "ExecuteTime": {
     "end_time": "2021-12-07T03:03:31.795467Z",
     "start_time": "2021-12-07T03:03:31.786491Z"
    },
    "hidden": true
   },
   "outputs": [
    {
     "data": {
      "text/plain": [
       "array([  0.87962664, -27.35846347])"
      ]
     },
     "execution_count": 22,
     "metadata": {},
     "output_type": "execute_result"
    }
   ],
   "source": [
    "# 행렬 내적, 곱\n",
    "model = np.linalg.inv(a.T @ a) @ a.T @ b\n",
    "model\n",
    "\n",
    "# y=ax+b에서 a(weight) = 0.87962664, b(bias) = -27.35846347"
   ]
  },
  {
   "cell_type": "markdown",
   "id": "3520de2b",
   "metadata": {
    "heading_collapsed": true,
    "hidden": true
   },
   "source": [
    "### 4.2 회귀모형과 예측"
   ]
  },
  {
   "cell_type": "code",
   "execution_count": 23,
   "id": "16f56a25",
   "metadata": {
    "ExecuteTime": {
     "end_time": "2021-12-07T03:39:46.211657Z",
     "start_time": "2021-12-07T03:39:46.200688Z"
    },
    "hidden": true
   },
   "outputs": [
    {
     "name": "stdout",
     "output_type": "stream",
     "text": [
      "slope: 0.8796266379465087\n",
      "intercept: -27.3584634715491\n",
      "r_value: 0.89008928103186\n",
      "p_value: 0.003051790677096642\n",
      "std_err: 0.18388671751663876\n"
     ]
    }
   ],
   "source": [
    "X = [32, 64, 96, 118, 126, 144, 152, 158]\n",
    "Y = [17, 24, 62, 49, 52, 105, 130, 125]\n",
    "\n",
    "from scipy import stats\n",
    "\n",
    "slope, intercept, r_value, p_value, std_err = stats.linregress(X, Y)\n",
    "\n",
    "print(f\"slope: {slope}\")\n",
    "print(f\"intercept: {intercept}\")\n",
    "print(f\"r_value: {r_value}\")\n",
    "print(f\"p_value: {p_value}\")\n",
    "print(f\"std_err: {std_err}\")\n",
    "\n",
    "'''\n",
    "    - 구해진 회귀식: y = 0.8796*x - 27.3585\n",
    "    - p-value(유의확률)가 0.05보다 작으므로 유의수준 5%하에서 회귀식이 유의함\n",
    "    - r-value(결정계수)는 회귀식이 데이터를 약 89% 설명함.\n",
    "'''"
   ]
  },
  {
   "cell_type": "code",
   "execution_count": 29,
   "id": "6dbcf998",
   "metadata": {
    "ExecuteTime": {
     "end_time": "2021-12-07T05:23:10.026123Z",
     "start_time": "2021-12-07T05:23:09.912325Z"
    },
    "hidden": true
   },
   "outputs": [
    {
     "data": {
      "image/png": "[encoded data removed]",
      "text/plain": [
       "<Figure size 432x288 with 1 Axes>"
      ]
     },
     "metadata": {
      "needs_background": "light"
     },
     "output_type": "display_data"
    }
   ],
   "source": [
    "%matplotlib inline\n",
    "plt.plot(X, slope*np.array(X) + intercept, '-')\n",
    "plt.plot(X, Y, '.')\n",
    "plt.show()"
   ]
  },
  {
   "cell_type": "code",
   "execution_count": 31,
   "id": "f3e7e428",
   "metadata": {
    "ExecuteTime": {
     "end_time": "2021-12-07T05:26:46.825027Z",
     "start_time": "2021-12-07T05:26:46.808050Z"
    },
    "hidden": true
   },
   "outputs": [
    {
     "name": "stdout",
     "output_type": "stream",
     "text": [
      "[  0.87962664 -27.35846347]\n",
      " \n",
      "0.8796 x - 27.36\n"
     ]
    }
   ],
   "source": [
    "# 최소제곱 다항 회귀식 계산\n",
    "X = [32, 64, 96, 118, 126, 144, 152, 158]\n",
    "Y = [17, 24, 62, 49, 52, 105, 130, 125]\n",
    "\n",
    "# 1차 회귀식\n",
    "fit = np.polyfit(X, Y, 1)\n",
    "print(fit)\n",
    "\n",
    "# 다항식 함수 생성\n",
    "fit_fn = np.poly1d(fit)\n",
    "print(fit_fn)"
   ]
  },
  {
   "cell_type": "code",
   "execution_count": 32,
   "id": "0df581ca",
   "metadata": {
    "ExecuteTime": {
     "end_time": "2021-12-07T05:28:18.770105Z",
     "start_time": "2021-12-07T05:28:18.653398Z"
    },
    "hidden": true
   },
   "outputs": [
    {
     "data": {
      "image/png": "[encoded data removed]",
      "text/plain": [
       "<Figure size 432x288 with 1 Axes>"
      ]
     },
     "metadata": {
      "needs_background": "light"
     },
     "output_type": "display_data"
    }
   ],
   "source": [
    "plt.scatter(X, Y)\n",
    "plt.plot(X, fit_fn(X))\n",
    "plt.show()"
   ]
  },
  {
   "cell_type": "code",
   "execution_count": 44,
   "id": "128c2c76",
   "metadata": {
    "ExecuteTime": {
     "end_time": "2021-12-07T05:36:43.120550Z",
     "start_time": "2021-12-07T05:36:42.996873Z"
    },
    "hidden": true
   },
   "outputs": [
    {
     "name": "stdout",
     "output_type": "stream",
     "text": [
      "[-6.18327318e-09  3.46694642e-06 -7.70219609e-04  8.62372828e-02\n",
      " -5.09766458e+00  1.50398974e+02 -1.70364025e+03]\n",
      "            6             5             4           3         2\n",
      "-6.183e-09 x + 3.467e-06 x - 0.0007702 x + 0.08624 x - 5.098 x + 150.4 x - 1704\n"
     ]
    },
    {
     "data": {
      "image/png": "[encoded data removed]",
      "text/plain": [
       "<Figure size 432x288 with 1 Axes>"
      ]
     },
     "metadata": {
      "needs_background": "light"
     },
     "output_type": "display_data"
    }
   ],
   "source": [
    "# 2차 방정식으로 표현\n",
    "# fit = np.polyfit(X, Y, 2)\n",
    "# fit_fn = np.poly1d(fit)\n",
    "# sample_X = np.linspace(30, 160, 100)\n",
    "\n",
    "# plt.scatter(X, Y)\n",
    "# plt.plot(sample_X, fit_fn(sample_X))\n",
    "# plt.show()\n",
    "\n",
    "# 차수 유동화 반영 회귀 그래프 함수\n",
    "def draw_polyfit(X, Y, deg=1):\n",
    "    fit = np.polyfit(X, Y, deg)\n",
    "    print(fit)\n",
    "    fit_fn = np.poly1d(fit)\n",
    "    print(fit_fn)\n",
    "    \n",
    "    sample_X = np.linspace(min(X), max(X), 100)\n",
    "    \n",
    "    plt.scatter(X, Y)\n",
    "    plt.plot(sample_X, fit_fn(sample_X))\n",
    "    plt.show()\n",
    "\n",
    "draw_polyfit(X, Y, 6)"
   ]
  },
  {
   "cell_type": "markdown",
   "id": "9eef4c72",
   "metadata": {},
   "source": [
    "## 5절. 포뮬러를 이용한 회귀식"
   ]
  },
  {
   "cell_type": "code",
   "execution_count": 45,
   "id": "3f5d3c75",
   "metadata": {
    "ExecuteTime": {
     "end_time": "2021-12-07T08:27:23.383224Z",
     "start_time": "2021-12-07T08:27:23.362309Z"
    }
   },
   "outputs": [
    {
     "data": {
      "text/html": [
       "<div>\n",
       "<style scoped>\n",
       "    .dataframe tbody tr th:only-of-type {\n",
       "        vertical-align: middle;\n",
       "    }\n",
       "\n",
       "    .dataframe tbody tr th {\n",
       "        vertical-align: top;\n",
       "    }\n",
       "\n",
       "    .dataframe thead th {\n",
       "        text-align: right;\n",
       "    }\n",
       "</style>\n",
       "<table border=\"1\" class=\"dataframe\">\n",
       "  <thead>\n",
       "    <tr style=\"text-align: right;\">\n",
       "      <th></th>\n",
       "      <th>x</th>\n",
       "      <th>y</th>\n",
       "    </tr>\n",
       "  </thead>\n",
       "  <tbody>\n",
       "    <tr>\n",
       "      <th>0</th>\n",
       "      <td>32</td>\n",
       "      <td>17</td>\n",
       "    </tr>\n",
       "    <tr>\n",
       "      <th>1</th>\n",
       "      <td>64</td>\n",
       "      <td>24</td>\n",
       "    </tr>\n",
       "    <tr>\n",
       "      <th>2</th>\n",
       "      <td>96</td>\n",
       "      <td>62</td>\n",
       "    </tr>\n",
       "    <tr>\n",
       "      <th>3</th>\n",
       "      <td>118</td>\n",
       "      <td>49</td>\n",
       "    </tr>\n",
       "    <tr>\n",
       "      <th>4</th>\n",
       "      <td>126</td>\n",
       "      <td>52</td>\n",
       "    </tr>\n",
       "    <tr>\n",
       "      <th>5</th>\n",
       "      <td>144</td>\n",
       "      <td>105</td>\n",
       "    </tr>\n",
       "    <tr>\n",
       "      <th>6</th>\n",
       "      <td>152</td>\n",
       "      <td>130</td>\n",
       "    </tr>\n",
       "    <tr>\n",
       "      <th>7</th>\n",
       "      <td>158</td>\n",
       "      <td>125</td>\n",
       "    </tr>\n",
       "  </tbody>\n",
       "</table>\n",
       "</div>"
      ],
      "text/plain": [
       "     x    y\n",
       "0   32   17\n",
       "1   64   24\n",
       "2   96   62\n",
       "3  118   49\n",
       "4  126   52\n",
       "5  144  105\n",
       "6  152  130\n",
       "7  158  125"
      ]
     },
     "execution_count": 45,
     "metadata": {},
     "output_type": "execute_result"
    }
   ],
   "source": [
    "X = [32, 64, 96, 118, 126, 144, 152, 158]\n",
    "Y = [17, 24, 62, 49, 52, 105, 130, 125]\n",
    "\n",
    "import pandas as pd\n",
    "import numpy as np\n",
    "\n",
    "df = pd.DataFrame(np.c_[X, Y], columns=['x', 'y'])\n",
    "df"
   ]
  },
  {
   "cell_type": "code",
   "execution_count": 53,
   "id": "c44017c0",
   "metadata": {
    "ExecuteTime": {
     "end_time": "2021-12-07T08:30:49.172145Z",
     "start_time": "2021-12-07T08:30:49.146515Z"
    }
   },
   "outputs": [
    {
     "data": {
      "text/plain": [
       "Intercept   -27.358463\n",
       "x             0.879627\n",
       "dtype: float64"
      ]
     },
     "execution_count": 53,
     "metadata": {},
     "output_type": "execute_result"
    }
   ],
   "source": [
    "# 포뮬러를 이용한 선형회귀식 구현\n",
    "# 1차방정식\n",
    "from statsmodels.formula.api import ols\n",
    "\n",
    "model = ols('y ~ x', data=df)\n",
    "result = model.fit()\n",
    "result.params"
   ]
  },
  {
   "cell_type": "code",
   "execution_count": 54,
   "id": "9451f70c",
   "metadata": {
    "ExecuteTime": {
     "end_time": "2021-12-07T08:31:25.023901Z",
     "start_time": "2021-12-07T08:31:24.286596Z"
    }
   },
   "outputs": [
    {
     "data": {
      "text/plain": [
       "Intercept   -27.358463\n",
       "x             0.879627\n",
       "dtype: float64"
      ]
     },
     "execution_count": 54,
     "metadata": {},
     "output_type": "execute_result"
    }
   ],
   "source": [
    "import statsmodels.api as sm\n",
    "\n",
    "model = sm.OLS.from_formula('y ~ x', data=df)\n",
    "result = model.fit()\n",
    "result.params"
   ]
  },
  {
   "cell_type": "code",
   "execution_count": 57,
   "id": "74911228",
   "metadata": {
    "ExecuteTime": {
     "end_time": "2021-12-07T08:34:14.169507Z",
     "start_time": "2021-12-07T08:34:14.142348Z"
    }
   },
   "outputs": [
    {
     "data": {
      "text/plain": [
       "x            1.005637\n",
       "I(x ** 2)   -0.013981\n",
       "I(x ** 3)    0.000082\n",
       "dtype: float64"
      ]
     },
     "execution_count": 57,
     "metadata": {},
     "output_type": "execute_result"
    }
   ],
   "source": [
    "# 상수항을 포함하지 않는 3차방정식\n",
    "# I() 함수는 포뮬러가 수식을 포함할 경우 사용\n",
    "model2 = ols('y ~ x + I(x**2) + I(x**3) - 1', data=df)\n",
    "result2 = model2.fit()\n",
    "result2.params"
   ]
  },
  {
   "cell_type": "code",
   "execution_count": 59,
   "id": "b5f87412",
   "metadata": {
    "ExecuteTime": {
     "end_time": "2021-12-07T08:36:21.011567Z",
     "start_time": "2021-12-07T08:36:20.891903Z"
    }
   },
   "outputs": [
    {
     "data": {
      "image/png": "[encoded data removed]",
      "text/plain": [
       "<Figure size 432x288 with 1 Axes>"
      ]
     },
     "metadata": {
      "needs_background": "light"
     },
     "output_type": "display_data"
    }
   ],
   "source": [
    "# 회귀모형으로 예측한 값\n",
    "y_ = result2.predict(df.x)\n",
    "\n",
    "import matplotlib.pyplot as plt\n",
    "\n",
    "plt.scatter(X, Y)\n",
    "plt.plot(X, y_)\n",
    "plt.show()"
   ]
  },
  {
   "cell_type": "markdown",
   "id": "0884ac65",
   "metadata": {
    "heading_collapsed": true
   },
   "source": [
    "## 6절. 정규화 선형회귀"
   ]
  },
  {
   "cell_type": "markdown",
   "id": "0288c2f2",
   "metadata": {
    "hidden": true
   },
   "source": [
    "### 6.1 정규화 선형회귀모형"
   ]
  },
  {
   "cell_type": "markdown",
   "id": "7a231028",
   "metadata": {
    "hidden": true
   },
   "source": [
    "### 6.2 statsmodels의 정규화 회귀모형"
   ]
  },
  {
   "cell_type": "markdown",
   "id": "ac20f0c0",
   "metadata": {
    "hidden": true
   },
   "source": [
    "### 6.3 Scikit-Learn의 정규화 회귀모형"
   ]
  },
  {
   "cell_type": "markdown",
   "id": "d859ec2c",
   "metadata": {
    "hidden": true
   },
   "source": [
    "### 6.4 Ridge 모형과 Lasso 모형의 차이"
   ]
  },
  {
   "cell_type": "markdown",
   "id": "eff17032",
   "metadata": {
    "heading_collapsed": true
   },
   "source": [
    "## 7절. 다중회귀분석"
   ]
  },
  {
   "cell_type": "markdown",
   "id": "810d7fee",
   "metadata": {
    "hidden": true
   },
   "source": [
    "### 7.1 다중 회귀의 변수 추정"
   ]
  },
  {
   "cell_type": "markdown",
   "id": "808c778a",
   "metadata": {
    "hidden": true
   },
   "source": [
    "### 7.2 다중회귀분석 예"
   ]
  },
  {
   "cell_type": "markdown",
   "id": "b51689f3",
   "metadata": {
    "hidden": true
   },
   "source": [
    "### 7.3 다중회귀식의 추정방법"
   ]
  },
  {
   "cell_type": "markdown",
   "id": "f187d926",
   "metadata": {
    "hidden": true
   },
   "source": [
    "### 7.4 상관계수와 결정계수"
   ]
  },
  {
   "cell_type": "markdown",
   "id": "0ff513a6",
   "metadata": {
    "hidden": true
   },
   "source": [
    "### 7.5 회귀분석의 검증 요소들"
   ]
  },
  {
   "cell_type": "markdown",
   "id": "ceacc378",
   "metadata": {
    "hidden": true
   },
   "source": [
    "### 7.6 이상치 탐색"
   ]
  },
  {
   "cell_type": "markdown",
   "id": "b8f22180",
   "metadata": {
    "hidden": true
   },
   "source": [
    "### 7.7 다중공선성"
   ]
  },
  {
   "cell_type": "markdown",
   "id": "f8fd2af3",
   "metadata": {
    "heading_collapsed": true
   },
   "source": [
    "## 8절. 회귀모형 성능평가"
   ]
  },
  {
   "cell_type": "markdown",
   "id": "d13f4804",
   "metadata": {
    "hidden": true
   },
   "source": [
    "### 8.1 사이킷런의 모형 평가 방법"
   ]
  },
  {
   "cell_type": "markdown",
   "id": "43423d1c",
   "metadata": {
    "hidden": true
   },
   "source": [
    "### 8.2 회귀모형 평가를 위한 scoring 속성"
   ]
  },
  {
   "cell_type": "markdown",
   "id": "00022e41",
   "metadata": {
    "hidden": true
   },
   "source": [
    "### 8.3 k-폴드 교차 검증"
   ]
  },
  {
   "cell_type": "markdown",
   "id": "f35a5371",
   "metadata": {
    "hidden": true
   },
   "source": [
    "### 8.4 회귀모형 평가 함수"
   ]
  }
 ],
 "metadata": {
  "kernelspec": {
   "display_name": "saltlux_lecture",
   "language": "python",
   "name": "saltlux_lecture"
  },
  "language_info": {
   "codemirror_mode": {
    "name": "ipython",
    "version": 3
   },
   "file_extension": ".py",
   "mimetype": "text/x-python",
   "name": "python",
   "nbconvert_exporter": "python",
   "pygments_lexer": "ipython3",
   "version": "3.9.7"
  },
  "toc": {
   "base_numbering": 1,
   "nav_menu": {},
   "number_sections": true,
   "sideBar": true,
   "skip_h1_title": false,
   "title_cell": "Table of Contents",
   "title_sidebar": "Contents",
   "toc_cell": false,
   "toc_position": {
    "height": "calc(100% - 180px)",
    "left": "10px",
    "top": "150px",
    "width": "165px"
   },
   "toc_section_display": true,
   "toc_window_display": true
  }
 },
 "nbformat": 4,
 "nbformat_minor": 5
}
