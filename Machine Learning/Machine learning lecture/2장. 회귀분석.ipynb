{
 "cells": [
  {
   "cell_type": "markdown",
   "id": "eef0dbe1",
   "metadata": {
    "heading_collapsed": true
   },
   "source": [
    "## 2절. 분포와 추론"
   ]
  },
  {
   "cell_type": "markdown",
   "id": "cf6b02f7",
   "metadata": {
    "heading_collapsed": true,
    "hidden": true
   },
   "source": [
    "### 2.1 표본과 실험"
   ]
  },
  {
   "cell_type": "markdown",
   "id": "49a228aa",
   "metadata": {
    "heading_collapsed": true,
    "hidden": true
   },
   "source": [
    "### 2.2 분포"
   ]
  },
  {
   "cell_type": "code",
   "execution_count": 1,
   "id": "adace504",
   "metadata": {
    "ExecuteTime": {
     "end_time": "2021-12-06T05:43:30.706695Z",
     "start_time": "2021-12-06T05:43:28.790767Z"
    },
    "hidden": true
   },
   "outputs": [
    {
     "data": {
      "text/plain": [
       "(array([ 1,  1,  6, 14,  0, 16, 25, 20, 12,  5], dtype=int64),\n",
       " array([0. , 0.8, 1.6, 2.4, 3.2, 4. , 4.8, 5.6, 6.4, 7.2, 8. ]))"
      ]
     },
     "execution_count": 1,
     "metadata": {},
     "output_type": "execute_result"
    }
   ],
   "source": [
    "# 이산형 확률분포\n",
    "import numpy as np\n",
    "import matplotlib.pyplot as plt\n",
    "%matplotlib inline\n",
    "\n",
    "np.random.seed(1)\n",
    "\n",
    "binomial = np.random.binomial(10, 0.5, 100)\n",
    "np.histogram(binomial)"
   ]
  },
  {
   "cell_type": "code",
   "execution_count": 2,
   "id": "f2434f06",
   "metadata": {
    "ExecuteTime": {
     "end_time": "2021-12-06T05:44:10.877359Z",
     "start_time": "2021-12-06T05:44:10.568669Z"
    },
    "hidden": true
   },
   "outputs": [
    {
     "data": {
      "image/png": "[encoded data removed]",
      "text/plain": [
       "<Figure size 432x288 with 1 Axes>"
      ]
     },
     "metadata": {
      "needs_background": "light"
     },
     "output_type": "display_data"
    }
   ],
   "source": [
    "# 이항분포\n",
    "plt.hist(binomial, bins=50)\n",
    "plt.show()"
   ]
  },
  {
   "cell_type": "code",
   "execution_count": 3,
   "id": "6f12ab26",
   "metadata": {
    "ExecuteTime": {
     "end_time": "2021-12-06T05:45:36.453570Z",
     "start_time": "2021-12-06T05:45:36.138858Z"
    },
    "hidden": true
   },
   "outputs": [
    {
     "data": {
      "image/png": "[encoded data removed]",
      "text/plain": [
       "<Figure size 432x288 with 1 Axes>"
      ]
     },
     "metadata": {
      "needs_background": "light"
     },
     "output_type": "display_data"
    }
   ],
   "source": [
    "# 베르누이 분포\n",
    "bernoulli = np.random.binomial(1, 0.5, 100)\n",
    "plt.hist(bernoulli, bins=50)\n",
    "plt.show()"
   ]
  },
  {
   "cell_type": "code",
   "execution_count": 4,
   "id": "62298fe3",
   "metadata": {
    "ExecuteTime": {
     "end_time": "2021-12-06T05:47:43.656599Z",
     "start_time": "2021-12-06T05:47:43.440810Z"
    },
    "hidden": true
   },
   "outputs": [
    {
     "data": {
      "image/png": "[encoded data removed]",
      "text/plain": [
       "<Figure size 432x288 with 1 Axes>"
      ]
     },
     "metadata": {
      "needs_background": "light"
     },
     "output_type": "display_data"
    }
   ],
   "source": [
    "# 기하분포\n",
    "geome = np.random.geometric(0.5, 100)\n",
    "plt.hist(geome, bins=50)\n",
    "plt.show()"
   ]
  },
  {
   "cell_type": "code",
   "execution_count": 5,
   "id": "540e3bff",
   "metadata": {
    "ExecuteTime": {
     "end_time": "2021-12-06T05:50:30.983431Z",
     "start_time": "2021-12-06T05:50:30.970493Z"
    },
    "hidden": true
   },
   "outputs": [
    {
     "data": {
      "text/plain": [
       "array([[5, 5, 3, 2, 1, 4]])"
      ]
     },
     "execution_count": 5,
     "metadata": {},
     "output_type": "execute_result"
    }
   ],
   "source": [
    "# 다항 분포\n",
    "multi = np.random.multinomial(n=20, pvals=[1/6.]*6, size=1)\n",
    "multi"
   ]
  },
  {
   "cell_type": "code",
   "execution_count": 6,
   "id": "e69e7a28",
   "metadata": {
    "ExecuteTime": {
     "end_time": "2021-12-06T06:30:30.437160Z",
     "start_time": "2021-12-06T06:30:29.862180Z"
    },
    "hidden": true
   },
   "outputs": [
    {
     "data": {
      "image/png": "[encoded data removed]",
      "text/plain": [
       "<Figure size 432x288 with 1 Axes>"
      ]
     },
     "metadata": {
      "needs_background": "light"
     },
     "output_type": "display_data"
    }
   ],
   "source": [
    "# 연속형 확률분포\n",
    "# 균일분포\n",
    "unif = np.random.uniform(0, 10, 1000)\n",
    "plt.hist(unif, bins=100)\n",
    "plt.show()"
   ]
  },
  {
   "cell_type": "code",
   "execution_count": 7,
   "id": "beec50f6",
   "metadata": {
    "ExecuteTime": {
     "end_time": "2021-12-06T06:37:15.380426Z",
     "start_time": "2021-12-06T06:37:14.863139Z"
    },
    "hidden": true
   },
   "outputs": [
    {
     "data": {
      "image/png": "[encoded data removed]",
      "text/plain": [
       "<Figure size 432x288 with 1 Axes>"
      ]
     },
     "metadata": {
      "needs_background": "light"
     },
     "output_type": "display_data"
    }
   ],
   "source": [
    "# 정규분포\n",
    "norm = np.random.normal(0, 1, 1000)\n",
    "plt.hist(norm, bins=50)\n",
    "plt.show()"
   ]
  },
  {
   "cell_type": "code",
   "execution_count": 8,
   "id": "ab91d253",
   "metadata": {
    "ExecuteTime": {
     "end_time": "2021-12-06T06:38:14.613330Z",
     "start_time": "2021-12-06T06:38:14.325576Z"
    },
    "hidden": true
   },
   "outputs": [
    {
     "data": {
      "image/png": "[encoded data removed]",
      "text/plain": [
       "<Figure size 432x288 with 1 Axes>"
      ]
     },
     "metadata": {
      "needs_background": "light"
     },
     "output_type": "display_data"
    }
   ],
   "source": [
    "# 지수분포\n",
    "expo = np.random.exponential(10, 100)\n",
    "plt.hist(expo, bins=10)\n",
    "plt.show()"
   ]
  },
  {
   "cell_type": "markdown",
   "id": "93a02218",
   "metadata": {
    "heading_collapsed": true,
    "hidden": true
   },
   "source": [
    "### 2.3 추정과 가설검정"
   ]
  },
  {
   "cell_type": "markdown",
   "id": "5401bb29",
   "metadata": {
    "heading_collapsed": true
   },
   "source": [
    "## 3절. 상관분석"
   ]
  },
  {
   "cell_type": "markdown",
   "id": "3c719660",
   "metadata": {
    "heading_collapsed": true,
    "hidden": true
   },
   "source": [
    "### 3.1 피어슨 상관계수"
   ]
  },
  {
   "cell_type": "code",
   "execution_count": 9,
   "id": "45fb092e",
   "metadata": {
    "ExecuteTime": {
     "end_time": "2021-12-07T01:34:48.800890Z",
     "start_time": "2021-12-07T01:34:46.931620Z"
    },
    "hidden": true
   },
   "outputs": [
    {
     "data": {
      "text/html": [
       "<div>\n",
       "<style scoped>\n",
       "    .dataframe tbody tr th:only-of-type {\n",
       "        vertical-align: middle;\n",
       "    }\n",
       "\n",
       "    .dataframe tbody tr th {\n",
       "        vertical-align: top;\n",
       "    }\n",
       "\n",
       "    .dataframe thead th {\n",
       "        text-align: right;\n",
       "    }\n",
       "</style>\n",
       "<table border=\"1\" class=\"dataframe\">\n",
       "  <thead>\n",
       "    <tr style=\"text-align: right;\">\n",
       "      <th></th>\n",
       "      <th>sepal_length</th>\n",
       "      <th>sepal_width</th>\n",
       "      <th>petal_length</th>\n",
       "      <th>petal_width</th>\n",
       "    </tr>\n",
       "  </thead>\n",
       "  <tbody>\n",
       "    <tr>\n",
       "      <th>sepal_length</th>\n",
       "      <td>1.000000</td>\n",
       "      <td>-0.117570</td>\n",
       "      <td>0.871754</td>\n",
       "      <td>0.817941</td>\n",
       "    </tr>\n",
       "    <tr>\n",
       "      <th>sepal_width</th>\n",
       "      <td>-0.117570</td>\n",
       "      <td>1.000000</td>\n",
       "      <td>-0.428440</td>\n",
       "      <td>-0.366126</td>\n",
       "    </tr>\n",
       "    <tr>\n",
       "      <th>petal_length</th>\n",
       "      <td>0.871754</td>\n",
       "      <td>-0.428440</td>\n",
       "      <td>1.000000</td>\n",
       "      <td>0.962865</td>\n",
       "    </tr>\n",
       "    <tr>\n",
       "      <th>petal_width</th>\n",
       "      <td>0.817941</td>\n",
       "      <td>-0.366126</td>\n",
       "      <td>0.962865</td>\n",
       "      <td>1.000000</td>\n",
       "    </tr>\n",
       "  </tbody>\n",
       "</table>\n",
       "</div>"
      ],
      "text/plain": [
       "              sepal_length  sepal_width  petal_length  petal_width\n",
       "sepal_length      1.000000    -0.117570      0.871754     0.817941\n",
       "sepal_width      -0.117570     1.000000     -0.428440    -0.366126\n",
       "petal_length      0.871754    -0.428440      1.000000     0.962865\n",
       "petal_width       0.817941    -0.366126      0.962865     1.000000"
      ]
     },
     "execution_count": 9,
     "metadata": {},
     "output_type": "execute_result"
    }
   ],
   "source": [
    "import seaborn as sns\n",
    "\n",
    "iris = sns.load_dataset('iris')\n",
    "iris.corr(method='pearson')"
   ]
  },
  {
   "cell_type": "code",
   "execution_count": 10,
   "id": "86d17077",
   "metadata": {
    "ExecuteTime": {
     "end_time": "2021-12-07T01:35:22.137363Z",
     "start_time": "2021-12-07T01:35:19.848274Z"
    },
    "hidden": true
   },
   "outputs": [
    {
     "data": {
      "text/plain": [
       "<seaborn.axisgrid.PairGrid at 0x1e0199d3a00>"
      ]
     },
     "execution_count": 10,
     "metadata": {},
     "output_type": "execute_result"
    },
    {
     "data": {
      "image/png": "[encoded data removed]",
      "text/plain": [
       "<Figure size 720x720 with 20 Axes>"
      ]
     },
     "metadata": {
      "needs_background": "light"
     },
     "output_type": "display_data"
    }
   ],
   "source": [
    "sns.pairplot(iris)"
   ]
  },
  {
   "cell_type": "code",
   "execution_count": 11,
   "id": "824a7a45",
   "metadata": {
    "ExecuteTime": {
     "end_time": "2021-12-07T01:36:31.073325Z",
     "start_time": "2021-12-07T01:36:31.060333Z"
    },
    "hidden": true
   },
   "outputs": [
    {
     "data": {
      "text/plain": [
       "'\\n    유의확률 (p-value)이 0.05보다 작으므로 귀무가설 기각\\n    꽃잎 길이와 꽃잎 너비는 관계가 있다. 즉 상관관계가 있다.\\n'"
      ]
     },
     "execution_count": 11,
     "metadata": {},
     "output_type": "execute_result"
    }
   ],
   "source": [
    "from scipy.stats import pearsonr\n",
    "\n",
    "# return value: (피어슨 상관계수, p-value)\n",
    "pearsonr(iris.petal_length, iris.petal_width)\n",
    "\n",
    "'''\n",
    "    유의확률 (p-value)이 0.05보다 작으므로 귀무가설 기각\n",
    "    꽃잎 길이와 꽃잎 너비는 관계가 있다. 즉 상관관계가 있다.\n",
    "'''"
   ]
  },
  {
   "cell_type": "code",
   "execution_count": 12,
   "id": "65bb43e9",
   "metadata": {
    "ExecuteTime": {
     "end_time": "2021-12-07T01:39:33.995454Z",
     "start_time": "2021-12-07T01:39:33.862149Z"
    },
    "hidden": true
   },
   "outputs": [
    {
     "data": {
      "text/plain": [
       "<AxesSubplot:xlabel='petal_length', ylabel='petal_width'>"
      ]
     },
     "execution_count": 12,
     "metadata": {},
     "output_type": "execute_result"
    },
    {
     "data": {
      "image/png": "[encoded data removed]",
      "text/plain": [
       "<Figure size 432x288 with 1 Axes>"
      ]
     },
     "metadata": {
      "needs_background": "light"
     },
     "output_type": "display_data"
    }
   ],
   "source": [
    "import warnings\n",
    "warnings.filterwarnings('ignore')\n",
    "\n",
    "sns.scatterplot(iris.petal_length, iris.petal_width)"
   ]
  },
  {
   "cell_type": "markdown",
   "id": "0c223594",
   "metadata": {
    "heading_collapsed": true,
    "hidden": true
   },
   "source": [
    "### 3.2 스피어만 상관계수"
   ]
  },
  {
   "cell_type": "code",
   "execution_count": 13,
   "id": "6b2c11d0",
   "metadata": {
    "ExecuteTime": {
     "end_time": "2021-12-07T02:18:16.410095Z",
     "start_time": "2021-12-07T02:18:16.373332Z"
    },
    "hidden": true
   },
   "outputs": [
    {
     "data": {
      "text/html": [
       "<div>\n",
       "<style scoped>\n",
       "    .dataframe tbody tr th:only-of-type {\n",
       "        vertical-align: middle;\n",
       "    }\n",
       "\n",
       "    .dataframe tbody tr th {\n",
       "        vertical-align: top;\n",
       "    }\n",
       "\n",
       "    .dataframe thead th {\n",
       "        text-align: right;\n",
       "    }\n",
       "</style>\n",
       "<table border=\"1\" class=\"dataframe\">\n",
       "  <thead>\n",
       "    <tr style=\"text-align: right;\">\n",
       "      <th></th>\n",
       "      <th>sepal_length</th>\n",
       "      <th>sepal_width</th>\n",
       "      <th>petal_length</th>\n",
       "      <th>petal_width</th>\n",
       "    </tr>\n",
       "  </thead>\n",
       "  <tbody>\n",
       "    <tr>\n",
       "      <th>sepal_length</th>\n",
       "      <td>1.000000</td>\n",
       "      <td>-0.166778</td>\n",
       "      <td>0.881898</td>\n",
       "      <td>0.834289</td>\n",
       "    </tr>\n",
       "    <tr>\n",
       "      <th>sepal_width</th>\n",
       "      <td>-0.166778</td>\n",
       "      <td>1.000000</td>\n",
       "      <td>-0.309635</td>\n",
       "      <td>-0.289032</td>\n",
       "    </tr>\n",
       "    <tr>\n",
       "      <th>petal_length</th>\n",
       "      <td>0.881898</td>\n",
       "      <td>-0.309635</td>\n",
       "      <td>1.000000</td>\n",
       "      <td>0.937667</td>\n",
       "    </tr>\n",
       "    <tr>\n",
       "      <th>petal_width</th>\n",
       "      <td>0.834289</td>\n",
       "      <td>-0.289032</td>\n",
       "      <td>0.937667</td>\n",
       "      <td>1.000000</td>\n",
       "    </tr>\n",
       "  </tbody>\n",
       "</table>\n",
       "</div>"
      ],
      "text/plain": [
       "              sepal_length  sepal_width  petal_length  petal_width\n",
       "sepal_length      1.000000    -0.166778      0.881898     0.834289\n",
       "sepal_width      -0.166778     1.000000     -0.309635    -0.289032\n",
       "petal_length      0.881898    -0.309635      1.000000     0.937667\n",
       "petal_width       0.834289    -0.289032      0.937667     1.000000"
      ]
     },
     "execution_count": 13,
     "metadata": {},
     "output_type": "execute_result"
    }
   ],
   "source": [
    "iris = sns.load_dataset('iris')\n",
    "iris.corr(method='spearman')"
   ]
  },
  {
   "cell_type": "code",
   "execution_count": 14,
   "id": "28256fd6",
   "metadata": {
    "ExecuteTime": {
     "end_time": "2021-12-07T02:18:55.165505Z",
     "start_time": "2021-12-07T02:18:55.144456Z"
    },
    "hidden": true
   },
   "outputs": [
    {
     "data": {
      "text/plain": [
       "SpearmanrResult(correlation=0.9376668235763412, pvalue=8.156596854126675e-70)"
      ]
     },
     "execution_count": 14,
     "metadata": {},
     "output_type": "execute_result"
    }
   ],
   "source": [
    "from scipy.stats.stats import spearmanr\n",
    "\n",
    "spearmanr(iris.petal_length, iris.petal_width)"
   ]
  },
  {
   "cell_type": "markdown",
   "id": "238006bc",
   "metadata": {
    "heading_collapsed": true,
    "hidden": true
   },
   "source": [
    "### 3.3 상관계수 시각화"
   ]
  },
  {
   "cell_type": "code",
   "execution_count": 15,
   "id": "790ed55d",
   "metadata": {
    "ExecuteTime": {
     "end_time": "2021-12-07T02:35:26.839886Z",
     "start_time": "2021-12-07T02:35:26.821932Z"
    },
    "hidden": true
   },
   "outputs": [
    {
     "data": {
      "text/html": [
       "<div>\n",
       "<style scoped>\n",
       "    .dataframe tbody tr th:only-of-type {\n",
       "        vertical-align: middle;\n",
       "    }\n",
       "\n",
       "    .dataframe tbody tr th {\n",
       "        vertical-align: top;\n",
       "    }\n",
       "\n",
       "    .dataframe thead th {\n",
       "        text-align: right;\n",
       "    }\n",
       "</style>\n",
       "<table border=\"1\" class=\"dataframe\">\n",
       "  <thead>\n",
       "    <tr style=\"text-align: right;\">\n",
       "      <th></th>\n",
       "      <th>sepal_length</th>\n",
       "      <th>sepal_width</th>\n",
       "      <th>petal_length</th>\n",
       "      <th>petal_width</th>\n",
       "    </tr>\n",
       "  </thead>\n",
       "  <tbody>\n",
       "    <tr>\n",
       "      <th>sepal_length</th>\n",
       "      <td>1.000000</td>\n",
       "      <td>-0.117570</td>\n",
       "      <td>0.871754</td>\n",
       "      <td>0.817941</td>\n",
       "    </tr>\n",
       "    <tr>\n",
       "      <th>sepal_width</th>\n",
       "      <td>-0.117570</td>\n",
       "      <td>1.000000</td>\n",
       "      <td>-0.428440</td>\n",
       "      <td>-0.366126</td>\n",
       "    </tr>\n",
       "    <tr>\n",
       "      <th>petal_length</th>\n",
       "      <td>0.871754</td>\n",
       "      <td>-0.428440</td>\n",
       "      <td>1.000000</td>\n",
       "      <td>0.962865</td>\n",
       "    </tr>\n",
       "    <tr>\n",
       "      <th>petal_width</th>\n",
       "      <td>0.817941</td>\n",
       "      <td>-0.366126</td>\n",
       "      <td>0.962865</td>\n",
       "      <td>1.000000</td>\n",
       "    </tr>\n",
       "  </tbody>\n",
       "</table>\n",
       "</div>"
      ],
      "text/plain": [
       "              sepal_length  sepal_width  petal_length  petal_width\n",
       "sepal_length      1.000000    -0.117570      0.871754     0.817941\n",
       "sepal_width      -0.117570     1.000000     -0.428440    -0.366126\n",
       "petal_length      0.871754    -0.428440      1.000000     0.962865\n",
       "petal_width       0.817941    -0.366126      0.962865     1.000000"
      ]
     },
     "execution_count": 15,
     "metadata": {},
     "output_type": "execute_result"
    }
   ],
   "source": [
    "iris = sns.load_dataset('iris')\n",
    "\n",
    "iris.corr()"
   ]
  },
  {
   "cell_type": "code",
   "execution_count": 16,
   "id": "2547dc88",
   "metadata": {
    "ExecuteTime": {
     "end_time": "2021-12-07T02:36:34.684902Z",
     "start_time": "2021-12-07T02:36:34.481411Z"
    },
    "hidden": true
   },
   "outputs": [
    {
     "data": {
      "image/png": "[encoded data removed]",
      "text/plain": [
       "<Figure size 720x576 with 2 Axes>"
      ]
     },
     "metadata": {
      "needs_background": "light"
     },
     "output_type": "display_data"
    }
   ],
   "source": [
    "import matplotlib.pyplot as plt\n",
    "\n",
    "plt.figure(figsize=(10, 8))\n",
    "sns.heatmap(iris.corr(), vmin=1, vmax=1, annot=True, cmap='cubehelix_r')\n",
    "plt.show()"
   ]
  },
  {
   "cell_type": "markdown",
   "id": "a7620cba",
   "metadata": {
    "heading_collapsed": true
   },
   "source": [
    "## 4절. 단순 회귀분석"
   ]
  },
  {
   "cell_type": "markdown",
   "id": "54bc5556",
   "metadata": {
    "heading_collapsed": true,
    "hidden": true
   },
   "source": [
    "### 4.1 행렬을 이용한 회귀모형 구하기"
   ]
  },
  {
   "cell_type": "code",
   "execution_count": 17,
   "id": "03819872",
   "metadata": {
    "ExecuteTime": {
     "end_time": "2021-12-07T03:02:08.456661Z",
     "start_time": "2021-12-07T03:02:08.440703Z"
    },
    "hidden": true
   },
   "outputs": [
    {
     "name": "stdout",
     "output_type": "stream",
     "text": [
      "[[ 32.   1.]\n",
      " [ 64.   1.]\n",
      " [ 96.   1.]\n",
      " [118.   1.]\n",
      " [126.   1.]\n",
      " [144.   1.]\n",
      " [152.   1.]\n",
      " [158.   1.]]\n",
      "[ 17  24  62  49  52 105 130 125]\n"
     ]
    }
   ],
   "source": [
    "x = [32, 64, 96, 118, 126, 144, 152, 158]\n",
    "y = [17, 24, 62, 49, 52, 105, 130, 125]\n",
    "\n",
    "import numpy as np\n",
    "a = np.c_[x, np.ones(8)]\n",
    "b = np.array(y)\n",
    "\n",
    "print(a)\n",
    "print(b)"
   ]
  },
  {
   "cell_type": "code",
   "execution_count": 18,
   "id": "4169ec51",
   "metadata": {
    "ExecuteTime": {
     "end_time": "2021-12-07T03:03:31.795467Z",
     "start_time": "2021-12-07T03:03:31.786491Z"
    },
    "hidden": true
   },
   "outputs": [
    {
     "data": {
      "text/plain": [
       "array([  0.87962664, -27.35846347])"
      ]
     },
     "execution_count": 18,
     "metadata": {},
     "output_type": "execute_result"
    }
   ],
   "source": [
    "# 행렬 내적, 곱\n",
    "model = np.linalg.inv(a.T @ a) @ a.T @ b\n",
    "model\n",
    "\n",
    "# y=ax+b에서 a(weight) = 0.87962664, b(bias) = -27.35846347"
   ]
  },
  {
   "cell_type": "markdown",
   "id": "3520de2b",
   "metadata": {
    "heading_collapsed": true,
    "hidden": true
   },
   "source": [
    "### 4.2 회귀모형과 예측"
   ]
  },
  {
   "cell_type": "code",
   "execution_count": 19,
   "id": "16f56a25",
   "metadata": {
    "ExecuteTime": {
     "end_time": "2021-12-07T03:39:46.211657Z",
     "start_time": "2021-12-07T03:39:46.200688Z"
    },
    "hidden": true
   },
   "outputs": [
    {
     "name": "stdout",
     "output_type": "stream",
     "text": [
      "slope: 0.8796266379465087\n",
      "intercept: -27.3584634715491\n",
      "r_value: 0.89008928103186\n",
      "p_value: 0.003051790677096642\n",
      "std_err: 0.18388671751663876\n"
     ]
    },
    {
     "data": {
      "text/plain": [
       "'\\n    - 구해진 회귀식: y = 0.8796*x - 27.3585\\n    - p-value(유의확률)가 0.05보다 작으므로 유의수준 5%하에서 회귀식이 유의함\\n    - r-value(결정계수)는 회귀식이 데이터를 약 89% 설명함.\\n'"
      ]
     },
     "execution_count": 19,
     "metadata": {},
     "output_type": "execute_result"
    }
   ],
   "source": [
    "X = [32, 64, 96, 118, 126, 144, 152, 158]\n",
    "Y = [17, 24, 62, 49, 52, 105, 130, 125]\n",
    "\n",
    "from scipy import stats\n",
    "\n",
    "slope, intercept, r_value, p_value, std_err = stats.linregress(X, Y)\n",
    "\n",
    "print(f\"slope: {slope}\")\n",
    "print(f\"intercept: {intercept}\")\n",
    "print(f\"r_value: {r_value}\")\n",
    "print(f\"p_value: {p_value}\")\n",
    "print(f\"std_err: {std_err}\")\n",
    "\n",
    "'''\n",
    "    - 구해진 회귀식: y = 0.8796*x - 27.3585\n",
    "    - p-value(유의확률)가 0.05보다 작으므로 유의수준 5%하에서 회귀식이 유의함\n",
    "    - r-value(결정계수)는 회귀식이 데이터를 약 89% 설명함.\n",
    "'''"
   ]
  },
  {
   "cell_type": "code",
   "execution_count": 20,
   "id": "6dbcf998",
   "metadata": {
    "ExecuteTime": {
     "end_time": "2021-12-07T05:23:10.026123Z",
     "start_time": "2021-12-07T05:23:09.912325Z"
    },
    "hidden": true
   },
   "outputs": [
    {
     "data": {
      "image/png": "[encoded data removed]",
      "text/plain": [
       "<Figure size 432x288 with 1 Axes>"
      ]
     },
     "metadata": {
      "needs_background": "light"
     },
     "output_type": "display_data"
    }
   ],
   "source": [
    "%matplotlib inline\n",
    "plt.plot(X, slope*np.array(X) + intercept, '-')\n",
    "plt.plot(X, Y, '.')\n",
    "plt.show()"
   ]
  },
  {
   "cell_type": "code",
   "execution_count": 21,
   "id": "f3e7e428",
   "metadata": {
    "ExecuteTime": {
     "end_time": "2021-12-07T05:26:46.825027Z",
     "start_time": "2021-12-07T05:26:46.808050Z"
    },
    "hidden": true
   },
   "outputs": [
    {
     "name": "stdout",
     "output_type": "stream",
     "text": [
      "[  0.87962664 -27.35846347]\n",
      " \n",
      "0.8796 x - 27.36\n"
     ]
    }
   ],
   "source": [
    "# 최소제곱 다항 회귀식 계산\n",
    "X = [32, 64, 96, 118, 126, 144, 152, 158]\n",
    "Y = [17, 24, 62, 49, 52, 105, 130, 125]\n",
    "\n",
    "# 1차 회귀식\n",
    "fit = np.polyfit(X, Y, 1)\n",
    "print(fit)\n",
    "\n",
    "# 다항식 함수 생성\n",
    "fit_fn = np.poly1d(fit)\n",
    "print(fit_fn)"
   ]
  },
  {
   "cell_type": "code",
   "execution_count": 22,
   "id": "0df581ca",
   "metadata": {
    "ExecuteTime": {
     "end_time": "2021-12-07T05:28:18.770105Z",
     "start_time": "2021-12-07T05:28:18.653398Z"
    },
    "hidden": true
   },
   "outputs": [
    {
     "data": {
      "image/png": "[encoded data removed]",
      "text/plain": [
       "<Figure size 432x288 with 1 Axes>"
      ]
     },
     "metadata": {
      "needs_background": "light"
     },
     "output_type": "display_data"
    }
   ],
   "source": [
    "plt.scatter(X, Y)\n",
    "plt.plot(X, fit_fn(X))\n",
    "plt.show()"
   ]
  },
  {
   "cell_type": "code",
   "execution_count": 23,
   "id": "128c2c76",
   "metadata": {
    "ExecuteTime": {
     "end_time": "2021-12-07T05:36:43.120550Z",
     "start_time": "2021-12-07T05:36:42.996873Z"
    },
    "hidden": true
   },
   "outputs": [
    {
     "name": "stdout",
     "output_type": "stream",
     "text": [
      "[-6.18327318e-09  3.46694642e-06 -7.70219609e-04  8.62372828e-02\n",
      " -5.09766458e+00  1.50398974e+02 -1.70364025e+03]\n",
      "            6             5             4           3         2\n",
      "-6.183e-09 x + 3.467e-06 x - 0.0007702 x + 0.08624 x - 5.098 x + 150.4 x - 1704\n"
     ]
    },
    {
     "data": {
      "image/png": "[encoded data removed]",
      "text/plain": [
       "<Figure size 432x288 with 1 Axes>"
      ]
     },
     "metadata": {
      "needs_background": "light"
     },
     "output_type": "display_data"
    }
   ],
   "source": [
    "# 2차 방정식으로 표현\n",
    "# fit = np.polyfit(X, Y, 2)\n",
    "# fit_fn = np.poly1d(fit)\n",
    "# sample_X = np.linspace(30, 160, 100)\n",
    "\n",
    "# plt.scatter(X, Y)\n",
    "# plt.plot(sample_X, fit_fn(sample_X))\n",
    "# plt.show()\n",
    "\n",
    "# 차수 유동화 반영 회귀 그래프 함수\n",
    "def draw_polyfit(X, Y, deg=1):\n",
    "    fit = np.polyfit(X, Y, deg)\n",
    "    print(fit)\n",
    "    fit_fn = np.poly1d(fit)\n",
    "    print(fit_fn)\n",
    "    \n",
    "    sample_X = np.linspace(min(X), max(X), 100)\n",
    "    \n",
    "    plt.scatter(X, Y)\n",
    "    plt.plot(sample_X, fit_fn(sample_X))\n",
    "    plt.show()\n",
    "\n",
    "draw_polyfit(X, Y, 6)"
   ]
  },
  {
   "cell_type": "markdown",
   "id": "9eef4c72",
   "metadata": {},
   "source": [
    "## 5절. 포뮬러를 이용한 회귀식"
   ]
  },
  {
   "cell_type": "code",
   "execution_count": 24,
   "id": "3f5d3c75",
   "metadata": {
    "ExecuteTime": {
     "end_time": "2021-12-07T08:27:23.383224Z",
     "start_time": "2021-12-07T08:27:23.362309Z"
    }
   },
   "outputs": [
    {
     "data": {
      "text/html": [
       "<div>\n",
       "<style scoped>\n",
       "    .dataframe tbody tr th:only-of-type {\n",
       "        vertical-align: middle;\n",
       "    }\n",
       "\n",
       "    .dataframe tbody tr th {\n",
       "        vertical-align: top;\n",
       "    }\n",
       "\n",
       "    .dataframe thead th {\n",
       "        text-align: right;\n",
       "    }\n",
       "</style>\n",
       "<table border=\"1\" class=\"dataframe\">\n",
       "  <thead>\n",
       "    <tr style=\"text-align: right;\">\n",
       "      <th></th>\n",
       "      <th>x</th>\n",
       "      <th>y</th>\n",
       "    </tr>\n",
       "  </thead>\n",
       "  <tbody>\n",
       "    <tr>\n",
       "      <th>0</th>\n",
       "      <td>32</td>\n",
       "      <td>17</td>\n",
       "    </tr>\n",
       "    <tr>\n",
       "      <th>1</th>\n",
       "      <td>64</td>\n",
       "      <td>24</td>\n",
       "    </tr>\n",
       "    <tr>\n",
       "      <th>2</th>\n",
       "      <td>96</td>\n",
       "      <td>62</td>\n",
       "    </tr>\n",
       "    <tr>\n",
       "      <th>3</th>\n",
       "      <td>118</td>\n",
       "      <td>49</td>\n",
       "    </tr>\n",
       "    <tr>\n",
       "      <th>4</th>\n",
       "      <td>126</td>\n",
       "      <td>52</td>\n",
       "    </tr>\n",
       "    <tr>\n",
       "      <th>5</th>\n",
       "      <td>144</td>\n",
       "      <td>105</td>\n",
       "    </tr>\n",
       "    <tr>\n",
       "      <th>6</th>\n",
       "      <td>152</td>\n",
       "      <td>130</td>\n",
       "    </tr>\n",
       "    <tr>\n",
       "      <th>7</th>\n",
       "      <td>158</td>\n",
       "      <td>125</td>\n",
       "    </tr>\n",
       "  </tbody>\n",
       "</table>\n",
       "</div>"
      ],
      "text/plain": [
       "     x    y\n",
       "0   32   17\n",
       "1   64   24\n",
       "2   96   62\n",
       "3  118   49\n",
       "4  126   52\n",
       "5  144  105\n",
       "6  152  130\n",
       "7  158  125"
      ]
     },
     "execution_count": 24,
     "metadata": {},
     "output_type": "execute_result"
    }
   ],
   "source": [
    "X = [32, 64, 96, 118, 126, 144, 152, 158]\n",
    "Y = [17, 24, 62, 49, 52, 105, 130, 125]\n",
    "\n",
    "import pandas as pd\n",
    "import numpy as np\n",
    "\n",
    "df = pd.DataFrame(np.c_[X, Y], columns=['x', 'y'])\n",
    "df"
   ]
  },
  {
   "cell_type": "code",
   "execution_count": 25,
   "id": "c44017c0",
   "metadata": {
    "ExecuteTime": {
     "end_time": "2021-12-07T08:30:49.172145Z",
     "start_time": "2021-12-07T08:30:49.146515Z"
    }
   },
   "outputs": [
    {
     "data": {
      "text/plain": [
       "Intercept   -27.358463\n",
       "x             0.879627\n",
       "dtype: float64"
      ]
     },
     "execution_count": 25,
     "metadata": {},
     "output_type": "execute_result"
    }
   ],
   "source": [
    "# 포뮬러를 이용한 선형회귀식 구현\n",
    "# 1차방정식\n",
    "from statsmodels.formula.api import ols\n",
    "\n",
    "model = ols('y ~ x', data=df)\n",
    "result = model.fit()\n",
    "result.params"
   ]
  },
  {
   "cell_type": "code",
   "execution_count": 26,
   "id": "9451f70c",
   "metadata": {
    "ExecuteTime": {
     "end_time": "2021-12-07T08:31:25.023901Z",
     "start_time": "2021-12-07T08:31:24.286596Z"
    }
   },
   "outputs": [
    {
     "data": {
      "text/plain": [
       "Intercept   -27.358463\n",
       "x             0.879627\n",
       "dtype: float64"
      ]
     },
     "execution_count": 26,
     "metadata": {},
     "output_type": "execute_result"
    }
   ],
   "source": [
    "import statsmodels.api as sm\n",
    "\n",
    "model = sm.OLS.from_formula('y ~ x', data=df)\n",
    "result = model.fit()\n",
    "result.params"
   ]
  },
  {
   "cell_type": "code",
   "execution_count": 27,
   "id": "74911228",
   "metadata": {
    "ExecuteTime": {
     "end_time": "2021-12-07T08:34:14.169507Z",
     "start_time": "2021-12-07T08:34:14.142348Z"
    }
   },
   "outputs": [
    {
     "data": {
      "text/plain": [
       "x            1.005637\n",
       "I(x ** 2)   -0.013981\n",
       "I(x ** 3)    0.000082\n",
       "dtype: float64"
      ]
     },
     "execution_count": 27,
     "metadata": {},
     "output_type": "execute_result"
    }
   ],
   "source": [
    "# 상수항을 포함하지 않는 3차방정식\n",
    "# I() 함수는 포뮬러가 수식을 포함할 경우 사용\n",
    "model2 = ols('y ~ x + I(x**2) + I(x**3) - 1', data=df)\n",
    "result2 = model2.fit()\n",
    "result2.params"
   ]
  },
  {
   "cell_type": "code",
   "execution_count": 28,
   "id": "b5f87412",
   "metadata": {
    "ExecuteTime": {
     "end_time": "2021-12-07T08:36:21.011567Z",
     "start_time": "2021-12-07T08:36:20.891903Z"
    }
   },
   "outputs": [
    {
     "data": {
      "image/png": "[encoded data removed]",
      "text/plain": [
       "<Figure size 432x288 with 1 Axes>"
      ]
     },
     "metadata": {
      "needs_background": "light"
     },
     "output_type": "display_data"
    }
   ],
   "source": [
    "# 회귀모형으로 예측한 값\n",
    "y_ = result2.predict(df.x)\n",
    "\n",
    "import matplotlib.pyplot as plt\n",
    "\n",
    "plt.scatter(X, Y)\n",
    "plt.plot(X, y_)\n",
    "plt.show()"
   ]
  },
  {
   "cell_type": "markdown",
   "id": "0884ac65",
   "metadata": {
    "heading_collapsed": true
   },
   "source": [
    "## 6절. 정규화 선형회귀"
   ]
  },
  {
   "cell_type": "markdown",
   "id": "0288c2f2",
   "metadata": {
    "hidden": true
   },
   "source": [
    "### 6.1 정규화 선형회귀모형"
   ]
  },
  {
   "cell_type": "code",
   "execution_count": 29,
   "id": "9e296de8",
   "metadata": {},
   "outputs": [],
   "source": [
    "# Lasso, Ridge, Elastic-Net Linear Model"
   ]
  },
  {
   "cell_type": "markdown",
   "id": "7a231028",
   "metadata": {
    "hidden": true
   },
   "source": [
    "### 6.2 statsmodels의 정규화 회귀모형"
   ]
  },
  {
   "cell_type": "code",
   "execution_count": 30,
   "id": "e4a02c73",
   "metadata": {},
   "outputs": [
    {
     "data": {
      "text/plain": [
       "(array([0.0202184 , 0.07103606, 0.0871293 , 0.11827443, 0.14335329,\n",
       "        0.38344152, 0.41466194, 0.4236548 , 0.43758721, 0.46147936,\n",
       "        0.52184832, 0.52889492, 0.54488318, 0.5488135 , 0.56804456,\n",
       "        0.60276338, 0.63992102, 0.64589411, 0.71518937, 0.77815675,\n",
       "        0.78052918, 0.79172504, 0.79915856, 0.83261985, 0.87001215,\n",
       "        0.891773  , 0.92559664, 0.94466892, 0.96366276, 0.97861834]),\n",
       " array([ 0.21313815,  0.35744392,  0.74748666,  0.53116691,  0.78834718,\n",
       "         0.64990691,  0.66414648,  0.60844099,  0.39767186,  0.27749244,\n",
       "        -0.22562487, -0.37863606, -0.31307741, -0.28628347, -0.29160131,\n",
       "        -0.48150477, -0.80892952, -0.82381604, -1.08103092, -1.12639327,\n",
       "        -1.15228581, -0.7707533 , -1.00364218, -0.91206561, -0.85419591,\n",
       "        -0.55105199, -0.61203691, -0.36196849, -0.31588187, -0.09525091]))"
      ]
     },
     "execution_count": 30,
     "metadata": {},
     "output_type": "execute_result"
    }
   ],
   "source": [
    "import numpy as np\n",
    "n_samples = 30\n",
    "np.random.seed(0)\n",
    "\n",
    "X = np.sort(np.random.rand(n_samples))\n",
    "y = np.sin(2*np.pi * X) + np.random.randn(n_samples) * 0.1\n",
    "\n",
    "X, y"
   ]
  },
  {
   "cell_type": "code",
   "execution_count": 31,
   "id": "ad0b6f77",
   "metadata": {},
   "outputs": [
    {
     "data": {
      "image/png": "[encoded data removed]",
      "text/plain": [
       "<Figure size 432x288 with 1 Axes>"
      ]
     },
     "metadata": {
      "needs_background": "light"
     },
     "output_type": "display_data"
    }
   ],
   "source": [
    "import matplotlib.pyplot as plt\n",
    "%matplotlib inline\n",
    "\n",
    "plt.scatter(X, y)\n",
    "plt.show()"
   ]
  },
  {
   "cell_type": "code",
   "execution_count": 32,
   "id": "cfd91c5e",
   "metadata": {},
   "outputs": [
    {
     "data": {
      "text/html": [
       "<div>\n",
       "<style scoped>\n",
       "    .dataframe tbody tr th:only-of-type {\n",
       "        vertical-align: middle;\n",
       "    }\n",
       "\n",
       "    .dataframe tbody tr th {\n",
       "        vertical-align: top;\n",
       "    }\n",
       "\n",
       "    .dataframe thead th {\n",
       "        text-align: right;\n",
       "    }\n",
       "</style>\n",
       "<table border=\"1\" class=\"dataframe\">\n",
       "  <thead>\n",
       "    <tr style=\"text-align: right;\">\n",
       "      <th></th>\n",
       "      <th>x</th>\n",
       "      <th>y</th>\n",
       "    </tr>\n",
       "  </thead>\n",
       "  <tbody>\n",
       "    <tr>\n",
       "      <th>0</th>\n",
       "      <td>0.020218</td>\n",
       "      <td>0.213138</td>\n",
       "    </tr>\n",
       "    <tr>\n",
       "      <th>1</th>\n",
       "      <td>0.071036</td>\n",
       "      <td>0.357444</td>\n",
       "    </tr>\n",
       "    <tr>\n",
       "      <th>2</th>\n",
       "      <td>0.087129</td>\n",
       "      <td>0.747487</td>\n",
       "    </tr>\n",
       "    <tr>\n",
       "      <th>3</th>\n",
       "      <td>0.118274</td>\n",
       "      <td>0.531167</td>\n",
       "    </tr>\n",
       "    <tr>\n",
       "      <th>4</th>\n",
       "      <td>0.143353</td>\n",
       "      <td>0.788347</td>\n",
       "    </tr>\n",
       "  </tbody>\n",
       "</table>\n",
       "</div>"
      ],
      "text/plain": [
       "          x         y\n",
       "0  0.020218  0.213138\n",
       "1  0.071036  0.357444\n",
       "2  0.087129  0.747487\n",
       "3  0.118274  0.531167\n",
       "4  0.143353  0.788347"
      ]
     },
     "execution_count": 32,
     "metadata": {},
     "output_type": "execute_result"
    }
   ],
   "source": [
    "import pandas as pd\n",
    "from statsmodels.formula.api import ols\n",
    "\n",
    "df = pd.DataFrame(np.c_[X, y], columns=['x', 'y'])\n",
    "df.head()"
   ]
  },
  {
   "cell_type": "code",
   "execution_count": 33,
   "id": "7d17787b",
   "metadata": {},
   "outputs": [
    {
     "data": {
      "text/plain": [
       "Intercept    0.713959\n",
       "x           -1.642204\n",
       "dtype: float64"
      ]
     },
     "execution_count": 33,
     "metadata": {},
     "output_type": "execute_result"
    }
   ],
   "source": [
    "model = ols('y ~ x', data=df)\n",
    "result = model.fit()\n",
    "result.params"
   ]
  },
  {
   "cell_type": "code",
   "execution_count": 34,
   "id": "1138e267",
   "metadata": {},
   "outputs": [
    {
     "data": {
      "image/png": "[encoded data removed]",
      "text/plain": [
       "<Figure size 432x288 with 1 Axes>"
      ]
     },
     "metadata": {
      "needs_background": "light"
     },
     "output_type": "display_data"
    }
   ],
   "source": [
    "plt.scatter(X, y)\n",
    "xx = np.linspace(0, 1, 1000)\n",
    "plt.plot(xx, result.predict({'x':xx}))\n",
    "plt.show()"
   ]
  },
  {
   "cell_type": "code",
   "execution_count": 35,
   "id": "8c63f5ea",
   "metadata": {},
   "outputs": [
    {
     "data": {
      "text/plain": [
       "Intercept       -0.169863\n",
       "x               25.735773\n",
       "I(x ** 2)     -428.141683\n",
       "I(x ** 3)     3866.723114\n",
       "I(x ** 4)   -18340.939663\n",
       "I(x ** 5)    49326.072543\n",
       "I(x ** 6)   -78884.743070\n",
       "I(x ** 7)    74538.645149\n",
       "I(x ** 8)   -38453.132189\n",
       "I(x ** 9)     8350.254985\n",
       "dtype: float64"
      ]
     },
     "execution_count": 35,
     "metadata": {},
     "output_type": "execute_result"
    }
   ],
   "source": [
    "# 정규화를 하지 않는 회귀모형\n",
    "# ols() 함수를 이용한 9차 방정식\n",
    "\n",
    "model9 = ols(\"y ~ x + I(x**2) + I(x**3) + I(x**4) + I(x**5) + I(x**6) + I(x**7) + I(x**8) + I(x**9)\", data=df)\n",
    "result9 = model9.fit()\n",
    "result9.params"
   ]
  },
  {
   "cell_type": "code",
   "execution_count": 36,
   "id": "8a4846f5",
   "metadata": {},
   "outputs": [
    {
     "data": {
      "image/png": "[encoded data removed]",
      "text/plain": [
       "<Figure size 432x288 with 1 Axes>"
      ]
     },
     "metadata": {
      "needs_background": "light"
     },
     "output_type": "display_data"
    }
   ],
   "source": [
    "plt.scatter(X, y)\n",
    "plt.plot(xx, result9.predict({'x':xx}))\n",
    "plt.show()"
   ]
  },
  {
   "cell_type": "code",
   "execution_count": 37,
   "id": "521db06c",
   "metadata": {},
   "outputs": [
    {
     "data": {
      "text/plain": [
       "Intercept    0.687949\n",
       "x           -1.129134\n",
       "I(x ** 2)   -1.124878\n",
       "I(x ** 3)    0.000000\n",
       "I(x ** 4)    0.000000\n",
       "I(x ** 5)    0.000000\n",
       "I(x ** 6)    0.000000\n",
       "I(x ** 7)    0.000000\n",
       "I(x ** 8)    0.281484\n",
       "I(x ** 9)    1.075281\n",
       "dtype: float64"
      ]
     },
     "execution_count": 37,
     "metadata": {},
     "output_type": "execute_result"
    }
   ],
   "source": [
    "# Lasso Linear model\n",
    "result9_lasso = model9.fit_regularized(L1_wt=1, alpha=0.01)\n",
    "result9_lasso.params"
   ]
  },
  {
   "cell_type": "code",
   "execution_count": 38,
   "id": "c705adda",
   "metadata": {},
   "outputs": [
    {
     "data": {
      "image/png": "[encoded data removed]",
      "text/plain": [
       "<Figure size 432x288 with 1 Axes>"
      ]
     },
     "metadata": {
      "needs_background": "light"
     },
     "output_type": "display_data"
    }
   ],
   "source": [
    "plt.scatter(X, y)\n",
    "plt.plot(xx, result9_lasso.predict({'x':xx}))\n",
    "plt.show()"
   ]
  },
  {
   "cell_type": "code",
   "execution_count": 39,
   "id": "6d5b4290",
   "metadata": {},
   "outputs": [
    {
     "data": {
      "text/plain": [
       "array([ 0.63308745, -0.75705866, -1.07056551, -0.76835135, -0.35530367,\n",
       "        0.0121939 ,  0.29917825,  0.50969248,  0.65793698,  0.75851865])"
      ]
     },
     "execution_count": 39,
     "metadata": {},
     "output_type": "execute_result"
    }
   ],
   "source": [
    "# ridge linear model\n",
    "result9_ridge = model9.fit_regularized(L1_wt=0, alpha=0.01)\n",
    "result9_ridge.params"
   ]
  },
  {
   "cell_type": "code",
   "execution_count": 40,
   "id": "ae7600a8",
   "metadata": {},
   "outputs": [
    {
     "data": {
      "image/png": "[encoded data removed]",
      "text/plain": [
       "<Figure size 432x288 with 1 Axes>"
      ]
     },
     "metadata": {
      "needs_background": "light"
     },
     "output_type": "display_data"
    }
   ],
   "source": [
    "plt.scatter(X, y)\n",
    "plt.plot(xx, result9_lasso.predict({'x':xx}))\n",
    "plt.show()"
   ]
  },
  {
   "cell_type": "code",
   "execution_count": 41,
   "id": "b91dec3f",
   "metadata": {},
   "outputs": [
    {
     "data": {
      "text/plain": [
       "Intercept    0.656203\n",
       "x           -0.849745\n",
       "I(x ** 2)   -1.262902\n",
       "I(x ** 3)   -0.425687\n",
       "I(x ** 4)    0.000000\n",
       "I(x ** 5)    0.000000\n",
       "I(x ** 6)    0.000000\n",
       "I(x ** 7)    0.304049\n",
       "I(x ** 8)    0.631908\n",
       "I(x ** 9)    0.801206\n",
       "dtype: float64"
      ]
     },
     "execution_count": 41,
     "metadata": {},
     "output_type": "execute_result"
    }
   ],
   "source": [
    "# elastic-net linear model\n",
    "result9_elastic_net = model9.fit_regularized(L1_wt=0.5, alpha=0.01)\n",
    "result9_elastic_net.params"
   ]
  },
  {
   "cell_type": "code",
   "execution_count": 42,
   "id": "197e043d",
   "metadata": {},
   "outputs": [
    {
     "data": {
      "image/png": "[encoded data removed]",
      "text/plain": [
       "<Figure size 432x288 with 1 Axes>"
      ]
     },
     "metadata": {
      "needs_background": "light"
     },
     "output_type": "display_data"
    }
   ],
   "source": [
    "plt.scatter(X, y)\n",
    "plt.plot(xx, result9_elastic_net.predict({'x':xx}))\n",
    "plt.show()"
   ]
  },
  {
   "cell_type": "markdown",
   "id": "ac20f0c0",
   "metadata": {
    "hidden": true
   },
   "source": [
    "### 6.3 Scikit-Learn의 정규화 회귀모형"
   ]
  },
  {
   "cell_type": "code",
   "execution_count": 43,
   "id": "1a011e8f",
   "metadata": {},
   "outputs": [],
   "source": [
    "# 일반 회귀모형 생성\n",
    "import statsmodels.api as sm\n",
    "\n",
    "# generate sample data\n",
    "np.random.seed(0)\n",
    "n_samples = 30\n",
    "x = np.sort(np.random.rand(n_samples))\n",
    "y = np.sin(2*np.pi * x) + np.random.randn(n_samples) * 0.1\n",
    "\n",
    "x = x[:, np.newaxis]"
   ]
  },
  {
   "cell_type": "code",
   "execution_count": 44,
   "id": "6cafce66",
   "metadata": {},
   "outputs": [],
   "source": [
    "def plot_model(model):\n",
    "    plt.scatter(X, y)\n",
    "    x = np.linspace(0, 1, 1000)\n",
    "    plt.plot(x, model.predict(x[:, np.newaxis]))\n",
    "    plt.show()"
   ]
  },
  {
   "cell_type": "code",
   "execution_count": 45,
   "id": "9ff56b87",
   "metadata": {},
   "outputs": [
    {
     "name": "stdout",
     "output_type": "stream",
     "text": [
      "[ 0.00000000e+00  2.57357731e+01 -4.28141684e+02  3.86672312e+03\n",
      " -1.83409397e+04  4.93260726e+04 -7.88847431e+04  7.45386452e+04\n",
      " -3.84531322e+04  8.35025499e+03]\n"
     ]
    },
    {
     "data": {
      "image/png": "[encoded data removed]",
      "text/plain": [
       "<Figure size 432x288 with 1 Axes>"
      ]
     },
     "metadata": {
      "needs_background": "light"
     },
     "output_type": "display_data"
    }
   ],
   "source": [
    "from sklearn.preprocessing import PolynomialFeatures\n",
    "from sklearn.pipeline import make_pipeline\n",
    "from sklearn.linear_model import LinearRegression\n",
    "\n",
    "poly = PolynomialFeatures(9)\n",
    "model = make_pipeline(poly, LinearRegression()).fit(x, y)\n",
    "print(model.steps[1][1].coef_)\n",
    "plot_model(model)"
   ]
  },
  {
   "cell_type": "code",
   "execution_count": 46,
   "id": "93d41c3e",
   "metadata": {},
   "outputs": [
    {
     "name": "stdout",
     "output_type": "stream",
     "text": [
      "[ 0.         -0.07668852 -2.44096313 -0.         -0.          0.\n",
      "  0.          0.          0.          1.88188725]\n"
     ]
    },
    {
     "data": {
      "image/png": "[encoded data removed]",
      "text/plain": [
       "<Figure size 432x288 with 1 Axes>"
      ]
     },
     "metadata": {
      "needs_background": "light"
     },
     "output_type": "display_data"
    }
   ],
   "source": [
    "# Lasso 회귀모형\n",
    "from sklearn.linear_model import Lasso\n",
    "model = make_pipeline(poly, Lasso(alpha=0.01)).fit(x, y)\n",
    "print(model.steps[1][1].coef_)\n",
    "plot_model(model)"
   ]
  },
  {
   "cell_type": "code",
   "execution_count": 47,
   "id": "222616fd",
   "metadata": {},
   "outputs": [
    {
     "name": "stdout",
     "output_type": "stream",
     "text": [
      "[ 0.          1.51430399 -3.90160797 -2.6359859  -0.41526792  1.07530175\n",
      "  1.64913273  1.52026782  0.94651401  0.13299614]\n"
     ]
    },
    {
     "data": {
      "image/png": "[encoded data removed]",
      "text/plain": [
       "<Figure size 432x288 with 1 Axes>"
      ]
     },
     "metadata": {
      "needs_background": "light"
     },
     "output_type": "display_data"
    }
   ],
   "source": [
    "# Ridge 회귀모형\n",
    "from sklearn.linear_model import Ridge\n",
    "model = make_pipeline(poly, Ridge(alpha=0.01)).fit(x, y)\n",
    "print(model.steps[1][1].coef_)\n",
    "plot_model(model)"
   ]
  },
  {
   "cell_type": "code",
   "execution_count": 48,
   "id": "22f3d07b",
   "metadata": {},
   "outputs": [
    {
     "name": "stdout",
     "output_type": "stream",
     "text": [
      "[ 0.         -0.83768018 -1.23944649 -0.50166684 -0.          0.\n",
      "  0.          0.30382246  0.62459231  0.84262899]\n"
     ]
    },
    {
     "data": {
      "image/png": "[encoded data removed]",
      "text/plain": [
       "<Figure size 432x288 with 1 Axes>"
      ]
     },
     "metadata": {
      "needs_background": "light"
     },
     "output_type": "display_data"
    }
   ],
   "source": [
    "# Elastic Net 회귀모형\n",
    "from sklearn.linear_model import ElasticNet\n",
    "model = make_pipeline(poly, ElasticNet(alpha=0.01, l1_ratio=0.5)).fit(x, y)\n",
    "print(model.steps[1][1].coef_)\n",
    "plot_model(model)"
   ]
  },
  {
   "cell_type": "markdown",
   "id": "d859ec2c",
   "metadata": {
    "hidden": true
   },
   "source": [
    "### 6.4 Ridge 모형과 Lasso 모형의 차이"
   ]
  },
  {
   "cell_type": "code",
   "execution_count": 49,
   "id": "701f1fac",
   "metadata": {},
   "outputs": [],
   "source": [
    "from sklearn.datasets import load_diabetes\n",
    "diabetes = load_diabetes()\n",
    "\n",
    "x = diabetes.data\n",
    "y = diabetes.target"
   ]
  },
  {
   "cell_type": "code",
   "execution_count": 50,
   "id": "2747cc66",
   "metadata": {},
   "outputs": [],
   "source": [
    "# generate Ridge model\n",
    "alpha = np.logspace(-3, 1, 5)\n",
    "data = []\n",
    "\n",
    "for i, a in enumerate(alpha):\n",
    "    ridge = Ridge(alpha=a).fit(x, y)\n",
    "    data.append(pd.Series(np.hstack([ridge.intercept_, ridge.coef_])))"
   ]
  },
  {
   "cell_type": "code",
   "execution_count": 51,
   "id": "dff7812f",
   "metadata": {},
   "outputs": [
    {
     "data": {
      "text/html": [
       "<div>\n",
       "<style scoped>\n",
       "    .dataframe tbody tr th:only-of-type {\n",
       "        vertical-align: middle;\n",
       "    }\n",
       "\n",
       "    .dataframe tbody tr th {\n",
       "        vertical-align: top;\n",
       "    }\n",
       "\n",
       "    .dataframe thead th {\n",
       "        text-align: right;\n",
       "    }\n",
       "</style>\n",
       "<table border=\"1\" class=\"dataframe\">\n",
       "  <thead>\n",
       "    <tr style=\"text-align: right;\">\n",
       "      <th></th>\n",
       "      <th>0.001</th>\n",
       "      <th>0.010</th>\n",
       "      <th>0.100</th>\n",
       "      <th>1.000</th>\n",
       "      <th>10.000</th>\n",
       "    </tr>\n",
       "  </thead>\n",
       "  <tbody>\n",
       "    <tr>\n",
       "      <th>0</th>\n",
       "      <td>152.133484</td>\n",
       "      <td>152.133484</td>\n",
       "      <td>152.133484</td>\n",
       "      <td>152.133484</td>\n",
       "      <td>152.133484</td>\n",
       "    </tr>\n",
       "    <tr>\n",
       "      <th>1</th>\n",
       "      <td>-9.551414</td>\n",
       "      <td>-7.199457</td>\n",
       "      <td>1.307349</td>\n",
       "      <td>29.465746</td>\n",
       "      <td>19.812822</td>\n",
       "    </tr>\n",
       "    <tr>\n",
       "      <th>2</th>\n",
       "      <td>-239.090354</td>\n",
       "      <td>-234.552930</td>\n",
       "      <td>-207.194814</td>\n",
       "      <td>-83.154885</td>\n",
       "      <td>-0.918458</td>\n",
       "    </tr>\n",
       "    <tr>\n",
       "      <th>3</th>\n",
       "      <td>520.363367</td>\n",
       "      <td>520.583136</td>\n",
       "      <td>489.691080</td>\n",
       "      <td>306.351627</td>\n",
       "      <td>75.416167</td>\n",
       "    </tr>\n",
       "    <tr>\n",
       "      <th>4</th>\n",
       "      <td>323.828627</td>\n",
       "      <td>320.523356</td>\n",
       "      <td>301.769437</td>\n",
       "      <td>201.629434</td>\n",
       "      <td>55.025419</td>\n",
       "    </tr>\n",
       "    <tr>\n",
       "      <th>5</th>\n",
       "      <td>-712.328205</td>\n",
       "      <td>-380.607066</td>\n",
       "      <td>-83.466074</td>\n",
       "      <td>5.909369</td>\n",
       "      <td>19.924600</td>\n",
       "    </tr>\n",
       "    <tr>\n",
       "      <th>6</th>\n",
       "      <td>413.383794</td>\n",
       "      <td>150.483752</td>\n",
       "      <td>-70.828096</td>\n",
       "      <td>-29.515927</td>\n",
       "      <td>13.948686</td>\n",
       "    </tr>\n",
       "    <tr>\n",
       "      <th>7</th>\n",
       "      <td>65.811629</td>\n",
       "      <td>-78.591232</td>\n",
       "      <td>-188.680164</td>\n",
       "      <td>-152.040465</td>\n",
       "      <td>-47.553816</td>\n",
       "    </tr>\n",
       "    <tr>\n",
       "      <th>8</th>\n",
       "      <td>167.513774</td>\n",
       "      <td>130.313059</td>\n",
       "      <td>115.712703</td>\n",
       "      <td>117.311715</td>\n",
       "      <td>48.259420</td>\n",
       "    </tr>\n",
       "    <tr>\n",
       "      <th>9</th>\n",
       "      <td>720.944468</td>\n",
       "      <td>592.349587</td>\n",
       "      <td>443.814054</td>\n",
       "      <td>262.944995</td>\n",
       "      <td>70.144068</td>\n",
       "    </tr>\n",
       "    <tr>\n",
       "      <th>10</th>\n",
       "      <td>68.122100</td>\n",
       "      <td>71.133768</td>\n",
       "      <td>86.748539</td>\n",
       "      <td>111.878718</td>\n",
       "      <td>44.213876</td>\n",
       "    </tr>\n",
       "  </tbody>\n",
       "</table>\n",
       "</div>"
      ],
      "text/plain": [
       "        0.001       0.010       0.100       1.000       10.000\n",
       "0   152.133484  152.133484  152.133484  152.133484  152.133484\n",
       "1    -9.551414   -7.199457    1.307349   29.465746   19.812822\n",
       "2  -239.090354 -234.552930 -207.194814  -83.154885   -0.918458\n",
       "3   520.363367  520.583136  489.691080  306.351627   75.416167\n",
       "4   323.828627  320.523356  301.769437  201.629434   55.025419\n",
       "5  -712.328205 -380.607066  -83.466074    5.909369   19.924600\n",
       "6   413.383794  150.483752  -70.828096  -29.515927   13.948686\n",
       "7    65.811629  -78.591232 -188.680164 -152.040465  -47.553816\n",
       "8   167.513774  130.313059  115.712703  117.311715   48.259420\n",
       "9   720.944468  592.349587  443.814054  262.944995   70.144068\n",
       "10   68.122100   71.133768   86.748539  111.878718   44.213876"
      ]
     },
     "execution_count": 51,
     "metadata": {},
     "output_type": "execute_result"
    }
   ],
   "source": [
    "df_ridge = pd.DataFrame(data, index=alpha).T\n",
    "df_ridge"
   ]
  },
  {
   "cell_type": "code",
   "execution_count": 52,
   "id": "503c2b11",
   "metadata": {},
   "outputs": [],
   "source": [
    "# generate Lasso model\n",
    "alpha = np.logspace(-3, 1, 5)\n",
    "data = []\n",
    "\n",
    "for i, a in enumerate(alpha):\n",
    "    lasso = Lasso(alpha=a).fit(x, y)\n",
    "    data.append(pd.Series(np.hstack([lasso.intercept_, lasso.coef_])))"
   ]
  },
  {
   "cell_type": "code",
   "execution_count": 53,
   "id": "d2e2eec6",
   "metadata": {},
   "outputs": [
    {
     "data": {
      "text/html": [
       "<div>\n",
       "<style scoped>\n",
       "    .dataframe tbody tr th:only-of-type {\n",
       "        vertical-align: middle;\n",
       "    }\n",
       "\n",
       "    .dataframe tbody tr th {\n",
       "        vertical-align: top;\n",
       "    }\n",
       "\n",
       "    .dataframe thead th {\n",
       "        text-align: right;\n",
       "    }\n",
       "</style>\n",
       "<table border=\"1\" class=\"dataframe\">\n",
       "  <thead>\n",
       "    <tr style=\"text-align: right;\">\n",
       "      <th></th>\n",
       "      <th>0.001</th>\n",
       "      <th>0.010</th>\n",
       "      <th>0.100</th>\n",
       "      <th>1.000</th>\n",
       "      <th>10.000</th>\n",
       "    </tr>\n",
       "  </thead>\n",
       "  <tbody>\n",
       "    <tr>\n",
       "      <th>0</th>\n",
       "      <td>152.133484</td>\n",
       "      <td>152.133484</td>\n",
       "      <td>152.133484</td>\n",
       "      <td>152.133484</td>\n",
       "      <td>152.133484</td>\n",
       "    </tr>\n",
       "    <tr>\n",
       "      <th>1</th>\n",
       "      <td>-8.998449</td>\n",
       "      <td>-1.306575</td>\n",
       "      <td>-0.000000</td>\n",
       "      <td>0.000000</td>\n",
       "      <td>0.000000</td>\n",
       "    </tr>\n",
       "    <tr>\n",
       "      <th>2</th>\n",
       "      <td>-238.899740</td>\n",
       "      <td>-228.822331</td>\n",
       "      <td>-155.362882</td>\n",
       "      <td>-0.000000</td>\n",
       "      <td>0.000000</td>\n",
       "    </tr>\n",
       "    <tr>\n",
       "      <th>3</th>\n",
       "      <td>520.261362</td>\n",
       "      <td>525.560658</td>\n",
       "      <td>517.182017</td>\n",
       "      <td>367.701852</td>\n",
       "      <td>0.000000</td>\n",
       "    </tr>\n",
       "    <tr>\n",
       "      <th>4</th>\n",
       "      <td>323.429484</td>\n",
       "      <td>316.175320</td>\n",
       "      <td>275.082351</td>\n",
       "      <td>6.301904</td>\n",
       "      <td>0.000000</td>\n",
       "    </tr>\n",
       "    <tr>\n",
       "      <th>5</th>\n",
       "      <td>-720.251734</td>\n",
       "      <td>-307.013677</td>\n",
       "      <td>-52.540269</td>\n",
       "      <td>0.000000</td>\n",
       "      <td>0.000000</td>\n",
       "    </tr>\n",
       "    <tr>\n",
       "      <th>6</th>\n",
       "      <td>421.405141</td>\n",
       "      <td>89.321688</td>\n",
       "      <td>-0.000000</td>\n",
       "      <td>0.000000</td>\n",
       "      <td>0.000000</td>\n",
       "    </tr>\n",
       "    <tr>\n",
       "      <th>7</th>\n",
       "      <td>66.734168</td>\n",
       "      <td>-105.081398</td>\n",
       "      <td>-210.159753</td>\n",
       "      <td>-0.000000</td>\n",
       "      <td>-0.000000</td>\n",
       "    </tr>\n",
       "    <tr>\n",
       "      <th>8</th>\n",
       "      <td>164.448873</td>\n",
       "      <td>119.597989</td>\n",
       "      <td>0.000000</td>\n",
       "      <td>0.000000</td>\n",
       "      <td>0.000000</td>\n",
       "    </tr>\n",
       "    <tr>\n",
       "      <th>9</th>\n",
       "      <td>725.340440</td>\n",
       "      <td>571.330871</td>\n",
       "      <td>483.914409</td>\n",
       "      <td>307.605700</td>\n",
       "      <td>0.000000</td>\n",
       "    </tr>\n",
       "    <tr>\n",
       "      <th>10</th>\n",
       "      <td>67.475538</td>\n",
       "      <td>65.007316</td>\n",
       "      <td>33.672821</td>\n",
       "      <td>0.000000</td>\n",
       "      <td>0.000000</td>\n",
       "    </tr>\n",
       "  </tbody>\n",
       "</table>\n",
       "</div>"
      ],
      "text/plain": [
       "        0.001       0.010       0.100       1.000       10.000\n",
       "0   152.133484  152.133484  152.133484  152.133484  152.133484\n",
       "1    -8.998449   -1.306575   -0.000000    0.000000    0.000000\n",
       "2  -238.899740 -228.822331 -155.362882   -0.000000    0.000000\n",
       "3   520.261362  525.560658  517.182017  367.701852    0.000000\n",
       "4   323.429484  316.175320  275.082351    6.301904    0.000000\n",
       "5  -720.251734 -307.013677  -52.540269    0.000000    0.000000\n",
       "6   421.405141   89.321688   -0.000000    0.000000    0.000000\n",
       "7    66.734168 -105.081398 -210.159753   -0.000000   -0.000000\n",
       "8   164.448873  119.597989    0.000000    0.000000    0.000000\n",
       "9   725.340440  571.330871  483.914409  307.605700    0.000000\n",
       "10   67.475538   65.007316   33.672821    0.000000    0.000000"
      ]
     },
     "execution_count": 53,
     "metadata": {},
     "output_type": "execute_result"
    }
   ],
   "source": [
    "df_lasso = pd.DataFrame(data, index=alpha).T\n",
    "df_lasso"
   ]
  },
  {
   "cell_type": "code",
   "execution_count": 54,
   "id": "e048cd18",
   "metadata": {},
   "outputs": [
    {
     "data": {
      "image/png": "[encoded data removed]",
      "text/plain": [
       "<Figure size 432x288 with 2 Axes>"
      ]
     },
     "metadata": {
      "needs_background": "light"
     },
     "output_type": "display_data"
    }
   ],
   "source": [
    "# ridge, lasso visualization\n",
    "%matplotlib inline\n",
    "\n",
    "ax1 = plt.subplot(121)\n",
    "plt.semilogx(df_ridge.T)\n",
    "plt.xticks(alpha, label=np.log10(alpha))\n",
    "plt.title('Ridge')\n",
    "\n",
    "ax2 = plt.subplot(122)\n",
    "plt.semilogx(df_lasso.T)\n",
    "plt.xticks(alpha, label=np.log10(alpha))\n",
    "plt.title('Lasso')\n",
    "plt.show()"
   ]
  },
  {
   "cell_type": "markdown",
   "id": "eff17032",
   "metadata": {
    "heading_collapsed": true
   },
   "source": [
    "## 7절. 다중회귀분석"
   ]
  },
  {
   "cell_type": "markdown",
   "id": "810d7fee",
   "metadata": {
    "hidden": true
   },
   "source": [
    "### 7.1 다중 회귀의 변수 추정"
   ]
  },
  {
   "cell_type": "markdown",
   "id": "808c778a",
   "metadata": {
    "hidden": true
   },
   "source": [
    "### 7.2 다중회귀분석 예"
   ]
  },
  {
   "cell_type": "code",
   "execution_count": 55,
   "id": "f01c9d3e",
   "metadata": {},
   "outputs": [],
   "source": [
    "from sklearn.datasets import load_boston\n",
    "boston = load_boston()\n",
    "X = boston.data\n",
    "y = boston.target"
   ]
  },
  {
   "cell_type": "code",
   "execution_count": 56,
   "id": "4dc1485e",
   "metadata": {},
   "outputs": [],
   "source": [
    "from sklearn.model_selection import train_test_split\n",
    "train_X, test_X, train_y, test_y = train_test_split(X, y, test_size=0.3)"
   ]
  },
  {
   "cell_type": "code",
   "execution_count": 58,
   "id": "e36a6bfc",
   "metadata": {},
   "outputs": [
    {
     "data": {
      "text/plain": [
       "LinearRegression()"
      ]
     },
     "execution_count": 58,
     "metadata": {},
     "output_type": "execute_result"
    }
   ],
   "source": [
    "# 회귀모형 생성\n",
    "from sklearn.linear_model import LinearRegression\n",
    "model_boston = LinearRegression()\n",
    "model_boston.fit(train_X, train_y)"
   ]
  },
  {
   "cell_type": "code",
   "execution_count": 59,
   "id": "84262473",
   "metadata": {},
   "outputs": [
    {
     "data": {
      "text/plain": [
       "0.7224912856655239"
      ]
     },
     "execution_count": 59,
     "metadata": {},
     "output_type": "execute_result"
    }
   ],
   "source": [
    "# 훈련 데이터셋 이용한 평가\n",
    "model_boston.score(train_X, train_y)"
   ]
  },
  {
   "cell_type": "code",
   "execution_count": 64,
   "id": "5622f77c",
   "metadata": {},
   "outputs": [
    {
     "name": "stdout",
     "output_type": "stream",
     "text": [
      "[0.74514558 0.69041499 0.65921423 0.65352445 0.56368183]\n",
      "0.6623962165346965\n"
     ]
    }
   ],
   "source": [
    "from sklearn.model_selection import cross_val_score\n",
    "r2 = cross_val_score(model_boston, train_X, train_y, cv=5)\n",
    "print(r2)\n",
    "print(r2.mean())"
   ]
  },
  {
   "cell_type": "code",
   "execution_count": 68,
   "id": "8b7a490e",
   "metadata": {},
   "outputs": [
    {
     "data": {
      "text/plain": [
       "5.0100207705201605"
      ]
     },
     "execution_count": 68,
     "metadata": {},
     "output_type": "execute_result"
    }
   ],
   "source": [
    "import math\n",
    "from sklearn.metrics import mean_squared_error\n",
    "\n",
    "rmse = math.sqrt(mean_squared_error(train_y, model_boston.predict(train_X)))\n",
    "rmse"
   ]
  },
  {
   "cell_type": "code",
   "execution_count": 69,
   "id": "8a6fdb96",
   "metadata": {},
   "outputs": [
    {
     "data": {
      "text/plain": [
       "array([13.68134948, 14.72822159, 17.56497914, 10.31353767, 18.29252101,\n",
       "       19.85732201, 11.45659558, 21.02304362, 39.01118116, 23.22455551,\n",
       "       19.95149739, 31.0753286 , 20.55149669, 17.07092377, 20.48655937,\n",
       "       20.84775366, 20.69975726, 31.73753104, 21.30012715, 17.72154341,\n",
       "       36.42506667, 30.83327813, 11.60932474, 37.47988163, 13.83746617,\n",
       "       18.02755695, 23.28700537, 18.50683118, 18.75265029, 21.49966669,\n",
       "       20.46156157, 19.20817821, 23.05932703, 36.32511556, 24.97543411,\n",
       "       29.20494467, 20.60895554, 16.15183338, 19.84241368, 36.12506217,\n",
       "       28.54258197,  6.73632825, 40.2437941 , 24.05132374, 23.78055186,\n",
       "       12.10878764, 18.72016966, 14.99773347, 17.60279548, 17.9891877 ,\n",
       "       25.58742536, 34.81417964, 27.35505181, 18.37851025, 14.35066137,\n",
       "       20.30553803, 19.18502872, 20.80972543, 26.12716426, 21.53777508,\n",
       "       15.7667025 , 33.74763347, 33.15282238, 16.15805566, 20.09972979,\n",
       "       31.35370513, 28.68988917, 22.59371961, 22.859353  , 24.05855284,\n",
       "       13.55665892, 33.40609432, 25.62036141,  8.63996439, 16.86632566,\n",
       "        7.00951908, 32.95365062, 22.15106124, 19.2127352 , 33.1960987 ,\n",
       "       12.30609106, 25.44943395, 22.10666149, 17.33394345, 21.25563574,\n",
       "       33.34633854, 13.41074568, 11.75028737, 19.81435776, 31.06659438,\n",
       "       18.83752316, 27.51684491, 19.28099888, 20.51169415, 20.07631258,\n",
       "       37.27614291, 24.18623887, 17.62453087, 26.17872373, 11.25645492,\n",
       "       21.12456425, 32.71120942, 25.63383944, 27.72528964,  3.32229163,\n",
       "       26.26966791,  7.81489536, 21.90044677, 34.68012916, 20.99714763,\n",
       "       35.82266892, 22.85130507, 32.02934321, 28.00531047, 19.94068719,\n",
       "       16.55166379, 24.93640773, 28.83259913, 22.64447573, 24.34310191,\n",
       "       21.45166529, 22.03201654, 15.83009801, 25.07231707, 29.99849396,\n",
       "       15.23116817, 26.77796639, 24.96992332, 16.09682627, 25.06397498,\n",
       "       14.67919053, 16.78540904, 25.75520955, 31.45093166, 32.60368002,\n",
       "       18.35721573, 27.04928305, 19.18175636, 23.23239968, 29.14527342,\n",
       "       22.91656907, 22.53851375, 13.52825746, 19.18602388, 19.65859275,\n",
       "       20.77921416, 24.83018707, 23.09456161, 22.72151831, 16.05357907,\n",
       "       18.61176998, 18.57732084])"
      ]
     },
     "execution_count": 69,
     "metadata": {},
     "output_type": "execute_result"
    }
   ],
   "source": [
    "# 예측하기\n",
    "y_pred = model_boston.predict(test_X)\n",
    "y_pred"
   ]
  },
  {
   "cell_type": "code",
   "execution_count": 70,
   "id": "32dcafe4",
   "metadata": {},
   "outputs": [
    {
     "data": {
      "text/plain": [
       "3.944200878859442"
      ]
     },
     "execution_count": 70,
     "metadata": {},
     "output_type": "execute_result"
    }
   ],
   "source": [
    "# 검증 데이터셋을 이용한 평가\n",
    "rmse_test = math.sqrt(mean_squared_error(test_y, y_pred))\n",
    "rmse_test"
   ]
  },
  {
   "cell_type": "code",
   "execution_count": 71,
   "id": "e301b2d9",
   "metadata": {},
   "outputs": [
    {
     "data": {
      "text/plain": [
       "0.7732420592861823"
      ]
     },
     "execution_count": 71,
     "metadata": {},
     "output_type": "execute_result"
    }
   ],
   "source": [
    "from sklearn.metrics import r2_score\n",
    "r2_score(test_y, y_pred)"
   ]
  },
  {
   "cell_type": "markdown",
   "id": "b51689f3",
   "metadata": {
    "hidden": true
   },
   "source": [
    "### 7.3 다중회귀식의 추정방법"
   ]
  },
  {
   "cell_type": "code",
   "execution_count": 73,
   "id": "0c3e1fd7",
   "metadata": {},
   "outputs": [
    {
     "data": {
      "text/html": [
       "<div>\n",
       "<style scoped>\n",
       "    .dataframe tbody tr th:only-of-type {\n",
       "        vertical-align: middle;\n",
       "    }\n",
       "\n",
       "    .dataframe tbody tr th {\n",
       "        vertical-align: top;\n",
       "    }\n",
       "\n",
       "    .dataframe thead th {\n",
       "        text-align: right;\n",
       "    }\n",
       "</style>\n",
       "<table border=\"1\" class=\"dataframe\">\n",
       "  <thead>\n",
       "    <tr style=\"text-align: right;\">\n",
       "      <th></th>\n",
       "      <th>crim</th>\n",
       "      <th>zn</th>\n",
       "      <th>indus</th>\n",
       "      <th>chas</th>\n",
       "      <th>nox</th>\n",
       "      <th>rm</th>\n",
       "      <th>age</th>\n",
       "      <th>dis</th>\n",
       "      <th>rad</th>\n",
       "      <th>tax</th>\n",
       "      <th>ptratio</th>\n",
       "      <th>black</th>\n",
       "      <th>lstat</th>\n",
       "      <th>medv</th>\n",
       "    </tr>\n",
       "  </thead>\n",
       "  <tbody>\n",
       "    <tr>\n",
       "      <th>0</th>\n",
       "      <td>0.00632</td>\n",
       "      <td>18.0</td>\n",
       "      <td>2.31</td>\n",
       "      <td>0</td>\n",
       "      <td>0.538</td>\n",
       "      <td>6.575</td>\n",
       "      <td>65.2</td>\n",
       "      <td>4.0900</td>\n",
       "      <td>1</td>\n",
       "      <td>296</td>\n",
       "      <td>15.3</td>\n",
       "      <td>396.90</td>\n",
       "      <td>4.98</td>\n",
       "      <td>24.0</td>\n",
       "    </tr>\n",
       "    <tr>\n",
       "      <th>1</th>\n",
       "      <td>0.02731</td>\n",
       "      <td>0.0</td>\n",
       "      <td>7.07</td>\n",
       "      <td>0</td>\n",
       "      <td>0.469</td>\n",
       "      <td>6.421</td>\n",
       "      <td>78.9</td>\n",
       "      <td>4.9671</td>\n",
       "      <td>2</td>\n",
       "      <td>242</td>\n",
       "      <td>17.8</td>\n",
       "      <td>396.90</td>\n",
       "      <td>9.14</td>\n",
       "      <td>21.6</td>\n",
       "    </tr>\n",
       "    <tr>\n",
       "      <th>2</th>\n",
       "      <td>0.02729</td>\n",
       "      <td>0.0</td>\n",
       "      <td>7.07</td>\n",
       "      <td>0</td>\n",
       "      <td>0.469</td>\n",
       "      <td>7.185</td>\n",
       "      <td>61.1</td>\n",
       "      <td>4.9671</td>\n",
       "      <td>2</td>\n",
       "      <td>242</td>\n",
       "      <td>17.8</td>\n",
       "      <td>392.83</td>\n",
       "      <td>4.03</td>\n",
       "      <td>34.7</td>\n",
       "    </tr>\n",
       "    <tr>\n",
       "      <th>3</th>\n",
       "      <td>0.03237</td>\n",
       "      <td>0.0</td>\n",
       "      <td>2.18</td>\n",
       "      <td>0</td>\n",
       "      <td>0.458</td>\n",
       "      <td>6.998</td>\n",
       "      <td>45.8</td>\n",
       "      <td>6.0622</td>\n",
       "      <td>3</td>\n",
       "      <td>222</td>\n",
       "      <td>18.7</td>\n",
       "      <td>394.63</td>\n",
       "      <td>2.94</td>\n",
       "      <td>33.4</td>\n",
       "    </tr>\n",
       "    <tr>\n",
       "      <th>4</th>\n",
       "      <td>0.06905</td>\n",
       "      <td>0.0</td>\n",
       "      <td>2.18</td>\n",
       "      <td>0</td>\n",
       "      <td>0.458</td>\n",
       "      <td>7.147</td>\n",
       "      <td>54.2</td>\n",
       "      <td>6.0622</td>\n",
       "      <td>3</td>\n",
       "      <td>222</td>\n",
       "      <td>18.7</td>\n",
       "      <td>396.90</td>\n",
       "      <td>5.33</td>\n",
       "      <td>36.2</td>\n",
       "    </tr>\n",
       "  </tbody>\n",
       "</table>\n",
       "</div>"
      ],
      "text/plain": [
       "      crim    zn  indus  chas    nox     rm   age     dis  rad  tax  ptratio  \\\n",
       "0  0.00632  18.0   2.31     0  0.538  6.575  65.2  4.0900    1  296     15.3   \n",
       "1  0.02731   0.0   7.07     0  0.469  6.421  78.9  4.9671    2  242     17.8   \n",
       "2  0.02729   0.0   7.07     0  0.469  7.185  61.1  4.9671    2  242     17.8   \n",
       "3  0.03237   0.0   2.18     0  0.458  6.998  45.8  6.0622    3  222     18.7   \n",
       "4  0.06905   0.0   2.18     0  0.458  7.147  54.2  6.0622    3  222     18.7   \n",
       "\n",
       "    black  lstat  medv  \n",
       "0  396.90   4.98  24.0  \n",
       "1  396.90   9.14  21.6  \n",
       "2  392.83   4.03  34.7  \n",
       "3  394.63   2.94  33.4  \n",
       "4  396.90   5.33  36.2  "
      ]
     },
     "execution_count": 73,
     "metadata": {},
     "output_type": "execute_result"
    }
   ],
   "source": [
    "import statsmodels.api as sm\n",
    "\n",
    "boston = sm.datasets.get_rdataset('Boston', package='MASS')\n",
    "boston_df = boston.data\n",
    "boston_df.head()"
   ]
  },
  {
   "cell_type": "code",
   "execution_count": 74,
   "id": "bc34b7e5",
   "metadata": {},
   "outputs": [
    {
     "data": {
      "text/html": [
       "<table class=\"simpletable\">\n",
       "<caption>OLS Regression Results</caption>\n",
       "<tr>\n",
       "  <th>Dep. Variable:</th>          <td>medv</td>       <th>  R-squared:         </th> <td>   0.741</td> \n",
       "</tr>\n",
       "<tr>\n",
       "  <th>Model:</th>                   <td>OLS</td>       <th>  Adj. R-squared:    </th> <td>   0.734</td> \n",
       "</tr>\n",
       "<tr>\n",
       "  <th>Method:</th>             <td>Least Squares</td>  <th>  F-statistic:       </th> <td>   108.1</td> \n",
       "</tr>\n",
       "<tr>\n",
       "  <th>Date:</th>             <td>Sun, 09 Jan 2022</td> <th>  Prob (F-statistic):</th> <td>6.72e-135</td>\n",
       "</tr>\n",
       "<tr>\n",
       "  <th>Time:</th>                 <td>22:08:35</td>     <th>  Log-Likelihood:    </th> <td> -1498.8</td> \n",
       "</tr>\n",
       "<tr>\n",
       "  <th>No. Observations:</th>      <td>   506</td>      <th>  AIC:               </th> <td>   3026.</td> \n",
       "</tr>\n",
       "<tr>\n",
       "  <th>Df Residuals:</th>          <td>   492</td>      <th>  BIC:               </th> <td>   3085.</td> \n",
       "</tr>\n",
       "<tr>\n",
       "  <th>Df Model:</th>              <td>    13</td>      <th>                     </th>     <td> </td>    \n",
       "</tr>\n",
       "<tr>\n",
       "  <th>Covariance Type:</th>      <td>nonrobust</td>    <th>                     </th>     <td> </td>    \n",
       "</tr>\n",
       "</table>\n",
       "<table class=\"simpletable\">\n",
       "<tr>\n",
       "      <td></td>         <th>coef</th>     <th>std err</th>      <th>t</th>      <th>P>|t|</th>  <th>[0.025</th>    <th>0.975]</th>  \n",
       "</tr>\n",
       "<tr>\n",
       "  <th>Intercept</th> <td>   36.4595</td> <td>    5.103</td> <td>    7.144</td> <td> 0.000</td> <td>   26.432</td> <td>   46.487</td>\n",
       "</tr>\n",
       "<tr>\n",
       "  <th>crim</th>      <td>   -0.1080</td> <td>    0.033</td> <td>   -3.287</td> <td> 0.001</td> <td>   -0.173</td> <td>   -0.043</td>\n",
       "</tr>\n",
       "<tr>\n",
       "  <th>zn</th>        <td>    0.0464</td> <td>    0.014</td> <td>    3.382</td> <td> 0.001</td> <td>    0.019</td> <td>    0.073</td>\n",
       "</tr>\n",
       "<tr>\n",
       "  <th>indus</th>     <td>    0.0206</td> <td>    0.061</td> <td>    0.334</td> <td> 0.738</td> <td>   -0.100</td> <td>    0.141</td>\n",
       "</tr>\n",
       "<tr>\n",
       "  <th>chas</th>      <td>    2.6867</td> <td>    0.862</td> <td>    3.118</td> <td> 0.002</td> <td>    0.994</td> <td>    4.380</td>\n",
       "</tr>\n",
       "<tr>\n",
       "  <th>nox</th>       <td>  -17.7666</td> <td>    3.820</td> <td>   -4.651</td> <td> 0.000</td> <td>  -25.272</td> <td>  -10.262</td>\n",
       "</tr>\n",
       "<tr>\n",
       "  <th>rm</th>        <td>    3.8099</td> <td>    0.418</td> <td>    9.116</td> <td> 0.000</td> <td>    2.989</td> <td>    4.631</td>\n",
       "</tr>\n",
       "<tr>\n",
       "  <th>age</th>       <td>    0.0007</td> <td>    0.013</td> <td>    0.052</td> <td> 0.958</td> <td>   -0.025</td> <td>    0.027</td>\n",
       "</tr>\n",
       "<tr>\n",
       "  <th>dis</th>       <td>   -1.4756</td> <td>    0.199</td> <td>   -7.398</td> <td> 0.000</td> <td>   -1.867</td> <td>   -1.084</td>\n",
       "</tr>\n",
       "<tr>\n",
       "  <th>rad</th>       <td>    0.3060</td> <td>    0.066</td> <td>    4.613</td> <td> 0.000</td> <td>    0.176</td> <td>    0.436</td>\n",
       "</tr>\n",
       "<tr>\n",
       "  <th>tax</th>       <td>   -0.0123</td> <td>    0.004</td> <td>   -3.280</td> <td> 0.001</td> <td>   -0.020</td> <td>   -0.005</td>\n",
       "</tr>\n",
       "<tr>\n",
       "  <th>ptratio</th>   <td>   -0.9527</td> <td>    0.131</td> <td>   -7.283</td> <td> 0.000</td> <td>   -1.210</td> <td>   -0.696</td>\n",
       "</tr>\n",
       "<tr>\n",
       "  <th>black</th>     <td>    0.0093</td> <td>    0.003</td> <td>    3.467</td> <td> 0.001</td> <td>    0.004</td> <td>    0.015</td>\n",
       "</tr>\n",
       "<tr>\n",
       "  <th>lstat</th>     <td>   -0.5248</td> <td>    0.051</td> <td>  -10.347</td> <td> 0.000</td> <td>   -0.624</td> <td>   -0.425</td>\n",
       "</tr>\n",
       "</table>\n",
       "<table class=\"simpletable\">\n",
       "<tr>\n",
       "  <th>Omnibus:</th>       <td>178.041</td> <th>  Durbin-Watson:     </th> <td>   1.078</td> \n",
       "</tr>\n",
       "<tr>\n",
       "  <th>Prob(Omnibus):</th> <td> 0.000</td>  <th>  Jarque-Bera (JB):  </th> <td> 783.126</td> \n",
       "</tr>\n",
       "<tr>\n",
       "  <th>Skew:</th>          <td> 1.521</td>  <th>  Prob(JB):          </th> <td>8.84e-171</td>\n",
       "</tr>\n",
       "<tr>\n",
       "  <th>Kurtosis:</th>      <td> 8.281</td>  <th>  Cond. No.          </th> <td>1.51e+04</td> \n",
       "</tr>\n",
       "</table><br/><br/>Notes:<br/>[1] Standard Errors assume that the covariance matrix of the errors is correctly specified.<br/>[2] The condition number is large, 1.51e+04. This might indicate that there are<br/>strong multicollinearity or other numerical problems."
      ],
      "text/plain": [
       "<class 'statsmodels.iolib.summary.Summary'>\n",
       "\"\"\"\n",
       "                            OLS Regression Results                            \n",
       "==============================================================================\n",
       "Dep. Variable:                   medv   R-squared:                       0.741\n",
       "Model:                            OLS   Adj. R-squared:                  0.734\n",
       "Method:                 Least Squares   F-statistic:                     108.1\n",
       "Date:                Sun, 09 Jan 2022   Prob (F-statistic):          6.72e-135\n",
       "Time:                        22:08:35   Log-Likelihood:                -1498.8\n",
       "No. Observations:                 506   AIC:                             3026.\n",
       "Df Residuals:                     492   BIC:                             3085.\n",
       "Df Model:                          13                                         \n",
       "Covariance Type:            nonrobust                                         \n",
       "==============================================================================\n",
       "                 coef    std err          t      P>|t|      [0.025      0.975]\n",
       "------------------------------------------------------------------------------\n",
       "Intercept     36.4595      5.103      7.144      0.000      26.432      46.487\n",
       "crim          -0.1080      0.033     -3.287      0.001      -0.173      -0.043\n",
       "zn             0.0464      0.014      3.382      0.001       0.019       0.073\n",
       "indus          0.0206      0.061      0.334      0.738      -0.100       0.141\n",
       "chas           2.6867      0.862      3.118      0.002       0.994       4.380\n",
       "nox          -17.7666      3.820     -4.651      0.000     -25.272     -10.262\n",
       "rm             3.8099      0.418      9.116      0.000       2.989       4.631\n",
       "age            0.0007      0.013      0.052      0.958      -0.025       0.027\n",
       "dis           -1.4756      0.199     -7.398      0.000      -1.867      -1.084\n",
       "rad            0.3060      0.066      4.613      0.000       0.176       0.436\n",
       "tax           -0.0123      0.004     -3.280      0.001      -0.020      -0.005\n",
       "ptratio       -0.9527      0.131     -7.283      0.000      -1.210      -0.696\n",
       "black          0.0093      0.003      3.467      0.001       0.004       0.015\n",
       "lstat         -0.5248      0.051    -10.347      0.000      -0.624      -0.425\n",
       "==============================================================================\n",
       "Omnibus:                      178.041   Durbin-Watson:                   1.078\n",
       "Prob(Omnibus):                  0.000   Jarque-Bera (JB):              783.126\n",
       "Skew:                           1.521   Prob(JB):                    8.84e-171\n",
       "Kurtosis:                       8.281   Cond. No.                     1.51e+04\n",
       "==============================================================================\n",
       "\n",
       "Notes:\n",
       "[1] Standard Errors assume that the covariance matrix of the errors is correctly specified.\n",
       "[2] The condition number is large, 1.51e+04. This might indicate that there are\n",
       "strong multicollinearity or other numerical problems.\n",
       "\"\"\""
      ]
     },
     "execution_count": 74,
     "metadata": {},
     "output_type": "execute_result"
    }
   ],
   "source": [
    "# 모든 변수를 이용하여 모형 생성하고 요약정보 출력\n",
    "import statsmodels.formula.api as smf\n",
    "formula = 'medv~' + '+'.join(boston_df.iloc[:, :-1].columns)\n",
    "model_boston = smf.ols(formula=formula, data=boston_df).fit()\n",
    "model_boston.summary()"
   ]
  },
  {
   "cell_type": "code",
   "execution_count": 75,
   "id": "682210ad",
   "metadata": {},
   "outputs": [
    {
     "data": {
      "text/html": [
       "<table class=\"simpletable\">\n",
       "<caption>OLS Regression Results</caption>\n",
       "<tr>\n",
       "  <th>Dep. Variable:</th>          <td>medv</td>       <th>  R-squared (uncentered):</th>      <td>   0.932</td> \n",
       "</tr>\n",
       "<tr>\n",
       "  <th>Model:</th>                   <td>OLS</td>       <th>  Adj. R-squared (uncentered):</th> <td>   0.931</td> \n",
       "</tr>\n",
       "<tr>\n",
       "  <th>Method:</th>             <td>Least Squares</td>  <th>  F-statistic:       </th>          <td>   1363.</td> \n",
       "</tr>\n",
       "<tr>\n",
       "  <th>Date:</th>             <td>Sun, 09 Jan 2022</td> <th>  Prob (F-statistic):</th>          <td>5.05e-289</td>\n",
       "</tr>\n",
       "<tr>\n",
       "  <th>Time:</th>                 <td>22:11:11</td>     <th>  Log-Likelihood:    </th>          <td> -1654.6</td> \n",
       "</tr>\n",
       "<tr>\n",
       "  <th>No. Observations:</th>      <td>   506</td>      <th>  AIC:               </th>          <td>   3319.</td> \n",
       "</tr>\n",
       "<tr>\n",
       "  <th>Df Residuals:</th>          <td>   501</td>      <th>  BIC:               </th>          <td>   3340.</td> \n",
       "</tr>\n",
       "<tr>\n",
       "  <th>Df Model:</th>              <td>     5</td>      <th>                     </th>              <td> </td>    \n",
       "</tr>\n",
       "<tr>\n",
       "  <th>Covariance Type:</th>      <td>nonrobust</td>    <th>                     </th>              <td> </td>    \n",
       "</tr>\n",
       "</table>\n",
       "<table class=\"simpletable\">\n",
       "<tr>\n",
       "    <td></td>      <th>coef</th>     <th>std err</th>      <th>t</th>      <th>P>|t|</th>  <th>[0.025</th>    <th>0.975]</th>  \n",
       "</tr>\n",
       "<tr>\n",
       "  <th>rad</th>  <td>   -0.2183</td> <td>    0.037</td> <td>   -5.924</td> <td> 0.000</td> <td>   -0.291</td> <td>   -0.146</td>\n",
       "</tr>\n",
       "<tr>\n",
       "  <th>zn</th>   <td>    0.0161</td> <td>    0.015</td> <td>    1.056</td> <td> 0.291</td> <td>   -0.014</td> <td>    0.046</td>\n",
       "</tr>\n",
       "<tr>\n",
       "  <th>rm</th>   <td>    4.7232</td> <td>    0.147</td> <td>   32.166</td> <td> 0.000</td> <td>    4.435</td> <td>    5.012</td>\n",
       "</tr>\n",
       "<tr>\n",
       "  <th>chas</th> <td>    5.6944</td> <td>    1.128</td> <td>    5.047</td> <td> 0.000</td> <td>    3.478</td> <td>    7.911</td>\n",
       "</tr>\n",
       "<tr>\n",
       "  <th>age</th>  <td>   -0.0792</td> <td>    0.012</td> <td>   -6.358</td> <td> 0.000</td> <td>   -0.104</td> <td>   -0.055</td>\n",
       "</tr>\n",
       "</table>\n",
       "<table class=\"simpletable\">\n",
       "<tr>\n",
       "  <th>Omnibus:</th>       <td>234.375</td> <th>  Durbin-Watson:     </th> <td>   0.708</td> \n",
       "</tr>\n",
       "<tr>\n",
       "  <th>Prob(Omnibus):</th> <td> 0.000</td>  <th>  Jarque-Bera (JB):  </th> <td>1253.471</td> \n",
       "</tr>\n",
       "<tr>\n",
       "  <th>Skew:</th>          <td> 2.008</td>  <th>  Prob(JB):          </th> <td>6.49e-273</td>\n",
       "</tr>\n",
       "<tr>\n",
       "  <th>Kurtosis:</th>      <td> 9.583</td>  <th>  Cond. No.          </th> <td>    299.</td> \n",
       "</tr>\n",
       "</table><br/><br/>Notes:<br/>[1] R² is computed without centering (uncentered) since the model does not contain a constant.<br/>[2] Standard Errors assume that the covariance matrix of the errors is correctly specified."
      ],
      "text/plain": [
       "<class 'statsmodels.iolib.summary.Summary'>\n",
       "\"\"\"\n",
       "                                 OLS Regression Results                                \n",
       "=======================================================================================\n",
       "Dep. Variable:                   medv   R-squared (uncentered):                   0.932\n",
       "Model:                            OLS   Adj. R-squared (uncentered):              0.931\n",
       "Method:                 Least Squares   F-statistic:                              1363.\n",
       "Date:                Sun, 09 Jan 2022   Prob (F-statistic):                   5.05e-289\n",
       "Time:                        22:11:11   Log-Likelihood:                         -1654.6\n",
       "No. Observations:                 506   AIC:                                      3319.\n",
       "Df Residuals:                     501   BIC:                                      3340.\n",
       "Df Model:                           5                                                  \n",
       "Covariance Type:            nonrobust                                                  \n",
       "==============================================================================\n",
       "                 coef    std err          t      P>|t|      [0.025      0.975]\n",
       "------------------------------------------------------------------------------\n",
       "rad           -0.2183      0.037     -5.924      0.000      -0.291      -0.146\n",
       "zn             0.0161      0.015      1.056      0.291      -0.014       0.046\n",
       "rm             4.7232      0.147     32.166      0.000       4.435       5.012\n",
       "chas           5.6944      1.128      5.047      0.000       3.478       7.911\n",
       "age           -0.0792      0.012     -6.358      0.000      -0.104      -0.055\n",
       "==============================================================================\n",
       "Omnibus:                      234.375   Durbin-Watson:                   0.708\n",
       "Prob(Omnibus):                  0.000   Jarque-Bera (JB):             1253.471\n",
       "Skew:                           2.008   Prob(JB):                    6.49e-273\n",
       "Kurtosis:                       9.583   Cond. No.                         299.\n",
       "==============================================================================\n",
       "\n",
       "Notes:\n",
       "[1] R² is computed without centering (uncentered) since the model does not contain a constant.\n",
       "[2] Standard Errors assume that the covariance matrix of the errors is correctly specified.\n",
       "\"\"\""
      ]
     },
     "execution_count": 75,
     "metadata": {},
     "output_type": "execute_result"
    }
   ],
   "source": [
    "formula2 = 'medv~ rad + zn + rm + chas + age -1'\n",
    "model_boston2 = smf.ols(formula=formula2, data=boston_df).fit()\n",
    "model_boston2.summary()"
   ]
  },
  {
   "cell_type": "markdown",
   "id": "f187d926",
   "metadata": {
    "hidden": true
   },
   "source": [
    "### 7.4 상관계수와 결정계수"
   ]
  },
  {
   "cell_type": "markdown",
   "id": "0ff513a6",
   "metadata": {
    "hidden": true
   },
   "source": [
    "### 7.5 회귀분석의 검증 요소들"
   ]
  },
  {
   "cell_type": "code",
   "execution_count": 76,
   "id": "b810f3cd",
   "metadata": {},
   "outputs": [],
   "source": [
    "# 잔차의 정규성\n",
    "y_pred = model_boston2.predict(boston_df)"
   ]
  },
  {
   "cell_type": "code",
   "execution_count": 77,
   "id": "c099d1b9",
   "metadata": {},
   "outputs": [
    {
     "data": {
      "image/png": "[encoded data removed]",
      "text/plain": [
       "<Figure size 432x288 with 1 Axes>"
      ]
     },
     "metadata": {
      "needs_background": "light"
     },
     "output_type": "display_data"
    }
   ],
   "source": [
    "import matplotlib.pyplot as plt\n",
    "%matplotlib inline\n",
    "\n",
    "fig = plt.figure()\n",
    "\n",
    "plt.scatter(boston_df.iloc[:, -1], y_pred)\n",
    "plt.xlabel('Target y')\n",
    "plt.ylabel('Predicted y')\n",
    "plt.title('Prediction vs. Actual')\n",
    "plt.show()"
   ]
  },
  {
   "cell_type": "code",
   "execution_count": 78,
   "id": "d4d22541",
   "metadata": {},
   "outputs": [
    {
     "data": {
      "image/png": "[encoded data removed]",
      "text/plain": [
       "<Figure size 432x288 with 1 Axes>"
      ]
     },
     "metadata": {
      "needs_background": "light"
     },
     "output_type": "display_data"
    }
   ],
   "source": [
    "from scipy import stats\n",
    "\n",
    "fig = plt.figure()\n",
    "res = stats.probplot(y_pred, plot=plt)\n",
    "plt.title('Probability plot')\n",
    "plt.show()"
   ]
  },
  {
   "cell_type": "markdown",
   "id": "ceacc378",
   "metadata": {
    "hidden": true
   },
   "source": [
    "### 7.6 이상치 탐색"
   ]
  },
  {
   "cell_type": "code",
   "execution_count": 89,
   "id": "fdcf3dba",
   "metadata": {},
   "outputs": [
    {
     "data": {
      "text/plain": [
       "506"
      ]
     },
     "execution_count": 89,
     "metadata": {},
     "output_type": "execute_result"
    }
   ],
   "source": [
    "influence = model_boston2.get_influence()\n",
    "leverage = influence.hat_matrix_diag\n",
    "len(leverage)"
   ]
  },
  {
   "cell_type": "code",
   "execution_count": 81,
   "id": "226514a9",
   "metadata": {},
   "outputs": [
    {
     "data": {
      "text/html": [
       "<div>\n",
       "<style scoped>\n",
       "    .dataframe tbody tr th:only-of-type {\n",
       "        vertical-align: middle;\n",
       "    }\n",
       "\n",
       "    .dataframe tbody tr th {\n",
       "        vertical-align: top;\n",
       "    }\n",
       "\n",
       "    .dataframe thead th {\n",
       "        text-align: right;\n",
       "    }\n",
       "</style>\n",
       "<table border=\"1\" class=\"dataframe\">\n",
       "  <thead>\n",
       "    <tr style=\"text-align: right;\">\n",
       "      <th></th>\n",
       "      <th>dfb_rad</th>\n",
       "      <th>dfb_zn</th>\n",
       "      <th>dfb_rm</th>\n",
       "      <th>dfb_chas</th>\n",
       "      <th>dfb_age</th>\n",
       "      <th>cooks_d</th>\n",
       "      <th>standard_resid</th>\n",
       "      <th>hat_diag</th>\n",
       "      <th>dffits_internal</th>\n",
       "      <th>student_resid</th>\n",
       "      <th>dffits</th>\n",
       "    </tr>\n",
       "  </thead>\n",
       "  <tbody>\n",
       "    <tr>\n",
       "      <th>0</th>\n",
       "      <td>0.014158</td>\n",
       "      <td>-0.001691</td>\n",
       "      <td>-0.004468</td>\n",
       "      <td>0.004550</td>\n",
       "      <td>-0.005715</td>\n",
       "      <td>0.000086</td>\n",
       "      <td>-0.307386</td>\n",
       "      <td>0.004518</td>\n",
       "      <td>-0.020708</td>\n",
       "      <td>-0.307108</td>\n",
       "      <td>-0.020689</td>\n",
       "    </tr>\n",
       "    <tr>\n",
       "      <th>1</th>\n",
       "      <td>0.017086</td>\n",
       "      <td>0.006812</td>\n",
       "      <td>-0.005552</td>\n",
       "      <td>0.005430</td>\n",
       "      <td>-0.007745</td>\n",
       "      <td>0.000116</td>\n",
       "      <td>-0.320005</td>\n",
       "      <td>0.005648</td>\n",
       "      <td>-0.024118</td>\n",
       "      <td>-0.319718</td>\n",
       "      <td>-0.024097</td>\n",
       "    </tr>\n",
       "    <tr>\n",
       "      <th>2</th>\n",
       "      <td>-0.037099</td>\n",
       "      <td>-0.048103</td>\n",
       "      <td>0.060999</td>\n",
       "      <td>-0.014854</td>\n",
       "      <td>-0.024080</td>\n",
       "      <td>0.001287</td>\n",
       "      <td>0.947338</td>\n",
       "      <td>0.007118</td>\n",
       "      <td>0.080210</td>\n",
       "      <td>0.947241</td>\n",
       "      <td>0.080201</td>\n",
       "    </tr>\n",
       "    <tr>\n",
       "      <th>3</th>\n",
       "      <td>-0.015222</td>\n",
       "      <td>-0.045586</td>\n",
       "      <td>0.062027</td>\n",
       "      <td>-0.009620</td>\n",
       "      <td>-0.039300</td>\n",
       "      <td>0.000904</td>\n",
       "      <td>0.726654</td>\n",
       "      <td>0.008492</td>\n",
       "      <td>0.067248</td>\n",
       "      <td>0.726311</td>\n",
       "      <td>0.067216</td>\n",
       "    </tr>\n",
       "    <tr>\n",
       "      <th>4</th>\n",
       "      <td>-0.032230</td>\n",
       "      <td>-0.065823</td>\n",
       "      <td>0.086878</td>\n",
       "      <td>-0.016786</td>\n",
       "      <td>-0.047057</td>\n",
       "      <td>0.002031</td>\n",
       "      <td>1.159507</td>\n",
       "      <td>0.007496</td>\n",
       "      <td>0.100766</td>\n",
       "      <td>1.159907</td>\n",
       "      <td>0.100800</td>\n",
       "    </tr>\n",
       "  </tbody>\n",
       "</table>\n",
       "</div>"
      ],
      "text/plain": [
       "    dfb_rad    dfb_zn    dfb_rm  dfb_chas   dfb_age   cooks_d  standard_resid  \\\n",
       "0  0.014158 -0.001691 -0.004468  0.004550 -0.005715  0.000086       -0.307386   \n",
       "1  0.017086  0.006812 -0.005552  0.005430 -0.007745  0.000116       -0.320005   \n",
       "2 -0.037099 -0.048103  0.060999 -0.014854 -0.024080  0.001287        0.947338   \n",
       "3 -0.015222 -0.045586  0.062027 -0.009620 -0.039300  0.000904        0.726654   \n",
       "4 -0.032230 -0.065823  0.086878 -0.016786 -0.047057  0.002031        1.159507   \n",
       "\n",
       "   hat_diag  dffits_internal  student_resid    dffits  \n",
       "0  0.004518        -0.020708      -0.307108 -0.020689  \n",
       "1  0.005648        -0.024118      -0.319718 -0.024097  \n",
       "2  0.007118         0.080210       0.947241  0.080201  \n",
       "3  0.008492         0.067248       0.726311  0.067216  \n",
       "4  0.007496         0.100766       1.159907  0.100800  "
      ]
     },
     "execution_count": 81,
     "metadata": {},
     "output_type": "execute_result"
    }
   ],
   "source": [
    "inf_df = influence.summary_frame()\n",
    "inf_df.head()"
   ]
  },
  {
   "cell_type": "code",
   "execution_count": 82,
   "id": "6ff08b44",
   "metadata": {},
   "outputs": [
    {
     "data": {
      "text/plain": [
       "0     -0.307386\n",
       "1     -0.320005\n",
       "2      0.947338\n",
       "3      0.726654\n",
       "4      1.159507\n",
       "         ...   \n",
       "501   -0.477882\n",
       "502   -0.315476\n",
       "503   -0.254717\n",
       "504   -0.439040\n",
       "505   -1.562010\n",
       "Name: standard_resid, Length: 506, dtype: float64"
      ]
     },
     "execution_count": 82,
     "metadata": {},
     "output_type": "execute_result"
    }
   ],
   "source": [
    "inf_df.standard_resid # 표준화된 잔차"
   ]
  },
  {
   "cell_type": "code",
   "execution_count": 85,
   "id": "bacb5213",
   "metadata": {},
   "outputs": [
    {
     "data": {
      "text/plain": [
       "array([8.57607218e-05, 1.16340057e-04, 1.28671302e-03, 9.04461053e-04,\n",
       "       2.03074066e-03])"
      ]
     },
     "execution_count": 85,
     "metadata": {},
     "output_type": "execute_result"
    }
   ],
   "source": [
    "(c, p) = influence.cooks_distance # 쿡의 거리와 p-value\n",
    "c[:5]"
   ]
  },
  {
   "cell_type": "code",
   "execution_count": 88,
   "id": "6704edac",
   "metadata": {},
   "outputs": [
    {
     "data": {
      "image/png": "[encoded data removed]",
      "text/plain": [
       "<Figure size 432x288 with 1 Axes>"
      ]
     },
     "metadata": {
      "needs_background": "light"
     },
     "output_type": "display_data"
    }
   ],
   "source": [
    "# 레버리지와 표준화된 잔차를 이용한 산점도 그래프\n",
    "import numpy as np\n",
    "from sklearn.linear_model import LinearRegression\n",
    "\n",
    "plt.scatter(influence.hat_matrix_diag, inf_df.standard_resid)\n",
    "\n",
    "fit = np.polyfit(influence.hat_matrix_diag, inf_df.standard_resid, 1)\n",
    "fit_func = np.poly1d(fit)\n",
    "plt.plot(influence.hat_matrix_diag, fit_func(influence.hat_matrix_diag), 'r')\n",
    "\n",
    "plt.xlabel('Leverage')\n",
    "plt.ylabel('Standardized residual')\n",
    "plt.title('Leverage vs. Residual')\n",
    "plt.show()"
   ]
  },
  {
   "cell_type": "markdown",
   "id": "b8f22180",
   "metadata": {
    "hidden": true
   },
   "source": [
    "### 7.7 다중공선성"
   ]
  },
  {
   "cell_type": "code",
   "execution_count": 90,
   "id": "ee5b60e1",
   "metadata": {},
   "outputs": [],
   "source": [
    "# VIF 확인\n",
    "import statsmodels.api as sm\n",
    "boston = sm.datasets.get_rdataset('Boston', package='MASS')\n",
    "boston_df = boston.data"
   ]
  },
  {
   "cell_type": "code",
   "execution_count": 92,
   "id": "d2b0168c",
   "metadata": {},
   "outputs": [],
   "source": [
    "formula = 'medv~' + '+'.join(boston_df.iloc[:-1])"
   ]
  },
  {
   "cell_type": "code",
   "execution_count": 94,
   "id": "b821ce88",
   "metadata": {},
   "outputs": [],
   "source": [
    "from patsy import dmatrices\n",
    "y, X = dmatrices(formula, boston_df, return_type='dataframe')"
   ]
  },
  {
   "cell_type": "code",
   "execution_count": 95,
   "id": "64b6e6f0",
   "metadata": {},
   "outputs": [
    {
     "data": {
      "text/html": [
       "<div>\n",
       "<style scoped>\n",
       "    .dataframe tbody tr th:only-of-type {\n",
       "        vertical-align: middle;\n",
       "    }\n",
       "\n",
       "    .dataframe tbody tr th {\n",
       "        vertical-align: top;\n",
       "    }\n",
       "\n",
       "    .dataframe thead th {\n",
       "        text-align: right;\n",
       "    }\n",
       "</style>\n",
       "<table border=\"1\" class=\"dataframe\">\n",
       "  <thead>\n",
       "    <tr style=\"text-align: right;\">\n",
       "      <th></th>\n",
       "      <th>VIF Factor</th>\n",
       "      <th>features</th>\n",
       "    </tr>\n",
       "  </thead>\n",
       "  <tbody>\n",
       "    <tr>\n",
       "      <th>0</th>\n",
       "      <td>645.977937</td>\n",
       "      <td>Intercept</td>\n",
       "    </tr>\n",
       "    <tr>\n",
       "      <th>10</th>\n",
       "      <td>9.205542</td>\n",
       "      <td>tax</td>\n",
       "    </tr>\n",
       "    <tr>\n",
       "      <th>9</th>\n",
       "      <td>7.808198</td>\n",
       "      <td>rad</td>\n",
       "    </tr>\n",
       "    <tr>\n",
       "      <th>5</th>\n",
       "      <td>4.586920</td>\n",
       "      <td>nox</td>\n",
       "    </tr>\n",
       "    <tr>\n",
       "      <th>8</th>\n",
       "      <td>4.396007</td>\n",
       "      <td>dis</td>\n",
       "    </tr>\n",
       "    <tr>\n",
       "      <th>3</th>\n",
       "      <td>3.992503</td>\n",
       "      <td>indus</td>\n",
       "    </tr>\n",
       "    <tr>\n",
       "      <th>14</th>\n",
       "      <td>3.855684</td>\n",
       "      <td>medv</td>\n",
       "    </tr>\n",
       "    <tr>\n",
       "      <th>13</th>\n",
       "      <td>3.581585</td>\n",
       "      <td>lstat</td>\n",
       "    </tr>\n",
       "    <tr>\n",
       "      <th>7</th>\n",
       "      <td>3.100843</td>\n",
       "      <td>age</td>\n",
       "    </tr>\n",
       "    <tr>\n",
       "      <th>2</th>\n",
       "      <td>2.352186</td>\n",
       "      <td>zn</td>\n",
       "    </tr>\n",
       "    <tr>\n",
       "      <th>6</th>\n",
       "      <td>2.260374</td>\n",
       "      <td>rm</td>\n",
       "    </tr>\n",
       "    <tr>\n",
       "      <th>11</th>\n",
       "      <td>1.993016</td>\n",
       "      <td>ptratio</td>\n",
       "    </tr>\n",
       "    <tr>\n",
       "      <th>1</th>\n",
       "      <td>1.831537</td>\n",
       "      <td>crim</td>\n",
       "    </tr>\n",
       "    <tr>\n",
       "      <th>12</th>\n",
       "      <td>1.381463</td>\n",
       "      <td>black</td>\n",
       "    </tr>\n",
       "    <tr>\n",
       "      <th>4</th>\n",
       "      <td>1.095223</td>\n",
       "      <td>chas</td>\n",
       "    </tr>\n",
       "  </tbody>\n",
       "</table>\n",
       "</div>"
      ],
      "text/plain": [
       "    VIF Factor   features\n",
       "0   645.977937  Intercept\n",
       "10    9.205542        tax\n",
       "9     7.808198        rad\n",
       "5     4.586920        nox\n",
       "8     4.396007        dis\n",
       "3     3.992503      indus\n",
       "14    3.855684       medv\n",
       "13    3.581585      lstat\n",
       "7     3.100843        age\n",
       "2     2.352186         zn\n",
       "6     2.260374         rm\n",
       "11    1.993016    ptratio\n",
       "1     1.831537       crim\n",
       "12    1.381463      black\n",
       "4     1.095223       chas"
      ]
     },
     "execution_count": 95,
     "metadata": {},
     "output_type": "execute_result"
    }
   ],
   "source": [
    "from statsmodels.stats.outliers_influence import variance_inflation_factor\n",
    "vif = pd.DataFrame()\n",
    "vif['VIF Factor'] = [variance_inflation_factor(X.values, i) for i in range(X.shape[1])]\n",
    "vif['features'] = X.columns\n",
    "vif.sort_values('VIF Factor', ascending=False)"
   ]
  },
  {
   "cell_type": "code",
   "execution_count": 96,
   "id": "4089a940",
   "metadata": {},
   "outputs": [],
   "source": [
    "def get_vif(formula, df):\n",
    "    from patsy import dmatrices\n",
    "    y, X = dmatrices(formula, df, return_type='dataframe')\n",
    "\n",
    "    vif = pd.DataFrame()\n",
    "    from statsmodels.stats.outliers_influence import variance_inflation_factor\n",
    "\n",
    "    vif[\"VIF Factor\"] = [variance_inflation_factor(X.values, i) for i in range(X.shape[1])]\n",
    "    vif[\"features\"] = X.columns\n",
    "    vif.sort_values(by=\"VIF Factor\", ascending=False, inplace=True)\n",
    "    \n",
    "    return vif"
   ]
  },
  {
   "cell_type": "code",
   "execution_count": 98,
   "id": "ebae0b33",
   "metadata": {},
   "outputs": [
    {
     "data": {
      "text/html": [
       "<div>\n",
       "<style scoped>\n",
       "    .dataframe tbody tr th:only-of-type {\n",
       "        vertical-align: middle;\n",
       "    }\n",
       "\n",
       "    .dataframe tbody tr th {\n",
       "        vertical-align: top;\n",
       "    }\n",
       "\n",
       "    .dataframe thead th {\n",
       "        text-align: right;\n",
       "    }\n",
       "</style>\n",
       "<table border=\"1\" class=\"dataframe\">\n",
       "  <thead>\n",
       "    <tr style=\"text-align: right;\">\n",
       "      <th></th>\n",
       "      <th>VIF Factor</th>\n",
       "      <th>features</th>\n",
       "    </tr>\n",
       "  </thead>\n",
       "  <tbody>\n",
       "    <tr>\n",
       "      <th>2</th>\n",
       "      <td>6.900077</td>\n",
       "      <td>indus</td>\n",
       "    </tr>\n",
       "    <tr>\n",
       "      <th>6</th>\n",
       "      <td>6.726973</td>\n",
       "      <td>lstat</td>\n",
       "    </tr>\n",
       "    <tr>\n",
       "      <th>5</th>\n",
       "      <td>4.678181</td>\n",
       "      <td>rad</td>\n",
       "    </tr>\n",
       "    <tr>\n",
       "      <th>4</th>\n",
       "      <td>3.968908</td>\n",
       "      <td>dis</td>\n",
       "    </tr>\n",
       "    <tr>\n",
       "      <th>1</th>\n",
       "      <td>2.299351</td>\n",
       "      <td>zn</td>\n",
       "    </tr>\n",
       "    <tr>\n",
       "      <th>0</th>\n",
       "      <td>2.067135</td>\n",
       "      <td>crim</td>\n",
       "    </tr>\n",
       "    <tr>\n",
       "      <th>3</th>\n",
       "      <td>1.086574</td>\n",
       "      <td>chas</td>\n",
       "    </tr>\n",
       "  </tbody>\n",
       "</table>\n",
       "</div>"
      ],
      "text/plain": [
       "   VIF Factor features\n",
       "2    6.900077    indus\n",
       "6    6.726973    lstat\n",
       "5    4.678181      rad\n",
       "4    3.968908      dis\n",
       "1    2.299351       zn\n",
       "0    2.067135     crim\n",
       "3    1.086574     chas"
      ]
     },
     "execution_count": 98,
     "metadata": {},
     "output_type": "execute_result"
    }
   ],
   "source": [
    "feature_cols = list(boston_df.columns[:-1])\n",
    "\n",
    "while True:\n",
    "    formula = 'medv~' + '+'.join(feature_cols) + '-1'\n",
    "    vif = get_vif(formula, boston_df)\n",
    "\n",
    "    if vif.iloc[0, 0] > 10:\n",
    "        feature_cols.remove(vif.iloc[0, 1])\n",
    "    else:\n",
    "        break\n",
    "\n",
    "vif"
   ]
  },
  {
   "cell_type": "markdown",
   "id": "f8fd2af3",
   "metadata": {
    "heading_collapsed": true
   },
   "source": [
    "## 8절. 회귀모형 성능평가"
   ]
  },
  {
   "cell_type": "markdown",
   "id": "d13f4804",
   "metadata": {
    "hidden": true
   },
   "source": [
    "### 8.1 사이킷런의 모형 평가 방법"
   ]
  },
  {
   "cell_type": "code",
   "execution_count": 99,
   "id": "6c3b9f85",
   "metadata": {},
   "outputs": [
    {
     "data": {
      "text/plain": [
       "dict_keys(['explained_variance', 'r2', 'max_error', 'neg_median_absolute_error', 'neg_mean_absolute_error', 'neg_mean_absolute_percentage_error', 'neg_mean_squared_error', 'neg_mean_squared_log_error', 'neg_root_mean_squared_error', 'neg_mean_poisson_deviance', 'neg_mean_gamma_deviance', 'accuracy', 'top_k_accuracy', 'roc_auc', 'roc_auc_ovr', 'roc_auc_ovo', 'roc_auc_ovr_weighted', 'roc_auc_ovo_weighted', 'balanced_accuracy', 'average_precision', 'neg_log_loss', 'neg_brier_score', 'adjusted_rand_score', 'rand_score', 'homogeneity_score', 'completeness_score', 'v_measure_score', 'mutual_info_score', 'adjusted_mutual_info_score', 'normalized_mutual_info_score', 'fowlkes_mallows_score', 'precision', 'precision_macro', 'precision_micro', 'precision_samples', 'precision_weighted', 'recall', 'recall_macro', 'recall_micro', 'recall_samples', 'recall_weighted', 'f1', 'f1_macro', 'f1_micro', 'f1_samples', 'f1_weighted', 'jaccard', 'jaccard_macro', 'jaccard_micro', 'jaccard_samples', 'jaccard_weighted'])"
      ]
     },
     "execution_count": 99,
     "metadata": {},
     "output_type": "execute_result"
    }
   ],
   "source": [
    "# scoring 매개변수 가능 값 탐색\n",
    "from sklearn.metrics import SCORERS\n",
    "SCORERS.keys()"
   ]
  },
  {
   "cell_type": "markdown",
   "id": "43423d1c",
   "metadata": {
    "hidden": true
   },
   "source": [
    "### 8.2 회귀모형 평가를 위한 scoring 속성"
   ]
  },
  {
   "cell_type": "markdown",
   "id": "00022e41",
   "metadata": {
    "hidden": true
   },
   "source": [
    "### 8.3 k-폴드 교차 검증"
   ]
  },
  {
   "cell_type": "markdown",
   "id": "f35a5371",
   "metadata": {
    "hidden": true
   },
   "source": [
    "### 8.4 회귀모형 평가 함수"
   ]
  },
  {
   "cell_type": "code",
   "execution_count": 100,
   "id": "6e56c609",
   "metadata": {},
   "outputs": [],
   "source": [
    "from sklearn import datasets, linear_model\n",
    "from sklearn.model_selection import train_test_split\n",
    "\n",
    "diabetes = datasets.load_diabetes()\n",
    "X = diabetes.data\n",
    "y = diabetes.target\n",
    "\n",
    "train_X, test_X, train_y, test_y = train_test_split(X, y, test_size=0.3)"
   ]
  },
  {
   "cell_type": "code",
   "execution_count": 101,
   "id": "62f45417",
   "metadata": {},
   "outputs": [
    {
     "data": {
      "text/plain": [
       "Lasso()"
      ]
     },
     "execution_count": 101,
     "metadata": {},
     "output_type": "execute_result"
    }
   ],
   "source": [
    "lasso = linear_model.Lasso()\n",
    "model = lasso.fit(train_X, train_y)\n",
    "model"
   ]
  },
  {
   "cell_type": "code",
   "execution_count": 102,
   "id": "e7f6d2c1",
   "metadata": {},
   "outputs": [
    {
     "data": {
      "text/plain": [
       "array([161.35677448, 139.87745539, 130.2351721 , 142.87904817,\n",
       "       143.43453123, 186.09061643, 164.07809371, 202.88797923,\n",
       "       112.49407588, 172.47810123])"
      ]
     },
     "execution_count": 102,
     "metadata": {},
     "output_type": "execute_result"
    }
   ],
   "source": [
    "pred = model.predict(test_X)\n",
    "pred[:10]"
   ]
  },
  {
   "cell_type": "code",
   "execution_count": 106,
   "id": "9316a04e",
   "metadata": {},
   "outputs": [
    {
     "data": {
      "text/plain": [
       "(3395.145022149491, 58.26787298460011)"
      ]
     },
     "execution_count": 106,
     "metadata": {},
     "output_type": "execute_result"
    }
   ],
   "source": [
    "# mean squared error\n",
    "from sklearn.metrics import mean_squared_error\n",
    "import math\n",
    "\n",
    "mse = mean_squared_error(test_y, pred)\n",
    "rmse = math.sqrt(mse)\n",
    "\n",
    "mse, rmse"
   ]
  },
  {
   "cell_type": "code",
   "execution_count": 107,
   "id": "6b999b4c",
   "metadata": {},
   "outputs": [
    {
     "data": {
      "text/plain": [
       "48.71376874620696"
      ]
     },
     "execution_count": 107,
     "metadata": {},
     "output_type": "execute_result"
    }
   ],
   "source": [
    "# mean absolute error\n",
    "from sklearn.metrics import mean_absolute_error\n",
    "mean_absolute_error(test_y, pred)"
   ]
  },
  {
   "cell_type": "code",
   "execution_count": 108,
   "id": "f1c47539",
   "metadata": {},
   "outputs": [
    {
     "data": {
      "text/plain": [
       "0.3737698138762475"
      ]
     },
     "execution_count": 108,
     "metadata": {},
     "output_type": "execute_result"
    }
   ],
   "source": [
    "# explained variance score\n",
    "from sklearn.metrics import explained_variance_score\n",
    "explained_variance_score(test_y, pred)"
   ]
  },
  {
   "cell_type": "code",
   "execution_count": 109,
   "id": "f7c07702",
   "metadata": {},
   "outputs": [
    {
     "data": {
      "text/plain": [
       "0.3670362034718291"
      ]
     },
     "execution_count": 109,
     "metadata": {},
     "output_type": "execute_result"
    }
   ],
   "source": [
    "from sklearn.metrics import r2_score\n",
    "r2_score(test_y, pred)"
   ]
  }
 ],
 "metadata": {
  "interpreter": {
   "hash": "c88dec21746cf2110f30e89a2fb18b0e9386b44c370810919302f55f1825a187"
  },
  "kernelspec": {
   "display_name": "saltlux_lecture",
   "language": "python",
   "name": "python3"
  },
  "language_info": {
   "codemirror_mode": {
    "name": "ipython",
    "version": 3
   },
   "file_extension": ".py",
   "mimetype": "text/x-python",
   "name": "python",
   "nbconvert_exporter": "python",
   "pygments_lexer": "ipython3",
   "version": "3.9.7"
  },
  "toc": {
   "base_numbering": 1,
   "nav_menu": {},
   "number_sections": true,
   "sideBar": true,
   "skip_h1_title": false,
   "title_cell": "Table of Contents",
   "title_sidebar": "Contents",
   "toc_cell": false,
   "toc_position": {
    "height": "calc(100% - 180px)",
    "left": "10px",
    "top": "150px",
    "width": "165px"
   },
   "toc_section_display": true,
   "toc_window_display": true
  }
 },
 "nbformat": 4,
 "nbformat_minor": 5
}
