{
 "cells": [
  {
   "cell_type": "markdown",
   "id": "eef0dbe1",
   "metadata": {
    "heading_collapsed": true
   },
   "source": [
    "## 2절. 분포와 추론"
   ]
  },
  {
   "cell_type": "markdown",
   "id": "cf6b02f7",
   "metadata": {
    "heading_collapsed": true,
    "hidden": true
   },
   "source": [
    "### 2.1 표본과 실험"
   ]
  },
  {
   "cell_type": "markdown",
   "id": "49a228aa",
   "metadata": {
    "heading_collapsed": true,
    "hidden": true
   },
   "source": [
    "### 2.2 분포"
   ]
  },
  {
   "cell_type": "code",
   "execution_count": 1,
   "id": "adace504",
   "metadata": {
    "ExecuteTime": {
     "end_time": "2021-12-06T05:43:30.706695Z",
     "start_time": "2021-12-06T05:43:28.790767Z"
    },
    "hidden": true
   },
   "outputs": [
    {
     "data": {
      "text/plain": [
       "(array([ 1,  1,  6, 14,  0, 16, 25, 20, 12,  5], dtype=int64),\n",
       " array([0. , 0.8, 1.6, 2.4, 3.2, 4. , 4.8, 5.6, 6.4, 7.2, 8. ]))"
      ]
     },
     "execution_count": 1,
     "metadata": {},
     "output_type": "execute_result"
    }
   ],
   "source": [
    "# 이산형 확률분포\n",
    "import numpy as np\n",
    "import matplotlib.pyplot as plt\n",
    "%matplotlib inline\n",
    "\n",
    "np.random.seed(1)\n",
    "\n",
    "binomial = np.random.binomial(10, 0.5, 100)\n",
    "np.histogram(binomial)"
   ]
  },
  {
   "cell_type": "code",
   "execution_count": 2,
   "id": "f2434f06",
   "metadata": {
    "ExecuteTime": {
     "end_time": "2021-12-06T05:44:10.877359Z",
     "start_time": "2021-12-06T05:44:10.568669Z"
    },
    "hidden": true
   },
   "outputs": [
    {
     "data": {
      "image/png": "[encoded data removed]",
      "text/plain": [
       "<Figure size 432x288 with 1 Axes>"
      ]
     },
     "metadata": {
      "needs_background": "light"
     },
     "output_type": "display_data"
    }
   ],
   "source": [
    "# 이항분포\n",
    "plt.hist(binomial, bins=50)\n",
    "plt.show()"
   ]
  },
  {
   "cell_type": "code",
   "execution_count": 4,
   "id": "6f12ab26",
   "metadata": {
    "ExecuteTime": {
     "end_time": "2021-12-06T05:45:36.453570Z",
     "start_time": "2021-12-06T05:45:36.138858Z"
    },
    "hidden": true
   },
   "outputs": [
    {
     "data": {
      "image/png": "[encoded data removed]",
      "text/plain": [
       "<Figure size 432x288 with 1 Axes>"
      ]
     },
     "metadata": {
      "needs_background": "light"
     },
     "output_type": "display_data"
    }
   ],
   "source": [
    "# 베르누이 분포\n",
    "bernoulli = np.random.binomial(1, 0.5, 100)\n",
    "plt.hist(bernoulli, bins=50)\n",
    "plt.show()"
   ]
  },
  {
   "cell_type": "code",
   "execution_count": 5,
   "id": "62298fe3",
   "metadata": {
    "ExecuteTime": {
     "end_time": "2021-12-06T05:47:43.656599Z",
     "start_time": "2021-12-06T05:47:43.440810Z"
    },
    "hidden": true
   },
   "outputs": [
    {
     "data": {
      "image/png": "[encoded data removed]",
      "text/plain": [
       "<Figure size 432x288 with 1 Axes>"
      ]
     },
     "metadata": {
      "needs_background": "light"
     },
     "output_type": "display_data"
    }
   ],
   "source": [
    "# 기하분포\n",
    "geome = np.random.geometric(0.5, 100)\n",
    "plt.hist(geome, bins=50)\n",
    "plt.show()"
   ]
  },
  {
   "cell_type": "code",
   "execution_count": 15,
   "id": "540e3bff",
   "metadata": {
    "ExecuteTime": {
     "end_time": "2021-12-06T05:50:30.983431Z",
     "start_time": "2021-12-06T05:50:30.970493Z"
    },
    "hidden": true
   },
   "outputs": [
    {
     "data": {
      "text/plain": [
       "array([[6, 4, 4, 1, 1, 4]])"
      ]
     },
     "execution_count": 15,
     "metadata": {},
     "output_type": "execute_result"
    }
   ],
   "source": [
    "# 다항 분포\n",
    "multi = np.random.multinomial(n=20, pvals=[1/6.]*6, size=1)\n",
    "multi"
   ]
  },
  {
   "cell_type": "code",
   "execution_count": 16,
   "id": "e69e7a28",
   "metadata": {
    "ExecuteTime": {
     "end_time": "2021-12-06T06:30:30.437160Z",
     "start_time": "2021-12-06T06:30:29.862180Z"
    },
    "hidden": true
   },
   "outputs": [
    {
     "data": {
      "image/png": "[encoded data removed]",
      "text/plain": [
       "<Figure size 432x288 with 1 Axes>"
      ]
     },
     "metadata": {
      "needs_background": "light"
     },
     "output_type": "display_data"
    }
   ],
   "source": [
    "# 연속형 확률분포\n",
    "# 균일분포\n",
    "unif = np.random.uniform(0, 10, 1000)\n",
    "plt.hist(unif, bins=100)\n",
    "plt.show()"
   ]
  },
  {
   "cell_type": "code",
   "execution_count": 17,
   "id": "beec50f6",
   "metadata": {
    "ExecuteTime": {
     "end_time": "2021-12-06T06:37:15.380426Z",
     "start_time": "2021-12-06T06:37:14.863139Z"
    },
    "hidden": true
   },
   "outputs": [
    {
     "data": {
      "image/png": "[encoded data removed]",
      "text/plain": [
       "<Figure size 432x288 with 1 Axes>"
      ]
     },
     "metadata": {
      "needs_background": "light"
     },
     "output_type": "display_data"
    }
   ],
   "source": [
    "# 정규분포\n",
    "norm = np.random.normal(0, 1, 1000)\n",
    "plt.hist(norm, bins=50)\n",
    "plt.show()"
   ]
  },
  {
   "cell_type": "code",
   "execution_count": 18,
   "id": "ab91d253",
   "metadata": {
    "ExecuteTime": {
     "end_time": "2021-12-06T06:38:14.613330Z",
     "start_time": "2021-12-06T06:38:14.325576Z"
    },
    "hidden": true
   },
   "outputs": [
    {
     "data": {
      "image/png": "[encoded data removed]",
      "text/plain": [
       "<Figure size 432x288 with 1 Axes>"
      ]
     },
     "metadata": {
      "needs_background": "light"
     },
     "output_type": "display_data"
    }
   ],
   "source": [
    "# 지수분포\n",
    "expo = np.random.exponential(10, 100)\n",
    "plt.hist(expo, bins=10)\n",
    "plt.show()"
   ]
  },
  {
   "cell_type": "markdown",
   "id": "93a02218",
   "metadata": {
    "heading_collapsed": true,
    "hidden": true
   },
   "source": [
    "### 2.3 추정과 가설검정"
   ]
  },
  {
   "cell_type": "markdown",
   "id": "5401bb29",
   "metadata": {},
   "source": [
    "## 3절. 상관분석"
   ]
  },
  {
   "cell_type": "markdown",
   "id": "3c719660",
   "metadata": {},
   "source": [
    "### 3.1 피어슨 상관계수"
   ]
  },
  {
   "cell_type": "markdown",
   "id": "0c223594",
   "metadata": {},
   "source": [
    "### 3.2 스피어만 상관계수"
   ]
  },
  {
   "cell_type": "markdown",
   "id": "238006bc",
   "metadata": {},
   "source": [
    "### 3.3 상관계수 시각화"
   ]
  },
  {
   "cell_type": "markdown",
   "id": "a7620cba",
   "metadata": {
    "heading_collapsed": true
   },
   "source": [
    "## 4절. 단순 회귀분석"
   ]
  },
  {
   "cell_type": "markdown",
   "id": "54bc5556",
   "metadata": {
    "hidden": true
   },
   "source": [
    "### 4.1 행렬을 이용한 회귀모형 구하기"
   ]
  },
  {
   "cell_type": "markdown",
   "id": "3520de2b",
   "metadata": {
    "hidden": true
   },
   "source": [
    "### 4.2 회귀모형과 예측"
   ]
  },
  {
   "cell_type": "markdown",
   "id": "9eef4c72",
   "metadata": {
    "heading_collapsed": true
   },
   "source": [
    "## 5절. 포뮬러를 이용한 회귀식"
   ]
  },
  {
   "cell_type": "markdown",
   "id": "0884ac65",
   "metadata": {
    "heading_collapsed": true
   },
   "source": [
    "## 6절. 정규화 선형회귀"
   ]
  },
  {
   "cell_type": "markdown",
   "id": "0288c2f2",
   "metadata": {
    "hidden": true
   },
   "source": [
    "### 6.1 정규화 선형회귀모형"
   ]
  },
  {
   "cell_type": "markdown",
   "id": "7a231028",
   "metadata": {
    "hidden": true
   },
   "source": [
    "### 6.2 statsmodels의 정규화 회귀모형"
   ]
  },
  {
   "cell_type": "markdown",
   "id": "ac20f0c0",
   "metadata": {
    "hidden": true
   },
   "source": [
    "### 6.3 Scikit-Learn의 정규화 회귀모형"
   ]
  },
  {
   "cell_type": "markdown",
   "id": "d859ec2c",
   "metadata": {
    "hidden": true
   },
   "source": [
    "### 6.4 Ridge 모형과 Lasso 모형의 차이"
   ]
  },
  {
   "cell_type": "markdown",
   "id": "eff17032",
   "metadata": {
    "heading_collapsed": true
   },
   "source": [
    "## 7절. 다중회귀분석"
   ]
  },
  {
   "cell_type": "markdown",
   "id": "810d7fee",
   "metadata": {
    "hidden": true
   },
   "source": [
    "### 7.1 다중 회귀의 변수 추정"
   ]
  },
  {
   "cell_type": "markdown",
   "id": "808c778a",
   "metadata": {
    "hidden": true
   },
   "source": [
    "### 7.2 다중회귀분석 예"
   ]
  },
  {
   "cell_type": "markdown",
   "id": "b51689f3",
   "metadata": {
    "hidden": true
   },
   "source": [
    "### 7.3 다중회귀식의 추정방법"
   ]
  },
  {
   "cell_type": "markdown",
   "id": "f187d926",
   "metadata": {
    "hidden": true
   },
   "source": [
    "### 7.4 상관계수와 결정계수"
   ]
  },
  {
   "cell_type": "markdown",
   "id": "0ff513a6",
   "metadata": {
    "hidden": true
   },
   "source": [
    "### 7.5 회귀분석의 검증 요소들"
   ]
  },
  {
   "cell_type": "markdown",
   "id": "ceacc378",
   "metadata": {
    "hidden": true
   },
   "source": [
    "### 7.6 이상치 탐색"
   ]
  },
  {
   "cell_type": "markdown",
   "id": "b8f22180",
   "metadata": {
    "hidden": true
   },
   "source": [
    "### 7.7 다중공선성"
   ]
  },
  {
   "cell_type": "markdown",
   "id": "f8fd2af3",
   "metadata": {
    "heading_collapsed": true
   },
   "source": [
    "## 8절. 회귀모형 성능평가"
   ]
  },
  {
   "cell_type": "markdown",
   "id": "d13f4804",
   "metadata": {
    "hidden": true
   },
   "source": [
    "### 8.1 사이킷런의 모형 평가 방법"
   ]
  },
  {
   "cell_type": "markdown",
   "id": "43423d1c",
   "metadata": {
    "hidden": true
   },
   "source": [
    "### 8.2 회귀모형 평가를 위한 scoring 속성"
   ]
  },
  {
   "cell_type": "markdown",
   "id": "00022e41",
   "metadata": {
    "hidden": true
   },
   "source": [
    "### 8.3 k-폴드 교차 검증"
   ]
  },
  {
   "cell_type": "markdown",
   "id": "f35a5371",
   "metadata": {
    "hidden": true
   },
   "source": [
    "### 8.4 회귀모형 평가 함수"
   ]
  }
 ],
 "metadata": {
  "kernelspec": {
   "display_name": "saltlux_lecture",
   "language": "python",
   "name": "saltlux_lecture"
  },
  "language_info": {
   "codemirror_mode": {
    "name": "ipython",
    "version": 3
   },
   "file_extension": ".py",
   "mimetype": "text/x-python",
   "name": "python",
   "nbconvert_exporter": "python",
   "pygments_lexer": "ipython3",
   "version": "3.9.7"
  },
  "toc": {
   "base_numbering": 1,
   "nav_menu": {},
   "number_sections": true,
   "sideBar": true,
   "skip_h1_title": false,
   "title_cell": "Table of Contents",
   "title_sidebar": "Contents",
   "toc_cell": false,
   "toc_position": {
    "height": "calc(100% - 180px)",
    "left": "10px",
    "top": "150px",
    "width": "165px"
   },
   "toc_section_display": true,
   "toc_window_display": true
  }
 },
 "nbformat": 4,
 "nbformat_minor": 5
}
