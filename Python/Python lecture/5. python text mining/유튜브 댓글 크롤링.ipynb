{
 "cells": [
  {
   "cell_type": "code",
   "execution_count": 1,
   "id": "21b50ab1",
   "metadata": {},
   "outputs": [],
   "source": [
    "import time\n",
    "from selenium import webdriver"
   ]
  },
  {
   "cell_type": "code",
   "execution_count": 2,
   "id": "760d10a8",
   "metadata": {},
   "outputs": [
    {
     "name": "stderr",
     "output_type": "stream",
     "text": [
      "C:\\Users\\ameli\\AppData\\Local\\Temp/ipykernel_15184/2632285444.py:4: DeprecationWarning: executable_path has been deprecated, please pass in a Service object\n",
      "  driver = webdriver.Chrome(\"C:/chromedriver\", options=options)\n"
     ]
    }
   ],
   "source": [
    "from selenium.webdriver import ChromeOptions\n",
    "options = ChromeOptions()\n",
    "options.add_argument(\"--start-maximized\")\n",
    "driver = webdriver.Chrome(\"C:/chromedriver\", options=options)"
   ]
  },
  {
   "cell_type": "code",
   "execution_count": 3,
   "id": "7660a3d3",
   "metadata": {},
   "outputs": [],
   "source": [
    "url = \"https://www.youtube.com/watch?v=XrIaJayElnw\"\n",
    "driver.get(url)\n",
    "time.sleep(3)"
   ]
  },
  {
   "cell_type": "code",
   "execution_count": 4,
   "id": "8091a407",
   "metadata": {},
   "outputs": [],
   "source": [
    "last_page_height = driver.execute_script(\"return document.documentElement.scrollHeight\")\n",
    "driver.execute_script(\"window.scrollTo(0, 500);\") # 댓글영역이 조금 보이도록 스크롤\n",
    "time.sleep(1)"
   ]
  },
  {
   "cell_type": "code",
   "execution_count": 5,
   "id": "362bde88",
   "metadata": {},
   "outputs": [
    {
     "name": "stderr",
     "output_type": "stream",
     "text": [
      "C:\\Users\\ameli\\AppData\\Local\\Temp/ipykernel_15184/3373272336.py:1: DeprecationWarning: find_element_by_* commands are deprecated. Please use find_element() instead\n",
      "  driver.find_element_by_css_selector(\"div#icon-label\").click() # 정렬 기준 클릭\n",
      "C:\\Users\\ameli\\AppData\\Local\\Temp/ipykernel_15184/3373272336.py:3: DeprecationWarning: find_element_by_* commands are deprecated. Please use find_element() instead\n",
      "  driver.find_element_by_css_selector(\"a[tabindex='-1'] div.item\").click() # 정렬 기준 > 최근 날자순 클릭\n"
     ]
    }
   ],
   "source": [
    "driver.find_element_by_css_selector(\"div#icon-label\").click() # 정렬 기준 클릭\n",
    "time.sleep(1)\n",
    "driver.find_element_by_css_selector(\"a[tabindex='-1'] div.item\").click() # 정렬 기준 > 최근 날자순 클릭"
   ]
  },
  {
   "cell_type": "code",
   "execution_count": 6,
   "id": "ddc6ccfa",
   "metadata": {},
   "outputs": [
    {
     "name": "stdout",
     "output_type": "stream",
     "text": [
      "2201\n"
     ]
    }
   ],
   "source": [
    "print(last_page_height)"
   ]
  },
  {
   "cell_type": "code",
   "execution_count": 7,
   "id": "69ba5007",
   "metadata": {},
   "outputs": [],
   "source": [
    "import time\n",
    "page_count = 0\n",
    "while True:\n",
    "    scroll_script = \"window.scrollTo(0, document.documentElement.scrollHeight);\"\n",
    "    driver.execute_script(scroll_script)\n",
    "    time.sleep(3)\n",
    "    scroll_height = \"return document.documentElement.scrollHeight\"\n",
    "    new_page_height = driver.execute_script(scroll_height)\n",
    "    \n",
    "    if new_page_height==last_page_height:\n",
    "        break\n",
    "    last_page_height = new_page_height   \n",
    "    \n",
    "    if page_count > 10:\n",
    "        break\n",
    "    else:\n",
    "        page_count += 1\n"
   ]
  },
  {
   "cell_type": "code",
   "execution_count": 8,
   "id": "db3d257a",
   "metadata": {},
   "outputs": [],
   "source": [
    "html_source = driver.page_source\n",
    "driver.close()"
   ]
  },
  {
   "cell_type": "code",
   "execution_count": 9,
   "id": "9448b48e",
   "metadata": {},
   "outputs": [],
   "source": [
    "from bs4 import BeautifulSoup"
   ]
  },
  {
   "cell_type": "code",
   "execution_count": 10,
   "id": "a29347af",
   "metadata": {
    "scrolled": true
   },
   "outputs": [
    {
     "name": "stdout",
     "output_type": "stream",
     "text": [
      "<html style=\"font-size: 10px;font-family: Roboto, Arial, sans-serif;\" lang=\"ko-KR\" system-icons=\"\" t\n"
     ]
    }
   ],
   "source": [
    "print(html_source[:100])"
   ]
  },
  {
   "cell_type": "code",
   "execution_count": 11,
   "id": "aded888f",
   "metadata": {},
   "outputs": [],
   "source": [
    "soup = BeautifulSoup(html_source, \"html.parser\")"
   ]
  },
  {
   "cell_type": "code",
   "execution_count": 12,
   "id": "d3fa9e87",
   "metadata": {},
   "outputs": [
    {
     "data": {
      "text/plain": [
       "194"
      ]
     },
     "execution_count": 12,
     "metadata": {},
     "output_type": "execute_result"
    }
   ],
   "source": [
    "comments = soup.select(\"yt-formatted-string#content-text\")\n",
    "len(comments)"
   ]
  },
  {
   "cell_type": "code",
   "execution_count": 13,
   "id": "ce293bde",
   "metadata": {
    "scrolled": true
   },
   "outputs": [
    {
     "data": {
      "text/plain": [
       "'헬륨을 넣은 지수 목소리 너무 귀여웠어요 🤩'"
      ]
     },
     "execution_count": 13,
     "metadata": {},
     "output_type": "execute_result"
    }
   ],
   "source": [
    "comments[0].text"
   ]
  },
  {
   "cell_type": "code",
   "execution_count": 14,
   "id": "e92a7e7e",
   "metadata": {},
   "outputs": [
    {
     "data": {
      "text/plain": [
       "194"
      ]
     },
     "execution_count": 14,
     "metadata": {},
     "output_type": "execute_result"
    }
   ],
   "source": [
    "users = soup.select(\"a#author-text > span\") # div#header-author a > span\n",
    "len(users)"
   ]
  },
  {
   "cell_type": "code",
   "execution_count": 15,
   "id": "0c087b96",
   "metadata": {},
   "outputs": [
    {
     "data": {
      "text/plain": [
       "'ramesh g'"
      ]
     },
     "execution_count": 15,
     "metadata": {},
     "output_type": "execute_result"
    }
   ],
   "source": [
    "users[0].text.strip() # strip는 텍스트 앞/뒤 공백 제거"
   ]
  },
  {
   "cell_type": "code",
   "execution_count": 16,
   "id": "e1b69560",
   "metadata": {},
   "outputs": [],
   "source": [
    "user_list = [ user.text.strip() for user in users]"
   ]
  },
  {
   "cell_type": "code",
   "execution_count": 17,
   "id": "f1604270",
   "metadata": {},
   "outputs": [],
   "source": [
    "comment_list = [ comment.text.strip() for comment in comments]"
   ]
  },
  {
   "cell_type": "code",
   "execution_count": 18,
   "id": "279a8490",
   "metadata": {},
   "outputs": [],
   "source": [
    "import pandas as pd\n",
    "import numpy as np\n",
    "comment_df = pd.DataFrame(np.c_[user_list, comment_list], columns=[\"user\", \"comment\"])"
   ]
  },
  {
   "cell_type": "code",
   "execution_count": 19,
   "id": "d1a4905a",
   "metadata": {},
   "outputs": [
    {
     "data": {
      "text/html": [
       "<div>\n",
       "<style scoped>\n",
       "    .dataframe tbody tr th:only-of-type {\n",
       "        vertical-align: middle;\n",
       "    }\n",
       "\n",
       "    .dataframe tbody tr th {\n",
       "        vertical-align: top;\n",
       "    }\n",
       "\n",
       "    .dataframe thead th {\n",
       "        text-align: right;\n",
       "    }\n",
       "</style>\n",
       "<table border=\"1\" class=\"dataframe\">\n",
       "  <thead>\n",
       "    <tr style=\"text-align: right;\">\n",
       "      <th></th>\n",
       "      <th>user</th>\n",
       "      <th>comment</th>\n",
       "    </tr>\n",
       "  </thead>\n",
       "  <tbody>\n",
       "    <tr>\n",
       "      <th>0</th>\n",
       "      <td>ramesh g</td>\n",
       "      <td>헬륨을 넣은 지수 목소리 너무 귀여웠어요 🤩</td>\n",
       "    </tr>\n",
       "    <tr>\n",
       "      <th>1</th>\n",
       "      <td>Ali Kaleli</td>\n",
       "      <td>Jensoo and chaelisaa</td>\n",
       "    </tr>\n",
       "    <tr>\n",
       "      <th>2</th>\n",
       "      <td>Ali Kaleli</td>\n",
       "      <td>roséé yeaah</td>\n",
       "    </tr>\n",
       "    <tr>\n",
       "      <th>3</th>\n",
       "      <td>Ali Kaleli</td>\n",
       "      <td>Jisoo unnie 😅</td>\n",
       "    </tr>\n",
       "    <tr>\n",
       "      <th>4</th>\n",
       "      <td>Ali Kaleli</td>\n",
       "      <td>Oh..old</td>\n",
       "    </tr>\n",
       "  </tbody>\n",
       "</table>\n",
       "</div>"
      ],
      "text/plain": [
       "         user                   comment\n",
       "0    ramesh g  헬륨을 넣은 지수 목소리 너무 귀여웠어요 🤩\n",
       "1  Ali Kaleli      Jensoo and chaelisaa\n",
       "2  Ali Kaleli               roséé yeaah\n",
       "3  Ali Kaleli             Jisoo unnie 😅\n",
       "4  Ali Kaleli                   Oh..old"
      ]
     },
     "execution_count": 19,
     "metadata": {},
     "output_type": "execute_result"
    }
   ],
   "source": [
    "comment_df.head()"
   ]
  },
  {
   "cell_type": "code",
   "execution_count": 20,
   "id": "9306d8b8",
   "metadata": {},
   "outputs": [],
   "source": [
    "comment_df.to_csv(\"comment.csv\", encoding=\"utf-8-sig\", index=False)"
   ]
  },
  {
   "cell_type": "code",
   "execution_count": null,
   "id": "bff4043e",
   "metadata": {},
   "outputs": [],
   "source": []
  }
 ],
 "metadata": {
  "kernelspec": {
   "display_name": "Python 3 (ipykernel)",
   "language": "python",
   "name": "python3"
  },
  "language_info": {
   "codemirror_mode": {
    "name": "ipython",
    "version": 3
   },
   "file_extension": ".py",
   "mimetype": "text/x-python",
   "name": "python",
   "nbconvert_exporter": "python",
   "pygments_lexer": "ipython3",
   "version": "3.9.7"
  },
  "toc": {
   "base_numbering": 1,
   "nav_menu": {},
   "number_sections": true,
   "sideBar": true,
   "skip_h1_title": false,
   "title_cell": "Table of Contents",
   "title_sidebar": "Contents",
   "toc_cell": false,
   "toc_position": {},
   "toc_section_display": true,
   "toc_window_display": false
  }
 },
 "nbformat": 4,
 "nbformat_minor": 5
}
