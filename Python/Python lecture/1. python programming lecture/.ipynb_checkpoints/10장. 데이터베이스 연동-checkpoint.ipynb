{
 "cells": [
  {
   "cell_type": "markdown",
   "id": "f7cdfbdc",
   "metadata": {
    "heading_collapsed": true
   },
   "source": [
    "## 1절. SQLite 데이터베이스 연결"
   ]
  },
  {
   "cell_type": "code",
   "execution_count": null,
   "id": "aa83342a",
   "metadata": {
    "ExecuteTime": {
     "end_time": "2021-11-22T00:47:45.510104Z",
     "start_time": "2021-11-22T00:47:45.484728Z"
    },
    "hidden": true
   },
   "outputs": [],
   "source": [
    "import sqlite3\n",
    "sqlite3.sqlite_version"
   ]
  },
  {
   "cell_type": "code",
   "execution_count": null,
   "id": "2b2f6bf9",
   "metadata": {
    "ExecuteTime": {
     "end_time": "2021-11-22T00:47:48.362893Z",
     "start_time": "2021-11-22T00:47:48.353800Z"
    },
    "hidden": true
   },
   "outputs": [],
   "source": [
    "conn = sqlite3.connect('contact.db')\n",
    "cursor = conn.cursor()"
   ]
  },
  {
   "cell_type": "code",
   "execution_count": null,
   "id": "87b96b3d",
   "metadata": {
    "ExecuteTime": {
     "end_time": "2021-11-22T00:44:31.897374Z",
     "start_time": "2021-11-22T00:44:31.591121Z"
    },
    "hidden": true
   },
   "outputs": [],
   "source": [
    "cursor.execute(\"CREATE TABLE contact(name text, age int, email text)\")"
   ]
  },
  {
   "cell_type": "code",
   "execution_count": null,
   "id": "75f87f7a",
   "metadata": {
    "ExecuteTime": {
     "end_time": "2021-11-22T00:44:34.719789Z",
     "start_time": "2021-11-22T00:44:34.698066Z"
    },
    "hidden": true
   },
   "outputs": [],
   "source": [
    "conn.execute(\"INSERT INTO contact VALUES('kim', 30, 'kim@naver.com')\")\n",
    "conn.execute(\"INSERT INTO contact VALUES('lee', 35, 'lee@daum.net')\")\n",
    "conn.execute(\"INSERT INTO contact VALUES('park', 40, 'heo@coderby.com')\")"
   ]
  },
  {
   "cell_type": "code",
   "execution_count": null,
   "id": "9896e7a4",
   "metadata": {
    "ExecuteTime": {
     "end_time": "2021-11-22T00:44:41.801949Z",
     "start_time": "2021-11-22T00:44:41.785686Z"
    },
    "hidden": true
   },
   "outputs": [],
   "source": [
    "conn.commit()"
   ]
  },
  {
   "cell_type": "code",
   "execution_count": null,
   "id": "7dc0ff59",
   "metadata": {
    "ExecuteTime": {
     "end_time": "2021-11-22T00:47:55.632236Z",
     "start_time": "2021-11-22T00:47:55.609811Z"
    },
    "hidden": true
   },
   "outputs": [],
   "source": [
    "cursor.execute(\"SELECT * FROM contact\")\n",
    "for row in cursor:\n",
    "    print(row)"
   ]
  },
  {
   "cell_type": "code",
   "execution_count": null,
   "id": "ae188fac",
   "metadata": {
    "ExecuteTime": {
     "end_time": "2021-11-22T00:47:59.636296Z",
     "start_time": "2021-11-22T00:47:59.620324Z"
    },
    "hidden": true
   },
   "outputs": [],
   "source": [
    "cursor.execute(\"SELECT * FROM contact\")\n",
    "cursor.fetchone()"
   ]
  },
  {
   "cell_type": "code",
   "execution_count": null,
   "id": "7fc33fb6",
   "metadata": {
    "ExecuteTime": {
     "end_time": "2021-11-22T00:48:01.699618Z",
     "start_time": "2021-11-22T00:48:01.681446Z"
    },
    "hidden": true
   },
   "outputs": [],
   "source": [
    "cursor.fetchall()"
   ]
  },
  {
   "cell_type": "code",
   "execution_count": null,
   "id": "8cd92497",
   "metadata": {
    "ExecuteTime": {
     "end_time": "2021-11-22T00:48:21.671054Z",
     "start_time": "2021-11-22T00:48:21.656907Z"
    },
    "hidden": true
   },
   "outputs": [],
   "source": [
    "cursor.execute(\"SELECT * FROM contact WHERE email=?\",\n",
    "(\"heo@coderby.com\",))\n",
    "cursor.fetchall()"
   ]
  },
  {
   "cell_type": "code",
   "execution_count": null,
   "id": "18da34d3",
   "metadata": {
    "ExecuteTime": {
     "end_time": "2021-11-22T00:48:44.012945Z",
     "start_time": "2021-11-22T00:48:43.993484Z"
    },
    "hidden": true
   },
   "outputs": [],
   "source": [
    "user_email = \"heo@coderby.com\"\n",
    "cursor.execute(\"SELECT * FROM contact WHERE email=:email\",\n",
    "{\"email\":user_email})\n",
    "cursor.fetchall()"
   ]
  },
  {
   "cell_type": "markdown",
   "id": "76d15324",
   "metadata": {},
   "source": [
    "## 2절. 오라클 데이터베이스 연결"
   ]
  },
  {
   "cell_type": "code",
   "execution_count": 1,
   "id": "d7d11c92",
   "metadata": {
    "ExecuteTime": {
     "end_time": "2021-11-22T01:26:20.562527Z",
     "start_time": "2021-11-22T01:26:20.527171Z"
    }
   },
   "outputs": [
    {
     "data": {
      "text/plain": [
       "'(DESCRIPTION=(ADDRESS=(PROTOCOL=TCP)(HOST=localhost)(PORT=1521))(CONNECT_DATA=(SID=xe)))'"
      ]
     },
     "execution_count": 1,
     "metadata": {},
     "output_type": "execute_result"
    }
   ],
   "source": [
    "import cx_Oracle\n",
    "\n",
    "oracle_dsn = cx_Oracle.makedsn(host=\"localhost\", port=1521, sid='xe')\n",
    "oracle_dsn"
   ]
  },
  {
   "cell_type": "code",
   "execution_count": 2,
   "id": "43d1ac17",
   "metadata": {
    "ExecuteTime": {
     "end_time": "2021-11-22T01:26:23.263983Z",
     "start_time": "2021-11-22T01:26:22.555425Z"
    }
   },
   "outputs": [
    {
     "data": {
      "text/plain": [
       "<cx_Oracle.Connection to hr@(DESCRIPTION=(ADDRESS=(PROTOCOL=TCP)(HOST=localhost)(PORT=1521))(CONNECT_DATA=(SID=xe)))>"
      ]
     },
     "execution_count": 2,
     "metadata": {},
     "output_type": "execute_result"
    }
   ],
   "source": [
    "conn = cx_Oracle.connect(dsn=oracle_dsn, user='hr', password='hr')\n",
    "conn"
   ]
  },
  {
   "cell_type": "code",
   "execution_count": 3,
   "id": "12da37a3",
   "metadata": {
    "ExecuteTime": {
     "end_time": "2021-11-22T01:26:25.388898Z",
     "start_time": "2021-11-22T01:26:25.354065Z"
    },
    "collapsed": true
   },
   "outputs": [
    {
     "name": "stdout",
     "output_type": "stream",
     "text": [
      "('Ellen', 'Abel')\n",
      "('Sundar', 'Ande')\n",
      "('Mozhe', 'Atkinson')\n",
      "('David', 'Austin')\n",
      "('Hermann', 'Baer')\n",
      "('Shelli', 'Baida')\n",
      "('Amit', 'Banda')\n",
      "('Elizabeth', 'Bates')\n",
      "('Sarah', 'Bell')\n",
      "('David', 'Bernstein')\n",
      "('Laura', 'Bissot')\n",
      "('Harrison', 'Bloom')\n",
      "('Alexis', 'Bull')\n",
      "('Anthony', 'Cabrio')\n",
      "('Gerald', 'Cambrault')\n",
      "('Nanette', 'Cambrault')\n",
      "('John', 'Chen')\n",
      "('Kelly', 'Chung')\n",
      "('Karen', 'Colmenares')\n",
      "('Curtis', 'Davies')\n",
      "('Lex', 'De Haan')\n",
      "('Julia', 'Dellinger')\n",
      "('Jennifer', 'Dilly')\n",
      "('Louise', 'Doran')\n",
      "('Bruce', 'Ernst')\n",
      "('Alberto', 'Errazuriz')\n",
      "('Britney', 'Everett')\n",
      "('Daniel', 'Faviet')\n",
      "('Pat', 'Fay')\n",
      "('Kevin', 'Feeney')\n",
      "('Jean', 'Fleaur')\n",
      "('Tayler', 'Fox')\n",
      "('Adam', 'Fripp')\n",
      "('Timothy', 'Gates')\n",
      "('Ki', 'Gee')\n",
      "('Girard', 'Geoni')\n",
      "('William', 'Gietz')\n",
      "('Douglas', 'Grant')\n",
      "('Kimberely', 'Grant')\n",
      "('Nancy', 'Greenberg')\n",
      "('Danielle', 'Greene')\n",
      "('Peter', 'Hall')\n",
      "('Michael', 'Hartstein')\n",
      "('Shelley', 'Higgins')\n",
      "('Guy', 'Himuro')\n",
      "('Alexander', 'Hunold')\n",
      "('Alyssa', 'Hutton')\n",
      "('Charles', 'Johnson')\n",
      "('Vance', 'Jones')\n",
      "('Payam', 'Kaufling')\n",
      "('Alexander', 'Khoo')\n",
      "('Janette', 'King')\n",
      "('Steven', 'King')\n",
      "('Neena', 'Kochhar')\n",
      "('Sundita', 'Kumar')\n",
      "('Renske', 'Ladwig')\n",
      "('James', 'Landry')\n",
      "('David', 'Lee')\n",
      "('Jack', 'Livingston')\n",
      "('Diana', 'Lorentz')\n",
      "('Jason', 'Mallin')\n",
      "('Steven', 'Markle')\n",
      "('James', 'Marlow')\n",
      "('Mattea', 'Marvins')\n",
      "('Randall', 'Matos')\n",
      "('Susan', 'Mavris')\n",
      "('Samuel', 'McCain')\n",
      "('Allan', 'McEwen')\n",
      "('Irene', 'Mikkilineni')\n",
      "('Kevin', 'Mourgos')\n",
      "('Julia', 'Nayer')\n",
      "('Donald', 'OConnell')\n",
      "('Christopher', 'Olsen')\n",
      "('TJ', 'Olson')\n",
      "('Lisa', 'Ozer')\n",
      "('Karen', 'Partners')\n",
      "('Valli', 'Pataballa')\n",
      "('Joshua', 'Patel')\n",
      "('Randall', 'Perkins')\n",
      "('Hazel', 'Philtanker')\n",
      "('Luis', 'Popp')\n",
      "('Trenna', 'Rajs')\n",
      "('Den', 'Raphaely')\n",
      "('Michael', 'Rogers')\n",
      "('John', 'Russell')\n",
      "('Nandita', 'Sarchand')\n",
      "('Ismael', 'Sciarra')\n",
      "('John', 'Seo')\n",
      "('Sarath', 'Sewall')\n",
      "('Lindsey', 'Smith')\n",
      "('William', 'Smith')\n",
      "('Stephen', 'Stiles')\n",
      "('Martha', 'Sullivan')\n",
      "('Patrick', 'Sully')\n",
      "('Jonathon', 'Taylor')\n",
      "('Winston', 'Taylor')\n",
      "('Sigal', 'Tobias')\n",
      "('Peter', 'Tucker')\n",
      "('Oliver', 'Tuvault')\n",
      "('Jose Manuel', 'Urman')\n",
      "('Peter', 'Vargas')\n",
      "('Clara', 'Vishney')\n",
      "('Shanta', 'Vollman')\n",
      "('Alana', 'Walsh')\n",
      "('Matthew', 'Weiss')\n",
      "('Jennifer', 'Whalen')\n",
      "('Eleni', 'Zlotkey')\n"
     ]
    }
   ],
   "source": [
    "# db searching\n",
    "cursor = conn.cursor()\n",
    "\n",
    "sql = 'select first_name, last_name from employees'\n",
    "cursor.execute(sql)\n",
    "\n",
    "for name in cursor:\n",
    "    print(name)"
   ]
  },
  {
   "cell_type": "code",
   "execution_count": 4,
   "id": "b87b04ac",
   "metadata": {
    "ExecuteTime": {
     "end_time": "2021-11-22T01:26:29.382239Z",
     "start_time": "2021-11-22T01:26:29.350047Z"
    },
    "collapsed": true
   },
   "outputs": [
    {
     "name": "stdout",
     "output_type": "stream",
     "text": [
      "(100, 'Steven', 'King', 'SKING', '515.123.4567', datetime.datetime(2003, 6, 17, 0, 0), 'AD_PRES', 24000.0, None, None, 90)\n",
      "(101, 'Neena', 'Kochhar', 'NKOCHHAR', '515.123.4568', datetime.datetime(2005, 9, 21, 0, 0), 'AD_VP', 17000.0, None, 100, 90)\n",
      "(102, 'Lex', 'De Haan', 'LDEHAAN', '515.123.4569', datetime.datetime(2001, 1, 13, 0, 0), 'AD_VP', 17000.0, None, 100, 90)\n",
      "(103, 'Alexander', 'Hunold', 'AHUNOLD', '590.423.4567', datetime.datetime(2006, 1, 3, 0, 0), 'IT_PROG', 9000.0, None, 102, 60)\n",
      "(104, 'Bruce', 'Ernst', 'BERNST', '590.423.4568', datetime.datetime(2007, 5, 21, 0, 0), 'IT_PROG', 6000.0, None, 103, 60)\n",
      "(105, 'David', 'Austin', 'DAUSTIN', '590.423.4569', datetime.datetime(2005, 6, 25, 0, 0), 'IT_PROG', 4800.0, None, 103, 60)\n",
      "(106, 'Valli', 'Pataballa', 'VPATABAL', '590.423.4560', datetime.datetime(2006, 2, 5, 0, 0), 'IT_PROG', 4800.0, None, 103, 60)\n",
      "(107, 'Diana', 'Lorentz', 'DLORENTZ', '590.423.5567', datetime.datetime(2007, 2, 7, 0, 0), 'IT_PROG', 4200.0, None, 103, 60)\n",
      "(108, 'Nancy', 'Greenberg', 'NGREENBE', '515.124.4569', datetime.datetime(2002, 8, 17, 0, 0), 'FI_MGR', 12008.0, None, 101, 100)\n",
      "(109, 'Daniel', 'Faviet', 'DFAVIET', '515.124.4169', datetime.datetime(2002, 8, 16, 0, 0), 'FI_ACCOUNT', 9000.0, None, 108, 100)\n",
      "(110, 'John', 'Chen', 'JCHEN', '515.124.4269', datetime.datetime(2005, 9, 28, 0, 0), 'FI_ACCOUNT', 8200.0, None, 108, 100)\n",
      "(111, 'Ismael', 'Sciarra', 'ISCIARRA', '515.124.4369', datetime.datetime(2005, 9, 30, 0, 0), 'FI_ACCOUNT', 7700.0, None, 108, 100)\n",
      "(112, 'Jose Manuel', 'Urman', 'JMURMAN', '515.124.4469', datetime.datetime(2006, 3, 7, 0, 0), 'FI_ACCOUNT', 7800.0, None, 108, 100)\n",
      "(113, 'Luis', 'Popp', 'LPOPP', '515.124.4567', datetime.datetime(2007, 12, 7, 0, 0), 'FI_ACCOUNT', 6900.0, None, 108, 100)\n",
      "(114, 'Den', 'Raphaely', 'DRAPHEAL', '515.127.4561', datetime.datetime(2002, 12, 7, 0, 0), 'PU_MAN', 11000.0, None, 100, 30)\n",
      "(115, 'Alexander', 'Khoo', 'AKHOO', '515.127.4562', datetime.datetime(2003, 5, 18, 0, 0), 'PU_CLERK', 3100.0, None, 114, 30)\n",
      "(116, 'Shelli', 'Baida', 'SBAIDA', '515.127.4563', datetime.datetime(2005, 12, 24, 0, 0), 'PU_CLERK', 2900.0, None, 114, 30)\n",
      "(117, 'Sigal', 'Tobias', 'STOBIAS', '515.127.4564', datetime.datetime(2005, 7, 24, 0, 0), 'PU_CLERK', 2800.0, None, 114, 30)\n",
      "(118, 'Guy', 'Himuro', 'GHIMURO', '515.127.4565', datetime.datetime(2006, 11, 15, 0, 0), 'PU_CLERK', 2600.0, None, 114, 30)\n",
      "(119, 'Karen', 'Colmenares', 'KCOLMENA', '515.127.4566', datetime.datetime(2007, 8, 10, 0, 0), 'PU_CLERK', 2500.0, None, 114, 30)\n",
      "(120, 'Matthew', 'Weiss', 'MWEISS', '650.123.1234', datetime.datetime(2004, 7, 18, 0, 0), 'ST_MAN', 8000.0, None, 100, 50)\n",
      "(121, 'Adam', 'Fripp', 'AFRIPP', '650.123.2234', datetime.datetime(2005, 4, 10, 0, 0), 'ST_MAN', 8200.0, None, 100, 50)\n",
      "(122, 'Payam', 'Kaufling', 'PKAUFLIN', '650.123.3234', datetime.datetime(2003, 5, 1, 0, 0), 'ST_MAN', 7900.0, None, 100, 50)\n",
      "(123, 'Shanta', 'Vollman', 'SVOLLMAN', '650.123.4234', datetime.datetime(2005, 10, 10, 0, 0), 'ST_MAN', 6500.0, None, 100, 50)\n",
      "(124, 'Kevin', 'Mourgos', 'KMOURGOS', '650.123.5234', datetime.datetime(2007, 11, 16, 0, 0), 'ST_MAN', 5800.0, None, 100, 50)\n",
      "(125, 'Julia', 'Nayer', 'JNAYER', '650.124.1214', datetime.datetime(2005, 7, 16, 0, 0), 'ST_CLERK', 3200.0, None, 120, 50)\n",
      "(126, 'Irene', 'Mikkilineni', 'IMIKKILI', '650.124.1224', datetime.datetime(2006, 9, 28, 0, 0), 'ST_CLERK', 2700.0, None, 120, 50)\n",
      "(127, 'James', 'Landry', 'JLANDRY', '650.124.1334', datetime.datetime(2007, 1, 14, 0, 0), 'ST_CLERK', 2400.0, None, 120, 50)\n",
      "(128, 'Steven', 'Markle', 'SMARKLE', '650.124.1434', datetime.datetime(2008, 3, 8, 0, 0), 'ST_CLERK', 2200.0, None, 120, 50)\n",
      "(129, 'Laura', 'Bissot', 'LBISSOT', '650.124.5234', datetime.datetime(2005, 8, 20, 0, 0), 'ST_CLERK', 3300.0, None, 121, 50)\n",
      "(130, 'Mozhe', 'Atkinson', 'MATKINSO', '650.124.6234', datetime.datetime(2005, 10, 30, 0, 0), 'ST_CLERK', 2800.0, None, 121, 50)\n",
      "(131, 'James', 'Marlow', 'JAMRLOW', '650.124.7234', datetime.datetime(2005, 2, 16, 0, 0), 'ST_CLERK', 2500.0, None, 121, 50)\n",
      "(132, 'TJ', 'Olson', 'TJOLSON', '650.124.8234', datetime.datetime(2007, 4, 10, 0, 0), 'ST_CLERK', 2100.0, None, 121, 50)\n",
      "(133, 'Jason', 'Mallin', 'JMALLIN', '650.127.1934', datetime.datetime(2004, 6, 14, 0, 0), 'ST_CLERK', 3300.0, None, 122, 50)\n",
      "(134, 'Michael', 'Rogers', 'MROGERS', '650.127.1834', datetime.datetime(2006, 8, 26, 0, 0), 'ST_CLERK', 2900.0, None, 122, 50)\n",
      "(135, 'Ki', 'Gee', 'KGEE', '650.127.1734', datetime.datetime(2007, 12, 12, 0, 0), 'ST_CLERK', 2400.0, None, 122, 50)\n",
      "(136, 'Hazel', 'Philtanker', 'HPHILTAN', '650.127.1634', datetime.datetime(2008, 2, 6, 0, 0), 'ST_CLERK', 2200.0, None, 122, 50)\n",
      "(137, 'Renske', 'Ladwig', 'RLADWIG', '650.121.1234', datetime.datetime(2003, 7, 14, 0, 0), 'ST_CLERK', 3600.0, None, 123, 50)\n",
      "(138, 'Stephen', 'Stiles', 'SSTILES', '650.121.2034', datetime.datetime(2005, 10, 26, 0, 0), 'ST_CLERK', 3200.0, None, 123, 50)\n",
      "(139, 'John', 'Seo', 'JSEO', '650.121.2019', datetime.datetime(2006, 2, 12, 0, 0), 'ST_CLERK', 2700.0, None, 123, 50)\n",
      "(140, 'Joshua', 'Patel', 'JPATEL', '650.121.1834', datetime.datetime(2006, 4, 6, 0, 0), 'ST_CLERK', 2500.0, None, 123, 50)\n",
      "(141, 'Trenna', 'Rajs', 'TRAJS', '650.121.8009', datetime.datetime(2003, 10, 17, 0, 0), 'ST_CLERK', 3500.0, None, 124, 50)\n",
      "(142, 'Curtis', 'Davies', 'CDAVIES', '650.121.2994', datetime.datetime(2005, 1, 29, 0, 0), 'ST_CLERK', 3100.0, None, 124, 50)\n",
      "(143, 'Randall', 'Matos', 'RMATOS', '650.121.2874', datetime.datetime(2006, 3, 15, 0, 0), 'ST_CLERK', 2600.0, None, 124, 50)\n",
      "(144, 'Peter', 'Vargas', 'PVARGAS', '650.121.2004', datetime.datetime(2006, 7, 9, 0, 0), 'ST_CLERK', 2500.0, None, 124, 50)\n",
      "(145, 'John', 'Russell', 'JRUSSEL', '011.44.1344.429268', datetime.datetime(2004, 10, 1, 0, 0), 'SA_MAN', 14000.0, 0.4, 100, 80)\n",
      "(146, 'Karen', 'Partners', 'KPARTNER', '011.44.1344.467268', datetime.datetime(2005, 1, 5, 0, 0), 'SA_MAN', 13500.0, 0.3, 100, 80)\n",
      "(147, 'Alberto', 'Errazuriz', 'AERRAZUR', '011.44.1344.429278', datetime.datetime(2005, 3, 10, 0, 0), 'SA_MAN', 12000.0, 0.3, 100, 80)\n",
      "(148, 'Gerald', 'Cambrault', 'GCAMBRAU', '011.44.1344.619268', datetime.datetime(2007, 10, 15, 0, 0), 'SA_MAN', 11000.0, 0.3, 100, 80)\n",
      "(149, 'Eleni', 'Zlotkey', 'EZLOTKEY', '011.44.1344.429018', datetime.datetime(2008, 1, 29, 0, 0), 'SA_MAN', 10500.0, 0.2, 100, 80)\n",
      "(150, 'Peter', 'Tucker', 'PTUCKER', '011.44.1344.129268', datetime.datetime(2005, 1, 30, 0, 0), 'SA_REP', 10000.0, 0.3, 145, 80)\n",
      "(151, 'David', 'Bernstein', 'DBERNSTE', '011.44.1344.345268', datetime.datetime(2005, 3, 24, 0, 0), 'SA_REP', 9500.0, 0.25, 145, 80)\n",
      "(152, 'Peter', 'Hall', 'PHALL', '011.44.1344.478968', datetime.datetime(2005, 8, 20, 0, 0), 'SA_REP', 9000.0, 0.25, 145, 80)\n",
      "(153, 'Christopher', 'Olsen', 'COLSEN', '011.44.1344.498718', datetime.datetime(2006, 3, 30, 0, 0), 'SA_REP', 8000.0, 0.2, 145, 80)\n",
      "(154, 'Nanette', 'Cambrault', 'NCAMBRAU', '011.44.1344.987668', datetime.datetime(2006, 12, 9, 0, 0), 'SA_REP', 7500.0, 0.2, 145, 80)\n",
      "(155, 'Oliver', 'Tuvault', 'OTUVAULT', '011.44.1344.486508', datetime.datetime(2007, 11, 23, 0, 0), 'SA_REP', 7000.0, 0.15, 145, 80)\n",
      "(156, 'Janette', 'King', 'JKING', '011.44.1345.429268', datetime.datetime(2004, 1, 30, 0, 0), 'SA_REP', 10000.0, 0.35, 146, 80)\n",
      "(157, 'Patrick', 'Sully', 'PSULLY', '011.44.1345.929268', datetime.datetime(2004, 3, 4, 0, 0), 'SA_REP', 9500.0, 0.35, 146, 80)\n",
      "(158, 'Allan', 'McEwen', 'AMCEWEN', '011.44.1345.829268', datetime.datetime(2004, 8, 1, 0, 0), 'SA_REP', 9000.0, 0.35, 146, 80)\n",
      "(159, 'Lindsey', 'Smith', 'LSMITH', '011.44.1345.729268', datetime.datetime(2005, 3, 10, 0, 0), 'SA_REP', 8000.0, 0.3, 146, 80)\n",
      "(160, 'Louise', 'Doran', 'LDORAN', '011.44.1345.629268', datetime.datetime(2005, 12, 15, 0, 0), 'SA_REP', 7500.0, 0.3, 146, 80)\n",
      "(161, 'Sarath', 'Sewall', 'SSEWALL', '011.44.1345.529268', datetime.datetime(2006, 11, 3, 0, 0), 'SA_REP', 7000.0, 0.25, 146, 80)\n",
      "(162, 'Clara', 'Vishney', 'CVISHNEY', '011.44.1346.129268', datetime.datetime(2005, 11, 11, 0, 0), 'SA_REP', 10500.0, 0.25, 147, 80)\n",
      "(163, 'Danielle', 'Greene', 'DGREENE', '011.44.1346.229268', datetime.datetime(2007, 3, 19, 0, 0), 'SA_REP', 9500.0, 0.15, 147, 80)\n",
      "(164, 'Mattea', 'Marvins', 'MMARVINS', '011.44.1346.329268', datetime.datetime(2008, 1, 24, 0, 0), 'SA_REP', 7200.0, 0.1, 147, 80)\n",
      "(165, 'David', 'Lee', 'DLEE', '011.44.1346.529268', datetime.datetime(2008, 2, 23, 0, 0), 'SA_REP', 6800.0, 0.1, 147, 80)\n",
      "(166, 'Sundar', 'Ande', 'SANDE', '011.44.1346.629268', datetime.datetime(2008, 3, 24, 0, 0), 'SA_REP', 6400.0, 0.1, 147, 80)\n",
      "(167, 'Amit', 'Banda', 'ABANDA', '011.44.1346.729268', datetime.datetime(2008, 4, 21, 0, 0), 'SA_REP', 6200.0, 0.1, 147, 80)\n",
      "(168, 'Lisa', 'Ozer', 'LOZER', '011.44.1343.929268', datetime.datetime(2005, 3, 11, 0, 0), 'SA_REP', 11500.0, 0.25, 148, 80)\n",
      "(169, 'Harrison', 'Bloom', 'HBLOOM', '011.44.1343.829268', datetime.datetime(2006, 3, 23, 0, 0), 'SA_REP', 10000.0, 0.2, 148, 80)\n",
      "(170, 'Tayler', 'Fox', 'TFOX', '011.44.1343.729268', datetime.datetime(2006, 1, 24, 0, 0), 'SA_REP', 9600.0, 0.2, 148, 80)\n",
      "(171, 'William', 'Smith', 'WSMITH', '011.44.1343.629268', datetime.datetime(2007, 2, 23, 0, 0), 'SA_REP', 7400.0, 0.15, 148, 80)\n",
      "(172, 'Elizabeth', 'Bates', 'EBATES', '011.44.1343.529268', datetime.datetime(2007, 3, 24, 0, 0), 'SA_REP', 7300.0, 0.15, 148, 80)\n",
      "(173, 'Sundita', 'Kumar', 'SKUMAR', '011.44.1343.329268', datetime.datetime(2008, 4, 21, 0, 0), 'SA_REP', 6100.0, 0.1, 148, 80)\n",
      "(174, 'Ellen', 'Abel', 'EABEL', '011.44.1644.429267', datetime.datetime(2004, 5, 11, 0, 0), 'SA_REP', 11000.0, 0.3, 149, 80)\n",
      "(175, 'Alyssa', 'Hutton', 'AHUTTON', '011.44.1644.429266', datetime.datetime(2005, 3, 19, 0, 0), 'SA_REP', 8800.0, 0.25, 149, 80)\n",
      "(176, 'Jonathon', 'Taylor', 'JTAYLOR', '011.44.1644.429265', datetime.datetime(2006, 3, 24, 0, 0), 'SA_REP', 8600.0, 0.2, 149, 80)\n",
      "(177, 'Jack', 'Livingston', 'JLIVINGS', '011.44.1644.429264', datetime.datetime(2006, 4, 23, 0, 0), 'SA_REP', 8400.0, 0.2, 149, 80)\n",
      "(178, 'Kimberely', 'Grant', 'KGRANT', '011.44.1644.429263', datetime.datetime(2007, 5, 24, 0, 0), 'SA_REP', 7000.0, 0.15, 149, None)\n",
      "(179, 'Charles', 'Johnson', 'CJOHNSON', '011.44.1644.429262', datetime.datetime(2008, 1, 4, 0, 0), 'SA_REP', 6200.0, 0.1, 149, 80)\n",
      "(180, 'Winston', 'Taylor', 'WTAYLOR', '650.507.9876', datetime.datetime(2006, 1, 24, 0, 0), 'SH_CLERK', 3200.0, None, 120, 50)\n",
      "(181, 'Jean', 'Fleaur', 'JFLEAUR', '650.507.9877', datetime.datetime(2006, 2, 23, 0, 0), 'SH_CLERK', 3100.0, None, 120, 50)\n",
      "(182, 'Martha', 'Sullivan', 'MSULLIVA', '650.507.9878', datetime.datetime(2007, 6, 21, 0, 0), 'SH_CLERK', 2500.0, None, 120, 50)\n",
      "(183, 'Girard', 'Geoni', 'GGEONI', '650.507.9879', datetime.datetime(2008, 2, 3, 0, 0), 'SH_CLERK', 2800.0, None, 120, 50)\n",
      "(184, 'Nandita', 'Sarchand', 'NSARCHAN', '650.509.1876', datetime.datetime(2004, 1, 27, 0, 0), 'SH_CLERK', 4200.0, None, 121, 50)\n",
      "(185, 'Alexis', 'Bull', 'ABULL', '650.509.2876', datetime.datetime(2005, 2, 20, 0, 0), 'SH_CLERK', 4100.0, None, 121, 50)\n",
      "(186, 'Julia', 'Dellinger', 'JDELLING', '650.509.3876', datetime.datetime(2006, 6, 24, 0, 0), 'SH_CLERK', 3400.0, None, 121, 50)\n",
      "(187, 'Anthony', 'Cabrio', 'ACABRIO', '650.509.4876', datetime.datetime(2007, 2, 7, 0, 0), 'SH_CLERK', 3000.0, None, 121, 50)\n",
      "(188, 'Kelly', 'Chung', 'KCHUNG', '650.505.1876', datetime.datetime(2005, 6, 14, 0, 0), 'SH_CLERK', 3800.0, None, 122, 50)\n",
      "(189, 'Jennifer', 'Dilly', 'JDILLY', '650.505.2876', datetime.datetime(2005, 8, 13, 0, 0), 'SH_CLERK', 3600.0, None, 122, 50)\n",
      "(190, 'Timothy', 'Gates', 'TGATES', '650.505.3876', datetime.datetime(2006, 7, 11, 0, 0), 'SH_CLERK', 2900.0, None, 122, 50)\n",
      "(191, 'Randall', 'Perkins', 'RPERKINS', '650.505.4876', datetime.datetime(2007, 12, 19, 0, 0), 'SH_CLERK', 2500.0, None, 122, 50)\n",
      "(192, 'Sarah', 'Bell', 'SBELL', '650.501.1876', datetime.datetime(2004, 2, 4, 0, 0), 'SH_CLERK', 4000.0, None, 123, 50)\n",
      "(193, 'Britney', 'Everett', 'BEVERETT', '650.501.2876', datetime.datetime(2005, 3, 3, 0, 0), 'SH_CLERK', 3900.0, None, 123, 50)\n",
      "(194, 'Samuel', 'McCain', 'SMCCAIN', '650.501.3876', datetime.datetime(2006, 7, 1, 0, 0), 'SH_CLERK', 3200.0, None, 123, 50)\n",
      "(195, 'Vance', 'Jones', 'VJONES', '650.501.4876', datetime.datetime(2007, 3, 17, 0, 0), 'SH_CLERK', 2800.0, None, 123, 50)\n",
      "(196, 'Alana', 'Walsh', 'AWALSH', '650.507.9811', datetime.datetime(2006, 4, 24, 0, 0), 'SH_CLERK', 3100.0, None, 124, 50)\n",
      "(197, 'Kevin', 'Feeney', 'KFEENEY', '650.507.9822', datetime.datetime(2006, 5, 23, 0, 0), 'SH_CLERK', 3000.0, None, 124, 50)\n",
      "(198, 'Donald', 'OConnell', 'DOCONNEL', '650.507.9833', datetime.datetime(2007, 6, 21, 0, 0), 'SH_CLERK', 2600.0, None, 124, 50)\n",
      "(199, 'Douglas', 'Grant', 'DGRANT', '650.507.9844', datetime.datetime(2008, 1, 13, 0, 0), 'SH_CLERK', 2600.0, None, 124, 50)\n",
      "(200, 'Jennifer', 'Whalen', 'JWHALEN', '515.123.4444', datetime.datetime(2003, 9, 17, 0, 0), 'AD_ASST', 4400.0, None, 101, 10)\n",
      "(201, 'Michael', 'Hartstein', 'MHARTSTE', '515.123.5555', datetime.datetime(2004, 2, 17, 0, 0), 'MK_MAN', 13000.0, None, 100, 20)\n",
      "(202, 'Pat', 'Fay', 'PFAY', '603.123.6666', datetime.datetime(2005, 8, 17, 0, 0), 'MK_REP', 6000.0, None, 201, 20)\n",
      "(203, 'Susan', 'Mavris', 'SMAVRIS', '515.123.7777', datetime.datetime(2002, 6, 7, 0, 0), 'HR_REP', 6500.0, None, 101, 40)\n",
      "(204, 'Hermann', 'Baer', 'HBAER', '515.123.8888', datetime.datetime(2002, 6, 7, 0, 0), 'PR_REP', 10000.0, None, 101, 70)\n",
      "(205, 'Shelley', 'Higgins', 'SHIGGINS', '515.123.8080', datetime.datetime(2002, 6, 7, 0, 0), 'AC_MGR', 12008.0, None, 101, 110)\n",
      "(206, 'William', 'Gietz', 'WGIETZ', '515.123.8181', datetime.datetime(2002, 6, 7, 0, 0), 'AC_ACCOUNT', 8300.0, None, 205, 110)\n"
     ]
    }
   ],
   "source": [
    "cursor.execute('select * from employees')\n",
    "for emp in cursor:\n",
    "    print(emp)"
   ]
  },
  {
   "cell_type": "code",
   "execution_count": 5,
   "id": "b1c17a00",
   "metadata": {
    "ExecuteTime": {
     "end_time": "2021-11-22T01:26:32.755968Z",
     "start_time": "2021-11-22T01:26:32.737100Z"
    },
    "collapsed": true
   },
   "outputs": [
    {
     "name": "stdout",
     "output_type": "stream",
     "text": [
      "(120, 'Matthew', 'Weiss', 'MWEISS', '650.123.1234', datetime.datetime(2004, 7, 18, 0, 0), 'ST_MAN', 8000.0, None, 100, 50)\n",
      "(121, 'Adam', 'Fripp', 'AFRIPP', '650.123.2234', datetime.datetime(2005, 4, 10, 0, 0), 'ST_MAN', 8200.0, None, 100, 50)\n",
      "(122, 'Payam', 'Kaufling', 'PKAUFLIN', '650.123.3234', datetime.datetime(2003, 5, 1, 0, 0), 'ST_MAN', 7900.0, None, 100, 50)\n",
      "(123, 'Shanta', 'Vollman', 'SVOLLMAN', '650.123.4234', datetime.datetime(2005, 10, 10, 0, 0), 'ST_MAN', 6500.0, None, 100, 50)\n",
      "(124, 'Kevin', 'Mourgos', 'KMOURGOS', '650.123.5234', datetime.datetime(2007, 11, 16, 0, 0), 'ST_MAN', 5800.0, None, 100, 50)\n",
      "(125, 'Julia', 'Nayer', 'JNAYER', '650.124.1214', datetime.datetime(2005, 7, 16, 0, 0), 'ST_CLERK', 3200.0, None, 120, 50)\n",
      "(126, 'Irene', 'Mikkilineni', 'IMIKKILI', '650.124.1224', datetime.datetime(2006, 9, 28, 0, 0), 'ST_CLERK', 2700.0, None, 120, 50)\n",
      "(127, 'James', 'Landry', 'JLANDRY', '650.124.1334', datetime.datetime(2007, 1, 14, 0, 0), 'ST_CLERK', 2400.0, None, 120, 50)\n",
      "(128, 'Steven', 'Markle', 'SMARKLE', '650.124.1434', datetime.datetime(2008, 3, 8, 0, 0), 'ST_CLERK', 2200.0, None, 120, 50)\n",
      "(129, 'Laura', 'Bissot', 'LBISSOT', '650.124.5234', datetime.datetime(2005, 8, 20, 0, 0), 'ST_CLERK', 3300.0, None, 121, 50)\n",
      "(130, 'Mozhe', 'Atkinson', 'MATKINSO', '650.124.6234', datetime.datetime(2005, 10, 30, 0, 0), 'ST_CLERK', 2800.0, None, 121, 50)\n",
      "(131, 'James', 'Marlow', 'JAMRLOW', '650.124.7234', datetime.datetime(2005, 2, 16, 0, 0), 'ST_CLERK', 2500.0, None, 121, 50)\n",
      "(132, 'TJ', 'Olson', 'TJOLSON', '650.124.8234', datetime.datetime(2007, 4, 10, 0, 0), 'ST_CLERK', 2100.0, None, 121, 50)\n",
      "(133, 'Jason', 'Mallin', 'JMALLIN', '650.127.1934', datetime.datetime(2004, 6, 14, 0, 0), 'ST_CLERK', 3300.0, None, 122, 50)\n",
      "(134, 'Michael', 'Rogers', 'MROGERS', '650.127.1834', datetime.datetime(2006, 8, 26, 0, 0), 'ST_CLERK', 2900.0, None, 122, 50)\n",
      "(135, 'Ki', 'Gee', 'KGEE', '650.127.1734', datetime.datetime(2007, 12, 12, 0, 0), 'ST_CLERK', 2400.0, None, 122, 50)\n",
      "(136, 'Hazel', 'Philtanker', 'HPHILTAN', '650.127.1634', datetime.datetime(2008, 2, 6, 0, 0), 'ST_CLERK', 2200.0, None, 122, 50)\n",
      "(137, 'Renske', 'Ladwig', 'RLADWIG', '650.121.1234', datetime.datetime(2003, 7, 14, 0, 0), 'ST_CLERK', 3600.0, None, 123, 50)\n",
      "(138, 'Stephen', 'Stiles', 'SSTILES', '650.121.2034', datetime.datetime(2005, 10, 26, 0, 0), 'ST_CLERK', 3200.0, None, 123, 50)\n",
      "(139, 'John', 'Seo', 'JSEO', '650.121.2019', datetime.datetime(2006, 2, 12, 0, 0), 'ST_CLERK', 2700.0, None, 123, 50)\n",
      "(140, 'Joshua', 'Patel', 'JPATEL', '650.121.1834', datetime.datetime(2006, 4, 6, 0, 0), 'ST_CLERK', 2500.0, None, 123, 50)\n",
      "(141, 'Trenna', 'Rajs', 'TRAJS', '650.121.8009', datetime.datetime(2003, 10, 17, 0, 0), 'ST_CLERK', 3500.0, None, 124, 50)\n",
      "(142, 'Curtis', 'Davies', 'CDAVIES', '650.121.2994', datetime.datetime(2005, 1, 29, 0, 0), 'ST_CLERK', 3100.0, None, 124, 50)\n",
      "(143, 'Randall', 'Matos', 'RMATOS', '650.121.2874', datetime.datetime(2006, 3, 15, 0, 0), 'ST_CLERK', 2600.0, None, 124, 50)\n",
      "(144, 'Peter', 'Vargas', 'PVARGAS', '650.121.2004', datetime.datetime(2006, 7, 9, 0, 0), 'ST_CLERK', 2500.0, None, 124, 50)\n",
      "(180, 'Winston', 'Taylor', 'WTAYLOR', '650.507.9876', datetime.datetime(2006, 1, 24, 0, 0), 'SH_CLERK', 3200.0, None, 120, 50)\n",
      "(181, 'Jean', 'Fleaur', 'JFLEAUR', '650.507.9877', datetime.datetime(2006, 2, 23, 0, 0), 'SH_CLERK', 3100.0, None, 120, 50)\n",
      "(182, 'Martha', 'Sullivan', 'MSULLIVA', '650.507.9878', datetime.datetime(2007, 6, 21, 0, 0), 'SH_CLERK', 2500.0, None, 120, 50)\n",
      "(183, 'Girard', 'Geoni', 'GGEONI', '650.507.9879', datetime.datetime(2008, 2, 3, 0, 0), 'SH_CLERK', 2800.0, None, 120, 50)\n",
      "(184, 'Nandita', 'Sarchand', 'NSARCHAN', '650.509.1876', datetime.datetime(2004, 1, 27, 0, 0), 'SH_CLERK', 4200.0, None, 121, 50)\n",
      "(185, 'Alexis', 'Bull', 'ABULL', '650.509.2876', datetime.datetime(2005, 2, 20, 0, 0), 'SH_CLERK', 4100.0, None, 121, 50)\n",
      "(186, 'Julia', 'Dellinger', 'JDELLING', '650.509.3876', datetime.datetime(2006, 6, 24, 0, 0), 'SH_CLERK', 3400.0, None, 121, 50)\n",
      "(187, 'Anthony', 'Cabrio', 'ACABRIO', '650.509.4876', datetime.datetime(2007, 2, 7, 0, 0), 'SH_CLERK', 3000.0, None, 121, 50)\n",
      "(188, 'Kelly', 'Chung', 'KCHUNG', '650.505.1876', datetime.datetime(2005, 6, 14, 0, 0), 'SH_CLERK', 3800.0, None, 122, 50)\n",
      "(189, 'Jennifer', 'Dilly', 'JDILLY', '650.505.2876', datetime.datetime(2005, 8, 13, 0, 0), 'SH_CLERK', 3600.0, None, 122, 50)\n",
      "(190, 'Timothy', 'Gates', 'TGATES', '650.505.3876', datetime.datetime(2006, 7, 11, 0, 0), 'SH_CLERK', 2900.0, None, 122, 50)\n",
      "(191, 'Randall', 'Perkins', 'RPERKINS', '650.505.4876', datetime.datetime(2007, 12, 19, 0, 0), 'SH_CLERK', 2500.0, None, 122, 50)\n",
      "(192, 'Sarah', 'Bell', 'SBELL', '650.501.1876', datetime.datetime(2004, 2, 4, 0, 0), 'SH_CLERK', 4000.0, None, 123, 50)\n",
      "(193, 'Britney', 'Everett', 'BEVERETT', '650.501.2876', datetime.datetime(2005, 3, 3, 0, 0), 'SH_CLERK', 3900.0, None, 123, 50)\n",
      "(194, 'Samuel', 'McCain', 'SMCCAIN', '650.501.3876', datetime.datetime(2006, 7, 1, 0, 0), 'SH_CLERK', 3200.0, None, 123, 50)\n",
      "(195, 'Vance', 'Jones', 'VJONES', '650.501.4876', datetime.datetime(2007, 3, 17, 0, 0), 'SH_CLERK', 2800.0, None, 123, 50)\n",
      "(196, 'Alana', 'Walsh', 'AWALSH', '650.507.9811', datetime.datetime(2006, 4, 24, 0, 0), 'SH_CLERK', 3100.0, None, 124, 50)\n",
      "(197, 'Kevin', 'Feeney', 'KFEENEY', '650.507.9822', datetime.datetime(2006, 5, 23, 0, 0), 'SH_CLERK', 3000.0, None, 124, 50)\n",
      "(198, 'Donald', 'OConnell', 'DOCONNEL', '650.507.9833', datetime.datetime(2007, 6, 21, 0, 0), 'SH_CLERK', 2600.0, None, 124, 50)\n",
      "(199, 'Douglas', 'Grant', 'DGRANT', '650.507.9844', datetime.datetime(2008, 1, 13, 0, 0), 'SH_CLERK', 2600.0, None, 124, 50)\n"
     ]
    }
   ],
   "source": [
    "cursor.execute(\"select * from employees where department_id=:dept_id\",{'dept_id':50})\n",
    "for emp in cursor:\n",
    "    print(emp)"
   ]
  },
  {
   "cell_type": "code",
   "execution_count": 6,
   "id": "507bf291",
   "metadata": {
    "ExecuteTime": {
     "end_time": "2021-11-22T01:26:35.949252Z",
     "start_time": "2021-11-22T01:26:35.927162Z"
    },
    "collapsed": true
   },
   "outputs": [
    {
     "name": "stdout",
     "output_type": "stream",
     "text": [
      "(141, 'Trenna', 'Rajs', 'TRAJS', '650.121.8009', datetime.datetime(2003, 10, 17, 0, 0), 'ST_CLERK', 3500.0, None, 124, 50)\n",
      "(142, 'Curtis', 'Davies', 'CDAVIES', '650.121.2994', datetime.datetime(2005, 1, 29, 0, 0), 'ST_CLERK', 3100.0, None, 124, 50)\n",
      "(143, 'Randall', 'Matos', 'RMATOS', '650.121.2874', datetime.datetime(2006, 3, 15, 0, 0), 'ST_CLERK', 2600.0, None, 124, 50)\n",
      "(144, 'Peter', 'Vargas', 'PVARGAS', '650.121.2004', datetime.datetime(2006, 7, 9, 0, 0), 'ST_CLERK', 2500.0, None, 124, 50)\n",
      "(196, 'Alana', 'Walsh', 'AWALSH', '650.507.9811', datetime.datetime(2006, 4, 24, 0, 0), 'SH_CLERK', 3100.0, None, 124, 50)\n",
      "(197, 'Kevin', 'Feeney', 'KFEENEY', '650.507.9822', datetime.datetime(2006, 5, 23, 0, 0), 'SH_CLERK', 3000.0, None, 124, 50)\n",
      "(198, 'Donald', 'OConnell', 'DOCONNEL', '650.507.9833', datetime.datetime(2007, 6, 21, 0, 0), 'SH_CLERK', 2600.0, None, 124, 50)\n",
      "(199, 'Douglas', 'Grant', 'DGRANT', '650.507.9844', datetime.datetime(2008, 1, 13, 0, 0), 'SH_CLERK', 2600.0, None, 124, 50)\n"
     ]
    }
   ],
   "source": [
    "params = {\"dept_id\":50, \"mgr_id\":124}\n",
    "cursor.execute(\"\"\"select * from employees\n",
    "where department_id=:dept_id and manager_id=:mgr_id\"\"\", **params)\n",
    "\n",
    "for emp in cursor:\n",
    "    print(emp)"
   ]
  },
  {
   "cell_type": "code",
   "execution_count": 7,
   "id": "3d53edaf",
   "metadata": {
    "ExecuteTime": {
     "end_time": "2021-11-22T01:27:45.060818Z",
     "start_time": "2021-11-22T01:27:45.025396Z"
    }
   },
   "outputs": [
    {
     "data": {
      "text/plain": [
       "107"
      ]
     },
     "execution_count": 7,
     "metadata": {},
     "output_type": "execute_result"
    }
   ],
   "source": [
    "cursor.execute('select * from employees')\n",
    "\n",
    "from pandas import DataFrame\n",
    "emp_df = DataFrame(cursor.fetchall())\n",
    "cursor.rowcount"
   ]
  },
  {
   "cell_type": "code",
   "execution_count": 8,
   "id": "cee853c2",
   "metadata": {
    "ExecuteTime": {
     "end_time": "2021-11-22T01:27:58.783402Z",
     "start_time": "2021-11-22T01:27:58.703649Z"
    }
   },
   "outputs": [
    {
     "data": {
      "text/html": [
       "<div>\n",
       "<style scoped>\n",
       "    .dataframe tbody tr th:only-of-type {\n",
       "        vertical-align: middle;\n",
       "    }\n",
       "\n",
       "    .dataframe tbody tr th {\n",
       "        vertical-align: top;\n",
       "    }\n",
       "\n",
       "    .dataframe thead th {\n",
       "        text-align: right;\n",
       "    }\n",
       "</style>\n",
       "<table border=\"1\" class=\"dataframe\">\n",
       "  <thead>\n",
       "    <tr style=\"text-align: right;\">\n",
       "      <th></th>\n",
       "      <th>0</th>\n",
       "      <th>1</th>\n",
       "      <th>2</th>\n",
       "      <th>3</th>\n",
       "      <th>4</th>\n",
       "      <th>5</th>\n",
       "      <th>6</th>\n",
       "      <th>7</th>\n",
       "      <th>8</th>\n",
       "      <th>9</th>\n",
       "      <th>10</th>\n",
       "    </tr>\n",
       "  </thead>\n",
       "  <tbody>\n",
       "    <tr>\n",
       "      <th>0</th>\n",
       "      <td>100</td>\n",
       "      <td>Steven</td>\n",
       "      <td>King</td>\n",
       "      <td>SKING</td>\n",
       "      <td>515.123.4567</td>\n",
       "      <td>2003-06-17</td>\n",
       "      <td>AD_PRES</td>\n",
       "      <td>24000.0</td>\n",
       "      <td>NaN</td>\n",
       "      <td>NaN</td>\n",
       "      <td>90.0</td>\n",
       "    </tr>\n",
       "    <tr>\n",
       "      <th>1</th>\n",
       "      <td>101</td>\n",
       "      <td>Neena</td>\n",
       "      <td>Kochhar</td>\n",
       "      <td>NKOCHHAR</td>\n",
       "      <td>515.123.4568</td>\n",
       "      <td>2005-09-21</td>\n",
       "      <td>AD_VP</td>\n",
       "      <td>17000.0</td>\n",
       "      <td>NaN</td>\n",
       "      <td>100.0</td>\n",
       "      <td>90.0</td>\n",
       "    </tr>\n",
       "    <tr>\n",
       "      <th>2</th>\n",
       "      <td>102</td>\n",
       "      <td>Lex</td>\n",
       "      <td>De Haan</td>\n",
       "      <td>LDEHAAN</td>\n",
       "      <td>515.123.4569</td>\n",
       "      <td>2001-01-13</td>\n",
       "      <td>AD_VP</td>\n",
       "      <td>17000.0</td>\n",
       "      <td>NaN</td>\n",
       "      <td>100.0</td>\n",
       "      <td>90.0</td>\n",
       "    </tr>\n",
       "    <tr>\n",
       "      <th>3</th>\n",
       "      <td>103</td>\n",
       "      <td>Alexander</td>\n",
       "      <td>Hunold</td>\n",
       "      <td>AHUNOLD</td>\n",
       "      <td>590.423.4567</td>\n",
       "      <td>2006-01-03</td>\n",
       "      <td>IT_PROG</td>\n",
       "      <td>9000.0</td>\n",
       "      <td>NaN</td>\n",
       "      <td>102.0</td>\n",
       "      <td>60.0</td>\n",
       "    </tr>\n",
       "    <tr>\n",
       "      <th>4</th>\n",
       "      <td>104</td>\n",
       "      <td>Bruce</td>\n",
       "      <td>Ernst</td>\n",
       "      <td>BERNST</td>\n",
       "      <td>590.423.4568</td>\n",
       "      <td>2007-05-21</td>\n",
       "      <td>IT_PROG</td>\n",
       "      <td>6000.0</td>\n",
       "      <td>NaN</td>\n",
       "      <td>103.0</td>\n",
       "      <td>60.0</td>\n",
       "    </tr>\n",
       "  </tbody>\n",
       "</table>\n",
       "</div>"
      ],
      "text/plain": [
       "    0          1        2         3             4          5        6        7   8      9     10\n",
       "0  100     Steven     King     SKING  515.123.4567 2003-06-17  AD_PRES  24000.0 NaN    NaN  90.0\n",
       "1  101      Neena  Kochhar  NKOCHHAR  515.123.4568 2005-09-21    AD_VP  17000.0 NaN  100.0  90.0\n",
       "2  102        Lex  De Haan   LDEHAAN  515.123.4569 2001-01-13    AD_VP  17000.0 NaN  100.0  90.0\n",
       "3  103  Alexander   Hunold   AHUNOLD  590.423.4567 2006-01-03  IT_PROG   9000.0 NaN  102.0  60.0\n",
       "4  104      Bruce    Ernst    BERNST  590.423.4568 2007-05-21  IT_PROG   6000.0 NaN  103.0  60.0"
      ]
     },
     "execution_count": 8,
     "metadata": {},
     "output_type": "execute_result"
    }
   ],
   "source": [
    "emp_df.head()"
   ]
  },
  {
   "cell_type": "code",
   "execution_count": 9,
   "id": "c50ac280",
   "metadata": {
    "ExecuteTime": {
     "end_time": "2021-11-22T01:28:20.820034Z",
     "start_time": "2021-11-22T01:28:20.811001Z"
    }
   },
   "outputs": [
    {
     "data": {
      "text/plain": [
       "[('EMPLOYEE_ID', <cx_Oracle.DbType DB_TYPE_NUMBER>, 7, None, 6, 0, 0),\n",
       " ('FIRST_NAME', <cx_Oracle.DbType DB_TYPE_VARCHAR>, 20, 20, None, None, 1),\n",
       " ('LAST_NAME', <cx_Oracle.DbType DB_TYPE_VARCHAR>, 25, 25, None, None, 0),\n",
       " ('EMAIL', <cx_Oracle.DbType DB_TYPE_VARCHAR>, 25, 25, None, None, 0),\n",
       " ('PHONE_NUMBER', <cx_Oracle.DbType DB_TYPE_VARCHAR>, 20, 20, None, None, 1),\n",
       " ('HIRE_DATE', <cx_Oracle.DbType DB_TYPE_DATE>, 23, None, None, None, 0),\n",
       " ('JOB_ID', <cx_Oracle.DbType DB_TYPE_VARCHAR>, 10, 10, None, None, 0),\n",
       " ('SALARY', <cx_Oracle.DbType DB_TYPE_NUMBER>, 12, None, 8, 2, 1),\n",
       " ('COMMISSION_PCT', <cx_Oracle.DbType DB_TYPE_NUMBER>, 6, None, 2, 2, 1),\n",
       " ('MANAGER_ID', <cx_Oracle.DbType DB_TYPE_NUMBER>, 7, None, 6, 0, 1),\n",
       " ('DEPARTMENT_ID', <cx_Oracle.DbType DB_TYPE_NUMBER>, 5, None, 4, 0, 1)]"
      ]
     },
     "execution_count": 9,
     "metadata": {},
     "output_type": "execute_result"
    }
   ],
   "source": [
    "cursor.description"
   ]
  },
  {
   "cell_type": "code",
   "execution_count": 10,
   "id": "a8de0f08",
   "metadata": {
    "ExecuteTime": {
     "end_time": "2021-11-22T01:29:50.201113Z",
     "start_time": "2021-11-22T01:29:50.178411Z"
    }
   },
   "outputs": [
    {
     "data": {
      "text/plain": [
       "['EMPLOYEE_ID',\n",
       " 'FIRST_NAME',\n",
       " 'LAST_NAME',\n",
       " 'EMAIL',\n",
       " 'PHONE_NUMBER',\n",
       " 'HIRE_DATE',\n",
       " 'JOB_ID',\n",
       " 'SALARY',\n",
       " 'COMMISSION_PCT',\n",
       " 'MANAGER_ID',\n",
       " 'DEPARTMENT_ID']"
      ]
     },
     "execution_count": 10,
     "metadata": {},
     "output_type": "execute_result"
    }
   ],
   "source": [
    "col_names = [row[0] for row in cursor.description]\n",
    "col_names"
   ]
  },
  {
   "cell_type": "code",
   "execution_count": 11,
   "id": "7901466b",
   "metadata": {
    "ExecuteTime": {
     "end_time": "2021-11-22T01:30:16.106551Z",
     "start_time": "2021-11-22T01:30:16.037465Z"
    }
   },
   "outputs": [
    {
     "data": {
      "text/html": [
       "<div>\n",
       "<style scoped>\n",
       "    .dataframe tbody tr th:only-of-type {\n",
       "        vertical-align: middle;\n",
       "    }\n",
       "\n",
       "    .dataframe tbody tr th {\n",
       "        vertical-align: top;\n",
       "    }\n",
       "\n",
       "    .dataframe thead th {\n",
       "        text-align: right;\n",
       "    }\n",
       "</style>\n",
       "<table border=\"1\" class=\"dataframe\">\n",
       "  <thead>\n",
       "    <tr style=\"text-align: right;\">\n",
       "      <th></th>\n",
       "      <th>EMPLOYEE_ID</th>\n",
       "      <th>FIRST_NAME</th>\n",
       "      <th>LAST_NAME</th>\n",
       "      <th>EMAIL</th>\n",
       "      <th>PHONE_NUMBER</th>\n",
       "      <th>HIRE_DATE</th>\n",
       "      <th>JOB_ID</th>\n",
       "      <th>SALARY</th>\n",
       "      <th>COMMISSION_PCT</th>\n",
       "      <th>MANAGER_ID</th>\n",
       "      <th>DEPARTMENT_ID</th>\n",
       "    </tr>\n",
       "  </thead>\n",
       "  <tbody>\n",
       "    <tr>\n",
       "      <th>0</th>\n",
       "      <td>100</td>\n",
       "      <td>Steven</td>\n",
       "      <td>King</td>\n",
       "      <td>SKING</td>\n",
       "      <td>515.123.4567</td>\n",
       "      <td>2003-06-17</td>\n",
       "      <td>AD_PRES</td>\n",
       "      <td>24000.0</td>\n",
       "      <td>NaN</td>\n",
       "      <td>NaN</td>\n",
       "      <td>90.0</td>\n",
       "    </tr>\n",
       "    <tr>\n",
       "      <th>1</th>\n",
       "      <td>101</td>\n",
       "      <td>Neena</td>\n",
       "      <td>Kochhar</td>\n",
       "      <td>NKOCHHAR</td>\n",
       "      <td>515.123.4568</td>\n",
       "      <td>2005-09-21</td>\n",
       "      <td>AD_VP</td>\n",
       "      <td>17000.0</td>\n",
       "      <td>NaN</td>\n",
       "      <td>100.0</td>\n",
       "      <td>90.0</td>\n",
       "    </tr>\n",
       "    <tr>\n",
       "      <th>2</th>\n",
       "      <td>102</td>\n",
       "      <td>Lex</td>\n",
       "      <td>De Haan</td>\n",
       "      <td>LDEHAAN</td>\n",
       "      <td>515.123.4569</td>\n",
       "      <td>2001-01-13</td>\n",
       "      <td>AD_VP</td>\n",
       "      <td>17000.0</td>\n",
       "      <td>NaN</td>\n",
       "      <td>100.0</td>\n",
       "      <td>90.0</td>\n",
       "    </tr>\n",
       "    <tr>\n",
       "      <th>3</th>\n",
       "      <td>103</td>\n",
       "      <td>Alexander</td>\n",
       "      <td>Hunold</td>\n",
       "      <td>AHUNOLD</td>\n",
       "      <td>590.423.4567</td>\n",
       "      <td>2006-01-03</td>\n",
       "      <td>IT_PROG</td>\n",
       "      <td>9000.0</td>\n",
       "      <td>NaN</td>\n",
       "      <td>102.0</td>\n",
       "      <td>60.0</td>\n",
       "    </tr>\n",
       "    <tr>\n",
       "      <th>4</th>\n",
       "      <td>104</td>\n",
       "      <td>Bruce</td>\n",
       "      <td>Ernst</td>\n",
       "      <td>BERNST</td>\n",
       "      <td>590.423.4568</td>\n",
       "      <td>2007-05-21</td>\n",
       "      <td>IT_PROG</td>\n",
       "      <td>6000.0</td>\n",
       "      <td>NaN</td>\n",
       "      <td>103.0</td>\n",
       "      <td>60.0</td>\n",
       "    </tr>\n",
       "  </tbody>\n",
       "</table>\n",
       "</div>"
      ],
      "text/plain": [
       "   EMPLOYEE_ID FIRST_NAME LAST_NAME     EMAIL  ...   SALARY COMMISSION_PCT MANAGER_ID  DEPARTMENT_ID\n",
       "0          100     Steven      King     SKING  ...  24000.0            NaN        NaN           90.0\n",
       "1          101      Neena   Kochhar  NKOCHHAR  ...  17000.0            NaN      100.0           90.0\n",
       "2          102        Lex   De Haan   LDEHAAN  ...  17000.0            NaN      100.0           90.0\n",
       "3          103  Alexander    Hunold   AHUNOLD  ...   9000.0            NaN      102.0           60.0\n",
       "4          104      Bruce     Ernst    BERNST  ...   6000.0            NaN      103.0           60.0\n",
       "\n",
       "[5 rows x 11 columns]"
      ]
     },
     "execution_count": 11,
     "metadata": {},
     "output_type": "execute_result"
    }
   ],
   "source": [
    "emp_df.columns = col_names\n",
    "emp_df.head()"
   ]
  },
  {
   "cell_type": "code",
   "execution_count": 14,
   "id": "3a1e9366",
   "metadata": {
    "ExecuteTime": {
     "end_time": "2021-11-22T01:42:23.033701Z",
     "start_time": "2021-11-22T01:42:22.489302Z"
    }
   },
   "outputs": [
    {
     "name": "stdout",
     "output_type": "stream",
     "text": [
      "18.4.0.0.0\n"
     ]
    }
   ],
   "source": [
    "# connect to oracle using python example\n",
    "\n",
    "import cx_Oracle\n",
    "\n",
    "connection = None\n",
    "try:\n",
    "    connection = cx_Oracle.connect(\n",
    "        'hr',\n",
    "        'hr',\n",
    "        oracle_dsn,\n",
    "        encoding='UTF-8')\n",
    "\n",
    "    # show the version of the Oracle Database\n",
    "    print(connection.version)\n",
    "except cx_Oracle.Error as error:\n",
    "    print(error)\n",
    "finally:\n",
    "    # release the connection\n",
    "    if connection:\n",
    "        connection.close()\n"
   ]
  },
  {
   "cell_type": "code",
   "execution_count": 15,
   "id": "1633a338",
   "metadata": {
    "ExecuteTime": {
     "end_time": "2021-11-22T01:45:49.177706Z",
     "start_time": "2021-11-22T01:45:44.100154Z"
    }
   },
   "outputs": [
    {
     "name": "stdout",
     "output_type": "stream",
     "text": [
      "Using the connection\n"
     ]
    }
   ],
   "source": [
    "import cx_Oracle\n",
    "\n",
    "# Create the session pool\n",
    "pool = cx_Oracle.SessionPool(\n",
    "    'hr',\n",
    "    'hr',\n",
    "    oracle_dsn,\n",
    "    min=100,\n",
    "    max=100,\n",
    "    increment=0,\n",
    "    encoding='UTF-8'\n",
    ")\n",
    "\n",
    "# Acquire a connection from the pool\n",
    "connection = pool.acquire()\n",
    "\n",
    "# Use the pooled connection\n",
    "print('Using the connection')\n",
    "\n",
    "# Release the connection to the pool\n",
    "pool.release(connection)\n",
    "\n",
    "# Close the pool\n",
    "pool.close()\n"
   ]
  }
 ],
 "metadata": {
  "kernelspec": {
   "display_name": "saltlux_lecture",
   "language": "python",
   "name": "saltlux_lecture"
  },
  "language_info": {
   "codemirror_mode": {
    "name": "ipython",
    "version": 3
   },
   "file_extension": ".py",
   "mimetype": "text/x-python",
   "name": "python",
   "nbconvert_exporter": "python",
   "pygments_lexer": "ipython3",
   "version": "3.9.7"
  },
  "toc": {
   "base_numbering": 1,
   "nav_menu": {},
   "number_sections": true,
   "sideBar": true,
   "skip_h1_title": false,
   "title_cell": "Table of Contents",
   "title_sidebar": "Contents",
   "toc_cell": false,
   "toc_position": {
    "height": "calc(100% - 180px)",
    "left": "10px",
    "top": "150px",
    "width": "172.188px"
   },
   "toc_section_display": true,
   "toc_window_display": true
  }
 },
 "nbformat": 4,
 "nbformat_minor": 5
}
