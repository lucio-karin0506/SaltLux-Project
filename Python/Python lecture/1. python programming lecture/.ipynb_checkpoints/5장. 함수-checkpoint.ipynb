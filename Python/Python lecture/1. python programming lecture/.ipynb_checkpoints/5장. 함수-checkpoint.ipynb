{
 "cells": [
  {
   "cell_type": "markdown",
   "id": "aba38a39",
   "metadata": {},
   "source": [
    "## 1절 함수의 정의 및 사용"
   ]
  },
  {
   "cell_type": "code",
   "execution_count": 1,
   "id": "ac05c10e",
   "metadata": {
    "ExecuteTime": {
     "end_time": "2021-11-15T07:11:30.083952Z",
     "start_time": "2021-11-15T07:11:30.073979Z"
    }
   },
   "outputs": [
    {
     "name": "stdout",
     "output_type": "stream",
     "text": [
      "1 1 2 3 5 8 13 21 34 55 89 144 \n"
     ]
    }
   ],
   "source": [
    "def fibonacci(n):\n",
    "    \"n값 미만까지 피보나치수열을 출력합니다.\"\n",
    "    a, b = 0, 1\n",
    "    while b < n:\n",
    "        print(b, end=' ')\n",
    "        a, b = b, a+b\n",
    "    print()\n",
    "    \n",
    "fibonacci(200)"
   ]
  },
  {
   "cell_type": "code",
   "execution_count": 27,
   "id": "62f8e4b8",
   "metadata": {
    "ExecuteTime": {
     "end_time": "2021-11-15T07:19:42.458415Z",
     "start_time": "2021-11-15T07:19:42.439295Z"
    }
   },
   "outputs": [
    {
     "name": "stdout",
     "output_type": "stream",
     "text": [
      "you :  가위\n"
     ]
    }
   ],
   "source": [
    "import random\n",
    "\n",
    "def caption(val):\n",
    "    if val == 1:\n",
    "        return '가위'\n",
    "    elif val == 2:\n",
    "        return '바위'\n",
    "    elif val == 3:\n",
    "        return '보'\n",
    "    else:\n",
    "        return 'error'\n",
    "\n",
    "print('you : ', caption(random.randint(1, 5)))"
   ]
  },
  {
   "cell_type": "code",
   "execution_count": 28,
   "id": "6e9cfd09",
   "metadata": {
    "ExecuteTime": {
     "end_time": "2021-11-15T07:46:32.917075Z",
     "start_time": "2021-11-15T07:46:32.894799Z"
    }
   },
   "outputs": [
    {
     "data": {
      "text/plain": [
       "1647184664016"
      ]
     },
     "execution_count": 28,
     "metadata": {},
     "output_type": "execute_result"
    }
   ],
   "source": [
    "# 값에 의한 호출\n",
    "foo = 100\n",
    "id(foo)"
   ]
  },
  {
   "cell_type": "code",
   "execution_count": 30,
   "id": "c6afc70f",
   "metadata": {
    "ExecuteTime": {
     "end_time": "2021-11-15T07:47:19.716703Z",
     "start_time": "2021-11-15T07:47:19.704735Z"
    }
   },
   "outputs": [
    {
     "name": "stdout",
     "output_type": "stream",
     "text": [
      "Before 1647184664016\n",
      "After 1647184667280\n",
      "200\n"
     ]
    }
   ],
   "source": [
    "def func1(foo):\n",
    "    print('Before', id(foo))\n",
    "    foo = 200\n",
    "    print('After', id(foo))\n",
    "    print(foo)\n",
    "    \n",
    "func1(foo)"
   ]
  },
  {
   "cell_type": "code",
   "execution_count": 31,
   "id": "d6160cac",
   "metadata": {
    "ExecuteTime": {
     "end_time": "2021-11-15T08:02:21.348895Z",
     "start_time": "2021-11-15T08:02:21.329790Z"
    }
   },
   "outputs": [
    {
     "data": {
      "text/plain": [
       "1647283136704"
      ]
     },
     "execution_count": 31,
     "metadata": {},
     "output_type": "execute_result"
    }
   ],
   "source": [
    "# 참조에 의한 호출\n",
    "L = [1,2,3,4,5]\n",
    "id(L)"
   ]
  },
  {
   "cell_type": "code",
   "execution_count": 32,
   "id": "f039880a",
   "metadata": {
    "ExecuteTime": {
     "end_time": "2021-11-15T08:02:42.211745Z",
     "start_time": "2021-11-15T08:02:42.192808Z"
    }
   },
   "outputs": [
    {
     "name": "stdout",
     "output_type": "stream",
     "text": [
      "1647283136704\n",
      "[1, 2, 3, 4, 5, 6]\n"
     ]
    }
   ],
   "source": [
    "def func2(foo):\n",
    "    foo.append(6)\n",
    "    print(id(foo))\n",
    "    print(foo)\n",
    "    \n",
    "func2(L)"
   ]
  },
  {
   "cell_type": "markdown",
   "id": "14cc3725",
   "metadata": {},
   "source": [
    "## 2절 함수의 실행결과를 반환하는 return"
   ]
  },
  {
   "cell_type": "markdown",
   "id": "ae424b9f",
   "metadata": {},
   "source": [
    "## 3절 함수 매개변수"
   ]
  },
  {
   "cell_type": "markdown",
   "id": "4f86751c",
   "metadata": {},
   "source": [
    "## 4절 람다식"
   ]
  },
  {
   "cell_type": "markdown",
   "id": "7d31eb47",
   "metadata": {},
   "source": [
    "## 5절 파이썬 내장 함수"
   ]
  }
 ],
 "metadata": {
  "kernelspec": {
   "display_name": "saltlux_lecture",
   "language": "python",
   "name": "saltlux_lecture"
  },
  "language_info": {
   "codemirror_mode": {
    "name": "ipython",
    "version": 3
   },
   "file_extension": ".py",
   "mimetype": "text/x-python",
   "name": "python",
   "nbconvert_exporter": "python",
   "pygments_lexer": "ipython3",
   "version": "3.9.7"
  },
  "toc": {
   "base_numbering": 1,
   "nav_menu": {},
   "number_sections": true,
   "sideBar": true,
   "skip_h1_title": false,
   "title_cell": "Table of Contents",
   "title_sidebar": "Contents",
   "toc_cell": false,
   "toc_position": {
    "height": "calc(100% - 180px)",
    "left": "10px",
    "top": "150px",
    "width": "224px"
   },
   "toc_section_display": true,
   "toc_window_display": true
  }
 },
 "nbformat": 4,
 "nbformat_minor": 5
}
