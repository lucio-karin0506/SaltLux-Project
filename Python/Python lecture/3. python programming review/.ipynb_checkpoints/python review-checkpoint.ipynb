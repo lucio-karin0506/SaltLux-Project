{
 "cells": [
  {
   "cell_type": "markdown",
   "id": "8a47f2d2",
   "metadata": {
    "heading_collapsed": true
   },
   "source": [
    "## 자료형과 연산자"
   ]
  },
  {
   "cell_type": "code",
   "execution_count": 3,
   "id": "6748ceb3",
   "metadata": {
    "ExecuteTime": {
     "end_time": "2022-01-03T01:17:22.121616Z",
     "start_time": "2022-01-03T01:17:22.109072Z"
    },
    "hidden": true
   },
   "outputs": [
    {
     "name": "stdout",
     "output_type": "stream",
     "text": [
      "a b c\n"
     ]
    }
   ],
   "source": [
    "L = ['a', 'b', 'c']\n",
    "print(*L, sep=' ') # 인수 언패킹(튜플, 리스트의 모든 요소 풀어서 함수 인수로 전달)"
   ]
  },
  {
   "cell_type": "code",
   "execution_count": 4,
   "id": "1fdf509b",
   "metadata": {
    "ExecuteTime": {
     "end_time": "2022-01-03T01:21:13.912110Z",
     "start_time": "2022-01-03T01:21:13.892402Z"
    },
    "hidden": true
   },
   "outputs": [
    {
     "data": {
      "text/plain": [
       "'a b c'"
      ]
     },
     "execution_count": 4,
     "metadata": {},
     "output_type": "execute_result"
    }
   ],
   "source": [
    "text = ' '.join(L)\n",
    "text"
   ]
  },
  {
   "cell_type": "code",
   "execution_count": 6,
   "id": "9967ac42",
   "metadata": {
    "ExecuteTime": {
     "end_time": "2022-01-03T01:21:37.635717Z",
     "start_time": "2022-01-03T01:21:37.619398Z"
    },
    "hidden": true
   },
   "outputs": [
    {
     "data": {
      "text/plain": [
       "['a', 'b', 'c']"
      ]
     },
     "execution_count": 6,
     "metadata": {},
     "output_type": "execute_result"
    }
   ],
   "source": [
    "L2 = text.split()\n",
    "L2"
   ]
  },
  {
   "cell_type": "code",
   "execution_count": 7,
   "id": "9dc4cc25",
   "metadata": {
    "ExecuteTime": {
     "end_time": "2022-01-03T01:23:11.420538Z",
     "start_time": "2022-01-03T01:23:11.410190Z"
    },
    "hidden": true
   },
   "outputs": [
    {
     "data": {
      "text/plain": [
       "'abc'"
      ]
     },
     "execution_count": 7,
     "metadata": {},
     "output_type": "execute_result"
    }
   ],
   "source": [
    "text.lower().replace(' ', '') # 참조 체인 => 메모리 공간 줄임"
   ]
  },
  {
   "cell_type": "code",
   "execution_count": 8,
   "id": "b2d4ee19",
   "metadata": {
    "ExecuteTime": {
     "end_time": "2022-01-03T01:24:43.135884Z",
     "start_time": "2022-01-03T01:24:43.121255Z"
    },
    "hidden": true
   },
   "outputs": [
    {
     "name": "stdout",
     "output_type": "stream",
     "text": [
      "result 3.5\n"
     ]
    }
   ],
   "source": [
    "num = 3.5\n",
    "print('result', num)"
   ]
  },
  {
   "cell_type": "code",
   "execution_count": 19,
   "id": "88a3746c",
   "metadata": {
    "ExecuteTime": {
     "end_time": "2022-01-03T01:28:18.764799Z",
     "start_time": "2022-01-03T01:28:18.747403Z"
    },
    "hidden": true
   },
   "outputs": [
    {
     "name": "stdout",
     "output_type": "stream",
     "text": [
      "result is 3.50\n",
      "result is 3.50\n",
      "result is 3.50\n"
     ]
    }
   ],
   "source": [
    "print('result is %3.2f'%(num))\n",
    "print('result is {:3.2f}'.format(num))\n",
    "print(f'result is {num:3.2f}')"
   ]
  },
  {
   "cell_type": "markdown",
   "id": "287b34f2",
   "metadata": {
    "heading_collapsed": true
   },
   "source": [
    "## 데이터 구조"
   ]
  },
  {
   "cell_type": "code",
   "execution_count": 20,
   "id": "8a067fa5",
   "metadata": {
    "ExecuteTime": {
     "end_time": "2022-01-03T01:33:13.464954Z",
     "start_time": "2022-01-03T01:33:13.451867Z"
    },
    "hidden": true
   },
   "outputs": [
    {
     "data": {
      "text/plain": [
       "1"
      ]
     },
     "execution_count": 20,
     "metadata": {},
     "output_type": "execute_result"
    }
   ],
   "source": [
    "# 리스트, 튜플, 셋, 딕셔너리, 프로즌셋, 네임드 튜플\n",
    "L = [1, 2, 3, 4, 5]\n",
    "min(L) # 범용 함수"
   ]
  },
  {
   "cell_type": "code",
   "execution_count": 21,
   "id": "d08b898b",
   "metadata": {
    "ExecuteTime": {
     "end_time": "2022-01-03T01:34:11.071955Z",
     "start_time": "2022-01-03T01:34:11.068431Z"
    },
    "hidden": true
   },
   "outputs": [
    {
     "data": {
      "text/plain": [
       "5"
      ]
     },
     "execution_count": 21,
     "metadata": {},
     "output_type": "execute_result"
    }
   ],
   "source": [
    "L.pop() # 메소드 => 특정 객체만 사용 가능한 함수"
   ]
  },
  {
   "cell_type": "code",
   "execution_count": 23,
   "id": "4ce47a57",
   "metadata": {
    "ExecuteTime": {
     "end_time": "2022-01-03T01:35:48.409364Z",
     "start_time": "2022-01-03T01:35:48.404321Z"
    },
    "hidden": true
   },
   "outputs": [
    {
     "name": "stdout",
     "output_type": "stream",
     "text": [
      "4\n",
      "[1, 2, 3]\n"
     ]
    }
   ],
   "source": [
    "print(L[-1])\n",
    "print(L[:-1])"
   ]
  },
  {
   "cell_type": "code",
   "execution_count": 24,
   "id": "7ef7a904",
   "metadata": {
    "ExecuteTime": {
     "end_time": "2022-01-03T01:36:25.302619Z",
     "start_time": "2022-01-03T01:36:25.285485Z"
    },
    "hidden": true
   },
   "outputs": [
    {
     "data": {
      "text/plain": [
       "[1, 2, 3, 4, 4]"
      ]
     },
     "execution_count": 24,
     "metadata": {},
     "output_type": "execute_result"
    }
   ],
   "source": [
    "L.append(4)\n",
    "L"
   ]
  },
  {
   "cell_type": "code",
   "execution_count": 25,
   "id": "1508c29b",
   "metadata": {
    "ExecuteTime": {
     "end_time": "2022-01-03T01:37:17.174542Z",
     "start_time": "2022-01-03T01:37:17.165574Z"
    },
    "hidden": true
   },
   "outputs": [
    {
     "data": {
      "text/plain": [
       "[1, 2, 3, 4, 4, [10, 20], 100, 200]"
      ]
     },
     "execution_count": 25,
     "metadata": {},
     "output_type": "execute_result"
    }
   ],
   "source": [
    "L.append([10, 20])\n",
    "L.extend([100, 200])\n",
    "L"
   ]
  },
  {
   "cell_type": "code",
   "execution_count": 26,
   "id": "667a9d5b",
   "metadata": {
    "ExecuteTime": {
     "end_time": "2022-01-03T01:38:15.270466Z",
     "start_time": "2022-01-03T01:38:15.260472Z"
    },
    "hidden": true
   },
   "outputs": [
    {
     "data": {
      "text/plain": [
       "tuple"
      ]
     },
     "execution_count": 26,
     "metadata": {},
     "output_type": "execute_result"
    }
   ],
   "source": [
    "T = (1, 2, 3, 4)\n",
    "type(T)"
   ]
  },
  {
   "cell_type": "code",
   "execution_count": 30,
   "id": "b9d7cf4e",
   "metadata": {
    "ExecuteTime": {
     "end_time": "2022-01-03T01:44:16.309912Z",
     "start_time": "2022-01-03T01:44:16.294660Z"
    },
    "hidden": true
   },
   "outputs": [
    {
     "data": {
      "text/plain": [
       "{10: 1, 'hello': 2, (1, 2, 3): 4, 'new_key': 10}"
      ]
     },
     "execution_count": 30,
     "metadata": {},
     "output_type": "execute_result"
    }
   ],
   "source": [
    "# 튜플은 데이터 조회할 때 사용\n",
    "a = 10\n",
    "b = 'hello'\n",
    "c = [1, 2, 3]\n",
    "d = (1, 2, 3)\n",
    "\n",
    "# 리스트는 키 값으로 사용 불가\n",
    "my_dict = {a:1, b:2, d:4}\n",
    "my_dict['new_key'] = 10\n",
    "my_dict"
   ]
  },
  {
   "cell_type": "code",
   "execution_count": 31,
   "id": "ab56a9da",
   "metadata": {
    "ExecuteTime": {
     "end_time": "2022-01-03T01:45:32.523786Z",
     "start_time": "2022-01-03T01:45:32.512579Z"
    },
    "hidden": true
   },
   "outputs": [
    {
     "data": {
      "text/plain": [
       "{0: 'hello', 1: 'world', 2: 'kosa'}"
      ]
     },
     "execution_count": 31,
     "metadata": {},
     "output_type": "execute_result"
    }
   ],
   "source": [
    "word_to_index = {'hello':0, 'world':1, 'kosa':2}\n",
    "index_to_word = {}\n",
    "\n",
    "for key, value in word_to_index.items():\n",
    "    index_to_word[value] = key\n",
    "    \n",
    "index_to_word"
   ]
  },
  {
   "cell_type": "code",
   "execution_count": 32,
   "id": "8a1e525e",
   "metadata": {
    "ExecuteTime": {
     "end_time": "2022-01-03T01:46:59.177408Z",
     "start_time": "2022-01-03T01:46:59.160470Z"
    },
    "hidden": true
   },
   "outputs": [
    {
     "data": {
      "text/plain": [
       "('hello', 'hello')"
      ]
     },
     "execution_count": 32,
     "metadata": {},
     "output_type": "execute_result"
    }
   ],
   "source": [
    "index_to_word.get(0), index_to_word[0]"
   ]
  },
  {
   "cell_type": "code",
   "execution_count": 45,
   "id": "0ec44dfb",
   "metadata": {
    "ExecuteTime": {
     "end_time": "2022-01-03T02:15:25.750428Z",
     "start_time": "2022-01-03T02:15:25.728259Z"
    },
    "hidden": true
   },
   "outputs": [
    {
     "data": {
      "text/plain": [
       "['2019',\n",
       " '2022',\n",
       " '2023',\n",
       " '50',\n",
       " 'a',\n",
       " 'abdalla',\n",
       " 'abdel',\n",
       " 'according',\n",
       " 'acted',\n",
       " 'activists',\n",
       " 'added',\n",
       " 'address,',\n",
       " 'after',\n",
       " 'agreement',\n",
       " 'aimed',\n",
       " 'al-bashir',\n",
       " 'al-burhan',\n",
       " 'all',\n",
       " 'alone',\n",
       " 'an',\n",
       " 'and',\n",
       " 'announce',\n",
       " 'announced',\n",
       " 'another',\n",
       " 'army',\n",
       " 'arrest,',\n",
       " 'as',\n",
       " 'at',\n",
       " 'authoritarian',\n",
       " 'back',\n",
       " 'be',\n",
       " 'been',\n",
       " 'best',\n",
       " 'betrayed',\n",
       " 'but',\n",
       " 'cabinet',\n",
       " 'called',\n",
       " 'cannot',\n",
       " 'capital',\n",
       " 'central',\n",
       " 'chance',\n",
       " 'chanted',\n",
       " 'city',\n",
       " 'civil',\n",
       " 'civilian',\n",
       " 'committed',\n",
       " 'committee',\n",
       " 'consensus',\n",
       " 'continuation',\n",
       " 'controversial',\n",
       " 'country',\n",
       " 'country,',\n",
       " 'coup',\n",
       " 'coup,',\n",
       " 'coup:',\n",
       " 'coups',\n",
       " 'dangerous',\n",
       " 'day',\n",
       " 'deal',\n",
       " 'deal,',\n",
       " 'decided',\n",
       " 'defended',\n",
       " 'defying',\n",
       " 'demanding',\n",
       " 'democratic',\n",
       " 'despite',\n",
       " 'did',\n",
       " 'disaster,',\n",
       " 'doctors',\n",
       " 'done',\n",
       " 'elections',\n",
       " 'entered',\n",
       " 'entirely',\n",
       " 'erupt',\n",
       " 'everything',\n",
       " 'fattah',\n",
       " 'followed',\n",
       " 'following',\n",
       " 'for',\n",
       " 'from',\n",
       " 'gen',\n",
       " 'generals',\n",
       " 'generals:',\n",
       " 'generation',\n",
       " 'give',\n",
       " 'government',\n",
       " 'guide',\n",
       " 'had',\n",
       " 'hamdok',\n",
       " 'happened',\n",
       " 'has',\n",
       " 'have',\n",
       " 'have,',\n",
       " 'he',\n",
       " 'held',\n",
       " 'help',\n",
       " 'his',\n",
       " 'house',\n",
       " 'how',\n",
       " 'i',\n",
       " 'in',\n",
       " 'including',\n",
       " 'is',\n",
       " 'it',\n",
       " 'its',\n",
       " 'july',\n",
       " 'just',\n",
       " 'khartoum',\n",
       " 'kill',\n",
       " 'killed',\n",
       " 'last',\n",
       " 'lead',\n",
       " 'leader',\n",
       " 'leaders',\n",
       " 'least',\n",
       " 'leave',\n",
       " 'led',\n",
       " 'left',\n",
       " 'long-term',\n",
       " 'man',\n",
       " 'media,',\n",
       " 'medics',\n",
       " 'military',\n",
       " 'minister',\n",
       " 'minister,',\n",
       " 'more',\n",
       " 'moving',\n",
       " 'mr',\n",
       " 'much',\n",
       " 'my',\n",
       " 'new',\n",
       " 'noble',\n",
       " 'not',\n",
       " 'november,',\n",
       " 'october',\n",
       " 'octobers',\n",
       " 'of',\n",
       " 'omar',\n",
       " 'omdurman',\n",
       " 'on',\n",
       " 'or',\n",
       " 'overthrow',\n",
       " 'pass',\n",
       " 'people',\n",
       " 'people',\n",
       " 'period',\n",
       " 'planned',\n",
       " 'point',\n",
       " 'political',\n",
       " 'politics',\n",
       " 'popular',\n",
       " 'power',\n",
       " 'power',\n",
       " 'power-sharing',\n",
       " 'president',\n",
       " 'prevent',\n",
       " 'prime',\n",
       " 'pro-democracy',\n",
       " 'protesters',\n",
       " 'protests',\n",
       " 'protests,',\n",
       " 'put',\n",
       " 'reach',\n",
       " 'reached',\n",
       " 'reinstated',\n",
       " 'rejected',\n",
       " 'resignation',\n",
       " 'resistance',\n",
       " 'responsibility',\n",
       " 'rule',\n",
       " 'rule,',\n",
       " 'said',\n",
       " 'saying',\n",
       " 'says',\n",
       " 'seized',\n",
       " 'simple',\n",
       " 'since',\n",
       " 'sliding',\n",
       " 'social',\n",
       " 'still',\n",
       " 'stop',\n",
       " 'streets',\n",
       " 'sudan',\n",
       " 'sudans',\n",
       " 'sunday',\n",
       " 'sunday,',\n",
       " 'supposed',\n",
       " 'survival',\n",
       " 'technocrats',\n",
       " 'televised',\n",
       " 'than',\n",
       " 'that',\n",
       " 'the',\n",
       " 'the',\n",
       " 'they',\n",
       " 'they',\n",
       " 'this',\n",
       " 'thousands',\n",
       " 'threatening',\n",
       " 'threatens',\n",
       " 'through',\n",
       " 'to',\n",
       " 'took',\n",
       " 'towards',\n",
       " 'transition',\n",
       " 'transitional',\n",
       " 'tried',\n",
       " 'trust',\n",
       " 'turning',\n",
       " 'two',\n",
       " 'unclear',\n",
       " 'under',\n",
       " 'uneasy',\n",
       " 'until',\n",
       " 'uprising',\n",
       " 'us',\n",
       " 'war',\n",
       " 'was',\n",
       " 'weeks',\n",
       " 'were',\n",
       " 'whats',\n",
       " 'where',\n",
       " 'whole',\n",
       " 'will',\n",
       " 'with',\n",
       " 'woman',\n",
       " 'would',\n",
       " 'year']"
      ]
     },
     "execution_count": 45,
     "metadata": {},
     "output_type": "execute_result"
    }
   ],
   "source": [
    "news = \"\"\"\n",
    "Sudan's Prime Minister Abdalla Hamdok has announced his resignation just weeks after he was reinstated in a controversial deal with the military.\n",
    "\n",
    "The army seized power in October and put Mr Hamdok under house arrest, but he was reinstated following a power-sharing deal with the coup's leader.\n",
    "\n",
    "Protesters rejected the deal, demanding an entirely civilian political rule.\n",
    "\n",
    "His resignation followed another day of protests, where medics said at least two were killed.\n",
    "\n",
    "In a televised address, Mr Hamdok said Sudan was at a \"dangerous turning point that threatens its whole survival\".\n",
    "\n",
    "He said he had tried his best to stop the country from \"sliding towards disaster\", but that \"despite everything that has been done to reach a consensus... it has not happened\".\n",
    "\n",
    "\n",
    "\"I decided to give back the responsibility and announce my resignation as prime minister, and give a chance to another man or woman of this noble country to... help it pass through what's left of the transitional period to a civilian democratic country,\" he added.\n",
    "\n",
    "Civilian and military leaders entered an uneasy power-sharing agreement aimed at moving the country towards democratic rule after a popular uprising led to the overthrow of Sudan's long-term authoritarian President Omar al-Bashir in 2019.\n",
    "\n",
    "Sudan coup: A simple guide\n",
    "How Sudan's generals betrayed my generation\n",
    "Defying Sudan's generals: 'They cannot kill us all'\n",
    "Under the agreement reached with Mr Hamdok in November, the reinstated prime minister was supposed to lead a cabinet of technocrats until elections were held. But it was unclear how much power the new civilian government would have, and protesters said they did not trust the military.\n",
    "\n",
    "Thousands of people took to the streets of the capital Khartoum and the city of Omdurman on Sunday. Protesters chanted \"power to the people\" and called on the military to leave politics alone.\n",
    "\n",
    "On social media, activists have said 2022 will be \"the year of the continuation of the resistance\".\n",
    "\n",
    "More than 50 people have been killed at protests since the coup, including at least two on Sunday, according to the pro-democracy Sudan Central Doctors' Committee.\n",
    "\n",
    "Coup leader Gen Abdel Fattah al-Burhan has defended last October's coup, saying the army had acted to prevent a civil war that was threatening to erupt. He says Sudan is still committed to the transition to civilian rule, with elections planned for July 2023.\n",
    "\"\"\"\n",
    "\n",
    "news_list = news.lower().replace('.', '').split()\n",
    "news_set = set(news_list)\n",
    "\n",
    "news_list = list(news_set)\n",
    "news_list = [text.replace('\"', '').replace(\"'\", '') for text in news_list]\n",
    "news_list.sort()\n",
    "news_list"
   ]
  },
  {
   "cell_type": "code",
   "execution_count": 46,
   "id": "061da04e",
   "metadata": {
    "ExecuteTime": {
     "end_time": "2022-01-03T02:16:11.236038Z",
     "start_time": "2022-01-03T02:16:11.215379Z"
    },
    "hidden": true
   },
   "outputs": [
    {
     "data": {
      "text/plain": [
       "{0: '2019',\n",
       " 1: '2022',\n",
       " 2: '2023',\n",
       " 3: '50',\n",
       " 4: 'a',\n",
       " 5: 'abdalla',\n",
       " 6: 'abdel',\n",
       " 7: 'according',\n",
       " 8: 'acted',\n",
       " 9: 'activists',\n",
       " 10: 'added',\n",
       " 11: 'address,',\n",
       " 12: 'after',\n",
       " 13: 'agreement',\n",
       " 14: 'aimed',\n",
       " 15: 'al-bashir',\n",
       " 16: 'al-burhan',\n",
       " 17: 'all',\n",
       " 18: 'alone',\n",
       " 19: 'an',\n",
       " 20: 'and',\n",
       " 21: 'announce',\n",
       " 22: 'announced',\n",
       " 23: 'another',\n",
       " 24: 'army',\n",
       " 25: 'arrest,',\n",
       " 26: 'as',\n",
       " 27: 'at',\n",
       " 28: 'authoritarian',\n",
       " 29: 'back',\n",
       " 30: 'be',\n",
       " 31: 'been',\n",
       " 32: 'best',\n",
       " 33: 'betrayed',\n",
       " 34: 'but',\n",
       " 35: 'cabinet',\n",
       " 36: 'called',\n",
       " 37: 'cannot',\n",
       " 38: 'capital',\n",
       " 39: 'central',\n",
       " 40: 'chance',\n",
       " 41: 'chanted',\n",
       " 42: 'city',\n",
       " 43: 'civil',\n",
       " 44: 'civilian',\n",
       " 45: 'committed',\n",
       " 46: 'committee',\n",
       " 47: 'consensus',\n",
       " 48: 'continuation',\n",
       " 49: 'controversial',\n",
       " 50: 'country',\n",
       " 51: 'country,',\n",
       " 52: 'coup',\n",
       " 53: 'coup,',\n",
       " 54: 'coup:',\n",
       " 55: 'coups',\n",
       " 56: 'dangerous',\n",
       " 57: 'day',\n",
       " 58: 'deal',\n",
       " 59: 'deal,',\n",
       " 60: 'decided',\n",
       " 61: 'defended',\n",
       " 62: 'defying',\n",
       " 63: 'demanding',\n",
       " 64: 'democratic',\n",
       " 65: 'despite',\n",
       " 66: 'did',\n",
       " 67: 'disaster,',\n",
       " 68: 'doctors',\n",
       " 69: 'done',\n",
       " 70: 'elections',\n",
       " 71: 'entered',\n",
       " 72: 'entirely',\n",
       " 73: 'erupt',\n",
       " 74: 'everything',\n",
       " 75: 'fattah',\n",
       " 76: 'followed',\n",
       " 77: 'following',\n",
       " 78: 'for',\n",
       " 79: 'from',\n",
       " 80: 'gen',\n",
       " 81: 'generals',\n",
       " 82: 'generals:',\n",
       " 83: 'generation',\n",
       " 84: 'give',\n",
       " 85: 'government',\n",
       " 86: 'guide',\n",
       " 87: 'had',\n",
       " 88: 'hamdok',\n",
       " 89: 'happened',\n",
       " 90: 'has',\n",
       " 91: 'have',\n",
       " 92: 'have,',\n",
       " 93: 'he',\n",
       " 94: 'held',\n",
       " 95: 'help',\n",
       " 96: 'his',\n",
       " 97: 'house',\n",
       " 98: 'how',\n",
       " 99: 'i',\n",
       " 100: 'in',\n",
       " 101: 'including',\n",
       " 102: 'is',\n",
       " 103: 'it',\n",
       " 104: 'its',\n",
       " 105: 'july',\n",
       " 106: 'just',\n",
       " 107: 'khartoum',\n",
       " 108: 'kill',\n",
       " 109: 'killed',\n",
       " 110: 'last',\n",
       " 111: 'lead',\n",
       " 112: 'leader',\n",
       " 113: 'leaders',\n",
       " 114: 'least',\n",
       " 115: 'leave',\n",
       " 116: 'led',\n",
       " 117: 'left',\n",
       " 118: 'long-term',\n",
       " 119: 'man',\n",
       " 120: 'media,',\n",
       " 121: 'medics',\n",
       " 122: 'military',\n",
       " 123: 'minister',\n",
       " 124: 'minister,',\n",
       " 125: 'more',\n",
       " 126: 'moving',\n",
       " 127: 'mr',\n",
       " 128: 'much',\n",
       " 129: 'my',\n",
       " 130: 'new',\n",
       " 131: 'noble',\n",
       " 132: 'not',\n",
       " 133: 'november,',\n",
       " 134: 'october',\n",
       " 135: 'octobers',\n",
       " 136: 'of',\n",
       " 137: 'omar',\n",
       " 138: 'omdurman',\n",
       " 139: 'on',\n",
       " 140: 'or',\n",
       " 141: 'overthrow',\n",
       " 142: 'pass',\n",
       " 143: 'people',\n",
       " 144: 'people',\n",
       " 145: 'period',\n",
       " 146: 'planned',\n",
       " 147: 'point',\n",
       " 148: 'political',\n",
       " 149: 'politics',\n",
       " 150: 'popular',\n",
       " 151: 'power',\n",
       " 152: 'power',\n",
       " 153: 'power-sharing',\n",
       " 154: 'president',\n",
       " 155: 'prevent',\n",
       " 156: 'prime',\n",
       " 157: 'pro-democracy',\n",
       " 158: 'protesters',\n",
       " 159: 'protests',\n",
       " 160: 'protests,',\n",
       " 161: 'put',\n",
       " 162: 'reach',\n",
       " 163: 'reached',\n",
       " 164: 'reinstated',\n",
       " 165: 'rejected',\n",
       " 166: 'resignation',\n",
       " 167: 'resistance',\n",
       " 168: 'responsibility',\n",
       " 169: 'rule',\n",
       " 170: 'rule,',\n",
       " 171: 'said',\n",
       " 172: 'saying',\n",
       " 173: 'says',\n",
       " 174: 'seized',\n",
       " 175: 'simple',\n",
       " 176: 'since',\n",
       " 177: 'sliding',\n",
       " 178: 'social',\n",
       " 179: 'still',\n",
       " 180: 'stop',\n",
       " 181: 'streets',\n",
       " 182: 'sudan',\n",
       " 183: 'sudans',\n",
       " 184: 'sunday',\n",
       " 185: 'sunday,',\n",
       " 186: 'supposed',\n",
       " 187: 'survival',\n",
       " 188: 'technocrats',\n",
       " 189: 'televised',\n",
       " 190: 'than',\n",
       " 191: 'that',\n",
       " 192: 'the',\n",
       " 193: 'the',\n",
       " 194: 'they',\n",
       " 195: 'they',\n",
       " 196: 'this',\n",
       " 197: 'thousands',\n",
       " 198: 'threatening',\n",
       " 199: 'threatens',\n",
       " 200: 'through',\n",
       " 201: 'to',\n",
       " 202: 'took',\n",
       " 203: 'towards',\n",
       " 204: 'transition',\n",
       " 205: 'transitional',\n",
       " 206: 'tried',\n",
       " 207: 'trust',\n",
       " 208: 'turning',\n",
       " 209: 'two',\n",
       " 210: 'unclear',\n",
       " 211: 'under',\n",
       " 212: 'uneasy',\n",
       " 213: 'until',\n",
       " 214: 'uprising',\n",
       " 215: 'us',\n",
       " 216: 'war',\n",
       " 217: 'was',\n",
       " 218: 'weeks',\n",
       " 219: 'were',\n",
       " 220: 'whats',\n",
       " 221: 'where',\n",
       " 222: 'whole',\n",
       " 223: 'will',\n",
       " 224: 'with',\n",
       " 225: 'woman',\n",
       " 226: 'would',\n",
       " 227: 'year'}"
      ]
     },
     "execution_count": 46,
     "metadata": {},
     "output_type": "execute_result"
    }
   ],
   "source": [
    "word_dict = {}\n",
    "\n",
    "for index, value in enumerate(news_list):\n",
    "    word_dict[index] = value\n",
    "    \n",
    "word_dict"
   ]
  },
  {
   "cell_type": "code",
   "execution_count": 49,
   "id": "195618df",
   "metadata": {
    "ExecuteTime": {
     "end_time": "2022-01-03T02:23:55.451028Z",
     "start_time": "2022-01-03T02:23:55.431067Z"
    },
    "hidden": true
   },
   "outputs": [
    {
     "data": {
      "text/plain": [
       "{0: '2019',\n",
       " 1: '2022',\n",
       " 2: '2023',\n",
       " 3: 'abdalla',\n",
       " 4: 'abdel',\n",
       " 5: 'according',\n",
       " 6: 'acted',\n",
       " 7: 'activists',\n",
       " 8: 'added',\n",
       " 9: 'address,',\n",
       " 10: 'after',\n",
       " 11: 'agreement',\n",
       " 12: 'aimed',\n",
       " 13: 'al-bashir',\n",
       " 14: 'al-burhan',\n",
       " 15: 'all',\n",
       " 16: 'alone',\n",
       " 17: 'and',\n",
       " 18: 'announce',\n",
       " 19: 'announced',\n",
       " 20: 'another',\n",
       " 21: 'army',\n",
       " 22: 'arrest,',\n",
       " 23: 'authoritarian',\n",
       " 24: 'back',\n",
       " 25: 'been',\n",
       " 26: 'best',\n",
       " 27: 'betrayed',\n",
       " 28: 'but',\n",
       " 29: 'cabinet',\n",
       " 30: 'called',\n",
       " 31: 'cannot',\n",
       " 32: 'capital',\n",
       " 33: 'central',\n",
       " 34: 'chance',\n",
       " 35: 'chanted',\n",
       " 36: 'city',\n",
       " 37: 'civil',\n",
       " 38: 'civilian',\n",
       " 39: 'committed',\n",
       " 40: 'committee',\n",
       " 41: 'consensus',\n",
       " 42: 'continuation',\n",
       " 43: 'controversial',\n",
       " 44: 'country',\n",
       " 45: 'country,',\n",
       " 46: 'coup',\n",
       " 47: 'coup,',\n",
       " 48: 'coup:',\n",
       " 49: 'coups',\n",
       " 50: 'dangerous',\n",
       " 51: 'day',\n",
       " 52: 'deal',\n",
       " 53: 'deal,',\n",
       " 54: 'decided',\n",
       " 55: 'defended',\n",
       " 56: 'defying',\n",
       " 57: 'demanding',\n",
       " 58: 'democratic',\n",
       " 59: 'despite',\n",
       " 60: 'did',\n",
       " 61: 'disaster,',\n",
       " 62: 'doctors',\n",
       " 63: 'done',\n",
       " 64: 'elections',\n",
       " 65: 'entered',\n",
       " 66: 'entirely',\n",
       " 67: 'erupt',\n",
       " 68: 'everything',\n",
       " 69: 'fattah',\n",
       " 70: 'followed',\n",
       " 71: 'following',\n",
       " 72: 'for',\n",
       " 73: 'from',\n",
       " 74: 'gen',\n",
       " 75: 'generals',\n",
       " 76: 'generals:',\n",
       " 77: 'generation',\n",
       " 78: 'give',\n",
       " 79: 'government',\n",
       " 80: 'guide',\n",
       " 81: 'had',\n",
       " 82: 'hamdok',\n",
       " 83: 'happened',\n",
       " 84: 'has',\n",
       " 85: 'have',\n",
       " 86: 'have,',\n",
       " 87: 'held',\n",
       " 88: 'help',\n",
       " 89: 'his',\n",
       " 90: 'house',\n",
       " 91: 'how',\n",
       " 92: 'including',\n",
       " 93: 'its',\n",
       " 94: 'july',\n",
       " 95: 'just',\n",
       " 96: 'khartoum',\n",
       " 97: 'kill',\n",
       " 98: 'killed',\n",
       " 99: 'last',\n",
       " 100: 'lead',\n",
       " 101: 'leader',\n",
       " 102: 'leaders',\n",
       " 103: 'least',\n",
       " 104: 'leave',\n",
       " 105: 'led',\n",
       " 106: 'left',\n",
       " 107: 'long-term',\n",
       " 108: 'man',\n",
       " 109: 'media,',\n",
       " 110: 'medics',\n",
       " 111: 'military',\n",
       " 112: 'minister',\n",
       " 113: 'minister,',\n",
       " 114: 'more',\n",
       " 115: 'moving',\n",
       " 116: 'much',\n",
       " 117: 'new',\n",
       " 118: 'noble',\n",
       " 119: 'not',\n",
       " 120: 'november,',\n",
       " 121: 'october',\n",
       " 122: 'octobers',\n",
       " 123: 'omar',\n",
       " 124: 'omdurman',\n",
       " 125: 'overthrow',\n",
       " 126: 'pass',\n",
       " 127: 'people',\n",
       " 128: 'people',\n",
       " 129: 'period',\n",
       " 130: 'planned',\n",
       " 131: 'point',\n",
       " 132: 'political',\n",
       " 133: 'politics',\n",
       " 134: 'popular',\n",
       " 135: 'power',\n",
       " 136: 'power',\n",
       " 137: 'power-sharing',\n",
       " 138: 'president',\n",
       " 139: 'prevent',\n",
       " 140: 'prime',\n",
       " 141: 'pro-democracy',\n",
       " 142: 'protesters',\n",
       " 143: 'protests',\n",
       " 144: 'protests,',\n",
       " 145: 'put',\n",
       " 146: 'reach',\n",
       " 147: 'reached',\n",
       " 148: 'reinstated',\n",
       " 149: 'rejected',\n",
       " 150: 'resignation',\n",
       " 151: 'resistance',\n",
       " 152: 'responsibility',\n",
       " 153: 'rule',\n",
       " 154: 'rule,',\n",
       " 155: 'said',\n",
       " 156: 'saying',\n",
       " 157: 'says',\n",
       " 158: 'seized',\n",
       " 159: 'simple',\n",
       " 160: 'since',\n",
       " 161: 'sliding',\n",
       " 162: 'social',\n",
       " 163: 'still',\n",
       " 164: 'stop',\n",
       " 165: 'streets',\n",
       " 166: 'sudan',\n",
       " 167: 'sudans',\n",
       " 168: 'sunday',\n",
       " 169: 'sunday,',\n",
       " 170: 'supposed',\n",
       " 171: 'survival',\n",
       " 172: 'technocrats',\n",
       " 173: 'televised',\n",
       " 174: 'than',\n",
       " 175: 'that',\n",
       " 176: 'the',\n",
       " 177: 'the',\n",
       " 178: 'they',\n",
       " 179: 'they',\n",
       " 180: 'this',\n",
       " 181: 'thousands',\n",
       " 182: 'threatening',\n",
       " 183: 'threatens',\n",
       " 184: 'through',\n",
       " 185: 'took',\n",
       " 186: 'towards',\n",
       " 187: 'transition',\n",
       " 188: 'transitional',\n",
       " 189: 'tried',\n",
       " 190: 'trust',\n",
       " 191: 'turning',\n",
       " 192: 'two',\n",
       " 193: 'unclear',\n",
       " 194: 'under',\n",
       " 195: 'uneasy',\n",
       " 196: 'until',\n",
       " 197: 'uprising',\n",
       " 198: 'war',\n",
       " 199: 'was',\n",
       " 200: 'weeks',\n",
       " 201: 'were',\n",
       " 202: 'whats',\n",
       " 203: 'where',\n",
       " 204: 'whole',\n",
       " 205: 'will',\n",
       " 206: 'with',\n",
       " 207: 'woman',\n",
       " 208: 'would',\n",
       " 209: 'year'}"
      ]
     },
     "execution_count": 49,
     "metadata": {},
     "output_type": "execute_result"
    }
   ],
   "source": [
    "# word_dic 딕셔너리에서 단어 길이 3 이상인 것만 추출해서 별도 딕셔너리 생성\n",
    "word_dict_over3 = {}\n",
    "\n",
    "word_over3 = [text for text in word_dict.values() if len(text) >= 3]\n",
    "for index, value in enumerate(word_over3):\n",
    "    word_dict_over3[index] = value\n",
    "    \n",
    "word_dict_over3"
   ]
  },
  {
   "cell_type": "code",
   "execution_count": 53,
   "id": "fbeb2266",
   "metadata": {
    "ExecuteTime": {
     "end_time": "2022-01-03T02:33:47.626892Z",
     "start_time": "2022-01-03T02:33:47.609877Z"
    },
    "hidden": true
   },
   "outputs": [
    {
     "data": {
      "text/plain": [
       "{0: '2019',\n",
       " 1: '2022',\n",
       " 2: '2023',\n",
       " 5: 'abdalla',\n",
       " 6: 'abdel',\n",
       " 7: 'according',\n",
       " 8: 'acted',\n",
       " 9: 'activists',\n",
       " 10: 'added',\n",
       " 11: 'address,',\n",
       " 12: 'after',\n",
       " 13: 'agreement',\n",
       " 14: 'aimed',\n",
       " 15: 'al-bashir',\n",
       " 16: 'al-burhan',\n",
       " 17: 'all',\n",
       " 18: 'alone',\n",
       " 20: 'and',\n",
       " 21: 'announce',\n",
       " 22: 'announced',\n",
       " 23: 'another',\n",
       " 24: 'army',\n",
       " 25: 'arrest,',\n",
       " 28: 'authoritarian',\n",
       " 29: 'back',\n",
       " 31: 'been',\n",
       " 32: 'best',\n",
       " 33: 'betrayed',\n",
       " 34: 'but',\n",
       " 35: 'cabinet',\n",
       " 36: 'called',\n",
       " 37: 'cannot',\n",
       " 38: 'capital',\n",
       " 39: 'central',\n",
       " 40: 'chance',\n",
       " 41: 'chanted',\n",
       " 42: 'city',\n",
       " 43: 'civil',\n",
       " 44: 'civilian',\n",
       " 45: 'committed',\n",
       " 46: 'committee',\n",
       " 47: 'consensus',\n",
       " 48: 'continuation',\n",
       " 49: 'controversial',\n",
       " 50: 'country',\n",
       " 51: 'country,',\n",
       " 52: 'coup',\n",
       " 53: 'coup,',\n",
       " 54: 'coup:',\n",
       " 55: 'coups',\n",
       " 56: 'dangerous',\n",
       " 57: 'day',\n",
       " 58: 'deal',\n",
       " 59: 'deal,',\n",
       " 60: 'decided',\n",
       " 61: 'defended',\n",
       " 62: 'defying',\n",
       " 63: 'demanding',\n",
       " 64: 'democratic',\n",
       " 65: 'despite',\n",
       " 66: 'did',\n",
       " 67: 'disaster,',\n",
       " 68: 'doctors',\n",
       " 69: 'done',\n",
       " 70: 'elections',\n",
       " 71: 'entered',\n",
       " 72: 'entirely',\n",
       " 73: 'erupt',\n",
       " 74: 'everything',\n",
       " 75: 'fattah',\n",
       " 76: 'followed',\n",
       " 77: 'following',\n",
       " 78: 'for',\n",
       " 79: 'from',\n",
       " 80: 'gen',\n",
       " 81: 'generals',\n",
       " 82: 'generals:',\n",
       " 83: 'generation',\n",
       " 84: 'give',\n",
       " 85: 'government',\n",
       " 86: 'guide',\n",
       " 87: 'had',\n",
       " 88: 'hamdok',\n",
       " 89: 'happened',\n",
       " 90: 'has',\n",
       " 91: 'have',\n",
       " 92: 'have,',\n",
       " 94: 'held',\n",
       " 95: 'help',\n",
       " 96: 'his',\n",
       " 97: 'house',\n",
       " 98: 'how',\n",
       " 101: 'including',\n",
       " 104: 'its',\n",
       " 105: 'july',\n",
       " 106: 'just',\n",
       " 107: 'khartoum',\n",
       " 108: 'kill',\n",
       " 109: 'killed',\n",
       " 110: 'last',\n",
       " 111: 'lead',\n",
       " 112: 'leader',\n",
       " 113: 'leaders',\n",
       " 114: 'least',\n",
       " 115: 'leave',\n",
       " 116: 'led',\n",
       " 117: 'left',\n",
       " 118: 'long-term',\n",
       " 119: 'man',\n",
       " 120: 'media,',\n",
       " 121: 'medics',\n",
       " 122: 'military',\n",
       " 123: 'minister',\n",
       " 124: 'minister,',\n",
       " 125: 'more',\n",
       " 126: 'moving',\n",
       " 128: 'much',\n",
       " 130: 'new',\n",
       " 131: 'noble',\n",
       " 132: 'not',\n",
       " 133: 'november,',\n",
       " 134: 'october',\n",
       " 135: 'octobers',\n",
       " 137: 'omar',\n",
       " 138: 'omdurman',\n",
       " 141: 'overthrow',\n",
       " 142: 'pass',\n",
       " 143: 'people',\n",
       " 144: 'people',\n",
       " 145: 'period',\n",
       " 146: 'planned',\n",
       " 147: 'point',\n",
       " 148: 'political',\n",
       " 149: 'politics',\n",
       " 150: 'popular',\n",
       " 151: 'power',\n",
       " 152: 'power',\n",
       " 153: 'power-sharing',\n",
       " 154: 'president',\n",
       " 155: 'prevent',\n",
       " 156: 'prime',\n",
       " 157: 'pro-democracy',\n",
       " 158: 'protesters',\n",
       " 159: 'protests',\n",
       " 160: 'protests,',\n",
       " 161: 'put',\n",
       " 162: 'reach',\n",
       " 163: 'reached',\n",
       " 164: 'reinstated',\n",
       " 165: 'rejected',\n",
       " 166: 'resignation',\n",
       " 167: 'resistance',\n",
       " 168: 'responsibility',\n",
       " 169: 'rule',\n",
       " 170: 'rule,',\n",
       " 171: 'said',\n",
       " 172: 'saying',\n",
       " 173: 'says',\n",
       " 174: 'seized',\n",
       " 175: 'simple',\n",
       " 176: 'since',\n",
       " 177: 'sliding',\n",
       " 178: 'social',\n",
       " 179: 'still',\n",
       " 180: 'stop',\n",
       " 181: 'streets',\n",
       " 182: 'sudan',\n",
       " 183: 'sudans',\n",
       " 184: 'sunday',\n",
       " 185: 'sunday,',\n",
       " 186: 'supposed',\n",
       " 187: 'survival',\n",
       " 188: 'technocrats',\n",
       " 189: 'televised',\n",
       " 190: 'than',\n",
       " 191: 'that',\n",
       " 192: 'the',\n",
       " 193: 'the',\n",
       " 194: 'they',\n",
       " 195: 'they',\n",
       " 196: 'this',\n",
       " 197: 'thousands',\n",
       " 198: 'threatening',\n",
       " 199: 'threatens',\n",
       " 200: 'through',\n",
       " 202: 'took',\n",
       " 203: 'towards',\n",
       " 204: 'transition',\n",
       " 205: 'transitional',\n",
       " 206: 'tried',\n",
       " 207: 'trust',\n",
       " 208: 'turning',\n",
       " 209: 'two',\n",
       " 210: 'unclear',\n",
       " 211: 'under',\n",
       " 212: 'uneasy',\n",
       " 213: 'until',\n",
       " 214: 'uprising',\n",
       " 216: 'war',\n",
       " 217: 'was',\n",
       " 218: 'weeks',\n",
       " 219: 'were',\n",
       " 220: 'whats',\n",
       " 221: 'where',\n",
       " 222: 'whole',\n",
       " 223: 'will',\n",
       " 224: 'with',\n",
       " 225: 'woman',\n",
       " 226: 'would',\n",
       " 227: 'year'}"
      ]
     },
     "execution_count": 53,
     "metadata": {},
     "output_type": "execute_result"
    }
   ],
   "source": [
    "news_dict2 = {index:word for index, word in word_dict.items() if len(word) >= 3}\n",
    "news_dict2"
   ]
  },
  {
   "cell_type": "code",
   "execution_count": 55,
   "id": "e14a5cd4",
   "metadata": {
    "ExecuteTime": {
     "end_time": "2022-01-03T02:36:53.171049Z",
     "start_time": "2022-01-03T02:36:53.158967Z"
    },
    "hidden": true
   },
   "outputs": [
    {
     "data": {
      "text/plain": [
       "<generator object <genexpr> at 0x000002C133C1CDD0>"
      ]
     },
     "execution_count": 55,
     "metadata": {},
     "output_type": "execute_result"
    }
   ],
   "source": [
    "word_tuple = (word for word in word_dict.values() if len(word) >= 3)\n",
    "word_tuple"
   ]
  },
  {
   "cell_type": "code",
   "execution_count": 60,
   "id": "7bf54e73",
   "metadata": {
    "ExecuteTime": {
     "end_time": "2022-01-03T02:37:08.457011Z",
     "start_time": "2022-01-03T02:37:08.447196Z"
    },
    "hidden": true
   },
   "outputs": [
    {
     "data": {
      "text/plain": [
       "'abdel'"
      ]
     },
     "execution_count": 60,
     "metadata": {},
     "output_type": "execute_result"
    }
   ],
   "source": [
    "next(word_tuple)"
   ]
  },
  {
   "cell_type": "markdown",
   "id": "28399016",
   "metadata": {
    "heading_collapsed": true
   },
   "source": [
    "## 제어문"
   ]
  },
  {
   "cell_type": "code",
   "execution_count": 82,
   "id": "9b78168c",
   "metadata": {
    "ExecuteTime": {
     "end_time": "2022-01-03T02:51:03.597211Z",
     "start_time": "2022-01-03T02:51:03.575116Z"
    },
    "hidden": true
   },
   "outputs": [
    {
     "data": {
      "text/plain": [
       "(100000, 5)"
      ]
     },
     "execution_count": 82,
     "metadata": {},
     "output_type": "execute_result"
    }
   ],
   "source": [
    "import numpy as np\n",
    "\n",
    "a = np.arange(500000).reshape(-1, 5)\n",
    "a.shape"
   ]
  },
  {
   "cell_type": "code",
   "execution_count": 83,
   "id": "48cb0b77",
   "metadata": {
    "ExecuteTime": {
     "end_time": "2022-01-03T02:51:05.304174Z",
     "start_time": "2022-01-03T02:51:05.291581Z"
    },
    "hidden": true
   },
   "outputs": [],
   "source": [
    "# 짝수 행 0으로 치환"
   ]
  },
  {
   "cell_type": "code",
   "execution_count": 84,
   "id": "339c43a7",
   "metadata": {
    "ExecuteTime": {
     "end_time": "2022-01-03T02:51:06.722902Z",
     "start_time": "2022-01-03T02:51:06.576262Z"
    },
    "hidden": true
   },
   "outputs": [
    {
     "name": "stdout",
     "output_type": "stream",
     "text": [
      "Wall time: 130 ms\n"
     ]
    }
   ],
   "source": [
    "%%time\n",
    "row, col = a.shape\n",
    "\n",
    "for x in range(row):\n",
    "    for y in range(col):\n",
    "        if((y+1)%2==0):\n",
    "            a[x, y] = 0"
   ]
  },
  {
   "cell_type": "code",
   "execution_count": 85,
   "id": "a938b61d",
   "metadata": {
    "ExecuteTime": {
     "end_time": "2022-01-03T02:51:12.869803Z",
     "start_time": "2022-01-03T02:51:12.863117Z"
    },
    "hidden": true
   },
   "outputs": [],
   "source": [
    "a = np.arange(500000).reshape(-1, 5)\n",
    "row, col = a.shape"
   ]
  },
  {
   "cell_type": "code",
   "execution_count": 86,
   "id": "e1daa2a3",
   "metadata": {
    "ExecuteTime": {
     "end_time": "2022-01-03T02:51:14.474467Z",
     "start_time": "2022-01-03T02:51:14.393559Z"
    },
    "hidden": true
   },
   "outputs": [
    {
     "name": "stdout",
     "output_type": "stream",
     "text": [
      "Wall time: 71.3 ms\n"
     ]
    }
   ],
   "source": [
    "%%time\n",
    "for y in range(row):\n",
    "    if(y%2==0):\n",
    "        for x in range(col):\n",
    "            a[y, x] = 0"
   ]
  },
  {
   "cell_type": "code",
   "execution_count": 87,
   "id": "69e53d42",
   "metadata": {
    "ExecuteTime": {
     "end_time": "2022-01-03T02:51:17.542714Z",
     "start_time": "2022-01-03T02:51:17.530270Z"
    },
    "hidden": true
   },
   "outputs": [],
   "source": [
    "a = np.arange(500000).reshape(-1, 5)\n",
    "row, col = a.shape"
   ]
  },
  {
   "cell_type": "code",
   "execution_count": 88,
   "id": "411b87aa",
   "metadata": {
    "ExecuteTime": {
     "end_time": "2022-01-03T02:51:18.475556Z",
     "start_time": "2022-01-03T02:51:18.410812Z"
    },
    "hidden": true
   },
   "outputs": [
    {
     "name": "stdout",
     "output_type": "stream",
     "text": [
      "Wall time: 50.7 ms\n"
     ]
    }
   ],
   "source": [
    "%%time\n",
    "\n",
    "for y in range(row):\n",
    "    if(y%2==0):\n",
    "        a[y, :] = 0"
   ]
  },
  {
   "cell_type": "code",
   "execution_count": 89,
   "id": "d9194a4a",
   "metadata": {
    "ExecuteTime": {
     "end_time": "2022-01-03T03:07:24.507731Z",
     "start_time": "2022-01-03T03:07:24.481415Z"
    },
    "hidden": true,
    "scrolled": true
   },
   "outputs": [
    {
     "name": "stdout",
     "output_type": "stream",
     "text": [
      "0 0\n",
      "0 1\n",
      "0 2\n",
      "0 3\n",
      "0 4\n",
      "0 5\n",
      "0 6\n",
      "0 7\n",
      "0 8\n",
      "0 9\n",
      "1 0\n",
      "1 1\n",
      "1 2\n",
      "1 3\n",
      "1 4\n",
      "1 5\n",
      "1 6\n",
      "1 7\n",
      "1 8\n",
      "1 9\n",
      "2 0\n",
      "2 1\n",
      "2 2\n",
      "2 3\n",
      "2 4\n",
      "2 5\n",
      "2 6\n",
      "2 7\n",
      "2 8\n",
      "2 9\n",
      "3 0\n",
      "3 1\n",
      "3 2\n",
      "3 3\n",
      "3 4\n",
      "3 5\n",
      "3 6\n",
      "3 7\n",
      "3 8\n",
      "3 9\n",
      "4 0\n",
      "4 1\n",
      "4 2\n",
      "4 3\n",
      "4 4\n",
      "4 5\n",
      "4 6\n",
      "4 7\n",
      "4 8\n",
      "4 9\n",
      "5 0\n",
      "5 1\n",
      "5 2\n",
      "5 3\n",
      "5 4\n",
      "5 5\n",
      "5 6\n",
      "5 7\n",
      "5 8\n",
      "5 9\n",
      "6 0\n",
      "6 1\n",
      "6 2\n",
      "6 3\n",
      "6 4\n",
      "6 5\n",
      "6 6\n",
      "6 7\n",
      "6 8\n",
      "6 9\n"
     ]
    }
   ],
   "source": [
    "flag = False\n",
    "for i in range(10):\n",
    "    for j in range(10):\n",
    "        if i>5:\n",
    "            flag = True\n",
    "        print(i, j)\n",
    "    if flag:\n",
    "        break"
   ]
  },
  {
   "cell_type": "markdown",
   "id": "a76a653b",
   "metadata": {},
   "source": [
    "## 함수"
   ]
  },
  {
   "cell_type": "code",
   "execution_count": 98,
   "id": "6075bd3f",
   "metadata": {
    "ExecuteTime": {
     "end_time": "2022-01-03T03:16:42.497687Z",
     "start_time": "2022-01-03T03:16:42.489948Z"
    }
   },
   "outputs": [],
   "source": [
    "# 함수의 정의와 함수 매개변수, 인수 등에 대한 것\n",
    "# 함수 파라미터가 기본 값을 가질 경우 선택 매개변수\n",
    "# 기본 값 안가질 경우, 필수 매개변수\n",
    "def func1(a=10, b=20):\n",
    "    '''\n",
    "this function execute multiply\n",
    "'''\n",
    "    return a*b"
   ]
  },
  {
   "cell_type": "code",
   "execution_count": 99,
   "id": "dfd725eb",
   "metadata": {
    "ExecuteTime": {
     "end_time": "2022-01-03T03:16:47.070874Z",
     "start_time": "2022-01-03T03:16:47.059075Z"
    }
   },
   "outputs": [
    {
     "data": {
      "text/plain": [
       "200"
      ]
     },
     "execution_count": 99,
     "metadata": {},
     "output_type": "execute_result"
    }
   ],
   "source": [
    "func1()"
   ]
  },
  {
   "cell_type": "code",
   "execution_count": 100,
   "id": "9dba5fba",
   "metadata": {
    "ExecuteTime": {
     "end_time": "2022-01-03T03:18:26.513313Z",
     "start_time": "2022-01-03T03:18:26.499614Z"
    }
   },
   "outputs": [],
   "source": [
    "def func2(a, b=2):\n",
    "    return a**b"
   ]
  },
  {
   "cell_type": "code",
   "execution_count": 101,
   "id": "cdd123df",
   "metadata": {
    "ExecuteTime": {
     "end_time": "2022-01-03T03:18:32.100747Z",
     "start_time": "2022-01-03T03:18:32.078648Z"
    }
   },
   "outputs": [
    {
     "data": {
      "text/plain": [
       "16"
      ]
     },
     "execution_count": 101,
     "metadata": {},
     "output_type": "execute_result"
    }
   ],
   "source": [
    "func2(4)"
   ]
  },
  {
   "cell_type": "code",
   "execution_count": 102,
   "id": "3e52f340",
   "metadata": {
    "ExecuteTime": {
     "end_time": "2022-01-03T03:18:49.856816Z",
     "start_time": "2022-01-03T03:18:49.837402Z"
    }
   },
   "outputs": [
    {
     "data": {
      "text/plain": [
       "8"
      ]
     },
     "execution_count": 102,
     "metadata": {},
     "output_type": "execute_result"
    }
   ],
   "source": [
    "func2(2, 3) # 순서 인수"
   ]
  },
  {
   "cell_type": "code",
   "execution_count": 103,
   "id": "9fbd428d",
   "metadata": {
    "ExecuteTime": {
     "end_time": "2022-01-03T03:19:15.377832Z",
     "start_time": "2022-01-03T03:19:15.368068Z"
    }
   },
   "outputs": [
    {
     "data": {
      "text/plain": [
       "8"
      ]
     },
     "execution_count": 103,
     "metadata": {},
     "output_type": "execute_result"
    }
   ],
   "source": [
    "func2(b=3, a=2) # 키워드 인수"
   ]
  },
  {
   "cell_type": "code",
   "execution_count": 107,
   "id": "c6e37980",
   "metadata": {
    "ExecuteTime": {
     "end_time": "2022-01-03T03:23:01.614260Z",
     "start_time": "2022-01-03T03:23:01.606072Z"
    }
   },
   "outputs": [],
   "source": [
    "# 함수의 중복: 같은 네임스페이스 안에 같은 이름의 함수를 정의하는 것\n",
    "# 파이썬은 함수 중복 지원 못함 => 데이터 타입 체크 안하기 때문"
   ]
  },
  {
   "cell_type": "code",
   "execution_count": 105,
   "id": "4103ff97",
   "metadata": {
    "ExecuteTime": {
     "end_time": "2022-01-03T03:22:20.158103Z",
     "start_time": "2022-01-03T03:22:20.140616Z"
    }
   },
   "outputs": [],
   "source": [
    "def add_func(a, b, c):\n",
    "    return a+b+c"
   ]
  },
  {
   "cell_type": "code",
   "execution_count": 108,
   "id": "b292eb85",
   "metadata": {
    "ExecuteTime": {
     "end_time": "2022-01-03T03:25:40.457223Z",
     "start_time": "2022-01-03T03:25:40.446710Z"
    }
   },
   "outputs": [
    {
     "data": {
      "text/plain": [
       "9"
      ]
     },
     "execution_count": 108,
     "metadata": {},
     "output_type": "execute_result"
    }
   ],
   "source": [
    "add_func(2, 3, 4)"
   ]
  },
  {
   "cell_type": "code",
   "execution_count": 115,
   "id": "f7cf95a7",
   "metadata": {
    "ExecuteTime": {
     "end_time": "2022-01-03T03:30:36.701442Z",
     "start_time": "2022-01-03T03:30:36.688529Z"
    }
   },
   "outputs": [],
   "source": [
    "def add_func(a=3, *data): # 매개변수에 *가 붙으면 튜플 매개변수\n",
    "    sum = 0\n",
    "    for d in data:\n",
    "        sum = sum + d\n",
    "    return sum\n",
    "# 순서인수에서 필수 매개변수에 할당되는 값을 제외한 나머지 인수를 스쿠핑해서\n",
    "# 튜플 매개변수에 할당"
   ]
  },
  {
   "cell_type": "code",
   "execution_count": 116,
   "id": "81316184",
   "metadata": {
    "ExecuteTime": {
     "end_time": "2022-01-03T03:30:38.208211Z",
     "start_time": "2022-01-03T03:30:38.189030Z"
    }
   },
   "outputs": [
    {
     "data": {
      "text/plain": [
       "12"
      ]
     },
     "execution_count": 116,
     "metadata": {},
     "output_type": "execute_result"
    }
   ],
   "source": [
    "add_func(2, 3, 4, 5)"
   ]
  },
  {
   "cell_type": "code",
   "execution_count": 117,
   "id": "0fce2604",
   "metadata": {
    "ExecuteTime": {
     "end_time": "2022-01-03T03:30:42.628230Z",
     "start_time": "2022-01-03T03:30:42.607976Z"
    }
   },
   "outputs": [
    {
     "data": {
      "text/plain": [
       "0"
      ]
     },
     "execution_count": 117,
     "metadata": {},
     "output_type": "execute_result"
    }
   ],
   "source": [
    "add_func()"
   ]
  },
  {
   "cell_type": "code",
   "execution_count": 118,
   "id": "0b6793c2",
   "metadata": {
    "ExecuteTime": {
     "end_time": "2022-01-03T03:34:01.810126Z",
     "start_time": "2022-01-03T03:34:01.794898Z"
    }
   },
   "outputs": [],
   "source": [
    "def some_func(a, b=0, *c):\n",
    "    print(a, b, c)"
   ]
  },
  {
   "cell_type": "code",
   "execution_count": 119,
   "id": "5c5b767d",
   "metadata": {
    "ExecuteTime": {
     "end_time": "2022-01-03T03:34:09.682441Z",
     "start_time": "2022-01-03T03:34:09.663993Z"
    }
   },
   "outputs": [
    {
     "name": "stdout",
     "output_type": "stream",
     "text": [
      "1 2 (3,)\n"
     ]
    }
   ],
   "source": [
    "some_func(1, 2, 3)"
   ]
  },
  {
   "cell_type": "code",
   "execution_count": 121,
   "id": "05c7baf5",
   "metadata": {
    "ExecuteTime": {
     "end_time": "2022-01-03T03:37:10.953866Z",
     "start_time": "2022-01-03T03:37:10.946310Z"
    }
   },
   "outputs": [],
   "source": [
    "def some_func2(a, *c, b=0):\n",
    "    print(a, b, c)\n",
    "# 기본 인수 맨 뒤에 배치"
   ]
  },
  {
   "cell_type": "code",
   "execution_count": 123,
   "id": "f0c7c70e",
   "metadata": {
    "ExecuteTime": {
     "end_time": "2022-01-03T03:37:52.085034Z",
     "start_time": "2022-01-03T03:37:52.076310Z"
    }
   },
   "outputs": [
    {
     "name": "stdout",
     "output_type": "stream",
     "text": [
      "1 4 (2, 3, 4)\n"
     ]
    }
   ],
   "source": [
    "some_func2(1, 2, 3, 4, b=4)"
   ]
  },
  {
   "cell_type": "code",
   "execution_count": 124,
   "id": "2c459a52",
   "metadata": {
    "ExecuteTime": {
     "end_time": "2022-01-03T03:40:38.578318Z",
     "start_time": "2022-01-03T03:40:38.563288Z"
    }
   },
   "outputs": [],
   "source": [
    "def some_func3(a, *c, b=0, **d): # **가 붙으면 딕셔너리 매개변수\n",
    "    print(a, b, c, d)"
   ]
  },
  {
   "cell_type": "code",
   "execution_count": 125,
   "id": "9b28d8b3",
   "metadata": {
    "ExecuteTime": {
     "end_time": "2022-01-03T03:41:32.286725Z",
     "start_time": "2022-01-03T03:41:32.277220Z"
    }
   },
   "outputs": [
    {
     "name": "stdout",
     "output_type": "stream",
     "text": [
      "1 4 (2, 3) {'e': 10, 'f': 20}\n"
     ]
    }
   ],
   "source": [
    "some_func3(1, 2, 3, b=4, e=10, f=20) \n",
    "# 키워드 인수를 매핑시키고 남는 것을 딕셔너리로 스쿠핑"
   ]
  },
  {
   "cell_type": "code",
   "execution_count": null,
   "id": "b03c129c",
   "metadata": {
    "ExecuteTime": {
     "start_time": "2022-01-03T05:07:40.335Z"
    }
   },
   "outputs": [],
   "source": [
    "import seaborn as sns\n",
    "\n",
    "iris = sns.load_dataset('iris')\n",
    "g = sns.PairGrid(iris)"
   ]
  }
 ],
 "metadata": {
  "kernelspec": {
   "display_name": "saltlux_lecture",
   "language": "python",
   "name": "saltlux_lecture"
  },
  "language_info": {
   "codemirror_mode": {
    "name": "ipython",
    "version": 3
   },
   "file_extension": ".py",
   "mimetype": "text/x-python",
   "name": "python",
   "nbconvert_exporter": "python",
   "pygments_lexer": "ipython3",
   "version": "3.9.7"
  },
  "toc": {
   "base_numbering": 1,
   "nav_menu": {},
   "number_sections": true,
   "sideBar": true,
   "skip_h1_title": false,
   "title_cell": "Table of Contents",
   "title_sidebar": "Contents",
   "toc_cell": false,
   "toc_position": {
    "height": "calc(100% - 180px)",
    "left": "10px",
    "top": "150px",
    "width": "186.188px"
   },
   "toc_section_display": true,
   "toc_window_display": true
  }
 },
 "nbformat": 4,
 "nbformat_minor": 5
}
