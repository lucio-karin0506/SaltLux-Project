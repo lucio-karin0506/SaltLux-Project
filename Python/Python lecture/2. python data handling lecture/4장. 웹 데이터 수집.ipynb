{
 "cells": [
  {
   "cell_type": "markdown",
   "id": "c9f2b50c",
   "metadata": {},
   "source": [
    "## 1절. 뷰티풀솝과 파서"
   ]
  },
  {
   "cell_type": "code",
   "execution_count": 15,
   "id": "97f13864",
   "metadata": {
    "ExecuteTime": {
     "end_time": "2021-12-01T06:33:12.156237Z",
     "start_time": "2021-12-01T06:33:12.141277Z"
    }
   },
   "outputs": [
    {
     "data": {
      "text/plain": [
       "<Response [200]>"
      ]
     },
     "execution_count": 15,
     "metadata": {},
     "output_type": "execute_result"
    }
   ],
   "source": [
    "import requests\n",
    "from requests_file import FileAdapter\n",
    "\n",
    "s = requests.Session()\n",
    "s.mount('file://', FileAdapter())\n",
    "res = s.get('file:///sample.html')\n",
    "res"
   ]
  },
  {
   "cell_type": "code",
   "execution_count": 16,
   "id": "4e2ae3f3",
   "metadata": {
    "ExecuteTime": {
     "end_time": "2021-12-01T06:33:15.508697Z",
     "start_time": "2021-12-01T06:33:15.382616Z"
    }
   },
   "outputs": [],
   "source": [
    "from bs4 import BeautifulSoup\n",
    "soup = BeautifulSoup(res.content, 'html.parser')"
   ]
  },
  {
   "cell_type": "code",
   "execution_count": 17,
   "id": "21311f2c",
   "metadata": {
    "ExecuteTime": {
     "end_time": "2021-12-01T06:33:17.807316Z",
     "start_time": "2021-12-01T06:33:17.800337Z"
    }
   },
   "outputs": [
    {
     "name": "stdout",
     "output_type": "stream",
     "text": [
      "<h1>Hello CSS</h1>\n"
     ]
    }
   ],
   "source": [
    "el = soup.select_one('h1')\n",
    "print(el)"
   ]
  },
  {
   "cell_type": "code",
   "execution_count": 18,
   "id": "f706542c",
   "metadata": {
    "ExecuteTime": {
     "end_time": "2021-12-01T06:33:34.955276Z",
     "start_time": "2021-12-01T06:33:34.947302Z"
    }
   },
   "outputs": [
    {
     "data": {
      "text/plain": [
       "('Hello CSS', 'h1', {})"
      ]
     },
     "execution_count": 18,
     "metadata": {},
     "output_type": "execute_result"
    }
   ],
   "source": [
    "el.text, el.name, el.attrs"
   ]
  },
  {
   "cell_type": "code",
   "execution_count": 19,
   "id": "5e4c017f",
   "metadata": {
    "ExecuteTime": {
     "end_time": "2021-12-01T06:34:53.285278Z",
     "start_time": "2021-12-01T06:34:53.280292Z"
    }
   },
   "outputs": [
    {
     "data": {
      "text/plain": [
       "[<h1>Hello CSS</h1>,\n",
       " <span>다른\n",
       " <b>요소가 반환</b></span>]"
      ]
     },
     "execution_count": 19,
     "metadata": {},
     "output_type": "execute_result"
    }
   ],
   "source": [
    "soup.select('h1, span')"
   ]
  },
  {
   "cell_type": "markdown",
   "id": "0f9a5b71",
   "metadata": {},
   "source": [
    "## 2절. requests를 이용한 웹 데이터 수집"
   ]
  },
  {
   "cell_type": "markdown",
   "id": "8444e821",
   "metadata": {},
   "source": [
    "## 3절. Selenium을 이용한 웹 데이터 수집"
   ]
  },
  {
   "cell_type": "markdown",
   "id": "80d15a05",
   "metadata": {},
   "source": [
    "## 4절. 연습문제"
   ]
  },
  {
   "cell_type": "code",
   "execution_count": 37,
   "id": "2760bf3b",
   "metadata": {},
   "outputs": [],
   "source": [
    "# 실습형 1번\n",
    "from bs4 import BeautifulSoup\n",
    "import requests\n",
    "import pandas as pd\n",
    "import re\n",
    "\n",
    "response = requests.get('https://www.yes24.com/24/category/bestseller')\n",
    "\n",
    "if response.status_code == 200:\n",
    "    html = response.text\n",
    "    soup = BeautifulSoup(html, 'html.parser')\n",
    "    title_list = []\n",
    "\n",
    "    # 선택자 copy result\n",
    "    # #bestList > ol > li.num1 > p:nth-child(3) > a\n",
    "    num_filter = re.compile('^num')\n",
    "\n",
    "    num_tag = soup.find_all('li', class_=num_filter)\n",
    "    for i in num_tag:\n",
    "        selected_a_tag = i.select('p:nth-child(3) > a')\n",
    "        title_list.append(selected_a_tag[0])\n",
    "    \n",
    "    title_list = [title.text for title in title_list]\n",
    "    title_rank = [num for num in range(1, len(title_list) + 1)]\n",
    "    \n",
    "    title_df = pd.DataFrame(title_list, index=title_rank, columns=['영화제목'])\n",
    "    # print(title_df)\n",
    "else:\n",
    "    print(response.status_code)\n",
    "\n",
    "title_df.to_csv('bestseller.csv', encoding='utf-8-sig')"
   ]
  },
  {
   "cell_type": "code",
   "execution_count": 79,
   "id": "38f54f6a",
   "metadata": {},
   "outputs": [],
   "source": [
    "# 실습형 2번\n",
    "response_news = requests.get('http://fs.jtbc.joins.com/RSS/economy.xml')\n",
    "\n",
    "if response_news.status_code == 200:\n",
    "    xml = response_news.content\n",
    "    xml_soup = BeautifulSoup(xml, 'lxml')\n",
    "    \n",
    "    title_list = [title.text for title in xml_soup.select('item > title')]\n",
    "    desc_list = [desc.text for desc in xml_soup.select('item > description')]\n",
    "    date_list = [date.text for date in xml_soup.select('item > pubDate')]\n",
    "\n",
    "    news_df = pd.DataFrame({\n",
    "                            '제목' : title_list,\n",
    "                            '내용' : desc_list,\n",
    "                            '작성날짜' : date_list\n",
    "                            })\n",
    "else:\n",
    "    print(response_news.status_code)\n",
    "\n",
    "news_df.to_csv('news.txt', encoding='utf-8-sig')"
   ]
  }
 ],
 "metadata": {
  "interpreter": {
   "hash": "c88dec21746cf2110f30e89a2fb18b0e9386b44c370810919302f55f1825a187"
  },
  "kernelspec": {
   "display_name": "saltlux_lecture",
   "language": "python",
   "name": "python3"
  },
  "language_info": {
   "codemirror_mode": {
    "name": "ipython",
    "version": 3
   },
   "file_extension": ".py",
   "mimetype": "text/x-python",
   "name": "python",
   "nbconvert_exporter": "python",
   "pygments_lexer": "ipython3",
   "version": "3.9.7"
  },
  "toc": {
   "base_numbering": 1,
   "nav_menu": {},
   "number_sections": true,
   "sideBar": true,
   "skip_h1_title": false,
   "title_cell": "Table of Contents",
   "title_sidebar": "Contents",
   "toc_cell": false,
   "toc_position": {
    "height": "calc(100% - 180px)",
    "left": "10px",
    "top": "150px",
    "width": "165.188px"
   },
   "toc_section_display": true,
   "toc_window_display": true
  }
 },
 "nbformat": 4,
 "nbformat_minor": 5
}
