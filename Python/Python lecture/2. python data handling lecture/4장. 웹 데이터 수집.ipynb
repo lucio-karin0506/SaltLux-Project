{
 "cells": [
  {
   "cell_type": "markdown",
   "id": "c9f2b50c",
   "metadata": {
    "heading_collapsed": true
   },
   "source": [
    "## 1절. 뷰티풀솝과 파서"
   ]
  },
  {
   "cell_type": "code",
   "execution_count": 14,
   "id": "97f13864",
   "metadata": {
    "ExecuteTime": {
     "end_time": "2021-12-05T07:13:06.810358Z",
     "start_time": "2021-12-05T07:13:06.779297Z"
    },
    "hidden": true
   },
   "outputs": [
    {
     "data": {
      "text/plain": [
       "<Response [200]>"
      ]
     },
     "execution_count": 14,
     "metadata": {},
     "output_type": "execute_result"
    }
   ],
   "source": [
    "import requests\n",
    "from requests_file import FileAdapter\n",
    "\n",
    "s = requests.Session()\n",
    "s.mount('file://', FileAdapter())\n",
    "res = s.get('file:///sample.html')\n",
    "res"
   ]
  },
  {
   "cell_type": "code",
   "execution_count": 15,
   "id": "4e2ae3f3",
   "metadata": {
    "ExecuteTime": {
     "end_time": "2021-12-05T07:13:06.825172Z",
     "start_time": "2021-12-05T07:13:06.810358Z"
    },
    "hidden": true
   },
   "outputs": [],
   "source": [
    "# html 문서 파싱\n",
    "from bs4 import BeautifulSoup\n",
    "soup = BeautifulSoup(res.content, 'html.parser')"
   ]
  },
  {
   "cell_type": "code",
   "execution_count": 16,
   "id": "21311f2c",
   "metadata": {
    "ExecuteTime": {
     "end_time": "2021-12-05T07:13:06.838702Z",
     "start_time": "2021-12-05T07:13:06.825172Z"
    },
    "hidden": true
   },
   "outputs": [
    {
     "name": "stdout",
     "output_type": "stream",
     "text": [
      "<h1>Hello CSS</h1>\n"
     ]
    }
   ],
   "source": [
    "# 태그 선택자\"('element')\n",
    "el = soup.select_one('h1')\n",
    "print(el)"
   ]
  },
  {
   "cell_type": "code",
   "execution_count": 17,
   "id": "f706542c",
   "metadata": {
    "ExecuteTime": {
     "end_time": "2021-12-05T07:13:06.856089Z",
     "start_time": "2021-12-05T07:13:06.841067Z"
    },
    "hidden": true
   },
   "outputs": [
    {
     "data": {
      "text/plain": [
       "('Hello CSS', 'h1', {})"
      ]
     },
     "execution_count": 17,
     "metadata": {},
     "output_type": "execute_result"
    }
   ],
   "source": [
    "el.text, el.name, el.attrs\n",
    "# 요소 안 텍스트, 태그이름, 속성들"
   ]
  },
  {
   "cell_type": "code",
   "execution_count": 18,
   "id": "5e4c017f",
   "metadata": {
    "ExecuteTime": {
     "end_time": "2021-12-05T07:13:06.873988Z",
     "start_time": "2021-12-05T07:13:06.858452Z"
    },
    "hidden": true
   },
   "outputs": [
    {
     "data": {
      "text/plain": [
       "[<h1>Hello CSS</h1>,\n",
       " <span>다른\n",
       " <b>요소가 반환</b></span>]"
      ]
     },
     "execution_count": 18,
     "metadata": {},
     "output_type": "execute_result"
    }
   ],
   "source": [
    "# 다중 선택자\n",
    "soup.select('h1, span')"
   ]
  },
  {
   "cell_type": "code",
   "execution_count": 19,
   "id": "34929b11",
   "metadata": {
    "ExecuteTime": {
     "end_time": "2021-12-05T07:13:06.890441Z",
     "start_time": "2021-12-05T07:13:06.876034Z"
    },
    "hidden": true
   },
   "outputs": [
    {
     "data": {
      "text/plain": [
       "[<b>요소가 반환</b>, <b>활용</b>]"
      ]
     },
     "execution_count": 19,
     "metadata": {},
     "output_type": "execute_result"
    }
   ],
   "source": [
    "# 내포 선택자(요소 안 내포 관계 탐색)\n",
    "soup.select('div b')"
   ]
  },
  {
   "cell_type": "code",
   "execution_count": 20,
   "id": "6090d3e9",
   "metadata": {
    "ExecuteTime": {
     "end_time": "2021-12-05T07:13:06.899533Z",
     "start_time": "2021-12-05T07:13:06.893125Z"
    },
    "hidden": true
   },
   "outputs": [
    {
     "data": {
      "text/plain": [
       "[<b>활용</b>]"
      ]
     },
     "execution_count": 20,
     "metadata": {},
     "output_type": "execute_result"
    }
   ],
   "source": [
    "# 부모-자식 관계\n",
    "# 두 단계 이상 건너띈 관계 작동 안함\n",
    "soup.select('div > b')"
   ]
  },
  {
   "cell_type": "code",
   "execution_count": 21,
   "id": "bba76c17",
   "metadata": {
    "ExecuteTime": {
     "end_time": "2021-12-05T07:13:06.916235Z",
     "start_time": "2021-12-05T07:13:06.901289Z"
    },
    "hidden": true
   },
   "outputs": [
    {
     "data": {
      "text/plain": [
       "[<div class=\"contents\">선택자를 어떻게 작성하느냐에 따라 <span>다른\n",
       " <b>요소가 반환</b></span> 됩니다.</div>]"
      ]
     },
     "execution_count": 21,
     "metadata": {},
     "output_type": "execute_result"
    }
   ],
   "source": [
    "# class 선택자\n",
    "soup.select('div.contents')"
   ]
  },
  {
   "cell_type": "code",
   "execution_count": 22,
   "id": "02798745",
   "metadata": {
    "ExecuteTime": {
     "end_time": "2021-12-05T07:13:06.933243Z",
     "start_time": "2021-12-05T07:13:06.916730Z"
    },
    "hidden": true
   },
   "outputs": [
    {
     "data": {
      "text/plain": [
       "<div id=\"subject\">선택자</div>"
      ]
     },
     "execution_count": 22,
     "metadata": {},
     "output_type": "execute_result"
    }
   ],
   "source": [
    "# id 선택자\n",
    "soup.select_one('#subject')"
   ]
  },
  {
   "cell_type": "markdown",
   "id": "0f9a5b71",
   "metadata": {
    "heading_collapsed": true
   },
   "source": [
    "## 2절. requests를 이용한 웹 데이터 수집"
   ]
  },
  {
   "cell_type": "code",
   "execution_count": 23,
   "id": "149047b9",
   "metadata": {
    "ExecuteTime": {
     "end_time": "2021-12-05T07:13:06.995784Z",
     "start_time": "2021-12-05T07:13:06.934094Z"
    },
    "hidden": true
   },
   "outputs": [],
   "source": [
    "import requests\n",
    "\n",
    "response = requests.get('https://api.github.com')"
   ]
  },
  {
   "cell_type": "code",
   "execution_count": 24,
   "id": "d07e5daa",
   "metadata": {
    "ExecuteTime": {
     "end_time": "2021-12-05T07:13:07.011320Z",
     "start_time": "2021-12-05T07:13:06.996117Z"
    },
    "hidden": true
   },
   "outputs": [
    {
     "name": "stdout",
     "output_type": "stream",
     "text": [
      "success\n"
     ]
    }
   ],
   "source": [
    "if response.status_code == 200:\n",
    "    print('success')\n",
    "elif response.status_code == 404:\n",
    "    print('not found')"
   ]
  },
  {
   "cell_type": "code",
   "execution_count": 25,
   "id": "0b0f6898",
   "metadata": {
    "ExecuteTime": {
     "end_time": "2021-12-05T07:13:07.145325Z",
     "start_time": "2021-12-05T07:13:07.012893Z"
    },
    "hidden": true
   },
   "outputs": [
    {
     "name": "stdout",
     "output_type": "stream",
     "text": [
      "success\n",
      "http error occured: 404 Client Error: Not Found for url: https://api.github.com/invalid\n"
     ]
    }
   ],
   "source": [
    "from requests.exceptions import HTTPError\n",
    "\n",
    "for url in ['https://api.github.com', 'https://api.github.com/invalid']:\n",
    "    try:\n",
    "        response = requests.get(url)\n",
    "        \n",
    "        # 응답 성공한 경우 예외 발생 안함\n",
    "        response.raise_for_status()\n",
    "    except HTTPError as http_err:\n",
    "        print(f'http error occured: {http_err}')\n",
    "    except Exception as err:\n",
    "        print(f'other error occured: {err}')\n",
    "    else:\n",
    "        print('success')"
   ]
  },
  {
   "cell_type": "code",
   "execution_count": 26,
   "id": "31f3e21f",
   "metadata": {
    "ExecuteTime": {
     "end_time": "2021-12-05T07:13:07.222387Z",
     "start_time": "2021-12-05T07:13:07.145974Z"
    },
    "hidden": true
   },
   "outputs": [
    {
     "data": {
      "text/plain": [
       "b'{\\n  \"current_user_url\": \"https://api.github.com/user\",\\n  \"current_user_authorizations_html_url\": \"https://github.com/settings/connections/applications{/client_id}\",\\n  \"authorizations_url\": \"https://api.github.com/authorizations\",\\n  \"code_search_url\": \"https://api.github.com/search/code?q={query}{&page,per_page,sort,order}\",\\n  \"commit_search_url\": \"https://api.github.com/search/commits?q={query}{&page,per_page,sort,order}\",\\n  \"emails_url\": \"https://api.github.com/user/emails\",\\n  \"emojis_url\": \"https://api.github.com/emojis\",\\n  \"events_url\": \"https://api.github.com/events\",\\n  \"feeds_url\": \"https://api.github.com/feeds\",\\n  \"followers_url\": \"https://api.github.com/user/followers\",\\n  \"following_url\": \"https://api.github.com/user/following{/target}\",\\n  \"gists_url\": \"https://api.github.com/gists{/gist_id}\",\\n  \"hub_url\": \"https://api.github.com/hub\",\\n  \"issue_search_url\": \"https://api.github.com/search/issues?q={query}{&page,per_page,sort,order}\",\\n  \"issues_url\": \"https://api.github.com/issues\",\\n  \"keys_url\": \"https://api.github.com/user/keys\",\\n  \"label_search_url\": \"https://api.github.com/search/labels?q={query}&repository_id={repository_id}{&page,per_page}\",\\n  \"notifications_url\": \"https://api.github.com/notifications\",\\n  \"organization_url\": \"https://api.github.com/orgs/{org}\",\\n  \"organization_repositories_url\": \"https://api.github.com/orgs/{org}/repos{?type,page,per_page,sort}\",\\n  \"organization_teams_url\": \"https://api.github.com/orgs/{org}/teams\",\\n  \"public_gists_url\": \"https://api.github.com/gists/public\",\\n  \"rate_limit_url\": \"https://api.github.com/rate_limit\",\\n  \"repository_url\": \"https://api.github.com/repos/{owner}/{repo}\",\\n  \"repository_search_url\": \"https://api.github.com/search/repositories?q={query}{&page,per_page,sort,order}\",\\n  \"current_user_repositories_url\": \"https://api.github.com/user/repos{?type,page,per_page,sort}\",\\n  \"starred_url\": \"https://api.github.com/user/starred{/owner}{/repo}\",\\n  \"starred_gists_url\": \"https://api.github.com/gists/starred\",\\n  \"topic_search_url\": \"https://api.github.com/search/topics?q={query}{&page,per_page}\",\\n  \"user_url\": \"https://api.github.com/users/{user}\",\\n  \"user_organizations_url\": \"https://api.github.com/user/orgs\",\\n  \"user_repositories_url\": \"https://api.github.com/users/{user}/repos{?type,page,per_page,sort}\",\\n  \"user_search_url\": \"https://api.github.com/search/users?q={query}{&page,per_page,sort,order}\"\\n}\\n'"
      ]
     },
     "execution_count": 26,
     "metadata": {},
     "output_type": "execute_result"
    }
   ],
   "source": [
    "# content\n",
    "# 응답 내용 바이트 단위로 봄\n",
    "response = requests.get('https://api.github.com')\n",
    "response.content"
   ]
  },
  {
   "cell_type": "code",
   "execution_count": 27,
   "id": "c481bec1",
   "metadata": {
    "ExecuteTime": {
     "end_time": "2021-12-05T08:52:49.847610Z",
     "start_time": "2021-12-05T08:52:49.839186Z"
    },
    "hidden": true
   },
   "outputs": [
    {
     "name": "stdout",
     "output_type": "stream",
     "text": [
      "{\n",
      "  \"current_user_url\": \"https://api.github.com/user\",\n",
      "  \"current_user_authorizations_html_url\": \"https://github.com/settings/connections/applications{/client_id}\",\n",
      "  \"authorizations_url\": \"https://api.github.com/authorizations\",\n",
      "  \"code_search_url\": \"https://api.github.com/search/code?q={query}{&page,per_page,sort,order}\",\n",
      "  \"commit_search_url\": \"https://api.github.com/search/commits?q={query}{&page,per_page,sort,order}\",\n",
      "  \"emails_url\": \"https://api.github.com/user/emails\",\n",
      "  \"emojis_url\": \"https://api.github.com/emojis\",\n",
      "  \"events_url\": \"https://api.github.com/events\",\n",
      "  \"feeds_url\": \"https://api.github.com/feeds\",\n",
      "  \"followers_url\": \"https://api.github.com/user/followers\",\n",
      "  \"following_url\": \"https://api.github.com/user/following{/target}\",\n",
      "  \"gists_url\": \"https://api.github.com/gists{/gist_id}\",\n",
      "  \"hub_url\": \"https://api.github.com/hub\",\n",
      "  \"issue_search_url\": \"https://api.github.com/search/issues?q={query}{&page,per_page,sort,order}\",\n",
      "  \"issues_url\": \"https://api.github.com/issues\",\n",
      "  \"keys_url\": \"https://api.github.com/user/keys\",\n",
      "  \"label_search_url\": \"https://api.github.com/search/labels?q={query}&repository_id={repository_id}{&page,per_page}\",\n",
      "  \"notifications_url\": \"https://api.github.com/notifications\",\n",
      "  \"organization_url\": \"https://api.github.com/orgs/{org}\",\n",
      "  \"organization_repositories_url\": \"https://api.github.com/orgs/{org}/repos{?type,page,per_page,sort}\",\n",
      "  \"organization_teams_url\": \"https://api.github.com/orgs/{org}/teams\",\n",
      "  \"public_gists_url\": \"https://api.github.com/gists/public\",\n",
      "  \"rate_limit_url\": \"https://api.github.com/rate_limit\",\n",
      "  \"repository_url\": \"https://api.github.com/repos/{owner}/{repo}\",\n",
      "  \"repository_search_url\": \"https://api.github.com/search/repositories?q={query}{&page,per_page,sort,order}\",\n",
      "  \"current_user_repositories_url\": \"https://api.github.com/user/repos{?type,page,per_page,sort}\",\n",
      "  \"starred_url\": \"https://api.github.com/user/starred{/owner}{/repo}\",\n",
      "  \"starred_gists_url\": \"https://api.github.com/gists/starred\",\n",
      "  \"topic_search_url\": \"https://api.github.com/search/topics?q={query}{&page,per_page}\",\n",
      "  \"user_url\": \"https://api.github.com/users/{user}\",\n",
      "  \"user_organizations_url\": \"https://api.github.com/user/orgs\",\n",
      "  \"user_repositories_url\": \"https://api.github.com/users/{user}/repos{?type,page,per_page,sort}\",\n",
      "  \"user_search_url\": \"https://api.github.com/search/users?q={query}{&page,per_page,sort,order}\"\n",
      "}\n",
      "\n"
     ]
    }
   ],
   "source": [
    "print(response.text)"
   ]
  },
  {
   "cell_type": "code",
   "execution_count": 28,
   "id": "1ad029e2",
   "metadata": {
    "ExecuteTime": {
     "end_time": "2021-12-05T08:53:24.020208Z",
     "start_time": "2021-12-05T08:53:24.004628Z"
    },
    "hidden": true
   },
   "outputs": [
    {
     "name": "stdout",
     "output_type": "stream",
     "text": [
      "{'current_user_url': 'https://api.github.com/user', 'current_user_authorizations_html_url': 'https://github.com/settings/connections/applications{/client_id}', 'authorizations_url': 'https://api.github.com/authorizations', 'code_search_url': 'https://api.github.com/search/code?q={query}{&page,per_page,sort,order}', 'commit_search_url': 'https://api.github.com/search/commits?q={query}{&page,per_page,sort,order}', 'emails_url': 'https://api.github.com/user/emails', 'emojis_url': 'https://api.github.com/emojis', 'events_url': 'https://api.github.com/events', 'feeds_url': 'https://api.github.com/feeds', 'followers_url': 'https://api.github.com/user/followers', 'following_url': 'https://api.github.com/user/following{/target}', 'gists_url': 'https://api.github.com/gists{/gist_id}', 'hub_url': 'https://api.github.com/hub', 'issue_search_url': 'https://api.github.com/search/issues?q={query}{&page,per_page,sort,order}', 'issues_url': 'https://api.github.com/issues', 'keys_url': 'https://api.github.com/user/keys', 'label_search_url': 'https://api.github.com/search/labels?q={query}&repository_id={repository_id}{&page,per_page}', 'notifications_url': 'https://api.github.com/notifications', 'organization_url': 'https://api.github.com/orgs/{org}', 'organization_repositories_url': 'https://api.github.com/orgs/{org}/repos{?type,page,per_page,sort}', 'organization_teams_url': 'https://api.github.com/orgs/{org}/teams', 'public_gists_url': 'https://api.github.com/gists/public', 'rate_limit_url': 'https://api.github.com/rate_limit', 'repository_url': 'https://api.github.com/repos/{owner}/{repo}', 'repository_search_url': 'https://api.github.com/search/repositories?q={query}{&page,per_page,sort,order}', 'current_user_repositories_url': 'https://api.github.com/user/repos{?type,page,per_page,sort}', 'starred_url': 'https://api.github.com/user/starred{/owner}{/repo}', 'starred_gists_url': 'https://api.github.com/gists/starred', 'topic_search_url': 'https://api.github.com/search/topics?q={query}{&page,per_page}', 'user_url': 'https://api.github.com/users/{user}', 'user_organizations_url': 'https://api.github.com/user/orgs', 'user_repositories_url': 'https://api.github.com/users/{user}/repos{?type,page,per_page,sort}', 'user_search_url': 'https://api.github.com/search/users?q={query}{&page,per_page,sort,order}'}\n"
     ]
    }
   ],
   "source": [
    "print(response.json())"
   ]
  },
  {
   "cell_type": "code",
   "execution_count": 32,
   "id": "4dd04ac2",
   "metadata": {
    "ExecuteTime": {
     "end_time": "2021-12-05T09:02:42.597209Z",
     "start_time": "2021-12-05T09:02:42.457398Z"
    },
    "hidden": true
   },
   "outputs": [
    {
     "name": "stdout",
     "output_type": "stream",
     "text": [
      "1위: 유체이탈자\n",
      "2위: 연애 빠진 로맨스\n",
      "3위: 고스트버스터즈 라이즈\n",
      "4위: 엔칸토: 마법의 세계\n",
      "5위: 강릉\n",
      "6위: 라스트 나잇 인 소호\n",
      "7위: 듄\n",
      "8위: 이터널스\n",
      "9위: 장르만 로맨스\n",
      "10위: 프렌치 디스패치\n",
      "11위: 스파이더맨: 노 웨이 홈\n",
      "12위: 여타짜\n",
      "13위: 라스트 듀얼: 최후의 결투\n",
      "14위: 태일이\n",
      "15위: 로그 인 벨지움\n",
      "16위: 라임크라임\n",
      "17위: 로그북\n",
      "18위: 베네데타\n",
      "19위: 킹스맨: 퍼스트 에이전트\n",
      "20위: 베놈 2: 렛 데어 비 카니지\n",
      "21위: 파워 오브 도그\n",
      "22위: 너에게 가는 길\n",
      "23위: 귀멸의 칼날: 주합회의·나비저택 편\n",
      "24위: 십개월의 미래\n",
      "25위: 돈 룩 업\n",
      "26위: 십계\n",
      "27위: 티탄\n",
      "28위: 인질\n",
      "29위: 캅샵: 미친놈들의 전쟁\n",
      "30위: 킬링 카인드: 킬러의 수제자\n",
      "31위: 호빗: 다섯 군대 전투\n",
      "32위: 매트릭스: 리저렉션\n",
      "33위: 간호중\n",
      "34위: 귀멸의 칼날: 나타구모산 편 \n",
      "35위: 모가디슈\n",
      "36위: 디어 에반 핸슨\n",
      "37위: 언힐러\n",
      "38위: 보이스\n",
      "39위: 애비규환\n",
      "40위: 범죄도시2\n",
      "41위: 극장판 소드 아트 온라인 -프로그레시브- 별 없는 밤의 아리아\n",
      "42위: 샹치와 텐 링즈의 전설\n",
      "43위: 팬텀: 더 뮤지컬 라이브\n",
      "44위: 원티드 킬러\n",
      "45위: 호빗 : 스마우그의 폐허\n",
      "46위: 리슨\n",
      "47위: 우상\n",
      "48위: 007 노 타임 투 다이\n",
      "49위: 신의 손\n",
      "50위: 가치 캅시다\n"
     ]
    }
   ],
   "source": [
    "import requests\n",
    "from bs4 import BeautifulSoup\n",
    "\n",
    "url = 'https://movie.naver.com/movie/sdb/rank/rmovie.naver'\n",
    "movie_ranking = requests.get(url)\n",
    "\n",
    "if movie_ranking.status_code == 200:\n",
    "    soup = BeautifulSoup(movie_ranking.content, 'html.parser')\n",
    "    title_list = soup.select('div.tit3 > a')\n",
    "    \n",
    "    for i, title in enumerate(title_list):\n",
    "        print(f'{i+1}위: {title.text}')\n",
    "        \n",
    "else:\n",
    "    print('abnormal response')"
   ]
  },
  {
   "cell_type": "markdown",
   "id": "8444e821",
   "metadata": {},
   "source": [
    "## 3절. Selenium을 이용한 웹 데이터 수집"
   ]
  },
  {
   "cell_type": "code",
   "execution_count": null,
   "id": "8cb2aeaf",
   "metadata": {},
   "outputs": [],
   "source": []
  },
  {
   "cell_type": "markdown",
   "id": "80d15a05",
   "metadata": {},
   "source": [
    "## 4절. 연습문제"
   ]
  }
 ],
 "metadata": {
  "kernelspec": {
   "display_name": "saltlux_lecture",
   "language": "python",
   "name": "saltlux_lecture"
  },
  "language_info": {
   "codemirror_mode": {
    "name": "ipython",
    "version": 3
   },
   "file_extension": ".py",
   "mimetype": "text/x-python",
   "name": "python",
   "nbconvert_exporter": "python",
   "pygments_lexer": "ipython3",
   "version": "3.9.7"
  },
  "toc": {
   "base_numbering": 1,
   "nav_menu": {},
   "number_sections": true,
   "sideBar": true,
   "skip_h1_title": false,
   "title_cell": "Table of Contents",
   "title_sidebar": "Contents",
   "toc_cell": false,
   "toc_position": {
    "height": "calc(100% - 180px)",
    "left": "10px",
    "top": "150px",
    "width": "165.188px"
   },
   "toc_section_display": true,
   "toc_window_display": true
  }
 },
 "nbformat": 4,
 "nbformat_minor": 5
}
