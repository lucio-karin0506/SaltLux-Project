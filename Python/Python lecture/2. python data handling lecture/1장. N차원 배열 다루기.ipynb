{
 "cells": [
  {
   "cell_type": "markdown",
   "id": "b5cd83b9",
   "metadata": {
    "heading_collapsed": true
   },
   "source": [
    "## 1절. 넘파이 패키지"
   ]
  },
  {
   "cell_type": "code",
   "execution_count": 1,
   "id": "462dc6c6",
   "metadata": {
    "ExecuteTime": {
     "end_time": "2021-11-24T05:14:58.028972Z",
     "start_time": "2021-11-24T05:14:57.723215Z"
    },
    "hidden": true
   },
   "outputs": [
    {
     "data": {
      "text/plain": [
       "array([[ 0,  1,  2,  3,  4],\n",
       "       [ 5,  6,  7,  8,  9],\n",
       "       [10, 11, 12, 13, 14]])"
      ]
     },
     "execution_count": 1,
     "metadata": {},
     "output_type": "execute_result"
    }
   ],
   "source": [
    "import numpy as np\n",
    "\n",
    "a = np.arange(15).reshape(3, 5)\n",
    "a"
   ]
  },
  {
   "cell_type": "code",
   "execution_count": 2,
   "id": "941e811d",
   "metadata": {
    "ExecuteTime": {
     "end_time": "2021-11-24T05:14:58.044288Z",
     "start_time": "2021-11-24T05:14:58.030270Z"
    },
    "hidden": true
   },
   "outputs": [
    {
     "data": {
      "text/plain": [
       "numpy.ndarray"
      ]
     },
     "execution_count": 2,
     "metadata": {},
     "output_type": "execute_result"
    }
   ],
   "source": [
    "type(a)"
   ]
  },
  {
   "cell_type": "code",
   "execution_count": 3,
   "id": "0c64d7e6",
   "metadata": {
    "ExecuteTime": {
     "end_time": "2021-11-24T05:14:58.059773Z",
     "start_time": "2021-11-24T05:14:58.046102Z"
    },
    "hidden": true
   },
   "outputs": [
    {
     "data": {
      "text/plain": [
       "(3, 5)"
      ]
     },
     "execution_count": 3,
     "metadata": {},
     "output_type": "execute_result"
    }
   ],
   "source": [
    "a.shape"
   ]
  },
  {
   "cell_type": "code",
   "execution_count": 4,
   "id": "97d91667",
   "metadata": {
    "ExecuteTime": {
     "end_time": "2021-11-24T05:14:58.074519Z",
     "start_time": "2021-11-24T05:14:58.062333Z"
    },
    "hidden": true
   },
   "outputs": [
    {
     "data": {
      "text/plain": [
       "2"
      ]
     },
     "execution_count": 4,
     "metadata": {},
     "output_type": "execute_result"
    }
   ],
   "source": [
    "# 축의 수 aka 튜플의 길이 (차원)\n",
    "a.ndim"
   ]
  },
  {
   "cell_type": "code",
   "execution_count": 5,
   "id": "f38708a3",
   "metadata": {
    "ExecuteTime": {
     "end_time": "2021-11-24T05:14:58.089755Z",
     "start_time": "2021-11-24T05:14:58.075675Z"
    },
    "hidden": true
   },
   "outputs": [
    {
     "data": {
      "text/plain": [
       "'int32'"
      ]
     },
     "execution_count": 5,
     "metadata": {},
     "output_type": "execute_result"
    }
   ],
   "source": [
    "a.dtype\n",
    "a.dtype.name"
   ]
  },
  {
   "cell_type": "code",
   "execution_count": 6,
   "id": "13a8bee2",
   "metadata": {
    "ExecuteTime": {
     "end_time": "2021-11-24T05:14:58.104937Z",
     "start_time": "2021-11-24T05:14:58.090702Z"
    },
    "hidden": true
   },
   "outputs": [
    {
     "data": {
      "text/plain": [
       "4"
      ]
     },
     "execution_count": 6,
     "metadata": {},
     "output_type": "execute_result"
    }
   ],
   "source": [
    "# 각 요소 바이트 단위 크기(int32이므로 4byte)\n",
    "a.itemsize"
   ]
  },
  {
   "cell_type": "code",
   "execution_count": 7,
   "id": "4dad5cdb",
   "metadata": {
    "ExecuteTime": {
     "end_time": "2021-11-24T05:14:58.119703Z",
     "start_time": "2021-11-24T05:14:58.106580Z"
    },
    "hidden": true
   },
   "outputs": [
    {
     "data": {
      "text/plain": [
       "15"
      ]
     },
     "execution_count": 7,
     "metadata": {},
     "output_type": "execute_result"
    }
   ],
   "source": [
    "# 배열 요소 전체 개수\n",
    "a.size"
   ]
  },
  {
   "cell_type": "code",
   "execution_count": 8,
   "id": "a9b3ea09",
   "metadata": {
    "ExecuteTime": {
     "end_time": "2021-11-24T05:14:58.134816Z",
     "start_time": "2021-11-24T05:14:58.120598Z"
    },
    "hidden": true
   },
   "outputs": [
    {
     "data": {
      "text/plain": [
       "dtype('int32')"
      ]
     },
     "execution_count": 8,
     "metadata": {},
     "output_type": "execute_result"
    }
   ],
   "source": [
    "b = np.arange(12, dtype=np.int32).reshape(3, 4)\n",
    "b.dtype"
   ]
  },
  {
   "cell_type": "code",
   "execution_count": 9,
   "id": "ebb0c677",
   "metadata": {
    "ExecuteTime": {
     "end_time": "2021-11-24T05:14:58.149454Z",
     "start_time": "2021-11-24T05:14:58.136341Z"
    },
    "hidden": true
   },
   "outputs": [],
   "source": [
    "# dtype은 각 요소의 타입 변경 안함\n",
    "# 아래와 같이 강제로 바꿀 시 요소 값을 변경함 => 대참사\n",
    "# b.dtype = np.int64\n",
    "# b"
   ]
  },
  {
   "cell_type": "code",
   "execution_count": 10,
   "id": "83d02468",
   "metadata": {
    "ExecuteTime": {
     "end_time": "2021-11-24T05:14:58.164614Z",
     "start_time": "2021-11-24T05:14:58.152958Z"
    },
    "hidden": true
   },
   "outputs": [
    {
     "data": {
      "text/plain": [
       "dtype('int64')"
      ]
     },
     "execution_count": 10,
     "metadata": {},
     "output_type": "execute_result"
    }
   ],
   "source": [
    "# astype으로 배열 요소 타입 변경\n",
    "b_64 = b.astype(np.int64)\n",
    "b_64\n",
    "b_64.dtype"
   ]
  },
  {
   "cell_type": "markdown",
   "id": "09c85ea6",
   "metadata": {
    "heading_collapsed": true
   },
   "source": [
    "## 2절. 넘파이 배열"
   ]
  },
  {
   "cell_type": "code",
   "execution_count": 11,
   "id": "6290ae09",
   "metadata": {
    "ExecuteTime": {
     "end_time": "2021-11-24T05:14:58.179786Z",
     "start_time": "2021-11-24T05:14:58.165837Z"
    },
    "hidden": true
   },
   "outputs": [
    {
     "data": {
      "text/plain": [
       "array([2, 3, 4])"
      ]
     },
     "execution_count": 11,
     "metadata": {},
     "output_type": "execute_result"
    }
   ],
   "source": [
    "a = np.array([2, 3, 4])\n",
    "a"
   ]
  },
  {
   "cell_type": "code",
   "execution_count": 12,
   "id": "aec59982",
   "metadata": {
    "ExecuteTime": {
     "end_time": "2021-11-24T05:14:58.194607Z",
     "start_time": "2021-11-24T05:14:58.181138Z"
    },
    "hidden": true
   },
   "outputs": [
    {
     "data": {
      "text/plain": [
       "dtype('int32')"
      ]
     },
     "execution_count": 12,
     "metadata": {},
     "output_type": "execute_result"
    }
   ],
   "source": [
    "a.dtype"
   ]
  },
  {
   "cell_type": "code",
   "execution_count": 13,
   "id": "2601182b",
   "metadata": {
    "ExecuteTime": {
     "end_time": "2021-11-24T05:14:58.210058Z",
     "start_time": "2021-11-24T05:14:58.196415Z"
    },
    "hidden": true
   },
   "outputs": [
    {
     "data": {
      "text/plain": [
       "array([[1.5, 2. , 3. ],\n",
       "       [4. , 5. , 6. ]])"
      ]
     },
     "execution_count": 13,
     "metadata": {},
     "output_type": "execute_result"
    }
   ],
   "source": [
    "b = np.array([1.2, 3.5, 5.1])\n",
    "b.dtype\n",
    "\n",
    "b = np.array([(1.5, 2, 3), (4, 5, 6)])\n",
    "b"
   ]
  },
  {
   "cell_type": "code",
   "execution_count": 14,
   "id": "2e9854bb",
   "metadata": {
    "ExecuteTime": {
     "end_time": "2021-11-24T05:14:58.224906Z",
     "start_time": "2021-11-24T05:14:58.211401Z"
    },
    "hidden": true
   },
   "outputs": [
    {
     "data": {
      "text/plain": [
       "array([[1.+0.j, 2.+0.j],\n",
       "       [3.+0.j, 4.+0.j]])"
      ]
     },
     "execution_count": 14,
     "metadata": {},
     "output_type": "execute_result"
    }
   ],
   "source": [
    "c = np.array([[1, 2], [3, 4]], dtype=complex)\n",
    "c"
   ]
  },
  {
   "cell_type": "code",
   "execution_count": 15,
   "id": "a40059ee",
   "metadata": {
    "ExecuteTime": {
     "end_time": "2021-11-24T05:14:58.240190Z",
     "start_time": "2021-11-24T05:14:58.226193Z"
    },
    "hidden": true
   },
   "outputs": [
    {
     "data": {
      "text/plain": [
       "array([[1., 2.],\n",
       "       [3., 4.]], dtype=float32)"
      ]
     },
     "execution_count": 15,
     "metadata": {},
     "output_type": "execute_result"
    }
   ],
   "source": [
    "c = np.array([[1, 2], [3, 4]], dtype=np.float32)\n",
    "c"
   ]
  },
  {
   "cell_type": "code",
   "execution_count": 16,
   "id": "2ac67163",
   "metadata": {
    "ExecuteTime": {
     "end_time": "2021-11-24T05:14:58.254871Z",
     "start_time": "2021-11-24T05:14:58.241291Z"
    },
    "hidden": true
   },
   "outputs": [
    {
     "name": "stdout",
     "output_type": "stream",
     "text": [
      "1808182425808 1808182425808\n",
      "1808182425808 1808182472944\n"
     ]
    }
   ],
   "source": [
    "# 기존 객체 이용한 새로운 배열 복사본 생성 안함\n",
    "d = np.array(c, copy=False)\n",
    "print(id(c), id(d))\n",
    "\n",
    "e = np.array(c, copy=True)\n",
    "print(id(c), id(e))"
   ]
  },
  {
   "cell_type": "code",
   "execution_count": 17,
   "id": "4bc37b6b",
   "metadata": {
    "ExecuteTime": {
     "end_time": "2021-11-24T05:14:58.270217Z",
     "start_time": "2021-11-24T05:14:58.255866Z"
    },
    "hidden": true
   },
   "outputs": [
    {
     "name": "stdout",
     "output_type": "stream",
     "text": [
      "1808182425808 1808182472752\n"
     ]
    }
   ],
   "source": [
    "# copy=False 여도 dtype에 다른 유형 지정되면 복사본 생성됨.\n",
    "d = np.array(c, copy=False, dtype=int)\n",
    "print(id(c), id(d))"
   ]
  },
  {
   "cell_type": "code",
   "execution_count": 18,
   "id": "33fd6144",
   "metadata": {
    "ExecuteTime": {
     "end_time": "2021-11-24T05:14:58.285055Z",
     "start_time": "2021-11-24T05:14:58.271869Z"
    },
    "hidden": true
   },
   "outputs": [
    {
     "data": {
      "text/plain": [
       "dtype('float64')"
      ]
     },
     "execution_count": 18,
     "metadata": {},
     "output_type": "execute_result"
    }
   ],
   "source": [
    "# 기본값이 있는 배열\n",
    "x = np.zeros((3, 4))\n",
    "x\n",
    "x.dtype"
   ]
  },
  {
   "cell_type": "code",
   "execution_count": 19,
   "id": "d6fcd184",
   "metadata": {
    "ExecuteTime": {
     "end_time": "2021-11-24T05:14:58.300241Z",
     "start_time": "2021-11-24T05:14:58.286222Z"
    },
    "hidden": true
   },
   "outputs": [
    {
     "data": {
      "text/plain": [
       "array([[[1, 1, 1, 1],\n",
       "        [1, 1, 1, 1],\n",
       "        [1, 1, 1, 1]],\n",
       "\n",
       "       [[1, 1, 1, 1],\n",
       "        [1, 1, 1, 1],\n",
       "        [1, 1, 1, 1]]], dtype=int64)"
      ]
     },
     "execution_count": 19,
     "metadata": {},
     "output_type": "execute_result"
    }
   ],
   "source": [
    "np.ones((2, 3, 4), dtype=np.int64)"
   ]
  },
  {
   "cell_type": "code",
   "execution_count": 20,
   "id": "c6027c01",
   "metadata": {
    "ExecuteTime": {
     "end_time": "2021-11-24T05:14:58.315269Z",
     "start_time": "2021-11-24T05:14:58.301236Z"
    },
    "hidden": true
   },
   "outputs": [
    {
     "data": {
      "text/plain": [
       "array([[1.5, 2. , 3. ],\n",
       "       [4. , 5. , 6. ]])"
      ]
     },
     "execution_count": 20,
     "metadata": {},
     "output_type": "execute_result"
    }
   ],
   "source": [
    "# 현재 커널에 있는 쓰레기 데이터 값으로 채움\n",
    "np.empty((2, 3))"
   ]
  },
  {
   "cell_type": "code",
   "execution_count": 21,
   "id": "7275db88",
   "metadata": {
    "ExecuteTime": {
     "end_time": "2021-11-24T05:14:58.330159Z",
     "start_time": "2021-11-24T05:14:58.316346Z"
    },
    "hidden": true
   },
   "outputs": [
    {
     "name": "stdout",
     "output_type": "stream",
     "text": [
      "[0 1 2 3 4 5 6 7 8 9]\n",
      "[11 12 13 14 15 16 17 18 19]\n",
      "[10 15 20 25]\n",
      "[0.  0.3 0.6 0.9 1.2 1.5 1.8]\n"
     ]
    }
   ],
   "source": [
    "# 연속된 값 갖는 배열\n",
    "print(np.arange(10))\n",
    "print(np.arange(11, 20))\n",
    "print(np.arange(10, 30, 5))\n",
    "print(np.arange(0, 2, 0.3))"
   ]
  },
  {
   "cell_type": "code",
   "execution_count": 22,
   "id": "70cb8ea2",
   "metadata": {
    "ExecuteTime": {
     "end_time": "2021-11-24T05:14:58.345324Z",
     "start_time": "2021-11-24T05:14:58.331268Z"
    },
    "hidden": true
   },
   "outputs": [
    {
     "name": "stdout",
     "output_type": "stream",
     "text": [
      "[0.   0.25 0.5  0.75 1.   1.25 1.5  1.75 2.  ]\n",
      "[ 0.          0.52631579  1.05263158  1.57894737  2.10526316  2.63157895\n",
      "  3.15789474  3.68421053  4.21052632  4.73684211  5.26315789  5.78947368\n",
      "  6.31578947  6.84210526  7.36842105  7.89473684  8.42105263  8.94736842\n",
      "  9.47368421 10.        ]\n"
     ]
    }
   ],
   "source": [
    "print(np.linspace(0, 2, 9))\n",
    "print(np.linspace(0, 10, 20))"
   ]
  },
  {
   "cell_type": "code",
   "execution_count": 23,
   "id": "efde66af",
   "metadata": {
    "ExecuteTime": {
     "end_time": "2021-11-24T05:14:58.360480Z",
     "start_time": "2021-11-24T05:14:58.346421Z"
    },
    "hidden": true
   },
   "outputs": [
    {
     "name": "stdout",
     "output_type": "stream",
     "text": [
      "[0.         0.6981317  1.3962634  2.0943951  2.7925268  3.4906585\n",
      " 4.1887902  4.88692191 5.58505361 6.28318531] [ 0.00000000e+00  6.42787610e-01  9.84807753e-01  8.66025404e-01\n",
      "  3.42020143e-01 -3.42020143e-01 -8.66025404e-01 -9.84807753e-01\n",
      " -6.42787610e-01 -2.44929360e-16]\n"
     ]
    }
   ],
   "source": [
    "x = np.linspace(0, 2*np.pi, 10)\n",
    "y = np.sin(x)\n",
    "print(x, y)"
   ]
  },
  {
   "cell_type": "code",
   "execution_count": 24,
   "id": "ed9fd821",
   "metadata": {
    "ExecuteTime": {
     "end_time": "2021-11-24T05:14:58.375345Z",
     "start_time": "2021-11-24T05:14:58.361492Z"
    },
    "hidden": true
   },
   "outputs": [
    {
     "data": {
      "text/plain": [
       "array([[ 0,  1,  2,  3],\n",
       "       [ 4,  5,  6,  7],\n",
       "       [ 8,  9, 10, 11]])"
      ]
     },
     "execution_count": 24,
     "metadata": {},
     "output_type": "execute_result"
    }
   ],
   "source": [
    "a = np.arange(12).reshape(3, 4)\n",
    "a"
   ]
  },
  {
   "cell_type": "code",
   "execution_count": 25,
   "id": "ed66316a",
   "metadata": {
    "ExecuteTime": {
     "end_time": "2021-11-24T05:14:58.390644Z",
     "start_time": "2021-11-24T05:14:58.376361Z"
    },
    "hidden": true
   },
   "outputs": [
    {
     "data": {
      "text/plain": [
       "array([ 0,  1,  2,  3,  4,  5,  6,  7,  8,  9, 10, 11])"
      ]
     },
     "execution_count": 25,
     "metadata": {},
     "output_type": "execute_result"
    }
   ],
   "source": [
    "# 차원이 풀린 배열 반환\n",
    "a.ravel()"
   ]
  },
  {
   "cell_type": "code",
   "execution_count": 26,
   "id": "7d95375b",
   "metadata": {
    "ExecuteTime": {
     "end_time": "2021-11-24T05:14:58.405691Z",
     "start_time": "2021-11-24T05:14:58.391680Z"
    },
    "hidden": true
   },
   "outputs": [
    {
     "data": {
      "text/plain": [
       "array([[ 0,  1,  2,  3,  4,  5],\n",
       "       [ 6,  7,  8,  9, 10, 11]])"
      ]
     },
     "execution_count": 26,
     "metadata": {},
     "output_type": "execute_result"
    }
   ],
   "source": [
    "a.reshape(2, 6)"
   ]
  },
  {
   "cell_type": "code",
   "execution_count": 27,
   "id": "91b8c514",
   "metadata": {
    "ExecuteTime": {
     "end_time": "2021-11-24T05:14:58.420319Z",
     "start_time": "2021-11-24T05:14:58.406690Z"
    },
    "hidden": true
   },
   "outputs": [
    {
     "data": {
      "text/plain": [
       "array([[ 0,  4,  8],\n",
       "       [ 1,  5,  9],\n",
       "       [ 2,  6, 10],\n",
       "       [ 3,  7, 11]])"
      ]
     },
     "execution_count": 27,
     "metadata": {},
     "output_type": "execute_result"
    }
   ],
   "source": [
    "# 전치행렬 transposed 반환\n",
    "a.T"
   ]
  },
  {
   "cell_type": "code",
   "execution_count": 28,
   "id": "b37f50a1",
   "metadata": {
    "ExecuteTime": {
     "end_time": "2021-11-24T05:14:58.435219Z",
     "start_time": "2021-11-24T05:14:58.425248Z"
    },
    "hidden": true
   },
   "outputs": [
    {
     "data": {
      "text/plain": [
       "array([[ 0,  1,  2,  3,  4,  5],\n",
       "       [ 6,  7,  8,  9, 10, 11]])"
      ]
     },
     "execution_count": 28,
     "metadata": {},
     "output_type": "execute_result"
    }
   ],
   "source": [
    "# reshape()는 차원 수정된 배열 반환\n",
    "# resize()는 배열 자체 수정\n",
    "\n",
    "a = np.arange(12).reshape(3, 4)\n",
    "a.resize(2, 6)\n",
    "a"
   ]
  },
  {
   "cell_type": "code",
   "execution_count": 29,
   "id": "00ff85d1",
   "metadata": {
    "ExecuteTime": {
     "end_time": "2021-11-24T05:14:58.450035Z",
     "start_time": "2021-11-24T05:14:58.436231Z"
    },
    "hidden": true
   },
   "outputs": [
    {
     "data": {
      "text/plain": [
       "array([[ 0,  1,  2,  3,  4,  5],\n",
       "       [ 6,  7,  8,  9, 10, 11]])"
      ]
     },
     "execution_count": 29,
     "metadata": {},
     "output_type": "execute_result"
    }
   ],
   "source": [
    "# 크기 -1로 주어질 시, 해당 차원의 크기 자동으로 계산됨\n",
    "# resize는 -1 사용못함\n",
    "a.reshape(2, -1)"
   ]
  },
  {
   "cell_type": "code",
   "execution_count": 30,
   "id": "762b527d",
   "metadata": {
    "ExecuteTime": {
     "end_time": "2021-11-24T05:14:58.465198Z",
     "start_time": "2021-11-24T05:14:58.452184Z"
    },
    "hidden": true
   },
   "outputs": [
    {
     "data": {
      "text/plain": [
       "array([[ 0,  1,  2,  3,  4,  5],\n",
       "       [ 6,  7,  8,  9, 10, 11]])"
      ]
     },
     "execution_count": 30,
     "metadata": {},
     "output_type": "execute_result"
    }
   ],
   "source": [
    "a.shape = (2, 6)\n",
    "a"
   ]
  },
  {
   "cell_type": "code",
   "execution_count": 31,
   "id": "eb40ce0b",
   "metadata": {
    "ExecuteTime": {
     "end_time": "2021-11-24T05:14:58.480132Z",
     "start_time": "2021-11-24T05:14:58.466741Z"
    },
    "hidden": true
   },
   "outputs": [
    {
     "name": "stdout",
     "output_type": "stream",
     "text": [
      "[[ 0  1  2  3  4  5  6  7  8  9]\n",
      " [10 11 12 13 14 15 16 17 18 19]\n",
      " [20 21 22 23 24 25 26 27 28 29]\n",
      " [30 31 32 33 34 35 36 37 38 39]\n",
      " [40 41 42 43 44 45 46 47 48 49]\n",
      " [50 51 52 53 54 55 56 57 58 59]\n",
      " [60 61 62 63 64 65 66 67 68 69]\n",
      " [70 71 72 73 74 75 76 77 78 79]\n",
      " [80 81 82 83 84 85 86 87 88 89]\n",
      " [90 91 92 93 94 95 96 97 98 99]]\n"
     ]
    }
   ],
   "source": [
    "# numpy가 요소 값 생략 안하고 전체 배열 인쇄하도록 설정\n",
    "# threshold: threshold값이 배열의 데이터 수보다 크거나 같아야 전체 데이터 인쇄할 수 있음\n",
    "\n",
    "np.set_printoptions(threshold=1000)\n",
    "print(np.arange(100).reshape(10, 10))"
   ]
  },
  {
   "cell_type": "code",
   "execution_count": 32,
   "id": "871d5d23",
   "metadata": {
    "ExecuteTime": {
     "end_time": "2021-11-24T05:14:58.495588Z",
     "start_time": "2021-11-24T05:14:58.481006Z"
    },
    "hidden": true
   },
   "outputs": [
    {
     "data": {
      "text/plain": [
       "array([20, 29, 38, 47])"
      ]
     },
     "execution_count": 32,
     "metadata": {},
     "output_type": "execute_result"
    }
   ],
   "source": [
    "# 배열 연산\n",
    "a = np.array([20, 30, 40, 50])\n",
    "b = np.arange(4)\n",
    "\n",
    "a - b"
   ]
  },
  {
   "cell_type": "code",
   "execution_count": 33,
   "id": "a556de28",
   "metadata": {
    "ExecuteTime": {
     "end_time": "2021-11-24T05:14:58.510791Z",
     "start_time": "2021-11-24T05:14:58.496892Z"
    },
    "hidden": true
   },
   "outputs": [
    {
     "data": {
      "text/plain": [
       "array([0, 1, 4, 9], dtype=int32)"
      ]
     },
     "execution_count": 33,
     "metadata": {},
     "output_type": "execute_result"
    }
   ],
   "source": [
    "b ** 2"
   ]
  },
  {
   "cell_type": "code",
   "execution_count": 34,
   "id": "d3549700",
   "metadata": {
    "ExecuteTime": {
     "end_time": "2021-11-24T05:14:58.526462Z",
     "start_time": "2021-11-24T05:14:58.511866Z"
    },
    "hidden": true
   },
   "outputs": [
    {
     "data": {
      "text/plain": [
       "array([ True,  True, False, False])"
      ]
     },
     "execution_count": 34,
     "metadata": {},
     "output_type": "execute_result"
    }
   ],
   "source": [
    "a < 35"
   ]
  },
  {
   "cell_type": "code",
   "execution_count": 35,
   "id": "7902fd09",
   "metadata": {
    "ExecuteTime": {
     "end_time": "2021-11-24T05:14:58.541536Z",
     "start_time": "2021-11-24T05:14:58.526852Z"
    },
    "hidden": true
   },
   "outputs": [
    {
     "name": "stdout",
     "output_type": "stream",
     "text": [
      "[[2 0]\n",
      " [0 4]]\n",
      "[[5 4]\n",
      " [3 4]]\n",
      "[[5 4]\n",
      " [3 4]]\n"
     ]
    }
   ],
   "source": [
    "a = np.array( [[1,1], [0,1]] )\n",
    "b = np.array( [[2,0], [3,4]] )\n",
    "\n",
    "# 요소별 곱\n",
    "print(a * b)\n",
    "# 행렬 곱\n",
    "print(a.dot(b))\n",
    "print(a@b)"
   ]
  },
  {
   "cell_type": "code",
   "execution_count": 36,
   "id": "fec6c73f",
   "metadata": {
    "ExecuteTime": {
     "end_time": "2021-11-24T05:14:58.556766Z",
     "start_time": "2021-11-24T05:14:58.542156Z"
    },
    "hidden": true
   },
   "outputs": [
    {
     "name": "stdout",
     "output_type": "stream",
     "text": [
      "[[1 1 1]\n",
      " [1 1 1]]\n",
      "[[0. 1. 2.]\n",
      " [3. 4. 5.]]\n"
     ]
    }
   ],
   "source": [
    "a = np.ones((2, 3), dtype=np.int32)\n",
    "b = np.arange(6).reshape(2, 3).astype(np.float32)\n",
    "\n",
    "print(a)\n",
    "print(b)"
   ]
  },
  {
   "cell_type": "code",
   "execution_count": 37,
   "id": "95c6f485",
   "metadata": {
    "ExecuteTime": {
     "end_time": "2021-11-24T05:14:58.572347Z",
     "start_time": "2021-11-24T05:14:58.558319Z"
    },
    "hidden": true
   },
   "outputs": [
    {
     "name": "stdout",
     "output_type": "stream",
     "text": [
      "[[3 3 3]\n",
      " [3 3 3]]\n"
     ]
    },
    {
     "data": {
      "text/plain": [
       "array([[3., 4., 5.],\n",
       "       [6., 7., 8.]], dtype=float32)"
      ]
     },
     "execution_count": 37,
     "metadata": {},
     "output_type": "execute_result"
    }
   ],
   "source": [
    "a *= 3\n",
    "print(a)\n",
    "\n",
    "b += a\n",
    "b"
   ]
  },
  {
   "cell_type": "code",
   "execution_count": 38,
   "id": "9e834758",
   "metadata": {
    "ExecuteTime": {
     "end_time": "2021-11-24T05:14:58.587454Z",
     "start_time": "2021-11-24T05:14:58.574352Z"
    },
    "hidden": true
   },
   "outputs": [
    {
     "name": "stdout",
     "output_type": "stream",
     "text": [
      "[[ 0  1  2  3]\n",
      " [ 4  5  6  7]\n",
      " [ 8  9 10 11]]\n"
     ]
    },
    {
     "data": {
      "text/plain": [
       "(66, 0, 11, 5.5, 3.452052529534663)"
      ]
     },
     "execution_count": 38,
     "metadata": {},
     "output_type": "execute_result"
    }
   ],
   "source": [
    "# 배열 요소의 집계\n",
    "a = np.arange(12).reshape(3, 4)\n",
    "print(a)\n",
    "a.sum(), a.min(), a.max(), a.mean(), a.std()"
   ]
  },
  {
   "cell_type": "code",
   "execution_count": 39,
   "id": "4da2438b",
   "metadata": {
    "ExecuteTime": {
     "end_time": "2021-11-24T05:14:58.602643Z",
     "start_time": "2021-11-24T05:14:58.588917Z"
    },
    "hidden": true
   },
   "outputs": [
    {
     "name": "stdout",
     "output_type": "stream",
     "text": [
      "[12 15 18 21]\n",
      "[ 6 22 38]\n"
     ]
    }
   ],
   "source": [
    "# 열이 같고 행 인덱스가 변하는 값들의 합 (열 별 합계)\n",
    "print(a.sum(axis=0))\n",
    "\n",
    "# 행이 같고 열 인덱스가 변하는 값들의 합 (행 별 합계)\n",
    "print(a.sum(axis=1))"
   ]
  },
  {
   "cell_type": "code",
   "execution_count": 40,
   "id": "d98fa126",
   "metadata": {
    "ExecuteTime": {
     "end_time": "2021-11-24T05:14:58.617880Z",
     "start_time": "2021-11-24T05:14:58.603713Z"
    },
    "hidden": true
   },
   "outputs": [
    {
     "data": {
      "text/plain": [
       "array([4, 6, 8])"
      ]
     },
     "execution_count": 40,
     "metadata": {},
     "output_type": "execute_result"
    }
   ],
   "source": [
    "A = np.arange(3) # array([0, 1, 2])\n",
    "B = np.arange(4,7) # array([4, 5, 6])\n",
    "\n",
    "# 범용함수\n",
    "np.add(A, B)"
   ]
  },
  {
   "cell_type": "code",
   "execution_count": 41,
   "id": "70f5518d",
   "metadata": {
    "ExecuteTime": {
     "end_time": "2021-11-24T05:15:05.929243Z",
     "start_time": "2021-11-24T05:14:58.619371Z"
    },
    "hidden": true
   },
   "outputs": [],
   "source": [
    "# 메모리 사용량 및 실행시간 비교\n",
    "%load_ext memory_profiler\n",
    "\n",
    "a = np.random.randn(100000000)\n",
    "b = np.random.randn(100000000)\n",
    "c = np.random.randn(100000000)"
   ]
  },
  {
   "cell_type": "code",
   "execution_count": 42,
   "id": "9d44a6ef",
   "metadata": {
    "ExecuteTime": {
     "end_time": "2021-11-24T05:15:07.540831Z",
     "start_time": "2021-11-24T05:15:05.930991Z"
    },
    "hidden": true
   },
   "outputs": [
    {
     "name": "stdout",
     "output_type": "stream",
     "text": [
      "peak memory: 3819.48 MiB, increment: 1460.47 MiB\n",
      "Wall time: 1.6 s\n"
     ]
    },
    {
     "data": {
      "text/plain": [
       "array([ 0.22428365, -0.56445509,  2.51634446, ..., -1.00260959,\n",
       "       -0.69658072, -2.9839139 ])"
      ]
     },
     "execution_count": 42,
     "metadata": {},
     "output_type": "execute_result"
    }
   ],
   "source": [
    "%%time \n",
    "# 셀을 실행시킨 시간 출력\n",
    "%memit g = a + b + c # 해당 구문 실행할 때 메모리 사용량 출력\n",
    "g"
   ]
  },
  {
   "cell_type": "code",
   "execution_count": 43,
   "id": "e0f4f4e3",
   "metadata": {
    "ExecuteTime": {
     "end_time": "2021-11-24T05:15:09.144692Z",
     "start_time": "2021-11-24T05:15:07.540831Z"
    },
    "hidden": true
   },
   "outputs": [
    {
     "name": "stdout",
     "output_type": "stream",
     "text": [
      "peak memory: 4550.02 MiB, increment: 1427.79 MiB\n",
      "[-2.02758516  1.61411228 -0.67894604 ...  0.82043233 -0.31459716\n",
      "  0.49628454]\n",
      "Wall time: 1.59 s\n"
     ]
    }
   ],
   "source": [
    "%%time\n",
    "%memit T1 = a * b; G = T1 + c; del T1\n",
    "print(G)"
   ]
  },
  {
   "cell_type": "code",
   "execution_count": 44,
   "id": "0ab4b170",
   "metadata": {
    "ExecuteTime": {
     "end_time": "2021-11-24T05:15:10.585478Z",
     "start_time": "2021-11-24T05:15:09.146741Z"
    },
    "hidden": true
   },
   "outputs": [
    {
     "name": "stdout",
     "output_type": "stream",
     "text": [
      "peak memory: 4625.14 MiB, increment: 739.98 MiB\n",
      "[-2.02758516  1.61411228 -0.67894604 ...  0.82043233 -0.31459716\n",
      "  0.49628454]\n",
      "Wall time: 1.42 s\n"
     ]
    }
   ],
   "source": [
    "%%time\n",
    "%memit G = a * b; G += c\n",
    "print(G)"
   ]
  },
  {
   "cell_type": "code",
   "execution_count": 45,
   "id": "3e3ec6be",
   "metadata": {
    "ExecuteTime": {
     "end_time": "2021-11-24T05:15:12.011478Z",
     "start_time": "2021-11-24T05:15:10.586108Z"
    },
    "hidden": true
   },
   "outputs": [
    {
     "name": "stdout",
     "output_type": "stream",
     "text": [
      "peak memory: 4628.56 MiB, increment: 743.39 MiB\n",
      "[-2.02758516  1.61411228 -0.67894604 ...  0.82043233 -0.31459716\n",
      "  0.49628454]\n",
      "Wall time: 1.41 s\n"
     ]
    }
   ],
   "source": [
    "%%time\n",
    "%memit G = a * b; np.add(G, c, G)\n",
    "print(G)"
   ]
  },
  {
   "cell_type": "code",
   "execution_count": 46,
   "id": "e467d603",
   "metadata": {
    "ExecuteTime": {
     "end_time": "2021-11-24T05:15:12.086443Z",
     "start_time": "2021-11-24T05:15:12.012589Z"
    },
    "hidden": true
   },
   "outputs": [
    {
     "name": "stdout",
     "output_type": "stream",
     "text": [
      "[2 4 6]\n",
      "[2 4 6]\n"
     ]
    }
   ],
   "source": [
    "# 브로드캐스팅\n",
    "a = np.array([1, 2, 3])\n",
    "b = np.array([2, 2, 2])\n",
    "\n",
    "print(a * b)\n",
    "print(np.multiply(a, b))"
   ]
  },
  {
   "cell_type": "code",
   "execution_count": 47,
   "id": "12ba5897",
   "metadata": {
    "ExecuteTime": {
     "end_time": "2021-11-24T05:15:12.101465Z",
     "start_time": "2021-11-24T05:15:12.087546Z"
    },
    "hidden": true
   },
   "outputs": [
    {
     "data": {
      "text/plain": [
       "array([2, 4, 6])"
      ]
     },
     "execution_count": 47,
     "metadata": {},
     "output_type": "execute_result"
    }
   ],
   "source": [
    "a = np.array([1, 2, 3])\n",
    "b = 2\n",
    "\n",
    "a*b"
   ]
  },
  {
   "cell_type": "code",
   "execution_count": 48,
   "id": "6723f19f",
   "metadata": {
    "ExecuteTime": {
     "end_time": "2021-11-24T05:15:12.116805Z",
     "start_time": "2021-11-24T05:15:12.102596Z"
    },
    "hidden": true
   },
   "outputs": [
    {
     "data": {
      "text/plain": [
       "array([[ 1,  2,  3],\n",
       "       [11, 12, 13],\n",
       "       [21, 22, 23],\n",
       "       [31, 32, 33]])"
      ]
     },
     "execution_count": 48,
     "metadata": {},
     "output_type": "execute_result"
    }
   ],
   "source": [
    "A = np.array([[ 0, 0, 0],\n",
    "[10, 10, 10],\n",
    "[20, 20, 20],\n",
    "[30, 30, 30]])\n",
    "\n",
    "B = np.array([1, 2, 3])\n",
    "\n",
    "A + B"
   ]
  },
  {
   "cell_type": "code",
   "execution_count": 49,
   "id": "ac4bf66c",
   "metadata": {
    "ExecuteTime": {
     "end_time": "2021-11-24T05:15:12.131769Z",
     "start_time": "2021-11-24T05:15:12.118104Z"
    },
    "hidden": true
   },
   "outputs": [
    {
     "data": {
      "text/plain": [
       "array([[ 1.,  2.,  3.],\n",
       "       [11., 12., 13.],\n",
       "       [21., 22., 23.],\n",
       "       [31., 32., 33.]])"
      ]
     },
     "execution_count": 49,
     "metadata": {},
     "output_type": "execute_result"
    }
   ],
   "source": [
    "A = np.array([0.0, 10.0, 20.0, 30.0])\n",
    "B = np.array([1.0, 2.0, 3.0])\n",
    "\n",
    "A[:, np.newaxis] + B # A[:, np.newaxis]는 4*1 모양의 2차원 배열\n",
    "# 행 또는 열의 차원 승격"
   ]
  },
  {
   "cell_type": "markdown",
   "id": "57f9d99d",
   "metadata": {
    "heading_collapsed": true
   },
   "source": [
    "## 3절. 배열 합치기/나누기"
   ]
  },
  {
   "cell_type": "code",
   "execution_count": 50,
   "id": "a31aa2bc",
   "metadata": {
    "ExecuteTime": {
     "end_time": "2021-11-24T05:15:12.146658Z",
     "start_time": "2021-11-24T05:15:12.133271Z"
    },
    "hidden": true
   },
   "outputs": [
    {
     "data": {
      "text/plain": [
       "array([  0,   1,   8,  27,  64, 125, 216, 343, 512, 729], dtype=int32)"
      ]
     },
     "execution_count": 50,
     "metadata": {},
     "output_type": "execute_result"
    }
   ],
   "source": [
    "a = np.arange(10) ** 3\n",
    "a"
   ]
  },
  {
   "cell_type": "code",
   "execution_count": 51,
   "id": "e44d55d4",
   "metadata": {
    "ExecuteTime": {
     "end_time": "2021-11-24T05:15:12.162335Z",
     "start_time": "2021-11-24T05:15:12.147794Z"
    },
    "hidden": true
   },
   "outputs": [
    {
     "name": "stdout",
     "output_type": "stream",
     "text": [
      "8\n",
      "512\n"
     ]
    }
   ],
   "source": [
    "print(a[2])\n",
    "print(a[-2])"
   ]
  },
  {
   "cell_type": "code",
   "execution_count": 52,
   "id": "897da916",
   "metadata": {
    "ExecuteTime": {
     "end_time": "2021-11-24T05:15:12.177926Z",
     "start_time": "2021-11-24T05:15:12.164325Z"
    },
    "hidden": true
   },
   "outputs": [
    {
     "name": "stdout",
     "output_type": "stream",
     "text": [
      "[ 8 27 64]\n",
      "[  0   8  64 216]\n",
      "[  0   8  64 216 512]\n",
      "[729 512 343 216 125  64  27   8   1   0]\n"
     ]
    },
    {
     "data": {
      "text/plain": [
       "array([-1000,     1, -1000,    27, -1000,   125,   216,   343,   512,\n",
       "         729], dtype=int32)"
      ]
     },
     "execution_count": 52,
     "metadata": {},
     "output_type": "execute_result"
    }
   ],
   "source": [
    "print(a[2:5])\n",
    "print(a[0:7:2])\n",
    "print(a[::2])\n",
    "print(a[::-1])\n",
    "\n",
    "a[:6:2] = -1000\n",
    "a"
   ]
  },
  {
   "cell_type": "code",
   "execution_count": 53,
   "id": "1c6a48f6",
   "metadata": {
    "ExecuteTime": {
     "end_time": "2021-11-24T05:15:12.192548Z",
     "start_time": "2021-11-24T05:15:12.179422Z"
    },
    "hidden": true
   },
   "outputs": [
    {
     "data": {
      "text/plain": [
       "array([[ 0,  1,  2,  3],\n",
       "       [ 4,  5,  6,  7],\n",
       "       [ 8,  9, 10, 11],\n",
       "       [12, 13, 14, 15],\n",
       "       [16, 17, 18, 19]])"
      ]
     },
     "execution_count": 53,
     "metadata": {},
     "output_type": "execute_result"
    }
   ],
   "source": [
    "b = np.arange(20).reshape(5,4)\n",
    "b"
   ]
  },
  {
   "cell_type": "code",
   "execution_count": 54,
   "id": "70663db1",
   "metadata": {
    "ExecuteTime": {
     "end_time": "2021-11-24T05:15:12.207640Z",
     "start_time": "2021-11-24T05:15:12.193565Z"
    },
    "hidden": true
   },
   "outputs": [
    {
     "name": "stdout",
     "output_type": "stream",
     "text": [
      "11\n",
      "11\n"
     ]
    }
   ],
   "source": [
    "print(b[2, 3])\n",
    "print(b[-3, -1])"
   ]
  },
  {
   "cell_type": "code",
   "execution_count": 55,
   "id": "a12b0173",
   "metadata": {
    "ExecuteTime": {
     "end_time": "2021-11-24T05:15:12.223019Z",
     "start_time": "2021-11-24T05:15:12.208653Z"
    },
    "hidden": true
   },
   "outputs": [
    {
     "name": "stdout",
     "output_type": "stream",
     "text": [
      "[ 1  5  9 13 17]\n",
      "[ 1  5  9 13 17]\n",
      "[[ 4  5  6  7]\n",
      " [ 8  9 10 11]]\n"
     ]
    }
   ],
   "source": [
    "# 다차원 배열 슬라이싱\n",
    "print(b[0:5, 1])\n",
    "print(b[:, 1])\n",
    "print(b[1:3, :])\n",
    "# print(b[, :]) # 열 인덱스 생략 가능, 행 인덱스 생략 불가"
   ]
  },
  {
   "cell_type": "code",
   "execution_count": 56,
   "id": "754f35c4",
   "metadata": {
    "ExecuteTime": {
     "end_time": "2021-11-24T05:15:12.268675Z",
     "start_time": "2021-11-24T05:15:12.225221Z"
    },
    "hidden": true
   },
   "outputs": [
    {
     "data": {
      "text/plain": [
       "array([[[ 0,  1,  2,  3],\n",
       "        [ 4,  5,  6,  7],\n",
       "        [ 8,  9, 10, 11]],\n",
       "\n",
       "       [[12, 13, 14, 15],\n",
       "        [16, 17, 18, 19],\n",
       "        [20, 21, 22, 23]]])"
      ]
     },
     "execution_count": 56,
     "metadata": {},
     "output_type": "execute_result"
    }
   ],
   "source": [
    "c = np.arange(24).reshape(2, 3, 4)\n",
    "c"
   ]
  },
  {
   "cell_type": "code",
   "execution_count": 57,
   "id": "af8159bb",
   "metadata": {
    "ExecuteTime": {
     "end_time": "2021-11-24T05:15:12.283619Z",
     "start_time": "2021-11-24T05:15:12.270612Z"
    },
    "hidden": true
   },
   "outputs": [
    {
     "name": "stdout",
     "output_type": "stream",
     "text": [
      "6\n",
      "23\n"
     ]
    }
   ],
   "source": [
    "print(c[0, 1, 2])\n",
    "print(c[1, 2, 3])"
   ]
  },
  {
   "cell_type": "code",
   "execution_count": 58,
   "id": "2e1bf93c",
   "metadata": {
    "ExecuteTime": {
     "end_time": "2021-11-24T05:15:12.298687Z",
     "start_time": "2021-11-24T05:15:12.284629Z"
    },
    "hidden": true
   },
   "outputs": [
    {
     "name": "stdout",
     "output_type": "stream",
     "text": [
      "[[ 0  1  2  3]\n",
      " [ 4  5  6  7]\n",
      " [ 8  9 10 11]]\n",
      "[0 1 2 3]\n",
      "[[ 0  4  8]\n",
      " [12 16 20]]\n",
      "[[ 0  4  8]\n",
      " [12 16 20]]\n"
     ]
    }
   ],
   "source": [
    "print(c[0])\n",
    "print(c[0, 0])\n",
    "print(c[:, :, 0])\n",
    "print(c[..., 0])"
   ]
  },
  {
   "cell_type": "code",
   "execution_count": 59,
   "id": "498e14b0",
   "metadata": {
    "ExecuteTime": {
     "end_time": "2021-11-24T05:15:12.313348Z",
     "start_time": "2021-11-24T05:15:12.300177Z"
    },
    "hidden": true
   },
   "outputs": [
    {
     "name": "stdout",
     "output_type": "stream",
     "text": [
      "[0 1 2 3]\n",
      "[4 5 6 7]\n",
      "[ 8  9 10 11]\n",
      "[12 13 14 15]\n",
      "[16 17 18 19]\n"
     ]
    }
   ],
   "source": [
    "# 다차원 배열 반복\n",
    "for row in b:\n",
    "    print(row)"
   ]
  },
  {
   "cell_type": "code",
   "execution_count": 60,
   "id": "70c23baa",
   "metadata": {
    "ExecuteTime": {
     "end_time": "2021-11-24T05:15:12.328430Z",
     "start_time": "2021-11-24T05:15:12.314336Z"
    },
    "hidden": true
   },
   "outputs": [
    {
     "name": "stdout",
     "output_type": "stream",
     "text": [
      "[0,0,0]-0, [0,0,1]-1, [0,0,2]-2, [0,0,3]-3, [0,1,0]-4, [0,1,1]-5, [0,1,2]-6, [0,1,3]-7, [0,2,0]-8, [0,2,1]-9, [0,2,2]-10, [0,2,3]-11, [1,0,0]-12, [1,0,1]-13, [1,0,2]-14, [1,0,3]-15, [1,1,0]-16, [1,1,1]-17, [1,1,2]-18, [1,1,3]-19, [1,2,0]-20, [1,2,1]-21, [1,2,2]-22, [1,2,3]-23, "
     ]
    }
   ],
   "source": [
    "for i, data in enumerate(c) :\n",
    "    for j, row in enumerate(data) :\n",
    "        for k, cell in enumerate(row) :\n",
    "            print(\"[{},{},{}]-{}\".format(i,j,k,cell), end=', ')"
   ]
  },
  {
   "cell_type": "code",
   "execution_count": 61,
   "id": "232fbd62",
   "metadata": {
    "ExecuteTime": {
     "end_time": "2021-11-24T05:15:12.343343Z",
     "start_time": "2021-11-24T05:15:12.330400Z"
    },
    "hidden": true
   },
   "outputs": [
    {
     "name": "stdout",
     "output_type": "stream",
     "text": [
      "0 1 2 3 4 5 6 7 8 9 10 11 12 13 14 15 16 17 18 19 "
     ]
    }
   ],
   "source": [
    "for element in b.flat:\n",
    "    print(element, end=' ')"
   ]
  },
  {
   "cell_type": "code",
   "execution_count": 62,
   "id": "e6ff9a79",
   "metadata": {
    "ExecuteTime": {
     "end_time": "2021-11-24T05:15:12.358600Z",
     "start_time": "2021-11-24T05:15:12.345663Z"
    },
    "hidden": true
   },
   "outputs": [
    {
     "name": "stdout",
     "output_type": "stream",
     "text": [
      "[[ 0  1  2  3]\n",
      " [ 4  5  6  7]\n",
      " [ 8  9 10 11]]\n",
      " \n",
      "[[12 13 14 15]\n",
      " [16 17 18 19]\n",
      " [20 21 22 23]]\n",
      " \n",
      "[[ 0  1  2  3]\n",
      " [ 4  5  6  7]\n",
      " [ 8  9 10 11]\n",
      " [12 13 14 15]\n",
      " [16 17 18 19]\n",
      " [20 21 22 23]]\n"
     ]
    }
   ],
   "source": [
    "# 두 배열 쌓아 합치기\n",
    "a = np.arange(12).reshape(3, 4)\n",
    "b = np.arange(12, 24).reshape(3, 4)\n",
    "\n",
    "# 위에서 아래로 배열 쌓음\n",
    "print(a)\n",
    "print(' ')\n",
    "print(b)\n",
    "print(' ')\n",
    "print(np.vstack((a, b)))"
   ]
  },
  {
   "cell_type": "code",
   "execution_count": 63,
   "id": "62fa99a7",
   "metadata": {
    "ExecuteTime": {
     "end_time": "2021-11-24T05:15:12.374191Z",
     "start_time": "2021-11-24T05:15:12.359764Z"
    },
    "hidden": true
   },
   "outputs": [
    {
     "name": "stdout",
     "output_type": "stream",
     "text": [
      "[[ 0  1  2  3 12 13 14 15]\n",
      " [ 4  5  6  7 16 17 18 19]\n",
      " [ 8  9 10 11 20 21 22 23]]\n"
     ]
    }
   ],
   "source": [
    "# 왼쪽에서 오른쪽 배열 쌓음\n",
    "print(np.hstack((a, b)))"
   ]
  },
  {
   "cell_type": "code",
   "execution_count": 64,
   "id": "6c955159",
   "metadata": {
    "ExecuteTime": {
     "end_time": "2021-11-24T05:15:12.389516Z",
     "start_time": "2021-11-24T05:15:12.375209Z"
    },
    "hidden": true
   },
   "outputs": [
    {
     "name": "stdout",
     "output_type": "stream",
     "text": [
      "[[[ 0 12]\n",
      "  [ 1 13]\n",
      "  [ 2 14]\n",
      "  [ 3 15]]\n",
      "\n",
      " [[ 4 16]\n",
      "  [ 5 17]\n",
      "  [ 6 18]\n",
      "  [ 7 19]]\n",
      "\n",
      " [[ 8 20]\n",
      "  [ 9 21]\n",
      "  [10 22]\n",
      "  [11 23]]]\n"
     ]
    }
   ],
   "source": [
    "# 깊이 별로 배열 쌓음\n",
    "print(np.dstack((a, b)))"
   ]
  },
  {
   "cell_type": "code",
   "execution_count": 65,
   "id": "56e7d219",
   "metadata": {
    "ExecuteTime": {
     "end_time": "2021-11-24T05:15:12.404696Z",
     "start_time": "2021-11-24T05:15:12.391129Z"
    },
    "hidden": true
   },
   "outputs": [
    {
     "name": "stdout",
     "output_type": "stream",
     "text": [
      "[[ 0  1  2  3 12 13 14 15]\n",
      " [ 4  5  6  7 16 17 18 19]\n",
      " [ 8  9 10 11 20 21 22 23]]\n"
     ]
    }
   ],
   "source": [
    "# 열단위로 합침\n",
    "print(np.column_stack((a, b)))"
   ]
  },
  {
   "cell_type": "code",
   "execution_count": 66,
   "id": "db3418fd",
   "metadata": {
    "ExecuteTime": {
     "end_time": "2021-11-24T05:15:12.420215Z",
     "start_time": "2021-11-24T05:15:12.405193Z"
    },
    "hidden": true
   },
   "outputs": [
    {
     "data": {
      "text/plain": [
       "array([[ 1,  5,  9],\n",
       "       [ 2,  6, 10],\n",
       "       [ 3,  7, 11],\n",
       "       [ 4,  8, 12]])"
      ]
     },
     "execution_count": 66,
     "metadata": {},
     "output_type": "execute_result"
    }
   ],
   "source": [
    "# 1차원 배열일 경우 1차원 배열을 열 단위로 합쳐 2차원 배열로 만듦\n",
    "A = np.array((1,2,3,4))\n",
    "B = np.array((5,6,7,8))\n",
    "C = np.array((9,10,11,12))\n",
    "\n",
    "np.column_stack((A, B, C))"
   ]
  },
  {
   "cell_type": "code",
   "execution_count": 67,
   "id": "1ff3c3ca",
   "metadata": {
    "ExecuteTime": {
     "end_time": "2021-11-24T05:15:12.434952Z",
     "start_time": "2021-11-24T05:15:12.422149Z"
    },
    "hidden": true
   },
   "outputs": [
    {
     "data": {
      "text/plain": [
       "array([[ 0,  1,  2,  3],\n",
       "       [ 4,  5,  6,  7],\n",
       "       [ 8,  9, 10, 11]])"
      ]
     },
     "execution_count": 67,
     "metadata": {},
     "output_type": "execute_result"
    }
   ],
   "source": [
    "# 배열 나누기\n",
    "a = np.arange(12).reshape(3,4)\n",
    "a"
   ]
  },
  {
   "cell_type": "code",
   "execution_count": 68,
   "id": "97761fd5",
   "metadata": {
    "ExecuteTime": {
     "end_time": "2021-11-24T05:15:12.450338Z",
     "start_time": "2021-11-24T05:15:12.436014Z"
    },
    "hidden": true
   },
   "outputs": [
    {
     "name": "stdout",
     "output_type": "stream",
     "text": [
      "[array([[0, 1, 2, 3]]), array([[4, 5, 6, 7]]), array([[ 8,  9, 10, 11]])]\n",
      "[array([[0],\n",
      "       [4],\n",
      "       [8]]), array([[1],\n",
      "       [5],\n",
      "       [9]]), array([[ 2],\n",
      "       [ 6],\n",
      "       [10]]), array([[ 3],\n",
      "       [ 7],\n",
      "       [11]])]\n"
     ]
    }
   ],
   "source": [
    "A_vsplit = np.vsplit(a, 3)\n",
    "print(A_vsplit)\n",
    "\n",
    "A_hsplit = np.hsplit(a, 4)\n",
    "print(A_hsplit)"
   ]
  },
  {
   "cell_type": "code",
   "execution_count": 69,
   "id": "994e8b68",
   "metadata": {
    "ExecuteTime": {
     "end_time": "2021-11-24T05:15:12.465922Z",
     "start_time": "2021-11-24T05:15:12.451875Z"
    },
    "hidden": true
   },
   "outputs": [
    {
     "data": {
      "text/plain": [
       "array([[[ 0,  1,  2,  3],\n",
       "        [ 4,  5,  6,  7],\n",
       "        [ 8,  9, 10, 11]],\n",
       "\n",
       "       [[12, 13, 14, 15],\n",
       "        [16, 17, 18, 19],\n",
       "        [20, 21, 22, 23]]])"
      ]
     },
     "execution_count": 69,
     "metadata": {},
     "output_type": "execute_result"
    }
   ],
   "source": [
    "C = np.arange(24).reshape(2,3,4) # 3차원 배열\n",
    "C"
   ]
  },
  {
   "cell_type": "code",
   "execution_count": 70,
   "id": "0c6da28b",
   "metadata": {
    "ExecuteTime": {
     "end_time": "2021-11-24T05:15:12.481168Z",
     "start_time": "2021-11-24T05:15:12.467049Z"
    },
    "hidden": true
   },
   "outputs": [
    {
     "name": "stdout",
     "output_type": "stream",
     "text": [
      "[array([[[ 0,  1,  2,  3]],\n",
      "\n",
      "       [[12, 13, 14, 15]]]), array([[[ 4,  5,  6,  7]],\n",
      "\n",
      "       [[16, 17, 18, 19]]]), array([[[ 8,  9, 10, 11]],\n",
      "\n",
      "       [[20, 21, 22, 23]]])]\n"
     ]
    }
   ],
   "source": [
    "C_hsplit = np.hsplit(C,3)\n",
    "print(C_hsplit)"
   ]
  },
  {
   "cell_type": "code",
   "execution_count": 71,
   "id": "ff1b4264",
   "metadata": {
    "ExecuteTime": {
     "end_time": "2021-11-24T05:15:12.496668Z",
     "start_time": "2021-11-24T05:15:12.482435Z"
    },
    "hidden": true
   },
   "outputs": [
    {
     "name": "stdout",
     "output_type": "stream",
     "text": [
      "[array([[[ 0,  1],\n",
      "        [ 4,  5],\n",
      "        [ 8,  9]],\n",
      "\n",
      "       [[12, 13],\n",
      "        [16, 17],\n",
      "        [20, 21]]]), array([[[ 2,  3],\n",
      "        [ 6,  7],\n",
      "        [10, 11]],\n",
      "\n",
      "       [[14, 15],\n",
      "        [18, 19],\n",
      "        [22, 23]]])]\n"
     ]
    }
   ],
   "source": [
    "print(np.dsplit(C, 2))"
   ]
  },
  {
   "cell_type": "code",
   "execution_count": 72,
   "id": "e57bc08a",
   "metadata": {
    "ExecuteTime": {
     "end_time": "2021-11-24T05:15:12.511661Z",
     "start_time": "2021-11-24T05:15:12.498015Z"
    },
    "hidden": true
   },
   "outputs": [
    {
     "data": {
      "text/plain": [
       "array([[ 0,  1,  2,  3,  4,  5,  6,  7],\n",
       "       [ 8,  9, 10, 11, 12, 13, 14, 15],\n",
       "       [16, 17, 18, 19, 20, 21, 22, 23]])"
      ]
     },
     "execution_count": 72,
     "metadata": {},
     "output_type": "execute_result"
    }
   ],
   "source": [
    "# 인덱스 목록으로 나누기\n",
    "a = np.arange(24).reshape(3, 8)\n",
    "a"
   ]
  },
  {
   "cell_type": "code",
   "execution_count": 73,
   "id": "4dbe4be8",
   "metadata": {
    "ExecuteTime": {
     "end_time": "2021-11-24T05:15:12.526422Z",
     "start_time": "2021-11-24T05:15:12.513169Z"
    },
    "hidden": true
   },
   "outputs": [
    {
     "name": "stdout",
     "output_type": "stream",
     "text": [
      "[array([[ 0,  1],\n",
      "       [ 8,  9],\n",
      "       [16, 17]]), array([[ 2,  3,  4],\n",
      "       [10, 11, 12],\n",
      "       [18, 19, 20]]), array([[ 5],\n",
      "       [13],\n",
      "       [21]]), array([[ 6,  7],\n",
      "       [14, 15],\n",
      "       [22, 23]])]\n"
     ]
    }
   ],
   "source": [
    "a_hsplit = np.hsplit(a, (2, 5, 6))\n",
    "print(a_hsplit)"
   ]
  },
  {
   "cell_type": "code",
   "execution_count": 74,
   "id": "25b7f4aa",
   "metadata": {
    "ExecuteTime": {
     "end_time": "2021-11-24T05:15:12.541551Z",
     "start_time": "2021-11-24T05:15:12.529205Z"
    },
    "hidden": true
   },
   "outputs": [
    {
     "data": {
      "text/plain": [
       "array([[ 0,  1,  2,  3,  4,  5,  6,  7],\n",
       "       [ 8,  9, 10, 11, 12, 13, 14, 15],\n",
       "       [16, 17, 18, 19, 20, 21, 22, 23]])"
      ]
     },
     "execution_count": 74,
     "metadata": {},
     "output_type": "execute_result"
    }
   ],
   "source": [
    "b = np.arange(24).reshape(3, 8)\n",
    "b"
   ]
  },
  {
   "cell_type": "code",
   "execution_count": 75,
   "id": "7872e9ca",
   "metadata": {
    "ExecuteTime": {
     "end_time": "2021-11-24T05:15:12.561958Z",
     "start_time": "2021-11-24T05:15:12.543371Z"
    },
    "hidden": true
   },
   "outputs": [
    {
     "name": "stdout",
     "output_type": "stream",
     "text": [
      "[array([[0, 1, 2, 3, 4, 5, 6, 7]]), array([[ 8,  9, 10, 11, 12, 13, 14, 15]]), array([[16, 17, 18, 19, 20, 21, 22, 23]])]\n",
      " \n",
      "[array([[0, 1, 2, 3, 4, 5, 6, 7]]), array([[ 8,  9, 10, 11, 12, 13, 14, 15]]), array([[16, 17, 18, 19, 20, 21, 22, 23]])]\n"
     ]
    }
   ],
   "source": [
    "print(np.vsplit(b, 3))\n",
    "print(' ')\n",
    "print(np.split(b, 3, axis=0))"
   ]
  },
  {
   "cell_type": "code",
   "execution_count": 76,
   "id": "a6e73aed",
   "metadata": {
    "ExecuteTime": {
     "end_time": "2021-11-24T05:15:12.586858Z",
     "start_time": "2021-11-24T05:15:12.565968Z"
    },
    "hidden": true
   },
   "outputs": [
    {
     "name": "stdout",
     "output_type": "stream",
     "text": [
      "[array([[ 0,  1,  2,  3],\n",
      "       [ 8,  9, 10, 11],\n",
      "       [16, 17, 18, 19]]), array([[ 4,  5,  6,  7],\n",
      "       [12, 13, 14, 15],\n",
      "       [20, 21, 22, 23]])]\n",
      " \n",
      "[array([[ 0,  1,  2,  3],\n",
      "       [ 8,  9, 10, 11],\n",
      "       [16, 17, 18, 19]]), array([[ 4,  5,  6,  7],\n",
      "       [12, 13, 14, 15],\n",
      "       [20, 21, 22, 23]])]\n"
     ]
    }
   ],
   "source": [
    "print(np.hsplit(b, 2))\n",
    "print(' ')\n",
    "print(np.split(b, 2, axis=1))"
   ]
  },
  {
   "cell_type": "code",
   "execution_count": 77,
   "id": "994de72d",
   "metadata": {
    "ExecuteTime": {
     "end_time": "2021-11-24T05:15:12.601902Z",
     "start_time": "2021-11-24T05:15:12.587995Z"
    },
    "hidden": true
   },
   "outputs": [
    {
     "data": {
      "text/plain": [
       "array([[[ 0,  1,  2,  3],\n",
       "        [ 4,  5,  6,  7],\n",
       "        [ 8,  9, 10, 11]],\n",
       "\n",
       "       [[12, 13, 14, 15],\n",
       "        [16, 17, 18, 19],\n",
       "        [20, 21, 22, 23]]])"
      ]
     },
     "execution_count": 77,
     "metadata": {},
     "output_type": "execute_result"
    }
   ],
   "source": [
    "c = np.arange(24).reshape(2,3,4)\n",
    "c"
   ]
  },
  {
   "cell_type": "code",
   "execution_count": 79,
   "id": "3c29480e",
   "metadata": {
    "ExecuteTime": {
     "end_time": "2021-11-24T05:16:34.670601Z",
     "start_time": "2021-11-24T05:16:34.650695Z"
    },
    "hidden": true
   },
   "outputs": [
    {
     "name": "stdout",
     "output_type": "stream",
     "text": [
      "[array([[[ 0,  1],\n",
      "        [ 4,  5],\n",
      "        [ 8,  9]],\n",
      "\n",
      "       [[12, 13],\n",
      "        [16, 17],\n",
      "        [20, 21]]]), array([[[ 2,  3],\n",
      "        [ 6,  7],\n",
      "        [10, 11]],\n",
      "\n",
      "       [[14, 15],\n",
      "        [18, 19],\n",
      "        [22, 23]]])]\n",
      "[array([[[ 0,  1],\n",
      "        [ 4,  5],\n",
      "        [ 8,  9]],\n",
      "\n",
      "       [[12, 13],\n",
      "        [16, 17],\n",
      "        [20, 21]]]), array([[[ 2,  3],\n",
      "        [ 6,  7],\n",
      "        [10, 11]],\n",
      "\n",
      "       [[14, 15],\n",
      "        [18, 19],\n",
      "        [22, 23]]])]\n"
     ]
    }
   ],
   "source": [
    "print(np.dsplit(c, 2))\n",
    "print(np.split(c, 2, axis=2))"
   ]
  },
  {
   "cell_type": "code",
   "execution_count": 80,
   "id": "7a5ae936",
   "metadata": {
    "ExecuteTime": {
     "end_time": "2021-11-24T05:19:32.667795Z",
     "start_time": "2021-11-24T05:19:32.659253Z"
    },
    "hidden": true
   },
   "outputs": [
    {
     "data": {
      "text/plain": [
       "array([[ 0,  1,  2,  3,  4,  5,  6,  7,  8,  9],\n",
       "       [10, 11, 12, 13, 14, 15, 16, 17, 18, 19]])"
      ]
     },
     "execution_count": 80,
     "metadata": {},
     "output_type": "execute_result"
    }
   ],
   "source": [
    "a = np.arange(20).reshape(2, 10)\n",
    "a"
   ]
  },
  {
   "cell_type": "code",
   "execution_count": 82,
   "id": "c5a4f8b0",
   "metadata": {
    "ExecuteTime": {
     "end_time": "2021-11-24T05:20:39.180793Z",
     "start_time": "2021-11-24T05:20:39.171671Z"
    },
    "hidden": true
   },
   "outputs": [
    {
     "name": "stdout",
     "output_type": "stream",
     "text": [
      "[array([[ 0,  1,  2,  3],\n",
      "       [10, 11, 12, 13]]), array([[ 4,  5,  6],\n",
      "       [14, 15, 16]]), array([[ 7,  8,  9],\n",
      "       [17, 18, 19]])]\n",
      " \n",
      "[array([[ 0,  1,  2],\n",
      "       [10, 11, 12]]), array([[ 3,  4,  5],\n",
      "       [13, 14, 15]]), array([[ 6,  7],\n",
      "       [16, 17]]), array([[ 8,  9],\n",
      "       [18, 19]])]\n"
     ]
    }
   ],
   "source": [
    "print(np.array_split(a, 3, axis=1))\n",
    "print(' ')\n",
    "print(np.array_split(a, 4, axis=1))"
   ]
  },
  {
   "cell_type": "markdown",
   "id": "09fc9637",
   "metadata": {
    "heading_collapsed": true
   },
   "source": [
    "## 4절. 복사와 뷰"
   ]
  },
  {
   "cell_type": "code",
   "execution_count": 83,
   "id": "c77555a6",
   "metadata": {
    "ExecuteTime": {
     "end_time": "2021-11-24T05:21:21.699222Z",
     "start_time": "2021-11-24T05:21:21.690797Z"
    },
    "hidden": true
   },
   "outputs": [
    {
     "data": {
      "text/plain": [
       "True"
      ]
     },
     "execution_count": 83,
     "metadata": {},
     "output_type": "execute_result"
    }
   ],
   "source": [
    "a = np.arange(12)\n",
    "b = a\n",
    "b is a"
   ]
  },
  {
   "cell_type": "code",
   "execution_count": 84,
   "id": "6e40bb94",
   "metadata": {
    "ExecuteTime": {
     "end_time": "2021-11-24T05:21:42.442902Z",
     "start_time": "2021-11-24T05:21:42.422975Z"
    },
    "hidden": true
   },
   "outputs": [
    {
     "data": {
      "text/plain": [
       "(3, 4)"
      ]
     },
     "execution_count": 84,
     "metadata": {},
     "output_type": "execute_result"
    }
   ],
   "source": [
    "b.shape = 3, 4\n",
    "a.shape"
   ]
  },
  {
   "cell_type": "code",
   "execution_count": 86,
   "id": "97d49dd1",
   "metadata": {
    "ExecuteTime": {
     "end_time": "2021-11-24T05:22:10.948528Z",
     "start_time": "2021-11-24T05:22:10.934517Z"
    },
    "hidden": true
   },
   "outputs": [
    {
     "name": "stdout",
     "output_type": "stream",
     "text": [
      "[[0 0 0 0]\n",
      " [4 5 6 7]\n",
      " [0 0 0 0]]\n",
      "[[0 0 0 0]\n",
      " [4 5 6 7]\n",
      " [0 0 0 0]]\n"
     ]
    }
   ],
   "source": [
    "b[::2] = 0\n",
    "print(b)\n",
    "print(a)"
   ]
  },
  {
   "cell_type": "code",
   "execution_count": 88,
   "id": "42669a11",
   "metadata": {
    "ExecuteTime": {
     "end_time": "2021-11-24T05:23:11.521468Z",
     "start_time": "2021-11-24T05:23:11.507570Z"
    },
    "hidden": true
   },
   "outputs": [
    {
     "name": "stdout",
     "output_type": "stream",
     "text": [
      "1808204533904\n",
      "1808204533904\n",
      "None\n"
     ]
    }
   ],
   "source": [
    "def f(x):\n",
    "    print(id(x))\n",
    "    \n",
    "print(id(a))\n",
    "\n",
    "# 파이썬은 변경 가능한 객체를 참조로 전달하므로 함수 호출은\n",
    "# 복사본을 만들지 않는다.\n",
    "print(f(a))"
   ]
  },
  {
   "cell_type": "code",
   "execution_count": 89,
   "id": "0752da47",
   "metadata": {
    "ExecuteTime": {
     "end_time": "2021-11-24T05:30:44.660451Z",
     "start_time": "2021-11-24T05:30:44.646783Z"
    },
    "hidden": true
   },
   "outputs": [
    {
     "data": {
      "text/plain": [
       "False"
      ]
     },
     "execution_count": 89,
     "metadata": {},
     "output_type": "execute_result"
    }
   ],
   "source": [
    "# 얕은 복사 뷰\n",
    "# view: 동일한 데이터를 공유할 수 있는 다른 배열 객체\n",
    "# view 는 같은 데이터 참조, shape는 다른 새로운 배열 객체 생성\n",
    "c = a.view()\n",
    "c is a"
   ]
  },
  {
   "cell_type": "code",
   "execution_count": 91,
   "id": "e6b64f25",
   "metadata": {
    "ExecuteTime": {
     "end_time": "2021-11-24T05:32:30.235545Z",
     "start_time": "2021-11-24T05:32:30.217897Z"
    },
    "hidden": true
   },
   "outputs": [
    {
     "name": "stdout",
     "output_type": "stream",
     "text": [
      "False\n",
      "True\n"
     ]
    }
   ],
   "source": [
    "# view 함수를 이용해 받은 객체가 다른 객체에서 빌려온 객체인지\n",
    "# 확인 가능\n",
    "print(c.flags.owndata)\n",
    "print(c.base is a)"
   ]
  },
  {
   "cell_type": "code",
   "execution_count": 92,
   "id": "40381b38",
   "metadata": {
    "ExecuteTime": {
     "end_time": "2021-11-24T05:35:40.021726Z",
     "start_time": "2021-11-24T05:35:40.009465Z"
    },
    "hidden": true
   },
   "outputs": [
    {
     "data": {
      "text/plain": [
       "((3, 4), (2, 6))"
      ]
     },
     "execution_count": 92,
     "metadata": {},
     "output_type": "execute_result"
    }
   ],
   "source": [
    "c.shape = (2, 6)\n",
    "a.shape, c.shape\n",
    "# c의 모양은 바뀌지만 a의 모양은 바뀌지 않음"
   ]
  },
  {
   "cell_type": "code",
   "execution_count": 94,
   "id": "ff37fd75",
   "metadata": {
    "ExecuteTime": {
     "end_time": "2021-11-24T05:37:07.151435Z",
     "start_time": "2021-11-24T05:37:07.145176Z"
    },
    "hidden": true
   },
   "outputs": [
    {
     "name": "stdout",
     "output_type": "stream",
     "text": [
      "[[1 2 3 4]\n",
      " [4 5 6 7]\n",
      " [0 0 0 0]]\n",
      " \n",
      "[[1 2 3 4 4 5]\n",
      " [6 7 0 0 0 0]]\n"
     ]
    }
   ],
   "source": [
    "a[0, :] = [1, 2, 3, 4]\n",
    "print(a)\n",
    "print(' ')\n",
    "print(c)"
   ]
  },
  {
   "cell_type": "code",
   "execution_count": 97,
   "id": "397f6dbb",
   "metadata": {
    "ExecuteTime": {
     "end_time": "2021-11-24T05:47:05.492722Z",
     "start_time": "2021-11-24T05:47:05.482354Z"
    },
    "hidden": true
   },
   "outputs": [
    {
     "name": "stdout",
     "output_type": "stream",
     "text": [
      "False\n",
      "False\n"
     ]
    }
   ],
   "source": [
    "# 깊은 복사\n",
    "a = np.arange(12).reshape(3,4)\n",
    "a\n",
    "\n",
    "d = a.copy()\n",
    "\n",
    "print(d is a)\n",
    "# d는 a와 어느 것도 공유하지 않음\n",
    "print(d.base is a)"
   ]
  },
  {
   "cell_type": "code",
   "execution_count": 98,
   "id": "fcbb9025",
   "metadata": {
    "ExecuteTime": {
     "end_time": "2021-11-24T05:48:11.150847Z",
     "start_time": "2021-11-24T05:48:11.133023Z"
    },
    "hidden": true
   },
   "outputs": [
    {
     "name": "stdout",
     "output_type": "stream",
     "text": [
      "[[10 20 30 40]\n",
      " [ 4  5  6  7]\n",
      " [ 8  9 10 11]]\n",
      "[[ 0  1  2  3]\n",
      " [ 4  5  6  7]\n",
      " [ 8  9 10 11]]\n"
     ]
    }
   ],
   "source": [
    "# copy 함수에 의해 반환받은 객체 변경해도\n",
    "# 원본 객체에 영향 주지 않음\n",
    "\n",
    "d[0, :] = [10, 20, 30, 40]\n",
    "print(d)\n",
    "print(a)"
   ]
  },
  {
   "cell_type": "markdown",
   "id": "8c0dd5e3",
   "metadata": {
    "heading_collapsed": true
   },
   "source": [
    "## 5절. 고급 인덱싱"
   ]
  },
  {
   "cell_type": "code",
   "execution_count": 101,
   "id": "e2e5bbd4",
   "metadata": {
    "ExecuteTime": {
     "end_time": "2021-11-24T06:21:52.918414Z",
     "start_time": "2021-11-24T06:21:52.902389Z"
    },
    "hidden": true
   },
   "outputs": [
    {
     "name": "stdout",
     "output_type": "stream",
     "text": [
      "[  0   1   4   9  16  25  36  49  64  81 100 121]\n"
     ]
    },
    {
     "data": {
      "text/plain": [
       "array([ 1,  1,  9, 64, 25], dtype=int32)"
      ]
     },
     "execution_count": 101,
     "metadata": {},
     "output_type": "execute_result"
    }
   ],
   "source": [
    "a = np.arange(12)**2\n",
    "i = np.array([1, 1, 3, 8, 5])\n",
    "print(a)\n",
    "a[i]"
   ]
  },
  {
   "cell_type": "code",
   "execution_count": 100,
   "id": "dbc4bdc9",
   "metadata": {
    "ExecuteTime": {
     "end_time": "2021-11-24T06:21:32.734889Z",
     "start_time": "2021-11-24T06:21:32.717936Z"
    },
    "hidden": true
   },
   "outputs": [
    {
     "data": {
      "text/plain": [
       "array([[ 9, 16],\n",
       "       [81, 49]], dtype=int32)"
      ]
     },
     "execution_count": 100,
     "metadata": {},
     "output_type": "execute_result"
    }
   ],
   "source": [
    "j = np.array([[3, 4], [9, 7]])\n",
    "a[j]"
   ]
  },
  {
   "cell_type": "code",
   "execution_count": 102,
   "id": "3a944376",
   "metadata": {
    "ExecuteTime": {
     "end_time": "2021-11-24T06:23:35.236244Z",
     "start_time": "2021-11-24T06:23:35.225880Z"
    },
    "hidden": true
   },
   "outputs": [],
   "source": [
    "# label image to color image\n",
    "palette = np.array([[ 0, 0, 0], # black\n",
    "                    [255, 0, 0], # red\n",
    "                    [ 0,255, 0], # green\n",
    "                    [ 0, 0,255], # blue\n",
    "                    [255,255,255]], # white\n",
    "                    dtype=np.uint8) # Unsigned int 형으로 타입을 지정함"
   ]
  },
  {
   "cell_type": "code",
   "execution_count": 103,
   "id": "40ab6d76",
   "metadata": {
    "ExecuteTime": {
     "end_time": "2021-11-24T06:23:56.517894Z",
     "start_time": "2021-11-24T06:23:56.498982Z"
    },
    "hidden": true
   },
   "outputs": [],
   "source": [
    "image_index = np.array( [ [4,4,4,0,0,0,0,4,4,4],\n",
    "                            [4,0,0,4,4,4,4,0,0,4],\n",
    "                            [0,0,4,4,4,4,4,4,0,0],\n",
    "                            [0,4,4,1,4,4,3,4,4,0],\n",
    "                            [0,4,4,1,4,4,3,4,4,0],\n",
    "                            [0,4,4,4,4,4,4,4,4,0],\n",
    "                            [0,4,4,2,4,4,2,4,4,0],\n",
    "                            [4,0,4,4,2,2,4,4,0,4],\n",
    "                            [4,4,0,4,4,4,4,0,4,4],\n",
    "                            [4,4,4,0,0,0,0,4,4,4] ] )"
   ]
  },
  {
   "cell_type": "code",
   "execution_count": 104,
   "id": "7d5c753c",
   "metadata": {
    "ExecuteTime": {
     "end_time": "2021-11-24T06:25:49.407981Z",
     "start_time": "2021-11-24T06:25:48.614514Z"
    },
    "hidden": true
   },
   "outputs": [
    {
     "data": {
      "image/png": "[encoded data removed]",
      "text/plain": [
       "<Figure size 432x288 with 1 Axes>"
      ]
     },
     "metadata": {
      "needs_background": "light"
     },
     "output_type": "display_data"
    }
   ],
   "source": [
    "image_data = palette[image_index]\n",
    "\n",
    "import matplotlib.pyplot as plt\n",
    "\n",
    "plt.imshow(image_data, interpolation='nearest')\n",
    "plt.show()"
   ]
  },
  {
   "cell_type": "code",
   "execution_count": 106,
   "id": "feea04b0",
   "metadata": {
    "ExecuteTime": {
     "end_time": "2021-11-24T06:27:56.846345Z",
     "start_time": "2021-11-24T06:27:56.842344Z"
    },
    "hidden": true
   },
   "outputs": [
    {
     "name": "stdout",
     "output_type": "stream",
     "text": [
      "[[ 0  1  2  3]\n",
      " [ 4  5  6  7]\n",
      " [ 8  9 10 11]]\n",
      "[[ 2  5]\n",
      " [ 7 11]]\n"
     ]
    }
   ],
   "source": [
    "# 다차원 인덱싱\n",
    "a = np.arange(12).reshape(3, 4)\n",
    "print(a)\n",
    "\n",
    "ind_i = np.array([[0, 1],\n",
    "                 [1, 2]])\n",
    "ind_j = np.array([[2, 1],\n",
    "                 [3, 3]])\n",
    "\n",
    "print(a[ind_i, ind_j])"
   ]
  },
  {
   "cell_type": "code",
   "execution_count": 108,
   "id": "b0d7f71a",
   "metadata": {
    "ExecuteTime": {
     "end_time": "2021-11-24T06:30:27.785402Z",
     "start_time": "2021-11-24T06:30:27.774134Z"
    },
    "hidden": true
   },
   "outputs": [
    {
     "name": "stdout",
     "output_type": "stream",
     "text": [
      "[[[ 0  1  2  3]\n",
      "  [ 4  5  6  7]]\n",
      "\n",
      " [[ 4  5  6  7]\n",
      "  [ 8  9 10 11]]]\n",
      " \n",
      "[[[ 0  1  2  3]\n",
      "  [ 4  5  6  7]]\n",
      "\n",
      " [[ 4  5  6  7]\n",
      "  [ 8  9 10 11]]]\n"
     ]
    }
   ],
   "source": [
    "print(a[ind_i, :])\n",
    "print(' ')\n",
    "print(a[ind_i])"
   ]
  },
  {
   "cell_type": "code",
   "execution_count": 110,
   "id": "6e87c098",
   "metadata": {
    "ExecuteTime": {
     "end_time": "2021-11-24T06:40:08.262320Z",
     "start_time": "2021-11-24T06:40:08.236924Z"
    },
    "hidden": true
   },
   "outputs": [
    {
     "name": "stderr",
     "output_type": "stream",
     "text": [
      "C:\\Users\\ameli\\AppData\\Local\\Temp/ipykernel_9816/4275717531.py:2: FutureWarning: Using a non-tuple sequence for multidimensional indexing is deprecated; use `arr[tuple(seq)]` instead of `arr[seq]`. In the future this will be interpreted as an array index, `arr[np.array(seq)]`, which will result either in an error or a different result.\n",
      "  a[L]\n"
     ]
    },
    {
     "data": {
      "text/plain": [
       "array([[ 2,  5],\n",
       "       [ 7, 11]])"
      ]
     },
     "execution_count": 110,
     "metadata": {},
     "output_type": "execute_result"
    }
   ],
   "source": [
    "L = [ind_i, ind_j]\n",
    "a[L]"
   ]
  },
  {
   "cell_type": "code",
   "execution_count": 111,
   "id": "dd16b4c8",
   "metadata": {
    "ExecuteTime": {
     "end_time": "2021-11-24T06:40:53.116001Z",
     "start_time": "2021-11-24T06:40:53.100937Z"
    },
    "hidden": true
   },
   "outputs": [
    {
     "data": {
      "text/plain": [
       "array([[ 2,  5],\n",
       "       [ 7, 11]])"
      ]
     },
     "execution_count": 111,
     "metadata": {},
     "output_type": "execute_result"
    }
   ],
   "source": [
    "ind = np.array(L)\n",
    "a[tuple(ind)]\n",
    "\n",
    "# 다차원 인덱스 ind_i, ind_j를 배열로 만들 수 없음\n",
    "# ind_i, ind_j 는 배열 객체이므로 이를 이용해 다시 배열 객체 생성 안됨\n",
    "# tuple을 이용하여 다시 시퀀스로 생성"
   ]
  },
  {
   "cell_type": "code",
   "execution_count": 113,
   "id": "c703a00c",
   "metadata": {
    "ExecuteTime": {
     "end_time": "2021-11-24T06:43:21.796286Z",
     "start_time": "2021-11-24T06:43:21.779128Z"
    },
    "hidden": true
   },
   "outputs": [
    {
     "data": {
      "text/plain": [
       "array([[ 0.        ,  0.84147098,  0.90929743,  0.14112001],\n",
       "       [-0.7568025 , -0.95892427, -0.2794155 ,  0.6569866 ],\n",
       "       [ 0.98935825,  0.41211849, -0.54402111, -0.99999021],\n",
       "       [-0.53657292,  0.42016704,  0.99060736,  0.65028784],\n",
       "       [-0.28790332, -0.96139749, -0.75098725,  0.14987721]])"
      ]
     },
     "execution_count": 113,
     "metadata": {},
     "output_type": "execute_result"
    }
   ],
   "source": [
    "# 인덱스를 이용하여 참조하는 최댓값 검색\n",
    "data = np.sin(np.arange(20)).reshape(5, 4)\n",
    "data"
   ]
  },
  {
   "cell_type": "code",
   "execution_count": 114,
   "id": "aec6b77d",
   "metadata": {
    "ExecuteTime": {
     "end_time": "2021-11-24T06:44:16.583909Z",
     "start_time": "2021-11-24T06:44:16.558360Z"
    },
    "hidden": true
   },
   "outputs": [
    {
     "data": {
      "text/plain": [
       "array([2, 0, 3, 1], dtype=int64)"
      ]
     },
     "execution_count": 114,
     "metadata": {},
     "output_type": "execute_result"
    }
   ],
   "source": [
    "# 행별 최댓값 인덱스\n",
    "ind = data.argmax(axis=0)\n",
    "ind"
   ]
  },
  {
   "cell_type": "code",
   "execution_count": 115,
   "id": "b720ba9f",
   "metadata": {
    "ExecuteTime": {
     "end_time": "2021-11-24T06:45:24.391347Z",
     "start_time": "2021-11-24T06:45:24.371433Z"
    },
    "hidden": true
   },
   "outputs": [
    {
     "data": {
      "text/plain": [
       "array([0.98935825, 0.84147098, 0.99060736, 0.6569866 ])"
      ]
     },
     "execution_count": 115,
     "metadata": {},
     "output_type": "execute_result"
    }
   ],
   "source": [
    "# 각 열 최댓값 탐색\n",
    "data_max = data[ind, range(data.shape[1])]\n",
    "data_max"
   ]
  },
  {
   "cell_type": "code",
   "execution_count": 117,
   "id": "c8c35f25",
   "metadata": {
    "ExecuteTime": {
     "end_time": "2021-11-24T06:47:35.401775Z",
     "start_time": "2021-11-24T06:47:35.383116Z"
    },
    "hidden": true
   },
   "outputs": [
    {
     "name": "stdout",
     "output_type": "stream",
     "text": [
      "[0.98935825 0.84147098 0.99060736 0.6569866 ]\n",
      "True\n"
     ]
    }
   ],
   "source": [
    "print(data.max(axis=0))\n",
    "print(np.all(data_max == data.max(axis=0)))"
   ]
  },
  {
   "cell_type": "code",
   "execution_count": 119,
   "id": "5d560d99",
   "metadata": {
    "ExecuteTime": {
     "end_time": "2021-11-24T06:48:44.537205Z",
     "start_time": "2021-11-24T06:48:44.516689Z"
    },
    "hidden": true
   },
   "outputs": [
    {
     "name": "stdout",
     "output_type": "stream",
     "text": [
      "[[ 0  1  2  3]\n",
      " [ 4  5  6  7]\n",
      " [ 8  9 10 11]\n",
      " [12 13 14 15]\n",
      " [16 17 18 19]]\n"
     ]
    },
    {
     "data": {
      "text/plain": [
       "array([ 8,  1, 14,  7])"
      ]
     },
     "execution_count": 119,
     "metadata": {},
     "output_type": "execute_result"
    }
   ],
   "source": [
    "other_data = np.arange(20).reshape(5, 4)\n",
    "print(other_data)\n",
    "\n",
    "other_data[data.argmax(axis=0), range(data.shape[1])]"
   ]
  },
  {
   "cell_type": "code",
   "execution_count": null,
   "id": "e4be6837",
   "metadata": {
    "hidden": true
   },
   "outputs": [],
   "source": [
    "# 인덱싱을 이용한 값 변경\n"
   ]
  },
  {
   "cell_type": "markdown",
   "id": "86776125",
   "metadata": {},
   "source": [
    "## 6절. 선형대수학"
   ]
  },
  {
   "cell_type": "markdown",
   "id": "5afee592",
   "metadata": {},
   "source": [
    "## 7절. 유용한 정보 및 팁"
   ]
  },
  {
   "cell_type": "markdown",
   "id": "47f6774c",
   "metadata": {
    "heading_collapsed": true
   },
   "source": [
    "## 8절. 연습문제"
   ]
  },
  {
   "cell_type": "code",
   "execution_count": 121,
   "id": "81f71207",
   "metadata": {
    "ExecuteTime": {
     "end_time": "2021-11-24T08:04:04.542525Z",
     "start_time": "2021-11-24T08:04:04.516857Z"
    },
    "collapsed": true,
    "hidden": true
   },
   "outputs": [
    {
     "data": {
      "text/plain": [
       "array([[5.1, 3.5, 1.4, 0.2],\n",
       "       [4.9, 3. , 1.4, 0.2],\n",
       "       [4.7, 3.2, 1.3, 0.2],\n",
       "       [4.6, 3.1, 1.5, 0.2],\n",
       "       [5. , 3.6, 1.4, 0.2],\n",
       "       [5.4, 3.9, 1.7, 0.4],\n",
       "       [4.6, 3.4, 1.4, 0.3],\n",
       "       [5. , 3.4, 1.5, 0.2],\n",
       "       [4.4, 2.9, 1.4, 0.2],\n",
       "       [4.9, 3.1, 1.5, 0.1],\n",
       "       [5.4, 3.7, 1.5, 0.2],\n",
       "       [4.8, 3.4, 1.6, 0.2],\n",
       "       [4.8, 3. , 1.4, 0.1],\n",
       "       [4.3, 3. , 1.1, 0.1],\n",
       "       [5.8, 4. , 1.2, 0.2],\n",
       "       [5.7, 4.4, 1.5, 0.4],\n",
       "       [5.4, 3.9, 1.3, 0.4],\n",
       "       [5.1, 3.5, 1.4, 0.3],\n",
       "       [5.7, 3.8, 1.7, 0.3],\n",
       "       [5.1, 3.8, 1.5, 0.3],\n",
       "       [5.4, 3.4, 1.7, 0.2],\n",
       "       [5.1, 3.7, 1.5, 0.4],\n",
       "       [4.6, 3.6, 1. , 0.2],\n",
       "       [5.1, 3.3, 1.7, 0.5],\n",
       "       [4.8, 3.4, 1.9, 0.2],\n",
       "       [5. , 3. , 1.6, 0.2],\n",
       "       [5. , 3.4, 1.6, 0.4],\n",
       "       [5.2, 3.5, 1.5, 0.2],\n",
       "       [5.2, 3.4, 1.4, 0.2],\n",
       "       [4.7, 3.2, 1.6, 0.2],\n",
       "       [4.8, 3.1, 1.6, 0.2],\n",
       "       [5.4, 3.4, 1.5, 0.4],\n",
       "       [5.2, 4.1, 1.5, 0.1],\n",
       "       [5.5, 4.2, 1.4, 0.2],\n",
       "       [4.9, 3.1, 1.5, 0.2],\n",
       "       [5. , 3.2, 1.2, 0.2],\n",
       "       [5.5, 3.5, 1.3, 0.2],\n",
       "       [4.9, 3.6, 1.4, 0.1],\n",
       "       [4.4, 3. , 1.3, 0.2],\n",
       "       [5.1, 3.4, 1.5, 0.2],\n",
       "       [5. , 3.5, 1.3, 0.3],\n",
       "       [4.5, 2.3, 1.3, 0.3],\n",
       "       [4.4, 3.2, 1.3, 0.2],\n",
       "       [5. , 3.5, 1.6, 0.6],\n",
       "       [5.1, 3.8, 1.9, 0.4],\n",
       "       [4.8, 3. , 1.4, 0.3],\n",
       "       [5.1, 3.8, 1.6, 0.2],\n",
       "       [4.6, 3.2, 1.4, 0.2],\n",
       "       [5.3, 3.7, 1.5, 0.2],\n",
       "       [5. , 3.3, 1.4, 0.2],\n",
       "       [7. , 3.2, 4.7, 1.4],\n",
       "       [6.4, 3.2, 4.5, 1.5],\n",
       "       [6.9, 3.1, 4.9, 1.5],\n",
       "       [5.5, 2.3, 4. , 1.3],\n",
       "       [6.5, 2.8, 4.6, 1.5],\n",
       "       [5.7, 2.8, 4.5, 1.3],\n",
       "       [6.3, 3.3, 4.7, 1.6],\n",
       "       [4.9, 2.4, 3.3, 1. ],\n",
       "       [6.6, 2.9, 4.6, 1.3],\n",
       "       [5.2, 2.7, 3.9, 1.4],\n",
       "       [5. , 2. , 3.5, 1. ],\n",
       "       [5.9, 3. , 4.2, 1.5],\n",
       "       [6. , 2.2, 4. , 1. ],\n",
       "       [6.1, 2.9, 4.7, 1.4],\n",
       "       [5.6, 2.9, 3.6, 1.3],\n",
       "       [6.7, 3.1, 4.4, 1.4],\n",
       "       [5.6, 3. , 4.5, 1.5],\n",
       "       [5.8, 2.7, 4.1, 1. ],\n",
       "       [6.2, 2.2, 4.5, 1.5],\n",
       "       [5.6, 2.5, 3.9, 1.1],\n",
       "       [5.9, 3.2, 4.8, 1.8],\n",
       "       [6.1, 2.8, 4. , 1.3],\n",
       "       [6.3, 2.5, 4.9, 1.5],\n",
       "       [6.1, 2.8, 4.7, 1.2],\n",
       "       [6.4, 2.9, 4.3, 1.3],\n",
       "       [6.6, 3. , 4.4, 1.4],\n",
       "       [6.8, 2.8, 4.8, 1.4],\n",
       "       [6.7, 3. , 5. , 1.7],\n",
       "       [6. , 2.9, 4.5, 1.5],\n",
       "       [5.7, 2.6, 3.5, 1. ],\n",
       "       [5.5, 2.4, 3.8, 1.1],\n",
       "       [5.5, 2.4, 3.7, 1. ],\n",
       "       [5.8, 2.7, 3.9, 1.2],\n",
       "       [6. , 2.7, 5.1, 1.6],\n",
       "       [5.4, 3. , 4.5, 1.5],\n",
       "       [6. , 3.4, 4.5, 1.6],\n",
       "       [6.7, 3.1, 4.7, 1.5],\n",
       "       [6.3, 2.3, 4.4, 1.3],\n",
       "       [5.6, 3. , 4.1, 1.3],\n",
       "       [5.5, 2.5, 4. , 1.3],\n",
       "       [5.5, 2.6, 4.4, 1.2],\n",
       "       [6.1, 3. , 4.6, 1.4],\n",
       "       [5.8, 2.6, 4. , 1.2],\n",
       "       [5. , 2.3, 3.3, 1. ],\n",
       "       [5.6, 2.7, 4.2, 1.3],\n",
       "       [5.7, 3. , 4.2, 1.2],\n",
       "       [5.7, 2.9, 4.2, 1.3],\n",
       "       [6.2, 2.9, 4.3, 1.3],\n",
       "       [5.1, 2.5, 3. , 1.1],\n",
       "       [5.7, 2.8, 4.1, 1.3],\n",
       "       [6.3, 3.3, 6. , 2.5],\n",
       "       [5.8, 2.7, 5.1, 1.9],\n",
       "       [7.1, 3. , 5.9, 2.1],\n",
       "       [6.3, 2.9, 5.6, 1.8],\n",
       "       [6.5, 3. , 5.8, 2.2],\n",
       "       [7.6, 3. , 6.6, 2.1],\n",
       "       [4.9, 2.5, 4.5, 1.7],\n",
       "       [7.3, 2.9, 6.3, 1.8],\n",
       "       [6.7, 2.5, 5.8, 1.8],\n",
       "       [7.2, 3.6, 6.1, 2.5],\n",
       "       [6.5, 3.2, 5.1, 2. ],\n",
       "       [6.4, 2.7, 5.3, 1.9],\n",
       "       [6.8, 3. , 5.5, 2.1],\n",
       "       [5.7, 2.5, 5. , 2. ],\n",
       "       [5.8, 2.8, 5.1, 2.4],\n",
       "       [6.4, 3.2, 5.3, 2.3],\n",
       "       [6.5, 3. , 5.5, 1.8],\n",
       "       [7.7, 3.8, 6.7, 2.2],\n",
       "       [7.7, 2.6, 6.9, 2.3],\n",
       "       [6. , 2.2, 5. , 1.5],\n",
       "       [6.9, 3.2, 5.7, 2.3],\n",
       "       [5.6, 2.8, 4.9, 2. ],\n",
       "       [7.7, 2.8, 6.7, 2. ],\n",
       "       [6.3, 2.7, 4.9, 1.8],\n",
       "       [6.7, 3.3, 5.7, 2.1],\n",
       "       [7.2, 3.2, 6. , 1.8],\n",
       "       [6.2, 2.8, 4.8, 1.8],\n",
       "       [6.1, 3. , 4.9, 1.8],\n",
       "       [6.4, 2.8, 5.6, 2.1],\n",
       "       [7.2, 3. , 5.8, 1.6],\n",
       "       [7.4, 2.8, 6.1, 1.9],\n",
       "       [7.9, 3.8, 6.4, 2. ],\n",
       "       [6.4, 2.8, 5.6, 2.2],\n",
       "       [6.3, 2.8, 5.1, 1.5],\n",
       "       [6.1, 2.6, 5.6, 1.4],\n",
       "       [7.7, 3. , 6.1, 2.3],\n",
       "       [6.3, 3.4, 5.6, 2.4],\n",
       "       [6.4, 3.1, 5.5, 1.8],\n",
       "       [6. , 3. , 4.8, 1.8],\n",
       "       [6.9, 3.1, 5.4, 2.1],\n",
       "       [6.7, 3.1, 5.6, 2.4],\n",
       "       [6.9, 3.1, 5.1, 2.3],\n",
       "       [5.8, 2.7, 5.1, 1.9],\n",
       "       [6.8, 3.2, 5.9, 2.3],\n",
       "       [6.7, 3.3, 5.7, 2.5],\n",
       "       [6.7, 3. , 5.2, 2.3],\n",
       "       [6.3, 2.5, 5. , 1.9],\n",
       "       [6.5, 3. , 5.2, 2. ],\n",
       "       [6.2, 3.4, 5.4, 2.3],\n",
       "       [5.9, 3. , 5.1, 1.8]])"
      ]
     },
     "execution_count": 121,
     "metadata": {},
     "output_type": "execute_result"
    }
   ],
   "source": [
    "from sklearn import datasets\n",
    "\n",
    "iris = datasets.load_iris()\n",
    "iris_data = iris.data\n",
    "iris_data"
   ]
  },
  {
   "cell_type": "code",
   "execution_count": 122,
   "id": "9880ef72",
   "metadata": {
    "ExecuteTime": {
     "end_time": "2021-11-24T08:04:59.610113Z",
     "start_time": "2021-11-24T08:04:59.587582Z"
    },
    "hidden": true
   },
   "outputs": [
    {
     "data": {
      "text/plain": [
       "array([5.84333333, 3.05733333, 3.758     , 1.19933333])"
      ]
     },
     "execution_count": 122,
     "metadata": {},
     "output_type": "execute_result"
    }
   ],
   "source": [
    "# 1\n",
    "np.mean(iris_data, axis=0)"
   ]
  },
  {
   "cell_type": "code",
   "execution_count": 123,
   "id": "c208d3b6",
   "metadata": {
    "ExecuteTime": {
     "end_time": "2021-11-24T08:05:38.279687Z",
     "start_time": "2021-11-24T08:05:38.259214Z"
    },
    "hidden": true
   },
   "outputs": [
    {
     "data": {
      "text/plain": [
       "array([[5.1, 3.5, 1.4, 0.2],\n",
       "       [4.9, 3. , 1.4, 0.2],\n",
       "       [4.7, 3.2, 1.3, 0.2],\n",
       "       [4.6, 3.1, 1.5, 0.2],\n",
       "       [5. , 3.6, 1.4, 0.2]])"
      ]
     },
     "execution_count": 123,
     "metadata": {},
     "output_type": "execute_result"
    }
   ],
   "source": [
    "# 2\n",
    "iris_data[0:5, :]"
   ]
  },
  {
   "cell_type": "code",
   "execution_count": 124,
   "id": "2624e934",
   "metadata": {
    "ExecuteTime": {
     "end_time": "2021-11-24T08:07:40.533078Z",
     "start_time": "2021-11-24T08:07:40.510376Z"
    },
    "hidden": true
   },
   "outputs": [
    {
     "data": {
      "text/plain": [
       "array([[5.1, 3.5, 1.4],\n",
       "       [4.9, 3. , 1.4],\n",
       "       [4.7, 3.2, 1.3],\n",
       "       [4.6, 3.1, 1.5],\n",
       "       [5. , 3.6, 1.4]])"
      ]
     },
     "execution_count": 124,
     "metadata": {},
     "output_type": "execute_result"
    }
   ],
   "source": [
    "# 3\n",
    "iris_data[0:5, :3]"
   ]
  },
  {
   "cell_type": "code",
   "execution_count": 125,
   "id": "093a1c41",
   "metadata": {
    "ExecuteTime": {
     "end_time": "2021-11-24T08:08:57.848007Z",
     "start_time": "2021-11-24T08:08:57.825761Z"
    },
    "hidden": true
   },
   "outputs": [
    {
     "data": {
      "text/plain": [
       "array([0.2, 0.2, 0.2, 0.2, 0.2])"
      ]
     },
     "execution_count": 125,
     "metadata": {},
     "output_type": "execute_result"
    }
   ],
   "source": [
    "# 4\n",
    "iris_data[0:5, -1]"
   ]
  },
  {
   "cell_type": "code",
   "execution_count": 127,
   "id": "e1620225",
   "metadata": {
    "ExecuteTime": {
     "end_time": "2021-11-24T08:12:28.989127Z",
     "start_time": "2021-11-24T08:12:28.975024Z"
    },
    "hidden": true
   },
   "outputs": [
    {
     "data": {
      "text/plain": [
       "array([[5.1, 3.5, 1.4, 0.2],\n",
       "       [4.9, 3. , 1.4, 0.2],\n",
       "       [4.7, 3.2, 1.3, 0.2],\n",
       "       [4.6, 3.1, 1.5, 0.2],\n",
       "       [5. , 3.6, 1.4, 0.2]])"
      ]
     },
     "execution_count": 127,
     "metadata": {},
     "output_type": "execute_result"
    }
   ],
   "source": [
    "# 5\n",
    "a = iris_data[0:5, :3]\n",
    "b = iris_data[0:5, -1][:, np.newaxis]\n",
    "\n",
    "np.hstack((a, b))"
   ]
  },
  {
   "cell_type": "code",
   "execution_count": 132,
   "id": "22744a03",
   "metadata": {
    "ExecuteTime": {
     "end_time": "2021-11-24T08:16:51.017526Z",
     "start_time": "2021-11-24T08:16:50.993038Z"
    },
    "hidden": true
   },
   "outputs": [
    {
     "data": {
      "text/plain": [
       "array([5.1, 3.5, 4.9, 1.5, 5. , 3.6])"
      ]
     },
     "execution_count": 132,
     "metadata": {},
     "output_type": "execute_result"
    }
   ],
   "source": [
    "# 6\n",
    "main_data = iris_data[0:5, :]\n",
    "main_data[main_data > np.mean(main_data, axis=0)]"
   ]
  },
  {
   "cell_type": "markdown",
   "id": "0a00b800",
   "metadata": {},
   "source": [
    "## 9절. numpy solution 10"
   ]
  },
  {
   "cell_type": "code",
   "execution_count": 7,
   "id": "21f681d1",
   "metadata": {
    "ExecuteTime": {
     "end_time": "2021-11-25T01:12:55.441964Z",
     "start_time": "2021-11-25T01:12:55.428969Z"
    }
   },
   "outputs": [
    {
     "data": {
      "text/plain": [
       "array([0, 1, 2, 3, 4, 5, 6, 7, 8, 9])"
      ]
     },
     "execution_count": 7,
     "metadata": {},
     "output_type": "execute_result"
    }
   ],
   "source": [
    "# 1\n",
    "import numpy as np\n",
    "\n",
    "a = np.arange(10)\n",
    "a"
   ]
  },
  {
   "cell_type": "code",
   "execution_count": 6,
   "id": "75b2edad",
   "metadata": {
    "ExecuteTime": {
     "end_time": "2021-11-25T01:11:54.058081Z",
     "start_time": "2021-11-25T01:11:54.043115Z"
    }
   },
   "outputs": [
    {
     "data": {
      "text/plain": [
       "array([ 0, -1,  2, -1,  4, -1,  6, -1,  8, -1])"
      ]
     },
     "execution_count": 6,
     "metadata": {},
     "output_type": "execute_result"
    }
   ],
   "source": [
    "# 2\n",
    "# replace items\n",
    "a[1::2] = -1\n",
    "a"
   ]
  },
  {
   "cell_type": "code",
   "execution_count": 8,
   "id": "7e200f09",
   "metadata": {
    "ExecuteTime": {
     "end_time": "2021-11-25T01:13:43.358758Z",
     "start_time": "2021-11-25T01:13:43.352804Z"
    }
   },
   "outputs": [
    {
     "data": {
      "text/plain": [
       "array([[0, 1, 2, 3, 4],\n",
       "       [5, 6, 7, 8, 9]])"
      ]
     },
     "execution_count": 8,
     "metadata": {},
     "output_type": "execute_result"
    }
   ],
   "source": [
    "# 3\n",
    "# reshape 1d to 2d with 2 rows\n",
    "b = a.reshape(2, 5)\n",
    "b"
   ]
  },
  {
   "cell_type": "code",
   "execution_count": 10,
   "id": "a657c7ae",
   "metadata": {
    "ExecuteTime": {
     "end_time": "2021-11-25T01:15:35.527273Z",
     "start_time": "2021-11-25T01:15:35.512314Z"
    }
   },
   "outputs": [
    {
     "data": {
      "text/plain": [
       "array([[0, 1, 2, 3, 4],\n",
       "       [5, 6, 7, 8, 9],\n",
       "       [1, 1, 1, 1, 1],\n",
       "       [1, 1, 1, 1, 1]])"
      ]
     },
     "execution_count": 10,
     "metadata": {},
     "output_type": "execute_result"
    }
   ],
   "source": [
    "# 4\n",
    "# stack 2 arrays vertically\n",
    "a = np.arange(10).reshape(2,-1)\n",
    "b = np.repeat(1, 10).reshape(2,-1)\n",
    "\n",
    "c = np.vstack((a, b))\n",
    "c"
   ]
  },
  {
   "cell_type": "code",
   "execution_count": 17,
   "id": "711ed17c",
   "metadata": {
    "ExecuteTime": {
     "end_time": "2021-11-25T01:21:47.473628Z",
     "start_time": "2021-11-25T01:21:47.456673Z"
    }
   },
   "outputs": [
    {
     "data": {
      "text/plain": [
       "array([ 6,  9, 10])"
      ]
     },
     "execution_count": 17,
     "metadata": {},
     "output_type": "execute_result"
    }
   ],
   "source": [
    "# 5\n",
    "# extract items between 5 and 10\n",
    "a = np.array([2, 6, 1, 9, 10, 3, 27])\n",
    "b = a[(a >= 5) & (a <= 10)]\n",
    "b"
   ]
  },
  {
   "cell_type": "code",
   "execution_count": 20,
   "id": "f4f10356",
   "metadata": {
    "ExecuteTime": {
     "end_time": "2021-11-25T01:27:26.107821Z",
     "start_time": "2021-11-25T01:27:26.101812Z"
    }
   },
   "outputs": [
    {
     "data": {
      "text/plain": [
       "array([ 0,  1,  2, ..., 12, 13, 14])"
      ]
     },
     "execution_count": 20,
     "metadata": {},
     "output_type": "execute_result"
    }
   ],
   "source": [
    "# 6\n",
    "# limit print range\n",
    "np.set_printoptions(threshold=6)\n",
    "a = np.arange(15)\n",
    "a"
   ]
  },
  {
   "cell_type": "code",
   "execution_count": 27,
   "id": "4b565533",
   "metadata": {
    "ExecuteTime": {
     "end_time": "2021-11-25T01:32:58.455661Z",
     "start_time": "2021-11-25T01:32:58.433692Z"
    }
   },
   "outputs": [
    {
     "data": {
      "text/plain": [
       "(5.843333333333334, 5.8, 0.8253012917851409)"
      ]
     },
     "execution_count": 27,
     "metadata": {},
     "output_type": "execute_result"
    }
   ],
   "source": [
    "# 7\n",
    "# compute the mean, median, standard deviation of a numpy array\n",
    "url = 'https://archive.ics.uci.edu/ml/machine-learning-databases/iris/iris.data'\n",
    "iris = np.genfromtxt(url, delimiter=',', dtype='object')\n",
    "refined_iris = np.genfromtxt(url, delimiter=',', dtype='float', usecols=[0])\n",
    "\n",
    "np.mean(refined_iris), np.median(refined_iris), np.std(refined_iris)"
   ]
  },
  {
   "cell_type": "code",
   "execution_count": 28,
   "id": "4eca6031",
   "metadata": {
    "ExecuteTime": {
     "end_time": "2021-11-25T01:36:10.546619Z",
     "start_time": "2021-11-25T01:36:10.534648Z"
    }
   },
   "outputs": [
    {
     "data": {
      "text/plain": [
       "array([[4.8, 3.4, 1.6, 0.2],\n",
       "       [4.8, 3.4, 1.9, 0.2],\n",
       "       [4.7, 3.2, 1.6, 0.2],\n",
       "       [4.8, 3.1, 1.6, 0.2],\n",
       "       [4.9, 2.4, 3.3, 1. ],\n",
       "       [4.9, 2.5, 4.5, 1.7]])"
      ]
     },
     "execution_count": 28,
     "metadata": {},
     "output_type": "execute_result"
    }
   ],
   "source": [
    "# 8\n",
    "# filter the rows of iris_2d that \n",
    "# has (3rd column) > 1.5 and (1st column) < 5.0\n",
    "\n",
    "iris_2d = np.genfromtxt(url, delimiter=',', dtype='float', usecols=[0,1,2,3])\n",
    "condition = (iris_2d[:, 2] > 1.5) & (iris_2d[:, 0] < 5.0)\n",
    "iris_2d[condition]"
   ]
  },
  {
   "cell_type": "code",
   "execution_count": 37,
   "id": "43e4d836",
   "metadata": {
    "ExecuteTime": {
     "end_time": "2021-11-25T01:43:40.125137Z",
     "start_time": "2021-11-25T01:43:40.105214Z"
    }
   },
   "outputs": [
    {
     "data": {
      "text/plain": [
       "(array([b'Iris-setosa', b'Iris-versicolor', b'Iris-virginica'],\n",
       "       dtype='|S15'),\n",
       " array([50, 50, 50], dtype=int64))"
      ]
     },
     "execution_count": 37,
     "metadata": {},
     "output_type": "execute_result"
    }
   ],
   "source": [
    "# 9\n",
    "# find unique values of iris types\n",
    "url = 'https://archive.ics.uci.edu/ml/machine-learning-databases/iris/iris.data'\n",
    "iris = np.genfromtxt(url, delimiter=',', dtype='object')\n",
    "names = ('sepallength', 'sepalwidth', 'petallength', 'petalwidth', 'species')\n",
    "\n",
    "# iris\n",
    "types = np.array([row.tolist()[4] for row in iris])\n",
    "np.unique(types, return_counts=True)"
   ]
  },
  {
   "cell_type": "code",
   "execution_count": 39,
   "id": "381464c7",
   "metadata": {
    "ExecuteTime": {
     "end_time": "2021-11-25T01:45:46.511492Z",
     "start_time": "2021-11-25T01:45:46.490549Z"
    }
   },
   "outputs": [
    {
     "data": {
      "text/plain": [
       "['small', 'small', 'small', 'small']"
      ]
     },
     "execution_count": 39,
     "metadata": {},
     "output_type": "execute_result"
    }
   ],
   "source": [
    "# 10\n",
    "# convert numeric to a categorical text array\n",
    "url = 'https://archive.ics.uci.edu/ml/machine-learning-databases/iris/iris.data'\n",
    "iris = np.genfromtxt(url, delimiter=',', dtype='object')\n",
    "names = ('sepallength', 'sepalwidth', 'petallength', 'petalwidth', 'species')\n",
    "\n",
    "petal_length_item = np.digitize(iris[:, 2].astype('float'), [0, 3, 5, 10])\n",
    "\n",
    "label_map = {1: 'small', 2: 'medium', 3: 'large', 4: np.nan}\n",
    "petal_length_cat = [label_map[x] for x in petal_length_item]\n",
    "\n",
    "petal_length_cat[:4]"
   ]
  }
 ],
 "metadata": {
  "kernelspec": {
   "display_name": "saltlux_lecture",
   "language": "python",
   "name": "saltlux_lecture"
  },
  "language_info": {
   "codemirror_mode": {
    "name": "ipython",
    "version": 3
   },
   "file_extension": ".py",
   "mimetype": "text/x-python",
   "name": "python",
   "nbconvert_exporter": "python",
   "pygments_lexer": "ipython3",
   "version": "3.9.7"
  },
  "toc": {
   "base_numbering": 1,
   "nav_menu": {},
   "number_sections": true,
   "sideBar": true,
   "skip_h1_title": false,
   "title_cell": "Table of Contents",
   "title_sidebar": "Contents",
   "toc_cell": false,
   "toc_position": {
    "height": "calc(100% - 180px)",
    "left": "10px",
    "top": "150px",
    "width": "165px"
   },
   "toc_section_display": true,
   "toc_window_display": true
  }
 },
 "nbformat": 4,
 "nbformat_minor": 5
}
