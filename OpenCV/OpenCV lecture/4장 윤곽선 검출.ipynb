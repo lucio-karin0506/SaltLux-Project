{
 "cells": [
  {
   "cell_type": "markdown",
   "metadata": {},
   "source": [
    "## 1. 이미지 필터와 합성곱"
   ]
  },
  {
   "cell_type": "code",
   "execution_count": 7,
   "metadata": {},
   "outputs": [],
   "source": [
    "import numpy as np\n",
    "\n",
    "def Conv2D(img, kernel=None, padding='valid'):\n",
    "    if kernel is not None:\n",
    "        h, w = img.shape[0:2]\n",
    "        sy, sx = int(len(kernel)/2), int(len(kernel[0])/2)\n",
    "        if padding == 'same':\n",
    "            new_shape = (h+2*sy, w+2*sx)\n",
    "            img_out = np.zeros(new_shape, dtype=np.uint8)\n",
    "        elif padding == 'valid':\n",
    "            img_out = np.zeros(img.shape, dtype=np.uint8)\n",
    "\n",
    "        height, width = img_out.shape\n",
    "\n",
    "        for y in range(sy, height-sy):\n",
    "            for x in range(sx, width-sx):\n",
    "                roi = img[y-sy:y+sy+1, x-sx:x+sx+1]\n",
    "                y_, x_ = roi.shape\n",
    "                filtered = roi * kernel[:y_, :x_]\n",
    "                pixel_value = np.abs(np.sum(filtered))\n",
    "                img_out[y, x] = np.uint8(pixel_value)\n",
    "\n",
    "        return img_out[sy:-sy, sx:-sx]\n",
    "\n",
    "    else:\n",
    "        print('Kernel array not found!')"
   ]
  },
  {
   "cell_type": "code",
   "execution_count": 8,
   "metadata": {},
   "outputs": [],
   "source": [
    "import cv2\n",
    "img = cv2.imread(\"images/house.jpg\", cv2.IMREAD_GRAYSCALE)\n",
    "kernel = np.array([[0,0,0],[0,1,-1],[0,0,0]])\n",
    "\n",
    "output = Conv2D(img, kernel=kernel, padding=\"same\")\n",
    "\n",
    "cv2.imshow(\"House\", img)\n",
    "cv2.imshow(\"Conv2D\", output)\n",
    "cv2.waitKey()\n",
    "cv2.destroyAllWindows()"
   ]
  },
  {
   "cell_type": "code",
   "execution_count": 6,
   "metadata": {},
   "outputs": [],
   "source": [
    "# cv2.filter2D\n",
    "import cv2\n",
    "import numpy as np\n",
    "from matplotlib import pyplot as plt\n",
    "\n",
    "img = cv2.imread(\"images/house.jpg\", cv2.IMREAD_GRAYSCALE)\n",
    "kernel = np.array([[0,0,0],[0,1,-1],[0,0,0]])\n",
    "\n",
    "output = cv2.filter2D(img, -1, kernel)\n",
    "\n",
    "cv2.imshow(\"House\", img)\n",
    "cv2.imshow(\"filter2D\", output)\n",
    "cv2.waitKey()\n",
    "cv2.destroyAllWindows()"
   ]
  },
  {
   "cell_type": "markdown",
   "metadata": {},
   "source": [
    "## 2. 엣지 검출 필터"
   ]
  },
  {
   "cell_type": "code",
   "execution_count": 9,
   "metadata": {},
   "outputs": [],
   "source": [
    "# 차분필터\n",
    "import numpy as np\n",
    "\n",
    "def diff_filter(img):\n",
    "    height, width = img.shape\n",
    "    img_ = np.zeros(img.shape, dtype=np.uint8)\n",
    "\n",
    "    for y in range(height-1):\n",
    "        for x in range(width-1):\n",
    "            H = 1*img[y, x] + -1*img[y, x+1]\n",
    "            V = 1*img[y, x] + -1*img[y+1, x]\n",
    "            img_[y,x] = np.sqrt(H**2 + V**2)\n",
    "\n",
    "    return img_"
   ]
  },
  {
   "cell_type": "code",
   "execution_count": 10,
   "metadata": {},
   "outputs": [],
   "source": [
    "import cv2\n",
    "\n",
    "img = cv2.imread(\"images/house.jpg\", cv2.IMREAD_GRAYSCALE)\n",
    "\n",
    "cv2.imshow(\"Origin\", img)\n",
    "cv2.imshow(\"Diff Filter\", diff_filter(img))\n",
    "cv2.waitKey()\n",
    "cv2.destroyAllWindows()"
   ]
  },
  {
   "cell_type": "code",
   "execution_count": 11,
   "metadata": {},
   "outputs": [],
   "source": [
    "# filter2D() 함수 이용\n",
    "import cv2\n",
    "\n",
    "img = cv2.imread(\"images/house.jpg\", cv2.IMREAD_GRAYSCALE)\n",
    "\n",
    "x_kernel = np.array([[-1, 1]])\n",
    "y_kernel = np.array([[-1], [1]])\n",
    "\n",
    "x_edge = cv2.filter2D(img, -1, x_kernel)\n",
    "y_edge = cv2.filter2D(img, -1, y_kernel)\n",
    "\n",
    "cv2.imshow(\"Origin\", img)\n",
    "cv2.imshow(\"Diff Filter X Y\", np.c_[x_edge, y_edge])\n",
    "cv2.imshow('Diff Filter', x_edge + y_edge)\n",
    "\n",
    "cv2.waitKey()\n",
    "cv2.destroyAllWindows()"
   ]
  },
  {
   "cell_type": "code",
   "execution_count": 12,
   "metadata": {},
   "outputs": [],
   "source": [
    "# 2. 로버츠 필터\n",
    "# filter2D() 함수 이용\n",
    "# 화소 간 대각선의 차이 계산\n",
    "import cv2\n",
    "\n",
    "img = cv2.imread(\"images/house.jpg\", cv2.IMREAD_GRAYSCALE)\n",
    "\n",
    "x_kernel = np.array([[1, 0], [0, -1]])\n",
    "x_kernel = np.array([[0, 1], [-1, 0]])\n",
    "\n",
    "x_edge = cv2.filter2D(img, -1, x_kernel)\n",
    "y_edge = cv2.filter2D(img, -1, y_kernel)\n",
    "\n",
    "cv2.imshow(\"Origin\", img)\n",
    "cv2.imshow(\"Diff Filter X Y\", np.c_[x_edge, y_edge])\n",
    "cv2.imshow('Diff Filter', x_edge + y_edge)\n",
    "\n",
    "cv2.waitKey()\n",
    "cv2.destroyAllWindows()"
   ]
  },
  {
   "cell_type": "code",
   "execution_count": 13,
   "metadata": {},
   "outputs": [],
   "source": [
    "# 3. 프리위트 필터\n",
    "# filter2D() 함수 이용\n",
    "import cv2\n",
    "\n",
    "img = cv2.imread(\"images/house.jpg\", cv2.IMREAD_GRAYSCALE)\n",
    "\n",
    "x_kernel = np.array([[-1,0,1], [-1,0,1], [-1,0,1]])\n",
    "x_kernel = np.array([[-1,-1,-1], [0,0,0], [1,1,1]])\n",
    "\n",
    "x_edge = cv2.filter2D(img, -1, x_kernel)\n",
    "y_edge = cv2.filter2D(img, -1, y_kernel)\n",
    "\n",
    "cv2.imshow(\"Origin\", img)\n",
    "cv2.imshow(\"Diff Filter X Y\", np.c_[x_edge, y_edge])\n",
    "cv2.imshow('Diff Filter', x_edge + y_edge)\n",
    "\n",
    "cv2.waitKey()\n",
    "cv2.destroyAllWindows()"
   ]
  },
  {
   "cell_type": "code",
   "execution_count": 26,
   "metadata": {},
   "outputs": [],
   "source": [
    "# 4. 소벨 필터\n",
    "import cv2\n",
    "import numpy as np\n",
    "\n",
    "img = cv2.imread(\"images/lena.jpg\", cv2.IMREAD_GRAYSCALE)\n",
    "\n",
    "# -1, 1, 0에서 1, 0이면 x축으로 미분\n",
    "# 0, 1이면 y축으로 미분\n",
    "# 1, 1이면 x, y축 동시 미분\n",
    "x_edge = cv2.Sobel(img, -1, 1, 0, ksize=3)\n",
    "y_edge = cv2.Sobel(img, -1, 0, 2, ksize=3)\n",
    "\n",
    "cv2.imshow(\"Origin\", img)\n",
    "cv2.imshow(\"Sobel Filter X Y\", np.c_[x_edge, y_edge])\n",
    "cv2.imshow(\"Sobel Filter\", x_edge+y_edge)\n",
    "\n",
    "cv2.waitKey()\n",
    "cv2.destroyAllWindows()"
   ]
  },
  {
   "cell_type": "code",
   "execution_count": 16,
   "metadata": {},
   "outputs": [],
   "source": [
    "# 5. 라플라시안 필터\n",
    "import cv2\n",
    "img = cv2.imread(\"images/house.jpg\", cv2.IMREAD_GRAYSCALE)\n",
    "\n",
    "cv2.imshow(\"House\", img)\n",
    "cv2.imshow(\"Laplacian Filter\", cv2.Laplacian(img, -1))\n",
    "\n",
    "cv2.waitKey()\n",
    "cv2.destroyAllWindows()"
   ]
  },
  {
   "cell_type": "markdown",
   "metadata": {},
   "source": [
    "## 3. 캐니 엣지"
   ]
  },
  {
   "cell_type": "code",
   "execution_count": 17,
   "metadata": {},
   "outputs": [],
   "source": [
    "import cv2\n",
    "img = cv2.imread(\"images/house.jpg\", cv2.IMREAD_GRAYSCALE)\n",
    "output = cv2.Canny(img, 150, 200)\n",
    "\n",
    "cv2.imshow(\"Canny Edge\", output)\n",
    "cv2.waitKey()\n",
    "cv2.destroyAllWindows()"
   ]
  },
  {
   "cell_type": "code",
   "execution_count": 27,
   "metadata": {},
   "outputs": [],
   "source": [
    "import cv2\n",
    "def onChange(x):\n",
    "    low = cv2.getTrackbarPos(\"Low\", \"Edge Detection\")\n",
    "    high = cv2.getTrackbarPos(\"High\", \"Edge Detection\")\n",
    "    if low > high:\n",
    "        pass # Low threshold must be low than high threshold\n",
    "    else:\n",
    "        canny = cv2.Canny(img, low, high)\n",
    "        cv2.imshow(\"Edge Detection\", canny)\n",
    "\n",
    "img = cv2.imread(\"images/house.jpg\", cv2.IMREAD_GRAYSCALE)\n",
    "\n",
    "cv2.namedWindow(\"Edge Detection\")\n",
    "cv2.createTrackbar(\"Low\", \"Edge Detection\", 0, 255, onChange)\n",
    "cv2.createTrackbar(\"High\", \"Edge Detection\", 0, 255, onChange)\n",
    "\n",
    "cv2.imshow(\"Edge Detection\", img)\n",
    "cv2.waitKey()\n",
    "cv2.destroyAllWindows()"
   ]
  }
 ],
 "metadata": {
  "interpreter": {
   "hash": "f01b41f100e4eccb5288b98e5cdaad242b0b9c29fd1fe7c4e728af993bea0dc2"
  },
  "kernelspec": {
   "display_name": "Python 3.9.7 64-bit ('saltlux_deep_lecture': conda)",
   "language": "python",
   "name": "python3"
  },
  "language_info": {
   "codemirror_mode": {
    "name": "ipython",
    "version": 3
   },
   "file_extension": ".py",
   "mimetype": "text/x-python",
   "name": "python",
   "nbconvert_exporter": "python",
   "pygments_lexer": "ipython3",
   "version": "3.9.7"
  },
  "orig_nbformat": 4
 },
 "nbformat": 4,
 "nbformat_minor": 2
}
