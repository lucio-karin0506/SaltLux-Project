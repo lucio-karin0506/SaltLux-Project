{
 "cells": [
  {
   "cell_type": "markdown",
   "metadata": {},
   "source": [
    "## 1. 기하 변환"
   ]
  },
  {
   "cell_type": "markdown",
   "metadata": {},
   "source": [
    "## 2. 크기 변환"
   ]
  },
  {
   "cell_type": "code",
   "execution_count": 1,
   "metadata": {},
   "outputs": [],
   "source": [
    "import numpy as np\n",
    "\n",
    "def scale_nogood(img, scale_x=1, scale_y=1):\n",
    "    height, width = img.shape\n",
    "    height_n, width_n = int(height*scale_y), int(width*scale_x)\n",
    "    img_ = np.zeros((height_n, width_n), dtype=np.uint8)\n",
    "\n",
    "    for y in range(height):\n",
    "        for x in range(width):\n",
    "            img_[int(y*scale_y), int(x*scale_x)] = img[y, x]\n",
    "\n",
    "    return img_"
   ]
  },
  {
   "cell_type": "code",
   "execution_count": 2,
   "metadata": {},
   "outputs": [],
   "source": [
    "import cv2\n",
    "img = cv2.imread('images/lena.jpg', cv2.IMREAD_GRAYSCALE)\n",
    "res = scale_nogood(img, 0.5, 0.5)\n",
    "\n",
    "cv2.imshow('Origin', img)\n",
    "cv2.imshow('Scale NG', res)\n",
    "cv2.waitKey()\n",
    "cv2.destroyAllWindows()"
   ]
  },
  {
   "cell_type": "code",
   "execution_count": 3,
   "metadata": {},
   "outputs": [],
   "source": [
    "# 이미지 크기변환시 이미지 크기 크게하는 경우,\n",
    "# 화소가 매핑되지 않는 화소 영역 발생 가능\n",
    "cv2.imshow('Origin', img)\n",
    "cv2.imshow('Scale NG', scale_nogood(img, 1.5, 1.0))\n",
    "cv2.waitKey()\n",
    "cv2.destroyAllWindows()"
   ]
  },
  {
   "cell_type": "code",
   "execution_count": 7,
   "metadata": {},
   "outputs": [],
   "source": [
    "# 출력 영상 기준 반복문 수행\n",
    "# 출력 영상의 모든 화소에 매핑되는 화소 탐색 가능\n",
    "def scale_nogood2(img, scale_x=1, scale_y=1):\n",
    "    height, width = img.shape\n",
    "    height_n, width_n = int(height*scale_y), int(width*scale_x)\n",
    "    img_ = np.zeros((height_n, width_n), dtype=np.uint8)\n",
    "\n",
    "    for y in range(height_n):\n",
    "        for x in range(width_n):\n",
    "            img_[y, x] = img[int(y/scale_y), int(x/scale_x)]\n",
    "\n",
    "    return img_"
   ]
  },
  {
   "cell_type": "code",
   "execution_count": 8,
   "metadata": {},
   "outputs": [],
   "source": [
    "import cv2\n",
    "img = cv2.imread(\"images/lena.jpg\", cv2.IMREAD_GRAYSCALE)\n",
    "result2 = scale_nogood2(img, 1.5, 1.0)\n",
    "\n",
    "cv2.imshow('Origin', img)\n",
    "cv2.imshow('Scale NG', result2)\n",
    "cv2.waitKey()\n",
    "cv2.destroyAllWindows()"
   ]
  },
  {
   "cell_type": "code",
   "execution_count": 9,
   "metadata": {},
   "outputs": [],
   "source": [
    "# 보간법\n",
    "# 1. 최근방법\n",
    "import numpy as np\n",
    "def scale_nearest(img, scale_x=1, scale_y=1):\n",
    "    height, width = img.shape\n",
    "    img_ = np.zeros((int(height*scale_y), int(width*scale_x)), dtype=np.uint8)\n",
    "\n",
    "    for y in range(int(height*scale_y)):\n",
    "        for x in range(int(width*scale_x)):\n",
    "            try:\n",
    "                img_[y,x]=img[round(y/scale_y), round(x/scale_x)]\n",
    "            except:\n",
    "                pass\n",
    "            \n",
    "    return img_"
   ]
  },
  {
   "cell_type": "code",
   "execution_count": 11,
   "metadata": {},
   "outputs": [],
   "source": [
    "import cv2\n",
    "lena_roi = cv2.imread(\"images/lena_roi.jpg\", cv2.IMREAD_GRAYSCALE)\n",
    "\n",
    "cv2.imshow('Lena ROI', lena_roi)\n",
    "cv2.imshow('Scale Nearest', scale_nearest(lena_roi, 3, 3))\n",
    "cv2.waitKey()\n",
    "cv2.destroyAllWindows()\n",
    "# 최근방법은 이미지 확대하는 비율이 클수록 계단 현상이 더 많이 보임"
   ]
  },
  {
   "cell_type": "code",
   "execution_count": 12,
   "metadata": {},
   "outputs": [],
   "source": [
    "# 2. 선형방법\n",
    "import numpy as np\n",
    "def scale_bilinear(img, scale_x=1, scale_y=1):\n",
    "    height, width = img.shape\n",
    "    img_ = np.zeros((int(height*scale_y), int(width*scale_x)), dtype=np.uint8)\n",
    "\n",
    "    for y in range(int(height*scale_y)):\n",
    "        for x in range(int(width*scale_x)):\n",
    "            q = x/scale_x-int(x/scale_x)\n",
    "            p = y/scale_y-int(y/scale_y)\n",
    "            try:\n",
    "                X = int(x/scale_x)\n",
    "                Y = int(y/scale_y)\n",
    "                value = (1-p)*(1-q)*img[Y,X] + p*(1-q)*img[Y+1,X] + (1-p)*q*img[Y,X+1] + p*q*img[Y+1,X+1]\n",
    "                \n",
    "                if value > 255:\n",
    "                    img_[y, x] = 255\n",
    "                else:\n",
    "                    img_[y, x] = int(value)\n",
    "            except:\n",
    "                pass\n",
    "\n",
    "    return img_"
   ]
  },
  {
   "cell_type": "code",
   "execution_count": 13,
   "metadata": {},
   "outputs": [],
   "source": [
    "import cv2\n",
    "lena_roi = cv2.imread(\"images/lena_roi.jpg\", cv2.IMREAD_GRAYSCALE)\n",
    "\n",
    "cv2.imshow('Lena ROI', lena_roi)\n",
    "cv2.imshow('Scale Nearest', scale_bilinear(lena_roi, 3, 3))\n",
    "cv2.waitKey()\n",
    "cv2.destroyAllWindows()"
   ]
  },
  {
   "cell_type": "code",
   "execution_count": 14,
   "metadata": {},
   "outputs": [],
   "source": [
    "# max pooling\n",
    "# 2*2 화소에서 가장 큰 값 추출\n",
    "import numpy as np\n",
    "def maxpool2d(img):\n",
    "    height, width = img.shape\n",
    "    img_ = np.zeros((int(height/2),int(width/2)), dtype=np.uint8)\n",
    "\n",
    "    for y in range(int(height/2)):\n",
    "        for x in range(int(width/2)):\n",
    "            try :\n",
    "                img_[y,x] = np.max(img[2*y:2*y+2, 2*x:2*x+2])\n",
    "            except:\n",
    "                pass\n",
    "            \n",
    "    return img_"
   ]
  },
  {
   "cell_type": "code",
   "execution_count": 15,
   "metadata": {},
   "outputs": [],
   "source": [
    "import cv2\n",
    "img = cv2.imread(\"images/lena.jpg\", cv2.IMREAD_GRAYSCALE)\n",
    "\n",
    "cv2.imshow('Nearest 0.5', scale_nearest(img, 0.5, 0.5))\n",
    "cv2.imshow('Max Pooling', maxpool2d(img))\n",
    "cv2.waitKey()\n",
    "cv2.destroyAllWindows()"
   ]
  },
  {
   "cell_type": "code",
   "execution_count": 16,
   "metadata": {},
   "outputs": [
    {
     "data": {
      "text/plain": [
       "True"
      ]
     },
     "execution_count": 16,
     "metadata": {},
     "output_type": "execute_result"
    }
   ],
   "source": [
    "# 이미지 크기 변경\n",
    "import cv2\n",
    "img = cv2.imread(\"images/resize_origin_5.png\")\n",
    "\n",
    "cv2.imwrite(\"images/resize-5to100_nearest.png\", cv2.resize(img, dsize=(100, 100), interpolation=cv2.INTER_NEAREST))\n",
    "\n",
    "cv2.imwrite(\"images/resize-5to100_linear.png\", cv2.resize(img, dsize=(100, 100), interpolation=cv2.INTER_LINEAR))\n",
    "\n",
    "cv2.imwrite(\"images/resize-5to100_linear_exact.png\", cv2.resize(img, dsize=(100, 100), interpolation=cv2.INTER_LINEAR_EXACT))\n",
    "\n",
    "cv2.imwrite(\"images/resize-5to100_area.png\", cv2.resize(img, dsize=(100, 100), interpolation=cv2.INTER_AREA))\n",
    "\n",
    "cv2.imwrite(\"images/resize-5to100_cubic.png\", cv2.resize(img, dsize=(100, 100), interpolation=cv2.INTER_CUBIC))\n",
    "\n",
    "cv2.imwrite(\"images/resize-5to100_lanczos4.png\", cv2.resize(img, dsize=(100, 100), interpolation=cv2.INTER_LANCZOS4))"
   ]
  },
  {
   "cell_type": "markdown",
   "metadata": {},
   "source": [
    "## 3. 이동"
   ]
  },
  {
   "cell_type": "markdown",
   "metadata": {},
   "source": [
    "## 4. 회전"
   ]
  },
  {
   "cell_type": "markdown",
   "metadata": {},
   "source": [
    "## 5. Affine 변환"
   ]
  },
  {
   "cell_type": "markdown",
   "metadata": {},
   "source": [
    "## 6. Perspective 변환"
   ]
  },
  {
   "cell_type": "markdown",
   "metadata": {},
   "source": [
    "## 7. 푸리에 변환"
   ]
  },
  {
   "cell_type": "code",
   "execution_count": null,
   "metadata": {},
   "outputs": [],
   "source": [
    "import cv2\n",
    "import numpy as np\n",
    "import matplotlib.pyplot as plt\n",
    "\n"
   ]
  },
  {
   "cell_type": "markdown",
   "metadata": {},
   "source": [
    "## 8. 문서 스캔하기"
   ]
  },
  {
   "cell_type": "code",
   "execution_count": 19,
   "metadata": {},
   "outputs": [],
   "source": [
    "import cv2\n",
    "import numpy as np\n",
    "from datetime import datetime\n",
    "from time import sleep\n",
    "\n",
    "points = np.zeros((4, 2), dtype=np.float32)\n",
    "count = 0\n",
    "\n",
    "def mouseHandler(event, x, y, flags, param):\n",
    "    global count\n",
    "    if event == cv2.EVENT_LBUTTONDOWN:\n",
    "        cv2.circle(img, (x, y), 5, (0, 0, 255), -1)\n",
    "        cv2.imshow('Capture', img)\n",
    "\n",
    "        try:\n",
    "            points[count] = [x, y]\n",
    "            count += 1\n",
    "            if count == 4:\n",
    "                sum_ = points.sum(axis=1)\n",
    "                diff = np.diff(points, axis=1)\n",
    "\n",
    "                top_left = points[np.argmin(sum_)]\n",
    "                top_right = points[np.argmin(diff)]\n",
    "                bottom_left = points[np.argmax(diff)]\n",
    "                bottom_right = points[np.argmax(sum_)]\n",
    "\n",
    "                pts1 = np.float32([top_left, top_right, bottom_right, bottom_left])\n",
    "\n",
    "                width_bottom = abs(bottom_right[0] - bottom_left[0])\n",
    "                width_top = abs(top_right[0] - top_left[0])\n",
    "                height_right = abs(top_right[1] - bottom_right[1])\n",
    "                height_left = abs(top_left[1] - bottom_left[1])\n",
    "\n",
    "                width = int(max([width_bottom, width_top]))\n",
    "                height = int(max([height_right, height_left]))\n",
    "\n",
    "                pts2 = np.float32([[0, 0], [width-1, 0], [width-1, height-1], [0, height-1]])\n",
    "\n",
    "                M = cv2.getPerspectiveTransform(pts1, pts2)\n",
    "\n",
    "                dst = cv2.warpPerspective(img, M, (width, height))\n",
    "                cv2.imshow('Capture', img)\n",
    "                cv2.imshow('Scanned', dst)\n",
    "                \n",
    "                filename = 'images/' + str(datetime.today().microsecond) + '.jpg'\n",
    "                cv2.imwrite(filename, img)\n",
    "\n",
    "        except Exception as e:\n",
    "            print(e)"
   ]
  },
  {
   "cell_type": "code",
   "execution_count": 21,
   "metadata": {},
   "outputs": [
    {
     "name": "stdout",
     "output_type": "stream",
     "text": [
      "index 4 is out of bounds for axis 0 with size 4\n",
      "index 4 is out of bounds for axis 0 with size 4\n",
      "index 4 is out of bounds for axis 0 with size 4\n",
      "index 4 is out of bounds for axis 0 with size 4\n",
      "esc pressed\n"
     ]
    }
   ],
   "source": [
    "cap = cv2.VideoCapture(0)\n",
    "captured = False\n",
    "\n",
    "if cap.isOpened():\n",
    "    delay = int(1000 / cap.get(cv2.CAP_PROP_FPS))\n",
    "    while True:\n",
    "        ret, img = cap.read()\n",
    "        if ret:\n",
    "            cv2.imshow('Capture', img)\n",
    "            key = cv2.waitKey(delay)\n",
    "            if key & 0xFF == 27:\n",
    "                print('exit')\n",
    "                break\n",
    "            elif key == ord('c'):\n",
    "                captured = True\n",
    "                break\n",
    "        else:\n",
    "            print(ret, img)\n",
    "            break\n",
    "\n",
    "else:\n",
    "    print('file not opened')\n",
    "\n",
    "if captured:\n",
    "    cap.release()\n",
    "    while True:\n",
    "        cv2.imshow('Capture', img)\n",
    "        cv2.setMouseCallback('Capture', mouseHandler)\n",
    "        key = cv2.waitKey(delay)\n",
    "        if key & 0xFF == 27:\n",
    "            print('esc pressed')\n",
    "            break\n",
    "\n",
    "cap.release()\n",
    "cv2.destroyAllWindows()"
   ]
  }
 ],
 "metadata": {
  "interpreter": {
   "hash": "f01b41f100e4eccb5288b98e5cdaad242b0b9c29fd1fe7c4e728af993bea0dc2"
  },
  "kernelspec": {
   "display_name": "Python 3.9.7 64-bit ('saltlux_deep_lecture': conda)",
   "language": "python",
   "name": "python3"
  },
  "language_info": {
   "codemirror_mode": {
    "name": "ipython",
    "version": 3
   },
   "file_extension": ".py",
   "mimetype": "text/x-python",
   "name": "python",
   "nbconvert_exporter": "python",
   "pygments_lexer": "ipython3",
   "version": "3.9.7"
  },
  "orig_nbformat": 4
 },
 "nbformat": 4,
 "nbformat_minor": 2
}
