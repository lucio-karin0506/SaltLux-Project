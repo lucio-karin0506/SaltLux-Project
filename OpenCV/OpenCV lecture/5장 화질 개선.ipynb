{
 "cells": [
  {
   "cell_type": "markdown",
   "metadata": {},
   "source": [
    "## 1. 잡음 제거"
   ]
  },
  {
   "cell_type": "code",
   "execution_count": 1,
   "metadata": {},
   "outputs": [],
   "source": [
    "# 1. 평균값 필터\n",
    "# 필터에 1을 곱해야 함\n",
    "# img는 uint8 타입이기 때문\n",
    "import numpy as np\n",
    "\n",
    "def mean_blur(img):\n",
    "    a = np.zeros(img.shape, dtype=np.uint8)\n",
    "    height, width = img.shape\n",
    "    for y in range(1, height-1):\n",
    "        for x in range(1, width-1):\n",
    "            S = 1*img[y-1, x-1] + img[y-1, x] + img[y-1, x+1] \\\n",
    "                + img[y , x-1] + img[y , x] + img[y , x+1] \\\n",
    "                + img[y+1, x-1] + img[y+1, x] + img[y+1, x+1]\n",
    "            S = S / 9\n",
    "            if S > 255:\n",
    "                a[y, x] = 255\n",
    "            elif S < 0:\n",
    "                a[y, x] = 0\n",
    "            else:\n",
    "                a[y, x] = int(S)\n",
    "\n",
    "    return a"
   ]
  },
  {
   "cell_type": "code",
   "execution_count": 2,
   "metadata": {},
   "outputs": [],
   "source": [
    "import cv2\n",
    "lena_gray = cv2.imread(\"images/lena_std_5.jpg\", cv2.IMREAD_GRAYSCALE)\n",
    "\n",
    "cv2.imshow(\"Lena\", lena_gray)\n",
    "cv2.imshow(\"Mean Blur\", mean_blur(lena_gray))\n",
    "\n",
    "cv2.waitKey()\n",
    "cv2.destroyAllWindows()"
   ]
  },
  {
   "cell_type": "code",
   "execution_count": 3,
   "metadata": {},
   "outputs": [],
   "source": [
    "import cv2\n",
    "lena_gray = cv2.imread(\"images/lena_std_5.jpg\", cv2.IMREAD_GRAYSCALE)\n",
    "\n",
    "cv2.imshow(\"Lena\", lena_gray)\n",
    "cv2.imshow(\"Mean Blur\", cv2.blur(lena_gray, ksize=(3,3)))\n",
    "\n",
    "cv2.waitKey()\n",
    "cv2.destroyAllWindows()"
   ]
  },
  {
   "cell_type": "code",
   "execution_count": 4,
   "metadata": {},
   "outputs": [],
   "source": [
    "# 2. median filter\n",
    "import numpy as np\n",
    "\n",
    "def median_blur(img):\n",
    "    a = np.zeros(img.shape, dtype=np.uint8)\n",
    "    height, width = img.shape[:2]\n",
    "\n",
    "    for y in range(height):\n",
    "        for x in range(width):\n",
    "            S = [img[y-1, x-1] + img[y-1, x] + img[y-1, x+1] \\\n",
    "                 + img[y , x-1] + img[y , x] + img[y , x+1] \\\n",
    "                 + img[y+1, x-1] + img[y+1, x] + img[y+1, x+1]]\n",
    "            a[y, x] = np.median(S)\n",
    "\n",
    "    return a"
   ]
  },
  {
   "cell_type": "code",
   "execution_count": 5,
   "metadata": {},
   "outputs": [
    {
     "name": "stderr",
     "output_type": "stream",
     "text": [
      "C:\\Users\\ameli\\AppData\\Local\\Temp/ipykernel_22500/3994853702.py:10: RuntimeWarning: overflow encountered in ubyte_scalars\n",
      "  S = [img[y-1, x-1] + img[y-1, x] + img[y-1, x+1] \\\n"
     ]
    },
    {
     "ename": "IndexError",
     "evalue": "index 256 is out of bounds for axis 1 with size 256",
     "output_type": "error",
     "traceback": [
      "\u001b[1;31m---------------------------------------------------------------------------\u001b[0m",
      "\u001b[1;31mIndexError\u001b[0m                                Traceback (most recent call last)",
      "Input \u001b[1;32mIn [5]\u001b[0m, in \u001b[0;36m<module>\u001b[1;34m\u001b[0m\n\u001b[0;32m      2\u001b[0m lena_gray \u001b[38;5;241m=\u001b[39m cv2\u001b[38;5;241m.\u001b[39mimread(\u001b[38;5;124m\"\u001b[39m\u001b[38;5;124mimages/lena_std_5.jpg\u001b[39m\u001b[38;5;124m\"\u001b[39m, cv2\u001b[38;5;241m.\u001b[39mIMREAD_GRAYSCALE)\n\u001b[0;32m      4\u001b[0m cv2\u001b[38;5;241m.\u001b[39mimshow(\u001b[38;5;124m\"\u001b[39m\u001b[38;5;124mLena\u001b[39m\u001b[38;5;124m\"\u001b[39m, lena_gray)\n\u001b[1;32m----> 5\u001b[0m cv2\u001b[38;5;241m.\u001b[39mimshow(\u001b[38;5;124m\"\u001b[39m\u001b[38;5;124mMedian Blur\u001b[39m\u001b[38;5;124m\"\u001b[39m, \u001b[43mmedian_blur\u001b[49m\u001b[43m(\u001b[49m\u001b[43mlena_gray\u001b[49m\u001b[43m)\u001b[49m)\n\u001b[0;32m      7\u001b[0m cv2\u001b[38;5;241m.\u001b[39mwaitKey()\n\u001b[0;32m      8\u001b[0m cv2\u001b[38;5;241m.\u001b[39mdestroyAllWindows()\n",
      "Input \u001b[1;32mIn [4]\u001b[0m, in \u001b[0;36mmedian_blur\u001b[1;34m(img)\u001b[0m\n\u001b[0;32m      8\u001b[0m \u001b[38;5;28;01mfor\u001b[39;00m y \u001b[38;5;129;01min\u001b[39;00m \u001b[38;5;28mrange\u001b[39m(height):\n\u001b[0;32m      9\u001b[0m     \u001b[38;5;28;01mfor\u001b[39;00m x \u001b[38;5;129;01min\u001b[39;00m \u001b[38;5;28mrange\u001b[39m(width):\n\u001b[1;32m---> 10\u001b[0m         S \u001b[38;5;241m=\u001b[39m [img[y\u001b[38;5;241m-\u001b[39m\u001b[38;5;241m1\u001b[39m, x\u001b[38;5;241m-\u001b[39m\u001b[38;5;241m1\u001b[39m] \u001b[38;5;241m+\u001b[39m img[y\u001b[38;5;241m-\u001b[39m\u001b[38;5;241m1\u001b[39m, x] \u001b[38;5;241m+\u001b[39m \u001b[43mimg\u001b[49m\u001b[43m[\u001b[49m\u001b[43my\u001b[49m\u001b[38;5;241;43m-\u001b[39;49m\u001b[38;5;241;43m1\u001b[39;49m\u001b[43m,\u001b[49m\u001b[43m \u001b[49m\u001b[43mx\u001b[49m\u001b[38;5;241;43m+\u001b[39;49m\u001b[38;5;241;43m1\u001b[39;49m\u001b[43m]\u001b[49m \\\n\u001b[0;32m     11\u001b[0m              \u001b[38;5;241m+\u001b[39m img[y , x\u001b[38;5;241m-\u001b[39m\u001b[38;5;241m1\u001b[39m] \u001b[38;5;241m+\u001b[39m img[y , x] \u001b[38;5;241m+\u001b[39m img[y , x\u001b[38;5;241m+\u001b[39m\u001b[38;5;241m1\u001b[39m] \\\n\u001b[0;32m     12\u001b[0m              \u001b[38;5;241m+\u001b[39m img[y\u001b[38;5;241m+\u001b[39m\u001b[38;5;241m1\u001b[39m, x\u001b[38;5;241m-\u001b[39m\u001b[38;5;241m1\u001b[39m] \u001b[38;5;241m+\u001b[39m img[y\u001b[38;5;241m+\u001b[39m\u001b[38;5;241m1\u001b[39m, x] \u001b[38;5;241m+\u001b[39m img[y\u001b[38;5;241m+\u001b[39m\u001b[38;5;241m1\u001b[39m, x\u001b[38;5;241m+\u001b[39m\u001b[38;5;241m1\u001b[39m]]\n\u001b[0;32m     13\u001b[0m         a[y, x] \u001b[38;5;241m=\u001b[39m np\u001b[38;5;241m.\u001b[39mmedian(S)\n\u001b[0;32m     15\u001b[0m \u001b[38;5;28;01mreturn\u001b[39;00m a\n",
      "\u001b[1;31mIndexError\u001b[0m: index 256 is out of bounds for axis 1 with size 256"
     ]
    }
   ],
   "source": [
    "import cv2\n",
    "lena_gray = cv2.imread(\"images/lena_std_5.jpg\", cv2.IMREAD_GRAYSCALE)\n",
    "\n",
    "cv2.imshow(\"Lena\", lena_gray)\n",
    "cv2.imshow(\"Median Blur\", median_blur(lena_gray))\n",
    "\n",
    "cv2.waitKey()\n",
    "cv2.destroyAllWindows()"
   ]
  },
  {
   "cell_type": "code",
   "execution_count": 6,
   "metadata": {},
   "outputs": [],
   "source": [
    "import cv2\n",
    "lena_gray = cv2.imread('images/lena_std_5.jpg', cv2.IMREAD_GRAYSCALE)\n",
    "cv2.imshow('Lena', lena_gray)\n",
    "cv2.imshow('Median', cv2.medianBlur(lena_gray, 3))\n",
    "cv2.waitKey()\n",
    "cv2.destroyAllWindows()"
   ]
  },
  {
   "cell_type": "code",
   "execution_count": 7,
   "metadata": {},
   "outputs": [],
   "source": [
    "# 2. 가우시안 필터\n",
    "import numpy as np\n",
    "\n",
    "def gaussian_blur(img):\n",
    "    img_ = np.zeros(img.shape, dtype=np.uint8)\n",
    "    height, width = img.shape\n",
    "\n",
    "    for y in range(1, height-1):\n",
    "        for x in range(1, width-1):\n",
    "            T = 1*img[y-1,x-1] + 2*img[y-1,x] + 1*img[y-1,x+1] \\\n",
    "            + 2*img[y ,x-1] + 4*img[y ,x] + 2*img[y ,x+1] \\\n",
    "            + 1*img[y+1,x-1] + 2*img[y+1,x] + 1*img[y+1,x+1]\n",
    "            \n",
    "            img_[y,x] = int(T/16)\n",
    "\n",
    "    return img_"
   ]
  },
  {
   "cell_type": "code",
   "execution_count": 8,
   "metadata": {},
   "outputs": [],
   "source": [
    "import cv2\n",
    "\n",
    "lena_gray = cv2.imread('images/lena.jpg', cv2.IMREAD_GRAYSCALE)\n",
    "\n",
    "cv2.imshow('Lena', lena_gray)\n",
    "cv2.imshow('Lena', gaussian_blur(lena_gray))\n",
    "cv2.waitKey()\n",
    "cv2.destroyAllWindows()"
   ]
  },
  {
   "cell_type": "code",
   "execution_count": 9,
   "metadata": {},
   "outputs": [],
   "source": [
    "# 3. bilateral filter\n",
    "import cv2\n",
    "\n",
    "lena_gray = cv2.imread('images/lena.jpg', cv2.IMREAD_GRAYSCALE)\n",
    "\n",
    "cv2.imshow('Bilateral', cv2.bilateralFilter(lena_gray, 9, 75, 75))\n",
    "cv2.imshow('Gaussian', cv2.GaussianBlur(lena_gray, (5, 5), 75))\n",
    "\n",
    "cv2.waitKey()\n",
    "cv2.destroyAllWindows()"
   ]
  },
  {
   "cell_type": "markdown",
   "metadata": {},
   "source": [
    "## 2. 모폴로지 연산"
   ]
  },
  {
   "cell_type": "code",
   "execution_count": 10,
   "metadata": {},
   "outputs": [],
   "source": [
    "# 수축\n",
    "import cv2\n",
    "import numpy as np\n",
    "\n",
    "img = cv2.imread('images/j.png', 0)\n",
    "kernel = np.ones((5, 5), np.uint8)\n",
    "\n",
    "cv2.imshow('j', img)\n",
    "# iterations는 수축 반복 횟수\n",
    "cv2.imshow('erode', cv2.erode(img, kernel, iterations=1))\n",
    "\n",
    "cv2.waitKey()\n",
    "cv2.destroyAllWindows()"
   ]
  },
  {
   "cell_type": "code",
   "execution_count": 11,
   "metadata": {},
   "outputs": [],
   "source": [
    "# 팽창\n",
    "import cv2\n",
    "import numpy as np\n",
    "\n",
    "img = cv2.imread('images/j.png', 0)\n",
    "# 필터 크기 클수록 팽창의 정도도 커짐\n",
    "kernel = np.ones((5, 5), np.uint8)\n",
    "\n",
    "cv2.imshow('j', img)\n",
    "cv2.imshow('dilate', cv2.dilate(img, kernel, iterations=1))\n",
    "\n",
    "cv2.waitKey()\n",
    "cv2.destroyAllWindows()"
   ]
  },
  {
   "cell_type": "code",
   "execution_count": 12,
   "metadata": {},
   "outputs": [],
   "source": [
    "# 수축 후 팽창과 팽창 후 수축\n",
    "# 수축 후 팽창\n",
    "opening = cv2.morphologyEx(img, cv2.MORPH_OPEN, kernel)\n",
    "\n",
    "# 팽창 후 수축\n",
    "closing = cv2.morphologyEx(img, cv2.MORPH_CLOSE, kernel)\n",
    "\n",
    "# 그래디언트 => 이미지의 팽창과 수축의 차이\n",
    "gradient = cv2.morphologyEx(img, cv2.MORPH_GRADIENT, kernel)\n",
    "\n",
    "# 입력 이미지와 이미지 열기의 차이, 교차되는 부분에 대하여 탐색 가능\n",
    "tophat = cv2.morphologyEx(img, cv2.MORPH_TOPHAT, kernel)\n",
    "\n",
    "# 수축과 입력 이미지의 차이\n",
    "blackhat = cv2.morphologyEx(img, cv2.MORPH_BLACKHAT, kernel)\n",
    "\n",
    "# 이진 이미지에서 패턴 탐색\n",
    "kernel_hitmiss = np.array([[0, -1, -1], [1, 1, -1], [0, 1, 0]], np.uint8)\n",
    "hitmiss = cv2.morphologyEx(img, cv2.MORPH_HITMISS, kernel_hitmiss)\n",
    "\n",
    "cv2.imshow('j', img)\n",
    "cv2.imshow('opening', opening)\n",
    "cv2.imshow('closing', closing)\n",
    "cv2.imshow('gradient', gradient)\n",
    "cv2.imshow('tophat', tophat)\n",
    "cv2.imshow('blackhat', blackhat)\n",
    "cv2.imshow('hitmiss', hitmiss)\n",
    "\n",
    "cv2.waitKey()\n",
    "cv2.destroyAllWindows()"
   ]
  },
  {
   "cell_type": "markdown",
   "metadata": {},
   "source": [
    "## 3. 화질 개선"
   ]
  },
  {
   "cell_type": "markdown",
   "metadata": {},
   "source": [
    "### 3.1 히스토그램과 밝기 조절"
   ]
  },
  {
   "cell_type": "code",
   "execution_count": 13,
   "metadata": {},
   "outputs": [],
   "source": [
    "# 이미지 히스토그램 계산\n",
    "import numpy as np\n",
    "\n",
    "def histogram(img):\n",
    "    height, width = img.shape\n",
    "    hist = np.zeros(256)\n",
    "\n",
    "    for y in range(height):\n",
    "        for x in range(width):\n",
    "            hist[img[y, x]] = hist[img[y, x]] + 1\n",
    "\n",
    "    return hist"
   ]
  },
  {
   "cell_type": "code",
   "execution_count": 14,
   "metadata": {},
   "outputs": [
    {
     "data": {
      "image/png": "[encoded data removed]",
      "text/plain": [
       "<Figure size 432x288 with 1 Axes>"
      ]
     },
     "metadata": {
      "needs_background": "light"
     },
     "output_type": "display_data"
    }
   ],
   "source": [
    "import cv2\n",
    "import matplotlib.pyplot as plt\n",
    "\n",
    "img = cv2.imread('images/couple256.jpg', cv2.IMREAD_GRAYSCALE)\n",
    "plt.bar(x=range(256), height=histogram(img), width=1)\n",
    "plt.show()"
   ]
  },
  {
   "cell_type": "code",
   "execution_count": 15,
   "metadata": {},
   "outputs": [],
   "source": [
    "# 히스토그램 밝기 조절\n",
    "import numpy as np\n",
    "def brightness(img, threshold=0):\n",
    "    height, width = img.shape\n",
    "    img_ = np.zeros(img.shape, dtype=np.uint8)\n",
    "\n",
    "    for y in range(height):\n",
    "        for x in range(width):\n",
    "            temp = img[y][x] + threshold\n",
    "            if (temp > 255):\n",
    "                img_[y][x] = 255\n",
    "            elif(temp < 0):\n",
    "                img_[y][x] = 0\n",
    "            else:\n",
    "                img_[y][x] = temp\n",
    "                \n",
    "    return img_"
   ]
  },
  {
   "cell_type": "code",
   "execution_count": 16,
   "metadata": {},
   "outputs": [],
   "source": [
    "img = cv2.imread(\"images/couple256.jpg\", cv2.IMREAD_GRAYSCALE)\n",
    "img2 = brightness(img, threshold=100)\n",
    "\n",
    "cv2.imshow(\"Image\", np.c_[img, img2])\n",
    "cv2.waitKey()\n",
    "cv2.destroyAllWindows()"
   ]
  },
  {
   "cell_type": "code",
   "execution_count": 17,
   "metadata": {},
   "outputs": [
    {
     "data": {
      "text/plain": [
       "(0.0, 256.0)"
      ]
     },
     "execution_count": 17,
     "metadata": {},
     "output_type": "execute_result"
    },
    {
     "data": {
      "image/png": "[encoded data removed]",
      "text/plain": [
       "<Figure size 432x288 with 1 Axes>"
      ]
     },
     "metadata": {
      "needs_background": "light"
     },
     "output_type": "display_data"
    }
   ],
   "source": [
    "import matplotlib.pyplot as plt\n",
    "\n",
    "img2 = brightness(img, threshold=100)\n",
    "plt.bar(x=list(range(256)), height=histogram(img2), width=1)\n",
    "plt.xlim([0,256])"
   ]
  },
  {
   "cell_type": "markdown",
   "metadata": {},
   "source": [
    "### 3.2 콘트라스트 강조"
   ]
  },
  {
   "cell_type": "code",
   "execution_count": 18,
   "metadata": {},
   "outputs": [],
   "source": [
    "def contrast(img, low=0, high=255):\n",
    "    height, width = img.shape\n",
    "    img_ = np.zeros(img.shape, dtype=np.uint8)\n",
    "\n",
    "    for y in range(height):\n",
    "        for x in range(width):\n",
    "            temp =(int)((255/(high-low)) * (img[y][x]-low))\n",
    "            if (temp > 255):\n",
    "                img_[y][x] = 255\n",
    "            elif (temp < 0):\n",
    "                img_[y][x] = 0\n",
    "            else:\n",
    "                img_[y][x] = temp\n",
    "\n",
    "    return img_"
   ]
  },
  {
   "cell_type": "code",
   "execution_count": 19,
   "metadata": {},
   "outputs": [],
   "source": [
    "img = cv2.imread(\"images/couple256.jpg\", cv2.IMREAD_GRAYSCALE)\n",
    "img2 = contrast(img, 0, 160)\n",
    "\n",
    "cv2.imshow(\"Image\", np.c_[img, img2])\n",
    "cv2.waitKey()\n",
    "cv2.destroyAllWindows()"
   ]
  },
  {
   "cell_type": "code",
   "execution_count": 20,
   "metadata": {},
   "outputs": [
    {
     "data": {
      "image/png": "[encoded data removed]",
      "text/plain": [
       "<Figure size 432x576 with 2 Axes>"
      ]
     },
     "metadata": {
      "needs_background": "light"
     },
     "output_type": "display_data"
    }
   ],
   "source": [
    "# 콘트라스트 강조 전후 히스토그램 비교\n",
    "import matplotlib.pyplot as plt\n",
    "import cv2\n",
    "\n",
    "img = cv2.imread(\"images/couple256.jpg\", cv2.IMREAD_GRAYSCALE)\n",
    "img2 = contrast(img, 0, 160)\n",
    "\n",
    "plt.figure(figsize=(6,8))\n",
    "\n",
    "plt.subplot(211)\n",
    "plt.bar(x=range(256), height=histogram(img), width=1)\n",
    "plt.title(\"Input\")\n",
    "\n",
    "plt.subplot(212)\n",
    "plt.bar(x=range(256), height=histogram(img2), width=1)\n",
    "plt.title(\"Contrast up\")\n",
    "\n",
    "plt.show()"
   ]
  },
  {
   "cell_type": "markdown",
   "metadata": {},
   "source": [
    "### 3.3 cv2.normalize()"
   ]
  },
  {
   "cell_type": "code",
   "execution_count": 21,
   "metadata": {},
   "outputs": [],
   "source": [
    "import cv2\n",
    "\n",
    "img = cv2.imread('images/couple256.jpg', cv2.IMREAD_GRAYSCALE)\n",
    "height, width = img.shape\n",
    "\n",
    "for y in range(height):\n",
    "    for x in range(width):\n",
    "        if img[y, x] > 160:\n",
    "            img[y, x] = 160\n",
    "\n",
    "img2 = cv2.normalize(img, None, 0, 255, cv2.NORM_MINMAX)\n",
    "\n",
    "cv2.imshow('Image', np.c_[img, img2])\n",
    "cv2.waitKey()\n",
    "cv2.destroyAllWindows()"
   ]
  },
  {
   "cell_type": "markdown",
   "metadata": {},
   "source": [
    "### 3.4 히스토그램 이퀄라이제이션"
   ]
  },
  {
   "cell_type": "code",
   "execution_count": 22,
   "metadata": {},
   "outputs": [],
   "source": [
    "def equalization(img):\n",
    "    height, width = img.shape\n",
    "    img_in = img.copy()\n",
    "    img_out = np.zeros(img_in.shape, dtype=np.uint8)\n",
    "    histogram = np.zeros(256, dtype=int)\n",
    "    sum_histo = np.zeros(256, dtype=int)\n",
    "\n",
    "    for y in range(height):\n",
    "        for x in range(width):\n",
    "            histogram[img_in[y, x]] = histogram[img_in[y, x]] + 1\n",
    "\n",
    "    sum = 0\n",
    "    scale_factor = 255 / (width * height)\n",
    "\n",
    "    for i in range(256):\n",
    "        sum = sum + histogram[i]\n",
    "        sum_histo[i] = np.ceil(sum*scale_factor)\n",
    "\n",
    "    for y in range(height):\n",
    "        for x in range(width):\n",
    "            img_out[y, x] = sum_histo[img_in[y][x]]\n",
    "\n",
    "    return img_out"
   ]
  },
  {
   "cell_type": "code",
   "execution_count": 23,
   "metadata": {},
   "outputs": [],
   "source": [
    "import cv2\n",
    "\n",
    "img = cv2.imread(\"images/couple256.jpg\", cv2.IMREAD_GRAYSCALE)\n",
    "img2 = equalization(img)\n",
    "\n",
    "cv2.imshow(\"Image\", np.c_[img, img2])\n",
    "cv2.waitKey()\n",
    "cv2.destroyAllWindows()"
   ]
  },
  {
   "cell_type": "code",
   "execution_count": 24,
   "metadata": {},
   "outputs": [
    {
     "data": {
      "image/png": "[encoded data removed]",
      "text/plain": [
       "<Figure size 864x252 with 2 Axes>"
      ]
     },
     "metadata": {
      "needs_background": "light"
     },
     "output_type": "display_data"
    }
   ],
   "source": [
    "import matplotlib.pyplot as plt\n",
    "import cv2\n",
    "\n",
    "img = cv2.imread(\"images/couple256.jpg\", cv2.IMREAD_GRAYSCALE)\n",
    "img2 = equalization(img)\n",
    "\n",
    "plt.figure(figsize=(12,3.5))\n",
    "\n",
    "plt.subplot(121)\n",
    "plt.bar(x=range(256), height=histogram(img), width=1)\n",
    "plt.title(\"Input\")\n",
    "\n",
    "plt.subplot(122)\n",
    "plt.bar(x=range(256), height=histogram(img2), width=1)\n",
    "plt.title(\"Equalization\")\n",
    "\n",
    "plt.show()"
   ]
  },
  {
   "cell_type": "code",
   "execution_count": 25,
   "metadata": {},
   "outputs": [],
   "source": [
    "import cv2\n",
    "\n",
    "img = cv2.imread(\"images/couple256.jpg\", cv2.IMREAD_GRAYSCALE)\n",
    "img2 = cv2.equalizeHist(img)\n",
    "\n",
    "cv2.imshow(\"Image\", np.c_[img, img2])\n",
    "cv2.waitKey()\n",
    "cv2.destroyAllWindows()"
   ]
  },
  {
   "cell_type": "code",
   "execution_count": 26,
   "metadata": {},
   "outputs": [
    {
     "data": {
      "image/png": "[encoded data removed]",
      "text/plain": [
       "<Figure size 432x288 with 2 Axes>"
      ]
     },
     "metadata": {
      "needs_background": "light"
     },
     "output_type": "display_data"
    }
   ],
   "source": [
    "import cv2\n",
    "import matplotlib.pyplot as plt\n",
    "import numpy as np\n",
    "\n",
    "img = cv2.imread(\"images/couple256.jpg\", cv2.IMREAD_GRAYSCALE)\n",
    "img2 = cv2.equalizeHist(img)\n",
    "\n",
    "hist = histogram(img2)\n",
    "cumsum_hist = np.cumsum(hist)\n",
    "sum_hist = np.sum(hist)\n",
    "\n",
    "plt.bar(range(256), hist, width=1)\n",
    "ax = plt.twinx()\n",
    "ax.plot(range(256), cumsum_hist/sum_hist, 'r')\n",
    "\n",
    "plt.show()"
   ]
  },
  {
   "cell_type": "markdown",
   "metadata": {},
   "source": [
    "### 3.5 적응적 히스토그램 이퀄라이제이션"
   ]
  },
  {
   "cell_type": "code",
   "execution_count": 27,
   "metadata": {},
   "outputs": [],
   "source": [
    "import cv2\n",
    "import matplotlib.pyplot as plt\n",
    "import numpy as np\n",
    "\n",
    "img = cv2.imread(\"images/tsukuba.png\", cv2.IMREAD_GRAYSCALE)\n",
    "\n",
    "img2 = cv2.equalizeHist(img)\n",
    "clahe = cv2.createCLAHE(clipLimit=2.0, tileGridSize=(8,8))\n",
    "img3 = clahe.apply(img)\n",
    "\n",
    "cv2.imshow('Equalization vs. CLAHE', np.c_[img2, img3])\n",
    "cv2.waitKey()\n",
    "cv2.destroyAllWindows()"
   ]
  },
  {
   "cell_type": "code",
   "execution_count": 28,
   "metadata": {},
   "outputs": [
    {
     "data": {
      "image/png": "[encoded data removed]",
      "text/plain": [
       "<Figure size 864x252 with 4 Axes>"
      ]
     },
     "metadata": {
      "needs_background": "light"
     },
     "output_type": "display_data"
    }
   ],
   "source": [
    "img = cv2.imread(\"images/tsukuba.png\", cv2.IMREAD_GRAYSCALE)\n",
    "img2 = cv2.equalizeHist(img)\n",
    "clahe = cv2.createCLAHE(clipLimit=2.0, tileGridSize=(8,8))\n",
    "img3 = clahe.apply(img)\n",
    "\n",
    "hist1 = histogram(img2)\n",
    "cumsum_hist1 = np.cumsum(hist1)\n",
    "sum_hist1 = np.sum(hist1)\n",
    "\n",
    "hist2 = histogram(img3)\n",
    "cumsum_hist2 = np.cumsum(hist2)\n",
    "sum_hist2 = np.sum(hist2)\n",
    "\n",
    "plt.figure(figsize=(12,3.5))\n",
    "\n",
    "plt.subplot(121)\n",
    "plt.bar(x=range(256), height=histogram(img), width=1)\n",
    "\n",
    "ax = plt.twinx()\n",
    "ax.plot(range(256), cumsum_hist1/sum_hist1, 'r')\n",
    "plt.title(\"Equalization\")\n",
    "\n",
    "plt.subplot(122)\n",
    "plt.bar(x=range(256), height=histogram(img2), width=1)\n",
    "\n",
    "ax = plt.twinx()\n",
    "ax.plot(range(256), cumsum_hist2/sum_hist2, 'r')\n",
    "plt.title(\"CLAHE\")\n",
    "\n",
    "plt.show()"
   ]
  },
  {
   "cell_type": "markdown",
   "metadata": {},
   "source": [
    "### 3.6 완벽하게 평평한 히스토그램 이퀄라이제이션"
   ]
  },
  {
   "cell_type": "code",
   "execution_count": 29,
   "metadata": {},
   "outputs": [],
   "source": [
    "# 현재 화소의 위치와 그 화소의 주위 8화소 총합 저장하는 클래스\n",
    "class SortedPixel():\n",
    "    def __init__(self, x, y, weight) -> None:\n",
    "        self.x = x\n",
    "        self.y = y\n",
    "        self.weight = weight"
   ]
  },
  {
   "cell_type": "code",
   "execution_count": 31,
   "metadata": {},
   "outputs": [],
   "source": [
    "# 현재 화소 주위 8화소의 총합 구함\n",
    "def get_weight(pixels, x, y):\n",
    "    weight = 0\n",
    "    xm = x-1\n",
    "    ym = y-1\n",
    "    xp = x+1\n",
    "    yp = y+1\n",
    "    d = np.zeros(8, dtype=int)\n",
    "    height, width = pixels.shape\n",
    "\n",
    "    if (xm < 0): xm = x\n",
    "    if (ym < 0): ym = y\n",
    "    if (xp >= width): xp = x\n",
    "    if (yp >= height): yp = y\n",
    "\n",
    "    d[0]=pixels[ym, xm]; d[1]=pixels[ym, x]; d[2]=pixels[ym, xp]\n",
    "    d[3]=pixels[y, xm]; d[4]=pixels[y, xp]\n",
    "    d[5]=pixels[yp, xm]; d[6]=pixels[yp, x]; d[7]=pixels[yp, xp]\n",
    "\n",
    "    weight = np.sum(d)\n",
    "\n",
    "    return weight"
   ]
  },
  {
   "cell_type": "code",
   "execution_count": 32,
   "metadata": {},
   "outputs": [],
   "source": [
    "# 주위 8개 화소의 총합을 이용해 정렬하는 함수\n",
    "from operator import attrgetter\n",
    "\n",
    "def sort_by_weight(pixels, level, count):\n",
    "    height, width = pixels.shape\n",
    "    data = []\n",
    "    inum = 0\n",
    "    weight = 0\n",
    "\n",
    "    for y in range(height):\n",
    "        for x in range(width):\n",
    "            try:\n",
    "                if(pixels[y,x]==level):\n",
    "                    w = get_weight(pixels, x, y)\n",
    "                    data.append(SortedPixel(x, y, w))\n",
    "                    inum = inum + 1\n",
    "            except:\n",
    "                pass\n",
    "\n",
    "    data.sort(key=attrgetter('weight'))\n",
    "\n",
    "    return data"
   ]
  },
  {
   "cell_type": "code",
   "execution_count": 33,
   "metadata": {},
   "outputs": [],
   "source": [
    "# 히스토그램 평탄화 구현\n",
    "def flattening(img):\n",
    "    height, width = img.shape\n",
    "    img_in = img.copy()\n",
    "    img_out = np.zeros(img.shape, dtype=np.uint8)\n",
    "    histogram = np.zeros(256, dtype=int)\n",
    "\n",
    "    for y in range(height):\n",
    "        for x in range(width):\n",
    "            histogram[img_in[y,x]] = histogram[img_in[y,x]] + 1\n",
    "        low, high, delta = 255, 255, 0\n",
    "        avg_pixel_count = (int)((height*width)/256)\n",
    "\n",
    "    for i in range(255,-1,-1):\n",
    "        sum = 0\n",
    "        while (sum < avg_pixel_count):\n",
    "            sum = sum + histogram[low]\n",
    "            low = low - 1\n",
    "\n",
    "        low = low + 1\n",
    "        delta = histogram[low]-(sum-avg_pixel_count)\n",
    "        buffer = sort_by_weight(img_in, low, histogram[low])\n",
    "\n",
    "        if (low<high):\n",
    "            for y in range(height):\n",
    "                for x in range(width):\n",
    "                    if(img_in[y,x]>=low+1) & (img_in[y,x]<=high) :\n",
    "                        img_out[y,x] = i\n",
    "\n",
    "        for j in range(delta):\n",
    "            img_out[int(buffer[j].y), int(buffer[j].x)] = i\n",
    "            img_in[int(buffer[j].y), int(buffer[j].x)] = low+1\n",
    "\n",
    "        histogram[low] = histogram[low] - delta\n",
    "        high = low\n",
    "\n",
    "    return img_out"
   ]
  },
  {
   "cell_type": "code",
   "execution_count": 34,
   "metadata": {},
   "outputs": [],
   "source": [
    "import cv2\n",
    "\n",
    "img = cv2.imread(\"images/tsukuba.png\", cv2.IMREAD_GRAYSCALE)\n",
    "img2 = flattening(img)\n",
    "\n",
    "cv2.imshow(\"Image flattening\", np.c_[img, img2])\n",
    "cv2.waitKey()\n",
    "cv2.destroyAllWindows()"
   ]
  },
  {
   "cell_type": "code",
   "execution_count": 35,
   "metadata": {},
   "outputs": [
    {
     "data": {
      "image/png": "[encoded data removed]",
      "text/plain": [
       "<Figure size 864x216 with 2 Axes>"
      ]
     },
     "metadata": {
      "needs_background": "light"
     },
     "output_type": "display_data"
    }
   ],
   "source": [
    "import matplotlib.pyplot as plt\n",
    "import cv2\n",
    "\n",
    "img = cv2.imread(\"images/tsukuba.png\", cv2.IMREAD_GRAYSCALE)\n",
    "img2 = flattening(img)\n",
    "\n",
    "hist1 = cv2.calcHist(images=[img], channels=[0], mask=None,\n",
    "histSize=[256], ranges=[0,256]) # 원본 이미지의 히스토그램\n",
    "hist2 = cv2.calcHist(images=[img2], channels=[0], mask=None,\n",
    "histSize=[256], ranges=[0,256]) # 평탄화 이미지의 히스토그램\n",
    "\n",
    "plt.figure(figsize=(12,3))\n",
    "\n",
    "plt.subplot(121)\n",
    "plt.bar(x=range(256), height=hist1.flatten(), width=1)\n",
    "plt.title(\"Input\")\n",
    "y_lim = plt.ylim() # 첫 번째 그래프의 y축을 저장\n",
    "\n",
    "plt.subplot(122)\n",
    "plt.bar(x=range(256), height=hist2.flatten(), width=1)\n",
    "plt.xlim(y_lim) # 첫 번째 그래프의 y축 범위와 같게 지정\n",
    "plt.title(\"flattening\")\n",
    "\n",
    "plt.show()"
   ]
  },
  {
   "cell_type": "code",
   "execution_count": 36,
   "metadata": {},
   "outputs": [
    {
     "data": {
      "image/png": "[encoded data removed]",
      "text/plain": [
       "<Figure size 432x288 with 2 Axes>"
      ]
     },
     "metadata": {
      "needs_background": "light"
     },
     "output_type": "display_data"
    }
   ],
   "source": [
    "import cv2\n",
    "\n",
    "img = cv2.imread(\"images/tsukuba.png\", cv2.IMREAD_GRAYSCALE)\n",
    "img2 = flattening(img)\n",
    "\n",
    "hist2 = cv2.calcHist(images=[img2], channels=[0], mask=None, histSize=[256], ranges=[0,256])\n",
    "cumsum_hist = np.cumsum(hist2)\n",
    "sum_hist = np.sum(hist2)\n",
    "\n",
    "plt.plot(range(256), hist2, 'r')\n",
    "ax = plt.twinx()\n",
    "ax.plot(range(256), cumsum_hist/sum_hist, 'b:')\n",
    "\n",
    "plt.show()"
   ]
  }
 ],
 "metadata": {
  "interpreter": {
   "hash": "f01b41f100e4eccb5288b98e5cdaad242b0b9c29fd1fe7c4e728af993bea0dc2"
  },
  "kernelspec": {
   "display_name": "Python 3.9.7 64-bit ('saltlux_deep_lecture': conda)",
   "language": "python",
   "name": "python3"
  },
  "language_info": {
   "codemirror_mode": {
    "name": "ipython",
    "version": 3
   },
   "file_extension": ".py",
   "mimetype": "text/x-python",
   "name": "python",
   "nbconvert_exporter": "python",
   "pygments_lexer": "ipython3",
   "version": "3.9.7"
  },
  "orig_nbformat": 4
 },
 "nbformat": 4,
 "nbformat_minor": 2
}
