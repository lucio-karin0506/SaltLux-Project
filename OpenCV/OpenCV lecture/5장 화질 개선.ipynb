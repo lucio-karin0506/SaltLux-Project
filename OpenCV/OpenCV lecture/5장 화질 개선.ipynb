{
 "cells": [
  {
   "cell_type": "markdown",
   "metadata": {},
   "source": [
    "## 1. 잡음 제거"
   ]
  },
  {
   "cell_type": "code",
   "execution_count": 1,
   "metadata": {},
   "outputs": [],
   "source": [
    "# 1. 평균값 필터\n",
    "# 필터에 1을 곱해야 함\n",
    "# img는 uint8 타입이기 때문\n",
    "import numpy as np\n",
    "\n",
    "def mean_blur(img):\n",
    "    a = np.zeros(img.shape, dtype=np.uint8)\n",
    "    height, width = img.shape\n",
    "    for y in range(1, height-1):\n",
    "        for x in range(1, width-1):\n",
    "            S = 1*img[y-1, x-1] + img[y-1, x] + img[y-1, x+1] \\\n",
    "                + img[y , x-1] + img[y , x] + img[y , x+1] \\\n",
    "                + img[y+1, x-1] + img[y+1, x] + img[y+1, x+1]\n",
    "            S = S / 9\n",
    "            if S > 255:\n",
    "                a[y, x] = 255\n",
    "            elif S < 0:\n",
    "                a[y, x] = 0\n",
    "            else:\n",
    "                a[y, x] = int(S)\n",
    "\n",
    "    return a"
   ]
  },
  {
   "cell_type": "code",
   "execution_count": 2,
   "metadata": {},
   "outputs": [],
   "source": [
    "import cv2\n",
    "lena_gray = cv2.imread(\"images/lena_std_5.jpg\", cv2.IMREAD_GRAYSCALE)\n",
    "\n",
    "cv2.imshow(\"Lena\", lena_gray)\n",
    "cv2.imshow(\"Mean Blur\", mean_blur(lena_gray))\n",
    "\n",
    "cv2.waitKey()\n",
    "cv2.destroyAllWindows()"
   ]
  },
  {
   "cell_type": "code",
   "execution_count": 3,
   "metadata": {},
   "outputs": [],
   "source": [
    "import cv2\n",
    "lena_gray = cv2.imread(\"images/lena_std_5.jpg\", cv2.IMREAD_GRAYSCALE)\n",
    "\n",
    "cv2.imshow(\"Lena\", lena_gray)\n",
    "cv2.imshow(\"Mean Blur\", cv2.blur(lena_gray, ksize=(3,3)))\n",
    "\n",
    "cv2.waitKey()\n",
    "cv2.destroyAllWindows()"
   ]
  },
  {
   "cell_type": "code",
   "execution_count": 7,
   "metadata": {},
   "outputs": [],
   "source": [
    "# 2. median filter\n",
    "import numpy as np\n",
    "\n",
    "def median_blur(img):\n",
    "    a = np.zeros(img.shape, dtype=np.uint8)\n",
    "    height, width = img.shape[:2]\n",
    "\n",
    "    for y in range(height):\n",
    "        for x in range(width):\n",
    "            S = [img[y-1, x-1] + img[y-1, x] + img[y-1, x+1] \\\n",
    "                 + img[y , x-1] + img[y , x] + img[y , x+1] \\\n",
    "                 + img[y+1, x-1] + img[y+1, x] + img[y+1, x+1]]\n",
    "            a[y, x] = np.median(S)\n",
    "\n",
    "    return a"
   ]
  },
  {
   "cell_type": "code",
   "execution_count": 8,
   "metadata": {},
   "outputs": [
    {
     "name": "stderr",
     "output_type": "stream",
     "text": [
      "C:\\Users\\r2com\\AppData\\Local\\Temp\\ipykernel_14844\\3994853702.py:10: RuntimeWarning: overflow encountered in ubyte_scalars\n",
      "  S = [img[y-1, x-1] + img[y-1, x] + img[y-1, x+1] \\\n"
     ]
    },
    {
     "ename": "IndexError",
     "evalue": "index 256 is out of bounds for axis 1 with size 256",
     "output_type": "error",
     "traceback": [
      "\u001b[1;31m---------------------------------------------------------------------------\u001b[0m",
      "\u001b[1;31mIndexError\u001b[0m                                Traceback (most recent call last)",
      "Input \u001b[1;32mIn [8]\u001b[0m, in \u001b[0;36m<module>\u001b[1;34m\u001b[0m\n\u001b[0;32m      2\u001b[0m lena_gray \u001b[38;5;241m=\u001b[39m cv2\u001b[38;5;241m.\u001b[39mimread(\u001b[38;5;124m\"\u001b[39m\u001b[38;5;124mimages/lena_std_5.jpg\u001b[39m\u001b[38;5;124m\"\u001b[39m, cv2\u001b[38;5;241m.\u001b[39mIMREAD_GRAYSCALE)\n\u001b[0;32m      4\u001b[0m cv2\u001b[38;5;241m.\u001b[39mimshow(\u001b[38;5;124m\"\u001b[39m\u001b[38;5;124mLena\u001b[39m\u001b[38;5;124m\"\u001b[39m, lena_gray)\n\u001b[1;32m----> 5\u001b[0m cv2\u001b[38;5;241m.\u001b[39mimshow(\u001b[38;5;124m\"\u001b[39m\u001b[38;5;124mMedian Blur\u001b[39m\u001b[38;5;124m\"\u001b[39m, \u001b[43mmedian_blur\u001b[49m\u001b[43m(\u001b[49m\u001b[43mlena_gray\u001b[49m\u001b[43m)\u001b[49m)\n\u001b[0;32m      7\u001b[0m cv2\u001b[38;5;241m.\u001b[39mwaitKey()\n\u001b[0;32m      8\u001b[0m cv2\u001b[38;5;241m.\u001b[39mdestroyAllWindows()\n",
      "Input \u001b[1;32mIn [7]\u001b[0m, in \u001b[0;36mmedian_blur\u001b[1;34m(img)\u001b[0m\n\u001b[0;32m      8\u001b[0m \u001b[38;5;28;01mfor\u001b[39;00m y \u001b[38;5;129;01min\u001b[39;00m \u001b[38;5;28mrange\u001b[39m(height):\n\u001b[0;32m      9\u001b[0m     \u001b[38;5;28;01mfor\u001b[39;00m x \u001b[38;5;129;01min\u001b[39;00m \u001b[38;5;28mrange\u001b[39m(width):\n\u001b[1;32m---> 10\u001b[0m         S \u001b[38;5;241m=\u001b[39m [img[y\u001b[38;5;241m-\u001b[39m\u001b[38;5;241m1\u001b[39m, x\u001b[38;5;241m-\u001b[39m\u001b[38;5;241m1\u001b[39m] \u001b[38;5;241m+\u001b[39m img[y\u001b[38;5;241m-\u001b[39m\u001b[38;5;241m1\u001b[39m, x] \u001b[38;5;241m+\u001b[39m \u001b[43mimg\u001b[49m\u001b[43m[\u001b[49m\u001b[43my\u001b[49m\u001b[38;5;241;43m-\u001b[39;49m\u001b[38;5;241;43m1\u001b[39;49m\u001b[43m,\u001b[49m\u001b[43m \u001b[49m\u001b[43mx\u001b[49m\u001b[38;5;241;43m+\u001b[39;49m\u001b[38;5;241;43m1\u001b[39;49m\u001b[43m]\u001b[49m \\\n\u001b[0;32m     11\u001b[0m              \u001b[38;5;241m+\u001b[39m img[y , x\u001b[38;5;241m-\u001b[39m\u001b[38;5;241m1\u001b[39m] \u001b[38;5;241m+\u001b[39m img[y , x] \u001b[38;5;241m+\u001b[39m img[y , x\u001b[38;5;241m+\u001b[39m\u001b[38;5;241m1\u001b[39m] \\\n\u001b[0;32m     12\u001b[0m              \u001b[38;5;241m+\u001b[39m img[y\u001b[38;5;241m+\u001b[39m\u001b[38;5;241m1\u001b[39m, x\u001b[38;5;241m-\u001b[39m\u001b[38;5;241m1\u001b[39m] \u001b[38;5;241m+\u001b[39m img[y\u001b[38;5;241m+\u001b[39m\u001b[38;5;241m1\u001b[39m, x] \u001b[38;5;241m+\u001b[39m img[y\u001b[38;5;241m+\u001b[39m\u001b[38;5;241m1\u001b[39m, x\u001b[38;5;241m+\u001b[39m\u001b[38;5;241m1\u001b[39m]]\n\u001b[0;32m     13\u001b[0m         a[y, x] \u001b[38;5;241m=\u001b[39m np\u001b[38;5;241m.\u001b[39mmedian(S)\n\u001b[0;32m     15\u001b[0m \u001b[38;5;28;01mreturn\u001b[39;00m a\n",
      "\u001b[1;31mIndexError\u001b[0m: index 256 is out of bounds for axis 1 with size 256"
     ]
    }
   ],
   "source": [
    "import cv2\n",
    "lena_gray = cv2.imread(\"images/lena_std_5.jpg\", cv2.IMREAD_GRAYSCALE)\n",
    "\n",
    "cv2.imshow(\"Lena\", lena_gray)\n",
    "cv2.imshow(\"Median Blur\", median_blur(lena_gray))\n",
    "\n",
    "cv2.waitKey()\n",
    "cv2.destroyAllWindows()"
   ]
  },
  {
   "cell_type": "code",
   "execution_count": 9,
   "metadata": {},
   "outputs": [],
   "source": [
    "import cv2\n",
    "lena_gray = cv2.imread('images/lena_std_5.jpg', cv2.IMREAD_GRAYSCALE)\n",
    "cv2.imshow('Lena', lena_gray)\n",
    "cv2.imshow('Median', cv2.medianBlur(lena_gray, 3))\n",
    "cv2.waitKey()\n",
    "cv2.destroyAllWindows()"
   ]
  },
  {
   "cell_type": "code",
   "execution_count": 10,
   "metadata": {},
   "outputs": [],
   "source": [
    "# 2. 가우시안 필터\n",
    "import numpy as np\n",
    "\n",
    "def gaussian_blur(img):\n",
    "    img_ = np.zeros(img.shape, dtype=np.uint8)\n",
    "    height, width = img.shape\n",
    "\n",
    "    for y in range(1, height-1):\n",
    "        for x in range(1, width-1):\n",
    "            T = 1*img[y-1,x-1] + 2*img[y-1,x] + 1*img[y-1,x+1] \\\n",
    "            + 2*img[y ,x-1] + 4*img[y ,x] + 2*img[y ,x+1] \\\n",
    "            + 1*img[y+1,x-1] + 2*img[y+1,x] + 1*img[y+1,x+1]\n",
    "            \n",
    "            img_[y,x] = int(T/16)\n",
    "\n",
    "    return img_"
   ]
  },
  {
   "cell_type": "code",
   "execution_count": 11,
   "metadata": {},
   "outputs": [],
   "source": [
    "import cv2\n",
    "\n",
    "lena_gray = cv2.imread('images/lena.jpg', cv2.IMREAD_GRAYSCALE)\n",
    "\n",
    "cv2.imshow('Lena', lena_gray)\n",
    "cv2.imshow('Lena', gaussian_blur(lena_gray))\n",
    "cv2.waitKey()\n",
    "cv2.destroyAllWindows()"
   ]
  },
  {
   "cell_type": "code",
   "execution_count": 12,
   "metadata": {},
   "outputs": [],
   "source": [
    "# 3. bilateral filter\n",
    "import cv2\n",
    "\n",
    "lena_gray = cv2.imread('images/lena.jpg', cv2.IMREAD_GRAYSCALE)\n",
    "\n",
    "cv2.imshow('Bilateral', cv2.bilateralFilter(lena_gray, 9, 75, 75))\n",
    "cv2.imshow('Gaussian', cv2.GaussianBlur(lena_gray, (5, 5), 75))\n",
    "\n",
    "cv2.waitKey()\n",
    "cv2.destroyAllWindows()"
   ]
  },
  {
   "cell_type": "markdown",
   "metadata": {},
   "source": [
    "## 2. 모폴로지 연산"
   ]
  },
  {
   "cell_type": "code",
   "execution_count": 18,
   "metadata": {},
   "outputs": [],
   "source": [
    "# 수축\n",
    "import cv2\n",
    "import numpy as np\n",
    "\n",
    "img = cv2.imread('images/j.png', 0)\n",
    "kernel = np.ones((5, 5), np.uint8)\n",
    "\n",
    "cv2.imshow('j', img)\n",
    "# iterations는 수축 반복 횟수\n",
    "cv2.imshow('erode', cv2.erode(img, kernel, iterations=1))\n",
    "\n",
    "cv2.waitKey()\n",
    "cv2.destroyAllWindows()"
   ]
  },
  {
   "cell_type": "code",
   "execution_count": 27,
   "metadata": {},
   "outputs": [],
   "source": [
    "# 팽창\n",
    "import cv2\n",
    "import numpy as np\n",
    "\n",
    "img = cv2.imread('images/j.png', 0)\n",
    "# 필터 크기 클수록 팽창의 정도도 커짐\n",
    "kernel = np.ones((5, 5), np.uint8)\n",
    "\n",
    "cv2.imshow('j', img)\n",
    "cv2.imshow('dilate', cv2.dilate(img, kernel, iterations=1))\n",
    "\n",
    "cv2.waitKey()\n",
    "cv2.destroyAllWindows()"
   ]
  },
  {
   "cell_type": "code",
   "execution_count": 30,
   "metadata": {},
   "outputs": [
    {
     "ename": "TypeError",
     "evalue": "namedWindow() missing required argument 'winname' (pos 1)",
     "output_type": "error",
     "traceback": [
      "\u001b[1;31m---------------------------------------------------------------------------\u001b[0m",
      "\u001b[1;31mTypeError\u001b[0m                                 Traceback (most recent call last)",
      "Input \u001b[1;32mIn [30]\u001b[0m, in \u001b[0;36m<module>\u001b[1;34m\u001b[0m\n\u001b[0;32m     27\u001b[0m cv2\u001b[38;5;241m.\u001b[39mimshow(\u001b[38;5;124m'\u001b[39m\u001b[38;5;124mhitmiss\u001b[39m\u001b[38;5;124m'\u001b[39m, hitmiss)\n\u001b[0;32m     29\u001b[0m cv2\u001b[38;5;241m.\u001b[39mwaitKey()\n\u001b[1;32m---> 30\u001b[0m \u001b[43mcv2\u001b[49m\u001b[38;5;241;43m.\u001b[39;49m\u001b[43mnamedWindow\u001b[49m\u001b[43m(\u001b[49m\u001b[43m)\u001b[49m\n\u001b[0;32m     31\u001b[0m cv2\u001b[38;5;241m.\u001b[39mresizeWindow(width\u001b[38;5;241m=\u001b[39m\u001b[38;5;241m200\u001b[39m, height\u001b[38;5;241m=\u001b[39m\u001b[38;5;241m150\u001b[39m)\n\u001b[0;32m     32\u001b[0m cv2\u001b[38;5;241m.\u001b[39mdestroyAllWindows()\n",
      "\u001b[1;31mTypeError\u001b[0m: namedWindow() missing required argument 'winname' (pos 1)"
     ]
    }
   ],
   "source": [
    "# 수축 후 팽창과 팽창 후 수축\n",
    "# 수축 후 팽창\n",
    "opening = cv2.morphologyEx(img, cv2.MORPH_OPEN, kernel)\n",
    "\n",
    "# 팽창 후 수축\n",
    "closing = cv2.morphologyEx(img, cv2.MORPH_CLOSE, kernel)\n",
    "\n",
    "# 그래디언트 => 이미지의 팽창과 수축의 차이\n",
    "gradient = cv2.morphologyEx(img, cv2.MORPH_GRADIENT, kernel)\n",
    "\n",
    "# 입력 이미지와 이미지 열기의 차이, 교차되는 부분에 대하여 탐색 가능\n",
    "tophat = cv2.morphologyEx(img, cv2.MORPH_TOPHAT, kernel)\n",
    "\n",
    "# 수축과 입력 이미지의 차이\n",
    "blackhat = cv2.morphologyEx(img, cv2.MORPH_BLACKHAT, kernel)\n",
    "\n",
    "# 이진 이미지에서 패턴 탐색\n",
    "kernel_hitmiss = np.array([[0, -1, -1], [1, 1, -1], [0, 1, 0]], np.uint8)\n",
    "hitmiss = cv2.morphologyEx(img, cv2.MORPH_HITMISS, kernel_hitmiss)\n",
    "\n",
    "cv2.imshow('j', img)\n",
    "cv2.imshow('opening', opening)\n",
    "cv2.imshow('closing', closing)\n",
    "cv2.imshow('gradient', gradient)\n",
    "cv2.imshow('tophat', tophat)\n",
    "cv2.imshow('blackhat', blackhat)\n",
    "cv2.imshow('hitmiss', hitmiss)\n",
    "\n",
    "cv2.waitKey()\n",
    "cv2.destroyAllWindows()"
   ]
  }
 ],
 "metadata": {
  "interpreter": {
   "hash": "f01b41f100e4eccb5288b98e5cdaad242b0b9c29fd1fe7c4e728af993bea0dc2"
  },
  "kernelspec": {
   "display_name": "Python 3.9.7 64-bit ('saltlux_deep_lecture': conda)",
   "language": "python",
   "name": "python3"
  },
  "language_info": {
   "codemirror_mode": {
    "name": "ipython",
    "version": 3
   },
   "file_extension": ".py",
   "mimetype": "text/x-python",
   "name": "python",
   "nbconvert_exporter": "python",
   "pygments_lexer": "ipython3",
   "version": "3.9.7"
  },
  "orig_nbformat": 4
 },
 "nbformat": 4,
 "nbformat_minor": 2
}
