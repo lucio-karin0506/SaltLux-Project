{
 "cells": [
  {
   "cell_type": "code",
   "execution_count": 1,
   "metadata": {},
   "outputs": [],
   "source": [
    "# load package\n",
    "import os\n",
    "os.environ['CUDA_VISIBLE_DEVICES'] = '0'\n",
    "\n",
    "import cv2\n",
    "import numpy as np\n",
    "\n",
    "import tensorflow as tf\n",
    "from yolov3.yolov4 import Create_Yolo\n",
    "from yolov3.utils import image_preprocess, postprocess_boxes, draw_bbox, nms\n",
    "from yolov3.configs import *\n",
    "\n",
    "MNIST_CLASS = 'mnist/mnist.names'\n",
    "WEIGHT_PATH = './model_data/mnist/yolov3_mnist_custom'\n",
    "IMG_SIZE = 416 # config.py의 yolo_input_size와 같음\n",
    "\n",
    "yolo = Create_Yolo(input_size=IMG_SIZE, CLASSES=MNIST_CLASS)\n",
    "yolo.load_weights(WEIGHT_PATH)\n",
    "weights = yolo.get_weights()"
   ]
  },
  {
   "cell_type": "code",
   "execution_count": 15,
   "metadata": {},
   "outputs": [],
   "source": [
    "# 이미지로 테스트\n",
    "yolo.set_weights(weights)\n",
    "\n",
    "img = cv2.imread('mnist_test.jpg')\n",
    "image = cv2.cvtColor(img, cv2.COLOR_BGR2RGB)\n",
    "\n",
    "image_data = image_preprocess(np.copy(image), [IMG_SIZE, IMG_SIZE]) # (416, 416, 3)\n",
    "image_data = image_data[np.newaxis, ...].astype(np.float32) # (1, 416, 416, 3)\n",
    "\n",
    "pred_bbox = yolo.predict(image_data)\n",
    "pred_bbox = [tf.reshape(x, (-1, tf.shape(x)[-1])) for x in pred_bbox]\n",
    "pred_bbox = tf.concat(pred_bbox, axis=0)\n",
    "\n",
    "bboxes = postprocess_boxes(pred_bbox, image, IMG_SIZE, 0.3)\n",
    "\n",
    "# soft-nms(https://arxiv.org/pdf/1704.04503.pdf, 2017)\n",
    "bboxes = nms(bboxes, iou_threshold=0.45, method='nms') # bboxes = (xmin, ymin, xmax, ymax, score, class)\n",
    "image = draw_bbox(image, bboxes, CLASSES=MNIST_CLASS, rectangle_colors=(255, 0, 0))\n",
    "\n",
    "cv2.imshow('Image', image)\n",
    "if cv2.waitKey() & 0xFF == 27:\n",
    "    cv2.destroyAllWindows()"
   ]
  },
  {
   "cell_type": "code",
   "execution_count": 13,
   "metadata": {},
   "outputs": [],
   "source": [
    "# 카메라로 테스트\n",
    "cap = cv2.VideoCapture(0)\n",
    "\n",
    "if cap.isOpened():\n",
    "    delay = int(1000 / cap.get(cv2.CAP_PROP_FPS))\n",
    "    while True:\n",
    "        ret, img = cap.read()\n",
    "        if ret:\n",
    "            yolo.set_weights(weights)\n",
    "\n",
    "            image = cv2.cvtColor(img, cv2.COLOR_BGR2RGB)\n",
    "            image_data = image_preprocess(np.copy(image), [IMG_SIZE, IMG_SIZE]) # (416, 416, 3)\n",
    "            image_data = image_data[np.newaxis, ...].astype(np.float32) # (1, 416, 416, 3)\n",
    "\n",
    "            pred_bbox = yolo.predict(image_data)\n",
    "            pred_bbox = [tf.reshape(x, (-1, tf.shape(x)[-1])) for x in pred_bbox]\n",
    "            pred_bbox = tf.concat(pred_bbox, axis=0)\n",
    "\n",
    "            bboxes = postprocess_boxes(pred_bbox, image, IMG_SIZE, 0.3)\n",
    "            # soft-nms(https://arxiv.org/pdf/1704.04503.pdf, 2017)\n",
    "            bboxes = nms(bboxes, iou_threshold=0.45, method='nms') # bboxes = (xmin, ymin, xmax, ymax, score, class)\n",
    "            image = draw_bbox(image, bboxes, CLASSES=MNIST_CLASS, rectangle_colors=(255, 0, 0))\n",
    "\n",
    "            cv2.imshow('Image', image)\n",
    "            if cv2.waitKey(1) & 0xFF == 27:\n",
    "                break\n",
    "\n",
    "        else:\n",
    "            print('no frame')\n",
    "            break\n",
    "\n",
    "else:\n",
    "    print('camera not opened')\n",
    "\n",
    "cap.release()\n",
    "cv2.destroyAllWindows()"
   ]
  }
 ],
 "metadata": {
  "interpreter": {
   "hash": "f01b41f100e4eccb5288b98e5cdaad242b0b9c29fd1fe7c4e728af993bea0dc2"
  },
  "kernelspec": {
   "display_name": "Python 3.9.7 64-bit ('saltlux_deep_lecture': conda)",
   "language": "python",
   "name": "python3"
  },
  "language_info": {
   "codemirror_mode": {
    "name": "ipython",
    "version": 3
   },
   "file_extension": ".py",
   "mimetype": "text/x-python",
   "name": "python",
   "nbconvert_exporter": "python",
   "pygments_lexer": "ipython3",
   "version": "3.9.7"
  },
  "orig_nbformat": 4
 },
 "nbformat": 4,
 "nbformat_minor": 2
}
