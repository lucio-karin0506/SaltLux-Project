{
 "cells": [
  {
   "cell_type": "markdown",
   "metadata": {},
   "source": [
    "# 2. 기본적인 추천 시스템"
   ]
  },
  {
   "cell_type": "markdown",
   "metadata": {},
   "source": [
    "## 2.1 데이터 불러오기"
   ]
  },
  {
   "cell_type": "code",
   "execution_count": 2,
   "metadata": {},
   "outputs": [
    {
     "data": {
      "text/html": [
       "<div>\n",
       "<style scoped>\n",
       "    .dataframe tbody tr th:only-of-type {\n",
       "        vertical-align: middle;\n",
       "    }\n",
       "\n",
       "    .dataframe tbody tr th {\n",
       "        vertical-align: top;\n",
       "    }\n",
       "\n",
       "    .dataframe thead th {\n",
       "        text-align: right;\n",
       "    }\n",
       "</style>\n",
       "<table border=\"1\" class=\"dataframe\">\n",
       "  <thead>\n",
       "    <tr style=\"text-align: right;\">\n",
       "      <th></th>\n",
       "      <th>age</th>\n",
       "      <th>sex</th>\n",
       "      <th>occupation</th>\n",
       "      <th>zip_code</th>\n",
       "    </tr>\n",
       "    <tr>\n",
       "      <th>user_id</th>\n",
       "      <th></th>\n",
       "      <th></th>\n",
       "      <th></th>\n",
       "      <th></th>\n",
       "    </tr>\n",
       "  </thead>\n",
       "  <tbody>\n",
       "    <tr>\n",
       "      <th>1</th>\n",
       "      <td>24</td>\n",
       "      <td>M</td>\n",
       "      <td>technician</td>\n",
       "      <td>85711</td>\n",
       "    </tr>\n",
       "    <tr>\n",
       "      <th>2</th>\n",
       "      <td>53</td>\n",
       "      <td>F</td>\n",
       "      <td>other</td>\n",
       "      <td>94043</td>\n",
       "    </tr>\n",
       "    <tr>\n",
       "      <th>3</th>\n",
       "      <td>23</td>\n",
       "      <td>M</td>\n",
       "      <td>writer</td>\n",
       "      <td>32067</td>\n",
       "    </tr>\n",
       "    <tr>\n",
       "      <th>4</th>\n",
       "      <td>24</td>\n",
       "      <td>M</td>\n",
       "      <td>technician</td>\n",
       "      <td>43537</td>\n",
       "    </tr>\n",
       "    <tr>\n",
       "      <th>5</th>\n",
       "      <td>33</td>\n",
       "      <td>F</td>\n",
       "      <td>other</td>\n",
       "      <td>15213</td>\n",
       "    </tr>\n",
       "  </tbody>\n",
       "</table>\n",
       "</div>"
      ],
      "text/plain": [
       "         age sex  occupation zip_code\n",
       "user_id                              \n",
       "1         24   M  technician    85711\n",
       "2         53   F       other    94043\n",
       "3         23   M      writer    32067\n",
       "4         24   M  technician    43537\n",
       "5         33   F       other    15213"
      ]
     },
     "execution_count": 2,
     "metadata": {},
     "output_type": "execute_result"
    }
   ],
   "source": [
    "import pandas as pd\n",
    "u_cols = ['user_id', 'age', 'sex', 'occupation', 'zip_code']\n",
    "users = pd.read_csv('./dataset/u.user', sep='|', names=u_cols, encoding='latin-1')\n",
    "users = users.set_index('user_id')\n",
    "users.head()"
   ]
  },
  {
   "cell_type": "code",
   "execution_count": 3,
   "metadata": {},
   "outputs": [
    {
     "data": {
      "text/html": [
       "<div>\n",
       "<style scoped>\n",
       "    .dataframe tbody tr th:only-of-type {\n",
       "        vertical-align: middle;\n",
       "    }\n",
       "\n",
       "    .dataframe tbody tr th {\n",
       "        vertical-align: top;\n",
       "    }\n",
       "\n",
       "    .dataframe thead th {\n",
       "        text-align: right;\n",
       "    }\n",
       "</style>\n",
       "<table border=\"1\" class=\"dataframe\">\n",
       "  <thead>\n",
       "    <tr style=\"text-align: right;\">\n",
       "      <th></th>\n",
       "      <th>title</th>\n",
       "      <th>release date</th>\n",
       "      <th>video release date</th>\n",
       "      <th>IMDB URL</th>\n",
       "      <th>unknown</th>\n",
       "      <th>Action</th>\n",
       "      <th>Adventure</th>\n",
       "      <th>Animation</th>\n",
       "      <th>Children's</th>\n",
       "      <th>Comedy</th>\n",
       "      <th>...</th>\n",
       "      <th>Fantasy</th>\n",
       "      <th>Film-Noir</th>\n",
       "      <th>Horror</th>\n",
       "      <th>Musical</th>\n",
       "      <th>Mystery</th>\n",
       "      <th>Romance</th>\n",
       "      <th>Sci-Fi</th>\n",
       "      <th>Thriller</th>\n",
       "      <th>War</th>\n",
       "      <th>western</th>\n",
       "    </tr>\n",
       "    <tr>\n",
       "      <th>movie_id</th>\n",
       "      <th></th>\n",
       "      <th></th>\n",
       "      <th></th>\n",
       "      <th></th>\n",
       "      <th></th>\n",
       "      <th></th>\n",
       "      <th></th>\n",
       "      <th></th>\n",
       "      <th></th>\n",
       "      <th></th>\n",
       "      <th></th>\n",
       "      <th></th>\n",
       "      <th></th>\n",
       "      <th></th>\n",
       "      <th></th>\n",
       "      <th></th>\n",
       "      <th></th>\n",
       "      <th></th>\n",
       "      <th></th>\n",
       "      <th></th>\n",
       "      <th></th>\n",
       "    </tr>\n",
       "  </thead>\n",
       "  <tbody>\n",
       "    <tr>\n",
       "      <th>1</th>\n",
       "      <td>Toy Story (1995)</td>\n",
       "      <td>01-Jan-1995</td>\n",
       "      <td>NaN</td>\n",
       "      <td>http://us.imdb.com/M/title-exact?Toy%20Story%2...</td>\n",
       "      <td>0</td>\n",
       "      <td>0</td>\n",
       "      <td>0</td>\n",
       "      <td>1</td>\n",
       "      <td>1</td>\n",
       "      <td>1</td>\n",
       "      <td>...</td>\n",
       "      <td>0</td>\n",
       "      <td>0</td>\n",
       "      <td>0</td>\n",
       "      <td>0</td>\n",
       "      <td>0</td>\n",
       "      <td>0</td>\n",
       "      <td>0</td>\n",
       "      <td>0</td>\n",
       "      <td>0</td>\n",
       "      <td>0</td>\n",
       "    </tr>\n",
       "    <tr>\n",
       "      <th>2</th>\n",
       "      <td>GoldenEye (1995)</td>\n",
       "      <td>01-Jan-1995</td>\n",
       "      <td>NaN</td>\n",
       "      <td>http://us.imdb.com/M/title-exact?GoldenEye%20(...</td>\n",
       "      <td>0</td>\n",
       "      <td>1</td>\n",
       "      <td>1</td>\n",
       "      <td>0</td>\n",
       "      <td>0</td>\n",
       "      <td>0</td>\n",
       "      <td>...</td>\n",
       "      <td>0</td>\n",
       "      <td>0</td>\n",
       "      <td>0</td>\n",
       "      <td>0</td>\n",
       "      <td>0</td>\n",
       "      <td>0</td>\n",
       "      <td>0</td>\n",
       "      <td>1</td>\n",
       "      <td>0</td>\n",
       "      <td>0</td>\n",
       "    </tr>\n",
       "    <tr>\n",
       "      <th>3</th>\n",
       "      <td>Four Rooms (1995)</td>\n",
       "      <td>01-Jan-1995</td>\n",
       "      <td>NaN</td>\n",
       "      <td>http://us.imdb.com/M/title-exact?Four%20Rooms%...</td>\n",
       "      <td>0</td>\n",
       "      <td>0</td>\n",
       "      <td>0</td>\n",
       "      <td>0</td>\n",
       "      <td>0</td>\n",
       "      <td>0</td>\n",
       "      <td>...</td>\n",
       "      <td>0</td>\n",
       "      <td>0</td>\n",
       "      <td>0</td>\n",
       "      <td>0</td>\n",
       "      <td>0</td>\n",
       "      <td>0</td>\n",
       "      <td>0</td>\n",
       "      <td>1</td>\n",
       "      <td>0</td>\n",
       "      <td>0</td>\n",
       "    </tr>\n",
       "    <tr>\n",
       "      <th>4</th>\n",
       "      <td>Get Shorty (1995)</td>\n",
       "      <td>01-Jan-1995</td>\n",
       "      <td>NaN</td>\n",
       "      <td>http://us.imdb.com/M/title-exact?Get%20Shorty%...</td>\n",
       "      <td>0</td>\n",
       "      <td>1</td>\n",
       "      <td>0</td>\n",
       "      <td>0</td>\n",
       "      <td>0</td>\n",
       "      <td>1</td>\n",
       "      <td>...</td>\n",
       "      <td>0</td>\n",
       "      <td>0</td>\n",
       "      <td>0</td>\n",
       "      <td>0</td>\n",
       "      <td>0</td>\n",
       "      <td>0</td>\n",
       "      <td>0</td>\n",
       "      <td>0</td>\n",
       "      <td>0</td>\n",
       "      <td>0</td>\n",
       "    </tr>\n",
       "    <tr>\n",
       "      <th>5</th>\n",
       "      <td>Copycat (1995)</td>\n",
       "      <td>01-Jan-1995</td>\n",
       "      <td>NaN</td>\n",
       "      <td>http://us.imdb.com/M/title-exact?Copycat%20(1995)</td>\n",
       "      <td>0</td>\n",
       "      <td>0</td>\n",
       "      <td>0</td>\n",
       "      <td>0</td>\n",
       "      <td>0</td>\n",
       "      <td>0</td>\n",
       "      <td>...</td>\n",
       "      <td>0</td>\n",
       "      <td>0</td>\n",
       "      <td>0</td>\n",
       "      <td>0</td>\n",
       "      <td>0</td>\n",
       "      <td>0</td>\n",
       "      <td>0</td>\n",
       "      <td>1</td>\n",
       "      <td>0</td>\n",
       "      <td>0</td>\n",
       "    </tr>\n",
       "  </tbody>\n",
       "</table>\n",
       "<p>5 rows × 23 columns</p>\n",
       "</div>"
      ],
      "text/plain": [
       "                      title release date  video release date  \\\n",
       "movie_id                                                       \n",
       "1          Toy Story (1995)  01-Jan-1995                 NaN   \n",
       "2          GoldenEye (1995)  01-Jan-1995                 NaN   \n",
       "3         Four Rooms (1995)  01-Jan-1995                 NaN   \n",
       "4         Get Shorty (1995)  01-Jan-1995                 NaN   \n",
       "5            Copycat (1995)  01-Jan-1995                 NaN   \n",
       "\n",
       "                                                   IMDB URL  unknown  Action  \\\n",
       "movie_id                                                                       \n",
       "1         http://us.imdb.com/M/title-exact?Toy%20Story%2...        0       0   \n",
       "2         http://us.imdb.com/M/title-exact?GoldenEye%20(...        0       1   \n",
       "3         http://us.imdb.com/M/title-exact?Four%20Rooms%...        0       0   \n",
       "4         http://us.imdb.com/M/title-exact?Get%20Shorty%...        0       1   \n",
       "5         http://us.imdb.com/M/title-exact?Copycat%20(1995)        0       0   \n",
       "\n",
       "          Adventure  Animation  Children's  Comedy  ...  Fantasy  Film-Noir  \\\n",
       "movie_id                                            ...                       \n",
       "1                 0          1           1       1  ...        0          0   \n",
       "2                 1          0           0       0  ...        0          0   \n",
       "3                 0          0           0       0  ...        0          0   \n",
       "4                 0          0           0       1  ...        0          0   \n",
       "5                 0          0           0       0  ...        0          0   \n",
       "\n",
       "          Horror  Musical  Mystery  Romance  Sci-Fi  Thriller  War  western  \n",
       "movie_id                                                                     \n",
       "1              0        0        0        0       0         0    0        0  \n",
       "2              0        0        0        0       0         1    0        0  \n",
       "3              0        0        0        0       0         1    0        0  \n",
       "4              0        0        0        0       0         0    0        0  \n",
       "5              0        0        0        0       0         1    0        0  \n",
       "\n",
       "[5 rows x 23 columns]"
      ]
     },
     "execution_count": 3,
     "metadata": {},
     "output_type": "execute_result"
    }
   ],
   "source": [
    "i_cols = ['movie_id', 'title', 'release date', 'video release date', 'IMDB URL',\n",
    "          'unknown', 'Action', 'Adventure', 'Animation', 'Children\\'s',\n",
    "          'Comedy', 'Crime', 'Documentary', 'Drama', 'Fantasy', 'Film-Noir',\n",
    "          'Horror', 'Musical', 'Mystery', 'Romance', 'Sci-Fi', 'Thriller',\n",
    "          'War', 'western']\n",
    "\n",
    "movies = pd.read_csv('./dataset/u.item', sep='|', names=i_cols, encoding='latin-1')\n",
    "movies = movies.set_index('movie_id')\n",
    "movies.head()"
   ]
  },
  {
   "cell_type": "code",
   "execution_count": 4,
   "metadata": {},
   "outputs": [
    {
     "data": {
      "text/html": [
       "<div>\n",
       "<style scoped>\n",
       "    .dataframe tbody tr th:only-of-type {\n",
       "        vertical-align: middle;\n",
       "    }\n",
       "\n",
       "    .dataframe tbody tr th {\n",
       "        vertical-align: top;\n",
       "    }\n",
       "\n",
       "    .dataframe thead th {\n",
       "        text-align: right;\n",
       "    }\n",
       "</style>\n",
       "<table border=\"1\" class=\"dataframe\">\n",
       "  <thead>\n",
       "    <tr style=\"text-align: right;\">\n",
       "      <th></th>\n",
       "      <th>movie_id</th>\n",
       "      <th>rating</th>\n",
       "      <th>timestamp</th>\n",
       "    </tr>\n",
       "    <tr>\n",
       "      <th>user_id</th>\n",
       "      <th></th>\n",
       "      <th></th>\n",
       "      <th></th>\n",
       "    </tr>\n",
       "  </thead>\n",
       "  <tbody>\n",
       "    <tr>\n",
       "      <th>196</th>\n",
       "      <td>242</td>\n",
       "      <td>3</td>\n",
       "      <td>881250949</td>\n",
       "    </tr>\n",
       "    <tr>\n",
       "      <th>186</th>\n",
       "      <td>302</td>\n",
       "      <td>3</td>\n",
       "      <td>891717742</td>\n",
       "    </tr>\n",
       "    <tr>\n",
       "      <th>22</th>\n",
       "      <td>377</td>\n",
       "      <td>1</td>\n",
       "      <td>878887116</td>\n",
       "    </tr>\n",
       "    <tr>\n",
       "      <th>244</th>\n",
       "      <td>51</td>\n",
       "      <td>2</td>\n",
       "      <td>880606923</td>\n",
       "    </tr>\n",
       "    <tr>\n",
       "      <th>166</th>\n",
       "      <td>346</td>\n",
       "      <td>1</td>\n",
       "      <td>886397596</td>\n",
       "    </tr>\n",
       "  </tbody>\n",
       "</table>\n",
       "</div>"
      ],
      "text/plain": [
       "         movie_id  rating  timestamp\n",
       "user_id                             \n",
       "196           242       3  881250949\n",
       "186           302       3  891717742\n",
       "22            377       1  878887116\n",
       "244            51       2  880606923\n",
       "166           346       1  886397596"
      ]
     },
     "execution_count": 4,
     "metadata": {},
     "output_type": "execute_result"
    }
   ],
   "source": [
    "r_cols = ['user_id', 'movie_id', 'rating', 'timestamp']\n",
    "ratings = pd.read_csv('./dataset/u.data', sep='\\t', names=r_cols, encoding='latin-1')\n",
    "ratings = ratings.set_index('user_id')\n",
    "ratings.head()"
   ]
  },
  {
   "cell_type": "markdown",
   "metadata": {},
   "source": [
    "## 2.2 인기제품 방식"
   ]
  },
  {
   "cell_type": "code",
   "execution_count": 5,
   "metadata": {},
   "outputs": [
    {
     "data": {
      "text/plain": [
       "movie_id\n",
       "814                         Great Day in Harlem, A (1994)\n",
       "1599                        Someone Else's America (1995)\n",
       "1201           Marlene Dietrich: Shadow and Light (1996) \n",
       "1122                       They Made Me a Criminal (1939)\n",
       "1653    Entertaining Angels: The Dorothy Day Story (1996)\n",
       "Name: title, dtype: object"
      ]
     },
     "execution_count": 5,
     "metadata": {},
     "output_type": "execute_result"
    }
   ],
   "source": [
    "# best-seller 추천\n",
    "# 전체 사용자의 평점평균을 사용\n",
    "def recom_movie1(n_items):\n",
    "    movie_mean = ratings.groupby(['movie_id'])['rating'].mean()\n",
    "    movie_sort = movie_mean.sort_values(ascending=False)[:n_items]\n",
    "    recom_movies = movies.loc[movie_sort.index]\n",
    "    recommendations = recom_movies['title']\n",
    "    return recommendations\n",
    "\n",
    "recom_movie1(5)"
   ]
  },
  {
   "cell_type": "code",
   "execution_count": 6,
   "metadata": {},
   "outputs": [
    {
     "data": {
      "text/plain": [
       "movie_id\n",
       "814                         Great Day in Harlem, A (1994)\n",
       "1599                        Someone Else's America (1995)\n",
       "1201           Marlene Dietrich: Shadow and Light (1996) \n",
       "1122                       They Made Me a Criminal (1939)\n",
       "1653    Entertaining Angels: The Dorothy Day Story (1996)\n",
       "Name: title, dtype: object"
      ]
     },
     "execution_count": 6,
     "metadata": {},
     "output_type": "execute_result"
    }
   ],
   "source": [
    "def recom_movie2(n_items):\n",
    "    movie_mean = ratings.groupby(['movie_id'])['rating'].mean()\n",
    "    return movies.loc[movie_mean.sort_values(ascending=False)[:n_items].index]['title']\n",
    "\n",
    "recom_movie2(5)"
   ]
  },
  {
   "cell_type": "markdown",
   "metadata": {},
   "source": [
    "## 2.3 추천 시스템의 정확도 측정"
   ]
  },
  {
   "cell_type": "code",
   "execution_count": 7,
   "metadata": {},
   "outputs": [],
   "source": [
    "# 정확도 계산\n",
    "import numpy as np\n",
    "def RMSE(y_true, y_pred):\n",
    "    return np.sqrt(np.mean((np.array(y_true) - np.array(y_pred))**2))"
   ]
  },
  {
   "cell_type": "code",
   "execution_count": 8,
   "metadata": {},
   "outputs": [
    {
     "name": "stdout",
     "output_type": "stream",
     "text": [
      "0.996007224010567\n"
     ]
    }
   ],
   "source": [
    "# 실제 영화 평점 값과\n",
    "# best-seller 방식으로 구한 예측 값의\n",
    "# rmse 도출\n",
    "rmse = []\n",
    "movie_mean = ratings.groupby(['movie_id'])['rating'].mean()\n",
    "\n",
    "for user in set(ratings.index):\n",
    "    y_true = ratings.loc[user]['rating']\n",
    "    y_pred = movie_mean[ratings.loc[user]['movie_id']]\n",
    "    accuracy = RMSE(y_true, y_pred)\n",
    "    rmse.append(accuracy)\n",
    "\n",
    "print(np.mean(rmse))"
   ]
  },
  {
   "cell_type": "markdown",
   "metadata": {},
   "source": [
    "## 2.4 사용자 집단별 추천"
   ]
  },
  {
   "cell_type": "code",
   "execution_count": 9,
   "metadata": {},
   "outputs": [],
   "source": [
    "# remove tiemstamp\n",
    "ratins = ratings.drop('timestamp', axis=1)\n",
    "\n",
    "movies = movies.reset_index()\n",
    "movies = movies[['movie_id', 'title']]"
   ]
  },
  {
   "cell_type": "code",
   "execution_count": 10,
   "metadata": {},
   "outputs": [],
   "source": [
    "# train, test 분리\n",
    "from sklearn.model_selection import train_test_split\n",
    "\n",
    "ratings = ratings.reset_index()\n",
    "x = ratings.copy()\n",
    "y = ratings['user_id']\n",
    "x_train, x_test, y_train, y_test = train_test_split(x, y, test_size=0.25, stratify=y)"
   ]
  },
  {
   "cell_type": "code",
   "execution_count": 11,
   "metadata": {},
   "outputs": [],
   "source": [
    "# 모델 별 rmse 계산\n",
    "def score(model):\n",
    "    id_pairs = zip(x_test['user_id'], x_test['movie_id'])\n",
    "    y_pred = np.array([model(user, movie) for (user, movie) in id_pairs])\n",
    "    y_true = np.array(x_test['rating'])\n",
    "    return RMSE(y_true, y_pred)\n",
    "\n",
    "# train 데이터로 full matrix 구하기\n",
    "rating_matrix = x_train.pivot(index='user_id', columns='movie_id', values='rating')"
   ]
  },
  {
   "cell_type": "code",
   "execution_count": 12,
   "metadata": {},
   "outputs": [
    {
     "data": {
      "text/plain": [
       "1.0238991621832114"
      ]
     },
     "execution_count": 12,
     "metadata": {},
     "output_type": "execute_result"
    }
   ],
   "source": [
    "# 전체 평균으로 예측치 계산하는 기본 모델\n",
    "def best_seller(user_id, movie_id):\n",
    "    train_mean = x_train.groupby('movie_id')['rating'].mean()\n",
    "    try:\n",
    "        rating = train_mean[movie_id]\n",
    "    except:\n",
    "        rating = 3.0\n",
    "    return rating\n",
    "\n",
    "score(best_seller)"
   ]
  },
  {
   "cell_type": "code",
   "execution_count": 13,
   "metadata": {},
   "outputs": [],
   "source": [
    "# full matrix를 사용자 데이터와 merge\n",
    "users = users.reset_index()\n",
    "merged_ratings = pd.merge(x_train, users)\n",
    "users = users.set_index('user_id')\n",
    "\n",
    "# gender별 평점평균 계산\n",
    "g_mean = merged_ratings[['movie_id', 'sex', 'rating']].groupby(['movie_id', 'sex'])['rating'].mean()"
   ]
  },
  {
   "cell_type": "code",
   "execution_count": 14,
   "metadata": {},
   "outputs": [
    {
     "data": {
      "text/plain": [
       "1.034398443489634"
      ]
     },
     "execution_count": 14,
     "metadata": {},
     "output_type": "execute_result"
    }
   ],
   "source": [
    "# gender 기준 추천\n",
    "# gender별 평균을 예측치로 돌려주는 함수\n",
    "def cf_gender(user_id, movie_id):\n",
    "    if movie_id in rating_matrix:\n",
    "        gender = users.loc[user_id]['sex']\n",
    "        if gender in g_mean[movie_id]:\n",
    "            gender_rating = g_mean[movie_id][gender]\n",
    "        else:\n",
    "            gender_rating = 3.0\n",
    "\n",
    "    else:\n",
    "        gender_rating = 3.0\n",
    "\n",
    "    return gender_rating\n",
    "\n",
    "score(cf_gender)"
   ]
  },
  {
   "cell_type": "markdown",
   "metadata": {},
   "source": [
    "# 3. 협업 필터링 추천 시스템"
   ]
  },
  {
   "cell_type": "markdown",
   "metadata": {},
   "source": [
    "## 3.1 기본 CF 알고리즘"
   ]
  },
  {
   "cell_type": "code",
   "execution_count": 15,
   "metadata": {},
   "outputs": [
    {
     "data": {
      "text/html": [
       "<div>\n",
       "<style scoped>\n",
       "    .dataframe tbody tr th:only-of-type {\n",
       "        vertical-align: middle;\n",
       "    }\n",
       "\n",
       "    .dataframe tbody tr th {\n",
       "        vertical-align: top;\n",
       "    }\n",
       "\n",
       "    .dataframe thead th {\n",
       "        text-align: right;\n",
       "    }\n",
       "</style>\n",
       "<table border=\"1\" class=\"dataframe\">\n",
       "  <thead>\n",
       "    <tr style=\"text-align: right;\">\n",
       "      <th>user_id</th>\n",
       "      <th>1</th>\n",
       "      <th>2</th>\n",
       "      <th>3</th>\n",
       "      <th>4</th>\n",
       "      <th>5</th>\n",
       "      <th>6</th>\n",
       "      <th>7</th>\n",
       "      <th>8</th>\n",
       "      <th>9</th>\n",
       "      <th>10</th>\n",
       "      <th>...</th>\n",
       "      <th>934</th>\n",
       "      <th>935</th>\n",
       "      <th>936</th>\n",
       "      <th>937</th>\n",
       "      <th>938</th>\n",
       "      <th>939</th>\n",
       "      <th>940</th>\n",
       "      <th>941</th>\n",
       "      <th>942</th>\n",
       "      <th>943</th>\n",
       "    </tr>\n",
       "    <tr>\n",
       "      <th>user_id</th>\n",
       "      <th></th>\n",
       "      <th></th>\n",
       "      <th></th>\n",
       "      <th></th>\n",
       "      <th></th>\n",
       "      <th></th>\n",
       "      <th></th>\n",
       "      <th></th>\n",
       "      <th></th>\n",
       "      <th></th>\n",
       "      <th></th>\n",
       "      <th></th>\n",
       "      <th></th>\n",
       "      <th></th>\n",
       "      <th></th>\n",
       "      <th></th>\n",
       "      <th></th>\n",
       "      <th></th>\n",
       "      <th></th>\n",
       "      <th></th>\n",
       "      <th></th>\n",
       "    </tr>\n",
       "  </thead>\n",
       "  <tbody>\n",
       "    <tr>\n",
       "      <th>1</th>\n",
       "      <td>1.000000</td>\n",
       "      <td>0.127072</td>\n",
       "      <td>0.022711</td>\n",
       "      <td>0.059277</td>\n",
       "      <td>0.290768</td>\n",
       "      <td>0.319740</td>\n",
       "      <td>0.312732</td>\n",
       "      <td>0.266690</td>\n",
       "      <td>0.070433</td>\n",
       "      <td>0.271318</td>\n",
       "      <td>...</td>\n",
       "      <td>0.346773</td>\n",
       "      <td>0.066398</td>\n",
       "      <td>0.214631</td>\n",
       "      <td>0.164157</td>\n",
       "      <td>0.131266</td>\n",
       "      <td>0.103070</td>\n",
       "      <td>0.229152</td>\n",
       "      <td>0.114776</td>\n",
       "      <td>0.131949</td>\n",
       "      <td>0.324209</td>\n",
       "    </tr>\n",
       "    <tr>\n",
       "      <th>2</th>\n",
       "      <td>0.127072</td>\n",
       "      <td>1.000000</td>\n",
       "      <td>0.120108</td>\n",
       "      <td>0.066896</td>\n",
       "      <td>0.040045</td>\n",
       "      <td>0.185720</td>\n",
       "      <td>0.074583</td>\n",
       "      <td>0.004358</td>\n",
       "      <td>0.083743</td>\n",
       "      <td>0.116722</td>\n",
       "      <td>...</td>\n",
       "      <td>0.127483</td>\n",
       "      <td>0.136337</td>\n",
       "      <td>0.238432</td>\n",
       "      <td>0.259440</td>\n",
       "      <td>0.171645</td>\n",
       "      <td>0.122343</td>\n",
       "      <td>0.204004</td>\n",
       "      <td>0.054072</td>\n",
       "      <td>0.087671</td>\n",
       "      <td>0.048119</td>\n",
       "    </tr>\n",
       "    <tr>\n",
       "      <th>3</th>\n",
       "      <td>0.022711</td>\n",
       "      <td>0.120108</td>\n",
       "      <td>1.000000</td>\n",
       "      <td>0.250797</td>\n",
       "      <td>0.028854</td>\n",
       "      <td>0.062717</td>\n",
       "      <td>0.043946</td>\n",
       "      <td>0.060027</td>\n",
       "      <td>0.078141</td>\n",
       "      <td>0.073219</td>\n",
       "      <td>...</td>\n",
       "      <td>0.041617</td>\n",
       "      <td>0.058156</td>\n",
       "      <td>0.078196</td>\n",
       "      <td>0.074641</td>\n",
       "      <td>0.091856</td>\n",
       "      <td>0.034535</td>\n",
       "      <td>0.159685</td>\n",
       "      <td>0.072078</td>\n",
       "      <td>0.158385</td>\n",
       "      <td>0.034538</td>\n",
       "    </tr>\n",
       "    <tr>\n",
       "      <th>4</th>\n",
       "      <td>0.059277</td>\n",
       "      <td>0.066896</td>\n",
       "      <td>0.250797</td>\n",
       "      <td>1.000000</td>\n",
       "      <td>0.044420</td>\n",
       "      <td>0.040887</td>\n",
       "      <td>0.053542</td>\n",
       "      <td>0.108960</td>\n",
       "      <td>0.074074</td>\n",
       "      <td>0.044267</td>\n",
       "      <td>...</td>\n",
       "      <td>0.069959</td>\n",
       "      <td>0.000000</td>\n",
       "      <td>0.097751</td>\n",
       "      <td>0.118870</td>\n",
       "      <td>0.010639</td>\n",
       "      <td>0.000000</td>\n",
       "      <td>0.094002</td>\n",
       "      <td>0.000000</td>\n",
       "      <td>0.079997</td>\n",
       "      <td>0.078578</td>\n",
       "    </tr>\n",
       "    <tr>\n",
       "      <th>5</th>\n",
       "      <td>0.290768</td>\n",
       "      <td>0.040045</td>\n",
       "      <td>0.028854</td>\n",
       "      <td>0.044420</td>\n",
       "      <td>1.000000</td>\n",
       "      <td>0.175392</td>\n",
       "      <td>0.296209</td>\n",
       "      <td>0.140497</td>\n",
       "      <td>0.067496</td>\n",
       "      <td>0.136950</td>\n",
       "      <td>...</td>\n",
       "      <td>0.291030</td>\n",
       "      <td>0.077253</td>\n",
       "      <td>0.075566</td>\n",
       "      <td>0.049234</td>\n",
       "      <td>0.138620</td>\n",
       "      <td>0.046403</td>\n",
       "      <td>0.171204</td>\n",
       "      <td>0.072635</td>\n",
       "      <td>0.099739</td>\n",
       "      <td>0.244768</td>\n",
       "    </tr>\n",
       "  </tbody>\n",
       "</table>\n",
       "<p>5 rows × 943 columns</p>\n",
       "</div>"
      ],
      "text/plain": [
       "user_id       1         2         3         4         5         6         7    \\\n",
       "user_id                                                                         \n",
       "1        1.000000  0.127072  0.022711  0.059277  0.290768  0.319740  0.312732   \n",
       "2        0.127072  1.000000  0.120108  0.066896  0.040045  0.185720  0.074583   \n",
       "3        0.022711  0.120108  1.000000  0.250797  0.028854  0.062717  0.043946   \n",
       "4        0.059277  0.066896  0.250797  1.000000  0.044420  0.040887  0.053542   \n",
       "5        0.290768  0.040045  0.028854  0.044420  1.000000  0.175392  0.296209   \n",
       "\n",
       "user_id       8         9         10   ...       934       935       936  \\\n",
       "user_id                                ...                                 \n",
       "1        0.266690  0.070433  0.271318  ...  0.346773  0.066398  0.214631   \n",
       "2        0.004358  0.083743  0.116722  ...  0.127483  0.136337  0.238432   \n",
       "3        0.060027  0.078141  0.073219  ...  0.041617  0.058156  0.078196   \n",
       "4        0.108960  0.074074  0.044267  ...  0.069959  0.000000  0.097751   \n",
       "5        0.140497  0.067496  0.136950  ...  0.291030  0.077253  0.075566   \n",
       "\n",
       "user_id       937       938       939       940       941       942       943  \n",
       "user_id                                                                        \n",
       "1        0.164157  0.131266  0.103070  0.229152  0.114776  0.131949  0.324209  \n",
       "2        0.259440  0.171645  0.122343  0.204004  0.054072  0.087671  0.048119  \n",
       "3        0.074641  0.091856  0.034535  0.159685  0.072078  0.158385  0.034538  \n",
       "4        0.118870  0.010639  0.000000  0.094002  0.000000  0.079997  0.078578  \n",
       "5        0.049234  0.138620  0.046403  0.171204  0.072635  0.099739  0.244768  \n",
       "\n",
       "[5 rows x 943 columns]"
      ]
     },
     "execution_count": 15,
     "metadata": {},
     "output_type": "execute_result"
    }
   ],
   "source": [
    "# train set의 모든 가능한 사용자 pair의 Cosine similarities 계산\n",
    "from sklearn.metrics.pairwise import cosine_similarity\n",
    "\n",
    "matrix_dummy = rating_matrix.copy().fillna(0)\n",
    "user_similarity = cosine_similarity(matrix_dummy, matrix_dummy)\n",
    "user_similarity = pd.DataFrame(user_similarity, index=rating_matrix.index, columns=rating_matrix.index)\n",
    "\n",
    "user_similarity.head()"
   ]
  },
  {
   "cell_type": "code",
   "execution_count": 16,
   "metadata": {},
   "outputs": [
    {
     "data": {
      "text/plain": [
       "1.0179452999628942"
      ]
     },
     "execution_count": 16,
     "metadata": {},
     "output_type": "execute_result"
    }
   ],
   "source": [
    "# 주어진 영화의 movie_id 가중평균 rating을 계산\n",
    "# 가중치는 주어진 사용자와 다른 사용자 간의 유사도(user_similarity)\n",
    "def CF_simple(user_id, movie_id):\n",
    "    if movie_id in rating_matrix:\n",
    "        sim_scores = user_similarity[user_id].copy()\n",
    "        movie_ratings = rating_matrix[movie_id].copy()\n",
    "\n",
    "        none_rating_idx = movie_ratings[movie_ratings.isnull()].index\n",
    "        movie_ratings = movie_ratings.dropna()\n",
    "\n",
    "        sim_scores = sim_scores.drop(none_rating_idx)\n",
    "        mean_rating = np.dot(sim_scores, movie_ratings) / sim_scores.sum()\n",
    "\n",
    "    else:\n",
    "        mean_rating = 3.0\n",
    "    \n",
    "    return mean_rating\n",
    "\n",
    "# 정확도 계산\n",
    "score(CF_simple)"
   ]
  },
  {
   "cell_type": "markdown",
   "metadata": {},
   "source": [
    "## 3.2 이웃을 고려한 CF"
   ]
  },
  {
   "cell_type": "code",
   "execution_count": 17,
   "metadata": {},
   "outputs": [],
   "source": [
    "# 모델 별 rmse 계산 => KNN 모델 평가용\n",
    "def score_KNN(model, neighbor_size=0):\n",
    "    id_pairs = zip(x_test['user_id'], x_test['movie_id'])\n",
    "    y_pred = np.array([model(user, movie, neighbor_size) for (user, movie) in id_pairs])\n",
    "    y_true = np.array(x_test['rating'])\n",
    "    return RMSE(y_true, y_pred)"
   ]
  },
  {
   "cell_type": "code",
   "execution_count": 18,
   "metadata": {},
   "outputs": [
    {
     "data": {
      "text/plain": [
       "1.0086487677251181"
      ]
     },
     "execution_count": 18,
     "metadata": {},
     "output_type": "execute_result"
    }
   ],
   "source": [
    "# neighbor size를 정해서 예측치 계산하는 함수\n",
    "def cf_knn(user_id, movie_id, neighbor_size=0):\n",
    "    if movie_id in rating_matrix:\n",
    "        sim_scores = user_similarity[user_id].copy()\n",
    "        movie_ratings = rating_matrix[movie_id].copy()\n",
    "\n",
    "        none_rating_idx = movie_ratings[movie_ratings.isnull()].index\n",
    "\n",
    "        movie_ratings = movie_ratings.drop(none_rating_idx)\n",
    "        sim_scores = sim_scores.drop(none_rating_idx)\n",
    "\n",
    "        # neighbor size가 지정되지 않은 경우\n",
    "        if neighbor_size == 0:\n",
    "            mean_rating = np.dot(sim_scores, movie_ratings) / sim_scores.sum()\n",
    "\n",
    "        # 지정된 경우\n",
    "        else:\n",
    "            if len(sim_scores) > 1:\n",
    "                neighbor_size = min(neighbor_size, len(sim_scores))\n",
    "\n",
    "                sim_scores = np.array(sim_scores)\n",
    "                movie_ratings = np.array(movie_ratings)\n",
    "\n",
    "                user_idx = np.argsort(sim_scores)\n",
    "\n",
    "                sim_scores = sim_scores[user_idx][-neighbor_size:]\n",
    "                movie_ratings = movie_ratings[user_idx][-neighbor_size:]\n",
    "\n",
    "                mean_rating = np.dot(sim_scores, movie_ratings) / sim_scores.sum()\n",
    "\n",
    "            else:\n",
    "                mean_rating = 3.0\n",
    "\n",
    "    else:\n",
    "        mean_rating = 3.0\n",
    "\n",
    "    return mean_rating\n",
    "\n",
    "score_KNN(cf_knn, neighbor_size=30)"
   ]
  },
  {
   "cell_type": "code",
   "execution_count": 19,
   "metadata": {},
   "outputs": [
    {
     "data": {
      "text/plain": [
       "movie_id\n",
       "1293                     Ayn Rand: A Sense of Life (1997)\n",
       "1467                                     Cure, The (1995)\n",
       "1189                              That Old Feeling (1997)\n",
       "1500    Prisoner of the Mountains (Kavkazsky Plennik) ...\n",
       "318                       Everyone Says I Love You (1996)\n",
       "Name: title, dtype: object"
      ]
     },
     "execution_count": 19,
     "metadata": {},
     "output_type": "execute_result"
    }
   ],
   "source": [
    "# 주어진 사용자에 대해 추천 받기\n",
    "# 전체 데이터로 full matrix와 cosine similarity 구하기\n",
    "rating_matrix = ratings.pivot_table(values='rating', index='user_id', columns='movie_id')\n",
    "\n",
    "from sklearn.metrics.pairwise import cosine_similarity\n",
    "\n",
    "matrix_dummy = rating_matrix.copy().fillna(0)\n",
    "user_similarity = cosine_similarity(matrix_dummy, matrix_dummy)\n",
    "user_similarity = pd.DataFrame(user_similarity, index=rating_matrix.index, columns=rating_matrix.index)\n",
    "\n",
    "def recom_movie(user_id, n_items, neighbor_size=30):\n",
    "    user_movie = rating_matrix.loc[user_id].copy()\n",
    "    for movie in rating_matrix:\n",
    "        if pd.notnull(user_movie.loc[movie]):\n",
    "            user_movie.loc[movie] = 0\n",
    "        else:\n",
    "            user_movie.loc[movie] = cf_knn(user_id, movie, neighbor_size)\n",
    "    \n",
    "    movie_sort = user_movie.sort_values(ascending=False)[:n_items]\n",
    "    recom_movies = movies.loc[movie_sort.index]\n",
    "    recommendations = recom_movies['title']\n",
    "\n",
    "    return recommendations\n",
    "\n",
    "recom_movie(user_id=2, n_items=5, neighbor_size=30)"
   ]
  },
  {
   "cell_type": "markdown",
   "metadata": {},
   "source": [
    "## 3.3 최적의 이웃 크기 결정"
   ]
  },
  {
   "cell_type": "code",
   "execution_count": 20,
   "metadata": {},
   "outputs": [
    {
     "name": "stdout",
     "output_type": "stream",
     "text": [
      "Neighbor size = 10 : RMSE = 1.0249\n",
      "Neighbor size = 20 : RMSE = 1.0110\n",
      "Neighbor size = 30 : RMSE = 1.0086\n",
      "Neighbor size = 40 : RMSE = 1.0090\n",
      "Neighbor size = 50 : RMSE = 1.0096\n",
      "Neighbor size = 60 : RMSE = 1.0099\n"
     ]
    }
   ],
   "source": [
    "# 최적의 neighbor size 구하기\n",
    "# train set으로 full matrix와 cosine similarity 구하기\n",
    "rating_matrix = x_train.pivot(index='user_id', columns='movie_id', values='rating')\n",
    "\n",
    "from sklearn.metrics.pairwise import cosine_similarity\n",
    "\n",
    "matrix_dummy = rating_matrix.copy().fillna(0)\n",
    "user_similarity = cosine_similarity(matrix_dummy, matrix_dummy)\n",
    "user_similarity = pd.DataFrame(user_similarity, index=rating_matrix.index, columns=rating_matrix.index)\n",
    "\n",
    "for neighbor_size in [10, 20, 30, 40, 50, 60]:\n",
    "    print(\"Neighbor size = %d : RMSE = %.4f\"%(neighbor_size, score_KNN(cf_knn, neighbor_size)))"
   ]
  },
  {
   "cell_type": "markdown",
   "metadata": {},
   "source": [
    "## 3.4 사용자의 평가경향을 고려한 CF"
   ]
  },
  {
   "cell_type": "code",
   "execution_count": 21,
   "metadata": {},
   "outputs": [
    {
     "data": {
      "text/plain": [
       "3.657987422010662"
      ]
     },
     "execution_count": 21,
     "metadata": {},
     "output_type": "execute_result"
    }
   ],
   "source": [
    "# 모든 유저의 rating 평균과 영화의 평점편차 계산\n",
    "rating_mean = rating_matrix.mean(axis=1)\n",
    "rating_bias = (rating_matrix.T - rating_mean).T\n",
    "\n",
    "def CF_knn_bias(user_id, movie_id, neighbor_size=0):\n",
    "    if movie_id in rating_bias:\n",
    "        sim_scores = user_similarity[user_id].copy()\n",
    "        movie_ratings = rating_matrix[movie_id].copy()\n",
    "\n",
    "        none_rating_idx = movie_ratings[movie_ratings.isnull()].index\n",
    "\n",
    "        movie_ratings = movie_ratings.drop(none_rating_idx)\n",
    "        sim_scores = sim_scores.drop(none_rating_idx)\n",
    "\n",
    "        # neighbor size 지정되지 않은 경우\n",
    "        if neighbor_size == 0:\n",
    "            prediction = np.dot(sim_scores, movie_ratings) / sim_scores.sum()\n",
    "            prediction = prediction + rating_mean[user_id]\n",
    "\n",
    "        # 지정된 경우\n",
    "        else:\n",
    "            if len(sim_scores) > 1:\n",
    "                neighbor_size = min(neighbor_size, len(sim_scores))\n",
    "\n",
    "                sim_scores = np.array(sim_scores)\n",
    "                movie_ratings = np.array(movie_ratings)\n",
    "\n",
    "                user_idx = np.argsort(sim_scores)\n",
    "                \n",
    "                sim_scores = sim_scores[user_idx][-neighbor_size:]\n",
    "                movie_ratings = movie_ratings[user_idx][-neighbor_size:]\n",
    "\n",
    "                prediction = np.dot(sim_scores, movie_ratings) / sim_scores.sum()\n",
    "                prediction = prediction + rating_mean[user_id]\n",
    "            else:\n",
    "                prediction = rating_mean[user_id]\n",
    "\n",
    "    else:\n",
    "        prediction = rating_mean[user_id]\n",
    "\n",
    "    return prediction\n",
    "\n",
    "score_KNN(CF_knn_bias, 30)"
   ]
  },
  {
   "cell_type": "markdown",
   "metadata": {},
   "source": [
    "## 3.5 그 외의 CF 정확도 개선 방법"
   ]
  },
  {
   "cell_type": "code",
   "execution_count": 22,
   "metadata": {},
   "outputs": [
    {
     "data": {
      "text/plain": [
       "0.9415904217118449"
      ]
     },
     "execution_count": 22,
     "metadata": {},
     "output_type": "execute_result"
    }
   ],
   "source": [
    "# 사용자별 공통 평가 수 계산\n",
    "rating_binary1 = np.array((rating_matrix > 0).astype(float))\n",
    "rating_binary2 = rating_binary1.T\n",
    "\n",
    "counts = np.dot(rating_binary1, rating_binary2)\n",
    "counts = pd.DataFrame(counts, index=rating_matrix.index, columns=rating_matrix.index).fillna(0)\n",
    "\n",
    "def CF_knn_bias_sig(user_id, movie_id, neighbor_size=0):\n",
    "    if movie_id in rating_bias:\n",
    "\n",
    "        # 현 user와 다른 사용자 간의 유사도 가져오기\n",
    "        sim_scores = user_similarity[user_id]\n",
    "\n",
    "        # 현 movie의 평점편차 가져오기\n",
    "        movie_ratings = rating_bias[movie_id]\n",
    "\n",
    "        # 현 movie에 대한 rating이 없는 사용자 표시\n",
    "        no_rating = movie_ratings.isnull()\n",
    "\n",
    "        # 현 사용자와 다른 사용자간 공통 평가 아이템 수 가져오기 \n",
    "        common_counts = counts[user_id]\n",
    "\n",
    "        # 공통으로 평가한 영화의 수가 SIG_LEVEL보다 낮은 사용자 표시\n",
    "        low_significance = common_counts < SIG_LEVEL\n",
    "\n",
    "        # 평가를 안 하였거나, SIG_LEVEL이 기준 이하인 user 제거\n",
    "        none_rating_idx = movie_ratings[no_rating | low_significance].index\n",
    "        movie_ratings = movie_ratings.drop(none_rating_idx)\n",
    "        sim_scores = sim_scores.drop(none_rating_idx)\n",
    "\n",
    "        if neighbor_size == 0:\n",
    "            # 편차로 예측값(편차 예측값) 계산\n",
    "            prediction = np.dot(sim_scores, movie_ratings) / sim_scores.sum()\n",
    "            # 편차 예측값에 현 사용자의 평균 더하기\n",
    "            prediction = prediction + rating_mean[user_id]\n",
    "\n",
    "        else:\n",
    "            # 해당 영화를 평가한 사용자가 최소 MIN_RATINGS 이상인 경우에만 계산            \n",
    "            if len(sim_scores) > MIN_RATINGS:\n",
    "\n",
    "                # 지정된 neighbor size 값과 해당 영화를 평가한 총사용자 수 중 작은 것으로 결정\n",
    "                neighbor_size = min(neighbor_size, len(sim_scores))\n",
    "\n",
    "                # array로 바꾸기 (argsort를 사용하기 위함)\n",
    "                sim_scores = np.array(sim_scores)\n",
    "                movie_ratings = np.array(movie_ratings)\n",
    "\n",
    "                # 유사도를 순서대로 정렬\n",
    "                user_idx = np.argsort(sim_scores)\n",
    "\n",
    "                # 유사도와 rating을 neighbor size만큼 받기\n",
    "                sim_scores = sim_scores[user_idx][-neighbor_size:]\n",
    "                movie_ratings = movie_ratings[user_idx][-neighbor_size:]\n",
    "\n",
    "                # 편차로 예측치 계산\n",
    "                prediction = np.dot(sim_scores, movie_ratings) / sim_scores.sum()\n",
    "\n",
    "                # 예측값에 현 사용자의 평균 더하기\n",
    "                prediction = prediction + rating_mean[user_id]\n",
    "            else:\n",
    "                prediction = rating_mean[user_id]\n",
    "\n",
    "    else:\n",
    "        prediction = rating_mean[user_id]\n",
    "    \n",
    "    return prediction\n",
    "\n",
    "SIG_LEVEL = 3\n",
    "MIN_RATINGS = 2\n",
    "score_KNN(CF_knn_bias_sig, 30)"
   ]
  },
  {
   "cell_type": "markdown",
   "metadata": {},
   "source": [
    "## 3.6 사용자 기반 CF와 아이템 기반 CF"
   ]
  },
  {
   "cell_type": "code",
   "execution_count": 23,
   "metadata": {},
   "outputs": [],
   "source": [
    "# train 데이터로 Full matrix 구하기  \n",
    "rating_matrix = x_train.pivot(index='user_id', columns='movie_id', values='rating')"
   ]
  },
  {
   "cell_type": "code",
   "execution_count": 24,
   "metadata": {},
   "outputs": [],
   "source": [
    "# train set의 모든 가능한 아이템 pair의 Cosine similarities 계산\n",
    "from sklearn.metrics.pairwise import cosine_similarity\n",
    "\n",
    "rating_matrix_t = np.transpose(rating_matrix)\n",
    "matrix_dummy = rating_matrix_t.copy().fillna(0)\n",
    "item_similarity = cosine_similarity(matrix_dummy, matrix_dummy)\n",
    "item_similarity = pd.DataFrame(item_similarity, index=rating_matrix_t.index, \n",
    "                               columns=rating_matrix_t.index)"
   ]
  },
  {
   "cell_type": "code",
   "execution_count": 25,
   "metadata": {},
   "outputs": [
    {
     "data": {
      "text/plain": [
       "1.0146934549808586"
      ]
     },
     "execution_count": 25,
     "metadata": {},
     "output_type": "execute_result"
    }
   ],
   "source": [
    "# 주어진 영화의 (movie_id) 가중평균 rating을 계산하는 함수, \n",
    "# 가중치는 주어진 아이템과 다른 아이템 간의 유사도(item_similarity)\n",
    "def CF_IBCF(user_id, movie_id):\n",
    "    if movie_id in item_similarity:      # 현재 영화가 train set에 있는지 확인\n",
    "\n",
    "        # 현재 영화와 다른 영화의 similarity 값 가져오기\n",
    "        sim_scores = item_similarity[movie_id]\n",
    "\n",
    "        # 현 사용자의 모든 rating 값 가져오기\n",
    "        user_rating = rating_matrix_t[user_id]\n",
    "\n",
    "        # 사용자가 평가하지 않은 영화 index 가져오기\n",
    "        non_rating_idx = user_rating[user_rating.isnull()].index\n",
    "\n",
    "        # 사용자가 평가하지 않은 영화 제거\n",
    "        user_rating = user_rating.dropna()\n",
    "\n",
    "        # 사용자가 평가하지 않은 영화의 similarity 값 제거\n",
    "        sim_scores = sim_scores.drop(non_rating_idx)\n",
    "\n",
    "        # 현 영화에 대한 예상 rating 계산, 가중치는 현 영화와 사용자가 평가한 영화의 유사도\n",
    "        mean_rating = np.dot(sim_scores, user_rating) / sim_scores.sum()\n",
    "    else:\n",
    "        mean_rating = 3.0\n",
    "        \n",
    "    return mean_rating\n",
    "\n",
    "# 정확도 계산\n",
    "score(CF_IBCF)"
   ]
  },
  {
   "cell_type": "markdown",
   "metadata": {},
   "source": [
    "# 4. MF 기반 추천"
   ]
  },
  {
   "cell_type": "markdown",
   "metadata": {},
   "source": [
    "## 4.1 SGD를 사용한 MF 기본 알고리즘"
   ]
  },
  {
   "cell_type": "code",
   "execution_count": 28,
   "metadata": {},
   "outputs": [],
   "source": [
    "import numpy as np\n",
    "import pandas as pd\n",
    "\n",
    "r_cols = ['user_id', 'movie_id', 'rating', 'timestamp']\n",
    "ratings = pd.read_csv('./dataset/u.data', names=r_cols,  sep='\\t',encoding='latin-1')\n",
    "ratings = ratings[['user_id', 'movie_id', 'rating']].astype(int)            # timestamp 제거"
   ]
  },
  {
   "cell_type": "code",
   "execution_count": 29,
   "metadata": {},
   "outputs": [],
   "source": [
    "# MF class\n",
    "class MF():\n",
    "    def __init__(self, ratings, K, alpha, beta, iterations, verbose=True) -> None:\n",
    "        self.R = np.array(ratings)\n",
    "        self.num_users, self.num_items = np.shape(self.R)\n",
    "        self.K = K\n",
    "        self.alpha = alpha\n",
    "        self.beta = beta\n",
    "        self.iterations = iterations\n",
    "        self.verbose = verbose\n",
    "\n",
    "    # RMSE 계산\n",
    "    def rmse(self):\n",
    "        xs, ys = self.R.nonzero()\n",
    "        self.predictions = []\n",
    "        self.errors = []\n",
    "        for x, y in zip(xs, ys):\n",
    "            prediction = self.get_prediction(x, y)\n",
    "            self.predictions.append(prediction)\n",
    "            self.errors.append(self.R[x, y] - prediction)\n",
    "        self.predictions = np.array(self.predictions)\n",
    "        self.errors = np.array(self.errors)\n",
    "        return np.sqrt(np.mean(self.errors**2))\n",
    "\n",
    "    def train(self):\n",
    "        # user, item feature matrix 초기화\n",
    "        self.P = np.random.normal(scale=1./self.K, size=(self.num_users, self.K))\n",
    "        self.Q = np.random.normal(scale=1./self.K, size=(self.num_items, self.K))\n",
    "\n",
    "        # bias terms 초기화\n",
    "        self.b_u = np.zeros(self.num_users)\n",
    "        self.b_d = np.zeros(self.num_items)\n",
    "        self.b = np.mean(self.R[self.R.nonzero()])\n",
    "\n",
    "        # training samples lists\n",
    "        rows, columns = self.R.nonzero()\n",
    "        self.samples = [(i, j, self.R[i, j]) for i, j in zip(rows, columns)]\n",
    "\n",
    "        # SGD를 이용한 R matrix 값 갱신 수행\n",
    "        training_process = []\n",
    "        for i in range(self.iterations):\n",
    "            np.random.shuffle(self.samples)\n",
    "            self.sgd()\n",
    "            rmse = self.rmse()\n",
    "            training_process.append((i+1, rmse))\n",
    "            if self.verbose:\n",
    "                if (i+1) % 10 == 0:\n",
    "                    print('Iteration: %d ; Train RMSE = %.4f'%(i+1, rmse))\n",
    "\n",
    "        return training_process\n",
    "\n",
    "    # rating prediction for user i and item j\n",
    "    def get_prediction(self, i, j):\n",
    "        prediction = self.b + self.b_u[i] + self.b_d[j] + self.P[i, :].dot(self.Q[j, :].T)\n",
    "        return prediction\n",
    "\n",
    "    # SGD\n",
    "    def sgd(self):\n",
    "        for i, j, r in self.samples:\n",
    "            prediction = self.get_prediction(i, j)\n",
    "            e = (r - prediction)\n",
    "\n",
    "            self.b_u[i] += self.alpha * (e - self.beta * self.b_u[i])\n",
    "            self.b_d[j] += self.alpha * (e - self.beta * self.b_d[j])\n",
    "\n",
    "            self.P[i, :] += self.alpha * (e * self.Q[j, :] - self.beta * self.P[i, :])\n",
    "            self.Q[j, :] += self.alpha * (e * self.P[i, :] - self.beta * self.Q[j, :])"
   ]
  },
  {
   "cell_type": "code",
   "execution_count": 30,
   "metadata": {},
   "outputs": [
    {
     "name": "stdout",
     "output_type": "stream",
     "text": [
      "Iteration: 10 ; Train RMSE = 0.9585\n",
      "Iteration: 20 ; Train RMSE = 0.9374\n",
      "Iteration: 30 ; Train RMSE = 0.9281\n",
      "Iteration: 40 ; Train RMSE = 0.9226\n",
      "Iteration: 50 ; Train RMSE = 0.9185\n",
      "Iteration: 60 ; Train RMSE = 0.9148\n",
      "Iteration: 70 ; Train RMSE = 0.9103\n",
      "Iteration: 80 ; Train RMSE = 0.9043\n",
      "Iteration: 90 ; Train RMSE = 0.8959\n",
      "Iteration: 100 ; Train RMSE = 0.8848\n"
     ]
    }
   ],
   "source": [
    "# 전체 데이터 사용 MF\n",
    "R_temp = ratings.pivot(index='user_id', columns='movie_id', values='rating').fillna(0)\n",
    "mf = MF(R_temp, K=30, alpha=0.001, beta=0.02, iterations=100, verbose=True)\n",
    "train_process = mf.train()"
   ]
  },
  {
   "cell_type": "markdown",
   "metadata": {},
   "source": [
    "## 4.2 train/test 분리 MF 알고리즘"
   ]
  },
  {
   "cell_type": "code",
   "execution_count": 31,
   "metadata": {},
   "outputs": [],
   "source": [
    "# train, test dataset\n",
    "from sklearn.utils import shuffle\n",
    "\n",
    "TRAIN_SIZE = 0.75\n",
    "ratings = shuffle(ratings, random_state=1)\n",
    "cutoff = int(TRAIN_SIZE * len(ratings))\n",
    "ratings_train = ratings.iloc[:cutoff]\n",
    "ratings_test = ratings.iloc[cutoff:]"
   ]
  },
  {
   "cell_type": "code",
   "execution_count": 32,
   "metadata": {},
   "outputs": [],
   "source": [
    "# New MF class for training & testing\n",
    "class NEW_MF():\n",
    "    def __init__(self, ratings, K, alpha, beta, iterations, verbose=True) -> None:\n",
    "        pass"
   ]
  },
  {
   "cell_type": "markdown",
   "metadata": {},
   "source": [
    "# 5. Surprise 패키지 사용"
   ]
  },
  {
   "cell_type": "markdown",
   "metadata": {},
   "source": [
    "## 5.1 Surprise 기본 활용 방법"
   ]
  },
  {
   "cell_type": "code",
   "execution_count": 33,
   "metadata": {},
   "outputs": [],
   "source": [
    "import numpy as np\n",
    "import pandas as pd\n",
    "\n",
    "# 필요한 Surprise 알고리즘 불러오기\n",
    "from surprise import BaselineOnly \n",
    "from surprise import KNNWithMeans\n",
    "from surprise import SVD\n",
    "from surprise import SVDpp\n",
    "from surprise import NMF\n",
    "from surprise import Dataset\n",
    "from surprise import accuracy\n",
    "from surprise import Reader\n",
    "from surprise.model_selection import cross_validate\n",
    "from surprise.model_selection import train_test_split"
   ]
  },
  {
   "cell_type": "code",
   "execution_count": 47,
   "metadata": {},
   "outputs": [],
   "source": [
    "# load dataset\n",
    "import os\n",
    "\n",
    "file_path = os.path.expanduser('./surprise_data/ml-100k/u.data')\n",
    "reader = Reader(line_format='user item rating timestamp', sep='\\t')\n",
    "\n",
    "data = Dataset.load_from_file(file_path, reader=reader)"
   ]
  },
  {
   "cell_type": "code",
   "execution_count": 49,
   "metadata": {},
   "outputs": [
    {
     "name": "stdout",
     "output_type": "stream",
     "text": [
      "Computing the msd similarity matrix...\n",
      "Done computing similarity matrix.\n",
      "RMSE: 0.9703\n"
     ]
    },
    {
     "data": {
      "text/plain": [
       "0.9703034240555881"
      ]
     },
     "execution_count": 49,
     "metadata": {},
     "output_type": "execute_result"
    }
   ],
   "source": [
    "trainset, testset = train_test_split(data, test_size=0.5)\n",
    "\n",
    "algo = KNNWithMeans()\n",
    "algo.fit(trainset)\n",
    "predictions = algo.test(testset)\n",
    "accuracy.rmse(predictions)"
   ]
  },
  {
   "cell_type": "markdown",
   "metadata": {},
   "source": [
    "## 5.2 알고리즘 비교"
   ]
  },
  {
   "cell_type": "code",
   "execution_count": 50,
   "metadata": {},
   "outputs": [
    {
     "name": "stdout",
     "output_type": "stream",
     "text": [
      "Estimating biases using als...\n",
      "RMSE: 0.9550\n",
      "Computing the msd similarity matrix...\n",
      "Done computing similarity matrix.\n",
      "RMSE: 0.9703\n",
      "RMSE: 0.9597\n",
      "RMSE: 0.9412\n"
     ]
    }
   ],
   "source": [
    "# compare algorithms\n",
    "algorithms = [BaselineOnly, KNNWithMeans, SVD, SVDpp]\n",
    "names = []\n",
    "results = []\n",
    "\n",
    "for option in algorithms:\n",
    "    algo = option()\n",
    "    names.append(option.__name__) # 알고리즘 이름\n",
    "    algo.fit(trainset)\n",
    "    predictions = algo.test(testset)\n",
    "    results.append(accuracy.rmse(predictions))\n",
    "\n",
    "names = np.array(names)\n",
    "results = np.array(results)"
   ]
  },
  {
   "cell_type": "code",
   "execution_count": 51,
   "metadata": {},
   "outputs": [
    {
     "data": {
      "text/plain": [
       "array([0.94116791, 0.95502607, 0.95966445, 0.97030342])"
      ]
     },
     "execution_count": 51,
     "metadata": {},
     "output_type": "execute_result"
    },
    {
     "data": {
      "image/png": "[encoded data removed]",
      "text/plain": [
       "<Figure size 432x288 with 1 Axes>"
      ]
     },
     "metadata": {
      "needs_background": "light"
     },
     "output_type": "display_data"
    }
   ],
   "source": [
    "import matplotlib.pyplot as plt\n",
    "\n",
    "index = np.argsort(results)\n",
    "plt.ylim(0.8, 1)\n",
    "plt.plot(names[index], results[index])\n",
    "results[index]"
   ]
  },
  {
   "cell_type": "markdown",
   "metadata": {},
   "source": [
    "## 5.3 알고리즘 옵션 지정"
   ]
  },
  {
   "cell_type": "code",
   "execution_count": 52,
   "metadata": {},
   "outputs": [
    {
     "name": "stdout",
     "output_type": "stream",
     "text": [
      "Estimating biases using als...\n",
      "Computing the pearson_baseline similarity matrix...\n",
      "Done computing similarity matrix.\n",
      "RMSE: 0.9704\n"
     ]
    },
    {
     "data": {
      "text/plain": [
       "0.9703841087419602"
      ]
     },
     "execution_count": 52,
     "metadata": {},
     "output_type": "execute_result"
    }
   ],
   "source": [
    "# 알고리즘 옵션 변경, 정확도 계산\n",
    "sim_options = {'name': 'pearson_baseline', 'user_based': True}\n",
    "\n",
    "algo = KNNWithMeans(k=30, sim_options=sim_options)\n",
    "algo.fit(trainset)\n",
    "predictions = algo.test(testset)\n",
    "accuracy.rmse(predictions)"
   ]
  },
  {
   "cell_type": "markdown",
   "metadata": {},
   "source": [
    "## 5.4 다양한 조건의 비교"
   ]
  },
  {
   "cell_type": "code",
   "execution_count": 53,
   "metadata": {},
   "outputs": [
    {
     "name": "stdout",
     "output_type": "stream",
     "text": [
      "Estimating biases using als...\n",
      "Computing the pearson_baseline similarity matrix...\n",
      "Done computing similarity matrix.\n",
      "RMSE: 0.9819\n",
      "Estimating biases using als...\n",
      "Computing the pearson_baseline similarity matrix...\n",
      "Done computing similarity matrix.\n",
      "RMSE: 0.9717\n",
      "Estimating biases using als...\n",
      "Computing the pearson_baseline similarity matrix...\n",
      "Done computing similarity matrix.\n",
      "RMSE: 0.9704\n",
      "Estimating biases using als...\n",
      "Computing the pearson_baseline similarity matrix...\n",
      "Done computing similarity matrix.\n",
      "RMSE: 0.9701\n",
      "Estimating biases using als...\n",
      "Computing the pearson_baseline similarity matrix...\n",
      "Done computing similarity matrix.\n",
      "RMSE: 0.9701\n",
      "Estimating biases using als...\n",
      "Computing the pearson_baseline similarity matrix...\n",
      "Done computing similarity matrix.\n",
      "RMSE: 0.9701\n"
     ]
    },
    {
     "data": {
      "text/plain": [
       "[[10, 0.9818706950416946],\n",
       " [20, 0.9716698867134536],\n",
       " [30, 0.9703841087419602],\n",
       " [40, 0.9701247487287492],\n",
       " [50, 0.9700565896462067],\n",
       " [60, 0.9700885841390458]]"
      ]
     },
     "execution_count": 53,
     "metadata": {},
     "output_type": "execute_result"
    }
   ],
   "source": [
    "# 다양한 neighbor size 비교\n",
    "result = []\n",
    "for neighbor_size in (10, 20, 30, 40, 50, 60):\n",
    "    algo = KNNWithMeans(k=neighbor_size, sim_options={'name': 'pearson_baseline', 'user_based': True})\n",
    "    algo.fit(trainset)\n",
    "    predictions = algo.test(testset)\n",
    "    result.append([neighbor_size, accuracy.rmse(predictions)])\n",
    "\n",
    "result"
   ]
  },
  {
   "cell_type": "code",
   "execution_count": 54,
   "metadata": {},
   "outputs": [
    {
     "name": "stdout",
     "output_type": "stream",
     "text": [
      "Estimating biases using als...\n",
      "Computing the pearson_baseline similarity matrix...\n",
      "Done computing similarity matrix.\n",
      "Estimating biases using als...\n",
      "Computing the pearson_baseline similarity matrix...\n",
      "Done computing similarity matrix.\n",
      "Estimating biases using als...\n",
      "Computing the pearson_baseline similarity matrix...\n",
      "Done computing similarity matrix.\n",
      "Estimating biases using als...\n",
      "Computing the pearson_baseline similarity matrix...\n",
      "Done computing similarity matrix.\n",
      "Estimating biases using als...\n",
      "Computing the pearson_baseline similarity matrix...\n",
      "Done computing similarity matrix.\n",
      "Estimating biases using als...\n",
      "Computing the pearson_baseline similarity matrix...\n",
      "Done computing similarity matrix.\n",
      "Estimating biases using als...\n",
      "Computing the pearson_baseline similarity matrix...\n",
      "Done computing similarity matrix.\n",
      "Estimating biases using als...\n",
      "Computing the pearson_baseline similarity matrix...\n",
      "Done computing similarity matrix.\n",
      "Computing the cosine similarity matrix...\n",
      "Done computing similarity matrix.\n",
      "Computing the cosine similarity matrix...\n",
      "Done computing similarity matrix.\n",
      "Computing the cosine similarity matrix...\n",
      "Done computing similarity matrix.\n",
      "Computing the cosine similarity matrix...\n",
      "Done computing similarity matrix.\n",
      "Computing the cosine similarity matrix...\n",
      "Done computing similarity matrix.\n",
      "Computing the cosine similarity matrix...\n",
      "Done computing similarity matrix.\n",
      "Computing the cosine similarity matrix...\n",
      "Done computing similarity matrix.\n",
      "Computing the cosine similarity matrix...\n",
      "Done computing similarity matrix.\n",
      "Estimating biases using als...\n",
      "Computing the pearson_baseline similarity matrix...\n",
      "Done computing similarity matrix.\n",
      "Estimating biases using als...\n",
      "Computing the pearson_baseline similarity matrix...\n",
      "Done computing similarity matrix.\n",
      "Estimating biases using als...\n",
      "Computing the pearson_baseline similarity matrix...\n",
      "Done computing similarity matrix.\n",
      "Estimating biases using als...\n",
      "Computing the pearson_baseline similarity matrix...\n",
      "Done computing similarity matrix.\n",
      "Estimating biases using als...\n",
      "Computing the pearson_baseline similarity matrix...\n",
      "Done computing similarity matrix.\n",
      "Estimating biases using als...\n",
      "Computing the pearson_baseline similarity matrix...\n",
      "Done computing similarity matrix.\n",
      "Estimating biases using als...\n",
      "Computing the pearson_baseline similarity matrix...\n",
      "Done computing similarity matrix.\n",
      "Estimating biases using als...\n",
      "Computing the pearson_baseline similarity matrix...\n",
      "Done computing similarity matrix.\n",
      "Computing the cosine similarity matrix...\n",
      "Done computing similarity matrix.\n",
      "Computing the cosine similarity matrix...\n",
      "Done computing similarity matrix.\n",
      "Computing the cosine similarity matrix...\n",
      "Done computing similarity matrix.\n",
      "Computing the cosine similarity matrix...\n",
      "Done computing similarity matrix.\n",
      "Computing the cosine similarity matrix...\n",
      "Done computing similarity matrix.\n",
      "Computing the cosine similarity matrix...\n",
      "Done computing similarity matrix.\n",
      "Computing the cosine similarity matrix...\n",
      "Done computing similarity matrix.\n",
      "Computing the cosine similarity matrix...\n",
      "Done computing similarity matrix.\n",
      "Estimating biases using als...\n",
      "Computing the pearson_baseline similarity matrix...\n",
      "Done computing similarity matrix.\n",
      "Estimating biases using als...\n",
      "Computing the pearson_baseline similarity matrix...\n",
      "Done computing similarity matrix.\n",
      "Estimating biases using als...\n",
      "Computing the pearson_baseline similarity matrix...\n",
      "Done computing similarity matrix.\n",
      "Estimating biases using als...\n",
      "Computing the pearson_baseline similarity matrix...\n",
      "Done computing similarity matrix.\n",
      "Estimating biases using als...\n",
      "Computing the pearson_baseline similarity matrix...\n",
      "Done computing similarity matrix.\n",
      "Estimating biases using als...\n",
      "Computing the pearson_baseline similarity matrix...\n",
      "Done computing similarity matrix.\n",
      "Estimating biases using als...\n",
      "Computing the pearson_baseline similarity matrix...\n",
      "Done computing similarity matrix.\n",
      "Estimating biases using als...\n",
      "Computing the pearson_baseline similarity matrix...\n",
      "Done computing similarity matrix.\n",
      "Computing the cosine similarity matrix...\n",
      "Done computing similarity matrix.\n",
      "Computing the cosine similarity matrix...\n",
      "Done computing similarity matrix.\n",
      "Computing the cosine similarity matrix...\n",
      "Done computing similarity matrix.\n",
      "Computing the cosine similarity matrix...\n",
      "Done computing similarity matrix.\n",
      "Computing the cosine similarity matrix...\n",
      "Done computing similarity matrix.\n",
      "Computing the cosine similarity matrix...\n",
      "Done computing similarity matrix.\n",
      "Computing the cosine similarity matrix...\n",
      "Done computing similarity matrix.\n",
      "Computing the cosine similarity matrix...\n",
      "Done computing similarity matrix.\n",
      "Estimating biases using als...\n",
      "Computing the pearson_baseline similarity matrix...\n",
      "Done computing similarity matrix.\n",
      "Estimating biases using als...\n",
      "Computing the pearson_baseline similarity matrix...\n",
      "Done computing similarity matrix.\n",
      "Estimating biases using als...\n",
      "Computing the pearson_baseline similarity matrix...\n",
      "Done computing similarity matrix.\n",
      "Estimating biases using als...\n",
      "Computing the pearson_baseline similarity matrix...\n",
      "Done computing similarity matrix.\n",
      "Estimating biases using als...\n",
      "Computing the pearson_baseline similarity matrix...\n",
      "Done computing similarity matrix.\n",
      "Estimating biases using als...\n",
      "Computing the pearson_baseline similarity matrix...\n",
      "Done computing similarity matrix.\n",
      "Estimating biases using als...\n",
      "Computing the pearson_baseline similarity matrix...\n",
      "Done computing similarity matrix.\n",
      "Estimating biases using als...\n",
      "Computing the pearson_baseline similarity matrix...\n",
      "Done computing similarity matrix.\n",
      "Computing the cosine similarity matrix...\n",
      "Done computing similarity matrix.\n",
      "Computing the cosine similarity matrix...\n",
      "Done computing similarity matrix.\n",
      "Computing the cosine similarity matrix...\n",
      "Done computing similarity matrix.\n",
      "Computing the cosine similarity matrix...\n",
      "Done computing similarity matrix.\n",
      "Computing the cosine similarity matrix...\n",
      "Done computing similarity matrix.\n",
      "Computing the cosine similarity matrix...\n",
      "Done computing similarity matrix.\n",
      "Computing the cosine similarity matrix...\n",
      "Done computing similarity matrix.\n",
      "Computing the cosine similarity matrix...\n",
      "Done computing similarity matrix.\n",
      "0.9251262313457717\n",
      "{'k': 25, 'sim_options': {'name': 'pearson_baseline', 'user_based': False}}\n"
     ]
    }
   ],
   "source": [
    "from surprise.model_selection import GridSearchCV\n",
    "\n",
    "# KNN 다양한 파라미터 비교\n",
    "param_grid = {'k': [5, 10, 15, 25],\n",
    "              'sim_options': {'name': ['pearson_baseline', 'cosine'],\n",
    "                              'user_based': [True, False]}\n",
    "              }\n",
    "gs = GridSearchCV(KNNWithMeans, param_grid, measures=['rmse'], cv=4)\n",
    "gs.fit(data)\n",
    "\n",
    "# 최적 RMSE 출력\n",
    "print(gs.best_score['rmse'])\n",
    "\n",
    "# 최적 RMSE의 parameter\n",
    "print(gs.best_params['rmse'])"
   ]
  },
  {
   "cell_type": "code",
   "execution_count": 55,
   "metadata": {},
   "outputs": [
    {
     "name": "stdout",
     "output_type": "stream",
     "text": [
      "0.9133225078810472\n",
      "{'n_epochs': 80, 'lr_all': 0.005, 'reg_all': 0.1}\n"
     ]
    }
   ],
   "source": [
    "# SVD 다양한 파라메터 비교\n",
    "from surprise.model_selection import GridSearchCV\n",
    "param_grid = {'n_epochs': [70, 80, 90],\n",
    "              'lr_all': [0.005, 0.006, 0.007],\n",
    "              'reg_all': [0.05, 0.07, 0.1]}\n",
    "gs = GridSearchCV(SVD, param_grid, measures=['rmse'], cv=4)\n",
    "gs.fit(data)\n",
    "\n",
    "# 최적 RMSE 출력\n",
    "print(gs.best_score['rmse'])\n",
    "\n",
    "# 최적 RMSE의 parameter\n",
    "print(gs.best_params['rmse'])"
   ]
  },
  {
   "cell_type": "markdown",
   "metadata": {},
   "source": [
    "## 5.5 외부데이터 사용"
   ]
  },
  {
   "cell_type": "code",
   "execution_count": 56,
   "metadata": {},
   "outputs": [
    {
     "name": "stdout",
     "output_type": "stream",
     "text": [
      "Computing the msd similarity matrix...\n",
      "Done computing similarity matrix.\n",
      "RMSE: 0.9469\n"
     ]
    },
    {
     "data": {
      "text/plain": [
       "0.9469055309457518"
      ]
     },
     "execution_count": 56,
     "metadata": {},
     "output_type": "execute_result"
    }
   ],
   "source": [
    "# csv 파일에서 불러오기\n",
    "r_cols = ['user_id', 'movie_id', 'rating', 'timestamp']\n",
    "ratings = pd.read_csv('./dataset/u.data', names=r_cols, sep='\\t', encoding='latin-1')\n",
    "reader = Reader(rating_scale=(1,5))\n",
    "data = Dataset.load_from_df(ratings[['user_id', 'movie_id', 'rating']], reader)\n",
    "\n",
    "# Train/Test 분리 \n",
    "trainset, testset = train_test_split(data, test_size=0.25)\n",
    "\n",
    "# 정확도 계산 \n",
    "algo = KNNWithMeans()\n",
    "algo.fit(trainset)\n",
    "predictions = algo.test(testset)\n",
    "accuracy.rmse(predictions)"
   ]
  },
  {
   "cell_type": "markdown",
   "metadata": {},
   "source": [
    "# 6. 딥러닝을 사용한 추천 시스템"
   ]
  },
  {
   "cell_type": "markdown",
   "metadata": {},
   "source": [
    "## 6.1 Keras로 MF 구현하기"
   ]
  },
  {
   "cell_type": "code",
   "execution_count": 1,
   "metadata": {},
   "outputs": [],
   "source": [
    "import pandas as pd\n",
    "import numpy as np\n",
    "\n",
    "# csv 파일에서 불러오기\n",
    "r_cols = ['user_id', 'movie_id', 'rating', 'timestamp']\n",
    "ratings = pd.read_csv('./dataset/u.data', names=r_cols,  sep='\\t',encoding='latin-1')\n",
    "ratings = ratings[['user_id', 'movie_id', 'rating']].astype(int)            # timestamp 제거"
   ]
  },
  {
   "cell_type": "code",
   "execution_count": 2,
   "metadata": {},
   "outputs": [],
   "source": [
    "# train test 분리\n",
    "from sklearn.utils import shuffle\n",
    "\n",
    "TRAIN_SIZE = 0.75\n",
    "ratings = shuffle(ratings)\n",
    "cutoff = int(TRAIN_SIZE * len(ratings))\n",
    "ratings_train = ratings.iloc[:cutoff]\n",
    "ratings_test = ratings.iloc[cutoff:]"
   ]
  },
  {
   "cell_type": "code",
   "execution_count": 3,
   "metadata": {},
   "outputs": [],
   "source": [
    "import tensorflow as tf\n",
    "from tensorflow.keras import layers\n",
    "from tensorflow.keras.models import Model\n",
    "from tensorflow.keras.layers import Input, Embedding, Dot, Add, Flatten\n",
    "from tensorflow.keras.regularizers import l2\n",
    "from tensorflow.keras.optimizers import SGD, Adamax"
   ]
  },
  {
   "cell_type": "code",
   "execution_count": 4,
   "metadata": {},
   "outputs": [],
   "source": [
    "# Variable 초기화 \n",
    "K = 200                             # Latent factor 수 \n",
    "mu = ratings_train.rating.mean()    # 전체 평균 \n",
    "M = ratings.user_id.max() + 1       # Number of users\n",
    "N = ratings.movie_id.max() + 1      # Number of movies"
   ]
  },
  {
   "cell_type": "code",
   "execution_count": 5,
   "metadata": {},
   "outputs": [],
   "source": [
    "# Defining RMSE measure\n",
    "def RMSE(y_true, y_pred):\n",
    "    return tf.sqrt(tf.reduce_mean(tf.square(y_true - y_pred)))"
   ]
  },
  {
   "cell_type": "code",
   "execution_count": 9,
   "metadata": {},
   "outputs": [],
   "source": [
    "# Keras model\n",
    "user = Input(shape=(1, ))\n",
    "item = Input(shape=(1, ))\n",
    "\n",
    "P_embedding = Embedding(M, K, embeddings_regularizer=l2())(user)\n",
    "Q_embedding = Embedding(N, K, embeddings_regularizer=l2())(item)\n",
    "\n",
    "user_bias = Embedding(M, 1, embeddings_regularizer=l2())(user)\n",
    "item_bias = Embedding(N, 1, embeddings_regularizer=l2())(item)"
   ]
  },
  {
   "cell_type": "code",
   "execution_count": 10,
   "metadata": {},
   "outputs": [
    {
     "name": "stdout",
     "output_type": "stream",
     "text": [
      "Model: \"model_1\"\n",
      "__________________________________________________________________________________________________\n",
      " Layer (type)                   Output Shape         Param #     Connected to                     \n",
      "==================================================================================================\n",
      " input_5 (InputLayer)           [(None, 1)]          0           []                               \n",
      "                                                                                                  \n",
      " input_6 (InputLayer)           [(None, 1)]          0           []                               \n",
      "                                                                                                  \n",
      " embedding_4 (Embedding)        (None, 1, 200)       188800      ['input_5[0][0]']                \n",
      "                                                                                                  \n",
      " embedding_5 (Embedding)        (None, 1, 200)       336600      ['input_6[0][0]']                \n",
      "                                                                                                  \n",
      " dot_1 (Dot)                    (None, 1, 1)         0           ['embedding_4[0][0]',            \n",
      "                                                                  'embedding_5[0][0]']            \n",
      "                                                                                                  \n",
      " embedding_6 (Embedding)        (None, 1, 1)         944         ['input_5[0][0]']                \n",
      "                                                                                                  \n",
      " embedding_7 (Embedding)        (None, 1, 1)         1683        ['input_6[0][0]']                \n",
      "                                                                                                  \n",
      " add_1 (Add)                    (None, 1, 1)         0           ['dot_1[0][0]',                  \n",
      "                                                                  'embedding_6[0][0]',            \n",
      "                                                                  'embedding_7[0][0]']            \n",
      "                                                                                                  \n",
      " flatten_1 (Flatten)            (None, 1)            0           ['add_1[0][0]']                  \n",
      "                                                                                                  \n",
      "==================================================================================================\n",
      "Total params: 528,027\n",
      "Trainable params: 528,027\n",
      "Non-trainable params: 0\n",
      "__________________________________________________________________________________________________\n"
     ]
    }
   ],
   "source": [
    "# R = Dot(axes=2) ([P_embedding, Q_embedding)\n",
    "R = layers.dot([P_embedding, Q_embedding], axes=2)\n",
    "R = layers.add([R, user_bias, item_bias])\n",
    "R = Flatten()(R)\n",
    "\n",
    "# model setting\n",
    "model = Model(inputs=[user, item], outputs=R)\n",
    "model.compile(loss=RMSE, optimizer=SGD(), metrics=[RMSE])\n",
    "\n",
    "model.summary()"
   ]
  },
  {
   "cell_type": "code",
   "execution_count": 11,
   "metadata": {},
   "outputs": [
    {
     "name": "stdout",
     "output_type": "stream",
     "text": [
      "Epoch 1/60\n",
      "293/293 [==============================] - 2s 6ms/step - loss: 5.2823 - RMSE: 1.1236 - val_loss: 5.0473 - val_RMSE: 1.1281\n",
      "Epoch 2/60\n",
      "293/293 [==============================] - 1s 5ms/step - loss: 4.8204 - RMSE: 1.1217 - val_loss: 4.6120 - val_RMSE: 1.1262\n",
      "Epoch 3/60\n",
      "293/293 [==============================] - 1s 5ms/step - loss: 4.4094 - RMSE: 1.1197 - val_loss: 4.2249 - val_RMSE: 1.1244\n",
      "Epoch 4/60\n",
      "293/293 [==============================] - 2s 5ms/step - loss: 4.0440 - RMSE: 1.1179 - val_loss: 3.8806 - val_RMSE: 1.1228\n",
      "Epoch 5/60\n",
      "293/293 [==============================] - 2s 5ms/step - loss: 3.7191 - RMSE: 1.1164 - val_loss: 3.5745 - val_RMSE: 1.1213\n",
      "Epoch 6/60\n",
      "293/293 [==============================] - 2s 6ms/step - loss: 3.4302 - RMSE: 1.1149 - val_loss: 3.3022 - val_RMSE: 1.1198\n",
      "Epoch 7/60\n",
      "293/293 [==============================] - 1s 5ms/step - loss: 3.1732 - RMSE: 1.1135 - val_loss: 3.0601 - val_RMSE: 1.1185\n",
      "Epoch 8/60\n",
      "293/293 [==============================] - 1s 5ms/step - loss: 2.9446 - RMSE: 1.1121 - val_loss: 2.8448 - val_RMSE: 1.1173\n",
      "Epoch 9/60\n",
      "293/293 [==============================] - 1s 5ms/step - loss: 2.7414 - RMSE: 1.1110 - val_loss: 2.6533 - val_RMSE: 1.1162\n",
      "Epoch 10/60\n",
      "293/293 [==============================] - 1s 5ms/step - loss: 2.5606 - RMSE: 1.1098 - val_loss: 2.4830 - val_RMSE: 1.1151\n",
      "Epoch 11/60\n",
      "293/293 [==============================] - 1s 5ms/step - loss: 2.3997 - RMSE: 1.1087 - val_loss: 2.3315 - val_RMSE: 1.1142\n",
      "Epoch 12/60\n",
      "293/293 [==============================] - 1s 5ms/step - loss: 2.2569 - RMSE: 1.1078 - val_loss: 2.1968 - val_RMSE: 1.1133\n",
      "Epoch 13/60\n",
      "293/293 [==============================] - 2s 5ms/step - loss: 2.1297 - RMSE: 1.1069 - val_loss: 2.0770 - val_RMSE: 1.1124\n",
      "Epoch 14/60\n",
      "293/293 [==============================] - 2s 5ms/step - loss: 2.0167 - RMSE: 1.1061 - val_loss: 1.9705 - val_RMSE: 1.1116\n",
      "Epoch 15/60\n",
      "293/293 [==============================] - 2s 5ms/step - loss: 1.9161 - RMSE: 1.1053 - val_loss: 1.8758 - val_RMSE: 1.1109\n",
      "Epoch 16/60\n",
      "293/293 [==============================] - 1s 5ms/step - loss: 1.8266 - RMSE: 1.1045 - val_loss: 1.7915 - val_RMSE: 1.1102\n",
      "Epoch 17/60\n",
      "293/293 [==============================] - 1s 5ms/step - loss: 1.7471 - RMSE: 1.1039 - val_loss: 1.7166 - val_RMSE: 1.1096\n",
      "Epoch 18/60\n",
      "293/293 [==============================] - 2s 5ms/step - loss: 1.6764 - RMSE: 1.1033 - val_loss: 1.6500 - val_RMSE: 1.1090\n",
      "Epoch 19/60\n",
      "293/293 [==============================] - 1s 5ms/step - loss: 1.6136 - RMSE: 1.1028 - val_loss: 1.5907 - val_RMSE: 1.1084\n",
      "Epoch 20/60\n",
      "293/293 [==============================] - 1s 5ms/step - loss: 1.5575 - RMSE: 1.1021 - val_loss: 1.5380 - val_RMSE: 1.1079\n",
      "Epoch 21/60\n",
      "293/293 [==============================] - 1s 5ms/step - loss: 1.5078 - RMSE: 1.1016 - val_loss: 1.4911 - val_RMSE: 1.1074\n",
      "Epoch 22/60\n",
      "293/293 [==============================] - 1s 5ms/step - loss: 1.4635 - RMSE: 1.1011 - val_loss: 1.4494 - val_RMSE: 1.1070\n",
      "Epoch 23/60\n",
      "293/293 [==============================] - 1s 5ms/step - loss: 1.4243 - RMSE: 1.1008 - val_loss: 1.4124 - val_RMSE: 1.1066\n",
      "Epoch 24/60\n",
      "293/293 [==============================] - 1s 5ms/step - loss: 1.3892 - RMSE: 1.1003 - val_loss: 1.3794 - val_RMSE: 1.1062\n",
      "Epoch 25/60\n",
      "293/293 [==============================] - 1s 5ms/step - loss: 1.3582 - RMSE: 1.1000 - val_loss: 1.3501 - val_RMSE: 1.1058\n",
      "Epoch 26/60\n",
      "293/293 [==============================] - 1s 5ms/step - loss: 1.3304 - RMSE: 1.0996 - val_loss: 1.3240 - val_RMSE: 1.1055\n",
      "Epoch 27/60\n",
      "293/293 [==============================] - 1s 5ms/step - loss: 1.3057 - RMSE: 1.0991 - val_loss: 1.3008 - val_RMSE: 1.1052\n",
      "Epoch 28/60\n",
      "293/293 [==============================] - 2s 5ms/step - loss: 1.2839 - RMSE: 1.0989 - val_loss: 1.2802 - val_RMSE: 1.1049\n",
      "Epoch 29/60\n",
      "293/293 [==============================] - 2s 6ms/step - loss: 1.2646 - RMSE: 1.0987 - val_loss: 1.2619 - val_RMSE: 1.1046\n",
      "Epoch 30/60\n",
      "293/293 [==============================] - 1s 5ms/step - loss: 1.2470 - RMSE: 1.0982 - val_loss: 1.2456 - val_RMSE: 1.1043\n",
      "Epoch 31/60\n",
      "293/293 [==============================] - 2s 5ms/step - loss: 1.2317 - RMSE: 1.0980 - val_loss: 1.2311 - val_RMSE: 1.1041\n",
      "Epoch 32/60\n",
      "293/293 [==============================] - 2s 6ms/step - loss: 1.2181 - RMSE: 1.0978 - val_loss: 1.2182 - val_RMSE: 1.1038\n",
      "Epoch 33/60\n",
      "293/293 [==============================] - 1s 5ms/step - loss: 1.2058 - RMSE: 1.0975 - val_loss: 1.2067 - val_RMSE: 1.1036\n",
      "Epoch 34/60\n",
      "293/293 [==============================] - 2s 5ms/step - loss: 1.1951 - RMSE: 1.0974 - val_loss: 1.1965 - val_RMSE: 1.1034\n",
      "Epoch 35/60\n",
      "293/293 [==============================] - 1s 5ms/step - loss: 1.1853 - RMSE: 1.0971 - val_loss: 1.1874 - val_RMSE: 1.1032\n",
      "Epoch 36/60\n",
      "293/293 [==============================] - 2s 5ms/step - loss: 1.1769 - RMSE: 1.0970 - val_loss: 1.1793 - val_RMSE: 1.1031\n",
      "Epoch 37/60\n",
      "293/293 [==============================] - 1s 5ms/step - loss: 1.1692 - RMSE: 1.0968 - val_loss: 1.1722 - val_RMSE: 1.1029\n",
      "Epoch 38/60\n",
      "293/293 [==============================] - 1s 5ms/step - loss: 1.1626 - RMSE: 1.0968 - val_loss: 1.1658 - val_RMSE: 1.1028\n",
      "Epoch 39/60\n",
      "293/293 [==============================] - 1s 5ms/step - loss: 1.1563 - RMSE: 1.0964 - val_loss: 1.1601 - val_RMSE: 1.1026\n",
      "Epoch 40/60\n",
      "293/293 [==============================] - 1s 5ms/step - loss: 1.1511 - RMSE: 1.0964 - val_loss: 1.1551 - val_RMSE: 1.1025\n",
      "Epoch 41/60\n",
      "293/293 [==============================] - 1s 5ms/step - loss: 1.1462 - RMSE: 1.0962 - val_loss: 1.1506 - val_RMSE: 1.1024\n",
      "Epoch 42/60\n",
      "293/293 [==============================] - 1s 5ms/step - loss: 1.1420 - RMSE: 1.0960 - val_loss: 1.1466 - val_RMSE: 1.1022\n",
      "Epoch 43/60\n",
      "293/293 [==============================] - 2s 5ms/step - loss: 1.1383 - RMSE: 1.0960 - val_loss: 1.1430 - val_RMSE: 1.10210s - - ETA: 0s - loss: 1.1388 - RMSE: \n",
      "Epoch 44/60\n",
      "293/293 [==============================] - 1s 5ms/step - loss: 1.1348 - RMSE: 1.0958 - val_loss: 1.1399 - val_RMSE: 1.1020\n",
      "Epoch 45/60\n",
      "293/293 [==============================] - 1s 5ms/step - loss: 1.1319 - RMSE: 1.0958 - val_loss: 1.1371 - val_RMSE: 1.1019\n",
      "Epoch 46/60\n",
      "293/293 [==============================] - 2s 5ms/step - loss: 1.1292 - RMSE: 1.0956 - val_loss: 1.1346 - val_RMSE: 1.1018\n",
      "Epoch 47/60\n",
      "293/293 [==============================] - 1s 5ms/step - loss: 1.1270 - RMSE: 1.0957 - val_loss: 1.1324 - val_RMSE: 1.1018\n",
      "Epoch 48/60\n",
      "293/293 [==============================] - 1s 5ms/step - loss: 1.1248 - RMSE: 1.0955 - val_loss: 1.1304 - val_RMSE: 1.1017\n",
      "Epoch 49/60\n",
      "293/293 [==============================] - 1s 5ms/step - loss: 1.1230 - RMSE: 1.0955 - val_loss: 1.1286 - val_RMSE: 1.1016\n",
      "Epoch 50/60\n",
      "293/293 [==============================] - 1s 5ms/step - loss: 1.1214 - RMSE: 1.0954 - val_loss: 1.1271 - val_RMSE: 1.1015\n",
      "Epoch 51/60\n",
      "293/293 [==============================] - 1s 5ms/step - loss: 1.1198 - RMSE: 1.0953 - val_loss: 1.1257 - val_RMSE: 1.1015\n",
      "Epoch 52/60\n",
      "293/293 [==============================] - 1s 5ms/step - loss: 1.1184 - RMSE: 1.0951 - val_loss: 1.1244 - val_RMSE: 1.1014\n",
      "Epoch 53/60\n",
      "293/293 [==============================] - 1s 5ms/step - loss: 1.1172 - RMSE: 1.0950 - val_loss: 1.1233 - val_RMSE: 1.1014\n",
      "Epoch 54/60\n",
      "293/293 [==============================] - 1s 5ms/step - loss: 1.1162 - RMSE: 1.0950 - val_loss: 1.1224 - val_RMSE: 1.1013\n",
      "Epoch 55/60\n",
      "293/293 [==============================] - 1s 5ms/step - loss: 1.1154 - RMSE: 1.0951 - val_loss: 1.1215 - val_RMSE: 1.1013\n",
      "Epoch 56/60\n",
      "293/293 [==============================] - 1s 5ms/step - loss: 1.1144 - RMSE: 1.0949 - val_loss: 1.1207 - val_RMSE: 1.1012\n",
      "Epoch 57/60\n",
      "293/293 [==============================] - 1s 5ms/step - loss: 1.1138 - RMSE: 1.0949 - val_loss: 1.1200 - val_RMSE: 1.1012\n",
      "Epoch 58/60\n",
      "293/293 [==============================] - 1s 5ms/step - loss: 1.1131 - RMSE: 1.0948 - val_loss: 1.1194 - val_RMSE: 1.1011\n",
      "Epoch 59/60\n",
      "293/293 [==============================] - 1s 5ms/step - loss: 1.1126 - RMSE: 1.0949 - val_loss: 1.1189 - val_RMSE: 1.1011\n",
      "Epoch 60/60\n",
      "293/293 [==============================] - 1s 5ms/step - loss: 1.1120 - RMSE: 1.0947 - val_loss: 1.1184 - val_RMSE: 1.1011\n"
     ]
    }
   ],
   "source": [
    "# model fitting\n",
    "result = model.fit(\n",
    "    x=[ratings_train.user_id.values, ratings_train.movie_id.values],\n",
    "    y=ratings_train.rating.values - mu,\n",
    "    epochs=60,\n",
    "    batch_size=256,\n",
    "    validation_data=(\n",
    "        [ratings_test.user_id.values, ratings_test.movie_id.values],\n",
    "        ratings_test.rating.values - mu\n",
    "    )\n",
    ")"
   ]
  },
  {
   "cell_type": "code",
   "execution_count": 12,
   "metadata": {},
   "outputs": [
    {
     "data": {
      "image/png": "[encoded data removed]",
      "text/plain": [
       "<Figure size 432x288 with 1 Axes>"
      ]
     },
     "metadata": {
      "needs_background": "light"
     },
     "output_type": "display_data"
    }
   ],
   "source": [
    "# Plot RMSE\n",
    "import matplotlib.pyplot as plt\n",
    "\n",
    "plt.plot(result.history['RMSE'], label=\"Train RMSE\")\n",
    "plt.plot(result.history['val_RMSE'], label=\"Test RMSE\")\n",
    "\n",
    "plt.xlabel('epoch')\n",
    "plt.ylabel('RMSE')\n",
    "plt.legend()\n",
    "\n",
    "plt.show()"
   ]
  },
  {
   "cell_type": "code",
   "execution_count": 18,
   "metadata": {},
   "outputs": [
    {
     "name": "stdout",
     "output_type": "stream",
     "text": [
      "Actuals: \n",
      "       user_id  movie_id  rating\n",
      "62989      764        28       4\n",
      "5925        86       286       3\n",
      "59050      437       450       3\n",
      "77059      643       685       3\n",
      "81909      654       588       4\n",
      "12645      244       135       4\n",
      "\n",
      "Predictions: \n",
      "[[3.5830245]\n",
      " [3.5631194]\n",
      " [3.5060272]\n",
      " [3.5351927]\n",
      " [3.5561297]\n",
      " [3.5839052]]\n"
     ]
    }
   ],
   "source": [
    "# prediction\n",
    "user_ids = ratings_test.user_id.values[0:6]\n",
    "movie_ids = ratings_test.movie_id.values[0:6]\n",
    "\n",
    "predictions = model.predict([user_ids, movie_ids]) + mu\n",
    "\n",
    "print(f'Actuals: \\n{ratings_test[0:6]}')\n",
    "print()\n",
    "print(f'Predictions: \\n{predictions}')"
   ]
  },
  {
   "cell_type": "code",
   "execution_count": 19,
   "metadata": {},
   "outputs": [
    {
     "data": {
      "text/plain": [
       "1.1023434902821574"
      ]
     },
     "execution_count": 19,
     "metadata": {},
     "output_type": "execute_result"
    }
   ],
   "source": [
    "# RMSE check\n",
    "def RMSE2(y_true, y_pred):\n",
    "    return np.sqrt(np.mean((np.array(y_true) - np.array(y_pred)) ** 2))\n",
    "\n",
    "user_ids = ratings_test.user_id.values\n",
    "movie_ids = ratings_test.movie_id.values\n",
    "\n",
    "y_pred = model.predict([user_ids, movie_ids]) + mu\n",
    "y_pred = np.ravel(y_pred, order='C')\n",
    "y_true = np.array(ratings_test.rating)\n",
    "\n",
    "RMSE2(y_true, y_pred)"
   ]
  },
  {
   "cell_type": "markdown",
   "metadata": {},
   "source": [
    "## 6.2 딥러닝을 적용한 추천 시스템"
   ]
  },
  {
   "cell_type": "code",
   "execution_count": 20,
   "metadata": {},
   "outputs": [],
   "source": [
    "# keras model\n",
    "user = Input(shape=(1, ))\n",
    "item = Input(shape=(1, ))\n",
    "\n",
    "P_embedding = Embedding(M, K, embeddings_regularizer=l2())(user)\n",
    "Q_embedding = Embedding(N, K, embeddings_regularizer=l2())(item)\n",
    "\n",
    "user_bias = Embedding(M, 1, embeddings_regularizer=l2())(user)\n",
    "item_bias = Embedding(N, 1, embeddings_regularizer=l2())(item)\n",
    "\n",
    "# Concatenate layers\n",
    "from tensorflow.keras.layers import Dense, Concatenate, Activation\n",
    "\n",
    "P_embedding = Flatten()(P_embedding)\n",
    "Q_embedding = Flatten()(Q_embedding)\n",
    "user_bias = Flatten()(user_bias)\n",
    "item_bias = Flatten()(item_bias)\n",
    "R = Concatenate()([P_embedding, Q_embedding, user_bias, item_bias])"
   ]
  },
  {
   "cell_type": "code",
   "execution_count": 21,
   "metadata": {},
   "outputs": [
    {
     "name": "stdout",
     "output_type": "stream",
     "text": [
      "Model: \"model_2\"\n",
      "__________________________________________________________________________________________________\n",
      " Layer (type)                   Output Shape         Param #     Connected to                     \n",
      "==================================================================================================\n",
      " input_7 (InputLayer)           [(None, 1)]          0           []                               \n",
      "                                                                                                  \n",
      " input_8 (InputLayer)           [(None, 1)]          0           []                               \n",
      "                                                                                                  \n",
      " embedding_8 (Embedding)        (None, 1, 200)       188800      ['input_7[0][0]']                \n",
      "                                                                                                  \n",
      " embedding_9 (Embedding)        (None, 1, 200)       336600      ['input_8[0][0]']                \n",
      "                                                                                                  \n",
      " embedding_10 (Embedding)       (None, 1, 1)         944         ['input_7[0][0]']                \n",
      "                                                                                                  \n",
      " embedding_11 (Embedding)       (None, 1, 1)         1683        ['input_8[0][0]']                \n",
      "                                                                                                  \n",
      " flatten_2 (Flatten)            (None, 200)          0           ['embedding_8[0][0]']            \n",
      "                                                                                                  \n",
      " flatten_3 (Flatten)            (None, 200)          0           ['embedding_9[0][0]']            \n",
      "                                                                                                  \n",
      " flatten_4 (Flatten)            (None, 1)            0           ['embedding_10[0][0]']           \n",
      "                                                                                                  \n",
      " flatten_5 (Flatten)            (None, 1)            0           ['embedding_11[0][0]']           \n",
      "                                                                                                  \n",
      " concatenate (Concatenate)      (None, 402)          0           ['flatten_2[0][0]',              \n",
      "                                                                  'flatten_3[0][0]',              \n",
      "                                                                  'flatten_4[0][0]',              \n",
      "                                                                  'flatten_5[0][0]']              \n",
      "                                                                                                  \n",
      " dense (Dense)                  (None, 2048)         825344      ['concatenate[0][0]']            \n",
      "                                                                                                  \n",
      " activation (Activation)        (None, 2048)         0           ['dense[0][0]']                  \n",
      "                                                                                                  \n",
      " dense_1 (Dense)                (None, 256)          524544      ['activation[0][0]']             \n",
      "                                                                                                  \n",
      " activation_1 (Activation)      (None, 256)          0           ['dense_1[0][0]']                \n",
      "                                                                                                  \n",
      " dense_2 (Dense)                (None, 1)            257         ['activation_1[0][0]']           \n",
      "                                                                                                  \n",
      "==================================================================================================\n",
      "Total params: 1,878,172\n",
      "Trainable params: 1,878,172\n",
      "Non-trainable params: 0\n",
      "__________________________________________________________________________________________________\n"
     ]
    }
   ],
   "source": [
    "# Neural network\n",
    "R = Dense(2048)(R)\n",
    "R = Activation('linear')(R)\n",
    "R = Dense(256)(R)\n",
    "R = Activation('linear')(R)\n",
    "R = Dense(1)(R)\n",
    "\n",
    "model = Model(inputs=[user, item], outputs=R)\n",
    "model.compile(\n",
    "  loss=RMSE,\n",
    "  optimizer=SGD(),\n",
    "  #optimizer=Adamax(),\n",
    "  metrics=[RMSE]\n",
    ")\n",
    "model.summary()"
   ]
  },
  {
   "cell_type": "code",
   "execution_count": 22,
   "metadata": {},
   "outputs": [
    {
     "name": "stdout",
     "output_type": "stream",
     "text": [
      "Epoch 1/65\n",
      "147/147 [==============================] - 6s 40ms/step - loss: 5.3914 - RMSE: 1.1227 - val_loss: 5.2710 - val_RMSE: 1.1279\n",
      "Epoch 2/65\n",
      "147/147 [==============================] - 6s 42ms/step - loss: 5.1459 - RMSE: 1.1217 - val_loss: 5.0330 - val_RMSE: 1.1264\n",
      "Epoch 3/65\n",
      "147/147 [==============================] - 6s 40ms/step - loss: 4.9147 - RMSE: 1.1195 - val_loss: 4.8084 - val_RMSE: 1.1248\n",
      "Epoch 4/65\n",
      "147/147 [==============================] - 5s 35ms/step - loss: 4.6966 - RMSE: 1.1185 - val_loss: 4.5967 - val_RMSE: 1.1234\n",
      "Epoch 5/65\n",
      "147/147 [==============================] - 6s 38ms/step - loss: 4.4907 - RMSE: 1.1167 - val_loss: 4.3971 - val_RMSE: 1.1219\n",
      "Epoch 6/65\n",
      "147/147 [==============================] - 5s 36ms/step - loss: 4.2966 - RMSE: 1.1149 - val_loss: 4.2086 - val_RMSE: 1.1202\n",
      "Epoch 7/65\n",
      "147/147 [==============================] - 5s 34ms/step - loss: 4.1136 - RMSE: 1.1136 - val_loss: 4.0308 - val_RMSE: 1.1185\n",
      "Epoch 8/65\n",
      "147/147 [==============================] - 5s 35ms/step - loss: 3.9406 - RMSE: 1.1114 - val_loss: 3.8631 - val_RMSE: 1.1167\n",
      "Epoch 9/65\n",
      "147/147 [==============================] - 5s 34ms/step - loss: 3.7774 - RMSE: 1.1095 - val_loss: 3.7044 - val_RMSE: 1.1146\n",
      "Epoch 10/65\n",
      "147/147 [==============================] - 5s 34ms/step - loss: 3.6232 - RMSE: 1.1072 - val_loss: 3.5546 - val_RMSE: 1.1122\n",
      "Epoch 11/65\n",
      "147/147 [==============================] - 5s 36ms/step - loss: 3.4774 - RMSE: 1.1045 - val_loss: 3.4132 - val_RMSE: 1.1098\n",
      "Epoch 12/65\n",
      "147/147 [==============================] - 5s 35ms/step - loss: 3.3395 - RMSE: 1.1016 - val_loss: 3.2792 - val_RMSE: 1.1067\n",
      "Epoch 13/65\n",
      "147/147 [==============================] - 5s 36ms/step - loss: 3.2090 - RMSE: 1.0985 - val_loss: 3.1522 - val_RMSE: 1.1031\n",
      "Epoch 14/65\n",
      "147/147 [==============================] - 5s 36ms/step - loss: 3.0854 - RMSE: 1.0946 - val_loss: 3.0319 - val_RMSE: 1.0991\n",
      "Epoch 15/65\n",
      "147/147 [==============================] - 5s 35ms/step - loss: 2.9680 - RMSE: 1.0901 - val_loss: 2.9179 - val_RMSE: 1.0947\n",
      "Epoch 16/65\n",
      "147/147 [==============================] - 5s 37ms/step - loss: 2.8567 - RMSE: 1.0849 - val_loss: 2.8095 - val_RMSE: 1.0894\n",
      "Epoch 17/65\n",
      "147/147 [==============================] - 6s 38ms/step - loss: 2.7508 - RMSE: 1.0795 - val_loss: 2.7065 - val_RMSE: 1.0836\n",
      "Epoch 18/65\n",
      "147/147 [==============================] - 5s 37ms/step - loss: 2.6501 - RMSE: 1.0731 - val_loss: 2.6084 - val_RMSE: 1.0769\n",
      "Epoch 19/65\n",
      "147/147 [==============================] - 5s 36ms/step - loss: 2.5541 - RMSE: 1.0661 - val_loss: 2.5148 - val_RMSE: 1.0695\n",
      "Epoch 20/65\n",
      "147/147 [==============================] - 5s 35ms/step - loss: 2.4625 - RMSE: 1.0579 - val_loss: 2.4259 - val_RMSE: 1.0617\n",
      "Epoch 21/65\n",
      "147/147 [==============================] - 5s 35ms/step - loss: 2.3753 - RMSE: 1.0494 - val_loss: 2.3411 - val_RMSE: 1.0532\n",
      "Epoch 22/65\n",
      "147/147 [==============================] - 5s 37ms/step - loss: 2.2920 - RMSE: 1.0406 - val_loss: 2.2603 - val_RMSE: 1.0443\n",
      "Epoch 23/65\n",
      "147/147 [==============================] - 5s 34ms/step - loss: 2.2128 - RMSE: 1.0308 - val_loss: 2.1837 - val_RMSE: 1.0355\n",
      "Epoch 24/65\n",
      "147/147 [==============================] - 5s 36ms/step - loss: 2.1376 - RMSE: 1.0214 - val_loss: 2.1110 - val_RMSE: 1.0266\n",
      "Epoch 25/65\n",
      "147/147 [==============================] - 5s 36ms/step - loss: 2.0664 - RMSE: 1.0123 - val_loss: 2.0422 - val_RMSE: 1.0179\n",
      "Epoch 26/65\n",
      "147/147 [==============================] - 5s 34ms/step - loss: 1.9991 - RMSE: 1.0032 - val_loss: 1.9775 - val_RMSE: 1.0100\n",
      "Epoch 27/65\n",
      "147/147 [==============================] - 6s 38ms/step - loss: 1.9354 - RMSE: 0.9948 - val_loss: 1.9163 - val_RMSE: 1.0023\n",
      "Epoch 28/65\n",
      "147/147 [==============================] - 6s 39ms/step - loss: 1.8757 - RMSE: 0.9870 - val_loss: 1.8590 - val_RMSE: 0.9955\n",
      "Epoch 29/65\n",
      "147/147 [==============================] - 6s 38ms/step - loss: 1.8195 - RMSE: 0.9798 - val_loss: 1.8051 - val_RMSE: 0.9893\n",
      "Epoch 30/65\n",
      "147/147 [==============================] - 6s 38ms/step - loss: 1.7666 - RMSE: 0.9731 - val_loss: 1.7547 - val_RMSE: 0.9840\n",
      "Epoch 31/65\n",
      "147/147 [==============================] - 6s 40ms/step - loss: 1.7172 - RMSE: 0.9676 - val_loss: 1.7072 - val_RMSE: 0.9791\n",
      "Epoch 32/65\n",
      "147/147 [==============================] - 5s 36ms/step - loss: 1.6708 - RMSE: 0.9628 - val_loss: 1.6629 - val_RMSE: 0.9749\n",
      "Epoch 33/65\n",
      "147/147 [==============================] - 6s 39ms/step - loss: 1.6270 - RMSE: 0.9582 - val_loss: 1.6211 - val_RMSE: 0.9710\n",
      "Epoch 34/65\n",
      "147/147 [==============================] - 5s 36ms/step - loss: 1.5863 - RMSE: 0.9540 - val_loss: 1.5822 - val_RMSE: 0.9680\n",
      "Epoch 35/65\n",
      "147/147 [==============================] - 5s 35ms/step - loss: 1.5477 - RMSE: 0.9502 - val_loss: 1.5451 - val_RMSE: 0.9647\n",
      "Epoch 36/65\n",
      "147/147 [==============================] - 5s 35ms/step - loss: 1.5117 - RMSE: 0.9475 - val_loss: 1.5108 - val_RMSE: 0.9623\n",
      "Epoch 37/65\n",
      "147/147 [==============================] - 5s 35ms/step - loss: 1.4776 - RMSE: 0.9442 - val_loss: 1.4812 - val_RMSE: 0.9629\n",
      "Epoch 38/65\n",
      "147/147 [==============================] - 6s 39ms/step - loss: 1.4458 - RMSE: 0.9415 - val_loss: 1.4477 - val_RMSE: 0.9578\n",
      "Epoch 39/65\n",
      "147/147 [==============================] - 5s 35ms/step - loss: 1.4157 - RMSE: 0.9392 - val_loss: 1.4213 - val_RMSE: 0.9583\n",
      "Epoch 40/65\n",
      "147/147 [==============================] - 5s 35ms/step - loss: 1.3875 - RMSE: 0.9371 - val_loss: 1.3922 - val_RMSE: 0.9545\n",
      "Epoch 41/65\n",
      "147/147 [==============================] - 5s 35ms/step - loss: 1.3609 - RMSE: 0.9353 - val_loss: 1.3663 - val_RMSE: 0.9526\n",
      "Epoch 42/65\n",
      "147/147 [==============================] - 5s 37ms/step - loss: 1.3359 - RMSE: 0.9335 - val_loss: 1.3423 - val_RMSE: 0.9511\n",
      "Epoch 43/65\n",
      "147/147 [==============================] - 6s 38ms/step - loss: 1.3125 - RMSE: 0.9319 - val_loss: 1.3200 - val_RMSE: 0.9501\n",
      "Epoch 44/65\n",
      "147/147 [==============================] - 6s 38ms/step - loss: 1.2904 - RMSE: 0.9308 - val_loss: 1.2985 - val_RMSE: 0.9487\n",
      "Epoch 45/65\n",
      "147/147 [==============================] - 5s 36ms/step - loss: 1.2695 - RMSE: 0.9291 - val_loss: 1.2786 - val_RMSE: 0.9478\n",
      "Epoch 46/65\n",
      "147/147 [==============================] - 5s 35ms/step - loss: 1.2500 - RMSE: 0.9280 - val_loss: 1.2601 - val_RMSE: 0.9472\n",
      "Epoch 47/65\n",
      "147/147 [==============================] - 5s 35ms/step - loss: 1.2315 - RMSE: 0.9269 - val_loss: 1.2433 - val_RMSE: 0.9473\n",
      "Epoch 48/65\n",
      "147/147 [==============================] - 5s 34ms/step - loss: 1.2141 - RMSE: 0.9261 - val_loss: 1.2256 - val_RMSE: 0.9455\n",
      "Epoch 49/65\n",
      "147/147 [==============================] - 5s 34ms/step - loss: 1.1979 - RMSE: 0.9252 - val_loss: 1.2100 - val_RMSE: 0.9450\n",
      "Epoch 50/65\n",
      "147/147 [==============================] - 5s 34ms/step - loss: 1.1825 - RMSE: 0.9246 - val_loss: 1.1951 - val_RMSE: 0.9443\n",
      "Epoch 51/65\n",
      "147/147 [==============================] - 5s 34ms/step - loss: 1.1682 - RMSE: 0.9242 - val_loss: 1.1810 - val_RMSE: 0.9436\n",
      "Epoch 52/65\n",
      "147/147 [==============================] - 5s 35ms/step - loss: 1.1545 - RMSE: 0.9235 - val_loss: 1.1685 - val_RMSE: 0.9438\n",
      "Epoch 53/65\n",
      "147/147 [==============================] - 5s 36ms/step - loss: 1.1417 - RMSE: 0.9229 - val_loss: 1.1570 - val_RMSE: 0.9442\n",
      "Epoch 54/65\n",
      "147/147 [==============================] - 5s 35ms/step - loss: 1.1294 - RMSE: 0.9221 - val_loss: 1.1449 - val_RMSE: 0.9435\n",
      "Epoch 55/65\n",
      "147/147 [==============================] - 5s 34ms/step - loss: 1.1183 - RMSE: 0.9222 - val_loss: 1.1330 - val_RMSE: 0.9422\n",
      "Epoch 56/65\n",
      "147/147 [==============================] - 5s 34ms/step - loss: 1.1074 - RMSE: 0.9213 - val_loss: 1.1265 - val_RMSE: 0.9458\n",
      "Epoch 57/65\n",
      "147/147 [==============================] - 5s 34ms/step - loss: 1.0974 - RMSE: 0.9216 - val_loss: 1.1130 - val_RMSE: 0.9418\n",
      "Epoch 58/65\n",
      "147/147 [==============================] - 5s 34ms/step - loss: 1.0877 - RMSE: 0.9207 - val_loss: 1.1036 - val_RMSE: 0.9413\n",
      "Epoch 59/65\n",
      "147/147 [==============================] - 5s 34ms/step - loss: 1.0788 - RMSE: 0.9204 - val_loss: 1.1003 - val_RMSE: 0.9465\n",
      "Epoch 60/65\n",
      "147/147 [==============================] - 5s 35ms/step - loss: 1.0703 - RMSE: 0.9205 - val_loss: 1.0892 - val_RMSE: 0.9434\n",
      "Epoch 61/65\n",
      "147/147 [==============================] - 5s 34ms/step - loss: 1.0626 - RMSE: 0.9203 - val_loss: 1.0790 - val_RMSE: 0.9408\n",
      "Epoch 62/65\n",
      "147/147 [==============================] - 5s 34ms/step - loss: 1.0549 - RMSE: 0.9201 - val_loss: 1.0740 - val_RMSE: 0.9428\n",
      "Epoch 63/65\n",
      "147/147 [==============================] - 5s 34ms/step - loss: 1.0479 - RMSE: 0.9205 - val_loss: 1.0708 - val_RMSE: 0.9463\n",
      "Epoch 64/65\n",
      "147/147 [==============================] - 5s 34ms/step - loss: 1.0412 - RMSE: 0.9199 - val_loss: 1.0587 - val_RMSE: 0.9406\n",
      "Epoch 65/65\n",
      "147/147 [==============================] - 5s 35ms/step - loss: 1.0350 - RMSE: 0.9198 - val_loss: 1.0536 - val_RMSE: 0.9415\n"
     ]
    }
   ],
   "source": [
    "# Model fitting\n",
    "result = model.fit(\n",
    "  x=[ratings_train.user_id.values, ratings_train.movie_id.values],\n",
    "  y=ratings_train.rating.values - mu,\n",
    "  epochs=65,\n",
    "  batch_size=512,\n",
    "  validation_data=(\n",
    "    [ratings_test.user_id.values, ratings_test.movie_id.values],\n",
    "    ratings_test.rating.values - mu\n",
    "  )\n",
    ")"
   ]
  },
  {
   "cell_type": "code",
   "execution_count": 23,
   "metadata": {},
   "outputs": [
    {
     "data": {
      "image/png": "[encoded data removed]",
      "text/plain": [
       "<Figure size 432x288 with 1 Axes>"
      ]
     },
     "metadata": {
      "needs_background": "light"
     },
     "output_type": "display_data"
    }
   ],
   "source": [
    "# Plot RMSE\n",
    "import matplotlib.pyplot as plt\n",
    "plt.plot(result.history['RMSE'], label=\"Train RMSE\")\n",
    "plt.plot(result.history['val_RMSE'], label=\"Test RMSE\")\n",
    "plt.xlabel('epoch')\n",
    "plt.ylabel('RMSE')\n",
    "plt.legend()\n",
    "plt.show()"
   ]
  },
  {
   "cell_type": "code",
   "execution_count": 24,
   "metadata": {},
   "outputs": [
    {
     "name": "stdout",
     "output_type": "stream",
     "text": [
      "Actuals: \n",
      "        user_id  movie_id  rating\n",
      "62989      764        28       4\n",
      "5925        86       286       3\n",
      "59050      437       450       3\n",
      "77059      643       685       3\n",
      "81909      654       588       4\n",
      "12645      244       135       4\n",
      "\n",
      "Predictions: \n",
      " [[4.17346  ]\n",
      " [3.837898 ]\n",
      " [2.497438 ]\n",
      " [3.382253 ]\n",
      " [3.831256 ]\n",
      " [4.1608863]]\n"
     ]
    },
    {
     "data": {
      "text/plain": [
       "0.9419615297531404"
      ]
     },
     "execution_count": 24,
     "metadata": {},
     "output_type": "execute_result"
    }
   ],
   "source": [
    "# Prediction\n",
    "user_ids = ratings_test.user_id.values[0:6]\n",
    "movie_ids = ratings_test.movie_id.values[0:6]\n",
    "predictions = model.predict([user_ids, movie_ids]) + mu\n",
    "print(\"Actuals: \\n\", ratings_test[0:6])\n",
    "print()\n",
    "print(\"Predictions: \\n\", predictions)\n",
    "\n",
    "# 정확도(RMSE)를 계산하는 함수 \n",
    "def RMSE2(y_true, y_pred):\n",
    "    return np.sqrt(np.mean((np.array(y_true) - np.array(y_pred))**2))\n",
    "\n",
    "user_ids = ratings_test.user_id.values\n",
    "movie_ids = ratings_test.movie_id.values\n",
    "y_pred = model.predict([user_ids, movie_ids]) + mu\n",
    "y_pred = np.ravel(y_pred, order='C')\n",
    "y_true = np.array(ratings_test.rating)\n",
    "\n",
    "RMSE2(y_true, y_pred)"
   ]
  },
  {
   "cell_type": "markdown",
   "metadata": {},
   "source": [
    "## 6.3 딥러닝 모델에 변수 추가하기"
   ]
  },
  {
   "cell_type": "code",
   "execution_count": 25,
   "metadata": {},
   "outputs": [],
   "source": [
    "# 수정된 부분 1 >>>>>>>>>>\n",
    "u_cols = ['user_id', 'age', 'sex', 'occupation', 'zip_code']\n",
    "users = pd.read_csv('./dataset/u.user', sep='|', names=u_cols, encoding='latin-1')\n",
    "users = users[['user_id', 'occupation']]"
   ]
  },
  {
   "cell_type": "code",
   "execution_count": 26,
   "metadata": {},
   "outputs": [],
   "source": [
    "# Convert occupation(string to integer)\n",
    "occupation = {}\n",
    "def convert_occ(x):\n",
    "    if x in occupation:\n",
    "        return occupation[x]\n",
    "    else:\n",
    "        occupation[x] = len(occupation)\n",
    "        return occupation[x]\n",
    "\n",
    "users['occupation'] = users['occupation'].apply(convert_occ)\n",
    "\n",
    "L = len(occupation)\n",
    "train_occ = pd.merge(ratings_train, users, on='user_id')['occupation']\n",
    "test_occ = pd.merge(ratings_test, users, on='user_id')['occupation']"
   ]
  },
  {
   "cell_type": "code",
   "execution_count": 27,
   "metadata": {},
   "outputs": [],
   "source": [
    "# Keras model\n",
    "user = Input(shape=(1, ))\n",
    "item = Input(shape=(1, ))\n",
    "P_embedding = Embedding(M, K, embeddings_regularizer=l2())(user)\n",
    "Q_embedding = Embedding(N, K, embeddings_regularizer=l2())(item)\n",
    "user_bias = Embedding(M, 1, embeddings_regularizer=l2())(user)\n",
    "item_bias = Embedding(N, 1, embeddings_regularizer=l2())(item)\n",
    "\n",
    "# Concatenate layers\n",
    "from tensorflow.keras.layers import Dense, Concatenate, Activation\n",
    "P_embedding = Flatten()(P_embedding)\n",
    "Q_embedding = Flatten()(Q_embedding)\n",
    "user_bias = Flatten()(user_bias)\n",
    "item_bias = Flatten()(item_bias)\n",
    "\n",
    "# 수정된 부분 2 >>>>>>>>>>\n",
    "occ = Input(shape=(1, ))\n",
    "occ_embedding = Embedding(L, 3, embeddings_regularizer=l2())(occ)\n",
    "occ_layer = Flatten()(occ_embedding)\n",
    "R = Concatenate()([P_embedding, Q_embedding, user_bias, item_bias, occ_layer])\n",
    "#<<<<<<<<< 수정된 부분 2\n",
    "\n",
    "# Neural network\n",
    "R = Dense(2048)(R)\n",
    "R = Activation('linear')(R)\n",
    "R = Dense(256)(R)\n",
    "R = Activation('linear')(R)\n",
    "R = Dense(1)(R)\n",
    "\n",
    "# 수정된 부분 3 >>>>>>>>>>\n",
    "model = Model(inputs=[user, item, occ], outputs=R)"
   ]
  },
  {
   "cell_type": "code",
   "execution_count": 28,
   "metadata": {},
   "outputs": [
    {
     "name": "stdout",
     "output_type": "stream",
     "text": [
      "Model: \"model_3\"\n",
      "__________________________________________________________________________________________________\n",
      " Layer (type)                   Output Shape         Param #     Connected to                     \n",
      "==================================================================================================\n",
      " input_9 (InputLayer)           [(None, 1)]          0           []                               \n",
      "                                                                                                  \n",
      " input_10 (InputLayer)          [(None, 1)]          0           []                               \n",
      "                                                                                                  \n",
      " input_11 (InputLayer)          [(None, 1)]          0           []                               \n",
      "                                                                                                  \n",
      " embedding_12 (Embedding)       (None, 1, 200)       188800      ['input_9[0][0]']                \n",
      "                                                                                                  \n",
      " embedding_13 (Embedding)       (None, 1, 200)       336600      ['input_10[0][0]']               \n",
      "                                                                                                  \n",
      " embedding_14 (Embedding)       (None, 1, 1)         944         ['input_9[0][0]']                \n",
      "                                                                                                  \n",
      " embedding_15 (Embedding)       (None, 1, 1)         1683        ['input_10[0][0]']               \n",
      "                                                                                                  \n",
      " embedding_16 (Embedding)       (None, 1, 3)         63          ['input_11[0][0]']               \n",
      "                                                                                                  \n",
      " flatten_6 (Flatten)            (None, 200)          0           ['embedding_12[0][0]']           \n",
      "                                                                                                  \n",
      " flatten_7 (Flatten)            (None, 200)          0           ['embedding_13[0][0]']           \n",
      "                                                                                                  \n",
      " flatten_8 (Flatten)            (None, 1)            0           ['embedding_14[0][0]']           \n",
      "                                                                                                  \n",
      " flatten_9 (Flatten)            (None, 1)            0           ['embedding_15[0][0]']           \n",
      "                                                                                                  \n",
      " flatten_10 (Flatten)           (None, 3)            0           ['embedding_16[0][0]']           \n",
      "                                                                                                  \n",
      " concatenate_1 (Concatenate)    (None, 405)          0           ['flatten_6[0][0]',              \n",
      "                                                                  'flatten_7[0][0]',              \n",
      "                                                                  'flatten_8[0][0]',              \n",
      "                                                                  'flatten_9[0][0]',              \n",
      "                                                                  'flatten_10[0][0]']             \n",
      "                                                                                                  \n",
      " dense_3 (Dense)                (None, 2048)         831488      ['concatenate_1[0][0]']          \n",
      "                                                                                                  \n",
      " activation_2 (Activation)      (None, 2048)         0           ['dense_3[0][0]']                \n",
      "                                                                                                  \n",
      " dense_4 (Dense)                (None, 256)          524544      ['activation_2[0][0]']           \n",
      "                                                                                                  \n",
      " activation_3 (Activation)      (None, 256)          0           ['dense_4[0][0]']                \n",
      "                                                                                                  \n",
      " dense_5 (Dense)                (None, 1)            257         ['activation_3[0][0]']           \n",
      "                                                                                                  \n",
      "==================================================================================================\n",
      "Total params: 1,884,379\n",
      "Trainable params: 1,884,379\n",
      "Non-trainable params: 0\n",
      "__________________________________________________________________________________________________\n"
     ]
    }
   ],
   "source": [
    "#<<<<<<<<< 수정된 부분 3\n",
    "model.compile(\n",
    "  loss=RMSE,\n",
    "  optimizer=SGD(),\n",
    "  #optimizer=Adamax(),\n",
    "  metrics=[RMSE]\n",
    ")\n",
    "model.summary()"
   ]
  },
  {
   "cell_type": "code",
   "execution_count": 29,
   "metadata": {},
   "outputs": [
    {
     "name": "stdout",
     "output_type": "stream",
     "text": [
      "Epoch 1/65\n",
      "147/147 [==============================] - 6s 38ms/step - loss: 5.4139 - RMSE: 1.1234 - val_loss: 5.2929 - val_RMSE: 1.1282\n",
      "Epoch 2/65\n",
      "147/147 [==============================] - 5s 37ms/step - loss: 5.1671 - RMSE: 1.1217 - val_loss: 5.0535 - val_RMSE: 1.1265\n",
      "Epoch 3/65\n",
      "147/147 [==============================] - 6s 38ms/step - loss: 4.9346 - RMSE: 1.1197 - val_loss: 4.8278 - val_RMSE: 1.1251\n",
      "Epoch 4/65\n",
      "147/147 [==============================] - 6s 39ms/step - loss: 4.7154 - RMSE: 1.1186 - val_loss: 4.6151 - val_RMSE: 1.1237\n",
      "Epoch 5/65\n",
      "147/147 [==============================] - 6s 39ms/step - loss: 4.5086 - RMSE: 1.1173 - val_loss: 4.4142 - val_RMSE: 1.1220\n",
      "Epoch 6/65\n",
      "147/147 [==============================] - 6s 38ms/step - loss: 4.3136 - RMSE: 1.1152 - val_loss: 4.2249 - val_RMSE: 1.1204\n",
      "Epoch 7/65\n",
      "147/147 [==============================] - 5s 36ms/step - loss: 4.1295 - RMSE: 1.1138 - val_loss: 4.0461 - val_RMSE: 1.1187\n",
      "Epoch 8/65\n",
      "147/147 [==============================] - 6s 41ms/step - loss: 3.9557 - RMSE: 1.1118 - val_loss: 3.8774 - val_RMSE: 1.1169\n",
      "Epoch 9/65\n",
      "147/147 [==============================] - 5s 35ms/step - loss: 3.7916 - RMSE: 1.1097 - val_loss: 3.7181 - val_RMSE: 1.1148\n",
      "Epoch 10/65\n",
      "147/147 [==============================] - 5s 34ms/step - loss: 3.6367 - RMSE: 1.1076 - val_loss: 3.5676 - val_RMSE: 1.1125\n",
      "Epoch 11/65\n",
      "147/147 [==============================] - 5s 34ms/step - loss: 3.4903 - RMSE: 1.1051 - val_loss: 3.4253 - val_RMSE: 1.1099\n",
      "Epoch 12/65\n",
      "147/147 [==============================] - 5s 35ms/step - loss: 3.3517 - RMSE: 1.1024 - val_loss: 3.2905 - val_RMSE: 1.1068\n",
      "Epoch 13/65\n",
      "147/147 [==============================] - 5s 35ms/step - loss: 3.2205 - RMSE: 1.0993 - val_loss: 3.1630 - val_RMSE: 1.1034\n",
      "Epoch 14/65\n",
      "147/147 [==============================] - 5s 34ms/step - loss: 3.0962 - RMSE: 1.0955 - val_loss: 3.0421 - val_RMSE: 1.0993\n",
      "Epoch 15/65\n",
      "147/147 [==============================] - 5s 34ms/step - loss: 2.9783 - RMSE: 1.0907 - val_loss: 2.9274 - val_RMSE: 1.0947\n",
      "Epoch 16/65\n",
      "147/147 [==============================] - 5s 34ms/step - loss: 2.8663 - RMSE: 1.0856 - val_loss: 2.8183 - val_RMSE: 1.0893\n",
      "Epoch 17/65\n",
      "147/147 [==============================] - 5s 34ms/step - loss: 2.7598 - RMSE: 1.0796 - val_loss: 2.7145 - val_RMSE: 1.0831\n",
      "Epoch 18/65\n",
      "147/147 [==============================] - 5s 33ms/step - loss: 2.6581 - RMSE: 1.0726 - val_loss: 2.6158 - val_RMSE: 1.0764\n",
      "Epoch 19/65\n",
      "147/147 [==============================] - 5s 34ms/step - loss: 2.5612 - RMSE: 1.0652 - val_loss: 2.5210 - val_RMSE: 1.0682\n",
      "Epoch 20/65\n",
      "147/147 [==============================] - 5s 36ms/step - loss: 2.4686 - RMSE: 1.0565 - val_loss: 2.4309 - val_RMSE: 1.0595\n",
      "Epoch 21/65\n",
      "147/147 [==============================] - 5s 35ms/step - loss: 2.3802 - RMSE: 1.0472 - val_loss: 2.3446 - val_RMSE: 1.0499\n",
      "Epoch 22/65\n",
      "147/147 [==============================] - 5s 36ms/step - loss: 2.2957 - RMSE: 1.0371 - val_loss: 2.2627 - val_RMSE: 1.0401\n",
      "Epoch 23/65\n",
      "147/147 [==============================] - 5s 35ms/step - loss: 2.2154 - RMSE: 1.0269 - val_loss: 2.1849 - val_RMSE: 1.0303\n",
      "Epoch 24/65\n",
      "147/147 [==============================] - 5s 34ms/step - loss: 2.1392 - RMSE: 1.0167 - val_loss: 2.1113 - val_RMSE: 1.0207\n",
      "Epoch 25/65\n",
      "147/147 [==============================] - 5s 36ms/step - loss: 2.0671 - RMSE: 1.0064 - val_loss: 2.0420 - val_RMSE: 1.0119\n",
      "Epoch 26/65\n",
      "147/147 [==============================] - 5s 35ms/step - loss: 1.9992 - RMSE: 0.9977 - val_loss: 1.9767 - val_RMSE: 1.0036\n",
      "Epoch 27/65\n",
      "147/147 [==============================] - 5s 35ms/step - loss: 1.9354 - RMSE: 0.9890 - val_loss: 1.9156 - val_RMSE: 0.9962\n",
      "Epoch 28/65\n",
      "147/147 [==============================] - 5s 35ms/step - loss: 1.8755 - RMSE: 0.9817 - val_loss: 1.8583 - val_RMSE: 0.9898\n",
      "Epoch 29/65\n",
      "147/147 [==============================] - 6s 38ms/step - loss: 1.8194 - RMSE: 0.9749 - val_loss: 1.8047 - val_RMSE: 0.9842\n",
      "Epoch 30/65\n",
      "147/147 [==============================] - 5s 36ms/step - loss: 1.7666 - RMSE: 0.9686 - val_loss: 1.7543 - val_RMSE: 0.9791\n",
      "Epoch 31/65\n",
      "147/147 [==============================] - 5s 37ms/step - loss: 1.7173 - RMSE: 0.9633 - val_loss: 1.7071 - val_RMSE: 0.9748\n",
      "Epoch 32/65\n",
      "147/147 [==============================] - 5s 36ms/step - loss: 1.6709 - RMSE: 0.9588 - val_loss: 1.6629 - val_RMSE: 0.9710\n",
      "Epoch 33/65\n",
      "147/147 [==============================] - 6s 40ms/step - loss: 1.6274 - RMSE: 0.9546 - val_loss: 1.6213 - val_RMSE: 0.9677\n",
      "Epoch 34/65\n",
      "147/147 [==============================] - 5s 37ms/step - loss: 1.5865 - RMSE: 0.9510 - val_loss: 1.5824 - val_RMSE: 0.9648\n",
      "Epoch 35/65\n",
      "147/147 [==============================] - 6s 38ms/step - loss: 1.5482 - RMSE: 0.9475 - val_loss: 1.5460 - val_RMSE: 0.9624\n",
      "Epoch 36/65\n",
      "147/147 [==============================] - 6s 38ms/step - loss: 1.5121 - RMSE: 0.9447 - val_loss: 1.5117 - val_RMSE: 0.9603\n",
      "Epoch 37/65\n",
      "147/147 [==============================] - 5s 37ms/step - loss: 1.4783 - RMSE: 0.9420 - val_loss: 1.4787 - val_RMSE: 0.9577\n",
      "Epoch 38/65\n",
      "147/147 [==============================] - 5s 37ms/step - loss: 1.4463 - RMSE: 0.9395 - val_loss: 1.4489 - val_RMSE: 0.9564\n",
      "Epoch 39/65\n",
      "147/147 [==============================] - 5s 35ms/step - loss: 1.4165 - RMSE: 0.9376 - val_loss: 1.4195 - val_RMSE: 0.9541\n",
      "Epoch 40/65\n",
      "147/147 [==============================] - 5s 34ms/step - loss: 1.3882 - RMSE: 0.9354 - val_loss: 1.3925 - val_RMSE: 0.9526\n",
      "Epoch 41/65\n",
      "147/147 [==============================] - 5s 35ms/step - loss: 1.3618 - RMSE: 0.9340 - val_loss: 1.3671 - val_RMSE: 0.9513\n",
      "Epoch 42/65\n",
      "147/147 [==============================] - 5s 36ms/step - loss: 1.3368 - RMSE: 0.9323 - val_loss: 1.3435 - val_RMSE: 0.9503\n",
      "Epoch 43/65\n",
      "147/147 [==============================] - 5s 35ms/step - loss: 1.3131 - RMSE: 0.9307 - val_loss: 1.3207 - val_RMSE: 0.9490\n",
      "Epoch 44/65\n",
      "147/147 [==============================] - 5s 35ms/step - loss: 1.2910 - RMSE: 0.9294 - val_loss: 1.3035 - val_RMSE: 0.9520\n",
      "Epoch 45/65\n",
      "147/147 [==============================] - 5s 35ms/step - loss: 1.2703 - RMSE: 0.9282 - val_loss: 1.2794 - val_RMSE: 0.9470\n",
      "Epoch 46/65\n",
      "147/147 [==============================] - 5s 37ms/step - loss: 1.2506 - RMSE: 0.9271 - val_loss: 1.2634 - val_RMSE: 0.9490\n",
      "Epoch 47/65\n",
      "147/147 [==============================] - 6s 39ms/step - loss: 1.2323 - RMSE: 0.9264 - val_loss: 1.2432 - val_RMSE: 0.9458\n",
      "Epoch 48/65\n",
      "147/147 [==============================] - 5s 37ms/step - loss: 1.2150 - RMSE: 0.9255 - val_loss: 1.2263 - val_RMSE: 0.9449\n",
      "Epoch 49/65\n",
      "147/147 [==============================] - 5s 36ms/step - loss: 1.1986 - RMSE: 0.9247 - val_loss: 1.2117 - val_RMSE: 0.9455\n",
      "Epoch 50/65\n",
      "147/147 [==============================] - 5s 35ms/step - loss: 1.1833 - RMSE: 0.9241 - val_loss: 1.1958 - val_RMSE: 0.9439\n",
      "Epoch 51/65\n",
      "147/147 [==============================] - 5s 35ms/step - loss: 1.1688 - RMSE: 0.9238 - val_loss: 1.1833 - val_RMSE: 0.9449\n",
      "Epoch 52/65\n",
      "147/147 [==============================] - 5s 35ms/step - loss: 1.1549 - RMSE: 0.9226 - val_loss: 1.1689 - val_RMSE: 0.9432\n",
      "Epoch 53/65\n",
      "147/147 [==============================] - 5s 36ms/step - loss: 1.1423 - RMSE: 0.9226 - val_loss: 1.1570 - val_RMSE: 0.9433\n",
      "Epoch 54/65\n",
      "147/147 [==============================] - 5s 36ms/step - loss: 1.1298 - RMSE: 0.9217 - val_loss: 1.1458 - val_RMSE: 0.9435\n",
      "Epoch 55/65\n",
      "147/147 [==============================] - 5s 34ms/step - loss: 1.1185 - RMSE: 0.9212 - val_loss: 1.1365 - val_RMSE: 0.9449\n",
      "Epoch 56/65\n",
      "147/147 [==============================] - 5s 34ms/step - loss: 1.1078 - RMSE: 0.9212 - val_loss: 1.1231 - val_RMSE: 0.9416\n",
      "Epoch 57/65\n",
      "147/147 [==============================] - 5s 34ms/step - loss: 1.0979 - RMSE: 0.9210 - val_loss: 1.1147 - val_RMSE: 0.9428\n",
      "Epoch 58/65\n",
      "147/147 [==============================] - 5s 34ms/step - loss: 1.0883 - RMSE: 0.9207 - val_loss: 1.1070 - val_RMSE: 0.9440\n",
      "Epoch 59/65\n",
      "147/147 [==============================] - 5s 35ms/step - loss: 1.0795 - RMSE: 0.9207 - val_loss: 1.0957 - val_RMSE: 0.9413\n",
      "Epoch 60/65\n",
      "147/147 [==============================] - 5s 37ms/step - loss: 1.0706 - RMSE: 0.9198 - val_loss: 1.0874 - val_RMSE: 0.9410\n",
      "Epoch 61/65\n",
      "147/147 [==============================] - 5s 35ms/step - loss: 1.0628 - RMSE: 0.9205 - val_loss: 1.0798 - val_RMSE: 0.9411\n",
      "Epoch 62/65\n",
      "147/147 [==============================] - 5s 35ms/step - loss: 1.0554 - RMSE: 0.9204 - val_loss: 1.0745 - val_RMSE: 0.9429\n",
      "Epoch 63/65\n",
      "147/147 [==============================] - 5s 36ms/step - loss: 1.0483 - RMSE: 0.9199 - val_loss: 1.0688 - val_RMSE: 0.9439\n",
      "Epoch 64/65\n",
      "147/147 [==============================] - 5s 35ms/step - loss: 1.0416 - RMSE: 0.9198 - val_loss: 1.0591 - val_RMSE: 0.9406\n",
      "Epoch 65/65\n",
      "147/147 [==============================] - 6s 39ms/step - loss: 1.0352 - RMSE: 0.9196 - val_loss: 1.0531 - val_RMSE: 0.9406\n"
     ]
    }
   ],
   "source": [
    "# Model fitting\n",
    "result = model.fit(\n",
    "  x=[ratings_train.user_id.values, ratings_train.movie_id.values, train_occ.values],\n",
    "  y=ratings_train.rating.values - mu,\n",
    "  epochs=65,\n",
    "  batch_size=512,\n",
    "  validation_data=(\n",
    "    [ratings_test.user_id.values, ratings_test.movie_id.values, test_occ.values],\n",
    "    ratings_test.rating.values - mu\n",
    "  )\n",
    ")"
   ]
  },
  {
   "cell_type": "code",
   "execution_count": 30,
   "metadata": {},
   "outputs": [
    {
     "data": {
      "image/png": "[encoded data removed]",
      "text/plain": [
       "<Figure size 432x288 with 1 Axes>"
      ]
     },
     "metadata": {
      "needs_background": "light"
     },
     "output_type": "display_data"
    }
   ],
   "source": [
    "# Plot RMSE\n",
    "import matplotlib.pyplot as plt\n",
    "plt.plot(result.history['RMSE'], label=\"Train RMSE\")\n",
    "plt.plot(result.history['val_RMSE'], label=\"Test RMSE\")\n",
    "plt.xlabel('epoch')\n",
    "plt.ylabel('RMSE')\n",
    "plt.legend()\n",
    "plt.show()"
   ]
  },
  {
   "cell_type": "code",
   "execution_count": 31,
   "metadata": {},
   "outputs": [
    {
     "name": "stdout",
     "output_type": "stream",
     "text": [
      "Actuals: \n",
      "        user_id  movie_id  rating\n",
      "62989      764        28       4\n",
      "5925        86       286       3\n",
      "59050      437       450       3\n",
      "77059      643       685       3\n",
      "81909      654       588       4\n",
      "12645      244       135       4\n",
      "\n",
      "Predictions: \n",
      " [[4.1636386]\n",
      " [3.9213605]\n",
      " [2.4834595]\n",
      " [3.3446496]\n",
      " [3.794316 ]\n",
      " [4.203824 ]]\n"
     ]
    }
   ],
   "source": [
    "# Prediction\n",
    "user_ids = ratings_test.user_id.values[0:6]\n",
    "movie_ids = ratings_test.movie_id.values[0:6]\n",
    "user_occ = test_occ[0:6]\n",
    "predictions = model.predict([user_ids, movie_ids, user_occ]) + mu\n",
    "print(\"Actuals: \\n\", ratings_test[0:6])\n",
    "print()\n",
    "print(\"Predictions: \\n\", predictions)"
   ]
  },
  {
   "cell_type": "code",
   "execution_count": 32,
   "metadata": {},
   "outputs": [
    {
     "data": {
      "text/plain": [
       "0.9409656895443061"
      ]
     },
     "execution_count": 32,
     "metadata": {},
     "output_type": "execute_result"
    }
   ],
   "source": [
    "# 정확도(RMSE)를 계산하는 함수 \n",
    "def RMSE2(y_true, y_pred):\n",
    "    return np.sqrt(np.mean((np.array(y_true) - np.array(y_pred))**2))\n",
    "\n",
    "user_ids = ratings_test.user_id.values\n",
    "movie_ids = ratings_test.movie_id.values\n",
    "y_pred = model.predict([user_ids, movie_ids, test_occ]) + mu\n",
    "y_pred = np.ravel(y_pred, order='C')\n",
    "y_true = np.array(ratings_test.rating)\n",
    "\n",
    "RMSE2(y_true, y_pred)"
   ]
  },
  {
   "cell_type": "markdown",
   "metadata": {},
   "source": [
    "# 7. 하이브리드 추천 시스템"
   ]
  },
  {
   "cell_type": "markdown",
   "metadata": {},
   "source": [
    "## 7.1 하이브리드 추천 시스템의 원리"
   ]
  },
  {
   "cell_type": "code",
   "execution_count": 38,
   "metadata": {},
   "outputs": [],
   "source": [
    "# dummy recommender 0\n",
    "import random\n",
    "\n",
    "def recommender0(recomm_list):\n",
    "    recommendations = []\n",
    "    for _ in recomm_list:\n",
    "        recommendations.append(random.random() * 4 + 1)\n",
    "    \n",
    "    return np.array(recommendations)\n",
    "\n",
    "# dummy recommender 1\n",
    "def recommender1(recomm_list):\n",
    "    recommendations = []\n",
    "    for _ in recomm_list:\n",
    "        recommendations.append(random.random() * 4 + 1)\n",
    "    \n",
    "    return np.array(recommendations)"
   ]
  },
  {
   "cell_type": "code",
   "execution_count": 39,
   "metadata": {},
   "outputs": [
    {
     "data": {
      "text/plain": [
       "1.570196772569366"
      ]
     },
     "execution_count": 39,
     "metadata": {},
     "output_type": "execute_result"
    }
   ],
   "source": [
    "# get hybrid result\n",
    "weight = [0.8, 0.2]\n",
    "recomm_list = np.array(ratings_test)\n",
    "\n",
    "predictions0 = recommender0(recomm_list)\n",
    "predictions1 = recommender1(recomm_list)\n",
    "\n",
    "predictions = predictions0 * weight[0] + predictions1 * weight[1]\n",
    "RMSE2(recomm_list[:, 2], predictions)"
   ]
  },
  {
   "cell_type": "markdown",
   "metadata": {},
   "source": [
    "## 7.2 하이브리드 추천 시스템(CF와 MF의 결합)"
   ]
  },
  {
   "cell_type": "code",
   "execution_count": 40,
   "metadata": {},
   "outputs": [],
   "source": [
    "##### CF 추천 알고리즘 >>>>>>>>>>>>>>>\n",
    "\n",
    "rating_matrix = ratings_train.pivot(index='user_id', columns='movie_id', values='rating')"
   ]
  },
  {
   "cell_type": "code",
   "execution_count": 42,
   "metadata": {},
   "outputs": [],
   "source": [
    "# train set 사용자들의 Cosine similarities 계산\n",
    "from sklearn.metrics.pairwise import cosine_similarity\n",
    "matrix_dummy = rating_matrix.copy().fillna(0)\n",
    "user_similarity = cosine_similarity(matrix_dummy, matrix_dummy)\n",
    "user_similarity = pd.DataFrame(user_similarity, index=rating_matrix.index, columns=rating_matrix.index)"
   ]
  },
  {
   "cell_type": "code",
   "execution_count": 43,
   "metadata": {},
   "outputs": [],
   "source": [
    "# train 데이터의 user의 rating 평균과 영화의 평점편차 계산 \n",
    "rating_mean = rating_matrix.mean(axis=1)\n",
    "rating_bias = (rating_matrix.T - rating_mean).T\n",
    "\n",
    "def CF_knn_bias(user_id, movie_id, neighbor_size=0):\n",
    "    if movie_id in rating_bias:\n",
    "        sim_scores = user_similarity[user_id]\n",
    "        movie_ratings = rating_bias[movie_id]\n",
    "        none_rating_idx = movie_ratings[movie_ratings.isnull()].index\n",
    "        movie_ratings = movie_ratings.drop(none_rating_idx)\n",
    "        sim_scores = sim_scores.drop(none_rating_idx)\n",
    "        if neighbor_size == 0:\n",
    "            prediction = np.dot(sim_scores, movie_ratings) / sim_scores.sum()\n",
    "            prediction = prediction + rating_mean[user_id]\n",
    "        else:\n",
    "            if len(sim_scores) > 1:\n",
    "                neighbor_size = min(neighbor_size, len(sim_scores))\n",
    "                sim_scores = np.array(sim_scores)\n",
    "                movie_ratings = np.array(movie_ratings)\n",
    "                user_idx = np.argsort(sim_scores)\n",
    "                sim_scores = sim_scores[user_idx][-neighbor_size:]\n",
    "                movie_ratings = movie_ratings[user_idx][-neighbor_size:]\n",
    "                prediction = np.dot(sim_scores, movie_ratings) / sim_scores.sum()\n",
    "                prediction = prediction + rating_mean[user_id]\n",
    "            else:\n",
    "                prediction = rating_mean[user_id]\n",
    "    else:\n",
    "        prediction = rating_mean[user_id]\n",
    "    return prediction"
   ]
  },
  {
   "cell_type": "code",
   "execution_count": 44,
   "metadata": {},
   "outputs": [],
   "source": [
    "##### MF 추천 알고리즘 >>>>>>>>>>>>>>>\n",
    "\n",
    "class NEW_MF():\n",
    "    def __init__(self, ratings, K, alpha, beta, iterations, verbose=True):\n",
    "        self.R = np.array(ratings)\n",
    "        item_id_index = []\n",
    "        index_item_id = []\n",
    "        for i, one_id in enumerate(ratings):\n",
    "            item_id_index.append([one_id, i])\n",
    "            index_item_id.append([i, one_id])\n",
    "        self.item_id_index = dict(item_id_index)\n",
    "        self.index_item_id = dict(index_item_id)        \n",
    "        user_id_index = []\n",
    "        index_user_id = []\n",
    "        for i, one_id in enumerate(ratings.T):\n",
    "            user_id_index.append([one_id, i])\n",
    "            index_user_id.append([i, one_id])\n",
    "        self.user_id_index = dict(user_id_index)\n",
    "        self.index_user_id = dict(index_user_id)\n",
    "        self.num_users, self.num_items = np.shape(self.R)\n",
    "        self.K = K\n",
    "        self.alpha = alpha\n",
    "        self.beta = beta\n",
    "        self.iterations = iterations\n",
    "        self.verbose = verbose\n",
    "\n",
    "    # train set의 RMSE 계산\n",
    "    def rmse(self):\n",
    "        xs, ys = self.R.nonzero()\n",
    "        self.predictions = []\n",
    "        self.errors = []\n",
    "        for x, y in zip(xs, ys):\n",
    "            prediction = self.get_prediction(x, y)\n",
    "            self.predictions.append(prediction)\n",
    "            self.errors.append(self.R[x, y] - prediction)\n",
    "        self.predictions = np.array(self.predictions)\n",
    "        self.errors = np.array(self.errors)\n",
    "        return np.sqrt(np.mean(self.errors**2))\n",
    "\n",
    "    # Ratings for user i and item j\n",
    "    def get_prediction(self, i, j):\n",
    "        prediction = self.b + self.b_u[i] + self.b_d[j] + self.P[i, :].dot(self.Q[j, :].T)\n",
    "        return prediction\n",
    "\n",
    "    # Stochastic gradient descent to get optimized P and Q matrix\n",
    "    def sgd(self):\n",
    "        for i, j, r in self.samples:\n",
    "            prediction = self.get_prediction(i, j)\n",
    "            e = (r - prediction)\n",
    "\n",
    "            self.b_u[i] += self.alpha * (e - self.beta * self.b_u[i])\n",
    "            self.b_d[j] += self.alpha * (e - self.beta * self.b_d[j])\n",
    "\n",
    "            self.P[i, :] += self.alpha * (e * self.Q[j, :] - self.beta * self.P[i,:])\n",
    "            self.Q[j, :] += self.alpha * (e * self.P[i, :] - self.beta * self.Q[j,:])\n",
    "\n",
    "    # Test set을 선정\n",
    "    def set_test(self, ratings_test):\n",
    "        test_set = []\n",
    "        for i in range(len(ratings_test)):\n",
    "            x = self.user_id_index[ratings_test.iloc[i, 0]]\n",
    "            y = self.item_id_index[ratings_test.iloc[i, 1]]\n",
    "            z = ratings_test.iloc[i, 2]\n",
    "            test_set.append([x, y, z])\n",
    "            self.R[x, y] = 0                    # Setting test set ratings to 0\n",
    "        self.test_set = test_set\n",
    "        return test_set                         # Return test set\n",
    "\n",
    "    # Test set의 RMSE 계산\n",
    "    def test_rmse(self):\n",
    "        error = 0\n",
    "        for one_set in self.test_set:\n",
    "            predicted = self.get_prediction(one_set[0], one_set[1])\n",
    "            error += pow(one_set[2] - predicted, 2)\n",
    "        return np.sqrt(error/len(self.test_set))\n",
    "\n",
    "    # Training 하면서 test set의 정확도를 계산\n",
    "    def test(self):\n",
    "        # Initializing user-feature and item-feature matrix\n",
    "        self.P = np.random.normal(scale=1./self.K, size=(self.num_users, self.K))\n",
    "        self.Q = np.random.normal(scale=1./self.K, size=(self.num_items, self.K))\n",
    "\n",
    "        # Initializing the bias terms\n",
    "        self.b_u = np.zeros(self.num_users)\n",
    "        self.b_d = np.zeros(self.num_items)\n",
    "        self.b = np.mean(self.R[self.R.nonzero()])\n",
    "\n",
    "        # List of training samples\n",
    "        rows, columns = self.R.nonzero()\n",
    "        self.samples = [(i, j, self.R[i,j]) for i, j in zip(rows, columns)]\n",
    "\n",
    "        # Stochastic gradient descent for given number of iterations\n",
    "        training_process = []\n",
    "        for i in range(self.iterations):\n",
    "            np.random.shuffle(self.samples)\n",
    "            self.sgd()\n",
    "            rmse1 = self.rmse()\n",
    "            rmse2 = self.test_rmse()\n",
    "            training_process.append((i+1, rmse1, rmse2))\n",
    "            if self.verbose:\n",
    "                if (i+1) % 10 == 0:\n",
    "                    print(\"Iteration: %d ; Train RMSE = %.4f ; Test RMSE = %.4f\" % (i+1, rmse1, rmse2))\n",
    "        return training_process\n",
    "\n",
    "    # Ratings for given user_id and item_id\n",
    "    def get_one_prediction(self, user_id, item_id):\n",
    "        prediction = self.get_prediction(self.user_id_index[user_id], self.item_id_index[item_id])\n",
    "        return prediction\n",
    "\n",
    "    # Full user-movie rating matrix\n",
    "    def full_prediction(self):\n",
    "        return self.b + self.b_u[:,np.newaxis] + self.b_d[np.newaxis,:] + self.P.dot(self.Q.T)"
   ]
  },
  {
   "cell_type": "code",
   "execution_count": 45,
   "metadata": {},
   "outputs": [
    {
     "name": "stdout",
     "output_type": "stream",
     "text": [
      "Iteration: 10 ; Train RMSE = 0.9675 ; Test RMSE = 0.9821\n",
      "Iteration: 20 ; Train RMSE = 0.9432 ; Test RMSE = 0.9619\n",
      "Iteration: 30 ; Train RMSE = 0.9326 ; Test RMSE = 0.9536\n",
      "Iteration: 40 ; Train RMSE = 0.9265 ; Test RMSE = 0.9491\n",
      "Iteration: 50 ; Train RMSE = 0.9226 ; Test RMSE = 0.9464\n",
      "Iteration: 60 ; Train RMSE = 0.9199 ; Test RMSE = 0.9446\n",
      "Iteration: 70 ; Train RMSE = 0.9177 ; Test RMSE = 0.9434\n",
      "Iteration: 80 ; Train RMSE = 0.9159 ; Test RMSE = 0.9424\n",
      "Iteration: 90 ; Train RMSE = 0.9142 ; Test RMSE = 0.9417\n",
      "Iteration: 100 ; Train RMSE = 0.9123 ; Test RMSE = 0.9409\n",
      "Iteration: 110 ; Train RMSE = 0.9100 ; Test RMSE = 0.9401\n",
      "Iteration: 120 ; Train RMSE = 0.9070 ; Test RMSE = 0.9390\n",
      "Iteration: 130 ; Train RMSE = 0.9026 ; Test RMSE = 0.9375\n",
      "Iteration: 140 ; Train RMSE = 0.8964 ; Test RMSE = 0.9351\n",
      "Iteration: 150 ; Train RMSE = 0.8880 ; Test RMSE = 0.9320\n",
      "Iteration: 160 ; Train RMSE = 0.8773 ; Test RMSE = 0.9283\n",
      "Iteration: 170 ; Train RMSE = 0.8647 ; Test RMSE = 0.9245\n",
      "Iteration: 180 ; Train RMSE = 0.8509 ; Test RMSE = 0.9210\n",
      "Iteration: 190 ; Train RMSE = 0.8357 ; Test RMSE = 0.9179\n",
      "Iteration: 200 ; Train RMSE = 0.8192 ; Test RMSE = 0.9151\n",
      "Iteration: 210 ; Train RMSE = 0.8012 ; Test RMSE = 0.9126\n",
      "Iteration: 220 ; Train RMSE = 0.7818 ; Test RMSE = 0.9106\n",
      "Iteration: 230 ; Train RMSE = 0.7609 ; Test RMSE = 0.9090\n",
      "Iteration: 240 ; Train RMSE = 0.7388 ; Test RMSE = 0.9079\n",
      "Iteration: 250 ; Train RMSE = 0.7158 ; Test RMSE = 0.9073\n"
     ]
    }
   ],
   "source": [
    "# MF클래스 생성 및 학습\n",
    "R_temp = ratings.pivot(index='user_id', columns='movie_id', values='rating').fillna(0)\n",
    "mf = NEW_MF(R_temp, K=200, alpha=0.001, beta=0.02, iterations=250, verbose=True)\n",
    "test_set = mf.set_test(ratings_test)\n",
    "result = mf.test()"
   ]
  },
  {
   "cell_type": "code",
   "execution_count": 46,
   "metadata": {},
   "outputs": [],
   "source": [
    "##### Hybrid 추천 알고리즘\n",
    "\n",
    "def recommender0(recomm_list, mf):\n",
    "    recommendations = np.array([mf.get_one_prediction(user, movie) for (user, movie) in recomm_list])\n",
    "    return recommendations\n",
    "\n",
    "def recommender1(recomm_list, neighbor_size=0):\n",
    "    recommendations = np.array([CF_knn_bias(user, movie, neighbor_size) for (user, movie) in recomm_list])\n",
    "    return recommendations"
   ]
  },
  {
   "cell_type": "code",
   "execution_count": 47,
   "metadata": {},
   "outputs": [
    {
     "name": "stdout",
     "output_type": "stream",
     "text": [
      "Weights - 0.00 : 1.00 ; RMSE = 0.9449573\n",
      "Weights - 0.01 : 0.99 ; RMSE = 0.9441236\n",
      "Weights - 0.02 : 0.98 ; RMSE = 0.9432985\n",
      "Weights - 0.03 : 0.97 ; RMSE = 0.9424821\n",
      "Weights - 0.04 : 0.96 ; RMSE = 0.9416744\n",
      "Weights - 0.05 : 0.95 ; RMSE = 0.9408755\n",
      "Weights - 0.06 : 0.94 ; RMSE = 0.9400853\n",
      "Weights - 0.07 : 0.93 ; RMSE = 0.9393039\n",
      "Weights - 0.08 : 0.92 ; RMSE = 0.9385312\n",
      "Weights - 0.09 : 0.91 ; RMSE = 0.9377674\n",
      "Weights - 0.10 : 0.90 ; RMSE = 0.9370124\n",
      "Weights - 0.11 : 0.89 ; RMSE = 0.9362662\n",
      "Weights - 0.12 : 0.88 ; RMSE = 0.9355290\n",
      "Weights - 0.13 : 0.87 ; RMSE = 0.9348006\n",
      "Weights - 0.14 : 0.86 ; RMSE = 0.9340812\n",
      "Weights - 0.15 : 0.85 ; RMSE = 0.9333707\n",
      "Weights - 0.16 : 0.84 ; RMSE = 0.9326691\n",
      "Weights - 0.17 : 0.83 ; RMSE = 0.9319766\n",
      "Weights - 0.18 : 0.82 ; RMSE = 0.9312930\n",
      "Weights - 0.19 : 0.81 ; RMSE = 0.9306185\n",
      "Weights - 0.20 : 0.80 ; RMSE = 0.9299530\n",
      "Weights - 0.21 : 0.79 ; RMSE = 0.9292966\n",
      "Weights - 0.22 : 0.78 ; RMSE = 0.9286492\n",
      "Weights - 0.23 : 0.77 ; RMSE = 0.9280110\n",
      "Weights - 0.24 : 0.76 ; RMSE = 0.9273818\n",
      "Weights - 0.25 : 0.75 ; RMSE = 0.9267618\n",
      "Weights - 0.26 : 0.74 ; RMSE = 0.9261510\n",
      "Weights - 0.27 : 0.73 ; RMSE = 0.9255493\n",
      "Weights - 0.28 : 0.72 ; RMSE = 0.9249568\n",
      "Weights - 0.29 : 0.71 ; RMSE = 0.9243735\n",
      "Weights - 0.30 : 0.70 ; RMSE = 0.9237995\n",
      "Weights - 0.31 : 0.69 ; RMSE = 0.9232346\n",
      "Weights - 0.32 : 0.68 ; RMSE = 0.9226791\n",
      "Weights - 0.33 : 0.67 ; RMSE = 0.9221328\n",
      "Weights - 0.34 : 0.66 ; RMSE = 0.9215958\n",
      "Weights - 0.35 : 0.65 ; RMSE = 0.9210682\n",
      "Weights - 0.36 : 0.64 ; RMSE = 0.9205498\n",
      "Weights - 0.37 : 0.63 ; RMSE = 0.9200408\n",
      "Weights - 0.38 : 0.62 ; RMSE = 0.9195411\n",
      "Weights - 0.39 : 0.61 ; RMSE = 0.9190509\n",
      "Weights - 0.40 : 0.60 ; RMSE = 0.9185700\n",
      "Weights - 0.41 : 0.59 ; RMSE = 0.9180985\n",
      "Weights - 0.42 : 0.58 ; RMSE = 0.9176364\n",
      "Weights - 0.43 : 0.57 ; RMSE = 0.9171837\n",
      "Weights - 0.44 : 0.56 ; RMSE = 0.9167405\n",
      "Weights - 0.45 : 0.55 ; RMSE = 0.9163068\n",
      "Weights - 0.46 : 0.54 ; RMSE = 0.9158825\n",
      "Weights - 0.47 : 0.53 ; RMSE = 0.9154677\n",
      "Weights - 0.48 : 0.52 ; RMSE = 0.9150624\n",
      "Weights - 0.49 : 0.51 ; RMSE = 0.9146666\n",
      "Weights - 0.50 : 0.50 ; RMSE = 0.9142804\n",
      "Weights - 0.51 : 0.49 ; RMSE = 0.9139036\n",
      "Weights - 0.52 : 0.48 ; RMSE = 0.9135364\n",
      "Weights - 0.53 : 0.47 ; RMSE = 0.9131788\n",
      "Weights - 0.54 : 0.46 ; RMSE = 0.9128308\n",
      "Weights - 0.55 : 0.45 ; RMSE = 0.9124923\n",
      "Weights - 0.56 : 0.44 ; RMSE = 0.9121634\n",
      "Weights - 0.57 : 0.43 ; RMSE = 0.9118441\n",
      "Weights - 0.58 : 0.42 ; RMSE = 0.9115344\n",
      "Weights - 0.59 : 0.41 ; RMSE = 0.9112344\n",
      "Weights - 0.60 : 0.40 ; RMSE = 0.9109439\n",
      "Weights - 0.61 : 0.39 ; RMSE = 0.9106632\n",
      "Weights - 0.62 : 0.38 ; RMSE = 0.9103920\n",
      "Weights - 0.63 : 0.37 ; RMSE = 0.9101305\n",
      "Weights - 0.64 : 0.36 ; RMSE = 0.9098787\n",
      "Weights - 0.65 : 0.35 ; RMSE = 0.9096366\n",
      "Weights - 0.66 : 0.34 ; RMSE = 0.9094041\n",
      "Weights - 0.67 : 0.33 ; RMSE = 0.9091813\n",
      "Weights - 0.68 : 0.32 ; RMSE = 0.9089683\n",
      "Weights - 0.69 : 0.31 ; RMSE = 0.9087649\n",
      "Weights - 0.70 : 0.30 ; RMSE = 0.9085712\n",
      "Weights - 0.71 : 0.29 ; RMSE = 0.9083873\n",
      "Weights - 0.72 : 0.28 ; RMSE = 0.9082130\n",
      "Weights - 0.73 : 0.27 ; RMSE = 0.9080485\n",
      "Weights - 0.74 : 0.26 ; RMSE = 0.9078937\n",
      "Weights - 0.75 : 0.25 ; RMSE = 0.9077487\n",
      "Weights - 0.76 : 0.24 ; RMSE = 0.9076134\n",
      "Weights - 0.77 : 0.23 ; RMSE = 0.9074879\n",
      "Weights - 0.78 : 0.22 ; RMSE = 0.9073721\n",
      "Weights - 0.79 : 0.21 ; RMSE = 0.9072660\n",
      "Weights - 0.80 : 0.20 ; RMSE = 0.9071697\n",
      "Weights - 0.81 : 0.19 ; RMSE = 0.9070832\n",
      "Weights - 0.82 : 0.18 ; RMSE = 0.9070064\n",
      "Weights - 0.83 : 0.17 ; RMSE = 0.9069394\n",
      "Weights - 0.84 : 0.16 ; RMSE = 0.9068822\n",
      "Weights - 0.85 : 0.15 ; RMSE = 0.9068347\n",
      "Weights - 0.86 : 0.14 ; RMSE = 0.9067970\n",
      "Weights - 0.87 : 0.13 ; RMSE = 0.9067691\n",
      "Weights - 0.88 : 0.12 ; RMSE = 0.9067509\n",
      "Weights - 0.89 : 0.11 ; RMSE = 0.9067426\n",
      "Weights - 0.90 : 0.10 ; RMSE = 0.9067440\n",
      "Weights - 0.91 : 0.09 ; RMSE = 0.9067551\n",
      "Weights - 0.92 : 0.08 ; RMSE = 0.9067761\n",
      "Weights - 0.93 : 0.07 ; RMSE = 0.9068068\n",
      "Weights - 0.94 : 0.06 ; RMSE = 0.9068473\n",
      "Weights - 0.95 : 0.05 ; RMSE = 0.9068975\n",
      "Weights - 0.96 : 0.04 ; RMSE = 0.9069576\n",
      "Weights - 0.97 : 0.03 ; RMSE = 0.9070274\n",
      "Weights - 0.98 : 0.02 ; RMSE = 0.9071069\n",
      "Weights - 0.99 : 0.01 ; RMSE = 0.9071963\n"
     ]
    }
   ],
   "source": [
    "recomm_list = np.array(ratings_test.iloc[:, [0, 1]])\n",
    "\n",
    "predictions0 = recommender0(recomm_list, mf)\n",
    "RMSE2(ratings_test.iloc[:, 2], predictions0)\n",
    "\n",
    "predictions1 = recommender1(recomm_list, 37)\n",
    "RMSE2(ratings_test.iloc[:, 2], predictions1)\n",
    "\n",
    "weight = [0.8, 0.2]\n",
    "predictions = predictions0 * weight[0] + predictions1 * weight[1]\n",
    "RMSE2(ratings_test.iloc[:, 2], predictions)\n",
    "\n",
    "for i in np.arange(0, 1, 0.01):\n",
    "    weight = [i, 1.0 - i]\n",
    "    predictions = predictions0 * weight[0] + predictions1 * weight[1]\n",
    "    print(\"Weights - %.2f : %.2f ; RMSE = %.7f\" % (weight[0], \n",
    "           weight[1], RMSE2(ratings_test.iloc[:, 2], predictions)))"
   ]
  },
  {
   "cell_type": "markdown",
   "metadata": {},
   "source": [
    "# 8. 대규모 데이터의 처리를 위한 희소 행렬 사용"
   ]
  },
  {
   "cell_type": "markdown",
   "metadata": {},
   "source": [
    "## 8.1 Sparse matrix의 개념과 Python에서의 사용"
   ]
  },
  {
   "cell_type": "markdown",
   "metadata": {},
   "source": [
    "## 8.2 Sparse matrix를 추천 알고리즘에 적용하기"
   ]
  }
 ],
 "metadata": {
  "interpreter": {
   "hash": "3c726b45dd7293eb31a34b8969b40a947eb51be7b196d382e5dff74d4c7ac181"
  },
  "kernelspec": {
   "display_name": "Python 3.9.7 ('saltlux_deep_lecture')",
   "language": "python",
   "name": "python3"
  },
  "language_info": {
   "codemirror_mode": {
    "name": "ipython",
    "version": 3
   },
   "file_extension": ".py",
   "mimetype": "text/x-python",
   "name": "python",
   "nbconvert_exporter": "python",
   "pygments_lexer": "ipython3",
   "version": "3.9.7"
  },
  "orig_nbformat": 4
 },
 "nbformat": 4,
 "nbformat_minor": 2
}
