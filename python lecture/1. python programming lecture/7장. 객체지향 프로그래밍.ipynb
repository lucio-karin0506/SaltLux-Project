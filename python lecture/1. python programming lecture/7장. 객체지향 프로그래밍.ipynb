{
 "cells": [
  {
   "cell_type": "markdown",
   "id": "c74a7278",
   "metadata": {
    "heading_collapsed": true
   },
   "source": [
    "## 1절. 객체와 클래스"
   ]
  },
  {
   "cell_type": "code",
   "execution_count": null,
   "id": "8825d3b6",
   "metadata": {
    "ExecuteTime": {
     "end_time": "2021-11-17T01:34:14.014809Z",
     "start_time": "2021-11-17T01:34:13.997242Z"
    },
    "hidden": true
   },
   "outputs": [],
   "source": [
    "class Person:\n",
    "    pass"
   ]
  },
  {
   "cell_type": "code",
   "execution_count": null,
   "id": "1e66fba2",
   "metadata": {
    "ExecuteTime": {
     "end_time": "2021-11-17T01:34:38.880012Z",
     "start_time": "2021-11-17T01:34:38.873016Z"
    },
    "hidden": true
   },
   "outputs": [],
   "source": [
    "p1 = Person()\n",
    "p1\n",
    "type(p1)"
   ]
  },
  {
   "cell_type": "markdown",
   "id": "749ee69f",
   "metadata": {
    "heading_collapsed": true
   },
   "source": [
    "## 2절. 변수와 메서드"
   ]
  },
  {
   "cell_type": "code",
   "execution_count": null,
   "id": "75475dee",
   "metadata": {
    "ExecuteTime": {
     "end_time": "2021-11-17T01:38:38.985541Z",
     "start_time": "2021-11-17T01:38:38.975568Z"
    },
    "hidden": true
   },
   "outputs": [],
   "source": [
    "class Person:\n",
    "    name = \"홍길동\"\n",
    "    gender = \"남자\"\n",
    "\n",
    "p1 = Person()\n",
    "p1.name"
   ]
  },
  {
   "cell_type": "code",
   "execution_count": null,
   "id": "9a8464f2",
   "metadata": {
    "ExecuteTime": {
     "end_time": "2021-11-17T02:11:24.559419Z",
     "start_time": "2021-11-17T02:11:24.550416Z"
    },
    "hidden": true
   },
   "outputs": [],
   "source": [
    "class Person:\n",
    "    name = \"홍길동\"\n",
    "    gender = \"남자\"\n",
    "    \n",
    "    def print_info(self):\n",
    "        print(f\"{self.name}의 {self.gender}\")\n",
    "        \n",
    "p1 = Person()\n",
    "p1.name = 'yoon'\n",
    "p1.gender = 'man'\n",
    "p1.print_info()"
   ]
  },
  {
   "cell_type": "code",
   "execution_count": null,
   "id": "96d259ce",
   "metadata": {
    "ExecuteTime": {
     "end_time": "2021-11-17T02:34:41.087653Z",
     "start_time": "2021-11-17T02:34:41.075685Z"
    },
    "hidden": true
   },
   "outputs": [],
   "source": [
    "# class method and static method\n",
    "class Person:\n",
    "    name = 'a'\n",
    "    gender = 'male'\n",
    "    \n",
    "    def print_info(self):\n",
    "        print(f'{self.name} and {self.gender}')\n",
    "        \n",
    "    @classmethod\n",
    "    def do_(cls):\n",
    "        print(f'name: {cls.name}, gender: {cls.gender}')\n",
    "        \n",
    "    @staticmethod\n",
    "    def that_():\n",
    "        print(f'name is {Person.name} and gender is {Person.gender}')\n",
    "  \n",
    "# p1 객체의 변수 값 수정하더라도 클래스 및 정적 메소드가 참조하는 변수는 클래스 변수\n",
    "# 바뀌지 않는다!!\n",
    "p1.name = 'lee'\n",
    "Person.do_()"
   ]
  },
  {
   "cell_type": "code",
   "execution_count": null,
   "id": "e42ef48a",
   "metadata": {
    "ExecuteTime": {
     "end_time": "2021-11-17T02:34:49.087811Z",
     "start_time": "2021-11-17T02:34:49.080800Z"
    },
    "hidden": true
   },
   "outputs": [],
   "source": [
    "Person.that_()"
   ]
  },
  {
   "cell_type": "markdown",
   "id": "2ee7ffbe",
   "metadata": {
    "heading_collapsed": true
   },
   "source": [
    "## 3절. 생성자와 소멸자"
   ]
  },
  {
   "cell_type": "code",
   "execution_count": null,
   "id": "37b6bef5",
   "metadata": {
    "ExecuteTime": {
     "end_time": "2021-11-17T03:26:48.687196Z",
     "start_time": "2021-11-17T03:26:48.675190Z"
    },
    "hidden": true
   },
   "outputs": [],
   "source": [
    "class Person:\n",
    "    def __init__(self):\n",
    "        print(f'Person 객체({id(self)}) 생성')\n",
    "        self.name = 'yoon'\n",
    "        self.gender = 'male'\n",
    "        \n",
    "    def __del__(self):\n",
    "        print(f'Person 객체({id(self)}) 소멸')\n",
    "        \n",
    "    def print_info(self):\n",
    "        print(f'{self.name} and {self.gender}')\n",
    "        \n",
    "p1 = Person()\n",
    "p1.print_info()"
   ]
  },
  {
   "cell_type": "code",
   "execution_count": null,
   "id": "26c7f705",
   "metadata": {
    "ExecuteTime": {
     "end_time": "2021-11-17T03:26:52.340519Z",
     "start_time": "2021-11-17T03:26:52.331543Z"
    },
    "hidden": true
   },
   "outputs": [],
   "source": [
    "p2 = Person()\n",
    "p2 = None"
   ]
  },
  {
   "cell_type": "code",
   "execution_count": null,
   "id": "10c82c8d",
   "metadata": {
    "ExecuteTime": {
     "end_time": "2021-11-17T03:26:57.451577Z",
     "start_time": "2021-11-17T03:26:57.435430Z"
    },
    "hidden": true
   },
   "outputs": [],
   "source": [
    "p3 = Person()\n",
    "del p3"
   ]
  },
  {
   "cell_type": "code",
   "execution_count": null,
   "id": "ac44b810",
   "metadata": {
    "ExecuteTime": {
     "end_time": "2021-11-17T03:28:34.232659Z",
     "start_time": "2021-11-17T03:28:34.219666Z"
    },
    "hidden": true
   },
   "outputs": [],
   "source": [
    "class Person:\n",
    "    def __init__(self, name, gender):\n",
    "        print(f'Person 객체({name}, {gender}) 생성')\n",
    "        self.name = name\n",
    "        self.gender = gender\n",
    "        \n",
    "    def __del__(self):\n",
    "        print(f'Person 객체({name}, {gender}) 소멸')\n",
    "        \n",
    "    def print_info(self):\n",
    "        print(f'{self.name} and {self.gender}')"
   ]
  },
  {
   "cell_type": "code",
   "execution_count": null,
   "id": "cafcb340",
   "metadata": {
    "ExecuteTime": {
     "end_time": "2021-11-17T03:28:46.082368Z",
     "start_time": "2021-11-17T03:28:46.071397Z"
    },
    "hidden": true
   },
   "outputs": [],
   "source": [
    "del p1, p2"
   ]
  },
  {
   "cell_type": "code",
   "execution_count": null,
   "id": "5b950473",
   "metadata": {
    "ExecuteTime": {
     "end_time": "2021-11-17T03:29:21.898780Z",
     "start_time": "2021-11-17T03:29:21.880206Z"
    },
    "hidden": true
   },
   "outputs": [],
   "source": [
    "p1 = Person('yoon', 'male')\n",
    "p1.print_info()"
   ]
  },
  {
   "cell_type": "markdown",
   "id": "d6cfe2c1",
   "metadata": {
    "heading_collapsed": true
   },
   "source": [
    "## 4절. 상속과 재정의"
   ]
  },
  {
   "cell_type": "code",
   "execution_count": null,
   "id": "40391821",
   "metadata": {
    "ExecuteTime": {
     "end_time": "2021-11-17T05:26:56.318767Z",
     "start_time": "2021-11-17T05:26:56.301784Z"
    },
    "hidden": true
   },
   "outputs": [],
   "source": [
    "class Person:\n",
    "    def __init__(self, name, gender):\n",
    "        self.name = name\n",
    "        self.gender = gender\n",
    "        \n",
    "    def __str__(self):\n",
    "        return f'name: {self.name}, gender: {self.gender}'\n",
    "    \n",
    "    def print_info(self):\n",
    "        print(f'{self.name} is {self.gender}')\n",
    "\n",
    "class Student(Person):\n",
    "    def __init__(self, name, gender, major):\n",
    "        self.name = name\n",
    "        self.gender = gender\n",
    "        self.major = major\n",
    "        \n",
    "    def __del__(self):\n",
    "        pass\n",
    "\n",
    "issubclass(Student, Person)"
   ]
  },
  {
   "cell_type": "code",
   "execution_count": null,
   "id": "88bbec18",
   "metadata": {
    "ExecuteTime": {
     "end_time": "2021-11-17T05:33:43.919071Z",
     "start_time": "2021-11-17T05:33:43.909108Z"
    },
    "hidden": true
   },
   "outputs": [],
   "source": [
    "# 부모 클래스 생성자 사용\n",
    "class Student(Person):\n",
    "    def __init__(self, name, gender, major):\n",
    "        super().__init__(name, gender)\n",
    "        self.major = major\n",
    "        \n",
    "    def __del__(self):\n",
    "        pass\n",
    "    \n",
    "    def __str__(self):\n",
    "        return super().__str__() + f'{self.major}'\n",
    "    \n",
    "    def print_info(self):\n",
    "        super().print_info()\n",
    "        print(f'{self.name}, {self.gender}, {self.major}')\n",
    "    \n",
    "s1 = Student('yoon', 'male', 'computer')\n",
    "s1.print_info()"
   ]
  },
  {
   "cell_type": "code",
   "execution_count": null,
   "id": "33edd6c4",
   "metadata": {
    "ExecuteTime": {
     "end_time": "2021-11-17T05:34:38.861432Z",
     "start_time": "2021-11-17T05:34:38.847468Z"
    },
    "hidden": true
   },
   "outputs": [],
   "source": [
    "s2 = Student('lee', 'female', 'economics')\n",
    "print(s2)"
   ]
  },
  {
   "cell_type": "code",
   "execution_count": null,
   "id": "d1fc7ce2",
   "metadata": {
    "ExecuteTime": {
     "end_time": "2021-11-17T05:30:49.374598Z",
     "start_time": "2021-11-17T05:30:49.363629Z"
    },
    "hidden": true
   },
   "outputs": [],
   "source": [
    "Student.__dict__"
   ]
  },
  {
   "cell_type": "code",
   "execution_count": null,
   "id": "19b75881",
   "metadata": {
    "ExecuteTime": {
     "end_time": "2021-11-17T05:44:40.798381Z",
     "start_time": "2021-11-17T05:44:40.780456Z"
    },
    "hidden": true
   },
   "outputs": [],
   "source": [
    "class Point2D:\n",
    "    def __init__(self, x=10, y=20):\n",
    "        self.x = x\n",
    "        self.y = y\n",
    "        \n",
    "    def print_info(self):\n",
    "        print(f'x: {self.x}, y: {self.y}')"
   ]
  },
  {
   "cell_type": "code",
   "execution_count": null,
   "id": "f89316a2",
   "metadata": {
    "ExecuteTime": {
     "end_time": "2021-11-17T05:44:43.039562Z",
     "start_time": "2021-11-17T05:44:43.035601Z"
    },
    "hidden": true
   },
   "outputs": [],
   "source": [
    "p1 = Point2D(100, 200)\n",
    "p1.print_info()"
   ]
  },
  {
   "cell_type": "code",
   "execution_count": null,
   "id": "5d045f35",
   "metadata": {
    "ExecuteTime": {
     "end_time": "2021-11-17T05:44:49.415746Z",
     "start_time": "2021-11-17T05:44:49.402781Z"
    },
    "hidden": true
   },
   "outputs": [],
   "source": [
    "p2 = Point2D()\n",
    "p2.print_info()"
   ]
  },
  {
   "cell_type": "code",
   "execution_count": null,
   "id": "4c1ee8a6",
   "metadata": {
    "ExecuteTime": {
     "end_time": "2021-11-17T05:50:22.479872Z",
     "start_time": "2021-11-17T05:50:22.473860Z"
    },
    "hidden": true
   },
   "outputs": [],
   "source": [
    "class Point3D(Point2D):\n",
    "    def __init__(self, x=10, y=20, z=30):\n",
    "        super().__init__(x, y)\n",
    "        self.z = z\n",
    "        \n",
    "    def print_info(self):\n",
    "        super().print_info()\n",
    "        print(f'x: {self.x}, y: {self.y}, z: {self.z}')"
   ]
  },
  {
   "cell_type": "code",
   "execution_count": null,
   "id": "b6367694",
   "metadata": {
    "ExecuteTime": {
     "end_time": "2021-11-17T05:50:38.829168Z",
     "start_time": "2021-11-17T05:50:38.818198Z"
    },
    "hidden": true
   },
   "outputs": [],
   "source": [
    "p3 = Point3D(100, 200, 300)\n",
    "p3.print_info()"
   ]
  },
  {
   "cell_type": "code",
   "execution_count": null,
   "id": "7b203790",
   "metadata": {
    "ExecuteTime": {
     "end_time": "2021-11-17T06:19:11.263113Z",
     "start_time": "2021-11-17T06:19:11.255106Z"
    },
    "hidden": true
   },
   "outputs": [],
   "source": [
    "Point3D.__dict__"
   ]
  },
  {
   "cell_type": "code",
   "execution_count": null,
   "id": "a76b6969",
   "metadata": {
    "ExecuteTime": {
     "end_time": "2021-11-17T06:48:16.298465Z",
     "start_time": "2021-11-17T06:48:16.287494Z"
    },
    "hidden": true
   },
   "outputs": [],
   "source": [
    "# 정적 변수\n",
    "class Test:\n",
    "    __count = 0\n",
    "    \n",
    "    def __init__(self):\n",
    "        Test._Test__count += 1\n",
    "        \n",
    "    def __del__(self):\n",
    "        Test._Test__count -= 1\n",
    "        \n",
    "    @staticmethod\n",
    "    def get_count():\n",
    "        return Test._Test__count"
   ]
  },
  {
   "cell_type": "code",
   "execution_count": null,
   "id": "2ecc1d19",
   "metadata": {
    "ExecuteTime": {
     "end_time": "2021-11-17T06:48:23.602187Z",
     "start_time": "2021-11-17T06:48:23.597200Z"
    },
    "hidden": true
   },
   "outputs": [],
   "source": [
    "# 정적 변수 접근\n",
    "print(Test._Test__count)"
   ]
  },
  {
   "cell_type": "code",
   "execution_count": null,
   "id": "21dabe0f",
   "metadata": {
    "ExecuteTime": {
     "end_time": "2021-11-17T06:48:30.991543Z",
     "start_time": "2021-11-17T06:48:30.975586Z"
    },
    "hidden": true
   },
   "outputs": [],
   "source": [
    "test1 = Test()\n",
    "test1._Test__count\n",
    "test1.get_count()\n",
    "\n",
    "test2 = Test()\n",
    "test2._Test__count\n",
    "test2.get_count()"
   ]
  },
  {
   "cell_type": "code",
   "execution_count": null,
   "id": "aa6275bf",
   "metadata": {
    "ExecuteTime": {
     "end_time": "2021-11-17T06:48:34.764078Z",
     "start_time": "2021-11-17T06:48:34.751124Z"
    },
    "hidden": true
   },
   "outputs": [],
   "source": [
    "del test2\n",
    "Test.get_count()"
   ]
  },
  {
   "cell_type": "markdown",
   "id": "a56e7777",
   "metadata": {},
   "source": [
    "## 5절. 연습문제"
   ]
  },
  {
   "cell_type": "code",
   "execution_count": 1,
   "id": "549cbd0a",
   "metadata": {
    "ExecuteTime": {
     "end_time": "2021-11-17T07:42:12.799230Z",
     "start_time": "2021-11-17T07:42:12.779285Z"
    }
   },
   "outputs": [],
   "source": [
    "class Shape:\n",
    "    \n",
    "    def __init__(self, x=0, y=0):\n",
    "        self.x = x\n",
    "        self.y = y\n",
    "        \n",
    "    def __str__(self):\n",
    "        return f'x: {self.x}, y: {self.y}'\n",
    "    \n",
    "    def move(self, move_x, move_y):\n",
    "        self.x = self.x + move_x\n",
    "        self.y = self.y + move_y\n",
    "    \n",
    "    def calc_area(self):\n",
    "        return 'not implemented'\n",
    "    \n",
    "    @staticmethod\n",
    "    def get_shape_info():\n",
    "        return 'this is shape info'\n",
    "    \n",
    "class Triangle(Shape):\n",
    "    __count = 0\n",
    "    \n",
    "    def __init__(self, x=0, y=0, tri_len=0, height=0):\n",
    "        Triangle._Triangle__count += 1\n",
    "        \n",
    "        super().__init__(x, y)\n",
    "        self.tri_len = tri_len\n",
    "        self.height = height\n",
    "        \n",
    "    def __del__(self):\n",
    "        Triangle._Triangle__count -= 1\n",
    "    \n",
    "    def calc_area(self):\n",
    "        area = (self.tri_len * self.height) / 2\n",
    "        return area\n",
    "        \n",
    "    def __str__(self):\n",
    "        return super().__str__() + ' ' + f'triangle tri_len: {self.tri_len}, height: {self.height}'\n",
    "    \n",
    "    @staticmethod\n",
    "    def get_count():\n",
    "        return Triangle._Triangle__count"
   ]
  },
  {
   "cell_type": "code",
   "execution_count": 2,
   "id": "2d59c59c",
   "metadata": {
    "ExecuteTime": {
     "end_time": "2021-11-17T07:42:15.159399Z",
     "start_time": "2021-11-17T07:42:15.144439Z"
    }
   },
   "outputs": [
    {
     "name": "stdout",
     "output_type": "stream",
     "text": [
      "100.0\n"
     ]
    }
   ],
   "source": [
    "t1 = Triangle(tri_len=10, height=20)\n",
    "print(t1.calc_area())"
   ]
  },
  {
   "cell_type": "code",
   "execution_count": 3,
   "id": "83c5e926",
   "metadata": {
    "ExecuteTime": {
     "end_time": "2021-11-17T07:42:17.237727Z",
     "start_time": "2021-11-17T07:42:17.228767Z"
    }
   },
   "outputs": [
    {
     "name": "stdout",
     "output_type": "stream",
     "text": [
      "x: 0, y: 0 triangle tri_len: 10, height: 20\n"
     ]
    }
   ],
   "source": [
    "print(t1)"
   ]
  },
  {
   "cell_type": "code",
   "execution_count": 4,
   "id": "b31d737c",
   "metadata": {
    "ExecuteTime": {
     "end_time": "2021-11-17T07:42:18.671570Z",
     "start_time": "2021-11-17T07:42:18.659601Z"
    }
   },
   "outputs": [
    {
     "name": "stdout",
     "output_type": "stream",
     "text": [
      "x: 5, y: 10 triangle tri_len: 10, height: 20\n"
     ]
    }
   ],
   "source": [
    "t1.move(5, 10)\n",
    "print(t1)"
   ]
  },
  {
   "cell_type": "code",
   "execution_count": 5,
   "id": "21c1de88",
   "metadata": {
    "ExecuteTime": {
     "end_time": "2021-11-17T07:42:19.699363Z",
     "start_time": "2021-11-17T07:42:19.688420Z"
    }
   },
   "outputs": [
    {
     "name": "stdout",
     "output_type": "stream",
     "text": [
      "1\n"
     ]
    }
   ],
   "source": [
    "print(Triangle._Triangle__count)"
   ]
  },
  {
   "cell_type": "code",
   "execution_count": 6,
   "id": "556168ed",
   "metadata": {
    "ExecuteTime": {
     "end_time": "2021-11-17T07:42:26.591102Z",
     "start_time": "2021-11-17T07:42:26.574040Z"
    }
   },
   "outputs": [
    {
     "name": "stdout",
     "output_type": "stream",
     "text": [
      "2\n"
     ]
    }
   ],
   "source": [
    "t2 = Triangle(20, 40)\n",
    "print(Triangle._Triangle__count)"
   ]
  },
  {
   "cell_type": "code",
   "execution_count": 7,
   "id": "57cf5755",
   "metadata": {
    "ExecuteTime": {
     "end_time": "2021-11-17T07:42:28.695965Z",
     "start_time": "2021-11-17T07:42:28.681908Z"
    }
   },
   "outputs": [
    {
     "name": "stdout",
     "output_type": "stream",
     "text": [
      "2\n"
     ]
    }
   ],
   "source": [
    "print(Triangle.get_count())"
   ]
  },
  {
   "cell_type": "code",
   "execution_count": 9,
   "id": "624aead5",
   "metadata": {
    "ExecuteTime": {
     "end_time": "2021-11-17T07:42:51.227445Z",
     "start_time": "2021-11-17T07:42:51.221429Z"
    }
   },
   "outputs": [
    {
     "name": "stdout",
     "output_type": "stream",
     "text": [
      "1\n"
     ]
    }
   ],
   "source": [
    "t1 = None\n",
    "print(Triangle._Triangle__count)"
   ]
  }
 ],
 "metadata": {
  "kernelspec": {
   "display_name": "saltlux_lecture",
   "language": "python",
   "name": "saltlux_lecture"
  },
  "language_info": {
   "codemirror_mode": {
    "name": "ipython",
    "version": 3
   },
   "file_extension": ".py",
   "mimetype": "text/x-python",
   "name": "python",
   "nbconvert_exporter": "python",
   "pygments_lexer": "ipython3",
   "version": "3.9.7"
  },
  "toc": {
   "base_numbering": 1,
   "nav_menu": {},
   "number_sections": true,
   "sideBar": true,
   "skip_h1_title": false,
   "title_cell": "Table of Contents",
   "title_sidebar": "Contents",
   "toc_cell": false,
   "toc_position": {
    "height": "calc(100% - 180px)",
    "left": "10px",
    "top": "150px",
    "width": "202px"
   },
   "toc_section_display": true,
   "toc_window_display": true
  }
 },
 "nbformat": 4,
 "nbformat_minor": 5
}
