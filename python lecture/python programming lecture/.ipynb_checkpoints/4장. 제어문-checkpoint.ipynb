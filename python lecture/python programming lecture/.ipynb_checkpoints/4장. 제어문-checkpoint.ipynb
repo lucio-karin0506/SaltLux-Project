{
 "cells": [
  {
   "cell_type": "markdown",
   "id": "1be95623",
   "metadata": {
    "heading_collapsed": true
   },
   "source": [
    "## 1절 조건문"
   ]
  },
  {
   "cell_type": "code",
   "execution_count": 1,
   "id": "7544a945",
   "metadata": {
    "ExecuteTime": {
     "end_time": "2021-11-15T12:46:20.350561Z",
     "start_time": "2021-11-15T12:46:20.314392Z"
    },
    "hidden": true
   },
   "outputs": [
    {
     "name": "stdout",
     "output_type": "stream",
     "text": [
      "A\n"
     ]
    }
   ],
   "source": [
    "score = 92\n",
    "if score >= 90:\n",
    "    print('A')\n",
    "else:\n",
    "    print('nothing')"
   ]
  },
  {
   "cell_type": "code",
   "execution_count": 2,
   "id": "ba0da0a9",
   "metadata": {
    "ExecuteTime": {
     "end_time": "2021-11-15T12:46:20.370520Z",
     "start_time": "2021-11-15T12:46:20.356707Z"
    },
    "hidden": true
   },
   "outputs": [
    {
     "name": "stdout",
     "output_type": "stream",
     "text": [
      "C\n"
     ]
    }
   ],
   "source": [
    "score = 79\n",
    "if score >= 90:\n",
    "    print('A')\n",
    "elif score >= 80:\n",
    "    print('B')\n",
    "elif score >= 70:\n",
    "    print('C')\n",
    "elif score >= 60:\n",
    "    print('D')\n",
    "else:\n",
    "    print('F')"
   ]
  },
  {
   "cell_type": "code",
   "execution_count": 3,
   "id": "c6c3a7f7",
   "metadata": {
    "ExecuteTime": {
     "end_time": "2021-11-15T12:46:39.010088Z",
     "start_time": "2021-11-15T12:46:20.376028Z"
    },
    "hidden": true
   },
   "outputs": [
    {
     "name": "stdout",
     "output_type": "stream",
     "text": [
      "input grade: 56\n",
      "F\n"
     ]
    }
   ],
   "source": [
    "input_num = int(input('input grade: '))\n",
    "\n",
    "if input_num < 0 or input_num > 100:\n",
    "    print('wrong input type')\n",
    "else:\n",
    "    if input_num >= 90:\n",
    "        print('A')\n",
    "    elif input_num >= 80:\n",
    "        print('B')\n",
    "    elif input_num >= 70:\n",
    "        print('C')\n",
    "    elif input_num >= 60:\n",
    "        print('D')\n",
    "    else:\n",
    "        print('F')"
   ]
  },
  {
   "cell_type": "code",
   "execution_count": 4,
   "id": "3af90865",
   "metadata": {
    "ExecuteTime": {
     "end_time": "2021-11-15T12:46:39.052982Z",
     "start_time": "2021-11-15T12:46:39.017992Z"
    },
    "hidden": true
   },
   "outputs": [
    {
     "data": {
      "text/plain": [
       "2"
      ]
     },
     "execution_count": 4,
     "metadata": {},
     "output_type": "execute_result"
    }
   ],
   "source": [
    "from random import random\n",
    "\n",
    "# 0.0이상 0.9999999999999999999 까지 난수 발생\n",
    "random()\n",
    "\n",
    "# 주사위 숫자 발생\n",
    "int(random() * 6) + 1"
   ]
  },
  {
   "cell_type": "code",
   "execution_count": 5,
   "id": "e9119366",
   "metadata": {
    "ExecuteTime": {
     "end_time": "2021-11-15T12:46:39.073298Z",
     "start_time": "2021-11-15T12:46:39.059586Z"
    },
    "hidden": true
   },
   "outputs": [
    {
     "data": {
      "text/plain": [
       "7"
      ]
     },
     "execution_count": 5,
     "metadata": {},
     "output_type": "execute_result"
    }
   ],
   "source": [
    "# 1\n",
    "int(random() * 11) + 4"
   ]
  },
  {
   "cell_type": "code",
   "execution_count": 6,
   "id": "4ed1c3a4",
   "metadata": {
    "ExecuteTime": {
     "end_time": "2021-11-15T12:46:39.102722Z",
     "start_time": "2021-11-15T12:46:39.080952Z"
    },
    "hidden": true,
    "scrolled": true
   },
   "outputs": [
    {
     "data": {
      "text/plain": [
       "1600"
      ]
     },
     "execution_count": 6,
     "metadata": {},
     "output_type": "execute_result"
    }
   ],
   "source": [
    "# 2\n",
    "(int(random()*18)+6)*100"
   ]
  },
  {
   "cell_type": "code",
   "execution_count": 7,
   "id": "4ebf97fa",
   "metadata": {
    "ExecuteTime": {
     "end_time": "2021-11-15T12:46:42.134418Z",
     "start_time": "2021-11-15T12:46:39.107414Z"
    },
    "hidden": true
   },
   "outputs": [
    {
     "name": "stdout",
     "output_type": "stream",
     "text": [
      "가위는 1, 바위는 2, 보는 3을 입력하세요 : 1\n",
      "you: 가위\n",
      "com: 보\n",
      "you 승리\n"
     ]
    }
   ],
   "source": [
    "# 3\n",
    "you = int(input('가위는 1, 바위는 2, 보는 3을 입력하세요 : '))\n",
    "com = int(random() * 3) + 1\n",
    "\n",
    "res_type = ['가위', '바위', '보']\n",
    "\n",
    "if(you == 1):\n",
    "    print(f'you: {res_type[0]}')\n",
    "elif(you == 2):\n",
    "    print(f'you: {res_type[1]}')\n",
    "elif(you == 3):\n",
    "    print(f'you: {res_type[2]}')\n",
    "    \n",
    "if(com == 1):\n",
    "    print(f'com: {res_type[0]}')\n",
    "elif(com == 2):\n",
    "    print(f'com: {res_type[1]}')\n",
    "elif(com == 3):\n",
    "    print(f'com: {res_type[2]}')\n",
    "    \n",
    "if(you == com):\n",
    "    print('무승부')\n",
    "elif((you==3 and com==2) or (you==1 and com==3) or (you==2 and com==1)):\n",
    "    print('you 승리')\n",
    "elif((you==2 and com==3) or (you==3 and com==1) or (you==1 and com==2)):\n",
    "    print('you 패배')"
   ]
  },
  {
   "cell_type": "markdown",
   "id": "d70fe083",
   "metadata": {
    "heading_collapsed": true
   },
   "source": [
    "## 2절 반복문"
   ]
  },
  {
   "cell_type": "code",
   "execution_count": 8,
   "id": "6983bed3",
   "metadata": {
    "ExecuteTime": {
     "end_time": "2021-11-15T12:46:42.150191Z",
     "start_time": "2021-11-15T12:46:42.139275Z"
    },
    "hidden": true
   },
   "outputs": [
    {
     "name": "stdout",
     "output_type": "stream",
     "text": [
      "0\t1\t2\t3\t4\t5\t6\t7\t8\t9\t"
     ]
    }
   ],
   "source": [
    "for i in range(0, 10):\n",
    "    print(i, end='\\t')"
   ]
  },
  {
   "cell_type": "code",
   "execution_count": 9,
   "id": "88e3e628",
   "metadata": {
    "ExecuteTime": {
     "end_time": "2021-11-15T12:46:42.172593Z",
     "start_time": "2021-11-15T12:46:42.157847Z"
    },
    "hidden": true,
    "scrolled": true
   },
   "outputs": [
    {
     "name": "stdout",
     "output_type": "stream",
     "text": [
      "reading is my favorite hobby\n",
      "fishing is my favorite hobby\n",
      "shopping is my favorite hobby\n"
     ]
    }
   ],
   "source": [
    "favorite_hobby = ['reading', 'fishing', 'shopping']\n",
    "for hobby in favorite_hobby :\n",
    "    print('%s is my favorite hobby' % hobby)"
   ]
  },
  {
   "cell_type": "code",
   "execution_count": 10,
   "id": "2ba522f9",
   "metadata": {
    "ExecuteTime": {
     "end_time": "2021-11-15T12:46:42.204211Z",
     "start_time": "2021-11-15T12:46:42.185318Z"
    },
    "hidden": true
   },
   "outputs": [
    {
     "name": "stdout",
     "output_type": "stream",
     "text": [
      "('apple', 'green')\n",
      "('banana', 'yellow')\n",
      "('cherry', 'red')\n",
      "apple green\n",
      "banana yellow\n",
      "cherry red\n"
     ]
    }
   ],
   "source": [
    "color = {\"apple\":\"green\", \"banana\":\"yellow\", \"cherry\":\"red\" }\n",
    "for c in color.items() :\n",
    "    print(c)\n",
    "for k, v in color.items() :\n",
    "    print(k, v)"
   ]
  },
  {
   "cell_type": "code",
   "execution_count": 11,
   "id": "133d0c75",
   "metadata": {
    "ExecuteTime": {
     "end_time": "2021-11-15T12:46:42.234649Z",
     "start_time": "2021-11-15T12:46:42.207160Z"
    },
    "hidden": true
   },
   "outputs": [
    {
     "name": "stdout",
     "output_type": "stream",
     "text": [
      "apple\n",
      "banana\n",
      "cherry\n",
      "green\n",
      "yellow\n",
      "red\n",
      "0 green\n",
      "1 yellow\n",
      "2 red\n"
     ]
    }
   ],
   "source": [
    "for k in color.keys() :\n",
    "    print(k)\n",
    "for v in color.values() :\n",
    "    print(v)   \n",
    "for i, k in enumerate(color.values()) :\n",
    "    print(i, k)"
   ]
  },
  {
   "cell_type": "code",
   "execution_count": 12,
   "id": "8db41775",
   "metadata": {
    "ExecuteTime": {
     "end_time": "2021-11-15T12:46:42.252596Z",
     "start_time": "2021-11-15T12:46:42.240195Z"
    },
    "hidden": true
   },
   "outputs": [
    {
     "name": "stdout",
     "output_type": "stream",
     "text": [
      "[0, 4, 16, 36, 64]\n"
     ]
    }
   ],
   "source": [
    "numbers = range(10)\n",
    "new_list = []\n",
    "for n in numbers:\n",
    "    if n%2==0:\n",
    "        new_list.append(n**2)\n",
    "print(new_list)"
   ]
  },
  {
   "cell_type": "code",
   "execution_count": 13,
   "id": "5bfe0a10",
   "metadata": {
    "ExecuteTime": {
     "end_time": "2021-11-15T12:46:42.272572Z",
     "start_time": "2021-11-15T12:46:42.259942Z"
    },
    "hidden": true
   },
   "outputs": [
    {
     "data": {
      "text/plain": [
       "[0, 4, 16, 36, 64]"
      ]
     },
     "execution_count": 13,
     "metadata": {},
     "output_type": "execute_result"
    }
   ],
   "source": [
    "new_list = [n**2 for n in numbers if n%2==0]\n",
    "new_list"
   ]
  },
  {
   "cell_type": "code",
   "execution_count": 14,
   "id": "d6b24094",
   "metadata": {
    "ExecuteTime": {
     "end_time": "2021-11-15T12:46:42.313699Z",
     "start_time": "2021-11-15T12:46:42.277152Z"
    },
    "hidden": true
   },
   "outputs": [
    {
     "name": "stdout",
     "output_type": "stream",
     "text": [
      "*****\n",
      "*****\n",
      "*****\n",
      "*****\n",
      "*****\n",
      "*\n",
      "**\n",
      "***\n",
      "****\n",
      "*****\n",
      "*****\n",
      "****\n",
      "***\n",
      "**\n",
      "*\n",
      "*****\n",
      " ****\n",
      "  ***\n",
      "   **\n",
      "    *\n",
      "    *\n",
      "   **\n",
      "  ***\n",
      " ****\n",
      "*****\n"
     ]
    }
   ],
   "source": [
    "# 윤세영\n",
    "# 1\n",
    "for _ in range(5):\n",
    "    for _ in range(5):\n",
    "        print('*', end='')\n",
    "    print('')\n",
    "        \n",
    "# 2\n",
    "for i in range(5):\n",
    "    for j in range(i+1):\n",
    "        print('*', end='')\n",
    "    print('')\n",
    "    \n",
    "# 3\n",
    "for i in range(5, 0, -1):\n",
    "    for j in range(i):\n",
    "        print('*', end='')\n",
    "    print('')\n",
    "    \n",
    "# 4\n",
    "for i in range(5, 0, -1):\n",
    "     print(\" \"*(5-i)+\"*\"*i)\n",
    "    \n",
    "# 5\n",
    "for i in range(1, 6): \n",
    "    print(\" \"*(5-i)+\"*\"*i)"
   ]
  },
  {
   "cell_type": "code",
   "execution_count": 15,
   "id": "6354f5dc",
   "metadata": {
    "ExecuteTime": {
     "end_time": "2021-11-15T12:46:42.339119Z",
     "start_time": "2021-11-15T12:46:42.315700Z"
    },
    "hidden": true
   },
   "outputs": [
    {
     "name": "stdout",
     "output_type": "stream",
     "text": [
      "2 * 1 = 2     3 * 1 = 3     4 * 1 = 4     5 * 1 = 5     \n",
      "2 * 2 = 4     3 * 2 = 6     4 * 2 = 8     5 * 2 = 10     \n",
      "2 * 3 = 6     3 * 3 = 9     4 * 3 = 12     5 * 3 = 15     \n",
      "2 * 4 = 8     3 * 4 = 12     4 * 4 = 16     5 * 4 = 20     \n",
      "2 * 5 = 10     3 * 5 = 15     4 * 5 = 20     5 * 5 = 25     \n",
      "2 * 6 = 12     3 * 6 = 18     4 * 6 = 24     5 * 6 = 30     \n",
      "2 * 7 = 14     3 * 7 = 21     4 * 7 = 28     5 * 7 = 35     \n",
      "2 * 8 = 16     3 * 8 = 24     4 * 8 = 32     5 * 8 = 40     \n",
      "2 * 9 = 18     3 * 9 = 27     4 * 9 = 36     5 * 9 = 45     \n",
      "\n",
      "\n",
      "6 * 1 = 6     7 * 1 = 7     8 * 1 = 8     9 * 1 = 9     \n",
      "6 * 2 = 12     7 * 2 = 14     8 * 2 = 16     9 * 2 = 18     \n",
      "6 * 3 = 18     7 * 3 = 21     8 * 3 = 24     9 * 3 = 27     \n",
      "6 * 4 = 24     7 * 4 = 28     8 * 4 = 32     9 * 4 = 36     \n",
      "6 * 5 = 30     7 * 5 = 35     8 * 5 = 40     9 * 5 = 45     \n",
      "6 * 6 = 36     7 * 6 = 42     8 * 6 = 48     9 * 6 = 54     \n",
      "6 * 7 = 42     7 * 7 = 49     8 * 7 = 56     9 * 7 = 63     \n",
      "6 * 8 = 48     7 * 8 = 56     8 * 8 = 64     9 * 8 = 72     \n",
      "6 * 9 = 54     7 * 9 = 63     8 * 9 = 72     9 * 9 = 81     \n"
     ]
    }
   ],
   "source": [
    "for i in range(1, 10):\n",
    "    for j in range(2, 6):\n",
    "        print(f'{j} * {i} = {i*j}     ', end='')\n",
    "    print()\n",
    "    \n",
    "print('\\n')\n",
    "\n",
    "for i in range(1, 10):\n",
    "    for j in range(6, 10):\n",
    "        print(f'{j} * {i} = {i*j}     ', end='')\n",
    "    print()"
   ]
  },
  {
   "cell_type": "code",
   "execution_count": 16,
   "id": "bd8648d0",
   "metadata": {
    "ExecuteTime": {
     "end_time": "2021-11-15T12:46:42.372635Z",
     "start_time": "2021-11-15T12:46:42.353246Z"
    },
    "hidden": true
   },
   "outputs": [
    {
     "name": "stdout",
     "output_type": "stream",
     "text": [
      "1 2 3 4 "
     ]
    }
   ],
   "source": [
    "num = 0\n",
    "while num < 10:\n",
    "    num += 1\n",
    "    if num == 5:\n",
    "        break\n",
    "    print(num, end=' ')"
   ]
  },
  {
   "cell_type": "code",
   "execution_count": 17,
   "id": "9a377dd8",
   "metadata": {
    "ExecuteTime": {
     "end_time": "2021-11-15T12:46:42.394444Z",
     "start_time": "2021-11-15T12:46:42.377426Z"
    },
    "hidden": true
   },
   "outputs": [
    {
     "name": "stdout",
     "output_type": "stream",
     "text": [
      "1 2 3 4 6 7 8 9 10 "
     ]
    }
   ],
   "source": [
    "num = 0\n",
    "while num < 10:\n",
    "    num += 1\n",
    "    if num == 5:\n",
    "        continue\n",
    "    print(num, end=' ')"
   ]
  },
  {
   "cell_type": "code",
   "execution_count": 18,
   "id": "49adbf4c",
   "metadata": {
    "ExecuteTime": {
     "end_time": "2021-11-15T12:47:01.284664Z",
     "start_time": "2021-11-15T12:46:42.396106Z"
    },
    "hidden": true,
    "scrolled": true
   },
   "outputs": [
    {
     "name": "stdout",
     "output_type": "stream",
     "text": [
      "준비되면 ㄱㄱ\n",
      "453\n",
      "word 1\n",
      "python\n",
      "ㅣㅏㅣ\n",
      "wrong\n",
      "word 1\n",
      "python\n",
      "ㅐ\n",
      "wrong\n",
      "word 1\n",
      "python\n",
      "호ㅑㅏ\n",
      "wrong\n",
      "word 1\n",
      "python\n",
      "ㅓㅏㅣ\n",
      "wrong\n",
      "word 1\n",
      "python\n",
      "ㅓ;\n",
      "wrong\n",
      "word 1\n",
      "python\n",
      "\n",
      "wrong\n",
      "word 1\n",
      "python\n",
      "ㅐ\n",
      "wrong\n",
      "word 1\n",
      "python\n"
     ]
    },
    {
     "ename": "KeyboardInterrupt",
     "evalue": "Interrupted by user",
     "output_type": "error",
     "traceback": [
      "\u001b[1;31m---------------------------------------------------------------------------\u001b[0m",
      "\u001b[1;31mKeyboardInterrupt\u001b[0m                         Traceback (most recent call last)",
      "\u001b[1;32m~\\AppData\\Local\\Temp/ipykernel_1788/1237116729.py\u001b[0m in \u001b[0;36m<module>\u001b[1;34m\u001b[0m\n\u001b[0;32m     12\u001b[0m     \u001b[0mprint\u001b[0m\u001b[1;33m(\u001b[0m\u001b[1;34m'word'\u001b[0m\u001b[1;33m,\u001b[0m \u001b[0mn\u001b[0m\u001b[1;33m)\u001b[0m\u001b[1;33m\u001b[0m\u001b[1;33m\u001b[0m\u001b[0m\n\u001b[0;32m     13\u001b[0m     \u001b[0mprint\u001b[0m\u001b[1;33m(\u001b[0m\u001b[0mq\u001b[0m\u001b[1;33m)\u001b[0m\u001b[1;33m\u001b[0m\u001b[1;33m\u001b[0m\u001b[0m\n\u001b[1;32m---> 14\u001b[1;33m     \u001b[0mx\u001b[0m \u001b[1;33m=\u001b[0m \u001b[0minput\u001b[0m\u001b[1;33m(\u001b[0m\u001b[1;33m)\u001b[0m\u001b[1;33m\u001b[0m\u001b[1;33m\u001b[0m\u001b[0m\n\u001b[0m\u001b[0;32m     15\u001b[0m \u001b[1;33m\u001b[0m\u001b[0m\n\u001b[0;32m     16\u001b[0m     \u001b[1;32mif\u001b[0m\u001b[1;33m(\u001b[0m\u001b[0mq\u001b[0m \u001b[1;33m==\u001b[0m \u001b[0mx\u001b[0m\u001b[1;33m)\u001b[0m\u001b[1;33m:\u001b[0m\u001b[1;33m\u001b[0m\u001b[1;33m\u001b[0m\u001b[0m\n",
      "\u001b[1;32m~\\anaconda3\\envs\\saltlux_lecture\\lib\\site-packages\\ipykernel\\kernelbase.py\u001b[0m in \u001b[0;36mraw_input\u001b[1;34m(self, prompt)\u001b[0m\n\u001b[0;32m   1004\u001b[0m                 \u001b[1;34m\"raw_input was called, but this frontend does not support input requests.\"\u001b[0m\u001b[1;33m\u001b[0m\u001b[1;33m\u001b[0m\u001b[0m\n\u001b[0;32m   1005\u001b[0m             )\n\u001b[1;32m-> 1006\u001b[1;33m         return self._input_request(\n\u001b[0m\u001b[0;32m   1007\u001b[0m             \u001b[0mstr\u001b[0m\u001b[1;33m(\u001b[0m\u001b[0mprompt\u001b[0m\u001b[1;33m)\u001b[0m\u001b[1;33m,\u001b[0m\u001b[1;33m\u001b[0m\u001b[1;33m\u001b[0m\u001b[0m\n\u001b[0;32m   1008\u001b[0m             \u001b[0mself\u001b[0m\u001b[1;33m.\u001b[0m\u001b[0m_parent_ident\u001b[0m\u001b[1;33m[\u001b[0m\u001b[1;34m\"shell\"\u001b[0m\u001b[1;33m]\u001b[0m\u001b[1;33m,\u001b[0m\u001b[1;33m\u001b[0m\u001b[1;33m\u001b[0m\u001b[0m\n",
      "\u001b[1;32m~\\anaconda3\\envs\\saltlux_lecture\\lib\\site-packages\\ipykernel\\kernelbase.py\u001b[0m in \u001b[0;36m_input_request\u001b[1;34m(self, prompt, ident, parent, password)\u001b[0m\n\u001b[0;32m   1049\u001b[0m             \u001b[1;32mexcept\u001b[0m \u001b[0mKeyboardInterrupt\u001b[0m\u001b[1;33m:\u001b[0m\u001b[1;33m\u001b[0m\u001b[1;33m\u001b[0m\u001b[0m\n\u001b[0;32m   1050\u001b[0m                 \u001b[1;31m# re-raise KeyboardInterrupt, to truncate traceback\u001b[0m\u001b[1;33m\u001b[0m\u001b[1;33m\u001b[0m\u001b[0m\n\u001b[1;32m-> 1051\u001b[1;33m                 \u001b[1;32mraise\u001b[0m \u001b[0mKeyboardInterrupt\u001b[0m\u001b[1;33m(\u001b[0m\u001b[1;34m\"Interrupted by user\"\u001b[0m\u001b[1;33m)\u001b[0m \u001b[1;32mfrom\u001b[0m \u001b[1;32mNone\u001b[0m\u001b[1;33m\u001b[0m\u001b[1;33m\u001b[0m\u001b[0m\n\u001b[0m\u001b[0;32m   1052\u001b[0m             \u001b[1;32mexcept\u001b[0m \u001b[0mException\u001b[0m\u001b[1;33m:\u001b[0m\u001b[1;33m\u001b[0m\u001b[1;33m\u001b[0m\u001b[0m\n\u001b[0;32m   1053\u001b[0m                 \u001b[0mself\u001b[0m\u001b[1;33m.\u001b[0m\u001b[0mlog\u001b[0m\u001b[1;33m.\u001b[0m\u001b[0mwarning\u001b[0m\u001b[1;33m(\u001b[0m\u001b[1;34m\"Invalid Message:\"\u001b[0m\u001b[1;33m,\u001b[0m \u001b[0mexc_info\u001b[0m\u001b[1;33m=\u001b[0m\u001b[1;32mTrue\u001b[0m\u001b[1;33m)\u001b[0m\u001b[1;33m\u001b[0m\u001b[1;33m\u001b[0m\u001b[0m\n",
      "\u001b[1;31mKeyboardInterrupt\u001b[0m: Interrupted by user"
     ]
    }
   ],
   "source": [
    "import random\n",
    "import time\n",
    "\n",
    "words = ['oracle', 'python', 'java', 'django', 'flask', 'spring', 'servlet', 'react']\n",
    "n = 1\n",
    "print(\"준비되면 ㄱㄱ\")\n",
    "\n",
    "input()\n",
    "\n",
    "q = random.choice(words)\n",
    "while n<=5:\n",
    "    print('word', n)\n",
    "    print(q)\n",
    "    x = input()\n",
    "    \n",
    "    if(q == x):\n",
    "        print('pass')\n",
    "        n += 1\n",
    "        q = random.choice(words)\n",
    "    else:\n",
    "        print('wrong')\n",
    "\n",
    "print('end')"
   ]
  },
  {
   "cell_type": "code",
   "execution_count": 19,
   "id": "15f9e9fa",
   "metadata": {
    "ExecuteTime": {
     "end_time": "2021-11-15T12:47:09.130849Z",
     "start_time": "2021-11-15T12:47:09.105775Z"
    },
    "hidden": true
   },
   "outputs": [
    {
     "name": "stdout",
     "output_type": "stream",
     "text": [
      "2 * 1 = 2\t3 * 1 = 3\t4 * 1 = 4\t5 * 1 = 5\t\n",
      "2 * 2 = 4\t3 * 2 = 6\t4 * 2 = 8\t5 * 2 = 10\t\n",
      "2 * 3 = 6\t3 * 3 = 9\t4 * 3 = 12\t5 * 3 = 15\t\n",
      "2 * 4 = 8\t3 * 4 = 12\t4 * 4 = 16\t5 * 4 = 20\t\n",
      "2 * 5 = 10\t3 * 5 = 15\t4 * 5 = 20\t5 * 5 = 25\t\n",
      "2 * 6 = 12\t3 * 6 = 18\t4 * 6 = 24\t5 * 6 = 30\t\n",
      "2 * 7 = 14\t3 * 7 = 21\t4 * 7 = 28\t5 * 7 = 35\t\n",
      "2 * 8 = 16\t3 * 8 = 24\t4 * 8 = 32\t5 * 8 = 40\t\n",
      "2 * 9 = 18\t3 * 9 = 27\t4 * 9 = 36\t5 * 9 = 45\t\n",
      "\n",
      "\n",
      "6 * 1 = 6\t7 * 1 = 7\t8 * 1 = 8\t9 * 1 = 9\t\n",
      "6 * 2 = 12\t7 * 2 = 14\t8 * 2 = 16\t9 * 2 = 18\t\n",
      "6 * 3 = 18\t7 * 3 = 21\t8 * 3 = 24\t9 * 3 = 27\t\n",
      "6 * 4 = 24\t7 * 4 = 28\t8 * 4 = 32\t9 * 4 = 36\t\n",
      "6 * 5 = 30\t7 * 5 = 35\t8 * 5 = 40\t9 * 5 = 45\t\n",
      "6 * 6 = 36\t7 * 6 = 42\t8 * 6 = 48\t9 * 6 = 54\t\n",
      "6 * 7 = 42\t7 * 7 = 49\t8 * 7 = 56\t9 * 7 = 63\t\n",
      "6 * 8 = 48\t7 * 8 = 56\t8 * 8 = 64\t9 * 8 = 72\t\n",
      "6 * 9 = 54\t7 * 9 = 63\t8 * 9 = 72\t9 * 9 = 81\t\n"
     ]
    }
   ],
   "source": [
    "i=1\n",
    "while i<10:\n",
    "    for j in range(2, 6):\n",
    "        print(f'{j} * {i} = {i*j}', end='\\t')\n",
    "    print()\n",
    "    \n",
    "    i += 1\n",
    "    if i == 10:\n",
    "        break\n",
    "        \n",
    "print('\\n')\n",
    "\n",
    "k=1\n",
    "while k<10:\n",
    "    for j in range(6, 10):\n",
    "        print(f'{j} * {k} = {k*j}', end='\\t')\n",
    "    print()\n",
    "    \n",
    "    k += 1\n",
    "    if k == 10:\n",
    "        break"
   ]
  },
  {
   "cell_type": "code",
   "execution_count": 20,
   "id": "bc81f7e8",
   "metadata": {
    "ExecuteTime": {
     "end_time": "2021-11-15T12:47:19.954404Z",
     "start_time": "2021-11-15T12:47:09.143347Z"
    },
    "hidden": true
   },
   "outputs": [
    {
     "name": "stdout",
     "output_type": "stream",
     "text": [
      " 100.0%[#########################]100\r"
     ]
    }
   ],
   "source": [
    "# 반복문 실행 상태 표시기\n",
    "import time\n",
    "progress = ''\n",
    "percent = 0\n",
    "num = 100\n",
    "\n",
    "for i in range(1, num+1):\n",
    "    percent = (i/num) * 100\n",
    "    progress = int(percent/4) * '#'\n",
    "    time.sleep(0.1)\n",
    "    print(f'{percent: 5.1f}%[{progress:<25s}]{i}', end='\\r')"
   ]
  },
  {
   "cell_type": "code",
   "execution_count": 21,
   "id": "ea32fa49",
   "metadata": {
    "ExecuteTime": {
     "end_time": "2021-11-15T12:47:32.049538Z",
     "start_time": "2021-11-15T12:47:19.958026Z"
    },
    "hidden": true
   },
   "outputs": [
    {
     "name": "stderr",
     "output_type": "stream",
     "text": [
      "100%|████████████████████████████████████████████████████████████████████████████████| 100/100 [00:10<00:00,  9.17it/s]\n"
     ]
    }
   ],
   "source": [
    "from tqdm import tqdm\n",
    "import time\n",
    "\n",
    "for i in tqdm(range(100)):\n",
    "    time.sleep(0.1)\n",
    "    pass"
   ]
  },
  {
   "cell_type": "code",
   "execution_count": 22,
   "id": "119d06d0",
   "metadata": {
    "ExecuteTime": {
     "end_time": "2021-11-15T12:47:43.023054Z",
     "start_time": "2021-11-15T12:47:32.056934Z"
    },
    "hidden": true
   },
   "outputs": [
    {
     "name": "stderr",
     "output_type": "stream",
     "text": [
      "100%|████████████████████████████████████████████████████████████████████████████████| 100/100 [00:10<00:00,  9.14it/s]\n"
     ]
    }
   ],
   "source": [
    "from tqdm import trange\n",
    "import time\n",
    "\n",
    "for i in trange(100):\n",
    "    time.sleep(0.1)\n",
    "    pass"
   ]
  },
  {
   "cell_type": "code",
   "execution_count": 23,
   "id": "10927d4b",
   "metadata": {
    "ExecuteTime": {
     "end_time": "2021-11-15T12:47:53.971104Z",
     "start_time": "2021-11-15T12:47:43.025051Z"
    },
    "hidden": true
   },
   "outputs": [
    {
     "name": "stderr",
     "output_type": "stream",
     "text": [
      ">>: 100%|#################| 100/100 [00:10<00:00,  9.16it/s]\n"
     ]
    }
   ],
   "source": [
    "for i in trange(100, ncols=60, ascii=True, desc=\">>\"):\n",
    "    time.sleep(0.1)\n",
    "    pass"
   ]
  },
  {
   "cell_type": "markdown",
   "id": "b9b9fa14",
   "metadata": {
    "heading_collapsed": true
   },
   "source": [
    "## 3절 중첩 루프 탈출"
   ]
  },
  {
   "cell_type": "code",
   "execution_count": 24,
   "id": "b5ef3405",
   "metadata": {
    "ExecuteTime": {
     "end_time": "2021-11-15T12:47:53.991798Z",
     "start_time": "2021-11-15T12:47:53.974388Z"
    },
    "hidden": true
   },
   "outputs": [
    {
     "name": "stdout",
     "output_type": "stream",
     "text": [
      "0 1\n",
      "0 2\n"
     ]
    }
   ],
   "source": [
    "# flag 이용\n",
    "for a in range(0, 3):\n",
    "    break_out_flag = False\n",
    "    for b in range(1, 3):\n",
    "        if a==b:\n",
    "            break_out_flag = True\n",
    "            break\n",
    "        print(a, b)\n",
    "    if break_out_flag:\n",
    "        break"
   ]
  },
  {
   "cell_type": "code",
   "execution_count": 25,
   "id": "62809a75",
   "metadata": {
    "ExecuteTime": {
     "end_time": "2021-11-15T12:47:54.018232Z",
     "start_time": "2021-11-15T12:47:53.996520Z"
    },
    "hidden": true
   },
   "outputs": [
    {
     "name": "stdout",
     "output_type": "stream",
     "text": [
      "0 1\n",
      "0 2\n"
     ]
    }
   ],
   "source": [
    "# 예외 이용\n",
    "class BreakOutOfALoop(Exception): pass\n",
    "\n",
    "for a in range(0, 3):\n",
    "    try:\n",
    "        for b in range(1, 3):\n",
    "            if a == b:\n",
    "                raise BreakOutOfALoop\n",
    "            print(a, b)\n",
    "    except BreakOutOfALoop:\n",
    "        break"
   ]
  },
  {
   "cell_type": "markdown",
   "id": "b8b4024c",
   "metadata": {},
   "source": [
    "## 4절 연습문제"
   ]
  },
  {
   "cell_type": "code",
   "execution_count": 26,
   "id": "50ec046b",
   "metadata": {
    "ExecuteTime": {
     "end_time": "2021-11-15T12:48:01.073442Z",
     "start_time": "2021-11-15T12:47:54.024779Z"
    }
   },
   "outputs": [
    {
     "name": "stdout",
     "output_type": "stream",
     "text": [
      "0\n",
      "exit\n"
     ]
    }
   ],
   "source": [
    "# 1\n",
    "\n",
    "while(True):\n",
    "    num = int(input())\n",
    "    if num >= 0 and type(num) == int:\n",
    "        if num == 0:\n",
    "            print('exit')\n",
    "            break\n",
    "        elif num % 2 == 0:\n",
    "            print('even')\n",
    "        elif num % 2 == 1:\n",
    "            print('odd')\n",
    "    else:\n",
    "        print('input again')"
   ]
  },
  {
   "cell_type": "code",
   "execution_count": 27,
   "id": "33f518b5",
   "metadata": {
    "ExecuteTime": {
     "end_time": "2021-11-15T12:48:01.100111Z",
     "start_time": "2021-11-15T12:48:01.076839Z"
    }
   },
   "outputs": [
    {
     "name": "stdout",
     "output_type": "stream",
     "text": [
      "408\n"
     ]
    }
   ],
   "source": [
    "# 2\n",
    "sum = 0\n",
    "n = 1\n",
    "\n",
    "while(True):\n",
    "    n += 1\n",
    "    if n % 3 == 0:\n",
    "        sum += n\n",
    "    if n == 50:\n",
    "        break\n",
    "print(sum)"
   ]
  },
  {
   "cell_type": "code",
   "execution_count": 28,
   "id": "15b94f81",
   "metadata": {
    "ExecuteTime": {
     "end_time": "2021-11-15T12:48:01.131055Z",
     "start_time": "2021-11-15T12:48:01.108439Z"
    }
   },
   "outputs": [
    {
     "name": "stdout",
     "output_type": "stream",
     "text": [
      "     *\n",
      "    ***\n",
      "   *****\n",
      "  *******\n",
      " *********\n"
     ]
    }
   ],
   "source": [
    "# 4 f\n",
    "for i in range(0, 5):\n",
    "    for j in range(i, 5):\n",
    "        print(' ', end='')\n",
    "    for j in range(0, (i*2)+1):\n",
    "        print('*', end='')\n",
    "    print()"
   ]
  },
  {
   "cell_type": "code",
   "execution_count": 29,
   "id": "4d711a1d",
   "metadata": {
    "ExecuteTime": {
     "end_time": "2021-11-15T12:48:01.172943Z",
     "start_time": "2021-11-15T12:48:01.148027Z"
    }
   },
   "outputs": [
    {
     "name": "stdout",
     "output_type": "stream",
     "text": [
      "선택 바꾸지 않을 때 포르쉐 받을 확률: 33.33333333333333%\n",
      "선택 바꿀 때 포르쉐 받을 확률: 66.66666666666666%\n"
     ]
    }
   ],
   "source": [
    "# quiz\n",
    "porche_ratio = 1/3\n",
    "sheep_ratio = 2/3\n",
    "\n",
    "not_change_rt = 0.0\n",
    "change_rt = 0.0\n",
    "\n",
    "for _ in range(1000):\n",
    "    # 해당 확률 선택 시 1, 해당 확률 미 선택 시 0\n",
    "    # 선택을 바꿨을 시, 포르쉐를 선택한 문의 확률은 0이되며, 동시에 남아있는 문은 양이 있을 확률이므로\n",
    "    change_rt = ((porche_ratio * 0) + (sheep_ratio * 1)) * 100\n",
    "    # 선택을 안 바꿨을 시, 양을 선택한 문의 확률은 0이되며, 동시에 남아있는 문은 포르쉐가 있을 확률이므로\n",
    "    not_change_rt = ((porche_ratio * 1) + (sheep_ratio * 0)) * 100\n",
    "        \n",
    "print(f'선택 바꾸지 않을 때 포르쉐 받을 확률: {not_change_rt}%')\n",
    "print(f'선택 바꿀 때 포르쉐 받을 확률: {change_rt}%')"
   ]
  }
 ],
 "metadata": {
  "kernelspec": {
   "display_name": "saltlux_lecture",
   "language": "python",
   "name": "saltlux_lecture"
  },
  "language_info": {
   "codemirror_mode": {
    "name": "ipython",
    "version": 3
   },
   "file_extension": ".py",
   "mimetype": "text/x-python",
   "name": "python",
   "nbconvert_exporter": "python",
   "pygments_lexer": "ipython3",
   "version": "3.9.7"
  },
  "toc": {
   "base_numbering": 1,
   "nav_menu": {},
   "number_sections": true,
   "sideBar": true,
   "skip_h1_title": false,
   "title_cell": "Table of Contents",
   "title_sidebar": "Contents",
   "toc_cell": false,
   "toc_position": {
    "height": "747px",
    "left": "1047px",
    "top": "91px",
    "width": "191px"
   },
   "toc_section_display": true,
   "toc_window_display": true
  }
 },
 "nbformat": 4,
 "nbformat_minor": 5
}
