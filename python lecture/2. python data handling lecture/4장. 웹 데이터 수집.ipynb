{
 "cells": [
  {
   "cell_type": "markdown",
   "id": "c9f2b50c",
   "metadata": {},
   "source": [
    "## 1절. 뷰티풀솝과 파서"
   ]
  },
  {
   "cell_type": "code",
   "execution_count": 15,
   "id": "97f13864",
   "metadata": {
    "ExecuteTime": {
     "end_time": "2021-12-01T06:33:12.156237Z",
     "start_time": "2021-12-01T06:33:12.141277Z"
    }
   },
   "outputs": [
    {
     "data": {
      "text/plain": [
       "<Response [200]>"
      ]
     },
     "execution_count": 15,
     "metadata": {},
     "output_type": "execute_result"
    }
   ],
   "source": [
    "import requests\n",
    "from requests_file import FileAdapter\n",
    "\n",
    "s = requests.Session()\n",
    "s.mount('file://', FileAdapter())\n",
    "res = s.get('file:///sample.html')\n",
    "res"
   ]
  },
  {
   "cell_type": "code",
   "execution_count": 16,
   "id": "4e2ae3f3",
   "metadata": {
    "ExecuteTime": {
     "end_time": "2021-12-01T06:33:15.508697Z",
     "start_time": "2021-12-01T06:33:15.382616Z"
    }
   },
   "outputs": [],
   "source": [
    "from bs4 import BeautifulSoup\n",
    "soup = BeautifulSoup(res.content, 'html.parser')"
   ]
  },
  {
   "cell_type": "code",
   "execution_count": 17,
   "id": "21311f2c",
   "metadata": {
    "ExecuteTime": {
     "end_time": "2021-12-01T06:33:17.807316Z",
     "start_time": "2021-12-01T06:33:17.800337Z"
    }
   },
   "outputs": [
    {
     "name": "stdout",
     "output_type": "stream",
     "text": [
      "<h1>Hello CSS</h1>\n"
     ]
    }
   ],
   "source": [
    "el = soup.select_one('h1')\n",
    "print(el)"
   ]
  },
  {
   "cell_type": "code",
   "execution_count": 18,
   "id": "f706542c",
   "metadata": {
    "ExecuteTime": {
     "end_time": "2021-12-01T06:33:34.955276Z",
     "start_time": "2021-12-01T06:33:34.947302Z"
    }
   },
   "outputs": [
    {
     "data": {
      "text/plain": [
       "('Hello CSS', 'h1', {})"
      ]
     },
     "execution_count": 18,
     "metadata": {},
     "output_type": "execute_result"
    }
   ],
   "source": [
    "el.text, el.name, el.attrs"
   ]
  },
  {
   "cell_type": "code",
   "execution_count": 19,
   "id": "5e4c017f",
   "metadata": {
    "ExecuteTime": {
     "end_time": "2021-12-01T06:34:53.285278Z",
     "start_time": "2021-12-01T06:34:53.280292Z"
    }
   },
   "outputs": [
    {
     "data": {
      "text/plain": [
       "[<h1>Hello CSS</h1>,\n",
       " <span>다른\n",
       " <b>요소가 반환</b></span>]"
      ]
     },
     "execution_count": 19,
     "metadata": {},
     "output_type": "execute_result"
    }
   ],
   "source": [
    "soup.select('h1, span')"
   ]
  },
  {
   "cell_type": "markdown",
   "id": "0f9a5b71",
   "metadata": {},
   "source": [
    "## 2절. requests를 이용한 웹 데이터 수집"
   ]
  },
  {
   "cell_type": "markdown",
   "id": "8444e821",
   "metadata": {},
   "source": [
    "## 3절. Selenium을 이용한 웹 데이터 수집"
   ]
  },
  {
   "cell_type": "markdown",
   "id": "80d15a05",
   "metadata": {},
   "source": [
    "## 4절. 연습문제"
   ]
  }
 ],
 "metadata": {
  "kernelspec": {
   "display_name": "saltlux_lecture",
   "language": "python",
   "name": "saltlux_lecture"
  },
  "language_info": {
   "codemirror_mode": {
    "name": "ipython",
    "version": 3
   },
   "file_extension": ".py",
   "mimetype": "text/x-python",
   "name": "python",
   "nbconvert_exporter": "python",
   "pygments_lexer": "ipython3",
   "version": "3.9.7"
  },
  "toc": {
   "base_numbering": 1,
   "nav_menu": {},
   "number_sections": true,
   "sideBar": true,
   "skip_h1_title": false,
   "title_cell": "Table of Contents",
   "title_sidebar": "Contents",
   "toc_cell": false,
   "toc_position": {
    "height": "calc(100% - 180px)",
    "left": "10px",
    "top": "150px",
    "width": "165.188px"
   },
   "toc_section_display": true,
   "toc_window_display": true
  }
 },
 "nbformat": 4,
 "nbformat_minor": 5
}
