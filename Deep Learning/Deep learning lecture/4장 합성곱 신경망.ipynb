{
 "cells": [
  {
   "cell_type": "markdown",
   "metadata": {},
   "source": [
    "## 1. 합성곱 신경망"
   ]
  },
  {
   "cell_type": "markdown",
   "metadata": {},
   "source": [
    "## 2. 손글씨 숫자 인식을 위한 CNN 구현"
   ]
  },
  {
   "cell_type": "code",
   "execution_count": 7,
   "metadata": {},
   "outputs": [],
   "source": [
    "import tensorflow as tf\n",
    "from tensorflow.keras.datasets import mnist\n",
    "from tensorflow.keras.models import Sequential\n",
    "from tensorflow.keras.layers import Dense, Dropout, Flatten\n",
    "from tensorflow.keras.layers import Conv2D, MaxPooling2D"
   ]
  },
  {
   "cell_type": "code",
   "execution_count": 14,
   "metadata": {},
   "outputs": [
    {
     "name": "stdout",
     "output_type": "stream",
     "text": [
      "train_X shape:  (60000, 28, 28, 1)\n",
      "60000 train samples\n",
      "10000 test samples\n"
     ]
    }
   ],
   "source": [
    "(train_X, train_y), (test_X, test_y) = mnist.load_data()\n",
    "\n",
    "train_X = train_X.reshape(train_X.shape[0], 28, 28, 1)\n",
    "test_X = test_X.reshape(test_X.shape[0], 28, 28, 1)\n",
    "\n",
    "train_X = train_X.astype('float32')\n",
    "test_X = test_X.astype('float32')\n",
    "\n",
    "train_X /= 255\n",
    "test_X /= 255\n",
    "\n",
    "print('train_X shape: ', train_X.shape)\n",
    "print(train_X.shape[0], 'train samples')\n",
    "print(test_X.shape[0], 'test samples')\n",
    "\n",
    "# 원핫 인코딩\n",
    "train_y = tf.keras.utils.to_categorical(train_y, 10)\n",
    "test_y = tf.keras.utils.to_categorical(test_y, 10)"
   ]
  },
  {
   "cell_type": "code",
   "execution_count": 15,
   "metadata": {},
   "outputs": [],
   "source": [
    "model = Sequential()\n",
    "\n",
    "# Conv2D 사용 시, 2차원 데이터를 입력받아 필터 적용\n",
    "model.add(Conv2D(32, (3, 3), input_shape=(28, 28, 1), activation='relu', padding='valid'))\n",
    "model.add(MaxPooling2D(pool_size=(2, 2)))\n",
    "model.add(Dropout(0.1))\n",
    "\n",
    "model.add(Conv2D(64, (3, 3), activation='relu'))\n",
    "model.add(MaxPooling2D(pool_size=(2, 2)))\n",
    "model.add(Dropout(0.25))\n",
    "\n",
    "# DNN 사용할 때, 스칼라 값을 줘야하므로 flatten으로 입력값 1차원 변환\n",
    "model.add(Flatten())\n",
    "model.add(Dense(128, activation='relu'))\n",
    "model.add(Dropout(0.5))\n",
    "model.add(Dense(10, activation='softmax'))"
   ]
  },
  {
   "cell_type": "code",
   "execution_count": 16,
   "metadata": {},
   "outputs": [
    {
     "name": "stdout",
     "output_type": "stream",
     "text": [
      "Model: \"sequential_3\"\n",
      "_________________________________________________________________\n",
      " Layer (type)                Output Shape              Param #   \n",
      "=================================================================\n",
      " conv2d_6 (Conv2D)           (None, 26, 26, 32)        320       \n",
      "                                                                 \n",
      " max_pooling2d_6 (MaxPooling  (None, 13, 13, 32)       0         \n",
      " 2D)                                                             \n",
      "                                                                 \n",
      " dropout_9 (Dropout)         (None, 13, 13, 32)        0         \n",
      "                                                                 \n",
      " conv2d_7 (Conv2D)           (None, 11, 11, 64)        18496     \n",
      "                                                                 \n",
      " max_pooling2d_7 (MaxPooling  (None, 5, 5, 64)         0         \n",
      " 2D)                                                             \n",
      "                                                                 \n",
      " dropout_10 (Dropout)        (None, 5, 5, 64)          0         \n",
      "                                                                 \n",
      " flatten_3 (Flatten)         (None, 1600)              0         \n",
      "                                                                 \n",
      " dense_6 (Dense)             (None, 128)               204928    \n",
      "                                                                 \n",
      " dropout_11 (Dropout)        (None, 128)               0         \n",
      "                                                                 \n",
      " dense_7 (Dense)             (None, 10)                1290      \n",
      "                                                                 \n",
      "=================================================================\n",
      "Total params: 225,034\n",
      "Trainable params: 225,034\n",
      "Non-trainable params: 0\n",
      "_________________________________________________________________\n"
     ]
    }
   ],
   "source": [
    "model.summary()"
   ]
  },
  {
   "cell_type": "code",
   "execution_count": 11,
   "metadata": {},
   "outputs": [
    {
     "name": "stdout",
     "output_type": "stream",
     "text": [
      "Epoch 1/10\n",
      "469/469 [==============================] - 24s 50ms/step - loss: 0.3455 - accuracy: 0.8917 - val_loss: 0.0787 - val_accuracy: 0.9737\n",
      "Epoch 2/10\n",
      "469/469 [==============================] - 23s 49ms/step - loss: 0.1215 - accuracy: 0.9628 - val_loss: 0.0464 - val_accuracy: 0.9859\n",
      "Epoch 3/10\n",
      "469/469 [==============================] - 23s 49ms/step - loss: 0.0910 - accuracy: 0.9725 - val_loss: 0.0398 - val_accuracy: 0.9878\n",
      "Epoch 4/10\n",
      "469/469 [==============================] - 23s 49ms/step - loss: 0.0747 - accuracy: 0.9775 - val_loss: 0.0320 - val_accuracy: 0.9884\n",
      "Epoch 5/10\n",
      "469/469 [==============================] - 23s 49ms/step - loss: 0.0642 - accuracy: 0.9803 - val_loss: 0.0317 - val_accuracy: 0.9892\n",
      "Epoch 6/10\n",
      "469/469 [==============================] - 23s 49ms/step - loss: 0.0561 - accuracy: 0.9830 - val_loss: 0.0283 - val_accuracy: 0.9905\n",
      "Epoch 7/10\n",
      "469/469 [==============================] - 23s 49ms/step - loss: 0.0508 - accuracy: 0.9844 - val_loss: 0.0269 - val_accuracy: 0.9916\n",
      "Epoch 8/10\n",
      "469/469 [==============================] - 23s 49ms/step - loss: 0.0447 - accuracy: 0.9855 - val_loss: 0.0251 - val_accuracy: 0.9912\n",
      "Epoch 9/10\n",
      "469/469 [==============================] - 23s 49ms/step - loss: 0.0440 - accuracy: 0.9864 - val_loss: 0.0238 - val_accuracy: 0.9917\n",
      "Epoch 10/10\n",
      "469/469 [==============================] - 23s 49ms/step - loss: 0.0390 - accuracy: 0.9874 - val_loss: 0.0236 - val_accuracy: 0.9927\n",
      "Test loss:  0.023587213829159737\n",
      "Test accuracy:  0.9926999807357788\n"
     ]
    }
   ],
   "source": [
    "model.compile(loss=tf.keras.losses.categorical_crossentropy, optimizer=tf.keras.optimizers.Adam(), metrics=['accuracy'])\n",
    "\n",
    "hist = model.fit(train_X, train_y, validation_data=(test_X, test_y), batch_size=128, epochs=10)\n",
    "\n",
    "score = model.evaluate(test_X, test_y, verbose=0)\n",
    "\n",
    "print('Test loss: ', score[0])\n",
    "print('Test accuracy: ', score[1])"
   ]
  },
  {
   "cell_type": "code",
   "execution_count": 12,
   "metadata": {},
   "outputs": [
    {
     "data": {
      "image/png": "[encoded data removed]",
      "text/plain": [
       "<Figure size 432x288 with 2 Axes>"
      ]
     },
     "metadata": {
      "needs_background": "light"
     },
     "output_type": "display_data"
    }
   ],
   "source": [
    "import matplotlib.pyplot as plt\n",
    "\n",
    "fig, loss_ax = plt.subplots()\n",
    "\n",
    "loss_ax.plot(hist.history['loss'], 'y', label='train loss')\n",
    "loss_ax.plot(hist.history['val_loss'], 'r', label='val loss')\n",
    "loss_ax.set_xlabel('epoch')\n",
    "loss_ax.set_ylabel('loss')\n",
    "loss_ax.legend(loc='upper left')\n",
    "\n",
    "acc_ax = loss_ax.twinx()\n",
    "\n",
    "acc_ax.plot(hist.history['accuracy'], 'b', label='train acc')\n",
    "acc_ax.plot(hist.history['val_accuracy'], 'g', label='val acc')\n",
    "acc_ax.set_ylabel('accuracy')\n",
    "acc_ax.legend(loc='lower left')\n",
    "\n",
    "plt.show()"
   ]
  },
  {
   "cell_type": "markdown",
   "metadata": {},
   "source": [
    "## 3. CNN 알고리즘"
   ]
  },
  {
   "cell_type": "markdown",
   "metadata": {},
   "source": [
    "### 3.1 LeNet"
   ]
  },
  {
   "cell_type": "code",
   "execution_count": 19,
   "metadata": {},
   "outputs": [
    {
     "name": "stdout",
     "output_type": "stream",
     "text": [
      "Model: \"sequential_5\"\n",
      "_________________________________________________________________\n",
      " Layer (type)                Output Shape              Param #   \n",
      "=================================================================\n",
      " conv2d_10 (Conv2D)          (None, 28, 28, 6)         156       \n",
      "                                                                 \n",
      " activation (Activation)     (None, 28, 28, 6)         0         \n",
      "                                                                 \n",
      " average_pooling2d_2 (Averag  (None, 14, 14, 6)        0         \n",
      " ePooling2D)                                                     \n",
      "                                                                 \n",
      " conv2d_11 (Conv2D)          (None, 14, 14, 16)        2416      \n",
      "                                                                 \n",
      " activation_1 (Activation)   (None, 14, 14, 16)        0         \n",
      "                                                                 \n",
      " average_pooling2d_3 (Averag  (None, 7, 7, 16)         0         \n",
      " ePooling2D)                                                     \n",
      "                                                                 \n",
      " flatten_5 (Flatten)         (None, 784)               0         \n",
      "                                                                 \n",
      " dense_11 (Dense)            (None, 120)               94200     \n",
      "                                                                 \n",
      " activation_2 (Activation)   (None, 120)               0         \n",
      "                                                                 \n",
      " dense_12 (Dense)            (None, 84)                10164     \n",
      "                                                                 \n",
      " dense_13 (Dense)            (None, 10)                850       \n",
      "                                                                 \n",
      "=================================================================\n",
      "Total params: 107,786\n",
      "Trainable params: 107,786\n",
      "Non-trainable params: 0\n",
      "_________________________________________________________________\n"
     ]
    }
   ],
   "source": [
    "from tensorflow.keras.models import Sequential\n",
    "from tensorflow.keras.layers import Conv2D, MaxPooling2D, AveragePooling2D\n",
    "from tensorflow.keras.layers import Activation\n",
    "from tensorflow.keras.layers import Flatten, Dense\n",
    "from tensorflow.keras import backend as K\n",
    "\n",
    "class LeNet:\n",
    "    @staticmethod\n",
    "    def build(numChannels, imgRows, imgCols, numClasses, activation='relu'):\n",
    "        model = Sequential()\n",
    "        inputShape = (imgRows, imgCols, numChannels)\n",
    "\n",
    "        # channels first 이면 shape 변경\n",
    "        if K.image_data_format() == 'channels_first':\n",
    "            inputShape = (numChannels, imgRows, imgCols)\n",
    "\n",
    "        # 첫 번째 conv\n",
    "        model.add(Conv2D(6, (5, 5), input_shape=inputShape, padding='same'))\n",
    "        model.add(Activation(activation))\n",
    "        model.add(AveragePooling2D(pool_size=(2, 2), strides=(2, 2)))\n",
    "\n",
    "        # 두 번째 conv\n",
    "        model.add(Conv2D(16, (5, 5), activation='relu', use_bias=True, padding='same'))\n",
    "        model.add(Activation(activation))\n",
    "        model.add(AveragePooling2D(pool_size=(2, 2), strides=(2, 2)))\n",
    "\n",
    "        # 첫 번째 FC 계층\n",
    "        model.add(Flatten())\n",
    "        model.add(Dense(120))\n",
    "        model.add(Activation(activation))\n",
    "\n",
    "        # 두 번째 FC 계층\n",
    "        model.add(Dense(84, activation='relu'))\n",
    "\n",
    "        # 출력층\n",
    "        model.add(Dense(numClasses, activation='softmax'))\n",
    "\n",
    "        return model\n",
    "\n",
    "LeNet_model = LeNet().build(numChannels=1, imgRows=28, imgCols=28, numClasses=10)\n",
    "LeNet_model.summary()"
   ]
  },
  {
   "cell_type": "markdown",
   "metadata": {},
   "source": [
    "### 3.2 AlexNet"
   ]
  },
  {
   "cell_type": "markdown",
   "metadata": {},
   "source": [
    "### 3.3 VGGNet"
   ]
  },
  {
   "cell_type": "code",
   "execution_count": 31,
   "metadata": {},
   "outputs": [
    {
     "name": "stdout",
     "output_type": "stream",
     "text": [
      "Model: \"sequential_5\"\n",
      "_________________________________________________________________\n",
      " Layer (type)                Output Shape              Param #   \n",
      "=================================================================\n",
      " conv2d_80 (Conv2D)          (None, 244, 244, 64)      1792      \n",
      "                                                                 \n",
      " conv2d_81 (Conv2D)          (None, 244, 244, 64)      36928     \n",
      "                                                                 \n",
      " max_pooling2d_25 (MaxPoolin  (None, 122, 122, 64)     0         \n",
      " g2D)                                                            \n",
      "                                                                 \n",
      " conv2d_82 (Conv2D)          (None, 122, 122, 128)     73856     \n",
      "                                                                 \n",
      " conv2d_83 (Conv2D)          (None, 122, 122, 128)     147584    \n",
      "                                                                 \n",
      " max_pooling2d_26 (MaxPoolin  (None, 61, 61, 128)      0         \n",
      " g2D)                                                            \n",
      "                                                                 \n",
      " conv2d_84 (Conv2D)          (None, 61, 61, 256)       295168    \n",
      "                                                                 \n",
      " conv2d_85 (Conv2D)          (None, 61, 61, 256)       590080    \n",
      "                                                                 \n",
      " conv2d_86 (Conv2D)          (None, 61, 61, 256)       590080    \n",
      "                                                                 \n",
      " conv2d_87 (Conv2D)          (None, 61, 61, 256)       590080    \n",
      "                                                                 \n",
      " max_pooling2d_27 (MaxPoolin  (None, 30, 30, 256)      0         \n",
      " g2D)                                                            \n",
      "                                                                 \n",
      " conv2d_88 (Conv2D)          (None, 30, 30, 512)       1180160   \n",
      "                                                                 \n",
      " conv2d_89 (Conv2D)          (None, 30, 30, 512)       2359808   \n",
      "                                                                 \n",
      " conv2d_90 (Conv2D)          (None, 30, 30, 512)       2359808   \n",
      "                                                                 \n",
      " conv2d_91 (Conv2D)          (None, 30, 30, 512)       2359808   \n",
      "                                                                 \n",
      " max_pooling2d_28 (MaxPoolin  (None, 15, 15, 512)      0         \n",
      " g2D)                                                            \n",
      "                                                                 \n",
      " conv2d_92 (Conv2D)          (None, 15, 15, 512)       2359808   \n",
      "                                                                 \n",
      " conv2d_93 (Conv2D)          (None, 15, 15, 512)       2359808   \n",
      "                                                                 \n",
      " conv2d_94 (Conv2D)          (None, 15, 15, 512)       2359808   \n",
      "                                                                 \n",
      " conv2d_95 (Conv2D)          (None, 15, 15, 512)       2359808   \n",
      "                                                                 \n",
      " max_pooling2d_29 (MaxPoolin  (None, 7, 7, 512)        0         \n",
      " g2D)                                                            \n",
      "                                                                 \n",
      " flatten_5 (Flatten)         (None, 25088)             0         \n",
      "                                                                 \n",
      " dense_15 (Dense)            (None, 4096)              102764544 \n",
      "                                                                 \n",
      " dense_16 (Dense)            (None, 4096)              16781312  \n",
      "                                                                 \n",
      " dense_17 (Dense)            (None, 1000)              4097000   \n",
      "                                                                 \n",
      "=================================================================\n",
      "Total params: 143,667,240\n",
      "Trainable params: 143,667,240\n",
      "Non-trainable params: 0\n",
      "_________________________________________________________________\n"
     ]
    }
   ],
   "source": [
    "from tensorflow.keras.models import Sequential\n",
    "from tensorflow.keras.layers import Conv2D, MaxPooling2D\n",
    "from tensorflow.keras.layers import Flatten, Dense\n",
    "from tensorflow.keras.initializers import RandomNormal\n",
    "\n",
    "# VGGNet ConvNet Configuration E\n",
    "class VGGNet:\n",
    "    @staticmethod\n",
    "    def build(numChannels, imgRows, imgCols, numClasses, activation='relu'):\n",
    "        model = Sequential()\n",
    "        inputShape = (imgRows, imgCols, numChannels)\n",
    "\n",
    "        # conv 1\n",
    "        model.add(Conv2D(64, (3, 3), input_shape=inputShape, activation=activation, \n",
    "                                     padding='same', kernel_initializer=RandomNormal(stddev=0.01)))\n",
    "        # conv 2\n",
    "        model.add(Conv2D(64, (3, 3), activation=activation, padding='same', kernel_initializer=RandomNormal(stddev=0.01)))\n",
    "        # maxpool\n",
    "        model.add(MaxPooling2D(pool_size=(2, 2)))\n",
    "\n",
    "        # conv 3\n",
    "        model.add(Conv2D(128, (3, 3), activation=activation, padding='same', kernel_initializer=RandomNormal(stddev=0.01)))\n",
    "        # conv 4\n",
    "        model.add(Conv2D(128, (3, 3), activation=activation, padding='same', kernel_initializer=RandomNormal(stddev=0.01)))\n",
    "        # maxpool\n",
    "        model.add(MaxPooling2D(pool_size=(2, 2)))\n",
    "\n",
    "        # conv 5 ~ 8\n",
    "        model.add(Conv2D(256, (3, 3), activation=activation, padding='same'))\n",
    "        model.add(Conv2D(256, (3, 3), activation=activation, padding='same'))\n",
    "        model.add(Conv2D(256, (3, 3), activation=activation, padding='same'))\n",
    "        model.add(Conv2D(256, (3, 3), activation=activation, padding='same'))\n",
    "        # maxpool\n",
    "        model.add(MaxPooling2D(pool_size=(2, 2)))\n",
    "\n",
    "        # conv 9 ~ 12\n",
    "        model.add(Conv2D(512, (3, 3), activation=activation, padding='same'))\n",
    "        model.add(Conv2D(512, (3, 3), activation=activation, padding='same'))\n",
    "        model.add(Conv2D(512, (3, 3), activation=activation, padding='same'))\n",
    "        model.add(Conv2D(512, (3, 3), activation=activation, padding='same'))\n",
    "        # maxpool\n",
    "        model.add(MaxPooling2D(pool_size=(2, 2)))\n",
    "\n",
    "        # conv 13 ~ 16\n",
    "        model.add(Conv2D(512, (3, 3), activation=activation, padding='same'))\n",
    "        model.add(Conv2D(512, (3, 3), activation=activation, padding='same'))\n",
    "        model.add(Conv2D(512, (3, 3), activation=activation, padding='same'))\n",
    "        model.add(Conv2D(512, (3, 3), activation=activation, padding='same'))\n",
    "        # maxpool\n",
    "        model.add(MaxPooling2D(pool_size=(2, 2)))\n",
    "\n",
    "        model.add(Flatten())\n",
    "        # 첫 번째 FC 계층\n",
    "        model.add(Dense(4096, activation=activation))\n",
    "        # 두 번째 FC 계층\n",
    "        model.add(Dense(4096, activation=activation))\n",
    "\n",
    "        # 출력층\n",
    "        model.add(Dense(numClasses, activation='softmax'))\n",
    "\n",
    "        return model\n",
    "\n",
    "vgg_model = VGGNet().build(numChannels=3, imgRows=244, imgCols=244, numClasses=1000)\n",
    "vgg_model.summary()"
   ]
  },
  {
   "cell_type": "code",
   "execution_count": 32,
   "metadata": {},
   "outputs": [],
   "source": [
    "from tensorflow.keras.applications.vgg19 import VGG19\n",
    "vgg = VGG19()"
   ]
  },
  {
   "cell_type": "code",
   "execution_count": 33,
   "metadata": {},
   "outputs": [],
   "source": [
    "weights = vgg.get_weights()\n",
    "vgg_model.set_weights(weights)"
   ]
  },
  {
   "cell_type": "code",
   "execution_count": 37,
   "metadata": {},
   "outputs": [],
   "source": [
    "from tensorflow.keras.preprocessing import image\n",
    "img = image.load_img('cat.jpeg', target_size=(244, 244))\n",
    "img_data = image.img_to_array(img)"
   ]
  },
  {
   "cell_type": "code",
   "execution_count": 38,
   "metadata": {},
   "outputs": [
    {
     "name": "stdout",
     "output_type": "stream",
     "text": [
      "before reshape:  (244, 244, 3)\n",
      "after reshape:  (1, 244, 244, 3)\n"
     ]
    }
   ],
   "source": [
    "print('before reshape: ', img_data.shape)\n",
    "import numpy as np\n",
    "img_data = img_data[np.newaxis, ...]\n",
    "print('after reshape: ', img_data.shape)"
   ]
  },
  {
   "cell_type": "code",
   "execution_count": 39,
   "metadata": {},
   "outputs": [
    {
     "name": "stdout",
     "output_type": "stream",
     "text": [
      "(1, 1000)\n",
      "[[('n02124075', 'Egyptian_cat', 0.44403753), ('n02120505', 'grey_fox', 0.31175065), ('n02123045', 'tabby', 0.08311919), ('n02123159', 'tiger_cat', 0.051094394), ('n02119789', 'kit_fox', 0.038127065)]]\n"
     ]
    }
   ],
   "source": [
    "pred = vgg_model.predict(img_data)\n",
    "print(pred.shape)\n",
    "from tensorflow.keras.applications.vgg19 import decode_predictions\n",
    "print(decode_predictions(pred))"
   ]
  },
  {
   "cell_type": "markdown",
   "metadata": {},
   "source": [
    "### 3.4 GoogLeNet"
   ]
  },
  {
   "cell_type": "markdown",
   "metadata": {},
   "source": [
    "### 3.5 ResNet"
   ]
  },
  {
   "cell_type": "markdown",
   "metadata": {},
   "source": [
    "## 4. 케라스의 모델"
   ]
  }
 ],
 "metadata": {
  "interpreter": {
   "hash": "f01b41f100e4eccb5288b98e5cdaad242b0b9c29fd1fe7c4e728af993bea0dc2"
  },
  "kernelspec": {
   "display_name": "Python 3.9.7 64-bit ('saltlux_deep_lecture': conda)",
   "language": "python",
   "name": "python3"
  },
  "language_info": {
   "codemirror_mode": {
    "name": "ipython",
    "version": 3
   },
   "file_extension": ".py",
   "mimetype": "text/x-python",
   "name": "python",
   "nbconvert_exporter": "python",
   "pygments_lexer": "ipython3",
   "version": "3.9.7"
  },
  "orig_nbformat": 4
 },
 "nbformat": 4,
 "nbformat_minor": 2
}
